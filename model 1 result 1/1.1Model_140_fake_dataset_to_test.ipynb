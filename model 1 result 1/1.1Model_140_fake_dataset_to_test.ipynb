{
  "cells": [
    {
      "cell_type": "code",
      "execution_count": 1,
      "metadata": {
        "id": "Ff1b4PxtBQuc"
      },
      "outputs": [],
      "source": [
        "num_epoch = 500      \n",
        "learning_rate = 0.002\n",
        "batch_size = 2000\n",
        "\n",
        "hidden_size = 64 #number of features in hidden state\n",
        "num_layers = 2  #number of stacked lstm layers\n",
        "bidirectional = True\n",
        "drop_out = 0.5\n",
        "bidirectional_forward_backward = 2 if bidirectional else 1\n",
        "\n",
        "input_size = 41 #number of features\n",
        "num_classes_attack_cat = 10 #number of output classes \n",
        "num_classes_label = 2       #number of output classes \n",
        "\n",
        "hyper_parameter1=128\n",
        "hyper_parameter2=64\n",
        "hyper_parameter3=32"
      ]
    },
    {
      "cell_type": "code",
      "source": [
        "from google.colab import drive\n",
        "drive.mount('/content/drive')"
      ],
      "metadata": {
        "id": "0Gua0hky6SDJ",
        "colab": {
          "base_uri": "https://localhost:8080/"
        },
        "outputId": "9aa8c715-5bf9-4412-8dc2-4e406a853a94"
      },
      "execution_count": 2,
      "outputs": [
        {
          "output_type": "stream",
          "name": "stdout",
          "text": [
            "Mounted at /content/drive\n"
          ]
        }
      ]
    },
    {
      "cell_type": "code",
      "execution_count": 3,
      "metadata": {
        "id": "hZiaj4uT24DH",
        "colab": {
          "base_uri": "https://localhost:8080/"
        },
        "outputId": "fdd906db-bfb8-4d04-c21f-08a55d6c9679"
      },
      "outputs": [
        {
          "output_type": "stream",
          "name": "stdout",
          "text": [
            "GPU\n"
          ]
        }
      ],
      "source": [
        "import pandas as pd\n",
        "from matplotlib import pyplot as plt\n",
        "import numpy as np\n",
        "from torch.utils.data.dataset import Dataset\n",
        "from torch.utils.data import random_split, DataLoader\n",
        "import torch\n",
        "from sklearn.preprocessing import LabelEncoder\n",
        "from sklearn import preprocessing\n",
        "import torch.nn as nn\n",
        "import torch.nn.functional as F\n",
        "import torch.optim as opt\n",
        "from torch.autograd import Variable \n",
        "\n",
        "# GPU OR CPU\n",
        "if torch.cuda.is_available():\n",
        "    device = torch.device(\"cuda:0\")\n",
        "    print(\"GPU\")\n",
        "else:\n",
        "    device = torch.device(\"cpu\")\n",
        "    print(\"CPU\")"
      ]
    },
    {
      "cell_type": "code",
      "execution_count": 4,
      "metadata": {
        "id": "Sv-R_m6Z1EL5"
      },
      "outputs": [],
      "source": [
        "class Fake_DataSet_UNSWNB15_attack_cat(Dataset):\n",
        "\n",
        "    def __init__(self,data_set_path):\n",
        "        df = pd.read_csv(data_set_path)\n",
        "\n",
        "        # preprocceing\n",
        "        df.drop([\"label\"], axis=1, inplace=True)\n",
        "\n",
        "        self.data_array = df.values\n",
        "        self.x = self.data_array[:, :41]\n",
        "        self.y = self.data_array[:, 41]\n",
        "        \n",
        "        # normalaized data\n",
        "        scaler = preprocessing.StandardScaler().fit(self.x)\n",
        "        self.x = scaler.transform(self.x)\n",
        "\n",
        "        self.x = torch.tensor(self.x).float()\n",
        "        self.y = torch.tensor(self.y).long()\n",
        "\n",
        "    def __len__(self):\n",
        "        return len(self.data_array)\n",
        "\n",
        "    def __getitem__(self, item):\n",
        "        sample = (self.x[item, :], self.y[item])\n",
        "        return sample\n",
        "\n",
        "class Fake_DataSet_UNSWNB15_label(Dataset):\n",
        "\n",
        "    def __init__(self,data_set_path):\n",
        "        df = pd.read_csv(data_set_path)\n",
        "\n",
        "        # preprocceing\n",
        "        df.drop([\"attack_cat\"], axis=1, inplace=True)\n",
        "\n",
        "        self.data_array = df.values\n",
        "        self.x = self.data_array[:, :41]\n",
        "        self.y = self.data_array[:, 41]\n",
        "        \n",
        "        # normalaized data\n",
        "        scaler = preprocessing.StandardScaler().fit(self.x)\n",
        "        self.x = scaler.transform(self.x)\n",
        "\n",
        "        self.x = torch.tensor(self.x).float()\n",
        "        self.y = torch.tensor(self.y).long()\n",
        "\n",
        "    def __len__(self):\n",
        "        return len(self.data_array)\n",
        "\n",
        "    def __getitem__(self, item):\n",
        "        sample = (self.x[item, :], self.y[item])\n",
        "        return sample\n",
        "\n",
        "        \n",
        "class DataSet_UNSWNB15_attack_cat(Dataset):\n",
        "\n",
        "    def __init__(self,data_set_path):\n",
        "        df = pd.read_csv(data_set_path)\n",
        "        print(df.attack_cat.value_counts().sort_values().plot(kind = \"barh\"))\n",
        "        print(df['attack_cat'].value_counts())\n",
        "        \n",
        "        # preprocceing\n",
        "        df.drop(['id',\"Unnamed: 0\",\"service\",\"label\"], axis=1, inplace=True)        \n",
        "        cols = ['attack_cat' ,'proto' ,'state']\n",
        "        df[cols] = df[cols].apply(LabelEncoder().fit_transform)\n",
        "        print(df['attack_cat'].value_counts())\n",
        "\n",
        "        self.data_array = df.values\n",
        "        self.x = self.data_array[:, :41]\n",
        "        self.y = self.data_array[:, 41]\n",
        "      \n",
        "        # normalaized data\n",
        "        scaler = preprocessing.StandardScaler().fit(self.x)\n",
        "        self.x = scaler.transform(self.x)\n",
        "\n",
        "        self.x = torch.tensor(self.x).float()\n",
        "        self.y = torch.tensor(self.y).long()\n",
        "\n",
        "    def __len__(self):\n",
        "        return len(self.data_array)\n",
        "\n",
        "    def __getitem__(self, item):\n",
        "        sample = (self.x[item, :], self.y[item])\n",
        "        return sample\n",
        "\n",
        "        \n",
        "class DataSet_UNSWNB15_label(Dataset):\n",
        "\n",
        "    def __init__(self,data_set_path):\n",
        "        df = pd.read_csv(data_set_path)\n",
        "        print(df.label.value_counts().sort_values().plot(kind = \"pie\"))\n",
        "\n",
        "        # preprocceing\n",
        "        df.drop(['id',\"Unnamed: 0\",\"service\",\"attack_cat\"], axis=1, inplace=True)\n",
        "        cols = ['proto' ,'state']\n",
        "        df[cols] = df[cols].apply(LabelEncoder().fit_transform)\n",
        "\n",
        "        self.data_array = df.values\n",
        "        self.x = self.data_array[:, :41]\n",
        "        self.y = self.data_array[:, 41]\n",
        "        \n",
        "        # normalaized data\n",
        "        scaler = preprocessing.StandardScaler().fit(self.x)\n",
        "        self.x = scaler.transform(self.x)\n",
        "\n",
        "        self.x = torch.tensor(self.x).float()\n",
        "        self.y = torch.tensor(self.y).long()\n",
        "\n",
        "    def __len__(self):\n",
        "        return len(self.data_array)\n",
        "\n",
        "    def __getitem__(self, item):\n",
        "        sample = (self.x[item, :], self.y[item])\n",
        "        return sample"
      ]
    },
    {
      "cell_type": "code",
      "execution_count": 5,
      "metadata": {
        "id": "UykLrbQZ1R7K",
        "colab": {
          "base_uri": "https://localhost:8080/",
          "height": 689
        },
        "outputId": "604a9430-2df7-497e-d03f-40da8eb3fe04"
      },
      "outputs": [
        {
          "output_type": "stream",
          "name": "stdout",
          "text": [
            "AxesSubplot(0.125,0.125;0.775x0.755)\n",
            "Normal            93000\n",
            "Generic           58871\n",
            "Exploits          44525\n",
            "Fuzzers           24246\n",
            "DoS               16353\n",
            "Reconnaissance    13987\n",
            "Analysis           2677\n",
            "Backdoor           2329\n",
            "Shellcode          1511\n",
            "Worms               174\n",
            "Name: attack_cat, dtype: int64\n",
            "6    93000\n",
            "5    58871\n",
            "3    44525\n",
            "4    24246\n",
            "2    16353\n",
            "7    13987\n",
            "0     2677\n",
            "1     2329\n",
            "8     1511\n",
            "9      174\n",
            "Name: attack_cat, dtype: int64\n"
          ]
        },
        {
          "output_type": "display_data",
          "data": {
            "text/plain": [
              "<Figure size 432x288 with 1 Axes>"
            ],
            "image/png": "[encoded data removed]"
          },
          "metadata": {
            "needs_background": "light"
          }
        }
      ],
      "source": [
        "dataset_attack_cat = DataSet_UNSWNB15_attack_cat(\"/content/drive/MyDrive/datasets/UNSW-NB15/UNSW_NB15.csv\")\n",
        "number_of_test = int(len(dataset_attack_cat)*0.3)\n",
        "number_of_train = len(dataset_attack_cat) - int(len(dataset_attack_cat)*0.3)\n",
        "train_attack_cat ,test_attack_cat = random_split(dataset=dataset_attack_cat, lengths=[number_of_train,number_of_test])\n",
        "\n",
        "train_attack_cat_dataloader = DataLoader(dataset=train_attack_cat ,batch_size=batch_size ,shuffle=True)\n",
        "test_attack_cat_dataloader = DataLoader(dataset=test_attack_cat ,batch_size=batch_size ,shuffle=True)"
      ]
    },
    {
      "cell_type": "code",
      "execution_count": 6,
      "metadata": {
        "id": "LmFY9Q-u29T3",
        "colab": {
          "base_uri": "https://localhost:8080/",
          "height": 266
        },
        "outputId": "71f2b9cd-675c-4caf-b496-75c9ae7b882e"
      },
      "outputs": [
        {
          "output_type": "stream",
          "name": "stdout",
          "text": [
            "AxesSubplot(0.260833,0.125;0.503333x0.755)\n"
          ]
        },
        {
          "output_type": "display_data",
          "data": {
            "text/plain": [
              "<Figure size 432x288 with 1 Axes>"
            ],
            "image/png": "[encoded data removed]"
          },
          "metadata": {}
        }
      ],
      "source": [
        "dataset_label = DataSet_UNSWNB15_label(\"/content/drive/MyDrive/datasets/UNSW-NB15/UNSW_NB15.csv\")\n",
        "number_of_test = int(len(dataset_label)*0.3)\n",
        "number_of_train = len(dataset_label) - int(len(dataset_label)*0.3)\n",
        "train_label ,test_label = random_split(dataset=dataset_label, lengths=[number_of_train,number_of_test])\n",
        "\n",
        "train_label_dataloader = DataLoader(dataset=train_label ,batch_size=batch_size ,shuffle=True)\n",
        "test_label_dataloader = DataLoader(dataset=test_label ,batch_size=batch_size ,shuffle=True)"
      ]
    },
    {
      "cell_type": "markdown",
      "metadata": {
        "id": "0HslPLv2IOGd"
      },
      "source": [
        "# **preprocessing ended**\n",
        "\n",
        "# **create model**"
      ]
    },
    {
      "cell_type": "markdown",
      "source": [
        "![bilstm-1.webp](data:image/webp;base64,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)"
      ],
      "metadata": {
        "id": "F2hNvBs6qBQS"
      }
    },
    {
      "cell_type": "code",
      "execution_count": 7,
      "metadata": {
        "id": "oN6DuQbJibuE"
      },
      "outputs": [],
      "source": [
        "class LSTM_Model_attack(nn.Module):\n",
        "    def __init__(self, num_classes, input_size, hidden_size, num_layers):\n",
        "        super(LSTM_Model_attack, self).__init__()\n",
        "        self.num_classes = num_classes #number of classes\n",
        "        self.num_layers = num_layers #number of layers\n",
        "        self.input_size = input_size #input size\n",
        "        self.hidden_size = hidden_size #hidden state\n",
        "\n",
        "        self.lstm = nn.LSTM(input_size=input_size, hidden_size=hidden_size, num_layers=num_layers, batch_first=True,\n",
        "                            bidirectional=bidirectional, dropout=drop_out) #lstm\n",
        "\n",
        "        self.fc_layers = nn.Sequential(\n",
        "        nn.Linear(hidden_size * bidirectional_forward_backward, hyper_parameter1),\n",
        "        nn.Tanh(),\n",
        "        nn.Linear(hyper_parameter1, hyper_parameter2),\n",
        "        nn.ReLU(),\n",
        "        nn.Linear(hyper_parameter2, hyper_parameter3),\n",
        "        nn.Sigmoid(),\n",
        "        nn.Linear(hyper_parameter3, num_classes)\n",
        "        )\n",
        "    \n",
        "    def forward(self,x):\n",
        "                                                # 2 => forward and backward for bidirectional\n",
        "        h_0 = Variable(torch.zeros(self.num_layers * bidirectional_forward_backward, x.size(0), self.hidden_size)).to(device=device) #hidden state\n",
        "        c_0 = Variable(torch.zeros(self.num_layers * bidirectional_forward_backward, x.size(0), self.hidden_size)).to(device=device) #internal state\n",
        "\n",
        "        out, (hn, cn) = self.lstm(x, (h_0, c_0))\n",
        "        out = self.fc_layers(out[:, -1, :]) \n",
        "        return out\n",
        "\n",
        "\n",
        "class LSTM_Model_label(nn.Module):\n",
        "    def __init__(self, num_classes, input_size, hidden_size, num_layers):\n",
        "        super(LSTM_Model_label, self).__init__()\n",
        "        self.num_classes = num_classes #number of classes\n",
        "        self.num_layers = num_layers #number of layers\n",
        "        self.input_size = input_size #input size\n",
        "        self.hidden_size = hidden_size #hidden state\n",
        "\n",
        "        self.lstm = nn.LSTM(input_size=input_size, hidden_size=hidden_size, num_layers=num_layers, batch_first=True, \n",
        "                            bidirectional=bidirectional, dropout=drop_out) #lstm\n",
        "\n",
        "        self.fc_layers = nn.Sequential(\n",
        "        nn.Linear(hidden_size * bidirectional_forward_backward, hyper_parameter1),\n",
        "        nn.Tanh(),\n",
        "        nn.Linear(hyper_parameter1, hyper_parameter2),\n",
        "        nn.ReLU(),\n",
        "        nn.Linear(hyper_parameter2, hyper_parameter3),\n",
        "        nn.Sigmoid(),\n",
        "        nn.Linear(hyper_parameter3, num_classes)\n",
        "        )\n",
        "    \n",
        "    def forward(self,x):\n",
        "        h_0 = Variable(torch.zeros(self.num_layers * bidirectional_forward_backward, x.size(0), self.hidden_size)).to(device=device) #hidden state\n",
        "        c_0 = Variable(torch.zeros(self.num_layers * bidirectional_forward_backward, x.size(0), self.hidden_size)).to(device=device) #internal state\n",
        "\n",
        "        out, (hn, cn) = self.lstm(x, (h_0, c_0))\n",
        "        out = self.fc_layers(out[:, -1, :]) \n",
        "        return out\n"
      ]
    },
    {
      "cell_type": "code",
      "execution_count": 8,
      "metadata": {
        "id": "US8JfNI8j3zO",
        "colab": {
          "base_uri": "https://localhost:8080/"
        },
        "outputId": "eaf21529-f8d1-4753-84d8-94abd40c9d7f"
      },
      "outputs": [
        {
          "output_type": "execute_result",
          "data": {
            "text/plain": [
              "LSTM_Model_attack(\n",
              "  (lstm): LSTM(41, 64, num_layers=2, batch_first=True, dropout=0.5, bidirectional=True)\n",
              "  (fc_layers): Sequential(\n",
              "    (0): Linear(in_features=128, out_features=128, bias=True)\n",
              "    (1): Tanh()\n",
              "    (2): Linear(in_features=128, out_features=64, bias=True)\n",
              "    (3): ReLU()\n",
              "    (4): Linear(in_features=64, out_features=32, bias=True)\n",
              "    (5): Sigmoid()\n",
              "    (6): Linear(in_features=32, out_features=10, bias=True)\n",
              "  )\n",
              ")"
            ]
          },
          "metadata": {},
          "execution_count": 8
        }
      ],
      "source": [
        "my_model_attack = LSTM_Model_attack(num_classes_attack_cat, input_size, hidden_size, num_layers).to(device=device)\n",
        "my_model_attack"
      ]
    },
    {
      "cell_type": "code",
      "source": [
        "my_model_attack.state_dict()"
      ],
      "metadata": {
        "id": "Dq8JkQZ9ukCs",
        "colab": {
          "base_uri": "https://localhost:8080/"
        },
        "outputId": "7fdaaacd-0c16-4bf2-ce8c-baa515c30001"
      },
      "execution_count": 9,
      "outputs": [
        {
          "output_type": "execute_result",
          "data": {
            "text/plain": [
              "OrderedDict([('lstm.weight_ih_l0',\n",
              "              tensor([[-0.0373, -0.1240,  0.0470,  ...,  0.0127, -0.0371,  0.0217],\n",
              "                      [-0.0142,  0.0185,  0.0908,  ..., -0.0285, -0.0467,  0.0465],\n",
              "                      [ 0.0487,  0.0293,  0.0065,  ..., -0.0695, -0.0534,  0.0717],\n",
              "                      ...,\n",
              "                      [-0.0294,  0.1173, -0.0176,  ..., -0.0348, -0.0857, -0.0987],\n",
              "                      [-0.0623,  0.0173, -0.0060,  ...,  0.0523, -0.0144, -0.1037],\n",
              "                      [ 0.0364,  0.1120, -0.0303,  ...,  0.0022,  0.0966,  0.0573]],\n",
              "                     device='cuda:0')),\n",
              "             ('lstm.weight_hh_l0',\n",
              "              tensor([[-0.0257,  0.0274,  0.0518,  ..., -0.1186, -0.0353,  0.0505],\n",
              "                      [ 0.0095, -0.0755,  0.1071,  ..., -0.1171,  0.0281, -0.0368],\n",
              "                      [-0.0239, -0.0922,  0.0748,  ..., -0.0925,  0.1177, -0.0107],\n",
              "                      ...,\n",
              "                      [ 0.0921,  0.0630,  0.0302,  ...,  0.0687,  0.0627, -0.1129],\n",
              "                      [-0.0211, -0.0066,  0.0738,  ...,  0.1009,  0.0513,  0.0150],\n",
              "                      [ 0.1102,  0.0369, -0.1147,  ..., -0.0286, -0.0884, -0.0374]],\n",
              "                     device='cuda:0')),\n",
              "             ('lstm.bias_ih_l0',\n",
              "              tensor([ 0.0358, -0.0550, -0.0114, -0.0120,  0.0890,  0.0036, -0.0848,  0.0681,\n",
              "                       0.0101,  0.1182,  0.0646,  0.0159, -0.0014,  0.0589,  0.0984, -0.0620,\n",
              "                      -0.1094,  0.0556, -0.0280,  0.1246,  0.0447, -0.1216, -0.0223, -0.0275,\n",
              "                      -0.0330, -0.0871,  0.0213,  0.0811, -0.0384, -0.0168, -0.0933, -0.0166,\n",
              "                      -0.1031, -0.0410,  0.0552, -0.0903, -0.0704, -0.0525,  0.1001,  0.1164,\n",
              "                      -0.0198,  0.0709,  0.0477, -0.0633,  0.0777,  0.0775,  0.0120,  0.1038,\n",
              "                       0.0028,  0.1095, -0.0732, -0.0388, -0.0033, -0.0345, -0.0473,  0.0203,\n",
              "                       0.0074, -0.1060, -0.0709,  0.0502, -0.1151,  0.0397,  0.0097, -0.0466,\n",
              "                      -0.0408, -0.0776, -0.0193,  0.0973, -0.0862,  0.0798, -0.0214, -0.0840,\n",
              "                      -0.0610, -0.0194, -0.0441, -0.0806,  0.0561, -0.0520, -0.1136,  0.0002,\n",
              "                      -0.0451,  0.0820,  0.0585,  0.0543,  0.0348, -0.0634, -0.0465,  0.0439,\n",
              "                       0.1217,  0.0160,  0.0701,  0.0470,  0.1083, -0.0624, -0.0520,  0.1161,\n",
              "                       0.0289, -0.0220, -0.0550,  0.0315,  0.1194,  0.0894, -0.0330, -0.1114,\n",
              "                      -0.0987, -0.0213, -0.0555, -0.0512, -0.1245, -0.0482,  0.1079,  0.0471,\n",
              "                      -0.0309, -0.0889,  0.0277, -0.0374,  0.0441,  0.0368, -0.0613,  0.0708,\n",
              "                      -0.0265, -0.0310, -0.1156, -0.0653,  0.1242,  0.0070, -0.0102, -0.0633,\n",
              "                       0.0719,  0.0760, -0.1207,  0.0476,  0.0753,  0.0630,  0.0961,  0.1064,\n",
              "                      -0.0426, -0.1232,  0.1023,  0.0623,  0.0394,  0.1230,  0.0416, -0.0276,\n",
              "                      -0.1131, -0.0506, -0.0283,  0.1071, -0.0597, -0.0431, -0.1218,  0.0388,\n",
              "                       0.0645, -0.1131,  0.0040, -0.0417, -0.0950,  0.0911,  0.1200, -0.0461,\n",
              "                      -0.0601, -0.0309, -0.0728, -0.1084, -0.1025,  0.1110,  0.0080,  0.0915,\n",
              "                      -0.0543,  0.0383,  0.0260, -0.1195, -0.0082,  0.0393,  0.0127,  0.0934,\n",
              "                       0.0036, -0.0551,  0.0248, -0.1034,  0.0226, -0.0283, -0.0257, -0.1224,\n",
              "                      -0.0062, -0.0212,  0.0767,  0.0109,  0.0024,  0.0065, -0.1215,  0.0019,\n",
              "                      -0.0008,  0.0734, -0.0557,  0.1136,  0.0703, -0.1128, -0.0377, -0.1226,\n",
              "                      -0.1044, -0.1157, -0.0141, -0.1013,  0.0698,  0.0086, -0.0255,  0.0029,\n",
              "                       0.0070, -0.1135, -0.0276,  0.0638,  0.0032,  0.1073, -0.0315, -0.0947,\n",
              "                      -0.0115, -0.0787,  0.0123,  0.0298,  0.0833, -0.0306, -0.0317, -0.0345,\n",
              "                       0.0481,  0.0421, -0.0181,  0.0013,  0.0078, -0.0364, -0.0578,  0.0280,\n",
              "                       0.0178,  0.0379, -0.0870,  0.0845, -0.1141, -0.0320,  0.0454, -0.0316,\n",
              "                      -0.0364,  0.0658,  0.0810,  0.0565,  0.0950,  0.0345, -0.0615,  0.0732,\n",
              "                       0.0905, -0.0996,  0.0037,  0.0607,  0.0884, -0.0974,  0.1033, -0.0172],\n",
              "                     device='cuda:0')),\n",
              "             ('lstm.bias_hh_l0',\n",
              "              tensor([-5.9761e-02,  4.9373e-02, -9.6958e-02, -4.0408e-02,  7.9963e-02,\n",
              "                       6.2926e-02, -1.3297e-02, -5.9624e-02, -1.0200e-01, -1.1319e-01,\n",
              "                      -6.0009e-02,  5.4697e-02, -4.2847e-02,  3.1055e-02, -1.4176e-03,\n",
              "                       5.9288e-02,  1.2130e-01, -1.1413e-01, -5.4935e-02, -1.1248e-01,\n",
              "                       1.0812e-01,  2.8632e-03, -3.5434e-02, -9.4154e-02,  1.2214e-01,\n",
              "                       6.5432e-02, -1.1607e-01, -8.9674e-02, -4.3488e-02, -1.0762e-01,\n",
              "                      -5.5253e-02, -1.2443e-01, -3.3558e-02, -7.5136e-02,  2.0593e-02,\n",
              "                      -2.3931e-02, -9.3283e-02,  8.5684e-02,  5.5894e-02, -6.0132e-02,\n",
              "                      -5.7536e-02, -8.1905e-02, -1.8355e-02,  6.6401e-02, -9.7744e-02,\n",
              "                      -5.9372e-02,  7.2803e-03, -8.2502e-02,  7.6986e-02,  8.1710e-02,\n",
              "                      -4.6690e-02,  9.0793e-02,  1.6860e-02, -5.5729e-02, -4.9279e-02,\n",
              "                      -1.0518e-01, -3.1557e-02,  2.9093e-02, -3.0559e-02, -2.3052e-02,\n",
              "                      -4.5569e-02, -1.1212e-01, -4.9822e-02,  7.0053e-02, -6.0125e-02,\n",
              "                      -1.0306e-01, -3.0417e-02,  4.6566e-05, -3.6469e-02,  8.6723e-02,\n",
              "                      -4.8572e-02, -9.9654e-02, -3.4528e-02,  9.2868e-02, -1.0209e-01,\n",
              "                       7.7886e-02, -1.2319e-01, -4.0685e-02, -2.5641e-03,  2.5079e-02,\n",
              "                       1.2489e-01,  3.0057e-02, -1.2115e-01,  9.2048e-02,  3.8059e-03,\n",
              "                       1.5344e-02,  8.9859e-02, -3.5896e-02, -2.3119e-02,  3.4371e-02,\n",
              "                      -1.2326e-01, -4.1642e-02, -3.3266e-02,  6.7820e-02, -1.1152e-01,\n",
              "                       9.8669e-02,  3.0671e-02, -3.5269e-03, -9.6812e-02,  8.8404e-02,\n",
              "                      -7.0250e-02,  2.3424e-02, -7.3636e-02, -6.7390e-02,  8.4811e-02,\n",
              "                      -1.0268e-01,  5.8824e-02, -3.9941e-02, -3.3518e-02, -8.6205e-02,\n",
              "                      -5.6613e-02,  2.0023e-02, -6.6452e-02,  7.5075e-02,  8.1929e-02,\n",
              "                       7.3584e-02,  6.7953e-02,  2.3079e-02,  2.6807e-02, -5.5550e-02,\n",
              "                       5.0686e-02,  8.4846e-02, -7.7372e-02,  4.3967e-02, -1.1396e-01,\n",
              "                      -1.2388e-01,  8.9154e-02, -8.7640e-02,  9.7335e-02,  5.7067e-02,\n",
              "                      -4.4716e-02,  1.0887e-01,  6.0162e-02,  8.5044e-02, -6.7012e-02,\n",
              "                       8.4873e-02,  5.1338e-03, -7.7258e-02, -1.0650e-01,  1.1504e-01,\n",
              "                      -5.8334e-02,  2.3908e-02,  1.8145e-02,  1.1690e-01,  9.6758e-02,\n",
              "                      -3.2782e-02, -5.7020e-02,  4.4753e-02,  5.4365e-02,  6.9439e-02,\n",
              "                      -3.7015e-02, -6.3332e-03,  1.8211e-02, -6.3122e-02, -1.2380e-02,\n",
              "                      -8.6322e-02,  3.6591e-02,  1.1419e-01,  5.7946e-02, -5.2074e-02,\n",
              "                       5.2761e-02,  3.3481e-02, -1.3185e-02,  1.0077e-01,  3.2472e-03,\n",
              "                      -1.0072e-01,  5.8499e-02, -7.6334e-02, -8.1987e-02, -1.0449e-01,\n",
              "                      -2.9284e-02,  6.3609e-02,  9.0712e-02, -5.1934e-02, -7.4490e-02,\n",
              "                      -9.4748e-03,  7.3845e-02,  5.7495e-03,  8.3656e-02,  9.1022e-02,\n",
              "                       6.6928e-02,  5.1909e-02, -8.9117e-02, -6.1228e-02,  8.0484e-02,\n",
              "                       1.1333e-01, -8.2978e-02,  8.7776e-02, -9.9764e-02, -2.4276e-02,\n",
              "                       1.7106e-02,  8.8674e-02, -8.9459e-02,  6.2413e-02,  9.6417e-02,\n",
              "                       8.6409e-02,  5.3025e-02, -1.0823e-01,  1.2479e-01, -7.0877e-03,\n",
              "                       7.7230e-02,  4.1644e-03, -5.7231e-02,  2.9687e-02, -3.3598e-02,\n",
              "                       1.1576e-01,  3.9327e-02, -1.5167e-02,  1.1582e-01,  5.6287e-02,\n",
              "                      -1.7952e-02, -5.0366e-02, -1.1549e-01, -7.4288e-03, -4.4639e-02,\n",
              "                       1.0186e-01,  9.3070e-02,  1.2000e-01, -7.6469e-02, -7.0656e-02,\n",
              "                      -1.2148e-01,  1.1053e-01, -4.8510e-02, -1.2491e-01, -2.0199e-02,\n",
              "                       2.2229e-02,  4.2297e-02, -6.9274e-02, -1.1739e-01, -1.8809e-02,\n",
              "                       9.4344e-03, -9.9865e-02, -8.5745e-02, -1.0435e-01, -1.9307e-02,\n",
              "                      -6.8751e-02, -1.6548e-02,  8.9578e-02, -1.3730e-03,  1.1877e-01,\n",
              "                       2.4741e-02, -2.8073e-02, -8.0611e-02, -7.3865e-02,  4.5218e-02,\n",
              "                       4.6905e-02,  5.3581e-02, -1.0247e-01, -9.9882e-02,  8.5166e-02,\n",
              "                       4.7880e-02, -7.8740e-02, -6.0933e-02,  1.0353e-01, -4.9368e-02,\n",
              "                      -4.4407e-02], device='cuda:0')),\n",
              "             ('lstm.weight_ih_l0_reverse',\n",
              "              tensor([[ 0.0494, -0.1174, -0.0991,  ..., -0.1121,  0.0103,  0.0116],\n",
              "                      [-0.1218,  0.0071, -0.0740,  ..., -0.0432,  0.0122, -0.0957],\n",
              "                      [ 0.0981,  0.1216, -0.0049,  ...,  0.0338,  0.0444, -0.0787],\n",
              "                      ...,\n",
              "                      [ 0.0242, -0.0851,  0.0241,  ...,  0.0731,  0.0627,  0.0817],\n",
              "                      [ 0.0792, -0.0272, -0.0741,  ...,  0.0151, -0.0709,  0.0167],\n",
              "                      [ 0.0363, -0.0520, -0.0386,  ...,  0.0645, -0.0068, -0.0088]],\n",
              "                     device='cuda:0')),\n",
              "             ('lstm.weight_hh_l0_reverse',\n",
              "              tensor([[-0.1072, -0.0985, -0.0100,  ..., -0.0380,  0.0986,  0.0283],\n",
              "                      [ 0.0221,  0.0379, -0.0409,  ..., -0.0581,  0.0726, -0.1244],\n",
              "                      [-0.0547, -0.0138,  0.1006,  ...,  0.0866,  0.0254,  0.0317],\n",
              "                      ...,\n",
              "                      [-0.0851,  0.0337,  0.0998,  ..., -0.0716,  0.0326,  0.0153],\n",
              "                      [-0.0639,  0.0926,  0.0204,  ..., -0.0752,  0.0946,  0.0937],\n",
              "                      [-0.0997,  0.1170,  0.0968,  ...,  0.0444, -0.0849, -0.1100]],\n",
              "                     device='cuda:0')),\n",
              "             ('lstm.bias_ih_l0_reverse',\n",
              "              tensor([-0.0650, -0.0074, -0.0622,  0.0597,  0.0591,  0.0809, -0.1172,  0.0733,\n",
              "                       0.0791,  0.0138,  0.0164,  0.1140, -0.1236, -0.0769, -0.0563,  0.1180,\n",
              "                       0.0619, -0.0099,  0.0432, -0.0318,  0.0530, -0.1134,  0.0427,  0.0961,\n",
              "                       0.0867, -0.0895,  0.0240, -0.0471, -0.0089,  0.0117, -0.0308, -0.0655,\n",
              "                       0.0503,  0.1067,  0.0500, -0.0058,  0.0995,  0.0139,  0.0211, -0.0500,\n",
              "                      -0.0822, -0.0483, -0.0214, -0.0363, -0.0440,  0.0002,  0.0593, -0.0543,\n",
              "                       0.0283, -0.1050, -0.1077,  0.0376,  0.1031,  0.0936,  0.0954,  0.0873,\n",
              "                      -0.0160, -0.0502, -0.0922, -0.1007,  0.0850, -0.0512,  0.0857,  0.0915,\n",
              "                       0.1246, -0.0346, -0.0289,  0.0055,  0.1161,  0.0103, -0.1186,  0.0400,\n",
              "                      -0.0717, -0.0505,  0.0372,  0.0969,  0.0636,  0.1009,  0.1246,  0.0336,\n",
              "                       0.0678,  0.0036,  0.1130, -0.0128,  0.0512, -0.0767,  0.0431,  0.0845,\n",
              "                       0.0924, -0.0500, -0.0881, -0.1028,  0.1227,  0.0240, -0.0493,  0.0874,\n",
              "                      -0.0224,  0.0119, -0.1105, -0.0620,  0.1241,  0.0488,  0.0032,  0.0696,\n",
              "                       0.1233, -0.0244,  0.0149,  0.0125, -0.0656, -0.0939,  0.1034, -0.1123,\n",
              "                      -0.0267, -0.0767, -0.0576, -0.0928, -0.0765,  0.0812,  0.0988,  0.1116,\n",
              "                      -0.1142,  0.0393,  0.0651,  0.1078, -0.0713, -0.0969,  0.0686, -0.0484,\n",
              "                       0.0194,  0.0666, -0.1159,  0.1069, -0.0811, -0.0259,  0.1131,  0.0857,\n",
              "                      -0.0224, -0.0674, -0.1114, -0.0290, -0.0217,  0.0060,  0.0190,  0.1032,\n",
              "                       0.0695, -0.0214,  0.0274,  0.0871, -0.1192,  0.1178,  0.0585,  0.0499,\n",
              "                      -0.0236, -0.1126, -0.0156,  0.0523, -0.0717,  0.1007,  0.0626, -0.1155,\n",
              "                      -0.0445,  0.0240, -0.0116,  0.0342,  0.1114, -0.0288,  0.1054,  0.0038,\n",
              "                      -0.0034,  0.0108,  0.1075, -0.0997, -0.0258,  0.0150, -0.1065,  0.0987,\n",
              "                       0.0005, -0.0333,  0.0381, -0.0870,  0.0867,  0.0820,  0.1036,  0.0191,\n",
              "                      -0.0567,  0.0114, -0.0991,  0.1082, -0.0605, -0.0815,  0.0170, -0.0253,\n",
              "                       0.0459,  0.0255,  0.0983, -0.1053, -0.1129, -0.0692,  0.0002,  0.0409,\n",
              "                       0.0428, -0.0606, -0.1082, -0.0101, -0.0024,  0.0209,  0.0837,  0.1148,\n",
              "                      -0.0587, -0.1115,  0.0724, -0.0430, -0.0545,  0.0002,  0.0695,  0.1099,\n",
              "                      -0.1208, -0.0002,  0.0683,  0.1184, -0.0718,  0.0153,  0.1100,  0.0793,\n",
              "                      -0.0174, -0.0982, -0.0929,  0.0887,  0.0073, -0.0861,  0.0457,  0.1150,\n",
              "                      -0.0914,  0.1030, -0.1231, -0.0183,  0.1128, -0.0948,  0.0878, -0.0564,\n",
              "                       0.0681, -0.1137, -0.0119,  0.0956,  0.0403,  0.0569,  0.0254,  0.1183,\n",
              "                      -0.0797,  0.0973, -0.0567,  0.0888, -0.0605,  0.0212, -0.1134, -0.0827],\n",
              "                     device='cuda:0')),\n",
              "             ('lstm.bias_hh_l0_reverse',\n",
              "              tensor([ 0.0743, -0.0278, -0.0466,  0.0166, -0.0442, -0.0122, -0.0314, -0.0029,\n",
              "                       0.0484, -0.0069,  0.0653, -0.0901, -0.0909,  0.0871,  0.1145, -0.0503,\n",
              "                      -0.0685, -0.0965, -0.0790,  0.0349, -0.0695, -0.0473, -0.0720, -0.1096,\n",
              "                       0.1139, -0.0108, -0.0224, -0.0382, -0.1131,  0.1246,  0.0720, -0.1193,\n",
              "                       0.0163,  0.0150,  0.0349,  0.0059, -0.1104,  0.0747, -0.0496, -0.0710,\n",
              "                      -0.0350,  0.0311,  0.0304, -0.1101, -0.0461, -0.0395,  0.0053,  0.0555,\n",
              "                       0.0764,  0.0737, -0.0218,  0.1134,  0.0680,  0.1231, -0.0360, -0.0691,\n",
              "                       0.0428, -0.1174,  0.0181,  0.0893,  0.0764,  0.0065,  0.0373, -0.0742,\n",
              "                       0.0866,  0.0217,  0.1222,  0.0780,  0.0018,  0.0136, -0.0734,  0.0802,\n",
              "                      -0.0356, -0.0384,  0.0398, -0.0531,  0.0013,  0.0600, -0.0521,  0.0379,\n",
              "                      -0.1173, -0.0424,  0.0149,  0.1146,  0.1025,  0.0150, -0.0377,  0.0933,\n",
              "                      -0.1098,  0.1050,  0.0452,  0.0130, -0.0461,  0.1208, -0.0491, -0.0794,\n",
              "                      -0.0689,  0.0349, -0.0875,  0.1051,  0.1065, -0.0062,  0.0881,  0.0242,\n",
              "                       0.1178,  0.0643,  0.0863, -0.0105,  0.0004, -0.0479, -0.0246,  0.0283,\n",
              "                      -0.0739, -0.0211, -0.0632, -0.0258,  0.0257, -0.0208,  0.0892,  0.0868,\n",
              "                      -0.1211, -0.0439,  0.0933,  0.0486, -0.0919, -0.0247,  0.0268,  0.0391,\n",
              "                       0.1002, -0.0085,  0.0789, -0.1104, -0.0895,  0.0074, -0.1103, -0.0168,\n",
              "                       0.0968, -0.1248, -0.0364,  0.0102, -0.0839,  0.0555,  0.0735, -0.0045,\n",
              "                      -0.1161,  0.0058, -0.0751,  0.0433, -0.0283,  0.0929, -0.0555,  0.0911,\n",
              "                       0.0021,  0.0085,  0.0439,  0.0591, -0.1196, -0.0966, -0.0010,  0.1188,\n",
              "                       0.0884, -0.0593,  0.0601,  0.0165,  0.1215, -0.1007,  0.1083,  0.1007,\n",
              "                      -0.0831,  0.0763,  0.0225, -0.1179,  0.0787, -0.0375,  0.0182, -0.0709,\n",
              "                       0.0526,  0.0160, -0.0952, -0.0975, -0.0550, -0.0900,  0.0347, -0.0772,\n",
              "                       0.0424,  0.0732, -0.0845,  0.0436,  0.0574, -0.0357, -0.0700, -0.0029,\n",
              "                       0.0027,  0.1134,  0.0339, -0.1100,  0.0420,  0.1044,  0.1155, -0.1049,\n",
              "                      -0.0678, -0.0722, -0.0973,  0.0891, -0.0506, -0.0501, -0.0761,  0.0199,\n",
              "                      -0.0514, -0.0757, -0.0875,  0.0976, -0.1175,  0.0514, -0.1054,  0.0504,\n",
              "                       0.0290,  0.0748, -0.0224, -0.0315, -0.0350,  0.0277, -0.0584,  0.1186,\n",
              "                       0.0084, -0.0630, -0.1153, -0.0854, -0.0933, -0.0173, -0.0857,  0.0025,\n",
              "                       0.0602,  0.0265, -0.0420, -0.1172,  0.0468,  0.0681,  0.0131,  0.0403,\n",
              "                       0.0875, -0.0529,  0.0573,  0.0657, -0.1220, -0.0846, -0.0045,  0.0156,\n",
              "                      -0.0712, -0.0440, -0.0914,  0.0174, -0.0180, -0.0276,  0.0011,  0.0662],\n",
              "                     device='cuda:0')),\n",
              "             ('lstm.weight_ih_l1',\n",
              "              tensor([[-0.0450, -0.0037,  0.0551,  ..., -0.1077,  0.0200, -0.0027],\n",
              "                      [-0.1170, -0.0692,  0.0256,  ..., -0.0045, -0.0674, -0.0559],\n",
              "                      [-0.0013,  0.0982,  0.0653,  ..., -0.0351, -0.0900, -0.0539],\n",
              "                      ...,\n",
              "                      [ 0.0973, -0.0470,  0.0375,  ...,  0.0807, -0.1071,  0.0206],\n",
              "                      [-0.0128,  0.0554, -0.1197,  ..., -0.1228, -0.1218,  0.0006],\n",
              "                      [-0.0073,  0.0361,  0.0175,  ...,  0.0257,  0.0585, -0.0306]],\n",
              "                     device='cuda:0')),\n",
              "             ('lstm.weight_hh_l1',\n",
              "              tensor([[ 7.3045e-02,  1.0645e-01,  7.4069e-02,  ...,  1.8439e-02,\n",
              "                       -9.5311e-02, -3.7843e-02],\n",
              "                      [-3.1424e-02, -4.4904e-02,  7.0879e-02,  ...,  1.0426e-02,\n",
              "                       -9.3418e-03, -4.0515e-02],\n",
              "                      [-1.1396e-01,  1.8368e-02,  5.2104e-02,  ...,  1.0761e-01,\n",
              "                        4.7538e-02, -3.8245e-02],\n",
              "                      ...,\n",
              "                      [-1.2082e-01, -9.4949e-02, -1.2462e-04,  ...,  5.0363e-02,\n",
              "                       -4.9179e-02, -1.1577e-01],\n",
              "                      [-3.0137e-02, -7.0524e-03,  1.2489e-01,  ...,  5.7547e-02,\n",
              "                       -5.0633e-02, -1.0214e-01],\n",
              "                      [ 1.1019e-01,  3.1298e-02, -4.0982e-02,  ...,  9.3200e-02,\n",
              "                        9.6826e-02, -4.9149e-02]], device='cuda:0')),\n",
              "             ('lstm.bias_ih_l1',\n",
              "              tensor([-0.1099,  0.0680, -0.0616, -0.0159,  0.1246,  0.1163, -0.0374, -0.0144,\n",
              "                      -0.0326,  0.0963,  0.0087, -0.0275, -0.0372, -0.1147,  0.0573,  0.0130,\n",
              "                      -0.1050, -0.0159, -0.0567, -0.0764,  0.0697, -0.0173, -0.0265, -0.0332,\n",
              "                      -0.0545, -0.1043, -0.0029,  0.1103, -0.1118,  0.0307,  0.0825, -0.0839,\n",
              "                       0.0958,  0.0046,  0.0690, -0.0149,  0.0771, -0.1180,  0.0500, -0.0065,\n",
              "                      -0.0703, -0.1182,  0.0812,  0.0966, -0.1213,  0.0772,  0.0690,  0.0164,\n",
              "                       0.0800, -0.0622, -0.0235,  0.0483, -0.1114, -0.0850, -0.0511, -0.0284,\n",
              "                      -0.0013, -0.0848, -0.0977,  0.0461,  0.0577, -0.1075,  0.0273, -0.0418,\n",
              "                       0.0263, -0.1043, -0.0282,  0.1003,  0.0079, -0.0108,  0.0545, -0.1076,\n",
              "                       0.0713,  0.0813,  0.0798,  0.0614, -0.0744,  0.0385, -0.0982, -0.0204,\n",
              "                       0.0142, -0.0291,  0.0993, -0.0213,  0.0139, -0.0915,  0.1041, -0.0392,\n",
              "                      -0.1231, -0.1036, -0.0272, -0.1152,  0.0958, -0.0144,  0.0721,  0.0840,\n",
              "                       0.0574,  0.0337,  0.0124,  0.0532, -0.0297,  0.0079,  0.0315, -0.0121,\n",
              "                      -0.0443, -0.0465, -0.0042,  0.0289, -0.1017, -0.0943, -0.1053, -0.0179,\n",
              "                       0.1055,  0.1064, -0.1053, -0.0139,  0.0516, -0.0093,  0.1018,  0.0283,\n",
              "                      -0.0392, -0.1025, -0.0201,  0.0452, -0.0794,  0.0579, -0.0920,  0.0820,\n",
              "                       0.0891, -0.0871, -0.0689,  0.1124, -0.1106,  0.1176, -0.1055,  0.0014,\n",
              "                       0.0016,  0.1127,  0.0340, -0.0093,  0.0660,  0.0762, -0.0060, -0.1126,\n",
              "                      -0.0844,  0.0171,  0.0775,  0.0395, -0.1060,  0.0425, -0.0545, -0.0346,\n",
              "                       0.0083,  0.0375,  0.0026, -0.0304,  0.0991, -0.1166,  0.0482, -0.0859,\n",
              "                       0.0585, -0.0570, -0.0879,  0.1116,  0.0317, -0.0805,  0.0865,  0.0040,\n",
              "                      -0.1111, -0.1001,  0.1131,  0.1026, -0.0306, -0.1059, -0.0174, -0.0591,\n",
              "                      -0.0456,  0.0681,  0.0569,  0.1224, -0.0430, -0.1032,  0.0962, -0.0479,\n",
              "                      -0.1090,  0.1199, -0.0301, -0.1085, -0.0298,  0.0442, -0.0612,  0.1078,\n",
              "                       0.0389,  0.0668, -0.0413,  0.0371,  0.0799,  0.0431,  0.1083,  0.1137,\n",
              "                      -0.0542, -0.0743, -0.0966, -0.0801,  0.0477,  0.1032,  0.0661, -0.1201,\n",
              "                      -0.0017, -0.0299,  0.0983, -0.0012,  0.1178,  0.0890, -0.1151,  0.0289,\n",
              "                      -0.0762, -0.1227, -0.1113, -0.0037,  0.0583,  0.0532, -0.0657,  0.0295,\n",
              "                      -0.1074, -0.0465, -0.0616,  0.0736,  0.0027, -0.0943,  0.1135,  0.0327,\n",
              "                      -0.1239,  0.0402,  0.0374,  0.0912, -0.0731,  0.0374, -0.0919,  0.0053,\n",
              "                      -0.0959,  0.0130, -0.0349,  0.0046,  0.0864,  0.0802, -0.0107,  0.0480,\n",
              "                       0.1218, -0.1131, -0.0142, -0.0122,  0.0041, -0.1212, -0.0422, -0.0224],\n",
              "                     device='cuda:0')),\n",
              "             ('lstm.bias_hh_l1',\n",
              "              tensor([-6.4938e-02,  4.5289e-02, -2.8182e-02,  5.2852e-02, -3.2645e-02,\n",
              "                       4.1931e-02,  2.3119e-02,  3.1132e-02,  8.3963e-02,  3.8730e-02,\n",
              "                      -6.2629e-02,  9.9744e-02,  2.6695e-02,  1.0185e-01, -4.6506e-02,\n",
              "                       5.2253e-02,  1.2456e-01,  6.5418e-02, -8.0917e-02, -9.0912e-02,\n",
              "                       9.9692e-02, -6.4231e-03, -1.1845e-01, -6.9944e-02, -4.7591e-02,\n",
              "                       9.4175e-02,  4.8013e-02,  4.2499e-02,  8.4468e-02, -4.4727e-02,\n",
              "                       7.5730e-02,  1.1508e-01, -8.6633e-02,  1.0912e-01,  5.4068e-02,\n",
              "                      -2.9482e-02,  1.2170e-01, -5.8776e-02, -5.3991e-02, -1.9237e-02,\n",
              "                      -4.0225e-02, -1.1020e-02, -6.9172e-02, -1.5316e-02,  4.7045e-02,\n",
              "                      -6.6905e-02,  6.4050e-02,  4.9696e-03, -3.0504e-02,  8.8983e-02,\n",
              "                      -8.3744e-02, -2.0508e-02, -1.2248e-02,  6.6899e-02,  7.2682e-02,\n",
              "                       6.6122e-02,  5.2606e-02,  1.1891e-01, -4.3693e-02, -4.6765e-02,\n",
              "                       2.8700e-02,  8.7937e-02,  8.9642e-02,  7.7111e-02, -8.2710e-02,\n",
              "                       1.6203e-02,  1.0729e-01, -9.0168e-02,  1.1452e-01, -2.6659e-03,\n",
              "                      -9.7726e-02,  8.0775e-02,  9.7619e-02, -4.8260e-02,  5.9251e-02,\n",
              "                      -8.4136e-02,  8.5898e-02,  3.4862e-02, -1.0397e-01, -6.1678e-02,\n",
              "                       1.4547e-02, -7.2556e-02, -1.1661e-01,  2.0513e-02,  9.1350e-02,\n",
              "                       7.7954e-02, -1.1946e-01,  2.0456e-02, -7.2800e-02, -1.8142e-02,\n",
              "                      -7.3224e-02,  1.2133e-01,  2.5934e-02, -9.4722e-02,  4.3325e-03,\n",
              "                      -1.0968e-01,  1.0700e-01, -6.6546e-02,  1.2370e-01, -5.1585e-02,\n",
              "                      -3.4401e-02, -3.9163e-02,  5.6367e-03,  4.9683e-02, -6.2846e-02,\n",
              "                       8.8411e-02, -1.1278e-01, -2.9397e-02, -9.0858e-02,  8.6275e-02,\n",
              "                       8.4999e-03, -1.3850e-02,  9.5272e-03,  7.3552e-02, -8.4595e-02,\n",
              "                      -5.0350e-02,  6.6812e-02, -5.4458e-03,  8.5082e-02, -5.3405e-02,\n",
              "                       4.2639e-02, -4.7791e-02,  4.3003e-02, -1.7324e-02, -5.9151e-02,\n",
              "                       3.0101e-02, -2.4313e-04,  1.3466e-02, -7.7764e-02, -3.9198e-02,\n",
              "                       5.4387e-02, -5.0380e-03,  1.6361e-02,  3.7752e-02,  1.2215e-01,\n",
              "                      -3.8927e-02, -3.9989e-02,  6.7276e-02,  2.9068e-02,  8.1669e-02,\n",
              "                       1.6601e-02, -5.6777e-02,  1.0874e-01, -6.6929e-02,  6.1842e-02,\n",
              "                      -4.1211e-02, -9.4304e-02,  6.2451e-02,  5.9259e-02, -3.9837e-02,\n",
              "                      -1.0162e-01,  1.0420e-01,  6.6506e-02, -5.1319e-02,  8.9435e-02,\n",
              "                       5.4357e-02,  8.2198e-02, -7.3926e-02,  1.2237e-02, -5.1694e-02,\n",
              "                      -9.7028e-02, -1.1996e-01,  1.3395e-02,  4.2740e-02, -1.2088e-01,\n",
              "                      -5.5911e-02,  8.3713e-02,  6.2548e-02, -1.1530e-01, -1.2937e-02,\n",
              "                       9.2108e-02, -8.1000e-02,  9.1258e-03, -8.8744e-02,  4.6699e-02,\n",
              "                       1.1358e-02, -1.1501e-01, -1.0557e-01,  1.5556e-02,  3.8729e-02,\n",
              "                      -5.1313e-02,  1.1447e-02, -1.1778e-01, -1.0536e-01, -6.9371e-02,\n",
              "                      -9.6560e-02, -2.0356e-02, -7.7670e-02,  1.1453e-02, -2.7152e-02,\n",
              "                       8.9510e-02, -9.0805e-02,  1.1732e-01, -6.3932e-02, -1.1714e-01,\n",
              "                      -1.0559e-01,  1.1672e-01, -1.1761e-01,  1.0021e-01, -1.2044e-01,\n",
              "                       2.5820e-02, -9.5106e-02, -4.7717e-03, -7.4046e-02,  7.1550e-02,\n",
              "                       6.4656e-02,  7.0569e-02, -8.7918e-02,  7.0218e-02, -3.9714e-02,\n",
              "                       7.2559e-02,  1.7080e-02,  3.0454e-02,  2.2158e-02,  1.0194e-01,\n",
              "                       1.0941e-01,  5.3641e-02,  6.8006e-02,  1.8897e-02, -6.8595e-02,\n",
              "                      -1.1407e-01,  9.0911e-02, -1.2319e-01, -1.8373e-02,  6.2141e-02,\n",
              "                      -1.1467e-01,  1.7670e-02, -2.6034e-02, -2.7108e-02,  1.0365e-04,\n",
              "                      -6.9090e-02,  1.8957e-02, -8.6533e-02,  6.4924e-02, -6.0834e-02,\n",
              "                       9.2574e-02, -1.2215e-01,  9.7830e-02, -1.0795e-01,  7.2307e-02,\n",
              "                      -5.1530e-02, -9.0219e-04, -1.0689e-01, -8.6389e-03,  2.9386e-02,\n",
              "                       1.2410e-01, -1.4574e-02,  2.9866e-02,  4.8801e-02,  4.6141e-02,\n",
              "                      -7.6640e-03,  1.0431e-02, -5.5806e-02,  1.1114e-02, -4.7365e-02,\n",
              "                       1.0381e-01], device='cuda:0')),\n",
              "             ('lstm.weight_ih_l1_reverse',\n",
              "              tensor([[ 0.1150, -0.1117, -0.0535,  ..., -0.0575,  0.1027,  0.0899],\n",
              "                      [-0.1111,  0.0473, -0.1237,  ...,  0.0120,  0.0983, -0.1004],\n",
              "                      [ 0.0766, -0.0550,  0.0980,  ...,  0.0977,  0.0206,  0.0173],\n",
              "                      ...,\n",
              "                      [ 0.0857,  0.0013, -0.1248,  ...,  0.0520,  0.1085,  0.1248],\n",
              "                      [-0.1149,  0.0818, -0.0046,  ...,  0.0181,  0.0806, -0.0884],\n",
              "                      [ 0.0035, -0.0257, -0.0088,  ..., -0.0529,  0.0428,  0.1022]],\n",
              "                     device='cuda:0')),\n",
              "             ('lstm.weight_hh_l1_reverse',\n",
              "              tensor([[-0.0624, -0.1247, -0.0595,  ...,  0.0585,  0.1031, -0.0975],\n",
              "                      [-0.0721,  0.0365, -0.0406,  ..., -0.0318, -0.0177,  0.0237],\n",
              "                      [ 0.1083,  0.0432, -0.0223,  ...,  0.0792,  0.0469, -0.1012],\n",
              "                      ...,\n",
              "                      [-0.0776,  0.1232,  0.0355,  ...,  0.0549,  0.1091,  0.0443],\n",
              "                      [-0.1241, -0.0083,  0.0805,  ...,  0.0951, -0.0636,  0.0758],\n",
              "                      [ 0.1111, -0.0991, -0.1166,  ..., -0.1224, -0.0396, -0.0278]],\n",
              "                     device='cuda:0')),\n",
              "             ('lstm.bias_ih_l1_reverse',\n",
              "              tensor([-0.0421,  0.0339,  0.0300, -0.0780, -0.0228,  0.0443, -0.0865,  0.0933,\n",
              "                       0.0922,  0.1024,  0.0421,  0.0503, -0.0667, -0.0694, -0.0490,  0.0775,\n",
              "                       0.0600, -0.1244,  0.0243,  0.0646,  0.1193,  0.0093,  0.0131,  0.0396,\n",
              "                      -0.0051,  0.0910, -0.0795,  0.0094, -0.0173,  0.0394,  0.0726, -0.0278,\n",
              "                       0.0446,  0.0267,  0.0484, -0.0442,  0.0900,  0.1098, -0.0351, -0.0158,\n",
              "                       0.0281,  0.0082,  0.0300,  0.0818, -0.0879,  0.1122, -0.0678,  0.0269,\n",
              "                       0.0346,  0.0032, -0.0795,  0.0640,  0.0463,  0.0565, -0.1127,  0.1233,\n",
              "                       0.1059,  0.0125,  0.1045,  0.0182, -0.0694,  0.1075, -0.1173,  0.0540,\n",
              "                       0.0399,  0.1162, -0.0633,  0.0366,  0.0574, -0.0640,  0.0864,  0.0738,\n",
              "                      -0.0277,  0.0470, -0.0614,  0.0558, -0.1184, -0.1171,  0.0912, -0.1182,\n",
              "                       0.0876,  0.0850, -0.1153,  0.0549, -0.1047, -0.0458, -0.0037,  0.0545,\n",
              "                       0.0412,  0.0820,  0.0417,  0.0322, -0.1128, -0.0484, -0.0526, -0.0915,\n",
              "                       0.0309, -0.0916, -0.1003, -0.0588, -0.1141, -0.0379, -0.1098,  0.0864,\n",
              "                      -0.0206,  0.0748,  0.0429,  0.0080, -0.1094, -0.0742,  0.0401,  0.0944,\n",
              "                      -0.1127, -0.0747, -0.0098, -0.1174, -0.0631,  0.1095, -0.0793,  0.0083,\n",
              "                       0.1205,  0.1138, -0.1147,  0.0676,  0.0853, -0.0684, -0.1114,  0.0468,\n",
              "                       0.0491, -0.0871, -0.0905, -0.0181, -0.1176, -0.0592, -0.1090,  0.0343,\n",
              "                      -0.1117,  0.0349, -0.0744,  0.0622, -0.0016, -0.0950, -0.0459, -0.0651,\n",
              "                       0.0056,  0.0739,  0.0729, -0.1018,  0.0057, -0.0857, -0.0709, -0.0308,\n",
              "                      -0.0740,  0.0265,  0.0346,  0.0695,  0.0284,  0.0955, -0.0311,  0.0179,\n",
              "                      -0.0877, -0.1088, -0.1068, -0.0233, -0.0449, -0.0007, -0.0819,  0.0944,\n",
              "                       0.0129,  0.0517, -0.0069, -0.0912,  0.0362, -0.0508,  0.0841, -0.1162,\n",
              "                      -0.0013,  0.0070,  0.0799,  0.0426, -0.0149,  0.0384,  0.1145, -0.0194,\n",
              "                      -0.0732,  0.0685, -0.1111, -0.0604,  0.0326, -0.0038, -0.0535,  0.0890,\n",
              "                      -0.0949,  0.0367, -0.0490,  0.0181,  0.0259,  0.0081, -0.0906,  0.0052,\n",
              "                      -0.0814, -0.0221,  0.0627, -0.0126, -0.0476, -0.0024, -0.0730, -0.1011,\n",
              "                      -0.0509, -0.0447, -0.1024,  0.0199,  0.0649,  0.0245, -0.0909, -0.0182,\n",
              "                       0.0906,  0.0512, -0.0140, -0.0316,  0.1184,  0.0894,  0.0798, -0.0919,\n",
              "                      -0.0172,  0.0810, -0.0588,  0.1004,  0.0740,  0.0453,  0.0915, -0.0834,\n",
              "                      -0.0047,  0.1206, -0.0327, -0.0442, -0.1025,  0.0370, -0.0377,  0.1062,\n",
              "                      -0.0183, -0.0261,  0.0904, -0.0698,  0.0697,  0.1181,  0.0878,  0.0930,\n",
              "                       0.0869, -0.1014, -0.0878, -0.0980,  0.0546,  0.0884,  0.1001,  0.0336],\n",
              "                     device='cuda:0')),\n",
              "             ('lstm.bias_hh_l1_reverse',\n",
              "              tensor([-0.0427,  0.0478, -0.1097,  0.0093,  0.0570,  0.0587,  0.0137, -0.0542,\n",
              "                      -0.1197,  0.0229,  0.0868, -0.0412,  0.0132, -0.0929, -0.0796,  0.1241,\n",
              "                       0.0150,  0.0925, -0.0136, -0.0121, -0.0082,  0.1067,  0.0786, -0.1081,\n",
              "                      -0.0331,  0.0088, -0.0505,  0.0718,  0.0295, -0.0062, -0.0572, -0.0836,\n",
              "                       0.0648,  0.0409,  0.0725,  0.1201,  0.0426,  0.0604, -0.0731, -0.0033,\n",
              "                      -0.0801, -0.0974, -0.0314,  0.0149, -0.0949, -0.0562,  0.0084, -0.0571,\n",
              "                      -0.0555, -0.0926, -0.0560,  0.1121, -0.0350, -0.1072,  0.0002,  0.0536,\n",
              "                       0.1035, -0.0262, -0.0229, -0.0280,  0.0826, -0.0788,  0.0789, -0.0087,\n",
              "                      -0.1124,  0.0749,  0.1217, -0.0102,  0.0543, -0.0866,  0.0269,  0.0447,\n",
              "                      -0.0331,  0.0148, -0.0627, -0.0677, -0.0525, -0.0251, -0.0171,  0.0220,\n",
              "                      -0.0292,  0.0842,  0.0710, -0.0149,  0.0161,  0.0884, -0.0976, -0.0956,\n",
              "                       0.0407,  0.1149,  0.0074,  0.0532,  0.0320,  0.0415,  0.0806, -0.0492,\n",
              "                       0.0012, -0.1245, -0.0468, -0.0684,  0.0872,  0.0461,  0.0775,  0.0363,\n",
              "                       0.0131, -0.0508,  0.0752,  0.0202,  0.1234,  0.0246,  0.0936,  0.0304,\n",
              "                       0.0934, -0.0120,  0.0608,  0.0931, -0.0581,  0.0342,  0.1073,  0.1136,\n",
              "                       0.0789, -0.0698,  0.0677, -0.0679,  0.0549, -0.0328,  0.0873,  0.0333,\n",
              "                      -0.0860,  0.1053,  0.0189,  0.0524,  0.0701,  0.0203, -0.0605,  0.0494,\n",
              "                       0.1060, -0.0085, -0.1112, -0.0281,  0.0817,  0.0666,  0.0456, -0.0303,\n",
              "                      -0.1048,  0.0664,  0.0068,  0.0749, -0.0688, -0.0907,  0.0124, -0.0860,\n",
              "                      -0.0061,  0.0130,  0.0663, -0.0290, -0.1048, -0.1056, -0.0952,  0.0262,\n",
              "                       0.0821,  0.0058,  0.0107, -0.0322,  0.1214, -0.1196, -0.0548, -0.0492,\n",
              "                      -0.0897,  0.0522,  0.0589, -0.0077, -0.1001, -0.1104, -0.0736, -0.0758,\n",
              "                      -0.0615,  0.0443, -0.0309,  0.0739, -0.0221, -0.0260, -0.0253, -0.0898,\n",
              "                       0.1210,  0.0625, -0.0580,  0.0346, -0.0171,  0.1040,  0.0494, -0.0504,\n",
              "                       0.0759,  0.0319,  0.1208,  0.1214,  0.0074, -0.0091, -0.0309, -0.0070,\n",
              "                      -0.0997, -0.0339, -0.0697, -0.0041,  0.0067,  0.0787, -0.0142,  0.0672,\n",
              "                       0.1000, -0.0781, -0.0040,  0.0320, -0.0375, -0.0452, -0.0757, -0.0915,\n",
              "                      -0.0752,  0.0819,  0.0984, -0.1009, -0.0326, -0.0192,  0.0612,  0.0909,\n",
              "                       0.0881,  0.0017,  0.0263, -0.0575, -0.0602, -0.0344,  0.0290,  0.0665,\n",
              "                       0.0624,  0.0609, -0.0186,  0.0525, -0.1217, -0.0354,  0.1016, -0.0927,\n",
              "                       0.0461,  0.1056,  0.0950,  0.0831, -0.0758,  0.0664,  0.0208, -0.0800,\n",
              "                      -0.1177,  0.1105,  0.0972,  0.0541, -0.0386, -0.0898, -0.0857, -0.0037],\n",
              "                     device='cuda:0')),\n",
              "             ('fc_layers.0.weight',\n",
              "              tensor([[ 0.0359,  0.0590, -0.0700,  ..., -0.0069, -0.0516,  0.0500],\n",
              "                      [ 0.0678, -0.0560, -0.0077,  ...,  0.0063, -0.0117, -0.0784],\n",
              "                      [ 0.0368,  0.0633,  0.0560,  ..., -0.0271,  0.0273,  0.0292],\n",
              "                      ...,\n",
              "                      [ 0.0304, -0.0011, -0.0826,  ..., -0.0469,  0.0023, -0.0400],\n",
              "                      [-0.0716,  0.0492, -0.0832,  ..., -0.0065,  0.0128,  0.0443],\n",
              "                      [-0.0369,  0.0066, -0.0037,  ...,  0.0643, -0.0760, -0.0385]],\n",
              "                     device='cuda:0')),\n",
              "             ('fc_layers.0.bias',\n",
              "              tensor([-0.0872,  0.0116,  0.0496,  0.0382,  0.0683,  0.0049,  0.0311, -0.0599,\n",
              "                      -0.0361, -0.0580, -0.0105,  0.0178,  0.0070, -0.0573,  0.0395, -0.0202,\n",
              "                       0.0748,  0.0305,  0.0137, -0.0209,  0.0244, -0.0658,  0.0140,  0.0806,\n",
              "                      -0.0150,  0.0877,  0.0149, -0.0312, -0.0200, -0.0747,  0.0284,  0.0825,\n",
              "                       0.0568, -0.0151,  0.0653, -0.0155,  0.0576, -0.0107,  0.0691, -0.0241,\n",
              "                      -0.0117, -0.0739, -0.0388,  0.0396, -0.0844,  0.0671,  0.0592, -0.0113,\n",
              "                      -0.0706, -0.0552, -0.0727, -0.0333, -0.0326,  0.0135, -0.0679, -0.0834,\n",
              "                       0.0154, -0.0014, -0.0752,  0.0075,  0.0533, -0.0862,  0.0379,  0.0429,\n",
              "                       0.0422, -0.0657, -0.0546, -0.0179,  0.0052,  0.0762, -0.0303, -0.0386,\n",
              "                       0.0812, -0.0011, -0.0100,  0.0011,  0.0424,  0.0282,  0.0318, -0.0760,\n",
              "                      -0.0618, -0.0056, -0.0733,  0.0086, -0.0415, -0.0561,  0.0322,  0.0316,\n",
              "                       0.0796, -0.0218, -0.0517, -0.0030,  0.0669, -0.0298, -0.0157,  0.0665,\n",
              "                       0.0253, -0.0659,  0.0204,  0.0355, -0.0268,  0.0349, -0.0348, -0.0714,\n",
              "                      -0.0797,  0.0637, -0.0211,  0.0022, -0.0661, -0.0076, -0.0053, -0.0188,\n",
              "                       0.0339,  0.0038, -0.0789, -0.0001, -0.0017, -0.0577,  0.0027,  0.0531,\n",
              "                      -0.0703, -0.0533, -0.0775, -0.0858, -0.0301,  0.0873, -0.0232, -0.0417],\n",
              "                     device='cuda:0')),\n",
              "             ('fc_layers.2.weight',\n",
              "              tensor([[-0.0454,  0.0199, -0.0392,  ..., -0.0134,  0.0815,  0.0540],\n",
              "                      [ 0.0786, -0.0812,  0.0450,  ...,  0.0864, -0.0417, -0.0768],\n",
              "                      [ 0.0751,  0.0514, -0.0681,  ..., -0.0397,  0.0614,  0.0578],\n",
              "                      ...,\n",
              "                      [-0.0588,  0.0696, -0.0728,  ...,  0.0235,  0.0324, -0.0317],\n",
              "                      [-0.0808, -0.0780,  0.0451,  ...,  0.0080, -0.0084,  0.0174],\n",
              "                      [ 0.0322, -0.0469,  0.0051,  ...,  0.0425, -0.0253, -0.0282]],\n",
              "                     device='cuda:0')),\n",
              "             ('fc_layers.2.bias',\n",
              "              tensor([-0.0841, -0.0056,  0.0564,  0.0602, -0.0355,  0.0846,  0.0542, -0.0294,\n",
              "                       0.0618, -0.0624, -0.0874, -0.0004, -0.0088, -0.0069, -0.0665, -0.0720,\n",
              "                       0.0482,  0.0098, -0.0064, -0.0798,  0.0319, -0.0252,  0.0122, -0.0815,\n",
              "                      -0.0360,  0.0703,  0.0383,  0.0658, -0.0668, -0.0609, -0.0713,  0.0754,\n",
              "                      -0.0016,  0.0104, -0.0668, -0.0443,  0.0447, -0.0717,  0.0646,  0.0397,\n",
              "                      -0.0827,  0.0874, -0.0125,  0.0529, -0.0596,  0.0450, -0.0004, -0.0049,\n",
              "                      -0.0346, -0.0629,  0.0305,  0.0409,  0.0095,  0.0130, -0.0710,  0.0317,\n",
              "                      -0.0413, -0.0270, -0.0351,  0.0211,  0.0772, -0.0041,  0.0052,  0.0866],\n",
              "                     device='cuda:0')),\n",
              "             ('fc_layers.4.weight',\n",
              "              tensor([[-0.0526, -0.1064,  0.0638,  ...,  0.1108,  0.0984, -0.0217],\n",
              "                      [-0.0521, -0.1085,  0.1179,  ..., -0.0913, -0.0514,  0.0133],\n",
              "                      [ 0.0865,  0.0223,  0.0507,  ..., -0.0798, -0.0041, -0.0728],\n",
              "                      ...,\n",
              "                      [ 0.0943, -0.1028, -0.0992,  ...,  0.0906, -0.1214,  0.0114],\n",
              "                      [ 0.1086,  0.1095, -0.0854,  ...,  0.0577,  0.0594,  0.1043],\n",
              "                      [ 0.0274,  0.0799, -0.0899,  ..., -0.0569, -0.0059, -0.1155]],\n",
              "                     device='cuda:0')),\n",
              "             ('fc_layers.4.bias',\n",
              "              tensor([-0.1132, -0.0914, -0.0241, -0.0897,  0.0207, -0.0173, -0.0200, -0.0034,\n",
              "                      -0.0875, -0.0465, -0.0460,  0.0636, -0.0135,  0.0192, -0.1204,  0.1188,\n",
              "                      -0.0049, -0.1095,  0.0018, -0.0613, -0.0720, -0.1157,  0.0561,  0.0151,\n",
              "                       0.1136, -0.0427, -0.0513,  0.0662, -0.0078,  0.0451,  0.0027, -0.0985],\n",
              "                     device='cuda:0')),\n",
              "             ('fc_layers.6.weight',\n",
              "              tensor([[-0.0804,  0.0415,  0.1156, -0.1244, -0.1510,  0.1610, -0.1248, -0.0867,\n",
              "                        0.1622, -0.0446, -0.1274,  0.0132,  0.0461,  0.0991, -0.1041,  0.0087,\n",
              "                       -0.0231,  0.1529, -0.0508, -0.0136,  0.0150, -0.0486,  0.0611,  0.1313,\n",
              "                        0.0359, -0.0036, -0.0042, -0.0358, -0.0725,  0.0613,  0.1037,  0.0738],\n",
              "                      [-0.1623,  0.0578, -0.0688, -0.0180,  0.0993,  0.1215,  0.0941,  0.1707,\n",
              "                        0.0881,  0.0443,  0.0238,  0.0130, -0.1450, -0.0835,  0.0483, -0.0466,\n",
              "                       -0.1434,  0.1608,  0.0527,  0.1011,  0.1724,  0.0343,  0.1475, -0.0489,\n",
              "                        0.1287, -0.0135, -0.1545,  0.1477,  0.0508,  0.0853,  0.0978, -0.0088],\n",
              "                      [ 0.1025, -0.1482, -0.0065, -0.0532,  0.0144,  0.0842,  0.0105, -0.0065,\n",
              "                        0.0548,  0.0212, -0.1136,  0.0417,  0.0959,  0.0215,  0.0602, -0.0393,\n",
              "                       -0.0413, -0.0428, -0.1032,  0.0851, -0.0039,  0.0862, -0.0677,  0.1741,\n",
              "                       -0.0646, -0.0701, -0.0427,  0.0298, -0.0025,  0.1079,  0.0420, -0.1417],\n",
              "                      [ 0.0722, -0.1552,  0.0873, -0.1186,  0.0637, -0.0264,  0.0886, -0.1056,\n",
              "                       -0.1307,  0.0906, -0.0935,  0.1507, -0.0904, -0.0257,  0.1503,  0.0947,\n",
              "                       -0.1495,  0.1008, -0.1658, -0.1146,  0.0881, -0.0826, -0.1712, -0.0698,\n",
              "                        0.0891,  0.0320,  0.1715,  0.0843,  0.1626, -0.0755, -0.0972, -0.1308],\n",
              "                      [ 0.0733, -0.1039, -0.0339, -0.0276,  0.1518,  0.1329,  0.0398,  0.1273,\n",
              "                       -0.0417, -0.0426,  0.1137, -0.1706,  0.0518, -0.1404,  0.1704,  0.0531,\n",
              "                       -0.1237, -0.0846,  0.0226, -0.1021, -0.0599,  0.0024,  0.0678, -0.1611,\n",
              "                       -0.1296, -0.0652,  0.0535, -0.0646,  0.0038,  0.0101,  0.1103, -0.1049],\n",
              "                      [-0.0457,  0.0153, -0.1548, -0.0329,  0.0489,  0.1462, -0.1139,  0.0293,\n",
              "                        0.0546,  0.1256,  0.0545, -0.1269,  0.0677, -0.1451, -0.1160, -0.1306,\n",
              "                        0.1710,  0.1553,  0.0008, -0.0098,  0.1016,  0.0741,  0.1209,  0.0036,\n",
              "                        0.1114, -0.1528, -0.0387,  0.0467, -0.1112, -0.0855,  0.0492, -0.0546],\n",
              "                      [ 0.0240,  0.1277,  0.1132,  0.1686,  0.0305, -0.0256, -0.0875,  0.1675,\n",
              "                        0.0197, -0.0269, -0.1335,  0.1457,  0.0773,  0.0136, -0.1043,  0.0121,\n",
              "                       -0.0011, -0.0927,  0.0230,  0.0407, -0.0809, -0.1657, -0.1395, -0.0117,\n",
              "                        0.0846,  0.1368, -0.1609, -0.0492, -0.0304,  0.1724,  0.0899,  0.1581],\n",
              "                      [-0.1298,  0.1175,  0.0018, -0.0197, -0.1767,  0.0293,  0.1103, -0.1033,\n",
              "                        0.1307, -0.0138, -0.1686,  0.0435, -0.0239,  0.0106, -0.1453, -0.0469,\n",
              "                       -0.0618,  0.0301, -0.1572,  0.1480,  0.0734, -0.1630,  0.1097, -0.0308,\n",
              "                        0.0174,  0.0914, -0.1487,  0.0369,  0.1672, -0.0664, -0.0795,  0.0696],\n",
              "                      [-0.1460,  0.0426, -0.0202,  0.1362, -0.0648,  0.0578,  0.0289,  0.0770,\n",
              "                       -0.0218, -0.0490,  0.1624, -0.0782, -0.0576,  0.0287,  0.1294,  0.0291,\n",
              "                       -0.0697,  0.0590,  0.0129, -0.0481,  0.1722, -0.0125,  0.0720, -0.0533,\n",
              "                        0.0686, -0.1732,  0.1359,  0.1414,  0.0699, -0.1718, -0.0635,  0.0133],\n",
              "                      [ 0.0766, -0.0063,  0.1747,  0.0208, -0.0483,  0.1635,  0.1146,  0.0908,\n",
              "                       -0.0917,  0.0629,  0.0325, -0.0893,  0.0637, -0.0353, -0.1728,  0.0585,\n",
              "                       -0.1504,  0.1444,  0.1688, -0.1061, -0.0756, -0.0536, -0.0822, -0.0710,\n",
              "                       -0.1172,  0.0598,  0.0754,  0.0897, -0.1629, -0.1323,  0.0013, -0.1618]],\n",
              "                     device='cuda:0')),\n",
              "             ('fc_layers.6.bias',\n",
              "              tensor([ 0.1418, -0.1387, -0.1080,  0.1473, -0.1585, -0.0684,  0.1742, -0.1736,\n",
              "                       0.0046,  0.1336], device='cuda:0'))])"
            ]
          },
          "metadata": {},
          "execution_count": 9
        }
      ]
    },
    {
      "cell_type": "code",
      "execution_count": 10,
      "metadata": {
        "id": "3w9QW9Lfp1aV",
        "colab": {
          "base_uri": "https://localhost:8080/"
        },
        "outputId": "c33622fd-677b-4c07-d6b7-cdb735b0ae13"
      },
      "outputs": [
        {
          "output_type": "execute_result",
          "data": {
            "text/plain": [
              "LSTM_Model_label(\n",
              "  (lstm): LSTM(41, 64, num_layers=2, batch_first=True, dropout=0.5, bidirectional=True)\n",
              "  (fc_layers): Sequential(\n",
              "    (0): Linear(in_features=128, out_features=128, bias=True)\n",
              "    (1): Tanh()\n",
              "    (2): Linear(in_features=128, out_features=64, bias=True)\n",
              "    (3): ReLU()\n",
              "    (4): Linear(in_features=64, out_features=32, bias=True)\n",
              "    (5): Sigmoid()\n",
              "    (6): Linear(in_features=32, out_features=2, bias=True)\n",
              "  )\n",
              ")"
            ]
          },
          "metadata": {},
          "execution_count": 10
        }
      ],
      "source": [
        "my_model_label = LSTM_Model_label(num_classes_label, input_size, hidden_size, num_layers).to(device=device)\n",
        "my_model_label"
      ]
    },
    {
      "cell_type": "markdown",
      "metadata": {
        "id": "Cey1CId-jjis"
      },
      "source": [
        "# **optimizer and loss function**"
      ]
    },
    {
      "cell_type": "code",
      "execution_count": 11,
      "metadata": {
        "id": "WNuQFMAekNDH"
      },
      "outputs": [],
      "source": [
        "loss_fn1 = nn.CrossEntropyLoss().to(device=device)\n",
        "loss_fn2 = nn.CrossEntropyLoss().to(device=device)\n",
        "optimizer1 = opt.Adam(params=my_model_attack.parameters(),lr=learning_rate)\n",
        "optimizer2 = opt.Adam(params=my_model_label.parameters(),lr=learning_rate)"
      ]
    },
    {
      "cell_type": "code",
      "source": [
        "from sklearn.metrics import classification_report, confusion_matrix\n",
        "import itertools\n",
        "def plot_confusion_matrix(cm, classes,\n",
        "                          normalize=False,\n",
        "                          title='Confusion matrix',\n",
        "                          cmap=plt.cm.Greens):\n",
        "    \"\"\"\n",
        "    This function prints and plots the confusion matrix.\n",
        "    Normalization can be applied by setting `normalize=True`.\n",
        "    \"\"\"\n",
        "    if normalize:\n",
        "        cm = cm.astype('float') / cm.sum(axis=1)[:, np.newaxis]\n",
        "        print(\"Normalized confusion matrix\")\n",
        "    else:\n",
        "        print('Confusion matrix, without normalization')\n",
        "\n",
        "    print(cm)\n",
        "\n",
        "    plt.imshow(cm, interpolation='nearest', cmap=cmap)\n",
        "    plt.title(title)\n",
        "    plt.colorbar()\n",
        "    tick_marks = np.arange(len(classes))\n",
        "    plt.xticks(tick_marks, classes, rotation=45)\n",
        "    plt.yticks(tick_marks, classes)\n",
        "\n",
        "    fmt = '.2f' if normalize else 'd'\n",
        "    thresh = cm.max() / 2.\n",
        "    for i, j in itertools.product(range(cm.shape[0]), range(cm.shape[1])):\n",
        "        plt.text(j, i, format(cm[i, j], fmt),\n",
        "                 horizontalalignment=\"center\",\n",
        "                 color=\"white\" if cm[i, j] > thresh else \"black\")\n",
        "\n",
        "    plt.tight_layout()\n",
        "    plt.ylabel('True label')\n",
        "    plt.xlabel('Predicted label')\n"
      ],
      "metadata": {
        "id": "KarvZRUVOMlb"
      },
      "execution_count": 12,
      "outputs": []
    },
    {
      "cell_type": "markdown",
      "metadata": {
        "id": "4JYcovfYlpHM"
      },
      "source": [
        "# **train attack cat**"
      ]
    },
    {
      "cell_type": "code",
      "execution_count": 13,
      "metadata": {
        "id": "Qmw8w1eTkeBu",
        "colab": {
          "base_uri": "https://localhost:8080/",
          "height": 486
        },
        "outputId": "21d8720c-ce4c-4712-eea3-70d836049c3e"
      },
      "outputs": [
        {
          "output_type": "stream",
          "name": "stdout",
          "text": [
            "Epoch: 0, loss: 0.9364\n",
            "Epoch: 50, loss: 0.5693\n",
            "Epoch: 100, loss: 0.4763\n",
            "Epoch: 150, loss: 0.4414\n",
            "Epoch: 200, loss: 0.3704\n",
            "Epoch: 250, loss: 0.4385\n",
            "Epoch: 300, loss: 0.4454\n",
            "Epoch: 350, loss: 0.3784\n",
            "Epoch: 400, loss: 0.3959\n",
            "Epoch: 450, loss: 0.3737\n",
            "Epoch: 500, loss: 0.3690\n",
            "Execution Time : 1151081.2500\n"
          ]
        },
        {
          "output_type": "display_data",
          "data": {
            "text/plain": [
              "<Figure size 432x288 with 1 Axes>"
            ],
            "image/png": "[encoded data removed]"
          },
          "metadata": {
            "needs_background": "light"
          }
        }
      ],
      "source": [
        "start = torch.cuda.Event(enable_timing=True)\n",
        "end = torch.cuda.Event(enable_timing=True)\n",
        "\n",
        "start.record()\n",
        "\n",
        "loss_plot = list()\n",
        "\n",
        "for epoch in range(num_epoch+1):\n",
        "\n",
        "    for batch_x, batch_y in train_attack_cat_dataloader:\n",
        "\n",
        "        batch_x = torch.reshape(batch_x, (batch_x.shape[0], 1, batch_x.shape[1])) #RuntimeError: For unbatched 2-D input, hx and cx should also be 2-D but got (3-D, 3-D) tensors\n",
        "        \n",
        "        batch_x = batch_x.to(device)\n",
        "        batch_y = batch_y.to(device)\n",
        "\n",
        "        optimizer1.zero_grad()\n",
        "        loss1 = loss_fn1(my_model_attack(batch_x) , batch_y)\n",
        "        loss1.backward() \n",
        "        optimizer1.step()\n",
        "\n",
        "    if epoch % 50 == 0:\n",
        "         print(\"Epoch: %d, loss: %.4f\" % (epoch, loss1.item())) \n",
        "         loss_plot.append(loss1.item())         \n",
        "\n",
        "end.record()\n",
        "\n",
        "# Waits for everything to finish running\n",
        "torch.cuda.synchronize()\n",
        "\n",
        "print(\"Execution Time : %.4f\" % (start.elapsed_time(end)))\n",
        "\n",
        "plt.plot(range(len(loss_plot)),np.asarray(loss_plot))\n",
        "plt.show()"
      ]
    },
    {
      "cell_type": "markdown",
      "metadata": {
        "id": "PQaRCMJPls5N"
      },
      "source": [
        "# **test attack category with fake dataset**"
      ]
    },
    {
      "cell_type": "code",
      "execution_count": 14,
      "metadata": {
        "id": "QrtYzVT4loMQ",
        "colab": {
          "base_uri": "https://localhost:8080/"
        },
        "outputId": "38f4c376-adcc-4206-dd05-e384edf3496e"
      },
      "outputs": [
        {
          "output_type": "stream",
          "name": "stdout",
          "text": [
            "acc : 0.00%\n"
          ]
        }
      ],
      "source": [
        "dataset_attack_cat = Fake_DataSet_UNSWNB15_attack_cat(\"/content/drive/MyDrive/datasets/UNSW-NB15/fake_UNSW_NB15.csv\")\n",
        "number_of_test = int(len(dataset_attack_cat)*0.3)\n",
        "number_of_train = len(dataset_attack_cat) - int(len(dataset_attack_cat)*0.3)\n",
        "train_attack_cat ,test_attack_cat = random_split(dataset=dataset_attack_cat, lengths=[number_of_train,number_of_test])\n",
        "\n",
        "test_attack_cat_dataloader = DataLoader(dataset=test_attack_cat ,batch_size=batch_size ,shuffle=True)\n",
        "\n",
        "correct = 0\n",
        "y_test, yhat = list(), list()\n",
        "\n",
        "for batch_x, labl in test_attack_cat_dataloader:\n",
        "  \n",
        "    batch_x = torch.reshape(batch_x, (batch_x.shape[0], 1, batch_x.shape[1])) #RuntimeError: For unbatched 2-D input, hx and cx should also be 2-D but got (3-D, 3-D) tensors\n",
        "  \n",
        "    batch_x = batch_x.to(device)\n",
        "    labl = labl.to(device)\n",
        "\n",
        "    out = my_model_attack(batch_x)\n",
        "    _,predicted = torch.max(out,1)\n",
        "    correct += torch.sum(predicted == labl)\n",
        "    \n",
        "    for i in labl.cpu().detach().numpy():\n",
        "        y_test.append(i)\n",
        "    for i in predicted.cpu().detach().numpy():\n",
        "        yhat.append(i)\n",
        "\n",
        "print(\"acc : %.2f\" % (100.*correct / len(test_attack_cat)),end=\"\")\n",
        "print(\"%\")"
      ]
    },
    {
      "cell_type": "code",
      "source": [
        "print (classification_report(y_test, yhat))"
      ],
      "metadata": {
        "id": "n0Q0BWzQIuCA",
        "colab": {
          "base_uri": "https://localhost:8080/"
        },
        "outputId": "a2ed6193-1c69-42e2-8e64-e5839ddca302"
      },
      "execution_count": 16,
      "outputs": [
        {
          "output_type": "stream",
          "name": "stdout",
          "text": [
            "              precision    recall  f1-score   support\n",
            "\n",
            "           0       0.00      0.00      0.00       0.0\n",
            "           1       0.00      0.00      0.00       0.0\n",
            "           2       0.00      0.00      0.00       0.0\n",
            "           3       0.00      0.00      0.00       0.0\n",
            "           4       0.00      0.00      0.00       0.0\n",
            "           5       0.00      0.00      0.00       0.0\n",
            "           6       0.00      0.00      0.00       0.0\n",
            "           7       0.00      0.00      0.00       0.0\n",
            "           8       0.00      0.00      0.00       0.0\n",
            "           9       0.00      0.00      0.00       0.0\n",
            "          11       0.00      0.00      0.00    7500.0\n",
            "\n",
            "    accuracy                           0.00    7500.0\n",
            "   macro avg       0.00      0.00      0.00    7500.0\n",
            "weighted avg       0.00      0.00      0.00    7500.0\n",
            "\n"
          ]
        },
        {
          "output_type": "stream",
          "name": "stderr",
          "text": [
            "/usr/local/lib/python3.7/dist-packages/sklearn/metrics/_classification.py:1318: UndefinedMetricWarning: Precision and F-score are ill-defined and being set to 0.0 in labels with no predicted samples. Use `zero_division` parameter to control this behavior.\n",
            "  _warn_prf(average, modifier, msg_start, len(result))\n",
            "/usr/local/lib/python3.7/dist-packages/sklearn/metrics/_classification.py:1318: UndefinedMetricWarning: Recall and F-score are ill-defined and being set to 0.0 in labels with no true samples. Use `zero_division` parameter to control this behavior.\n",
            "  _warn_prf(average, modifier, msg_start, len(result))\n",
            "/usr/local/lib/python3.7/dist-packages/sklearn/metrics/_classification.py:1318: UndefinedMetricWarning: Precision and F-score are ill-defined and being set to 0.0 in labels with no predicted samples. Use `zero_division` parameter to control this behavior.\n",
            "  _warn_prf(average, modifier, msg_start, len(result))\n",
            "/usr/local/lib/python3.7/dist-packages/sklearn/metrics/_classification.py:1318: UndefinedMetricWarning: Recall and F-score are ill-defined and being set to 0.0 in labels with no true samples. Use `zero_division` parameter to control this behavior.\n",
            "  _warn_prf(average, modifier, msg_start, len(result))\n",
            "/usr/local/lib/python3.7/dist-packages/sklearn/metrics/_classification.py:1318: UndefinedMetricWarning: Precision and F-score are ill-defined and being set to 0.0 in labels with no predicted samples. Use `zero_division` parameter to control this behavior.\n",
            "  _warn_prf(average, modifier, msg_start, len(result))\n",
            "/usr/local/lib/python3.7/dist-packages/sklearn/metrics/_classification.py:1318: UndefinedMetricWarning: Recall and F-score are ill-defined and being set to 0.0 in labels with no true samples. Use `zero_division` parameter to control this behavior.\n",
            "  _warn_prf(average, modifier, msg_start, len(result))\n"
          ]
        }
      ]
    },
    {
      "cell_type": "markdown",
      "metadata": {
        "id": "pLqOLtA6tQht"
      },
      "source": [
        "# **train label**"
      ]
    },
    {
      "cell_type": "code",
      "execution_count": 17,
      "metadata": {
        "id": "Xm1cu1GhtMJO",
        "colab": {
          "base_uri": "https://localhost:8080/",
          "height": 486
        },
        "outputId": "03ce3068-c484-498e-99b8-1e47e081185c"
      },
      "outputs": [
        {
          "output_type": "stream",
          "name": "stdout",
          "text": [
            "Epoch: 0, loss: 0.2302\n",
            "Epoch: 50, loss: 0.1332\n",
            "Epoch: 100, loss: 0.1164\n",
            "Epoch: 150, loss: 0.1163\n",
            "Epoch: 200, loss: 0.0824\n",
            "Epoch: 250, loss: 0.1213\n",
            "Epoch: 300, loss: 0.0859\n",
            "Epoch: 350, loss: 0.1009\n",
            "Epoch: 400, loss: 0.1032\n",
            "Epoch: 450, loss: 0.1335\n",
            "Epoch: 500, loss: 0.1264\n",
            "Execution Time : 1128246.1250\n"
          ]
        },
        {
          "output_type": "display_data",
          "data": {
            "text/plain": [
              "<Figure size 432x288 with 1 Axes>"
            ],
            "image/png": "[encoded data removed]"
          },
          "metadata": {
            "needs_background": "light"
          }
        }
      ],
      "source": [
        "start = torch.cuda.Event(enable_timing=True)\n",
        "end = torch.cuda.Event(enable_timing=True)\n",
        "\n",
        "start.record()\n",
        "\n",
        "loss_plot = list()\n",
        "\n",
        "for epoch in range(num_epoch+1):\n",
        "\n",
        "    for batch_x, batch_y in train_label_dataloader:\n",
        "\n",
        "        batch_x = torch.reshape(batch_x, (batch_x.shape[0], 1, batch_x.shape[1])) #RuntimeError: For unbatched 2-D input, hx and cx should also be 2-D but got (3-D, 3-D) tensors\n",
        "        \n",
        "        batch_x = batch_x.to(device)\n",
        "        batch_y = batch_y.to(device)\n",
        "\n",
        "        optimizer2.zero_grad()\n",
        "        loss2 = loss_fn2(my_model_label(batch_x) , batch_y)\n",
        "        loss2.backward() \n",
        "        optimizer2.step()\n",
        "\n",
        "    if epoch % 50 == 0:\n",
        "         print(\"Epoch: %d, loss: %.4f\" % (epoch, loss2.item())) \n",
        "         loss_plot.append(loss2.item())         \n",
        "\n",
        "end.record()\n",
        "\n",
        "# Waits for everything to finish running\n",
        "torch.cuda.synchronize()\n",
        "\n",
        "print(\"Execution Time : %.4f\" % (start.elapsed_time(end)))\n",
        "\n",
        "plt.plot(range(len(loss_plot)),np.asarray(loss_plot))\n",
        "plt.show()"
      ]
    },
    {
      "cell_type": "markdown",
      "metadata": {
        "id": "Ig7VBqU0tfZd"
      },
      "source": [
        "# **test label with fake dataset**"
      ]
    },
    {
      "cell_type": "code",
      "execution_count": 18,
      "metadata": {
        "id": "a7u2bQ0WtiG2",
        "colab": {
          "base_uri": "https://localhost:8080/"
        },
        "outputId": "4745377d-a50f-4044-afb1-a79ede656b26"
      },
      "outputs": [
        {
          "output_type": "stream",
          "name": "stdout",
          "text": [
            "acc : 72.16%\n"
          ]
        }
      ],
      "source": [
        "dataset_label = Fake_DataSet_UNSWNB15_label(\"/content/drive/MyDrive/datasets/UNSW-NB15/fake_UNSW_NB15.csv\")\n",
        "number_of_test = int(len(dataset_label)*0.3)\n",
        "number_of_train = len(dataset_label) - int(len(dataset_label)*0.3)\n",
        "train_label ,test_label = random_split(dataset=dataset_label, lengths=[number_of_train,number_of_test])\n",
        "\n",
        "test_label_dataloader = DataLoader(dataset=test_label ,batch_size=batch_size ,shuffle=True)\n",
        "\n",
        "correct = 0\n",
        "y_test, yhat = list(), list()\n",
        "\n",
        "for batch_x, labl in test_label_dataloader:\n",
        "\n",
        "    batch_x = torch.reshape(batch_x, (batch_x.shape[0], 1, batch_x.shape[1])) #RuntimeError: For unbatched 2-D input, hx and cx should also be 2-D but got (3-D, 3-D) tensors\n",
        "\n",
        "    batch_x = batch_x.to(device)\n",
        "    labl = labl.to(device)\n",
        "  \n",
        "    out = my_model_label(batch_x)\n",
        "    _,predicted = torch.max(out,1)\n",
        "    correct += torch.sum(predicted == labl)\n",
        "\n",
        "    for i in labl.cpu().detach().numpy():\n",
        "        y_test.append(i)\n",
        "    for i in predicted.cpu().detach().numpy():\n",
        "        yhat.append(i) \n",
        "        \n",
        "print(\"acc : %.2f\" % (100.*correct / len(test_label)),end=\"\")\n",
        "print(\"%\")"
      ]
    },
    {
      "cell_type": "code",
      "source": [
        "# Compute confusion matrix\n",
        "cnf_matrix = confusion_matrix(y_test, yhat, labels=[1,0])\n",
        "np.set_printoptions(precision=2)\n",
        "\n",
        "# Plot non-normalized confusion matrix\n",
        "plt.figure()\n",
        "plot_confusion_matrix(cnf_matrix, classes=['attack=1','attack=0'],normalize= False,  title='Confusion matrix')"
      ],
      "metadata": {
        "id": "U7pONQOXI2ck",
        "colab": {
          "base_uri": "https://localhost:8080/",
          "height": 366
        },
        "outputId": "e42be57b-319d-41cc-c54d-2f96d4bedd0f"
      },
      "execution_count": 19,
      "outputs": [
        {
          "output_type": "stream",
          "name": "stdout",
          "text": [
            "Confusion matrix, without normalization\n",
            "[[5412 2088]\n",
            " [   0    0]]\n"
          ]
        },
        {
          "output_type": "display_data",
          "data": {
            "text/plain": [
              "<Figure size 432x288 with 2 Axes>"
            ],
            "image/png": "[encoded data removed]"
          },
          "metadata": {
            "needs_background": "light"
          }
        }
      ]
    },
    {
      "cell_type": "code",
      "source": [
        "print (classification_report(y_test, yhat))"
      ],
      "metadata": {
        "id": "YQVszS1pI3xi",
        "colab": {
          "base_uri": "https://localhost:8080/"
        },
        "outputId": "4f6e0dcf-36d5-46e1-bad3-b50cdac5cccb"
      },
      "execution_count": 20,
      "outputs": [
        {
          "output_type": "stream",
          "name": "stdout",
          "text": [
            "              precision    recall  f1-score   support\n",
            "\n",
            "           0       0.00      0.00      0.00         0\n",
            "           1       1.00      0.72      0.84      7500\n",
            "\n",
            "    accuracy                           0.72      7500\n",
            "   macro avg       0.50      0.36      0.42      7500\n",
            "weighted avg       1.00      0.72      0.84      7500\n",
            "\n"
          ]
        },
        {
          "output_type": "stream",
          "name": "stderr",
          "text": [
            "/usr/local/lib/python3.7/dist-packages/sklearn/metrics/_classification.py:1318: UndefinedMetricWarning: Recall and F-score are ill-defined and being set to 0.0 in labels with no true samples. Use `zero_division` parameter to control this behavior.\n",
            "  _warn_prf(average, modifier, msg_start, len(result))\n",
            "/usr/local/lib/python3.7/dist-packages/sklearn/metrics/_classification.py:1318: UndefinedMetricWarning: Recall and F-score are ill-defined and being set to 0.0 in labels with no true samples. Use `zero_division` parameter to control this behavior.\n",
            "  _warn_prf(average, modifier, msg_start, len(result))\n",
            "/usr/local/lib/python3.7/dist-packages/sklearn/metrics/_classification.py:1318: UndefinedMetricWarning: Recall and F-score are ill-defined and being set to 0.0 in labels with no true samples. Use `zero_division` parameter to control this behavior.\n",
            "  _warn_prf(average, modifier, msg_start, len(result))\n"
          ]
        }
      ]
    }
  ],
  "metadata": {
    "accelerator": "GPU",
    "colab": {
      "collapsed_sections": [],
      "provenance": []
    },
    "gpuClass": "standard",
    "kernelspec": {
      "display_name": "Python 3",
      "name": "python3"
    },
    "language_info": {
      "name": "python"
    }
  },
  "nbformat": 4,
  "nbformat_minor": 0
}