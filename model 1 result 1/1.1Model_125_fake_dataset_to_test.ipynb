{
  "cells": [
    {
      "cell_type": "code",
      "execution_count": 1,
      "metadata": {
        "id": "Ff1b4PxtBQuc"
      },
      "outputs": [],
      "source": [
        "num_epoch = 500      \n",
        "learning_rate = 0.002\n",
        "batch_size = 1000\n",
        "\n",
        "hidden_size = 16 #number of features in hidden state\n",
        "num_layers = 3  #number of stacked lstm layers\n",
        "bidirectional = True\n",
        "drop_out = 0\n",
        "bidirectional_forward_backward = 2 if bidirectional else 1\n",
        "\n",
        "input_size = 41 #number of features\n",
        "num_classes_attack_cat = 10 #number of output classes \n",
        "num_classes_label = 2       #number of output classes "
      ]
    },
    {
      "cell_type": "code",
      "source": [
        "from google.colab import drive\n",
        "drive.mount('/content/drive')"
      ],
      "metadata": {
        "colab": {
          "base_uri": "https://localhost:8080/"
        },
        "id": "0Gua0hky6SDJ",
        "outputId": "d8429c29-b2ef-4d62-e979-713ab0d8cff4"
      },
      "execution_count": 2,
      "outputs": [
        {
          "output_type": "stream",
          "name": "stdout",
          "text": [
            "Mounted at /content/drive\n"
          ]
        }
      ]
    },
    {
      "cell_type": "code",
      "execution_count": 3,
      "metadata": {
        "id": "hZiaj4uT24DH",
        "colab": {
          "base_uri": "https://localhost:8080/"
        },
        "outputId": "52e45760-7524-4ab0-9bf7-e6f3e92bcb8d"
      },
      "outputs": [
        {
          "output_type": "stream",
          "name": "stdout",
          "text": [
            "GPU\n"
          ]
        }
      ],
      "source": [
        "import pandas as pd\n",
        "from matplotlib import pyplot as plt\n",
        "import numpy as np\n",
        "from torch.utils.data.dataset import Dataset\n",
        "from torch.utils.data import random_split, DataLoader\n",
        "import torch\n",
        "from sklearn.preprocessing import LabelEncoder\n",
        "from sklearn import preprocessing\n",
        "import torch.nn as nn\n",
        "import torch.nn.functional as F\n",
        "import torch.optim as opt\n",
        "from torch.autograd import Variable \n",
        "\n",
        "# GPU OR CPU\n",
        "if torch.cuda.is_available():\n",
        "    device = torch.device(\"cuda:0\")\n",
        "    print(\"GPU\")\n",
        "else:\n",
        "    device = torch.device(\"cpu\")\n",
        "    print(\"CPU\")"
      ]
    },
    {
      "cell_type": "code",
      "execution_count": 4,
      "metadata": {
        "id": "Sv-R_m6Z1EL5"
      },
      "outputs": [],
      "source": [
        "class Fake_DataSet_UNSWNB15_attack_cat(Dataset):\n",
        "\n",
        "    def __init__(self,data_set_path):\n",
        "        df = pd.read_csv(data_set_path)\n",
        "\n",
        "        # preprocceing\n",
        "        df.drop([\"label\"], axis=1, inplace=True)\n",
        "\n",
        "        self.data_array = df.values\n",
        "        self.x = self.data_array[:, :41]\n",
        "        self.y = self.data_array[:, 41]\n",
        "        \n",
        "        # normalaized data\n",
        "        scaler = preprocessing.StandardScaler().fit(self.x)\n",
        "        self.x = scaler.transform(self.x)\n",
        "\n",
        "        self.x = torch.tensor(self.x).float()\n",
        "        self.y = torch.tensor(self.y).long()\n",
        "\n",
        "    def __len__(self):\n",
        "        return len(self.data_array)\n",
        "\n",
        "    def __getitem__(self, item):\n",
        "        sample = (self.x[item, :], self.y[item])\n",
        "        return sample\n",
        "\n",
        "class Fake_DataSet_UNSWNB15_label(Dataset):\n",
        "\n",
        "    def __init__(self,data_set_path):\n",
        "        df = pd.read_csv(data_set_path)\n",
        "\n",
        "        # preprocceing\n",
        "        df.drop([\"attack_cat\"], axis=1, inplace=True)\n",
        "\n",
        "        self.data_array = df.values\n",
        "        self.x = self.data_array[:, :41]\n",
        "        self.y = self.data_array[:, 41]\n",
        "        \n",
        "        # normalaized data\n",
        "        scaler = preprocessing.StandardScaler().fit(self.x)\n",
        "        self.x = scaler.transform(self.x)\n",
        "\n",
        "        self.x = torch.tensor(self.x).float()\n",
        "        self.y = torch.tensor(self.y).long()\n",
        "\n",
        "    def __len__(self):\n",
        "        return len(self.data_array)\n",
        "\n",
        "    def __getitem__(self, item):\n",
        "        sample = (self.x[item, :], self.y[item])\n",
        "        return sample\n",
        "\n",
        "class DataSet_UNSWNB15_attack_cat(Dataset):\n",
        "\n",
        "    def __init__(self,data_set_path):\n",
        "        df = pd.read_csv(data_set_path)\n",
        "        print(df.attack_cat.value_counts().sort_values().plot(kind = \"barh\"))\n",
        "        print(df['attack_cat'].value_counts())\n",
        "\n",
        "        # preprocceing\n",
        "        df.drop(['id',\"Unnamed: 0\",\"service\",\"label\"], axis=1, inplace=True)        \n",
        "        cols = ['attack_cat' ,'proto' ,'state']\n",
        "        df[cols] = df[cols].apply(LabelEncoder().fit_transform)\n",
        "        print(df['attack_cat'].value_counts())\n",
        "\n",
        "        self.data_array = df.values\n",
        "        self.x = self.data_array[:, :41]\n",
        "        self.y = self.data_array[:, 41]\n",
        "      \n",
        "        # normalaized data\n",
        "        scaler = preprocessing.StandardScaler().fit(self.x)\n",
        "        self.x = scaler.transform(self.x)\n",
        "\n",
        "        self.x = torch.tensor(self.x).float()\n",
        "        self.y = torch.tensor(self.y).long()\n",
        "\n",
        "    def __len__(self):\n",
        "        return len(self.data_array)\n",
        "\n",
        "    def __getitem__(self, item):\n",
        "        sample = (self.x[item, :], self.y[item])\n",
        "        return sample\n",
        "\n",
        "        \n",
        "class DataSet_UNSWNB15_label(Dataset):\n",
        "\n",
        "    def __init__(self,data_set_path):\n",
        "        df = pd.read_csv(data_set_path)\n",
        "        print(df.label.value_counts().sort_values().plot(kind = \"pie\"))\n",
        "\n",
        "        # preprocceing\n",
        "        df.drop(['id',\"Unnamed: 0\",\"service\",\"attack_cat\"], axis=1, inplace=True)\n",
        "        cols = ['proto' ,'state']\n",
        "        df[cols] = df[cols].apply(LabelEncoder().fit_transform)\n",
        "\n",
        "        self.data_array = df.values\n",
        "        self.x = self.data_array[:, :41]\n",
        "        self.y = self.data_array[:, 41]\n",
        "        \n",
        "        # normalaized data\n",
        "        scaler = preprocessing.StandardScaler().fit(self.x)\n",
        "        self.x = scaler.transform(self.x)\n",
        "\n",
        "        self.x = torch.tensor(self.x).float()\n",
        "        self.y = torch.tensor(self.y).long()\n",
        "\n",
        "    def __len__(self):\n",
        "        return len(self.data_array)\n",
        "\n",
        "    def __getitem__(self, item):\n",
        "        sample = (self.x[item, :], self.y[item])\n",
        "        return sample"
      ]
    },
    {
      "cell_type": "code",
      "execution_count": 5,
      "metadata": {
        "id": "UykLrbQZ1R7K",
        "colab": {
          "base_uri": "https://localhost:8080/",
          "height": 689
        },
        "outputId": "566e4218-cbf3-42f7-b63e-8c68c9f25931"
      },
      "outputs": [
        {
          "output_type": "stream",
          "name": "stdout",
          "text": [
            "AxesSubplot(0.125,0.125;0.775x0.755)\n",
            "Normal            93000\n",
            "Generic           58871\n",
            "Exploits          44525\n",
            "Fuzzers           24246\n",
            "DoS               16353\n",
            "Reconnaissance    13987\n",
            "Analysis           2677\n",
            "Backdoor           2329\n",
            "Shellcode          1511\n",
            "Worms               174\n",
            "Name: attack_cat, dtype: int64\n",
            "6    93000\n",
            "5    58871\n",
            "3    44525\n",
            "4    24246\n",
            "2    16353\n",
            "7    13987\n",
            "0     2677\n",
            "1     2329\n",
            "8     1511\n",
            "9      174\n",
            "Name: attack_cat, dtype: int64\n"
          ]
        },
        {
          "output_type": "display_data",
          "data": {
            "text/plain": [
              "<Figure size 432x288 with 1 Axes>"
            ],
            "image/png": "[encoded data removed]"
          },
          "metadata": {
            "needs_background": "light"
          }
        }
      ],
      "source": [
        "dataset_attack_cat = DataSet_UNSWNB15_attack_cat(\"/content/drive/MyDrive/datasets/UNSW-NB15/UNSW_NB15.csv\")\n",
        "number_of_test = int(len(dataset_attack_cat)*0.3)\n",
        "number_of_train = len(dataset_attack_cat) - int(len(dataset_attack_cat)*0.3)\n",
        "train_attack_cat ,test_attack_cat = random_split(dataset=dataset_attack_cat, lengths=[number_of_train,number_of_test])\n",
        "\n",
        "train_attack_cat_dataloader = DataLoader(dataset=train_attack_cat ,batch_size=batch_size ,shuffle=True)\n",
        "test_attack_cat_dataloader = DataLoader(dataset=test_attack_cat ,batch_size=batch_size ,shuffle=True)"
      ]
    },
    {
      "cell_type": "code",
      "execution_count": 6,
      "metadata": {
        "id": "LmFY9Q-u29T3",
        "colab": {
          "base_uri": "https://localhost:8080/",
          "height": 266
        },
        "outputId": "cbefe5d6-f055-40da-dcec-bb0a339efe0f"
      },
      "outputs": [
        {
          "output_type": "stream",
          "name": "stdout",
          "text": [
            "AxesSubplot(0.260833,0.125;0.503333x0.755)\n"
          ]
        },
        {
          "output_type": "display_data",
          "data": {
            "text/plain": [
              "<Figure size 432x288 with 1 Axes>"
            ],
            "image/png": "[encoded data removed]"
          },
          "metadata": {}
        }
      ],
      "source": [
        "dataset_label = DataSet_UNSWNB15_label(\"/content/drive/MyDrive/datasets/UNSW-NB15/UNSW_NB15.csv\")\n",
        "number_of_test = int(len(dataset_label)*0.3)\n",
        "number_of_train = len(dataset_label) - int(len(dataset_label)*0.3)\n",
        "train_label ,test_label = random_split(dataset=dataset_label, lengths=[number_of_train,number_of_test])\n",
        "\n",
        "train_label_dataloader = DataLoader(dataset=train_label ,batch_size=batch_size ,shuffle=True)\n",
        "test_label_dataloader = DataLoader(dataset=test_label ,batch_size=batch_size ,shuffle=True)"
      ]
    },
    {
      "cell_type": "markdown",
      "metadata": {
        "id": "0HslPLv2IOGd"
      },
      "source": [
        "# **preprocessing ended**\n",
        "\n",
        "# **create model**"
      ]
    },
    {
      "cell_type": "markdown",
      "source": [
        "![bilstm-1.webp](data:image/webp;base64,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)"
      ],
      "metadata": {
        "id": "F2hNvBs6qBQS"
      }
    },
    {
      "cell_type": "code",
      "execution_count": 7,
      "metadata": {
        "id": "oN6DuQbJibuE"
      },
      "outputs": [],
      "source": [
        "class LSTM_Model_attack(nn.Module):\n",
        "    def __init__(self, num_classes, input_size, hidden_size, num_layers):\n",
        "        super(LSTM_Model_attack, self).__init__()\n",
        "        self.num_classes = num_classes #number of classes\n",
        "        self.num_layers = num_layers #number of layers\n",
        "        self.input_size = input_size #input size\n",
        "        self.hidden_size = hidden_size #hidden state\n",
        "\n",
        "        self.lstm = nn.LSTM(input_size=input_size, hidden_size=hidden_size, num_layers=num_layers, batch_first=True,\n",
        "                            bidirectional=bidirectional, dropout=drop_out) #lstm\n",
        "\n",
        "        self.fc = nn.Linear(hidden_size * bidirectional_forward_backward, num_classes) #fully connected last layer\n",
        "                             # 2 => forward and backward for bidirectional\n",
        "    \n",
        "    def forward(self,x):\n",
        "                                                # 2 => forward and backward for bidirectional\n",
        "        h_0 = Variable(torch.zeros(self.num_layers * bidirectional_forward_backward, x.size(0), self.hidden_size)).to(device=device) #hidden state\n",
        "        c_0 = Variable(torch.zeros(self.num_layers * bidirectional_forward_backward, x.size(0), self.hidden_size)).to(device=device) #internal state\n",
        "\n",
        "        out, (hn, cn) = self.lstm(x, (h_0, c_0))\n",
        "        out = self.fc(out[:, -1, :]) \n",
        "        return out\n",
        "\n",
        "\n",
        "class LSTM_Model_label(nn.Module):\n",
        "    def __init__(self, num_classes, input_size, hidden_size, num_layers):\n",
        "        super(LSTM_Model_label, self).__init__()\n",
        "        self.num_classes = num_classes #number of classes\n",
        "        self.num_layers = num_layers #number of layers\n",
        "        self.input_size = input_size #input size\n",
        "        self.hidden_size = hidden_size #hidden state\n",
        "\n",
        "        self.lstm = nn.LSTM(input_size=input_size, hidden_size=hidden_size, num_layers=num_layers, batch_first=True, \n",
        "                            bidirectional=bidirectional, dropout=drop_out) #lstm\n",
        "\n",
        "        self.fc = nn.Linear(hidden_size * bidirectional_forward_backward, num_classes) #fully connected last layer\n",
        "\n",
        "    \n",
        "    def forward(self,x):\n",
        "        h_0 = Variable(torch.zeros(self.num_layers * bidirectional_forward_backward, x.size(0), self.hidden_size)).to(device=device) #hidden state\n",
        "        c_0 = Variable(torch.zeros(self.num_layers * bidirectional_forward_backward, x.size(0), self.hidden_size)).to(device=device) #internal state\n",
        "\n",
        "        out, (hn, cn) = self.lstm(x, (h_0, c_0))\n",
        "        out = self.fc(out[:, -1, :]) \n",
        "        return out\n"
      ]
    },
    {
      "cell_type": "code",
      "execution_count": 8,
      "metadata": {
        "id": "US8JfNI8j3zO",
        "colab": {
          "base_uri": "https://localhost:8080/"
        },
        "outputId": "3c149534-6d29-48ec-e345-4c9e1983fefe"
      },
      "outputs": [
        {
          "output_type": "execute_result",
          "data": {
            "text/plain": [
              "LSTM_Model_attack(\n",
              "  (lstm): LSTM(41, 16, num_layers=3, batch_first=True, bidirectional=True)\n",
              "  (fc): Linear(in_features=32, out_features=10, bias=True)\n",
              ")"
            ]
          },
          "metadata": {},
          "execution_count": 8
        }
      ],
      "source": [
        "my_model_attack = LSTM_Model_attack(num_classes_attack_cat, input_size, hidden_size, num_layers).to(device=device)\n",
        "my_model_attack"
      ]
    },
    {
      "cell_type": "code",
      "source": [
        "my_model_attack.state_dict()"
      ],
      "metadata": {
        "id": "Dq8JkQZ9ukCs",
        "colab": {
          "base_uri": "https://localhost:8080/"
        },
        "outputId": "8c10dc69-e4ad-4d43-dbf4-df077601eebf"
      },
      "execution_count": 9,
      "outputs": [
        {
          "output_type": "execute_result",
          "data": {
            "text/plain": [
              "OrderedDict([('lstm.weight_ih_l0',\n",
              "              tensor([[ 0.1297, -0.0661, -0.1727,  ..., -0.2222,  0.0579, -0.1982],\n",
              "                      [ 0.1941, -0.1632,  0.2121,  ...,  0.2073,  0.1871, -0.2355],\n",
              "                      [-0.1160, -0.0620, -0.2092,  ..., -0.0237, -0.1911, -0.1910],\n",
              "                      ...,\n",
              "                      [ 0.0605,  0.2269,  0.0763,  ..., -0.1194, -0.0064,  0.0128],\n",
              "                      [-0.0703,  0.2039,  0.1918,  ...,  0.0429, -0.0511,  0.2261],\n",
              "                      [-0.1247, -0.1142, -0.0586,  ..., -0.0808, -0.2421,  0.1842]],\n",
              "                     device='cuda:0')),\n",
              "             ('lstm.weight_hh_l0',\n",
              "              tensor([[ 0.2284, -0.1631,  0.0364,  ...,  0.1375, -0.1366,  0.0931],\n",
              "                      [ 0.1870, -0.0321,  0.1526,  ...,  0.0694, -0.0731, -0.2480],\n",
              "                      [-0.2252,  0.2438, -0.0060,  ...,  0.1274, -0.0837, -0.0096],\n",
              "                      ...,\n",
              "                      [-0.2402, -0.0859,  0.2465,  ...,  0.1539, -0.0480, -0.0771],\n",
              "                      [-0.2259,  0.0554, -0.2284,  ..., -0.1684, -0.1902, -0.2195],\n",
              "                      [-0.2058, -0.1472,  0.2471,  ..., -0.0288,  0.1092,  0.1032]],\n",
              "                     device='cuda:0')),\n",
              "             ('lstm.bias_ih_l0',\n",
              "              tensor([-0.2424, -0.2189, -0.1951,  0.0171,  0.1190, -0.1085, -0.1257, -0.1650,\n",
              "                       0.1757,  0.1413, -0.1324, -0.1155, -0.1977,  0.1853,  0.1152, -0.0120,\n",
              "                      -0.2315,  0.1140,  0.1458,  0.0923,  0.1982,  0.1123, -0.1995,  0.1029,\n",
              "                      -0.2420,  0.2192,  0.0472,  0.1733,  0.2386,  0.1006, -0.0033,  0.0424,\n",
              "                      -0.1739,  0.1709, -0.2330, -0.2231,  0.0272, -0.2311, -0.0687,  0.2020,\n",
              "                       0.1174, -0.0953, -0.1893, -0.0654, -0.1853, -0.2174,  0.0475,  0.1974,\n",
              "                       0.2158,  0.1261, -0.1767,  0.1895, -0.1879, -0.0243,  0.1757, -0.0366,\n",
              "                       0.0518, -0.0943,  0.1227, -0.1849,  0.0425,  0.0498, -0.1471, -0.0948],\n",
              "                     device='cuda:0')),\n",
              "             ('lstm.bias_hh_l0',\n",
              "              tensor([ 0.1525,  0.0959, -0.0867,  0.0202, -0.1798,  0.1601, -0.0085,  0.2137,\n",
              "                      -0.2000, -0.0885, -0.1997,  0.0416, -0.0998, -0.1974, -0.0675, -0.1716,\n",
              "                      -0.1066,  0.0840, -0.1527,  0.1432, -0.1979, -0.1778,  0.1191, -0.0452,\n",
              "                       0.0409, -0.0758,  0.0496,  0.0893,  0.0487,  0.0563,  0.0033, -0.0581,\n",
              "                      -0.1820,  0.1830,  0.2285, -0.1041, -0.1052,  0.2152, -0.1935,  0.0733,\n",
              "                      -0.0554,  0.0492, -0.2382,  0.0703, -0.1871, -0.0694,  0.0406, -0.0082,\n",
              "                       0.1714,  0.1833, -0.0141, -0.2253, -0.0990, -0.2108,  0.1823, -0.0276,\n",
              "                      -0.0544, -0.0145, -0.0035,  0.1358, -0.0411, -0.1375,  0.1846,  0.1106],\n",
              "                     device='cuda:0')),\n",
              "             ('lstm.weight_ih_l0_reverse',\n",
              "              tensor([[-0.2398,  0.1039, -0.0076,  ..., -0.1241, -0.0352, -0.1776],\n",
              "                      [ 0.0614, -0.1179, -0.1572,  ...,  0.0673,  0.1024,  0.1067],\n",
              "                      [-0.2478,  0.1014, -0.1764,  ..., -0.0119, -0.1719,  0.0914],\n",
              "                      ...,\n",
              "                      [-0.0746,  0.2437, -0.2301,  ..., -0.1203, -0.1932, -0.2378],\n",
              "                      [-0.1351,  0.0787,  0.0005,  ..., -0.1197,  0.0004, -0.1348],\n",
              "                      [ 0.1458, -0.1369, -0.1596,  ..., -0.0127, -0.1103, -0.0750]],\n",
              "                     device='cuda:0')),\n",
              "             ('lstm.weight_hh_l0_reverse',\n",
              "              tensor([[ 0.0427,  0.0092, -0.1505,  ..., -0.0246,  0.2061,  0.2465],\n",
              "                      [-0.1110, -0.1511,  0.1920,  ...,  0.0058,  0.1674,  0.2276],\n",
              "                      [-0.2093, -0.0027,  0.1797,  ...,  0.2283, -0.1976, -0.1214],\n",
              "                      ...,\n",
              "                      [-0.1319, -0.1434, -0.1364,  ..., -0.1180, -0.1550,  0.0559],\n",
              "                      [-0.1261, -0.0701,  0.0016,  ...,  0.0888,  0.0591, -0.0523],\n",
              "                      [ 0.0319, -0.1267,  0.2500,  ...,  0.1336,  0.0716, -0.0393]],\n",
              "                     device='cuda:0')),\n",
              "             ('lstm.bias_ih_l0_reverse',\n",
              "              tensor([ 0.0428,  0.1276, -0.1806,  0.1802, -0.0705,  0.2079,  0.0939,  0.1082,\n",
              "                       0.1157,  0.0276, -0.0535,  0.1239,  0.0783,  0.0785,  0.1162,  0.2078,\n",
              "                      -0.0266,  0.1023, -0.2132,  0.2091,  0.2358, -0.1877,  0.2404, -0.0872,\n",
              "                       0.0548, -0.0808,  0.1386,  0.0891,  0.1765,  0.1412, -0.2265, -0.1672,\n",
              "                       0.2329, -0.0316,  0.1860, -0.0970,  0.1939,  0.1245, -0.1006,  0.0466,\n",
              "                      -0.1568, -0.2191,  0.1358,  0.1498, -0.0811, -0.1910,  0.2243, -0.0848,\n",
              "                      -0.0986,  0.1543, -0.1590, -0.0805,  0.0208, -0.2425, -0.0917,  0.1802,\n",
              "                       0.1761, -0.2265, -0.2338, -0.1465, -0.0418,  0.1975,  0.1825, -0.1139],\n",
              "                     device='cuda:0')),\n",
              "             ('lstm.bias_hh_l0_reverse',\n",
              "              tensor([ 0.0437, -0.0094, -0.0920, -0.1172, -0.1087,  0.2390, -0.2479,  0.0566,\n",
              "                      -0.2222, -0.1848,  0.0907, -0.2429,  0.1647,  0.0895, -0.0190,  0.1395,\n",
              "                       0.2398,  0.1447, -0.2394, -0.1496, -0.2180, -0.2441,  0.1419, -0.1516,\n",
              "                       0.1807,  0.0971, -0.1417, -0.1429,  0.1398, -0.0685, -0.1328, -0.0694,\n",
              "                       0.1952,  0.1132, -0.1000, -0.0115, -0.0281, -0.0883, -0.1349, -0.1968,\n",
              "                      -0.0056, -0.2379,  0.1581, -0.0939, -0.0827, -0.1175, -0.0127,  0.2162,\n",
              "                       0.1801,  0.0654,  0.1307, -0.2426, -0.1832,  0.2346, -0.1668, -0.2145,\n",
              "                       0.2234,  0.2321,  0.1724,  0.0222, -0.0449,  0.1687, -0.1414, -0.0682],\n",
              "                     device='cuda:0')),\n",
              "             ('lstm.weight_ih_l1',\n",
              "              tensor([[ 0.1092,  0.0218, -0.2247,  ...,  0.2368,  0.1372,  0.0180],\n",
              "                      [-0.0305,  0.1608,  0.0191,  ...,  0.0697,  0.2463,  0.1082],\n",
              "                      [-0.1165,  0.1974,  0.0998,  ...,  0.1362, -0.1947,  0.1693],\n",
              "                      ...,\n",
              "                      [-0.1575,  0.0733,  0.1727,  ...,  0.1401, -0.2055,  0.0838],\n",
              "                      [ 0.0540, -0.1953,  0.0311,  ...,  0.0392,  0.1289, -0.2143],\n",
              "                      [-0.0541, -0.2217,  0.2377,  ...,  0.1877,  0.2137,  0.1136]],\n",
              "                     device='cuda:0')),\n",
              "             ('lstm.weight_hh_l1',\n",
              "              tensor([[-0.2016,  0.0533, -0.1504,  ..., -0.0247,  0.1877, -0.0063],\n",
              "                      [ 0.1242,  0.1131,  0.2272,  ...,  0.0563,  0.0198,  0.2051],\n",
              "                      [-0.1837, -0.0681, -0.0955,  ..., -0.1600, -0.2348,  0.0789],\n",
              "                      ...,\n",
              "                      [ 0.1254,  0.1163, -0.1287,  ...,  0.1151, -0.1309,  0.2292],\n",
              "                      [ 0.0344, -0.1446,  0.2023,  ...,  0.1221,  0.2322,  0.0910],\n",
              "                      [ 0.2173,  0.2308, -0.1868,  ...,  0.1899, -0.1036,  0.0998]],\n",
              "                     device='cuda:0')),\n",
              "             ('lstm.bias_ih_l1',\n",
              "              tensor([ 0.1024,  0.2310,  0.0334,  0.0481,  0.2177,  0.0198, -0.2368, -0.2237,\n",
              "                      -0.0222, -0.1316, -0.1130, -0.0992, -0.1078,  0.1487,  0.0849,  0.0770,\n",
              "                      -0.0502, -0.2349,  0.0827,  0.0219,  0.0023, -0.1085,  0.1294, -0.0540,\n",
              "                      -0.1073,  0.1229,  0.0175, -0.1312,  0.1056,  0.2021,  0.1682,  0.0583,\n",
              "                       0.2377, -0.1733,  0.0659, -0.1115,  0.0026,  0.0605, -0.0402, -0.1930,\n",
              "                      -0.0791,  0.1446, -0.2106, -0.2163, -0.0218,  0.2054, -0.1379, -0.1540,\n",
              "                      -0.2286, -0.2365, -0.1402,  0.2116, -0.0541,  0.1251,  0.1206, -0.0314,\n",
              "                       0.1004, -0.1952,  0.0719,  0.1805, -0.1059,  0.1374, -0.2240, -0.2014],\n",
              "                     device='cuda:0')),\n",
              "             ('lstm.bias_hh_l1',\n",
              "              tensor([-0.1932,  0.2345, -0.0716, -0.1398, -0.1445,  0.2239,  0.1919,  0.0250,\n",
              "                       0.0240, -0.0664,  0.0498, -0.0713,  0.1055, -0.1653,  0.2347, -0.0327,\n",
              "                      -0.0428,  0.0265,  0.0533, -0.1109, -0.0235, -0.1095,  0.1024,  0.0656,\n",
              "                      -0.0761, -0.0597,  0.2251,  0.2219,  0.0660, -0.1544,  0.0820, -0.0151,\n",
              "                      -0.1982,  0.1734, -0.0373, -0.0155,  0.1204,  0.0073, -0.1967,  0.0851,\n",
              "                       0.2124,  0.2157,  0.1323, -0.2063,  0.0030,  0.2141, -0.1841, -0.1053,\n",
              "                      -0.2219, -0.1793, -0.0397,  0.1968,  0.2361, -0.2342,  0.2140, -0.0023,\n",
              "                       0.1026, -0.1600,  0.1141, -0.1885,  0.1349, -0.1805,  0.0231, -0.1348],\n",
              "                     device='cuda:0')),\n",
              "             ('lstm.weight_ih_l1_reverse',\n",
              "              tensor([[-0.0940, -0.0332, -0.1180,  ...,  0.0410,  0.2021, -0.0237],\n",
              "                      [-0.0802,  0.1506,  0.0900,  ..., -0.0307,  0.1721,  0.1685],\n",
              "                      [-0.0035,  0.0778,  0.2270,  ...,  0.2411,  0.1987,  0.0501],\n",
              "                      ...,\n",
              "                      [ 0.0013,  0.2002,  0.1612,  ..., -0.0422, -0.1850, -0.2119],\n",
              "                      [-0.2389,  0.1867, -0.1357,  ..., -0.2369, -0.0039,  0.1060],\n",
              "                      [ 0.0088,  0.1157,  0.2457,  ..., -0.1197, -0.2422, -0.0949]],\n",
              "                     device='cuda:0')),\n",
              "             ('lstm.weight_hh_l1_reverse',\n",
              "              tensor([[-0.1388,  0.1312, -0.0987,  ...,  0.1223,  0.0492,  0.1071],\n",
              "                      [ 0.1300, -0.2081,  0.0267,  ..., -0.1558, -0.0520,  0.1809],\n",
              "                      [ 0.1193, -0.2081, -0.1461,  ..., -0.1586,  0.1853,  0.0101],\n",
              "                      ...,\n",
              "                      [ 0.0401, -0.1184, -0.1440,  ..., -0.1355,  0.2311, -0.1911],\n",
              "                      [-0.1991,  0.0660,  0.1932,  ...,  0.0228, -0.1560,  0.2235],\n",
              "                      [-0.1872, -0.1410, -0.0324,  ...,  0.0473,  0.2242,  0.2320]],\n",
              "                     device='cuda:0')),\n",
              "             ('lstm.bias_ih_l1_reverse',\n",
              "              tensor([-6.9795e-02,  3.7464e-02,  1.4200e-01,  1.6784e-01,  1.5234e-01,\n",
              "                       2.4620e-01,  3.1910e-02,  1.9906e-01,  1.4678e-01, -8.5976e-02,\n",
              "                       2.4993e-01, -1.1737e-01, -3.1000e-02, -1.3757e-01,  1.0911e-01,\n",
              "                      -8.5593e-02,  2.0720e-01,  1.7923e-01,  1.2208e-01,  2.1730e-01,\n",
              "                      -2.2484e-01,  1.5701e-01, -5.4044e-02,  1.0215e-01,  2.2866e-01,\n",
              "                       1.2235e-01,  1.2596e-01, -2.2016e-01, -1.8649e-01,  2.3753e-01,\n",
              "                       3.4612e-02,  1.8522e-01,  1.1993e-01,  2.2685e-01,  1.2738e-01,\n",
              "                      -8.6310e-02, -2.3078e-01, -2.3782e-01,  1.6025e-01, -2.4401e-01,\n",
              "                      -2.3585e-02, -2.1996e-01,  9.7242e-02,  1.4217e-01,  1.1357e-01,\n",
              "                      -1.9709e-01, -1.3933e-02, -2.1621e-01,  2.0213e-01, -4.0814e-02,\n",
              "                      -7.9999e-02, -2.3432e-01, -1.9875e-01,  1.3824e-02,  1.0290e-01,\n",
              "                      -3.9459e-03,  1.0901e-01, -9.2645e-02,  2.4961e-01,  6.1325e-02,\n",
              "                       1.1584e-02, -7.2420e-06,  1.4992e-01,  4.0541e-02], device='cuda:0')),\n",
              "             ('lstm.bias_hh_l1_reverse',\n",
              "              tensor([ 0.0223,  0.1298,  0.0442, -0.0332, -0.1635,  0.1273,  0.2290, -0.0157,\n",
              "                       0.1355, -0.0635,  0.1094, -0.1477, -0.0754, -0.0887, -0.0176,  0.0926,\n",
              "                       0.2253,  0.0909,  0.2425,  0.2306, -0.0569, -0.1202, -0.0238,  0.1807,\n",
              "                       0.0886,  0.1512, -0.2306, -0.2186, -0.0225,  0.2077,  0.0332,  0.0963,\n",
              "                       0.2493, -0.1328,  0.0158,  0.0259, -0.0039, -0.0447,  0.0982,  0.2278,\n",
              "                      -0.0939, -0.2078, -0.2434, -0.1539,  0.2299,  0.1104,  0.1394,  0.2387,\n",
              "                      -0.2106, -0.1586,  0.0606, -0.1126, -0.0607, -0.0529,  0.1119,  0.2272,\n",
              "                       0.0518,  0.0132,  0.2260, -0.1672, -0.2126,  0.2395, -0.0744,  0.1662],\n",
              "                     device='cuda:0')),\n",
              "             ('lstm.weight_ih_l2',\n",
              "              tensor([[ 0.0387, -0.2205,  0.2070,  ...,  0.2341,  0.0543,  0.0906],\n",
              "                      [ 0.1617, -0.0292, -0.1297,  ..., -0.1128,  0.0795,  0.2326],\n",
              "                      [-0.0648, -0.0566, -0.1520,  ...,  0.0248,  0.0055,  0.0632],\n",
              "                      ...,\n",
              "                      [-0.0114, -0.1127,  0.2318,  ..., -0.0391,  0.0843, -0.2283],\n",
              "                      [ 0.0167, -0.2352,  0.1212,  ...,  0.0809,  0.0095,  0.1704],\n",
              "                      [ 0.1094, -0.1664, -0.2332,  ..., -0.1782, -0.0718,  0.1419]],\n",
              "                     device='cuda:0')),\n",
              "             ('lstm.weight_hh_l2',\n",
              "              tensor([[-0.2017, -0.0133,  0.1308,  ..., -0.1639,  0.2304, -0.1664],\n",
              "                      [-0.1342, -0.2022, -0.0365,  ..., -0.0840,  0.2176, -0.2261],\n",
              "                      [-0.0280, -0.1820,  0.1252,  ...,  0.0157,  0.0848, -0.0094],\n",
              "                      ...,\n",
              "                      [ 0.1642,  0.2325, -0.0565,  ..., -0.2045,  0.1773, -0.0776],\n",
              "                      [-0.2371,  0.0043, -0.1131,  ..., -0.2277,  0.0678,  0.1606],\n",
              "                      [ 0.2018, -0.0196,  0.1580,  ...,  0.1305, -0.2489,  0.0473]],\n",
              "                     device='cuda:0')),\n",
              "             ('lstm.bias_ih_l2',\n",
              "              tensor([ 0.1390, -0.1092,  0.1941, -0.0386,  0.0519,  0.0146,  0.2053,  0.1694,\n",
              "                      -0.2124, -0.1351,  0.0603, -0.0941, -0.2179,  0.1579, -0.0963,  0.0982,\n",
              "                      -0.0295,  0.1750, -0.2478, -0.0786, -0.0597, -0.1613, -0.0527,  0.1919,\n",
              "                       0.1679, -0.1628,  0.0564, -0.1204,  0.0897,  0.1147, -0.0372,  0.0193,\n",
              "                      -0.2425, -0.1184, -0.1412,  0.1072, -0.2320, -0.1844,  0.1267,  0.0951,\n",
              "                      -0.1061,  0.0944, -0.1417, -0.2400, -0.0206, -0.0580, -0.1211, -0.1672,\n",
              "                       0.1677, -0.0396,  0.1289, -0.1380, -0.1053,  0.0661, -0.1714,  0.0791,\n",
              "                       0.1243,  0.0369,  0.2338, -0.1709, -0.1008, -0.2438,  0.1446,  0.0411],\n",
              "                     device='cuda:0')),\n",
              "             ('lstm.bias_hh_l2',\n",
              "              tensor([ 0.0963, -0.0178,  0.2260, -0.0153, -0.0975,  0.1413,  0.2482, -0.1428,\n",
              "                      -0.2482, -0.1618, -0.2333, -0.1117,  0.0962, -0.1454,  0.0622,  0.0523,\n",
              "                       0.0253,  0.0932,  0.0332, -0.0796, -0.0257,  0.0059,  0.2446,  0.0610,\n",
              "                      -0.2077,  0.1953, -0.1184,  0.1343,  0.2234,  0.0849, -0.1390,  0.2149,\n",
              "                       0.1622, -0.1336, -0.2123, -0.0450, -0.1683, -0.0627,  0.1333,  0.2098,\n",
              "                       0.2450,  0.0574,  0.1810, -0.1944, -0.0703,  0.2053, -0.2310,  0.1239,\n",
              "                      -0.0281,  0.0091,  0.0841,  0.2314, -0.0245,  0.0626,  0.0915, -0.1783,\n",
              "                       0.0322, -0.2116, -0.1135,  0.1361, -0.1854,  0.2034,  0.2398,  0.1009],\n",
              "                     device='cuda:0')),\n",
              "             ('lstm.weight_ih_l2_reverse',\n",
              "              tensor([[-0.1609,  0.1456, -0.0313,  ..., -0.2317,  0.2407,  0.1597],\n",
              "                      [ 0.0174,  0.2382, -0.2233,  ...,  0.0464,  0.0828,  0.0550],\n",
              "                      [-0.2283, -0.0289, -0.2179,  ...,  0.1249, -0.0601,  0.0113],\n",
              "                      ...,\n",
              "                      [ 0.1592, -0.0414,  0.2212,  ..., -0.0194,  0.2127, -0.0548],\n",
              "                      [ 0.1934, -0.0695, -0.1506,  ..., -0.2271, -0.0155,  0.1966],\n",
              "                      [ 0.0306, -0.1602,  0.0171,  ...,  0.2466,  0.1367,  0.2334]],\n",
              "                     device='cuda:0')),\n",
              "             ('lstm.weight_hh_l2_reverse',\n",
              "              tensor([[ 0.1121,  0.2250,  0.0584,  ..., -0.2251,  0.2067,  0.1664],\n",
              "                      [-0.2004,  0.0212, -0.1535,  ...,  0.1002, -0.2234, -0.2469],\n",
              "                      [-0.1867,  0.1872,  0.0038,  ..., -0.0849, -0.1566,  0.0745],\n",
              "                      ...,\n",
              "                      [ 0.0215,  0.1355,  0.1841,  ..., -0.0780, -0.1145, -0.2250],\n",
              "                      [-0.2367,  0.0628,  0.0539,  ..., -0.1416,  0.1705, -0.0423],\n",
              "                      [-0.1967, -0.2455,  0.0775,  ..., -0.2092,  0.0038, -0.1102]],\n",
              "                     device='cuda:0')),\n",
              "             ('lstm.bias_ih_l2_reverse',\n",
              "              tensor([ 0.1422,  0.0564,  0.1562, -0.2105, -0.0010, -0.0207, -0.1552,  0.0730,\n",
              "                      -0.2200,  0.2443,  0.2416,  0.0382,  0.0312,  0.0397,  0.1331, -0.1962,\n",
              "                      -0.1639, -0.2306, -0.2032, -0.1726, -0.0195, -0.0339, -0.0049,  0.0232,\n",
              "                       0.1236, -0.1828,  0.1451, -0.0790,  0.0814,  0.1941,  0.2460,  0.1855,\n",
              "                       0.1207,  0.1170,  0.0518,  0.0857,  0.2086,  0.0986,  0.0510, -0.0776,\n",
              "                      -0.0896, -0.0343,  0.1388, -0.2290, -0.1983,  0.1029, -0.1114, -0.0159,\n",
              "                       0.0254, -0.2155, -0.1576,  0.1612,  0.1217,  0.2436,  0.0653,  0.0379,\n",
              "                       0.1514,  0.0835,  0.0259, -0.0526, -0.1615,  0.0489, -0.1630, -0.0842],\n",
              "                     device='cuda:0')),\n",
              "             ('lstm.bias_hh_l2_reverse',\n",
              "              tensor([ 0.1803, -0.2005, -0.2395,  0.0630, -0.1618,  0.0379, -0.0938,  0.0972,\n",
              "                       0.1360, -0.0604,  0.0870,  0.1992, -0.0303,  0.1553,  0.1209,  0.1632,\n",
              "                      -0.1712,  0.0211,  0.1404,  0.0433, -0.2096,  0.1745, -0.1491, -0.2020,\n",
              "                      -0.0500,  0.2376,  0.0528,  0.0038,  0.1265,  0.1341,  0.1315, -0.2005,\n",
              "                       0.0111,  0.2382,  0.0450, -0.0540,  0.1157, -0.0738, -0.1744, -0.2461,\n",
              "                      -0.1624, -0.0162,  0.1235, -0.0352, -0.2259,  0.0686, -0.0230, -0.1209,\n",
              "                      -0.1900,  0.1006,  0.1738,  0.0386,  0.1907, -0.1523, -0.2240, -0.0271,\n",
              "                      -0.0471,  0.0440, -0.2075,  0.1412,  0.1727,  0.1305, -0.0150,  0.1967],\n",
              "                     device='cuda:0')),\n",
              "             ('fc.weight',\n",
              "              tensor([[ 0.0518, -0.1560,  0.1055, -0.1751,  0.0668,  0.1257,  0.1749, -0.0854,\n",
              "                       -0.1589,  0.0479, -0.1318,  0.0791, -0.0119,  0.1146,  0.0643, -0.0401,\n",
              "                        0.0002, -0.1565, -0.1735,  0.1019,  0.1285,  0.1148,  0.0454, -0.0206,\n",
              "                       -0.1183,  0.0639,  0.0879,  0.1661, -0.1342,  0.1241,  0.1557, -0.1598],\n",
              "                      [-0.0964,  0.1304, -0.0906, -0.1531, -0.1069, -0.0785, -0.1355,  0.0315,\n",
              "                       -0.0121, -0.0979,  0.0732,  0.0305, -0.1010, -0.1537, -0.1543,  0.0210,\n",
              "                       -0.0210,  0.0043,  0.0034,  0.0498,  0.0931, -0.0816, -0.0251, -0.0685,\n",
              "                        0.0715, -0.0903,  0.1174, -0.0148, -0.0507,  0.0781,  0.1291, -0.0816],\n",
              "                      [-0.1147, -0.1139,  0.1374,  0.0111, -0.1438, -0.1315,  0.1413,  0.0840,\n",
              "                        0.0956, -0.1623,  0.0776, -0.0661, -0.0211, -0.0727, -0.0566, -0.0396,\n",
              "                       -0.1068,  0.0636, -0.0257, -0.1261,  0.1432, -0.0170,  0.0910, -0.0510,\n",
              "                        0.0588,  0.1693,  0.1389, -0.1055, -0.1218,  0.1419,  0.0460,  0.1718],\n",
              "                      [ 0.1335,  0.0185,  0.1020, -0.1359,  0.0700,  0.0290,  0.1399, -0.1232,\n",
              "                        0.0962,  0.1316, -0.1181, -0.1208,  0.0402,  0.0340,  0.0879,  0.0465,\n",
              "                       -0.0780,  0.1203,  0.0960, -0.1476, -0.0567, -0.0316,  0.0413,  0.1502,\n",
              "                        0.1455, -0.1367,  0.1749, -0.0628,  0.0232, -0.1716, -0.1027,  0.1718],\n",
              "                      [-0.1287, -0.0410,  0.0941,  0.0466,  0.1378, -0.0340, -0.0399, -0.0852,\n",
              "                        0.0752,  0.0075,  0.0436, -0.1083,  0.0269,  0.1471, -0.0556,  0.1555,\n",
              "                        0.0434, -0.1092,  0.1333,  0.1380,  0.1690,  0.1257, -0.0316,  0.0378,\n",
              "                        0.1385,  0.1160, -0.0555, -0.1028,  0.0296,  0.1019,  0.1382, -0.1165],\n",
              "                      [ 0.0215, -0.0629,  0.0261,  0.0722,  0.1511, -0.1607, -0.1444, -0.1660,\n",
              "                        0.1650, -0.0063,  0.1026,  0.1726,  0.0010, -0.1422,  0.0128,  0.0148,\n",
              "                       -0.1067, -0.1333,  0.0013,  0.1589,  0.1018,  0.1353, -0.1093,  0.1475,\n",
              "                        0.0573, -0.0576, -0.1686, -0.0228, -0.0032, -0.1596, -0.0353,  0.1307],\n",
              "                      [ 0.0608,  0.0274,  0.0201,  0.0740, -0.1049,  0.1521,  0.0176, -0.0967,\n",
              "                       -0.0830,  0.0790, -0.0163,  0.1546,  0.0762, -0.0034, -0.0245,  0.0846,\n",
              "                        0.1604, -0.1486, -0.1368,  0.1155,  0.1697,  0.0988,  0.0361, -0.0373,\n",
              "                       -0.0907,  0.0235, -0.0816,  0.0170, -0.1226,  0.0364, -0.0207, -0.0271],\n",
              "                      [ 0.0237, -0.0873, -0.0388,  0.0207, -0.1704, -0.1045, -0.1518,  0.0504,\n",
              "                        0.0546,  0.1168,  0.0197, -0.1306, -0.0976,  0.0008,  0.0076, -0.1541,\n",
              "                       -0.0484,  0.1634,  0.1071, -0.1631,  0.0434, -0.1127,  0.1598, -0.0075,\n",
              "                       -0.1330, -0.1051, -0.0089, -0.0388,  0.1312,  0.0574, -0.0717, -0.1663],\n",
              "                      [-0.0828,  0.0158,  0.0424,  0.0061, -0.1090,  0.1114,  0.0468, -0.0899,\n",
              "                        0.1692, -0.0454,  0.1514, -0.1715, -0.1074,  0.0645,  0.1012, -0.0669,\n",
              "                        0.1243,  0.1323, -0.1280, -0.1468, -0.0133,  0.0826, -0.0625, -0.1331,\n",
              "                       -0.0860, -0.0436, -0.0202, -0.1514,  0.0599, -0.0919,  0.0179,  0.1167],\n",
              "                      [ 0.0613,  0.1316, -0.0840, -0.0078, -0.0081, -0.0150,  0.0369, -0.0231,\n",
              "                        0.0977,  0.1644, -0.0721,  0.0633,  0.0252, -0.0391,  0.1346, -0.0416,\n",
              "                       -0.1680,  0.1031, -0.0913,  0.1767, -0.1190, -0.0266,  0.1017,  0.1247,\n",
              "                       -0.0193,  0.0890,  0.1033, -0.1651,  0.1578,  0.0805, -0.1505,  0.0988]],\n",
              "                     device='cuda:0')),\n",
              "             ('fc.bias',\n",
              "              tensor([ 0.1569, -0.0340, -0.0518,  0.0254,  0.1065,  0.1631,  0.0448, -0.1213,\n",
              "                       0.1648, -0.0801], device='cuda:0'))])"
            ]
          },
          "metadata": {},
          "execution_count": 9
        }
      ]
    },
    {
      "cell_type": "code",
      "execution_count": 10,
      "metadata": {
        "id": "3w9QW9Lfp1aV",
        "colab": {
          "base_uri": "https://localhost:8080/"
        },
        "outputId": "814d6fc6-0b7c-47dd-8100-976a27694e7d"
      },
      "outputs": [
        {
          "output_type": "execute_result",
          "data": {
            "text/plain": [
              "LSTM_Model_label(\n",
              "  (lstm): LSTM(41, 16, num_layers=3, batch_first=True, bidirectional=True)\n",
              "  (fc): Linear(in_features=32, out_features=2, bias=True)\n",
              ")"
            ]
          },
          "metadata": {},
          "execution_count": 10
        }
      ],
      "source": [
        "my_model_label = LSTM_Model_label(num_classes_label, input_size, hidden_size, num_layers).to(device=device)\n",
        "my_model_label"
      ]
    },
    {
      "cell_type": "markdown",
      "metadata": {
        "id": "Cey1CId-jjis"
      },
      "source": [
        "# **optimizer and loss function**"
      ]
    },
    {
      "cell_type": "code",
      "execution_count": 11,
      "metadata": {
        "id": "WNuQFMAekNDH"
      },
      "outputs": [],
      "source": [
        "loss_fn1 = nn.CrossEntropyLoss().to(device=device)\n",
        "loss_fn2 = nn.CrossEntropyLoss().to(device=device)\n",
        "optimizer1 = opt.Adam(params=my_model_attack.parameters(),lr=learning_rate)\n",
        "optimizer2 = opt.Adam(params=my_model_label.parameters(),lr=learning_rate)"
      ]
    },
    {
      "cell_type": "code",
      "source": [
        "from sklearn.metrics import classification_report, confusion_matrix\n",
        "import itertools\n",
        "def plot_confusion_matrix(cm, classes,\n",
        "                          normalize=False,\n",
        "                          title='Confusion matrix',\n",
        "                          cmap=plt.cm.Greens):\n",
        "    \"\"\"\n",
        "    This function prints and plots the confusion matrix.\n",
        "    Normalization can be applied by setting `normalize=True`.\n",
        "    \"\"\"\n",
        "    if normalize:\n",
        "        cm = cm.astype('float') / cm.sum(axis=1)[:, np.newaxis]\n",
        "        print(\"Normalized confusion matrix\")\n",
        "    else:\n",
        "        print('Confusion matrix, without normalization')\n",
        "\n",
        "    print(cm)\n",
        "\n",
        "    plt.imshow(cm, interpolation='nearest', cmap=cmap)\n",
        "    plt.title(title)\n",
        "    plt.colorbar()\n",
        "    tick_marks = np.arange(len(classes))\n",
        "    plt.xticks(tick_marks, classes, rotation=45)\n",
        "    plt.yticks(tick_marks, classes)\n",
        "\n",
        "    fmt = '.2f' if normalize else 'd'\n",
        "    thresh = cm.max() / 2.\n",
        "    for i, j in itertools.product(range(cm.shape[0]), range(cm.shape[1])):\n",
        "        plt.text(j, i, format(cm[i, j], fmt),\n",
        "                 horizontalalignment=\"center\",\n",
        "                 color=\"white\" if cm[i, j] > thresh else \"black\")\n",
        "\n",
        "    plt.tight_layout()\n",
        "    plt.ylabel('True label')\n",
        "    plt.xlabel('Predicted label')\n"
      ],
      "metadata": {
        "id": "KarvZRUVOMlb"
      },
      "execution_count": 12,
      "outputs": []
    },
    {
      "cell_type": "markdown",
      "source": [
        "# **train attack cat**"
      ],
      "metadata": {
        "id": "uVeF0YJfAWok"
      }
    },
    {
      "cell_type": "code",
      "execution_count": 13,
      "metadata": {
        "id": "Qmw8w1eTkeBu",
        "colab": {
          "base_uri": "https://localhost:8080/",
          "height": 486
        },
        "outputId": "00acc3ea-0cbf-4a9f-f49f-21662ba12314"
      },
      "outputs": [
        {
          "output_type": "stream",
          "name": "stdout",
          "text": [
            "Epoch: 0, loss: 0.7943\n",
            "Epoch: 50, loss: 0.4360\n",
            "Epoch: 100, loss: 0.4294\n",
            "Epoch: 150, loss: 0.4165\n",
            "Epoch: 200, loss: 0.3745\n",
            "Epoch: 250, loss: 0.4054\n",
            "Epoch: 300, loss: 0.3946\n",
            "Epoch: 350, loss: 0.3531\n",
            "Epoch: 400, loss: 0.3595\n",
            "Epoch: 450, loss: 0.3742\n",
            "Epoch: 500, loss: 0.4322\n",
            "Execution Time : 1247036.7500\n"
          ]
        },
        {
          "output_type": "display_data",
          "data": {
            "text/plain": [
              "<Figure size 432x288 with 1 Axes>"
            ],
            "image/png": "[encoded data removed]"
          },
          "metadata": {
            "needs_background": "light"
          }
        }
      ],
      "source": [
        "start = torch.cuda.Event(enable_timing=True)\n",
        "end = torch.cuda.Event(enable_timing=True)\n",
        "\n",
        "start.record()\n",
        "\n",
        "loss_plot = list()\n",
        "\n",
        "for epoch in range(num_epoch+1):\n",
        "\n",
        "    for batch_x, batch_y in train_attack_cat_dataloader:\n",
        "\n",
        "        batch_x = torch.reshape(batch_x, (batch_x.shape[0], 1, batch_x.shape[1])) #RuntimeError: For unbatched 2-D input, hx and cx should also be 2-D but got (3-D, 3-D) tensors\n",
        "        \n",
        "        batch_x = batch_x.to(device)\n",
        "        batch_y = batch_y.to(device)\n",
        "\n",
        "        optimizer1.zero_grad()\n",
        "        loss1 = loss_fn1(my_model_attack(batch_x) , batch_y)\n",
        "        loss1.backward() \n",
        "        optimizer1.step()\n",
        "\n",
        "    if epoch % 50 == 0:\n",
        "         print(\"Epoch: %d, loss: %.4f\" % (epoch, loss1.item()))\n",
        "         loss_plot.append(loss1.item())         \n",
        "\n",
        "end.record()\n",
        "\n",
        "# Waits for everything to finish running\n",
        "torch.cuda.synchronize()\n",
        "\n",
        "print(\"Execution Time : %.4f\" % (start.elapsed_time(end)))\n",
        "\n",
        "plt.plot(range(len(loss_plot)),np.asarray(loss_plot))\n",
        "plt.show()"
      ]
    },
    {
      "cell_type": "markdown",
      "metadata": {
        "id": "PQaRCMJPls5N"
      },
      "source": [
        "# **test attack category with fake dataset**"
      ]
    },
    {
      "cell_type": "code",
      "execution_count": 14,
      "metadata": {
        "id": "QrtYzVT4loMQ",
        "colab": {
          "base_uri": "https://localhost:8080/"
        },
        "outputId": "5e616a7c-6173-4de7-e99e-5f017552990a"
      },
      "outputs": [
        {
          "output_type": "stream",
          "name": "stdout",
          "text": [
            "acc : 0.00%\n"
          ]
        }
      ],
      "source": [
        "dataset_attack_cat = Fake_DataSet_UNSWNB15_attack_cat(\"/content/drive/MyDrive/datasets/UNSW-NB15/fake_UNSW_NB15.csv\")\n",
        "number_of_test = int(len(dataset_attack_cat)*0.3)\n",
        "number_of_train = len(dataset_attack_cat) - int(len(dataset_attack_cat)*0.3)\n",
        "train_attack_cat ,test_attack_cat = random_split(dataset=dataset_attack_cat, lengths=[number_of_train,number_of_test])\n",
        "\n",
        "test_attack_cat_dataloader = DataLoader(dataset=test_attack_cat ,batch_size=batch_size ,shuffle=True)\n",
        "\n",
        "correct = 0\n",
        "y_test, yhat = list(), list()\n",
        "\n",
        "for batch_x, labl in test_attack_cat_dataloader:\n",
        "  \n",
        "    batch_x = torch.reshape(batch_x, (batch_x.shape[0], 1, batch_x.shape[1])) #RuntimeError: For unbatched 2-D input, hx and cx should also be 2-D but got (3-D, 3-D) tensors\n",
        "  \n",
        "    batch_x = batch_x.to(device)\n",
        "    labl = labl.to(device)\n",
        "\n",
        "    out = my_model_attack(batch_x)\n",
        "    _,predicted = torch.max(out,1)\n",
        "    correct += torch.sum(predicted == labl)\n",
        "    \n",
        "    for i in labl.cpu().detach().numpy():\n",
        "        y_test.append(i)\n",
        "    for i in predicted.cpu().detach().numpy():\n",
        "        yhat.append(i)\n",
        "\n",
        "print(\"acc : %.2f\" % (100.*correct / len(test_attack_cat)),end=\"\")\n",
        "print(\"%\")"
      ]
    },
    {
      "cell_type": "code",
      "source": [
        "print (classification_report(y_test, yhat))"
      ],
      "metadata": {
        "id": "iz5BJmKzEPeS",
        "colab": {
          "base_uri": "https://localhost:8080/"
        },
        "outputId": "43521139-af41-407d-b4dd-db0e839463a4"
      },
      "execution_count": 16,
      "outputs": [
        {
          "output_type": "stream",
          "name": "stdout",
          "text": [
            "              precision    recall  f1-score   support\n",
            "\n",
            "           0       0.00      0.00      0.00       0.0\n",
            "           1       0.00      0.00      0.00       0.0\n",
            "           2       0.00      0.00      0.00       0.0\n",
            "           3       0.00      0.00      0.00       0.0\n",
            "           4       0.00      0.00      0.00       0.0\n",
            "           5       0.00      0.00      0.00       0.0\n",
            "           6       0.00      0.00      0.00       0.0\n",
            "           7       0.00      0.00      0.00       0.0\n",
            "           8       0.00      0.00      0.00       0.0\n",
            "           9       0.00      0.00      0.00       0.0\n",
            "          11       0.00      0.00      0.00    7500.0\n",
            "\n",
            "    accuracy                           0.00    7500.0\n",
            "   macro avg       0.00      0.00      0.00    7500.0\n",
            "weighted avg       0.00      0.00      0.00    7500.0\n",
            "\n"
          ]
        },
        {
          "output_type": "stream",
          "name": "stderr",
          "text": [
            "/usr/local/lib/python3.7/dist-packages/sklearn/metrics/_classification.py:1318: UndefinedMetricWarning: Precision and F-score are ill-defined and being set to 0.0 in labels with no predicted samples. Use `zero_division` parameter to control this behavior.\n",
            "  _warn_prf(average, modifier, msg_start, len(result))\n",
            "/usr/local/lib/python3.7/dist-packages/sklearn/metrics/_classification.py:1318: UndefinedMetricWarning: Recall and F-score are ill-defined and being set to 0.0 in labels with no true samples. Use `zero_division` parameter to control this behavior.\n",
            "  _warn_prf(average, modifier, msg_start, len(result))\n",
            "/usr/local/lib/python3.7/dist-packages/sklearn/metrics/_classification.py:1318: UndefinedMetricWarning: Precision and F-score are ill-defined and being set to 0.0 in labels with no predicted samples. Use `zero_division` parameter to control this behavior.\n",
            "  _warn_prf(average, modifier, msg_start, len(result))\n",
            "/usr/local/lib/python3.7/dist-packages/sklearn/metrics/_classification.py:1318: UndefinedMetricWarning: Recall and F-score are ill-defined and being set to 0.0 in labels with no true samples. Use `zero_division` parameter to control this behavior.\n",
            "  _warn_prf(average, modifier, msg_start, len(result))\n",
            "/usr/local/lib/python3.7/dist-packages/sklearn/metrics/_classification.py:1318: UndefinedMetricWarning: Precision and F-score are ill-defined and being set to 0.0 in labels with no predicted samples. Use `zero_division` parameter to control this behavior.\n",
            "  _warn_prf(average, modifier, msg_start, len(result))\n",
            "/usr/local/lib/python3.7/dist-packages/sklearn/metrics/_classification.py:1318: UndefinedMetricWarning: Recall and F-score are ill-defined and being set to 0.0 in labels with no true samples. Use `zero_division` parameter to control this behavior.\n",
            "  _warn_prf(average, modifier, msg_start, len(result))\n"
          ]
        }
      ]
    },
    {
      "cell_type": "markdown",
      "metadata": {
        "id": "pLqOLtA6tQht"
      },
      "source": [
        "# **train label**"
      ]
    },
    {
      "cell_type": "code",
      "execution_count": 17,
      "metadata": {
        "id": "Xm1cu1GhtMJO",
        "colab": {
          "base_uri": "https://localhost:8080/",
          "height": 486
        },
        "outputId": "8a437714-41bd-42cd-d562-7b614a6339af"
      },
      "outputs": [
        {
          "output_type": "stream",
          "name": "stdout",
          "text": [
            "Epoch: 0, loss: 0.1670\n",
            "Epoch: 50, loss: 0.1346\n",
            "Epoch: 100, loss: 0.1118\n",
            "Epoch: 150, loss: 0.1153\n",
            "Epoch: 200, loss: 0.1275\n",
            "Epoch: 250, loss: 0.1293\n",
            "Epoch: 300, loss: 0.0844\n",
            "Epoch: 350, loss: 0.1094\n",
            "Epoch: 400, loss: 0.0932\n",
            "Epoch: 450, loss: 0.0849\n",
            "Epoch: 500, loss: 0.1061\n",
            "Execution Time : 1259685.7500\n"
          ]
        },
        {
          "output_type": "display_data",
          "data": {
            "text/plain": [
              "<Figure size 432x288 with 1 Axes>"
            ],
            "image/png": "[encoded data removed]"
          },
          "metadata": {
            "needs_background": "light"
          }
        }
      ],
      "source": [
        "start = torch.cuda.Event(enable_timing=True)\n",
        "end = torch.cuda.Event(enable_timing=True)\n",
        "\n",
        "start.record()\n",
        "\n",
        "loss_plot = list()\n",
        "\n",
        "for epoch in range(num_epoch+1):\n",
        "\n",
        "    for batch_x, batch_y in train_label_dataloader:\n",
        "\n",
        "        batch_x = torch.reshape(batch_x, (batch_x.shape[0], 1, batch_x.shape[1])) #RuntimeError: For unbatched 2-D input, hx and cx should also be 2-D but got (3-D, 3-D) tensors\n",
        "        \n",
        "        batch_x = batch_x.to(device)\n",
        "        batch_y = batch_y.to(device)\n",
        "\n",
        "        optimizer2.zero_grad()\n",
        "        loss2 = loss_fn2(my_model_label(batch_x) , batch_y)\n",
        "        loss2.backward() \n",
        "        optimizer2.step()\n",
        "\n",
        "    if epoch % 50 == 0:\n",
        "         print(\"Epoch: %d, loss: %.4f\" % (epoch, loss2.item())) \n",
        "         loss_plot.append(loss2.item())         \n",
        "\n",
        "end.record()\n",
        "\n",
        "# Waits for everything to finish running\n",
        "torch.cuda.synchronize()\n",
        "\n",
        "print(\"Execution Time : %.4f\" % (start.elapsed_time(end)))\n",
        "\n",
        "plt.plot(range(len(loss_plot)),np.asarray(loss_plot))\n",
        "plt.show()"
      ]
    },
    {
      "cell_type": "markdown",
      "metadata": {
        "id": "Ig7VBqU0tfZd"
      },
      "source": [
        "# **test label with fake dataset**"
      ]
    },
    {
      "cell_type": "code",
      "execution_count": 18,
      "metadata": {
        "id": "a7u2bQ0WtiG2",
        "colab": {
          "base_uri": "https://localhost:8080/"
        },
        "outputId": "fbb7a9ba-7a1a-4d1a-e6ee-3cf3f373bdf8"
      },
      "outputs": [
        {
          "output_type": "stream",
          "name": "stdout",
          "text": [
            "acc : 66.92%\n"
          ]
        }
      ],
      "source": [
        "dataset_label = Fake_DataSet_UNSWNB15_label(\"/content/drive/MyDrive/datasets/UNSW-NB15/fake_UNSW_NB15.csv\")\n",
        "number_of_test = int(len(dataset_label)*0.3)\n",
        "number_of_train = len(dataset_label) - int(len(dataset_label)*0.3)\n",
        "train_label ,test_label = random_split(dataset=dataset_label, lengths=[number_of_train,number_of_test])\n",
        "\n",
        "test_label_dataloader = DataLoader(dataset=test_label ,batch_size=batch_size ,shuffle=True)\n",
        "\n",
        "correct = 0\n",
        "y_test, yhat = list(), list()\n",
        "\n",
        "for batch_x, labl in test_label_dataloader:\n",
        "\n",
        "    batch_x = torch.reshape(batch_x, (batch_x.shape[0], 1, batch_x.shape[1])) #RuntimeError: For unbatched 2-D input, hx and cx should also be 2-D but got (3-D, 3-D) tensors\n",
        "\n",
        "    batch_x = batch_x.to(device)\n",
        "    labl = labl.to(device)\n",
        "  \n",
        "    out = my_model_label(batch_x)\n",
        "    _,predicted = torch.max(out,1)\n",
        "    correct += torch.sum(predicted == labl)\n",
        "    \n",
        "    for i in labl.cpu().detach().numpy():\n",
        "        y_test.append(i)\n",
        "    for i in predicted.cpu().detach().numpy():\n",
        "        yhat.append(i)    \n",
        "\n",
        "print(\"acc : %.2f\" % (100.*correct / len(test_label)),end=\"\")\n",
        "print(\"%\")"
      ]
    },
    {
      "cell_type": "code",
      "source": [
        "# Compute confusion matrix\n",
        "cnf_matrix = confusion_matrix(y_test, yhat, labels=[1,0])\n",
        "np.set_printoptions(precision=2)\n",
        "\n",
        "# Plot non-normalized confusion matrix\n",
        "plt.figure()\n",
        "plot_confusion_matrix(cnf_matrix, classes=['attack=1','attack=0'],normalize= False,  title='Confusion matrix')"
      ],
      "metadata": {
        "id": "LG7Kwa2REV5a",
        "colab": {
          "base_uri": "https://localhost:8080/",
          "height": 366
        },
        "outputId": "b8cdadef-84e6-4d28-96bc-aa661ec50902"
      },
      "execution_count": 19,
      "outputs": [
        {
          "output_type": "stream",
          "name": "stdout",
          "text": [
            "Confusion matrix, without normalization\n",
            "[[5019 2481]\n",
            " [   0    0]]\n"
          ]
        },
        {
          "output_type": "display_data",
          "data": {
            "text/plain": [
              "<Figure size 432x288 with 2 Axes>"
            ],
            "image/png": "[encoded data removed]"
          },
          "metadata": {
            "needs_background": "light"
          }
        }
      ]
    },
    {
      "cell_type": "code",
      "source": [
        "print (classification_report(y_test, yhat))"
      ],
      "metadata": {
        "id": "plPD2G8QEXGh",
        "colab": {
          "base_uri": "https://localhost:8080/"
        },
        "outputId": "1ac122b2-4a28-4d49-c5ef-842cb7a0fdbc"
      },
      "execution_count": 20,
      "outputs": [
        {
          "output_type": "stream",
          "name": "stdout",
          "text": [
            "              precision    recall  f1-score   support\n",
            "\n",
            "           0       0.00      0.00      0.00         0\n",
            "           1       1.00      0.67      0.80      7500\n",
            "\n",
            "    accuracy                           0.67      7500\n",
            "   macro avg       0.50      0.33      0.40      7500\n",
            "weighted avg       1.00      0.67      0.80      7500\n",
            "\n"
          ]
        },
        {
          "output_type": "stream",
          "name": "stderr",
          "text": [
            "/usr/local/lib/python3.7/dist-packages/sklearn/metrics/_classification.py:1318: UndefinedMetricWarning: Recall and F-score are ill-defined and being set to 0.0 in labels with no true samples. Use `zero_division` parameter to control this behavior.\n",
            "  _warn_prf(average, modifier, msg_start, len(result))\n",
            "/usr/local/lib/python3.7/dist-packages/sklearn/metrics/_classification.py:1318: UndefinedMetricWarning: Recall and F-score are ill-defined and being set to 0.0 in labels with no true samples. Use `zero_division` parameter to control this behavior.\n",
            "  _warn_prf(average, modifier, msg_start, len(result))\n",
            "/usr/local/lib/python3.7/dist-packages/sklearn/metrics/_classification.py:1318: UndefinedMetricWarning: Recall and F-score are ill-defined and being set to 0.0 in labels with no true samples. Use `zero_division` parameter to control this behavior.\n",
            "  _warn_prf(average, modifier, msg_start, len(result))\n"
          ]
        }
      ]
    }
  ],
  "metadata": {
    "accelerator": "GPU",
    "colab": {
      "collapsed_sections": [],
      "provenance": []
    },
    "gpuClass": "standard",
    "kernelspec": {
      "display_name": "Python 3",
      "name": "python3"
    },
    "language_info": {
      "name": "python"
    }
  },
  "nbformat": 4,
  "nbformat_minor": 0
}