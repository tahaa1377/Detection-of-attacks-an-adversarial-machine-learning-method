{
  "cells": [
    {
      "cell_type": "code",
      "execution_count": 1,
      "metadata": {
        "id": "Ff1b4PxtBQuc"
      },
      "outputs": [],
      "source": [
        "batch_size = 4000\n",
        "lr = 0.002\n",
        "num_epoch = 500\n",
        "number_of_features = 41\n",
        "number_of_class_attack_cat = 10\n",
        "number_of_class_label = 2\n",
        "hyper_parameter1 = 128\n",
        "hyper_parameter2 = 64\n",
        "hyper_parameter3 = 32\n",
        "hyper_parameter4 = 16"
      ]
    },
    {
      "cell_type": "code",
      "source": [
        "from google.colab import drive\n",
        "drive.mount('/content/drive')"
      ],
      "metadata": {
        "colab": {
          "base_uri": "https://localhost:8080/"
        },
        "id": "0Gua0hky6SDJ",
        "outputId": "b54b98fc-c610-42c4-aa92-e520a764cdc2"
      },
      "execution_count": 2,
      "outputs": [
        {
          "output_type": "stream",
          "name": "stdout",
          "text": [
            "Drive already mounted at /content/drive; to attempt to forcibly remount, call drive.mount(\"/content/drive\", force_remount=True).\n"
          ]
        }
      ]
    },
    {
      "cell_type": "code",
      "execution_count": 3,
      "metadata": {
        "colab": {
          "base_uri": "https://localhost:8080/"
        },
        "id": "hZiaj4uT24DH",
        "outputId": "919d51c6-f6ee-47cc-f453-e80f99492e55"
      },
      "outputs": [
        {
          "output_type": "stream",
          "name": "stdout",
          "text": [
            "GPU\n"
          ]
        }
      ],
      "source": [
        "import pandas as pd\n",
        "from matplotlib import pyplot as plt\n",
        "import numpy as np\n",
        "from torch.utils.data.dataset import Dataset\n",
        "from torch.utils.data import random_split, DataLoader\n",
        "import torch\n",
        "from sklearn.preprocessing import LabelEncoder\n",
        "from sklearn import preprocessing\n",
        "import torch.nn as nn\n",
        "import torch.nn.functional as F\n",
        "import torch.optim as opt\n",
        "\n",
        "# GPU OR CPU\n",
        "if torch.cuda.is_available():\n",
        "    device = torch.device(\"cuda:0\")\n",
        "    print(\"GPU\")\n",
        "else:\n",
        "    device = torch.device(\"cpu\")\n",
        "    print(\"CPU\")"
      ]
    },
    {
      "cell_type": "code",
      "execution_count": 4,
      "metadata": {
        "id": "Sv-R_m6Z1EL5"
      },
      "outputs": [],
      "source": [
        "class DataSet_UNSWNB15_attack_cat(Dataset):\n",
        "\n",
        "    def __init__(self,data_set_path):\n",
        "        df = pd.read_csv(data_set_path)\n",
        "        print(df.attack_cat.value_counts().sort_values().plot(kind = \"barh\"))\n",
        "        \n",
        "        # preprocceing\n",
        "        df.drop(['id',\"Unnamed: 0\",\"service\",\"label\"], axis=1, inplace=True)        \n",
        "        cols = ['attack_cat' ,'proto' ,'state']\n",
        "        df[cols] = df[cols].apply(LabelEncoder().fit_transform)\n",
        "\n",
        "        self.data_array = df.values\n",
        "        self.x = self.data_array[:, :41]\n",
        "        self.y = self.data_array[:, 41]\n",
        "      \n",
        "        # normalaized data\n",
        "        scaler = preprocessing.StandardScaler().fit(self.x)\n",
        "        self.x = scaler.transform(self.x)\n",
        "\n",
        "        self.x = torch.tensor(self.x).float()\n",
        "        self.y = torch.tensor(self.y).long()\n",
        "\n",
        "    def __len__(self):\n",
        "        return len(self.data_array)\n",
        "\n",
        "    def __getitem__(self, item):\n",
        "        sample = (self.x[item, :], self.y[item])\n",
        "        return sample\n",
        "\n",
        "        \n",
        "class DataSet_UNSWNB15_label(Dataset):\n",
        "\n",
        "    def __init__(self,data_set_path):\n",
        "        df = pd.read_csv(data_set_path)\n",
        "        print(df.label.value_counts().sort_values().plot(kind = \"pie\"))\n",
        "\n",
        "        # preprocceing\n",
        "        df.drop(['id',\"Unnamed: 0\",\"service\",\"attack_cat\"], axis=1, inplace=True)\n",
        "        cols = ['proto' ,'state']\n",
        "        df[cols] = df[cols].apply(LabelEncoder().fit_transform)\n",
        "\n",
        "        self.data_array = df.values\n",
        "        self.x = self.data_array[:, :41]\n",
        "        self.y = self.data_array[:, 41]\n",
        "        \n",
        "        # normalaized data\n",
        "        scaler = preprocessing.StandardScaler().fit(self.x)\n",
        "        self.x = scaler.transform(self.x)\n",
        "\n",
        "        self.x = torch.tensor(self.x).float()\n",
        "        self.y = torch.tensor(self.y).long()\n",
        "\n",
        "    def __len__(self):\n",
        "        return len(self.data_array)\n",
        "\n",
        "    def __getitem__(self, item):\n",
        "        sample = (self.x[item, :], self.y[item])\n",
        "        return sample"
      ]
    },
    {
      "cell_type": "code",
      "execution_count": 5,
      "metadata": {
        "colab": {
          "base_uri": "https://localhost:8080/",
          "height": 283
        },
        "id": "UykLrbQZ1R7K",
        "outputId": "99159d12-32bf-4eb9-b28e-bc709de5a1ef"
      },
      "outputs": [
        {
          "output_type": "stream",
          "name": "stdout",
          "text": [
            "AxesSubplot(0.125,0.125;0.775x0.755)\n"
          ]
        },
        {
          "output_type": "display_data",
          "data": {
            "text/plain": [
              "<Figure size 432x288 with 1 Axes>"
            ],
            "image/png": "[encoded data removed]"
          },
          "metadata": {
            "needs_background": "light"
          }
        }
      ],
      "source": [
        "dataset_attack_cat = DataSet_UNSWNB15_attack_cat(\"/content/drive/MyDrive/datasets/UNSW-NB15/UNSW_NB15.csv\")\n",
        "number_of_test = int(len(dataset_attack_cat)*0.3)\n",
        "number_of_train = len(dataset_attack_cat) - int(len(dataset_attack_cat)*0.3)\n",
        "train_attack_cat ,test_attack_cat = random_split(dataset=dataset_attack_cat, lengths=[number_of_train,number_of_test])\n",
        "\n",
        "train_attack_cat_dataloader = DataLoader(dataset=train_attack_cat ,batch_size=batch_size ,shuffle=True)\n",
        "test_attack_cat_dataloader = DataLoader(dataset=test_attack_cat ,batch_size=batch_size ,shuffle=True)"
      ]
    },
    {
      "cell_type": "code",
      "execution_count": 6,
      "metadata": {
        "colab": {
          "base_uri": "https://localhost:8080/",
          "height": 266
        },
        "id": "LmFY9Q-u29T3",
        "outputId": "b80915d1-7957-4858-f560-7fd7a1a786d5"
      },
      "outputs": [
        {
          "output_type": "stream",
          "name": "stdout",
          "text": [
            "AxesSubplot(0.260833,0.125;0.503333x0.755)\n"
          ]
        },
        {
          "output_type": "display_data",
          "data": {
            "text/plain": [
              "<Figure size 432x288 with 1 Axes>"
            ],
            "image/png": "[encoded data removed]"
          },
          "metadata": {}
        }
      ],
      "source": [
        "dataset_label = DataSet_UNSWNB15_label(\"/content/drive/MyDrive/datasets/UNSW-NB15/UNSW_NB15.csv\")\n",
        "number_of_test = int(len(dataset_label)*0.3)\n",
        "number_of_train = len(dataset_label) - int(len(dataset_label)*0.3)\n",
        "train_label ,test_label = random_split(dataset=dataset_label, lengths=[number_of_train,number_of_test])\n",
        "\n",
        "train_label_dataloader = DataLoader(dataset=train_label ,batch_size=batch_size ,shuffle=True)\n",
        "test_label_dataloader = DataLoader(dataset=test_label ,batch_size=batch_size ,shuffle=True)"
      ]
    },
    {
      "cell_type": "markdown",
      "metadata": {
        "id": "0HslPLv2IOGd"
      },
      "source": [
        "# **preprocessing ended**\n",
        "\n",
        "# **create model**"
      ]
    },
    {
      "cell_type": "code",
      "execution_count": 7,
      "metadata": {
        "id": "oN6DuQbJibuE"
      },
      "outputs": [],
      "source": [
        "class Model_Attack_Cat(nn.Module):\n",
        "\n",
        "    def __init__(self):\n",
        "        super(Model_Attack_Cat, self).__init__()\n",
        "\n",
        "        self.layers = nn.Sequential(\n",
        "        nn.Linear(number_of_features, hyper_parameter1),\n",
        "        nn.Tanh(),\n",
        "        nn.Linear(hyper_parameter1, hyper_parameter2),\n",
        "        nn.ELU(),\n",
        "        nn.Linear(hyper_parameter2, hyper_parameter3),\n",
        "        nn.Sigmoid(),\n",
        "        nn.Linear(hyper_parameter3, hyper_parameter4),\n",
        "        nn.Sigmoid(),\n",
        "        nn.Linear(hyper_parameter4,number_of_class_attack_cat)\n",
        "        )\n",
        "\n",
        "    def forward(self,x):\n",
        "        return self.layers(x)\n",
        "\n",
        "class Model_Label(nn.Module):\n",
        "\n",
        "    def __init__(self):\n",
        "        super(Model_Label, self).__init__()\n",
        "\n",
        "        self.layers = nn.Sequential(\n",
        "        nn.Linear(number_of_features, hyper_parameter1),\n",
        "        nn.Tanh(),\n",
        "        nn.Linear(hyper_parameter1, hyper_parameter2),\n",
        "        nn.ELU(),\n",
        "        nn.Linear(hyper_parameter2, hyper_parameter3),\n",
        "        nn.Sigmoid(),\n",
        "        nn.Linear(hyper_parameter3, hyper_parameter4),\n",
        "        nn.Sigmoid(),\n",
        "        nn.Linear(hyper_parameter4,number_of_class_label)\n",
        "        )\n",
        "      \n",
        "\n",
        "    def forward(self,x):\n",
        "         return self.layers(x)"
      ]
    },
    {
      "cell_type": "code",
      "execution_count": 8,
      "metadata": {
        "id": "US8JfNI8j3zO",
        "colab": {
          "base_uri": "https://localhost:8080/"
        },
        "outputId": "d6819e03-458a-4bf0-c5d3-ae99dd355b73"
      },
      "outputs": [
        {
          "output_type": "execute_result",
          "data": {
            "text/plain": [
              "Model_Attack_Cat(\n",
              "  (layers): Sequential(\n",
              "    (0): Linear(in_features=41, out_features=128, bias=True)\n",
              "    (1): Tanh()\n",
              "    (2): Linear(in_features=128, out_features=64, bias=True)\n",
              "    (3): ELU(alpha=1.0)\n",
              "    (4): Linear(in_features=64, out_features=32, bias=True)\n",
              "    (5): Sigmoid()\n",
              "    (6): Linear(in_features=32, out_features=16, bias=True)\n",
              "    (7): Sigmoid()\n",
              "    (8): Linear(in_features=16, out_features=10, bias=True)\n",
              "  )\n",
              ")"
            ]
          },
          "metadata": {},
          "execution_count": 8
        }
      ],
      "source": [
        "my_model_attack = Model_Attack_Cat().to(device=device)\n",
        "my_model_attack"
      ]
    },
    {
      "cell_type": "code",
      "execution_count": 9,
      "metadata": {
        "id": "3w9QW9Lfp1aV",
        "colab": {
          "base_uri": "https://localhost:8080/"
        },
        "outputId": "80b08e8f-7622-4051-d72e-397dc7cb49b8"
      },
      "outputs": [
        {
          "output_type": "execute_result",
          "data": {
            "text/plain": [
              "Model_Label(\n",
              "  (layers): Sequential(\n",
              "    (0): Linear(in_features=41, out_features=128, bias=True)\n",
              "    (1): Tanh()\n",
              "    (2): Linear(in_features=128, out_features=64, bias=True)\n",
              "    (3): ELU(alpha=1.0)\n",
              "    (4): Linear(in_features=64, out_features=32, bias=True)\n",
              "    (5): Sigmoid()\n",
              "    (6): Linear(in_features=32, out_features=16, bias=True)\n",
              "    (7): Sigmoid()\n",
              "    (8): Linear(in_features=16, out_features=2, bias=True)\n",
              "  )\n",
              ")"
            ]
          },
          "metadata": {},
          "execution_count": 9
        }
      ],
      "source": [
        "my_model_label = Model_Label().to(device=device)\n",
        "my_model_label"
      ]
    },
    {
      "cell_type": "markdown",
      "metadata": {
        "id": "Cey1CId-jjis"
      },
      "source": [
        "# **optimizer and loss function**"
      ]
    },
    {
      "cell_type": "code",
      "execution_count": 10,
      "metadata": {
        "id": "WNuQFMAekNDH"
      },
      "outputs": [],
      "source": [
        "loss_fn1 = nn.CrossEntropyLoss()\n",
        "loss_fn2 = nn.CrossEntropyLoss()\n",
        "optimizer1 = opt.Adam(params=my_model_attack.parameters(),lr=lr)\n",
        "optimizer2 = opt.Adam(params=my_model_label.parameters(),lr=lr)"
      ]
    },
    {
      "cell_type": "markdown",
      "metadata": {
        "id": "4JYcovfYlpHM"
      },
      "source": [
        "# **train attack cat**"
      ]
    },
    {
      "cell_type": "code",
      "execution_count": 15,
      "metadata": {
        "id": "Qmw8w1eTkeBu",
        "colab": {
          "base_uri": "https://localhost:8080/",
          "height": 1000
        },
        "outputId": "7aac6bab-7b2c-4212-f638-a372284dc379"
      },
      "outputs": [
        {
          "output_type": "stream",
          "name": "stdout",
          "text": [
            "tensor([[ -3.5325,  -1.6256,  -1.0758,  ...,  -5.0194,  -3.2313,  -5.3346],\n",
            "        [-10.0488, -12.8242, -11.3405,  ...,  -8.9960,  -4.7439, -11.4745],\n",
            "        [ -9.6198, -12.3249, -11.0584,  ..., -10.8552,  -7.4850, -12.2251],\n",
            "        ...,\n",
            "        [-13.3990,  -5.8487,  -3.7921,  ..., -14.5796,  -4.2627,  -3.5545],\n",
            "        [ -8.7537, -12.3389, -10.7398,  ..., -11.6691,  -7.9832, -12.3388],\n",
            "        [  0.3631,  -0.1016,   2.2122,  ...,   0.5416,  -6.0115,  -8.4802]],\n",
            "       device='cuda:0', grad_fn=<AddmmBackward0>) tensor([4, 6, 6,  ..., 5, 6, 7], device='cuda:0')\n",
            "tensor([[ -3.2691,   0.9533,   3.1216,  ...,  -0.1734,  -9.9342, -11.8703],\n",
            "        [ -7.4229,  -5.6327,   1.3359,  ...,  -4.1355,  -2.0025,   0.4453],\n",
            "        [ -5.8630, -13.5527,  -7.8795,  ...,  -8.4846,  -6.9937, -13.8532],\n",
            "        ...,\n",
            "        [ -7.7367,  -9.3389,  -5.9764,  ...,  -2.8000,  -1.8299,  -7.0403],\n",
            "        [ -7.8704, -12.5245, -10.2733,  ..., -12.2394,  -7.9043, -12.2000],\n",
            "        [-13.2820,  -5.2077,  -3.2017,  ..., -14.5509,  -3.7514,  -2.5859]],\n",
            "       device='cuda:0', grad_fn=<AddmmBackward0>) tensor([3, 3, 6,  ..., 4, 6, 5], device='cuda:0')\n",
            "tensor([[ -5.6001,  -0.6146,   0.5785,  ...,   3.7647,  -3.2309,  -1.5876],\n",
            "        [ -6.2530, -11.4491,  -9.5588,  ...,  -8.9122,  -4.6644, -15.3331],\n",
            "        [-10.5318,  -6.3710,  -1.8679,  ..., -11.0577,  -3.9744,  -4.1754],\n",
            "        ...,\n",
            "        [ -6.1430, -11.4613,  -9.4427,  ...,  -9.9022,  -5.7751, -14.9748],\n",
            "        [-13.4785,  -5.4443,  -3.9347,  ..., -15.2393,  -4.4397,  -3.3678],\n",
            "        [-10.3655, -10.2282,  -7.0515,  ...,  -6.0290,  -4.1784, -11.0965]],\n",
            "       device='cuda:0', grad_fn=<AddmmBackward0>) tensor([7, 6, 5,  ..., 6, 5, 6], device='cuda:0')\n",
            "tensor([[  1.0040,   0.9802,   3.2634,  ...,   1.5448,  -7.7991,  -8.0827],\n",
            "        [ -8.4830, -12.0459,  -1.3836,  ...,  -3.7492,  -3.6483,  -2.9316],\n",
            "        [  1.8865,   1.7472,   1.9314,  ...,  -2.3517,  -5.8217,  -7.5919],\n",
            "        ...,\n",
            "        [ -7.1614,  -8.0808,  -3.5448,  ...,  -3.8088,  -3.2807,  -7.8202],\n",
            "        [ -4.8978,  -4.1598,  -2.7961,  ...,  -8.0144,  -7.8597, -11.8604],\n",
            "        [ -0.2262,   0.7905,   2.8487,  ...,   0.2711,  -4.0586,  -5.8660]],\n",
            "       device='cuda:0', grad_fn=<AddmmBackward0>) tensor([2, 6, 0,  ..., 6, 4, 2], device='cuda:0')\n",
            "tensor([[ -6.2223, -11.5451,  -9.2588,  ...,  -8.6963,  -4.4578, -14.8335],\n",
            "        [ -6.1763,  -3.7147,  -0.4383,  ...,   5.8540,   1.0705,  -6.7032],\n",
            "        [ -7.1919,  -5.8976,   2.2266,  ...,  -4.9308,  -5.5840,  -0.2170],\n",
            "        ...,\n",
            "        [ -5.2244, -11.3114,  -9.0165,  ..., -10.6131,  -6.8412, -15.7544],\n",
            "        [ -5.2547, -11.4449,  -9.0078,  ..., -11.3229,  -7.6163, -15.3019],\n",
            "        [ -9.2148, -12.5538, -10.7598,  ..., -11.4812,  -8.1423, -11.7444]],\n",
            "       device='cuda:0', grad_fn=<AddmmBackward0>) tensor([6, 7, 5,  ..., 6, 6, 6], device='cuda:0')\n",
            "tensor([[ -7.5197,  -8.1198,  -3.5215,  ...,  -3.9374,  -2.9768,  -8.2171],\n",
            "        [ -4.7772,  -0.2131,   0.7616,  ...,   4.8285,  -2.8885,  -3.6223],\n",
            "        [ -6.1752,  -6.4647,  -2.1328,  ..., -11.7571,  -4.9763,  -7.2055],\n",
            "        ...,\n",
            "        [ -6.1273, -11.6067,  -9.7920,  ..., -10.3129,  -6.5605, -15.2213],\n",
            "        [ -9.6206, -12.7002, -11.1637,  ...,  -9.1583,  -4.9088, -11.9054],\n",
            "        [ -4.1942,  -5.5155,  -3.8854,  ..., -11.1676,  -9.7761, -12.6017]],\n",
            "       device='cuda:0', grad_fn=<AddmmBackward0>) tensor([6, 7, 4,  ..., 6, 6, 4], device='cuda:0')\n",
            "tensor([[  1.2589,   1.1981,   3.4028,  ...,   2.0013,  -7.4671,  -8.2820],\n",
            "        [  0.8218,   0.8912,   2.9861,  ...,   1.7674,  -6.6871,  -7.6473],\n",
            "        [ -8.7475,  -8.4072,  -5.1164,  ..., -16.9360,  -8.0839,  -9.3811],\n",
            "        ...,\n",
            "        [ -6.7391, -11.7201,  -8.2690,  ...,  -8.7018,  -4.1468, -13.1543],\n",
            "        [-13.5191,  -4.9425,  -3.5951,  ..., -15.2747,  -3.9464,  -2.6393],\n",
            "        [ -7.1178,  -0.9867,   1.4442,  ...,  -0.7704,  -4.7324,  -6.9675]],\n",
            "       device='cuda:0', grad_fn=<AddmmBackward0>) tensor([2, 2, 5,  ..., 6, 5, 3], device='cuda:0')\n",
            "tensor([[ -5.1479,  -0.7172,   0.7821,  ...,   3.7880,  -2.1713,  -2.1131],\n",
            "        [ -8.4324, -11.8329,  -9.2105,  ...,  -9.9513,  -6.0023, -11.8713],\n",
            "        [-13.4843,  -4.8175,  -3.2759,  ..., -14.9029,  -3.5786,  -2.2577],\n",
            "        ...,\n",
            "        [-13.4647,  -5.1565,  -3.4732,  ..., -15.1145,  -3.8206,  -2.3632],\n",
            "        [ -4.5037,  -2.8137,   2.4036,  ...,  -3.9936,  -7.2308, -11.1489],\n",
            "        [ -6.7456, -11.7290,  -8.2528,  ...,  -8.6835,  -4.1201, -13.1163]],\n",
            "       device='cuda:0', grad_fn=<AddmmBackward0>) tensor([7, 6, 5,  ..., 5, 3, 6], device='cuda:0')\n",
            "tensor([[ -9.6681, -12.9445, -11.0232,  ...,  -8.5106,  -4.7317, -11.8863],\n",
            "        [ -6.7926,  -8.7253,  -2.9694,  ...,  -9.0728,  -6.4472, -10.0220],\n",
            "        [-10.2227, -13.0110, -11.2246,  ...,  -8.6471,  -4.6127, -11.2971],\n",
            "        ...,\n",
            "        [-10.0182, -11.0272, -10.1454,  ..., -10.3170,  -7.5689, -13.9750],\n",
            "        [ -5.2463, -11.3090,  -9.0247,  ..., -10.6043,  -6.8231, -15.7547],\n",
            "        [  1.1093,   0.9739,   3.1725,  ...,   1.3719,  -7.8152,  -8.1801]],\n",
            "       device='cuda:0', grad_fn=<AddmmBackward0>) tensor([6, 6, 6,  ..., 6, 6, 0], device='cuda:0')\n",
            "tensor([[ -3.5842,   1.1487,   2.2126,  ...,   0.9843,  -6.1939,  -8.8877],\n",
            "        [ -0.0230, -11.4627,  -2.0627,  ...,  -3.0458, -13.5693, -18.0423],\n",
            "        [  0.9177,   0.5395,   2.8425,  ...,   0.8875,  -7.2117,  -8.6444],\n",
            "        ...,\n",
            "        [  0.4200,   0.1076,   2.3793,  ...,   0.6766,  -6.3452,  -8.5508],\n",
            "        [  0.9937,   0.8733,   2.9633,  ...,   1.1007,  -7.7650,  -8.5880],\n",
            "        [ -6.2900,  -1.4874,  -0.4661,  ...,   1.5857,  -0.1522,  -3.5238]],\n",
            "       device='cuda:0', grad_fn=<AddmmBackward0>) tensor([3, 6, 3,  ..., 2, 2, 3], device='cuda:0')\n",
            "tensor([[ -7.3563,  -8.2096,  -4.1701,  ...,  -8.0549,  -6.3030,  -9.6588],\n",
            "        [ -7.8232,  -7.8554,  -3.0851,  ...,  -2.4723,  -2.3842,  -8.3201],\n",
            "        [ -6.0091,  -3.3613,  -0.2253,  ...,   6.3695,   0.9875,  -6.5180],\n",
            "        ...,\n",
            "        [ -5.0044, -11.1372,  -8.5585,  ..., -11.0278,  -7.5156, -15.2896],\n",
            "        [  1.0586,   0.9894,   3.2349,  ...,   1.5027,  -7.7833,  -8.1260],\n",
            "        [-13.3958,  -5.0948,  -3.2591,  ..., -14.7239,  -3.7105,  -2.4725]],\n",
            "       device='cuda:0', grad_fn=<AddmmBackward0>) tensor([6, 6, 7,  ..., 6, 2, 5], device='cuda:0')\n",
            "tensor([[ -0.5908,   0.6534,   3.0882,  ...,   0.8154,  -7.7404,  -6.6907],\n",
            "        [ -8.1411,  -8.5378,  -6.6350,  ...,  -3.3711,  -4.1803,  -9.6934],\n",
            "        [-11.0045, -12.7815,  -5.7904,  ...,  -6.9347,  -5.7779,  -5.1075],\n",
            "        ...,\n",
            "        [ -6.0103,  -3.6998,  -0.2563,  ...,   6.8122,   1.0509,  -6.9964],\n",
            "        [ -8.3292,  -8.0479,  -4.8548,  ..., -16.9850,  -7.9394,  -9.5415],\n",
            "        [  1.7980, -12.8089,  -3.8740,  ...,  -6.6795, -14.5464, -19.8178]],\n",
            "       device='cuda:0', grad_fn=<AddmmBackward0>) tensor([2, 6, 6,  ..., 7, 5, 6], device='cuda:0')\n",
            "tensor([[  0.7090,   0.6623,   3.1106,  ...,   1.6728,  -6.8018,  -8.2431],\n",
            "        [-13.4041,  -5.2789,  -3.5637,  ..., -15.1700,  -3.9003,  -2.4540],\n",
            "        [ -8.3774,  -7.3227,  -4.2537,  ...,  -6.8886,  -4.9197,  -5.8101],\n",
            "        ...,\n",
            "        [ -7.6701, -11.9247, -10.4226,  ..., -10.6274,  -7.2176, -13.9433],\n",
            "        [ -4.7056,  -4.1166,  -3.7548,  ...,  -8.3539,  -8.7936, -11.5183],\n",
            "        [ -9.5691, -10.0922,  -3.0628,  ...,  -4.0244,  -3.2948,  -4.9105]],\n",
            "       device='cuda:0', grad_fn=<AddmmBackward0>) tensor([2, 5, 6,  ..., 6, 4, 4], device='cuda:0')\n",
            "tensor([[ -6.6797, -11.5179,  -9.5713,  ..., -11.6009,  -8.2102, -14.2820],\n",
            "        [ -6.8401, -11.8452, -10.1244,  ..., -11.1496,  -7.5730, -14.2721],\n",
            "        [  1.9226,   1.7225,   1.9070,  ...,  -2.3489,  -5.8174,  -7.6231],\n",
            "        ...,\n",
            "        [ -7.9593, -12.5165, -10.2836,  ..., -12.3325,  -7.9014, -12.1400],\n",
            "        [ -9.4385,  -3.7230,   1.3437,  ...,  -3.6377,  -4.4794,  -4.5466],\n",
            "        [ -6.0093,  -0.4447,   1.6788,  ...,  -0.3339,  -6.1547,  -7.4479]],\n",
            "       device='cuda:0', grad_fn=<AddmmBackward0>) tensor([6, 6, 4,  ..., 6, 3, 3], device='cuda:0')\n",
            "tensor([[-5.8604e+00, -5.3496e+00,  7.6741e-01,  ..., -9.8544e+00,\n",
            "         -3.3338e+00, -4.8981e+00],\n",
            "        [-5.1242e+00, -3.8997e+00,  9.8873e-01,  ..., -4.5600e+00,\n",
            "         -8.5135e+00, -6.1612e+00],\n",
            "        [-8.2421e+00, -1.0503e+01, -3.9803e+00,  ..., -3.7227e+00,\n",
            "         -1.8488e+00, -6.4761e+00],\n",
            "        ...,\n",
            "        [-1.1766e+01, -6.3178e+00, -2.7195e+00,  ..., -1.2730e+01,\n",
            "         -4.4008e+00, -4.7053e+00],\n",
            "        [ 1.3281e-02, -7.9680e+00, -1.1919e+00,  ..., -4.1472e+00,\n",
            "         -1.1373e+01, -1.6368e+01],\n",
            "        [-1.3202e+01, -5.9554e+00, -3.8554e+00,  ..., -1.5406e+01,\n",
            "         -4.3927e+00, -2.8397e+00]], device='cuda:0', grad_fn=<AddmmBackward0>) tensor([3, 3, 6,  ..., 5, 6, 5], device='cuda:0')\n",
            "tensor([[ -6.5281, -12.2237,  -9.7397,  ..., -11.7608,  -7.8611, -13.7969],\n",
            "        [  1.1821,   0.9809,   3.1057,  ...,   1.3047,  -7.7963,  -8.2080],\n",
            "        [ -5.2132, -11.2960,  -9.0588,  ..., -10.6660,  -6.8572, -15.8026],\n",
            "        ...,\n",
            "        [  1.3564,   1.2162,   3.3505,  ...,   1.9751,  -7.4504,  -8.3257],\n",
            "        [  1.1525,   0.9766,   2.8980,  ...,   0.7348,  -7.7200,  -8.0740],\n",
            "        [ -6.5114,  -2.0572,   1.7637,  ...,  -3.8280,  -4.6246,  -7.7269]],\n",
            "       device='cuda:0', grad_fn=<AddmmBackward0>) tensor([6, 2, 6,  ..., 3, 3, 3], device='cuda:0')\n",
            "tensor([[ -8.2215,  -9.4081,  -7.1161,  ...,  -4.3122,  -2.7543, -10.1531],\n",
            "        [ -8.5594,  -1.4758,   0.7546,  ...,  -1.4145,  -3.4033,  -5.5682],\n",
            "        [ -0.7166,  -4.5899,   0.5518,  ...,  -2.5368, -10.6459, -15.5928],\n",
            "        ...,\n",
            "        [ -8.1333,  -9.4765,  -5.4461,  ...,  -5.6770,  -4.0139,  -5.4256],\n",
            "        [ -7.7250, -12.2417,  -9.9712,  ..., -12.1341,  -7.6416, -12.3880],\n",
            "        [-13.6037,  -6.4498,  -4.1573,  ..., -14.1841,  -4.3831,  -4.1786]],\n",
            "       device='cuda:0', grad_fn=<AddmmBackward0>) tensor([6, 3, 6,  ..., 4, 6, 5], device='cuda:0')\n",
            "tensor([[ -7.7145,  -1.7228,   1.7622,  ...,  -1.2098,  -3.8777,  -6.1933],\n",
            "        [ -6.1217,  -1.0906,   0.2692,  ...,   1.3997,  -3.0936,  -0.2208],\n",
            "        [  1.3912,   1.2124,   3.3713,  ...,   1.8286,  -7.4966,  -8.2680],\n",
            "        ...,\n",
            "        [-13.1667,  -5.6827,  -3.1916,  ..., -14.1198,  -3.8447,  -2.9609],\n",
            "        [ -5.8869,  -3.4304,  -0.2460,  ...,   6.2081,   1.0528,  -6.6223],\n",
            "        [ -1.4251,  -2.9499,   1.4222,  ...,  -2.8184,  -9.8127, -14.2117]],\n",
            "       device='cuda:0', grad_fn=<AddmmBackward0>) tensor([3, 3, 3,  ..., 5, 7, 3], device='cuda:0')\n",
            "tensor([[ -6.2971,  -8.1886,  -4.9446,  ...,  -5.9062,  -3.8158,  -6.6253],\n",
            "        [-13.1378,  -5.7209,  -3.1537,  ..., -14.0218,  -3.8344,  -2.9955],\n",
            "        [ -5.2412,  -5.9676,  -4.7376,  ...,  -8.6664,  -8.7885, -13.3841],\n",
            "        ...,\n",
            "        [ -7.9980,  -3.1042,   0.8779,  ...,  -8.5880,  -5.3683,  -4.8172],\n",
            "        [ -7.8703, -12.2442, -10.6162,  ...,  -9.8597,  -6.1156, -13.7841],\n",
            "        [-12.9802,  -7.8082,  -4.6615,  ..., -13.1585,  -4.5429,  -4.9185]],\n",
            "       device='cuda:0', grad_fn=<AddmmBackward0>) tensor([4, 5, 6,  ..., 3, 6, 5], device='cuda:0')\n",
            "tensor([[ -8.2322, -11.5082,  -9.0245,  ...,  -8.4986,  -4.8951, -12.8098],\n",
            "        [-13.2187,  -5.8638,  -3.8068,  ..., -15.3709,  -4.3185,  -2.7901],\n",
            "        [  1.3305,   1.2563,   3.1549,  ...,   1.4359,  -7.5626,  -8.2922],\n",
            "        ...,\n",
            "        [  1.3639,   1.2246,   3.3544,  ...,   1.9793,  -7.4454,  -8.3166],\n",
            "        [-13.4770,  -4.8954,  -3.3929,  ..., -15.0216,  -3.6108,  -2.2781],\n",
            "        [-11.8292,  -8.1636,  -4.8381,  ..., -16.9242,  -7.6251,  -5.8941]],\n",
            "       device='cuda:0', grad_fn=<AddmmBackward0>) tensor([6, 5, 2,  ..., 2, 5, 5], device='cuda:0')\n",
            "tensor([[ -4.3582,  -1.2441,   2.3406,  ...,  -2.1433,  -4.8046, -10.0300],\n",
            "        [-11.4006, -11.4470, -10.8250,  ..., -11.2615,  -8.3481, -12.5936],\n",
            "        [ -9.3699, -12.8557, -10.8972,  ...,  -8.5392,  -4.6384, -12.1344],\n",
            "        ...,\n",
            "        [ -6.7393,  -7.3345,  -4.4466,  ..., -16.3861,  -7.1348, -10.5934],\n",
            "        [ -5.9827,  -0.9976,   0.2887,  ...,   0.9262,  -3.0748,  -0.2263],\n",
            "        [ -6.0522,  -1.0977,   0.3039,  ...,   0.5331,  -2.9471,  -0.1554]],\n",
            "       device='cuda:0', grad_fn=<AddmmBackward0>) tensor([3, 6, 6,  ..., 5, 3, 7], device='cuda:0')\n",
            "tensor([[ -7.6519,  -3.3806,  -0.6957,  ...,  -2.2066,   0.4771,  -6.2302],\n",
            "        [ -8.4243,  -8.0089,  -4.9746,  ..., -15.9913,  -6.8772,  -9.3194],\n",
            "        [ -5.2096, -11.2739,  -9.0562,  ..., -10.6617,  -6.8420, -15.8105],\n",
            "        ...,\n",
            "        [ -6.7401,  -2.7247,  -1.3464,  ...,   6.3759,  -1.0643,  -8.8508],\n",
            "        [ -6.2857,  -5.6509,  -3.2278,  ..., -10.8409,  -6.5439,  -9.1442],\n",
            "        [ -6.3362,  -1.4613,  -0.9771,  ...,   7.2714,  -0.4658,  -8.5904]],\n",
            "       device='cuda:0', grad_fn=<AddmmBackward0>) tensor([3, 5, 6,  ..., 7, 6, 7], device='cuda:0')\n",
            "tensor([[  1.0224,   0.7727,   2.9001,  ...,   1.0009,  -7.5498,  -8.6641],\n",
            "        [ -6.4668, -11.5259,  -9.1541,  ...,  -8.9296,  -4.5343, -14.4469],\n",
            "        [  1.1503,   1.0873,   3.0704,  ...,   1.2890,  -7.6482,  -8.3847],\n",
            "        ...,\n",
            "        [ -5.9572,  -3.9140,   0.1542,  ...,  -8.1572,  -5.9893,  -5.0007],\n",
            "        [ -6.3495, -11.9790,  -9.2844,  ..., -11.7101,  -7.5672, -13.7764],\n",
            "        [-10.3011,  -9.1204,  -5.6192,  ...,  -5.0782,  -3.2163,  -4.2770]],\n",
            "       device='cuda:0', grad_fn=<AddmmBackward0>) tensor([7, 6, 3,  ..., 3, 6, 6], device='cuda:0')\n"
          ]
        },
        {
          "output_type": "error",
          "ename": "KeyboardInterrupt",
          "evalue": "ignored",
          "traceback": [
            "\u001b[0;31m---------------------------------------------------------------------------\u001b[0m",
            "\u001b[0;31mKeyboardInterrupt\u001b[0m                         Traceback (most recent call last)",
            "\u001b[0;32m<ipython-input-15-0ace7e46d380>\u001b[0m in \u001b[0;36m<module>\u001b[0;34m\u001b[0m\n\u001b[1;32m      1\u001b[0m \u001b[0;32mfor\u001b[0m \u001b[0mepoch\u001b[0m \u001b[0;32min\u001b[0m \u001b[0mrange\u001b[0m\u001b[0;34m(\u001b[0m\u001b[0mnum_epoch\u001b[0m\u001b[0;34m+\u001b[0m\u001b[0;36m1\u001b[0m\u001b[0;34m)\u001b[0m\u001b[0;34m:\u001b[0m\u001b[0;34m\u001b[0m\u001b[0;34m\u001b[0m\u001b[0m\n\u001b[1;32m      2\u001b[0m \u001b[0;34m\u001b[0m\u001b[0m\n\u001b[0;32m----> 3\u001b[0;31m     \u001b[0;32mfor\u001b[0m \u001b[0mbatch_x\u001b[0m\u001b[0;34m,\u001b[0m \u001b[0mbatch_y\u001b[0m \u001b[0;32min\u001b[0m \u001b[0mtrain_attack_cat_dataloader\u001b[0m\u001b[0;34m:\u001b[0m\u001b[0;34m\u001b[0m\u001b[0;34m\u001b[0m\u001b[0m\n\u001b[0m\u001b[1;32m      4\u001b[0m \u001b[0;34m\u001b[0m\u001b[0m\n\u001b[1;32m      5\u001b[0m         \u001b[0mbatch_x\u001b[0m \u001b[0;34m=\u001b[0m \u001b[0mbatch_x\u001b[0m\u001b[0;34m.\u001b[0m\u001b[0mto\u001b[0m\u001b[0;34m(\u001b[0m\u001b[0mdevice\u001b[0m\u001b[0;34m)\u001b[0m\u001b[0;34m\u001b[0m\u001b[0;34m\u001b[0m\u001b[0m\n",
            "\u001b[0;32m/usr/local/lib/python3.7/dist-packages/torch/utils/data/dataloader.py\u001b[0m in \u001b[0;36m__next__\u001b[0;34m(self)\u001b[0m\n\u001b[1;32m    679\u001b[0m                 \u001b[0;31m# TODO(https://github.com/pytorch/pytorch/issues/76750)\u001b[0m\u001b[0;34m\u001b[0m\u001b[0;34m\u001b[0m\u001b[0;34m\u001b[0m\u001b[0m\n\u001b[1;32m    680\u001b[0m                 \u001b[0mself\u001b[0m\u001b[0;34m.\u001b[0m\u001b[0m_reset\u001b[0m\u001b[0;34m(\u001b[0m\u001b[0;34m)\u001b[0m  \u001b[0;31m# type: ignore[call-arg]\u001b[0m\u001b[0;34m\u001b[0m\u001b[0;34m\u001b[0m\u001b[0m\n\u001b[0;32m--> 681\u001b[0;31m             \u001b[0mdata\u001b[0m \u001b[0;34m=\u001b[0m \u001b[0mself\u001b[0m\u001b[0;34m.\u001b[0m\u001b[0m_next_data\u001b[0m\u001b[0;34m(\u001b[0m\u001b[0;34m)\u001b[0m\u001b[0;34m\u001b[0m\u001b[0;34m\u001b[0m\u001b[0m\n\u001b[0m\u001b[1;32m    682\u001b[0m             \u001b[0mself\u001b[0m\u001b[0;34m.\u001b[0m\u001b[0m_num_yielded\u001b[0m \u001b[0;34m+=\u001b[0m \u001b[0;36m1\u001b[0m\u001b[0;34m\u001b[0m\u001b[0;34m\u001b[0m\u001b[0m\n\u001b[1;32m    683\u001b[0m             \u001b[0;32mif\u001b[0m \u001b[0mself\u001b[0m\u001b[0;34m.\u001b[0m\u001b[0m_dataset_kind\u001b[0m \u001b[0;34m==\u001b[0m \u001b[0m_DatasetKind\u001b[0m\u001b[0;34m.\u001b[0m\u001b[0mIterable\u001b[0m \u001b[0;32mand\u001b[0m\u001b[0;31m \u001b[0m\u001b[0;31m\\\u001b[0m\u001b[0;34m\u001b[0m\u001b[0;34m\u001b[0m\u001b[0m\n",
            "\u001b[0;32m/usr/local/lib/python3.7/dist-packages/torch/utils/data/dataloader.py\u001b[0m in \u001b[0;36m_next_data\u001b[0;34m(self)\u001b[0m\n\u001b[1;32m    719\u001b[0m     \u001b[0;32mdef\u001b[0m \u001b[0m_next_data\u001b[0m\u001b[0;34m(\u001b[0m\u001b[0mself\u001b[0m\u001b[0;34m)\u001b[0m\u001b[0;34m:\u001b[0m\u001b[0;34m\u001b[0m\u001b[0;34m\u001b[0m\u001b[0m\n\u001b[1;32m    720\u001b[0m         \u001b[0mindex\u001b[0m \u001b[0;34m=\u001b[0m \u001b[0mself\u001b[0m\u001b[0;34m.\u001b[0m\u001b[0m_next_index\u001b[0m\u001b[0;34m(\u001b[0m\u001b[0;34m)\u001b[0m  \u001b[0;31m# may raise StopIteration\u001b[0m\u001b[0;34m\u001b[0m\u001b[0;34m\u001b[0m\u001b[0m\n\u001b[0;32m--> 721\u001b[0;31m         \u001b[0mdata\u001b[0m \u001b[0;34m=\u001b[0m \u001b[0mself\u001b[0m\u001b[0;34m.\u001b[0m\u001b[0m_dataset_fetcher\u001b[0m\u001b[0;34m.\u001b[0m\u001b[0mfetch\u001b[0m\u001b[0;34m(\u001b[0m\u001b[0mindex\u001b[0m\u001b[0;34m)\u001b[0m  \u001b[0;31m# may raise StopIteration\u001b[0m\u001b[0;34m\u001b[0m\u001b[0;34m\u001b[0m\u001b[0m\n\u001b[0m\u001b[1;32m    722\u001b[0m         \u001b[0;32mif\u001b[0m \u001b[0mself\u001b[0m\u001b[0;34m.\u001b[0m\u001b[0m_pin_memory\u001b[0m\u001b[0;34m:\u001b[0m\u001b[0;34m\u001b[0m\u001b[0;34m\u001b[0m\u001b[0m\n\u001b[1;32m    723\u001b[0m             \u001b[0mdata\u001b[0m \u001b[0;34m=\u001b[0m \u001b[0m_utils\u001b[0m\u001b[0;34m.\u001b[0m\u001b[0mpin_memory\u001b[0m\u001b[0;34m.\u001b[0m\u001b[0mpin_memory\u001b[0m\u001b[0;34m(\u001b[0m\u001b[0mdata\u001b[0m\u001b[0;34m,\u001b[0m \u001b[0mself\u001b[0m\u001b[0;34m.\u001b[0m\u001b[0m_pin_memory_device\u001b[0m\u001b[0;34m)\u001b[0m\u001b[0;34m\u001b[0m\u001b[0;34m\u001b[0m\u001b[0m\n",
            "\u001b[0;32m/usr/local/lib/python3.7/dist-packages/torch/utils/data/_utils/fetch.py\u001b[0m in \u001b[0;36mfetch\u001b[0;34m(self, possibly_batched_index)\u001b[0m\n\u001b[1;32m     47\u001b[0m     \u001b[0;32mdef\u001b[0m \u001b[0mfetch\u001b[0m\u001b[0;34m(\u001b[0m\u001b[0mself\u001b[0m\u001b[0;34m,\u001b[0m \u001b[0mpossibly_batched_index\u001b[0m\u001b[0;34m)\u001b[0m\u001b[0;34m:\u001b[0m\u001b[0;34m\u001b[0m\u001b[0;34m\u001b[0m\u001b[0m\n\u001b[1;32m     48\u001b[0m         \u001b[0;32mif\u001b[0m \u001b[0mself\u001b[0m\u001b[0;34m.\u001b[0m\u001b[0mauto_collation\u001b[0m\u001b[0;34m:\u001b[0m\u001b[0;34m\u001b[0m\u001b[0;34m\u001b[0m\u001b[0m\n\u001b[0;32m---> 49\u001b[0;31m             \u001b[0mdata\u001b[0m \u001b[0;34m=\u001b[0m \u001b[0;34m[\u001b[0m\u001b[0mself\u001b[0m\u001b[0;34m.\u001b[0m\u001b[0mdataset\u001b[0m\u001b[0;34m[\u001b[0m\u001b[0midx\u001b[0m\u001b[0;34m]\u001b[0m \u001b[0;32mfor\u001b[0m \u001b[0midx\u001b[0m \u001b[0;32min\u001b[0m \u001b[0mpossibly_batched_index\u001b[0m\u001b[0;34m]\u001b[0m\u001b[0;34m\u001b[0m\u001b[0;34m\u001b[0m\u001b[0m\n\u001b[0m\u001b[1;32m     50\u001b[0m         \u001b[0;32melse\u001b[0m\u001b[0;34m:\u001b[0m\u001b[0;34m\u001b[0m\u001b[0;34m\u001b[0m\u001b[0m\n\u001b[1;32m     51\u001b[0m             \u001b[0mdata\u001b[0m \u001b[0;34m=\u001b[0m \u001b[0mself\u001b[0m\u001b[0;34m.\u001b[0m\u001b[0mdataset\u001b[0m\u001b[0;34m[\u001b[0m\u001b[0mpossibly_batched_index\u001b[0m\u001b[0;34m]\u001b[0m\u001b[0;34m\u001b[0m\u001b[0;34m\u001b[0m\u001b[0m\n",
            "\u001b[0;32m/usr/local/lib/python3.7/dist-packages/torch/utils/data/_utils/fetch.py\u001b[0m in \u001b[0;36m<listcomp>\u001b[0;34m(.0)\u001b[0m\n\u001b[1;32m     47\u001b[0m     \u001b[0;32mdef\u001b[0m \u001b[0mfetch\u001b[0m\u001b[0;34m(\u001b[0m\u001b[0mself\u001b[0m\u001b[0;34m,\u001b[0m \u001b[0mpossibly_batched_index\u001b[0m\u001b[0;34m)\u001b[0m\u001b[0;34m:\u001b[0m\u001b[0;34m\u001b[0m\u001b[0;34m\u001b[0m\u001b[0m\n\u001b[1;32m     48\u001b[0m         \u001b[0;32mif\u001b[0m \u001b[0mself\u001b[0m\u001b[0;34m.\u001b[0m\u001b[0mauto_collation\u001b[0m\u001b[0;34m:\u001b[0m\u001b[0;34m\u001b[0m\u001b[0;34m\u001b[0m\u001b[0m\n\u001b[0;32m---> 49\u001b[0;31m             \u001b[0mdata\u001b[0m \u001b[0;34m=\u001b[0m \u001b[0;34m[\u001b[0m\u001b[0mself\u001b[0m\u001b[0;34m.\u001b[0m\u001b[0mdataset\u001b[0m\u001b[0;34m[\u001b[0m\u001b[0midx\u001b[0m\u001b[0;34m]\u001b[0m \u001b[0;32mfor\u001b[0m \u001b[0midx\u001b[0m \u001b[0;32min\u001b[0m \u001b[0mpossibly_batched_index\u001b[0m\u001b[0;34m]\u001b[0m\u001b[0;34m\u001b[0m\u001b[0;34m\u001b[0m\u001b[0m\n\u001b[0m\u001b[1;32m     50\u001b[0m         \u001b[0;32melse\u001b[0m\u001b[0;34m:\u001b[0m\u001b[0;34m\u001b[0m\u001b[0;34m\u001b[0m\u001b[0m\n\u001b[1;32m     51\u001b[0m             \u001b[0mdata\u001b[0m \u001b[0;34m=\u001b[0m \u001b[0mself\u001b[0m\u001b[0;34m.\u001b[0m\u001b[0mdataset\u001b[0m\u001b[0;34m[\u001b[0m\u001b[0mpossibly_batched_index\u001b[0m\u001b[0;34m]\u001b[0m\u001b[0;34m\u001b[0m\u001b[0;34m\u001b[0m\u001b[0m\n",
            "\u001b[0;32m/usr/local/lib/python3.7/dist-packages/torch/utils/data/dataset.py\u001b[0m in \u001b[0;36m__getitem__\u001b[0;34m(self, idx)\u001b[0m\n\u001b[1;32m    288\u001b[0m         \u001b[0;32mif\u001b[0m \u001b[0misinstance\u001b[0m\u001b[0;34m(\u001b[0m\u001b[0midx\u001b[0m\u001b[0;34m,\u001b[0m \u001b[0mlist\u001b[0m\u001b[0;34m)\u001b[0m\u001b[0;34m:\u001b[0m\u001b[0;34m\u001b[0m\u001b[0;34m\u001b[0m\u001b[0m\n\u001b[1;32m    289\u001b[0m             \u001b[0;32mreturn\u001b[0m \u001b[0mself\u001b[0m\u001b[0;34m.\u001b[0m\u001b[0mdataset\u001b[0m\u001b[0;34m[\u001b[0m\u001b[0;34m[\u001b[0m\u001b[0mself\u001b[0m\u001b[0;34m.\u001b[0m\u001b[0mindices\u001b[0m\u001b[0;34m[\u001b[0m\u001b[0mi\u001b[0m\u001b[0;34m]\u001b[0m \u001b[0;32mfor\u001b[0m \u001b[0mi\u001b[0m \u001b[0;32min\u001b[0m \u001b[0midx\u001b[0m\u001b[0;34m]\u001b[0m\u001b[0;34m]\u001b[0m\u001b[0;34m\u001b[0m\u001b[0;34m\u001b[0m\u001b[0m\n\u001b[0;32m--> 290\u001b[0;31m         \u001b[0;32mreturn\u001b[0m \u001b[0mself\u001b[0m\u001b[0;34m.\u001b[0m\u001b[0mdataset\u001b[0m\u001b[0;34m[\u001b[0m\u001b[0mself\u001b[0m\u001b[0;34m.\u001b[0m\u001b[0mindices\u001b[0m\u001b[0;34m[\u001b[0m\u001b[0midx\u001b[0m\u001b[0;34m]\u001b[0m\u001b[0;34m]\u001b[0m\u001b[0;34m\u001b[0m\u001b[0;34m\u001b[0m\u001b[0m\n\u001b[0m\u001b[1;32m    291\u001b[0m \u001b[0;34m\u001b[0m\u001b[0m\n\u001b[1;32m    292\u001b[0m     \u001b[0;32mdef\u001b[0m \u001b[0m__len__\u001b[0m\u001b[0;34m(\u001b[0m\u001b[0mself\u001b[0m\u001b[0;34m)\u001b[0m\u001b[0;34m:\u001b[0m\u001b[0;34m\u001b[0m\u001b[0;34m\u001b[0m\u001b[0m\n",
            "\u001b[0;32m<ipython-input-4-a25a1df7f978>\u001b[0m in \u001b[0;36m__getitem__\u001b[0;34m(self, item)\u001b[0m\n\u001b[1;32m     25\u001b[0m \u001b[0;34m\u001b[0m\u001b[0m\n\u001b[1;32m     26\u001b[0m     \u001b[0;32mdef\u001b[0m \u001b[0m__getitem__\u001b[0m\u001b[0;34m(\u001b[0m\u001b[0mself\u001b[0m\u001b[0;34m,\u001b[0m \u001b[0mitem\u001b[0m\u001b[0;34m)\u001b[0m\u001b[0;34m:\u001b[0m\u001b[0;34m\u001b[0m\u001b[0;34m\u001b[0m\u001b[0m\n\u001b[0;32m---> 27\u001b[0;31m         \u001b[0msample\u001b[0m \u001b[0;34m=\u001b[0m \u001b[0;34m(\u001b[0m\u001b[0mself\u001b[0m\u001b[0;34m.\u001b[0m\u001b[0mx\u001b[0m\u001b[0;34m[\u001b[0m\u001b[0mitem\u001b[0m\u001b[0;34m,\u001b[0m \u001b[0;34m:\u001b[0m\u001b[0;34m]\u001b[0m\u001b[0;34m,\u001b[0m \u001b[0mself\u001b[0m\u001b[0;34m.\u001b[0m\u001b[0my\u001b[0m\u001b[0;34m[\u001b[0m\u001b[0mitem\u001b[0m\u001b[0;34m]\u001b[0m\u001b[0;34m)\u001b[0m\u001b[0;34m\u001b[0m\u001b[0;34m\u001b[0m\u001b[0m\n\u001b[0m\u001b[1;32m     28\u001b[0m         \u001b[0;32mreturn\u001b[0m \u001b[0msample\u001b[0m\u001b[0;34m\u001b[0m\u001b[0;34m\u001b[0m\u001b[0m\n\u001b[1;32m     29\u001b[0m \u001b[0;34m\u001b[0m\u001b[0m\n",
            "\u001b[0;31mKeyboardInterrupt\u001b[0m: "
          ]
        }
      ],
      "source": [
        "for epoch in range(num_epoch+1):\n",
        "\n",
        "    for batch_x, batch_y in train_attack_cat_dataloader:\n",
        "\n",
        "        batch_x = batch_x.to(device)\n",
        "        batch_y = batch_y.to(device)\n",
        "\n",
        "        optimizer1.zero_grad()\n",
        "        print(my_model_attack(batch_x),batch_y)\n",
        "        loss1 = loss_fn1(my_model_attack(batch_x),batch_y)\n",
        "        loss1.backward()\n",
        "        optimizer1.step()\n",
        "\n",
        "    if epoch % 50 == 0:\n",
        "        print(\"loss : %.4f\" % (loss1.item()))"
      ]
    },
    {
      "cell_type": "markdown",
      "metadata": {
        "id": "PQaRCMJPls5N"
      },
      "source": [
        "# **test attack cat**"
      ]
    },
    {
      "cell_type": "code",
      "execution_count": 12,
      "metadata": {
        "id": "QrtYzVT4loMQ",
        "colab": {
          "base_uri": "https://localhost:8080/"
        },
        "outputId": "7b070c0c-1183-4e10-deea-09d6a85822ef"
      },
      "outputs": [
        {
          "output_type": "stream",
          "name": "stdout",
          "text": [
            "acc : 82.27%\n"
          ]
        }
      ],
      "source": [
        "correct = 0\n",
        "\n",
        "for batch_x, labl in test_attack_cat_dataloader:\n",
        "  \n",
        "    batch_x = batch_x.to(device)\n",
        "    labl = labl.to(device)\n",
        "  \n",
        "    out = my_model_attack(batch_x)\n",
        "    _,predicted = torch.max(out,1)\n",
        "    correct += torch.sum(predicted == labl)\n",
        "\n",
        "print(\"acc : %.2f\" % (100.*correct / len(test_attack_cat)),end=\"\")\n",
        "print(\"%\")"
      ]
    },
    {
      "cell_type": "markdown",
      "metadata": {
        "id": "pLqOLtA6tQht"
      },
      "source": [
        "# **train label**"
      ]
    },
    {
      "cell_type": "code",
      "execution_count": 13,
      "metadata": {
        "id": "Xm1cu1GhtMJO",
        "colab": {
          "base_uri": "https://localhost:8080/"
        },
        "outputId": "6dd63c07-4cf2-4456-80fe-85558c1dd087"
      },
      "outputs": [
        {
          "output_type": "stream",
          "name": "stdout",
          "text": [
            "loss : 0.3798\n",
            "loss : 0.1463\n",
            "loss : 0.1251\n",
            "loss : 0.1186\n",
            "loss : 0.1139\n",
            "loss : 0.0948\n",
            "loss : 0.1151\n",
            "loss : 0.1129\n",
            "loss : 0.1200\n",
            "loss : 0.1184\n",
            "loss : 0.0841\n"
          ]
        }
      ],
      "source": [
        "for epoch in range(num_epoch+1):\n",
        "\n",
        "    for batch_x, batch_y in train_label_dataloader:\n",
        "\n",
        "        batch_x = batch_x.to(device)\n",
        "        batch_y = batch_y.to(device)\n",
        "\n",
        "        optimizer2.zero_grad()\n",
        "        loss2 = loss_fn2(my_model_label(batch_x),batch_y)\n",
        "        loss2.backward()\n",
        "        optimizer2.step()\n",
        "\n",
        "    if epoch % 50 == 0:\n",
        "        print(\"loss : %.4f\" % (loss2.item()))"
      ]
    },
    {
      "cell_type": "markdown",
      "metadata": {
        "id": "Ig7VBqU0tfZd"
      },
      "source": [
        "# **test label**"
      ]
    },
    {
      "cell_type": "code",
      "execution_count": 14,
      "metadata": {
        "id": "a7u2bQ0WtiG2",
        "colab": {
          "base_uri": "https://localhost:8080/"
        },
        "outputId": "698d6df2-59ad-4ea1-c511-399b93ce8a1a"
      },
      "outputs": [
        {
          "output_type": "stream",
          "name": "stdout",
          "text": [
            "acc : 93.74%\n"
          ]
        }
      ],
      "source": [
        "correct = 0\n",
        "\n",
        "for batch_x, labl in test_label_dataloader:\n",
        "  \n",
        "    batch_x = batch_x.to(device)\n",
        "    labl = labl.to(device)\n",
        "  \n",
        "    out = my_model_label(batch_x)\n",
        "    _,predicted = torch.max(out,1)\n",
        "    correct += torch.sum(predicted == labl)\n",
        "\n",
        "print(\"acc : %.2f\" % (100.*correct / len(test_label)),end=\"\")\n",
        "print(\"%\")"
      ]
    }
  ],
  "metadata": {
    "accelerator": "GPU",
    "colab": {
      "collapsed_sections": [],
      "provenance": []
    },
    "gpuClass": "standard",
    "kernelspec": {
      "display_name": "Python 3",
      "name": "python3"
    },
    "language_info": {
      "name": "python"
    }
  },
  "nbformat": 4,
  "nbformat_minor": 0
}