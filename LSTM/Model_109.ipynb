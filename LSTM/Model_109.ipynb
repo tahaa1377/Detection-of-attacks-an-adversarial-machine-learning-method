{
  "cells": [
    {
      "cell_type": "code",
      "execution_count": 1,
      "metadata": {
        "id": "Ff1b4PxtBQuc"
      },
      "outputs": [],
      "source": [
        "num_epoch = 500      \n",
        "learning_rate = 0.01\n",
        "batch_size = 2000\n",
        "\n",
        "hidden_size = 64 #number of features in hidden state\n",
        "num_layers = 4  #number of stacked lstm layers\n",
        "bidirectional = False\n",
        "drop_out = 0\n",
        "bidirectional_forward_backward = 2 if bidirectional else 1\n",
        "\n",
        "input_size = 41 #number of features\n",
        "num_classes_attack_cat = 10 #number of output classes \n",
        "num_classes_label = 2       #number of output classes "
      ]
    },
    {
      "cell_type": "code",
      "source": [
        "from google.colab import drive\n",
        "drive.mount('/content/drive')"
      ],
      "metadata": {
        "colab": {
          "base_uri": "https://localhost:8080/"
        },
        "id": "0Gua0hky6SDJ",
        "outputId": "05019f39-78a4-424f-8fcd-7da91c71d32f"
      },
      "execution_count": 2,
      "outputs": [
        {
          "output_type": "stream",
          "name": "stdout",
          "text": [
            "Drive already mounted at /content/drive; to attempt to forcibly remount, call drive.mount(\"/content/drive\", force_remount=True).\n"
          ]
        }
      ]
    },
    {
      "cell_type": "code",
      "execution_count": 3,
      "metadata": {
        "colab": {
          "base_uri": "https://localhost:8080/"
        },
        "id": "hZiaj4uT24DH",
        "outputId": "a1611d68-eb60-433c-9a8b-8f42435b3619"
      },
      "outputs": [
        {
          "output_type": "stream",
          "name": "stdout",
          "text": [
            "GPU\n"
          ]
        }
      ],
      "source": [
        "import pandas as pd\n",
        "from matplotlib import pyplot as plt\n",
        "import numpy as np\n",
        "from torch.utils.data.dataset import Dataset\n",
        "from torch.utils.data import random_split, DataLoader\n",
        "import torch\n",
        "from sklearn.preprocessing import LabelEncoder\n",
        "from sklearn import preprocessing\n",
        "import torch.nn as nn\n",
        "import torch.nn.functional as F\n",
        "import torch.optim as opt\n",
        "from torch.autograd import Variable \n",
        "\n",
        "# GPU OR CPU\n",
        "if torch.cuda.is_available():\n",
        "    device = torch.device(\"cuda:0\")\n",
        "    print(\"GPU\")\n",
        "else:\n",
        "    device = torch.device(\"cpu\")\n",
        "    print(\"CPU\")"
      ]
    },
    {
      "cell_type": "code",
      "execution_count": 4,
      "metadata": {
        "id": "Sv-R_m6Z1EL5"
      },
      "outputs": [],
      "source": [
        "class DataSet_UNSWNB15_attack_cat(Dataset):\n",
        "\n",
        "    def __init__(self,data_set_path):\n",
        "        df = pd.read_csv(data_set_path)\n",
        "        print(df.attack_cat.value_counts().sort_values().plot(kind = \"barh\"))\n",
        "        \n",
        "        # preprocceing\n",
        "        df.drop(['id',\"Unnamed: 0\",\"service\",\"label\"], axis=1, inplace=True)        \n",
        "        cols = ['attack_cat' ,'proto' ,'state']\n",
        "        df[cols] = df[cols].apply(LabelEncoder().fit_transform)\n",
        "\n",
        "        self.data_array = df.values\n",
        "        self.x = self.data_array[:, :41]\n",
        "        self.y = self.data_array[:, 41]\n",
        "      \n",
        "        # normalaized data\n",
        "        scaler = preprocessing.StandardScaler().fit(self.x)\n",
        "        self.x = scaler.transform(self.x)\n",
        "\n",
        "        self.x = torch.tensor(self.x).float()\n",
        "        self.y = torch.tensor(self.y).long()\n",
        "\n",
        "    def __len__(self):\n",
        "        return len(self.data_array)\n",
        "\n",
        "    def __getitem__(self, item):\n",
        "        sample = (self.x[item, :], self.y[item])\n",
        "        return sample\n",
        "\n",
        "        \n",
        "class DataSet_UNSWNB15_label(Dataset):\n",
        "\n",
        "    def __init__(self,data_set_path):\n",
        "        df = pd.read_csv(data_set_path)\n",
        "        print(df.label.value_counts().sort_values().plot(kind = \"pie\"))\n",
        "\n",
        "        # preprocceing\n",
        "        df.drop(['id',\"Unnamed: 0\",\"service\",\"attack_cat\"], axis=1, inplace=True)\n",
        "        cols = ['proto' ,'state']\n",
        "        df[cols] = df[cols].apply(LabelEncoder().fit_transform)\n",
        "\n",
        "        self.data_array = df.values\n",
        "        self.x = self.data_array[:, :41]\n",
        "        self.y = self.data_array[:, 41]\n",
        "        \n",
        "        # normalaized data\n",
        "        scaler = preprocessing.StandardScaler().fit(self.x)\n",
        "        self.x = scaler.transform(self.x)\n",
        "\n",
        "        self.x = torch.tensor(self.x).float()\n",
        "        self.y = torch.tensor(self.y).long()\n",
        "\n",
        "    def __len__(self):\n",
        "        return len(self.data_array)\n",
        "\n",
        "    def __getitem__(self, item):\n",
        "        sample = (self.x[item, :], self.y[item])\n",
        "        return sample"
      ]
    },
    {
      "cell_type": "code",
      "execution_count": 5,
      "metadata": {
        "colab": {
          "base_uri": "https://localhost:8080/",
          "height": 283
        },
        "id": "UykLrbQZ1R7K",
        "outputId": "e4142d88-a5c8-431f-a38c-a61d6ab0d353"
      },
      "outputs": [
        {
          "output_type": "stream",
          "name": "stdout",
          "text": [
            "AxesSubplot(0.125,0.125;0.775x0.755)\n"
          ]
        },
        {
          "output_type": "display_data",
          "data": {
            "text/plain": [
              "<Figure size 432x288 with 1 Axes>"
            ],
            "image/png": "[encoded data removed]"
          },
          "metadata": {
            "needs_background": "light"
          }
        }
      ],
      "source": [
        "dataset_attack_cat = DataSet_UNSWNB15_attack_cat(\"/content/drive/MyDrive/datasets/UNSW-NB15/UNSW_NB15.csv\")\n",
        "number_of_test = int(len(dataset_attack_cat)*0.3)\n",
        "number_of_train = len(dataset_attack_cat) - int(len(dataset_attack_cat)*0.3)\n",
        "train_attack_cat ,test_attack_cat = random_split(dataset=dataset_attack_cat, lengths=[number_of_train,number_of_test])\n",
        "\n",
        "train_attack_cat_dataloader = DataLoader(dataset=train_attack_cat ,batch_size=batch_size ,shuffle=True)\n",
        "test_attack_cat_dataloader = DataLoader(dataset=test_attack_cat ,batch_size=batch_size ,shuffle=True)"
      ]
    },
    {
      "cell_type": "code",
      "execution_count": 6,
      "metadata": {
        "colab": {
          "base_uri": "https://localhost:8080/",
          "height": 266
        },
        "id": "LmFY9Q-u29T3",
        "outputId": "57d8a10f-447c-465d-896c-43393870e448"
      },
      "outputs": [
        {
          "output_type": "stream",
          "name": "stdout",
          "text": [
            "AxesSubplot(0.260833,0.125;0.503333x0.755)\n"
          ]
        },
        {
          "output_type": "display_data",
          "data": {
            "text/plain": [
              "<Figure size 432x288 with 1 Axes>"
            ],
            "image/png": "[encoded data removed]"
          },
          "metadata": {}
        }
      ],
      "source": [
        "dataset_label = DataSet_UNSWNB15_label(\"/content/drive/MyDrive/datasets/UNSW-NB15/UNSW_NB15.csv\")\n",
        "number_of_test = int(len(dataset_label)*0.3)\n",
        "number_of_train = len(dataset_label) - int(len(dataset_label)*0.3)\n",
        "train_label ,test_label = random_split(dataset=dataset_label, lengths=[number_of_train,number_of_test])\n",
        "\n",
        "train_label_dataloader = DataLoader(dataset=train_label ,batch_size=batch_size ,shuffle=True)\n",
        "test_label_dataloader = DataLoader(dataset=test_label ,batch_size=batch_size ,shuffle=True)"
      ]
    },
    {
      "cell_type": "markdown",
      "metadata": {
        "id": "0HslPLv2IOGd"
      },
      "source": [
        "# **preprocessing ended**\n",
        "\n",
        "# **create model**"
      ]
    },
    {
      "cell_type": "markdown",
      "source": [
        "![bilstm-1.webp](data:image/webp;base64,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)"
      ],
      "metadata": {
        "id": "F2hNvBs6qBQS"
      }
    },
    {
      "cell_type": "code",
      "execution_count": 7,
      "metadata": {
        "id": "oN6DuQbJibuE"
      },
      "outputs": [],
      "source": [
        "class LSTM_Model_attack(nn.Module):\n",
        "    def __init__(self, num_classes, input_size, hidden_size, num_layers):\n",
        "        super(LSTM_Model_attack, self).__init__()\n",
        "        self.num_classes = num_classes #number of classes\n",
        "        self.num_layers = num_layers #number of layers\n",
        "        self.input_size = input_size #input size\n",
        "        self.hidden_size = hidden_size #hidden state\n",
        "\n",
        "        self.lstm = nn.LSTM(input_size=input_size, hidden_size=hidden_size, num_layers=num_layers, batch_first=True,\n",
        "                            bidirectional=bidirectional, dropout=drop_out) #lstm\n",
        "\n",
        "        self.fc = nn.Linear(hidden_size * bidirectional_forward_backward, num_classes) #fully connected last layer\n",
        "                             # 2 => forward and backward for bidirectional\n",
        "    \n",
        "    def forward(self,x):\n",
        "                                                # 2 => forward and backward for bidirectional\n",
        "        h_0 = Variable(torch.zeros(self.num_layers * bidirectional_forward_backward, x.size(0), self.hidden_size)).to(device=device) #hidden state\n",
        "        c_0 = Variable(torch.zeros(self.num_layers * bidirectional_forward_backward, x.size(0), self.hidden_size)).to(device=device) #internal state\n",
        "\n",
        "        out, (hn, cn) = self.lstm(x, (h_0, c_0))\n",
        "        out = self.fc(out[:, -1, :]) \n",
        "        return out\n",
        "\n",
        "\n",
        "class LSTM_Model_label(nn.Module):\n",
        "    def __init__(self, num_classes, input_size, hidden_size, num_layers):\n",
        "        super(LSTM_Model_label, self).__init__()\n",
        "        self.num_classes = num_classes #number of classes\n",
        "        self.num_layers = num_layers #number of layers\n",
        "        self.input_size = input_size #input size\n",
        "        self.hidden_size = hidden_size #hidden state\n",
        "\n",
        "        self.lstm = nn.LSTM(input_size=input_size, hidden_size=hidden_size, num_layers=num_layers, batch_first=True, \n",
        "                            bidirectional=bidirectional, dropout=drop_out) #lstm\n",
        "\n",
        "        self.fc = nn.Linear(hidden_size * bidirectional_forward_backward, num_classes) #fully connected last layer\n",
        "\n",
        "    \n",
        "    def forward(self,x):\n",
        "        h_0 = Variable(torch.zeros(self.num_layers * bidirectional_forward_backward, x.size(0), self.hidden_size)).to(device=device) #hidden state\n",
        "        c_0 = Variable(torch.zeros(self.num_layers * bidirectional_forward_backward, x.size(0), self.hidden_size)).to(device=device) #internal state\n",
        "\n",
        "        out, (hn, cn) = self.lstm(x, (h_0, c_0))\n",
        "        out = self.fc(out[:, -1, :]) \n",
        "        return out\n"
      ]
    },
    {
      "cell_type": "code",
      "execution_count": 8,
      "metadata": {
        "id": "US8JfNI8j3zO",
        "colab": {
          "base_uri": "https://localhost:8080/"
        },
        "outputId": "987b54e7-fdc7-4256-d65f-b2b2da56f503"
      },
      "outputs": [
        {
          "output_type": "execute_result",
          "data": {
            "text/plain": [
              "LSTM_Model_attack(\n",
              "  (lstm): LSTM(41, 64, num_layers=4, batch_first=True)\n",
              "  (fc): Linear(in_features=64, out_features=10, bias=True)\n",
              ")"
            ]
          },
          "metadata": {},
          "execution_count": 8
        }
      ],
      "source": [
        "my_model_attack = LSTM_Model_attack(num_classes_attack_cat, input_size, hidden_size, num_layers).to(device=device)\n",
        "my_model_attack"
      ]
    },
    {
      "cell_type": "code",
      "source": [
        "my_model_attack.state_dict()"
      ],
      "metadata": {
        "colab": {
          "base_uri": "https://localhost:8080/"
        },
        "id": "Dq8JkQZ9ukCs",
        "outputId": "f034e2ea-f4f8-4c03-c18c-d056defcef6f"
      },
      "execution_count": 9,
      "outputs": [
        {
          "output_type": "execute_result",
          "data": {
            "text/plain": [
              "OrderedDict([('lstm.weight_ih_l0',\n",
              "              tensor([[-0.0053,  0.1186,  0.0501,  ..., -0.0962, -0.0831, -0.0148],\n",
              "                      [ 0.0028,  0.0637,  0.0247,  ..., -0.0623,  0.0040, -0.0178],\n",
              "                      [ 0.0297, -0.0694,  0.0369,  ...,  0.0805,  0.0810,  0.0578],\n",
              "                      ...,\n",
              "                      [-0.0130,  0.1034, -0.0295,  ...,  0.0151,  0.0100,  0.0656],\n",
              "                      [-0.0275, -0.0383, -0.0666,  ...,  0.0032,  0.0564, -0.0848],\n",
              "                      [-0.1209,  0.0540,  0.0003,  ..., -0.0106, -0.0265, -0.0719]],\n",
              "                     device='cuda:0')),\n",
              "             ('lstm.weight_hh_l0',\n",
              "              tensor([[-0.1235,  0.0753,  0.0400,  ..., -0.0315, -0.0042,  0.0227],\n",
              "                      [ 0.0694, -0.0047,  0.0192,  ...,  0.0212, -0.0851,  0.0066],\n",
              "                      [-0.0925,  0.0162,  0.1121,  ..., -0.0357,  0.0339, -0.0651],\n",
              "                      ...,\n",
              "                      [ 0.0955,  0.0526, -0.0202,  ..., -0.0194,  0.0144, -0.0051],\n",
              "                      [-0.0102, -0.0248,  0.0363,  ...,  0.0827, -0.0714, -0.0345],\n",
              "                      [ 0.0248,  0.0152,  0.0642,  ...,  0.0992, -0.0808,  0.1185]],\n",
              "                     device='cuda:0')),\n",
              "             ('lstm.bias_ih_l0',\n",
              "              tensor([ 6.0816e-02,  4.6827e-02,  2.9092e-02, -9.4613e-02,  3.5146e-02,\n",
              "                      -1.0913e-01,  2.0960e-02,  3.8973e-02,  1.7239e-02, -6.3898e-02,\n",
              "                       1.5051e-02,  8.5935e-04, -4.2810e-03,  7.3218e-02,  1.1233e-01,\n",
              "                       4.1196e-02, -7.7862e-02,  1.0878e-01,  2.3108e-02, -7.4202e-04,\n",
              "                      -6.1874e-02, -2.1605e-02,  1.0689e-02, -9.7889e-02, -1.1679e-01,\n",
              "                      -5.1070e-02,  7.3590e-02, -4.2390e-02, -5.6374e-02, -7.3694e-02,\n",
              "                      -1.8750e-02, -7.4896e-02,  8.0911e-02,  3.8525e-02, -3.5676e-02,\n",
              "                      -8.7118e-02,  9.4237e-02, -1.2988e-02, -5.0822e-02,  5.3867e-02,\n",
              "                      -5.8335e-02,  1.0064e-01, -6.4190e-02,  5.3017e-02,  7.0982e-02,\n",
              "                      -8.3663e-02,  9.3659e-02, -8.0816e-02,  8.0548e-02,  9.2929e-02,\n",
              "                       9.9315e-02, -4.7327e-02, -8.1178e-02,  6.0367e-02, -8.7953e-02,\n",
              "                       1.8028e-02,  7.5210e-02,  7.8882e-02,  2.9134e-02,  9.4714e-02,\n",
              "                      -8.4698e-02,  6.3268e-02, -1.0331e-01, -2.6404e-02,  8.2941e-02,\n",
              "                       1.6572e-02, -6.6257e-02, -1.1177e-02, -4.8747e-02,  4.5970e-03,\n",
              "                      -1.2031e-01, -1.2405e-01,  6.1332e-02, -2.3206e-02, -1.0511e-01,\n",
              "                      -7.7715e-02,  1.1330e-01,  7.1966e-02, -7.4982e-02, -5.6184e-02,\n",
              "                      -2.2307e-03,  6.8077e-02, -1.7193e-02,  2.0879e-03, -2.9612e-02,\n",
              "                       3.2717e-03,  1.1452e-03, -7.9556e-02, -7.4107e-03, -5.4088e-02,\n",
              "                      -7.0318e-02,  9.3572e-02, -5.8206e-03,  4.3897e-02,  3.1671e-02,\n",
              "                       1.9839e-02,  2.9340e-02,  1.0673e-01, -5.9120e-02,  9.7042e-02,\n",
              "                       7.8395e-02, -1.1956e-01, -5.6302e-02, -6.2207e-02,  1.0138e-01,\n",
              "                      -1.1127e-01, -1.0761e-01,  1.2115e-02, -5.3910e-02,  2.7370e-02,\n",
              "                      -4.5472e-02, -7.1162e-03, -9.1003e-02, -8.4738e-02,  1.3535e-02,\n",
              "                      -6.7959e-02, -5.0612e-02, -1.1412e-02, -6.8938e-02,  4.9716e-02,\n",
              "                       3.6498e-02,  1.1091e-01,  4.5342e-02,  3.6880e-03,  7.2277e-02,\n",
              "                      -7.9454e-02,  7.4151e-02,  8.3423e-02,  9.8827e-02, -3.7089e-05,\n",
              "                      -1.0856e-02, -4.7158e-03,  3.1814e-02,  6.6700e-02,  7.7922e-02,\n",
              "                      -3.6473e-03,  2.7509e-02,  3.5495e-02, -2.1515e-02, -1.1427e-02,\n",
              "                      -1.0564e-01,  8.2139e-02, -4.6579e-02, -2.0353e-02,  8.5043e-03,\n",
              "                      -8.3465e-02,  6.3176e-03,  1.8174e-02,  9.8948e-02,  4.0867e-02,\n",
              "                       5.3994e-02,  9.7279e-02,  6.7078e-03, -9.2777e-02,  3.0054e-02,\n",
              "                      -2.3655e-02,  1.1638e-04,  1.2575e-02,  3.6351e-02, -1.1555e-01,\n",
              "                      -6.8618e-02,  1.1614e-01, -1.3076e-02, -5.3945e-02, -1.0446e-02,\n",
              "                      -3.2845e-02, -2.3511e-02,  6.9637e-02,  9.4335e-02, -5.4832e-03,\n",
              "                      -1.5143e-02,  7.5583e-02, -6.8767e-03,  7.5854e-03, -5.6067e-02,\n",
              "                       1.1208e-01,  7.1936e-02, -1.3535e-02,  5.3822e-03,  7.2919e-02,\n",
              "                      -1.2142e-01,  8.8007e-02, -1.0966e-01,  8.9803e-03,  1.6903e-02,\n",
              "                      -1.1961e-01, -7.0425e-02,  1.2274e-01,  4.5426e-02, -1.0433e-01,\n",
              "                      -1.2276e-01,  1.4152e-02,  4.7197e-02, -8.8599e-02, -2.0323e-02,\n",
              "                       1.2462e-01,  1.1148e-01, -3.5812e-02,  7.9301e-02,  2.5992e-02,\n",
              "                      -9.0561e-02,  2.0962e-02, -7.2672e-03,  1.9025e-02,  2.4680e-02,\n",
              "                      -8.6039e-02, -8.5521e-03, -3.2291e-02,  5.2429e-03,  8.2489e-02,\n",
              "                       9.6876e-03,  6.4741e-02,  1.0433e-01,  1.0640e-01, -4.1061e-02,\n",
              "                      -1.2309e-01,  6.7519e-02, -1.2155e-01, -9.0191e-04,  1.1609e-01,\n",
              "                       7.4609e-02, -5.9571e-02,  3.1419e-02, -7.2083e-02,  8.6219e-02,\n",
              "                       1.0480e-01,  6.7048e-02,  8.5871e-02, -4.6367e-03,  1.5795e-02,\n",
              "                       1.0480e-01, -1.0937e-01,  1.0613e-01,  8.1271e-02, -1.0713e-01,\n",
              "                       1.1474e-01, -4.1751e-02,  2.8647e-02,  1.1364e-01,  1.0921e-01,\n",
              "                       6.3130e-02, -9.2753e-02,  1.5947e-02, -4.4280e-02,  5.4617e-02,\n",
              "                      -1.0649e-01,  6.8153e-03, -2.8118e-02,  4.4724e-02,  3.7951e-02,\n",
              "                      -9.5875e-02,  1.5288e-02,  5.8993e-02,  2.0494e-02, -4.8896e-02,\n",
              "                      -8.2407e-02], device='cuda:0')),\n",
              "             ('lstm.bias_hh_l0',\n",
              "              tensor([-0.0520,  0.0226,  0.1231, -0.1149,  0.0218,  0.0752, -0.0523, -0.0014,\n",
              "                       0.0838,  0.0853, -0.0228,  0.0682,  0.0893,  0.0919,  0.1210, -0.0719,\n",
              "                      -0.0613, -0.0046,  0.0005,  0.0763, -0.1144, -0.0071,  0.0348, -0.0607,\n",
              "                       0.0426, -0.0994,  0.0241,  0.0613,  0.0908, -0.1240,  0.1172, -0.0767,\n",
              "                       0.0663, -0.1247, -0.0528,  0.0509,  0.0574,  0.0919,  0.0285,  0.1132,\n",
              "                       0.0076, -0.0634,  0.0703, -0.0849,  0.0525, -0.0842,  0.0819, -0.0589,\n",
              "                       0.0675, -0.0025,  0.0591, -0.0702, -0.0170,  0.0042, -0.0539,  0.0069,\n",
              "                      -0.0234, -0.0668,  0.1061, -0.1115, -0.1029, -0.0149, -0.0145,  0.0496,\n",
              "                       0.1243,  0.1111,  0.0219,  0.0153,  0.0627,  0.0178,  0.0875, -0.0821,\n",
              "                       0.0759,  0.1066, -0.0642, -0.1069, -0.0384,  0.0477, -0.0473,  0.1013,\n",
              "                       0.0437, -0.0627,  0.0893,  0.0140,  0.1125, -0.0579, -0.0586,  0.0677,\n",
              "                       0.0159,  0.0349,  0.0889, -0.0836,  0.0750,  0.0416, -0.1174, -0.0063,\n",
              "                      -0.0285, -0.0286, -0.0116,  0.0834, -0.0681, -0.0573, -0.0201, -0.0675,\n",
              "                       0.0739,  0.0966,  0.0677, -0.0815,  0.1146, -0.0828, -0.0163,  0.1030,\n",
              "                       0.0404, -0.0784, -0.0655, -0.0451,  0.0175,  0.1000,  0.0648,  0.1130,\n",
              "                       0.1223,  0.0217, -0.0031, -0.0349,  0.0389, -0.0933,  0.0173,  0.0626,\n",
              "                      -0.0340, -0.0594, -0.1045, -0.1238,  0.0409, -0.0278,  0.0090,  0.0960,\n",
              "                      -0.1112, -0.0875,  0.0939, -0.0425,  0.0492, -0.0937, -0.0699, -0.0585,\n",
              "                       0.0794, -0.0553,  0.0954,  0.0071, -0.1104,  0.0750,  0.1224,  0.0129,\n",
              "                       0.0372, -0.1106,  0.0436,  0.0453,  0.0252, -0.0134, -0.0645,  0.1143,\n",
              "                       0.0641, -0.0991, -0.1032,  0.0173, -0.0479, -0.0191, -0.0484, -0.1107,\n",
              "                      -0.0396, -0.0714,  0.0691, -0.0188, -0.0409,  0.0093, -0.0327,  0.0224,\n",
              "                       0.0707,  0.0490,  0.0764,  0.0577,  0.0077,  0.0319, -0.0018,  0.1028,\n",
              "                       0.0155, -0.0990,  0.0941, -0.0143,  0.0837, -0.0218, -0.0576,  0.0216,\n",
              "                       0.0857, -0.1014,  0.0832, -0.0912, -0.0104,  0.0067, -0.1114, -0.1003,\n",
              "                       0.1245, -0.0983, -0.0991,  0.0634, -0.1012, -0.1149,  0.0108, -0.0274,\n",
              "                       0.0428,  0.0648, -0.0596,  0.1003, -0.0269, -0.1176,  0.0850, -0.0002,\n",
              "                       0.1072, -0.0955, -0.0059, -0.0830,  0.0720,  0.0232, -0.0341,  0.0233,\n",
              "                       0.0155,  0.1118, -0.0156,  0.1250,  0.1211,  0.0789,  0.0202,  0.0627,\n",
              "                      -0.0947, -0.1022,  0.1231,  0.0841,  0.0643,  0.1214, -0.0452, -0.0835,\n",
              "                      -0.0341, -0.0734,  0.0144, -0.0539,  0.1030, -0.0605, -0.0580, -0.0732,\n",
              "                       0.0440,  0.0114, -0.1226, -0.0623, -0.0865,  0.1107,  0.1226, -0.1127],\n",
              "                     device='cuda:0')),\n",
              "             ('lstm.weight_ih_l1',\n",
              "              tensor([[ 0.0907,  0.0738, -0.1078,  ..., -0.0221, -0.1142,  0.0037],\n",
              "                      [ 0.0845,  0.0091,  0.0099,  ..., -0.0287, -0.1212,  0.0486],\n",
              "                      [ 0.0996,  0.0067,  0.0185,  ..., -0.0072,  0.1001, -0.0229],\n",
              "                      ...,\n",
              "                      [ 0.0266,  0.0056,  0.0065,  ..., -0.0026, -0.1029, -0.1127],\n",
              "                      [ 0.0645, -0.0958,  0.0344,  ..., -0.0267,  0.0924,  0.0018],\n",
              "                      [ 0.0138, -0.0979,  0.1041,  ..., -0.0885, -0.1008,  0.0483]],\n",
              "                     device='cuda:0')),\n",
              "             ('lstm.weight_hh_l1',\n",
              "              tensor([[-0.0986,  0.0647,  0.0449,  ...,  0.0128, -0.1022,  0.0616],\n",
              "                      [-0.0698, -0.0581, -0.0656,  ...,  0.0385,  0.0167, -0.0279],\n",
              "                      [ 0.0532,  0.0314, -0.0096,  ..., -0.1089,  0.0812,  0.1064],\n",
              "                      ...,\n",
              "                      [ 0.0119, -0.1242, -0.0125,  ...,  0.0296,  0.1199,  0.0167],\n",
              "                      [-0.0512, -0.0935,  0.0447,  ...,  0.1101, -0.0105, -0.1090],\n",
              "                      [ 0.0092,  0.0121, -0.0115,  ...,  0.0542, -0.0375, -0.0919]],\n",
              "                     device='cuda:0')),\n",
              "             ('lstm.bias_ih_l1',\n",
              "              tensor([ 0.0254,  0.1089, -0.0452, -0.0442,  0.1249,  0.0709,  0.0049,  0.0461,\n",
              "                      -0.0253,  0.0248,  0.0853, -0.0207,  0.0229, -0.0848,  0.0685,  0.0825,\n",
              "                      -0.1197, -0.0274, -0.0513,  0.0018,  0.0862, -0.0216, -0.0841, -0.0844,\n",
              "                       0.0244,  0.0498,  0.0485, -0.0911,  0.0604, -0.0509,  0.0171, -0.0780,\n",
              "                       0.0500,  0.0458,  0.0563, -0.0445, -0.1060, -0.0910,  0.0183,  0.1092,\n",
              "                      -0.0589, -0.1081,  0.0117, -0.0594, -0.0258,  0.0465,  0.0322,  0.0509,\n",
              "                       0.0796,  0.1135, -0.0196,  0.1097,  0.0816,  0.1161,  0.0757,  0.1167,\n",
              "                      -0.0852,  0.0605, -0.0384, -0.0206,  0.0417,  0.0092, -0.0814, -0.1230,\n",
              "                      -0.0394,  0.1188,  0.0731,  0.0355, -0.1200, -0.0877,  0.0610, -0.0022,\n",
              "                      -0.0152,  0.0651, -0.0886,  0.0132, -0.0227, -0.0962, -0.0173, -0.0377,\n",
              "                      -0.0965,  0.0031, -0.0854,  0.0358,  0.0972,  0.0844,  0.1066,  0.1112,\n",
              "                       0.0023,  0.1105,  0.0754, -0.1241, -0.0683, -0.0976, -0.0880, -0.0293,\n",
              "                      -0.1135,  0.0479, -0.0627, -0.0338,  0.0043, -0.0913, -0.0541, -0.1241,\n",
              "                      -0.0102, -0.1072, -0.0079,  0.0641,  0.0825,  0.1135, -0.0567,  0.0297,\n",
              "                      -0.0803, -0.0516, -0.0805, -0.0741, -0.0131, -0.0108,  0.0443,  0.0411,\n",
              "                      -0.0690, -0.1055, -0.0176, -0.0866,  0.0306,  0.1075, -0.0590, -0.1099,\n",
              "                      -0.0106,  0.0513, -0.0507, -0.1027,  0.0876,  0.0115, -0.0318,  0.0555,\n",
              "                      -0.0626, -0.1068,  0.0713, -0.0226,  0.0525,  0.0834,  0.0143, -0.0257,\n",
              "                       0.0685, -0.0150,  0.0644, -0.1023, -0.1186,  0.0680,  0.0972, -0.1152,\n",
              "                       0.0175,  0.0020, -0.0166, -0.0494, -0.1053,  0.0042, -0.1213,  0.0375,\n",
              "                      -0.0724, -0.0384,  0.0952, -0.1051, -0.0711,  0.0535, -0.1056, -0.1034,\n",
              "                       0.0135,  0.0324,  0.0912,  0.1213,  0.0932, -0.0296,  0.0269, -0.0928,\n",
              "                       0.1030, -0.0294,  0.0507,  0.0178,  0.0936,  0.0824, -0.0035,  0.0960,\n",
              "                      -0.0961, -0.0084, -0.0626,  0.1006,  0.1176,  0.0582, -0.0310,  0.0125,\n",
              "                      -0.0933,  0.0474,  0.0056,  0.0233,  0.0767, -0.0532, -0.0310, -0.0146,\n",
              "                      -0.0124,  0.0297,  0.0610, -0.0853,  0.0617, -0.0147, -0.0609,  0.0871,\n",
              "                      -0.0303,  0.0856,  0.0327, -0.0280, -0.0866,  0.0632, -0.1048,  0.0862,\n",
              "                       0.1103,  0.1129, -0.0561,  0.0461, -0.0805, -0.0431, -0.0492,  0.0158,\n",
              "                       0.0075, -0.0014,  0.0450, -0.0729,  0.0265, -0.0382, -0.0277, -0.0348,\n",
              "                      -0.0181,  0.1235,  0.0953,  0.0319,  0.0028,  0.0602,  0.0867,  0.0729,\n",
              "                      -0.0709, -0.1230,  0.0508, -0.0954,  0.1060,  0.0673, -0.0767, -0.0685,\n",
              "                       0.0340, -0.0906,  0.0182, -0.1078,  0.1141,  0.0073, -0.0315,  0.0999],\n",
              "                     device='cuda:0')),\n",
              "             ('lstm.bias_hh_l1',\n",
              "              tensor([-0.0456,  0.0749, -0.1120,  0.0936, -0.0301,  0.0072, -0.0026, -0.0726,\n",
              "                      -0.1012,  0.0149, -0.0567, -0.1009, -0.1188,  0.1044,  0.1230,  0.0089,\n",
              "                       0.0935, -0.1021, -0.0411,  0.0077,  0.1063,  0.0668, -0.1210, -0.0573,\n",
              "                      -0.0997,  0.0978, -0.0642, -0.0689, -0.0642, -0.0947,  0.0072,  0.1238,\n",
              "                      -0.0654,  0.0555,  0.1231, -0.1099,  0.0596,  0.0311,  0.0476, -0.0788,\n",
              "                      -0.0926, -0.0163,  0.0656, -0.0729,  0.0298,  0.1088,  0.0968, -0.0206,\n",
              "                      -0.0229,  0.0141, -0.0866, -0.0365,  0.0356, -0.0730,  0.0587,  0.0815,\n",
              "                       0.1080, -0.0620, -0.0844,  0.1004,  0.1234,  0.0358,  0.0697,  0.0337,\n",
              "                      -0.0527,  0.0343, -0.0543, -0.0889,  0.0070,  0.1207, -0.1077,  0.0715,\n",
              "                       0.0437, -0.0055,  0.0033, -0.0442,  0.0512, -0.0076,  0.0780, -0.0790,\n",
              "                       0.0546,  0.0320, -0.0286, -0.0471, -0.0688, -0.0179,  0.1168, -0.0187,\n",
              "                      -0.0395,  0.0579,  0.0711, -0.0148, -0.0803, -0.0203,  0.0137,  0.0107,\n",
              "                       0.0553, -0.0849, -0.1010,  0.0484,  0.0093,  0.1223,  0.0109,  0.1054,\n",
              "                      -0.0453, -0.0847,  0.0132,  0.0290, -0.0778,  0.0604, -0.0783, -0.0345,\n",
              "                       0.0074,  0.0129,  0.0905,  0.0140, -0.0194,  0.0164,  0.0107, -0.0405,\n",
              "                      -0.0336,  0.0434, -0.0480,  0.0078,  0.0885, -0.1186, -0.1163, -0.1205,\n",
              "                      -0.0882, -0.1090, -0.0337,  0.1205, -0.0446,  0.0514, -0.0460,  0.0766,\n",
              "                       0.0106, -0.0951, -0.0573,  0.1022, -0.0744,  0.1130,  0.0147,  0.0882,\n",
              "                      -0.0894, -0.0460,  0.0993, -0.0611, -0.0025,  0.0022, -0.0850, -0.0675,\n",
              "                       0.0383, -0.1106, -0.0253,  0.0374, -0.0188, -0.0079, -0.0506,  0.1132,\n",
              "                      -0.0969,  0.0295,  0.0932, -0.0974,  0.1030, -0.0878,  0.1128,  0.0123,\n",
              "                       0.1003,  0.0695,  0.0360,  0.0685,  0.0545,  0.0122,  0.0721,  0.0132,\n",
              "                      -0.0037, -0.0614,  0.0684,  0.0739,  0.1018, -0.0625,  0.1103, -0.1167,\n",
              "                       0.0981, -0.0773, -0.0787,  0.0365,  0.0537,  0.1111,  0.0781,  0.0324,\n",
              "                       0.0367, -0.0561, -0.0642, -0.0771,  0.0028,  0.1016, -0.0521,  0.0303,\n",
              "                       0.1204,  0.0273, -0.0968, -0.0621, -0.0901,  0.0491, -0.0383, -0.0617,\n",
              "                       0.0621, -0.0906,  0.0113, -0.0899, -0.0834,  0.1192, -0.0094,  0.0532,\n",
              "                       0.0418,  0.1018, -0.0684, -0.0073,  0.0347, -0.1075,  0.0380,  0.0262,\n",
              "                       0.0977,  0.0117,  0.0255, -0.0784,  0.0055, -0.0608, -0.0253,  0.0472,\n",
              "                       0.0306,  0.0738,  0.0447, -0.1008, -0.0578,  0.0892, -0.0353,  0.0512,\n",
              "                       0.0124, -0.0310,  0.1129,  0.0007, -0.0311, -0.0893,  0.0188, -0.0219,\n",
              "                      -0.1210, -0.0438,  0.0460, -0.0196, -0.0411,  0.0492,  0.0721,  0.0882],\n",
              "                     device='cuda:0')),\n",
              "             ('lstm.weight_ih_l2',\n",
              "              tensor([[ 0.0251, -0.0686, -0.0972,  ..., -0.0846, -0.0143,  0.0840],\n",
              "                      [-0.0092,  0.0963,  0.0209,  ...,  0.0347,  0.0664, -0.1186],\n",
              "                      [-0.0813, -0.1057, -0.1069,  ..., -0.0239, -0.0068, -0.0200],\n",
              "                      ...,\n",
              "                      [-0.0298, -0.1202, -0.1142,  ...,  0.0416, -0.0755, -0.0418],\n",
              "                      [-0.0033,  0.0015, -0.0185,  ...,  0.0278, -0.0042,  0.0457],\n",
              "                      [ 0.1090, -0.0378, -0.0850,  ..., -0.1245, -0.0989, -0.1249]],\n",
              "                     device='cuda:0')),\n",
              "             ('lstm.weight_hh_l2',\n",
              "              tensor([[ 0.0009, -0.0030, -0.0815,  ..., -0.0193, -0.0089,  0.0341],\n",
              "                      [ 0.0439, -0.0406,  0.0760,  ...,  0.0771,  0.0039,  0.1214],\n",
              "                      [ 0.0942,  0.0447,  0.0132,  ..., -0.0554, -0.1091,  0.0493],\n",
              "                      ...,\n",
              "                      [ 0.0807, -0.0440,  0.1152,  ..., -0.0007, -0.0847,  0.0198],\n",
              "                      [-0.0723, -0.1077,  0.0143,  ..., -0.0235,  0.0574, -0.0396],\n",
              "                      [-0.0665, -0.1106,  0.0329,  ...,  0.1231,  0.0886, -0.0325]],\n",
              "                     device='cuda:0')),\n",
              "             ('lstm.bias_ih_l2',\n",
              "              tensor([ 0.0482,  0.0213, -0.0539,  0.0081,  0.0029, -0.0380, -0.0735, -0.0074,\n",
              "                      -0.0659, -0.1088,  0.1095, -0.1234,  0.0810,  0.0150, -0.0244, -0.0445,\n",
              "                       0.0183,  0.1166,  0.0127, -0.0396, -0.0124,  0.0173, -0.0031,  0.0770,\n",
              "                      -0.1113, -0.0721, -0.0788, -0.0875, -0.0224, -0.1005, -0.0282,  0.0350,\n",
              "                      -0.0776,  0.0096, -0.1050, -0.0993, -0.0871,  0.1079, -0.0498,  0.1171,\n",
              "                      -0.0223, -0.1070, -0.1209,  0.0426,  0.0630, -0.1220, -0.0505, -0.0452,\n",
              "                      -0.0084, -0.1245,  0.0242,  0.0690,  0.0545, -0.0853,  0.0836,  0.1244,\n",
              "                       0.0160,  0.1201, -0.0545, -0.1215,  0.1167, -0.0560, -0.0051, -0.0095,\n",
              "                       0.0275,  0.0144, -0.0356,  0.0279, -0.0559,  0.0220,  0.0681,  0.0991,\n",
              "                       0.0183,  0.0671, -0.1212,  0.0386, -0.0471, -0.0926, -0.0097,  0.0530,\n",
              "                      -0.1000, -0.0165, -0.0914,  0.0013, -0.0127,  0.0448, -0.0377, -0.1233,\n",
              "                      -0.0506,  0.0499,  0.1048,  0.1024, -0.0700, -0.0313,  0.0892,  0.0741,\n",
              "                      -0.0428,  0.0856,  0.1176, -0.0661,  0.0889, -0.0290, -0.0458, -0.0043,\n",
              "                       0.0163,  0.0482, -0.1247,  0.0761, -0.0171, -0.0035, -0.1203,  0.1168,\n",
              "                       0.0168,  0.0485,  0.1241,  0.0833,  0.0238,  0.0642, -0.0211, -0.1118,\n",
              "                      -0.0485, -0.1246, -0.0310,  0.1148, -0.0911, -0.1099,  0.0747, -0.0981,\n",
              "                       0.0538, -0.0260,  0.0782,  0.0483, -0.0175, -0.0745, -0.0953, -0.0624,\n",
              "                       0.0697,  0.0617,  0.1079,  0.0147, -0.0875, -0.0627, -0.0197,  0.0538,\n",
              "                       0.0257,  0.1150, -0.0761,  0.0118,  0.0378,  0.0331, -0.0378, -0.0653,\n",
              "                       0.0945, -0.0608, -0.1026, -0.0263, -0.0165, -0.0205,  0.0387, -0.0806,\n",
              "                       0.0299,  0.0903,  0.1138, -0.0402,  0.1080, -0.0769,  0.0478, -0.0502,\n",
              "                       0.0115,  0.0109, -0.0353, -0.0706, -0.1142,  0.0374, -0.0166,  0.0322,\n",
              "                       0.0862,  0.0081,  0.0384, -0.0735,  0.0503,  0.0287,  0.1222,  0.1122,\n",
              "                       0.0810, -0.0925, -0.0242, -0.0604, -0.0129, -0.1205,  0.0225, -0.0532,\n",
              "                      -0.1205, -0.0802, -0.0152, -0.0637,  0.0145,  0.0455, -0.0551, -0.0148,\n",
              "                      -0.0992, -0.0741,  0.1181, -0.0834,  0.0629,  0.1030, -0.0932, -0.1066,\n",
              "                       0.0423, -0.0571,  0.0760, -0.0399, -0.0712, -0.0282, -0.0425, -0.0370,\n",
              "                       0.1197, -0.1058,  0.1001,  0.0668, -0.0407, -0.0441, -0.1024,  0.1034,\n",
              "                      -0.0095, -0.0646,  0.0958,  0.0044,  0.0842, -0.0568, -0.0217, -0.1114,\n",
              "                       0.0624,  0.1014, -0.1030,  0.1248, -0.0634, -0.0107, -0.0583, -0.0224,\n",
              "                       0.0489, -0.0810, -0.1038, -0.0959, -0.0758,  0.0035,  0.0322,  0.0215,\n",
              "                       0.0619, -0.0873,  0.0103, -0.0265,  0.0293,  0.0418,  0.0039, -0.1060],\n",
              "                     device='cuda:0')),\n",
              "             ('lstm.bias_hh_l2',\n",
              "              tensor([-0.0058, -0.0483, -0.1156,  0.0174, -0.0815,  0.1237,  0.0939,  0.0022,\n",
              "                       0.0086,  0.0306,  0.0457,  0.0300, -0.0218,  0.1148,  0.0243, -0.0359,\n",
              "                       0.1126,  0.0911,  0.1181, -0.0158, -0.0265, -0.0086,  0.0057,  0.0616,\n",
              "                       0.0261, -0.0007,  0.0691, -0.0072,  0.1229, -0.0824, -0.0609, -0.0857,\n",
              "                      -0.0698, -0.0923,  0.0673,  0.0297, -0.1100, -0.1179, -0.1013,  0.1051,\n",
              "                      -0.0745,  0.0360, -0.0675, -0.0567,  0.0246, -0.1055, -0.1011, -0.0724,\n",
              "                      -0.1088,  0.0710, -0.0147,  0.1209, -0.0509,  0.1103,  0.0239, -0.0122,\n",
              "                      -0.1218,  0.1094,  0.0025, -0.0896,  0.0222,  0.0632,  0.0535, -0.0460,\n",
              "                       0.1151,  0.0036, -0.0672,  0.0138,  0.0720,  0.0774, -0.0494, -0.0248,\n",
              "                      -0.0651,  0.0942, -0.0331, -0.1104, -0.0688, -0.0569, -0.0884, -0.1216,\n",
              "                      -0.0371, -0.0628,  0.0288,  0.0889,  0.0231,  0.0033,  0.1117,  0.0407,\n",
              "                      -0.0870, -0.1113, -0.0386,  0.0761, -0.0662, -0.1219,  0.0308,  0.0347,\n",
              "                       0.0067,  0.0088, -0.0110, -0.0260,  0.1230, -0.0136, -0.1003,  0.0244,\n",
              "                       0.0600,  0.0138, -0.0750,  0.1050,  0.0958, -0.1222,  0.1114,  0.0117,\n",
              "                      -0.0079, -0.0014, -0.1143,  0.0581, -0.0103, -0.0927,  0.0575,  0.0458,\n",
              "                       0.0168, -0.0727,  0.0248, -0.0492, -0.0096, -0.1226, -0.0086, -0.0551,\n",
              "                       0.0941,  0.1009,  0.0959, -0.0201, -0.0798,  0.0856, -0.1174,  0.1167,\n",
              "                       0.0663,  0.0747, -0.0623,  0.1101, -0.0535,  0.0186, -0.0048,  0.1092,\n",
              "                      -0.0430,  0.0267, -0.0024, -0.1100,  0.0125,  0.0701,  0.0776,  0.1155,\n",
              "                       0.1040, -0.1097,  0.0758,  0.0796, -0.0119,  0.0695, -0.0722, -0.0592,\n",
              "                       0.0946, -0.0851,  0.0536, -0.0372,  0.0844, -0.0493,  0.0958,  0.0449,\n",
              "                      -0.0404, -0.0367, -0.0121,  0.0622, -0.1083, -0.0815, -0.0314,  0.0679,\n",
              "                       0.0165, -0.0310, -0.0717,  0.0940, -0.0378,  0.0816,  0.0604, -0.1179,\n",
              "                      -0.0855,  0.0156, -0.0122,  0.0049,  0.0440, -0.0061,  0.0697, -0.0986,\n",
              "                      -0.0375,  0.0692,  0.0352,  0.0876, -0.0604,  0.1070,  0.1206, -0.0697,\n",
              "                       0.0530, -0.0098,  0.0638, -0.0270, -0.1194, -0.0245,  0.0927,  0.0577,\n",
              "                      -0.0345,  0.0477,  0.0977,  0.0041,  0.0012, -0.0149,  0.0984,  0.0090,\n",
              "                       0.0107,  0.0503,  0.0227,  0.0942,  0.0303, -0.0645,  0.0527, -0.0650,\n",
              "                      -0.0364,  0.0766, -0.0712,  0.0482,  0.0801,  0.1023,  0.0302,  0.1095,\n",
              "                       0.0818,  0.0022,  0.1076,  0.0740,  0.0911, -0.0837,  0.0569, -0.0379,\n",
              "                      -0.0034,  0.1106, -0.0976, -0.0107, -0.1142, -0.1071, -0.0759,  0.0662,\n",
              "                      -0.1221,  0.0353, -0.1143, -0.1098, -0.0445, -0.0742,  0.0324,  0.1039],\n",
              "                     device='cuda:0')),\n",
              "             ('lstm.weight_ih_l3',\n",
              "              tensor([[-0.0049,  0.1115,  0.0652,  ...,  0.0483,  0.0989,  0.0418],\n",
              "                      [ 0.0839,  0.0163,  0.0407,  ...,  0.0957,  0.0152, -0.0612],\n",
              "                      [-0.1224, -0.1211,  0.0926,  ..., -0.0241,  0.0683, -0.0568],\n",
              "                      ...,\n",
              "                      [-0.0904,  0.0840,  0.0050,  ...,  0.0909,  0.1208, -0.0704],\n",
              "                      [ 0.0505,  0.0375, -0.0183,  ...,  0.0186,  0.0190, -0.0353],\n",
              "                      [-0.0065, -0.0941, -0.0773,  ...,  0.0703, -0.0078, -0.0614]],\n",
              "                     device='cuda:0')),\n",
              "             ('lstm.weight_hh_l3',\n",
              "              tensor([[-0.0675, -0.0012,  0.0142,  ..., -0.0276, -0.0212, -0.0147],\n",
              "                      [-0.0909,  0.1209,  0.0273,  ..., -0.0844, -0.0366, -0.1058],\n",
              "                      [ 0.0523, -0.1065, -0.1206,  ...,  0.0751,  0.0654, -0.0294],\n",
              "                      ...,\n",
              "                      [ 0.0136,  0.0319,  0.0211,  ...,  0.0272,  0.0623,  0.0672],\n",
              "                      [-0.0514,  0.0551, -0.0072,  ..., -0.0977,  0.0182,  0.0675],\n",
              "                      [ 0.1016,  0.0094,  0.0140,  ..., -0.0512,  0.0224, -0.1123]],\n",
              "                     device='cuda:0')),\n",
              "             ('lstm.bias_ih_l3',\n",
              "              tensor([-6.4990e-03,  4.6557e-02,  8.5708e-04,  1.1055e-02, -4.2667e-02,\n",
              "                      -9.1024e-02, -3.6513e-02, -1.0210e-01,  4.6374e-02,  6.0972e-02,\n",
              "                      -3.9045e-02, -6.0777e-02, -3.0142e-02,  2.7942e-03, -1.1481e-01,\n",
              "                       1.0175e-01, -2.9634e-02, -1.0759e-01,  8.2510e-02,  2.0224e-02,\n",
              "                       8.7548e-02, -3.5718e-02, -9.2921e-02,  4.7369e-02,  5.1719e-02,\n",
              "                       8.4392e-02, -7.4660e-02, -9.9409e-02, -5.5853e-02,  4.9530e-02,\n",
              "                      -8.3685e-02, -2.9274e-02,  7.6486e-02, -8.3263e-02, -1.0792e-01,\n",
              "                       1.1259e-01, -3.7422e-02,  1.0073e-01, -6.9215e-02,  9.7488e-02,\n",
              "                       3.0673e-02,  4.2592e-02,  4.8845e-02,  7.0951e-03,  9.3466e-02,\n",
              "                      -4.5213e-02,  4.9803e-02,  1.1603e-01, -1.0940e-01,  3.9801e-02,\n",
              "                      -6.7461e-02, -8.2041e-03, -4.0583e-02,  9.8882e-02,  5.0786e-02,\n",
              "                      -8.2942e-02, -9.2769e-02, -5.1907e-02,  8.0163e-02, -7.1905e-02,\n",
              "                      -5.9373e-02, -1.0065e-01, -4.1827e-02,  5.0698e-02,  4.3109e-02,\n",
              "                      -3.9363e-02,  8.0804e-02,  1.2346e-01,  4.9868e-02, -5.7060e-02,\n",
              "                      -6.4133e-02,  3.3905e-02,  2.3636e-02,  1.0254e-01,  1.3207e-02,\n",
              "                       8.5572e-02, -1.1187e-01,  4.6035e-02,  6.2451e-02,  4.8823e-02,\n",
              "                      -1.0623e-01, -4.0560e-02, -3.0880e-02,  2.4948e-02, -1.0906e-01,\n",
              "                      -4.6524e-02,  6.8690e-02,  1.2450e-02, -9.5998e-03,  1.0704e-02,\n",
              "                      -8.7899e-02,  9.1218e-02, -5.0483e-02, -6.9140e-02, -8.9916e-02,\n",
              "                      -6.0624e-02,  6.2627e-02,  9.2108e-03, -1.6777e-02,  3.1063e-02,\n",
              "                      -9.2798e-02,  2.3545e-03,  4.0842e-02,  1.2038e-01, -1.0004e-01,\n",
              "                      -6.3417e-02,  9.3441e-02,  7.7407e-02, -9.6460e-02, -2.5158e-02,\n",
              "                      -3.0295e-02,  2.2934e-02,  1.2959e-02, -2.5716e-02,  2.5320e-02,\n",
              "                      -4.9454e-02, -2.4588e-02,  8.3053e-02,  1.0389e-01,  1.0678e-01,\n",
              "                      -1.1620e-01,  7.2084e-02, -8.5260e-02, -4.4481e-02,  5.2341e-03,\n",
              "                       2.5157e-02,  8.8769e-02,  1.2303e-02, -5.6256e-02,  9.9440e-02,\n",
              "                       8.9218e-02, -6.3043e-02, -1.6421e-02,  7.4816e-02,  9.7588e-02,\n",
              "                       8.7838e-03,  7.4114e-02, -1.1567e-01, -1.8436e-02, -6.0435e-02,\n",
              "                      -2.3667e-02,  1.0979e-01,  9.1605e-02, -3.4160e-02,  1.2215e-01,\n",
              "                       7.7042e-02, -5.9943e-02, -4.3986e-02, -8.6180e-02, -9.7935e-02,\n",
              "                       9.6870e-02, -1.1511e-01, -9.2070e-02,  5.3593e-02,  1.1403e-01,\n",
              "                       3.8308e-03, -9.8452e-05,  8.3494e-02,  1.1245e-01,  3.7735e-02,\n",
              "                       7.0553e-02, -8.6788e-02, -7.3859e-02, -8.0672e-02, -5.6270e-02,\n",
              "                       3.4183e-02,  4.9157e-02, -6.1879e-02,  2.6763e-02,  4.1451e-02,\n",
              "                      -1.1044e-01,  5.2223e-02,  2.2736e-02, -7.3111e-03,  9.4232e-02,\n",
              "                       1.0830e-01, -8.0717e-02,  1.2111e-01,  2.4311e-02, -9.3782e-02,\n",
              "                       8.0612e-02, -2.4124e-02, -9.6593e-03, -1.8744e-02,  9.6009e-02,\n",
              "                       5.6257e-02,  3.6943e-02,  6.6977e-02, -2.9387e-02,  5.0771e-02,\n",
              "                      -8.9495e-02, -2.9534e-02, -2.5193e-02, -1.1606e-01, -3.6926e-02,\n",
              "                      -9.0166e-02,  4.0782e-03, -1.0280e-01, -1.1343e-02, -7.2963e-02,\n",
              "                       1.0085e-01, -5.8513e-02,  1.0927e-01, -7.8946e-02, -1.0965e-01,\n",
              "                      -6.9334e-02, -5.4236e-02,  2.4773e-02, -1.1628e-01,  2.6546e-02,\n",
              "                       5.2256e-02,  7.0634e-02,  5.4806e-02,  8.0288e-02,  5.9688e-02,\n",
              "                       2.2442e-02, -1.0416e-01,  1.4482e-02, -6.1997e-02, -6.6978e-02,\n",
              "                       1.6014e-02,  8.9005e-02,  8.4292e-02,  3.4055e-02,  7.9645e-02,\n",
              "                       1.3297e-03,  1.1853e-01,  1.0854e-01,  6.6687e-02, -7.1649e-02,\n",
              "                       7.6297e-02,  3.9472e-02, -2.6010e-02, -7.1287e-02,  7.9358e-02,\n",
              "                       1.0335e-01, -1.2162e-01, -4.7429e-02, -5.2587e-02, -5.3090e-02,\n",
              "                       8.0994e-03, -3.1554e-02, -6.9087e-03,  9.1781e-02,  2.6946e-02,\n",
              "                      -4.7751e-02, -6.6651e-02, -6.6080e-02,  3.4771e-02, -1.0038e-01,\n",
              "                       1.5393e-02,  3.8120e-02, -1.0361e-01,  1.2148e-01, -1.2205e-01,\n",
              "                       5.4097e-02], device='cuda:0')),\n",
              "             ('lstm.bias_hh_l3',\n",
              "              tensor([ 0.0203, -0.0575,  0.1093,  0.1013,  0.0079,  0.0769,  0.0997,  0.0167,\n",
              "                       0.1056, -0.0098, -0.0253, -0.0513,  0.0095, -0.0796, -0.0185, -0.0024,\n",
              "                       0.0182, -0.0668, -0.1135,  0.0769, -0.1025, -0.0560,  0.0919, -0.0045,\n",
              "                       0.1237, -0.0830,  0.1034, -0.0130,  0.1223,  0.0100,  0.0097, -0.0547,\n",
              "                      -0.1159,  0.0746,  0.0938,  0.0709, -0.1164,  0.0075, -0.0718, -0.1119,\n",
              "                       0.0899, -0.1068, -0.0718,  0.0796, -0.0249, -0.0486, -0.0057, -0.0048,\n",
              "                      -0.0469, -0.1149,  0.0352,  0.0527, -0.0672, -0.0656,  0.1036, -0.0653,\n",
              "                       0.0202, -0.1038,  0.0496, -0.0905, -0.0497, -0.0454, -0.1044,  0.0601,\n",
              "                      -0.0388,  0.0508, -0.0220,  0.0659, -0.0007,  0.0414, -0.1226, -0.1190,\n",
              "                       0.1062,  0.0536, -0.0802, -0.0175, -0.0142, -0.1230, -0.1020,  0.0232,\n",
              "                      -0.0150, -0.0457,  0.1023,  0.0843, -0.0508, -0.0488, -0.0235, -0.1109,\n",
              "                      -0.0901, -0.0659, -0.0697, -0.0717, -0.1005, -0.0869,  0.1190,  0.1037,\n",
              "                      -0.0700, -0.0954, -0.0548,  0.0444, -0.1191, -0.1189,  0.0185,  0.1113,\n",
              "                       0.0576,  0.0831,  0.0172,  0.0290, -0.1013,  0.0739, -0.0623, -0.0072,\n",
              "                      -0.0186, -0.0723,  0.1230,  0.1039, -0.1225, -0.0219, -0.0446, -0.0277,\n",
              "                       0.1162,  0.1124, -0.0924, -0.0373, -0.0905,  0.1214,  0.0151, -0.0114,\n",
              "                       0.0884, -0.0167, -0.0233,  0.0631,  0.0773, -0.0738,  0.0423, -0.0871,\n",
              "                      -0.0822, -0.0564, -0.1181,  0.1241, -0.0496,  0.1001,  0.0223,  0.0463,\n",
              "                      -0.0676,  0.1200, -0.1082,  0.0505,  0.1047,  0.0789, -0.0282,  0.0018,\n",
              "                      -0.0310,  0.0608,  0.0505, -0.0775, -0.1178, -0.1142, -0.0352,  0.0732,\n",
              "                      -0.0658,  0.0591,  0.0062,  0.0975, -0.1227,  0.1240,  0.0867,  0.0769,\n",
              "                      -0.0799,  0.0742, -0.0587, -0.0834,  0.0827, -0.1170, -0.0578, -0.1067,\n",
              "                      -0.0783,  0.1166, -0.0614,  0.1170,  0.1140, -0.0996, -0.1071, -0.0002,\n",
              "                      -0.0639, -0.0164, -0.0515,  0.0189,  0.0149,  0.0808, -0.0558,  0.0246,\n",
              "                      -0.0695, -0.1152,  0.1125, -0.0214,  0.0509, -0.0622, -0.0649,  0.0141,\n",
              "                      -0.0038, -0.1071,  0.0269,  0.0901, -0.0880, -0.1239, -0.1059,  0.0415,\n",
              "                       0.0194, -0.0827, -0.0298,  0.0981, -0.0503, -0.0268, -0.0212, -0.1006,\n",
              "                      -0.0690, -0.1138, -0.0029, -0.1159, -0.0993,  0.0317, -0.0004, -0.0782,\n",
              "                      -0.0953,  0.0634,  0.0090, -0.0130, -0.0236,  0.0046,  0.0786,  0.0325,\n",
              "                       0.0876, -0.1191, -0.1206, -0.0891,  0.1019, -0.0674,  0.0733,  0.0118,\n",
              "                      -0.0465,  0.0781,  0.0123,  0.1183, -0.0756,  0.0635, -0.0312, -0.0273,\n",
              "                      -0.0895, -0.0459,  0.1235,  0.0336,  0.0859, -0.0224, -0.0191,  0.0309],\n",
              "                     device='cuda:0')),\n",
              "             ('fc.weight',\n",
              "              tensor([[-0.0932,  0.1221,  0.0791,  0.0199, -0.0274,  0.0613,  0.0008,  0.0399,\n",
              "                       -0.1037,  0.0423,  0.0908, -0.1123,  0.0272,  0.0480, -0.0410,  0.1149,\n",
              "                       -0.0455, -0.0248,  0.0763,  0.1231,  0.1078,  0.0800, -0.0927, -0.0152,\n",
              "                        0.0455,  0.0578, -0.1004, -0.0403,  0.0863,  0.0274, -0.0730,  0.0477,\n",
              "                        0.0007, -0.0825, -0.0622, -0.0541,  0.1116,  0.0499, -0.0311, -0.0362,\n",
              "                        0.0776, -0.0421,  0.0826, -0.0956,  0.0544,  0.0767, -0.1008,  0.0263,\n",
              "                        0.0049,  0.1211,  0.0975, -0.1218, -0.0787,  0.0149, -0.0734,  0.0913,\n",
              "                       -0.0191,  0.0452,  0.1127, -0.0262, -0.1125, -0.0811, -0.0182, -0.0047],\n",
              "                      [-0.0021,  0.0181, -0.1152,  0.0176,  0.0839, -0.0909,  0.1006, -0.1044,\n",
              "                       -0.0116, -0.0442,  0.0062, -0.1208, -0.0287,  0.0723,  0.0513, -0.0994,\n",
              "                       -0.1099,  0.1156, -0.0562, -0.0350,  0.0696, -0.1079, -0.0532,  0.0844,\n",
              "                        0.0374,  0.0142, -0.0916,  0.0426, -0.0079, -0.0098, -0.0612, -0.1087,\n",
              "                       -0.0457,  0.0298, -0.0031,  0.1081,  0.1133, -0.0464,  0.0008, -0.0485,\n",
              "                        0.0813, -0.0643, -0.0739, -0.0367, -0.0523, -0.1217, -0.0345, -0.0452,\n",
              "                       -0.1124,  0.0003,  0.1221, -0.0301, -0.0813, -0.0849, -0.0495,  0.0894,\n",
              "                        0.0007, -0.0809,  0.0756,  0.0548, -0.1030,  0.0513,  0.0091, -0.0551],\n",
              "                      [-0.0187,  0.1081,  0.1062, -0.0784, -0.0337,  0.0520,  0.0648,  0.0617,\n",
              "                        0.0508,  0.0265,  0.0153, -0.0069, -0.0028,  0.0454,  0.0867,  0.0683,\n",
              "                        0.0720, -0.0325, -0.0213, -0.0720,  0.1142,  0.1203, -0.0877,  0.1225,\n",
              "                       -0.1185,  0.0873,  0.0490,  0.0129, -0.0812, -0.0142,  0.0491, -0.0236,\n",
              "                        0.1129, -0.0991, -0.1045, -0.1149,  0.0218, -0.0724,  0.0464, -0.0851,\n",
              "                       -0.0822,  0.0031, -0.1209, -0.0155, -0.1219, -0.0169,  0.1014,  0.1107,\n",
              "                       -0.0744, -0.0834, -0.0864,  0.0809, -0.0783,  0.1166,  0.0551, -0.0132,\n",
              "                       -0.0446, -0.0036,  0.0381, -0.0321, -0.0450, -0.0771, -0.1232,  0.0045],\n",
              "                      [-0.1002,  0.0226, -0.0595,  0.0899, -0.0036, -0.0013, -0.1077, -0.0904,\n",
              "                       -0.0786, -0.0402,  0.1084, -0.0340, -0.0932,  0.0407,  0.0444, -0.0187,\n",
              "                        0.1200, -0.0879, -0.0555,  0.1207, -0.1163,  0.0041, -0.0804, -0.0933,\n",
              "                        0.0101,  0.0624,  0.0204,  0.0036,  0.0589,  0.1170,  0.1013, -0.0521,\n",
              "                        0.0635, -0.0833,  0.0600,  0.1062,  0.0843, -0.0090,  0.0978, -0.0651,\n",
              "                        0.0440, -0.0783, -0.0668,  0.0747, -0.0757,  0.0781,  0.0174,  0.0113,\n",
              "                        0.0740,  0.0369, -0.1087, -0.0428,  0.1243,  0.0327, -0.0882,  0.0252,\n",
              "                        0.1171, -0.1105, -0.0398,  0.0237,  0.0015, -0.0566,  0.0394, -0.0153],\n",
              "                      [-0.0135,  0.0904, -0.0022, -0.0663, -0.0483,  0.1048,  0.1207, -0.0099,\n",
              "                        0.0055, -0.0033,  0.1033, -0.1035, -0.0230,  0.0546, -0.0085, -0.0825,\n",
              "                        0.0037, -0.0828,  0.0719,  0.0184, -0.0081,  0.0789,  0.1242, -0.1066,\n",
              "                        0.0112, -0.1030, -0.0722, -0.1202, -0.0092, -0.1002, -0.0183,  0.0063,\n",
              "                       -0.0034, -0.0690,  0.1000,  0.0697,  0.0836,  0.1014,  0.0593, -0.1204,\n",
              "                        0.0433, -0.1024,  0.0960,  0.0794, -0.0398, -0.1224, -0.0126,  0.0333,\n",
              "                        0.0619, -0.0965, -0.0825, -0.0794,  0.0808,  0.1211,  0.1170,  0.0791,\n",
              "                       -0.0547, -0.0794,  0.0269, -0.0778,  0.1082, -0.0403, -0.0321,  0.0076],\n",
              "                      [-0.0155,  0.1248, -0.1129,  0.1166,  0.0580, -0.0692,  0.0092,  0.0386,\n",
              "                       -0.0343,  0.0104,  0.0528,  0.0934, -0.0894,  0.0120,  0.0881,  0.0136,\n",
              "                        0.0058, -0.0195,  0.0219,  0.1066, -0.0448,  0.1007, -0.0008,  0.0666,\n",
              "                       -0.0003, -0.0677,  0.0943, -0.1092, -0.0171,  0.0357, -0.0866, -0.0236,\n",
              "                        0.0123, -0.1152, -0.0275,  0.0628, -0.0083,  0.0793, -0.0106,  0.0726,\n",
              "                        0.1082,  0.0091, -0.1028, -0.0970,  0.0350, -0.0489, -0.1086,  0.0099,\n",
              "                        0.1136,  0.0596,  0.1071,  0.0094, -0.1229, -0.0758,  0.0995, -0.0355,\n",
              "                        0.1186,  0.1018,  0.0358,  0.0324, -0.1146,  0.0877,  0.0653, -0.0629],\n",
              "                      [ 0.1000,  0.0796,  0.0722, -0.0889, -0.0696,  0.0859, -0.0425,  0.0169,\n",
              "                        0.0501, -0.0317,  0.0284, -0.0888, -0.0566, -0.0849, -0.0132, -0.0663,\n",
              "                        0.0358,  0.0940, -0.1119,  0.0609, -0.1075,  0.0558,  0.1028, -0.0184,\n",
              "                       -0.0721,  0.0515, -0.0089,  0.1029, -0.0420, -0.0776, -0.0706,  0.0383,\n",
              "                        0.1220, -0.0341,  0.0913, -0.0468,  0.0894,  0.0497,  0.0610,  0.0692,\n",
              "                       -0.0743,  0.0780,  0.1089,  0.0127, -0.0657, -0.0206, -0.1095, -0.0470,\n",
              "                        0.0087, -0.0354, -0.0111,  0.1057,  0.0244,  0.0363,  0.0003, -0.0220,\n",
              "                        0.0903, -0.0213, -0.1155,  0.0494,  0.0384,  0.1165, -0.1233,  0.0298],\n",
              "                      [ 0.0169,  0.0062, -0.0780, -0.0053,  0.0053,  0.0353, -0.0076, -0.1048,\n",
              "                        0.0082,  0.0968,  0.0015, -0.0483, -0.0978,  0.0191,  0.0599, -0.0904,\n",
              "                       -0.0845, -0.0071, -0.1215, -0.1204,  0.1142,  0.0093,  0.0655, -0.0329,\n",
              "                       -0.0047, -0.0819, -0.0137, -0.0002,  0.0890, -0.0866,  0.0275, -0.0579,\n",
              "                       -0.0180,  0.0680,  0.0476, -0.0671, -0.0175, -0.0621,  0.0618, -0.0855,\n",
              "                        0.1020, -0.0335, -0.0541, -0.0818,  0.1128, -0.1049, -0.0695,  0.0541,\n",
              "                       -0.0064, -0.0886, -0.0569,  0.1209, -0.1121, -0.0995,  0.0790, -0.0360,\n",
              "                        0.0964,  0.0155, -0.0689,  0.0731, -0.0678, -0.1174, -0.0484, -0.0616],\n",
              "                      [ 0.0778,  0.1225,  0.1160,  0.1097,  0.0857,  0.0189,  0.1062,  0.0650,\n",
              "                       -0.1070, -0.0157,  0.0790, -0.0204, -0.1118, -0.0205, -0.0467, -0.1031,\n",
              "                       -0.0276,  0.0010, -0.0768,  0.0086, -0.0457, -0.0684, -0.0177,  0.0582,\n",
              "                       -0.0195, -0.0209,  0.0724,  0.1218,  0.1138,  0.0213,  0.0272,  0.1230,\n",
              "                        0.0741, -0.0136, -0.0258,  0.0580,  0.0910, -0.0250,  0.0347, -0.0047,\n",
              "                        0.0367,  0.1147, -0.1147,  0.1094, -0.0432, -0.0243,  0.0050,  0.0864,\n",
              "                        0.0490,  0.0447,  0.0384, -0.0216, -0.0724,  0.0371,  0.1141, -0.0768,\n",
              "                        0.0569,  0.0995, -0.0791,  0.0483, -0.1106, -0.0573, -0.0140, -0.0795],\n",
              "                      [ 0.0844,  0.1164,  0.0003,  0.0727, -0.0334, -0.0307,  0.1172, -0.0110,\n",
              "                        0.0573,  0.0161,  0.0505, -0.0660,  0.0806, -0.1114,  0.0779,  0.0105,\n",
              "                       -0.0875, -0.0327, -0.0038, -0.1077,  0.0035,  0.0557, -0.0170, -0.0503,\n",
              "                       -0.0490, -0.0190,  0.1052, -0.1035, -0.0007, -0.0203,  0.0141,  0.0977,\n",
              "                       -0.0679, -0.0628,  0.0609,  0.0978,  0.0364, -0.0666, -0.0762, -0.0486,\n",
              "                        0.1173, -0.0395, -0.1044,  0.0595,  0.0244, -0.0514,  0.1026,  0.0252,\n",
              "                        0.0499, -0.0061, -0.0517,  0.1223,  0.1073, -0.1193,  0.0380, -0.0835,\n",
              "                        0.0457,  0.0693, -0.0060,  0.0476,  0.1188,  0.0958,  0.0875,  0.0326]],\n",
              "                     device='cuda:0')),\n",
              "             ('fc.bias',\n",
              "              tensor([-0.0463, -0.0540, -0.0723,  0.1166, -0.0230,  0.0463, -0.1248, -0.0475,\n",
              "                      -0.0402,  0.0496], device='cuda:0'))])"
            ]
          },
          "metadata": {},
          "execution_count": 9
        }
      ]
    },
    {
      "cell_type": "code",
      "execution_count": 10,
      "metadata": {
        "id": "3w9QW9Lfp1aV",
        "colab": {
          "base_uri": "https://localhost:8080/"
        },
        "outputId": "ead8d601-2531-4158-8443-f439481f19b7"
      },
      "outputs": [
        {
          "output_type": "execute_result",
          "data": {
            "text/plain": [
              "LSTM_Model_label(\n",
              "  (lstm): LSTM(41, 64, num_layers=4, batch_first=True)\n",
              "  (fc): Linear(in_features=64, out_features=2, bias=True)\n",
              ")"
            ]
          },
          "metadata": {},
          "execution_count": 10
        }
      ],
      "source": [
        "my_model_label = LSTM_Model_label(num_classes_label, input_size, hidden_size, num_layers).to(device=device)\n",
        "my_model_label"
      ]
    },
    {
      "cell_type": "markdown",
      "metadata": {
        "id": "Cey1CId-jjis"
      },
      "source": [
        "# **optimizer and loss function**"
      ]
    },
    {
      "cell_type": "code",
      "execution_count": 11,
      "metadata": {
        "id": "WNuQFMAekNDH"
      },
      "outputs": [],
      "source": [
        "loss_fn1 = nn.CrossEntropyLoss().to(device=device)\n",
        "loss_fn2 = nn.CrossEntropyLoss().to(device=device)\n",
        "optimizer1 = opt.Adam(params=my_model_attack.parameters(),lr=learning_rate)\n",
        "optimizer2 = opt.Adam(params=my_model_label.parameters(),lr=learning_rate)"
      ]
    },
    {
      "cell_type": "markdown",
      "metadata": {
        "id": "4JYcovfYlpHM"
      },
      "source": [
        "# **train attack cat**"
      ]
    },
    {
      "cell_type": "code",
      "execution_count": 12,
      "metadata": {
        "id": "Qmw8w1eTkeBu",
        "colab": {
          "base_uri": "https://localhost:8080/"
        },
        "outputId": "99f14adc-56e3-49e6-b353-b7bed3f3d7d9"
      },
      "outputs": [
        {
          "output_type": "stream",
          "name": "stdout",
          "text": [
            "Epoch: 0, loss: 0.6405\n",
            "Epoch: 50, loss: 0.4382\n",
            "Epoch: 100, loss: 0.4156\n",
            "Epoch: 150, loss: 0.4353\n",
            "Epoch: 200, loss: 0.3853\n",
            "Epoch: 250, loss: 0.2879\n",
            "Epoch: 300, loss: 0.3589\n",
            "Epoch: 350, loss: 0.2746\n",
            "Epoch: 400, loss: 0.3066\n",
            "Epoch: 450, loss: 0.2599\n",
            "Epoch: 500, loss: 0.2600\n"
          ]
        }
      ],
      "source": [
        "for epoch in range(num_epoch+1):\n",
        "\n",
        "    for batch_x, batch_y in train_attack_cat_dataloader:\n",
        "\n",
        "        batch_x = torch.reshape(batch_x, (batch_x.shape[0], 1, batch_x.shape[1])) #RuntimeError: For unbatched 2-D input, hx and cx should also be 2-D but got (3-D, 3-D) tensors\n",
        "        \n",
        "        batch_x = batch_x.to(device)\n",
        "        batch_y = batch_y.to(device)\n",
        "\n",
        "        optimizer1.zero_grad()\n",
        "        loss1 = loss_fn1(my_model_attack(batch_x) , batch_y)\n",
        "        loss1.backward() \n",
        "        optimizer1.step()\n",
        "\n",
        "    if epoch % 50 == 0:\n",
        "         print(\"Epoch: %d, loss: %.4f\" % (epoch, loss1.item())) "
      ]
    },
    {
      "cell_type": "markdown",
      "metadata": {
        "id": "PQaRCMJPls5N"
      },
      "source": [
        "# **test attack cat**"
      ]
    },
    {
      "cell_type": "code",
      "execution_count": 13,
      "metadata": {
        "id": "QrtYzVT4loMQ",
        "colab": {
          "base_uri": "https://localhost:8080/"
        },
        "outputId": "9e08a940-80c7-4248-c756-27b2409a2bec"
      },
      "outputs": [
        {
          "output_type": "stream",
          "name": "stdout",
          "text": [
            "acc : 80.77%\n"
          ]
        }
      ],
      "source": [
        "correct = 0\n",
        "\n",
        "for batch_x, labl in test_attack_cat_dataloader:\n",
        "  \n",
        "    batch_x = torch.reshape(batch_x, (batch_x.shape[0], 1, batch_x.shape[1])) #RuntimeError: For unbatched 2-D input, hx and cx should also be 2-D but got (3-D, 3-D) tensors\n",
        "  \n",
        "    batch_x = batch_x.to(device)\n",
        "    labl = labl.to(device)\n",
        "\n",
        "    out = my_model_attack(batch_x)\n",
        "    _,predicted = torch.max(out,1)\n",
        "    correct += torch.sum(predicted == labl)\n",
        "\n",
        "print(\"acc : %.2f\" % (100.*correct / len(test_attack_cat)),end=\"\")\n",
        "print(\"%\")"
      ]
    },
    {
      "cell_type": "markdown",
      "metadata": {
        "id": "pLqOLtA6tQht"
      },
      "source": [
        "# **train label**"
      ]
    },
    {
      "cell_type": "code",
      "execution_count": 14,
      "metadata": {
        "id": "Xm1cu1GhtMJO",
        "colab": {
          "base_uri": "https://localhost:8080/"
        },
        "outputId": "d0d7f232-f949-4522-c177-d657af6156ef"
      },
      "outputs": [
        {
          "output_type": "stream",
          "name": "stdout",
          "text": [
            "Epoch: 0, loss: 0.1651\n",
            "Epoch: 50, loss: 0.1094\n",
            "Epoch: 100, loss: 0.0790\n",
            "Epoch: 150, loss: 0.0973\n",
            "Epoch: 200, loss: 0.0406\n",
            "Epoch: 250, loss: 0.0712\n",
            "Epoch: 300, loss: 0.0269\n",
            "Epoch: 350, loss: 0.0518\n",
            "Epoch: 400, loss: 0.0466\n",
            "Epoch: 450, loss: 0.0322\n",
            "Epoch: 500, loss: 0.0492\n"
          ]
        }
      ],
      "source": [
        "for epoch in range(num_epoch+1):\n",
        "\n",
        "    for batch_x, batch_y in train_label_dataloader:\n",
        "\n",
        "        batch_x = torch.reshape(batch_x, (batch_x.shape[0], 1, batch_x.shape[1])) #RuntimeError: For unbatched 2-D input, hx and cx should also be 2-D but got (3-D, 3-D) tensors\n",
        "        \n",
        "        batch_x = batch_x.to(device)\n",
        "        batch_y = batch_y.to(device)\n",
        "\n",
        "        optimizer2.zero_grad()\n",
        "        loss2 = loss_fn2(my_model_label(batch_x) , batch_y)\n",
        "        loss2.backward() \n",
        "        optimizer2.step()\n",
        "\n",
        "    if epoch % 50 == 0:\n",
        "         print(\"Epoch: %d, loss: %.4f\" % (epoch, loss2.item())) "
      ]
    },
    {
      "cell_type": "markdown",
      "metadata": {
        "id": "Ig7VBqU0tfZd"
      },
      "source": [
        "# **test label**"
      ]
    },
    {
      "cell_type": "code",
      "execution_count": 15,
      "metadata": {
        "id": "a7u2bQ0WtiG2",
        "colab": {
          "base_uri": "https://localhost:8080/"
        },
        "outputId": "0ddccc7b-ce77-4463-ca6e-133e660504ed"
      },
      "outputs": [
        {
          "output_type": "stream",
          "name": "stdout",
          "text": [
            "acc : 93.11%\n"
          ]
        }
      ],
      "source": [
        "correct = 0\n",
        "\n",
        "for batch_x, labl in test_label_dataloader:\n",
        "\n",
        "    batch_x = torch.reshape(batch_x, (batch_x.shape[0], 1, batch_x.shape[1])) #RuntimeError: For unbatched 2-D input, hx and cx should also be 2-D but got (3-D, 3-D) tensors\n",
        "\n",
        "    batch_x = batch_x.to(device)\n",
        "    labl = labl.to(device)\n",
        "  \n",
        "    out = my_model_label(batch_x)\n",
        "    _,predicted = torch.max(out,1)\n",
        "    correct += torch.sum(predicted == labl)\n",
        "\n",
        "print(\"acc : %.2f\" % (100.*correct / len(test_label)),end=\"\")\n",
        "print(\"%\")"
      ]
    }
  ],
  "metadata": {
    "accelerator": "GPU",
    "colab": {
      "collapsed_sections": [],
      "provenance": []
    },
    "gpuClass": "standard",
    "kernelspec": {
      "display_name": "Python 3",
      "name": "python3"
    },
    "language_info": {
      "name": "python"
    }
  },
  "nbformat": 4,
  "nbformat_minor": 0
}