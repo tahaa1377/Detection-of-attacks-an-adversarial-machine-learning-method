{
  "cells": [
    {
      "cell_type": "code",
      "execution_count": 1,
      "metadata": {
        "id": "Ff1b4PxtBQuc"
      },
      "outputs": [],
      "source": [
        "num_epoch = 500      \n",
        "learning_rate = 0.01\n",
        "batch_size = 2000\n",
        "\n",
        "hidden_size = 32 #number of features in hidden state\n",
        "num_layers = 4  #number of stacked lstm layers\n",
        "bidirectional = True\n",
        "drop_out = 0\n",
        "bidirectional_forward_backward = 2 if bidirectional else 1\n",
        "\n",
        "input_size = 41 #number of features\n",
        "num_classes_attack_cat = 10 #number of output classes \n",
        "num_classes_label = 2       #number of output classes "
      ]
    },
    {
      "cell_type": "code",
      "source": [
        "from google.colab import drive\n",
        "drive.mount('/content/drive')"
      ],
      "metadata": {
        "colab": {
          "base_uri": "https://localhost:8080/"
        },
        "id": "0Gua0hky6SDJ",
        "outputId": "a3ed87b9-4753-4c36-d687-e1cad4081535"
      },
      "execution_count": 2,
      "outputs": [
        {
          "output_type": "stream",
          "name": "stdout",
          "text": [
            "Mounted at /content/drive\n"
          ]
        }
      ]
    },
    {
      "cell_type": "code",
      "execution_count": 3,
      "metadata": {
        "colab": {
          "base_uri": "https://localhost:8080/"
        },
        "id": "hZiaj4uT24DH",
        "outputId": "52c16ccc-9826-4159-e7eb-6b6e58b5fcfc"
      },
      "outputs": [
        {
          "output_type": "stream",
          "name": "stdout",
          "text": [
            "GPU\n"
          ]
        }
      ],
      "source": [
        "import pandas as pd\n",
        "from matplotlib import pyplot as plt\n",
        "import numpy as np\n",
        "from torch.utils.data.dataset import Dataset\n",
        "from torch.utils.data import random_split, DataLoader\n",
        "import torch\n",
        "from sklearn.preprocessing import LabelEncoder\n",
        "from sklearn import preprocessing\n",
        "import torch.nn as nn\n",
        "import torch.nn.functional as F\n",
        "import torch.optim as opt\n",
        "from torch.autograd import Variable \n",
        "\n",
        "# GPU OR CPU\n",
        "if torch.cuda.is_available():\n",
        "    device = torch.device(\"cuda:0\")\n",
        "    print(\"GPU\")\n",
        "else:\n",
        "    device = torch.device(\"cpu\")\n",
        "    print(\"CPU\")"
      ]
    },
    {
      "cell_type": "code",
      "execution_count": 4,
      "metadata": {
        "id": "Sv-R_m6Z1EL5"
      },
      "outputs": [],
      "source": [
        "class DataSet_UNSWNB15_attack_cat(Dataset):\n",
        "\n",
        "    def __init__(self,data_set_path):\n",
        "        df = pd.read_csv(data_set_path)\n",
        "        print(df.attack_cat.value_counts().sort_values().plot(kind = \"barh\"))\n",
        "        \n",
        "        # preprocceing\n",
        "        df.drop(['id',\"Unnamed: 0\",\"service\",\"label\"], axis=1, inplace=True)        \n",
        "        cols = ['attack_cat' ,'proto' ,'state']\n",
        "        df[cols] = df[cols].apply(LabelEncoder().fit_transform)\n",
        "\n",
        "        self.data_array = df.values\n",
        "        self.x = self.data_array[:, :41]\n",
        "        self.y = self.data_array[:, 41]\n",
        "      \n",
        "        # normalaized data\n",
        "        scaler = preprocessing.StandardScaler().fit(self.x)\n",
        "        self.x = scaler.transform(self.x)\n",
        "\n",
        "        self.x = torch.tensor(self.x).float()\n",
        "        self.y = torch.tensor(self.y).long()\n",
        "\n",
        "    def __len__(self):\n",
        "        return len(self.data_array)\n",
        "\n",
        "    def __getitem__(self, item):\n",
        "        sample = (self.x[item, :], self.y[item])\n",
        "        return sample\n",
        "\n",
        "        \n",
        "class DataSet_UNSWNB15_label(Dataset):\n",
        "\n",
        "    def __init__(self,data_set_path):\n",
        "        df = pd.read_csv(data_set_path)\n",
        "        print(df.label.value_counts().sort_values().plot(kind = \"pie\"))\n",
        "\n",
        "        # preprocceing\n",
        "        df.drop(['id',\"Unnamed: 0\",\"service\",\"attack_cat\"], axis=1, inplace=True)\n",
        "        cols = ['proto' ,'state']\n",
        "        df[cols] = df[cols].apply(LabelEncoder().fit_transform)\n",
        "\n",
        "        self.data_array = df.values\n",
        "        self.x = self.data_array[:, :41]\n",
        "        self.y = self.data_array[:, 41]\n",
        "        \n",
        "        # normalaized data\n",
        "        scaler = preprocessing.StandardScaler().fit(self.x)\n",
        "        self.x = scaler.transform(self.x)\n",
        "\n",
        "        self.x = torch.tensor(self.x).float()\n",
        "        self.y = torch.tensor(self.y).long()\n",
        "\n",
        "    def __len__(self):\n",
        "        return len(self.data_array)\n",
        "\n",
        "    def __getitem__(self, item):\n",
        "        sample = (self.x[item, :], self.y[item])\n",
        "        return sample"
      ]
    },
    {
      "cell_type": "code",
      "execution_count": 5,
      "metadata": {
        "colab": {
          "base_uri": "https://localhost:8080/",
          "height": 283
        },
        "id": "UykLrbQZ1R7K",
        "outputId": "2c6a70d7-1aea-4ff9-a542-10f0638b7e71"
      },
      "outputs": [
        {
          "output_type": "stream",
          "name": "stdout",
          "text": [
            "AxesSubplot(0.125,0.125;0.775x0.755)\n"
          ]
        },
        {
          "output_type": "display_data",
          "data": {
            "text/plain": [
              "<Figure size 432x288 with 1 Axes>"
            ],
            "image/png": "[encoded data removed]"
          },
          "metadata": {
            "needs_background": "light"
          }
        }
      ],
      "source": [
        "dataset_attack_cat = DataSet_UNSWNB15_attack_cat(\"/content/drive/MyDrive/datasets/UNSW-NB15/UNSW_NB15.csv\")\n",
        "number_of_test = int(len(dataset_attack_cat)*0.3)\n",
        "number_of_train = len(dataset_attack_cat) - int(len(dataset_attack_cat)*0.3)\n",
        "train_attack_cat ,test_attack_cat = random_split(dataset=dataset_attack_cat, lengths=[number_of_train,number_of_test])\n",
        "\n",
        "train_attack_cat_dataloader = DataLoader(dataset=train_attack_cat ,batch_size=batch_size ,shuffle=True)\n",
        "test_attack_cat_dataloader = DataLoader(dataset=test_attack_cat ,batch_size=batch_size ,shuffle=True)"
      ]
    },
    {
      "cell_type": "code",
      "execution_count": 6,
      "metadata": {
        "colab": {
          "base_uri": "https://localhost:8080/",
          "height": 266
        },
        "id": "LmFY9Q-u29T3",
        "outputId": "10c55f12-2482-439e-da06-3926d56d9ca2"
      },
      "outputs": [
        {
          "output_type": "stream",
          "name": "stdout",
          "text": [
            "AxesSubplot(0.260833,0.125;0.503333x0.755)\n"
          ]
        },
        {
          "output_type": "display_data",
          "data": {
            "text/plain": [
              "<Figure size 432x288 with 1 Axes>"
            ],
            "image/png": "[encoded data removed]"
          },
          "metadata": {}
        }
      ],
      "source": [
        "dataset_label = DataSet_UNSWNB15_label(\"/content/drive/MyDrive/datasets/UNSW-NB15/UNSW_NB15.csv\")\n",
        "number_of_test = int(len(dataset_label)*0.3)\n",
        "number_of_train = len(dataset_label) - int(len(dataset_label)*0.3)\n",
        "train_label ,test_label = random_split(dataset=dataset_label, lengths=[number_of_train,number_of_test])\n",
        "\n",
        "train_label_dataloader = DataLoader(dataset=train_label ,batch_size=batch_size ,shuffle=True)\n",
        "test_label_dataloader = DataLoader(dataset=test_label ,batch_size=batch_size ,shuffle=True)"
      ]
    },
    {
      "cell_type": "markdown",
      "metadata": {
        "id": "0HslPLv2IOGd"
      },
      "source": [
        "# **preprocessing ended**\n",
        "\n",
        "# **create model**"
      ]
    },
    {
      "cell_type": "markdown",
      "source": [
        "![bilstm-1.webp](data:image/webp;base64,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)"
      ],
      "metadata": {
        "id": "F2hNvBs6qBQS"
      }
    },
    {
      "cell_type": "code",
      "execution_count": 7,
      "metadata": {
        "id": "oN6DuQbJibuE"
      },
      "outputs": [],
      "source": [
        "class LSTM_Model_attack(nn.Module):\n",
        "    def __init__(self, num_classes, input_size, hidden_size, num_layers):\n",
        "        super(LSTM_Model_attack, self).__init__()\n",
        "        self.num_classes = num_classes #number of classes\n",
        "        self.num_layers = num_layers #number of layers\n",
        "        self.input_size = input_size #input size\n",
        "        self.hidden_size = hidden_size #hidden state\n",
        "\n",
        "        self.lstm = nn.LSTM(input_size=input_size, hidden_size=hidden_size, num_layers=num_layers, batch_first=True,\n",
        "                            bidirectional=bidirectional, dropout=drop_out) #lstm\n",
        "\n",
        "        self.fc = nn.Linear(hidden_size * bidirectional_forward_backward, num_classes) #fully connected last layer\n",
        "                             # 2 => forward and backward for bidirectional\n",
        "    \n",
        "    def forward(self,x):\n",
        "                                                # 2 => forward and backward for bidirectional\n",
        "        h_0 = Variable(torch.zeros(self.num_layers * bidirectional_forward_backward, x.size(0), self.hidden_size)).to(device=device) #hidden state\n",
        "        c_0 = Variable(torch.zeros(self.num_layers * bidirectional_forward_backward, x.size(0), self.hidden_size)).to(device=device) #internal state\n",
        "\n",
        "        out, (hn, cn) = self.lstm(x, (h_0, c_0))\n",
        "        out = self.fc(out[:, -1, :]) \n",
        "        return out\n",
        "\n",
        "\n",
        "class LSTM_Model_label(nn.Module):\n",
        "    def __init__(self, num_classes, input_size, hidden_size, num_layers):\n",
        "        super(LSTM_Model_label, self).__init__()\n",
        "        self.num_classes = num_classes #number of classes\n",
        "        self.num_layers = num_layers #number of layers\n",
        "        self.input_size = input_size #input size\n",
        "        self.hidden_size = hidden_size #hidden state\n",
        "\n",
        "        self.lstm = nn.LSTM(input_size=input_size, hidden_size=hidden_size, num_layers=num_layers, batch_first=True, \n",
        "                            bidirectional=bidirectional, dropout=drop_out) #lstm\n",
        "\n",
        "        self.fc = nn.Linear(hidden_size * bidirectional_forward_backward, num_classes) #fully connected last layer\n",
        "\n",
        "    \n",
        "    def forward(self,x):\n",
        "        h_0 = Variable(torch.zeros(self.num_layers * bidirectional_forward_backward, x.size(0), self.hidden_size)).to(device=device) #hidden state\n",
        "        c_0 = Variable(torch.zeros(self.num_layers * bidirectional_forward_backward, x.size(0), self.hidden_size)).to(device=device) #internal state\n",
        "\n",
        "        out, (hn, cn) = self.lstm(x, (h_0, c_0))\n",
        "        out = self.fc(out[:, -1, :]) \n",
        "        return out\n"
      ]
    },
    {
      "cell_type": "code",
      "execution_count": 8,
      "metadata": {
        "id": "US8JfNI8j3zO",
        "colab": {
          "base_uri": "https://localhost:8080/"
        },
        "outputId": "b7d43705-37f4-4143-86c2-15f9bb2494aa"
      },
      "outputs": [
        {
          "output_type": "execute_result",
          "data": {
            "text/plain": [
              "LSTM_Model_attack(\n",
              "  (lstm): LSTM(41, 32, num_layers=4, batch_first=True, bidirectional=True)\n",
              "  (fc): Linear(in_features=64, out_features=10, bias=True)\n",
              ")"
            ]
          },
          "metadata": {},
          "execution_count": 8
        }
      ],
      "source": [
        "my_model_attack = LSTM_Model_attack(num_classes_attack_cat, input_size, hidden_size, num_layers).to(device=device)\n",
        "my_model_attack"
      ]
    },
    {
      "cell_type": "code",
      "source": [
        "my_model_attack.state_dict()"
      ],
      "metadata": {
        "colab": {
          "base_uri": "https://localhost:8080/"
        },
        "id": "Dq8JkQZ9ukCs",
        "outputId": "8b9a78ed-7e99-40b0-d7d0-021dc24e9ebf"
      },
      "execution_count": 9,
      "outputs": [
        {
          "output_type": "execute_result",
          "data": {
            "text/plain": [
              "OrderedDict([('lstm.weight_ih_l0',\n",
              "              tensor([[ 0.0919,  0.1115,  0.1276,  ..., -0.0483, -0.0422,  0.0305],\n",
              "                      [-0.0696,  0.1043,  0.1700,  ...,  0.1396, -0.0333,  0.0415],\n",
              "                      [ 0.1627, -0.1101,  0.1589,  ...,  0.1036,  0.1640,  0.0849],\n",
              "                      ...,\n",
              "                      [ 0.0605, -0.1458,  0.1159,  ...,  0.0998, -0.0113,  0.0512],\n",
              "                      [ 0.0129, -0.0277,  0.1283,  ..., -0.0114, -0.0834,  0.0268],\n",
              "                      [-0.1203,  0.1572, -0.1220,  ..., -0.1587,  0.1558,  0.0272]],\n",
              "                     device='cuda:0')),\n",
              "             ('lstm.weight_hh_l0',\n",
              "              tensor([[ 0.0055, -0.1121, -0.0857,  ...,  0.0081, -0.0438,  0.0602],\n",
              "                      [-0.1752,  0.0528,  0.0317,  ...,  0.1290, -0.0957, -0.1392],\n",
              "                      [-0.1660, -0.1635,  0.1518,  ..., -0.0341,  0.0266, -0.0547],\n",
              "                      ...,\n",
              "                      [ 0.1390,  0.0429, -0.0177,  ..., -0.0267,  0.0306,  0.0858],\n",
              "                      [ 0.1703, -0.1439,  0.1306,  ...,  0.1243, -0.1512, -0.0785],\n",
              "                      [ 0.0180,  0.1111, -0.1222,  ..., -0.0971, -0.0665, -0.0470]],\n",
              "                     device='cuda:0')),\n",
              "             ('lstm.bias_ih_l0',\n",
              "              tensor([ 0.1220,  0.0751, -0.0360, -0.0004,  0.0303, -0.0500,  0.1278, -0.0707,\n",
              "                       0.1144, -0.0066,  0.1028,  0.1055,  0.0903, -0.0971, -0.1448,  0.1608,\n",
              "                      -0.0902,  0.0820,  0.0453,  0.0939,  0.0345, -0.1601, -0.1714, -0.0338,\n",
              "                      -0.1419,  0.1300, -0.1128, -0.0654, -0.1143, -0.0773, -0.0978,  0.1193,\n",
              "                      -0.0521,  0.0679,  0.0633,  0.0907, -0.0172,  0.1647, -0.0627, -0.1309,\n",
              "                       0.1733,  0.0833, -0.0352,  0.0148, -0.1138, -0.0687, -0.0940, -0.1672,\n",
              "                       0.1194, -0.0942, -0.1285,  0.1249,  0.0039,  0.1430,  0.0807,  0.0414,\n",
              "                      -0.0754, -0.0875,  0.1010, -0.0149, -0.1521, -0.0821,  0.0829,  0.1386,\n",
              "                       0.0717,  0.0505, -0.0388,  0.0350, -0.1262,  0.0765, -0.1367, -0.0918,\n",
              "                       0.0418,  0.1150, -0.0484, -0.1655, -0.1409,  0.0500, -0.1511, -0.0839,\n",
              "                       0.0456, -0.0039,  0.1309, -0.1627, -0.1196, -0.0992, -0.0889, -0.1663,\n",
              "                      -0.0068, -0.0288, -0.1753, -0.0809,  0.0570,  0.1489, -0.0231,  0.0549,\n",
              "                       0.1213,  0.0928,  0.0568,  0.1122, -0.0532,  0.0975, -0.1226,  0.1337,\n",
              "                      -0.0545,  0.0469,  0.0998,  0.1736, -0.1224,  0.1412,  0.0291,  0.1216,\n",
              "                      -0.1117,  0.0596, -0.1641,  0.1198,  0.1145,  0.1165,  0.1720,  0.0240,\n",
              "                       0.0141,  0.0665,  0.1507,  0.0130,  0.1374, -0.1377,  0.0520, -0.1717],\n",
              "                     device='cuda:0')),\n",
              "             ('lstm.bias_hh_l0',\n",
              "              tensor([-0.0139, -0.0272, -0.1176, -0.0090,  0.0581,  0.1636,  0.0607,  0.1094,\n",
              "                      -0.1363,  0.0082,  0.0098,  0.0947, -0.0416, -0.0011,  0.0481, -0.1212,\n",
              "                      -0.1149,  0.0378, -0.0539, -0.1236,  0.0878, -0.1314,  0.0918, -0.1505,\n",
              "                       0.0759, -0.0862,  0.1201,  0.1567, -0.0768,  0.0978,  0.0682,  0.0428,\n",
              "                      -0.0351, -0.0222,  0.1747, -0.0449,  0.0920, -0.1386, -0.1186,  0.1027,\n",
              "                       0.0423,  0.1100,  0.0821, -0.0166,  0.1061,  0.0517, -0.1259,  0.0537,\n",
              "                      -0.0353,  0.1114, -0.1496,  0.1738, -0.0344, -0.1196,  0.0429,  0.0879,\n",
              "                       0.1498, -0.1270, -0.1468,  0.0204, -0.1754,  0.1249,  0.0578, -0.1439,\n",
              "                      -0.0684, -0.0305,  0.0930,  0.0493, -0.0963, -0.0270, -0.1560, -0.0623,\n",
              "                       0.0818,  0.0872, -0.0134, -0.1036,  0.1756,  0.1230, -0.1221, -0.1532,\n",
              "                      -0.0809, -0.0486, -0.1370,  0.0210,  0.1204, -0.0194,  0.1527, -0.0360,\n",
              "                       0.0236, -0.1306,  0.0887, -0.0704,  0.0306, -0.0820,  0.0856,  0.1536,\n",
              "                      -0.1303,  0.1112, -0.0403,  0.0568,  0.0529, -0.1760, -0.0697, -0.0630,\n",
              "                      -0.0043,  0.0402, -0.0180,  0.1120, -0.1394, -0.1130, -0.0898, -0.0967,\n",
              "                      -0.0322, -0.1186,  0.0104,  0.0890, -0.1485,  0.0601, -0.1478, -0.0656,\n",
              "                       0.1119, -0.0922,  0.0313,  0.0516, -0.0216, -0.0999, -0.1473,  0.0323],\n",
              "                     device='cuda:0')),\n",
              "             ('lstm.weight_ih_l0_reverse',\n",
              "              tensor([[-0.1650,  0.0114, -0.0544,  ..., -0.0753,  0.1165,  0.1173],\n",
              "                      [ 0.1099, -0.0787, -0.0909,  ..., -0.1633, -0.0204, -0.0769],\n",
              "                      [-0.1336,  0.0148,  0.0868,  ..., -0.1550,  0.0075,  0.0620],\n",
              "                      ...,\n",
              "                      [ 0.1045,  0.0291, -0.0680,  ..., -0.0491,  0.1565,  0.0161],\n",
              "                      [-0.1214,  0.1207, -0.0370,  ...,  0.0872,  0.1297, -0.0409],\n",
              "                      [ 0.1483, -0.0391, -0.1193,  ...,  0.0147,  0.0073, -0.1657]],\n",
              "                     device='cuda:0')),\n",
              "             ('lstm.weight_hh_l0_reverse',\n",
              "              tensor([[ 0.1075,  0.0283, -0.1516,  ..., -0.0671, -0.1375, -0.1652],\n",
              "                      [-0.0853,  0.1227, -0.1270,  ...,  0.1191, -0.1282, -0.0362],\n",
              "                      [ 0.0609,  0.0863,  0.1094,  ...,  0.0958,  0.1239,  0.1561],\n",
              "                      ...,\n",
              "                      [-0.0492,  0.0954, -0.0197,  ..., -0.0506, -0.0995,  0.0811],\n",
              "                      [ 0.0375,  0.1284, -0.0713,  ..., -0.0080,  0.1245,  0.1340],\n",
              "                      [-0.0998,  0.1460,  0.0417,  ...,  0.1136,  0.0102, -0.0835]],\n",
              "                     device='cuda:0')),\n",
              "             ('lstm.bias_ih_l0_reverse',\n",
              "              tensor([-5.2123e-02, -1.6161e-01, -1.6055e-01, -1.4403e-01, -1.1010e-01,\n",
              "                       5.1618e-02,  2.6223e-02,  3.4410e-02,  1.2261e-01,  1.3842e-02,\n",
              "                       1.2805e-01,  4.6422e-02,  6.1928e-02, -8.2488e-02,  8.3642e-02,\n",
              "                       7.5653e-02, -6.5971e-02,  1.5413e-01, -6.1776e-02, -1.1611e-01,\n",
              "                       9.7255e-02, -9.3791e-02,  3.1911e-02,  9.8203e-02, -2.5761e-02,\n",
              "                      -1.6303e-01,  1.3408e-01, -6.3655e-02,  1.3126e-03,  8.2189e-02,\n",
              "                      -1.2996e-01,  4.4658e-02, -1.0691e-02,  8.3974e-02, -9.5322e-02,\n",
              "                       5.1605e-02,  5.5259e-02, -1.4760e-04, -1.8765e-02, -3.3508e-02,\n",
              "                       1.2229e-01,  1.6106e-01,  1.4002e-01, -3.9287e-02,  9.6414e-02,\n",
              "                       3.5238e-02,  1.0653e-01,  4.2405e-03,  8.5798e-02, -1.6239e-01,\n",
              "                      -9.9434e-02,  3.6336e-02, -1.5541e-01, -1.6848e-01, -1.2459e-01,\n",
              "                      -1.1509e-01,  1.5860e-01, -1.2257e-01, -9.7504e-02, -5.9784e-02,\n",
              "                      -1.2386e-01, -7.0877e-02,  1.0912e-01, -1.7235e-01,  4.2558e-02,\n",
              "                       7.2025e-02,  1.7233e-01,  4.8890e-02, -3.2920e-02, -1.7650e-01,\n",
              "                      -1.3358e-01, -1.4894e-01,  6.4290e-02, -6.4786e-02,  7.9399e-03,\n",
              "                      -9.0322e-02, -1.5159e-01, -1.4862e-01,  4.6744e-02, -1.4980e-01,\n",
              "                      -6.4089e-02,  9.3006e-02, -6.7006e-02, -4.0001e-02,  8.1255e-02,\n",
              "                       5.1873e-02, -4.4700e-02, -8.8009e-02, -1.5593e-01, -1.1373e-01,\n",
              "                       1.0321e-01,  1.4131e-01, -1.6191e-01,  4.1553e-02,  3.0939e-02,\n",
              "                      -1.0936e-01, -1.2993e-01,  6.0044e-02, -9.1780e-02, -1.3665e-01,\n",
              "                      -1.5528e-01,  1.0871e-01, -2.7918e-02,  1.5997e-01, -1.6989e-01,\n",
              "                      -9.5730e-02,  1.5895e-01, -5.3045e-02, -1.2555e-03, -1.0945e-02,\n",
              "                       8.7842e-04, -1.6025e-01, -2.7210e-02, -2.2672e-02, -2.6412e-02,\n",
              "                       3.7827e-03,  1.1299e-01,  1.4486e-01,  1.7606e-01, -1.3053e-01,\n",
              "                       1.9109e-02,  7.8973e-02,  1.6969e-01, -4.4565e-02, -6.0234e-02,\n",
              "                      -9.7946e-02,  1.3886e-01, -9.3345e-02], device='cuda:0')),\n",
              "             ('lstm.bias_hh_l0_reverse',\n",
              "              tensor([-0.0398, -0.1127,  0.1318,  0.1450, -0.0998, -0.1486, -0.0250, -0.1514,\n",
              "                       0.0348, -0.0604, -0.0812, -0.1118, -0.1759, -0.1491, -0.0046,  0.0291,\n",
              "                       0.1630,  0.0540, -0.1562,  0.0523,  0.1464,  0.0257,  0.0408, -0.0134,\n",
              "                      -0.0875,  0.0962, -0.0466, -0.1536, -0.0100,  0.0946, -0.1470,  0.0145,\n",
              "                       0.1480,  0.1134,  0.0158, -0.0314, -0.1725,  0.1175, -0.0520,  0.0021,\n",
              "                       0.1231,  0.0507,  0.1302,  0.0545,  0.0451,  0.0314,  0.0569,  0.0431,\n",
              "                      -0.0365, -0.0232,  0.1126, -0.0433, -0.0604, -0.0506,  0.0401,  0.0951,\n",
              "                      -0.0071,  0.1098, -0.1187, -0.0582,  0.0425, -0.0728, -0.1276, -0.1209,\n",
              "                      -0.1123, -0.1528, -0.0789, -0.0259,  0.1515, -0.0853,  0.1612, -0.0388,\n",
              "                       0.1492,  0.0095, -0.0210,  0.1140, -0.1309, -0.1484, -0.0955,  0.1554,\n",
              "                      -0.0180, -0.0160, -0.1670, -0.1118,  0.0089,  0.0180, -0.1739, -0.1159,\n",
              "                       0.0069,  0.0578,  0.0624,  0.0110,  0.1351,  0.0080, -0.0587, -0.0629,\n",
              "                       0.0122,  0.1547, -0.0662, -0.1126,  0.1003, -0.0471,  0.0739, -0.1167,\n",
              "                      -0.0510,  0.1529,  0.0017, -0.1738, -0.0509, -0.1710, -0.1050,  0.0197,\n",
              "                      -0.0409, -0.1594,  0.0555,  0.0730, -0.1680, -0.0383,  0.1208,  0.1514,\n",
              "                       0.0354,  0.0282, -0.1418,  0.1374,  0.0189,  0.1118, -0.1670,  0.1016],\n",
              "                     device='cuda:0')),\n",
              "             ('lstm.weight_ih_l1',\n",
              "              tensor([[ 0.1267,  0.1064, -0.0820,  ...,  0.1750,  0.1378, -0.1260],\n",
              "                      [ 0.1607, -0.0766, -0.1416,  ..., -0.0883, -0.1317,  0.0061],\n",
              "                      [ 0.1047,  0.1530, -0.1521,  ...,  0.1049, -0.1647, -0.0567],\n",
              "                      ...,\n",
              "                      [-0.0709,  0.1220,  0.1588,  ..., -0.1507, -0.1054,  0.0076],\n",
              "                      [ 0.0788, -0.0922, -0.0064,  ...,  0.1629,  0.1005,  0.0077],\n",
              "                      [-0.1655, -0.0832, -0.1757,  ...,  0.0686, -0.0048,  0.0633]],\n",
              "                     device='cuda:0')),\n",
              "             ('lstm.weight_hh_l1',\n",
              "              tensor([[ 0.1316,  0.1203, -0.1201,  ...,  0.0929, -0.0699, -0.0203],\n",
              "                      [-0.1225,  0.1424, -0.0591,  ...,  0.1090, -0.1520, -0.1459],\n",
              "                      [ 0.0099,  0.1458, -0.0842,  ..., -0.1443,  0.1743, -0.1112],\n",
              "                      ...,\n",
              "                      [-0.0950,  0.0167, -0.0869,  ...,  0.1082, -0.0499,  0.0262],\n",
              "                      [ 0.1700,  0.0434, -0.1653,  ..., -0.0969, -0.0699, -0.1180],\n",
              "                      [-0.1090,  0.1084, -0.0823,  ..., -0.0155, -0.1222,  0.0449]],\n",
              "                     device='cuda:0')),\n",
              "             ('lstm.bias_ih_l1',\n",
              "              tensor([ 0.0301,  0.1320,  0.0267, -0.0363,  0.1221, -0.0278,  0.0894, -0.0782,\n",
              "                       0.0550,  0.1348,  0.1148,  0.0985,  0.1261, -0.0683, -0.1037, -0.1676,\n",
              "                      -0.0097,  0.0116,  0.1312,  0.1521,  0.1358,  0.0395,  0.0175, -0.0749,\n",
              "                      -0.0806,  0.0855,  0.1675,  0.0030, -0.1602,  0.0451, -0.0835,  0.0002,\n",
              "                      -0.0676, -0.0804, -0.1154,  0.0852, -0.1229, -0.0499, -0.1268, -0.1084,\n",
              "                      -0.0856, -0.0975,  0.0736,  0.0859, -0.0518,  0.1504,  0.0290, -0.1209,\n",
              "                       0.0805, -0.0379,  0.1098,  0.0400,  0.1402, -0.0052, -0.0356, -0.1161,\n",
              "                       0.1642, -0.1565, -0.0881,  0.0255, -0.1727,  0.1320, -0.0183, -0.0105,\n",
              "                      -0.1612, -0.0353, -0.0303, -0.0890,  0.1136, -0.0117, -0.1247,  0.0728,\n",
              "                      -0.1305, -0.0235,  0.0334, -0.1140, -0.1250, -0.0992, -0.0036,  0.0476,\n",
              "                      -0.0916, -0.0952,  0.0751, -0.0110, -0.0972,  0.0263, -0.0143,  0.0552,\n",
              "                       0.0629,  0.0921,  0.0133, -0.0297, -0.1706,  0.1271, -0.1297,  0.1745,\n",
              "                       0.0228, -0.0443,  0.1268, -0.1192, -0.1587, -0.1215,  0.1464, -0.0699,\n",
              "                       0.0239, -0.0209, -0.0825,  0.0785, -0.0953, -0.1701,  0.0415, -0.0337,\n",
              "                      -0.1208,  0.0289, -0.0089, -0.0967,  0.1470, -0.0848,  0.0236, -0.1399,\n",
              "                      -0.0497, -0.0029,  0.1398,  0.1043,  0.0036, -0.0852, -0.1262, -0.1069],\n",
              "                     device='cuda:0')),\n",
              "             ('lstm.bias_hh_l1',\n",
              "              tensor([-0.1076,  0.0171, -0.1446, -0.1158, -0.1139, -0.0897, -0.1727,  0.1004,\n",
              "                      -0.1376,  0.0979,  0.0809, -0.0589, -0.0772, -0.0971, -0.0903, -0.0813,\n",
              "                       0.1474, -0.1407,  0.0461, -0.1227,  0.1605,  0.1523,  0.1226,  0.0363,\n",
              "                      -0.1274, -0.0571,  0.1167,  0.0704, -0.1527, -0.1582,  0.1294, -0.1147,\n",
              "                       0.0638,  0.0994,  0.1679,  0.1380, -0.1388, -0.0488, -0.0676,  0.1535,\n",
              "                      -0.0042,  0.0907, -0.1122, -0.0090,  0.0136,  0.0973,  0.1234,  0.0921,\n",
              "                      -0.0085, -0.0847,  0.0181,  0.0010, -0.0898,  0.1214,  0.1517,  0.0356,\n",
              "                      -0.1047,  0.1488,  0.0151,  0.0492,  0.1683,  0.0475, -0.0105,  0.1205,\n",
              "                      -0.0155, -0.1327,  0.1219,  0.0585, -0.0314,  0.1196, -0.1433, -0.1143,\n",
              "                      -0.0443,  0.1261,  0.0308,  0.1423,  0.0243, -0.0585,  0.0438,  0.1496,\n",
              "                      -0.0656, -0.1608,  0.1148,  0.1115, -0.1526,  0.0227,  0.0853, -0.0464,\n",
              "                       0.0575,  0.1102,  0.0039, -0.1442, -0.1313,  0.0391, -0.0895,  0.1765,\n",
              "                      -0.0950, -0.0236,  0.0418, -0.0924,  0.0061,  0.1142, -0.0443,  0.1466,\n",
              "                       0.0523, -0.0048, -0.0557, -0.1699,  0.1048,  0.1508, -0.0876, -0.1126,\n",
              "                      -0.1362,  0.1022,  0.1520, -0.0305,  0.1182, -0.0097, -0.1449,  0.0179,\n",
              "                       0.0399,  0.0841, -0.1349, -0.1744,  0.1375, -0.1242,  0.1659,  0.1030],\n",
              "                     device='cuda:0')),\n",
              "             ('lstm.weight_ih_l1_reverse',\n",
              "              tensor([[-0.1081, -0.1610, -0.1041,  ..., -0.1095, -0.1455, -0.1046],\n",
              "                      [-0.0678,  0.1223, -0.0909,  ...,  0.1621,  0.1166,  0.1694],\n",
              "                      [ 0.0743,  0.1424,  0.0270,  ...,  0.1499,  0.1651, -0.0429],\n",
              "                      ...,\n",
              "                      [ 0.1615, -0.0514,  0.0264,  ..., -0.1713, -0.0894,  0.1492],\n",
              "                      [-0.1032,  0.1287, -0.1077,  ..., -0.0294,  0.0724,  0.1208],\n",
              "                      [ 0.1393,  0.0585, -0.0603,  ..., -0.0927,  0.1067,  0.0018]],\n",
              "                     device='cuda:0')),\n",
              "             ('lstm.weight_hh_l1_reverse',\n",
              "              tensor([[-0.1402, -0.0502,  0.1233,  ..., -0.1545, -0.1311,  0.1688],\n",
              "                      [ 0.0716, -0.0271,  0.1347,  ..., -0.0664, -0.1618,  0.0045],\n",
              "                      [ 0.1276, -0.1494, -0.0332,  ..., -0.0519,  0.0106, -0.0765],\n",
              "                      ...,\n",
              "                      [ 0.1230, -0.1450, -0.0314,  ...,  0.1028,  0.0373, -0.0093],\n",
              "                      [-0.1410, -0.1338, -0.1624,  ...,  0.0092, -0.1598, -0.0157],\n",
              "                      [ 0.0527, -0.0208,  0.1120,  ...,  0.0350, -0.0867, -0.1606]],\n",
              "                     device='cuda:0')),\n",
              "             ('lstm.bias_ih_l1_reverse',\n",
              "              tensor([-0.0419, -0.0282, -0.1397, -0.0335,  0.1158,  0.0512, -0.1415,  0.0532,\n",
              "                       0.0332, -0.1366, -0.1408, -0.0893, -0.0236, -0.0399,  0.0301, -0.0522,\n",
              "                      -0.1714, -0.0900, -0.0810, -0.1537, -0.0545, -0.0457,  0.0264, -0.0792,\n",
              "                      -0.0094, -0.1411,  0.1361, -0.0171,  0.0774, -0.1062,  0.1249,  0.1687,\n",
              "                      -0.1183, -0.0553, -0.1164, -0.0227,  0.1591,  0.0038, -0.0159, -0.0654,\n",
              "                      -0.1755,  0.0330,  0.1278,  0.0016,  0.1418,  0.1683,  0.1599, -0.0318,\n",
              "                      -0.1485, -0.0047,  0.1196,  0.0981,  0.0560, -0.0766,  0.1323,  0.1736,\n",
              "                       0.0456, -0.0280, -0.0035,  0.1378,  0.0019,  0.1439, -0.0683,  0.0922,\n",
              "                      -0.1402, -0.0588, -0.1118,  0.0767, -0.1071, -0.1201,  0.0773, -0.1471,\n",
              "                       0.0057, -0.0996, -0.0045, -0.0231, -0.0797,  0.0338, -0.1166,  0.1015,\n",
              "                      -0.0323,  0.0800, -0.1660,  0.0228, -0.0126,  0.0618, -0.0749,  0.0428,\n",
              "                      -0.1453, -0.0411,  0.1205, -0.0246, -0.1360, -0.0682, -0.1080, -0.0447,\n",
              "                      -0.1468, -0.0048,  0.0854,  0.1338,  0.1239, -0.1117, -0.0840,  0.0288,\n",
              "                      -0.0097,  0.0308, -0.1720,  0.0817, -0.0031, -0.1670, -0.1322,  0.1586,\n",
              "                       0.0085,  0.0960,  0.0259,  0.0566,  0.0273, -0.0039, -0.0323,  0.1655,\n",
              "                       0.0126, -0.1349,  0.0364,  0.0029, -0.0815, -0.0652,  0.1702,  0.1040],\n",
              "                     device='cuda:0')),\n",
              "             ('lstm.bias_hh_l1_reverse',\n",
              "              tensor([ 0.1144, -0.1543, -0.0241,  0.0684,  0.0123, -0.0034, -0.1058,  0.1476,\n",
              "                      -0.0078,  0.1689,  0.0667,  0.1015, -0.1047,  0.1289,  0.1714, -0.0423,\n",
              "                      -0.1232, -0.1225,  0.1090, -0.1381, -0.0409, -0.1449,  0.1299,  0.1582,\n",
              "                       0.0514,  0.1525, -0.0529,  0.1507, -0.0786, -0.0593,  0.1163,  0.1677,\n",
              "                       0.1625, -0.0619,  0.0093,  0.1622,  0.0691, -0.1133, -0.1691,  0.0628,\n",
              "                       0.0848,  0.0267, -0.0725,  0.0456,  0.0499, -0.0869,  0.0816,  0.1533,\n",
              "                       0.1664, -0.0346,  0.1111, -0.1441,  0.0058,  0.0209,  0.1353, -0.1706,\n",
              "                       0.1274, -0.1243,  0.1110, -0.0772, -0.0188,  0.0056, -0.1121, -0.0864,\n",
              "                      -0.1140, -0.0519,  0.1153, -0.0220, -0.1600,  0.1223,  0.1247, -0.0964,\n",
              "                      -0.0689, -0.1032, -0.1735,  0.1638, -0.0588, -0.0043,  0.0278, -0.0926,\n",
              "                       0.0227,  0.1203,  0.0539,  0.0750,  0.0878, -0.1443,  0.0496, -0.0873,\n",
              "                      -0.1654, -0.0723,  0.0070,  0.1599,  0.1756, -0.1668,  0.1638, -0.0514,\n",
              "                      -0.1222,  0.1488,  0.1294,  0.0326,  0.0479, -0.0980, -0.0168, -0.0843,\n",
              "                      -0.1371, -0.1514,  0.1091, -0.1258, -0.1078,  0.0731, -0.1295, -0.1465,\n",
              "                       0.1642, -0.1088, -0.0432, -0.1568,  0.0462,  0.0177, -0.0231,  0.1658,\n",
              "                      -0.0397, -0.0871,  0.1401,  0.1748, -0.0128, -0.0792,  0.0828, -0.1352],\n",
              "                     device='cuda:0')),\n",
              "             ('lstm.weight_ih_l2',\n",
              "              tensor([[-0.1434, -0.0462,  0.0195,  ...,  0.1674,  0.0681,  0.1689],\n",
              "                      [-0.0938, -0.0361, -0.1464,  ...,  0.0690,  0.1649, -0.1297],\n",
              "                      [-0.0333,  0.1021, -0.0282,  ...,  0.0914,  0.1303, -0.0516],\n",
              "                      ...,\n",
              "                      [-0.0671,  0.1411,  0.1706,  ..., -0.1407,  0.0763, -0.1252],\n",
              "                      [ 0.0496, -0.1571, -0.1476,  ..., -0.0735,  0.1358, -0.1458],\n",
              "                      [-0.0536, -0.0585,  0.0112,  ...,  0.0960, -0.0505,  0.1532]],\n",
              "                     device='cuda:0')),\n",
              "             ('lstm.weight_hh_l2',\n",
              "              tensor([[ 0.0595, -0.0270,  0.0531,  ..., -0.1560,  0.1013, -0.0520],\n",
              "                      [ 0.0639, -0.0746,  0.1422,  ...,  0.1550, -0.1362, -0.0288],\n",
              "                      [-0.1060, -0.0752, -0.0470,  ...,  0.0237,  0.0713,  0.1447],\n",
              "                      ...,\n",
              "                      [-0.0626,  0.1524, -0.1125,  ...,  0.1728,  0.0878,  0.1683],\n",
              "                      [-0.0184,  0.0724, -0.0853,  ...,  0.1088,  0.0780,  0.1555],\n",
              "                      [-0.0431,  0.1117, -0.1728,  ..., -0.0092, -0.1136,  0.0176]],\n",
              "                     device='cuda:0')),\n",
              "             ('lstm.bias_ih_l2',\n",
              "              tensor([-0.1316, -0.0014,  0.1229, -0.1593, -0.1357, -0.1218,  0.1445,  0.1046,\n",
              "                       0.0102,  0.0682,  0.1145, -0.1171, -0.0576, -0.1015, -0.0624,  0.0171,\n",
              "                       0.1033, -0.1226,  0.0704,  0.1647, -0.1280, -0.1268,  0.1166,  0.1248,\n",
              "                      -0.1759, -0.1536,  0.1501, -0.1676,  0.1491, -0.0645, -0.0415,  0.0127,\n",
              "                       0.1207, -0.0673, -0.1245, -0.0673,  0.0242, -0.1507, -0.0794, -0.1658,\n",
              "                      -0.1759,  0.0839,  0.1620,  0.0142,  0.0879,  0.0333,  0.0038, -0.0666,\n",
              "                       0.1115,  0.1154,  0.0328,  0.1663,  0.0435, -0.0175, -0.1197,  0.1423,\n",
              "                      -0.1657,  0.1059,  0.0161, -0.0013,  0.0766,  0.1637, -0.0228, -0.0979,\n",
              "                      -0.0013, -0.1608,  0.1698,  0.0942, -0.1428,  0.1231, -0.0793,  0.0605,\n",
              "                       0.0885, -0.1714,  0.1091, -0.0663, -0.0745,  0.0097, -0.1115, -0.0352,\n",
              "                       0.1380,  0.0759, -0.0273,  0.1335,  0.0733,  0.0166, -0.0430, -0.0641,\n",
              "                       0.1244, -0.1368,  0.1154, -0.0842, -0.1681, -0.1663,  0.1161,  0.1610,\n",
              "                       0.1460, -0.1583, -0.0359,  0.0764,  0.1122,  0.0217, -0.0208, -0.1351,\n",
              "                      -0.0307,  0.1313,  0.0789,  0.1393, -0.1469,  0.0961, -0.0429, -0.0202,\n",
              "                       0.0349,  0.0154,  0.0112,  0.0805, -0.0465, -0.1522,  0.1448, -0.1306,\n",
              "                      -0.0107,  0.1187, -0.1362, -0.0708, -0.0268, -0.0585,  0.0437, -0.0065],\n",
              "                     device='cuda:0')),\n",
              "             ('lstm.bias_hh_l2',\n",
              "              tensor([-0.0566, -0.1390, -0.1287, -0.0815, -0.0093, -0.0996, -0.0091,  0.1056,\n",
              "                      -0.0450,  0.0894, -0.1084,  0.0970,  0.1179,  0.1660,  0.1618, -0.1737,\n",
              "                      -0.1744, -0.1257,  0.1259,  0.0431,  0.0672, -0.1133, -0.1234, -0.0444,\n",
              "                       0.0233, -0.0730, -0.0910,  0.1249, -0.0570,  0.1751, -0.0986,  0.1410,\n",
              "                      -0.1538, -0.1041,  0.0412, -0.0596, -0.0968, -0.0514, -0.1083,  0.1137,\n",
              "                       0.1370,  0.0772, -0.0526,  0.0100, -0.1427,  0.1421, -0.1313,  0.0442,\n",
              "                       0.0134, -0.1032,  0.1464, -0.0153, -0.0812,  0.0715, -0.1557,  0.0236,\n",
              "                      -0.0171, -0.1691, -0.1734,  0.0020,  0.1622,  0.1460, -0.0332, -0.0769,\n",
              "                      -0.1385,  0.1199,  0.1610, -0.0434,  0.0781, -0.1014,  0.1080,  0.1175,\n",
              "                      -0.0177,  0.1273, -0.1677, -0.1688,  0.1129, -0.0851, -0.0860, -0.1123,\n",
              "                       0.0487,  0.1092,  0.0827, -0.0534, -0.1068,  0.1610,  0.1226, -0.1707,\n",
              "                      -0.0833,  0.1692,  0.0490,  0.1678, -0.0722, -0.1118,  0.0304, -0.0760,\n",
              "                       0.0216,  0.0060,  0.0424, -0.1407, -0.0147,  0.0556, -0.1204,  0.0520,\n",
              "                      -0.1139,  0.0136, -0.1145, -0.1176, -0.0919,  0.1294, -0.0268, -0.0834,\n",
              "                      -0.1667,  0.1647,  0.1709,  0.0861, -0.0787, -0.0909,  0.1707, -0.0169,\n",
              "                       0.1670, -0.1382, -0.0570,  0.1154, -0.0656,  0.0905,  0.1233,  0.1586],\n",
              "                     device='cuda:0')),\n",
              "             ('lstm.weight_ih_l2_reverse',\n",
              "              tensor([[-0.1563, -0.0255,  0.0799,  ...,  0.0979, -0.0381,  0.0449],\n",
              "                      [-0.0538, -0.1659, -0.0800,  ..., -0.1756, -0.0145,  0.0939],\n",
              "                      [-0.1480, -0.1400, -0.1069,  ...,  0.1509, -0.1757, -0.1266],\n",
              "                      ...,\n",
              "                      [ 0.1683,  0.0654,  0.1602,  ...,  0.1000, -0.1092, -0.1620],\n",
              "                      [ 0.0598, -0.1306,  0.0431,  ...,  0.1309,  0.0672, -0.0400],\n",
              "                      [ 0.1391,  0.0688, -0.1353,  ...,  0.0278, -0.1492,  0.1386]],\n",
              "                     device='cuda:0')),\n",
              "             ('lstm.weight_hh_l2_reverse',\n",
              "              tensor([[-0.1238,  0.0674, -0.0268,  ...,  0.0130,  0.1763,  0.1397],\n",
              "                      [ 0.1456,  0.0854, -0.0835,  ...,  0.0761, -0.1449,  0.1100],\n",
              "                      [ 0.1416, -0.0006, -0.0241,  ...,  0.0547,  0.0004,  0.0362],\n",
              "                      ...,\n",
              "                      [ 0.1648, -0.0981, -0.1413,  ...,  0.1070,  0.0466, -0.0024],\n",
              "                      [ 0.0584,  0.1179,  0.0209,  ..., -0.1507, -0.1584, -0.1322],\n",
              "                      [-0.1493,  0.0817, -0.1042,  ..., -0.0686,  0.1334,  0.0161]],\n",
              "                     device='cuda:0')),\n",
              "             ('lstm.bias_ih_l2_reverse',\n",
              "              tensor([-0.0825,  0.0644, -0.1609,  0.1592,  0.0892, -0.0442, -0.1280, -0.1676,\n",
              "                      -0.1130, -0.0600,  0.1646,  0.1751, -0.0024,  0.1484,  0.0575,  0.1384,\n",
              "                      -0.0166, -0.0812,  0.0484,  0.0255, -0.0602,  0.1755, -0.1721, -0.0137,\n",
              "                       0.0431, -0.0583,  0.0212,  0.0254, -0.1386, -0.1617,  0.1421, -0.1689,\n",
              "                      -0.1391,  0.1342,  0.1476,  0.0637, -0.1757,  0.0775,  0.1282,  0.0981,\n",
              "                      -0.1033, -0.0019,  0.0283, -0.0839, -0.0543, -0.0932,  0.0804,  0.0840,\n",
              "                       0.1062, -0.1358,  0.0109, -0.0360, -0.1472,  0.1550, -0.0743, -0.1075,\n",
              "                       0.1092, -0.1588,  0.0838,  0.0264,  0.1076, -0.1248, -0.0125, -0.1174,\n",
              "                      -0.1222, -0.0510,  0.1045,  0.0407,  0.1518,  0.1036, -0.0781, -0.0288,\n",
              "                      -0.1564, -0.1115,  0.0961, -0.1145, -0.0407, -0.0109, -0.0416, -0.0287,\n",
              "                       0.0586, -0.0124,  0.1002,  0.1367, -0.0795,  0.1541, -0.0891, -0.0666,\n",
              "                      -0.0610, -0.1210, -0.1192, -0.1278,  0.0741, -0.0257, -0.0909, -0.1500,\n",
              "                       0.1684,  0.1411,  0.0807,  0.0634, -0.1031, -0.1659, -0.0378, -0.0059,\n",
              "                      -0.0876, -0.0700,  0.0723,  0.0118,  0.1464, -0.1356, -0.0226, -0.0834,\n",
              "                      -0.0377,  0.1380,  0.0058, -0.0699,  0.0458,  0.0876,  0.0794, -0.0578,\n",
              "                       0.0932,  0.0351,  0.0726, -0.1614, -0.0457, -0.1098, -0.1525,  0.0988],\n",
              "                     device='cuda:0')),\n",
              "             ('lstm.bias_hh_l2_reverse',\n",
              "              tensor([-0.0003, -0.0554,  0.1202,  0.1407,  0.0837,  0.0695,  0.0583,  0.1541,\n",
              "                       0.0006,  0.1544, -0.0213, -0.1207, -0.0529, -0.1173, -0.0605, -0.1742,\n",
              "                       0.0521, -0.0157, -0.0740,  0.1172,  0.1419,  0.1219, -0.0081,  0.0588,\n",
              "                       0.0311,  0.0986, -0.0589,  0.0900, -0.1158, -0.0480, -0.0954, -0.0945,\n",
              "                       0.0243, -0.0881,  0.1151, -0.1163,  0.0033, -0.0021, -0.0226,  0.1225,\n",
              "                      -0.0902,  0.1190, -0.0281, -0.0909,  0.0149, -0.1245,  0.0985, -0.1206,\n",
              "                      -0.0239,  0.1106, -0.1287, -0.0375, -0.0815,  0.0237,  0.1718,  0.0542,\n",
              "                      -0.1272, -0.0127, -0.0999,  0.1520, -0.1697,  0.0087, -0.1314,  0.1275,\n",
              "                       0.1414,  0.1001,  0.1306,  0.0642,  0.0512,  0.0983, -0.0220,  0.1233,\n",
              "                       0.0145, -0.0410,  0.1228,  0.0441, -0.0553, -0.1607, -0.0104, -0.0264,\n",
              "                       0.0584,  0.1356, -0.0130,  0.1295, -0.1077, -0.1389,  0.1701,  0.0339,\n",
              "                       0.0357, -0.0036,  0.1364,  0.0903,  0.1570, -0.0288,  0.0845,  0.0342,\n",
              "                      -0.0302, -0.0059,  0.0794,  0.1014, -0.1432, -0.1252, -0.0034, -0.0209,\n",
              "                       0.1340,  0.0597, -0.0515,  0.0108, -0.1117,  0.1554,  0.1377, -0.0396,\n",
              "                      -0.0193, -0.0297, -0.0864,  0.0119, -0.1061, -0.1129, -0.0644,  0.0952,\n",
              "                      -0.1275, -0.1569, -0.0185, -0.0422, -0.1728,  0.1274,  0.0416, -0.1091],\n",
              "                     device='cuda:0')),\n",
              "             ('lstm.weight_ih_l3',\n",
              "              tensor([[-0.0215,  0.1715,  0.0305,  ...,  0.0321, -0.0587,  0.0029],\n",
              "                      [ 0.0782,  0.0097,  0.0896,  ...,  0.0348,  0.1577, -0.1433],\n",
              "                      [ 0.0123, -0.1225, -0.0151,  ..., -0.0212,  0.0756, -0.1239],\n",
              "                      ...,\n",
              "                      [-0.0488, -0.1237,  0.1491,  ...,  0.1241,  0.0185,  0.1685],\n",
              "                      [ 0.1133,  0.1577, -0.0038,  ..., -0.0312, -0.0122,  0.0611],\n",
              "                      [ 0.0638,  0.1306,  0.1518,  ...,  0.1702, -0.0908,  0.0353]],\n",
              "                     device='cuda:0')),\n",
              "             ('lstm.weight_hh_l3',\n",
              "              tensor([[ 0.1549,  0.0190, -0.1461,  ..., -0.1551,  0.1648,  0.0308],\n",
              "                      [ 0.1740,  0.0206,  0.1691,  ...,  0.1731, -0.0425,  0.1122],\n",
              "                      [ 0.1299, -0.0233,  0.1001,  ..., -0.0326,  0.1760, -0.0384],\n",
              "                      ...,\n",
              "                      [-0.0882, -0.1454, -0.1560,  ...,  0.1081, -0.1581, -0.1244],\n",
              "                      [ 0.1313,  0.1545, -0.1516,  ..., -0.0251,  0.0776, -0.1115],\n",
              "                      [ 0.1435, -0.1114,  0.1607,  ..., -0.0639,  0.1287, -0.1333]],\n",
              "                     device='cuda:0')),\n",
              "             ('lstm.bias_ih_l3',\n",
              "              tensor([-0.0177,  0.0919,  0.1138,  0.0591, -0.0449,  0.1213, -0.1261,  0.1198,\n",
              "                       0.1172,  0.1589,  0.0181, -0.0254,  0.0566,  0.0382, -0.0592, -0.1472,\n",
              "                       0.1274,  0.1038, -0.1512, -0.1632,  0.0865, -0.1090, -0.0007,  0.1762,\n",
              "                      -0.0253,  0.1323,  0.1041,  0.0387,  0.0533,  0.1048, -0.1605,  0.1494,\n",
              "                       0.0757,  0.1414,  0.1607,  0.1327,  0.1004, -0.0164,  0.1110,  0.0779,\n",
              "                       0.1349, -0.0554, -0.1472,  0.1416, -0.0582, -0.0701,  0.0038,  0.0578,\n",
              "                      -0.1191, -0.0216, -0.0292, -0.0305, -0.1175,  0.0387,  0.0993,  0.0312,\n",
              "                       0.0502,  0.0524,  0.0448,  0.0405,  0.1607, -0.0687,  0.0285, -0.0665,\n",
              "                      -0.0440,  0.0497,  0.0667, -0.1179, -0.1589,  0.1027,  0.1355,  0.1388,\n",
              "                      -0.1144, -0.1311, -0.1389,  0.1432, -0.1373, -0.0749, -0.1150,  0.0074,\n",
              "                      -0.0841,  0.1082,  0.0295,  0.1193,  0.0961,  0.0231, -0.0445, -0.0898,\n",
              "                       0.1273, -0.0112, -0.0894, -0.0832, -0.0427,  0.1444, -0.1305, -0.0715,\n",
              "                      -0.1569,  0.1110, -0.1576, -0.0919, -0.0405,  0.0320, -0.0693, -0.1475,\n",
              "                      -0.0372,  0.0898,  0.0861,  0.0329,  0.1319,  0.1456, -0.0044, -0.0975,\n",
              "                      -0.0571,  0.0501, -0.1274, -0.1451, -0.0380,  0.0448, -0.1656,  0.0870,\n",
              "                       0.0533, -0.0566, -0.0127, -0.0394, -0.1205,  0.0363, -0.0036, -0.0526],\n",
              "                     device='cuda:0')),\n",
              "             ('lstm.bias_hh_l3',\n",
              "              tensor([-0.1506, -0.0744, -0.0022,  0.0835,  0.0956, -0.1615, -0.0811,  0.1239,\n",
              "                      -0.0361,  0.0523, -0.0080,  0.1167, -0.1385, -0.1140,  0.1705, -0.1036,\n",
              "                       0.1088,  0.1049,  0.1069, -0.1215,  0.0512,  0.0074,  0.1300, -0.1011,\n",
              "                       0.1760,  0.1189,  0.1167,  0.1717, -0.0729, -0.1052, -0.0878, -0.0881,\n",
              "                       0.1013,  0.0059, -0.0575, -0.1702, -0.1536,  0.0328,  0.1743,  0.0432,\n",
              "                       0.0780, -0.0765,  0.0494,  0.1481,  0.0278, -0.0584, -0.1648, -0.1594,\n",
              "                      -0.0163,  0.0652,  0.1295, -0.0418, -0.1510, -0.1620,  0.0316, -0.0675,\n",
              "                       0.0502,  0.0606, -0.0382,  0.1658,  0.1025,  0.1359, -0.1543, -0.0643,\n",
              "                      -0.1158,  0.1453, -0.0246, -0.0073, -0.1739, -0.0766,  0.0751,  0.1453,\n",
              "                       0.1537, -0.0644,  0.0711,  0.1327,  0.1272, -0.1226, -0.0097,  0.0069,\n",
              "                       0.1451, -0.1733,  0.1343,  0.0350,  0.1362,  0.1189, -0.1100, -0.0491,\n",
              "                      -0.1215,  0.0118,  0.0857,  0.0114,  0.1557,  0.0227, -0.1487,  0.1520,\n",
              "                       0.0882, -0.0112,  0.0402,  0.1410,  0.0922, -0.0191, -0.1704, -0.1456,\n",
              "                      -0.1721, -0.0989, -0.0974,  0.1449,  0.1656, -0.0284,  0.0682, -0.1460,\n",
              "                       0.1586,  0.1031,  0.0620,  0.0009, -0.0912, -0.0456, -0.1271, -0.0354,\n",
              "                       0.0858,  0.0973,  0.0188,  0.1490, -0.0609, -0.0496,  0.0781,  0.0310],\n",
              "                     device='cuda:0')),\n",
              "             ('lstm.weight_ih_l3_reverse',\n",
              "              tensor([[ 0.1363, -0.0672, -0.1069,  ...,  0.0246,  0.1719,  0.1465],\n",
              "                      [ 0.1411,  0.1053,  0.0491,  ...,  0.1528,  0.0440, -0.0727],\n",
              "                      [-0.0773,  0.1177, -0.0050,  ..., -0.0599,  0.1114,  0.1583],\n",
              "                      ...,\n",
              "                      [ 0.1349, -0.0907,  0.0207,  ..., -0.1352, -0.0237, -0.1081],\n",
              "                      [-0.1103, -0.1630,  0.0450,  ..., -0.1573, -0.0558, -0.0446],\n",
              "                      [-0.0976, -0.0805, -0.1427,  ..., -0.0895, -0.0623,  0.1531]],\n",
              "                     device='cuda:0')),\n",
              "             ('lstm.weight_hh_l3_reverse',\n",
              "              tensor([[ 0.1135,  0.0293, -0.1501,  ...,  0.1012, -0.1544, -0.1215],\n",
              "                      [-0.1395, -0.1382,  0.1345,  ..., -0.0559,  0.1626,  0.0631],\n",
              "                      [ 0.1277,  0.0776, -0.0151,  ..., -0.1551, -0.1733, -0.0815],\n",
              "                      ...,\n",
              "                      [ 0.0354,  0.0761, -0.0915,  ...,  0.0391, -0.1548, -0.0585],\n",
              "                      [ 0.0281, -0.0874,  0.1041,  ..., -0.0748,  0.0450,  0.0881],\n",
              "                      [-0.0725, -0.1356,  0.0798,  ..., -0.1168, -0.0608,  0.1030]],\n",
              "                     device='cuda:0')),\n",
              "             ('lstm.bias_ih_l3_reverse',\n",
              "              tensor([-0.1338,  0.1007, -0.0463, -0.0799,  0.0202,  0.1624, -0.0885, -0.0141,\n",
              "                      -0.0616, -0.0098, -0.0145, -0.1240, -0.1397, -0.1642, -0.0516,  0.1728,\n",
              "                       0.1080,  0.0917, -0.1519,  0.1530, -0.1133, -0.1738, -0.1359,  0.0752,\n",
              "                       0.0145, -0.1549, -0.0146,  0.1076, -0.1049, -0.0824,  0.1600, -0.0356,\n",
              "                       0.1356,  0.0220,  0.1251,  0.1626,  0.0978,  0.0020, -0.0582,  0.0804,\n",
              "                       0.1755,  0.1574, -0.0087,  0.1113,  0.0851, -0.0930,  0.1402, -0.1299,\n",
              "                      -0.0889, -0.0132, -0.1494,  0.1341,  0.1603,  0.0663, -0.1463, -0.0293,\n",
              "                      -0.0779, -0.0778,  0.0388, -0.1161, -0.1026,  0.0373, -0.0614,  0.1740,\n",
              "                      -0.0335, -0.1551, -0.1161, -0.1520,  0.1736, -0.0054, -0.1697,  0.0053,\n",
              "                       0.0021,  0.1410, -0.1231,  0.1549, -0.1562,  0.0730, -0.0170, -0.0522,\n",
              "                      -0.1750, -0.0666, -0.0663,  0.1570,  0.1355, -0.0683,  0.1067, -0.1361,\n",
              "                       0.0445, -0.0920, -0.0290,  0.0284,  0.1032, -0.1518,  0.1569, -0.1527,\n",
              "                      -0.0863, -0.1255,  0.1069,  0.1511, -0.0364,  0.0689, -0.1336, -0.1378,\n",
              "                      -0.0445,  0.1593, -0.0678, -0.0466, -0.0587,  0.1511, -0.0143, -0.1073,\n",
              "                       0.0744, -0.1729, -0.0576,  0.0904,  0.0045,  0.0718,  0.0162, -0.0692,\n",
              "                       0.1311,  0.0451, -0.1764, -0.0744, -0.1663,  0.1415,  0.0544, -0.1136],\n",
              "                     device='cuda:0')),\n",
              "             ('lstm.bias_hh_l3_reverse',\n",
              "              tensor([-0.1171,  0.1541,  0.0405, -0.0359, -0.1040, -0.0489,  0.0441,  0.0899,\n",
              "                      -0.1216,  0.1652,  0.1018,  0.1049, -0.1497,  0.1234,  0.0638,  0.1634,\n",
              "                       0.1600, -0.1216,  0.1394,  0.0171,  0.0537,  0.0115,  0.1519, -0.1318,\n",
              "                      -0.1218, -0.0586, -0.0972,  0.0688,  0.0424, -0.1160,  0.0623, -0.0816,\n",
              "                       0.1058, -0.1758,  0.0945, -0.0247,  0.1729,  0.1172,  0.1410, -0.1451,\n",
              "                       0.0644,  0.1003,  0.0473,  0.0434,  0.1078, -0.1564,  0.1521,  0.0633,\n",
              "                       0.1314,  0.0642,  0.0807, -0.0038,  0.1359, -0.0601,  0.1463, -0.0281,\n",
              "                       0.0124, -0.0887,  0.0617, -0.0514,  0.0453, -0.0767,  0.0679,  0.1552,\n",
              "                       0.1199,  0.0038,  0.1668, -0.1418, -0.0187, -0.0714, -0.0560,  0.1039,\n",
              "                      -0.1095,  0.0380,  0.1508, -0.1338, -0.0580, -0.1164,  0.1501,  0.1436,\n",
              "                      -0.1661,  0.1185, -0.0830, -0.0854,  0.1114,  0.1637,  0.1490,  0.1257,\n",
              "                       0.1430, -0.1440, -0.0031,  0.0048,  0.1511,  0.0954,  0.1307, -0.0441,\n",
              "                      -0.0322, -0.1367, -0.1599,  0.0471,  0.0550,  0.1191,  0.1238, -0.0426,\n",
              "                      -0.0567,  0.0191,  0.0685, -0.0917, -0.0109,  0.0233,  0.1502,  0.1030,\n",
              "                      -0.0230,  0.1531, -0.1647, -0.1725, -0.1233,  0.0779, -0.1606, -0.0031,\n",
              "                       0.0660, -0.0694, -0.1401, -0.1465,  0.0612,  0.1092, -0.1045,  0.1187],\n",
              "                     device='cuda:0')),\n",
              "             ('fc.weight',\n",
              "              tensor([[ 1.1979e-01, -2.9327e-03,  5.4610e-02, -1.0256e-01, -3.6258e-02,\n",
              "                       -2.0947e-02, -2.5957e-02, -7.7537e-02,  2.8102e-02,  8.8194e-02,\n",
              "                        1.1869e-01, -8.7384e-02, -8.6083e-03,  6.0866e-02,  6.3413e-02,\n",
              "                        4.1068e-02, -7.5740e-02,  1.0328e-01, -9.5349e-03,  1.1023e-01,\n",
              "                        6.4370e-02, -9.7728e-02, -4.6192e-02,  9.9381e-02, -4.8130e-03,\n",
              "                        1.3827e-02,  3.9023e-02,  5.8310e-02, -6.3039e-02, -8.3271e-03,\n",
              "                        5.1954e-02, -7.1815e-04,  1.1239e-01,  1.2324e-02, -1.0104e-01,\n",
              "                        9.1550e-02, -1.0890e-01, -7.2124e-02,  4.8909e-02, -6.4552e-02,\n",
              "                        1.0208e-01,  7.6838e-02,  1.2374e-03,  8.0776e-03,  1.0820e-04,\n",
              "                        4.7453e-02,  1.2274e-01,  8.4803e-02,  4.3997e-02,  2.5315e-02,\n",
              "                        5.5863e-03, -7.8943e-02, -1.0264e-01,  3.2737e-02, -5.7585e-02,\n",
              "                        2.0289e-02, -7.4505e-02,  1.0001e-01,  2.1802e-02, -6.7796e-02,\n",
              "                        1.2148e-02, -9.1734e-02, -1.1156e-01, -9.6781e-02],\n",
              "                      [ 3.3502e-02, -7.8439e-02,  3.3282e-02, -1.8359e-02,  1.8761e-02,\n",
              "                       -5.8310e-02, -2.4777e-02,  4.3833e-02,  7.8357e-02, -5.0761e-02,\n",
              "                       -1.0092e-01,  8.7063e-02,  1.2197e-01, -7.4660e-02,  4.5278e-02,\n",
              "                       -1.2361e-01, -4.3313e-02,  9.7743e-02,  5.6045e-02, -3.9893e-02,\n",
              "                       -1.1268e-01, -3.6178e-02, -1.2834e-02, -2.4247e-02,  1.0359e-01,\n",
              "                       -1.4900e-02, -3.4545e-02,  7.1488e-02,  5.9542e-02, -6.7046e-02,\n",
              "                       -1.9551e-02,  2.7375e-02, -9.6900e-02,  6.8444e-02,  2.9286e-02,\n",
              "                        6.1401e-02, -1.1117e-01,  2.5841e-02,  2.6838e-02, -9.6221e-02,\n",
              "                       -1.6070e-02, -9.3728e-02,  8.7834e-03, -7.1883e-04,  8.3049e-02,\n",
              "                        6.7099e-02,  6.6548e-02, -1.6041e-02,  1.2154e-01,  1.2089e-01,\n",
              "                        1.4138e-02, -1.1435e-01, -7.7584e-02, -4.3842e-02,  8.2209e-02,\n",
              "                        5.4385e-02,  1.1747e-01, -5.2542e-02, -7.5356e-02, -5.3149e-02,\n",
              "                       -3.1652e-02, -1.5922e-02, -8.1983e-02, -1.9223e-02],\n",
              "                      [ 1.7520e-02, -8.0847e-02, -9.0864e-03,  7.9153e-02, -3.7956e-02,\n",
              "                        2.8151e-02, -1.0355e-01, -2.6996e-02,  1.3734e-02,  5.7067e-02,\n",
              "                       -5.5342e-03, -5.5485e-02,  1.7419e-02, -8.9750e-02,  1.0698e-01,\n",
              "                       -1.1968e-01, -7.7552e-02,  1.2292e-01, -1.0163e-01,  7.3341e-02,\n",
              "                        1.2178e-01,  3.4813e-02,  9.2981e-02, -7.3299e-03, -6.5648e-02,\n",
              "                       -4.5517e-02,  1.0338e-01, -2.7834e-02, -2.4414e-02,  1.0603e-01,\n",
              "                        3.8299e-03, -2.3813e-02,  3.2506e-02, -6.9216e-02, -4.1111e-02,\n",
              "                       -4.0858e-02, -5.7478e-02,  5.3475e-02, -7.5215e-02,  1.1207e-01,\n",
              "                       -1.2270e-01,  7.8813e-02, -5.5472e-02, -5.2153e-02,  6.7753e-02,\n",
              "                        1.1992e-02,  2.1979e-02,  3.5429e-02,  2.7867e-02, -9.2135e-02,\n",
              "                       -5.4368e-02,  1.1515e-01,  1.0637e-01, -2.3201e-02, -9.8469e-03,\n",
              "                       -1.4111e-02, -5.3188e-02,  9.9878e-02,  6.2349e-02,  1.1240e-01,\n",
              "                       -6.7977e-03,  4.0383e-02, -5.8347e-02,  1.9626e-02],\n",
              "                      [-6.9907e-02,  1.1292e-01, -1.5263e-02,  2.5525e-02, -1.0961e-01,\n",
              "                        6.4317e-02, -7.8653e-02,  3.2384e-02,  4.7596e-02, -1.5641e-02,\n",
              "                        4.7797e-02, -1.1709e-01, -4.9714e-02, -1.7624e-02,  9.0543e-02,\n",
              "                        6.4150e-02,  1.1839e-01, -4.7703e-02,  1.1442e-01, -1.1032e-01,\n",
              "                       -9.0999e-02, -6.3664e-02, -7.9212e-02,  1.1969e-01,  1.6152e-02,\n",
              "                        3.1248e-02,  1.5091e-02,  9.6943e-03,  8.7280e-02,  3.4310e-02,\n",
              "                        1.1349e-01,  5.6604e-02, -1.0765e-01, -1.6674e-02, -5.5194e-02,\n",
              "                       -1.2917e-02, -1.6757e-02, -4.5333e-03,  5.9772e-03, -4.2727e-02,\n",
              "                       -2.5276e-02,  3.7375e-02,  5.7807e-03,  9.9264e-02,  4.7633e-02,\n",
              "                        8.1249e-02, -7.3072e-02,  1.0443e-01, -8.0985e-02,  3.0311e-02,\n",
              "                        1.1154e-01, -4.3826e-02,  8.3824e-02, -5.2989e-02,  9.0944e-03,\n",
              "                        7.4088e-02,  1.1910e-01, -8.0979e-02,  3.4533e-02, -8.4385e-02,\n",
              "                        5.6446e-03,  7.8519e-02, -9.4033e-02, -6.0854e-02],\n",
              "                      [ 1.5187e-03, -4.4440e-02,  4.0838e-02,  3.9064e-02, -2.6797e-02,\n",
              "                       -8.1692e-02, -1.2367e-02,  9.8697e-02, -4.1131e-03, -4.6212e-03,\n",
              "                       -7.6494e-02, -7.1490e-02, -5.7819e-02, -1.9026e-02, -1.1384e-01,\n",
              "                       -1.1527e-01,  8.1689e-02, -3.5859e-02,  9.3960e-02, -3.2085e-03,\n",
              "                        3.6546e-02,  4.3851e-03,  4.4311e-02,  5.9506e-02, -3.1025e-02,\n",
              "                        1.2217e-01, -7.6716e-02,  2.8833e-03, -7.5865e-02, -3.6272e-02,\n",
              "                       -6.6833e-02, -1.1582e-01, -5.4069e-02,  7.8543e-02,  1.0465e-01,\n",
              "                       -7.9753e-02, -5.5222e-02,  8.4718e-02,  6.2930e-02, -1.5772e-02,\n",
              "                       -4.2235e-02,  1.6101e-02,  1.2102e-01,  8.5813e-02, -1.0970e-01,\n",
              "                       -4.0132e-02,  5.5201e-02, -1.0625e-01, -8.9781e-02,  1.0658e-01,\n",
              "                        4.5502e-02,  1.6350e-02, -8.1723e-02, -5.2131e-02, -8.1645e-02,\n",
              "                       -1.7265e-02, -1.4354e-02, -6.5371e-02, -7.7821e-02, -6.0858e-02,\n",
              "                       -4.9543e-02,  4.7841e-02,  5.1218e-03,  1.2463e-01],\n",
              "                      [ 6.5673e-02,  4.9231e-02,  3.5653e-02,  6.2866e-03, -3.6193e-02,\n",
              "                       -1.1172e-01, -4.3445e-02, -1.0092e-01, -6.8577e-02, -1.2210e-01,\n",
              "                       -1.1466e-01,  3.7037e-03,  1.9104e-02, -5.0552e-02,  1.0176e-01,\n",
              "                       -9.6680e-02,  3.1485e-02, -1.6484e-02,  8.7169e-03,  1.2772e-02,\n",
              "                        9.7891e-02,  9.5136e-02,  7.3703e-02,  8.8812e-04, -7.9254e-02,\n",
              "                        9.3496e-03,  3.4922e-02,  8.8908e-02, -4.3936e-02,  4.0613e-03,\n",
              "                        6.9283e-02,  3.7432e-02,  8.0854e-02, -1.1721e-01, -6.7596e-02,\n",
              "                        1.5758e-02, -8.7374e-02, -7.2227e-02,  5.1927e-02,  2.8005e-02,\n",
              "                        7.4488e-02, -8.3915e-02, -1.1736e-01, -1.0718e-01, -2.4138e-02,\n",
              "                       -5.1297e-03,  6.6258e-02, -8.2478e-02, -8.1617e-02,  8.3003e-02,\n",
              "                        1.1256e-01, -8.2839e-02, -8.3122e-02, -8.4260e-02, -1.4767e-02,\n",
              "                        5.5904e-02,  8.6406e-02,  8.3944e-02,  8.4943e-02,  6.4876e-02,\n",
              "                        7.0724e-02, -6.9704e-02,  1.9102e-02,  1.8448e-02],\n",
              "                      [ 1.1194e-01, -6.4631e-02,  8.2906e-02, -8.5953e-02, -6.0381e-02,\n",
              "                        6.7657e-02, -8.5332e-02,  3.5667e-02, -7.9227e-02, -9.3484e-02,\n",
              "                       -8.0276e-02, -4.1809e-02,  9.9910e-02, -3.6437e-02, -4.5452e-02,\n",
              "                       -3.3423e-02,  8.3090e-03, -6.4315e-02,  5.6144e-02, -2.0339e-02,\n",
              "                        9.2515e-02, -1.0625e-01,  2.3283e-02,  7.5912e-02, -1.1365e-01,\n",
              "                        3.8552e-02,  7.7384e-02,  7.6667e-02,  1.9639e-02, -1.2136e-02,\n",
              "                        1.0097e-02, -7.9166e-02, -7.6316e-02,  8.7527e-02, -2.3024e-02,\n",
              "                       -5.5498e-04, -9.1204e-03, -1.1362e-01,  3.2812e-02,  5.0558e-02,\n",
              "                       -8.5291e-03, -5.9595e-02, -9.1833e-02, -3.1392e-02,  5.4245e-02,\n",
              "                       -6.8158e-02,  1.2157e-01, -1.1720e-01, -4.3361e-02,  6.2479e-02,\n",
              "                        3.4283e-02, -2.1553e-02, -9.8273e-02,  2.8751e-02, -1.0990e-01,\n",
              "                       -6.4427e-02, -1.5084e-03,  5.5112e-02,  1.1828e-01,  7.0771e-02,\n",
              "                        5.2614e-02, -2.6901e-02,  4.9225e-02, -1.6451e-02],\n",
              "                      [-1.8709e-02, -1.0190e-01,  1.1080e-01,  4.9898e-03,  3.6016e-04,\n",
              "                        4.0969e-02,  9.0568e-02, -1.0111e-01,  1.1156e-01, -8.4480e-02,\n",
              "                       -1.0192e-02, -1.0263e-01, -4.1416e-04,  1.8939e-02, -9.7334e-02,\n",
              "                       -2.3528e-02, -7.3864e-02,  1.2224e-01,  9.9889e-02, -1.0875e-01,\n",
              "                       -4.3113e-02, -3.0671e-02, -1.1879e-01, -8.6131e-02,  6.7991e-02,\n",
              "                        3.2185e-02, -7.7834e-02,  5.6035e-02, -1.0198e-01, -7.8712e-02,\n",
              "                        9.3394e-02, -7.1408e-02, -6.5914e-02, -2.8599e-02,  6.6194e-03,\n",
              "                       -6.6256e-02,  7.9928e-02, -6.4026e-02, -4.4781e-03, -8.7311e-02,\n",
              "                       -1.2171e-02, -5.2816e-02, -1.2320e-01,  3.2091e-02, -1.1369e-01,\n",
              "                        1.0813e-01,  4.9295e-02,  7.1106e-02, -4.7522e-02,  9.7583e-02,\n",
              "                        2.9061e-02, -8.5344e-02, -3.2052e-02, -2.5827e-02, -7.7260e-02,\n",
              "                        9.5007e-02, -8.6949e-02,  4.5817e-02,  3.8108e-02,  8.4617e-02,\n",
              "                        9.7198e-02,  7.6275e-02,  6.0900e-02, -2.4899e-02],\n",
              "                      [ 9.4392e-02,  7.9559e-02, -9.0266e-02, -1.1457e-01, -4.6128e-02,\n",
              "                        7.1443e-02,  6.6739e-02, -2.9104e-02, -4.4721e-02, -1.4991e-02,\n",
              "                       -4.5781e-02, -5.9272e-02,  5.2199e-02,  7.5879e-03, -7.4807e-02,\n",
              "                       -1.0104e-01,  1.3824e-02, -1.0666e-01,  1.0945e-01,  8.3801e-02,\n",
              "                       -9.1629e-02,  2.0632e-02,  5.3112e-02,  9.3197e-02,  1.0460e-01,\n",
              "                        6.2070e-02,  1.0296e-01, -2.4057e-02, -3.7573e-02, -6.7209e-02,\n",
              "                        1.1999e-01, -9.6419e-02,  9.4363e-02, -9.0127e-02, -8.4610e-02,\n",
              "                       -1.0728e-01,  8.5470e-02,  7.8609e-02,  9.1912e-02, -8.3294e-02,\n",
              "                        1.0968e-01,  4.0546e-02, -7.9310e-02,  6.6777e-02,  8.8084e-03,\n",
              "                        9.7464e-02,  5.5087e-02, -6.9542e-02,  2.4573e-02,  9.6827e-02,\n",
              "                        1.0499e-01, -3.9179e-02,  2.5174e-02, -7.5533e-02,  7.8036e-03,\n",
              "                        3.0952e-02,  2.6892e-02, -1.7602e-02, -9.1664e-02, -1.0459e-01,\n",
              "                       -1.0648e-01,  1.1071e-01,  1.0758e-01,  8.3918e-02],\n",
              "                      [ 4.5467e-02, -2.6491e-02,  9.2900e-02,  4.8854e-02,  5.4501e-02,\n",
              "                        2.6891e-02, -2.7958e-02, -7.1549e-03,  9.5739e-02,  5.9459e-02,\n",
              "                       -7.5777e-02,  8.0954e-02, -1.7076e-02,  1.4647e-02, -5.5734e-03,\n",
              "                       -9.3833e-02,  1.2061e-01,  8.3393e-02, -9.2284e-02,  1.2034e-01,\n",
              "                       -2.4845e-02,  1.1243e-02,  1.0660e-01,  1.1208e-01, -1.1686e-01,\n",
              "                        3.4848e-02, -2.3117e-02, -6.1736e-02, -2.6445e-02, -4.9550e-02,\n",
              "                        8.3498e-02, -2.1739e-02,  6.9007e-02,  3.2132e-02,  2.6521e-02,\n",
              "                       -1.0537e-01,  5.6510e-02,  3.3351e-02,  8.3814e-02,  1.2268e-02,\n",
              "                        5.4766e-02,  8.7019e-02, -5.8402e-02, -1.1803e-01, -2.1612e-02,\n",
              "                       -9.9887e-02,  5.3559e-02,  2.4781e-02,  6.2176e-02,  3.0705e-03,\n",
              "                       -4.3625e-02,  4.2404e-02,  8.7993e-02, -1.2600e-02,  1.2164e-02,\n",
              "                       -1.1868e-01, -8.0966e-02, -5.5288e-04, -1.0591e-01, -8.3851e-03,\n",
              "                       -8.2114e-02,  1.1438e-01, -6.5208e-02, -2.8894e-02]], device='cuda:0')),\n",
              "             ('fc.bias',\n",
              "              tensor([ 0.0445,  0.0144,  0.0407,  0.0283,  0.1094, -0.0800,  0.0508,  0.0340,\n",
              "                       0.0167, -0.0498], device='cuda:0'))])"
            ]
          },
          "metadata": {},
          "execution_count": 9
        }
      ]
    },
    {
      "cell_type": "code",
      "execution_count": 10,
      "metadata": {
        "id": "3w9QW9Lfp1aV",
        "colab": {
          "base_uri": "https://localhost:8080/"
        },
        "outputId": "8d483ecd-dfb7-496b-8346-fe83ead92a4e"
      },
      "outputs": [
        {
          "output_type": "execute_result",
          "data": {
            "text/plain": [
              "LSTM_Model_label(\n",
              "  (lstm): LSTM(41, 32, num_layers=4, batch_first=True, bidirectional=True)\n",
              "  (fc): Linear(in_features=64, out_features=2, bias=True)\n",
              ")"
            ]
          },
          "metadata": {},
          "execution_count": 10
        }
      ],
      "source": [
        "my_model_label = LSTM_Model_label(num_classes_label, input_size, hidden_size, num_layers).to(device=device)\n",
        "my_model_label"
      ]
    },
    {
      "cell_type": "markdown",
      "metadata": {
        "id": "Cey1CId-jjis"
      },
      "source": [
        "# **optimizer and loss function**"
      ]
    },
    {
      "cell_type": "code",
      "execution_count": 11,
      "metadata": {
        "id": "WNuQFMAekNDH"
      },
      "outputs": [],
      "source": [
        "loss_fn1 = nn.CrossEntropyLoss().to(device=device)\n",
        "loss_fn2 = nn.CrossEntropyLoss().to(device=device)\n",
        "optimizer1 = opt.Adam(params=my_model_attack.parameters(),lr=learning_rate)\n",
        "optimizer2 = opt.Adam(params=my_model_label.parameters(),lr=learning_rate)"
      ]
    },
    {
      "cell_type": "markdown",
      "metadata": {
        "id": "4JYcovfYlpHM"
      },
      "source": [
        "# **train attack cat**"
      ]
    },
    {
      "cell_type": "code",
      "execution_count": 12,
      "metadata": {
        "id": "Qmw8w1eTkeBu",
        "colab": {
          "base_uri": "https://localhost:8080/"
        },
        "outputId": "fb465be5-0a28-44d9-abbc-f548be8eefdd"
      },
      "outputs": [
        {
          "output_type": "stream",
          "name": "stdout",
          "text": [
            "Epoch: 0, loss: 0.6598\n",
            "Epoch: 50, loss: 0.4290\n",
            "Epoch: 100, loss: 0.4563\n",
            "Epoch: 150, loss: 0.3714\n",
            "Epoch: 200, loss: 0.3550\n",
            "Epoch: 250, loss: 0.3370\n",
            "Epoch: 300, loss: 0.2923\n",
            "Epoch: 350, loss: 0.2935\n",
            "Epoch: 400, loss: 0.3302\n",
            "Epoch: 450, loss: 0.3877\n",
            "Epoch: 500, loss: 0.3183\n"
          ]
        }
      ],
      "source": [
        "for epoch in range(num_epoch+1):\n",
        "\n",
        "    for batch_x, batch_y in train_attack_cat_dataloader:\n",
        "\n",
        "        batch_x = torch.reshape(batch_x, (batch_x.shape[0], 1, batch_x.shape[1])) #RuntimeError: For unbatched 2-D input, hx and cx should also be 2-D but got (3-D, 3-D) tensors\n",
        "        \n",
        "        batch_x = batch_x.to(device)\n",
        "        batch_y = batch_y.to(device)\n",
        "\n",
        "        optimizer1.zero_grad()\n",
        "        loss1 = loss_fn1(my_model_attack(batch_x) , batch_y)\n",
        "        loss1.backward() \n",
        "        optimizer1.step()\n",
        "\n",
        "    if epoch % 50 == 0:\n",
        "         print(\"Epoch: %d, loss: %.4f\" % (epoch, loss1.item())) "
      ]
    },
    {
      "cell_type": "markdown",
      "metadata": {
        "id": "PQaRCMJPls5N"
      },
      "source": [
        "# **test attack cat**"
      ]
    },
    {
      "cell_type": "code",
      "execution_count": 13,
      "metadata": {
        "id": "QrtYzVT4loMQ",
        "colab": {
          "base_uri": "https://localhost:8080/"
        },
        "outputId": "32043747-b4b1-430c-dcda-03bb8052f0b9"
      },
      "outputs": [
        {
          "output_type": "stream",
          "name": "stdout",
          "text": [
            "acc : 81.09%\n"
          ]
        }
      ],
      "source": [
        "correct = 0\n",
        "\n",
        "for batch_x, labl in test_attack_cat_dataloader:\n",
        "  \n",
        "    batch_x = torch.reshape(batch_x, (batch_x.shape[0], 1, batch_x.shape[1])) #RuntimeError: For unbatched 2-D input, hx and cx should also be 2-D but got (3-D, 3-D) tensors\n",
        "  \n",
        "    batch_x = batch_x.to(device)\n",
        "    labl = labl.to(device)\n",
        "\n",
        "    out = my_model_attack(batch_x)\n",
        "    _,predicted = torch.max(out,1)\n",
        "    correct += torch.sum(predicted == labl)\n",
        "\n",
        "print(\"acc : %.2f\" % (100.*correct / len(test_attack_cat)),end=\"\")\n",
        "print(\"%\")"
      ]
    },
    {
      "cell_type": "markdown",
      "metadata": {
        "id": "pLqOLtA6tQht"
      },
      "source": [
        "# **train label**"
      ]
    },
    {
      "cell_type": "code",
      "execution_count": 14,
      "metadata": {
        "id": "Xm1cu1GhtMJO",
        "colab": {
          "base_uri": "https://localhost:8080/"
        },
        "outputId": "9e4c49c0-4f48-4dfa-f0fe-3743fdcffd4d"
      },
      "outputs": [
        {
          "output_type": "stream",
          "name": "stdout",
          "text": [
            "Epoch: 0, loss: 0.1684\n",
            "Epoch: 50, loss: 0.1036\n",
            "Epoch: 100, loss: 0.0657\n",
            "Epoch: 150, loss: 0.0661\n",
            "Epoch: 200, loss: 0.0727\n",
            "Epoch: 250, loss: 0.0527\n",
            "Epoch: 300, loss: 0.0670\n",
            "Epoch: 350, loss: 0.0426\n",
            "Epoch: 400, loss: 0.0879\n",
            "Epoch: 450, loss: 0.0419\n",
            "Epoch: 500, loss: 0.0564\n"
          ]
        }
      ],
      "source": [
        "for epoch in range(num_epoch+1):\n",
        "\n",
        "    for batch_x, batch_y in train_label_dataloader:\n",
        "\n",
        "        batch_x = torch.reshape(batch_x, (batch_x.shape[0], 1, batch_x.shape[1])) #RuntimeError: For unbatched 2-D input, hx and cx should also be 2-D but got (3-D, 3-D) tensors\n",
        "        \n",
        "        batch_x = batch_x.to(device)\n",
        "        batch_y = batch_y.to(device)\n",
        "\n",
        "        optimizer2.zero_grad()\n",
        "        loss2 = loss_fn2(my_model_label(batch_x) , batch_y)\n",
        "        loss2.backward() \n",
        "        optimizer2.step()\n",
        "\n",
        "    if epoch % 50 == 0:\n",
        "         print(\"Epoch: %d, loss: %.4f\" % (epoch, loss2.item())) "
      ]
    },
    {
      "cell_type": "markdown",
      "metadata": {
        "id": "Ig7VBqU0tfZd"
      },
      "source": [
        "# **test label**"
      ]
    },
    {
      "cell_type": "code",
      "execution_count": 15,
      "metadata": {
        "id": "a7u2bQ0WtiG2",
        "colab": {
          "base_uri": "https://localhost:8080/"
        },
        "outputId": "4840fc7e-1176-45c9-fc39-eb0e636602eb"
      },
      "outputs": [
        {
          "output_type": "stream",
          "name": "stdout",
          "text": [
            "acc : 93.22%\n"
          ]
        }
      ],
      "source": [
        "correct = 0\n",
        "\n",
        "for batch_x, labl in test_label_dataloader:\n",
        "\n",
        "    batch_x = torch.reshape(batch_x, (batch_x.shape[0], 1, batch_x.shape[1])) #RuntimeError: For unbatched 2-D input, hx and cx should also be 2-D but got (3-D, 3-D) tensors\n",
        "\n",
        "    batch_x = batch_x.to(device)\n",
        "    labl = labl.to(device)\n",
        "  \n",
        "    out = my_model_label(batch_x)\n",
        "    _,predicted = torch.max(out,1)\n",
        "    correct += torch.sum(predicted == labl)\n",
        "\n",
        "print(\"acc : %.2f\" % (100.*correct / len(test_label)),end=\"\")\n",
        "print(\"%\")"
      ]
    }
  ],
  "metadata": {
    "accelerator": "GPU",
    "colab": {
      "collapsed_sections": [],
      "provenance": []
    },
    "gpuClass": "standard",
    "kernelspec": {
      "display_name": "Python 3",
      "name": "python3"
    },
    "language_info": {
      "name": "python"
    }
  },
  "nbformat": 4,
  "nbformat_minor": 0
}