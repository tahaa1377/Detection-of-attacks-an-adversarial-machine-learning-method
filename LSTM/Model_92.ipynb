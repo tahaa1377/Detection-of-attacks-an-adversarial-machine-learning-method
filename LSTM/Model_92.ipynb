{
  "cells": [
    {
      "cell_type": "code",
      "execution_count": 1,
      "metadata": {
        "id": "Ff1b4PxtBQuc"
      },
      "outputs": [],
      "source": [
        "num_epoch = 500      \n",
        "learning_rate = 0.01\n",
        "batch_size = 2000\n",
        "\n",
        "hidden_size = 128 #number of features in hidden state\n",
        "num_layers = 3  #number of stacked lstm layers\n",
        "bidirectional = False\n",
        "drop_out = 0\n",
        "bidirectional_forward_backward = 2 if bidirectional else 1\n",
        "\n",
        "input_size = 41 #number of features\n",
        "num_classes_attack_cat = 10 #number of output classes \n",
        "num_classes_label = 2       #number of output classes "
      ]
    },
    {
      "cell_type": "code",
      "source": [
        "from google.colab import drive\n",
        "drive.mount('/content/drive')"
      ],
      "metadata": {
        "colab": {
          "base_uri": "https://localhost:8080/"
        },
        "id": "0Gua0hky6SDJ",
        "outputId": "17df6098-a04f-4395-ee45-15afb382eda0"
      },
      "execution_count": 2,
      "outputs": [
        {
          "output_type": "stream",
          "name": "stdout",
          "text": [
            "Drive already mounted at /content/drive; to attempt to forcibly remount, call drive.mount(\"/content/drive\", force_remount=True).\n"
          ]
        }
      ]
    },
    {
      "cell_type": "code",
      "execution_count": 3,
      "metadata": {
        "colab": {
          "base_uri": "https://localhost:8080/"
        },
        "id": "hZiaj4uT24DH",
        "outputId": "1a1d144f-962d-48f5-93c1-9f3ac12aff8d"
      },
      "outputs": [
        {
          "output_type": "stream",
          "name": "stdout",
          "text": [
            "GPU\n"
          ]
        }
      ],
      "source": [
        "import pandas as pd\n",
        "from matplotlib import pyplot as plt\n",
        "import numpy as np\n",
        "from torch.utils.data.dataset import Dataset\n",
        "from torch.utils.data import random_split, DataLoader\n",
        "import torch\n",
        "from sklearn.preprocessing import LabelEncoder\n",
        "from sklearn import preprocessing\n",
        "import torch.nn as nn\n",
        "import torch.nn.functional as F\n",
        "import torch.optim as opt\n",
        "from torch.autograd import Variable \n",
        "\n",
        "# GPU OR CPU\n",
        "if torch.cuda.is_available():\n",
        "    device = torch.device(\"cuda:0\")\n",
        "    print(\"GPU\")\n",
        "else:\n",
        "    device = torch.device(\"cpu\")\n",
        "    print(\"CPU\")"
      ]
    },
    {
      "cell_type": "code",
      "execution_count": 4,
      "metadata": {
        "id": "Sv-R_m6Z1EL5"
      },
      "outputs": [],
      "source": [
        "class DataSet_UNSWNB15_attack_cat(Dataset):\n",
        "\n",
        "    def __init__(self,data_set_path):\n",
        "        df = pd.read_csv(data_set_path)\n",
        "        print(df.attack_cat.value_counts().sort_values().plot(kind = \"barh\"))\n",
        "        \n",
        "        # preprocceing\n",
        "        df.drop(['id',\"Unnamed: 0\",\"service\",\"label\"], axis=1, inplace=True)        \n",
        "        cols = ['attack_cat' ,'proto' ,'state']\n",
        "        df[cols] = df[cols].apply(LabelEncoder().fit_transform)\n",
        "\n",
        "        self.data_array = df.values\n",
        "        self.x = self.data_array[:, :41]\n",
        "        self.y = self.data_array[:, 41]\n",
        "      \n",
        "        # normalaized data\n",
        "        scaler = preprocessing.StandardScaler().fit(self.x)\n",
        "        self.x = scaler.transform(self.x)\n",
        "\n",
        "        self.x = torch.tensor(self.x).float()\n",
        "        self.y = torch.tensor(self.y).long()\n",
        "\n",
        "    def __len__(self):\n",
        "        return len(self.data_array)\n",
        "\n",
        "    def __getitem__(self, item):\n",
        "        sample = (self.x[item, :], self.y[item])\n",
        "        return sample\n",
        "\n",
        "        \n",
        "class DataSet_UNSWNB15_label(Dataset):\n",
        "\n",
        "    def __init__(self,data_set_path):\n",
        "        df = pd.read_csv(data_set_path)\n",
        "        print(df.label.value_counts().sort_values().plot(kind = \"pie\"))\n",
        "\n",
        "        # preprocceing\n",
        "        df.drop(['id',\"Unnamed: 0\",\"service\",\"attack_cat\"], axis=1, inplace=True)\n",
        "        cols = ['proto' ,'state']\n",
        "        df[cols] = df[cols].apply(LabelEncoder().fit_transform)\n",
        "\n",
        "        self.data_array = df.values\n",
        "        self.x = self.data_array[:, :41]\n",
        "        self.y = self.data_array[:, 41]\n",
        "        \n",
        "        # normalaized data\n",
        "        scaler = preprocessing.StandardScaler().fit(self.x)\n",
        "        self.x = scaler.transform(self.x)\n",
        "\n",
        "        self.x = torch.tensor(self.x).float()\n",
        "        self.y = torch.tensor(self.y).long()\n",
        "\n",
        "    def __len__(self):\n",
        "        return len(self.data_array)\n",
        "\n",
        "    def __getitem__(self, item):\n",
        "        sample = (self.x[item, :], self.y[item])\n",
        "        return sample"
      ]
    },
    {
      "cell_type": "code",
      "execution_count": 5,
      "metadata": {
        "colab": {
          "base_uri": "https://localhost:8080/",
          "height": 283
        },
        "id": "UykLrbQZ1R7K",
        "outputId": "21f3d908-7e74-4fdc-f857-e80bbc62fa63"
      },
      "outputs": [
        {
          "output_type": "stream",
          "name": "stdout",
          "text": [
            "AxesSubplot(0.125,0.125;0.775x0.755)\n"
          ]
        },
        {
          "output_type": "display_data",
          "data": {
            "text/plain": [
              "<Figure size 432x288 with 1 Axes>"
            ],
            "image/png": "[encoded data removed]"
          },
          "metadata": {
            "needs_background": "light"
          }
        }
      ],
      "source": [
        "dataset_attack_cat = DataSet_UNSWNB15_attack_cat(\"/content/drive/MyDrive/datasets/UNSW-NB15/UNSW_NB15.csv\")\n",
        "number_of_test = int(len(dataset_attack_cat)*0.3)\n",
        "number_of_train = len(dataset_attack_cat) - int(len(dataset_attack_cat)*0.3)\n",
        "train_attack_cat ,test_attack_cat = random_split(dataset=dataset_attack_cat, lengths=[number_of_train,number_of_test])\n",
        "\n",
        "train_attack_cat_dataloader = DataLoader(dataset=train_attack_cat ,batch_size=batch_size ,shuffle=True)\n",
        "test_attack_cat_dataloader = DataLoader(dataset=test_attack_cat ,batch_size=batch_size ,shuffle=True)"
      ]
    },
    {
      "cell_type": "code",
      "execution_count": 6,
      "metadata": {
        "colab": {
          "base_uri": "https://localhost:8080/",
          "height": 266
        },
        "id": "LmFY9Q-u29T3",
        "outputId": "34941265-9410-4af1-a820-a08a92f89f9a"
      },
      "outputs": [
        {
          "output_type": "stream",
          "name": "stdout",
          "text": [
            "AxesSubplot(0.260833,0.125;0.503333x0.755)\n"
          ]
        },
        {
          "output_type": "display_data",
          "data": {
            "text/plain": [
              "<Figure size 432x288 with 1 Axes>"
            ],
            "image/png": "[encoded data removed]"
          },
          "metadata": {}
        }
      ],
      "source": [
        "dataset_label = DataSet_UNSWNB15_label(\"/content/drive/MyDrive/datasets/UNSW-NB15/UNSW_NB15.csv\")\n",
        "number_of_test = int(len(dataset_label)*0.3)\n",
        "number_of_train = len(dataset_label) - int(len(dataset_label)*0.3)\n",
        "train_label ,test_label = random_split(dataset=dataset_label, lengths=[number_of_train,number_of_test])\n",
        "\n",
        "train_label_dataloader = DataLoader(dataset=train_label ,batch_size=batch_size ,shuffle=True)\n",
        "test_label_dataloader = DataLoader(dataset=test_label ,batch_size=batch_size ,shuffle=True)"
      ]
    },
    {
      "cell_type": "markdown",
      "metadata": {
        "id": "0HslPLv2IOGd"
      },
      "source": [
        "# **preprocessing ended**\n",
        "\n",
        "# **create model**"
      ]
    },
    {
      "cell_type": "markdown",
      "source": [
        "![bilstm-1.webp](data:image/webp;base64,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)"
      ],
      "metadata": {
        "id": "F2hNvBs6qBQS"
      }
    },
    {
      "cell_type": "code",
      "execution_count": 7,
      "metadata": {
        "id": "oN6DuQbJibuE"
      },
      "outputs": [],
      "source": [
        "class LSTM_Model_attack(nn.Module):\n",
        "    def __init__(self, num_classes, input_size, hidden_size, num_layers):\n",
        "        super(LSTM_Model_attack, self).__init__()\n",
        "        self.num_classes = num_classes #number of classes\n",
        "        self.num_layers = num_layers #number of layers\n",
        "        self.input_size = input_size #input size\n",
        "        self.hidden_size = hidden_size #hidden state\n",
        "\n",
        "        self.lstm = nn.LSTM(input_size=input_size, hidden_size=hidden_size, num_layers=num_layers, batch_first=True,\n",
        "                            bidirectional=bidirectional, dropout=drop_out) #lstm\n",
        "\n",
        "        self.fc = nn.Linear(hidden_size * bidirectional_forward_backward, num_classes) #fully connected last layer\n",
        "                             # 2 => forward and backward for bidirectional\n",
        "    \n",
        "    def forward(self,x):\n",
        "                                                # 2 => forward and backward for bidirectional\n",
        "        h_0 = Variable(torch.zeros(self.num_layers * bidirectional_forward_backward, x.size(0), self.hidden_size)).to(device=device) #hidden state\n",
        "        c_0 = Variable(torch.zeros(self.num_layers * bidirectional_forward_backward, x.size(0), self.hidden_size)).to(device=device) #internal state\n",
        "\n",
        "        out, (hn, cn) = self.lstm(x, (h_0, c_0))\n",
        "        out = self.fc(out[:, -1, :]) \n",
        "        return out\n",
        "\n",
        "\n",
        "class LSTM_Model_label(nn.Module):\n",
        "    def __init__(self, num_classes, input_size, hidden_size, num_layers):\n",
        "        super(LSTM_Model_label, self).__init__()\n",
        "        self.num_classes = num_classes #number of classes\n",
        "        self.num_layers = num_layers #number of layers\n",
        "        self.input_size = input_size #input size\n",
        "        self.hidden_size = hidden_size #hidden state\n",
        "\n",
        "        self.lstm = nn.LSTM(input_size=input_size, hidden_size=hidden_size, num_layers=num_layers, batch_first=True, \n",
        "                            bidirectional=bidirectional, dropout=drop_out) #lstm\n",
        "\n",
        "        self.fc = nn.Linear(hidden_size * bidirectional_forward_backward, num_classes) #fully connected last layer\n",
        "\n",
        "    \n",
        "    def forward(self,x):\n",
        "        h_0 = Variable(torch.zeros(self.num_layers * bidirectional_forward_backward, x.size(0), self.hidden_size)).to(device=device) #hidden state\n",
        "        c_0 = Variable(torch.zeros(self.num_layers * bidirectional_forward_backward, x.size(0), self.hidden_size)).to(device=device) #internal state\n",
        "\n",
        "        out, (hn, cn) = self.lstm(x, (h_0, c_0))\n",
        "        out = self.fc(out[:, -1, :]) \n",
        "        return out\n"
      ]
    },
    {
      "cell_type": "code",
      "execution_count": 8,
      "metadata": {
        "id": "US8JfNI8j3zO",
        "colab": {
          "base_uri": "https://localhost:8080/"
        },
        "outputId": "0b70259b-2f59-4ac4-ff46-5019c39af54e"
      },
      "outputs": [
        {
          "output_type": "execute_result",
          "data": {
            "text/plain": [
              "LSTM_Model_attack(\n",
              "  (lstm): LSTM(41, 128, num_layers=3, batch_first=True)\n",
              "  (fc): Linear(in_features=128, out_features=10, bias=True)\n",
              ")"
            ]
          },
          "metadata": {},
          "execution_count": 8
        }
      ],
      "source": [
        "my_model_attack = LSTM_Model_attack(num_classes_attack_cat, input_size, hidden_size, num_layers).to(device=device)\n",
        "my_model_attack"
      ]
    },
    {
      "cell_type": "code",
      "source": [
        "my_model_attack.state_dict()"
      ],
      "metadata": {
        "colab": {
          "base_uri": "https://localhost:8080/"
        },
        "id": "Dq8JkQZ9ukCs",
        "outputId": "1140671f-e404-490e-ace1-af552738aaea"
      },
      "execution_count": 9,
      "outputs": [
        {
          "output_type": "execute_result",
          "data": {
            "text/plain": [
              "OrderedDict([('lstm.weight_ih_l0',\n",
              "              tensor([[ 0.0490,  0.0165, -0.0584,  ...,  0.0519,  0.0798, -0.0472],\n",
              "                      [-0.0328, -0.0382,  0.0707,  ...,  0.0247,  0.0570,  0.0737],\n",
              "                      [-0.0011,  0.0072,  0.0411,  ..., -0.0774,  0.0213, -0.0367],\n",
              "                      ...,\n",
              "                      [-0.0093, -0.0008, -0.0519,  ..., -0.0775,  0.0345, -0.0816],\n",
              "                      [ 0.0479, -0.0013,  0.0566,  ...,  0.0722,  0.0021, -0.0657],\n",
              "                      [ 0.0450, -0.0133,  0.0642,  ..., -0.0284, -0.0075,  0.0301]],\n",
              "                     device='cuda:0')),\n",
              "             ('lstm.weight_hh_l0',\n",
              "              tensor([[-0.0302, -0.0786,  0.0730,  ..., -0.0650,  0.0513,  0.0067],\n",
              "                      [-0.0018, -0.0242, -0.0260,  ..., -0.0119, -0.0884, -0.0592],\n",
              "                      [-0.0749, -0.0128, -0.0467,  ...,  0.0882, -0.0827,  0.0064],\n",
              "                      ...,\n",
              "                      [-0.0024, -0.0598, -0.0675,  ...,  0.0824,  0.0873,  0.0547],\n",
              "                      [ 0.0079, -0.0222, -0.0202,  ...,  0.0846,  0.0060, -0.0808],\n",
              "                      [ 0.0448, -0.0203, -0.0820,  ...,  0.0329,  0.0332,  0.0021]],\n",
              "                     device='cuda:0')),\n",
              "             ('lstm.bias_ih_l0',\n",
              "              tensor([-4.6508e-02,  3.2923e-02,  4.8888e-02,  4.8418e-02, -7.6383e-02,\n",
              "                       3.0228e-02, -7.4094e-02,  8.0536e-02, -6.9457e-02,  4.4452e-02,\n",
              "                      -2.7193e-02, -6.2318e-02,  3.8076e-02,  6.5935e-03, -6.1987e-02,\n",
              "                      -1.7269e-02, -4.4936e-02,  1.1989e-02,  7.7491e-03,  3.5666e-02,\n",
              "                       8.2748e-02, -7.5104e-02,  2.3444e-02, -2.3923e-02,  6.3946e-02,\n",
              "                       8.0332e-02, -6.1536e-02,  4.5821e-02,  2.8293e-02, -6.3208e-02,\n",
              "                       4.2526e-03,  1.2961e-02, -6.9142e-02,  3.3072e-02,  1.5147e-02,\n",
              "                       8.0504e-02,  6.3744e-02,  2.6740e-02, -1.8792e-02, -1.3749e-02,\n",
              "                      -4.0500e-02,  2.6409e-02, -1.5202e-02, -8.3193e-03, -5.4728e-02,\n",
              "                      -4.9119e-03, -2.2990e-03,  4.1159e-03, -5.6844e-02,  4.7304e-02,\n",
              "                       1.3059e-02,  3.8265e-03,  1.2938e-02,  2.1156e-02,  8.3021e-02,\n",
              "                      -9.7831e-03, -3.4565e-02,  1.3634e-02, -3.9805e-02,  1.9590e-02,\n",
              "                       9.8349e-03, -8.6620e-02, -4.0740e-02,  9.1266e-03,  1.0569e-03,\n",
              "                       7.0305e-02, -3.1238e-03, -5.0393e-02, -6.4098e-02, -4.9405e-02,\n",
              "                       2.1565e-02,  2.3126e-02,  2.1315e-02,  5.4003e-02,  5.9942e-02,\n",
              "                      -8.1262e-02,  8.3404e-02, -7.1088e-02,  7.1698e-02,  2.3154e-02,\n",
              "                       7.4111e-02, -3.0371e-02,  3.8908e-02,  6.0304e-03, -6.9787e-02,\n",
              "                       7.8644e-02, -1.4482e-02, -7.5525e-02,  2.8883e-02,  3.0701e-02,\n",
              "                      -7.6285e-03, -4.6275e-02,  5.1597e-02, -8.7467e-02, -1.5209e-02,\n",
              "                      -1.7741e-02,  8.3242e-02, -6.4865e-02,  1.1032e-02, -3.5093e-02,\n",
              "                       1.2439e-02, -7.9810e-02, -7.4802e-02,  1.6751e-02, -5.3379e-02,\n",
              "                       5.7090e-02,  7.2857e-02, -8.0497e-02, -3.3012e-02,  5.2967e-02,\n",
              "                      -7.6853e-02,  8.7650e-02, -8.6255e-02,  8.7835e-02,  1.1345e-02,\n",
              "                       8.1670e-02, -3.4261e-02,  1.8972e-02, -1.3481e-02, -8.6116e-02,\n",
              "                       5.6862e-02, -2.8933e-02,  4.4182e-02, -6.1550e-03, -5.5821e-04,\n",
              "                       1.0034e-02,  5.6393e-02,  5.1639e-02,  6.1333e-02, -8.5963e-02,\n",
              "                      -3.5825e-02,  8.3861e-03,  7.6295e-03,  5.7577e-02, -1.0979e-02,\n",
              "                       1.3335e-02,  2.5942e-02, -4.8801e-02, -8.2915e-02, -3.2119e-02,\n",
              "                       9.0934e-03,  6.9667e-02, -3.7479e-02,  4.4052e-02, -4.7222e-02,\n",
              "                      -2.6293e-02,  3.1363e-02, -1.4614e-02,  4.3419e-03, -8.3990e-02,\n",
              "                      -4.6516e-03, -3.9848e-02, -4.4657e-02, -4.7662e-02,  4.1005e-02,\n",
              "                      -4.0909e-02, -7.4334e-02,  6.4214e-02,  2.6005e-02, -5.6242e-02,\n",
              "                       7.6589e-02,  1.4651e-02,  5.4034e-02,  8.1353e-02, -3.1411e-02,\n",
              "                      -2.1853e-02, -4.5582e-03,  3.5616e-02,  2.3649e-02,  8.6843e-02,\n",
              "                      -2.2855e-02,  6.7108e-02, -1.1749e-04, -8.8040e-02, -8.1966e-02,\n",
              "                      -5.2325e-02, -2.3305e-02,  1.4484e-02, -5.1758e-02,  8.7047e-02,\n",
              "                      -1.2325e-02, -8.3427e-03,  4.3428e-02,  2.4177e-02,  2.4239e-02,\n",
              "                      -5.8783e-02,  8.2584e-02, -2.1054e-02, -6.8776e-02, -4.7139e-02,\n",
              "                      -1.5916e-02, -4.5246e-02, -1.1012e-02, -6.3262e-02, -6.7552e-03,\n",
              "                       2.1046e-02,  1.9701e-02,  6.5901e-02,  6.0186e-02, -7.4237e-02,\n",
              "                       6.0034e-02, -4.9081e-02,  6.7593e-02,  4.1954e-02,  5.5351e-02,\n",
              "                      -4.2979e-02, -7.1241e-02,  3.0986e-02,  4.0600e-02, -2.6336e-02,\n",
              "                      -8.1308e-02, -1.7182e-02,  6.2923e-02, -1.7266e-02,  2.6000e-02,\n",
              "                       6.1302e-02, -8.6409e-02,  8.8597e-03, -7.5393e-02,  2.4716e-02,\n",
              "                       5.9906e-02, -3.5782e-02, -8.2919e-02, -5.8871e-02, -2.2659e-02,\n",
              "                       6.3631e-03, -8.5894e-02,  8.4801e-02, -4.4410e-02,  8.2950e-03,\n",
              "                      -7.5232e-02, -2.4569e-02, -4.7227e-02,  1.4094e-02, -1.2292e-02,\n",
              "                      -2.7444e-03,  3.1017e-02,  3.2291e-02, -3.7860e-02,  2.7000e-02,\n",
              "                       8.4328e-02,  4.0957e-02,  2.7719e-02, -4.8304e-02,  9.9938e-03,\n",
              "                       6.2862e-02, -5.3264e-02,  3.5757e-02, -7.6223e-02,  2.3742e-02,\n",
              "                      -7.0816e-02, -6.8941e-02, -1.6426e-02,  7.9914e-02, -8.6477e-02,\n",
              "                       3.8901e-02,  4.4034e-02, -4.1158e-02,  7.4150e-02, -8.0059e-02,\n",
              "                      -3.8183e-02,  3.9246e-02,  8.2274e-02,  6.1366e-02, -5.5396e-02,\n",
              "                       3.6429e-02,  3.1842e-02,  8.2477e-02, -2.4019e-02,  5.1115e-02,\n",
              "                       4.9242e-02,  7.2861e-02,  5.9076e-03, -7.8126e-02, -7.7181e-02,\n",
              "                      -3.6677e-02,  3.0418e-02, -1.5698e-02, -9.8213e-03, -2.3669e-02,\n",
              "                      -1.1574e-02, -3.4946e-02, -2.4753e-02,  2.3349e-02,  3.2089e-02,\n",
              "                      -5.5303e-02,  2.3794e-02, -7.1454e-02, -5.6020e-02, -2.4745e-02,\n",
              "                      -2.7570e-02, -6.6807e-02, -3.5451e-02,  7.8268e-02,  7.9146e-02,\n",
              "                       3.8301e-02,  6.1797e-02,  4.3529e-02,  3.2658e-02, -1.1709e-02,\n",
              "                       5.0122e-02,  8.2376e-02,  3.1127e-02, -8.2544e-02, -2.0450e-02,\n",
              "                       2.9420e-02,  4.1366e-02, -2.4807e-02,  7.8632e-02, -5.1770e-02,\n",
              "                       8.1397e-02,  7.3786e-02,  2.7483e-02,  2.5349e-02, -4.2294e-03,\n",
              "                       3.5298e-02,  3.6589e-02,  1.0998e-02,  7.4896e-02,  6.5414e-02,\n",
              "                       6.3063e-02,  5.5291e-02, -1.8709e-02,  7.7161e-02, -7.0371e-02,\n",
              "                      -8.5179e-02, -8.5017e-02, -6.7925e-02,  6.9582e-02,  7.0347e-02,\n",
              "                       6.8626e-02,  1.1976e-02, -6.6408e-02,  4.4004e-02,  3.4631e-02,\n",
              "                       6.2238e-02, -1.6192e-02, -5.2103e-02, -8.7054e-03, -8.8597e-03,\n",
              "                      -6.8040e-02,  4.6621e-02,  5.4471e-02,  4.0809e-03,  7.1484e-02,\n",
              "                      -1.6448e-02, -1.6579e-02,  3.1629e-03, -3.7584e-02, -4.8464e-02,\n",
              "                      -8.6056e-03,  5.4509e-02, -6.6545e-02,  3.1185e-02, -2.5234e-04,\n",
              "                      -7.2769e-02, -4.3967e-02,  5.6168e-02,  3.8145e-02, -2.0692e-02,\n",
              "                      -5.0773e-02, -8.3824e-02,  3.2879e-02,  2.5009e-03, -1.2886e-02,\n",
              "                       5.4359e-02,  4.6060e-02, -8.2886e-02, -4.5066e-02, -4.1868e-02,\n",
              "                       7.5418e-02,  5.7780e-02,  8.1515e-02, -5.6254e-02, -6.5625e-02,\n",
              "                       7.7812e-02,  8.2818e-03, -1.5909e-02,  8.6962e-03, -8.2092e-02,\n",
              "                      -7.7674e-02, -8.4440e-02,  5.9941e-03,  3.5067e-02,  5.9180e-02,\n",
              "                      -3.9562e-02,  7.9651e-02, -7.7613e-02, -4.6128e-02,  7.8998e-02,\n",
              "                      -2.6244e-02,  6.8038e-02, -5.9844e-02, -2.6896e-02,  4.7893e-02,\n",
              "                       7.6884e-02,  8.2448e-02, -2.6188e-02,  2.7704e-02,  7.9498e-02,\n",
              "                      -6.0080e-02, -7.2870e-02, -1.7541e-02,  3.3991e-02,  2.3219e-02,\n",
              "                       5.5570e-02,  3.5022e-02, -3.6475e-02,  5.3487e-02,  2.1750e-02,\n",
              "                       3.2879e-02, -1.6468e-02, -7.0665e-02, -6.9932e-03,  8.5927e-05,\n",
              "                      -3.3076e-02,  5.7733e-02, -1.7901e-02,  2.2530e-02, -4.4018e-02,\n",
              "                       7.7851e-02, -1.9235e-02,  6.8592e-02, -8.8338e-02,  5.4725e-02,\n",
              "                       3.0854e-02, -2.7179e-02,  2.4438e-02,  8.4762e-02,  7.4392e-02,\n",
              "                      -7.7601e-02, -8.1245e-02,  6.0027e-02, -2.8550e-02, -2.5641e-02,\n",
              "                      -8.3651e-02,  8.6189e-02,  3.6838e-02,  7.0842e-02,  7.4708e-02,\n",
              "                      -4.3314e-02,  6.9161e-02,  5.2285e-02,  2.8667e-02, -4.8106e-02,\n",
              "                       1.4759e-02, -8.1998e-03,  8.2013e-02,  2.5266e-02,  4.1160e-02,\n",
              "                       4.9794e-02,  3.4771e-02, -1.0164e-03, -1.2612e-02,  3.4817e-02,\n",
              "                      -3.7808e-02,  7.2982e-02,  3.1607e-02,  6.2989e-02,  1.4230e-02,\n",
              "                      -8.2006e-02, -3.1029e-02,  3.8112e-02,  8.4254e-02,  4.8988e-02,\n",
              "                       2.5168e-02,  7.7100e-02,  6.3206e-02, -1.8765e-02,  3.1430e-02,\n",
              "                       5.5629e-02, -8.7507e-02, -6.6878e-02, -1.1230e-02,  3.0530e-03,\n",
              "                       8.0860e-02,  7.6986e-02, -7.7507e-02, -2.6630e-02,  2.2810e-02,\n",
              "                       4.3581e-02, -1.3218e-02,  5.3825e-02, -2.4479e-02,  1.3982e-02,\n",
              "                       6.7916e-02,  7.5778e-02, -7.9563e-02,  8.5563e-02, -8.0394e-02,\n",
              "                       1.3513e-02, -4.5352e-02,  6.8879e-02,  1.1219e-02, -6.9903e-02,\n",
              "                       4.1150e-02,  7.2270e-02, -7.3172e-02,  5.1427e-03, -7.5654e-02,\n",
              "                       1.4207e-02, -8.5878e-02, -1.8197e-02, -6.3280e-02, -5.9137e-02,\n",
              "                      -7.8154e-02,  8.7813e-02, -7.5324e-02, -5.8718e-02,  2.2679e-03,\n",
              "                       6.9430e-02, -2.3919e-02], device='cuda:0')),\n",
              "             ('lstm.bias_hh_l0',\n",
              "              tensor([ 0.0076,  0.0627,  0.0858, -0.0705, -0.0703,  0.0201, -0.0604,  0.0029,\n",
              "                      -0.0642, -0.0757,  0.0636,  0.0845,  0.0691,  0.0219,  0.0571,  0.0696,\n",
              "                      -0.0223, -0.0438,  0.0656,  0.0504, -0.0291, -0.0135,  0.0813,  0.0682,\n",
              "                      -0.0424, -0.0361, -0.0581,  0.0209, -0.0619, -0.0202, -0.0196,  0.0483,\n",
              "                       0.0542,  0.0146,  0.0190,  0.0212, -0.0509,  0.0239,  0.0069,  0.0835,\n",
              "                       0.0582, -0.0099, -0.0452,  0.0267, -0.0525, -0.0506,  0.0020,  0.0588,\n",
              "                       0.0754, -0.0092,  0.0124, -0.0376,  0.0676,  0.0308,  0.0504, -0.0859,\n",
              "                       0.0863, -0.0204, -0.0876, -0.0652, -0.0274, -0.0025, -0.0055,  0.0579,\n",
              "                       0.0862,  0.0588, -0.0825, -0.0837, -0.0490, -0.0467,  0.0464,  0.0217,\n",
              "                       0.0512, -0.0018, -0.0435, -0.0521, -0.0478,  0.0707,  0.0267, -0.0340,\n",
              "                      -0.0256,  0.0433, -0.0560,  0.0439, -0.0663,  0.0169,  0.0482,  0.0025,\n",
              "                      -0.0132,  0.0868, -0.0092,  0.0591,  0.0110, -0.0002, -0.0411, -0.0533,\n",
              "                       0.0078, -0.0869,  0.0630,  0.0167, -0.0766, -0.0014, -0.0493, -0.0514,\n",
              "                       0.0313, -0.0706,  0.0854, -0.0179,  0.0268,  0.0368,  0.0152, -0.0704,\n",
              "                       0.0847, -0.0528, -0.0703, -0.0132,  0.0385,  0.0260, -0.0173, -0.0764,\n",
              "                       0.0309,  0.0335,  0.0627,  0.0637,  0.0098,  0.0473, -0.0509, -0.0273,\n",
              "                       0.0766,  0.0473, -0.0753,  0.0155, -0.0847, -0.0687, -0.0767, -0.0088,\n",
              "                      -0.0167, -0.0635, -0.0732,  0.0325, -0.0165, -0.0246, -0.0219,  0.0548,\n",
              "                       0.0506, -0.0322, -0.0685,  0.0552, -0.0524, -0.0223, -0.0024, -0.0139,\n",
              "                      -0.0154, -0.0734,  0.0708, -0.0524, -0.0161,  0.0733, -0.0259,  0.0829,\n",
              "                       0.0669,  0.0277, -0.0623, -0.0047,  0.0823,  0.0852, -0.0349, -0.0659,\n",
              "                      -0.0069, -0.0257, -0.0634,  0.0259,  0.0394, -0.0647, -0.0768, -0.0753,\n",
              "                      -0.0009, -0.0378,  0.0669, -0.0254, -0.0292, -0.0616, -0.0854, -0.0216,\n",
              "                      -0.0222, -0.0620, -0.0749,  0.0032, -0.0545,  0.0270, -0.0065, -0.0382,\n",
              "                      -0.0212,  0.0099,  0.0307, -0.0179, -0.0302, -0.0740,  0.0770, -0.0318,\n",
              "                      -0.0762,  0.0131,  0.0397, -0.0228, -0.0740,  0.0759,  0.0556,  0.0108,\n",
              "                      -0.0628,  0.0515, -0.0491,  0.0089,  0.0878,  0.0495,  0.0292, -0.0844,\n",
              "                      -0.0650, -0.0846,  0.0613,  0.0200,  0.0304, -0.0827, -0.0506, -0.0772,\n",
              "                       0.0731, -0.0465,  0.0732,  0.0664, -0.0410, -0.0665,  0.0187,  0.0180,\n",
              "                      -0.0780, -0.0563, -0.0768, -0.0613, -0.0182,  0.0537,  0.0594, -0.0541,\n",
              "                      -0.0418,  0.0158,  0.0197,  0.0019,  0.0108,  0.0230, -0.0337,  0.0707,\n",
              "                      -0.0516,  0.0387, -0.0246,  0.0717,  0.0028,  0.0805, -0.0839,  0.0272,\n",
              "                      -0.0026,  0.0208, -0.0696, -0.0386,  0.0757, -0.0552,  0.0101, -0.0572,\n",
              "                       0.0631, -0.0191,  0.0221, -0.0294,  0.0021, -0.0582,  0.0274,  0.0481,\n",
              "                      -0.0353,  0.0353,  0.0749, -0.0116,  0.0182,  0.0057,  0.0230,  0.0534,\n",
              "                      -0.0556,  0.0067,  0.0349, -0.0804, -0.0303,  0.0411,  0.0662,  0.0200,\n",
              "                       0.0067,  0.0366,  0.0307,  0.0456,  0.0141,  0.0234, -0.0300, -0.0310,\n",
              "                       0.0220, -0.0125,  0.0456,  0.0530,  0.0605, -0.0065, -0.0466, -0.0303,\n",
              "                       0.0296, -0.0029, -0.0095, -0.0118, -0.0692, -0.0556,  0.0484, -0.0089,\n",
              "                       0.0273, -0.0813, -0.0020, -0.0767,  0.0418,  0.0840, -0.0376, -0.0203,\n",
              "                      -0.0191,  0.0440, -0.0018, -0.0295, -0.0596,  0.0667, -0.0181,  0.0822,\n",
              "                       0.0376, -0.0302,  0.0017,  0.0791, -0.0111, -0.0829, -0.0203,  0.0794,\n",
              "                      -0.0703, -0.0681,  0.0570, -0.0212,  0.0284,  0.0804,  0.0363,  0.0316,\n",
              "                       0.0300, -0.0671,  0.0082, -0.0521, -0.0641, -0.0126,  0.0745,  0.0802,\n",
              "                      -0.0249,  0.0238, -0.0801,  0.0065, -0.0373, -0.0027, -0.0469,  0.0463,\n",
              "                      -0.0820,  0.0682, -0.0145, -0.0667,  0.0243,  0.0044,  0.0319,  0.0366,\n",
              "                       0.0670, -0.0413, -0.0147, -0.0074, -0.0247,  0.0091,  0.0365,  0.0238,\n",
              "                      -0.0213, -0.0371,  0.0309, -0.0282, -0.0877, -0.0474, -0.0598,  0.0560,\n",
              "                      -0.0461,  0.0155,  0.0148,  0.0599,  0.0117,  0.0233,  0.0499, -0.0111,\n",
              "                       0.0346, -0.0175, -0.0234, -0.0862, -0.0296, -0.0882,  0.0551, -0.0802,\n",
              "                       0.0088,  0.0368, -0.0615, -0.0670,  0.0443,  0.0627,  0.0444, -0.0025,\n",
              "                      -0.0121,  0.0523,  0.0537, -0.0190, -0.0293, -0.0069, -0.0734,  0.0612,\n",
              "                       0.0640, -0.0281, -0.0718,  0.0818,  0.0370, -0.0872, -0.0643, -0.0879,\n",
              "                      -0.0434, -0.0137,  0.0107,  0.0819, -0.0356,  0.0851,  0.0587, -0.0392,\n",
              "                       0.0552,  0.0873,  0.0269, -0.0340,  0.0449, -0.0129,  0.0554, -0.0079,\n",
              "                      -0.0647, -0.0551,  0.0609, -0.0492, -0.0151, -0.0045, -0.0681, -0.0164,\n",
              "                       0.0823,  0.0611,  0.0376, -0.0723, -0.0722, -0.0146,  0.0190, -0.0585,\n",
              "                      -0.0247, -0.0436,  0.0808,  0.0581, -0.0821, -0.0121,  0.0664, -0.0438,\n",
              "                       0.0036,  0.0587, -0.0711,  0.0843, -0.0107, -0.0835, -0.0800, -0.0187,\n",
              "                      -0.0670, -0.0475, -0.0384,  0.0719,  0.0332,  0.0009,  0.0704,  0.0286,\n",
              "                       0.0405, -0.0195,  0.0388, -0.0282,  0.0430, -0.0529, -0.0011,  0.0243,\n",
              "                       0.0295, -0.0817, -0.0824,  0.0197, -0.0660, -0.0216,  0.0076, -0.0325,\n",
              "                       0.0779, -0.0015, -0.0764, -0.0669, -0.0729,  0.0858, -0.0427,  0.0089,\n",
              "                       0.0624, -0.0111, -0.0278,  0.0121, -0.0836, -0.0856, -0.0797, -0.0764],\n",
              "                     device='cuda:0')),\n",
              "             ('lstm.weight_ih_l1',\n",
              "              tensor([[-7.9870e-02,  4.0267e-02,  2.7759e-02,  ..., -4.6152e-02,\n",
              "                        1.8262e-02,  5.4596e-02],\n",
              "                      [ 4.7308e-02,  5.6028e-02, -6.0716e-02,  ..., -4.5294e-02,\n",
              "                       -7.6861e-02,  4.6474e-02],\n",
              "                      [ 7.1862e-02,  8.5238e-02,  5.5768e-02,  ..., -3.9994e-02,\n",
              "                        7.0974e-03,  7.1176e-02],\n",
              "                      ...,\n",
              "                      [ 1.8899e-02,  2.8100e-02,  5.6564e-02,  ..., -4.7155e-03,\n",
              "                       -4.9817e-02,  7.7158e-02],\n",
              "                      [-1.4741e-02, -4.8856e-02,  2.3623e-02,  ...,  3.2847e-02,\n",
              "                       -6.5132e-02, -4.5258e-03],\n",
              "                      [-2.1283e-02, -7.6235e-03, -3.7775e-02,  ..., -2.4388e-02,\n",
              "                       -6.2820e-05,  1.3962e-02]], device='cuda:0')),\n",
              "             ('lstm.weight_hh_l1',\n",
              "              tensor([[-0.0131, -0.0506, -0.0826,  ...,  0.0494,  0.0624, -0.0474],\n",
              "                      [ 0.0825, -0.0648,  0.0086,  ..., -0.0229,  0.0027, -0.0833],\n",
              "                      [ 0.0083,  0.0735,  0.0851,  ..., -0.0826,  0.0489,  0.0348],\n",
              "                      ...,\n",
              "                      [ 0.0374,  0.0398, -0.0582,  ...,  0.0033, -0.0588, -0.0773],\n",
              "                      [-0.0879, -0.0317,  0.0874,  ...,  0.0692, -0.0120,  0.0469],\n",
              "                      [ 0.0062, -0.0574, -0.0637,  ...,  0.0539,  0.0860,  0.0165]],\n",
              "                     device='cuda:0')),\n",
              "             ('lstm.bias_ih_l1',\n",
              "              tensor([ 8.4456e-04,  8.3279e-02, -6.0498e-02, -6.9485e-03,  6.8223e-02,\n",
              "                       4.0328e-03,  1.0498e-02,  3.2209e-02,  6.9019e-02, -4.4581e-02,\n",
              "                       1.3174e-02, -1.5442e-02, -2.5362e-02, -2.9262e-02, -1.4149e-02,\n",
              "                       7.1175e-02, -5.6732e-03, -7.4137e-02, -5.4979e-02,  2.4951e-02,\n",
              "                      -3.9198e-02, -9.7058e-03, -4.1456e-02,  7.5130e-02, -8.5110e-02,\n",
              "                       8.1429e-02, -2.8363e-02, -8.2032e-03, -2.0451e-02, -8.9329e-03,\n",
              "                      -4.7236e-02, -2.7275e-02, -8.3385e-02, -6.4525e-02, -6.4419e-02,\n",
              "                       7.0124e-02,  3.8401e-02, -2.3082e-02, -8.5648e-02, -5.2497e-03,\n",
              "                      -7.8449e-02,  2.5107e-02, -5.2550e-02, -2.4976e-02,  1.4726e-02,\n",
              "                      -3.3566e-02, -5.5068e-02, -5.9875e-02, -5.2347e-02, -6.1064e-02,\n",
              "                       3.9256e-02,  2.9333e-02, -6.3567e-02, -5.0698e-02,  2.4124e-02,\n",
              "                      -2.5704e-02, -3.6193e-02, -1.9053e-02, -7.5506e-02,  7.8944e-02,\n",
              "                      -7.6229e-02,  1.2690e-02, -3.5409e-02, -6.7880e-02, -6.9058e-02,\n",
              "                       3.1725e-04,  8.3406e-02, -5.2483e-02, -3.2133e-02,  2.5185e-02,\n",
              "                       8.5046e-02,  8.5713e-02, -1.4774e-02, -7.8719e-02, -4.2854e-02,\n",
              "                       6.0497e-03,  2.3594e-03, -6.3851e-02, -1.5950e-02, -7.1386e-02,\n",
              "                      -2.5972e-02,  5.3917e-02, -7.0243e-02,  3.7453e-02, -3.9660e-02,\n",
              "                       1.9151e-02, -2.1376e-02, -4.5692e-02,  8.1437e-02, -1.8791e-02,\n",
              "                      -5.2084e-02,  3.7137e-02, -2.0000e-02,  7.2264e-02,  3.0045e-02,\n",
              "                      -1.9612e-03,  1.4899e-02, -3.4145e-02, -2.1715e-02,  2.2962e-02,\n",
              "                      -3.7145e-02,  8.0177e-02, -1.8136e-02, -7.5317e-02, -4.2257e-03,\n",
              "                       5.6805e-02,  4.6488e-03,  2.1822e-02,  6.4246e-02,  1.1086e-02,\n",
              "                      -2.1929e-02, -4.4131e-02, -6.4810e-03,  4.4492e-02, -5.0463e-02,\n",
              "                       4.6680e-02, -3.5340e-02,  5.3864e-02,  6.5764e-02,  4.4096e-02,\n",
              "                      -5.7016e-02, -6.0465e-02, -4.4640e-02,  3.0939e-02,  3.0352e-02,\n",
              "                       5.5404e-02,  5.3315e-02, -7.4097e-02,  4.7636e-02, -7.1007e-02,\n",
              "                       2.2432e-02, -4.7052e-02, -5.6407e-02, -2.4049e-02, -2.9232e-02,\n",
              "                      -5.9629e-02,  1.0139e-02,  5.1708e-02, -8.8245e-03, -1.6185e-02,\n",
              "                      -5.2287e-02, -3.7186e-02,  4.1143e-02,  6.6194e-02, -1.3425e-02,\n",
              "                       7.7360e-03,  5.0701e-02,  2.7952e-02, -1.0115e-03,  4.3653e-02,\n",
              "                       2.0085e-02, -9.0773e-03,  3.2700e-02,  8.2254e-02,  9.7554e-03,\n",
              "                      -3.2861e-02, -1.5176e-02,  7.6464e-02, -1.5702e-03, -8.8103e-02,\n",
              "                       8.7746e-02,  6.0521e-02, -5.1308e-02,  8.3261e-02,  2.7526e-02,\n",
              "                       5.8112e-02,  1.6425e-02, -6.0110e-02, -7.7227e-02,  4.6483e-02,\n",
              "                       7.1421e-02, -5.2591e-02,  5.0880e-02, -5.1671e-02,  4.6036e-03,\n",
              "                       8.6596e-02,  1.0614e-02, -3.9951e-02, -6.4142e-02, -8.0761e-02,\n",
              "                       8.7817e-02, -1.0584e-02,  3.1769e-02, -3.4990e-02,  7.1927e-02,\n",
              "                       7.8636e-02,  2.2757e-02,  8.4552e-02,  1.8885e-02, -6.4805e-02,\n",
              "                      -3.0250e-02,  8.5252e-03,  1.2584e-02,  8.5034e-02, -8.6161e-02,\n",
              "                       7.2454e-02, -5.8325e-02,  5.6963e-02, -8.5265e-02, -5.5483e-02,\n",
              "                       8.7984e-02, -4.3920e-02, -1.6351e-02,  3.5970e-02, -3.0737e-02,\n",
              "                       4.4249e-02, -1.5922e-02, -6.4744e-02, -7.2073e-02,  6.2226e-03,\n",
              "                      -1.5810e-02,  7.5677e-02,  7.7859e-02, -6.8476e-02, -7.8883e-02,\n",
              "                       4.5693e-02,  6.3908e-02,  6.6984e-02, -5.6025e-04,  2.6567e-02,\n",
              "                      -4.6699e-02, -2.4064e-02, -5.5130e-02, -1.7701e-02, -5.2391e-02,\n",
              "                      -8.0727e-02,  7.6035e-02, -1.5745e-02, -5.9168e-02,  7.5656e-02,\n",
              "                      -3.8433e-02, -8.0654e-02,  3.7193e-02, -3.0698e-02,  4.8408e-04,\n",
              "                      -1.0087e-02, -4.3107e-02,  4.3628e-02,  3.2707e-02, -5.7683e-02,\n",
              "                       7.2716e-02, -7.6759e-02,  6.4448e-02, -5.6575e-02, -8.4581e-02,\n",
              "                       1.2006e-02, -6.5366e-02,  3.9492e-02, -8.2158e-03, -3.8778e-02,\n",
              "                      -5.6708e-02, -2.6699e-02, -3.5222e-02, -5.2122e-02,  8.2206e-02,\n",
              "                       5.3381e-02, -5.1590e-02,  2.4717e-02,  7.6309e-02,  5.8068e-02,\n",
              "                       4.0690e-02, -3.1190e-02,  8.3421e-02, -1.0093e-02, -4.3610e-02,\n",
              "                       7.2787e-02,  7.9923e-02, -6.0269e-02, -6.6588e-02,  1.0219e-02,\n",
              "                      -3.7209e-02, -1.0480e-02, -4.4338e-02,  4.9751e-02, -6.9694e-03,\n",
              "                      -5.9306e-02,  3.1490e-02,  5.3220e-04, -4.1662e-02,  6.2791e-03,\n",
              "                      -1.8203e-02,  3.6651e-02, -4.6316e-02,  2.4288e-02, -2.6416e-02,\n",
              "                      -2.8374e-02,  2.9700e-02,  1.7480e-02,  1.9253e-02, -5.1855e-02,\n",
              "                      -1.2189e-02,  8.7597e-02, -1.1106e-02,  6.2639e-03, -2.1547e-02,\n",
              "                       5.5715e-03, -6.6606e-02, -5.1282e-02,  6.4360e-02,  1.8604e-02,\n",
              "                      -1.7614e-02, -7.8952e-03, -3.4989e-02, -8.0296e-02,  3.6795e-02,\n",
              "                      -5.1161e-02,  1.2684e-02,  6.1903e-02, -7.1200e-02,  4.4433e-03,\n",
              "                      -2.9657e-02,  4.1011e-02, -6.5167e-02, -4.3893e-02, -7.6738e-02,\n",
              "                      -1.9015e-02,  1.4869e-02, -9.9478e-03,  2.2279e-02, -5.2389e-02,\n",
              "                       1.5873e-02, -2.4178e-02,  2.0175e-02, -3.7523e-02, -3.3777e-02,\n",
              "                      -6.8370e-03, -7.8825e-02,  6.2372e-03,  3.7180e-02, -1.6375e-02,\n",
              "                      -7.9781e-02,  7.2117e-03, -7.2898e-02, -5.6095e-02,  8.2822e-02,\n",
              "                       2.2324e-02, -7.1984e-02, -1.7842e-02, -1.2834e-02,  2.6718e-02,\n",
              "                      -8.8153e-02,  5.0410e-02,  2.3531e-02, -4.4240e-02,  4.3463e-03,\n",
              "                       4.7020e-02, -2.0700e-02, -5.6609e-02, -2.4432e-03,  7.6166e-02,\n",
              "                      -4.3298e-02,  4.0941e-02, -8.7538e-03, -4.4156e-02,  3.2555e-02,\n",
              "                       2.2711e-02,  3.2296e-02,  2.0303e-02, -8.6511e-02,  1.8236e-02,\n",
              "                      -5.5545e-02, -6.5187e-02, -4.6288e-02, -7.0156e-02,  7.0202e-02,\n",
              "                       5.4308e-02,  2.4271e-02, -1.8561e-02,  3.6406e-02, -3.8424e-02,\n",
              "                      -7.0733e-02,  3.3192e-02, -6.0719e-02, -1.4012e-02, -3.9632e-03,\n",
              "                       8.3734e-02,  1.7850e-02, -8.1709e-02,  3.1682e-02,  8.5248e-02,\n",
              "                      -2.4701e-03,  2.3371e-02,  5.0286e-02,  3.0333e-02, -3.0153e-04,\n",
              "                       4.7191e-02, -7.2414e-03, -6.9040e-02,  3.1884e-05,  6.2738e-02,\n",
              "                       7.7069e-02, -2.1146e-02,  6.7091e-02,  1.1904e-02, -1.8257e-02,\n",
              "                      -1.3437e-04,  5.3588e-03,  4.8283e-02,  8.2751e-02, -8.8274e-02,\n",
              "                       4.3622e-02,  4.1186e-02,  3.1484e-02, -8.4562e-02,  5.1839e-02,\n",
              "                      -7.6391e-02, -2.7668e-02,  1.8673e-02,  5.8871e-02,  8.6237e-02,\n",
              "                       6.3289e-02, -2.0267e-02, -3.0533e-02, -4.9361e-02, -5.2883e-02,\n",
              "                      -3.8433e-02,  5.7376e-02,  8.5521e-02, -6.1039e-03,  1.8984e-02,\n",
              "                      -4.0859e-02,  8.6410e-02,  2.8052e-02, -4.1464e-02,  1.4325e-02,\n",
              "                       5.8196e-02, -8.3283e-02,  7.0420e-02, -2.0428e-02, -6.3371e-02,\n",
              "                      -8.5530e-03,  2.4674e-03,  5.0280e-02,  4.4173e-02,  5.6219e-02,\n",
              "                       4.5170e-02,  2.5312e-02, -8.0724e-02, -8.3226e-03, -7.6476e-02,\n",
              "                      -6.8228e-02, -7.3144e-02,  2.7665e-03,  6.4715e-02,  4.9221e-02,\n",
              "                      -1.2410e-04,  8.7017e-04,  1.5275e-02, -5.6792e-03, -1.4225e-02,\n",
              "                       5.1328e-02, -1.7272e-02, -7.4255e-02,  8.1374e-02,  3.7864e-02,\n",
              "                      -4.6857e-02, -5.6450e-02, -2.9939e-02,  8.7182e-02,  4.2155e-02,\n",
              "                      -4.5390e-02,  1.6374e-02,  3.8343e-02, -1.3254e-02,  4.0001e-02,\n",
              "                       7.8686e-02,  2.7854e-02, -5.0098e-02, -1.8920e-02,  9.7309e-03,\n",
              "                      -1.3834e-02,  8.0361e-03,  7.3935e-02, -2.3675e-04,  8.3571e-02,\n",
              "                       6.1992e-02,  5.8022e-02,  5.6638e-02,  1.7036e-02, -7.0443e-02,\n",
              "                       5.3817e-02, -3.2748e-02, -2.9926e-02,  3.2673e-02, -7.5980e-02,\n",
              "                       2.3728e-02, -8.3287e-02, -7.3496e-02,  8.1655e-02, -5.3948e-02,\n",
              "                      -7.3885e-03,  6.8015e-02, -8.7899e-02,  3.1125e-02,  2.0441e-02,\n",
              "                      -1.9618e-02,  6.1648e-02,  6.6872e-02,  4.6078e-02, -1.6621e-02,\n",
              "                       8.4707e-02,  2.9253e-02,  4.1029e-02,  6.9526e-03,  2.1799e-02,\n",
              "                       4.6435e-02, -7.1796e-02, -4.4897e-02, -4.3690e-02,  8.6235e-02,\n",
              "                      -2.3439e-02, -4.5732e-02], device='cuda:0')),\n",
              "             ('lstm.bias_hh_l1',\n",
              "              tensor([-5.2512e-02,  4.2558e-02,  7.5918e-02, -7.1567e-02,  6.9359e-02,\n",
              "                       8.1632e-02, -7.3430e-02,  3.1680e-02,  6.4274e-02, -2.5664e-02,\n",
              "                      -6.5215e-02,  5.6287e-03, -5.6646e-02, -1.5227e-02, -2.5200e-02,\n",
              "                      -6.1000e-02, -2.5420e-02, -3.1662e-02, -4.6911e-02,  2.0636e-02,\n",
              "                      -8.4298e-02,  8.2556e-02,  2.3009e-02,  6.8718e-02, -6.6994e-02,\n",
              "                      -3.3719e-02,  1.8584e-02, -5.7480e-02, -1.7593e-02, -8.1341e-02,\n",
              "                       3.6013e-03,  7.4944e-02, -5.7864e-02,  5.2000e-02, -4.6916e-02,\n",
              "                       4.9454e-02,  6.0333e-02,  2.7527e-02, -8.7185e-03,  5.6430e-02,\n",
              "                       4.9959e-02, -5.1059e-02, -4.7054e-02, -4.6640e-02, -7.0606e-03,\n",
              "                       6.0797e-02,  3.7374e-02, -4.4835e-02,  1.1469e-02, -3.1115e-02,\n",
              "                      -4.4920e-02,  8.0500e-03, -4.7307e-02,  4.2876e-02,  4.2080e-02,\n",
              "                      -6.4496e-02, -2.7221e-02, -4.1799e-05,  2.5584e-02,  7.7685e-02,\n",
              "                       2.4279e-02, -1.9013e-02,  1.6968e-02, -1.2327e-02,  8.6948e-03,\n",
              "                      -5.8198e-02, -6.0672e-02,  1.6326e-02, -8.3665e-02,  1.4528e-03,\n",
              "                      -7.3988e-02,  8.6295e-02,  4.2839e-02,  5.5190e-02,  3.8176e-02,\n",
              "                      -8.7697e-02,  3.5813e-02, -8.6394e-02,  2.9548e-02,  8.6818e-02,\n",
              "                       4.4029e-02,  7.7409e-02, -8.3800e-02,  4.2005e-02,  5.2981e-02,\n",
              "                       7.9998e-02,  4.9640e-02, -4.0562e-02,  3.5243e-02, -2.0123e-02,\n",
              "                      -4.7874e-02, -2.6350e-02, -5.2970e-02, -3.1743e-03,  8.5731e-02,\n",
              "                      -4.5184e-02, -6.1784e-02, -6.1511e-02, -3.7371e-02,  1.7470e-02,\n",
              "                       2.5019e-02, -3.9214e-02, -5.9280e-02,  2.4141e-02,  6.3142e-02,\n",
              "                       4.7916e-02, -3.0555e-02, -4.5650e-02,  5.6990e-02, -8.3800e-02,\n",
              "                      -8.0324e-02, -7.2737e-02, -3.0448e-02,  1.6405e-02,  3.0837e-02,\n",
              "                      -5.7543e-02,  3.4360e-02, -7.2821e-02, -4.6869e-02, -6.1289e-02,\n",
              "                       2.0112e-02, -5.3000e-02,  3.1684e-02,  2.0780e-02, -7.8885e-02,\n",
              "                       7.8988e-02, -7.5179e-02, -1.9169e-02,  2.0193e-02,  4.6673e-02,\n",
              "                      -3.1688e-02,  4.1302e-04, -3.9078e-02, -4.9394e-02,  5.0494e-02,\n",
              "                       6.5042e-02, -2.0192e-02,  3.0235e-02,  4.8427e-02,  3.2027e-02,\n",
              "                       1.3465e-02, -6.0097e-02, -1.9379e-02, -8.0102e-03,  7.6225e-02,\n",
              "                      -7.3447e-02,  7.6622e-02,  2.8222e-03, -7.7319e-02,  2.1960e-02,\n",
              "                       4.5622e-02, -1.0343e-02,  3.7527e-02, -6.2520e-02,  8.4305e-02,\n",
              "                      -8.8206e-03,  8.6033e-02, -5.4715e-02, -8.1567e-02,  3.9641e-02,\n",
              "                      -4.0475e-02,  4.4895e-02, -7.0423e-02, -2.2505e-02, -2.7759e-02,\n",
              "                      -7.2549e-02,  6.2982e-02,  7.1842e-03,  3.6482e-02,  4.0709e-02,\n",
              "                       7.2045e-02,  8.0519e-02,  2.4359e-02,  1.8141e-02, -1.7163e-02,\n",
              "                      -2.5913e-02, -2.7126e-02, -6.1007e-02,  8.3235e-02,  8.6546e-02,\n",
              "                      -1.5212e-02, -4.9436e-02,  7.2886e-02, -6.9124e-02, -1.0595e-02,\n",
              "                      -2.5727e-02, -7.1576e-02, -7.9509e-02, -4.2743e-02,  7.1738e-02,\n",
              "                      -6.7478e-02,  1.8552e-02,  2.7755e-03, -6.6400e-02, -2.4473e-02,\n",
              "                       1.9593e-02, -2.7280e-02,  2.6150e-02,  9.9652e-03, -1.8900e-02,\n",
              "                       3.5940e-02, -2.2917e-02, -4.2349e-02,  5.3101e-02,  5.0050e-02,\n",
              "                      -1.4188e-02, -6.0106e-02, -8.4205e-02,  1.1676e-02, -2.6351e-02,\n",
              "                       3.1036e-02,  3.0415e-02, -1.9546e-02,  1.9606e-03, -7.8525e-02,\n",
              "                       6.7800e-02, -3.9871e-02,  8.0204e-02, -4.3569e-02, -4.8491e-02,\n",
              "                      -8.6703e-02,  5.8992e-02, -3.1706e-02, -5.1379e-02,  1.8206e-02,\n",
              "                       3.1952e-02,  2.0874e-02,  8.6719e-02,  5.5052e-02,  5.8445e-02,\n",
              "                      -1.2150e-02,  6.5015e-03, -6.0807e-02, -2.3402e-02,  7.2723e-02,\n",
              "                       6.8090e-02,  3.7233e-02, -3.3887e-02, -3.0602e-02, -3.2705e-02,\n",
              "                       2.8409e-02,  5.7665e-02,  7.7507e-02,  6.3763e-02,  1.6488e-02,\n",
              "                      -8.4712e-02, -3.1614e-02, -4.1304e-02,  7.0348e-02,  6.1107e-02,\n",
              "                       6.3170e-03,  4.1960e-02, -8.3007e-02, -6.9013e-02, -4.2503e-02,\n",
              "                       6.8438e-02,  7.0897e-02,  5.0210e-02,  1.0803e-03,  7.0613e-02,\n",
              "                      -1.7276e-02,  1.9406e-02, -1.5320e-02,  3.4426e-02, -3.2196e-03,\n",
              "                      -1.4276e-02, -3.8802e-02, -7.2435e-02, -8.7117e-02,  3.8857e-02,\n",
              "                       1.3242e-02, -1.5733e-02, -2.6374e-02,  5.7928e-02,  6.0138e-02,\n",
              "                       6.7028e-02, -5.7412e-02,  4.7911e-02,  6.4114e-02, -2.5380e-02,\n",
              "                      -1.9299e-03,  3.3895e-02,  3.6934e-02,  4.8777e-02,  5.0709e-02,\n",
              "                      -5.6285e-03,  3.8035e-02, -3.1799e-02,  7.3777e-02,  4.6816e-02,\n",
              "                       4.9660e-02,  8.8086e-02, -7.0214e-02,  8.0632e-02, -4.3682e-02,\n",
              "                      -2.5340e-02, -3.6585e-02, -4.2235e-02, -2.9445e-02, -3.1897e-02,\n",
              "                       4.3421e-02, -8.3078e-02, -5.0842e-02,  4.5400e-02,  8.2519e-02,\n",
              "                       2.4508e-02, -5.9211e-02, -3.4460e-02, -5.9693e-02,  8.2061e-02,\n",
              "                       4.8246e-02,  7.7136e-02,  7.2259e-02, -5.1738e-02,  2.7281e-02,\n",
              "                      -6.3015e-02, -8.4495e-02,  1.7739e-02, -4.0310e-02,  1.7719e-03,\n",
              "                       1.8447e-02,  5.9463e-02, -8.2420e-02,  1.7074e-03,  1.2487e-02,\n",
              "                       6.3807e-03, -8.7696e-02,  3.4683e-02, -6.6111e-02,  5.4176e-02,\n",
              "                       7.2284e-02,  7.0178e-02,  5.4150e-02,  6.3162e-02,  1.7668e-02,\n",
              "                      -6.7144e-02,  7.0321e-02,  3.1817e-02,  2.8389e-02, -8.4553e-02,\n",
              "                      -6.2437e-02, -5.7649e-02,  5.2337e-02,  8.6940e-02, -1.7166e-02,\n",
              "                       2.4304e-02,  5.9903e-02,  6.3823e-02, -7.2623e-02,  2.9089e-02,\n",
              "                      -1.5403e-02,  3.8346e-02,  3.3238e-02, -6.3711e-02, -5.0003e-03,\n",
              "                       6.8528e-02,  1.7922e-02,  4.6326e-02, -2.4960e-02, -6.8417e-02,\n",
              "                       6.6656e-02, -8.3193e-02, -3.6878e-03, -1.2275e-02,  8.3246e-02,\n",
              "                       7.7435e-02, -6.6634e-02, -1.3074e-02,  5.6776e-02,  7.5034e-02,\n",
              "                      -4.7670e-02,  6.0920e-02,  4.2804e-02, -4.1968e-02,  2.4841e-02,\n",
              "                      -5.5520e-03, -4.0766e-02,  5.2633e-02, -1.6418e-02, -3.4907e-02,\n",
              "                       6.4693e-02, -1.4441e-02,  1.1327e-02, -6.7367e-02,  6.0035e-02,\n",
              "                       3.9913e-02, -3.3467e-02,  1.3711e-02, -7.1678e-02, -4.3061e-03,\n",
              "                       1.4025e-03,  1.6306e-02,  7.4599e-02,  5.1290e-02, -1.9429e-03,\n",
              "                       3.3491e-02, -1.9009e-02,  2.4360e-04, -3.6905e-02,  5.5576e-02,\n",
              "                       3.6782e-02, -3.0238e-02, -6.3308e-02, -8.1674e-02, -6.5790e-02,\n",
              "                      -8.7991e-02, -3.2919e-02,  5.8707e-02,  3.4336e-02, -5.5997e-02,\n",
              "                      -5.3837e-02,  8.5029e-02,  8.4965e-02, -3.3591e-02, -8.0435e-02,\n",
              "                      -8.7200e-02,  8.2471e-02, -2.8420e-02, -8.5216e-02, -5.7607e-02,\n",
              "                       5.1352e-02,  1.3109e-02, -2.1077e-02,  1.6547e-02, -4.7726e-02,\n",
              "                      -1.0442e-03,  7.1302e-02,  1.3719e-02,  1.1696e-02,  3.6350e-02,\n",
              "                       2.8133e-02,  5.0468e-02,  7.7251e-02, -2.7955e-02, -5.2385e-02,\n",
              "                      -3.0296e-02, -2.4957e-02,  6.6540e-02, -7.4875e-02, -8.6373e-02,\n",
              "                       5.5347e-02,  8.0050e-02,  1.5109e-02, -7.1545e-02,  6.7083e-02,\n",
              "                      -1.3553e-02, -2.8685e-02, -4.7470e-02,  6.4646e-02, -7.9045e-02,\n",
              "                       1.3459e-04, -6.4653e-02, -4.7136e-02,  6.7581e-02, -7.2951e-02,\n",
              "                      -6.0863e-02, -8.5700e-02, -4.2624e-02, -4.1367e-02, -2.2173e-03,\n",
              "                      -3.5966e-02,  5.0361e-02,  6.4276e-02,  7.4334e-02,  5.4004e-02,\n",
              "                      -4.9572e-03, -5.1036e-02,  6.0881e-02,  8.1324e-02, -5.2610e-02,\n",
              "                      -2.5299e-02, -6.3486e-02,  1.6025e-02, -2.4801e-02, -7.5656e-03,\n",
              "                       1.2042e-02,  6.0510e-03,  4.2725e-02,  5.9231e-02,  8.2578e-03,\n",
              "                       4.2375e-02,  4.0059e-02, -3.9603e-03,  9.7481e-03,  3.1203e-02,\n",
              "                      -1.6419e-02, -7.9614e-02,  2.3894e-02, -7.9237e-02,  4.8459e-02,\n",
              "                      -1.7302e-02,  7.8875e-02,  2.8386e-02, -8.3639e-02,  6.4540e-02,\n",
              "                      -6.8849e-02,  4.6121e-02,  8.4319e-02, -5.6881e-02, -3.9185e-03,\n",
              "                      -2.2793e-02, -6.3441e-02,  3.4197e-02,  2.9449e-02, -6.7251e-02,\n",
              "                       3.2913e-02, -2.1681e-02,  3.6523e-02, -4.4260e-02,  1.0165e-02,\n",
              "                      -7.0091e-02,  2.8291e-02], device='cuda:0')),\n",
              "             ('lstm.weight_ih_l2',\n",
              "              tensor([[ 0.0838,  0.0168, -0.0464,  ...,  0.0075,  0.0883,  0.0487],\n",
              "                      [ 0.0603,  0.0082, -0.0783,  ..., -0.0691,  0.0524, -0.0621],\n",
              "                      [-0.0247, -0.0459,  0.0593,  ..., -0.0637,  0.0414,  0.0236],\n",
              "                      ...,\n",
              "                      [ 0.0554,  0.0012,  0.0877,  ...,  0.0701, -0.0743, -0.0804],\n",
              "                      [-0.0166, -0.0851, -0.0461,  ..., -0.0762,  0.0199,  0.0777],\n",
              "                      [ 0.0628,  0.0710, -0.0179,  ...,  0.0449, -0.0037,  0.0112]],\n",
              "                     device='cuda:0')),\n",
              "             ('lstm.weight_hh_l2',\n",
              "              tensor([[-0.0481,  0.0055, -0.0798,  ...,  0.0388,  0.0324, -0.0237],\n",
              "                      [-0.0522,  0.0189, -0.0546,  ..., -0.0863, -0.0882, -0.0833],\n",
              "                      [-0.0218, -0.0131, -0.0678,  ...,  0.0662,  0.0560, -0.0859],\n",
              "                      ...,\n",
              "                      [ 0.0589, -0.0304,  0.0716,  ...,  0.0741, -0.0451, -0.0514],\n",
              "                      [ 0.0184, -0.0480, -0.0588,  ...,  0.0255,  0.0411,  0.0579],\n",
              "                      [-0.0224,  0.0255,  0.0472,  ...,  0.0005, -0.0532, -0.0333]],\n",
              "                     device='cuda:0')),\n",
              "             ('lstm.bias_ih_l2',\n",
              "              tensor([ 0.0440,  0.0618,  0.0003,  0.0622,  0.0411,  0.0800,  0.0082,  0.0318,\n",
              "                      -0.0219, -0.0321,  0.0068,  0.0456, -0.0333, -0.0653,  0.0686,  0.0804,\n",
              "                      -0.0500,  0.0543,  0.0469,  0.0810, -0.0820, -0.0292,  0.0155,  0.0115,\n",
              "                       0.0227, -0.0073,  0.0717,  0.0039, -0.0787, -0.0441, -0.0316, -0.0300,\n",
              "                      -0.0829,  0.0510,  0.0191, -0.0497, -0.0306, -0.0140,  0.0869, -0.0605,\n",
              "                      -0.0808,  0.0728, -0.0177,  0.0506, -0.0866,  0.0273,  0.0283, -0.0782,\n",
              "                       0.0355, -0.0524,  0.0037,  0.0564,  0.0063, -0.0813, -0.0474,  0.0105,\n",
              "                      -0.0865, -0.0087,  0.0438, -0.0143, -0.0133,  0.0648,  0.0061,  0.0144,\n",
              "                       0.0317,  0.0120, -0.0688,  0.0055,  0.0620, -0.0671,  0.0126,  0.0257,\n",
              "                       0.0571,  0.0450,  0.0830,  0.0493,  0.0592, -0.0455, -0.0795,  0.0459,\n",
              "                       0.0236,  0.0860,  0.0677,  0.0207, -0.0097,  0.0610, -0.0512,  0.0499,\n",
              "                      -0.0047,  0.0621, -0.0019, -0.0709, -0.0842, -0.0407, -0.0510,  0.0425,\n",
              "                      -0.0839, -0.0316,  0.0029, -0.0882,  0.0575,  0.0871,  0.0236, -0.0110,\n",
              "                       0.0341,  0.0428,  0.0536,  0.0534,  0.0143, -0.0336, -0.0746, -0.0018,\n",
              "                       0.0576,  0.0244,  0.0174,  0.0314, -0.0071,  0.0325, -0.0806,  0.0146,\n",
              "                       0.0145, -0.0228, -0.0094, -0.0252,  0.0680,  0.0183,  0.0809, -0.0572,\n",
              "                       0.0256, -0.0038,  0.0062, -0.0273,  0.0455, -0.0786, -0.0793, -0.0525,\n",
              "                       0.0706,  0.0189, -0.0173,  0.0192,  0.0091, -0.0214,  0.0304,  0.0462,\n",
              "                       0.0011, -0.0537,  0.0340,  0.0140, -0.0736, -0.0755, -0.0146, -0.0584,\n",
              "                      -0.0476, -0.0701, -0.0693,  0.0206,  0.0280, -0.0662,  0.0212, -0.0666,\n",
              "                       0.0687, -0.0796,  0.0638,  0.0527,  0.0507,  0.0074, -0.0092, -0.0541,\n",
              "                      -0.0399, -0.0286,  0.0062, -0.0426,  0.0379, -0.0047, -0.0099,  0.0251,\n",
              "                      -0.0554,  0.0101,  0.0073,  0.0587, -0.0272,  0.0386,  0.0694,  0.0344,\n",
              "                      -0.0259, -0.0415, -0.0145,  0.0848,  0.0034,  0.0662,  0.0613, -0.0063,\n",
              "                      -0.0372, -0.0685,  0.0135,  0.0214, -0.0245,  0.0669, -0.0061, -0.0735,\n",
              "                       0.0727, -0.0733,  0.0372, -0.0096, -0.0586,  0.0480, -0.0617,  0.0358,\n",
              "                       0.0881, -0.0846,  0.0311,  0.0061,  0.0597, -0.0432,  0.0150, -0.0709,\n",
              "                      -0.0602,  0.0157, -0.0838,  0.0409, -0.0164,  0.0620, -0.0456, -0.0407,\n",
              "                      -0.0540,  0.0159, -0.0663,  0.0203, -0.0224, -0.0750, -0.0579,  0.0870,\n",
              "                      -0.0601,  0.0182, -0.0664,  0.0876, -0.0758, -0.0247,  0.0448,  0.0173,\n",
              "                       0.0127, -0.0230,  0.0162, -0.0137, -0.0852, -0.0216,  0.0006,  0.0055,\n",
              "                       0.0649, -0.0800,  0.0444,  0.0361,  0.0273,  0.0036,  0.0308, -0.0657,\n",
              "                      -0.0601,  0.0810, -0.0851,  0.0758, -0.0839, -0.0029,  0.0251, -0.0152,\n",
              "                       0.0148, -0.0461, -0.0039,  0.0757, -0.0862,  0.0289,  0.0013, -0.0112,\n",
              "                       0.0278,  0.0666,  0.0763, -0.0615,  0.0655,  0.0302, -0.0298, -0.0390,\n",
              "                       0.0397,  0.0876, -0.0352,  0.0042,  0.0388,  0.0186,  0.0553,  0.0018,\n",
              "                       0.0397,  0.0658,  0.0212,  0.0610,  0.0388,  0.0631,  0.0608,  0.0670,\n",
              "                      -0.0779,  0.0612, -0.0294, -0.0032, -0.0002,  0.0417, -0.0566,  0.0378,\n",
              "                       0.0078,  0.0456, -0.0472, -0.0711, -0.0786, -0.0556,  0.0442,  0.0340,\n",
              "                      -0.0489, -0.0444,  0.0372, -0.0842,  0.0315,  0.0663, -0.0267, -0.0359,\n",
              "                       0.0736, -0.0793, -0.0063, -0.0623, -0.0329, -0.0662, -0.0578,  0.0492,\n",
              "                      -0.0263,  0.0217, -0.0340,  0.0826, -0.0383,  0.0710, -0.0263,  0.0879,\n",
              "                       0.0825,  0.0674, -0.0171,  0.0240,  0.0322,  0.0697, -0.0294,  0.0173,\n",
              "                       0.0306, -0.0770, -0.0550,  0.0212, -0.0673, -0.0168, -0.0081, -0.0850,\n",
              "                      -0.0231,  0.0520, -0.0509,  0.0293,  0.0700,  0.0561,  0.0100, -0.0156,\n",
              "                      -0.0459,  0.0288,  0.0246, -0.0435,  0.0632,  0.0301, -0.0783, -0.0521,\n",
              "                       0.0607, -0.0415,  0.0787,  0.0053, -0.0518, -0.0075, -0.0839,  0.0520,\n",
              "                      -0.0221, -0.0153,  0.0684, -0.0154, -0.0255, -0.0660, -0.0808,  0.0417,\n",
              "                       0.0268,  0.0501, -0.0078, -0.0598,  0.0706,  0.0168, -0.0631, -0.0825,\n",
              "                      -0.0225,  0.0794,  0.0500, -0.0244,  0.0033, -0.0437, -0.0717,  0.0346,\n",
              "                       0.0404,  0.0842, -0.0507,  0.0824,  0.0703, -0.0809,  0.0784, -0.0397,\n",
              "                       0.0597, -0.0293,  0.0294,  0.0532,  0.0791, -0.0467,  0.0066, -0.0650,\n",
              "                       0.0443,  0.0844, -0.0276, -0.0749, -0.0290,  0.0019, -0.0607,  0.0873,\n",
              "                      -0.0503, -0.0093,  0.0847,  0.0734,  0.0339,  0.0362,  0.0761,  0.0569,\n",
              "                      -0.0225, -0.0389, -0.0238,  0.0251,  0.0665,  0.0283, -0.0096, -0.0742,\n",
              "                      -0.0441, -0.0477,  0.0250, -0.0590, -0.0122, -0.0575,  0.0702, -0.0334,\n",
              "                       0.0689, -0.0203, -0.0039, -0.0208,  0.0610,  0.0787,  0.0840, -0.0591,\n",
              "                      -0.0594, -0.0700,  0.0010, -0.0645,  0.0772,  0.0091, -0.0092,  0.0827,\n",
              "                       0.0817,  0.0004,  0.0518,  0.0814,  0.0770,  0.0434, -0.0647,  0.0076,\n",
              "                      -0.0747, -0.0015, -0.0606, -0.0599, -0.0029, -0.0556,  0.0722, -0.0571,\n",
              "                      -0.0141,  0.0634,  0.0019,  0.0045, -0.0400,  0.0194,  0.0292, -0.0807,\n",
              "                      -0.0232, -0.0202, -0.0280, -0.0628, -0.0740, -0.0228,  0.0835,  0.0834,\n",
              "                       0.0570, -0.0417,  0.0503,  0.0050,  0.0632, -0.0606,  0.0387, -0.0243,\n",
              "                       0.0567,  0.0477, -0.0559, -0.0763, -0.0280, -0.0073, -0.0291,  0.0619],\n",
              "                     device='cuda:0')),\n",
              "             ('lstm.bias_hh_l2',\n",
              "              tensor([-0.0272, -0.0668,  0.0036,  0.0541, -0.0496,  0.0134,  0.0517, -0.0670,\n",
              "                      -0.0430, -0.0042, -0.0446, -0.0227, -0.0004, -0.0842,  0.0332,  0.0177,\n",
              "                      -0.0882,  0.0098, -0.0063,  0.0484,  0.0806, -0.0866,  0.0398,  0.0053,\n",
              "                      -0.0090,  0.0260, -0.0112,  0.0310,  0.0375,  0.0440, -0.0480, -0.0601,\n",
              "                       0.0864, -0.0747,  0.0808,  0.0086,  0.0327,  0.0166, -0.0874,  0.0409,\n",
              "                       0.0725, -0.0759,  0.0537, -0.0139, -0.0637,  0.0078, -0.0805, -0.0747,\n",
              "                      -0.0661,  0.0720, -0.0650,  0.0180,  0.0046,  0.0435,  0.0650,  0.0662,\n",
              "                      -0.0178, -0.0104, -0.0311,  0.0108,  0.0479, -0.0090, -0.0493, -0.0309,\n",
              "                       0.0662,  0.0770,  0.0676, -0.0664,  0.0171, -0.0815, -0.0302,  0.0470,\n",
              "                       0.0163, -0.0398, -0.0871,  0.0846, -0.0468, -0.0613, -0.0641,  0.0530,\n",
              "                      -0.0743,  0.0229, -0.0148, -0.0547,  0.0214,  0.0141,  0.0616,  0.0054,\n",
              "                      -0.0047, -0.0741, -0.0291,  0.0246,  0.0825, -0.0109, -0.0377,  0.0099,\n",
              "                      -0.0231, -0.0659,  0.0219,  0.0094, -0.0063,  0.0534,  0.0650,  0.0289,\n",
              "                      -0.0148, -0.0553,  0.0856, -0.0501,  0.0884,  0.0331,  0.0468,  0.0793,\n",
              "                      -0.0871, -0.0104, -0.0031,  0.0508, -0.0513, -0.0063, -0.0616,  0.0805,\n",
              "                       0.0875,  0.0418,  0.0882,  0.0871, -0.0460,  0.0210, -0.0105,  0.0639,\n",
              "                      -0.0516,  0.0867,  0.0144, -0.0728, -0.0744,  0.0486,  0.0847,  0.0180,\n",
              "                       0.0809,  0.0242,  0.0054,  0.0799, -0.0697,  0.0872, -0.0791,  0.0374,\n",
              "                      -0.0854,  0.0085,  0.0783, -0.0089,  0.0704,  0.0245,  0.0209, -0.0155,\n",
              "                      -0.0644, -0.0158,  0.0881, -0.0758,  0.0363, -0.0528, -0.0137, -0.0415,\n",
              "                      -0.0523, -0.0555,  0.0592, -0.0556,  0.0831,  0.0225,  0.0349,  0.0788,\n",
              "                       0.0329, -0.0881, -0.0719,  0.0680,  0.0196,  0.0474,  0.0127,  0.0528,\n",
              "                       0.0021, -0.0161, -0.0675,  0.0714, -0.0278,  0.0400,  0.0022, -0.0390,\n",
              "                       0.0317,  0.0037,  0.0798, -0.0645,  0.0177, -0.0099,  0.0097,  0.0460,\n",
              "                       0.0208,  0.0032,  0.0577,  0.0425,  0.0635, -0.0729, -0.0142,  0.0683,\n",
              "                       0.0027, -0.0634,  0.0078,  0.0636,  0.0618, -0.0308, -0.0444, -0.0662,\n",
              "                      -0.0818, -0.0522, -0.0859, -0.0164,  0.0034, -0.0881, -0.0206, -0.0100,\n",
              "                       0.0871,  0.0815,  0.0834,  0.0394, -0.0758,  0.0327, -0.0086, -0.0498,\n",
              "                      -0.0486, -0.0472,  0.0211, -0.0024, -0.0053, -0.0350,  0.0118,  0.0501,\n",
              "                      -0.0506, -0.0701,  0.0764, -0.0182,  0.0301,  0.0452, -0.0522, -0.0018,\n",
              "                      -0.0339,  0.0391,  0.0210, -0.0199, -0.0440,  0.0201,  0.0700,  0.0575,\n",
              "                       0.0277, -0.0660,  0.0257,  0.0606, -0.0386, -0.0163, -0.0073,  0.0853,\n",
              "                       0.0823, -0.0488, -0.0369, -0.0362, -0.0181, -0.0231,  0.0858,  0.0679,\n",
              "                      -0.0774,  0.0549, -0.0525,  0.0285, -0.0787, -0.0491,  0.0295,  0.0642,\n",
              "                      -0.0343,  0.0245,  0.0619,  0.0561, -0.0135,  0.0387,  0.0190, -0.0833,\n",
              "                      -0.0509, -0.0708,  0.0848,  0.0716,  0.0498,  0.0650, -0.0746,  0.0407,\n",
              "                       0.0082, -0.0802,  0.0287,  0.0651, -0.0002,  0.0322, -0.0005, -0.0309,\n",
              "                       0.0815, -0.0587, -0.0181,  0.0509, -0.0428,  0.0605,  0.0748,  0.0863,\n",
              "                      -0.0030, -0.0037, -0.0437,  0.0380, -0.0278, -0.0799, -0.0316, -0.0183,\n",
              "                      -0.0751,  0.0484,  0.0355, -0.0450, -0.0123,  0.0160, -0.0870, -0.0211,\n",
              "                      -0.0762, -0.0085, -0.0793, -0.0260,  0.0346, -0.0239, -0.0450, -0.0443,\n",
              "                       0.0297, -0.0301, -0.0259,  0.0171,  0.0177, -0.0031, -0.0517,  0.0127,\n",
              "                       0.0811, -0.0652, -0.0326,  0.0036, -0.0854,  0.0320, -0.0012,  0.0796,\n",
              "                      -0.0184, -0.0870, -0.0590, -0.0826,  0.0839, -0.0726, -0.0842,  0.0507,\n",
              "                      -0.0071,  0.0032, -0.0868, -0.0767,  0.0872, -0.0806, -0.0815, -0.0117,\n",
              "                      -0.0264, -0.0330,  0.0326,  0.0569, -0.0743, -0.0481,  0.0729,  0.0847,\n",
              "                      -0.0244, -0.0192, -0.0717, -0.0076,  0.0082, -0.0332,  0.0843, -0.0060,\n",
              "                      -0.0287, -0.0347, -0.0217,  0.0484, -0.0823,  0.0588, -0.0361, -0.0052,\n",
              "                       0.0319, -0.0200,  0.0856, -0.0203, -0.0236,  0.0722, -0.0351, -0.0703,\n",
              "                      -0.0246, -0.0802, -0.0794, -0.0294, -0.0337, -0.0270, -0.0261, -0.0299,\n",
              "                      -0.0229,  0.0727, -0.0035,  0.0265, -0.0070, -0.0193, -0.0580,  0.0186,\n",
              "                      -0.0409, -0.0153,  0.0376,  0.0440, -0.0813,  0.0316, -0.0227, -0.0124,\n",
              "                      -0.0278, -0.0182,  0.0332,  0.0627, -0.0795,  0.0766,  0.0301, -0.0720,\n",
              "                       0.0072, -0.0246, -0.0445, -0.0248,  0.0765,  0.0534,  0.0733, -0.0612,\n",
              "                      -0.0300,  0.0414,  0.0408, -0.0576, -0.0319,  0.0485,  0.0622, -0.0756,\n",
              "                      -0.0862,  0.0818,  0.0428, -0.0604, -0.0309, -0.0551, -0.0130,  0.0676,\n",
              "                      -0.0473, -0.0047, -0.0252, -0.0288,  0.0762, -0.0621, -0.0495,  0.0364,\n",
              "                      -0.0748, -0.0421, -0.0034, -0.0871, -0.0817,  0.0064, -0.0152,  0.0046,\n",
              "                       0.0734, -0.0635, -0.0400, -0.0026, -0.0518, -0.0642,  0.0412, -0.0412,\n",
              "                       0.0434,  0.0143,  0.0241,  0.0201,  0.0841,  0.0722,  0.0757,  0.0816,\n",
              "                       0.0741,  0.0464, -0.0122, -0.0505,  0.0455,  0.0366, -0.0360, -0.0652,\n",
              "                       0.0750,  0.0306,  0.0672, -0.0096,  0.0448,  0.0257,  0.0031,  0.0035,\n",
              "                       0.0799,  0.0086, -0.0511,  0.0080,  0.0660,  0.0217, -0.0357,  0.0836,\n",
              "                       0.0410,  0.0843, -0.0461, -0.0788, -0.0577,  0.0722, -0.0376,  0.0570],\n",
              "                     device='cuda:0')),\n",
              "             ('fc.weight',\n",
              "              tensor([[-0.0421, -0.0727,  0.0551,  ..., -0.0797,  0.0842, -0.0191],\n",
              "                      [ 0.0283, -0.0186, -0.0056,  ...,  0.0654,  0.0595, -0.0137],\n",
              "                      [ 0.0421,  0.0856, -0.0350,  ...,  0.0132,  0.0051,  0.0445],\n",
              "                      ...,\n",
              "                      [-0.0369,  0.0696, -0.0047,  ..., -0.0139,  0.0704, -0.0705],\n",
              "                      [-0.0401, -0.0185,  0.0528,  ..., -0.0250, -0.0195,  0.0118],\n",
              "                      [-0.0871, -0.0240,  0.0004,  ...,  0.0180,  0.0682,  0.0071]],\n",
              "                     device='cuda:0')),\n",
              "             ('fc.bias',\n",
              "              tensor([ 0.0622,  0.0429,  0.0429,  0.0519, -0.0380,  0.0030, -0.0336,  0.0299,\n",
              "                      -0.0864,  0.0284], device='cuda:0'))])"
            ]
          },
          "metadata": {},
          "execution_count": 9
        }
      ]
    },
    {
      "cell_type": "code",
      "execution_count": 10,
      "metadata": {
        "id": "3w9QW9Lfp1aV",
        "colab": {
          "base_uri": "https://localhost:8080/"
        },
        "outputId": "6f85af5d-9370-41bc-a343-107a2988c006"
      },
      "outputs": [
        {
          "output_type": "execute_result",
          "data": {
            "text/plain": [
              "LSTM_Model_label(\n",
              "  (lstm): LSTM(41, 128, num_layers=3, batch_first=True)\n",
              "  (fc): Linear(in_features=128, out_features=2, bias=True)\n",
              ")"
            ]
          },
          "metadata": {},
          "execution_count": 10
        }
      ],
      "source": [
        "my_model_label = LSTM_Model_label(num_classes_label, input_size, hidden_size, num_layers).to(device=device)\n",
        "my_model_label"
      ]
    },
    {
      "cell_type": "markdown",
      "metadata": {
        "id": "Cey1CId-jjis"
      },
      "source": [
        "# **optimizer and loss function**"
      ]
    },
    {
      "cell_type": "code",
      "execution_count": 11,
      "metadata": {
        "id": "WNuQFMAekNDH"
      },
      "outputs": [],
      "source": [
        "loss_fn1 = nn.CrossEntropyLoss().to(device=device)\n",
        "loss_fn2 = nn.CrossEntropyLoss().to(device=device)\n",
        "optimizer1 = opt.Adam(params=my_model_attack.parameters(),lr=learning_rate)\n",
        "optimizer2 = opt.Adam(params=my_model_label.parameters(),lr=learning_rate)"
      ]
    },
    {
      "cell_type": "markdown",
      "metadata": {
        "id": "4JYcovfYlpHM"
      },
      "source": [
        "# **train attack cat**"
      ]
    },
    {
      "cell_type": "code",
      "execution_count": 12,
      "metadata": {
        "id": "Qmw8w1eTkeBu",
        "colab": {
          "base_uri": "https://localhost:8080/"
        },
        "outputId": "75b399d7-3d67-433d-a45a-2431826bdd31"
      },
      "outputs": [
        {
          "output_type": "stream",
          "name": "stdout",
          "text": [
            "Epoch: 0, loss: 0.6316\n",
            "Epoch: 50, loss: 0.3968\n",
            "Epoch: 100, loss: 0.3288\n",
            "Epoch: 150, loss: 0.2839\n",
            "Epoch: 200, loss: 0.2938\n",
            "Epoch: 250, loss: 0.2316\n",
            "Epoch: 300, loss: 0.2557\n",
            "Epoch: 350, loss: 0.2103\n",
            "Epoch: 400, loss: 0.2850\n",
            "Epoch: 450, loss: 0.2138\n",
            "Epoch: 500, loss: 0.2792\n"
          ]
        }
      ],
      "source": [
        "for epoch in range(num_epoch+1):\n",
        "\n",
        "    for batch_x, batch_y in train_attack_cat_dataloader:\n",
        "\n",
        "        batch_x = torch.reshape(batch_x, (batch_x.shape[0], 1, batch_x.shape[1])) #RuntimeError: For unbatched 2-D input, hx and cx should also be 2-D but got (3-D, 3-D) tensors\n",
        "        \n",
        "        batch_x = batch_x.to(device)\n",
        "        batch_y = batch_y.to(device)\n",
        "\n",
        "        optimizer1.zero_grad()\n",
        "        loss1 = loss_fn1(my_model_attack(batch_x) , batch_y)\n",
        "        loss1.backward() \n",
        "        optimizer1.step()\n",
        "\n",
        "    if epoch % 50 == 0:\n",
        "         print(\"Epoch: %d, loss: %.4f\" % (epoch, loss1.item())) "
      ]
    },
    {
      "cell_type": "markdown",
      "metadata": {
        "id": "PQaRCMJPls5N"
      },
      "source": [
        "# **test attack cat**"
      ]
    },
    {
      "cell_type": "code",
      "execution_count": 13,
      "metadata": {
        "id": "QrtYzVT4loMQ",
        "colab": {
          "base_uri": "https://localhost:8080/"
        },
        "outputId": "67203e83-528b-4030-f438-7053288a3799"
      },
      "outputs": [
        {
          "output_type": "stream",
          "name": "stdout",
          "text": [
            "acc : 80.63%\n"
          ]
        }
      ],
      "source": [
        "correct = 0\n",
        "\n",
        "for batch_x, labl in test_attack_cat_dataloader:\n",
        "  \n",
        "    batch_x = torch.reshape(batch_x, (batch_x.shape[0], 1, batch_x.shape[1])) #RuntimeError: For unbatched 2-D input, hx and cx should also be 2-D but got (3-D, 3-D) tensors\n",
        "  \n",
        "    batch_x = batch_x.to(device)\n",
        "    labl = labl.to(device)\n",
        "\n",
        "    out = my_model_attack(batch_x)\n",
        "    _,predicted = torch.max(out,1)\n",
        "    correct += torch.sum(predicted == labl)\n",
        "\n",
        "print(\"acc : %.2f\" % (100.*correct / len(test_attack_cat)),end=\"\")\n",
        "print(\"%\")"
      ]
    },
    {
      "cell_type": "markdown",
      "metadata": {
        "id": "pLqOLtA6tQht"
      },
      "source": [
        "# **train label**"
      ]
    },
    {
      "cell_type": "code",
      "execution_count": 14,
      "metadata": {
        "id": "Xm1cu1GhtMJO",
        "colab": {
          "base_uri": "https://localhost:8080/"
        },
        "outputId": "9af74678-2872-4060-b182-c60c92cf4102"
      },
      "outputs": [
        {
          "output_type": "stream",
          "name": "stdout",
          "text": [
            "Epoch: 0, loss: 0.1490\n",
            "Epoch: 50, loss: 0.1092\n",
            "Epoch: 100, loss: 0.0810\n",
            "Epoch: 150, loss: 0.0674\n",
            "Epoch: 200, loss: 0.0436\n",
            "Epoch: 250, loss: 0.0494\n",
            "Epoch: 300, loss: 0.0254\n",
            "Epoch: 350, loss: 0.0448\n",
            "Epoch: 400, loss: 0.0289\n",
            "Epoch: 450, loss: 0.0217\n",
            "Epoch: 500, loss: 0.0337\n"
          ]
        }
      ],
      "source": [
        "for epoch in range(num_epoch+1):\n",
        "\n",
        "    for batch_x, batch_y in train_label_dataloader:\n",
        "\n",
        "        batch_x = torch.reshape(batch_x, (batch_x.shape[0], 1, batch_x.shape[1])) #RuntimeError: For unbatched 2-D input, hx and cx should also be 2-D but got (3-D, 3-D) tensors\n",
        "        \n",
        "        batch_x = batch_x.to(device)\n",
        "        batch_y = batch_y.to(device)\n",
        "\n",
        "        optimizer2.zero_grad()\n",
        "        loss2 = loss_fn2(my_model_label(batch_x) , batch_y)\n",
        "        loss2.backward() \n",
        "        optimizer2.step()\n",
        "\n",
        "    if epoch % 50 == 0:\n",
        "         print(\"Epoch: %d, loss: %.4f\" % (epoch, loss2.item())) "
      ]
    },
    {
      "cell_type": "markdown",
      "metadata": {
        "id": "Ig7VBqU0tfZd"
      },
      "source": [
        "# **test label**"
      ]
    },
    {
      "cell_type": "code",
      "execution_count": 15,
      "metadata": {
        "id": "a7u2bQ0WtiG2",
        "colab": {
          "base_uri": "https://localhost:8080/"
        },
        "outputId": "2270eb50-ab84-4c6a-c431-96fac53ebc5d"
      },
      "outputs": [
        {
          "output_type": "stream",
          "name": "stdout",
          "text": [
            "acc : 93.25%\n"
          ]
        }
      ],
      "source": [
        "correct = 0\n",
        "\n",
        "for batch_x, labl in test_label_dataloader:\n",
        "\n",
        "    batch_x = torch.reshape(batch_x, (batch_x.shape[0], 1, batch_x.shape[1])) #RuntimeError: For unbatched 2-D input, hx and cx should also be 2-D but got (3-D, 3-D) tensors\n",
        "\n",
        "    batch_x = batch_x.to(device)\n",
        "    labl = labl.to(device)\n",
        "  \n",
        "    out = my_model_label(batch_x)\n",
        "    _,predicted = torch.max(out,1)\n",
        "    correct += torch.sum(predicted == labl)\n",
        "\n",
        "print(\"acc : %.2f\" % (100.*correct / len(test_label)),end=\"\")\n",
        "print(\"%\")"
      ]
    }
  ],
  "metadata": {
    "accelerator": "GPU",
    "colab": {
      "collapsed_sections": [],
      "provenance": []
    },
    "gpuClass": "standard",
    "kernelspec": {
      "display_name": "Python 3",
      "name": "python3"
    },
    "language_info": {
      "name": "python"
    }
  },
  "nbformat": 4,
  "nbformat_minor": 0
}