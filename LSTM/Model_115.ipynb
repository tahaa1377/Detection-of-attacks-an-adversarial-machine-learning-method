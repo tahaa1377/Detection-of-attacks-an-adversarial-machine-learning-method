{
  "cells": [
    {
      "cell_type": "code",
      "execution_count": 1,
      "metadata": {
        "id": "Ff1b4PxtBQuc"
      },
      "outputs": [],
      "source": [
        "num_epoch = 500      \n",
        "learning_rate = 0.01\n",
        "batch_size = 2000\n",
        "\n",
        "hidden_size = 16 #number of features in hidden state\n",
        "num_layers = 4  #number of stacked lstm layers\n",
        "bidirectional = True\n",
        "drop_out = 0.5\n",
        "bidirectional_forward_backward = 2 if bidirectional else 1\n",
        "\n",
        "input_size = 41 #number of features\n",
        "num_classes_attack_cat = 10 #number of output classes \n",
        "num_classes_label = 2       #number of output classes "
      ]
    },
    {
      "cell_type": "code",
      "source": [
        "from google.colab import drive\n",
        "drive.mount('/content/drive')"
      ],
      "metadata": {
        "colab": {
          "base_uri": "https://localhost:8080/"
        },
        "id": "0Gua0hky6SDJ",
        "outputId": "0dc15f81-1b43-448f-db5b-80e2284f64df"
      },
      "execution_count": 2,
      "outputs": [
        {
          "output_type": "stream",
          "name": "stdout",
          "text": [
            "Drive already mounted at /content/drive; to attempt to forcibly remount, call drive.mount(\"/content/drive\", force_remount=True).\n"
          ]
        }
      ]
    },
    {
      "cell_type": "code",
      "execution_count": 3,
      "metadata": {
        "colab": {
          "base_uri": "https://localhost:8080/"
        },
        "id": "hZiaj4uT24DH",
        "outputId": "45648c9b-d395-49bf-f6d1-f3677bdd81bc"
      },
      "outputs": [
        {
          "output_type": "stream",
          "name": "stdout",
          "text": [
            "GPU\n"
          ]
        }
      ],
      "source": [
        "import pandas as pd\n",
        "from matplotlib import pyplot as plt\n",
        "import numpy as np\n",
        "from torch.utils.data.dataset import Dataset\n",
        "from torch.utils.data import random_split, DataLoader\n",
        "import torch\n",
        "from sklearn.preprocessing import LabelEncoder\n",
        "from sklearn import preprocessing\n",
        "import torch.nn as nn\n",
        "import torch.nn.functional as F\n",
        "import torch.optim as opt\n",
        "from torch.autograd import Variable \n",
        "\n",
        "# GPU OR CPU\n",
        "if torch.cuda.is_available():\n",
        "    device = torch.device(\"cuda:0\")\n",
        "    print(\"GPU\")\n",
        "else:\n",
        "    device = torch.device(\"cpu\")\n",
        "    print(\"CPU\")"
      ]
    },
    {
      "cell_type": "code",
      "execution_count": 4,
      "metadata": {
        "id": "Sv-R_m6Z1EL5"
      },
      "outputs": [],
      "source": [
        "class DataSet_UNSWNB15_attack_cat(Dataset):\n",
        "\n",
        "    def __init__(self,data_set_path):\n",
        "        df = pd.read_csv(data_set_path)\n",
        "        print(df.attack_cat.value_counts().sort_values().plot(kind = \"barh\"))\n",
        "        \n",
        "        # preprocceing\n",
        "        df.drop(['id',\"Unnamed: 0\",\"service\",\"label\"], axis=1, inplace=True)        \n",
        "        cols = ['attack_cat' ,'proto' ,'state']\n",
        "        df[cols] = df[cols].apply(LabelEncoder().fit_transform)\n",
        "\n",
        "        self.data_array = df.values\n",
        "        self.x = self.data_array[:, :41]\n",
        "        self.y = self.data_array[:, 41]\n",
        "      \n",
        "        # normalaized data\n",
        "        scaler = preprocessing.StandardScaler().fit(self.x)\n",
        "        self.x = scaler.transform(self.x)\n",
        "\n",
        "        self.x = torch.tensor(self.x).float()\n",
        "        self.y = torch.tensor(self.y).long()\n",
        "\n",
        "    def __len__(self):\n",
        "        return len(self.data_array)\n",
        "\n",
        "    def __getitem__(self, item):\n",
        "        sample = (self.x[item, :], self.y[item])\n",
        "        return sample\n",
        "\n",
        "        \n",
        "class DataSet_UNSWNB15_label(Dataset):\n",
        "\n",
        "    def __init__(self,data_set_path):\n",
        "        df = pd.read_csv(data_set_path)\n",
        "        print(df.label.value_counts().sort_values().plot(kind = \"pie\"))\n",
        "\n",
        "        # preprocceing\n",
        "        df.drop(['id',\"Unnamed: 0\",\"service\",\"attack_cat\"], axis=1, inplace=True)\n",
        "        cols = ['proto' ,'state']\n",
        "        df[cols] = df[cols].apply(LabelEncoder().fit_transform)\n",
        "\n",
        "        self.data_array = df.values\n",
        "        self.x = self.data_array[:, :41]\n",
        "        self.y = self.data_array[:, 41]\n",
        "        \n",
        "        # normalaized data\n",
        "        scaler = preprocessing.StandardScaler().fit(self.x)\n",
        "        self.x = scaler.transform(self.x)\n",
        "\n",
        "        self.x = torch.tensor(self.x).float()\n",
        "        self.y = torch.tensor(self.y).long()\n",
        "\n",
        "    def __len__(self):\n",
        "        return len(self.data_array)\n",
        "\n",
        "    def __getitem__(self, item):\n",
        "        sample = (self.x[item, :], self.y[item])\n",
        "        return sample"
      ]
    },
    {
      "cell_type": "code",
      "execution_count": 5,
      "metadata": {
        "colab": {
          "base_uri": "https://localhost:8080/",
          "height": 283
        },
        "id": "UykLrbQZ1R7K",
        "outputId": "08870602-1475-474b-aa11-e68cb59151f1"
      },
      "outputs": [
        {
          "output_type": "stream",
          "name": "stdout",
          "text": [
            "AxesSubplot(0.125,0.125;0.775x0.755)\n"
          ]
        },
        {
          "output_type": "display_data",
          "data": {
            "text/plain": [
              "<Figure size 432x288 with 1 Axes>"
            ],
            "image/png": "[encoded data removed]"
          },
          "metadata": {
            "needs_background": "light"
          }
        }
      ],
      "source": [
        "dataset_attack_cat = DataSet_UNSWNB15_attack_cat(\"/content/drive/MyDrive/datasets/UNSW-NB15/UNSW_NB15.csv\")\n",
        "number_of_test = int(len(dataset_attack_cat)*0.3)\n",
        "number_of_train = len(dataset_attack_cat) - int(len(dataset_attack_cat)*0.3)\n",
        "train_attack_cat ,test_attack_cat = random_split(dataset=dataset_attack_cat, lengths=[number_of_train,number_of_test])\n",
        "\n",
        "train_attack_cat_dataloader = DataLoader(dataset=train_attack_cat ,batch_size=batch_size ,shuffle=True)\n",
        "test_attack_cat_dataloader = DataLoader(dataset=test_attack_cat ,batch_size=batch_size ,shuffle=True)"
      ]
    },
    {
      "cell_type": "code",
      "execution_count": 6,
      "metadata": {
        "colab": {
          "base_uri": "https://localhost:8080/",
          "height": 266
        },
        "id": "LmFY9Q-u29T3",
        "outputId": "01fd8e24-331c-4e8a-9ff0-51d3a8beee1c"
      },
      "outputs": [
        {
          "output_type": "stream",
          "name": "stdout",
          "text": [
            "AxesSubplot(0.260833,0.125;0.503333x0.755)\n"
          ]
        },
        {
          "output_type": "display_data",
          "data": {
            "text/plain": [
              "<Figure size 432x288 with 1 Axes>"
            ],
            "image/png": "[encoded data removed]"
          },
          "metadata": {}
        }
      ],
      "source": [
        "dataset_label = DataSet_UNSWNB15_label(\"/content/drive/MyDrive/datasets/UNSW-NB15/UNSW_NB15.csv\")\n",
        "number_of_test = int(len(dataset_label)*0.3)\n",
        "number_of_train = len(dataset_label) - int(len(dataset_label)*0.3)\n",
        "train_label ,test_label = random_split(dataset=dataset_label, lengths=[number_of_train,number_of_test])\n",
        "\n",
        "train_label_dataloader = DataLoader(dataset=train_label ,batch_size=batch_size ,shuffle=True)\n",
        "test_label_dataloader = DataLoader(dataset=test_label ,batch_size=batch_size ,shuffle=True)"
      ]
    },
    {
      "cell_type": "markdown",
      "metadata": {
        "id": "0HslPLv2IOGd"
      },
      "source": [
        "# **preprocessing ended**\n",
        "\n",
        "# **create model**"
      ]
    },
    {
      "cell_type": "markdown",
      "source": [
        "![bilstm-1.webp](data:image/webp;base64,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)"
      ],
      "metadata": {
        "id": "F2hNvBs6qBQS"
      }
    },
    {
      "cell_type": "code",
      "execution_count": 7,
      "metadata": {
        "id": "oN6DuQbJibuE"
      },
      "outputs": [],
      "source": [
        "class LSTM_Model_attack(nn.Module):\n",
        "    def __init__(self, num_classes, input_size, hidden_size, num_layers):\n",
        "        super(LSTM_Model_attack, self).__init__()\n",
        "        self.num_classes = num_classes #number of classes\n",
        "        self.num_layers = num_layers #number of layers\n",
        "        self.input_size = input_size #input size\n",
        "        self.hidden_size = hidden_size #hidden state\n",
        "\n",
        "        self.lstm = nn.LSTM(input_size=input_size, hidden_size=hidden_size, num_layers=num_layers, batch_first=True,\n",
        "                            bidirectional=bidirectional, dropout=drop_out) #lstm\n",
        "\n",
        "        self.fc = nn.Linear(hidden_size * bidirectional_forward_backward, num_classes) #fully connected last layer\n",
        "                             # 2 => forward and backward for bidirectional\n",
        "    \n",
        "    def forward(self,x):\n",
        "                                                # 2 => forward and backward for bidirectional\n",
        "        h_0 = Variable(torch.zeros(self.num_layers * bidirectional_forward_backward, x.size(0), self.hidden_size)).to(device=device) #hidden state\n",
        "        c_0 = Variable(torch.zeros(self.num_layers * bidirectional_forward_backward, x.size(0), self.hidden_size)).to(device=device) #internal state\n",
        "\n",
        "        out, (hn, cn) = self.lstm(x, (h_0, c_0))\n",
        "        out = self.fc(out[:, -1, :]) \n",
        "        return out\n",
        "\n",
        "\n",
        "class LSTM_Model_label(nn.Module):\n",
        "    def __init__(self, num_classes, input_size, hidden_size, num_layers):\n",
        "        super(LSTM_Model_label, self).__init__()\n",
        "        self.num_classes = num_classes #number of classes\n",
        "        self.num_layers = num_layers #number of layers\n",
        "        self.input_size = input_size #input size\n",
        "        self.hidden_size = hidden_size #hidden state\n",
        "\n",
        "        self.lstm = nn.LSTM(input_size=input_size, hidden_size=hidden_size, num_layers=num_layers, batch_first=True, \n",
        "                            bidirectional=bidirectional, dropout=drop_out) #lstm\n",
        "\n",
        "        self.fc = nn.Linear(hidden_size * bidirectional_forward_backward, num_classes) #fully connected last layer\n",
        "\n",
        "    \n",
        "    def forward(self,x):\n",
        "        h_0 = Variable(torch.zeros(self.num_layers * bidirectional_forward_backward, x.size(0), self.hidden_size)).to(device=device) #hidden state\n",
        "        c_0 = Variable(torch.zeros(self.num_layers * bidirectional_forward_backward, x.size(0), self.hidden_size)).to(device=device) #internal state\n",
        "\n",
        "        out, (hn, cn) = self.lstm(x, (h_0, c_0))\n",
        "        out = self.fc(out[:, -1, :]) \n",
        "        return out\n"
      ]
    },
    {
      "cell_type": "code",
      "execution_count": 8,
      "metadata": {
        "id": "US8JfNI8j3zO",
        "colab": {
          "base_uri": "https://localhost:8080/"
        },
        "outputId": "7aee745c-d0bc-4c12-9d36-f3d6738ce677"
      },
      "outputs": [
        {
          "output_type": "execute_result",
          "data": {
            "text/plain": [
              "LSTM_Model_attack(\n",
              "  (lstm): LSTM(41, 16, num_layers=4, batch_first=True, dropout=0.5, bidirectional=True)\n",
              "  (fc): Linear(in_features=32, out_features=10, bias=True)\n",
              ")"
            ]
          },
          "metadata": {},
          "execution_count": 8
        }
      ],
      "source": [
        "my_model_attack = LSTM_Model_attack(num_classes_attack_cat, input_size, hidden_size, num_layers).to(device=device)\n",
        "my_model_attack"
      ]
    },
    {
      "cell_type": "code",
      "source": [
        "my_model_attack.state_dict()"
      ],
      "metadata": {
        "colab": {
          "base_uri": "https://localhost:8080/"
        },
        "id": "Dq8JkQZ9ukCs",
        "outputId": "0575f1c5-d7b5-4785-c0b4-b9f82fcfc12c"
      },
      "execution_count": 9,
      "outputs": [
        {
          "output_type": "execute_result",
          "data": {
            "text/plain": [
              "OrderedDict([('lstm.weight_ih_l0',\n",
              "              tensor([[ 0.1555, -0.0378, -0.1917,  ..., -0.0027,  0.1869,  0.0842],\n",
              "                      [ 0.1865, -0.2452, -0.0141,  ...,  0.0458, -0.1894, -0.0287],\n",
              "                      [-0.1751, -0.1735, -0.0591,  ..., -0.1876, -0.2276,  0.1715],\n",
              "                      ...,\n",
              "                      [-0.1547,  0.0425, -0.1591,  ..., -0.0579, -0.1561, -0.1111],\n",
              "                      [-0.0113, -0.0219,  0.0754,  ..., -0.0106, -0.0488, -0.2497],\n",
              "                      [ 0.1730,  0.1307, -0.2026,  ...,  0.2238, -0.2372, -0.1164]],\n",
              "                     device='cuda:0')),\n",
              "             ('lstm.weight_hh_l0',\n",
              "              tensor([[-0.1317,  0.0425, -0.1709,  ...,  0.1477, -0.0886,  0.0890],\n",
              "                      [-0.0162,  0.0423,  0.1429,  ..., -0.1877,  0.2300, -0.0370],\n",
              "                      [-0.1588,  0.2483,  0.1992,  ...,  0.1092, -0.1013,  0.1337],\n",
              "                      ...,\n",
              "                      [ 0.1684, -0.0535, -0.1693,  ...,  0.1275, -0.1157,  0.0277],\n",
              "                      [ 0.2432,  0.0284,  0.2400,  ...,  0.2093,  0.2111, -0.1651],\n",
              "                      [ 0.0360,  0.1381, -0.0760,  ..., -0.0040,  0.0299, -0.0694]],\n",
              "                     device='cuda:0')),\n",
              "             ('lstm.bias_ih_l0',\n",
              "              tensor([-0.0491,  0.1031, -0.1949, -0.1066,  0.0771, -0.0607,  0.1270, -0.0081,\n",
              "                      -0.1683, -0.0290, -0.1069, -0.1275, -0.1516,  0.0410, -0.0011,  0.2244,\n",
              "                       0.2318, -0.0144,  0.0698, -0.1064, -0.0309, -0.0349,  0.0309,  0.2306,\n",
              "                       0.2479, -0.0075,  0.2156, -0.1212, -0.0795, -0.0844, -0.1723,  0.1232,\n",
              "                      -0.1607,  0.2167, -0.0942,  0.0551,  0.2332, -0.2251,  0.1191, -0.0463,\n",
              "                      -0.1958, -0.2495, -0.1275,  0.0338, -0.0328, -0.1714,  0.1900,  0.1151,\n",
              "                      -0.1230,  0.2414,  0.2253,  0.1044,  0.0813, -0.0391, -0.2095,  0.1988,\n",
              "                       0.1955, -0.1033, -0.1395, -0.1085, -0.2008, -0.0915,  0.2244,  0.0748],\n",
              "                     device='cuda:0')),\n",
              "             ('lstm.bias_hh_l0',\n",
              "              tensor([-0.2279, -0.1575, -0.1940, -0.0745, -0.1524,  0.1096,  0.0809,  0.2334,\n",
              "                       0.1898,  0.1696,  0.1487,  0.0599, -0.1996, -0.0884,  0.1992, -0.0522,\n",
              "                       0.0576, -0.0472, -0.0707,  0.1165, -0.0905, -0.2239, -0.0062, -0.1780,\n",
              "                       0.1303, -0.0234, -0.0915, -0.1530,  0.2062,  0.0277, -0.0015, -0.1827,\n",
              "                      -0.0578,  0.0955,  0.1277, -0.0295, -0.0933, -0.2251, -0.1305, -0.1169,\n",
              "                      -0.2080,  0.1717, -0.1055, -0.1013, -0.0964,  0.1406,  0.0058, -0.1398,\n",
              "                       0.0672,  0.0788,  0.2418,  0.1124,  0.1094,  0.0308,  0.0943, -0.0950,\n",
              "                      -0.0704, -0.1177, -0.1871, -0.1875,  0.0161,  0.2291,  0.1629, -0.1579],\n",
              "                     device='cuda:0')),\n",
              "             ('lstm.weight_ih_l0_reverse',\n",
              "              tensor([[-0.0303, -0.0367, -0.1445,  ...,  0.0436,  0.1825, -0.0423],\n",
              "                      [-0.0074, -0.2310,  0.1956,  ..., -0.1163,  0.1189,  0.2159],\n",
              "                      [-0.1039, -0.1821,  0.1350,  ..., -0.1441,  0.1206, -0.1924],\n",
              "                      ...,\n",
              "                      [-0.2027, -0.1548,  0.1964,  ...,  0.0393, -0.1631,  0.0061],\n",
              "                      [-0.0229,  0.1497,  0.1392,  ...,  0.0573,  0.1917,  0.2391],\n",
              "                      [-0.0529,  0.0914,  0.2186,  ...,  0.2389,  0.1781,  0.0205]],\n",
              "                     device='cuda:0')),\n",
              "             ('lstm.weight_hh_l0_reverse',\n",
              "              tensor([[ 0.1694,  0.0143,  0.2377,  ...,  0.1769,  0.2442,  0.1193],\n",
              "                      [ 0.2430, -0.1272,  0.2215,  ...,  0.1562, -0.1729,  0.2155],\n",
              "                      [ 0.2159,  0.0443, -0.1253,  ...,  0.1565,  0.1803,  0.0681],\n",
              "                      ...,\n",
              "                      [ 0.1021,  0.2193,  0.2262,  ...,  0.1536,  0.0971, -0.0064],\n",
              "                      [ 0.2214, -0.0941, -0.0359,  ..., -0.1620,  0.0410, -0.0865],\n",
              "                      [ 0.1467,  0.1471,  0.1252,  ..., -0.0297,  0.0472,  0.1625]],\n",
              "                     device='cuda:0')),\n",
              "             ('lstm.bias_ih_l0_reverse',\n",
              "              tensor([ 0.0978,  0.0608, -0.0982, -0.1592,  0.1936,  0.1604,  0.0437, -0.2196,\n",
              "                      -0.1392,  0.2199, -0.1461, -0.1762,  0.2040, -0.0109, -0.2472, -0.0712,\n",
              "                       0.1835, -0.0091,  0.0389,  0.2359, -0.0141, -0.1310,  0.1338, -0.2368,\n",
              "                      -0.2105, -0.0400,  0.1740, -0.0198,  0.1214,  0.0110, -0.0270,  0.2092,\n",
              "                       0.0737,  0.1526,  0.1237, -0.0768,  0.0415, -0.0680, -0.1886,  0.2180,\n",
              "                       0.2428, -0.2342,  0.2319, -0.0692, -0.0611,  0.1035,  0.0488,  0.1772,\n",
              "                      -0.2302, -0.0025, -0.2352,  0.1418,  0.1524, -0.1054,  0.2244, -0.2260,\n",
              "                      -0.0459, -0.2310,  0.0748, -0.0515, -0.2002, -0.1293,  0.1050,  0.0625],\n",
              "                     device='cuda:0')),\n",
              "             ('lstm.bias_hh_l0_reverse',\n",
              "              tensor([-2.1753e-01, -1.0983e-01,  2.3586e-02,  2.3492e-01,  4.8353e-02,\n",
              "                       2.0211e-01, -2.2401e-01, -1.0136e-02, -4.4895e-02,  1.6076e-01,\n",
              "                       4.5059e-02,  6.3291e-02, -2.5630e-06, -1.4200e-02,  1.4158e-01,\n",
              "                      -1.9159e-01,  6.6005e-02, -1.3543e-01,  1.5420e-01,  1.6621e-01,\n",
              "                      -1.2941e-01, -5.1791e-02, -1.7303e-01,  9.9440e-02, -6.3765e-02,\n",
              "                       3.6012e-02, -1.0956e-01,  1.8825e-02, -1.0431e-02, -2.3736e-01,\n",
              "                       1.6831e-02,  9.6535e-03,  2.9598e-02,  1.7072e-01,  9.1020e-02,\n",
              "                       3.4196e-02,  4.3663e-02, -1.7867e-01, -2.3537e-01, -7.1915e-03,\n",
              "                       9.9735e-02, -1.1450e-01, -2.2573e-01, -1.0387e-01, -1.7699e-01,\n",
              "                      -2.4964e-01,  1.5965e-01,  8.9692e-02,  1.1288e-01,  5.3740e-02,\n",
              "                      -8.4286e-02,  1.1429e-01,  2.3333e-01, -9.1692e-03, -4.4082e-02,\n",
              "                      -1.4791e-01,  1.4963e-01,  2.3116e-01, -1.9110e-01, -1.9604e-01,\n",
              "                       1.9304e-02,  2.1890e-01, -1.5501e-01,  1.5094e-01], device='cuda:0')),\n",
              "             ('lstm.weight_ih_l1',\n",
              "              tensor([[-2.9749e-02,  4.9248e-02,  3.5530e-02,  ...,  1.5817e-01,\n",
              "                       -7.3198e-02, -1.4577e-01],\n",
              "                      [-2.0382e-01, -1.7923e-01,  4.3315e-02,  ...,  2.4902e-01,\n",
              "                       -3.1835e-02, -6.0390e-02],\n",
              "                      [-7.0146e-03, -2.1243e-04, -1.1894e-02,  ..., -2.3910e-01,\n",
              "                        1.4672e-01, -7.4891e-02],\n",
              "                      ...,\n",
              "                      [-1.1687e-01, -1.4759e-01,  1.3630e-01,  ..., -1.4242e-01,\n",
              "                        1.0633e-01, -1.0164e-01],\n",
              "                      [-2.4203e-01, -1.9010e-01,  1.5565e-01,  ..., -2.4109e-01,\n",
              "                       -1.5193e-01, -2.1180e-01],\n",
              "                      [ 2.0577e-01,  1.2450e-01, -9.3562e-02,  ...,  5.9912e-02,\n",
              "                        2.3698e-01,  1.4161e-01]], device='cuda:0')),\n",
              "             ('lstm.weight_hh_l1',\n",
              "              tensor([[ 0.1744, -0.2293,  0.2465,  ..., -0.1070,  0.0928,  0.0469],\n",
              "                      [ 0.1626, -0.2059, -0.0061,  ...,  0.0822,  0.2479, -0.1540],\n",
              "                      [ 0.0879, -0.2487, -0.1655,  ...,  0.1139,  0.1496, -0.0124],\n",
              "                      ...,\n",
              "                      [ 0.1212,  0.0709, -0.0138,  ..., -0.1944,  0.2324, -0.0045],\n",
              "                      [-0.1580, -0.2320, -0.1426,  ...,  0.2065, -0.1827,  0.2170],\n",
              "                      [-0.1339, -0.0515, -0.1140,  ..., -0.0504, -0.1899,  0.0015]],\n",
              "                     device='cuda:0')),\n",
              "             ('lstm.bias_ih_l1',\n",
              "              tensor([ 0.1695, -0.2103,  0.0756, -0.1443,  0.2399,  0.0213,  0.2430, -0.1055,\n",
              "                      -0.1908, -0.2315, -0.0513, -0.2089, -0.1935,  0.2027, -0.1024, -0.1851,\n",
              "                      -0.1795,  0.0771,  0.1511, -0.1754,  0.1316,  0.1625, -0.0453,  0.0792,\n",
              "                       0.2131,  0.1395, -0.2458, -0.1545, -0.1246,  0.2414,  0.2245,  0.1417,\n",
              "                       0.1433, -0.0072, -0.2288,  0.2243, -0.0757,  0.2490, -0.1637,  0.2319,\n",
              "                      -0.1942,  0.0944,  0.0963, -0.0151,  0.1736, -0.2252,  0.0182,  0.2105,\n",
              "                      -0.1993, -0.0701,  0.0051, -0.0181,  0.0499,  0.0808, -0.1622, -0.2126,\n",
              "                       0.0565, -0.0514, -0.1529,  0.1412,  0.1698,  0.1883,  0.0455,  0.1699],\n",
              "                     device='cuda:0')),\n",
              "             ('lstm.bias_hh_l1',\n",
              "              tensor([-0.2213,  0.1619,  0.1679,  0.2196,  0.0819,  0.1800, -0.0894,  0.1007,\n",
              "                      -0.0152,  0.1720,  0.2430,  0.1904, -0.0819, -0.0181, -0.2438, -0.1224,\n",
              "                       0.0174,  0.2066, -0.1540,  0.0114, -0.0591, -0.0282, -0.0962,  0.1250,\n",
              "                       0.2485, -0.1747, -0.0031, -0.0823,  0.2173, -0.2147, -0.2234, -0.1515,\n",
              "                       0.1730,  0.0680,  0.1287, -0.0506, -0.0856,  0.0987,  0.1611,  0.0570,\n",
              "                      -0.0701,  0.0541, -0.1542,  0.1034,  0.0905,  0.0410,  0.0675,  0.1179,\n",
              "                       0.1689, -0.1934, -0.2444, -0.1593,  0.0791, -0.1705,  0.0412, -0.1153,\n",
              "                      -0.0171,  0.1305,  0.2005,  0.2306, -0.1698,  0.1436, -0.0687,  0.0714],\n",
              "                     device='cuda:0')),\n",
              "             ('lstm.weight_ih_l1_reverse',\n",
              "              tensor([[-0.0715, -0.1715, -0.1428,  ...,  0.0265, -0.0630, -0.1814],\n",
              "                      [ 0.2473,  0.0298,  0.0571,  ..., -0.2316,  0.2446, -0.1965],\n",
              "                      [ 0.0610, -0.1379, -0.1707,  ...,  0.0827,  0.2263,  0.0464],\n",
              "                      ...,\n",
              "                      [-0.0699,  0.0336,  0.1548,  ..., -0.0233,  0.1941, -0.2306],\n",
              "                      [-0.1477, -0.2469, -0.0276,  ...,  0.0576,  0.2438, -0.1235],\n",
              "                      [-0.0802,  0.2435, -0.1458,  ...,  0.0803,  0.1445,  0.1574]],\n",
              "                     device='cuda:0')),\n",
              "             ('lstm.weight_hh_l1_reverse',\n",
              "              tensor([[ 0.0976, -0.1066,  0.2312,  ...,  0.2035,  0.1719,  0.1851],\n",
              "                      [-0.0928, -0.1843, -0.0397,  ...,  0.2104,  0.2448,  0.0729],\n",
              "                      [ 0.2298,  0.2204, -0.1198,  ...,  0.2481,  0.2192,  0.0932],\n",
              "                      ...,\n",
              "                      [ 0.0516,  0.0279,  0.0762,  ...,  0.0678,  0.2182,  0.0113],\n",
              "                      [ 0.1612,  0.0359,  0.0293,  ...,  0.2367,  0.1496,  0.1205],\n",
              "                      [ 0.0893, -0.1904,  0.1780,  ..., -0.0114,  0.0811, -0.2299]],\n",
              "                     device='cuda:0')),\n",
              "             ('lstm.bias_ih_l1_reverse',\n",
              "              tensor([ 0.0058, -0.1851,  0.1293,  0.0170,  0.1732, -0.0353, -0.2006,  0.0031,\n",
              "                      -0.2290, -0.0787, -0.1761, -0.1479, -0.1725, -0.0085, -0.1072, -0.0125,\n",
              "                       0.2112, -0.0987, -0.1279, -0.1720, -0.0301,  0.0454,  0.0217, -0.1572,\n",
              "                       0.0009,  0.0898,  0.2401, -0.0149, -0.1484, -0.1619,  0.0772, -0.0574,\n",
              "                      -0.1422,  0.0049,  0.1818,  0.2129, -0.2011, -0.0013,  0.0321,  0.0294,\n",
              "                       0.1264, -0.0629, -0.0948, -0.2015, -0.1268,  0.1393,  0.0938, -0.1263,\n",
              "                      -0.0955, -0.2352, -0.1340,  0.2261, -0.1064,  0.0177,  0.1409, -0.0438,\n",
              "                      -0.1360, -0.1787, -0.0941, -0.0290, -0.1559, -0.0886,  0.0484,  0.0572],\n",
              "                     device='cuda:0')),\n",
              "             ('lstm.bias_hh_l1_reverse',\n",
              "              tensor([-0.2411,  0.0764, -0.2205,  0.0077,  0.1473,  0.0007,  0.1760, -0.0857,\n",
              "                       0.0500,  0.0189,  0.0996,  0.1763,  0.2346, -0.0168, -0.0420, -0.0481,\n",
              "                      -0.1141, -0.0555, -0.0396,  0.1616,  0.0575, -0.0166, -0.2195,  0.1845,\n",
              "                       0.1439, -0.1997, -0.2326,  0.1304, -0.1443,  0.1146, -0.0170, -0.2187,\n",
              "                       0.0779, -0.0774, -0.2163,  0.1755,  0.2492, -0.0143,  0.2127, -0.0430,\n",
              "                      -0.1982,  0.2347,  0.0713, -0.0472,  0.1312,  0.1804, -0.0480,  0.1144,\n",
              "                      -0.1885,  0.0929, -0.1318,  0.1894, -0.0382, -0.0219,  0.1162,  0.1534,\n",
              "                      -0.1952,  0.0941,  0.1051,  0.2490, -0.0395, -0.2277,  0.0595,  0.1430],\n",
              "                     device='cuda:0')),\n",
              "             ('lstm.weight_ih_l2',\n",
              "              tensor([[ 0.1453, -0.2035,  0.1468,  ..., -0.1797,  0.1758,  0.0945],\n",
              "                      [-0.1922, -0.0746, -0.2252,  ..., -0.0814,  0.1290, -0.0516],\n",
              "                      [ 0.0851,  0.0639,  0.1639,  ..., -0.2282, -0.0770, -0.1765],\n",
              "                      ...,\n",
              "                      [-0.0238, -0.1640,  0.0479,  ..., -0.0709, -0.2162, -0.2132],\n",
              "                      [-0.2057,  0.2265, -0.2322,  ..., -0.2220,  0.0975,  0.0953],\n",
              "                      [ 0.1160,  0.1026, -0.0436,  ...,  0.0932, -0.1190,  0.0272]],\n",
              "                     device='cuda:0')),\n",
              "             ('lstm.weight_hh_l2',\n",
              "              tensor([[-0.0251, -0.0126,  0.2232,  ...,  0.0526, -0.2431,  0.1199],\n",
              "                      [ 0.1646, -0.0388,  0.2142,  ..., -0.0130,  0.0665, -0.2216],\n",
              "                      [-0.2042,  0.0496, -0.0799,  ..., -0.0864, -0.2135, -0.0131],\n",
              "                      ...,\n",
              "                      [-0.2061,  0.1598, -0.2021,  ..., -0.1882, -0.1952, -0.0999],\n",
              "                      [-0.1458, -0.1227, -0.1073,  ..., -0.1054, -0.0766,  0.0667],\n",
              "                      [-0.2033,  0.0421,  0.1368,  ..., -0.0783,  0.1168, -0.0042]],\n",
              "                     device='cuda:0')),\n",
              "             ('lstm.bias_ih_l2',\n",
              "              tensor([-0.1933,  0.0964,  0.0032,  0.1366,  0.1582,  0.1046,  0.0680, -0.1783,\n",
              "                       0.1283, -0.1454, -0.1483,  0.0580, -0.0756,  0.1328,  0.1638, -0.2131,\n",
              "                      -0.1988,  0.1561, -0.0235,  0.2364,  0.0884,  0.0057, -0.1282,  0.1917,\n",
              "                      -0.0627,  0.2106,  0.2119, -0.1994,  0.1376, -0.0590,  0.1429, -0.0918,\n",
              "                       0.1066, -0.2267,  0.2443, -0.1640,  0.2246, -0.0550,  0.1962, -0.0136,\n",
              "                      -0.1792, -0.0564, -0.1581,  0.2334,  0.2162, -0.1662, -0.0146,  0.1082,\n",
              "                       0.0989,  0.1445,  0.0815,  0.0861, -0.0058,  0.1067, -0.1900,  0.2410,\n",
              "                       0.0543, -0.2343, -0.1426, -0.2333, -0.1329,  0.0494,  0.1606, -0.1226],\n",
              "                     device='cuda:0')),\n",
              "             ('lstm.bias_hh_l2',\n",
              "              tensor([ 0.1091,  0.0439, -0.2048, -0.1136,  0.1626, -0.0004,  0.0221, -0.0587,\n",
              "                      -0.2217,  0.0826, -0.0746,  0.1404,  0.0638,  0.0587,  0.0625,  0.2091,\n",
              "                       0.1043, -0.0028, -0.1287,  0.1713, -0.2217, -0.1112,  0.0546, -0.1207,\n",
              "                      -0.1662,  0.1490,  0.1825,  0.0487, -0.1330,  0.0100,  0.1546,  0.0356,\n",
              "                       0.0198,  0.0074, -0.2227, -0.2227, -0.1385, -0.0160, -0.1929,  0.1607,\n",
              "                       0.0760,  0.0346, -0.0210, -0.0198, -0.1368, -0.1283,  0.1801,  0.1737,\n",
              "                      -0.2306,  0.2138,  0.0562,  0.2490, -0.2458, -0.1210, -0.1737,  0.1891,\n",
              "                       0.1446,  0.2409,  0.0412, -0.0355, -0.2272, -0.2106, -0.0770,  0.0201],\n",
              "                     device='cuda:0')),\n",
              "             ('lstm.weight_ih_l2_reverse',\n",
              "              tensor([[-0.2049, -0.1078, -0.0168,  ..., -0.0968,  0.0865, -0.1956],\n",
              "                      [ 0.2091,  0.1087, -0.1615,  ..., -0.0271, -0.0284,  0.1457],\n",
              "                      [ 0.0138, -0.0969, -0.1716,  ...,  0.2382, -0.0688,  0.0424],\n",
              "                      ...,\n",
              "                      [ 0.2078, -0.0531, -0.2491,  ..., -0.1899, -0.2158, -0.0023],\n",
              "                      [ 0.0377, -0.1848,  0.2396,  ...,  0.1157, -0.1396,  0.1815],\n",
              "                      [ 0.1031, -0.1076,  0.1999,  ...,  0.2126,  0.2239, -0.0156]],\n",
              "                     device='cuda:0')),\n",
              "             ('lstm.weight_hh_l2_reverse',\n",
              "              tensor([[ 0.0486,  0.1481,  0.1186,  ...,  0.1282, -0.1126, -0.1902],\n",
              "                      [-0.1360,  0.0850, -0.1105,  ...,  0.1037, -0.0864,  0.2206],\n",
              "                      [ 0.1579, -0.1939,  0.2095,  ...,  0.1886, -0.1756,  0.0659],\n",
              "                      ...,\n",
              "                      [-0.2171,  0.1600,  0.1223,  ...,  0.0389,  0.1088, -0.1635],\n",
              "                      [-0.0078,  0.0770,  0.0178,  ...,  0.0480, -0.1357, -0.2388],\n",
              "                      [ 0.0965, -0.1167,  0.0785,  ...,  0.1625,  0.2436, -0.0753]],\n",
              "                     device='cuda:0')),\n",
              "             ('lstm.bias_ih_l2_reverse',\n",
              "              tensor([-0.1931, -0.1030,  0.1170, -0.1684,  0.1150, -0.0530,  0.0294,  0.1358,\n",
              "                      -0.1625,  0.0169,  0.1942,  0.1667, -0.1728, -0.2151, -0.0407, -0.1823,\n",
              "                      -0.1017, -0.2086,  0.2418, -0.0640, -0.1074,  0.1447, -0.2016, -0.2180,\n",
              "                       0.1330,  0.0894,  0.0052,  0.1025,  0.2390, -0.0006,  0.2421, -0.1450,\n",
              "                      -0.0523,  0.2316, -0.1249,  0.1788,  0.1743, -0.1343,  0.0290, -0.1258,\n",
              "                      -0.1600,  0.1116, -0.0188,  0.0247, -0.0644,  0.1500, -0.0266, -0.2093,\n",
              "                       0.1791,  0.2498, -0.1366, -0.1690,  0.1678,  0.0426,  0.0755,  0.0065,\n",
              "                      -0.0426,  0.1078, -0.0395, -0.2498,  0.0769, -0.2431,  0.1010, -0.1546],\n",
              "                     device='cuda:0')),\n",
              "             ('lstm.bias_hh_l2_reverse',\n",
              "              tensor([-0.1764, -0.2408, -0.2006,  0.2437,  0.1101, -0.0620,  0.0294,  0.1252,\n",
              "                       0.0946,  0.1305,  0.0302, -0.0878,  0.1434,  0.1992, -0.2487,  0.0530,\n",
              "                       0.1520, -0.0395,  0.1640,  0.0840, -0.0204,  0.0484, -0.1351,  0.1778,\n",
              "                       0.0648,  0.2260,  0.2484, -0.1820, -0.0826, -0.1766,  0.1637,  0.2344,\n",
              "                      -0.1790,  0.2272,  0.1731,  0.2280, -0.1554,  0.1546,  0.0429, -0.1531,\n",
              "                      -0.1924, -0.0015,  0.1472,  0.0093,  0.1849, -0.1597,  0.0690, -0.2327,\n",
              "                       0.1420, -0.1033,  0.1738, -0.0141, -0.0326, -0.1150, -0.2047,  0.0915,\n",
              "                      -0.2340, -0.0278,  0.0663,  0.1201, -0.0131,  0.1840,  0.1419,  0.1284],\n",
              "                     device='cuda:0')),\n",
              "             ('lstm.weight_ih_l3',\n",
              "              tensor([[-0.2102, -0.1453,  0.0150,  ..., -0.1235, -0.2351,  0.0337],\n",
              "                      [ 0.1595,  0.1382, -0.1482,  ..., -0.0218, -0.2042,  0.1782],\n",
              "                      [ 0.1601, -0.2397, -0.1091,  ..., -0.0525, -0.0394, -0.2458],\n",
              "                      ...,\n",
              "                      [-0.2165,  0.0583,  0.1024,  ...,  0.1199, -0.1393,  0.1254],\n",
              "                      [ 0.1972, -0.0069, -0.1479,  ..., -0.1742, -0.0565, -0.1787],\n",
              "                      [-0.0705, -0.2071, -0.2363,  ..., -0.1273, -0.1170,  0.1223]],\n",
              "                     device='cuda:0')),\n",
              "             ('lstm.weight_hh_l3',\n",
              "              tensor([[ 0.1886, -0.0232, -0.0133,  ...,  0.0167,  0.1810, -0.0582],\n",
              "                      [-0.2140,  0.0391, -0.1594,  ...,  0.1115,  0.2125, -0.0795],\n",
              "                      [ 0.2466, -0.1271, -0.0896,  ...,  0.2490,  0.1988,  0.0871],\n",
              "                      ...,\n",
              "                      [ 0.2381, -0.0373,  0.1556,  ...,  0.1330, -0.0239,  0.0511],\n",
              "                      [ 0.1616,  0.0311, -0.1314,  ..., -0.2232,  0.1570,  0.0303],\n",
              "                      [ 0.2388, -0.0443, -0.2364,  ..., -0.1823, -0.0154, -0.1322]],\n",
              "                     device='cuda:0')),\n",
              "             ('lstm.bias_ih_l3',\n",
              "              tensor([ 1.1225e-01, -2.1353e-01,  1.9264e-01, -1.8080e-01,  6.3809e-02,\n",
              "                      -1.2811e-01,  1.1646e-01, -2.0000e-01, -5.0864e-03,  7.2634e-02,\n",
              "                       1.5714e-01, -2.3406e-01,  1.4209e-01,  2.3605e-01,  1.6443e-01,\n",
              "                      -9.5419e-02,  1.2233e-01,  5.7711e-02, -3.3736e-03, -5.1955e-02,\n",
              "                       1.2632e-01, -1.0397e-01, -2.0055e-01, -2.4624e-01,  1.7130e-01,\n",
              "                       1.3291e-01, -5.7772e-03,  1.7691e-01, -2.0458e-01, -2.1937e-01,\n",
              "                      -1.4439e-01, -1.5984e-01, -1.9960e-01,  2.3863e-01,  2.3005e-01,\n",
              "                       1.3833e-02,  2.2629e-01,  1.7462e-01,  8.4246e-02, -1.9869e-01,\n",
              "                       6.5340e-02,  9.5560e-02,  5.2253e-02, -2.3233e-01,  1.2805e-01,\n",
              "                      -1.1173e-04, -3.4225e-02, -6.6366e-02,  2.3865e-01, -1.6065e-01,\n",
              "                      -1.7375e-01, -1.8362e-01,  1.1792e-01, -8.5457e-02, -5.4865e-02,\n",
              "                       1.9722e-01,  9.4964e-02, -2.4959e-01, -1.5479e-01,  2.3388e-01,\n",
              "                      -1.6528e-01, -1.2487e-02, -7.7102e-02,  2.3014e-01], device='cuda:0')),\n",
              "             ('lstm.bias_hh_l3',\n",
              "              tensor([-0.1757,  0.1933,  0.1212,  0.1012, -0.0340,  0.0970,  0.1407,  0.0730,\n",
              "                      -0.0034, -0.1425,  0.2308, -0.1023,  0.2264,  0.1878, -0.1495,  0.1184,\n",
              "                      -0.2093, -0.0309, -0.1445, -0.1003, -0.0595, -0.1602, -0.0162, -0.1019,\n",
              "                      -0.1601, -0.2449, -0.1540,  0.2267,  0.1314, -0.0396, -0.1483,  0.0553,\n",
              "                      -0.1152,  0.0252,  0.2036, -0.1609,  0.2307,  0.0830,  0.2426,  0.0701,\n",
              "                       0.0453,  0.0652,  0.1243, -0.0445,  0.0384,  0.1608, -0.1571, -0.1412,\n",
              "                      -0.1191,  0.2243,  0.0188,  0.0474,  0.2253,  0.1886, -0.0678,  0.0139,\n",
              "                       0.2366, -0.0964,  0.0941,  0.0777, -0.1879,  0.1499, -0.2128, -0.2007],\n",
              "                     device='cuda:0')),\n",
              "             ('lstm.weight_ih_l3_reverse',\n",
              "              tensor([[ 0.0123, -0.0114, -0.0869,  ...,  0.2023,  0.1872,  0.0883],\n",
              "                      [-0.0716, -0.1388,  0.1583,  ..., -0.1977,  0.2365,  0.0024],\n",
              "                      [ 0.0760,  0.2296,  0.2159,  ..., -0.2093, -0.0375,  0.1515],\n",
              "                      ...,\n",
              "                      [-0.2402, -0.0581,  0.0954,  ..., -0.0082, -0.1533, -0.2169],\n",
              "                      [-0.1990,  0.1033, -0.0930,  ..., -0.2030, -0.0125,  0.2111],\n",
              "                      [-0.0324,  0.1599,  0.0639,  ...,  0.0977,  0.0503, -0.0610]],\n",
              "                     device='cuda:0')),\n",
              "             ('lstm.weight_hh_l3_reverse',\n",
              "              tensor([[-0.0621, -0.0996,  0.0865,  ...,  0.0999, -0.2340, -0.0070],\n",
              "                      [ 0.1902,  0.0177,  0.0540,  ..., -0.0811,  0.0279,  0.0060],\n",
              "                      [ 0.2198, -0.1633,  0.0548,  ..., -0.0197, -0.2461,  0.2173],\n",
              "                      ...,\n",
              "                      [ 0.0817, -0.1111,  0.0132,  ..., -0.1758,  0.2399, -0.1394],\n",
              "                      [-0.1424, -0.1369,  0.0477,  ...,  0.1628, -0.1930,  0.0480],\n",
              "                      [-0.1139, -0.1823, -0.2321,  ..., -0.1641,  0.0073,  0.1137]],\n",
              "                     device='cuda:0')),\n",
              "             ('lstm.bias_ih_l3_reverse',\n",
              "              tensor([-0.0636,  0.1768, -0.0716, -0.2229,  0.1721, -0.2083,  0.1748, -0.1381,\n",
              "                      -0.0990,  0.1590,  0.1417,  0.1580, -0.2121,  0.2003,  0.0398,  0.1565,\n",
              "                      -0.0502,  0.0598,  0.0566, -0.2095,  0.0740, -0.2306,  0.1037, -0.0103,\n",
              "                      -0.0151,  0.1528,  0.0793,  0.0017, -0.0086, -0.0192,  0.1868,  0.1208,\n",
              "                      -0.0897, -0.1013,  0.1433,  0.2162,  0.0190, -0.1833,  0.0241,  0.2098,\n",
              "                      -0.2245,  0.0738,  0.1138, -0.1086, -0.0259,  0.0117, -0.1082,  0.2002,\n",
              "                      -0.0427, -0.0525,  0.0663, -0.1612,  0.0331, -0.2292, -0.2290,  0.2066,\n",
              "                      -0.1026, -0.0017, -0.0363,  0.1679,  0.0831, -0.0816,  0.0049, -0.0042],\n",
              "                     device='cuda:0')),\n",
              "             ('lstm.bias_hh_l3_reverse',\n",
              "              tensor([ 0.1249,  0.2460, -0.1264, -0.1786, -0.2351,  0.2318, -0.0169,  0.1041,\n",
              "                      -0.1161,  0.1817,  0.2401, -0.2421, -0.1024,  0.2186, -0.2277,  0.2381,\n",
              "                       0.0685, -0.2232,  0.1754, -0.2086, -0.1864,  0.1504, -0.2379, -0.1380,\n",
              "                      -0.1906, -0.0589,  0.0470, -0.0583, -0.2244,  0.1428,  0.1698, -0.2049,\n",
              "                       0.1227,  0.0907,  0.2006,  0.1341, -0.1260, -0.1914,  0.0923, -0.0015,\n",
              "                       0.1456,  0.1985,  0.2427,  0.1623,  0.0230,  0.0299,  0.1040, -0.2124,\n",
              "                      -0.1548,  0.0437, -0.1353,  0.1467,  0.1292, -0.0624, -0.0446, -0.2464,\n",
              "                       0.1679, -0.2285, -0.1242,  0.1737,  0.0372, -0.1990,  0.2411, -0.1857],\n",
              "                     device='cuda:0')),\n",
              "             ('fc.weight',\n",
              "              tensor([[ 0.0634,  0.1547,  0.0658, -0.0110,  0.0826, -0.0348, -0.1756, -0.0180,\n",
              "                       -0.0727, -0.1333,  0.0603,  0.0576,  0.0286, -0.0306, -0.0061,  0.0301,\n",
              "                        0.1691,  0.0920,  0.0798, -0.0829,  0.1358, -0.1364, -0.0256,  0.0340,\n",
              "                       -0.0815, -0.0911, -0.1306, -0.0925, -0.1279,  0.1364, -0.1411, -0.0046],\n",
              "                      [ 0.0464, -0.1460,  0.0449,  0.0490,  0.0474,  0.0343, -0.0719, -0.0079,\n",
              "                        0.1767,  0.0009,  0.1247,  0.0538, -0.1755,  0.1337,  0.1217,  0.1374,\n",
              "                       -0.0255,  0.1152, -0.0188, -0.0653,  0.1161, -0.1335,  0.0103, -0.0354,\n",
              "                        0.0221, -0.1180, -0.0810,  0.1200,  0.0162, -0.1482, -0.1412,  0.0673],\n",
              "                      [ 0.0422, -0.0561,  0.0211,  0.0482, -0.1371,  0.0571,  0.1309,  0.1595,\n",
              "                       -0.0756,  0.0502,  0.1627,  0.0201, -0.0512,  0.1547, -0.0633,  0.0454,\n",
              "                       -0.1029,  0.0115, -0.0121, -0.1131, -0.0002,  0.1050, -0.1324, -0.1067,\n",
              "                        0.0597,  0.1727, -0.1633, -0.1002,  0.0696,  0.0286,  0.1116,  0.1524],\n",
              "                      [ 0.0685, -0.0368,  0.0768, -0.0610, -0.0984, -0.0216, -0.1084,  0.1190,\n",
              "                        0.1585,  0.1130, -0.0944,  0.0595,  0.0847, -0.0141,  0.0214,  0.1756,\n",
              "                       -0.1550, -0.1527,  0.0680,  0.0932,  0.0319, -0.1272, -0.0120, -0.0053,\n",
              "                        0.0831, -0.1087, -0.1256, -0.0469,  0.1341, -0.1141,  0.0936, -0.1212],\n",
              "                      [-0.0193,  0.0430, -0.1272, -0.0807,  0.1002,  0.1747, -0.1094, -0.1591,\n",
              "                       -0.1542, -0.1093, -0.0527, -0.0883, -0.1213, -0.1431, -0.0874,  0.0541,\n",
              "                        0.0186,  0.0782, -0.1677, -0.1318, -0.0593, -0.1141,  0.1029, -0.0315,\n",
              "                       -0.0323, -0.0938, -0.1259,  0.0836,  0.1412, -0.0677,  0.0337, -0.0135],\n",
              "                      [ 0.1150,  0.1208, -0.0825,  0.1748,  0.1192, -0.0268, -0.0590,  0.0740,\n",
              "                        0.0253,  0.1640, -0.0294,  0.0175,  0.1428, -0.0917, -0.1597,  0.1251,\n",
              "                        0.0605,  0.1306,  0.1200,  0.0827, -0.1085, -0.0075,  0.0348,  0.0749,\n",
              "                        0.0465,  0.0988, -0.1014,  0.1511, -0.0675, -0.1722, -0.1073,  0.0524],\n",
              "                      [ 0.1574, -0.0620,  0.1181, -0.1528,  0.0737,  0.0068, -0.0403,  0.1370,\n",
              "                       -0.0128,  0.1350,  0.1053, -0.0663,  0.0163, -0.0834, -0.1690, -0.1381,\n",
              "                       -0.1065, -0.1361, -0.1578, -0.0086, -0.0906, -0.1425, -0.0148,  0.0030,\n",
              "                       -0.1597,  0.1028,  0.0360,  0.0538, -0.1294,  0.0123,  0.1581, -0.1059],\n",
              "                      [ 0.0183, -0.0546,  0.1212, -0.0704,  0.1306,  0.1422,  0.1075,  0.1657,\n",
              "                       -0.0838,  0.1326,  0.1245,  0.1230,  0.1711, -0.1101, -0.0230, -0.0135,\n",
              "                       -0.0317, -0.0734, -0.0493,  0.0214, -0.0862, -0.0166,  0.1452, -0.1167,\n",
              "                        0.0512,  0.1532,  0.0090, -0.0649, -0.0347,  0.0392, -0.1634, -0.0068],\n",
              "                      [-0.1739,  0.1739,  0.1443,  0.1124, -0.0948, -0.1049, -0.1691, -0.0374,\n",
              "                        0.1128,  0.1322, -0.1598,  0.0317,  0.1420,  0.0700,  0.1071,  0.0703,\n",
              "                        0.1343, -0.0514,  0.1305, -0.1481,  0.0963, -0.1130,  0.0515, -0.0675,\n",
              "                       -0.1576, -0.0545, -0.0845,  0.1353, -0.0972, -0.0459, -0.0386,  0.1321],\n",
              "                      [ 0.1296,  0.0675,  0.1613,  0.0598,  0.1491,  0.0762,  0.1747,  0.0129,\n",
              "                        0.0442,  0.0864,  0.1445,  0.1454,  0.1003, -0.0303,  0.1318, -0.0229,\n",
              "                       -0.0995, -0.1426,  0.1429, -0.1177, -0.1102,  0.0426, -0.0099,  0.1755,\n",
              "                       -0.0720,  0.1465,  0.0222, -0.0311,  0.0440,  0.0234, -0.1304,  0.1749]],\n",
              "                     device='cuda:0')),\n",
              "             ('fc.bias',\n",
              "              tensor([-0.0022,  0.1415, -0.0068,  0.0419,  0.0425,  0.0308, -0.1037, -0.1098,\n",
              "                       0.1045,  0.1270], device='cuda:0'))])"
            ]
          },
          "metadata": {},
          "execution_count": 9
        }
      ]
    },
    {
      "cell_type": "code",
      "execution_count": 10,
      "metadata": {
        "id": "3w9QW9Lfp1aV",
        "colab": {
          "base_uri": "https://localhost:8080/"
        },
        "outputId": "8f3cb110-b2be-43ed-f176-3f9b2562a580"
      },
      "outputs": [
        {
          "output_type": "execute_result",
          "data": {
            "text/plain": [
              "LSTM_Model_label(\n",
              "  (lstm): LSTM(41, 16, num_layers=4, batch_first=True, dropout=0.5, bidirectional=True)\n",
              "  (fc): Linear(in_features=32, out_features=2, bias=True)\n",
              ")"
            ]
          },
          "metadata": {},
          "execution_count": 10
        }
      ],
      "source": [
        "my_model_label = LSTM_Model_label(num_classes_label, input_size, hidden_size, num_layers).to(device=device)\n",
        "my_model_label"
      ]
    },
    {
      "cell_type": "markdown",
      "metadata": {
        "id": "Cey1CId-jjis"
      },
      "source": [
        "# **optimizer and loss function**"
      ]
    },
    {
      "cell_type": "code",
      "execution_count": 11,
      "metadata": {
        "id": "WNuQFMAekNDH"
      },
      "outputs": [],
      "source": [
        "loss_fn1 = nn.CrossEntropyLoss().to(device=device)\n",
        "loss_fn2 = nn.CrossEntropyLoss().to(device=device)\n",
        "optimizer1 = opt.Adam(params=my_model_attack.parameters(),lr=learning_rate)\n",
        "optimizer2 = opt.Adam(params=my_model_label.parameters(),lr=learning_rate)"
      ]
    },
    {
      "cell_type": "markdown",
      "metadata": {
        "id": "4JYcovfYlpHM"
      },
      "source": [
        "# **train attack cat**"
      ]
    },
    {
      "cell_type": "code",
      "execution_count": 12,
      "metadata": {
        "id": "Qmw8w1eTkeBu",
        "colab": {
          "base_uri": "https://localhost:8080/"
        },
        "outputId": "d1bcfe10-2d82-44a9-e201-cbb830f6b1c8"
      },
      "outputs": [
        {
          "output_type": "stream",
          "name": "stdout",
          "text": [
            "Epoch: 0, loss: 0.7372\n",
            "Epoch: 50, loss: 0.5506\n",
            "Epoch: 100, loss: 0.4743\n",
            "Epoch: 150, loss: 0.5175\n",
            "Epoch: 200, loss: 0.4702\n",
            "Epoch: 250, loss: 0.4605\n",
            "Epoch: 300, loss: 0.5837\n",
            "Epoch: 350, loss: 0.4789\n",
            "Epoch: 400, loss: 0.4795\n",
            "Epoch: 450, loss: 0.5193\n",
            "Epoch: 500, loss: 0.4279\n"
          ]
        }
      ],
      "source": [
        "for epoch in range(num_epoch+1):\n",
        "\n",
        "    for batch_x, batch_y in train_attack_cat_dataloader:\n",
        "\n",
        "        batch_x = torch.reshape(batch_x, (batch_x.shape[0], 1, batch_x.shape[1])) #RuntimeError: For unbatched 2-D input, hx and cx should also be 2-D but got (3-D, 3-D) tensors\n",
        "        \n",
        "        batch_x = batch_x.to(device)\n",
        "        batch_y = batch_y.to(device)\n",
        "\n",
        "        optimizer1.zero_grad()\n",
        "        loss1 = loss_fn1(my_model_attack(batch_x) , batch_y)\n",
        "        loss1.backward() \n",
        "        optimizer1.step()\n",
        "\n",
        "    if epoch % 50 == 0:\n",
        "         print(\"Epoch: %d, loss: %.4f\" % (epoch, loss1.item())) "
      ]
    },
    {
      "cell_type": "markdown",
      "metadata": {
        "id": "PQaRCMJPls5N"
      },
      "source": [
        "# **test attack cat**"
      ]
    },
    {
      "cell_type": "code",
      "execution_count": 13,
      "metadata": {
        "id": "QrtYzVT4loMQ",
        "colab": {
          "base_uri": "https://localhost:8080/"
        },
        "outputId": "981d2a81-b2e0-4676-b12c-e90fc9b51341"
      },
      "outputs": [
        {
          "output_type": "stream",
          "name": "stdout",
          "text": [
            "acc : 80.21%\n"
          ]
        }
      ],
      "source": [
        "correct = 0\n",
        "\n",
        "for batch_x, labl in test_attack_cat_dataloader:\n",
        "  \n",
        "    batch_x = torch.reshape(batch_x, (batch_x.shape[0], 1, batch_x.shape[1])) #RuntimeError: For unbatched 2-D input, hx and cx should also be 2-D but got (3-D, 3-D) tensors\n",
        "  \n",
        "    batch_x = batch_x.to(device)\n",
        "    labl = labl.to(device)\n",
        "\n",
        "    out = my_model_attack(batch_x)\n",
        "    _,predicted = torch.max(out,1)\n",
        "    correct += torch.sum(predicted == labl)\n",
        "\n",
        "print(\"acc : %.2f\" % (100.*correct / len(test_attack_cat)),end=\"\")\n",
        "print(\"%\")"
      ]
    },
    {
      "cell_type": "markdown",
      "metadata": {
        "id": "pLqOLtA6tQht"
      },
      "source": [
        "# **train label**"
      ]
    },
    {
      "cell_type": "code",
      "execution_count": 14,
      "metadata": {
        "id": "Xm1cu1GhtMJO",
        "colab": {
          "base_uri": "https://localhost:8080/"
        },
        "outputId": "18f24f9a-cc95-448a-b635-59d51924db49"
      },
      "outputs": [
        {
          "output_type": "stream",
          "name": "stdout",
          "text": [
            "Epoch: 0, loss: 0.1576\n",
            "Epoch: 50, loss: 0.0840\n",
            "Epoch: 100, loss: 0.1618\n",
            "Epoch: 150, loss: 0.0994\n",
            "Epoch: 200, loss: 0.1453\n",
            "Epoch: 250, loss: 0.1441\n",
            "Epoch: 300, loss: 0.1237\n",
            "Epoch: 350, loss: 0.1335\n",
            "Epoch: 400, loss: 0.1292\n",
            "Epoch: 450, loss: 0.1441\n",
            "Epoch: 500, loss: 0.1222\n"
          ]
        }
      ],
      "source": [
        "for epoch in range(num_epoch+1):\n",
        "\n",
        "    for batch_x, batch_y in train_label_dataloader:\n",
        "\n",
        "        batch_x = torch.reshape(batch_x, (batch_x.shape[0], 1, batch_x.shape[1])) #RuntimeError: For unbatched 2-D input, hx and cx should also be 2-D but got (3-D, 3-D) tensors\n",
        "        \n",
        "        batch_x = batch_x.to(device)\n",
        "        batch_y = batch_y.to(device)\n",
        "\n",
        "        optimizer2.zero_grad()\n",
        "        loss2 = loss_fn2(my_model_label(batch_x) , batch_y)\n",
        "        loss2.backward() \n",
        "        optimizer2.step()\n",
        "\n",
        "    if epoch % 50 == 0:\n",
        "         print(\"Epoch: %d, loss: %.4f\" % (epoch, loss2.item())) "
      ]
    },
    {
      "cell_type": "markdown",
      "metadata": {
        "id": "Ig7VBqU0tfZd"
      },
      "source": [
        "# **test label**"
      ]
    },
    {
      "cell_type": "code",
      "execution_count": 15,
      "metadata": {
        "id": "a7u2bQ0WtiG2",
        "colab": {
          "base_uri": "https://localhost:8080/"
        },
        "outputId": "896ba7dc-6587-442b-facb-d66b683e2d80"
      },
      "outputs": [
        {
          "output_type": "stream",
          "name": "stdout",
          "text": [
            "acc : 93.49%\n"
          ]
        }
      ],
      "source": [
        "correct = 0\n",
        "\n",
        "for batch_x, labl in test_label_dataloader:\n",
        "\n",
        "    batch_x = torch.reshape(batch_x, (batch_x.shape[0], 1, batch_x.shape[1])) #RuntimeError: For unbatched 2-D input, hx and cx should also be 2-D but got (3-D, 3-D) tensors\n",
        "\n",
        "    batch_x = batch_x.to(device)\n",
        "    labl = labl.to(device)\n",
        "  \n",
        "    out = my_model_label(batch_x)\n",
        "    _,predicted = torch.max(out,1)\n",
        "    correct += torch.sum(predicted == labl)\n",
        "\n",
        "print(\"acc : %.2f\" % (100.*correct / len(test_label)),end=\"\")\n",
        "print(\"%\")"
      ]
    },
    {
      "cell_type": "code",
      "source": [],
      "metadata": {
        "id": "qljC8mZgL72W"
      },
      "execution_count": 15,
      "outputs": []
    }
  ],
  "metadata": {
    "accelerator": "GPU",
    "colab": {
      "collapsed_sections": [],
      "provenance": []
    },
    "gpuClass": "standard",
    "kernelspec": {
      "display_name": "Python 3",
      "name": "python3"
    },
    "language_info": {
      "name": "python"
    }
  },
  "nbformat": 4,
  "nbformat_minor": 0
}