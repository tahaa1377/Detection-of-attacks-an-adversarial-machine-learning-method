{
  "cells": [
    {
      "cell_type": "code",
      "execution_count": 1,
      "metadata": {
        "id": "Ff1b4PxtBQuc"
      },
      "outputs": [],
      "source": [
        "num_epoch = 500      \n",
        "learning_rate = 0.01\n",
        "batch_size = 2000\n",
        "\n",
        "hidden_size = 64 #number of features in hidden state\n",
        "num_layers = 3  #number of stacked lstm layers\n",
        "bidirectional = True\n",
        "drop_out = 0\n",
        "bidirectional_forward_backward = 2 if bidirectional else 1\n",
        "\n",
        "input_size = 41 #number of features\n",
        "num_classes_attack_cat = 10 #number of output classes \n",
        "num_classes_label = 2       #number of output classes "
      ]
    },
    {
      "cell_type": "code",
      "source": [
        "from google.colab import drive\n",
        "drive.mount('/content/drive')"
      ],
      "metadata": {
        "colab": {
          "base_uri": "https://localhost:8080/"
        },
        "id": "0Gua0hky6SDJ",
        "outputId": "fbb2867a-97c7-47e4-b1de-8eae7ebc50a8"
      },
      "execution_count": 2,
      "outputs": [
        {
          "output_type": "stream",
          "name": "stdout",
          "text": [
            "Mounted at /content/drive\n"
          ]
        }
      ]
    },
    {
      "cell_type": "code",
      "execution_count": 3,
      "metadata": {
        "colab": {
          "base_uri": "https://localhost:8080/"
        },
        "id": "hZiaj4uT24DH",
        "outputId": "c08ec75f-54b3-47da-c64b-658575686697"
      },
      "outputs": [
        {
          "output_type": "stream",
          "name": "stdout",
          "text": [
            "GPU\n"
          ]
        }
      ],
      "source": [
        "import pandas as pd\n",
        "from matplotlib import pyplot as plt\n",
        "import numpy as np\n",
        "from torch.utils.data.dataset import Dataset\n",
        "from torch.utils.data import random_split, DataLoader\n",
        "import torch\n",
        "from sklearn.preprocessing import LabelEncoder\n",
        "from sklearn import preprocessing\n",
        "import torch.nn as nn\n",
        "import torch.nn.functional as F\n",
        "import torch.optim as opt\n",
        "from torch.autograd import Variable \n",
        "\n",
        "# GPU OR CPU\n",
        "if torch.cuda.is_available():\n",
        "    device = torch.device(\"cuda:0\")\n",
        "    print(\"GPU\")\n",
        "else:\n",
        "    device = torch.device(\"cpu\")\n",
        "    print(\"CPU\")"
      ]
    },
    {
      "cell_type": "code",
      "execution_count": 4,
      "metadata": {
        "id": "Sv-R_m6Z1EL5"
      },
      "outputs": [],
      "source": [
        "class DataSet_UNSWNB15_attack_cat(Dataset):\n",
        "\n",
        "    def __init__(self,data_set_path):\n",
        "        df = pd.read_csv(data_set_path)\n",
        "        print(df.attack_cat.value_counts().sort_values().plot(kind = \"barh\"))\n",
        "        \n",
        "        # preprocceing\n",
        "        df.drop(['id',\"Unnamed: 0\",\"service\",\"label\"], axis=1, inplace=True)        \n",
        "        cols = ['attack_cat' ,'proto' ,'state']\n",
        "        df[cols] = df[cols].apply(LabelEncoder().fit_transform)\n",
        "\n",
        "        self.data_array = df.values\n",
        "        self.x = self.data_array[:, :41]\n",
        "        self.y = self.data_array[:, 41]\n",
        "      \n",
        "        # normalaized data\n",
        "        scaler = preprocessing.StandardScaler().fit(self.x)\n",
        "        self.x = scaler.transform(self.x)\n",
        "\n",
        "        self.x = torch.tensor(self.x).float()\n",
        "        self.y = torch.tensor(self.y).long()\n",
        "\n",
        "    def __len__(self):\n",
        "        return len(self.data_array)\n",
        "\n",
        "    def __getitem__(self, item):\n",
        "        sample = (self.x[item, :], self.y[item])\n",
        "        return sample\n",
        "\n",
        "        \n",
        "class DataSet_UNSWNB15_label(Dataset):\n",
        "\n",
        "    def __init__(self,data_set_path):\n",
        "        df = pd.read_csv(data_set_path)\n",
        "        print(df.label.value_counts().sort_values().plot(kind = \"pie\"))\n",
        "\n",
        "        # preprocceing\n",
        "        df.drop(['id',\"Unnamed: 0\",\"service\",\"attack_cat\"], axis=1, inplace=True)\n",
        "        cols = ['proto' ,'state']\n",
        "        df[cols] = df[cols].apply(LabelEncoder().fit_transform)\n",
        "\n",
        "        self.data_array = df.values\n",
        "        self.x = self.data_array[:, :41]\n",
        "        self.y = self.data_array[:, 41]\n",
        "        \n",
        "        # normalaized data\n",
        "        scaler = preprocessing.StandardScaler().fit(self.x)\n",
        "        self.x = scaler.transform(self.x)\n",
        "\n",
        "        self.x = torch.tensor(self.x).float()\n",
        "        self.y = torch.tensor(self.y).long()\n",
        "\n",
        "    def __len__(self):\n",
        "        return len(self.data_array)\n",
        "\n",
        "    def __getitem__(self, item):\n",
        "        sample = (self.x[item, :], self.y[item])\n",
        "        return sample"
      ]
    },
    {
      "cell_type": "code",
      "execution_count": 5,
      "metadata": {
        "colab": {
          "base_uri": "https://localhost:8080/",
          "height": 283
        },
        "id": "UykLrbQZ1R7K",
        "outputId": "a39e3495-e944-4465-aeb0-4706f5a30e0f"
      },
      "outputs": [
        {
          "output_type": "stream",
          "name": "stdout",
          "text": [
            "AxesSubplot(0.125,0.125;0.775x0.755)\n"
          ]
        },
        {
          "output_type": "display_data",
          "data": {
            "text/plain": [
              "<Figure size 432x288 with 1 Axes>"
            ],
            "image/png": "[encoded data removed]"
          },
          "metadata": {
            "needs_background": "light"
          }
        }
      ],
      "source": [
        "dataset_attack_cat = DataSet_UNSWNB15_attack_cat(\"/content/drive/MyDrive/datasets/UNSW-NB15/UNSW_NB15.csv\")\n",
        "number_of_test = int(len(dataset_attack_cat)*0.3)\n",
        "number_of_train = len(dataset_attack_cat) - int(len(dataset_attack_cat)*0.3)\n",
        "train_attack_cat ,test_attack_cat = random_split(dataset=dataset_attack_cat, lengths=[number_of_train,number_of_test])\n",
        "\n",
        "train_attack_cat_dataloader = DataLoader(dataset=train_attack_cat ,batch_size=batch_size ,shuffle=True)\n",
        "test_attack_cat_dataloader = DataLoader(dataset=test_attack_cat ,batch_size=batch_size ,shuffle=True)"
      ]
    },
    {
      "cell_type": "code",
      "execution_count": 6,
      "metadata": {
        "colab": {
          "base_uri": "https://localhost:8080/",
          "height": 266
        },
        "id": "LmFY9Q-u29T3",
        "outputId": "79a4db79-594e-407c-93de-4e5471161656"
      },
      "outputs": [
        {
          "output_type": "stream",
          "name": "stdout",
          "text": [
            "AxesSubplot(0.260833,0.125;0.503333x0.755)\n"
          ]
        },
        {
          "output_type": "display_data",
          "data": {
            "text/plain": [
              "<Figure size 432x288 with 1 Axes>"
            ],
            "image/png": "[encoded data removed]"
          },
          "metadata": {}
        }
      ],
      "source": [
        "dataset_label = DataSet_UNSWNB15_label(\"/content/drive/MyDrive/datasets/UNSW-NB15/UNSW_NB15.csv\")\n",
        "number_of_test = int(len(dataset_label)*0.3)\n",
        "number_of_train = len(dataset_label) - int(len(dataset_label)*0.3)\n",
        "train_label ,test_label = random_split(dataset=dataset_label, lengths=[number_of_train,number_of_test])\n",
        "\n",
        "train_label_dataloader = DataLoader(dataset=train_label ,batch_size=batch_size ,shuffle=True)\n",
        "test_label_dataloader = DataLoader(dataset=test_label ,batch_size=batch_size ,shuffle=True)"
      ]
    },
    {
      "cell_type": "markdown",
      "metadata": {
        "id": "0HslPLv2IOGd"
      },
      "source": [
        "# **preprocessing ended**\n",
        "\n",
        "# **create model**"
      ]
    },
    {
      "cell_type": "markdown",
      "source": [
        "![bilstm-1.webp](data:image/webp;base64,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)"
      ],
      "metadata": {
        "id": "F2hNvBs6qBQS"
      }
    },
    {
      "cell_type": "code",
      "execution_count": 7,
      "metadata": {
        "id": "oN6DuQbJibuE"
      },
      "outputs": [],
      "source": [
        "class LSTM_Model_attack(nn.Module):\n",
        "    def __init__(self, num_classes, input_size, hidden_size, num_layers):\n",
        "        super(LSTM_Model_attack, self).__init__()\n",
        "        self.num_classes = num_classes #number of classes\n",
        "        self.num_layers = num_layers #number of layers\n",
        "        self.input_size = input_size #input size\n",
        "        self.hidden_size = hidden_size #hidden state\n",
        "\n",
        "        self.lstm = nn.LSTM(input_size=input_size, hidden_size=hidden_size, num_layers=num_layers, batch_first=True,\n",
        "                            bidirectional=bidirectional, dropout=drop_out) #lstm\n",
        "\n",
        "        self.fc = nn.Linear(hidden_size * bidirectional_forward_backward, num_classes) #fully connected last layer\n",
        "                             # 2 => forward and backward for bidirectional\n",
        "    \n",
        "    def forward(self,x):\n",
        "                                                # 2 => forward and backward for bidirectional\n",
        "        h_0 = Variable(torch.zeros(self.num_layers * bidirectional_forward_backward, x.size(0), self.hidden_size)).to(device=device) #hidden state\n",
        "        c_0 = Variable(torch.zeros(self.num_layers * bidirectional_forward_backward, x.size(0), self.hidden_size)).to(device=device) #internal state\n",
        "\n",
        "        out, (hn, cn) = self.lstm(x, (h_0, c_0))\n",
        "        out = self.fc(out[:, -1, :]) \n",
        "        return out\n",
        "\n",
        "\n",
        "class LSTM_Model_label(nn.Module):\n",
        "    def __init__(self, num_classes, input_size, hidden_size, num_layers):\n",
        "        super(LSTM_Model_label, self).__init__()\n",
        "        self.num_classes = num_classes #number of classes\n",
        "        self.num_layers = num_layers #number of layers\n",
        "        self.input_size = input_size #input size\n",
        "        self.hidden_size = hidden_size #hidden state\n",
        "\n",
        "        self.lstm = nn.LSTM(input_size=input_size, hidden_size=hidden_size, num_layers=num_layers, batch_first=True, \n",
        "                            bidirectional=bidirectional, dropout=drop_out) #lstm\n",
        "\n",
        "        self.fc = nn.Linear(hidden_size * bidirectional_forward_backward, num_classes) #fully connected last layer\n",
        "\n",
        "    \n",
        "    def forward(self,x):\n",
        "        h_0 = Variable(torch.zeros(self.num_layers * bidirectional_forward_backward, x.size(0), self.hidden_size)).to(device=device) #hidden state\n",
        "        c_0 = Variable(torch.zeros(self.num_layers * bidirectional_forward_backward, x.size(0), self.hidden_size)).to(device=device) #internal state\n",
        "\n",
        "        out, (hn, cn) = self.lstm(x, (h_0, c_0))\n",
        "        out = self.fc(out[:, -1, :]) \n",
        "        return out\n"
      ]
    },
    {
      "cell_type": "code",
      "execution_count": 8,
      "metadata": {
        "id": "US8JfNI8j3zO",
        "colab": {
          "base_uri": "https://localhost:8080/"
        },
        "outputId": "91e26688-9998-4031-d124-3139a227ecef"
      },
      "outputs": [
        {
          "output_type": "execute_result",
          "data": {
            "text/plain": [
              "LSTM_Model_attack(\n",
              "  (lstm): LSTM(41, 64, num_layers=3, batch_first=True, bidirectional=True)\n",
              "  (fc): Linear(in_features=128, out_features=10, bias=True)\n",
              ")"
            ]
          },
          "metadata": {},
          "execution_count": 8
        }
      ],
      "source": [
        "my_model_attack = LSTM_Model_attack(num_classes_attack_cat, input_size, hidden_size, num_layers).to(device=device)\n",
        "my_model_attack"
      ]
    },
    {
      "cell_type": "code",
      "source": [
        "my_model_attack.state_dict()"
      ],
      "metadata": {
        "colab": {
          "base_uri": "https://localhost:8080/"
        },
        "id": "Dq8JkQZ9ukCs",
        "outputId": "79914065-cf6a-4cc5-a2be-bbd5afd32ac9"
      },
      "execution_count": 9,
      "outputs": [
        {
          "output_type": "execute_result",
          "data": {
            "text/plain": [
              "OrderedDict([('lstm.weight_ih_l0',\n",
              "              tensor([[ 0.0363,  0.0699,  0.0501,  ..., -0.1005,  0.0371,  0.0427],\n",
              "                      [ 0.1137,  0.0020, -0.0990,  ..., -0.0446, -0.0157,  0.0258],\n",
              "                      [-0.1193, -0.0963, -0.0094,  ..., -0.0342, -0.0339,  0.0712],\n",
              "                      ...,\n",
              "                      [ 0.0179, -0.0423, -0.0619,  ..., -0.0854, -0.0558, -0.0026],\n",
              "                      [-0.0523,  0.0911,  0.0732,  ...,  0.0144,  0.0402, -0.0380],\n",
              "                      [-0.0101,  0.0266,  0.0890,  ...,  0.0574,  0.0415,  0.0056]],\n",
              "                     device='cuda:0')),\n",
              "             ('lstm.weight_hh_l0',\n",
              "              tensor([[-0.1076, -0.0925, -0.0566,  ...,  0.0777, -0.0174,  0.0314],\n",
              "                      [-0.0676, -0.0346, -0.0673,  ...,  0.1177,  0.0006, -0.0079],\n",
              "                      [-0.0927, -0.0391, -0.0362,  ..., -0.0527, -0.0964,  0.0252],\n",
              "                      ...,\n",
              "                      [-0.0311, -0.0895,  0.0959,  ..., -0.0670,  0.0485, -0.0071],\n",
              "                      [ 0.1085, -0.0635, -0.1244,  ..., -0.0401, -0.0424,  0.0267],\n",
              "                      [ 0.0123,  0.1206, -0.1127,  ..., -0.0339, -0.0416, -0.0869]],\n",
              "                     device='cuda:0')),\n",
              "             ('lstm.bias_ih_l0',\n",
              "              tensor([-0.0212, -0.1159, -0.0803, -0.0940,  0.0242, -0.0332, -0.0435,  0.0721,\n",
              "                       0.1089, -0.1009,  0.0365, -0.0565, -0.0210,  0.0618, -0.0936, -0.0939,\n",
              "                       0.0385,  0.0830,  0.0103, -0.0868,  0.0939, -0.0536, -0.0169, -0.1203,\n",
              "                       0.0052, -0.0946,  0.0020,  0.0218, -0.0866, -0.0831,  0.0007, -0.0316,\n",
              "                       0.0658,  0.0823,  0.1110, -0.0215, -0.0279,  0.0072, -0.0738, -0.0236,\n",
              "                      -0.0787, -0.0099, -0.0204, -0.0055, -0.0797,  0.0403, -0.0578,  0.0963,\n",
              "                      -0.0043,  0.0946, -0.1065,  0.0340, -0.0091, -0.0174, -0.0603, -0.0023,\n",
              "                       0.0771,  0.0373, -0.1196, -0.0145, -0.0372, -0.0191, -0.0553,  0.0831,\n",
              "                       0.0608,  0.1100,  0.0324,  0.1008,  0.0517, -0.1086, -0.0714, -0.0037,\n",
              "                       0.1121,  0.0350,  0.0743,  0.0349,  0.0896,  0.1039, -0.0081, -0.0095,\n",
              "                       0.0990, -0.0185,  0.0281, -0.0532, -0.0362, -0.0510, -0.0194,  0.0550,\n",
              "                       0.0602, -0.1207,  0.0858, -0.0721, -0.1093,  0.0190,  0.0351, -0.0352,\n",
              "                      -0.1150,  0.1152, -0.0457, -0.0915,  0.0867,  0.0150, -0.0549,  0.0655,\n",
              "                       0.0328,  0.0985,  0.0135, -0.0134,  0.0361, -0.0086,  0.0293, -0.0463,\n",
              "                      -0.1171, -0.0770,  0.0378,  0.0359,  0.1238,  0.0117, -0.0029, -0.0421,\n",
              "                       0.0501, -0.1004,  0.0331,  0.0495, -0.0657, -0.0220,  0.1055, -0.1115,\n",
              "                       0.0831,  0.1130, -0.0190,  0.0394, -0.0430, -0.0472,  0.1056, -0.1175,\n",
              "                       0.0132, -0.0244, -0.1152, -0.0160, -0.0938, -0.0034, -0.0755,  0.0987,\n",
              "                      -0.1142, -0.0771, -0.0439,  0.0222, -0.0053, -0.0679, -0.0374, -0.0448,\n",
              "                      -0.0391,  0.0365,  0.0349, -0.0403, -0.0730, -0.0779,  0.0051, -0.0511,\n",
              "                       0.1097,  0.0829,  0.0385,  0.1245, -0.0474,  0.1019, -0.0829,  0.0256,\n",
              "                       0.1233, -0.1117, -0.0635, -0.0504,  0.0487,  0.0238,  0.1038, -0.0799,\n",
              "                      -0.1144,  0.0400,  0.0525,  0.1226, -0.0886,  0.0761, -0.0463,  0.0225,\n",
              "                      -0.1018, -0.0636, -0.0747, -0.1083,  0.0010,  0.0771, -0.1168,  0.1129,\n",
              "                       0.0504,  0.0627,  0.1060,  0.0302,  0.0922, -0.1144, -0.0873, -0.0880,\n",
              "                       0.0682,  0.0546,  0.0811, -0.1228, -0.0124,  0.1069,  0.0416, -0.1172,\n",
              "                       0.0243, -0.0125,  0.0031,  0.0749,  0.0140, -0.0506, -0.0933,  0.0930,\n",
              "                      -0.0197, -0.0424, -0.0528, -0.0504, -0.0726, -0.0180,  0.0430,  0.0990,\n",
              "                      -0.0658,  0.1156,  0.0052,  0.0791,  0.1236,  0.0313,  0.1077,  0.1191,\n",
              "                       0.0637,  0.0543, -0.0022, -0.0739, -0.0020,  0.0441,  0.0268, -0.0716,\n",
              "                      -0.0973,  0.0840,  0.0116,  0.0905, -0.0868, -0.1062,  0.1165, -0.0863,\n",
              "                      -0.1202,  0.1123,  0.0978, -0.0591, -0.0455,  0.0793, -0.1075, -0.0909],\n",
              "                     device='cuda:0')),\n",
              "             ('lstm.bias_hh_l0',\n",
              "              tensor([ 0.0967, -0.0775, -0.0275, -0.0670, -0.0644,  0.0288, -0.0002, -0.0028,\n",
              "                       0.1018, -0.0631,  0.0613, -0.0402, -0.0983, -0.0951, -0.0651,  0.0343,\n",
              "                      -0.0740, -0.0013, -0.0217, -0.0233,  0.1157, -0.0853, -0.0554, -0.1129,\n",
              "                      -0.1133, -0.0295,  0.0584, -0.0326,  0.0618, -0.0302,  0.0948,  0.0106,\n",
              "                       0.0529, -0.0778, -0.0231,  0.0290,  0.0408,  0.1192, -0.0461, -0.0802,\n",
              "                      -0.0088, -0.1089,  0.0454, -0.0250, -0.0050, -0.0564,  0.0679,  0.1093,\n",
              "                       0.0827,  0.0982, -0.0289, -0.0808,  0.0655, -0.1048, -0.0814,  0.0001,\n",
              "                       0.0335,  0.1149, -0.0366, -0.1178, -0.0983, -0.0603, -0.0629, -0.1190,\n",
              "                      -0.0780, -0.0875, -0.0851,  0.0459,  0.0575, -0.0695,  0.0893, -0.1026,\n",
              "                      -0.0116, -0.0528, -0.0252, -0.0440,  0.1247,  0.0330, -0.0246,  0.1230,\n",
              "                       0.0532, -0.0700,  0.1187,  0.0287,  0.0393,  0.1232, -0.0209,  0.0119,\n",
              "                      -0.0915, -0.0163,  0.1167,  0.0481, -0.0771, -0.1126, -0.0836,  0.1216,\n",
              "                      -0.0265,  0.0224,  0.0933, -0.0266,  0.0545,  0.0956,  0.0621, -0.0142,\n",
              "                      -0.0412,  0.1029,  0.0565,  0.0986,  0.1174, -0.0633,  0.0708,  0.0695,\n",
              "                      -0.0970,  0.0048, -0.0882,  0.0332,  0.0006, -0.0061,  0.0496, -0.0672,\n",
              "                      -0.0221,  0.0727, -0.0738,  0.1128,  0.0812, -0.0046,  0.0757,  0.1065,\n",
              "                       0.1126,  0.0057,  0.1200, -0.0755,  0.1009,  0.0894,  0.0207,  0.1206,\n",
              "                       0.0825, -0.0857, -0.0330,  0.0292, -0.0909, -0.1086, -0.0737, -0.0331,\n",
              "                      -0.1146,  0.1213, -0.1141,  0.0563, -0.0125,  0.0299, -0.1016, -0.0048,\n",
              "                      -0.1075,  0.0444, -0.0197, -0.0221,  0.0601, -0.0517,  0.0699,  0.1080,\n",
              "                      -0.0756,  0.0202,  0.0325,  0.0009,  0.0989,  0.0874, -0.0438,  0.0005,\n",
              "                       0.1222,  0.1162, -0.0237,  0.0733, -0.0914, -0.0244, -0.1244, -0.0572,\n",
              "                       0.0860,  0.1128,  0.0561, -0.1185, -0.0103,  0.0061, -0.0329, -0.1230,\n",
              "                       0.0698,  0.0831,  0.1046,  0.0986, -0.0713, -0.0560,  0.0020, -0.1004,\n",
              "                      -0.0769, -0.0528, -0.0928, -0.0050, -0.0128,  0.0367,  0.0388,  0.0082,\n",
              "                       0.0505, -0.0281, -0.0476, -0.0295,  0.0361,  0.1130, -0.0804,  0.0275,\n",
              "                      -0.0247,  0.0929,  0.1027, -0.0625,  0.0136,  0.1217, -0.0800, -0.0974,\n",
              "                       0.0883, -0.1197,  0.0864,  0.0462, -0.0098,  0.1094, -0.0791, -0.0093,\n",
              "                      -0.0428, -0.0703, -0.0161, -0.0677,  0.0270,  0.1122, -0.0162,  0.1142,\n",
              "                      -0.0028,  0.0318, -0.0279,  0.0564,  0.0968,  0.0017,  0.0055, -0.0452,\n",
              "                       0.0747,  0.1213,  0.0722,  0.1036,  0.0738,  0.0568, -0.0699, -0.1201,\n",
              "                       0.0335, -0.0342,  0.0875,  0.0732,  0.0047, -0.0561,  0.0991, -0.1142],\n",
              "                     device='cuda:0')),\n",
              "             ('lstm.weight_ih_l0_reverse',\n",
              "              tensor([[ 0.1170, -0.0428, -0.0170,  ...,  0.0071,  0.0268,  0.1194],\n",
              "                      [-0.0309,  0.0227, -0.1083,  ...,  0.0404,  0.0608, -0.1127],\n",
              "                      [ 0.0586,  0.0543,  0.0500,  ..., -0.1042,  0.1021, -0.0794],\n",
              "                      ...,\n",
              "                      [-0.0017, -0.1048, -0.1046,  ...,  0.0538,  0.0811,  0.0050],\n",
              "                      [ 0.0749, -0.0571, -0.0986,  ..., -0.0327, -0.0202,  0.0048],\n",
              "                      [ 0.0135,  0.0833, -0.0165,  ..., -0.1141, -0.0533,  0.0183]],\n",
              "                     device='cuda:0')),\n",
              "             ('lstm.weight_hh_l0_reverse',\n",
              "              tensor([[-0.0713, -0.0833,  0.1104,  ..., -0.1188, -0.0770, -0.1047],\n",
              "                      [ 0.0717, -0.0642,  0.0188,  ...,  0.0323,  0.0784,  0.0999],\n",
              "                      [ 0.1237,  0.0493,  0.0944,  ...,  0.0869,  0.0840,  0.1030],\n",
              "                      ...,\n",
              "                      [-0.0132,  0.1219, -0.0313,  ..., -0.1230,  0.0021, -0.0670],\n",
              "                      [-0.0119,  0.1244,  0.0306,  ..., -0.0666, -0.0848,  0.1159],\n",
              "                      [ 0.0295, -0.1174,  0.0009,  ..., -0.0130, -0.1030, -0.0180]],\n",
              "                     device='cuda:0')),\n",
              "             ('lstm.bias_ih_l0_reverse',\n",
              "              tensor([ 0.0592,  0.0084,  0.0763, -0.0508,  0.0876,  0.1231, -0.0932,  0.0880,\n",
              "                      -0.1047,  0.0456,  0.0964,  0.0381,  0.0241, -0.0690,  0.0880, -0.0487,\n",
              "                      -0.0530, -0.1124,  0.0415,  0.0324,  0.0766, -0.0611,  0.0512, -0.0040,\n",
              "                       0.0878,  0.1080,  0.0883,  0.0314, -0.1051,  0.0234, -0.0313,  0.0386,\n",
              "                      -0.1102, -0.0785,  0.0399,  0.0718,  0.0068,  0.1039, -0.0784, -0.0581,\n",
              "                       0.0607,  0.1248, -0.1131,  0.1193,  0.0392, -0.1213,  0.0985, -0.0760,\n",
              "                       0.0471, -0.0893,  0.0699, -0.0409, -0.0517, -0.1000, -0.0606,  0.0325,\n",
              "                       0.0825,  0.0138,  0.0800,  0.0753,  0.0831, -0.1238,  0.1220, -0.0398,\n",
              "                       0.0672, -0.0843, -0.1180, -0.1038,  0.0327,  0.0067,  0.0692, -0.1231,\n",
              "                       0.0706, -0.0558, -0.1181,  0.0020, -0.0054,  0.0689, -0.0229,  0.0941,\n",
              "                       0.0734,  0.0915, -0.0523, -0.0997,  0.0502,  0.0818,  0.0408, -0.0704,\n",
              "                       0.1165, -0.0466, -0.0316,  0.1210, -0.0846, -0.1057, -0.0808,  0.0815,\n",
              "                      -0.1181,  0.0955,  0.0528, -0.0698,  0.1164,  0.0874, -0.0519, -0.0060,\n",
              "                      -0.0705,  0.0495, -0.1125, -0.0653, -0.0834,  0.0005, -0.0869,  0.0952,\n",
              "                       0.0518, -0.0993,  0.0670,  0.1095, -0.0644, -0.0306,  0.0179, -0.0786,\n",
              "                      -0.0449,  0.0660,  0.0162, -0.1239, -0.0454,  0.0148,  0.0915, -0.0539,\n",
              "                       0.1068, -0.0864,  0.0473,  0.0480, -0.0869,  0.1038, -0.0425,  0.1174,\n",
              "                      -0.0332, -0.1128,  0.0214, -0.0582, -0.0600, -0.1026, -0.0181, -0.0757,\n",
              "                       0.0296,  0.0941,  0.0169, -0.0751, -0.0427, -0.1150, -0.0391, -0.0010,\n",
              "                       0.0306, -0.1210, -0.0587,  0.1182, -0.0693,  0.0336,  0.1027,  0.0316,\n",
              "                       0.1228, -0.0987,  0.0205,  0.0868, -0.0693, -0.1103,  0.0939, -0.0832,\n",
              "                      -0.0151,  0.0810, -0.1016,  0.0653, -0.0275,  0.0037, -0.0723, -0.1220,\n",
              "                      -0.1172,  0.0225,  0.0729, -0.1003, -0.0905, -0.0225, -0.1043,  0.0918,\n",
              "                      -0.1126,  0.0868,  0.1100, -0.0845,  0.0684, -0.0716, -0.0218,  0.1148,\n",
              "                      -0.0808,  0.1072, -0.0608, -0.1240, -0.0228, -0.1095, -0.0072, -0.0894,\n",
              "                      -0.0978, -0.0984,  0.0754, -0.1137, -0.0944, -0.0333, -0.0110, -0.0754,\n",
              "                       0.1122, -0.0104, -0.1223, -0.0045,  0.0546,  0.0225,  0.0384,  0.0832,\n",
              "                      -0.0109, -0.0115, -0.0197, -0.1122, -0.0347,  0.0894, -0.0370,  0.0427,\n",
              "                      -0.0078,  0.0928,  0.0740,  0.0353, -0.1145,  0.1098, -0.0093, -0.0252,\n",
              "                      -0.0058, -0.1051,  0.1093, -0.0931, -0.0676, -0.1122, -0.0811, -0.0915,\n",
              "                      -0.0009, -0.0996, -0.1093,  0.0812, -0.0608, -0.0902,  0.0153, -0.0412,\n",
              "                       0.0309,  0.0543,  0.0806,  0.0912, -0.0279, -0.0431, -0.0028,  0.1174],\n",
              "                     device='cuda:0')),\n",
              "             ('lstm.bias_hh_l0_reverse',\n",
              "              tensor([-0.1187,  0.0777, -0.0893,  0.0408, -0.1206, -0.0250, -0.1074, -0.0286,\n",
              "                      -0.0478,  0.0027,  0.0836,  0.0615, -0.0340, -0.0582, -0.0707,  0.0673,\n",
              "                      -0.0450, -0.0955, -0.1046, -0.0542, -0.0008,  0.0715,  0.0879, -0.0221,\n",
              "                      -0.1204, -0.0586,  0.1057, -0.1136,  0.0007,  0.0917, -0.0747,  0.0410,\n",
              "                       0.0775,  0.0091,  0.0840,  0.0350,  0.0214, -0.0326, -0.1203, -0.0420,\n",
              "                       0.0151,  0.0370, -0.1170,  0.0078,  0.1134, -0.0430, -0.0404, -0.0690,\n",
              "                      -0.0045,  0.0334, -0.0636, -0.0607,  0.0593, -0.0903,  0.0494, -0.0329,\n",
              "                       0.0896, -0.1185,  0.1198, -0.0754, -0.0529,  0.0876, -0.0897, -0.1218,\n",
              "                      -0.1142, -0.0062,  0.1130,  0.0303,  0.1247,  0.0120, -0.0920,  0.0572,\n",
              "                      -0.0481, -0.0488,  0.0879, -0.0128, -0.0360, -0.0740, -0.0338,  0.0891,\n",
              "                      -0.0357,  0.0047, -0.0455, -0.0791, -0.0175, -0.1008, -0.0422,  0.1166,\n",
              "                      -0.1011,  0.0119, -0.1174,  0.0868,  0.0469,  0.0699,  0.0297, -0.0526,\n",
              "                       0.0838,  0.1076,  0.0821, -0.0164, -0.1168, -0.0056, -0.1162, -0.0834,\n",
              "                       0.0004, -0.0906,  0.0055,  0.1022, -0.0916,  0.0915,  0.0618,  0.0022,\n",
              "                       0.0790,  0.0440,  0.0838,  0.0589, -0.0569,  0.0776,  0.1199,  0.0111,\n",
              "                      -0.0492,  0.0834, -0.0205, -0.0103, -0.0977, -0.1245, -0.1065, -0.0916,\n",
              "                       0.0702,  0.0623, -0.0901, -0.0418, -0.0469,  0.0932, -0.1151,  0.1004,\n",
              "                      -0.1228,  0.0075,  0.1028,  0.0905, -0.1001, -0.0712,  0.1224,  0.0148,\n",
              "                      -0.1191, -0.0716,  0.0915, -0.1169, -0.0383,  0.0865,  0.0876, -0.0879,\n",
              "                       0.0129, -0.0570, -0.0418, -0.0721,  0.0599, -0.0107, -0.0089, -0.1166,\n",
              "                      -0.0630,  0.1223, -0.0817, -0.0245,  0.0016, -0.1015,  0.1053,  0.1124,\n",
              "                       0.1224, -0.0341, -0.1051, -0.0734, -0.1202, -0.0611,  0.0783,  0.0150,\n",
              "                       0.0768, -0.0924, -0.0480,  0.1105, -0.0775,  0.0882,  0.0493, -0.0710,\n",
              "                      -0.1249,  0.0829, -0.0950, -0.0158,  0.0885,  0.1199, -0.0090, -0.0043,\n",
              "                      -0.0415,  0.0598,  0.0694,  0.0125,  0.0780, -0.0674,  0.0592, -0.0208,\n",
              "                      -0.1137,  0.0012, -0.0768, -0.1071, -0.1067, -0.0153, -0.0585, -0.0186,\n",
              "                       0.0549,  0.1236, -0.0754, -0.0779, -0.0757,  0.0361, -0.0427, -0.0136,\n",
              "                      -0.0190,  0.0596, -0.0981,  0.0594, -0.0913, -0.0822,  0.1160,  0.0886,\n",
              "                       0.0198, -0.0932, -0.0908, -0.0760,  0.0240, -0.0112,  0.0362,  0.0828,\n",
              "                       0.0646, -0.1245, -0.0100, -0.0924,  0.0240,  0.0940, -0.0727, -0.1091,\n",
              "                      -0.0243, -0.0688,  0.0979, -0.0083, -0.0091,  0.0248, -0.1181,  0.0332,\n",
              "                       0.1015,  0.0052, -0.0836,  0.0885,  0.1179,  0.0916,  0.0595,  0.0911],\n",
              "                     device='cuda:0')),\n",
              "             ('lstm.weight_ih_l1',\n",
              "              tensor([[-0.1045, -0.0452, -0.0514,  ..., -0.0285,  0.0523, -0.0786],\n",
              "                      [-0.0036,  0.0429, -0.0418,  ...,  0.1151,  0.0391,  0.0813],\n",
              "                      [-0.0518,  0.1011,  0.1121,  ..., -0.0079,  0.0830,  0.0867],\n",
              "                      ...,\n",
              "                      [-0.0080, -0.0353, -0.1033,  ...,  0.0774, -0.0963, -0.0170],\n",
              "                      [ 0.0222,  0.0035,  0.1158,  ...,  0.1238,  0.1234,  0.0545],\n",
              "                      [-0.0903, -0.0272,  0.0204,  ..., -0.0037, -0.0919, -0.1230]],\n",
              "                     device='cuda:0')),\n",
              "             ('lstm.weight_hh_l1',\n",
              "              tensor([[ 0.0982, -0.0937, -0.1182,  ..., -0.0774,  0.0188, -0.0693],\n",
              "                      [-0.0962,  0.0567,  0.1176,  ..., -0.0088,  0.1229, -0.0265],\n",
              "                      [ 0.0479,  0.1165, -0.1008,  ...,  0.1115, -0.0696, -0.1083],\n",
              "                      ...,\n",
              "                      [-0.0617,  0.0580,  0.0597,  ...,  0.0459,  0.1128, -0.0815],\n",
              "                      [-0.0242, -0.0050, -0.0020,  ...,  0.0361,  0.0512, -0.0065],\n",
              "                      [-0.0045,  0.0294,  0.0277,  ..., -0.0148, -0.0667,  0.0998]],\n",
              "                     device='cuda:0')),\n",
              "             ('lstm.bias_ih_l1',\n",
              "              tensor([ 8.7093e-02, -2.6202e-02,  4.3852e-02,  1.1209e-01, -4.0681e-02,\n",
              "                      -9.2219e-02,  3.5570e-02, -4.0196e-02,  3.1532e-02,  3.5170e-02,\n",
              "                      -5.8821e-02, -8.4731e-02, -6.9134e-02, -4.8815e-02,  7.6521e-02,\n",
              "                      -7.8915e-02,  7.8501e-02, -8.4469e-02,  1.0553e-01,  8.7237e-02,\n",
              "                      -5.4045e-02,  2.0880e-03, -5.1972e-02, -1.8972e-02, -8.5933e-02,\n",
              "                      -2.1523e-02,  4.4660e-02, -5.2785e-02,  5.9789e-02,  5.8485e-02,\n",
              "                      -5.4443e-02,  1.0568e-01, -1.1808e-01,  6.7920e-02,  9.6697e-02,\n",
              "                      -1.0022e-01,  2.5352e-02,  1.0692e-01,  3.6834e-02, -2.5571e-02,\n",
              "                      -5.9049e-04,  1.1648e-01,  6.8075e-02, -7.0292e-02,  1.1183e-01,\n",
              "                      -1.0078e-01,  4.4220e-02,  4.7599e-02,  8.6081e-03, -3.5352e-02,\n",
              "                      -9.2886e-02,  2.2519e-02, -2.3280e-02,  7.7979e-02,  5.5355e-02,\n",
              "                       4.3748e-02, -2.4697e-02, -1.0899e-01, -8.1424e-02, -1.0892e-01,\n",
              "                       8.0499e-02, -1.1267e-01,  4.1870e-03,  6.1904e-02, -7.6331e-02,\n",
              "                      -9.8836e-02, -5.3176e-02,  8.2240e-02,  3.3831e-02,  7.1994e-02,\n",
              "                      -1.0691e-01, -1.1915e-02, -1.2197e-01, -1.0760e-02,  3.6792e-03,\n",
              "                       8.3010e-02, -1.0824e-01, -9.8875e-02,  5.4095e-03,  5.4513e-02,\n",
              "                      -5.3479e-02, -6.8112e-02,  4.0185e-02, -7.6283e-02,  8.3228e-02,\n",
              "                      -5.7650e-02,  6.6674e-02,  3.0421e-03, -6.4145e-02, -2.1373e-02,\n",
              "                       3.3488e-03, -9.4129e-02,  7.3989e-02,  8.3567e-02, -3.3868e-03,\n",
              "                      -1.0851e-01,  5.4960e-02,  1.6957e-02, -2.3896e-02, -6.2924e-02,\n",
              "                       4.0851e-02, -2.5498e-02,  2.9614e-02,  2.3588e-02, -4.3171e-02,\n",
              "                      -9.0290e-02, -1.1575e-01,  2.2999e-03,  6.1389e-02,  3.9431e-02,\n",
              "                      -1.0245e-01, -8.6853e-02, -8.9321e-02, -6.0412e-02, -6.5974e-02,\n",
              "                      -4.3444e-02,  1.1880e-01, -1.1077e-02,  1.7975e-04,  1.0428e-01,\n",
              "                      -4.6679e-02,  3.3124e-02, -4.9141e-02, -2.2254e-03, -1.1308e-01,\n",
              "                      -6.8661e-02, -7.7073e-02, -1.0274e-01, -7.2899e-02, -1.1218e-01,\n",
              "                       1.2070e-01,  1.2065e-02,  9.1290e-02, -8.2440e-03,  4.0485e-02,\n",
              "                       8.7741e-02,  3.4938e-02,  3.1295e-02,  1.0994e-01, -1.0096e-01,\n",
              "                      -5.9847e-02,  3.8124e-02,  5.7969e-02, -1.1181e-01,  2.8971e-02,\n",
              "                       6.5723e-02, -1.7910e-02,  9.6089e-03, -5.0328e-02,  1.5696e-02,\n",
              "                       2.6897e-02,  1.1601e-01,  1.0227e-01,  5.9161e-02,  1.6033e-02,\n",
              "                      -8.3294e-02,  7.7808e-02, -4.0088e-02,  7.4045e-02, -8.6772e-02,\n",
              "                      -1.1581e-01, -7.2450e-02,  2.7782e-03,  5.1355e-02,  2.1314e-02,\n",
              "                       3.5965e-03,  7.0028e-03,  6.7526e-02,  2.9406e-02,  9.7529e-02,\n",
              "                       1.0613e-01, -9.6381e-05,  8.4767e-02, -7.1711e-02,  8.1452e-02,\n",
              "                      -1.2187e-01, -6.4663e-02,  2.3403e-02,  1.4689e-02,  1.5823e-02,\n",
              "                       9.8594e-02,  8.1858e-02,  6.0243e-02, -7.6629e-02,  7.6343e-03,\n",
              "                       9.6552e-02, -1.2021e-01, -1.3598e-02,  1.1720e-01,  1.0267e-01,\n",
              "                       1.0148e-01, -9.3628e-03,  2.1169e-02, -1.8677e-02, -1.0063e-01,\n",
              "                       1.1782e-01, -5.7987e-02, -1.2582e-02, -4.5644e-02, -3.9241e-02,\n",
              "                      -1.2385e-01,  4.3674e-02, -7.4251e-02, -1.1854e-01, -1.0135e-01,\n",
              "                       7.8696e-02, -7.0842e-02,  1.0675e-01,  7.8766e-02, -7.0970e-03,\n",
              "                       1.0485e-01, -9.3122e-02, -9.2581e-02,  3.5414e-04, -7.4096e-02,\n",
              "                      -1.0400e-01,  1.7027e-02,  7.1107e-02, -7.2421e-02, -4.7215e-02,\n",
              "                      -2.1702e-02, -8.0262e-02,  3.9810e-02,  8.3248e-03, -2.2192e-02,\n",
              "                      -1.1202e-01,  1.2232e-01, -6.4429e-02,  1.2202e-01, -1.4655e-02,\n",
              "                      -1.0846e-01, -1.0495e-02,  3.0591e-02,  1.0081e-01, -1.0291e-01,\n",
              "                      -1.0205e-01, -7.0714e-02,  7.1423e-02,  7.1152e-03,  6.5521e-02,\n",
              "                      -5.9413e-02, -1.2845e-03, -2.3919e-02, -7.1415e-02, -2.7886e-02,\n",
              "                      -7.9265e-03, -6.0953e-02, -9.6537e-02,  1.0996e-01, -8.6450e-02,\n",
              "                       1.1944e-02,  1.0906e-01,  1.1237e-01, -1.2412e-01,  6.5791e-02,\n",
              "                      -1.2323e-01], device='cuda:0')),\n",
              "             ('lstm.bias_hh_l1',\n",
              "              tensor([ 0.0722,  0.1209, -0.1001,  0.0777,  0.0134,  0.0392, -0.0886, -0.0659,\n",
              "                      -0.0979,  0.1108, -0.1068, -0.1171,  0.0887, -0.0590,  0.0258,  0.0186,\n",
              "                       0.1241,  0.0654,  0.0144, -0.0374,  0.0813, -0.0414,  0.1137, -0.1110,\n",
              "                       0.0302,  0.0553, -0.1186,  0.0076,  0.0711,  0.1002, -0.1171, -0.0074,\n",
              "                       0.0936, -0.0122,  0.1246,  0.0232,  0.0741,  0.0784,  0.1059,  0.1210,\n",
              "                      -0.1243,  0.0337,  0.0960, -0.0976, -0.0361,  0.0739, -0.0564,  0.0507,\n",
              "                       0.0148,  0.0719, -0.0344, -0.0489,  0.0541,  0.1227,  0.0629, -0.1185,\n",
              "                       0.0629, -0.0296,  0.0663,  0.0632,  0.0552,  0.0841,  0.0627, -0.0838,\n",
              "                       0.0654,  0.0882, -0.1004,  0.0864, -0.0679, -0.0036, -0.0532, -0.0687,\n",
              "                      -0.1088, -0.0864, -0.0045, -0.0428, -0.0022,  0.0314, -0.1051,  0.0450,\n",
              "                      -0.0619, -0.0348, -0.0554,  0.0808,  0.1106,  0.0339,  0.0706,  0.0627,\n",
              "                       0.0314, -0.0980,  0.0087,  0.0283, -0.0230,  0.0565,  0.0071,  0.0791,\n",
              "                       0.0064, -0.0856, -0.0228, -0.0095,  0.0331,  0.1066,  0.0850,  0.1224,\n",
              "                      -0.0052,  0.1044,  0.0846, -0.0074,  0.0499,  0.0269,  0.0809,  0.0730,\n",
              "                      -0.0091, -0.0767,  0.0003,  0.1096,  0.0881, -0.0482, -0.1113, -0.0381,\n",
              "                      -0.0512,  0.0430,  0.0270,  0.1081, -0.0771, -0.0861, -0.1137, -0.0974,\n",
              "                      -0.0580,  0.0497,  0.0409,  0.0569,  0.0532, -0.0947, -0.0785, -0.0664,\n",
              "                       0.0945, -0.0846,  0.0652,  0.0786, -0.1238,  0.0074, -0.0995,  0.0719,\n",
              "                       0.0302,  0.0182, -0.0155, -0.1012,  0.1215,  0.1194, -0.0026, -0.0012,\n",
              "                       0.0237, -0.0763,  0.0346,  0.0509,  0.0211,  0.0454,  0.1192,  0.0468,\n",
              "                      -0.1080,  0.0393, -0.1131, -0.0421, -0.1126,  0.0717,  0.0389, -0.1033,\n",
              "                       0.1074, -0.0363, -0.1001, -0.1012, -0.0967, -0.1205, -0.0009, -0.0499,\n",
              "                      -0.0868,  0.0334, -0.0882, -0.1117,  0.0781, -0.0304,  0.0838,  0.0750,\n",
              "                      -0.0246,  0.0735,  0.0290,  0.0189,  0.0625,  0.0191, -0.0737, -0.0376,\n",
              "                      -0.1113,  0.0977,  0.0165, -0.0523, -0.1091, -0.0694,  0.0260, -0.0446,\n",
              "                      -0.0944, -0.0096, -0.0704,  0.0547,  0.0754, -0.0623,  0.1231, -0.1043,\n",
              "                      -0.0658, -0.0039, -0.1146, -0.0914, -0.0150,  0.0130, -0.0489,  0.0621,\n",
              "                      -0.0322, -0.0847,  0.0983, -0.0538, -0.0539,  0.0394,  0.1142,  0.0991,\n",
              "                       0.0369, -0.1003, -0.0559, -0.0562, -0.0046,  0.0288, -0.0127, -0.0451,\n",
              "                      -0.0488, -0.1151,  0.0414, -0.0711,  0.1166,  0.0595,  0.0554,  0.0953,\n",
              "                       0.0357,  0.0406, -0.0213,  0.0847, -0.0307, -0.0620,  0.0555, -0.0962,\n",
              "                      -0.1194,  0.0079,  0.1092, -0.0219, -0.0772, -0.0799, -0.0326, -0.0138],\n",
              "                     device='cuda:0')),\n",
              "             ('lstm.weight_ih_l1_reverse',\n",
              "              tensor([[-1.2060e-01,  7.6710e-02, -2.8301e-03,  ..., -1.9068e-02,\n",
              "                        1.0439e-01,  3.0587e-02],\n",
              "                      [ 3.0946e-02, -8.5409e-02,  5.4853e-02,  ..., -1.0906e-01,\n",
              "                        1.2457e-01,  8.2105e-06],\n",
              "                      [-1.8894e-02, -6.1685e-02,  1.7359e-02,  ...,  2.3664e-02,\n",
              "                        1.9040e-03,  1.1252e-01],\n",
              "                      ...,\n",
              "                      [-6.6145e-02,  5.1756e-02, -2.8614e-02,  ..., -6.2663e-02,\n",
              "                       -1.1294e-01,  1.1582e-01],\n",
              "                      [-6.3251e-02, -5.8869e-02,  4.8162e-02,  ..., -2.0481e-02,\n",
              "                       -4.6451e-02, -1.0791e-01],\n",
              "                      [ 6.7936e-03,  3.3872e-02, -1.3621e-02,  ...,  1.2223e-02,\n",
              "                        1.5385e-02,  4.1362e-02]], device='cuda:0')),\n",
              "             ('lstm.weight_hh_l1_reverse',\n",
              "              tensor([[-6.9512e-02, -9.2707e-02,  9.0682e-02,  ..., -4.3124e-03,\n",
              "                       -5.2535e-02,  3.8116e-02],\n",
              "                      [-7.7158e-02,  4.0838e-02,  6.0802e-02,  ...,  9.8456e-02,\n",
              "                       -2.8421e-02, -1.6436e-02],\n",
              "                      [ 1.0457e-01, -2.4843e-02,  1.0385e-01,  ..., -3.9578e-02,\n",
              "                       -1.1125e-01,  9.6930e-02],\n",
              "                      ...,\n",
              "                      [ 2.8681e-02, -4.8623e-02,  1.1122e-01,  ...,  4.1670e-02,\n",
              "                       -1.6161e-02,  4.7916e-02],\n",
              "                      [-1.3083e-02,  3.2683e-02,  6.5826e-02,  ..., -1.2201e-01,\n",
              "                       -1.1735e-01, -3.4347e-05],\n",
              "                      [ 6.6166e-02, -1.1450e-01,  5.6197e-03,  ..., -4.7272e-02,\n",
              "                        9.6499e-02, -8.8783e-02]], device='cuda:0')),\n",
              "             ('lstm.bias_ih_l1_reverse',\n",
              "              tensor([-3.5352e-03, -4.0588e-02,  4.2619e-02, -7.9705e-02,  1.0115e-02,\n",
              "                      -7.7516e-04,  8.0647e-02,  5.6637e-02,  1.2043e-01, -9.3639e-03,\n",
              "                      -3.0183e-02,  1.0205e-01, -6.3157e-02, -1.1750e-01, -7.8341e-02,\n",
              "                      -9.3725e-02, -4.2923e-02, -2.3312e-02, -9.0435e-02, -5.5267e-02,\n",
              "                       1.0718e-01, -8.6113e-02, -6.5597e-02, -5.4350e-02, -9.6325e-03,\n",
              "                      -3.9609e-02, -2.0474e-02, -7.3246e-02, -3.7650e-02, -1.1252e-03,\n",
              "                       1.0118e-01,  2.2831e-02, -1.1854e-01, -1.2380e-01,  7.5309e-02,\n",
              "                       1.0996e-01, -4.3781e-02,  4.9861e-02, -7.5123e-02, -8.1281e-02,\n",
              "                      -2.8605e-02,  8.0998e-02, -1.0370e-01, -2.0706e-02,  3.4284e-02,\n",
              "                       8.3043e-02,  8.6289e-02, -7.8439e-02, -1.0493e-02, -1.2471e-01,\n",
              "                       3.7922e-02, -3.9434e-02,  1.0594e-01, -5.7103e-02,  1.0572e-01,\n",
              "                      -1.0771e-01,  3.5515e-02, -8.0385e-02,  1.8390e-02,  4.6449e-02,\n",
              "                       1.2190e-02,  9.4621e-02,  1.0440e-01,  5.9831e-03,  3.0569e-02,\n",
              "                       6.3548e-02,  1.2431e-01, -5.8672e-02,  4.6057e-03, -5.7462e-02,\n",
              "                      -1.1914e-01,  9.7815e-02, -4.6824e-02, -4.0291e-02, -2.7247e-02,\n",
              "                      -8.3450e-02, -1.8632e-02, -4.9754e-02,  8.3146e-02, -1.0757e-01,\n",
              "                      -1.0873e-01,  1.1452e-01, -4.5051e-02,  3.1610e-02,  1.8492e-03,\n",
              "                       1.2328e-01, -5.4791e-02, -3.3591e-02,  4.5245e-02, -1.2749e-02,\n",
              "                       6.0068e-02,  8.6493e-02,  5.9602e-02, -6.7522e-02, -1.1254e-01,\n",
              "                       5.6989e-02,  3.7244e-02,  1.1429e-01,  5.8579e-02,  1.0332e-01,\n",
              "                      -9.6675e-02, -9.0672e-02,  1.2193e-01, -1.1711e-01, -4.2739e-02,\n",
              "                      -4.8346e-02, -1.1134e-03, -1.2274e-01, -3.1685e-02,  5.9953e-02,\n",
              "                       1.0524e-01,  3.0790e-02,  1.0390e-01,  6.8009e-02, -1.1233e-02,\n",
              "                      -4.5718e-02, -6.9583e-02,  6.5567e-02,  9.0582e-02, -1.1488e-01,\n",
              "                      -3.9040e-02,  1.9692e-02, -7.3046e-02,  8.8106e-04,  5.3632e-02,\n",
              "                      -1.1297e-01,  8.2894e-02,  5.1307e-02, -2.7657e-02, -3.6746e-02,\n",
              "                      -4.7064e-02, -8.4310e-02,  2.9032e-02, -1.1515e-01, -1.6041e-02,\n",
              "                      -8.4739e-02,  1.1217e-01,  6.3572e-02,  1.2048e-01,  4.5398e-03,\n",
              "                       1.2314e-01,  2.1973e-02,  5.1965e-02,  1.1420e-04,  3.3679e-02,\n",
              "                      -1.2750e-02, -1.2154e-01, -6.2128e-02, -1.0394e-01,  6.9059e-03,\n",
              "                      -3.1610e-02, -2.3445e-02, -2.7718e-02, -5.6741e-03,  4.0683e-02,\n",
              "                      -8.0793e-02, -1.1041e-01, -4.1903e-02,  8.8891e-03, -5.6284e-02,\n",
              "                      -2.7591e-03,  7.3910e-02,  7.3189e-02, -3.2546e-02,  1.8522e-02,\n",
              "                      -1.0986e-01, -4.9565e-02, -7.7428e-03, -9.1674e-02,  6.7411e-02,\n",
              "                       5.0781e-03,  9.1866e-02, -3.2056e-02, -1.2228e-01,  1.8804e-02,\n",
              "                      -1.1099e-01,  3.4988e-02, -8.4757e-02,  6.2954e-02,  2.6205e-02,\n",
              "                       6.9956e-02, -6.2567e-02, -8.1370e-02,  4.3646e-02, -6.9939e-02,\n",
              "                      -4.6758e-02,  5.9628e-03, -9.4808e-02,  4.7406e-02, -7.9797e-03,\n",
              "                       3.5828e-02, -1.1016e-02, -3.7217e-02,  1.2172e-01, -1.1105e-01,\n",
              "                       2.9121e-02, -2.7099e-02,  8.6326e-02,  6.8802e-03, -8.6032e-02,\n",
              "                       2.8671e-02,  6.0998e-02, -1.4717e-02,  3.9448e-02, -5.0986e-02,\n",
              "                       9.0049e-04,  1.1012e-01, -1.2156e-01,  1.0316e-01,  3.9756e-02,\n",
              "                      -1.2099e-01, -3.6003e-03, -9.5008e-02,  1.3957e-02, -4.6251e-02,\n",
              "                       1.1842e-01, -8.4273e-02, -5.9796e-02, -4.2016e-02, -4.1605e-02,\n",
              "                      -5.4724e-02, -6.1513e-02,  4.9324e-04,  5.7212e-02, -4.6143e-02,\n",
              "                       9.4510e-02,  4.9930e-02,  1.0211e-01,  1.0971e-01, -8.9950e-02,\n",
              "                      -1.1600e-01,  6.9973e-03,  1.0986e-01, -1.0247e-01,  9.6360e-02,\n",
              "                      -1.2109e-01, -3.8464e-02, -1.8373e-02,  2.9739e-02,  7.2840e-02,\n",
              "                       3.0743e-02,  1.1745e-01,  3.7870e-02,  8.0064e-02,  4.6205e-03,\n",
              "                      -1.9729e-02, -1.9385e-02,  5.6672e-02, -1.1478e-01,  8.2098e-02,\n",
              "                      -7.9009e-02,  4.5904e-02,  1.1890e-01, -3.3414e-02, -1.0735e-01,\n",
              "                       1.2453e-01], device='cuda:0')),\n",
              "             ('lstm.bias_hh_l1_reverse',\n",
              "              tensor([-0.0669, -0.0102, -0.1004, -0.0731, -0.0542, -0.1170,  0.1217, -0.0324,\n",
              "                       0.0337, -0.0152,  0.0979, -0.1132, -0.0113, -0.0646,  0.1215,  0.0866,\n",
              "                       0.0719, -0.0294,  0.0009,  0.0607,  0.1099,  0.1051,  0.0715, -0.1046,\n",
              "                      -0.0536, -0.0153, -0.0458,  0.1221, -0.0521, -0.0723, -0.0512,  0.0243,\n",
              "                      -0.0674, -0.0910, -0.0749, -0.0935,  0.1093, -0.0981,  0.0444, -0.0697,\n",
              "                      -0.0974,  0.0299, -0.0713,  0.0395,  0.1126, -0.0430, -0.0539, -0.0080,\n",
              "                      -0.0525, -0.0364,  0.0105,  0.0792,  0.0437,  0.1026, -0.0050, -0.0887,\n",
              "                       0.0237,  0.0193, -0.1013, -0.1018,  0.0402,  0.0805, -0.0770,  0.1046,\n",
              "                       0.0798, -0.0427, -0.0854,  0.0106, -0.1061, -0.0802, -0.0337,  0.0308,\n",
              "                       0.0772, -0.0658,  0.0535, -0.1130, -0.0052,  0.0579,  0.1081, -0.0417,\n",
              "                       0.0604,  0.0568, -0.0712,  0.0740, -0.1046, -0.0681,  0.0123,  0.0660,\n",
              "                       0.1014,  0.0428,  0.0101,  0.1123,  0.1042, -0.0258, -0.1090, -0.0249,\n",
              "                      -0.0693,  0.0812,  0.0020,  0.0400,  0.0625,  0.0540, -0.1135,  0.0898,\n",
              "                       0.1075, -0.0483,  0.0736,  0.0279,  0.0807,  0.0026,  0.0025,  0.0566,\n",
              "                      -0.0168, -0.0426,  0.0254, -0.0764, -0.1168,  0.0372,  0.0210, -0.0995,\n",
              "                      -0.0210, -0.1075, -0.0139, -0.0771, -0.0521, -0.0416, -0.0243,  0.0459,\n",
              "                       0.0454, -0.0391, -0.0975,  0.0619, -0.0321,  0.1220, -0.0124, -0.0320,\n",
              "                      -0.0230,  0.0283, -0.0986,  0.1116,  0.1102,  0.1051,  0.0888, -0.0483,\n",
              "                      -0.1175, -0.1174, -0.0432, -0.0199,  0.0963, -0.0875,  0.0897,  0.0899,\n",
              "                       0.0806,  0.1067, -0.1057,  0.0039, -0.1153, -0.0766,  0.1138, -0.0418,\n",
              "                       0.0950, -0.0763,  0.0417,  0.0879,  0.0505, -0.0935,  0.0809,  0.1002,\n",
              "                      -0.0702,  0.0628,  0.0801,  0.1176, -0.0938,  0.0305, -0.0115, -0.0837,\n",
              "                      -0.0571,  0.0978,  0.0162,  0.0810,  0.0500, -0.0693,  0.0758,  0.0936,\n",
              "                       0.0218, -0.0871, -0.0177,  0.0747, -0.0893, -0.0882, -0.0609, -0.0391,\n",
              "                      -0.1133, -0.0160,  0.0181, -0.0079, -0.0537, -0.0521, -0.0448,  0.0270,\n",
              "                       0.0597, -0.0844, -0.0979,  0.0493,  0.1064, -0.0648,  0.0775, -0.1009,\n",
              "                      -0.0226,  0.0821, -0.0172,  0.0030,  0.0700,  0.1141, -0.0633,  0.0391,\n",
              "                      -0.0029,  0.0384,  0.0178, -0.0294,  0.1212,  0.0646,  0.0794,  0.0919,\n",
              "                       0.0944, -0.0009,  0.1238, -0.1149,  0.0705,  0.1075, -0.0363,  0.0937,\n",
              "                       0.0673,  0.1011,  0.0487, -0.0613,  0.0814, -0.0781,  0.0340,  0.0696,\n",
              "                      -0.0515, -0.0413,  0.0741,  0.0776, -0.0544,  0.1216,  0.0868, -0.0966,\n",
              "                      -0.0490,  0.0567, -0.0359, -0.0402, -0.0691, -0.0576,  0.1142, -0.0449],\n",
              "                     device='cuda:0')),\n",
              "             ('lstm.weight_ih_l2',\n",
              "              tensor([[ 0.0079,  0.0959,  0.0962,  ...,  0.0274,  0.0308, -0.0626],\n",
              "                      [ 0.0531, -0.1096, -0.1192,  ...,  0.1033,  0.0455, -0.0096],\n",
              "                      [-0.0206, -0.0361,  0.0204,  ..., -0.0030,  0.0684,  0.0470],\n",
              "                      ...,\n",
              "                      [-0.0130,  0.0317, -0.0958,  ..., -0.0928, -0.1189,  0.0600],\n",
              "                      [-0.0312,  0.0142, -0.0929,  ..., -0.0262,  0.0269,  0.0304],\n",
              "                      [ 0.1099, -0.0287,  0.0034,  ...,  0.0584,  0.0949,  0.0049]],\n",
              "                     device='cuda:0')),\n",
              "             ('lstm.weight_hh_l2',\n",
              "              tensor([[ 0.0886,  0.1241,  0.0413,  ..., -0.0679,  0.0682, -0.1164],\n",
              "                      [-0.0406, -0.0002,  0.0692,  ...,  0.1169, -0.0747, -0.0563],\n",
              "                      [ 0.0751, -0.0748,  0.0890,  ...,  0.0279,  0.0286,  0.0350],\n",
              "                      ...,\n",
              "                      [-0.0200, -0.1227,  0.0748,  ...,  0.0730, -0.0172,  0.0675],\n",
              "                      [-0.0593, -0.1146, -0.0025,  ..., -0.0626, -0.0958, -0.0454],\n",
              "                      [ 0.1130,  0.0492,  0.0696,  ...,  0.0840, -0.0178, -0.0685]],\n",
              "                     device='cuda:0')),\n",
              "             ('lstm.bias_ih_l2',\n",
              "              tensor([ 7.1828e-02,  4.4021e-02, -4.0128e-02,  8.2929e-02, -8.9286e-02,\n",
              "                       1.0167e-01, -8.7054e-02,  6.7409e-02, -7.8679e-02,  5.4795e-02,\n",
              "                      -1.1723e-01,  9.5298e-02, -4.3326e-02, -4.5729e-02, -1.8390e-02,\n",
              "                      -3.6012e-02, -4.0813e-02, -7.6208e-04,  5.8127e-02,  7.9511e-02,\n",
              "                       5.2095e-02, -1.0847e-01, -2.8744e-02,  1.2493e-01,  2.7512e-02,\n",
              "                      -2.4242e-02,  7.2176e-02,  3.4063e-02, -5.4525e-02,  8.6389e-02,\n",
              "                      -9.3151e-02, -5.0248e-02, -1.1835e-01, -7.8807e-02,  4.7872e-03,\n",
              "                       7.2364e-02, -4.4423e-02, -1.2646e-02, -2.5123e-02, -7.3819e-03,\n",
              "                      -7.1374e-02,  7.8756e-02,  5.2056e-03, -3.3207e-02,  3.1425e-02,\n",
              "                       7.8878e-02,  1.2159e-01, -2.4873e-03,  7.5992e-02,  1.0722e-01,\n",
              "                      -1.0818e-02, -1.0977e-01,  6.0600e-02, -3.8015e-02, -7.0308e-02,\n",
              "                       2.7772e-03, -4.5963e-02, -9.4836e-02, -9.6575e-02,  3.6001e-02,\n",
              "                      -3.6944e-02,  1.1502e-02,  1.1791e-02,  1.2078e-01, -1.2146e-01,\n",
              "                       4.9738e-02, -5.0913e-03, -2.1349e-04, -1.3004e-02, -2.7838e-03,\n",
              "                       1.1871e-01,  9.2027e-02, -7.4392e-02,  8.2425e-02,  7.9083e-02,\n",
              "                      -1.1651e-01, -1.1197e-01,  5.1573e-02, -4.1391e-02, -7.4081e-02,\n",
              "                      -1.2295e-01, -9.3730e-02, -9.7441e-02,  3.7639e-02, -8.0167e-02,\n",
              "                      -7.7063e-02,  1.0281e-01, -9.9806e-02, -6.5327e-02, -1.1086e-01,\n",
              "                       4.5699e-02,  2.4269e-02, -9.0021e-02,  5.6489e-02,  1.1846e-01,\n",
              "                       1.1681e-01, -5.8007e-02, -9.5310e-02,  4.4232e-03,  1.0285e-01,\n",
              "                       7.0171e-02,  1.1109e-01, -8.2198e-02, -6.0971e-02, -1.0939e-01,\n",
              "                      -4.5730e-02,  1.1804e-01, -6.3622e-02, -8.9708e-02,  5.3419e-02,\n",
              "                       1.1791e-01, -1.3480e-02, -6.2870e-02,  7.5475e-02,  7.1461e-03,\n",
              "                      -2.6127e-02,  6.4520e-02, -2.9514e-02,  1.2135e-01,  1.2251e-01,\n",
              "                       7.3310e-02, -5.9261e-02, -2.4026e-02,  1.1301e-02, -2.7045e-02,\n",
              "                       6.6735e-02,  1.0276e-01,  2.0474e-02,  4.6295e-02,  9.8484e-03,\n",
              "                      -6.5113e-03,  3.9207e-02, -6.3366e-02, -9.4115e-02, -8.2024e-02,\n",
              "                       4.0742e-02, -1.0978e-01, -2.7161e-02, -6.0891e-02, -7.6008e-02,\n",
              "                      -6.7790e-02,  3.4580e-03,  7.3803e-02, -1.7078e-02,  9.6370e-02,\n",
              "                       2.9942e-02, -2.3765e-02, -8.2126e-02, -8.7165e-02, -7.4128e-02,\n",
              "                      -5.9355e-02,  7.0334e-02,  8.6324e-02,  1.2450e-01,  1.2484e-04,\n",
              "                       4.4122e-02,  1.5815e-02,  1.2353e-01,  1.6263e-02, -4.2338e-02,\n",
              "                      -4.0079e-02, -7.2613e-04,  1.2130e-01, -3.8107e-02, -1.0901e-01,\n",
              "                      -1.9334e-02, -9.1093e-02,  5.8768e-02,  9.3805e-02, -1.1101e-01,\n",
              "                       1.1102e-01,  4.7110e-02,  9.0099e-02, -1.1278e-01, -1.0172e-01,\n",
              "                       9.5123e-02, -1.0354e-01,  4.9372e-02, -1.1494e-01, -2.6092e-02,\n",
              "                       1.2015e-01,  9.5548e-02, -1.1015e-01,  4.6358e-02,  1.0114e-01,\n",
              "                       1.4919e-02, -3.9901e-02, -9.9776e-02, -7.0461e-02,  2.2024e-02,\n",
              "                      -8.0705e-04,  6.8242e-02, -8.9530e-03, -5.7956e-02, -6.1734e-02,\n",
              "                      -5.7641e-02,  9.5292e-03, -5.7737e-02,  1.2086e-01, -3.9380e-03,\n",
              "                      -2.3273e-02,  7.5593e-02, -7.6971e-03,  4.9939e-02, -6.5017e-02,\n",
              "                      -4.7280e-02, -1.3204e-02, -7.0976e-02, -1.0098e-02,  1.4556e-02,\n",
              "                       6.7136e-02,  4.1283e-02, -1.0289e-01, -1.0173e-01,  4.9219e-02,\n",
              "                       9.7350e-02,  6.0349e-02,  2.3561e-02, -3.1606e-02, -1.1719e-01,\n",
              "                      -2.8774e-02, -1.7699e-02, -8.3368e-02,  2.5586e-02,  7.4750e-02,\n",
              "                      -9.0110e-02, -7.6423e-02, -9.6727e-02,  2.8483e-02,  2.2972e-02,\n",
              "                      -8.4110e-02,  1.1107e-01,  3.7312e-02,  1.1616e-02,  1.0608e-01,\n",
              "                       8.2183e-03, -8.3846e-02, -5.7668e-03,  7.6479e-02,  5.7451e-02,\n",
              "                      -1.0173e-01, -5.3602e-02,  7.0993e-02,  3.5931e-02,  9.9659e-02,\n",
              "                       1.0307e-01,  1.0334e-02, -3.6508e-02,  5.2862e-02,  9.7044e-02,\n",
              "                       8.3265e-02,  8.8688e-02, -1.1450e-01, -5.0696e-02,  6.9850e-02,\n",
              "                       1.9751e-02], device='cuda:0')),\n",
              "             ('lstm.bias_hh_l2',\n",
              "              tensor([ 0.0565,  0.0521,  0.1015,  0.0822, -0.0670,  0.0442,  0.0373, -0.0169,\n",
              "                      -0.0435, -0.0443, -0.1148, -0.1238, -0.1076,  0.0931, -0.0254, -0.0867,\n",
              "                      -0.1155,  0.0060, -0.1218,  0.0557,  0.0860, -0.0220,  0.1050,  0.0259,\n",
              "                      -0.0217, -0.1141,  0.1056,  0.0385, -0.0963, -0.0237, -0.1020, -0.0272,\n",
              "                       0.0579, -0.0909, -0.0888, -0.0174,  0.0616, -0.0181,  0.0195,  0.0813,\n",
              "                       0.1160, -0.0164,  0.0255,  0.0003, -0.0332, -0.1139,  0.0810, -0.1195,\n",
              "                      -0.1244, -0.1093, -0.0278, -0.0416, -0.0194, -0.0973, -0.0779, -0.0836,\n",
              "                      -0.0065,  0.0109, -0.1030, -0.0579,  0.0817, -0.0027, -0.0317, -0.1169,\n",
              "                       0.1175,  0.0191, -0.0946,  0.0380,  0.0781,  0.0418, -0.0923,  0.0694,\n",
              "                      -0.1113,  0.0516,  0.0155, -0.0415,  0.0492, -0.0357,  0.1029,  0.0107,\n",
              "                      -0.0713, -0.1149, -0.0127,  0.0079, -0.1167, -0.1059, -0.0309,  0.0165,\n",
              "                      -0.0259, -0.0690, -0.0057, -0.0199,  0.0977, -0.0250, -0.0908, -0.0909,\n",
              "                       0.0327,  0.0551, -0.0752,  0.1184, -0.0529,  0.0544,  0.0694,  0.0043,\n",
              "                      -0.1245, -0.0578,  0.0030,  0.0296, -0.0651,  0.0909, -0.0558, -0.0592,\n",
              "                       0.0863, -0.0906,  0.0065,  0.1051, -0.0514, -0.0302, -0.1057, -0.0806,\n",
              "                       0.0480, -0.0829, -0.0437,  0.0271, -0.0257,  0.0881,  0.0120,  0.0539,\n",
              "                       0.0689, -0.1023, -0.0767,  0.0703, -0.0096,  0.0428, -0.0042, -0.0769,\n",
              "                      -0.1175, -0.0944, -0.0197, -0.0415,  0.0095,  0.0264, -0.0299, -0.0189,\n",
              "                       0.0452,  0.0351, -0.0108,  0.0519,  0.1200, -0.0240,  0.0212, -0.0019,\n",
              "                       0.0407, -0.1221, -0.0435, -0.0231,  0.0545,  0.0957, -0.0351, -0.0501,\n",
              "                       0.1047, -0.0844,  0.0707, -0.0907,  0.0464, -0.1190,  0.0803,  0.0202,\n",
              "                       0.1019,  0.0889, -0.0946, -0.0507, -0.0988, -0.0971, -0.0476, -0.0464,\n",
              "                       0.0047,  0.1126,  0.0508, -0.0834,  0.0310,  0.0120,  0.0821,  0.0602,\n",
              "                       0.0339,  0.1086, -0.0938,  0.0520, -0.1018,  0.1127, -0.0882, -0.1084,\n",
              "                       0.0068, -0.0286, -0.0730,  0.0868,  0.0704, -0.0675, -0.0339,  0.0903,\n",
              "                       0.0784,  0.1220,  0.0140, -0.0821, -0.0995,  0.0106, -0.0557,  0.0675,\n",
              "                       0.0133, -0.1125, -0.1196,  0.0460,  0.0774,  0.0977,  0.0356, -0.0384,\n",
              "                       0.0457,  0.1183,  0.0413, -0.0237,  0.1095, -0.0439, -0.0771,  0.0278,\n",
              "                       0.1014, -0.0568, -0.0794, -0.0731,  0.0908, -0.0176, -0.0975, -0.0525,\n",
              "                       0.0938, -0.0192,  0.0921,  0.0988, -0.0517,  0.0184, -0.0190,  0.0888,\n",
              "                       0.1180, -0.0015,  0.0722,  0.0377, -0.0974, -0.1098, -0.1042, -0.0225,\n",
              "                       0.0764,  0.0416,  0.0724, -0.0418, -0.0903, -0.0054, -0.0136, -0.0443],\n",
              "                     device='cuda:0')),\n",
              "             ('lstm.weight_ih_l2_reverse',\n",
              "              tensor([[ 0.0763, -0.1131, -0.1042,  ..., -0.0985,  0.0799, -0.0075],\n",
              "                      [-0.0553, -0.0298, -0.0923,  ...,  0.1096, -0.0032,  0.0605],\n",
              "                      [-0.0888, -0.0566,  0.1008,  ...,  0.0206, -0.0508, -0.0550],\n",
              "                      ...,\n",
              "                      [-0.0772,  0.0329, -0.0369,  ..., -0.1076,  0.0559, -0.0559],\n",
              "                      [ 0.1081, -0.0269,  0.0779,  ..., -0.0532, -0.1111,  0.0679],\n",
              "                      [-0.0924,  0.1185,  0.0237,  ...,  0.0159,  0.1238,  0.0120]],\n",
              "                     device='cuda:0')),\n",
              "             ('lstm.weight_hh_l2_reverse',\n",
              "              tensor([[-0.0266,  0.0679, -0.0192,  ...,  0.0165,  0.0318, -0.0908],\n",
              "                      [ 0.0587,  0.0853, -0.1223,  ...,  0.0776,  0.0618, -0.0041],\n",
              "                      [-0.1070, -0.0410, -0.0627,  ...,  0.0981, -0.0850, -0.0646],\n",
              "                      ...,\n",
              "                      [ 0.0404, -0.0817,  0.0302,  ..., -0.1217, -0.0159, -0.0161],\n",
              "                      [ 0.1132,  0.0049, -0.0469,  ..., -0.0289, -0.0018, -0.1014],\n",
              "                      [-0.0804, -0.1028, -0.0019,  ...,  0.1004, -0.0075, -0.0260]],\n",
              "                     device='cuda:0')),\n",
              "             ('lstm.bias_ih_l2_reverse',\n",
              "              tensor([-5.3315e-02, -5.6619e-02,  4.5913e-02,  1.9953e-02, -4.7920e-02,\n",
              "                      -1.3454e-02,  2.1547e-03, -1.3284e-02, -6.2402e-02, -9.8633e-02,\n",
              "                      -6.1671e-02, -7.5573e-02, -2.2920e-02,  9.3021e-03, -6.2529e-03,\n",
              "                      -6.9236e-02, -1.8224e-02, -7.0514e-02, -2.5676e-02,  1.0293e-01,\n",
              "                       6.5824e-02,  8.8156e-03,  1.0329e-01, -2.4730e-02,  1.1364e-01,\n",
              "                       7.9675e-02, -3.6191e-02, -1.6856e-02, -1.2151e-03,  1.0564e-01,\n",
              "                       9.4988e-02, -1.1773e-01,  1.4237e-02,  6.2293e-02, -8.5847e-03,\n",
              "                       1.1446e-01, -3.4489e-02,  8.0648e-03, -6.8156e-03, -5.0155e-02,\n",
              "                       6.1215e-02,  4.9147e-02,  1.2793e-02,  1.1782e-01, -9.2452e-02,\n",
              "                       1.2055e-01, -6.7578e-02,  8.6364e-02,  1.1155e-01,  1.1207e-01,\n",
              "                      -7.9064e-02, -1.0486e-01,  1.8884e-02,  3.4151e-02,  1.0337e-01,\n",
              "                       7.1023e-02, -1.5762e-02, -1.0503e-01, -2.0173e-02,  3.5881e-02,\n",
              "                      -2.4265e-03,  9.8502e-02,  6.1173e-02, -6.5571e-02, -5.7647e-02,\n",
              "                      -8.8872e-02, -1.4903e-02, -3.3324e-02,  7.8470e-02, -4.9109e-02,\n",
              "                      -2.6754e-02, -8.3526e-03,  6.1124e-02, -1.1413e-01,  9.6546e-02,\n",
              "                       6.2483e-02, -8.4126e-02, -2.7582e-02,  1.1280e-02,  9.2035e-02,\n",
              "                       1.0710e-01,  5.7185e-02,  1.1865e-01, -1.0186e-01, -8.7343e-02,\n",
              "                       3.6159e-02,  6.0694e-02, -8.7898e-02,  8.2198e-04, -4.4607e-02,\n",
              "                      -7.7448e-02,  1.0430e-01,  1.1825e-01,  5.9004e-02,  2.7313e-02,\n",
              "                      -6.7338e-02,  3.9762e-02,  4.2995e-02, -3.1647e-02,  4.0323e-02,\n",
              "                      -1.8626e-05, -4.6716e-02,  9.3153e-02,  8.4199e-02, -1.0154e-03,\n",
              "                      -1.2305e-01,  5.6215e-02, -1.0479e-01, -1.1466e-01,  1.1429e-01,\n",
              "                       3.0655e-02, -6.1877e-02, -1.0499e-01,  1.2478e-01,  8.6964e-02,\n",
              "                      -5.7446e-02, -8.7802e-02,  7.8917e-02,  7.3421e-02,  1.2467e-01,\n",
              "                      -9.0976e-02, -6.2158e-02, -8.1713e-02,  1.1738e-01, -6.4901e-02,\n",
              "                      -6.6837e-02, -4.6937e-02,  1.0265e-01, -3.5029e-02, -1.1742e-01,\n",
              "                       5.6086e-02,  3.7547e-02,  8.6823e-02, -6.6063e-02,  1.2112e-01,\n",
              "                      -5.5065e-02,  1.1900e-01, -1.1285e-01, -3.2867e-02, -6.4202e-02,\n",
              "                       6.1420e-02, -6.7966e-02, -3.0731e-02, -8.9641e-02,  2.3567e-03,\n",
              "                       4.1762e-02, -3.4038e-02, -6.2560e-02,  8.6515e-02,  8.5467e-02,\n",
              "                       6.6413e-02,  1.0365e-01, -9.5957e-02, -1.0683e-01,  3.9487e-02,\n",
              "                      -5.4728e-02, -1.1396e-01, -1.2188e-01,  2.2775e-02,  1.0228e-01,\n",
              "                      -7.1939e-02,  3.2901e-02, -1.3026e-02,  8.3701e-03, -6.0404e-02,\n",
              "                       1.2437e-01,  5.9593e-02,  1.0238e-01,  6.8534e-02, -7.5481e-02,\n",
              "                       9.0345e-02,  5.2731e-02, -5.9893e-02, -2.9071e-02, -9.7799e-03,\n",
              "                      -1.0251e-01, -4.7490e-02, -9.6862e-03, -6.1530e-03,  1.2124e-01,\n",
              "                       3.7380e-02, -5.0987e-02,  7.3296e-02, -3.8663e-02, -4.2000e-02,\n",
              "                       1.1798e-01,  6.4612e-02, -8.6089e-02, -3.7882e-02, -7.9439e-02,\n",
              "                       3.1568e-04, -1.0390e-01, -5.0631e-02, -1.1943e-01,  9.9273e-02,\n",
              "                      -8.6350e-02,  1.1108e-02,  8.8861e-03, -9.9419e-02, -8.7020e-02,\n",
              "                       2.5586e-02, -5.1849e-02,  6.4333e-02, -9.4087e-02,  1.1871e-01,\n",
              "                      -1.0055e-01,  8.3254e-03, -3.3231e-02, -2.4798e-02,  7.6533e-02,\n",
              "                       6.3429e-02,  7.9796e-02, -1.5642e-02, -4.7500e-02,  2.8149e-02,\n",
              "                      -5.9531e-02,  9.7056e-02,  7.8955e-03,  6.5172e-02,  8.5272e-02,\n",
              "                       7.5423e-02, -1.2334e-02, -6.3204e-02,  1.2744e-03, -1.8220e-02,\n",
              "                       5.3272e-03,  3.3028e-02,  1.2400e-01,  2.7173e-02,  6.3228e-03,\n",
              "                       4.6706e-02,  9.7205e-03, -3.4556e-02,  1.1561e-01,  4.4091e-02,\n",
              "                      -3.3491e-02,  1.1099e-01, -8.3012e-02, -1.2284e-01, -4.6001e-02,\n",
              "                      -1.5578e-02,  3.6316e-02,  8.2417e-02,  4.9642e-02,  9.5908e-02,\n",
              "                      -2.6251e-02, -4.1547e-02, -1.0251e-01, -1.9808e-02,  5.2948e-02,\n",
              "                      -8.0676e-02, -5.0866e-02,  4.3988e-02, -7.0991e-02,  2.7766e-03,\n",
              "                       1.2006e-02], device='cuda:0')),\n",
              "             ('lstm.bias_hh_l2_reverse',\n",
              "              tensor([ 0.1097, -0.0844, -0.1243, -0.0406, -0.0048, -0.0293, -0.1159,  0.0744,\n",
              "                       0.1012, -0.0538, -0.0071,  0.0891,  0.1177,  0.0702, -0.0126,  0.0902,\n",
              "                       0.0644,  0.0652,  0.0645,  0.0054, -0.1044,  0.0669,  0.0010,  0.0249,\n",
              "                      -0.1101, -0.0759,  0.0208,  0.1239, -0.1105,  0.0649, -0.0206, -0.0415,\n",
              "                       0.0286,  0.0327,  0.0864,  0.1031, -0.0682, -0.0412,  0.1239,  0.0733,\n",
              "                      -0.0286,  0.0168,  0.0776,  0.0032, -0.0982, -0.0103,  0.1056,  0.0068,\n",
              "                       0.0687, -0.0155, -0.1021,  0.0382,  0.0832,  0.0888,  0.0261,  0.0270,\n",
              "                      -0.0540, -0.0244,  0.0936,  0.1236, -0.0073,  0.1050, -0.0973,  0.1070,\n",
              "                      -0.0083, -0.0263, -0.0499,  0.0269, -0.0268,  0.0772,  0.0168, -0.0873,\n",
              "                      -0.0274,  0.0801,  0.0377, -0.0094,  0.0461, -0.0951, -0.0214, -0.1101,\n",
              "                       0.0140, -0.0159, -0.0090,  0.0295,  0.1175,  0.0676, -0.0131, -0.0728,\n",
              "                      -0.0398,  0.1197,  0.0536,  0.0894,  0.0301, -0.0129, -0.0320,  0.0768,\n",
              "                       0.1051, -0.0916,  0.0033, -0.0928,  0.0480,  0.0306, -0.0467,  0.0271,\n",
              "                      -0.0490,  0.0898, -0.0724, -0.1207,  0.0575, -0.0170, -0.0256,  0.0049,\n",
              "                      -0.0649, -0.0598, -0.1239, -0.0728, -0.0413, -0.1158,  0.0224, -0.0037,\n",
              "                      -0.0965,  0.0453,  0.0253, -0.0959,  0.0300,  0.0804,  0.0536,  0.0722,\n",
              "                       0.0860,  0.1145,  0.0816, -0.0408,  0.0356, -0.0137,  0.0906,  0.0857,\n",
              "                       0.0364, -0.0872,  0.0878,  0.0993,  0.0701, -0.0211, -0.0410, -0.0371,\n",
              "                       0.0634,  0.0344, -0.0229,  0.0617, -0.0414,  0.0490,  0.0527, -0.0533,\n",
              "                      -0.0265,  0.1025,  0.0287, -0.0363, -0.0704,  0.0014, -0.1116,  0.0884,\n",
              "                      -0.0181, -0.0348, -0.0619, -0.0042, -0.0499, -0.0538,  0.1248, -0.1094,\n",
              "                       0.1001,  0.0261,  0.0857, -0.0855, -0.0361,  0.0023,  0.0347,  0.0945,\n",
              "                      -0.0923,  0.0320, -0.0305,  0.0628, -0.0656, -0.0231, -0.0172, -0.0885,\n",
              "                      -0.0161, -0.0180,  0.0764,  0.0767, -0.0739, -0.0024,  0.0397,  0.0294,\n",
              "                      -0.0877, -0.0249, -0.1243, -0.0465,  0.0580,  0.0357, -0.1013, -0.0026,\n",
              "                       0.0366, -0.0726,  0.0965, -0.0356,  0.0258, -0.0574, -0.0076, -0.1146,\n",
              "                      -0.0824,  0.0514, -0.0023,  0.0553, -0.0090, -0.0418,  0.0026,  0.0339,\n",
              "                      -0.0343, -0.0302, -0.1199, -0.0573,  0.0875,  0.1135,  0.0273,  0.0512,\n",
              "                      -0.0570,  0.0472, -0.0649, -0.0997,  0.1103, -0.1111,  0.0219, -0.1106,\n",
              "                      -0.0298,  0.1232, -0.0688, -0.1004, -0.0965,  0.0458, -0.0408,  0.1013,\n",
              "                       0.0702, -0.0616, -0.0821, -0.0908,  0.0541, -0.0027,  0.0253, -0.0197,\n",
              "                      -0.0863, -0.1071,  0.0029,  0.0246, -0.0696, -0.0513,  0.1140, -0.0271],\n",
              "                     device='cuda:0')),\n",
              "             ('fc.weight',\n",
              "              tensor([[ 0.0870, -0.0652, -0.0799,  ..., -0.0362, -0.0279,  0.0843],\n",
              "                      [-0.0838,  0.0610, -0.0147,  ..., -0.0250, -0.0868,  0.0269],\n",
              "                      [ 0.0082,  0.0286,  0.0442,  ..., -0.0324, -0.0445,  0.0020],\n",
              "                      ...,\n",
              "                      [ 0.0211, -0.0072,  0.0522,  ...,  0.0587,  0.0603,  0.0421],\n",
              "                      [-0.0234, -0.0198, -0.0530,  ...,  0.0741,  0.0011,  0.0722],\n",
              "                      [ 0.0363, -0.0588,  0.0070,  ..., -0.0320,  0.0841, -0.0647]],\n",
              "                     device='cuda:0')),\n",
              "             ('fc.bias',\n",
              "              tensor([-0.0812,  0.0322,  0.0734,  0.0495, -0.0562,  0.0167, -0.0772,  0.0524,\n",
              "                      -0.0708, -0.0142], device='cuda:0'))])"
            ]
          },
          "metadata": {},
          "execution_count": 9
        }
      ]
    },
    {
      "cell_type": "code",
      "execution_count": 10,
      "metadata": {
        "id": "3w9QW9Lfp1aV",
        "colab": {
          "base_uri": "https://localhost:8080/"
        },
        "outputId": "0be7c427-30d3-41e6-bf76-b65637ed7eb4"
      },
      "outputs": [
        {
          "output_type": "execute_result",
          "data": {
            "text/plain": [
              "LSTM_Model_label(\n",
              "  (lstm): LSTM(41, 64, num_layers=3, batch_first=True, bidirectional=True)\n",
              "  (fc): Linear(in_features=128, out_features=2, bias=True)\n",
              ")"
            ]
          },
          "metadata": {},
          "execution_count": 10
        }
      ],
      "source": [
        "my_model_label = LSTM_Model_label(num_classes_label, input_size, hidden_size, num_layers).to(device=device)\n",
        "my_model_label"
      ]
    },
    {
      "cell_type": "markdown",
      "metadata": {
        "id": "Cey1CId-jjis"
      },
      "source": [
        "# **optimizer and loss function**"
      ]
    },
    {
      "cell_type": "code",
      "execution_count": 11,
      "metadata": {
        "id": "WNuQFMAekNDH"
      },
      "outputs": [],
      "source": [
        "loss_fn1 = nn.CrossEntropyLoss().to(device=device)\n",
        "loss_fn2 = nn.CrossEntropyLoss().to(device=device)\n",
        "optimizer1 = opt.Adam(params=my_model_attack.parameters(),lr=learning_rate)\n",
        "optimizer2 = opt.Adam(params=my_model_label.parameters(),lr=learning_rate)"
      ]
    },
    {
      "cell_type": "markdown",
      "metadata": {
        "id": "4JYcovfYlpHM"
      },
      "source": [
        "# **train attack cat**"
      ]
    },
    {
      "cell_type": "code",
      "execution_count": 12,
      "metadata": {
        "id": "Qmw8w1eTkeBu",
        "colab": {
          "base_uri": "https://localhost:8080/"
        },
        "outputId": "b1488970-568e-4cd7-9e02-8d967210e594"
      },
      "outputs": [
        {
          "output_type": "stream",
          "name": "stdout",
          "text": [
            "Epoch: 0, loss: 0.5509\n",
            "Epoch: 50, loss: 0.4039\n",
            "Epoch: 100, loss: 0.3270\n",
            "Epoch: 150, loss: 0.3142\n",
            "Epoch: 200, loss: 0.3138\n",
            "Epoch: 250, loss: 0.2752\n",
            "Epoch: 300, loss: 0.2390\n",
            "Epoch: 350, loss: 0.3226\n",
            "Epoch: 400, loss: 0.3285\n",
            "Epoch: 450, loss: 0.3126\n",
            "Epoch: 500, loss: 0.3263\n"
          ]
        }
      ],
      "source": [
        "for epoch in range(num_epoch+1):\n",
        "\n",
        "    for batch_x, batch_y in train_attack_cat_dataloader:\n",
        "\n",
        "        batch_x = torch.reshape(batch_x, (batch_x.shape[0], 1, batch_x.shape[1])) #RuntimeError: For unbatched 2-D input, hx and cx should also be 2-D but got (3-D, 3-D) tensors\n",
        "        \n",
        "        batch_x = batch_x.to(device)\n",
        "        batch_y = batch_y.to(device)\n",
        "\n",
        "        optimizer1.zero_grad()\n",
        "        loss1 = loss_fn1(my_model_attack(batch_x) , batch_y)\n",
        "        loss1.backward() \n",
        "        optimizer1.step()\n",
        "\n",
        "    if epoch % 50 == 0:\n",
        "         print(\"Epoch: %d, loss: %.4f\" % (epoch, loss1.item())) "
      ]
    },
    {
      "cell_type": "markdown",
      "metadata": {
        "id": "PQaRCMJPls5N"
      },
      "source": [
        "# **test attack cat**"
      ]
    },
    {
      "cell_type": "code",
      "execution_count": 13,
      "metadata": {
        "id": "QrtYzVT4loMQ",
        "colab": {
          "base_uri": "https://localhost:8080/"
        },
        "outputId": "10b26a00-b6ba-4550-c679-aeb274dcb796"
      },
      "outputs": [
        {
          "output_type": "stream",
          "name": "stdout",
          "text": [
            "acc : 80.42%\n"
          ]
        }
      ],
      "source": [
        "correct = 0\n",
        "\n",
        "for batch_x, labl in test_attack_cat_dataloader:\n",
        "  \n",
        "    batch_x = torch.reshape(batch_x, (batch_x.shape[0], 1, batch_x.shape[1])) #RuntimeError: For unbatched 2-D input, hx and cx should also be 2-D but got (3-D, 3-D) tensors\n",
        "  \n",
        "    batch_x = batch_x.to(device)\n",
        "    labl = labl.to(device)\n",
        "\n",
        "    out = my_model_attack(batch_x)\n",
        "    _,predicted = torch.max(out,1)\n",
        "    correct += torch.sum(predicted == labl)\n",
        "\n",
        "print(\"acc : %.2f\" % (100.*correct / len(test_attack_cat)),end=\"\")\n",
        "print(\"%\")"
      ]
    },
    {
      "cell_type": "markdown",
      "metadata": {
        "id": "pLqOLtA6tQht"
      },
      "source": [
        "# **train label**"
      ]
    },
    {
      "cell_type": "code",
      "execution_count": 14,
      "metadata": {
        "id": "Xm1cu1GhtMJO",
        "colab": {
          "base_uri": "https://localhost:8080/"
        },
        "outputId": "bfd8dbc3-b322-4ec2-c38d-b100445fddc0"
      },
      "outputs": [
        {
          "output_type": "stream",
          "name": "stdout",
          "text": [
            "Epoch: 0, loss: 0.1597\n",
            "Epoch: 50, loss: 0.0845\n",
            "Epoch: 100, loss: 0.0930\n",
            "Epoch: 150, loss: 0.0529\n",
            "Epoch: 200, loss: 0.0269\n",
            "Epoch: 250, loss: 0.0349\n",
            "Epoch: 300, loss: 0.0289\n",
            "Epoch: 350, loss: 0.0188\n",
            "Epoch: 400, loss: 0.0403\n",
            "Epoch: 450, loss: 0.0464\n",
            "Epoch: 500, loss: 0.0205\n"
          ]
        }
      ],
      "source": [
        "for epoch in range(num_epoch+1):\n",
        "\n",
        "    for batch_x, batch_y in train_label_dataloader:\n",
        "\n",
        "        batch_x = torch.reshape(batch_x, (batch_x.shape[0], 1, batch_x.shape[1])) #RuntimeError: For unbatched 2-D input, hx and cx should also be 2-D but got (3-D, 3-D) tensors\n",
        "        \n",
        "        batch_x = batch_x.to(device)\n",
        "        batch_y = batch_y.to(device)\n",
        "\n",
        "        optimizer2.zero_grad()\n",
        "        loss2 = loss_fn2(my_model_label(batch_x) , batch_y)\n",
        "        loss2.backward() \n",
        "        optimizer2.step()\n",
        "\n",
        "    if epoch % 50 == 0:\n",
        "         print(\"Epoch: %d, loss: %.4f\" % (epoch, loss2.item())) "
      ]
    },
    {
      "cell_type": "markdown",
      "metadata": {
        "id": "Ig7VBqU0tfZd"
      },
      "source": [
        "# **test label**"
      ]
    },
    {
      "cell_type": "code",
      "execution_count": 15,
      "metadata": {
        "id": "a7u2bQ0WtiG2",
        "colab": {
          "base_uri": "https://localhost:8080/"
        },
        "outputId": "bbb5d5cf-ba98-40df-dbe2-c21482344b4b"
      },
      "outputs": [
        {
          "output_type": "stream",
          "name": "stdout",
          "text": [
            "acc : 93.47%\n"
          ]
        }
      ],
      "source": [
        "correct = 0\n",
        "\n",
        "for batch_x, labl in test_label_dataloader:\n",
        "\n",
        "    batch_x = torch.reshape(batch_x, (batch_x.shape[0], 1, batch_x.shape[1])) #RuntimeError: For unbatched 2-D input, hx and cx should also be 2-D but got (3-D, 3-D) tensors\n",
        "\n",
        "    batch_x = batch_x.to(device)\n",
        "    labl = labl.to(device)\n",
        "  \n",
        "    out = my_model_label(batch_x)\n",
        "    _,predicted = torch.max(out,1)\n",
        "    correct += torch.sum(predicted == labl)\n",
        "\n",
        "print(\"acc : %.2f\" % (100.*correct / len(test_label)),end=\"\")\n",
        "print(\"%\")"
      ]
    }
  ],
  "metadata": {
    "accelerator": "GPU",
    "colab": {
      "collapsed_sections": [],
      "provenance": []
    },
    "gpuClass": "standard",
    "kernelspec": {
      "display_name": "Python 3",
      "name": "python3"
    },
    "language_info": {
      "name": "python"
    }
  },
  "nbformat": 4,
  "nbformat_minor": 0
}