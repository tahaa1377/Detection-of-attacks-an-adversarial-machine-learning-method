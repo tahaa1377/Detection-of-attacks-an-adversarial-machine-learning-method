{
  "cells": [
    {
      "cell_type": "code",
      "execution_count": 1,
      "metadata": {
        "id": "Ff1b4PxtBQuc"
      },
      "outputs": [],
      "source": [
        "num_epoch = 500      \n",
        "learning_rate = 0.01\n",
        "batch_size = 2000\n",
        "\n",
        "hidden_size = 32 #number of features in hidden state\n",
        "num_layers = 4  #number of stacked lstm layers\n",
        "bidirectional = True\n",
        "drop_out = 0.5\n",
        "bidirectional_forward_backward = 2 if bidirectional else 1\n",
        "\n",
        "input_size = 41 #number of features\n",
        "num_classes_attack_cat = 10 #number of output classes \n",
        "num_classes_label = 2       #number of output classes "
      ]
    },
    {
      "cell_type": "code",
      "execution_count": 2,
      "metadata": {
        "colab": {
          "base_uri": "https://localhost:8080/"
        },
        "id": "0Gua0hky6SDJ",
        "outputId": "a2e159a5-4855-48f9-9d41-9e5f82b6f9f8"
      },
      "outputs": [
        {
          "output_type": "stream",
          "name": "stdout",
          "text": [
            "Drive already mounted at /content/drive; to attempt to forcibly remount, call drive.mount(\"/content/drive\", force_remount=True).\n"
          ]
        }
      ],
      "source": [
        "from google.colab import drive\n",
        "drive.mount('/content/drive')"
      ]
    },
    {
      "cell_type": "code",
      "execution_count": 3,
      "metadata": {
        "colab": {
          "base_uri": "https://localhost:8080/"
        },
        "id": "hZiaj4uT24DH",
        "outputId": "30d052b6-faeb-4a0c-ed06-04cfc4ab8cce"
      },
      "outputs": [
        {
          "output_type": "stream",
          "name": "stdout",
          "text": [
            "GPU\n"
          ]
        }
      ],
      "source": [
        "import pandas as pd\n",
        "from matplotlib import pyplot as plt\n",
        "import numpy as np\n",
        "from torch.utils.data.dataset import Dataset\n",
        "from torch.utils.data import random_split, DataLoader\n",
        "import torch\n",
        "from sklearn.preprocessing import LabelEncoder\n",
        "from sklearn import preprocessing\n",
        "import torch.nn as nn\n",
        "import torch.nn.functional as F\n",
        "import torch.optim as opt\n",
        "from torch.autograd import Variable \n",
        "\n",
        "# GPU OR CPU\n",
        "if torch.cuda.is_available():\n",
        "    device = torch.device(\"cuda:0\")\n",
        "    print(\"GPU\")\n",
        "else:\n",
        "    device = torch.device(\"cpu\")\n",
        "    print(\"CPU\")"
      ]
    },
    {
      "cell_type": "code",
      "execution_count": 4,
      "metadata": {
        "id": "Sv-R_m6Z1EL5"
      },
      "outputs": [],
      "source": [
        "class DataSet_UNSWNB15_attack_cat(Dataset):\n",
        "\n",
        "    def __init__(self,data_set_path):\n",
        "        df = pd.read_csv(data_set_path)\n",
        "        print(df.attack_cat.value_counts().sort_values().plot(kind = \"barh\"))\n",
        "        \n",
        "        # preprocceing\n",
        "        df.drop(['id',\"Unnamed: 0\",\"service\",\"label\"], axis=1, inplace=True)        \n",
        "        cols = ['attack_cat' ,'proto' ,'state']\n",
        "        df[cols] = df[cols].apply(LabelEncoder().fit_transform)\n",
        "\n",
        "        self.data_array = df.values\n",
        "        self.x = self.data_array[:, :41]\n",
        "        self.y = self.data_array[:, 41]\n",
        "      \n",
        "        # normalaized data\n",
        "        scaler = preprocessing.StandardScaler().fit(self.x)\n",
        "        self.x = scaler.transform(self.x)\n",
        "\n",
        "        self.x = torch.tensor(self.x).float()\n",
        "        self.y = torch.tensor(self.y).long()\n",
        "\n",
        "    def __len__(self):\n",
        "        return len(self.data_array)\n",
        "\n",
        "    def __getitem__(self, item):\n",
        "        sample = (self.x[item, :], self.y[item])\n",
        "        return sample\n",
        "\n",
        "        \n",
        "class DataSet_UNSWNB15_label(Dataset):\n",
        "\n",
        "    def __init__(self,data_set_path):\n",
        "        df = pd.read_csv(data_set_path)\n",
        "        print(df.label.value_counts().sort_values().plot(kind = \"pie\"))\n",
        "\n",
        "        # preprocceing\n",
        "        df.drop(['id',\"Unnamed: 0\",\"service\",\"attack_cat\"], axis=1, inplace=True)\n",
        "        cols = ['proto' ,'state']\n",
        "        df[cols] = df[cols].apply(LabelEncoder().fit_transform)\n",
        "\n",
        "        self.data_array = df.values\n",
        "        self.x = self.data_array[:, :41]\n",
        "        self.y = self.data_array[:, 41]\n",
        "        \n",
        "        # normalaized data\n",
        "        scaler = preprocessing.StandardScaler().fit(self.x)\n",
        "        self.x = scaler.transform(self.x)\n",
        "\n",
        "        self.x = torch.tensor(self.x).float()\n",
        "        self.y = torch.tensor(self.y).long()\n",
        "\n",
        "    def __len__(self):\n",
        "        return len(self.data_array)\n",
        "\n",
        "    def __getitem__(self, item):\n",
        "        sample = (self.x[item, :], self.y[item])\n",
        "        return sample"
      ]
    },
    {
      "cell_type": "code",
      "execution_count": 5,
      "metadata": {
        "colab": {
          "base_uri": "https://localhost:8080/",
          "height": 283
        },
        "id": "UykLrbQZ1R7K",
        "outputId": "71022dba-7203-44f1-873d-0df53a3d5a98"
      },
      "outputs": [
        {
          "output_type": "stream",
          "name": "stdout",
          "text": [
            "AxesSubplot(0.125,0.125;0.775x0.755)\n"
          ]
        },
        {
          "output_type": "display_data",
          "data": {
            "text/plain": [
              "<Figure size 432x288 with 1 Axes>"
            ],
            "image/png": "[encoded data removed]"
          },
          "metadata": {
            "needs_background": "light"
          }
        }
      ],
      "source": [
        "dataset_attack_cat = DataSet_UNSWNB15_attack_cat(\"/content/drive/MyDrive/datasets/UNSW-NB15/UNSW_NB15.csv\")\n",
        "number_of_test = int(len(dataset_attack_cat)*0.3)\n",
        "number_of_train = len(dataset_attack_cat) - int(len(dataset_attack_cat)*0.3)\n",
        "train_attack_cat ,test_attack_cat = random_split(dataset=dataset_attack_cat, lengths=[number_of_train,number_of_test])\n",
        "\n",
        "train_attack_cat_dataloader = DataLoader(dataset=train_attack_cat ,batch_size=batch_size ,shuffle=True)\n",
        "test_attack_cat_dataloader = DataLoader(dataset=test_attack_cat ,batch_size=batch_size ,shuffle=True)"
      ]
    },
    {
      "cell_type": "code",
      "execution_count": 6,
      "metadata": {
        "colab": {
          "base_uri": "https://localhost:8080/",
          "height": 266
        },
        "id": "LmFY9Q-u29T3",
        "outputId": "4119da64-c887-4ed6-b366-39dc6618daab"
      },
      "outputs": [
        {
          "output_type": "stream",
          "name": "stdout",
          "text": [
            "AxesSubplot(0.260833,0.125;0.503333x0.755)\n"
          ]
        },
        {
          "output_type": "display_data",
          "data": {
            "text/plain": [
              "<Figure size 432x288 with 1 Axes>"
            ],
            "image/png": "[encoded data removed]"
          },
          "metadata": {}
        }
      ],
      "source": [
        "dataset_label = DataSet_UNSWNB15_label(\"/content/drive/MyDrive/datasets/UNSW-NB15/UNSW_NB15.csv\")\n",
        "number_of_test = int(len(dataset_label)*0.3)\n",
        "number_of_train = len(dataset_label) - int(len(dataset_label)*0.3)\n",
        "train_label ,test_label = random_split(dataset=dataset_label, lengths=[number_of_train,number_of_test])\n",
        "\n",
        "train_label_dataloader = DataLoader(dataset=train_label ,batch_size=batch_size ,shuffle=True)\n",
        "test_label_dataloader = DataLoader(dataset=test_label ,batch_size=batch_size ,shuffle=True)"
      ]
    },
    {
      "cell_type": "markdown",
      "metadata": {
        "id": "0HslPLv2IOGd"
      },
      "source": [
        "# **preprocessing ended**\n",
        "\n",
        "# **create model**"
      ]
    },
    {
      "cell_type": "markdown",
      "metadata": {
        "id": "F2hNvBs6qBQS"
      },
      "source": [
        "![bilstm-1.webp](data:image/webp;base64,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)"
      ]
    },
    {
      "cell_type": "code",
      "execution_count": 7,
      "metadata": {
        "id": "oN6DuQbJibuE"
      },
      "outputs": [],
      "source": [
        "class LSTM_Model_attack(nn.Module):\n",
        "    def __init__(self, num_classes, input_size, hidden_size, num_layers):\n",
        "        super(LSTM_Model_attack, self).__init__()\n",
        "        self.num_classes = num_classes #number of classes\n",
        "        self.num_layers = num_layers #number of layers\n",
        "        self.input_size = input_size #input size\n",
        "        self.hidden_size = hidden_size #hidden state\n",
        "\n",
        "        self.lstm = nn.LSTM(input_size=input_size, hidden_size=hidden_size, num_layers=num_layers, batch_first=True,\n",
        "                            bidirectional=bidirectional, dropout=drop_out) #lstm\n",
        "\n",
        "        self.fc = nn.Linear(hidden_size * bidirectional_forward_backward, num_classes) #fully connected last layer\n",
        "                             # 2 => forward and backward for bidirectional\n",
        "    \n",
        "    def forward(self,x):\n",
        "                                                # 2 => forward and backward for bidirectional\n",
        "        h_0 = Variable(torch.zeros(self.num_layers * bidirectional_forward_backward, x.size(0), self.hidden_size)).to(device=device) #hidden state\n",
        "        c_0 = Variable(torch.zeros(self.num_layers * bidirectional_forward_backward, x.size(0), self.hidden_size)).to(device=device) #internal state\n",
        "\n",
        "        out, (hn, cn) = self.lstm(x, (h_0, c_0))\n",
        "        out = self.fc(out[:, -1, :]) \n",
        "        return out\n",
        "\n",
        "\n",
        "class LSTM_Model_label(nn.Module):\n",
        "    def __init__(self, num_classes, input_size, hidden_size, num_layers):\n",
        "        super(LSTM_Model_label, self).__init__()\n",
        "        self.num_classes = num_classes #number of classes\n",
        "        self.num_layers = num_layers #number of layers\n",
        "        self.input_size = input_size #input size\n",
        "        self.hidden_size = hidden_size #hidden state\n",
        "\n",
        "        self.lstm = nn.LSTM(input_size=input_size, hidden_size=hidden_size, num_layers=num_layers, batch_first=True, \n",
        "                            bidirectional=bidirectional, dropout=drop_out) #lstm\n",
        "\n",
        "        self.fc = nn.Linear(hidden_size * bidirectional_forward_backward, num_classes) #fully connected last layer\n",
        "\n",
        "    \n",
        "    def forward(self,x):\n",
        "        h_0 = Variable(torch.zeros(self.num_layers * bidirectional_forward_backward, x.size(0), self.hidden_size)).to(device=device) #hidden state\n",
        "        c_0 = Variable(torch.zeros(self.num_layers * bidirectional_forward_backward, x.size(0), self.hidden_size)).to(device=device) #internal state\n",
        "\n",
        "        out, (hn, cn) = self.lstm(x, (h_0, c_0))\n",
        "        out = self.fc(out[:, -1, :]) \n",
        "        return out\n"
      ]
    },
    {
      "cell_type": "code",
      "execution_count": 8,
      "metadata": {
        "colab": {
          "base_uri": "https://localhost:8080/"
        },
        "id": "US8JfNI8j3zO",
        "outputId": "c187d7b8-2eb5-41c4-da80-fb7b167e4a19"
      },
      "outputs": [
        {
          "output_type": "execute_result",
          "data": {
            "text/plain": [
              "LSTM_Model_attack(\n",
              "  (lstm): LSTM(41, 32, num_layers=4, batch_first=True, dropout=0.5, bidirectional=True)\n",
              "  (fc): Linear(in_features=64, out_features=10, bias=True)\n",
              ")"
            ]
          },
          "metadata": {},
          "execution_count": 8
        }
      ],
      "source": [
        "my_model_attack = LSTM_Model_attack(num_classes_attack_cat, input_size, hidden_size, num_layers).to(device=device)\n",
        "my_model_attack"
      ]
    },
    {
      "cell_type": "code",
      "execution_count": 9,
      "metadata": {
        "colab": {
          "base_uri": "https://localhost:8080/"
        },
        "id": "Dq8JkQZ9ukCs",
        "outputId": "2c2fc7ca-96c9-40ee-97af-55c638948f44"
      },
      "outputs": [
        {
          "output_type": "execute_result",
          "data": {
            "text/plain": [
              "OrderedDict([('lstm.weight_ih_l0',\n",
              "              tensor([[ 0.0189,  0.1234,  0.1398,  ..., -0.0779,  0.0300,  0.0658],\n",
              "                      [-0.0021,  0.1703,  0.1088,  ...,  0.1552,  0.0840,  0.0855],\n",
              "                      [ 0.0960, -0.0763, -0.1343,  ...,  0.1057,  0.0611, -0.1445],\n",
              "                      ...,\n",
              "                      [ 0.0201, -0.1293, -0.0873,  ...,  0.1740,  0.1730,  0.1686],\n",
              "                      [ 0.1225,  0.1080, -0.0183,  ..., -0.1587, -0.0163,  0.0833],\n",
              "                      [ 0.1001,  0.1697,  0.0579,  ..., -0.1068, -0.1276,  0.0544]],\n",
              "                     device='cuda:0')),\n",
              "             ('lstm.weight_hh_l0',\n",
              "              tensor([[-0.1203,  0.1367, -0.0361,  ...,  0.1109,  0.0494, -0.0868],\n",
              "                      [-0.0272,  0.0350, -0.0282,  ..., -0.0063, -0.1131,  0.1103],\n",
              "                      [-0.1019, -0.0186,  0.0023,  ...,  0.0343,  0.1066,  0.0994],\n",
              "                      ...,\n",
              "                      [-0.0102,  0.0255, -0.0295,  ..., -0.0471,  0.1319,  0.1188],\n",
              "                      [ 0.0283,  0.0046, -0.0258,  ...,  0.1127,  0.0209, -0.0530],\n",
              "                      [ 0.0378, -0.0560, -0.1218,  ..., -0.0496,  0.0998,  0.1607]],\n",
              "                     device='cuda:0')),\n",
              "             ('lstm.bias_ih_l0',\n",
              "              tensor([ 0.1583,  0.1013,  0.0476, -0.1140, -0.0596,  0.1043,  0.0730,  0.1628,\n",
              "                      -0.1730,  0.1437, -0.0874,  0.1662,  0.1741,  0.0955,  0.1522, -0.1097,\n",
              "                      -0.0909,  0.0705,  0.0478,  0.0026,  0.0725, -0.0568, -0.1170,  0.0077,\n",
              "                      -0.0829,  0.0372,  0.0401, -0.1064, -0.0241, -0.1070,  0.0289,  0.1192,\n",
              "                      -0.0222, -0.1190, -0.0786,  0.1040,  0.1223,  0.1163,  0.0069,  0.0362,\n",
              "                      -0.1540, -0.0980, -0.0231,  0.0686, -0.0324,  0.0862, -0.0467,  0.0995,\n",
              "                       0.0903,  0.0506, -0.0654,  0.1578, -0.1703, -0.0287,  0.1090, -0.0318,\n",
              "                      -0.0094,  0.0693, -0.1513, -0.1682,  0.1544, -0.1432,  0.1437,  0.1306,\n",
              "                       0.1129, -0.0801,  0.1676, -0.1000,  0.0130,  0.0533, -0.1452,  0.1276,\n",
              "                       0.1158,  0.0431, -0.1404,  0.0405, -0.1754, -0.0284,  0.0222, -0.0780,\n",
              "                       0.0798,  0.1000,  0.0508, -0.0997, -0.1351, -0.1720,  0.1491,  0.1204,\n",
              "                      -0.0014,  0.1099,  0.1223,  0.0176,  0.0857, -0.1536, -0.0969,  0.0672,\n",
              "                       0.1579, -0.0687, -0.1579,  0.1761,  0.1762, -0.0072, -0.1505,  0.0778,\n",
              "                       0.0505, -0.0481,  0.1714,  0.1441, -0.0488, -0.0109, -0.1328, -0.0686,\n",
              "                      -0.1429, -0.1723, -0.1519, -0.0921,  0.0118, -0.0463, -0.0574,  0.1652,\n",
              "                      -0.0256, -0.0705, -0.1726,  0.0616, -0.0328,  0.1478,  0.1520, -0.0378],\n",
              "                     device='cuda:0')),\n",
              "             ('lstm.bias_hh_l0',\n",
              "              tensor([ 0.0482, -0.0036,  0.0057, -0.1233,  0.1304, -0.1399,  0.1228, -0.1423,\n",
              "                       0.0294,  0.0087, -0.0605,  0.1336,  0.1585,  0.0960,  0.1756,  0.1249,\n",
              "                       0.0976,  0.0481,  0.0330,  0.0188, -0.1389,  0.1280,  0.0923, -0.0112,\n",
              "                      -0.1259,  0.0316,  0.1201,  0.0763,  0.0324, -0.0944,  0.1632, -0.0355,\n",
              "                      -0.0902,  0.0328,  0.0232,  0.0166,  0.1236,  0.1378, -0.0004, -0.0076,\n",
              "                       0.0396, -0.1331, -0.0933,  0.1628, -0.0775, -0.0071, -0.1052, -0.0837,\n",
              "                       0.1722,  0.1285,  0.1067, -0.0750, -0.1067, -0.1500, -0.1183,  0.0124,\n",
              "                       0.0883, -0.0839,  0.0925, -0.1088,  0.0695, -0.1336,  0.0385,  0.0509,\n",
              "                      -0.0847,  0.0130,  0.1295,  0.1118, -0.0617,  0.0928,  0.0639, -0.0009,\n",
              "                      -0.0492, -0.1072, -0.1066, -0.0682,  0.1664, -0.0384, -0.1343, -0.0064,\n",
              "                       0.1027, -0.0328, -0.1460, -0.1517,  0.1284,  0.0461,  0.0222,  0.0175,\n",
              "                      -0.1281, -0.1404, -0.1763,  0.1417,  0.1352,  0.0238, -0.0290, -0.0363,\n",
              "                       0.1277,  0.0069, -0.1159,  0.0788,  0.1022,  0.1593,  0.1335, -0.1662,\n",
              "                      -0.1290, -0.0644,  0.1425,  0.1676, -0.0174,  0.0300,  0.1017,  0.1693,\n",
              "                       0.1275,  0.0069, -0.0113,  0.0707, -0.0842,  0.1659, -0.0949, -0.0116,\n",
              "                       0.0098, -0.0307,  0.1131,  0.1303, -0.1745,  0.0882, -0.0707,  0.1636],\n",
              "                     device='cuda:0')),\n",
              "             ('lstm.weight_ih_l0_reverse',\n",
              "              tensor([[ 0.1438,  0.1647,  0.1357,  ..., -0.1696, -0.0546,  0.0325],\n",
              "                      [-0.1190,  0.0166, -0.0414,  ..., -0.0266,  0.1721, -0.1731],\n",
              "                      [ 0.0846, -0.1581, -0.1680,  ..., -0.1336, -0.0694,  0.0573],\n",
              "                      ...,\n",
              "                      [ 0.1652, -0.0050,  0.1147,  ..., -0.0516,  0.1051, -0.1456],\n",
              "                      [-0.0330, -0.1267,  0.0116,  ...,  0.0109,  0.0702, -0.1394],\n",
              "                      [-0.1265,  0.0879, -0.1727,  ..., -0.0054, -0.0376,  0.0261]],\n",
              "                     device='cuda:0')),\n",
              "             ('lstm.weight_hh_l0_reverse',\n",
              "              tensor([[-9.2768e-02, -1.2925e-01, -5.1077e-02,  ..., -8.9508e-02,\n",
              "                        4.1129e-02,  7.2693e-02],\n",
              "                      [-2.9080e-02, -1.4412e-01, -1.1113e-01,  ...,  4.1089e-02,\n",
              "                        6.6558e-02, -1.8292e-05],\n",
              "                      [ 8.3162e-02, -6.1052e-02, -1.2559e-01,  ...,  5.1264e-02,\n",
              "                        7.1036e-02,  4.8548e-02],\n",
              "                      ...,\n",
              "                      [-7.6065e-03, -3.1838e-02,  5.6556e-02,  ...,  5.5067e-02,\n",
              "                        1.3904e-01, -5.5211e-02],\n",
              "                      [ 1.4715e-01,  1.4396e-01, -1.1653e-01,  ...,  7.6701e-02,\n",
              "                        6.7253e-02, -1.3397e-01],\n",
              "                      [ 9.5995e-03, -1.7283e-01,  2.2275e-02,  ...,  5.4647e-02,\n",
              "                       -2.5803e-02, -1.9889e-02]], device='cuda:0')),\n",
              "             ('lstm.bias_ih_l0_reverse',\n",
              "              tensor([-0.0625, -0.1590, -0.1456,  0.1449, -0.0463, -0.1029, -0.0186,  0.1365,\n",
              "                      -0.0300,  0.0354, -0.1736,  0.1064, -0.1281, -0.0289,  0.1118,  0.0493,\n",
              "                      -0.0941,  0.1305, -0.1497,  0.1229,  0.0949, -0.0851,  0.0676,  0.0260,\n",
              "                       0.0521, -0.1214,  0.0819,  0.1127, -0.1418,  0.0928, -0.0225,  0.0083,\n",
              "                      -0.0770,  0.1116, -0.0541, -0.0283,  0.1367, -0.0089,  0.0073, -0.1347,\n",
              "                      -0.0775, -0.1178,  0.0980,  0.1257,  0.0039, -0.0759,  0.1724,  0.0877,\n",
              "                      -0.0907,  0.0046,  0.1467, -0.1178,  0.0137, -0.0909,  0.1561,  0.0094,\n",
              "                       0.0910, -0.0653,  0.1552, -0.1400, -0.1108,  0.1019, -0.0639,  0.0763,\n",
              "                      -0.0826, -0.0975, -0.0238, -0.0607,  0.0215, -0.1477,  0.1243,  0.0698,\n",
              "                       0.0672,  0.0805, -0.0258,  0.0218,  0.1591,  0.0776,  0.1004,  0.1153,\n",
              "                      -0.0681,  0.1684, -0.1074,  0.1756, -0.0482,  0.0568,  0.1584, -0.0312,\n",
              "                      -0.1381,  0.0630,  0.0463,  0.1533,  0.1077,  0.0776, -0.0859, -0.1439,\n",
              "                       0.0114,  0.0213,  0.0965, -0.1455, -0.0180,  0.1327, -0.1485, -0.0697,\n",
              "                      -0.1477, -0.1546,  0.1681,  0.1645,  0.1722,  0.1374,  0.0890, -0.0624,\n",
              "                      -0.0305, -0.1492, -0.0896,  0.0435,  0.0580,  0.1527, -0.1742,  0.0281,\n",
              "                       0.0096, -0.0207, -0.1072, -0.0163,  0.0303,  0.1152, -0.1652,  0.0516],\n",
              "                     device='cuda:0')),\n",
              "             ('lstm.bias_hh_l0_reverse',\n",
              "              tensor([-0.1033,  0.1354,  0.0708,  0.0165,  0.0552,  0.0187, -0.0253, -0.1155,\n",
              "                       0.1111, -0.0962,  0.1094, -0.0723,  0.0322, -0.1613, -0.0904, -0.0964,\n",
              "                      -0.1510, -0.1318, -0.0073,  0.0724,  0.0482,  0.1478,  0.0945, -0.1487,\n",
              "                       0.1204, -0.0162,  0.1006,  0.0688, -0.1640,  0.1587, -0.0598,  0.1647,\n",
              "                       0.0948, -0.1745,  0.1096,  0.0170,  0.0063, -0.1519, -0.1767, -0.0624,\n",
              "                      -0.1760,  0.1248,  0.0006, -0.0120,  0.0827,  0.0710,  0.0227,  0.0243,\n",
              "                      -0.0040, -0.0539,  0.1038, -0.0528,  0.0833, -0.0091, -0.0759,  0.0567,\n",
              "                       0.0379, -0.0721,  0.0284, -0.1344,  0.0560,  0.1454, -0.1467,  0.0062,\n",
              "                      -0.1766,  0.0826,  0.0484,  0.0398, -0.0207,  0.0433,  0.0583, -0.1349,\n",
              "                      -0.0316,  0.0575, -0.1652, -0.1683,  0.0567,  0.0983,  0.1123,  0.0365,\n",
              "                      -0.0429,  0.1457, -0.0790,  0.0187,  0.0129,  0.0090, -0.0761, -0.1308,\n",
              "                      -0.0098,  0.1023, -0.0066, -0.1323, -0.0712,  0.1614,  0.0539, -0.0286,\n",
              "                       0.1374,  0.0492, -0.1262,  0.0070,  0.1530,  0.0230, -0.0513, -0.1678,\n",
              "                       0.0869,  0.1475, -0.1141, -0.0695,  0.0996, -0.1595,  0.1465, -0.0302,\n",
              "                      -0.1269, -0.1656, -0.0932,  0.1210, -0.0903,  0.0203,  0.0006, -0.1226,\n",
              "                       0.1489, -0.0521, -0.0963, -0.0096,  0.1640,  0.0924,  0.0889, -0.1756],\n",
              "                     device='cuda:0')),\n",
              "             ('lstm.weight_ih_l1',\n",
              "              tensor([[ 0.1173,  0.1550,  0.0647,  ...,  0.0840,  0.1320,  0.0260],\n",
              "                      [-0.1639, -0.1718, -0.1343,  ..., -0.0579, -0.0715,  0.1486],\n",
              "                      [ 0.1583, -0.1528, -0.1319,  ..., -0.1689, -0.0138,  0.0124],\n",
              "                      ...,\n",
              "                      [ 0.1447,  0.1652, -0.0595,  ...,  0.0672, -0.0224, -0.0169],\n",
              "                      [-0.0933, -0.0029, -0.1448,  ..., -0.0890,  0.0732, -0.0955],\n",
              "                      [-0.1079, -0.0235, -0.0187,  ..., -0.0671, -0.1325,  0.0922]],\n",
              "                     device='cuda:0')),\n",
              "             ('lstm.weight_hh_l1',\n",
              "              tensor([[-0.0159,  0.0213,  0.0792,  ..., -0.0154,  0.0201,  0.1162],\n",
              "                      [-0.0533,  0.0510, -0.0428,  ..., -0.0435,  0.0127,  0.0136],\n",
              "                      [-0.1004, -0.0928,  0.1483,  ..., -0.0606,  0.0709,  0.0932],\n",
              "                      ...,\n",
              "                      [ 0.1217,  0.0970,  0.0405,  ..., -0.1343, -0.1061, -0.1078],\n",
              "                      [-0.0623, -0.0311, -0.0715,  ..., -0.0188, -0.0667, -0.0514],\n",
              "                      [-0.0151, -0.1131,  0.1231,  ...,  0.1349, -0.0532,  0.0288]],\n",
              "                     device='cuda:0')),\n",
              "             ('lstm.bias_ih_l1',\n",
              "              tensor([ 0.1637,  0.0764, -0.1150, -0.0393,  0.0967,  0.0880,  0.0793, -0.0088,\n",
              "                      -0.1699, -0.0141, -0.1264, -0.0916,  0.0726, -0.1653, -0.1642,  0.0324,\n",
              "                      -0.1455,  0.0946,  0.1153,  0.0090, -0.0106,  0.1725, -0.0078, -0.0792,\n",
              "                      -0.1723,  0.1228,  0.0994,  0.1081, -0.1190,  0.1274, -0.1297,  0.0303,\n",
              "                       0.0671,  0.0369, -0.0997, -0.0835, -0.1360, -0.1756, -0.1145,  0.0367,\n",
              "                      -0.0664,  0.1591,  0.1270, -0.0678,  0.1754, -0.0169, -0.0961, -0.1442,\n",
              "                       0.0589,  0.1224, -0.0112, -0.0953,  0.0031,  0.0964, -0.0999,  0.0606,\n",
              "                      -0.0553, -0.1579, -0.0174,  0.1704,  0.1362,  0.1303, -0.1602, -0.1319,\n",
              "                       0.0196,  0.0318, -0.0973,  0.1698, -0.1692,  0.1230,  0.1070, -0.0199,\n",
              "                       0.1101,  0.0625,  0.1293,  0.0852, -0.1573,  0.1736,  0.0250,  0.0195,\n",
              "                       0.0547,  0.0522, -0.0987, -0.1270,  0.1762,  0.0688,  0.0431,  0.1159,\n",
              "                      -0.0941, -0.1348, -0.0842, -0.0615,  0.1477,  0.1687, -0.1685, -0.1075,\n",
              "                      -0.0452,  0.1203, -0.1606, -0.0242,  0.0932, -0.0395, -0.0833,  0.1338,\n",
              "                      -0.1552,  0.0546,  0.1647,  0.1595,  0.1551,  0.0907,  0.0795, -0.1550,\n",
              "                       0.0313,  0.0855,  0.0358,  0.0296, -0.1224, -0.0043,  0.0881, -0.0159,\n",
              "                      -0.0712, -0.0930,  0.1444,  0.0102, -0.1439, -0.0263, -0.1729,  0.0460],\n",
              "                     device='cuda:0')),\n",
              "             ('lstm.bias_hh_l1',\n",
              "              tensor([-9.9854e-02, -1.2369e-01,  8.5126e-02, -1.4873e-01, -8.4539e-02,\n",
              "                       7.3569e-02, -1.5215e-01,  4.5520e-02,  1.3332e-01,  6.6719e-02,\n",
              "                      -2.8558e-02,  3.9438e-02,  8.0990e-02,  7.0196e-05,  1.5464e-01,\n",
              "                       7.2568e-02, -1.3994e-01,  1.0934e-01,  1.4926e-01, -6.9487e-02,\n",
              "                      -1.5981e-01,  1.4289e-01,  7.6555e-02, -1.5361e-03,  9.0704e-02,\n",
              "                      -1.4183e-01, -8.9007e-02, -3.5676e-02, -1.4317e-02, -3.4597e-02,\n",
              "                       1.4826e-01,  9.4000e-02, -1.0570e-01, -1.2224e-01,  5.3875e-02,\n",
              "                      -1.2328e-01, -1.5193e-01,  2.4683e-02,  7.3327e-02,  5.1716e-02,\n",
              "                       3.2987e-02, -1.8425e-02,  1.1048e-01, -1.1953e-01, -1.5238e-01,\n",
              "                      -2.0195e-02, -5.0537e-02,  7.5265e-02,  1.3691e-01,  1.0177e-01,\n",
              "                       8.8236e-02,  4.2655e-02, -1.1137e-01, -1.3082e-01, -3.7315e-02,\n",
              "                       6.7892e-02,  1.3233e-01,  1.4416e-01,  5.8186e-02, -6.3791e-02,\n",
              "                      -5.3499e-02, -9.7040e-02, -1.5114e-01, -8.0360e-02, -5.3688e-02,\n",
              "                      -4.2967e-02,  1.1712e-01,  1.9086e-02, -1.7492e-01,  1.1504e-01,\n",
              "                       1.2938e-01,  1.1548e-01, -9.2720e-02, -7.3826e-02, -1.3908e-01,\n",
              "                       1.2085e-02,  1.0402e-01, -5.7042e-02, -1.0078e-01,  1.3630e-01,\n",
              "                      -7.2661e-03,  7.2411e-02,  1.3826e-01, -8.1513e-02,  1.1019e-02,\n",
              "                       9.4048e-02,  4.1414e-02, -1.9109e-02, -1.6636e-01,  1.7048e-01,\n",
              "                      -8.5943e-02,  2.8805e-02,  9.4830e-02, -9.1202e-02,  1.2143e-01,\n",
              "                       1.1625e-02,  1.3005e-01, -8.8753e-02, -1.7465e-01, -9.2205e-02,\n",
              "                      -8.7601e-02,  1.1820e-01, -1.1271e-01, -2.2337e-02, -1.1092e-01,\n",
              "                       8.7350e-02,  7.3030e-02, -7.4942e-02, -5.6691e-02,  8.9015e-02,\n",
              "                      -1.5041e-01,  8.7610e-02,  1.3203e-01,  7.0559e-02, -1.2822e-02,\n",
              "                      -5.4220e-02,  1.2173e-01, -1.1314e-01,  4.5878e-02,  9.6397e-02,\n",
              "                       1.0386e-02,  9.4776e-03, -4.1554e-02,  1.0127e-01, -5.4807e-02,\n",
              "                       1.3844e-01,  4.9210e-02,  1.0996e-01], device='cuda:0')),\n",
              "             ('lstm.weight_ih_l1_reverse',\n",
              "              tensor([[-0.1359,  0.0625, -0.0280,  ...,  0.0271, -0.0035, -0.1338],\n",
              "                      [-0.1518, -0.0062,  0.1618,  ...,  0.0751,  0.1152, -0.0195],\n",
              "                      [-0.1599, -0.1034, -0.0439,  ..., -0.1094, -0.1698, -0.0126],\n",
              "                      ...,\n",
              "                      [-0.1532, -0.1413,  0.1311,  ..., -0.1005, -0.0095,  0.1287],\n",
              "                      [-0.1079,  0.1156, -0.0663,  ..., -0.0259, -0.0855,  0.1082],\n",
              "                      [ 0.0774,  0.0031,  0.0386,  ..., -0.1050, -0.1206,  0.0523]],\n",
              "                     device='cuda:0')),\n",
              "             ('lstm.weight_hh_l1_reverse',\n",
              "              tensor([[ 0.0202,  0.0685, -0.1586,  ...,  0.0200,  0.1520,  0.1499],\n",
              "                      [-0.1676,  0.0181, -0.0976,  ...,  0.0011, -0.0052,  0.1089],\n",
              "                      [ 0.0814, -0.0530, -0.0012,  ...,  0.0303,  0.1599, -0.0854],\n",
              "                      ...,\n",
              "                      [ 0.1531, -0.1232, -0.0912,  ..., -0.1709,  0.1035,  0.1156],\n",
              "                      [ 0.0207,  0.0286, -0.1189,  ...,  0.1498,  0.1767, -0.0468],\n",
              "                      [ 0.0542, -0.1026, -0.0430,  ..., -0.0807,  0.0645, -0.1163]],\n",
              "                     device='cuda:0')),\n",
              "             ('lstm.bias_ih_l1_reverse',\n",
              "              tensor([ 0.0406,  0.0311, -0.0570,  0.0129, -0.0335, -0.1474,  0.0285, -0.0276,\n",
              "                       0.0210, -0.0044, -0.0574, -0.0777,  0.0873, -0.1433, -0.1332, -0.0816,\n",
              "                      -0.1639,  0.1543, -0.0214, -0.0772, -0.0268, -0.0235,  0.1141, -0.0643,\n",
              "                       0.1131,  0.0205, -0.0692, -0.0931,  0.0623, -0.1674,  0.1486, -0.1609,\n",
              "                       0.0656, -0.1752, -0.0367,  0.1565, -0.0198,  0.0786,  0.1639,  0.1352,\n",
              "                      -0.1246, -0.0313,  0.0022, -0.1101, -0.1578, -0.0191,  0.0295, -0.1496,\n",
              "                       0.1051,  0.0531, -0.0580,  0.0339, -0.0216, -0.0888,  0.1105, -0.0806,\n",
              "                       0.0282, -0.0874, -0.0244,  0.1177,  0.1270, -0.1036,  0.1070, -0.1388,\n",
              "                      -0.0438, -0.1608,  0.1577, -0.0069,  0.0840,  0.0194, -0.0153,  0.0067,\n",
              "                       0.1214, -0.0877, -0.0425,  0.0521, -0.1554, -0.0661,  0.1265,  0.1080,\n",
              "                       0.1588, -0.0561, -0.0933,  0.0906,  0.0181, -0.0126, -0.0123,  0.0574,\n",
              "                       0.0420,  0.1015, -0.0739,  0.1361,  0.0194, -0.0690, -0.1727, -0.1553,\n",
              "                       0.1067, -0.0082,  0.1006, -0.0558, -0.0787, -0.1669,  0.1289,  0.1044,\n",
              "                       0.1651, -0.1324, -0.0613,  0.1716, -0.0152, -0.1076,  0.0331, -0.0637,\n",
              "                       0.0304, -0.1439, -0.0125, -0.0392, -0.0545,  0.1251, -0.0073,  0.1179,\n",
              "                       0.1048,  0.1019, -0.1390,  0.1245, -0.0804,  0.1339, -0.0024,  0.0824],\n",
              "                     device='cuda:0')),\n",
              "             ('lstm.bias_hh_l1_reverse',\n",
              "              tensor([-0.1354, -0.1681, -0.0231, -0.0637, -0.1161,  0.1526, -0.0767,  0.1008,\n",
              "                       0.1205,  0.1047, -0.1060, -0.0985, -0.0430,  0.0279,  0.0731, -0.1264,\n",
              "                       0.0229, -0.1300, -0.1498, -0.0708, -0.1160, -0.0149,  0.1669, -0.1323,\n",
              "                       0.1646, -0.1072, -0.1155, -0.1655,  0.0214,  0.0496, -0.1539,  0.0995,\n",
              "                      -0.1415, -0.0039,  0.1381,  0.0572, -0.0715, -0.0726,  0.0524,  0.0354,\n",
              "                      -0.1577, -0.1013, -0.1438, -0.1619,  0.0132,  0.1358, -0.0558, -0.0629,\n",
              "                       0.1438, -0.1102, -0.0673, -0.1431, -0.0767,  0.0622, -0.1458,  0.0528,\n",
              "                       0.1025, -0.0595,  0.0472, -0.1290,  0.1207, -0.1293,  0.1577,  0.0561,\n",
              "                       0.1647,  0.1624, -0.0021, -0.1348, -0.1638, -0.1715,  0.0608, -0.0635,\n",
              "                      -0.1273,  0.0425,  0.0663,  0.1337,  0.1531,  0.1703,  0.0088, -0.1073,\n",
              "                      -0.1504,  0.0743, -0.0708,  0.1646,  0.1214,  0.0205,  0.0253, -0.0279,\n",
              "                       0.0531, -0.0636, -0.1518,  0.0288,  0.1761, -0.1243,  0.0439,  0.0167,\n",
              "                      -0.0443, -0.1033,  0.1546, -0.0809,  0.0017, -0.1021, -0.0104, -0.0861,\n",
              "                       0.1264, -0.1560,  0.0537, -0.0257, -0.1660, -0.1248, -0.0458, -0.0137,\n",
              "                       0.1713, -0.1694, -0.0551, -0.0426, -0.0768, -0.1590, -0.1453,  0.1162,\n",
              "                       0.0161, -0.0967,  0.1328,  0.1175,  0.0584,  0.0077,  0.1365, -0.0210],\n",
              "                     device='cuda:0')),\n",
              "             ('lstm.weight_ih_l2',\n",
              "              tensor([[ 0.1349, -0.1448,  0.1562,  ...,  0.0296,  0.0622, -0.1627],\n",
              "                      [ 0.0971,  0.0911,  0.0546,  ...,  0.1505, -0.1286,  0.0245],\n",
              "                      [-0.0070, -0.0774, -0.1095,  ...,  0.0939,  0.1678,  0.0201],\n",
              "                      ...,\n",
              "                      [ 0.0430,  0.1534, -0.1241,  ..., -0.0442,  0.1031,  0.0651],\n",
              "                      [ 0.0157,  0.0421,  0.1297,  ...,  0.1445,  0.1079,  0.0663],\n",
              "                      [ 0.0010, -0.0800,  0.0231,  ...,  0.0301, -0.1388, -0.1472]],\n",
              "                     device='cuda:0')),\n",
              "             ('lstm.weight_hh_l2',\n",
              "              tensor([[ 0.1679,  0.1533,  0.0244,  ..., -0.0620,  0.0378,  0.0381],\n",
              "                      [ 0.0154,  0.0767,  0.1470,  ...,  0.1393,  0.1613,  0.0714],\n",
              "                      [-0.0513, -0.0283, -0.0175,  ...,  0.0562, -0.0205,  0.1288],\n",
              "                      ...,\n",
              "                      [ 0.0923, -0.0575, -0.1419,  ..., -0.0287,  0.0820, -0.1583],\n",
              "                      [ 0.0663,  0.1293,  0.0224,  ..., -0.0538,  0.0011,  0.0786],\n",
              "                      [ 0.1181, -0.1045, -0.1332,  ..., -0.0153,  0.0198,  0.0282]],\n",
              "                     device='cuda:0')),\n",
              "             ('lstm.bias_ih_l2',\n",
              "              tensor([ 0.0812, -0.0078,  0.0826,  0.0618, -0.0078, -0.0399,  0.1222,  0.0160,\n",
              "                       0.0251,  0.0755,  0.1091,  0.1389, -0.1352,  0.0368, -0.0215, -0.1666,\n",
              "                       0.0220,  0.0289,  0.0324,  0.1575, -0.0025,  0.1386,  0.0143, -0.1455,\n",
              "                      -0.1023,  0.0104,  0.1290, -0.1096, -0.1051,  0.0679,  0.1631,  0.1282,\n",
              "                       0.0158, -0.1500,  0.1419, -0.0891, -0.0081,  0.0258,  0.0418, -0.0238,\n",
              "                       0.0430,  0.1539,  0.1343,  0.1443, -0.1106, -0.1313, -0.0856, -0.0180,\n",
              "                       0.1301, -0.0313,  0.0603,  0.1293,  0.1428, -0.1738, -0.0144, -0.0303,\n",
              "                       0.0005, -0.1440,  0.0497,  0.0087, -0.1184,  0.0210, -0.0250,  0.1715,\n",
              "                      -0.0225, -0.0930, -0.0769,  0.0068,  0.1126,  0.0178,  0.0395, -0.1370,\n",
              "                      -0.0490,  0.0638,  0.1696,  0.0092,  0.0347, -0.0122,  0.1122,  0.0487,\n",
              "                      -0.0051, -0.1028,  0.0545,  0.0103, -0.0233,  0.0204,  0.0839, -0.0188,\n",
              "                       0.0257,  0.0692,  0.0698, -0.0393,  0.1117,  0.1638, -0.1243,  0.1280,\n",
              "                      -0.0028, -0.0929, -0.1566,  0.0078, -0.0922, -0.0627, -0.0469,  0.1543,\n",
              "                      -0.1078,  0.0088,  0.1498,  0.0189, -0.1180,  0.1205, -0.0989, -0.0053,\n",
              "                      -0.0769, -0.1747, -0.0882, -0.1034,  0.1749, -0.0885,  0.0035, -0.0169,\n",
              "                      -0.0460,  0.1704,  0.1405, -0.0113,  0.0300, -0.1759, -0.0586,  0.0549],\n",
              "                     device='cuda:0')),\n",
              "             ('lstm.bias_hh_l2',\n",
              "              tensor([-0.0091,  0.0266,  0.1364,  0.0727, -0.1627,  0.0344, -0.1148,  0.0792,\n",
              "                      -0.0948, -0.1021, -0.0874, -0.1380, -0.0233, -0.1438,  0.1656, -0.0551,\n",
              "                       0.1671, -0.0278, -0.0080,  0.0659, -0.1455,  0.1442,  0.1173,  0.0329,\n",
              "                      -0.1325,  0.0368, -0.1635, -0.0156,  0.0454, -0.1008, -0.1104, -0.1369,\n",
              "                      -0.0018, -0.1258,  0.0804,  0.0165,  0.1408, -0.1464,  0.0697,  0.0814,\n",
              "                       0.0902,  0.1413, -0.1566, -0.0442, -0.0365, -0.0524,  0.1474, -0.0855,\n",
              "                      -0.0011,  0.0666, -0.1611, -0.0440, -0.1584,  0.1470, -0.1224,  0.0497,\n",
              "                      -0.1178, -0.0919, -0.1735,  0.1383, -0.1208, -0.0925, -0.0354, -0.1322,\n",
              "                      -0.1361, -0.1307,  0.0820,  0.0287, -0.0426, -0.0855, -0.1227,  0.1714,\n",
              "                       0.0174,  0.0966, -0.1127,  0.0748,  0.1621,  0.1173,  0.0587, -0.0157,\n",
              "                       0.1753, -0.1220, -0.1174,  0.0004, -0.1404,  0.0197, -0.0362,  0.1132,\n",
              "                       0.1380,  0.0113,  0.1113,  0.1197, -0.0340, -0.1123, -0.0618, -0.0163,\n",
              "                       0.0436,  0.0966, -0.0220, -0.1503,  0.0165,  0.0751, -0.0397, -0.1201,\n",
              "                      -0.0335, -0.0375, -0.0011,  0.1758,  0.1162,  0.0386, -0.0432,  0.1104,\n",
              "                      -0.1242, -0.1559,  0.1409, -0.1470, -0.1034, -0.1741, -0.0314,  0.0495,\n",
              "                      -0.0451,  0.1613, -0.1385, -0.0911, -0.0805,  0.0576,  0.1084,  0.1330],\n",
              "                     device='cuda:0')),\n",
              "             ('lstm.weight_ih_l2_reverse',\n",
              "              tensor([[ 0.1696,  0.0833,  0.1411,  ...,  0.0070, -0.1613, -0.1287],\n",
              "                      [-0.0192,  0.0833, -0.1180,  ...,  0.0890, -0.0609,  0.0877],\n",
              "                      [-0.1207,  0.0872, -0.0909,  ...,  0.0702, -0.0292,  0.0945],\n",
              "                      ...,\n",
              "                      [ 0.0306, -0.0158, -0.1762,  ..., -0.1358, -0.0552, -0.1605],\n",
              "                      [ 0.0861, -0.0971,  0.1143,  ...,  0.1301,  0.1731, -0.1740],\n",
              "                      [ 0.0051,  0.1043,  0.1317,  ..., -0.1092,  0.1185,  0.0321]],\n",
              "                     device='cuda:0')),\n",
              "             ('lstm.weight_hh_l2_reverse',\n",
              "              tensor([[-0.1196, -0.1199, -0.1491,  ..., -0.0601, -0.1682, -0.1177],\n",
              "                      [ 0.0827,  0.1447, -0.0256,  ..., -0.1593, -0.1503, -0.0053],\n",
              "                      [-0.1408,  0.0327,  0.0400,  ..., -0.0126,  0.0844,  0.0371],\n",
              "                      ...,\n",
              "                      [ 0.0257, -0.0550, -0.0783,  ..., -0.0642,  0.1213,  0.0347],\n",
              "                      [ 0.1381,  0.0770,  0.0196,  ...,  0.1339,  0.0148,  0.1426],\n",
              "                      [ 0.1595, -0.0534, -0.0101,  ...,  0.1729,  0.0183,  0.0394]],\n",
              "                     device='cuda:0')),\n",
              "             ('lstm.bias_ih_l2_reverse',\n",
              "              tensor([-0.0188, -0.0752, -0.0577,  0.1330,  0.1494, -0.0639,  0.0108, -0.0975,\n",
              "                       0.0428, -0.1191,  0.0784,  0.1137,  0.0347, -0.1064,  0.0954,  0.0443,\n",
              "                       0.0142, -0.0206,  0.0274, -0.0852,  0.0700, -0.1250, -0.1157,  0.1530,\n",
              "                       0.0130, -0.0065, -0.0430,  0.1696,  0.1167,  0.1390,  0.1247,  0.1300,\n",
              "                      -0.0924,  0.1644, -0.1006, -0.0969,  0.1601,  0.0271,  0.1195, -0.0583,\n",
              "                       0.0717,  0.0759,  0.1242, -0.0783,  0.0182,  0.0931, -0.0520,  0.1387,\n",
              "                       0.1274,  0.0350,  0.0440,  0.0346,  0.1135, -0.0745, -0.0710,  0.0422,\n",
              "                       0.0107, -0.0216, -0.0843,  0.0112, -0.0676,  0.0917, -0.0965, -0.0429,\n",
              "                       0.1681,  0.0881,  0.0132, -0.0237, -0.0602,  0.1407, -0.0517,  0.1172,\n",
              "                       0.1731, -0.1556, -0.0066, -0.0112,  0.0925,  0.1408,  0.0024, -0.1066,\n",
              "                      -0.0250,  0.1452, -0.0615, -0.0736,  0.1398,  0.1368,  0.0604,  0.1583,\n",
              "                      -0.0818, -0.1655,  0.0419, -0.0804,  0.0892,  0.0398,  0.0532, -0.0852,\n",
              "                      -0.1721,  0.0520,  0.0819,  0.0305, -0.1552, -0.0720, -0.1337, -0.1406,\n",
              "                      -0.0056,  0.1701,  0.1597,  0.0169, -0.0381,  0.1735, -0.1352, -0.0654,\n",
              "                      -0.1532, -0.1192,  0.0469,  0.0575,  0.1180, -0.0938,  0.0436, -0.0370,\n",
              "                       0.1644,  0.1121,  0.1725,  0.0055,  0.0120, -0.0494, -0.0425, -0.0943],\n",
              "                     device='cuda:0')),\n",
              "             ('lstm.bias_hh_l2_reverse',\n",
              "              tensor([-7.9377e-02,  3.2546e-02, -1.3403e-01, -5.0683e-02,  4.7111e-02,\n",
              "                      -1.7656e-01, -5.4491e-02,  3.3283e-02, -1.7866e-03, -1.5678e-01,\n",
              "                      -1.6573e-01, -1.2907e-01,  9.5294e-02, -8.0159e-02,  1.4668e-01,\n",
              "                       9.7543e-02, -8.7860e-03, -4.0425e-02,  8.7578e-02,  1.3755e-01,\n",
              "                      -5.4032e-05,  8.2056e-02, -1.4083e-01, -4.6734e-02, -1.6388e-01,\n",
              "                       2.0218e-02, -1.5609e-01,  1.3039e-01,  1.7525e-01, -1.6349e-01,\n",
              "                       7.5977e-02,  2.4105e-02, -1.5561e-01, -8.5236e-02,  1.0854e-01,\n",
              "                       1.3422e-01, -1.2584e-01, -1.1454e-01,  1.5755e-01, -1.6086e-01,\n",
              "                       1.5978e-01, -4.1426e-02, -1.2230e-02, -5.7755e-03,  7.9594e-02,\n",
              "                      -9.6671e-02, -1.5094e-01, -1.2936e-01, -1.3802e-01,  6.0504e-02,\n",
              "                       1.0737e-01,  1.4841e-01, -3.8998e-02,  1.1632e-01,  4.0939e-03,\n",
              "                       5.1317e-02, -7.3919e-02, -7.9767e-02, -1.3733e-01,  1.8942e-02,\n",
              "                      -5.3921e-02, -6.1588e-02,  7.1741e-02,  4.0820e-02, -1.5011e-01,\n",
              "                      -9.0458e-02,  6.1761e-02,  1.2893e-01,  2.6853e-02,  7.1646e-02,\n",
              "                      -4.9262e-02,  1.0977e-01, -1.2223e-01, -4.4152e-02, -1.4780e-01,\n",
              "                       3.6074e-02, -8.5250e-02, -1.7400e-01, -3.5716e-02,  4.6407e-02,\n",
              "                       8.5846e-03,  1.1857e-02, -7.7097e-02,  6.4744e-02, -1.0670e-01,\n",
              "                       9.9972e-02, -1.0159e-01, -5.8546e-02,  3.2675e-02,  1.6604e-01,\n",
              "                       5.0427e-02, -1.2311e-01,  2.8160e-02, -1.3100e-01, -1.3928e-01,\n",
              "                       1.2142e-01, -1.2705e-02, -1.1804e-01,  1.1595e-01, -1.5710e-01,\n",
              "                       1.5133e-02,  5.4879e-02,  1.6551e-01,  1.5719e-01,  3.5800e-02,\n",
              "                      -1.9938e-02,  9.8375e-02, -9.0807e-02, -1.6112e-01, -1.0599e-01,\n",
              "                       1.5751e-01, -1.6518e-02, -2.0426e-02,  3.0616e-02, -1.6380e-01,\n",
              "                       1.0977e-01,  5.3730e-02,  1.6550e-01,  1.3967e-01,  2.0939e-02,\n",
              "                       1.4431e-01,  1.3221e-02,  4.4233e-02,  1.3736e-01, -1.7632e-01,\n",
              "                      -9.0162e-02,  9.2911e-02, -9.0513e-02], device='cuda:0')),\n",
              "             ('lstm.weight_ih_l3',\n",
              "              tensor([[-0.0678,  0.1054, -0.0590,  ..., -0.0488,  0.0614,  0.1661],\n",
              "                      [-0.0158, -0.0138,  0.0825,  ...,  0.1383, -0.0296, -0.1704],\n",
              "                      [ 0.0593, -0.1677,  0.1225,  ..., -0.0903, -0.1333,  0.0882],\n",
              "                      ...,\n",
              "                      [ 0.1033, -0.0729, -0.0805,  ...,  0.1440, -0.0768,  0.0944],\n",
              "                      [-0.0005, -0.0851, -0.0246,  ..., -0.0521, -0.1269, -0.0951],\n",
              "                      [ 0.1008,  0.1566, -0.1725,  ...,  0.1225, -0.0833, -0.0719]],\n",
              "                     device='cuda:0')),\n",
              "             ('lstm.weight_hh_l3',\n",
              "              tensor([[ 0.0555, -0.1110, -0.1558,  ..., -0.0708, -0.0380,  0.0595],\n",
              "                      [ 0.1214, -0.0881,  0.1149,  ...,  0.0651,  0.0222, -0.1120],\n",
              "                      [ 0.0452, -0.0088,  0.1101,  ..., -0.1557, -0.0742,  0.1404],\n",
              "                      ...,\n",
              "                      [ 0.0112, -0.1125, -0.0628,  ...,  0.1410, -0.0662, -0.1481],\n",
              "                      [ 0.1121, -0.0092,  0.0235,  ..., -0.0451,  0.1157,  0.0382],\n",
              "                      [-0.0970, -0.0923, -0.0327,  ..., -0.1586,  0.0364, -0.1744]],\n",
              "                     device='cuda:0')),\n",
              "             ('lstm.bias_ih_l3',\n",
              "              tensor([ 0.1532, -0.1269, -0.0159,  0.0461, -0.0720,  0.0796,  0.0225, -0.1595,\n",
              "                       0.1021, -0.0540,  0.0519,  0.1042, -0.1140,  0.1469,  0.0603,  0.0546,\n",
              "                       0.0963, -0.0578, -0.0768, -0.0362,  0.1467, -0.0208, -0.0581,  0.1630,\n",
              "                       0.0004, -0.1540,  0.1315, -0.1560,  0.0764, -0.1257,  0.0216, -0.0142,\n",
              "                      -0.1034, -0.0773,  0.0779, -0.0028, -0.0138, -0.0183,  0.0257,  0.0116,\n",
              "                      -0.0267, -0.0895,  0.0847, -0.1076, -0.1154, -0.0716,  0.0412, -0.1002,\n",
              "                      -0.0033, -0.1067, -0.1397, -0.0953, -0.1218,  0.1029,  0.0313, -0.0496,\n",
              "                       0.1687, -0.1565,  0.0240,  0.1430, -0.1550,  0.1692, -0.1382, -0.1156,\n",
              "                       0.1117,  0.0239,  0.0861, -0.1053, -0.1049, -0.0786,  0.0596, -0.0531,\n",
              "                       0.1056,  0.1679, -0.1634,  0.0319,  0.0800,  0.1344,  0.1447,  0.0908,\n",
              "                       0.0939, -0.0933, -0.1433,  0.0112, -0.0315, -0.1307, -0.1704,  0.1663,\n",
              "                       0.0712, -0.1340, -0.0006, -0.0861,  0.1503,  0.0472, -0.1161, -0.1254,\n",
              "                      -0.0751, -0.0441, -0.0295,  0.0732, -0.1139,  0.0490,  0.1657, -0.0019,\n",
              "                      -0.0022,  0.0331,  0.1403,  0.0895,  0.0852, -0.1434, -0.1481, -0.1363,\n",
              "                      -0.1640, -0.0613, -0.1180, -0.0375,  0.1024, -0.0819,  0.0396, -0.0702,\n",
              "                       0.1031,  0.1021, -0.0143, -0.0678,  0.0944, -0.1612, -0.0655, -0.1307],\n",
              "                     device='cuda:0')),\n",
              "             ('lstm.bias_hh_l3',\n",
              "              tensor([ 0.0313, -0.0893,  0.0064,  0.1691, -0.0644, -0.0623, -0.0331, -0.1263,\n",
              "                       0.0804,  0.0730,  0.0497,  0.1735,  0.1461, -0.1215, -0.1568,  0.0987,\n",
              "                      -0.1755, -0.0030,  0.1541,  0.1749, -0.0344, -0.1186, -0.0939,  0.0049,\n",
              "                       0.1242, -0.1513, -0.0389,  0.1727,  0.0684, -0.1013, -0.1753, -0.1088,\n",
              "                       0.0150,  0.0612,  0.0167, -0.0670,  0.1244, -0.1645, -0.0128, -0.0171,\n",
              "                       0.0243, -0.0019, -0.1669, -0.0750,  0.1175,  0.0047, -0.0751,  0.1323,\n",
              "                      -0.1495,  0.1340,  0.0483,  0.1361,  0.0922,  0.0064,  0.0278, -0.0495,\n",
              "                      -0.0985, -0.0180, -0.0377,  0.0308,  0.0565,  0.0050, -0.0800,  0.1637,\n",
              "                      -0.0088,  0.1070, -0.0447, -0.1732, -0.0926,  0.0984,  0.0372,  0.1625,\n",
              "                      -0.0541,  0.0863,  0.0850,  0.0234, -0.0618, -0.0146, -0.1667, -0.0616,\n",
              "                       0.0920, -0.1426,  0.1745,  0.1222, -0.1512, -0.0952, -0.1019, -0.0187,\n",
              "                      -0.1684, -0.1478, -0.0891, -0.1266,  0.1318,  0.0274,  0.0958, -0.0833,\n",
              "                       0.0101,  0.0599, -0.1323,  0.1687,  0.0331,  0.0788,  0.0311, -0.1351,\n",
              "                       0.0662, -0.1537,  0.0834,  0.0585,  0.0234,  0.0158, -0.0599, -0.1403,\n",
              "                      -0.1735, -0.1060, -0.0880, -0.0599,  0.0347,  0.1236,  0.1710,  0.1475,\n",
              "                       0.0509,  0.1145, -0.0081,  0.1528, -0.0370,  0.1558,  0.0362,  0.1416],\n",
              "                     device='cuda:0')),\n",
              "             ('lstm.weight_ih_l3_reverse',\n",
              "              tensor([[ 7.9352e-02,  2.3015e-02,  1.2120e-01,  ..., -1.7120e-01,\n",
              "                        2.2057e-02, -5.3746e-02],\n",
              "                      [ 1.6400e-01,  1.2015e-01,  1.4995e-01,  ...,  5.8815e-03,\n",
              "                        8.2018e-05, -5.6723e-02],\n",
              "                      [-1.2925e-01,  1.7436e-01,  1.7294e-01,  ...,  1.2216e-01,\n",
              "                        2.2315e-03, -1.7821e-02],\n",
              "                      ...,\n",
              "                      [ 1.6998e-01,  7.4331e-02, -1.9714e-02,  ...,  1.0962e-01,\n",
              "                        5.4033e-02,  1.3345e-01],\n",
              "                      [ 3.1964e-02, -1.3294e-01, -1.6960e-02,  ..., -4.3368e-02,\n",
              "                        1.2248e-01,  8.5311e-02],\n",
              "                      [-6.9455e-02, -1.0155e-01, -1.5298e-01,  ...,  1.4920e-01,\n",
              "                        1.5195e-01,  1.4836e-01]], device='cuda:0')),\n",
              "             ('lstm.weight_hh_l3_reverse',\n",
              "              tensor([[-0.0679,  0.1652, -0.0711,  ...,  0.1550, -0.0474,  0.0128],\n",
              "                      [ 0.0607,  0.0240, -0.1141,  ..., -0.0403,  0.1003, -0.1057],\n",
              "                      [ 0.1583, -0.0234, -0.0292,  ...,  0.0182, -0.1481, -0.0095],\n",
              "                      ...,\n",
              "                      [ 0.0238,  0.0657, -0.1003,  ...,  0.0553,  0.0159,  0.0302],\n",
              "                      [-0.1182,  0.0052,  0.1282,  ...,  0.0769, -0.0960, -0.0144],\n",
              "                      [ 0.0041,  0.1632,  0.0576,  ...,  0.0212, -0.0503,  0.0493]],\n",
              "                     device='cuda:0')),\n",
              "             ('lstm.bias_ih_l3_reverse',\n",
              "              tensor([-0.1120, -0.1488, -0.0962,  0.1525,  0.0575, -0.1010, -0.1756, -0.0868,\n",
              "                       0.1070,  0.0120,  0.1159, -0.0499,  0.0537,  0.0260, -0.0003, -0.0291,\n",
              "                      -0.0439, -0.0283, -0.0707, -0.0107,  0.1385,  0.0955, -0.1567, -0.0406,\n",
              "                      -0.0622, -0.0493,  0.1037,  0.0113, -0.0323, -0.1530, -0.0011,  0.1702,\n",
              "                       0.0477, -0.1678,  0.0443,  0.0018, -0.1413, -0.1768,  0.0183,  0.0866,\n",
              "                       0.0393,  0.1652, -0.0031, -0.0829, -0.0413, -0.0126,  0.1715, -0.0146,\n",
              "                      -0.1685,  0.1030,  0.0538,  0.1713, -0.0903,  0.1686, -0.0796,  0.0147,\n",
              "                      -0.0984, -0.1537, -0.0834, -0.0110, -0.0054,  0.1258,  0.1754, -0.0015,\n",
              "                      -0.0789, -0.0178, -0.1651,  0.0995,  0.1588, -0.0657, -0.1577,  0.0744,\n",
              "                       0.1539, -0.1672, -0.1057, -0.0722,  0.1517,  0.0263,  0.0133,  0.0929,\n",
              "                      -0.1175, -0.0406,  0.0944,  0.1358, -0.0849, -0.0320, -0.0219,  0.0619,\n",
              "                       0.1172, -0.1608, -0.0461, -0.0719, -0.0631, -0.0501, -0.0367,  0.1707,\n",
              "                       0.1041, -0.0113,  0.0249, -0.0462,  0.1401,  0.1106, -0.1501,  0.0112,\n",
              "                       0.0773, -0.1688, -0.0092,  0.0469, -0.1211, -0.0003,  0.0319, -0.1454,\n",
              "                      -0.1699, -0.1268, -0.1380, -0.0677, -0.0915,  0.0665, -0.0734,  0.0079,\n",
              "                      -0.0742, -0.0295,  0.0514,  0.0977,  0.1144, -0.0776,  0.0878, -0.0980],\n",
              "                     device='cuda:0')),\n",
              "             ('lstm.bias_hh_l3_reverse',\n",
              "              tensor([-0.0763,  0.1006, -0.1677,  0.1668, -0.0260,  0.1236,  0.0242, -0.1743,\n",
              "                       0.0753, -0.0785,  0.0981,  0.0096,  0.0333, -0.1423, -0.0401, -0.0518,\n",
              "                       0.0338,  0.1570,  0.1701, -0.0869,  0.0012, -0.0992, -0.0611, -0.1504,\n",
              "                       0.1037, -0.0475,  0.0971, -0.1186, -0.0976,  0.1677,  0.1258, -0.0880,\n",
              "                      -0.0424, -0.1469, -0.0526,  0.0929, -0.1489, -0.0231,  0.0707,  0.1123,\n",
              "                       0.0761, -0.0075, -0.1684, -0.0492, -0.0666,  0.0442, -0.1345,  0.0756,\n",
              "                      -0.0450,  0.1259,  0.0741,  0.0632,  0.0980,  0.0156,  0.0123, -0.1666,\n",
              "                      -0.1716,  0.1264, -0.0668,  0.0959,  0.0411,  0.1099,  0.1310,  0.1248,\n",
              "                      -0.0933, -0.1174, -0.0453, -0.1518,  0.1230,  0.0960,  0.0817, -0.1090,\n",
              "                       0.0054, -0.1290,  0.0557,  0.1429,  0.0592,  0.0683, -0.0612, -0.0173,\n",
              "                       0.0631,  0.1336, -0.0120,  0.1335,  0.0889, -0.1240,  0.1621, -0.0062,\n",
              "                      -0.1254, -0.0201, -0.1138,  0.0568,  0.1351,  0.1026,  0.0363, -0.0011,\n",
              "                       0.0679,  0.0847,  0.1356,  0.1275,  0.0706, -0.1456,  0.1553,  0.1400,\n",
              "                      -0.1209, -0.1759,  0.0848, -0.1689,  0.0728, -0.1633,  0.0152, -0.0540,\n",
              "                       0.1499, -0.1600, -0.1621, -0.1582, -0.0999,  0.0900, -0.0846, -0.0334,\n",
              "                       0.0222,  0.1684, -0.0854, -0.1506, -0.0630,  0.1701,  0.1446,  0.1406],\n",
              "                     device='cuda:0')),\n",
              "             ('fc.weight',\n",
              "              tensor([[ 0.0790,  0.0404, -0.0947, -0.0665,  0.0048,  0.0248, -0.1142, -0.0912,\n",
              "                        0.0532, -0.1015, -0.0998, -0.0667, -0.0073, -0.0409,  0.1216,  0.1181,\n",
              "                        0.0883, -0.0657, -0.0936,  0.0254, -0.0477,  0.0935, -0.0641,  0.0356,\n",
              "                        0.0537,  0.0984,  0.1196, -0.0637,  0.1239, -0.1112,  0.1023,  0.0845,\n",
              "                        0.0654, -0.0229, -0.0974, -0.0663,  0.0578,  0.0711, -0.1058, -0.0194,\n",
              "                        0.1207, -0.0543,  0.0730, -0.0466,  0.0576,  0.0768, -0.1046,  0.0512,\n",
              "                       -0.0167,  0.1011, -0.0083, -0.0702, -0.0144,  0.1178, -0.0482, -0.1129,\n",
              "                        0.0506, -0.0813, -0.1182, -0.1033, -0.0082, -0.0127,  0.0451, -0.0988],\n",
              "                      [-0.0025,  0.0311,  0.0344,  0.0094, -0.0968,  0.0084,  0.0836,  0.0583,\n",
              "                       -0.0332, -0.0660, -0.0556, -0.0671,  0.0577,  0.0939,  0.0940, -0.0202,\n",
              "                       -0.0713,  0.0734,  0.0851,  0.0563, -0.1037, -0.0049,  0.1197,  0.1168,\n",
              "                        0.0840, -0.0104,  0.1020, -0.1118,  0.0801,  0.0270, -0.0837, -0.0434,\n",
              "                       -0.0579, -0.0448,  0.0928,  0.0491, -0.0791, -0.0502,  0.0896,  0.0228,\n",
              "                       -0.0957,  0.0766,  0.1189,  0.0903,  0.0333, -0.0654,  0.0991,  0.0482,\n",
              "                        0.0763,  0.0375,  0.0163, -0.0204, -0.0419, -0.0073, -0.0325,  0.0839,\n",
              "                       -0.0040,  0.0594,  0.0047,  0.0381, -0.0527, -0.0327, -0.0511, -0.0958],\n",
              "                      [ 0.0089,  0.0582, -0.0178,  0.0186,  0.0960,  0.0365, -0.1191,  0.0075,\n",
              "                        0.0879,  0.0585,  0.0411,  0.0400, -0.1017,  0.0304, -0.0047, -0.0100,\n",
              "                        0.0352, -0.0039, -0.0134,  0.1200,  0.0823,  0.0274,  0.1220, -0.0732,\n",
              "                       -0.0067,  0.0067,  0.0459,  0.0116, -0.0761, -0.0695,  0.0675,  0.0365,\n",
              "                       -0.0610, -0.0970,  0.1059,  0.0832,  0.0971, -0.1016,  0.0232,  0.1019,\n",
              "                       -0.0934,  0.0807, -0.0997, -0.0842, -0.1132, -0.0272, -0.1124,  0.1111,\n",
              "                       -0.0530, -0.0534,  0.0205,  0.0543, -0.0761,  0.0607,  0.1012, -0.0449,\n",
              "                        0.0815,  0.1151,  0.0820,  0.0026, -0.0927,  0.1161, -0.0064,  0.0807],\n",
              "                      [ 0.1072, -0.1191,  0.0715, -0.0061, -0.0374,  0.0560,  0.0673, -0.0274,\n",
              "                        0.0263,  0.0315,  0.0553, -0.0392,  0.0942,  0.0641, -0.0764, -0.0288,\n",
              "                        0.0374, -0.0322, -0.1195, -0.0952,  0.0721,  0.0053, -0.0280,  0.0894,\n",
              "                       -0.0068,  0.0623,  0.0975, -0.1084,  0.0562,  0.0445,  0.0765, -0.0244,\n",
              "                        0.0090, -0.0398, -0.0822,  0.1083,  0.1201, -0.0765, -0.0308,  0.0896,\n",
              "                        0.0844, -0.1115, -0.0726, -0.0154, -0.0273, -0.0270, -0.0993, -0.0128,\n",
              "                        0.1019,  0.0327, -0.0639,  0.1019,  0.1167,  0.0492,  0.0918,  0.1137,\n",
              "                       -0.0697, -0.0184, -0.0580,  0.0870, -0.0133, -0.0421,  0.0030, -0.0818],\n",
              "                      [ 0.0653,  0.1092, -0.0216,  0.0965, -0.1184,  0.0540,  0.0267, -0.0497,\n",
              "                        0.0422, -0.0353, -0.0819, -0.0533, -0.0228, -0.0133, -0.1140,  0.0182,\n",
              "                       -0.0305,  0.0987, -0.1175,  0.0441, -0.0147,  0.1228, -0.0890, -0.0400,\n",
              "                        0.0363, -0.1049, -0.1217, -0.0940, -0.0260, -0.0210, -0.0540, -0.0741,\n",
              "                       -0.0258,  0.0967,  0.0826, -0.0134, -0.0069, -0.0548, -0.0070, -0.1031,\n",
              "                        0.1072,  0.0876, -0.0052,  0.1214,  0.0932, -0.0510, -0.1055,  0.0991,\n",
              "                        0.0306,  0.0615, -0.0107,  0.0689, -0.0981, -0.0488,  0.0660, -0.0628,\n",
              "                       -0.0025, -0.0362,  0.1201,  0.0889,  0.0190,  0.0341,  0.0364,  0.0754],\n",
              "                      [-0.0263,  0.0900, -0.0314, -0.0100,  0.0871, -0.0199, -0.0515,  0.0852,\n",
              "                       -0.0046,  0.0366, -0.0896,  0.1239,  0.0186,  0.0879,  0.0515,  0.0074,\n",
              "                        0.0154, -0.1190, -0.0751,  0.0136,  0.0692, -0.0817, -0.0502, -0.1003,\n",
              "                       -0.0759,  0.1212, -0.1196,  0.1151,  0.0982,  0.0215,  0.0535, -0.1195,\n",
              "                       -0.0791, -0.0698, -0.1142, -0.1095, -0.0151,  0.1049, -0.1110,  0.0193,\n",
              "                        0.0586, -0.0167, -0.0665, -0.0803,  0.1218,  0.0207,  0.0614, -0.0543,\n",
              "                        0.0989, -0.0647,  0.0131, -0.1131, -0.0470,  0.1225, -0.0177,  0.0398,\n",
              "                        0.0671,  0.0231,  0.0132, -0.0462,  0.0630,  0.0934, -0.1103,  0.0875],\n",
              "                      [ 0.1207, -0.1093,  0.1099, -0.0754,  0.1235, -0.0802,  0.0587,  0.0783,\n",
              "                       -0.0328, -0.0459, -0.1171, -0.0032, -0.1222, -0.0785, -0.0943, -0.0907,\n",
              "                       -0.0919,  0.0836, -0.1224, -0.0493,  0.0289,  0.0988,  0.0737, -0.0284,\n",
              "                       -0.0245, -0.0972, -0.1055,  0.0608,  0.0739,  0.0082, -0.0366,  0.1073,\n",
              "                       -0.0508,  0.0366, -0.0543, -0.0391, -0.1204, -0.0813,  0.0002,  0.0181,\n",
              "                        0.0687,  0.1032,  0.0950,  0.0939,  0.0117,  0.0768,  0.0249,  0.0479,\n",
              "                       -0.0551, -0.0225,  0.1081,  0.0604,  0.0391,  0.1050,  0.0820, -0.0058,\n",
              "                       -0.0575,  0.1093,  0.0206,  0.0932,  0.0617,  0.0719,  0.0358,  0.0174],\n",
              "                      [ 0.1076,  0.0804, -0.0935,  0.0511,  0.0140,  0.0306, -0.1111,  0.0398,\n",
              "                        0.0671, -0.0047,  0.1117, -0.0968,  0.0063, -0.0628,  0.0104, -0.0797,\n",
              "                       -0.1148, -0.0536, -0.0579,  0.0017, -0.0783, -0.1040, -0.0024, -0.0609,\n",
              "                       -0.0917, -0.1198,  0.1083, -0.0640,  0.1131,  0.0470,  0.0145,  0.0604,\n",
              "                        0.0541,  0.0190, -0.0283, -0.0857,  0.0497, -0.0850,  0.0980,  0.0154,\n",
              "                       -0.0170,  0.0423, -0.1085, -0.0830, -0.0542, -0.0118,  0.1242,  0.0836,\n",
              "                        0.0128, -0.0016, -0.1076, -0.1042,  0.0329,  0.0630,  0.0852,  0.0196,\n",
              "                        0.0069, -0.0833, -0.0302, -0.1207,  0.0399, -0.0684,  0.0867, -0.0455],\n",
              "                      [-0.0001, -0.0584,  0.0396, -0.0573, -0.0225,  0.0350,  0.0818, -0.1031,\n",
              "                       -0.1040, -0.0004,  0.0087, -0.1174,  0.0690, -0.0464,  0.0809,  0.0281,\n",
              "                        0.0542,  0.0264,  0.0493,  0.0181, -0.0397,  0.0464, -0.0264,  0.0677,\n",
              "                       -0.0752,  0.1033,  0.1083, -0.0962,  0.0753, -0.0954, -0.1247,  0.1100,\n",
              "                       -0.0005, -0.1150,  0.0401,  0.0885,  0.0063, -0.0984,  0.0414,  0.0589,\n",
              "                        0.0317,  0.1124,  0.1141,  0.1134, -0.0512, -0.0770,  0.0766, -0.0578,\n",
              "                       -0.0807, -0.0881, -0.0473, -0.0087,  0.1053, -0.1077,  0.1024,  0.0493,\n",
              "                        0.0366,  0.0464,  0.0474, -0.1036,  0.0432, -0.0475,  0.0163,  0.0107],\n",
              "                      [-0.0374, -0.0198,  0.0722, -0.1096,  0.0274, -0.0658,  0.0425,  0.0903,\n",
              "                        0.0574, -0.1130,  0.0108, -0.0075,  0.0353, -0.1133,  0.0506,  0.0962,\n",
              "                        0.0857, -0.1116,  0.0937,  0.1111, -0.0440, -0.1245, -0.0941, -0.0624,\n",
              "                       -0.0039, -0.0279,  0.0286,  0.0331, -0.0566,  0.0274,  0.0892, -0.0561,\n",
              "                       -0.0646, -0.0363, -0.1043, -0.0504, -0.0608, -0.0251,  0.0704, -0.0963,\n",
              "                        0.0784,  0.0963, -0.0774,  0.0103,  0.0175, -0.0410, -0.0767,  0.0610,\n",
              "                        0.0670, -0.0481, -0.1246,  0.0411,  0.0401, -0.1191, -0.0676,  0.0829,\n",
              "                       -0.1131, -0.0177,  0.0458,  0.0678, -0.1232,  0.0767, -0.0843, -0.0760]],\n",
              "                     device='cuda:0')),\n",
              "             ('fc.bias',\n",
              "              tensor([-0.0777,  0.0570,  0.0544,  0.0032,  0.0626, -0.1242,  0.0616, -0.0504,\n",
              "                      -0.1076, -0.0715], device='cuda:0'))])"
            ]
          },
          "metadata": {},
          "execution_count": 9
        }
      ],
      "source": [
        "my_model_attack.state_dict()"
      ]
    },
    {
      "cell_type": "code",
      "execution_count": 10,
      "metadata": {
        "colab": {
          "base_uri": "https://localhost:8080/"
        },
        "id": "3w9QW9Lfp1aV",
        "outputId": "c27d8817-2c43-4972-c9e5-c9eacdf89ab6"
      },
      "outputs": [
        {
          "output_type": "execute_result",
          "data": {
            "text/plain": [
              "LSTM_Model_label(\n",
              "  (lstm): LSTM(41, 32, num_layers=4, batch_first=True, dropout=0.5, bidirectional=True)\n",
              "  (fc): Linear(in_features=64, out_features=2, bias=True)\n",
              ")"
            ]
          },
          "metadata": {},
          "execution_count": 10
        }
      ],
      "source": [
        "my_model_label = LSTM_Model_label(num_classes_label, input_size, hidden_size, num_layers).to(device=device)\n",
        "my_model_label"
      ]
    },
    {
      "cell_type": "markdown",
      "metadata": {
        "id": "Cey1CId-jjis"
      },
      "source": [
        "# **optimizer and loss function**"
      ]
    },
    {
      "cell_type": "code",
      "execution_count": 11,
      "metadata": {
        "id": "WNuQFMAekNDH"
      },
      "outputs": [],
      "source": [
        "loss_fn1 = nn.CrossEntropyLoss().to(device=device)\n",
        "loss_fn2 = nn.CrossEntropyLoss().to(device=device)\n",
        "optimizer1 = opt.Adam(params=my_model_attack.parameters(),lr=learning_rate)\n",
        "optimizer2 = opt.Adam(params=my_model_label.parameters(),lr=learning_rate)"
      ]
    },
    {
      "cell_type": "markdown",
      "metadata": {
        "id": "4JYcovfYlpHM"
      },
      "source": [
        "# **train attack cat**"
      ]
    },
    {
      "cell_type": "code",
      "execution_count": 12,
      "metadata": {
        "colab": {
          "base_uri": "https://localhost:8080/"
        },
        "id": "Qmw8w1eTkeBu",
        "outputId": "5f321d7c-131f-450a-ae3a-b4ae3cf086c2"
      },
      "outputs": [
        {
          "output_type": "stream",
          "name": "stdout",
          "text": [
            "Epoch: 0, loss: 0.6027\n",
            "Epoch: 50, loss: 0.4585\n",
            "Epoch: 100, loss: 0.5345\n",
            "Epoch: 150, loss: 0.5199\n",
            "Epoch: 200, loss: 0.5697\n",
            "Epoch: 250, loss: 0.5956\n",
            "Epoch: 300, loss: 0.4930\n",
            "Epoch: 350, loss: 0.4221\n",
            "Epoch: 400, loss: 0.5098\n",
            "Epoch: 450, loss: 0.4083\n",
            "Epoch: 500, loss: 0.4504\n"
          ]
        }
      ],
      "source": [
        "for epoch in range(num_epoch+1):\n",
        "\n",
        "    for batch_x, batch_y in train_attack_cat_dataloader:\n",
        "\n",
        "        batch_x = torch.reshape(batch_x, (batch_x.shape[0], 1, batch_x.shape[1])) #RuntimeError: For unbatched 2-D input, hx and cx should also be 2-D but got (3-D, 3-D) tensors\n",
        "        \n",
        "        batch_x = batch_x.to(device)\n",
        "        batch_y = batch_y.to(device)\n",
        "\n",
        "        optimizer1.zero_grad()\n",
        "        loss1 = loss_fn1(my_model_attack(batch_x) , batch_y)\n",
        "        loss1.backward() \n",
        "        optimizer1.step()\n",
        "\n",
        "    if epoch % 50 == 0:\n",
        "         print(\"Epoch: %d, loss: %.4f\" % (epoch, loss1.item())) "
      ]
    },
    {
      "cell_type": "markdown",
      "metadata": {
        "id": "PQaRCMJPls5N"
      },
      "source": [
        "# **test attack cat**"
      ]
    },
    {
      "cell_type": "code",
      "execution_count": 13,
      "metadata": {
        "id": "QrtYzVT4loMQ",
        "colab": {
          "base_uri": "https://localhost:8080/"
        },
        "outputId": "49d952ee-ffaf-497a-c66e-d6163ed19f2e"
      },
      "outputs": [
        {
          "output_type": "stream",
          "name": "stdout",
          "text": [
            "acc : 81.27%\n"
          ]
        }
      ],
      "source": [
        "correct = 0\n",
        "\n",
        "for batch_x, labl in test_attack_cat_dataloader:\n",
        "  \n",
        "    batch_x = torch.reshape(batch_x, (batch_x.shape[0], 1, batch_x.shape[1])) #RuntimeError: For unbatched 2-D input, hx and cx should also be 2-D but got (3-D, 3-D) tensors\n",
        "  \n",
        "    batch_x = batch_x.to(device)\n",
        "    labl = labl.to(device)\n",
        "\n",
        "    out = my_model_attack(batch_x)\n",
        "    _,predicted = torch.max(out,1)\n",
        "    correct += torch.sum(predicted == labl)\n",
        "\n",
        "print(\"acc : %.2f\" % (100.*correct / len(test_attack_cat)),end=\"\")\n",
        "print(\"%\")"
      ]
    },
    {
      "cell_type": "markdown",
      "metadata": {
        "id": "pLqOLtA6tQht"
      },
      "source": [
        "# **train label**"
      ]
    },
    {
      "cell_type": "code",
      "execution_count": 14,
      "metadata": {
        "id": "Xm1cu1GhtMJO",
        "colab": {
          "base_uri": "https://localhost:8080/"
        },
        "outputId": "1582e268-7e31-4af6-e55d-d97e156dc8a5"
      },
      "outputs": [
        {
          "output_type": "stream",
          "name": "stdout",
          "text": [
            "Epoch: 0, loss: 0.1875\n",
            "Epoch: 50, loss: 0.1107\n",
            "Epoch: 100, loss: 0.1267\n",
            "Epoch: 150, loss: 0.1228\n",
            "Epoch: 200, loss: 0.1452\n",
            "Epoch: 250, loss: 0.1059\n",
            "Epoch: 300, loss: 0.0972\n",
            "Epoch: 350, loss: 0.1157\n",
            "Epoch: 400, loss: 0.1260\n",
            "Epoch: 450, loss: 0.1201\n",
            "Epoch: 500, loss: 0.1152\n"
          ]
        }
      ],
      "source": [
        "for epoch in range(num_epoch+1):\n",
        "\n",
        "    for batch_x, batch_y in train_label_dataloader:\n",
        "\n",
        "        batch_x = torch.reshape(batch_x, (batch_x.shape[0], 1, batch_x.shape[1])) #RuntimeError: For unbatched 2-D input, hx and cx should also be 2-D but got (3-D, 3-D) tensors\n",
        "        \n",
        "        batch_x = batch_x.to(device)\n",
        "        batch_y = batch_y.to(device)\n",
        "\n",
        "        optimizer2.zero_grad()\n",
        "        loss2 = loss_fn2(my_model_label(batch_x) , batch_y)\n",
        "        loss2.backward() \n",
        "        optimizer2.step()\n",
        "\n",
        "    if epoch % 50 == 0:\n",
        "         print(\"Epoch: %d, loss: %.4f\" % (epoch, loss2.item())) "
      ]
    },
    {
      "cell_type": "markdown",
      "metadata": {
        "id": "Ig7VBqU0tfZd"
      },
      "source": [
        "# **test label**"
      ]
    },
    {
      "cell_type": "code",
      "execution_count": 15,
      "metadata": {
        "id": "a7u2bQ0WtiG2",
        "colab": {
          "base_uri": "https://localhost:8080/"
        },
        "outputId": "e0d8ca56-6a58-49d8-aa47-a810070ef277"
      },
      "outputs": [
        {
          "output_type": "stream",
          "name": "stdout",
          "text": [
            "acc : 93.80%\n"
          ]
        }
      ],
      "source": [
        "correct = 0\n",
        "\n",
        "for batch_x, labl in test_label_dataloader:\n",
        "\n",
        "    batch_x = torch.reshape(batch_x, (batch_x.shape[0], 1, batch_x.shape[1])) #RuntimeError: For unbatched 2-D input, hx and cx should also be 2-D but got (3-D, 3-D) tensors\n",
        "\n",
        "    batch_x = batch_x.to(device)\n",
        "    labl = labl.to(device)\n",
        "  \n",
        "    out = my_model_label(batch_x)\n",
        "    _,predicted = torch.max(out,1)\n",
        "    correct += torch.sum(predicted == labl)\n",
        "\n",
        "print(\"acc : %.2f\" % (100.*correct / len(test_label)),end=\"\")\n",
        "print(\"%\")"
      ]
    }
  ],
  "metadata": {
    "accelerator": "GPU",
    "colab": {
      "collapsed_sections": [],
      "provenance": []
    },
    "gpuClass": "standard",
    "kernelspec": {
      "display_name": "Python 3",
      "name": "python3"
    },
    "language_info": {
      "name": "python"
    }
  },
  "nbformat": 4,
  "nbformat_minor": 0
}