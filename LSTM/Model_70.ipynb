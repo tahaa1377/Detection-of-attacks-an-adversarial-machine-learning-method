{
  "cells": [
    {
      "cell_type": "code",
      "execution_count": 1,
      "metadata": {
        "id": "Ff1b4PxtBQuc"
      },
      "outputs": [],
      "source": [
        "num_epoch = 500      \n",
        "learning_rate = 0.01\n",
        "batch_size = 2000\n",
        "\n",
        "input_size = 41 #number of features\n",
        "hidden_size = 2 #number of features in hidden state\n",
        "num_layers = 1  #number of stacked lstm layers\n",
        "\n",
        "num_classes_attack_cat = 10 #number of output classes \n",
        "num_classes_label = 2       #number of output classes "
      ]
    },
    {
      "cell_type": "code",
      "source": [
        "from google.colab import drive\n",
        "drive.mount('/content/drive')"
      ],
      "metadata": {
        "colab": {
          "base_uri": "https://localhost:8080/"
        },
        "id": "0Gua0hky6SDJ",
        "outputId": "dac34352-a401-4143-a3ab-de4a708cebae"
      },
      "execution_count": 2,
      "outputs": [
        {
          "output_type": "stream",
          "name": "stdout",
          "text": [
            "Mounted at /content/drive\n"
          ]
        }
      ]
    },
    {
      "cell_type": "code",
      "execution_count": 3,
      "metadata": {
        "colab": {
          "base_uri": "https://localhost:8080/"
        },
        "id": "hZiaj4uT24DH",
        "outputId": "0342f14d-74ca-47f3-a002-f60571ad9a0e"
      },
      "outputs": [
        {
          "output_type": "stream",
          "name": "stdout",
          "text": [
            "GPU\n"
          ]
        }
      ],
      "source": [
        "import pandas as pd\n",
        "from matplotlib import pyplot as plt\n",
        "import numpy as np\n",
        "from torch.utils.data.dataset import Dataset\n",
        "from torch.utils.data import random_split, DataLoader\n",
        "import torch\n",
        "from sklearn.preprocessing import LabelEncoder\n",
        "from sklearn import preprocessing\n",
        "import torch.nn as nn\n",
        "import torch.nn.functional as F\n",
        "import torch.optim as opt\n",
        "from torch.autograd import Variable \n",
        "\n",
        "# GPU OR CPU\n",
        "if torch.cuda.is_available():\n",
        "    device = torch.device(\"cuda:0\")\n",
        "    print(\"GPU\")\n",
        "else:\n",
        "    device = torch.device(\"cpu\")\n",
        "    print(\"CPU\")"
      ]
    },
    {
      "cell_type": "code",
      "execution_count": 4,
      "metadata": {
        "id": "Sv-R_m6Z1EL5"
      },
      "outputs": [],
      "source": [
        "class DataSet_UNSWNB15_attack_cat(Dataset):\n",
        "\n",
        "    def __init__(self,data_set_path):\n",
        "        df = pd.read_csv(data_set_path)\n",
        "        print(df.attack_cat.value_counts().sort_values().plot(kind = \"barh\"))\n",
        "        \n",
        "        # preprocceing\n",
        "        df.drop(['id',\"Unnamed: 0\",\"service\",\"label\"], axis=1, inplace=True)        \n",
        "        cols = ['attack_cat' ,'proto' ,'state']\n",
        "        df[cols] = df[cols].apply(LabelEncoder().fit_transform)\n",
        "\n",
        "        self.data_array = df.values\n",
        "        self.x = self.data_array[:, :41]\n",
        "        self.y = self.data_array[:, 41]\n",
        "      \n",
        "        # normalaized data\n",
        "        scaler = preprocessing.StandardScaler().fit(self.x)\n",
        "        self.x = scaler.transform(self.x)\n",
        "\n",
        "        self.x = torch.tensor(self.x).float()\n",
        "        self.y = torch.tensor(self.y).long()\n",
        "\n",
        "    def __len__(self):\n",
        "        return len(self.data_array)\n",
        "\n",
        "    def __getitem__(self, item):\n",
        "        sample = (self.x[item, :], self.y[item])\n",
        "        return sample\n",
        "\n",
        "        \n",
        "class DataSet_UNSWNB15_label(Dataset):\n",
        "\n",
        "    def __init__(self,data_set_path):\n",
        "        df = pd.read_csv(data_set_path)\n",
        "        print(df.label.value_counts().sort_values().plot(kind = \"pie\"))\n",
        "\n",
        "        # preprocceing\n",
        "        df.drop(['id',\"Unnamed: 0\",\"service\",\"attack_cat\"], axis=1, inplace=True)\n",
        "        cols = ['proto' ,'state']\n",
        "        df[cols] = df[cols].apply(LabelEncoder().fit_transform)\n",
        "\n",
        "        self.data_array = df.values\n",
        "        self.x = self.data_array[:, :41]\n",
        "        self.y = self.data_array[:, 41]\n",
        "        \n",
        "        # normalaized data\n",
        "        scaler = preprocessing.StandardScaler().fit(self.x)\n",
        "        self.x = scaler.transform(self.x)\n",
        "\n",
        "        self.x = torch.tensor(self.x).float()\n",
        "        self.y = torch.tensor(self.y).long()\n",
        "\n",
        "    def __len__(self):\n",
        "        return len(self.data_array)\n",
        "\n",
        "    def __getitem__(self, item):\n",
        "        sample = (self.x[item, :], self.y[item])\n",
        "        return sample"
      ]
    },
    {
      "cell_type": "code",
      "execution_count": 5,
      "metadata": {
        "colab": {
          "base_uri": "https://localhost:8080/",
          "height": 283
        },
        "id": "UykLrbQZ1R7K",
        "outputId": "befdae17-83d1-4adc-fd60-c5a5d9b39d4b"
      },
      "outputs": [
        {
          "output_type": "stream",
          "name": "stdout",
          "text": [
            "AxesSubplot(0.125,0.125;0.775x0.755)\n"
          ]
        },
        {
          "output_type": "display_data",
          "data": {
            "text/plain": [
              "<Figure size 432x288 with 1 Axes>"
            ],
            "image/png": "[encoded data removed]"
          },
          "metadata": {
            "needs_background": "light"
          }
        }
      ],
      "source": [
        "dataset_attack_cat = DataSet_UNSWNB15_attack_cat(\"/content/drive/MyDrive/datasets/UNSW-NB15/UNSW_NB15.csv\")\n",
        "number_of_test = int(len(dataset_attack_cat)*0.3)\n",
        "number_of_train = len(dataset_attack_cat) - int(len(dataset_attack_cat)*0.3)\n",
        "train_attack_cat ,test_attack_cat = random_split(dataset=dataset_attack_cat, lengths=[number_of_train,number_of_test])\n",
        "\n",
        "train_attack_cat_dataloader = DataLoader(dataset=train_attack_cat ,batch_size=batch_size ,shuffle=True)\n",
        "test_attack_cat_dataloader = DataLoader(dataset=test_attack_cat ,batch_size=batch_size ,shuffle=True)"
      ]
    },
    {
      "cell_type": "code",
      "execution_count": 6,
      "metadata": {
        "colab": {
          "base_uri": "https://localhost:8080/",
          "height": 266
        },
        "id": "LmFY9Q-u29T3",
        "outputId": "98eb25d6-3c11-4ac1-e0ad-ffc78949e7c6"
      },
      "outputs": [
        {
          "output_type": "stream",
          "name": "stdout",
          "text": [
            "AxesSubplot(0.260833,0.125;0.503333x0.755)\n"
          ]
        },
        {
          "output_type": "display_data",
          "data": {
            "text/plain": [
              "<Figure size 432x288 with 1 Axes>"
            ],
            "image/png": "[encoded data removed]"
          },
          "metadata": {}
        }
      ],
      "source": [
        "dataset_label = DataSet_UNSWNB15_label(\"/content/drive/MyDrive/datasets/UNSW-NB15/UNSW_NB15.csv\")\n",
        "number_of_test = int(len(dataset_label)*0.3)\n",
        "number_of_train = len(dataset_label) - int(len(dataset_label)*0.3)\n",
        "train_label ,test_label = random_split(dataset=dataset_label, lengths=[number_of_train,number_of_test])\n",
        "\n",
        "train_label_dataloader = DataLoader(dataset=train_label ,batch_size=batch_size ,shuffle=True)\n",
        "test_label_dataloader = DataLoader(dataset=test_label ,batch_size=batch_size ,shuffle=True)"
      ]
    },
    {
      "cell_type": "markdown",
      "metadata": {
        "id": "0HslPLv2IOGd"
      },
      "source": [
        "# **preprocessing ended**\n",
        "\n",
        "# **create model**"
      ]
    },
    {
      "cell_type": "markdown",
      "source": [
        "![bilstm-1.webp](data:image/webp;base64,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)"
      ],
      "metadata": {
        "id": "F2hNvBs6qBQS"
      }
    },
    {
      "cell_type": "code",
      "execution_count": 7,
      "metadata": {
        "id": "oN6DuQbJibuE"
      },
      "outputs": [],
      "source": [
        "class LSTM_Model_attack(nn.Module):\n",
        "    def __init__(self, num_classes, input_size, hidden_size, num_layers):\n",
        "        super(LSTM_Model_attack, self).__init__()\n",
        "        self.num_classes = num_classes #number of classes\n",
        "        self.num_layers = num_layers #number of layers\n",
        "        self.input_size = input_size #input size\n",
        "        self.hidden_size = hidden_size #hidden state\n",
        "\n",
        "        self.lstm = nn.LSTM(input_size=input_size, hidden_size=hidden_size, num_layers=num_layers, batch_first=True, bidirectional=True, dropout=0.5) #lstm\n",
        "        self.fc = nn.Linear(hidden_size * 2, num_classes) #fully connected last layer\n",
        "                             # 2 => forward and backward for bidirectional\n",
        "    \n",
        "    def forward(self,x):\n",
        "                                                # 2 => forward and backward for bidirectional\n",
        "        h_0 = Variable(torch.zeros(self.num_layers * 2, x.size(0), self.hidden_size)).to(device=device) #hidden state\n",
        "        c_0 = Variable(torch.zeros(self.num_layers * 2, x.size(0), self.hidden_size)).to(device=device) #internal state\n",
        "\n",
        "        out, (hn, cn) = self.lstm(x, (h_0, c_0))\n",
        "        out = self.fc(out[:, -1, :]) \n",
        "        return out\n",
        "\n",
        "\n",
        "class LSTM_Model_label(nn.Module):\n",
        "    def __init__(self, num_classes, input_size, hidden_size, num_layers):\n",
        "        super(LSTM_Model_label, self).__init__()\n",
        "        self.num_classes = num_classes #number of classes\n",
        "        self.num_layers = num_layers #number of layers\n",
        "        self.input_size = input_size #input size\n",
        "        self.hidden_size = hidden_size #hidden state\n",
        "\n",
        "        self.lstm = nn.LSTM(input_size=input_size, hidden_size=hidden_size, num_layers=num_layers, batch_first=True, bidirectional=True, dropout=0.5) #lstm\n",
        "        self.fc = nn.Linear(hidden_size * 2, num_classes) #fully connected last layer\n",
        "\n",
        "    \n",
        "    def forward(self,x):\n",
        "        h_0 = Variable(torch.zeros(self.num_layers * 2, x.size(0), self.hidden_size)).to(device=device) #hidden state\n",
        "        c_0 = Variable(torch.zeros(self.num_layers * 2, x.size(0), self.hidden_size)).to(device=device) #internal state\n",
        "\n",
        "        out, (hn, cn) = self.lstm(x, (h_0, c_0))\n",
        "        out = self.fc(out[:, -1, :]) \n",
        "        return out\n"
      ]
    },
    {
      "cell_type": "code",
      "execution_count": 8,
      "metadata": {
        "id": "US8JfNI8j3zO",
        "colab": {
          "base_uri": "https://localhost:8080/"
        },
        "outputId": "93571a65-5a4a-406c-ff8a-2e4705d5667c"
      },
      "outputs": [
        {
          "output_type": "stream",
          "name": "stderr",
          "text": [
            "/usr/local/lib/python3.7/dist-packages/torch/nn/modules/rnn.py:65: UserWarning: dropout option adds dropout after all but last recurrent layer, so non-zero dropout expects num_layers greater than 1, but got dropout=0.5 and num_layers=1\n",
            "  \"num_layers={}\".format(dropout, num_layers))\n"
          ]
        },
        {
          "output_type": "execute_result",
          "data": {
            "text/plain": [
              "LSTM_Model_attack(\n",
              "  (lstm): LSTM(41, 2, batch_first=True, dropout=0.5, bidirectional=True)\n",
              "  (fc): Linear(in_features=4, out_features=10, bias=True)\n",
              ")"
            ]
          },
          "metadata": {},
          "execution_count": 8
        }
      ],
      "source": [
        "my_model_attack = LSTM_Model_attack(num_classes_attack_cat, input_size, hidden_size, num_layers).to(device=device)\n",
        "my_model_attack"
      ]
    },
    {
      "cell_type": "code",
      "source": [
        "my_model_attack.state_dict()"
      ],
      "metadata": {
        "colab": {
          "base_uri": "https://localhost:8080/"
        },
        "id": "Dq8JkQZ9ukCs",
        "outputId": "7b81033c-7eea-477a-d396-f3191756135b"
      },
      "execution_count": 16,
      "outputs": [
        {
          "output_type": "execute_result",
          "data": {
            "text/plain": [
              "OrderedDict([('lstm.weight_ih_l0',\n",
              "              tensor([[ 3.6970e+00,  2.4102e+01, -5.3323e-01, -1.4049e+00,  1.6941e-01,\n",
              "                       -2.5174e+00, -4.4028e+00, -9.4106e+00, -2.4821e-03,  2.6011e+00,\n",
              "                        2.4426e+01, -3.9666e+00,  2.0259e+00, -3.0943e+00, -1.9106e+00,\n",
              "                       -5.3699e-01, -2.1430e+00, -1.8754e-01,  1.5628e+00,  4.0449e-02,\n",
              "                       -4.1501e-02,  1.2472e+00,  7.3156e-02, -1.1445e-01, -1.6017e-01,\n",
              "                        3.0770e+01,  1.0983e+01, -4.0895e+00,  1.9489e+00,  4.2042e-01,\n",
              "                        7.3591e-01, -8.0091e-01,  6.5133e-01,  4.7388e+00, -7.9555e-01,\n",
              "                        3.8039e-01,  3.0744e-01, -3.8051e+00, -3.0415e-01,  1.2559e+00,\n",
              "                       -6.9775e+00],\n",
              "                      [ 1.1735e-02, -3.3590e+00, -7.5150e+00, -3.4811e+00, -5.2348e+00,\n",
              "                        1.5540e+00,  3.3663e+00,  1.6336e+00, -6.1324e-01, -1.6500e+00,\n",
              "                       -3.8889e-01,  2.3913e+00,  3.6553e+00,  1.4319e+00,  6.8535e+00,\n",
              "                       -2.1862e-01, -3.5027e-01, -1.4221e-01,  4.1105e-03,  5.7979e-03,\n",
              "                       -1.6547e-03, -7.9224e-02,  6.8494e-01, -4.9486e-01, -3.5838e-01,\n",
              "                        2.5006e-01,  2.4628e+00,  2.6194e+00, -2.5418e-01,  5.9693e-01,\n",
              "                       -5.4284e+00, -5.4589e-01,  1.4379e+00,  2.8829e+00, -1.0545e+01,\n",
              "                        5.6934e-01,  5.8679e-01,  1.5434e+00,  1.8434e-01,  3.7333e+00,\n",
              "                        1.2398e+00],\n",
              "                      [ 5.6873e-01,  3.3778e-02, -6.0885e-01, -2.9094e-01, -4.5629e-02,\n",
              "                       -1.7509e-02,  6.5087e-01,  3.6854e-01, -2.8311e-01, -2.9315e-01,\n",
              "                       -7.8584e-02, -4.9821e-02, -3.4208e-02, -3.7972e-01, -5.2684e-01,\n",
              "                       -3.5764e-01,  2.5101e-01, -1.5689e-01, -7.6239e-02,  2.4494e-01,\n",
              "                       -1.9873e-01, -2.5534e-01,  3.4771e-01, -4.6398e-02,  2.7179e-01,\n",
              "                       -1.0860e-01, -5.3864e-01, -5.0929e-01,  6.7621e-01,  4.6421e-01,\n",
              "                        6.6888e-01, -5.4388e-01, -1.9259e-01, -9.9199e-03,  2.2542e-02,\n",
              "                        2.3401e-01,  1.7044e-01, -2.2695e-01,  4.4097e-01,  1.7352e-01,\n",
              "                        3.4828e-01],\n",
              "                      [ 1.3061e-01, -2.7997e-01,  3.2414e-01, -2.2566e-02, -5.3450e-01,\n",
              "                        2.4974e-01,  5.3310e-01,  4.6601e-01, -2.5369e-01, -6.4310e-02,\n",
              "                       -3.6013e-01, -5.6021e-01, -4.8182e-01,  4.8673e-01, -6.8339e-03,\n",
              "                       -6.3436e-01, -6.3781e-01, -6.6486e-01, -3.6893e-01,  2.5356e-01,\n",
              "                       -6.1522e-01, -4.6191e-01, -4.7557e-01, -2.0673e-01, -2.9888e-01,\n",
              "                       -1.6667e-01,  7.7390e-04,  2.8947e-01,  3.8540e-01, -4.0681e-01,\n",
              "                        3.2487e-01,  5.0687e-01,  5.6863e-01,  3.1896e-01, -6.7195e-01,\n",
              "                        4.3431e-01,  6.8917e-01, -2.1546e-01, -3.4036e-01, -6.1924e-01,\n",
              "                        1.6962e-01],\n",
              "                      [-3.7342e+00, -2.3204e-01,  2.0412e-01, -8.0387e-01,  1.5142e+00,\n",
              "                        3.9318e+00,  2.1880e+00,  4.1187e+00,  2.7242e+00,  5.0000e-02,\n",
              "                       -6.2665e+00,  2.0754e+00, -2.9366e+00, -1.5578e+01,  2.1767e+00,\n",
              "                        9.0931e-01,  1.1192e+01, -1.5077e+01, -1.3971e-01,  4.6804e-03,\n",
              "                       -1.2346e-02,  7.9315e-02, -1.4456e-01,  2.9834e-02,  1.3099e-01,\n",
              "                       -3.8902e+00, -3.2980e+00, -5.1560e-01,  3.3946e+00, -3.0900e-03,\n",
              "                       -1.0384e-01,  3.5243e-02, -4.2917e-01,  4.7128e-01,  1.9171e-01,\n",
              "                        1.3162e-01, -1.8363e-01, -5.2663e-01, -8.4038e-03, -2.2094e-01,\n",
              "                        3.0007e+00],\n",
              "                      [ 5.3856e-02, -2.3606e-01, -3.0766e-01,  5.0382e+00, -1.9706e-01,\n",
              "                       -3.4400e+00,  6.0708e+00, -1.0807e-01, -2.9809e+00, -2.6278e+00,\n",
              "                        2.0269e-02, -4.3719e-01, -1.7589e+00, -7.2945e+00,  9.4572e-01,\n",
              "                        2.8558e-01, -1.6248e-01,  4.0173e-04,  1.0490e-01,  6.6726e-03,\n",
              "                       -1.2455e-02,  1.4089e-01, -1.8541e-01,  1.7916e-01,  1.1295e-01,\n",
              "                       -1.7593e-01, -1.0121e+00,  1.8187e-02, -4.4319e-01,  1.0331e-01,\n",
              "                       -3.2601e-01, -1.7581e-03, -6.3337e-01, -8.0590e-01,  1.0149e+00,\n",
              "                       -6.5988e-02, -2.3284e-01,  7.5227e-02,  5.4839e-02,  1.0414e+00,\n",
              "                       -2.5676e-01],\n",
              "                      [-1.0433e+00, -9.7266e-01,  9.3877e-02, -4.4871e+00,  7.3017e+00,\n",
              "                        4.1247e+00,  5.6396e+00,  8.6033e+00, -1.4996e+00, -2.5645e-01,\n",
              "                       -1.4923e+01,  8.4931e-01, -1.1279e+00, -7.9425e+00, -5.3139e+00,\n",
              "                       -1.9001e-01,  8.0815e-02,  3.2001e-01,  3.5056e-01, -2.5451e-02,\n",
              "                        1.5832e-02, -2.0258e-01,  4.1563e-01, -1.0040e-01, -2.6805e-01,\n",
              "                       -1.1988e-01, -4.6061e+00,  2.6469e-01, -2.8641e+00,  4.6834e-02,\n",
              "                        5.5389e-02,  4.7704e-01, -9.1754e-01,  2.7353e-02,  2.5031e-01,\n",
              "                        2.1381e+00,  1.7066e+00, -2.0966e-01,  1.1441e-01,  3.9333e-01,\n",
              "                        6.8481e-01],\n",
              "                      [-3.3704e-01,  6.9218e-01, -5.8388e-01, -5.5657e+00, -7.9459e+00,\n",
              "                        2.0775e+00, -9.2380e-01,  1.3783e+00, -2.4286e+00, -2.5778e+00,\n",
              "                       -2.0903e+00,  2.3882e+00,  6.1692e-01,  1.1547e+01, -1.7201e-01,\n",
              "                       -1.6818e-02,  4.9231e-01,  1.6468e-01,  1.3627e+00, -2.5547e-02,\n",
              "                        1.1167e-02,  2.0852e+00, -1.5274e-01,  1.3765e-01,  7.5739e-02,\n",
              "                       -3.4616e-02, -6.9337e-01, -5.3284e-01,  1.8000e+01, -8.0683e-01,\n",
              "                        4.2641e-01, -7.2610e-02,  3.6557e+00,  5.2806e-01, -5.1035e+00,\n",
              "                       -2.9648e-02, -5.8105e-01, -1.0446e-01, -5.2558e-02, -6.5735e-01,\n",
              "                        7.0110e-01]], device='cuda:0')),\n",
              "             ('lstm.weight_hh_l0', tensor([[ 0.6233, -0.3864],\n",
              "                      [ 0.0882,  0.0773],\n",
              "                      [-0.3521, -0.1093],\n",
              "                      [ 0.5110,  0.1614],\n",
              "                      [-0.2014, -0.2800],\n",
              "                      [-0.3928, -0.5785],\n",
              "                      [-0.1348, -0.4493],\n",
              "                      [ 0.3490,  0.2549]], device='cuda:0')),\n",
              "             ('lstm.bias_ih_l0',\n",
              "              tensor([ 6.3842,  0.0592, -0.5924, -0.6937, -3.4954,  1.0500, -0.6731,  0.4052],\n",
              "                     device='cuda:0')),\n",
              "             ('lstm.bias_hh_l0',\n",
              "              tensor([ 7.0058, -0.1723,  0.4254,  0.5916, -2.8282, -0.2365, -0.3095,  1.5370],\n",
              "                     device='cuda:0')),\n",
              "             ('lstm.weight_ih_l0_reverse',\n",
              "              tensor([[-1.7756e-01, -9.5028e-01,  2.9711e-01,  5.3444e+00, -1.2537e+00,\n",
              "                       -1.4210e+00, -3.2557e+00,  2.9178e-01, -7.9759e+00,  2.8576e+00,\n",
              "                       -1.9458e-01, -9.8962e-01, -2.2563e+00,  4.0352e+00, -2.1649e-01,\n",
              "                        8.7614e-01, -3.2747e-01, -4.9138e-01, -3.1289e+00, -2.0419e-02,\n",
              "                       -7.7077e-03, -2.2632e-01, -4.7800e-01, -2.1870e-01, -5.7621e-02,\n",
              "                       -4.6349e-01,  9.3556e-02,  5.7411e-01, -1.3155e-01, -1.5331e-01,\n",
              "                       -4.5144e-01, -4.3228e-01, -1.0001e+01,  1.4975e+01,  2.5953e-01,\n",
              "                        9.7279e-02,  1.0139e-02, -5.0559e-02,  7.9044e-02, -1.6813e+00,\n",
              "                        1.1406e+00],\n",
              "                      [ 1.0332e-01,  2.4473e-01, -3.0724e+00, -1.6974e-02,  2.4815e+00,\n",
              "                        1.9425e+00, -1.5807e+00, -7.4936e-02,  4.1204e+00, -5.7493e+00,\n",
              "                       -3.6909e-02,  5.3844e+00, -6.9396e-01, -5.0328e+00, -2.6811e-01,\n",
              "                        1.1108e+00,  8.0726e-02, -4.6878e+00,  6.6201e+00, -1.6598e-02,\n",
              "                        6.3514e-02,  4.4214e-01, -5.6680e-02,  1.1359e-01, -1.3182e-01,\n",
              "                       -5.4955e-01,  1.4437e+01, -9.6645e-01,  1.2188e+00,  2.3936e+00,\n",
              "                        1.5952e+00,  2.6218e-02,  5.7193e-01,  2.5425e-02, -3.6536e+00,\n",
              "                        1.6722e-01,  5.0371e-02, -3.2171e-01, -1.1392e-01,  1.7502e+00,\n",
              "                       -4.0980e+00],\n",
              "                      [ 1.3042e-01,  4.9679e-01,  1.0398e-01,  1.6389e-02,  5.6135e-01,\n",
              "                       -5.3364e-01, -6.8152e-01, -3.8315e-01,  2.5822e-03, -1.4231e-01,\n",
              "                        6.6665e-01,  2.9767e-01, -6.0220e-01,  1.9048e-01,  2.3804e-01,\n",
              "                       -4.2324e-02, -6.2916e-01,  3.0776e-01, -3.0244e-01,  6.2982e-01,\n",
              "                        6.5076e-01,  1.7290e-02, -6.9881e-01,  6.1658e-01,  6.1684e-01,\n",
              "                        6.2268e-01,  1.1803e-01,  6.4141e-01,  1.9456e-01,  3.9050e-01,\n",
              "                        3.9859e-01, -2.2326e-01, -6.7210e-01,  1.0117e-01, -1.0432e-02,\n",
              "                       -4.1410e-01,  3.9638e-01,  6.3684e-01, -6.8162e-01, -1.9493e-01,\n",
              "                        5.6761e-01],\n",
              "                      [ 3.2558e-01, -2.8308e-03, -6.6222e-01,  5.5353e-01,  1.8290e-01,\n",
              "                       -5.4677e-01, -3.1707e-01, -6.4547e-01,  1.4501e-01,  1.6655e-01,\n",
              "                       -2.7197e-03,  1.3927e-01, -3.3223e-02, -3.9212e-02, -9.8647e-02,\n",
              "                        1.9367e-01, -3.9003e-01,  9.2297e-02,  3.5961e-01, -8.8805e-02,\n",
              "                       -4.5536e-01, -5.1337e-01, -3.5938e-01, -3.9108e-01, -3.6071e-01,\n",
              "                        4.8920e-01,  3.9462e-01, -6.2449e-01,  6.8689e-01,  6.3228e-01,\n",
              "                        1.4298e-01,  6.4234e-01, -3.5966e-01,  4.7364e-01,  2.0810e-01,\n",
              "                        2.1100e-01, -5.6529e-01, -5.5000e-01,  5.8567e-01, -5.1376e-01,\n",
              "                        6.9116e-01],\n",
              "                      [ 1.2203e-01,  1.8422e-02,  1.0119e+00,  1.9405e+00, -1.8809e-02,\n",
              "                       -8.5201e-01,  4.3694e-01,  4.0279e-02,  2.3752e+00, -3.2936e+00,\n",
              "                       -2.4950e-01,  1.7737e+00, -2.4220e+00, -1.4284e+00, -1.5475e-01,\n",
              "                        1.8371e+00, -8.5560e-01, -1.5122e-01,  2.7595e+00,  7.1285e-03,\n",
              "                       -2.5751e-02,  3.1535e+00, -3.1234e-01,  2.7523e-01,  1.3189e-01,\n",
              "                       -2.4475e-02, -9.3215e-02, -7.5227e-02,  8.9800e-02,  9.1311e-02,\n",
              "                       -2.3601e+00, -2.3390e+00,  1.9857e-01,  2.8154e+00, -1.0263e-01,\n",
              "                       -3.8518e-01,  3.1875e-01, -1.2745e-01,  9.4984e-02,  2.4085e+00,\n",
              "                        2.7086e+00],\n",
              "                      [-8.4824e-02, -4.3081e-01, -4.2591e-01,  2.7555e+00, -2.5105e+00,\n",
              "                        1.1836e+00,  3.0141e-02, -4.9806e-02,  2.5455e+00,  7.4124e-01,\n",
              "                        1.2434e-02, -3.4571e-01, -1.4449e+00,  1.4854e-02,  1.1096e+00,\n",
              "                       -1.4967e-01,  5.8934e-01,  7.4351e-02, -1.0312e+00, -1.6955e-01,\n",
              "                       -5.8066e-01, -5.9824e-01,  1.4405e-02, -8.4118e-02, -8.6365e-03,\n",
              "                       -3.7669e-01,  3.2578e-01, -9.5372e-01,  6.4859e-01,  2.2937e-01,\n",
              "                        3.1231e-01, -1.6815e+00,  1.8703e+00,  3.6010e+00, -1.0593e+00,\n",
              "                       -2.4798e-01,  1.1487e-01, -2.3637e-01,  1.0649e-01,  8.5954e-01,\n",
              "                        1.1186e+00],\n",
              "                      [-1.3019e+00, -1.0455e+01, -6.2058e+00, -1.1860e+01,  3.8541e+00,\n",
              "                        8.4427e+00,  2.8588e+00, -1.0090e+01, -5.8251e+00,  5.0961e-01,\n",
              "                        2.4304e+01, -6.6058e-01,  4.1748e+00, -4.6654e+00, -5.2852e+00,\n",
              "                       -4.5220e+00,  2.4168e+00,  3.4969e+00, -2.7283e+00,  3.9767e-02,\n",
              "                       -7.9913e-02, -7.5565e-01,  1.4612e-01, -6.5113e-01, -6.6523e-02,\n",
              "                        2.3465e+01, -1.7306e-01, -1.0761e+00,  2.9856e-01,  1.3996e+00,\n",
              "                        2.3831e+00, -2.5839e-01, -2.4585e+00, -3.9217e-01,  9.1723e-01,\n",
              "                        1.0189e-01, -2.2023e-01,  4.3174e-02,  3.8327e-02, -5.0229e+00,\n",
              "                        1.5290e+00],\n",
              "                      [-1.7267e+00,  2.8295e+00,  3.1557e+00,  2.4761e+00,  4.8485e+00,\n",
              "                       -1.0540e+00, -2.5255e+00,  1.9795e+00, -3.4790e+00, -2.2735e+00,\n",
              "                        1.7512e+00, -2.2876e-01, -3.9683e+00, -3.4148e-01, -5.4680e-01,\n",
              "                        7.3681e+00,  1.6370e+00, -1.2117e+01, -9.3925e-01, -1.7911e-03,\n",
              "                       -1.1817e-02, -1.5816e+00, -1.4829e-01,  8.1800e-02,  5.5541e-02,\n",
              "                        8.0559e-02, -1.5709e+01,  2.3394e-01,  1.6122e-01, -1.0438e+00,\n",
              "                        2.7127e+00, -1.1655e-01, -4.6750e-01, -3.6251e-01, -2.6220e+00,\n",
              "                       -1.8444e-01,  1.5350e-02, -1.0664e-01,  9.0571e-02, -1.5450e-01,\n",
              "                       -2.0182e+00]], device='cuda:0')),\n",
              "             ('lstm.weight_hh_l0_reverse', tensor([[ 0.2318,  0.6465],\n",
              "                      [-0.0342, -0.1200],\n",
              "                      [ 0.5090, -0.6596],\n",
              "                      [ 0.6087, -0.4095],\n",
              "                      [ 0.2768,  0.0452],\n",
              "                      [ 0.4384, -0.3545],\n",
              "                      [-0.0207,  0.0062],\n",
              "                      [ 0.6646, -0.2413]], device='cuda:0')),\n",
              "             ('lstm.bias_ih_l0_reverse',\n",
              "              tensor([ 3.2133,  3.2677, -0.1848,  0.5488, -0.3674, -0.6410,  8.2387,  2.1121],\n",
              "                     device='cuda:0')),\n",
              "             ('lstm.bias_hh_l0_reverse',\n",
              "              tensor([ 4.2954e+00,  3.1305e+00,  4.9833e-01, -1.8401e-03, -1.3313e+00,\n",
              "                      -1.1743e+00,  8.2175e+00,  1.2878e+00], device='cuda:0')),\n",
              "             ('fc.weight', tensor([[ -1.4772,   4.2086,  -4.2660,   1.2234],\n",
              "                      [ -1.3750,  -2.5862,  -2.2051,   1.4056],\n",
              "                      [ -2.1565,  -3.4682,  -4.7384,  -1.2709],\n",
              "                      [ -6.0106,  -6.8569,  -4.9419,  -1.4823],\n",
              "                      [ -3.9845,  -0.8122,   5.1637,   1.6098],\n",
              "                      [ 10.4829,  -8.1534,   1.2882,   2.6035],\n",
              "                      [ -3.8307,   8.4621,   6.8640,  -4.5178],\n",
              "                      [ 12.9294,  -3.6035,  -7.3522, -10.9688],\n",
              "                      [  5.5014,  -0.4625,  -3.2257,  -8.3651],\n",
              "                      [ -7.7373, -11.7265,  -0.5125,  -4.1357]], device='cuda:0')),\n",
              "             ('fc.bias',\n",
              "              tensor([-2.5853, -1.0597, -0.7782, -0.5927,  4.4644,  0.0451,  4.2004, -4.0813,\n",
              "                      -2.7674, -6.5666], device='cuda:0'))])"
            ]
          },
          "metadata": {},
          "execution_count": 16
        }
      ]
    },
    {
      "cell_type": "code",
      "execution_count": 10,
      "metadata": {
        "id": "3w9QW9Lfp1aV",
        "colab": {
          "base_uri": "https://localhost:8080/"
        },
        "outputId": "f26a8b07-85ee-4e80-d836-e0edcabab95d"
      },
      "outputs": [
        {
          "output_type": "execute_result",
          "data": {
            "text/plain": [
              "LSTM_Model_label(\n",
              "  (lstm): LSTM(41, 2, batch_first=True, dropout=0.5, bidirectional=True)\n",
              "  (fc): Linear(in_features=4, out_features=2, bias=True)\n",
              ")"
            ]
          },
          "metadata": {},
          "execution_count": 10
        }
      ],
      "source": [
        "my_model_label = LSTM_Model_label(num_classes_label, input_size, hidden_size, num_layers).to(device=device)\n",
        "my_model_label"
      ]
    },
    {
      "cell_type": "markdown",
      "metadata": {
        "id": "Cey1CId-jjis"
      },
      "source": [
        "# **optimizer and loss function**"
      ]
    },
    {
      "cell_type": "code",
      "execution_count": 11,
      "metadata": {
        "id": "WNuQFMAekNDH"
      },
      "outputs": [],
      "source": [
        "loss_fn1 = nn.CrossEntropyLoss().to(device=device)\n",
        "loss_fn2 = nn.CrossEntropyLoss().to(device=device)\n",
        "optimizer1 = opt.Adam(params=my_model_attack.parameters(),lr=learning_rate)\n",
        "optimizer2 = opt.Adam(params=my_model_label.parameters(),lr=learning_rate)"
      ]
    },
    {
      "cell_type": "markdown",
      "metadata": {
        "id": "4JYcovfYlpHM"
      },
      "source": [
        "# **train attack cat**"
      ]
    },
    {
      "cell_type": "code",
      "execution_count": 12,
      "metadata": {
        "id": "Qmw8w1eTkeBu",
        "colab": {
          "base_uri": "https://localhost:8080/"
        },
        "outputId": "905aefc4-aa9f-4bb2-9af4-553bc658c872"
      },
      "outputs": [
        {
          "output_type": "stream",
          "name": "stdout",
          "text": [
            "Epoch: 0, loss: 1.0096\n",
            "Epoch: 50, loss: 0.5410\n",
            "Epoch: 100, loss: 0.5518\n",
            "Epoch: 150, loss: 0.5600\n",
            "Epoch: 200, loss: 0.5790\n",
            "Epoch: 250, loss: 0.5822\n",
            "Epoch: 300, loss: 0.6153\n",
            "Epoch: 350, loss: 0.5638\n",
            "Epoch: 400, loss: 0.5106\n",
            "Epoch: 450, loss: 0.6054\n",
            "Epoch: 500, loss: 0.5737\n"
          ]
        }
      ],
      "source": [
        "for epoch in range(num_epoch+1):\n",
        "\n",
        "    for batch_x, batch_y in train_attack_cat_dataloader:\n",
        "\n",
        "        batch_x = torch.reshape(batch_x, (batch_x.shape[0], 1, batch_x.shape[1])) #RuntimeError: For unbatched 2-D input, hx and cx should also be 2-D but got (3-D, 3-D) tensors\n",
        "        \n",
        "        batch_x = batch_x.to(device)\n",
        "        batch_y = batch_y.to(device)\n",
        "\n",
        "        optimizer1.zero_grad()\n",
        "        loss1 = loss_fn1(my_model_attack(batch_x) , batch_y)\n",
        "        loss1.backward() \n",
        "        optimizer1.step()\n",
        "\n",
        "    if epoch % 50 == 0:\n",
        "         print(\"Epoch: %d, loss: %.4f\" % (epoch, loss1.item())) "
      ]
    },
    {
      "cell_type": "code",
      "source": [
        "my_model_attack.state_dict()"
      ],
      "metadata": {
        "id": "Xl1x3_Pwx9FS"
      },
      "execution_count": null,
      "outputs": []
    },
    {
      "cell_type": "markdown",
      "metadata": {
        "id": "PQaRCMJPls5N"
      },
      "source": [
        "# **test attack cat**"
      ]
    },
    {
      "cell_type": "code",
      "execution_count": 13,
      "metadata": {
        "id": "QrtYzVT4loMQ",
        "colab": {
          "base_uri": "https://localhost:8080/"
        },
        "outputId": "340b0272-fcee-4ff9-87cf-990445447fd2"
      },
      "outputs": [
        {
          "output_type": "stream",
          "name": "stdout",
          "text": [
            "acc : 79.77%\n"
          ]
        }
      ],
      "source": [
        "correct = 0\n",
        "\n",
        "for batch_x, labl in test_attack_cat_dataloader:\n",
        "  \n",
        "    batch_x = torch.reshape(batch_x, (batch_x.shape[0], 1, batch_x.shape[1])) #RuntimeError: For unbatched 2-D input, hx and cx should also be 2-D but got (3-D, 3-D) tensors\n",
        "  \n",
        "    batch_x = batch_x.to(device)\n",
        "    labl = labl.to(device)\n",
        "\n",
        "    out = my_model_attack(batch_x)\n",
        "    _,predicted = torch.max(out,1)\n",
        "    correct += torch.sum(predicted == labl)\n",
        "\n",
        "print(\"acc : %.2f\" % (100.*correct / len(test_attack_cat)),end=\"\")\n",
        "print(\"%\")"
      ]
    },
    {
      "cell_type": "markdown",
      "metadata": {
        "id": "pLqOLtA6tQht"
      },
      "source": [
        "# **train label**"
      ]
    },
    {
      "cell_type": "code",
      "execution_count": 14,
      "metadata": {
        "id": "Xm1cu1GhtMJO",
        "colab": {
          "base_uri": "https://localhost:8080/"
        },
        "outputId": "62da8485-3b41-47f0-9b73-2ffcf9cb70f0"
      },
      "outputs": [
        {
          "output_type": "stream",
          "name": "stdout",
          "text": [
            "Epoch: 0, loss: 0.2349\n",
            "Epoch: 50, loss: 0.1580\n",
            "Epoch: 100, loss: 0.1512\n",
            "Epoch: 150, loss: 0.1285\n",
            "Epoch: 200, loss: 0.1100\n",
            "Epoch: 250, loss: 0.1153\n",
            "Epoch: 300, loss: 0.1253\n",
            "Epoch: 350, loss: 0.1224\n",
            "Epoch: 400, loss: 0.1117\n",
            "Epoch: 450, loss: 0.1228\n",
            "Epoch: 500, loss: 0.1592\n"
          ]
        }
      ],
      "source": [
        "for epoch in range(num_epoch+1):\n",
        "\n",
        "    for batch_x, batch_y in train_label_dataloader:\n",
        "\n",
        "        batch_x = torch.reshape(batch_x, (batch_x.shape[0], 1, batch_x.shape[1])) #RuntimeError: For unbatched 2-D input, hx and cx should also be 2-D but got (3-D, 3-D) tensors\n",
        "        \n",
        "        batch_x = batch_x.to(device)\n",
        "        batch_y = batch_y.to(device)\n",
        "\n",
        "        optimizer2.zero_grad()\n",
        "        loss2 = loss_fn2(my_model_label(batch_x) , batch_y)\n",
        "        loss2.backward() \n",
        "        optimizer2.step()\n",
        "\n",
        "    if epoch % 50 == 0:\n",
        "         print(\"Epoch: %d, loss: %.4f\" % (epoch, loss2.item())) "
      ]
    },
    {
      "cell_type": "markdown",
      "metadata": {
        "id": "Ig7VBqU0tfZd"
      },
      "source": [
        "# **test label**"
      ]
    },
    {
      "cell_type": "code",
      "execution_count": 15,
      "metadata": {
        "id": "a7u2bQ0WtiG2",
        "colab": {
          "base_uri": "https://localhost:8080/"
        },
        "outputId": "892dd6df-56eb-45f5-eda7-aec1626d62e5"
      },
      "outputs": [
        {
          "output_type": "stream",
          "name": "stdout",
          "text": [
            "acc : 93.31%\n"
          ]
        }
      ],
      "source": [
        "correct = 0\n",
        "\n",
        "for batch_x, labl in test_label_dataloader:\n",
        "\n",
        "    batch_x = torch.reshape(batch_x, (batch_x.shape[0], 1, batch_x.shape[1])) #RuntimeError: For unbatched 2-D input, hx and cx should also be 2-D but got (3-D, 3-D) tensors\n",
        "\n",
        "    batch_x = batch_x.to(device)\n",
        "    labl = labl.to(device)\n",
        "  \n",
        "    out = my_model_label(batch_x)\n",
        "    _,predicted = torch.max(out,1)\n",
        "    correct += torch.sum(predicted == labl)\n",
        "\n",
        "print(\"acc : %.2f\" % (100.*correct / len(test_label)),end=\"\")\n",
        "print(\"%\")"
      ]
    }
  ],
  "metadata": {
    "accelerator": "GPU",
    "colab": {
      "collapsed_sections": [],
      "provenance": []
    },
    "gpuClass": "standard",
    "kernelspec": {
      "display_name": "Python 3",
      "name": "python3"
    },
    "language_info": {
      "name": "python"
    }
  },
  "nbformat": 4,
  "nbformat_minor": 0
}