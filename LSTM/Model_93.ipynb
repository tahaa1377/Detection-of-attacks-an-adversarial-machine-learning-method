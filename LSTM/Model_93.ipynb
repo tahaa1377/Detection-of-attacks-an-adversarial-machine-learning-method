{
  "cells": [
    {
      "cell_type": "code",
      "execution_count": 1,
      "metadata": {
        "id": "Ff1b4PxtBQuc"
      },
      "outputs": [],
      "source": [
        "num_epoch = 500      \n",
        "learning_rate = 0.01\n",
        "batch_size = 2000\n",
        "\n",
        "hidden_size = 64 #number of features in hidden state\n",
        "num_layers = 3  #number of stacked lstm layers\n",
        "bidirectional = False\n",
        "drop_out = 0\n",
        "bidirectional_forward_backward = 2 if bidirectional else 1\n",
        "\n",
        "input_size = 41 #number of features\n",
        "num_classes_attack_cat = 10 #number of output classes \n",
        "num_classes_label = 2       #number of output classes "
      ]
    },
    {
      "cell_type": "code",
      "source": [
        "from google.colab import drive\n",
        "drive.mount('/content/drive')"
      ],
      "metadata": {
        "colab": {
          "base_uri": "https://localhost:8080/"
        },
        "id": "0Gua0hky6SDJ",
        "outputId": "dc5868b8-5a7b-4d8f-ae56-be82be789e3a"
      },
      "execution_count": 2,
      "outputs": [
        {
          "output_type": "stream",
          "name": "stdout",
          "text": [
            "Drive already mounted at /content/drive; to attempt to forcibly remount, call drive.mount(\"/content/drive\", force_remount=True).\n"
          ]
        }
      ]
    },
    {
      "cell_type": "code",
      "execution_count": 3,
      "metadata": {
        "colab": {
          "base_uri": "https://localhost:8080/"
        },
        "id": "hZiaj4uT24DH",
        "outputId": "80ef559c-a113-4ffb-d058-7b9536432fc8"
      },
      "outputs": [
        {
          "output_type": "stream",
          "name": "stdout",
          "text": [
            "GPU\n"
          ]
        }
      ],
      "source": [
        "import pandas as pd\n",
        "from matplotlib import pyplot as plt\n",
        "import numpy as np\n",
        "from torch.utils.data.dataset import Dataset\n",
        "from torch.utils.data import random_split, DataLoader\n",
        "import torch\n",
        "from sklearn.preprocessing import LabelEncoder\n",
        "from sklearn import preprocessing\n",
        "import torch.nn as nn\n",
        "import torch.nn.functional as F\n",
        "import torch.optim as opt\n",
        "from torch.autograd import Variable \n",
        "\n",
        "# GPU OR CPU\n",
        "if torch.cuda.is_available():\n",
        "    device = torch.device(\"cuda:0\")\n",
        "    print(\"GPU\")\n",
        "else:\n",
        "    device = torch.device(\"cpu\")\n",
        "    print(\"CPU\")"
      ]
    },
    {
      "cell_type": "code",
      "execution_count": 4,
      "metadata": {
        "id": "Sv-R_m6Z1EL5"
      },
      "outputs": [],
      "source": [
        "class DataSet_UNSWNB15_attack_cat(Dataset):\n",
        "\n",
        "    def __init__(self,data_set_path):\n",
        "        df = pd.read_csv(data_set_path)\n",
        "        print(df.attack_cat.value_counts().sort_values().plot(kind = \"barh\"))\n",
        "        \n",
        "        # preprocceing\n",
        "        df.drop(['id',\"Unnamed: 0\",\"service\",\"label\"], axis=1, inplace=True)        \n",
        "        cols = ['attack_cat' ,'proto' ,'state']\n",
        "        df[cols] = df[cols].apply(LabelEncoder().fit_transform)\n",
        "\n",
        "        self.data_array = df.values\n",
        "        self.x = self.data_array[:, :41]\n",
        "        self.y = self.data_array[:, 41]\n",
        "      \n",
        "        # normalaized data\n",
        "        scaler = preprocessing.StandardScaler().fit(self.x)\n",
        "        self.x = scaler.transform(self.x)\n",
        "\n",
        "        self.x = torch.tensor(self.x).float()\n",
        "        self.y = torch.tensor(self.y).long()\n",
        "\n",
        "    def __len__(self):\n",
        "        return len(self.data_array)\n",
        "\n",
        "    def __getitem__(self, item):\n",
        "        sample = (self.x[item, :], self.y[item])\n",
        "        return sample\n",
        "\n",
        "        \n",
        "class DataSet_UNSWNB15_label(Dataset):\n",
        "\n",
        "    def __init__(self,data_set_path):\n",
        "        df = pd.read_csv(data_set_path)\n",
        "        print(df.label.value_counts().sort_values().plot(kind = \"pie\"))\n",
        "\n",
        "        # preprocceing\n",
        "        df.drop(['id',\"Unnamed: 0\",\"service\",\"attack_cat\"], axis=1, inplace=True)\n",
        "        cols = ['proto' ,'state']\n",
        "        df[cols] = df[cols].apply(LabelEncoder().fit_transform)\n",
        "\n",
        "        self.data_array = df.values\n",
        "        self.x = self.data_array[:, :41]\n",
        "        self.y = self.data_array[:, 41]\n",
        "        \n",
        "        # normalaized data\n",
        "        scaler = preprocessing.StandardScaler().fit(self.x)\n",
        "        self.x = scaler.transform(self.x)\n",
        "\n",
        "        self.x = torch.tensor(self.x).float()\n",
        "        self.y = torch.tensor(self.y).long()\n",
        "\n",
        "    def __len__(self):\n",
        "        return len(self.data_array)\n",
        "\n",
        "    def __getitem__(self, item):\n",
        "        sample = (self.x[item, :], self.y[item])\n",
        "        return sample"
      ]
    },
    {
      "cell_type": "code",
      "execution_count": 5,
      "metadata": {
        "colab": {
          "base_uri": "https://localhost:8080/",
          "height": 283
        },
        "id": "UykLrbQZ1R7K",
        "outputId": "b3c4b6b0-1d15-4b24-e430-361963308375"
      },
      "outputs": [
        {
          "output_type": "stream",
          "name": "stdout",
          "text": [
            "AxesSubplot(0.125,0.125;0.775x0.755)\n"
          ]
        },
        {
          "output_type": "display_data",
          "data": {
            "text/plain": [
              "<Figure size 432x288 with 1 Axes>"
            ],
            "image/png": "[encoded data removed]"
          },
          "metadata": {
            "needs_background": "light"
          }
        }
      ],
      "source": [
        "dataset_attack_cat = DataSet_UNSWNB15_attack_cat(\"/content/drive/MyDrive/datasets/UNSW-NB15/UNSW_NB15.csv\")\n",
        "number_of_test = int(len(dataset_attack_cat)*0.3)\n",
        "number_of_train = len(dataset_attack_cat) - int(len(dataset_attack_cat)*0.3)\n",
        "train_attack_cat ,test_attack_cat = random_split(dataset=dataset_attack_cat, lengths=[number_of_train,number_of_test])\n",
        "\n",
        "train_attack_cat_dataloader = DataLoader(dataset=train_attack_cat ,batch_size=batch_size ,shuffle=True)\n",
        "test_attack_cat_dataloader = DataLoader(dataset=test_attack_cat ,batch_size=batch_size ,shuffle=True)"
      ]
    },
    {
      "cell_type": "code",
      "execution_count": 6,
      "metadata": {
        "colab": {
          "base_uri": "https://localhost:8080/",
          "height": 266
        },
        "id": "LmFY9Q-u29T3",
        "outputId": "cea37b75-a57f-4f0d-9a2a-bb3fdc0308b6"
      },
      "outputs": [
        {
          "output_type": "stream",
          "name": "stdout",
          "text": [
            "AxesSubplot(0.260833,0.125;0.503333x0.755)\n"
          ]
        },
        {
          "output_type": "display_data",
          "data": {
            "text/plain": [
              "<Figure size 432x288 with 1 Axes>"
            ],
            "image/png": "[encoded data removed]"
          },
          "metadata": {}
        }
      ],
      "source": [
        "dataset_label = DataSet_UNSWNB15_label(\"/content/drive/MyDrive/datasets/UNSW-NB15/UNSW_NB15.csv\")\n",
        "number_of_test = int(len(dataset_label)*0.3)\n",
        "number_of_train = len(dataset_label) - int(len(dataset_label)*0.3)\n",
        "train_label ,test_label = random_split(dataset=dataset_label, lengths=[number_of_train,number_of_test])\n",
        "\n",
        "train_label_dataloader = DataLoader(dataset=train_label ,batch_size=batch_size ,shuffle=True)\n",
        "test_label_dataloader = DataLoader(dataset=test_label ,batch_size=batch_size ,shuffle=True)"
      ]
    },
    {
      "cell_type": "markdown",
      "metadata": {
        "id": "0HslPLv2IOGd"
      },
      "source": [
        "# **preprocessing ended**\n",
        "\n",
        "# **create model**"
      ]
    },
    {
      "cell_type": "markdown",
      "source": [
        "![bilstm-1.webp](data:image/webp;base64,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)"
      ],
      "metadata": {
        "id": "F2hNvBs6qBQS"
      }
    },
    {
      "cell_type": "code",
      "execution_count": 7,
      "metadata": {
        "id": "oN6DuQbJibuE"
      },
      "outputs": [],
      "source": [
        "class LSTM_Model_attack(nn.Module):\n",
        "    def __init__(self, num_classes, input_size, hidden_size, num_layers):\n",
        "        super(LSTM_Model_attack, self).__init__()\n",
        "        self.num_classes = num_classes #number of classes\n",
        "        self.num_layers = num_layers #number of layers\n",
        "        self.input_size = input_size #input size\n",
        "        self.hidden_size = hidden_size #hidden state\n",
        "\n",
        "        self.lstm = nn.LSTM(input_size=input_size, hidden_size=hidden_size, num_layers=num_layers, batch_first=True,\n",
        "                            bidirectional=bidirectional, dropout=drop_out) #lstm\n",
        "\n",
        "        self.fc = nn.Linear(hidden_size * bidirectional_forward_backward, num_classes) #fully connected last layer\n",
        "                             # 2 => forward and backward for bidirectional\n",
        "    \n",
        "    def forward(self,x):\n",
        "                                                # 2 => forward and backward for bidirectional\n",
        "        h_0 = Variable(torch.zeros(self.num_layers * bidirectional_forward_backward, x.size(0), self.hidden_size)).to(device=device) #hidden state\n",
        "        c_0 = Variable(torch.zeros(self.num_layers * bidirectional_forward_backward, x.size(0), self.hidden_size)).to(device=device) #internal state\n",
        "\n",
        "        out, (hn, cn) = self.lstm(x, (h_0, c_0))\n",
        "        out = self.fc(out[:, -1, :]) \n",
        "        return out\n",
        "\n",
        "\n",
        "class LSTM_Model_label(nn.Module):\n",
        "    def __init__(self, num_classes, input_size, hidden_size, num_layers):\n",
        "        super(LSTM_Model_label, self).__init__()\n",
        "        self.num_classes = num_classes #number of classes\n",
        "        self.num_layers = num_layers #number of layers\n",
        "        self.input_size = input_size #input size\n",
        "        self.hidden_size = hidden_size #hidden state\n",
        "\n",
        "        self.lstm = nn.LSTM(input_size=input_size, hidden_size=hidden_size, num_layers=num_layers, batch_first=True, \n",
        "                            bidirectional=bidirectional, dropout=drop_out) #lstm\n",
        "\n",
        "        self.fc = nn.Linear(hidden_size * bidirectional_forward_backward, num_classes) #fully connected last layer\n",
        "\n",
        "    \n",
        "    def forward(self,x):\n",
        "        h_0 = Variable(torch.zeros(self.num_layers * bidirectional_forward_backward, x.size(0), self.hidden_size)).to(device=device) #hidden state\n",
        "        c_0 = Variable(torch.zeros(self.num_layers * bidirectional_forward_backward, x.size(0), self.hidden_size)).to(device=device) #internal state\n",
        "\n",
        "        out, (hn, cn) = self.lstm(x, (h_0, c_0))\n",
        "        out = self.fc(out[:, -1, :]) \n",
        "        return out\n"
      ]
    },
    {
      "cell_type": "code",
      "execution_count": 8,
      "metadata": {
        "id": "US8JfNI8j3zO",
        "colab": {
          "base_uri": "https://localhost:8080/"
        },
        "outputId": "19652083-760a-4b7a-cafb-a020cebb820f"
      },
      "outputs": [
        {
          "output_type": "execute_result",
          "data": {
            "text/plain": [
              "LSTM_Model_attack(\n",
              "  (lstm): LSTM(41, 64, num_layers=3, batch_first=True)\n",
              "  (fc): Linear(in_features=64, out_features=10, bias=True)\n",
              ")"
            ]
          },
          "metadata": {},
          "execution_count": 8
        }
      ],
      "source": [
        "my_model_attack = LSTM_Model_attack(num_classes_attack_cat, input_size, hidden_size, num_layers).to(device=device)\n",
        "my_model_attack"
      ]
    },
    {
      "cell_type": "code",
      "source": [
        "my_model_attack.state_dict()"
      ],
      "metadata": {
        "colab": {
          "base_uri": "https://localhost:8080/"
        },
        "id": "Dq8JkQZ9ukCs",
        "outputId": "4710d364-0f89-4979-82c3-1132b2fbd231"
      },
      "execution_count": 9,
      "outputs": [
        {
          "output_type": "execute_result",
          "data": {
            "text/plain": [
              "OrderedDict([('lstm.weight_ih_l0',\n",
              "              tensor([[-0.1016,  0.1051, -0.0196,  ..., -0.0167, -0.0130,  0.0094],\n",
              "                      [ 0.0726, -0.0817, -0.0095,  ...,  0.0781, -0.0374,  0.0355],\n",
              "                      [-0.0327,  0.0506, -0.0299,  ..., -0.0336,  0.0301, -0.0687],\n",
              "                      ...,\n",
              "                      [ 0.0832,  0.0850,  0.0819,  ...,  0.1047, -0.0772,  0.0655],\n",
              "                      [ 0.1211, -0.0869,  0.0127,  ...,  0.0224, -0.0317,  0.0105],\n",
              "                      [ 0.0718,  0.0174,  0.1149,  ...,  0.0430,  0.0391, -0.1088]],\n",
              "                     device='cuda:0')),\n",
              "             ('lstm.weight_hh_l0',\n",
              "              tensor([[-0.0216, -0.0683,  0.0528,  ..., -0.0615, -0.0804,  0.0569],\n",
              "                      [ 0.0812,  0.1127,  0.0831,  ...,  0.0683, -0.0655, -0.0857],\n",
              "                      [-0.0501, -0.0676,  0.0425,  ..., -0.0939, -0.0248, -0.0282],\n",
              "                      ...,\n",
              "                      [ 0.0169,  0.1069,  0.1190,  ..., -0.0226,  0.0564,  0.0041],\n",
              "                      [ 0.0188,  0.0130, -0.0902,  ..., -0.0432,  0.0582,  0.1039],\n",
              "                      [-0.0192,  0.1206, -0.0403,  ..., -0.0546,  0.1037, -0.1032]],\n",
              "                     device='cuda:0')),\n",
              "             ('lstm.bias_ih_l0',\n",
              "              tensor([ 0.0849,  0.0085,  0.0208,  0.1056, -0.0353, -0.0957, -0.0461,  0.0465,\n",
              "                       0.0142, -0.1178, -0.0744,  0.1036, -0.0289,  0.1174,  0.0765, -0.0436,\n",
              "                       0.0245, -0.0183, -0.0893,  0.0873, -0.1027,  0.0695, -0.0041, -0.0455,\n",
              "                       0.0945,  0.0761, -0.1222, -0.0857, -0.0923,  0.0966, -0.0862,  0.1036,\n",
              "                      -0.0976,  0.0760,  0.0146,  0.0477, -0.0137, -0.0061, -0.0423, -0.0952,\n",
              "                      -0.0005, -0.1228,  0.0216,  0.0653,  0.0033, -0.0838,  0.0724,  0.0663,\n",
              "                       0.0185,  0.1037, -0.0152, -0.0102,  0.0937, -0.0212,  0.0694, -0.0572,\n",
              "                      -0.0609,  0.0065, -0.0773, -0.0944,  0.0479, -0.0123, -0.0425, -0.0143,\n",
              "                       0.0266, -0.0918, -0.1136, -0.0924, -0.1060, -0.0396, -0.0304,  0.0362,\n",
              "                       0.0565, -0.0065, -0.0585, -0.1137, -0.0986,  0.0712,  0.1245,  0.1083,\n",
              "                       0.0101,  0.0597,  0.0335, -0.0995,  0.1066,  0.0880,  0.0449, -0.0050,\n",
              "                      -0.0804,  0.0373,  0.0185,  0.1208, -0.0588, -0.0275,  0.0757, -0.0404,\n",
              "                      -0.1020,  0.1052, -0.0532,  0.0430, -0.0629, -0.0162, -0.0451,  0.0811,\n",
              "                      -0.0175,  0.0930,  0.0233,  0.0427, -0.0190,  0.0245,  0.0765, -0.0391,\n",
              "                      -0.1082, -0.1203, -0.0539, -0.0811,  0.1025,  0.1077,  0.0034,  0.0650,\n",
              "                       0.0784,  0.0602,  0.0916, -0.0773,  0.1005,  0.0752,  0.0081, -0.0719,\n",
              "                       0.1176,  0.0028,  0.0188,  0.0417, -0.0016, -0.0384, -0.0016,  0.1161,\n",
              "                       0.1150,  0.0795,  0.0444, -0.0077, -0.0915, -0.0962,  0.0924, -0.0112,\n",
              "                      -0.0454, -0.0237, -0.1196, -0.0436,  0.0234, -0.1236, -0.0817, -0.1192,\n",
              "                       0.1076, -0.0418, -0.0214,  0.1155, -0.1154,  0.0604,  0.0981, -0.0786,\n",
              "                      -0.1144,  0.0178,  0.0843,  0.0740, -0.0325, -0.0426,  0.1176,  0.0130,\n",
              "                       0.1154,  0.0783,  0.0158, -0.1063, -0.1084, -0.0061, -0.0903, -0.0523,\n",
              "                       0.0598,  0.0951,  0.0345,  0.0449,  0.1246,  0.0096,  0.0223, -0.0364,\n",
              "                       0.0177,  0.0018,  0.0643,  0.1082, -0.0425, -0.1067,  0.0196,  0.0877,\n",
              "                      -0.0939, -0.0569,  0.0310,  0.0887,  0.1132,  0.1122,  0.0953,  0.0002,\n",
              "                      -0.1038, -0.0258,  0.1112, -0.0155,  0.0459,  0.0493,  0.0735,  0.0516,\n",
              "                      -0.1200, -0.0700,  0.0594,  0.0906,  0.1183, -0.1226, -0.0847,  0.0840,\n",
              "                      -0.1189, -0.0282, -0.1222, -0.0311,  0.0897, -0.0628,  0.1080, -0.0666,\n",
              "                      -0.0092,  0.0983,  0.1028, -0.0858,  0.0538,  0.0980, -0.0408,  0.0589,\n",
              "                      -0.0113,  0.1041,  0.0214, -0.0345,  0.1158, -0.1066,  0.0454,  0.0757,\n",
              "                      -0.0623, -0.0049, -0.1041, -0.0254, -0.0167,  0.0074,  0.0764,  0.0552,\n",
              "                      -0.0274, -0.1071, -0.0078, -0.0985,  0.1040,  0.0749,  0.0873, -0.0276],\n",
              "                     device='cuda:0')),\n",
              "             ('lstm.bias_hh_l0',\n",
              "              tensor([-1.1409e-01,  3.5408e-02, -7.8574e-02,  1.9112e-04,  1.4080e-02,\n",
              "                      -5.0010e-02, -1.0784e-02,  5.9335e-02, -4.7366e-02,  9.9316e-02,\n",
              "                       1.0508e-01,  3.8517e-02, -2.7904e-02, -1.9462e-02,  3.9851e-02,\n",
              "                       4.8700e-02,  7.8844e-02, -7.8197e-03,  8.0849e-02, -6.6323e-02,\n",
              "                      -7.8777e-02, -9.3769e-02, -2.8316e-02,  7.0192e-02,  7.3237e-02,\n",
              "                      -2.8855e-02,  1.1054e-01, -9.9760e-02, -2.6389e-02, -9.2874e-02,\n",
              "                       3.8877e-02, -1.0179e-01, -7.7204e-02,  1.0435e-02,  9.9005e-02,\n",
              "                      -3.2229e-02,  1.0310e-01,  1.6606e-02,  1.4053e-02, -4.2731e-02,\n",
              "                      -1.2387e-01, -8.1944e-02, -1.0539e-01,  2.0331e-02,  6.3930e-02,\n",
              "                      -1.0753e-01, -1.1732e-01,  1.4326e-02,  3.7471e-02, -5.5589e-02,\n",
              "                       3.0552e-03, -6.8198e-02, -4.3748e-02,  6.8063e-02, -1.3049e-02,\n",
              "                       4.7323e-02, -1.3599e-02, -3.3731e-02, -3.7312e-02, -4.7133e-02,\n",
              "                       1.1403e-01, -1.0477e-01, -1.0689e-01, -1.0294e-01, -8.9547e-02,\n",
              "                       1.1774e-01,  1.1781e-01, -5.2035e-02,  9.6000e-02,  8.6264e-02,\n",
              "                       1.0775e-01, -3.5822e-03, -1.1627e-01, -4.4584e-02,  8.2582e-02,\n",
              "                      -2.7706e-03,  8.8775e-02,  5.1428e-02, -1.7421e-02,  6.2790e-02,\n",
              "                      -6.0933e-02, -4.3907e-02, -1.1563e-02, -9.8272e-02, -2.1748e-02,\n",
              "                      -6.9336e-02,  5.2795e-02,  8.3870e-02,  8.0857e-02, -1.2289e-03,\n",
              "                      -1.7917e-02,  4.0954e-02, -9.5518e-02, -6.4424e-02, -4.9685e-02,\n",
              "                      -1.0116e-01,  1.2455e-01, -1.0721e-01,  5.9477e-02, -3.5162e-03,\n",
              "                       4.6496e-03,  2.8570e-02,  8.1473e-02,  1.2107e-01,  7.5056e-02,\n",
              "                      -9.1227e-02,  9.9418e-02,  8.6802e-02,  5.1335e-02,  1.0710e-01,\n",
              "                      -5.4185e-02,  1.1510e-01, -4.0299e-02, -1.1302e-01, -1.0910e-01,\n",
              "                       6.5063e-02, -3.6168e-02,  9.5979e-02,  4.3330e-02, -4.3274e-02,\n",
              "                      -5.9765e-02, -3.5417e-02, -7.3524e-02, -1.1541e-01, -1.4240e-02,\n",
              "                       1.5141e-02,  1.1369e-01, -9.8560e-03,  7.9651e-02, -2.5445e-02,\n",
              "                       3.2429e-02, -2.8897e-02,  6.3945e-02, -1.3298e-02,  8.5584e-02,\n",
              "                      -9.4369e-02, -1.0680e-01,  5.6661e-02,  5.0227e-02,  1.0044e-01,\n",
              "                      -2.6813e-03,  1.0993e-01,  8.8760e-04, -5.0175e-02,  2.8532e-02,\n",
              "                      -7.6863e-02, -1.1369e-01, -1.0049e-02, -8.1452e-02,  5.6595e-02,\n",
              "                       8.1106e-02, -2.3667e-03, -8.7469e-02, -4.9278e-02, -1.1735e-01,\n",
              "                      -5.4045e-02,  9.5651e-02, -1.9990e-03, -8.4519e-02, -1.1313e-02,\n",
              "                      -7.9990e-02, -2.2703e-03, -8.0010e-02, -7.7584e-02, -7.2573e-02,\n",
              "                      -5.3452e-02,  1.1613e-01, -3.6473e-02, -8.8394e-05, -5.5830e-02,\n",
              "                      -8.2746e-02, -7.3468e-02, -2.6790e-03,  8.0744e-02,  1.0440e-01,\n",
              "                       9.8782e-03, -1.1854e-01, -1.0921e-01, -5.1922e-02,  6.9128e-02,\n",
              "                      -1.7988e-02,  5.3687e-02, -5.8972e-02, -3.0538e-02, -8.9367e-02,\n",
              "                       1.0685e-01,  7.5925e-02,  3.3877e-02, -9.8926e-02, -5.1640e-02,\n",
              "                      -4.8032e-02,  1.7831e-02,  1.4350e-02, -2.0644e-03,  7.8051e-04,\n",
              "                       7.1845e-02,  7.6623e-02,  4.5373e-02, -1.9157e-02, -7.7266e-02,\n",
              "                      -1.2748e-02,  2.3911e-02,  6.9582e-02,  5.4926e-02,  8.9941e-02,\n",
              "                       5.0847e-02,  6.2992e-02, -1.1448e-01,  9.2706e-02, -1.0040e-02,\n",
              "                      -7.1828e-03, -9.0851e-02,  3.4519e-02, -9.7715e-02,  1.2466e-01,\n",
              "                       6.6352e-02,  1.7154e-02,  8.5489e-02, -9.1144e-02, -1.9520e-02,\n",
              "                       8.2503e-02, -9.3163e-02, -9.6243e-02, -1.2220e-01, -3.8899e-02,\n",
              "                       1.0718e-01, -3.6525e-02, -3.4170e-02,  1.2200e-01,  8.0543e-02,\n",
              "                       1.4912e-02,  9.9651e-02, -4.9049e-02,  3.2779e-02,  7.0701e-02,\n",
              "                       7.9357e-03, -5.4621e-02, -1.0327e-01,  3.0498e-02,  7.9122e-03,\n",
              "                      -5.1375e-02, -4.8396e-02, -1.1094e-02, -8.7271e-02,  3.3327e-03,\n",
              "                       1.2350e-01, -6.5520e-02, -3.3687e-02, -4.2167e-02,  1.1440e-01,\n",
              "                       5.1690e-02, -7.6713e-02, -1.1162e-01, -1.1053e-01,  1.1678e-01,\n",
              "                      -7.1385e-02], device='cuda:0')),\n",
              "             ('lstm.weight_ih_l1',\n",
              "              tensor([[-1.1161e-01,  6.4835e-02, -5.6284e-02,  ..., -9.5533e-02,\n",
              "                       -7.9342e-02,  1.6292e-02],\n",
              "                      [-4.9826e-02,  1.0003e-01,  1.2269e-01,  ...,  2.3149e-02,\n",
              "                       -7.9560e-02, -1.1596e-01],\n",
              "                      [-3.8486e-02, -1.1615e-01,  1.0023e-01,  ..., -5.7851e-02,\n",
              "                        7.9938e-02, -7.8473e-02],\n",
              "                      ...,\n",
              "                      [-1.1622e-01, -3.5812e-02,  1.0224e-01,  ...,  2.3654e-02,\n",
              "                        1.1404e-04,  5.1227e-02],\n",
              "                      [-2.9967e-02,  5.2666e-02,  7.0713e-02,  ...,  5.0138e-02,\n",
              "                       -5.8986e-02, -4.8500e-02],\n",
              "                      [ 6.9691e-02,  1.0065e-01, -1.2214e-01,  ...,  3.0798e-02,\n",
              "                       -4.9856e-03,  1.0218e-01]], device='cuda:0')),\n",
              "             ('lstm.weight_hh_l1',\n",
              "              tensor([[ 0.0880, -0.0554, -0.1164,  ...,  0.0284,  0.0460, -0.0521],\n",
              "                      [-0.0859,  0.0149,  0.1037,  ..., -0.0955,  0.0762,  0.1003],\n",
              "                      [ 0.0262, -0.0702, -0.0063,  ..., -0.0133,  0.0613,  0.0300],\n",
              "                      ...,\n",
              "                      [ 0.1020,  0.0719, -0.0044,  ..., -0.0400,  0.0065,  0.0119],\n",
              "                      [ 0.0238, -0.0208,  0.0210,  ..., -0.0067, -0.0259,  0.1171],\n",
              "                      [ 0.0253,  0.0793, -0.1078,  ..., -0.1248, -0.0714, -0.1061]],\n",
              "                     device='cuda:0')),\n",
              "             ('lstm.bias_ih_l1',\n",
              "              tensor([ 0.0782,  0.0464,  0.0622,  0.1183,  0.0456, -0.0675, -0.1240,  0.0286,\n",
              "                       0.0595,  0.0666, -0.0737,  0.0034,  0.1096,  0.0688, -0.0793, -0.0646,\n",
              "                      -0.0656,  0.0704, -0.0701,  0.1239,  0.1225, -0.0259, -0.1219, -0.0116,\n",
              "                      -0.0956,  0.1092, -0.0736, -0.0172,  0.0794,  0.0616, -0.1087, -0.0140,\n",
              "                      -0.0499,  0.0315,  0.0074,  0.0301, -0.0851,  0.0134, -0.0528,  0.0392,\n",
              "                      -0.1214,  0.0712, -0.0271,  0.0615, -0.0152, -0.0832, -0.0229,  0.0440,\n",
              "                       0.1099,  0.0350,  0.0631, -0.1133,  0.1020, -0.0285, -0.0249,  0.0333,\n",
              "                      -0.0773,  0.0597,  0.0629,  0.0360,  0.0986,  0.0570, -0.0965, -0.0780,\n",
              "                       0.1070, -0.0208, -0.0270, -0.0344,  0.0772,  0.0926,  0.1188, -0.0829,\n",
              "                       0.0841,  0.0509, -0.0612,  0.0593, -0.0073,  0.0222,  0.0523, -0.0148,\n",
              "                      -0.0950, -0.0456,  0.1184, -0.0460, -0.1097,  0.0470,  0.0820, -0.1089,\n",
              "                       0.0866, -0.1013,  0.0788, -0.0331, -0.0314, -0.0952, -0.1210,  0.0078,\n",
              "                       0.0996, -0.1127, -0.0628, -0.0249, -0.0117,  0.0405,  0.0461, -0.1007,\n",
              "                      -0.0293, -0.0799,  0.0974,  0.0348, -0.1153,  0.0373,  0.1111, -0.0686,\n",
              "                      -0.0648, -0.0144,  0.0222, -0.1101, -0.0570,  0.1136,  0.0951, -0.0893,\n",
              "                      -0.0463, -0.0649, -0.0894,  0.0480,  0.0560,  0.0979,  0.0917, -0.0122,\n",
              "                      -0.0880, -0.0132, -0.1167,  0.0961, -0.0179,  0.1223,  0.0041,  0.0006,\n",
              "                       0.1193,  0.1026, -0.0907, -0.0986,  0.0479,  0.1095, -0.0060,  0.0628,\n",
              "                       0.0926,  0.0461,  0.0431,  0.0073, -0.0360, -0.1111, -0.0141, -0.0186,\n",
              "                       0.0248, -0.0535, -0.0188,  0.0540,  0.0481, -0.0805,  0.0187, -0.0798,\n",
              "                      -0.1226,  0.0143, -0.0103,  0.0953,  0.0473, -0.0193, -0.0921, -0.0311,\n",
              "                       0.0150,  0.1141, -0.0223,  0.1247,  0.0366, -0.0992,  0.0625,  0.0904,\n",
              "                      -0.1188,  0.0039,  0.0896, -0.0920, -0.1121,  0.0261, -0.0860,  0.1134,\n",
              "                       0.0496,  0.0558, -0.0235, -0.0597,  0.0776, -0.1092,  0.1208, -0.0672,\n",
              "                       0.0469,  0.0681,  0.0709,  0.0244,  0.0702, -0.1008,  0.0611,  0.0028,\n",
              "                       0.0957,  0.0177, -0.0630, -0.0847,  0.0941,  0.0230, -0.1166, -0.0984,\n",
              "                      -0.0174, -0.0137,  0.0491,  0.0500, -0.0651, -0.0030, -0.0755,  0.0424,\n",
              "                      -0.1098,  0.0700,  0.0905, -0.0348,  0.1116, -0.0225,  0.0218,  0.1017,\n",
              "                       0.0332, -0.1183,  0.0722, -0.0273, -0.0233, -0.0300, -0.0367, -0.0489,\n",
              "                      -0.0277, -0.0356,  0.0018, -0.0605,  0.0162, -0.0314,  0.0669,  0.0353,\n",
              "                       0.0345, -0.0496,  0.0461, -0.0126,  0.0955,  0.0905,  0.0769, -0.1002,\n",
              "                      -0.0184, -0.1040, -0.0861, -0.0096, -0.0985,  0.0859, -0.0938,  0.1044],\n",
              "                     device='cuda:0')),\n",
              "             ('lstm.bias_hh_l1',\n",
              "              tensor([-0.0904, -0.1008,  0.0531,  0.0797,  0.1191,  0.0372,  0.0460, -0.1172,\n",
              "                       0.0166,  0.0828,  0.0378,  0.1178,  0.1166,  0.0977, -0.1004, -0.0900,\n",
              "                       0.0115, -0.0607, -0.0670, -0.1036, -0.0047, -0.0659, -0.0621,  0.0370,\n",
              "                      -0.0777, -0.0193,  0.0336,  0.0473,  0.1243,  0.0051,  0.0007, -0.0264,\n",
              "                       0.0011, -0.0048, -0.0762, -0.0656,  0.0111, -0.0268, -0.0910, -0.0371,\n",
              "                       0.0328,  0.0491,  0.0782,  0.1235, -0.0629, -0.0715, -0.1066,  0.0020,\n",
              "                      -0.0953, -0.0513,  0.0691, -0.0705, -0.0164, -0.0261, -0.0943,  0.0068,\n",
              "                      -0.1097, -0.0147,  0.0942, -0.1247,  0.0730, -0.0534, -0.0847, -0.1203,\n",
              "                       0.0319,  0.0136, -0.0748, -0.0506,  0.0561,  0.0153, -0.0267, -0.1029,\n",
              "                      -0.0587, -0.1230, -0.0569, -0.0894, -0.0140, -0.0850,  0.0066,  0.1025,\n",
              "                      -0.0899,  0.0379, -0.0853,  0.1179,  0.0551,  0.0719,  0.0998,  0.0718,\n",
              "                      -0.1058, -0.0101,  0.0591,  0.0276,  0.1138, -0.1104,  0.0753, -0.1149,\n",
              "                      -0.0212, -0.0220,  0.0637,  0.0516, -0.0562,  0.0960,  0.0388,  0.1026,\n",
              "                      -0.0872,  0.0455, -0.0074,  0.0110,  0.0612, -0.0440,  0.0274, -0.0857,\n",
              "                       0.0848,  0.0639,  0.0941,  0.0182,  0.0684, -0.1060, -0.0664,  0.0234,\n",
              "                       0.1023,  0.0953, -0.1000, -0.0986,  0.0825,  0.0293, -0.0590,  0.0441,\n",
              "                       0.0343,  0.0732,  0.1110, -0.0940,  0.0331,  0.1121, -0.0224,  0.1039,\n",
              "                      -0.0247, -0.0832,  0.0247,  0.0144, -0.0936,  0.0579,  0.0590,  0.0615,\n",
              "                       0.0427, -0.0709, -0.0844, -0.0558, -0.1038,  0.0243, -0.0418, -0.0320,\n",
              "                       0.1217, -0.1179, -0.0443,  0.0567,  0.1034, -0.0802, -0.0070,  0.0009,\n",
              "                       0.0502,  0.0126,  0.0947,  0.0661, -0.0709,  0.0440,  0.0194,  0.0670,\n",
              "                      -0.0876,  0.0772,  0.0248,  0.0811, -0.0718, -0.0018,  0.0563, -0.1081,\n",
              "                      -0.0218,  0.0598, -0.0461, -0.0273,  0.1180,  0.0991,  0.0048,  0.0299,\n",
              "                      -0.1035, -0.0745,  0.0443,  0.0695, -0.0153, -0.0649,  0.0063, -0.1033,\n",
              "                      -0.1229, -0.1149,  0.0676,  0.0915,  0.0011,  0.1170,  0.0211,  0.0115,\n",
              "                      -0.1152,  0.0816,  0.0268, -0.0478,  0.0990,  0.1115, -0.0767,  0.0073,\n",
              "                       0.0488,  0.0564,  0.1186,  0.0671,  0.0757,  0.1126,  0.0281,  0.0776,\n",
              "                       0.0764, -0.0237, -0.0793,  0.1217,  0.0400,  0.0484,  0.0129,  0.1223,\n",
              "                       0.1046,  0.1199,  0.0520,  0.1215, -0.1019, -0.0851, -0.0490, -0.0359,\n",
              "                       0.0654, -0.1083,  0.1146, -0.0835, -0.0743, -0.0852,  0.0060,  0.0407,\n",
              "                       0.0205,  0.0070,  0.0166,  0.0043, -0.1017, -0.0267, -0.0592, -0.0159,\n",
              "                      -0.0288,  0.0034,  0.0366, -0.0861, -0.0089,  0.0865, -0.0671,  0.0039],\n",
              "                     device='cuda:0')),\n",
              "             ('lstm.weight_ih_l2',\n",
              "              tensor([[-0.0401,  0.1092,  0.0141,  ..., -0.0391,  0.0438, -0.1180],\n",
              "                      [-0.0399, -0.0375, -0.1065,  ..., -0.0672, -0.0544,  0.0354],\n",
              "                      [-0.0070, -0.0627, -0.0667,  ...,  0.0330, -0.0713, -0.0328],\n",
              "                      ...,\n",
              "                      [ 0.0795, -0.0781, -0.0903,  ..., -0.0088, -0.0163,  0.1175],\n",
              "                      [ 0.0498, -0.0961, -0.0178,  ..., -0.0307, -0.1152,  0.0411],\n",
              "                      [-0.0348,  0.0071,  0.0149,  ..., -0.0388,  0.0193,  0.0888]],\n",
              "                     device='cuda:0')),\n",
              "             ('lstm.weight_hh_l2',\n",
              "              tensor([[ 0.0530,  0.1220,  0.0244,  ...,  0.0659,  0.0304,  0.0158],\n",
              "                      [-0.0317,  0.0321,  0.0724,  ..., -0.1184, -0.0821,  0.0967],\n",
              "                      [-0.1079,  0.0589, -0.0112,  ..., -0.0017,  0.1191,  0.0241],\n",
              "                      ...,\n",
              "                      [-0.0152,  0.0935,  0.0184,  ..., -0.0644,  0.0370, -0.0533],\n",
              "                      [-0.0880, -0.0113, -0.1176,  ..., -0.0859,  0.0421, -0.0491],\n",
              "                      [-0.0316, -0.0975, -0.0670,  ..., -0.0136, -0.0642, -0.0835]],\n",
              "                     device='cuda:0')),\n",
              "             ('lstm.bias_ih_l2',\n",
              "              tensor([-3.4968e-02, -1.0695e-01,  8.8355e-02, -4.6519e-03, -4.1432e-02,\n",
              "                      -5.8091e-02, -6.0384e-02, -3.9503e-02, -1.0060e-04, -2.7357e-02,\n",
              "                       1.1697e-01,  2.6646e-02, -3.7211e-02,  3.6431e-02, -4.2162e-02,\n",
              "                      -5.1057e-02,  1.0436e-01, -1.9721e-02, -2.8519e-02, -1.0117e-01,\n",
              "                       2.1618e-02,  9.5202e-03, -4.5134e-02, -2.9260e-03,  1.0785e-01,\n",
              "                       3.7645e-02, -1.3947e-02, -3.1310e-02, -6.6981e-02, -8.6967e-02,\n",
              "                      -7.4505e-02, -9.9684e-02, -5.2636e-02,  7.7708e-02, -4.0873e-02,\n",
              "                       3.9225e-02, -6.9589e-02, -3.2591e-02, -1.1055e-01,  8.5404e-02,\n",
              "                      -5.9567e-02, -3.0856e-02,  1.2426e-01,  1.2200e-02,  7.6375e-02,\n",
              "                       1.1000e-02, -1.2749e-02, -1.0751e-01,  5.1885e-02,  1.0792e-01,\n",
              "                       3.8085e-02, -5.3595e-02, -7.8070e-02, -1.2098e-02, -6.4495e-02,\n",
              "                      -1.7445e-02, -9.6611e-02, -3.4128e-02,  3.4454e-02, -4.9422e-02,\n",
              "                      -3.6766e-02, -9.5675e-02,  1.0467e-01,  1.0506e-01,  8.9667e-02,\n",
              "                       1.7483e-02, -9.1243e-02,  8.3875e-02, -7.5381e-02,  1.1687e-01,\n",
              "                       4.3706e-02, -4.7471e-02,  2.9703e-02, -9.4985e-02, -3.2191e-02,\n",
              "                      -6.7389e-02, -1.1770e-01,  9.4201e-02,  6.4132e-03, -1.5560e-02,\n",
              "                      -1.0074e-01, -4.1510e-02, -6.1320e-02,  1.0480e-02, -8.2121e-02,\n",
              "                      -3.1348e-03,  1.0357e-02, -1.1051e-02,  8.6772e-03,  9.9683e-02,\n",
              "                      -1.2352e-01, -2.5022e-02, -6.0101e-02,  6.6497e-02, -1.1555e-01,\n",
              "                       5.0440e-02, -9.8849e-02, -1.0480e-02, -2.6702e-02, -1.0906e-01,\n",
              "                       1.2350e-01,  1.5690e-02,  4.4155e-02, -7.2184e-02,  1.0581e-01,\n",
              "                      -1.0772e-01, -1.1985e-01, -5.4665e-02, -1.0541e-02, -3.4497e-02,\n",
              "                      -1.0776e-01,  1.5704e-02,  6.3622e-02, -5.4547e-02, -7.7545e-02,\n",
              "                       1.8390e-02,  2.1825e-02,  5.1456e-02,  9.1157e-02, -1.0326e-01,\n",
              "                      -7.3139e-02,  6.0374e-02, -2.3997e-02, -1.2180e-01, -7.0315e-02,\n",
              "                      -2.6668e-02,  1.0435e-01,  1.1867e-01, -6.7575e-03, -1.0753e-01,\n",
              "                       9.0190e-02, -2.0416e-02, -8.6474e-02,  8.4625e-03, -1.9941e-03,\n",
              "                       8.8150e-03,  1.3055e-02, -3.9307e-03, -8.3321e-02,  6.0625e-02,\n",
              "                       5.7006e-02,  2.5794e-02, -1.9511e-02, -3.0006e-02, -3.5022e-03,\n",
              "                      -7.0768e-02, -7.2057e-02,  1.9104e-02, -1.1076e-01,  8.2456e-02,\n",
              "                       1.5549e-02, -1.0181e-02,  7.1386e-02, -1.1685e-01, -1.1226e-01,\n",
              "                       4.7209e-02,  6.1499e-02, -9.9473e-02, -9.4289e-02, -9.6764e-03,\n",
              "                      -1.1531e-01,  3.1270e-02,  3.3945e-04, -1.0865e-01, -1.1535e-01,\n",
              "                      -5.1853e-02, -3.9295e-02, -1.2379e-01, -9.1816e-03,  7.1703e-02,\n",
              "                      -9.7749e-02, -8.2785e-02,  9.5900e-02, -9.1847e-02,  1.2246e-01,\n",
              "                      -8.8118e-02,  2.0429e-02, -3.4843e-02, -8.9265e-02,  8.7248e-02,\n",
              "                      -6.7942e-02, -6.6768e-03, -4.0184e-02, -9.6668e-03, -1.4716e-02,\n",
              "                       1.0883e-02,  5.7351e-02, -6.3499e-02,  8.1250e-02, -1.0271e-01,\n",
              "                      -9.4482e-02,  8.9572e-02,  1.1614e-01, -6.0043e-03,  6.6294e-02,\n",
              "                      -1.0659e-01,  9.9665e-02, -5.1598e-02, -4.7638e-02,  1.1943e-01,\n",
              "                       5.6408e-02,  7.2055e-02, -9.8477e-02,  2.2462e-02, -3.9157e-02,\n",
              "                      -2.9567e-02,  7.2048e-02, -1.0806e-01,  1.7142e-02, -4.4814e-02,\n",
              "                       8.1081e-02,  6.8466e-02,  1.2082e-01, -3.7097e-02,  1.1261e-01,\n",
              "                       7.8953e-02,  4.9979e-02, -1.0950e-01, -7.1051e-02, -9.3123e-02,\n",
              "                      -3.1906e-02, -4.6499e-02, -5.7311e-02,  6.8652e-02, -9.4042e-02,\n",
              "                       4.7934e-02,  1.2457e-02, -1.6356e-02, -1.2059e-01,  4.5230e-02,\n",
              "                       1.6244e-02, -4.9448e-02,  1.0698e-01, -1.1264e-01, -7.3750e-02,\n",
              "                      -9.7566e-02, -2.7790e-02, -1.1598e-01,  5.6986e-02,  5.4709e-02,\n",
              "                      -4.0028e-02,  8.6313e-02, -1.9496e-02, -3.3643e-02, -9.7054e-03,\n",
              "                       1.0207e-01,  5.1895e-04, -8.4905e-03, -1.1357e-01,  4.1952e-02,\n",
              "                      -7.8962e-02, -1.1714e-01, -5.9394e-02,  6.5195e-02,  1.7620e-02,\n",
              "                      -7.0628e-02], device='cuda:0')),\n",
              "             ('lstm.bias_hh_l2',\n",
              "              tensor([ 0.0591, -0.0824, -0.1044,  0.0296, -0.1020, -0.0291, -0.0084,  0.0685,\n",
              "                      -0.0281,  0.1034,  0.1200,  0.1099,  0.0971,  0.0581, -0.1092,  0.0062,\n",
              "                       0.0388, -0.0288,  0.0936, -0.0276, -0.0080, -0.0107, -0.0789, -0.1050,\n",
              "                       0.0750,  0.0307, -0.0600,  0.0856, -0.0717,  0.0234,  0.0932,  0.1141,\n",
              "                       0.0478, -0.0471, -0.1078,  0.1046, -0.0287, -0.0363, -0.1246,  0.0379,\n",
              "                      -0.0119,  0.1038,  0.0822, -0.0568,  0.0006, -0.1035, -0.0391, -0.0454,\n",
              "                      -0.0500,  0.0990,  0.0873,  0.0646,  0.0240, -0.0588, -0.0148, -0.0852,\n",
              "                      -0.1012,  0.1160,  0.0185,  0.0892,  0.0194, -0.0187, -0.0247, -0.0976,\n",
              "                       0.0382,  0.0216, -0.0737,  0.0889,  0.1022,  0.0571,  0.0325, -0.0892,\n",
              "                       0.0200, -0.0648,  0.1167, -0.0257, -0.0429, -0.1005,  0.0600, -0.0801,\n",
              "                       0.0293,  0.0984, -0.1242,  0.0775,  0.0946, -0.1060, -0.0889, -0.1000,\n",
              "                      -0.0563, -0.0028, -0.0603,  0.0937,  0.0407, -0.0474,  0.0220, -0.0025,\n",
              "                       0.0127,  0.0548,  0.0026,  0.0798, -0.0015,  0.0065,  0.0040,  0.0189,\n",
              "                      -0.0499, -0.0442, -0.0160, -0.1149, -0.0560,  0.0101,  0.0922, -0.1078,\n",
              "                      -0.0955, -0.1178, -0.0043, -0.0594,  0.0598,  0.0421, -0.0172,  0.0190,\n",
              "                      -0.1212, -0.0892,  0.1012, -0.0835, -0.0167,  0.1220, -0.0264, -0.1060,\n",
              "                      -0.0389, -0.0376, -0.1186, -0.1178,  0.0688, -0.1153,  0.1133,  0.0125,\n",
              "                      -0.0453,  0.0753,  0.0410,  0.0368, -0.1156,  0.0571,  0.0748, -0.0017,\n",
              "                      -0.0975, -0.0203,  0.0655,  0.0114, -0.1016, -0.1015,  0.0078, -0.1124,\n",
              "                       0.0313, -0.0519, -0.0458, -0.0770, -0.1117,  0.0839,  0.0886,  0.0528,\n",
              "                       0.0523,  0.0978,  0.0991,  0.0878, -0.0877, -0.0614, -0.0543, -0.1205,\n",
              "                      -0.0725,  0.0623, -0.0562,  0.0601,  0.0170, -0.0659, -0.0406, -0.0367,\n",
              "                      -0.1103,  0.0176,  0.0080,  0.0440,  0.0064,  0.0059, -0.0021, -0.1092,\n",
              "                       0.0715, -0.0852,  0.0651, -0.1124, -0.0895,  0.0845,  0.0116, -0.0971,\n",
              "                      -0.1193, -0.0264,  0.0819,  0.1177,  0.0605,  0.0299, -0.0565,  0.0845,\n",
              "                      -0.0830,  0.0967, -0.0095,  0.1209, -0.0071,  0.0288, -0.1118, -0.0331,\n",
              "                       0.0445, -0.1059,  0.1040,  0.0313,  0.0279,  0.0162, -0.0571, -0.0378,\n",
              "                       0.0308, -0.1161, -0.0649,  0.0307,  0.0127, -0.0296, -0.0222, -0.0356,\n",
              "                      -0.0529, -0.0668,  0.0224, -0.0232,  0.0997,  0.0208, -0.1003, -0.0219,\n",
              "                      -0.0486,  0.0812, -0.0667,  0.0718,  0.0645, -0.1056, -0.1229, -0.0210,\n",
              "                       0.0490,  0.0099, -0.0507,  0.0610, -0.1083,  0.0234,  0.0142,  0.0801,\n",
              "                       0.0484, -0.0758, -0.0160,  0.0818, -0.0898, -0.0600, -0.0243, -0.0179],\n",
              "                     device='cuda:0')),\n",
              "             ('fc.weight',\n",
              "              tensor([[ 9.2285e-02,  7.3805e-02, -7.3718e-02, -5.4812e-03,  1.2645e-02,\n",
              "                       -4.4626e-02,  7.2141e-02, -4.0220e-02, -7.8265e-02,  8.5772e-02,\n",
              "                       -9.8700e-02, -1.0718e-01,  8.4573e-02, -6.1969e-02, -3.4562e-04,\n",
              "                        1.7285e-02,  1.1942e-01, -1.9379e-02, -7.3953e-02, -5.7664e-02,\n",
              "                        7.5525e-02, -1.4062e-02,  1.2099e-01, -1.2400e-01,  6.5350e-02,\n",
              "                        1.0180e-01, -9.5664e-02, -6.6973e-02,  1.0980e-01,  6.5319e-02,\n",
              "                        1.1083e-01, -2.4082e-02,  7.6524e-02, -3.7099e-02,  7.4061e-02,\n",
              "                        1.2077e-02,  2.2335e-02,  4.3672e-02, -3.5295e-02,  1.7296e-02,\n",
              "                        1.0491e-01, -3.6941e-02,  6.7499e-02,  1.2296e-01, -1.5009e-02,\n",
              "                        3.2378e-02, -3.1966e-02, -1.1062e-01, -2.3312e-02, -4.4594e-02,\n",
              "                        3.7850e-02,  1.1621e-01, -5.5448e-02, -1.0554e-01,  1.2074e-01,\n",
              "                       -6.7976e-03,  3.9416e-02, -1.9682e-02,  1.0641e-01, -4.7277e-02,\n",
              "                       -1.0418e-01,  1.5174e-02, -1.6112e-02,  4.9712e-02],\n",
              "                      [ 2.2518e-02,  1.1909e-01,  6.4899e-02, -5.4980e-02,  9.5504e-02,\n",
              "                        5.3436e-02,  8.0672e-02,  9.7248e-02,  5.2841e-02,  7.1624e-02,\n",
              "                        8.5486e-02,  1.1936e-01, -3.5564e-02, -8.3438e-02,  2.1692e-02,\n",
              "                       -7.5267e-02, -8.5262e-02,  4.1812e-02,  9.7315e-02,  4.2245e-02,\n",
              "                        1.5237e-02, -5.2651e-02,  1.0047e-01, -1.1502e-01,  1.0252e-01,\n",
              "                        3.4441e-02, -1.5387e-02,  8.6512e-02,  4.1141e-03,  1.0110e-01,\n",
              "                       -6.4279e-02,  6.9233e-02,  2.7892e-02,  6.1273e-02,  9.0354e-02,\n",
              "                        1.2288e-01, -1.1770e-01, -1.1201e-01, -2.8480e-02,  6.6002e-02,\n",
              "                        8.3360e-02, -2.7165e-02,  4.7154e-02,  8.2950e-02, -8.3032e-02,\n",
              "                        1.1137e-01,  1.5054e-02, -8.4022e-02, -5.4015e-02,  2.3294e-02,\n",
              "                        6.6919e-02,  4.0891e-03,  8.5786e-02, -7.5045e-02, -4.5591e-02,\n",
              "                       -2.8343e-02, -8.3658e-02,  6.4837e-02, -6.3549e-02, -2.2775e-04,\n",
              "                        2.6579e-04,  2.2789e-02, -8.7947e-02, -6.3118e-02],\n",
              "                      [-4.0755e-02,  5.5240e-02, -8.3630e-02, -9.6300e-02, -5.5421e-02,\n",
              "                       -5.1314e-02, -5.8252e-02, -5.3143e-02,  1.0565e-01, -1.1263e-01,\n",
              "                       -1.0120e-01, -6.0556e-02,  3.8086e-03, -3.1608e-02, -7.3623e-02,\n",
              "                        6.3950e-02, -6.1510e-02, -1.0938e-01,  1.2141e-01, -4.1235e-02,\n",
              "                       -3.8188e-02,  7.5409e-02, -1.1727e-01, -5.8215e-02, -6.3353e-02,\n",
              "                       -1.9472e-02, -8.3903e-02,  1.1884e-01, -8.4258e-02, -1.0157e-01,\n",
              "                        9.0836e-02, -7.8863e-02,  2.7280e-02,  3.4625e-02,  1.0166e-01,\n",
              "                        1.1780e-01,  8.2688e-02,  2.7055e-02, -8.3445e-02,  1.1707e-03,\n",
              "                       -1.2577e-02,  2.9624e-02,  5.3864e-02, -3.8668e-02,  4.0376e-02,\n",
              "                       -2.2681e-02,  4.3274e-02, -7.4838e-03,  1.5211e-02,  6.6969e-03,\n",
              "                        7.5563e-03,  8.9593e-02, -1.0894e-01,  2.1406e-02, -7.9109e-02,\n",
              "                       -9.9870e-02, -1.1933e-02,  8.7244e-02, -9.9045e-02, -8.5952e-02,\n",
              "                        9.9593e-02, -1.0162e-01,  1.1904e-01,  6.4473e-03],\n",
              "                      [-1.0933e-01, -2.3028e-02,  1.0902e-02, -7.2712e-02,  8.4841e-02,\n",
              "                       -7.0306e-02, -2.3964e-02,  1.2162e-01, -8.3069e-02,  6.1684e-02,\n",
              "                       -6.6282e-02,  1.0748e-01,  8.0001e-02,  4.0998e-03,  2.4237e-03,\n",
              "                        6.9043e-02,  4.6480e-02,  3.7876e-02,  7.8082e-02,  1.2806e-02,\n",
              "                       -5.2318e-02, -1.1521e-01, -1.2247e-01, -5.5575e-02,  7.0735e-02,\n",
              "                        5.8243e-02,  1.1677e-01,  9.6663e-02,  4.3081e-02,  1.7620e-03,\n",
              "                        2.0682e-02, -5.4886e-02,  3.6012e-02,  1.0411e-01,  1.8877e-02,\n",
              "                        8.5856e-02,  1.0048e-01,  7.6464e-03, -1.0742e-01,  5.1289e-02,\n",
              "                        1.0889e-01,  8.4179e-02, -1.0503e-01,  1.2444e-01, -1.0330e-01,\n",
              "                       -8.1997e-02,  9.5961e-02,  1.1118e-03, -6.7521e-02,  5.3921e-02,\n",
              "                       -2.8243e-02,  2.8126e-02,  4.8877e-02, -4.7303e-02, -4.2472e-02,\n",
              "                       -1.0410e-01,  4.1949e-02, -4.6207e-02,  8.4061e-02, -9.7714e-03,\n",
              "                       -1.1482e-01,  1.2475e-01,  5.0271e-02,  9.2559e-02],\n",
              "                      [ 1.1969e-01, -9.8664e-02, -2.3426e-02,  5.1352e-02,  6.5528e-02,\n",
              "                       -2.3990e-02, -8.8796e-02, -1.2777e-02,  6.7385e-02,  4.2052e-02,\n",
              "                       -8.1730e-02,  1.5457e-02,  9.0763e-02,  1.1713e-01, -1.1770e-01,\n",
              "                       -1.2140e-01,  4.8237e-02, -1.2298e-01, -8.9953e-02,  9.5009e-02,\n",
              "                        5.2610e-02,  1.1890e-01,  5.7704e-02,  2.8215e-03,  1.2418e-01,\n",
              "                        9.4619e-02,  6.5439e-02,  9.0672e-02,  9.0157e-02, -1.7734e-03,\n",
              "                       -8.5914e-02,  4.8016e-03,  9.1055e-02, -5.6706e-04, -1.0880e-01,\n",
              "                        1.8890e-02,  6.3000e-02, -1.0780e-01,  8.7700e-03,  7.0335e-02,\n",
              "                       -1.2479e-01,  1.1419e-01,  4.2115e-02,  8.1154e-02, -4.8128e-02,\n",
              "                       -9.5339e-03,  4.7481e-02,  7.7611e-02,  8.8053e-02, -2.8957e-02,\n",
              "                       -5.0855e-02,  1.1509e-01,  4.2867e-02, -1.0529e-02, -1.0001e-01,\n",
              "                        1.5063e-02,  6.6180e-02, -1.0113e-01, -2.1575e-02,  5.1134e-02,\n",
              "                       -1.9361e-02, -1.4740e-02, -7.1173e-02,  5.7861e-03],\n",
              "                      [ 1.0332e-01, -8.0926e-02,  1.1502e-02,  1.4686e-02,  3.2446e-02,\n",
              "                        6.0708e-02,  7.4471e-02,  7.4723e-02, -9.2853e-02,  2.7471e-02,\n",
              "                       -1.0414e-01, -1.0917e-01,  1.7583e-02, -1.3305e-03,  3.2898e-02,\n",
              "                        9.7192e-02, -5.9763e-02, -9.1821e-02, -3.2091e-03,  6.0710e-02,\n",
              "                        6.6153e-02, -8.3803e-02, -8.9773e-02,  7.5698e-02,  1.1206e-01,\n",
              "                        2.9149e-02,  9.7364e-03,  2.5239e-02,  2.1089e-02, -3.4180e-02,\n",
              "                       -2.7287e-02,  2.8375e-02, -4.5117e-02,  1.2034e-01, -2.4296e-02,\n",
              "                       -9.1632e-02,  9.2038e-02,  2.4256e-03, -9.4074e-04,  9.3239e-02,\n",
              "                        5.8545e-02, -1.7403e-02, -7.0320e-02, -1.4689e-02,  2.7123e-02,\n",
              "                        9.4452e-02, -3.8198e-02,  4.8414e-02,  8.7703e-03, -9.5247e-02,\n",
              "                       -9.0023e-02,  6.0476e-02,  3.8964e-03,  1.1800e-01, -5.4956e-02,\n",
              "                       -3.6141e-02, -1.0326e-01, -4.8772e-02,  3.0641e-02, -3.9747e-02,\n",
              "                        1.0213e-01,  5.8420e-02, -1.5702e-02, -4.1393e-02],\n",
              "                      [ 7.6835e-02,  3.1386e-03,  1.0650e-02, -1.2116e-01,  1.2081e-01,\n",
              "                       -1.1013e-01, -5.4184e-02,  1.1056e-02,  4.1569e-02,  1.6797e-02,\n",
              "                       -3.4549e-03,  2.8851e-02,  3.6035e-02,  2.1242e-02,  1.2122e-01,\n",
              "                       -5.4415e-04, -1.0120e-02, -3.8686e-02, -9.0304e-02,  7.5501e-02,\n",
              "                        1.1561e-01,  5.7653e-03, -2.7276e-02,  1.1829e-01,  2.7592e-02,\n",
              "                        6.4489e-03, -3.4593e-02, -7.4679e-02, -5.5410e-03,  3.5826e-02,\n",
              "                       -9.9231e-02,  1.0502e-01, -1.1070e-01,  9.6776e-02,  2.3127e-03,\n",
              "                       -1.2083e-02,  3.0012e-02, -3.2751e-02, -4.0503e-02,  5.9329e-02,\n",
              "                       -7.6687e-02,  8.3627e-02, -6.7388e-02,  3.4884e-02, -8.3018e-02,\n",
              "                       -7.7450e-02, -2.6205e-02,  8.5567e-02,  2.6198e-02, -1.1507e-01,\n",
              "                        4.9188e-02,  2.5516e-03,  5.2923e-02, -9.4688e-02, -7.4873e-02,\n",
              "                       -5.3826e-02, -3.9605e-02,  8.2319e-02, -3.8816e-02,  4.8948e-02,\n",
              "                        1.2272e-01, -4.2757e-02, -3.9848e-02, -1.0572e-01],\n",
              "                      [-3.1104e-02, -9.6094e-02, -1.0607e-01,  1.1659e-02,  5.6201e-02,\n",
              "                        8.5585e-02,  8.3561e-02, -4.7546e-02,  7.0296e-02, -5.9959e-02,\n",
              "                       -1.1705e-01,  3.2647e-02,  2.5552e-02, -1.9107e-02, -6.5163e-02,\n",
              "                        9.3153e-02,  1.1847e-01, -9.6535e-02,  1.0299e-02, -8.1480e-02,\n",
              "                       -1.0413e-02,  1.1981e-02,  3.4592e-03, -1.2276e-01, -1.2086e-02,\n",
              "                        1.1563e-01, -2.8585e-02, -5.4300e-02,  7.2259e-02,  6.3309e-02,\n",
              "                       -8.8923e-02,  3.7895e-02,  4.5525e-02,  3.9631e-02, -8.8301e-02,\n",
              "                       -1.0514e-01,  1.0618e-01,  2.2945e-02, -2.0974e-02, -7.9704e-02,\n",
              "                       -7.6839e-02, -6.9443e-02,  2.2033e-02, -2.3400e-02, -7.5498e-02,\n",
              "                        1.7515e-02,  5.2781e-02,  4.8707e-03,  1.9426e-03,  1.1236e-01,\n",
              "                       -8.1508e-02, -1.1615e-01,  2.2365e-02, -9.8200e-02, -4.2343e-02,\n",
              "                        6.2597e-02,  1.5627e-02, -9.0316e-05, -5.6359e-02,  4.8166e-02,\n",
              "                       -6.2958e-02, -6.6288e-02, -2.5166e-02, -1.2491e-01],\n",
              "                      [ 6.6217e-02, -6.2125e-03, -5.9571e-02, -1.6452e-02,  9.7244e-02,\n",
              "                       -9.9940e-02, -8.6177e-03,  8.2558e-03, -6.7983e-02,  3.6823e-02,\n",
              "                       -1.0720e-01,  7.5478e-02,  7.9878e-02,  1.0357e-01,  3.1615e-02,\n",
              "                       -5.2630e-03,  4.5236e-02,  1.0614e-01, -8.4917e-02,  5.9468e-02,\n",
              "                       -4.1564e-02,  7.0106e-02,  8.5848e-02,  7.1719e-02,  1.1620e-01,\n",
              "                        8.7197e-02, -6.6976e-02, -6.8679e-02, -4.4470e-02,  8.0053e-02,\n",
              "                       -8.1587e-03,  9.1685e-02, -1.2120e-01,  4.8699e-02, -5.8851e-02,\n",
              "                        9.4956e-02, -1.1554e-01, -7.8866e-02, -1.0267e-01,  2.9638e-02,\n",
              "                       -7.4325e-02,  8.0882e-02,  6.9611e-02, -6.1054e-02,  7.4294e-02,\n",
              "                        5.0878e-02,  4.5814e-04, -9.8064e-02, -1.1506e-01,  1.2189e-01,\n",
              "                       -7.1565e-02, -1.0349e-01,  7.0090e-02,  9.9540e-05,  1.5252e-03,\n",
              "                       -9.3679e-02, -9.3658e-02, -9.1287e-02,  6.7921e-02,  1.0340e-01,\n",
              "                        5.2291e-02, -1.1271e-01,  8.6724e-02, -8.6870e-02],\n",
              "                      [ 9.5201e-02,  9.2561e-02, -4.6990e-02, -2.1756e-02, -8.6144e-02,\n",
              "                       -8.4409e-02, -1.2223e-01, -9.6912e-03, -5.4353e-02, -7.2933e-02,\n",
              "                       -5.6599e-02,  2.3381e-02,  1.0557e-01,  1.0763e-01,  6.1699e-02,\n",
              "                       -1.0789e-01, -3.2428e-02,  3.4675e-02, -4.2291e-02,  4.4094e-02,\n",
              "                        8.3139e-02, -9.0063e-02, -1.0531e-01,  1.1272e-01, -1.0002e-02,\n",
              "                       -1.9092e-02, -2.7933e-02,  4.5346e-02, -1.2048e-02, -6.3443e-02,\n",
              "                        9.5334e-02,  2.6677e-02,  1.2146e-01,  1.2207e-01,  5.8870e-03,\n",
              "                       -1.2266e-01,  6.2575e-02,  4.7289e-02, -1.2833e-02, -8.4150e-02,\n",
              "                        1.0316e-01,  2.2096e-02, -4.2893e-02,  6.7471e-02, -1.2226e-01,\n",
              "                        1.0220e-01,  9.7655e-02, -5.2487e-02, -8.4837e-02,  3.4345e-02,\n",
              "                        9.3053e-03,  1.0435e-01,  4.0958e-02,  8.1014e-02,  1.2148e-01,\n",
              "                       -8.9479e-02, -2.9441e-02, -1.2449e-01,  9.7666e-02,  9.9432e-02,\n",
              "                        9.6181e-02,  8.5301e-02, -1.1325e-01, -1.1109e-01]], device='cuda:0')),\n",
              "             ('fc.bias',\n",
              "              tensor([ 0.0929, -0.0314, -0.1114,  0.0803,  0.0617,  0.0624, -0.0060, -0.1111,\n",
              "                       0.0607, -0.1061], device='cuda:0'))])"
            ]
          },
          "metadata": {},
          "execution_count": 9
        }
      ]
    },
    {
      "cell_type": "code",
      "execution_count": 10,
      "metadata": {
        "id": "3w9QW9Lfp1aV",
        "colab": {
          "base_uri": "https://localhost:8080/"
        },
        "outputId": "eb895734-c546-41a3-82f6-bf5e2fe77e77"
      },
      "outputs": [
        {
          "output_type": "execute_result",
          "data": {
            "text/plain": [
              "LSTM_Model_label(\n",
              "  (lstm): LSTM(41, 64, num_layers=3, batch_first=True)\n",
              "  (fc): Linear(in_features=64, out_features=2, bias=True)\n",
              ")"
            ]
          },
          "metadata": {},
          "execution_count": 10
        }
      ],
      "source": [
        "my_model_label = LSTM_Model_label(num_classes_label, input_size, hidden_size, num_layers).to(device=device)\n",
        "my_model_label"
      ]
    },
    {
      "cell_type": "markdown",
      "metadata": {
        "id": "Cey1CId-jjis"
      },
      "source": [
        "# **optimizer and loss function**"
      ]
    },
    {
      "cell_type": "code",
      "execution_count": 11,
      "metadata": {
        "id": "WNuQFMAekNDH"
      },
      "outputs": [],
      "source": [
        "loss_fn1 = nn.CrossEntropyLoss().to(device=device)\n",
        "loss_fn2 = nn.CrossEntropyLoss().to(device=device)\n",
        "optimizer1 = opt.Adam(params=my_model_attack.parameters(),lr=learning_rate)\n",
        "optimizer2 = opt.Adam(params=my_model_label.parameters(),lr=learning_rate)"
      ]
    },
    {
      "cell_type": "markdown",
      "metadata": {
        "id": "4JYcovfYlpHM"
      },
      "source": [
        "# **train attack cat**"
      ]
    },
    {
      "cell_type": "code",
      "execution_count": 12,
      "metadata": {
        "id": "Qmw8w1eTkeBu",
        "colab": {
          "base_uri": "https://localhost:8080/"
        },
        "outputId": "920b3785-fc2c-4bfe-b8bd-2bd5a70f4e54"
      },
      "outputs": [
        {
          "output_type": "stream",
          "name": "stdout",
          "text": [
            "Epoch: 0, loss: 0.7196\n",
            "Epoch: 50, loss: 0.3972\n",
            "Epoch: 100, loss: 0.3897\n",
            "Epoch: 150, loss: 0.3709\n",
            "Epoch: 200, loss: 0.3737\n",
            "Epoch: 250, loss: 0.3443\n",
            "Epoch: 300, loss: 0.3477\n",
            "Epoch: 350, loss: 0.3016\n",
            "Epoch: 400, loss: 0.3046\n",
            "Epoch: 450, loss: 0.3517\n",
            "Epoch: 500, loss: 0.2924\n"
          ]
        }
      ],
      "source": [
        "for epoch in range(num_epoch+1):\n",
        "\n",
        "    for batch_x, batch_y in train_attack_cat_dataloader:\n",
        "\n",
        "        batch_x = torch.reshape(batch_x, (batch_x.shape[0], 1, batch_x.shape[1])) #RuntimeError: For unbatched 2-D input, hx and cx should also be 2-D but got (3-D, 3-D) tensors\n",
        "        \n",
        "        batch_x = batch_x.to(device)\n",
        "        batch_y = batch_y.to(device)\n",
        "\n",
        "        optimizer1.zero_grad()\n",
        "        loss1 = loss_fn1(my_model_attack(batch_x) , batch_y)\n",
        "        loss1.backward() \n",
        "        optimizer1.step()\n",
        "\n",
        "    if epoch % 50 == 0:\n",
        "         print(\"Epoch: %d, loss: %.4f\" % (epoch, loss1.item())) "
      ]
    },
    {
      "cell_type": "markdown",
      "metadata": {
        "id": "PQaRCMJPls5N"
      },
      "source": [
        "# **test attack cat**"
      ]
    },
    {
      "cell_type": "code",
      "execution_count": 13,
      "metadata": {
        "id": "QrtYzVT4loMQ",
        "colab": {
          "base_uri": "https://localhost:8080/"
        },
        "outputId": "b556d0ef-637e-4433-820b-b0e8cb34f490"
      },
      "outputs": [
        {
          "output_type": "stream",
          "name": "stdout",
          "text": [
            "acc : 80.89%\n"
          ]
        }
      ],
      "source": [
        "correct = 0\n",
        "\n",
        "for batch_x, labl in test_attack_cat_dataloader:\n",
        "  \n",
        "    batch_x = torch.reshape(batch_x, (batch_x.shape[0], 1, batch_x.shape[1])) #RuntimeError: For unbatched 2-D input, hx and cx should also be 2-D but got (3-D, 3-D) tensors\n",
        "  \n",
        "    batch_x = batch_x.to(device)\n",
        "    labl = labl.to(device)\n",
        "\n",
        "    out = my_model_attack(batch_x)\n",
        "    _,predicted = torch.max(out,1)\n",
        "    correct += torch.sum(predicted == labl)\n",
        "\n",
        "print(\"acc : %.2f\" % (100.*correct / len(test_attack_cat)),end=\"\")\n",
        "print(\"%\")"
      ]
    },
    {
      "cell_type": "markdown",
      "metadata": {
        "id": "pLqOLtA6tQht"
      },
      "source": [
        "# **train label**"
      ]
    },
    {
      "cell_type": "code",
      "execution_count": 14,
      "metadata": {
        "id": "Xm1cu1GhtMJO",
        "colab": {
          "base_uri": "https://localhost:8080/"
        },
        "outputId": "e810bc17-aefb-408c-96e4-47dfb0a34346"
      },
      "outputs": [
        {
          "output_type": "stream",
          "name": "stdout",
          "text": [
            "Epoch: 0, loss: 0.1783\n",
            "Epoch: 50, loss: 0.1349\n",
            "Epoch: 100, loss: 0.0875\n",
            "Epoch: 150, loss: 0.0997\n",
            "Epoch: 200, loss: 0.0586\n",
            "Epoch: 250, loss: 0.0648\n",
            "Epoch: 300, loss: 0.0693\n",
            "Epoch: 350, loss: 0.0778\n",
            "Epoch: 400, loss: 0.0496\n",
            "Epoch: 450, loss: 0.0406\n",
            "Epoch: 500, loss: 0.0441\n"
          ]
        }
      ],
      "source": [
        "for epoch in range(num_epoch+1):\n",
        "\n",
        "    for batch_x, batch_y in train_label_dataloader:\n",
        "\n",
        "        batch_x = torch.reshape(batch_x, (batch_x.shape[0], 1, batch_x.shape[1])) #RuntimeError: For unbatched 2-D input, hx and cx should also be 2-D but got (3-D, 3-D) tensors\n",
        "        \n",
        "        batch_x = batch_x.to(device)\n",
        "        batch_y = batch_y.to(device)\n",
        "\n",
        "        optimizer2.zero_grad()\n",
        "        loss2 = loss_fn2(my_model_label(batch_x) , batch_y)\n",
        "        loss2.backward() \n",
        "        optimizer2.step()\n",
        "\n",
        "    if epoch % 50 == 0:\n",
        "         print(\"Epoch: %d, loss: %.4f\" % (epoch, loss2.item())) "
      ]
    },
    {
      "cell_type": "markdown",
      "metadata": {
        "id": "Ig7VBqU0tfZd"
      },
      "source": [
        "# **test label**"
      ]
    },
    {
      "cell_type": "code",
      "execution_count": 15,
      "metadata": {
        "id": "a7u2bQ0WtiG2",
        "colab": {
          "base_uri": "https://localhost:8080/"
        },
        "outputId": "2102dc07-d7b5-4f8c-bcba-069e09006550"
      },
      "outputs": [
        {
          "output_type": "stream",
          "name": "stdout",
          "text": [
            "acc : 93.47%\n"
          ]
        }
      ],
      "source": [
        "correct = 0\n",
        "\n",
        "for batch_x, labl in test_label_dataloader:\n",
        "\n",
        "    batch_x = torch.reshape(batch_x, (batch_x.shape[0], 1, batch_x.shape[1])) #RuntimeError: For unbatched 2-D input, hx and cx should also be 2-D but got (3-D, 3-D) tensors\n",
        "\n",
        "    batch_x = batch_x.to(device)\n",
        "    labl = labl.to(device)\n",
        "  \n",
        "    out = my_model_label(batch_x)\n",
        "    _,predicted = torch.max(out,1)\n",
        "    correct += torch.sum(predicted == labl)\n",
        "\n",
        "print(\"acc : %.2f\" % (100.*correct / len(test_label)),end=\"\")\n",
        "print(\"%\")"
      ]
    }
  ],
  "metadata": {
    "accelerator": "GPU",
    "colab": {
      "collapsed_sections": [],
      "provenance": []
    },
    "gpuClass": "standard",
    "kernelspec": {
      "display_name": "Python 3",
      "name": "python3"
    },
    "language_info": {
      "name": "python"
    }
  },
  "nbformat": 4,
  "nbformat_minor": 0
}