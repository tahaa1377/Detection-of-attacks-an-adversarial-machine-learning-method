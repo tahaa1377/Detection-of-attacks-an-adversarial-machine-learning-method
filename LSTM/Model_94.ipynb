{
  "cells": [
    {
      "cell_type": "code",
      "execution_count": 1,
      "metadata": {
        "id": "Ff1b4PxtBQuc"
      },
      "outputs": [],
      "source": [
        "num_epoch = 500      \n",
        "learning_rate = 0.01\n",
        "batch_size = 2000\n",
        "\n",
        "hidden_size = 32 #number of features in hidden state\n",
        "num_layers = 3  #number of stacked lstm layers\n",
        "bidirectional = False\n",
        "drop_out = 0\n",
        "bidirectional_forward_backward = 2 if bidirectional else 1\n",
        "\n",
        "input_size = 41 #number of features\n",
        "num_classes_attack_cat = 10 #number of output classes \n",
        "num_classes_label = 2       #number of output classes "
      ]
    },
    {
      "cell_type": "code",
      "source": [
        "from google.colab import drive\n",
        "drive.mount('/content/drive')"
      ],
      "metadata": {
        "colab": {
          "base_uri": "https://localhost:8080/"
        },
        "id": "0Gua0hky6SDJ",
        "outputId": "13d581a2-c434-4151-f092-56a495fe1f37"
      },
      "execution_count": 2,
      "outputs": [
        {
          "output_type": "stream",
          "name": "stdout",
          "text": [
            "Drive already mounted at /content/drive; to attempt to forcibly remount, call drive.mount(\"/content/drive\", force_remount=True).\n"
          ]
        }
      ]
    },
    {
      "cell_type": "code",
      "execution_count": 3,
      "metadata": {
        "colab": {
          "base_uri": "https://localhost:8080/"
        },
        "id": "hZiaj4uT24DH",
        "outputId": "3d89bdb3-6f32-46c6-b523-79953a7440e9"
      },
      "outputs": [
        {
          "output_type": "stream",
          "name": "stdout",
          "text": [
            "GPU\n"
          ]
        }
      ],
      "source": [
        "import pandas as pd\n",
        "from matplotlib import pyplot as plt\n",
        "import numpy as np\n",
        "from torch.utils.data.dataset import Dataset\n",
        "from torch.utils.data import random_split, DataLoader\n",
        "import torch\n",
        "from sklearn.preprocessing import LabelEncoder\n",
        "from sklearn import preprocessing\n",
        "import torch.nn as nn\n",
        "import torch.nn.functional as F\n",
        "import torch.optim as opt\n",
        "from torch.autograd import Variable \n",
        "\n",
        "# GPU OR CPU\n",
        "if torch.cuda.is_available():\n",
        "    device = torch.device(\"cuda:0\")\n",
        "    print(\"GPU\")\n",
        "else:\n",
        "    device = torch.device(\"cpu\")\n",
        "    print(\"CPU\")"
      ]
    },
    {
      "cell_type": "code",
      "execution_count": 4,
      "metadata": {
        "id": "Sv-R_m6Z1EL5"
      },
      "outputs": [],
      "source": [
        "class DataSet_UNSWNB15_attack_cat(Dataset):\n",
        "\n",
        "    def __init__(self,data_set_path):\n",
        "        df = pd.read_csv(data_set_path)\n",
        "        print(df.attack_cat.value_counts().sort_values().plot(kind = \"barh\"))\n",
        "        \n",
        "        # preprocceing\n",
        "        df.drop(['id',\"Unnamed: 0\",\"service\",\"label\"], axis=1, inplace=True)        \n",
        "        cols = ['attack_cat' ,'proto' ,'state']\n",
        "        df[cols] = df[cols].apply(LabelEncoder().fit_transform)\n",
        "\n",
        "        self.data_array = df.values\n",
        "        self.x = self.data_array[:, :41]\n",
        "        self.y = self.data_array[:, 41]\n",
        "      \n",
        "        # normalaized data\n",
        "        scaler = preprocessing.StandardScaler().fit(self.x)\n",
        "        self.x = scaler.transform(self.x)\n",
        "\n",
        "        self.x = torch.tensor(self.x).float()\n",
        "        self.y = torch.tensor(self.y).long()\n",
        "\n",
        "    def __len__(self):\n",
        "        return len(self.data_array)\n",
        "\n",
        "    def __getitem__(self, item):\n",
        "        sample = (self.x[item, :], self.y[item])\n",
        "        return sample\n",
        "\n",
        "        \n",
        "class DataSet_UNSWNB15_label(Dataset):\n",
        "\n",
        "    def __init__(self,data_set_path):\n",
        "        df = pd.read_csv(data_set_path)\n",
        "        print(df.label.value_counts().sort_values().plot(kind = \"pie\"))\n",
        "\n",
        "        # preprocceing\n",
        "        df.drop(['id',\"Unnamed: 0\",\"service\",\"attack_cat\"], axis=1, inplace=True)\n",
        "        cols = ['proto' ,'state']\n",
        "        df[cols] = df[cols].apply(LabelEncoder().fit_transform)\n",
        "\n",
        "        self.data_array = df.values\n",
        "        self.x = self.data_array[:, :41]\n",
        "        self.y = self.data_array[:, 41]\n",
        "        \n",
        "        # normalaized data\n",
        "        scaler = preprocessing.StandardScaler().fit(self.x)\n",
        "        self.x = scaler.transform(self.x)\n",
        "\n",
        "        self.x = torch.tensor(self.x).float()\n",
        "        self.y = torch.tensor(self.y).long()\n",
        "\n",
        "    def __len__(self):\n",
        "        return len(self.data_array)\n",
        "\n",
        "    def __getitem__(self, item):\n",
        "        sample = (self.x[item, :], self.y[item])\n",
        "        return sample"
      ]
    },
    {
      "cell_type": "code",
      "execution_count": 5,
      "metadata": {
        "colab": {
          "base_uri": "https://localhost:8080/",
          "height": 283
        },
        "id": "UykLrbQZ1R7K",
        "outputId": "d010fa85-8e1b-41dd-e25f-3f38ada94b37"
      },
      "outputs": [
        {
          "output_type": "stream",
          "name": "stdout",
          "text": [
            "AxesSubplot(0.125,0.125;0.775x0.755)\n"
          ]
        },
        {
          "output_type": "display_data",
          "data": {
            "text/plain": [
              "<Figure size 432x288 with 1 Axes>"
            ],
            "image/png": "[encoded data removed]"
          },
          "metadata": {
            "needs_background": "light"
          }
        }
      ],
      "source": [
        "dataset_attack_cat = DataSet_UNSWNB15_attack_cat(\"/content/drive/MyDrive/datasets/UNSW-NB15/UNSW_NB15.csv\")\n",
        "number_of_test = int(len(dataset_attack_cat)*0.3)\n",
        "number_of_train = len(dataset_attack_cat) - int(len(dataset_attack_cat)*0.3)\n",
        "train_attack_cat ,test_attack_cat = random_split(dataset=dataset_attack_cat, lengths=[number_of_train,number_of_test])\n",
        "\n",
        "train_attack_cat_dataloader = DataLoader(dataset=train_attack_cat ,batch_size=batch_size ,shuffle=True)\n",
        "test_attack_cat_dataloader = DataLoader(dataset=test_attack_cat ,batch_size=batch_size ,shuffle=True)"
      ]
    },
    {
      "cell_type": "code",
      "execution_count": 6,
      "metadata": {
        "colab": {
          "base_uri": "https://localhost:8080/",
          "height": 266
        },
        "id": "LmFY9Q-u29T3",
        "outputId": "6e8870d3-c986-4ca9-b46c-aa985ab23ab9"
      },
      "outputs": [
        {
          "output_type": "stream",
          "name": "stdout",
          "text": [
            "AxesSubplot(0.260833,0.125;0.503333x0.755)\n"
          ]
        },
        {
          "output_type": "display_data",
          "data": {
            "text/plain": [
              "<Figure size 432x288 with 1 Axes>"
            ],
            "image/png": "[encoded data removed]"
          },
          "metadata": {}
        }
      ],
      "source": [
        "dataset_label = DataSet_UNSWNB15_label(\"/content/drive/MyDrive/datasets/UNSW-NB15/UNSW_NB15.csv\")\n",
        "number_of_test = int(len(dataset_label)*0.3)\n",
        "number_of_train = len(dataset_label) - int(len(dataset_label)*0.3)\n",
        "train_label ,test_label = random_split(dataset=dataset_label, lengths=[number_of_train,number_of_test])\n",
        "\n",
        "train_label_dataloader = DataLoader(dataset=train_label ,batch_size=batch_size ,shuffle=True)\n",
        "test_label_dataloader = DataLoader(dataset=test_label ,batch_size=batch_size ,shuffle=True)"
      ]
    },
    {
      "cell_type": "markdown",
      "metadata": {
        "id": "0HslPLv2IOGd"
      },
      "source": [
        "# **preprocessing ended**\n",
        "\n",
        "# **create model**"
      ]
    },
    {
      "cell_type": "markdown",
      "source": [
        "![bilstm-1.webp](data:image/webp;base64,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)"
      ],
      "metadata": {
        "id": "F2hNvBs6qBQS"
      }
    },
    {
      "cell_type": "code",
      "execution_count": 7,
      "metadata": {
        "id": "oN6DuQbJibuE"
      },
      "outputs": [],
      "source": [
        "class LSTM_Model_attack(nn.Module):\n",
        "    def __init__(self, num_classes, input_size, hidden_size, num_layers):\n",
        "        super(LSTM_Model_attack, self).__init__()\n",
        "        self.num_classes = num_classes #number of classes\n",
        "        self.num_layers = num_layers #number of layers\n",
        "        self.input_size = input_size #input size\n",
        "        self.hidden_size = hidden_size #hidden state\n",
        "\n",
        "        self.lstm = nn.LSTM(input_size=input_size, hidden_size=hidden_size, num_layers=num_layers, batch_first=True,\n",
        "                            bidirectional=bidirectional, dropout=drop_out) #lstm\n",
        "\n",
        "        self.fc = nn.Linear(hidden_size * bidirectional_forward_backward, num_classes) #fully connected last layer\n",
        "                             # 2 => forward and backward for bidirectional\n",
        "    \n",
        "    def forward(self,x):\n",
        "                                                # 2 => forward and backward for bidirectional\n",
        "        h_0 = Variable(torch.zeros(self.num_layers * bidirectional_forward_backward, x.size(0), self.hidden_size)).to(device=device) #hidden state\n",
        "        c_0 = Variable(torch.zeros(self.num_layers * bidirectional_forward_backward, x.size(0), self.hidden_size)).to(device=device) #internal state\n",
        "\n",
        "        out, (hn, cn) = self.lstm(x, (h_0, c_0))\n",
        "        out = self.fc(out[:, -1, :]) \n",
        "        return out\n",
        "\n",
        "\n",
        "class LSTM_Model_label(nn.Module):\n",
        "    def __init__(self, num_classes, input_size, hidden_size, num_layers):\n",
        "        super(LSTM_Model_label, self).__init__()\n",
        "        self.num_classes = num_classes #number of classes\n",
        "        self.num_layers = num_layers #number of layers\n",
        "        self.input_size = input_size #input size\n",
        "        self.hidden_size = hidden_size #hidden state\n",
        "\n",
        "        self.lstm = nn.LSTM(input_size=input_size, hidden_size=hidden_size, num_layers=num_layers, batch_first=True, \n",
        "                            bidirectional=bidirectional, dropout=drop_out) #lstm\n",
        "\n",
        "        self.fc = nn.Linear(hidden_size * bidirectional_forward_backward, num_classes) #fully connected last layer\n",
        "\n",
        "    \n",
        "    def forward(self,x):\n",
        "        h_0 = Variable(torch.zeros(self.num_layers * bidirectional_forward_backward, x.size(0), self.hidden_size)).to(device=device) #hidden state\n",
        "        c_0 = Variable(torch.zeros(self.num_layers * bidirectional_forward_backward, x.size(0), self.hidden_size)).to(device=device) #internal state\n",
        "\n",
        "        out, (hn, cn) = self.lstm(x, (h_0, c_0))\n",
        "        out = self.fc(out[:, -1, :]) \n",
        "        return out\n"
      ]
    },
    {
      "cell_type": "code",
      "execution_count": 8,
      "metadata": {
        "id": "US8JfNI8j3zO",
        "colab": {
          "base_uri": "https://localhost:8080/"
        },
        "outputId": "94a9e9ab-fc72-4a4d-87e7-748e869812ba"
      },
      "outputs": [
        {
          "output_type": "execute_result",
          "data": {
            "text/plain": [
              "LSTM_Model_attack(\n",
              "  (lstm): LSTM(41, 32, num_layers=3, batch_first=True)\n",
              "  (fc): Linear(in_features=32, out_features=10, bias=True)\n",
              ")"
            ]
          },
          "metadata": {},
          "execution_count": 8
        }
      ],
      "source": [
        "my_model_attack = LSTM_Model_attack(num_classes_attack_cat, input_size, hidden_size, num_layers).to(device=device)\n",
        "my_model_attack"
      ]
    },
    {
      "cell_type": "code",
      "source": [
        "my_model_attack.state_dict()"
      ],
      "metadata": {
        "colab": {
          "base_uri": "https://localhost:8080/"
        },
        "id": "Dq8JkQZ9ukCs",
        "outputId": "f13ada80-3ca5-44ca-d2d9-3245aa19caec"
      },
      "execution_count": 9,
      "outputs": [
        {
          "output_type": "execute_result",
          "data": {
            "text/plain": [
              "OrderedDict([('lstm.weight_ih_l0',\n",
              "              tensor([[ 0.1436, -0.1262,  0.0003,  ..., -0.0271, -0.0123,  0.0252],\n",
              "                      [ 0.1654,  0.0960, -0.1407,  ..., -0.0670,  0.1393,  0.1271],\n",
              "                      [ 0.0474, -0.0751,  0.1335,  ..., -0.0426, -0.1747,  0.0456],\n",
              "                      ...,\n",
              "                      [-0.0794,  0.1352,  0.1610,  ..., -0.1491, -0.1346,  0.0378],\n",
              "                      [ 0.1390,  0.1379,  0.0391,  ...,  0.1448, -0.1715, -0.1006],\n",
              "                      [ 0.1488,  0.1220,  0.0605,  ...,  0.1574, -0.1692,  0.1500]],\n",
              "                     device='cuda:0')),\n",
              "             ('lstm.weight_hh_l0',\n",
              "              tensor([[-0.1575, -0.0829,  0.1099,  ..., -0.1001,  0.1337,  0.0680],\n",
              "                      [-0.0574, -0.1073,  0.0422,  ..., -0.0466, -0.0091, -0.1280],\n",
              "                      [ 0.0853,  0.0611, -0.0022,  ...,  0.0178,  0.1294,  0.0047],\n",
              "                      ...,\n",
              "                      [ 0.1404, -0.1365,  0.0951,  ...,  0.0156, -0.1105,  0.1674],\n",
              "                      [ 0.0422, -0.1581, -0.1674,  ...,  0.1564, -0.1329, -0.0326],\n",
              "                      [ 0.0243,  0.0737,  0.1502,  ..., -0.0509,  0.1074,  0.0150]],\n",
              "                     device='cuda:0')),\n",
              "             ('lstm.bias_ih_l0',\n",
              "              tensor([-0.0874,  0.0114, -0.1292,  0.1089,  0.0607,  0.1633,  0.0319, -0.0484,\n",
              "                      -0.0628,  0.1304, -0.0351, -0.1411,  0.1320, -0.1413,  0.0318,  0.0297,\n",
              "                       0.0872,  0.0530, -0.1586, -0.0743,  0.1392, -0.1275,  0.1753,  0.1464,\n",
              "                       0.0974,  0.0675, -0.1075, -0.0778, -0.0971,  0.0807, -0.1558,  0.1421,\n",
              "                      -0.1010,  0.1311, -0.1355, -0.1757,  0.1624, -0.0451, -0.0167,  0.0119,\n",
              "                      -0.1057, -0.0810, -0.0010,  0.0908,  0.0485,  0.0529,  0.0777, -0.0402,\n",
              "                       0.0619,  0.0978,  0.1170,  0.0677, -0.1574,  0.0600, -0.1278,  0.1704,\n",
              "                       0.1190,  0.0889, -0.0754, -0.1684,  0.0389,  0.1370,  0.0650,  0.0703,\n",
              "                      -0.0124, -0.0819, -0.0701,  0.1192,  0.0546, -0.0419,  0.0127,  0.0393,\n",
              "                      -0.1508, -0.0437, -0.1324,  0.0528,  0.1537, -0.1714,  0.0790, -0.1210,\n",
              "                      -0.1597, -0.1113, -0.0932,  0.0210, -0.0561, -0.0867, -0.0602, -0.0882,\n",
              "                       0.0420,  0.0655,  0.1462, -0.0097,  0.1599, -0.1362,  0.0593,  0.0943,\n",
              "                      -0.1659, -0.0846, -0.0042, -0.0555, -0.0412,  0.1739,  0.1086,  0.0089,\n",
              "                      -0.1751, -0.0092, -0.0250, -0.0424,  0.0047,  0.0839, -0.0034,  0.0783,\n",
              "                       0.0308, -0.0128,  0.1481,  0.1548,  0.1268, -0.0918, -0.0290,  0.0451,\n",
              "                      -0.1129,  0.0814,  0.0469, -0.1386,  0.0625,  0.1015,  0.1499,  0.0819],\n",
              "                     device='cuda:0')),\n",
              "             ('lstm.bias_hh_l0',\n",
              "              tensor([ 0.0034,  0.1650,  0.0384,  0.0604, -0.1165, -0.1066, -0.1017, -0.0252,\n",
              "                       0.0455, -0.1593,  0.1018, -0.1036,  0.0312, -0.0387,  0.1108,  0.0367,\n",
              "                       0.0666, -0.1689, -0.0906,  0.1512,  0.1041,  0.0285,  0.1670, -0.1286,\n",
              "                      -0.0421, -0.1141, -0.0758,  0.0822, -0.0757,  0.0571, -0.1398,  0.1118,\n",
              "                       0.1155,  0.1264, -0.1437, -0.0799, -0.0989,  0.1435, -0.0906,  0.0434,\n",
              "                       0.0308,  0.0439,  0.0437, -0.1260, -0.1304,  0.0220,  0.1286,  0.0673,\n",
              "                      -0.0405, -0.1415, -0.1409,  0.1637, -0.1542, -0.1584, -0.0409,  0.0990,\n",
              "                      -0.1205,  0.0710,  0.0363,  0.0453, -0.0753, -0.1397,  0.0639, -0.0140,\n",
              "                       0.1267, -0.1070,  0.0030, -0.0259,  0.1209, -0.1504,  0.1404,  0.1128,\n",
              "                       0.1375,  0.0949,  0.0747, -0.0376, -0.1046, -0.0501, -0.1732,  0.1097,\n",
              "                      -0.1733,  0.0794,  0.0310, -0.0552, -0.0425,  0.0379, -0.0948, -0.0813,\n",
              "                      -0.0997, -0.0187,  0.0220, -0.0221,  0.1066,  0.0684,  0.0344, -0.0627,\n",
              "                       0.0514, -0.0824, -0.1233, -0.1432, -0.0018,  0.0421,  0.1335, -0.0127,\n",
              "                      -0.1110, -0.0831,  0.0810, -0.0022, -0.0247,  0.1139, -0.0888,  0.0847,\n",
              "                       0.0871,  0.0704, -0.0683, -0.0831,  0.0513,  0.0221, -0.1113, -0.1514,\n",
              "                      -0.0644,  0.1203, -0.1216, -0.0357,  0.0227, -0.0706,  0.0174, -0.0412],\n",
              "                     device='cuda:0')),\n",
              "             ('lstm.weight_ih_l1',\n",
              "              tensor([[ 0.1357, -0.1685, -0.0600,  ..., -0.1444, -0.1278,  0.0704],\n",
              "                      [ 0.1028,  0.0308,  0.1714,  ...,  0.1415,  0.1105,  0.0330],\n",
              "                      [-0.1534,  0.0146,  0.1725,  ...,  0.1403,  0.0515, -0.0643],\n",
              "                      ...,\n",
              "                      [-0.1162,  0.1579,  0.1035,  ...,  0.1106,  0.0291,  0.1448],\n",
              "                      [-0.1253,  0.0347, -0.0074,  ..., -0.0890, -0.0620, -0.0096],\n",
              "                      [-0.0184,  0.0005, -0.1529,  ..., -0.1416,  0.0775,  0.0914]],\n",
              "                     device='cuda:0')),\n",
              "             ('lstm.weight_hh_l1',\n",
              "              tensor([[ 0.0982,  0.0753, -0.1105,  ...,  0.0211, -0.1726, -0.0082],\n",
              "                      [ 0.1591,  0.0404, -0.1593,  ...,  0.1723, -0.0308,  0.0567],\n",
              "                      [-0.1635,  0.1364,  0.1209,  ...,  0.1531,  0.0471, -0.0820],\n",
              "                      ...,\n",
              "                      [-0.0660, -0.1714,  0.1090,  ...,  0.0038,  0.1199, -0.1143],\n",
              "                      [ 0.0693, -0.1292,  0.1159,  ...,  0.1387, -0.0515,  0.1249],\n",
              "                      [-0.1194,  0.0100,  0.0008,  ..., -0.1065, -0.0514,  0.0487]],\n",
              "                     device='cuda:0')),\n",
              "             ('lstm.bias_ih_l1',\n",
              "              tensor([-0.1050, -0.0005, -0.0073,  0.1056,  0.0415,  0.0054, -0.0559, -0.0483,\n",
              "                       0.0816,  0.0276, -0.0349, -0.0638,  0.1668, -0.1551, -0.0484, -0.0263,\n",
              "                      -0.0856, -0.0898, -0.0036,  0.1145,  0.0349,  0.0399,  0.0239, -0.1116,\n",
              "                      -0.0243, -0.1549,  0.0419, -0.0770, -0.1076, -0.0383, -0.1477, -0.1420,\n",
              "                       0.1348,  0.0443,  0.1498, -0.0721,  0.1185, -0.0521, -0.0203,  0.0393,\n",
              "                       0.1301,  0.0728, -0.0653, -0.1513,  0.1374,  0.1275, -0.0256,  0.1418,\n",
              "                       0.1117,  0.0451,  0.0834,  0.0607, -0.1007, -0.1131,  0.1116,  0.0139,\n",
              "                       0.1235,  0.1020,  0.0505,  0.0528,  0.0350, -0.1649,  0.0569, -0.0933,\n",
              "                       0.0110,  0.0414, -0.1412, -0.1649,  0.1369,  0.1573, -0.1594, -0.0148,\n",
              "                       0.0701,  0.0343,  0.1408, -0.1538,  0.0136, -0.1210,  0.0524, -0.1165,\n",
              "                      -0.0008,  0.0030, -0.0813, -0.0592, -0.0184,  0.0438,  0.0883, -0.0317,\n",
              "                       0.1596, -0.1268, -0.0269,  0.1501, -0.0556,  0.0158,  0.0972,  0.1459,\n",
              "                      -0.0799,  0.1756, -0.1016,  0.1148,  0.0725, -0.0023, -0.1164,  0.0166,\n",
              "                       0.0371, -0.0939,  0.0660,  0.0446,  0.0104, -0.1616, -0.0468,  0.1389,\n",
              "                       0.0795,  0.1671, -0.1540, -0.1393,  0.0705,  0.0877, -0.1220, -0.1109,\n",
              "                      -0.0498, -0.0560,  0.0264,  0.0503,  0.0477,  0.1705,  0.0558,  0.0072],\n",
              "                     device='cuda:0')),\n",
              "             ('lstm.bias_hh_l1',\n",
              "              tensor([ 0.1061, -0.1167, -0.1649, -0.0487, -0.0366, -0.0320,  0.0038, -0.0767,\n",
              "                      -0.0338, -0.0193, -0.1433,  0.0171,  0.1430, -0.1167, -0.1098,  0.0446,\n",
              "                       0.0611, -0.0583, -0.0711, -0.0377,  0.1594,  0.0810, -0.1239,  0.0952,\n",
              "                       0.1418, -0.0184,  0.0668, -0.1131, -0.0245, -0.0085, -0.0344, -0.0852,\n",
              "                      -0.0056, -0.0692,  0.1029, -0.0899,  0.1723,  0.0922, -0.0152,  0.0628,\n",
              "                       0.0923,  0.1095, -0.1271, -0.1105,  0.1354,  0.0556,  0.0737,  0.1766,\n",
              "                       0.1742, -0.1399,  0.1744, -0.0954, -0.1155, -0.1026,  0.0765, -0.1243,\n",
              "                       0.1330,  0.0324,  0.0263, -0.0646,  0.1507, -0.1293,  0.0080,  0.0268,\n",
              "                       0.1662,  0.1449,  0.0969, -0.0479, -0.0737,  0.0270,  0.0366, -0.0307,\n",
              "                       0.1548, -0.1649, -0.0401,  0.0566, -0.1432, -0.0068,  0.0762, -0.0839,\n",
              "                       0.0245,  0.1367,  0.0513,  0.0117,  0.0814, -0.0240, -0.0115,  0.1673,\n",
              "                       0.1647, -0.1671,  0.0941,  0.1634, -0.1141, -0.0746, -0.0026, -0.1718,\n",
              "                       0.1737, -0.0607, -0.0552, -0.1034, -0.1438, -0.0607,  0.0910, -0.1080,\n",
              "                      -0.1140, -0.0825, -0.1376, -0.0667, -0.0060,  0.0258,  0.0721, -0.1605,\n",
              "                      -0.0972, -0.1698,  0.1004, -0.1758,  0.0373,  0.1666,  0.1203,  0.0743,\n",
              "                      -0.1109, -0.1723, -0.0415, -0.0560,  0.0110,  0.0117,  0.0864,  0.1017],\n",
              "                     device='cuda:0')),\n",
              "             ('lstm.weight_ih_l2',\n",
              "              tensor([[ 0.0660, -0.1637,  0.0732,  ...,  0.0073, -0.0017, -0.0127],\n",
              "                      [ 0.0989, -0.1755, -0.1762,  ...,  0.1591, -0.1566,  0.0293],\n",
              "                      [ 0.0627,  0.0857, -0.0691,  ...,  0.1545, -0.0024,  0.0210],\n",
              "                      ...,\n",
              "                      [-0.0878, -0.1218, -0.0167,  ...,  0.0079, -0.0603,  0.1179],\n",
              "                      [-0.1518, -0.0358, -0.0598,  ...,  0.1189,  0.1529, -0.1459],\n",
              "                      [-0.0109,  0.1289, -0.0958,  ..., -0.1596,  0.0156, -0.1276]],\n",
              "                     device='cuda:0')),\n",
              "             ('lstm.weight_hh_l2',\n",
              "              tensor([[-0.0395,  0.1318, -0.0147,  ...,  0.1533,  0.0713,  0.0610],\n",
              "                      [ 0.0032,  0.0690, -0.0647,  ...,  0.0038, -0.1584, -0.1146],\n",
              "                      [-0.1189,  0.0988,  0.0051,  ...,  0.0277,  0.1553, -0.0893],\n",
              "                      ...,\n",
              "                      [ 0.0413,  0.0141, -0.0743,  ...,  0.0338,  0.0902,  0.1155],\n",
              "                      [-0.0829,  0.0424, -0.1539,  ...,  0.0599,  0.0676, -0.1560],\n",
              "                      [-0.0304, -0.0633, -0.1493,  ..., -0.1514, -0.1645, -0.1540]],\n",
              "                     device='cuda:0')),\n",
              "             ('lstm.bias_ih_l2',\n",
              "              tensor([-2.6727e-02, -1.2828e-01,  8.5557e-02, -7.9559e-02, -9.1448e-02,\n",
              "                      -1.5590e-01,  3.1085e-02,  1.3963e-04, -8.9255e-02, -1.4759e-01,\n",
              "                       1.3276e-01,  5.1794e-02,  1.5489e-01,  7.8319e-02,  1.6311e-01,\n",
              "                      -1.0078e-01, -1.4877e-02, -1.4511e-01, -1.7208e-01, -5.9528e-02,\n",
              "                      -1.1695e-01, -5.5668e-02,  9.9610e-02, -2.3174e-02,  1.0864e-01,\n",
              "                      -2.4508e-02,  6.4047e-02, -1.5426e-01,  1.5842e-01, -1.0239e-03,\n",
              "                       1.2721e-02, -1.2054e-01,  9.7604e-02,  1.3000e-01,  1.7298e-01,\n",
              "                      -6.6057e-02, -9.3253e-03,  1.2559e-01, -1.1019e-01,  1.0533e-01,\n",
              "                       1.0668e-01,  8.7569e-02,  5.6326e-02, -1.3193e-01,  2.9707e-02,\n",
              "                       9.7711e-03,  4.0297e-02,  1.4892e-01, -1.7536e-01,  1.2339e-01,\n",
              "                       1.3081e-01,  1.5145e-02, -1.1430e-01,  1.2901e-01, -3.5018e-02,\n",
              "                      -1.0080e-02,  1.6221e-02, -6.2740e-02, -5.5328e-02, -1.5768e-01,\n",
              "                      -1.6881e-01,  1.4922e-03, -1.1599e-01, -5.0174e-02, -1.2400e-01,\n",
              "                      -1.2922e-01,  1.7160e-01,  1.4464e-01, -1.3296e-01, -3.1768e-02,\n",
              "                       1.8663e-03, -1.3883e-01,  5.1003e-02,  8.4762e-02, -1.1433e-01,\n",
              "                      -7.7497e-02,  1.1395e-01,  6.5960e-02,  1.1791e-01,  1.1473e-01,\n",
              "                       4.3234e-02, -1.5287e-01, -6.2873e-02, -7.1291e-03, -1.8930e-02,\n",
              "                      -1.1879e-01,  4.0757e-02, -2.2154e-02,  5.3003e-02,  1.0557e-01,\n",
              "                       1.5711e-01,  4.3800e-03, -1.4427e-01, -1.3354e-01, -1.3247e-01,\n",
              "                       1.4774e-01,  7.6427e-02, -6.8273e-02, -6.8810e-02, -9.5316e-02,\n",
              "                       6.2190e-02, -1.1363e-01,  2.6930e-02, -1.4136e-01, -1.5697e-01,\n",
              "                      -1.0471e-01,  1.3120e-01, -1.3894e-01, -1.6821e-01,  5.7687e-02,\n",
              "                       6.6218e-02, -4.0787e-02,  4.4702e-02, -2.2573e-02,  1.4302e-01,\n",
              "                       1.6183e-01,  1.1696e-01, -1.5396e-01, -1.5538e-01,  1.4169e-02,\n",
              "                       4.1143e-02,  9.5408e-02, -1.1184e-01,  1.5686e-02, -8.3339e-02,\n",
              "                      -3.1105e-03, -8.6433e-02, -1.0890e-01], device='cuda:0')),\n",
              "             ('lstm.bias_hh_l2',\n",
              "              tensor([-0.0044,  0.0708, -0.1617,  0.1556, -0.0260, -0.0902,  0.0540, -0.1659,\n",
              "                      -0.1537,  0.1762,  0.1432, -0.0385,  0.0267, -0.0480,  0.0878,  0.1746,\n",
              "                       0.1386,  0.0441, -0.1295, -0.1549,  0.0269, -0.0036,  0.0405, -0.0191,\n",
              "                      -0.0241, -0.0892, -0.0934,  0.0633,  0.0794, -0.0835, -0.0374, -0.0900,\n",
              "                       0.0081,  0.0013, -0.0939,  0.1006, -0.0202,  0.0061,  0.1155, -0.1591,\n",
              "                      -0.0766,  0.1351, -0.0726, -0.1755,  0.0042,  0.1076,  0.0192, -0.1062,\n",
              "                      -0.0728, -0.0969,  0.0326, -0.1487, -0.1109,  0.1589,  0.0414, -0.0935,\n",
              "                       0.1583,  0.0901, -0.0092, -0.0638, -0.1375,  0.1502,  0.1005, -0.1027,\n",
              "                      -0.0208,  0.0561,  0.1060, -0.1154, -0.1754,  0.0872,  0.0884, -0.1129,\n",
              "                      -0.0043,  0.1481,  0.1528,  0.0015, -0.1285, -0.1484, -0.0996, -0.0320,\n",
              "                       0.0287,  0.1702, -0.0787,  0.1406,  0.1584,  0.0447,  0.1003,  0.0428,\n",
              "                       0.0244,  0.0990, -0.0739,  0.1617,  0.1508, -0.0961, -0.0761,  0.1377,\n",
              "                       0.0095,  0.1517,  0.0125,  0.0762,  0.0675, -0.0323,  0.1539,  0.0506,\n",
              "                       0.0566, -0.1662,  0.0568,  0.1028, -0.1290,  0.0438, -0.0723, -0.0091,\n",
              "                       0.1416, -0.1430, -0.0667, -0.0543,  0.1668, -0.0753,  0.0055,  0.0795,\n",
              "                      -0.1142, -0.1741, -0.0125, -0.1578,  0.1574, -0.0855,  0.0266, -0.1471],\n",
              "                     device='cuda:0')),\n",
              "             ('fc.weight',\n",
              "              tensor([[ 1.1402e-01, -1.5068e-01, -1.2347e-01,  6.8443e-02, -1.0590e-01,\n",
              "                       -6.6361e-03,  1.5073e-01,  8.1801e-02,  8.0885e-02, -8.1540e-02,\n",
              "                        6.2191e-02,  2.7440e-02, -1.3785e-01,  1.1633e-01, -1.6208e-01,\n",
              "                        2.8091e-02, -6.7752e-02,  1.6663e-01,  1.2461e-01, -1.1547e-01,\n",
              "                        1.6233e-01, -5.8498e-02,  1.2967e-01,  5.4300e-02, -1.4144e-01,\n",
              "                        3.7697e-02, -9.3317e-02, -8.8235e-02, -3.9332e-02, -1.1282e-01,\n",
              "                       -1.2531e-01, -8.1134e-02],\n",
              "                      [ 1.4196e-01, -7.4617e-03,  1.1584e-02,  3.1009e-02,  1.9235e-02,\n",
              "                       -1.7013e-04,  7.1061e-02, -1.5003e-02,  6.5473e-02,  4.2311e-02,\n",
              "                        5.9407e-02,  1.4682e-01, -4.7825e-02, -3.2079e-02, -1.8565e-02,\n",
              "                        6.9702e-02,  1.6253e-01,  1.2400e-01,  2.0943e-03, -3.9714e-02,\n",
              "                       -5.7531e-02, -5.4678e-02, -8.8108e-02,  1.4764e-01,  2.1058e-02,\n",
              "                        1.3644e-01,  1.0978e-01,  4.0061e-02,  1.0510e-01,  5.0749e-02,\n",
              "                        1.1518e-02, -4.4476e-02],\n",
              "                      [-2.9715e-02,  1.6376e-01,  3.6053e-02,  1.5631e-01, -3.6201e-02,\n",
              "                        3.3849e-02,  1.4691e-01,  2.0657e-03,  1.9189e-02, -2.5183e-02,\n",
              "                       -1.2318e-01,  6.5888e-02,  4.9954e-02, -1.2923e-01,  2.5066e-02,\n",
              "                        1.4456e-01,  1.2802e-01, -1.0711e-01,  1.3495e-01,  2.5724e-02,\n",
              "                       -3.6634e-02,  8.9368e-03,  1.2542e-01, -1.2217e-01, -1.4320e-02,\n",
              "                       -1.7207e-01,  4.0315e-03, -1.4150e-01, -7.7686e-02, -8.0414e-02,\n",
              "                        4.7378e-02, -8.8265e-02],\n",
              "                      [-1.6021e-03, -8.1739e-02,  9.2858e-02,  1.7225e-02,  7.4555e-02,\n",
              "                        1.0743e-01, -7.7160e-03,  8.3673e-02, -1.6875e-01, -9.7664e-02,\n",
              "                       -1.3813e-01,  1.4589e-01, -1.6025e-01,  1.1331e-02,  6.5009e-02,\n",
              "                       -1.9841e-02,  6.6064e-02,  1.0410e-01,  1.3122e-01,  1.3971e-01,\n",
              "                        8.4062e-02, -1.2038e-01,  1.0833e-02, -1.3939e-01,  1.3547e-01,\n",
              "                        1.5281e-01,  8.9779e-02, -1.7361e-01, -4.7853e-02,  1.1745e-01,\n",
              "                        1.7270e-01, -3.4275e-02],\n",
              "                      [-1.1968e-01, -1.5495e-01,  1.7526e-01, -9.6140e-02,  1.6675e-01,\n",
              "                        1.1850e-01,  1.0430e-01, -4.6144e-02,  1.0472e-01, -4.0492e-02,\n",
              "                        4.7551e-02, -5.3867e-02,  1.4793e-01,  1.3630e-01, -7.7345e-02,\n",
              "                       -5.8080e-02,  5.3422e-02,  1.5297e-01,  3.5022e-02,  6.2708e-02,\n",
              "                        7.4394e-02, -5.4563e-02,  1.1932e-01,  1.5817e-01, -8.0221e-02,\n",
              "                       -9.4835e-02,  1.2813e-01, -1.0283e-02,  1.3349e-01,  1.1780e-02,\n",
              "                        8.2182e-02,  8.6379e-02],\n",
              "                      [-6.8106e-02,  1.6073e-01,  3.2481e-03,  4.1262e-02,  1.1003e-01,\n",
              "                        7.2526e-02, -1.1844e-01,  6.5624e-03,  5.4780e-03,  1.1439e-01,\n",
              "                       -1.0331e-01,  9.6593e-02,  1.2722e-01, -4.4523e-02,  1.4845e-02,\n",
              "                       -8.8548e-02,  1.6962e-02, -1.2848e-01, -1.1500e-01,  7.4594e-04,\n",
              "                        5.3034e-02, -1.1437e-01, -1.3657e-02, -7.7947e-02,  4.6348e-02,\n",
              "                        8.5967e-02,  1.0984e-01,  3.5678e-02,  5.2477e-03, -3.4133e-02,\n",
              "                       -9.1382e-02, -1.7034e-01],\n",
              "                      [-1.7072e-01, -1.6995e-01, -1.6605e-01,  1.6501e-01,  1.4092e-01,\n",
              "                        1.4891e-01,  1.3473e-01,  2.2454e-02,  1.5964e-01, -1.8358e-02,\n",
              "                        1.3990e-01, -1.1429e-01,  3.2559e-02, -1.2197e-01,  1.5144e-01,\n",
              "                        1.1391e-01,  3.9367e-02,  2.1628e-02, -1.5423e-01, -2.5462e-02,\n",
              "                       -1.1541e-01, -1.8283e-02,  1.3657e-01, -3.9315e-02, -1.3414e-01,\n",
              "                       -1.4077e-01, -9.6783e-03, -1.7267e-01,  1.6189e-02,  1.1751e-02,\n",
              "                        3.8321e-02,  2.9820e-02],\n",
              "                      [ 9.5466e-02,  7.6716e-03, -1.1255e-01,  4.1131e-02,  7.9064e-02,\n",
              "                        2.3910e-02, -6.6906e-02, -7.6854e-02, -3.1615e-02,  9.2576e-03,\n",
              "                       -4.8714e-02, -8.5743e-02, -6.6020e-02, -3.6858e-02,  1.1441e-01,\n",
              "                       -1.4878e-01,  1.3544e-01, -6.8361e-02,  4.5574e-02, -3.1046e-02,\n",
              "                       -1.7294e-01,  1.4251e-01,  9.1246e-03, -7.6890e-02, -1.7515e-01,\n",
              "                       -2.3737e-02, -1.0352e-01,  1.4881e-01,  2.3724e-02, -8.1477e-02,\n",
              "                       -1.1315e-01,  1.3142e-01],\n",
              "                      [-1.7168e-01, -1.5438e-01,  1.1369e-01, -8.6454e-02,  1.6844e-01,\n",
              "                       -1.2448e-01, -1.5897e-01, -1.4747e-01,  1.4642e-01,  1.6962e-01,\n",
              "                       -3.9213e-02,  9.3337e-02, -2.2994e-02,  1.4122e-01,  6.1007e-02,\n",
              "                       -1.0727e-01,  1.3556e-01, -1.6552e-01, -5.0806e-03,  9.8744e-03,\n",
              "                        6.4797e-02, -3.7570e-02, -1.4261e-01,  1.8974e-02, -5.8553e-02,\n",
              "                        1.7182e-01,  6.6464e-02, -6.4702e-02,  1.7420e-01,  1.1962e-01,\n",
              "                       -3.4349e-02, -8.5799e-02],\n",
              "                      [ 1.5260e-02, -1.5249e-01,  7.8371e-03,  1.7265e-02, -2.8546e-02,\n",
              "                       -2.8519e-02,  6.4324e-02, -2.4001e-03,  1.4379e-02, -1.5997e-01,\n",
              "                        5.3313e-02,  1.5631e-01,  1.2497e-01, -8.2096e-02, -1.2548e-01,\n",
              "                        9.3467e-02,  1.4308e-01,  8.1646e-02, -8.9094e-02, -1.0449e-01,\n",
              "                       -8.3816e-02, -5.8412e-02,  1.0650e-01,  1.3905e-01, -1.4595e-01,\n",
              "                        5.2662e-02, -1.6693e-01, -1.5935e-01, -1.2609e-01,  2.8503e-02,\n",
              "                       -8.5955e-02,  1.0073e-02]], device='cuda:0')),\n",
              "             ('fc.bias',\n",
              "              tensor([ 0.0177,  0.1662,  0.0006, -0.1143,  0.0260, -0.1485, -0.1144,  0.0971,\n",
              "                       0.1659, -0.0124], device='cuda:0'))])"
            ]
          },
          "metadata": {},
          "execution_count": 9
        }
      ]
    },
    {
      "cell_type": "code",
      "execution_count": 10,
      "metadata": {
        "id": "3w9QW9Lfp1aV",
        "colab": {
          "base_uri": "https://localhost:8080/"
        },
        "outputId": "66bc3690-0c7f-4cee-dbdd-ec76e365eb43"
      },
      "outputs": [
        {
          "output_type": "execute_result",
          "data": {
            "text/plain": [
              "LSTM_Model_label(\n",
              "  (lstm): LSTM(41, 32, num_layers=3, batch_first=True)\n",
              "  (fc): Linear(in_features=32, out_features=2, bias=True)\n",
              ")"
            ]
          },
          "metadata": {},
          "execution_count": 10
        }
      ],
      "source": [
        "my_model_label = LSTM_Model_label(num_classes_label, input_size, hidden_size, num_layers).to(device=device)\n",
        "my_model_label"
      ]
    },
    {
      "cell_type": "markdown",
      "metadata": {
        "id": "Cey1CId-jjis"
      },
      "source": [
        "# **optimizer and loss function**"
      ]
    },
    {
      "cell_type": "code",
      "execution_count": 11,
      "metadata": {
        "id": "WNuQFMAekNDH"
      },
      "outputs": [],
      "source": [
        "loss_fn1 = nn.CrossEntropyLoss().to(device=device)\n",
        "loss_fn2 = nn.CrossEntropyLoss().to(device=device)\n",
        "optimizer1 = opt.Adam(params=my_model_attack.parameters(),lr=learning_rate)\n",
        "optimizer2 = opt.Adam(params=my_model_label.parameters(),lr=learning_rate)"
      ]
    },
    {
      "cell_type": "markdown",
      "metadata": {
        "id": "4JYcovfYlpHM"
      },
      "source": [
        "# **train attack cat**"
      ]
    },
    {
      "cell_type": "code",
      "execution_count": 12,
      "metadata": {
        "id": "Qmw8w1eTkeBu",
        "colab": {
          "base_uri": "https://localhost:8080/"
        },
        "outputId": "5c41f605-a3d4-4d4d-a8b3-8dec1302a5ce"
      },
      "outputs": [
        {
          "output_type": "stream",
          "name": "stdout",
          "text": [
            "Epoch: 0, loss: 0.7167\n",
            "Epoch: 50, loss: 0.4571\n",
            "Epoch: 100, loss: 0.3350\n",
            "Epoch: 150, loss: 0.3834\n",
            "Epoch: 200, loss: 0.3938\n",
            "Epoch: 250, loss: 0.4784\n",
            "Epoch: 300, loss: 0.3579\n",
            "Epoch: 350, loss: 0.3638\n",
            "Epoch: 400, loss: 0.2686\n",
            "Epoch: 450, loss: 0.4484\n",
            "Epoch: 500, loss: 0.4028\n"
          ]
        }
      ],
      "source": [
        "for epoch in range(num_epoch+1):\n",
        "\n",
        "    for batch_x, batch_y in train_attack_cat_dataloader:\n",
        "\n",
        "        batch_x = torch.reshape(batch_x, (batch_x.shape[0], 1, batch_x.shape[1])) #RuntimeError: For unbatched 2-D input, hx and cx should also be 2-D but got (3-D, 3-D) tensors\n",
        "        \n",
        "        batch_x = batch_x.to(device)\n",
        "        batch_y = batch_y.to(device)\n",
        "\n",
        "        optimizer1.zero_grad()\n",
        "        loss1 = loss_fn1(my_model_attack(batch_x) , batch_y)\n",
        "        loss1.backward() \n",
        "        optimizer1.step()\n",
        "\n",
        "    if epoch % 50 == 0:\n",
        "         print(\"Epoch: %d, loss: %.4f\" % (epoch, loss1.item())) "
      ]
    },
    {
      "cell_type": "markdown",
      "metadata": {
        "id": "PQaRCMJPls5N"
      },
      "source": [
        "# **test attack cat**"
      ]
    },
    {
      "cell_type": "code",
      "execution_count": 13,
      "metadata": {
        "id": "QrtYzVT4loMQ",
        "colab": {
          "base_uri": "https://localhost:8080/"
        },
        "outputId": "035b321a-7cdf-4bbc-8407-9424bb1f11fe"
      },
      "outputs": [
        {
          "output_type": "stream",
          "name": "stdout",
          "text": [
            "acc : 82.05%\n"
          ]
        }
      ],
      "source": [
        "correct = 0\n",
        "\n",
        "for batch_x, labl in test_attack_cat_dataloader:\n",
        "  \n",
        "    batch_x = torch.reshape(batch_x, (batch_x.shape[0], 1, batch_x.shape[1])) #RuntimeError: For unbatched 2-D input, hx and cx should also be 2-D but got (3-D, 3-D) tensors\n",
        "  \n",
        "    batch_x = batch_x.to(device)\n",
        "    labl = labl.to(device)\n",
        "\n",
        "    out = my_model_attack(batch_x)\n",
        "    _,predicted = torch.max(out,1)\n",
        "    correct += torch.sum(predicted == labl)\n",
        "\n",
        "print(\"acc : %.2f\" % (100.*correct / len(test_attack_cat)),end=\"\")\n",
        "print(\"%\")"
      ]
    },
    {
      "cell_type": "markdown",
      "metadata": {
        "id": "pLqOLtA6tQht"
      },
      "source": [
        "# **train label**"
      ]
    },
    {
      "cell_type": "code",
      "execution_count": 14,
      "metadata": {
        "id": "Xm1cu1GhtMJO",
        "colab": {
          "base_uri": "https://localhost:8080/"
        },
        "outputId": "6e2c436f-3245-41f0-e9d2-97a17c15b6ee"
      },
      "outputs": [
        {
          "output_type": "stream",
          "name": "stdout",
          "text": [
            "Epoch: 0, loss: 0.1849\n",
            "Epoch: 50, loss: 0.0963\n",
            "Epoch: 100, loss: 0.1118\n",
            "Epoch: 150, loss: 0.1099\n",
            "Epoch: 200, loss: 0.0883\n",
            "Epoch: 250, loss: 0.1097\n",
            "Epoch: 300, loss: 0.1143\n",
            "Epoch: 350, loss: 0.0816\n",
            "Epoch: 400, loss: 0.0751\n",
            "Epoch: 450, loss: 0.0873\n",
            "Epoch: 500, loss: 0.1048\n"
          ]
        }
      ],
      "source": [
        "for epoch in range(num_epoch+1):\n",
        "\n",
        "    for batch_x, batch_y in train_label_dataloader:\n",
        "\n",
        "        batch_x = torch.reshape(batch_x, (batch_x.shape[0], 1, batch_x.shape[1])) #RuntimeError: For unbatched 2-D input, hx and cx should also be 2-D but got (3-D, 3-D) tensors\n",
        "        \n",
        "        batch_x = batch_x.to(device)\n",
        "        batch_y = batch_y.to(device)\n",
        "\n",
        "        optimizer2.zero_grad()\n",
        "        loss2 = loss_fn2(my_model_label(batch_x) , batch_y)\n",
        "        loss2.backward() \n",
        "        optimizer2.step()\n",
        "\n",
        "    if epoch % 50 == 0:\n",
        "         print(\"Epoch: %d, loss: %.4f\" % (epoch, loss2.item())) "
      ]
    },
    {
      "cell_type": "markdown",
      "metadata": {
        "id": "Ig7VBqU0tfZd"
      },
      "source": [
        "# **test label**"
      ]
    },
    {
      "cell_type": "code",
      "execution_count": 15,
      "metadata": {
        "id": "a7u2bQ0WtiG2",
        "colab": {
          "base_uri": "https://localhost:8080/"
        },
        "outputId": "554406eb-41fc-415b-9091-6dd5ea14d7b6"
      },
      "outputs": [
        {
          "output_type": "stream",
          "name": "stdout",
          "text": [
            "acc : 93.65%\n"
          ]
        }
      ],
      "source": [
        "correct = 0\n",
        "\n",
        "for batch_x, labl in test_label_dataloader:\n",
        "\n",
        "    batch_x = torch.reshape(batch_x, (batch_x.shape[0], 1, batch_x.shape[1])) #RuntimeError: For unbatched 2-D input, hx and cx should also be 2-D but got (3-D, 3-D) tensors\n",
        "\n",
        "    batch_x = batch_x.to(device)\n",
        "    labl = labl.to(device)\n",
        "  \n",
        "    out = my_model_label(batch_x)\n",
        "    _,predicted = torch.max(out,1)\n",
        "    correct += torch.sum(predicted == labl)\n",
        "\n",
        "print(\"acc : %.2f\" % (100.*correct / len(test_label)),end=\"\")\n",
        "print(\"%\")"
      ]
    }
  ],
  "metadata": {
    "accelerator": "GPU",
    "colab": {
      "collapsed_sections": [],
      "provenance": []
    },
    "gpuClass": "standard",
    "kernelspec": {
      "display_name": "Python 3",
      "name": "python3"
    },
    "language_info": {
      "name": "python"
    }
  },
  "nbformat": 4,
  "nbformat_minor": 0
}