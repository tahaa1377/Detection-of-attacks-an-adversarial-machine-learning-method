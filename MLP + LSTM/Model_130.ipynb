{
  "cells": [
    {
      "cell_type": "code",
      "execution_count": 1,
      "metadata": {
        "id": "Ff1b4PxtBQuc"
      },
      "outputs": [],
      "source": [
        "num_epoch = 500      \n",
        "learning_rate = 0.002\n",
        "batch_size = 4000\n",
        "\n",
        "hidden_size = 16 #number of features in hidden state\n",
        "num_layers = 3  #number of stacked lstm layers\n",
        "bidirectional = True\n",
        "drop_out = 0\n",
        "bidirectional_forward_backward = 2 if bidirectional else 1\n",
        "\n",
        "input_size = 41 #number of features\n",
        "num_classes_attack_cat = 10 #number of output classes \n",
        "num_classes_label = 2       #number of output classes \n",
        "\n",
        "hyper_parameter1=128\n",
        "hyper_parameter2=64\n",
        "hyper_parameter3=32"
      ]
    },
    {
      "cell_type": "code",
      "source": [
        "from google.colab import drive\n",
        "drive.mount('/content/drive')"
      ],
      "metadata": {
        "colab": {
          "base_uri": "https://localhost:8080/"
        },
        "id": "0Gua0hky6SDJ",
        "outputId": "af7e0098-1a0d-45d1-ea61-d03c7662344c"
      },
      "execution_count": 2,
      "outputs": [
        {
          "output_type": "stream",
          "name": "stdout",
          "text": [
            "Mounted at /content/drive\n"
          ]
        }
      ]
    },
    {
      "cell_type": "code",
      "execution_count": 3,
      "metadata": {
        "colab": {
          "base_uri": "https://localhost:8080/"
        },
        "id": "hZiaj4uT24DH",
        "outputId": "216f6a82-124a-4ef5-e986-86e4e3c9bc63"
      },
      "outputs": [
        {
          "output_type": "stream",
          "name": "stdout",
          "text": [
            "GPU\n"
          ]
        }
      ],
      "source": [
        "import pandas as pd\n",
        "from matplotlib import pyplot as plt\n",
        "import numpy as np\n",
        "from torch.utils.data.dataset import Dataset\n",
        "from torch.utils.data import random_split, DataLoader\n",
        "import torch\n",
        "from sklearn.preprocessing import LabelEncoder\n",
        "from sklearn import preprocessing\n",
        "import torch.nn as nn\n",
        "import torch.nn.functional as F\n",
        "import torch.optim as opt\n",
        "from torch.autograd import Variable \n",
        "\n",
        "# GPU OR CPU\n",
        "if torch.cuda.is_available():\n",
        "    device = torch.device(\"cuda:0\")\n",
        "    print(\"GPU\")\n",
        "else:\n",
        "    device = torch.device(\"cpu\")\n",
        "    print(\"CPU\")"
      ]
    },
    {
      "cell_type": "code",
      "execution_count": 4,
      "metadata": {
        "id": "Sv-R_m6Z1EL5"
      },
      "outputs": [],
      "source": [
        "class DataSet_UNSWNB15_attack_cat(Dataset):\n",
        "\n",
        "    def __init__(self,data_set_path):\n",
        "        df = pd.read_csv(data_set_path)\n",
        "        print(df.attack_cat.value_counts().sort_values().plot(kind = \"barh\"))\n",
        "        \n",
        "        # preprocceing\n",
        "        df.drop(['id',\"Unnamed: 0\",\"service\",\"label\"], axis=1, inplace=True)        \n",
        "        cols = ['attack_cat' ,'proto' ,'state']\n",
        "        df[cols] = df[cols].apply(LabelEncoder().fit_transform)\n",
        "\n",
        "        self.data_array = df.values\n",
        "        self.x = self.data_array[:, :41]\n",
        "        self.y = self.data_array[:, 41]\n",
        "      \n",
        "        # normalaized data\n",
        "        scaler = preprocessing.StandardScaler().fit(self.x)\n",
        "        self.x = scaler.transform(self.x)\n",
        "\n",
        "        self.x = torch.tensor(self.x).float()\n",
        "        self.y = torch.tensor(self.y).long()\n",
        "\n",
        "    def __len__(self):\n",
        "        return len(self.data_array)\n",
        "\n",
        "    def __getitem__(self, item):\n",
        "        sample = (self.x[item, :], self.y[item])\n",
        "        return sample\n",
        "\n",
        "        \n",
        "class DataSet_UNSWNB15_label(Dataset):\n",
        "\n",
        "    def __init__(self,data_set_path):\n",
        "        df = pd.read_csv(data_set_path)\n",
        "        print(df.label.value_counts().sort_values().plot(kind = \"pie\"))\n",
        "\n",
        "        # preprocceing\n",
        "        df.drop(['id',\"Unnamed: 0\",\"service\",\"attack_cat\"], axis=1, inplace=True)\n",
        "        cols = ['proto' ,'state']\n",
        "        df[cols] = df[cols].apply(LabelEncoder().fit_transform)\n",
        "\n",
        "        self.data_array = df.values\n",
        "        self.x = self.data_array[:, :41]\n",
        "        self.y = self.data_array[:, 41]\n",
        "        \n",
        "        # normalaized data\n",
        "        scaler = preprocessing.StandardScaler().fit(self.x)\n",
        "        self.x = scaler.transform(self.x)\n",
        "\n",
        "        self.x = torch.tensor(self.x).float()\n",
        "        self.y = torch.tensor(self.y).long()\n",
        "\n",
        "    def __len__(self):\n",
        "        return len(self.data_array)\n",
        "\n",
        "    def __getitem__(self, item):\n",
        "        sample = (self.x[item, :], self.y[item])\n",
        "        return sample"
      ]
    },
    {
      "cell_type": "code",
      "execution_count": 5,
      "metadata": {
        "colab": {
          "base_uri": "https://localhost:8080/",
          "height": 283
        },
        "id": "UykLrbQZ1R7K",
        "outputId": "f65ef130-c1dc-4c10-fa11-a18c2cd06a5b"
      },
      "outputs": [
        {
          "output_type": "stream",
          "name": "stdout",
          "text": [
            "AxesSubplot(0.125,0.125;0.775x0.755)\n"
          ]
        },
        {
          "output_type": "display_data",
          "data": {
            "text/plain": [
              "<Figure size 432x288 with 1 Axes>"
            ],
            "image/png": "[encoded data removed]"
          },
          "metadata": {
            "needs_background": "light"
          }
        }
      ],
      "source": [
        "dataset_attack_cat = DataSet_UNSWNB15_attack_cat(\"/content/drive/MyDrive/datasets/UNSW-NB15/UNSW_NB15.csv\")\n",
        "number_of_test = int(len(dataset_attack_cat)*0.3)\n",
        "number_of_train = len(dataset_attack_cat) - int(len(dataset_attack_cat)*0.3)\n",
        "train_attack_cat ,test_attack_cat = random_split(dataset=dataset_attack_cat, lengths=[number_of_train,number_of_test])\n",
        "\n",
        "train_attack_cat_dataloader = DataLoader(dataset=train_attack_cat ,batch_size=batch_size ,shuffle=True)\n",
        "test_attack_cat_dataloader = DataLoader(dataset=test_attack_cat ,batch_size=batch_size ,shuffle=True)"
      ]
    },
    {
      "cell_type": "code",
      "execution_count": 6,
      "metadata": {
        "colab": {
          "base_uri": "https://localhost:8080/",
          "height": 266
        },
        "id": "LmFY9Q-u29T3",
        "outputId": "c34e6e4d-ed07-4407-848d-a1bea7146c0f"
      },
      "outputs": [
        {
          "output_type": "stream",
          "name": "stdout",
          "text": [
            "AxesSubplot(0.260833,0.125;0.503333x0.755)\n"
          ]
        },
        {
          "output_type": "display_data",
          "data": {
            "text/plain": [
              "<Figure size 432x288 with 1 Axes>"
            ],
            "image/png": "[encoded data removed]"
          },
          "metadata": {}
        }
      ],
      "source": [
        "dataset_label = DataSet_UNSWNB15_label(\"/content/drive/MyDrive/datasets/UNSW-NB15/UNSW_NB15.csv\")\n",
        "number_of_test = int(len(dataset_label)*0.3)\n",
        "number_of_train = len(dataset_label) - int(len(dataset_label)*0.3)\n",
        "train_label ,test_label = random_split(dataset=dataset_label, lengths=[number_of_train,number_of_test])\n",
        "\n",
        "train_label_dataloader = DataLoader(dataset=train_label ,batch_size=batch_size ,shuffle=True)\n",
        "test_label_dataloader = DataLoader(dataset=test_label ,batch_size=batch_size ,shuffle=True)"
      ]
    },
    {
      "cell_type": "markdown",
      "metadata": {
        "id": "0HslPLv2IOGd"
      },
      "source": [
        "# **preprocessing ended**\n",
        "\n",
        "# **create model**"
      ]
    },
    {
      "cell_type": "markdown",
      "source": [
        "![bilstm-1.webp](data:image/webp;base64,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)"
      ],
      "metadata": {
        "id": "F2hNvBs6qBQS"
      }
    },
    {
      "cell_type": "code",
      "execution_count": 7,
      "metadata": {
        "id": "oN6DuQbJibuE"
      },
      "outputs": [],
      "source": [
        "class LSTM_Model_attack(nn.Module):\n",
        "    def __init__(self, num_classes, input_size, hidden_size, num_layers):\n",
        "        super(LSTM_Model_attack, self).__init__()\n",
        "        self.num_classes = num_classes #number of classes\n",
        "        self.num_layers = num_layers #number of layers\n",
        "        self.input_size = input_size #input size\n",
        "        self.hidden_size = hidden_size #hidden state\n",
        "\n",
        "        self.lstm = nn.LSTM(input_size=input_size, hidden_size=hidden_size, num_layers=num_layers, batch_first=True,\n",
        "                            bidirectional=bidirectional, dropout=drop_out) #lstm\n",
        "\n",
        "        self.fc_layers = nn.Sequential(\n",
        "        nn.Linear(hidden_size * bidirectional_forward_backward, hyper_parameter1),\n",
        "        nn.Tanh(),\n",
        "        nn.Linear(hyper_parameter1, hyper_parameter2),\n",
        "        nn.ReLU(),\n",
        "        nn.Linear(hyper_parameter2, hyper_parameter3),\n",
        "        nn.Sigmoid(),\n",
        "        nn.Linear(hyper_parameter3, num_classes)\n",
        "        )\n",
        "    \n",
        "    def forward(self,x):\n",
        "                                                # 2 => forward and backward for bidirectional\n",
        "        h_0 = Variable(torch.zeros(self.num_layers * bidirectional_forward_backward, x.size(0), self.hidden_size)).to(device=device) #hidden state\n",
        "        c_0 = Variable(torch.zeros(self.num_layers * bidirectional_forward_backward, x.size(0), self.hidden_size)).to(device=device) #internal state\n",
        "\n",
        "        out, (hn, cn) = self.lstm(x, (h_0, c_0))\n",
        "        out = self.fc_layers(out[:, -1, :]) \n",
        "        return out\n",
        "\n",
        "\n",
        "class LSTM_Model_label(nn.Module):\n",
        "    def __init__(self, num_classes, input_size, hidden_size, num_layers):\n",
        "        super(LSTM_Model_label, self).__init__()\n",
        "        self.num_classes = num_classes #number of classes\n",
        "        self.num_layers = num_layers #number of layers\n",
        "        self.input_size = input_size #input size\n",
        "        self.hidden_size = hidden_size #hidden state\n",
        "\n",
        "        self.lstm = nn.LSTM(input_size=input_size, hidden_size=hidden_size, num_layers=num_layers, batch_first=True, \n",
        "                            bidirectional=bidirectional, dropout=drop_out) #lstm\n",
        "\n",
        "        self.fc_layers = nn.Sequential(\n",
        "        nn.Linear(hidden_size * bidirectional_forward_backward, hyper_parameter1),\n",
        "        nn.Tanh(),\n",
        "        nn.Linear(hyper_parameter1, hyper_parameter2),\n",
        "        nn.ReLU(),\n",
        "        nn.Linear(hyper_parameter2, hyper_parameter3),\n",
        "        nn.Sigmoid(),\n",
        "        nn.Linear(hyper_parameter3, num_classes)\n",
        "        )\n",
        "    \n",
        "    def forward(self,x):\n",
        "        h_0 = Variable(torch.zeros(self.num_layers * bidirectional_forward_backward, x.size(0), self.hidden_size)).to(device=device) #hidden state\n",
        "        c_0 = Variable(torch.zeros(self.num_layers * bidirectional_forward_backward, x.size(0), self.hidden_size)).to(device=device) #internal state\n",
        "\n",
        "        out, (hn, cn) = self.lstm(x, (h_0, c_0))\n",
        "        out = self.fc_layers(out[:, -1, :]) \n",
        "        return out\n"
      ]
    },
    {
      "cell_type": "code",
      "execution_count": 8,
      "metadata": {
        "id": "US8JfNI8j3zO",
        "colab": {
          "base_uri": "https://localhost:8080/"
        },
        "outputId": "0d2d04ce-1c37-4587-b594-714a2c4ce7b4"
      },
      "outputs": [
        {
          "output_type": "execute_result",
          "data": {
            "text/plain": [
              "LSTM_Model_attack(\n",
              "  (lstm): LSTM(41, 16, num_layers=3, batch_first=True, bidirectional=True)\n",
              "  (fc_layers): Sequential(\n",
              "    (0): Linear(in_features=32, out_features=128, bias=True)\n",
              "    (1): Tanh()\n",
              "    (2): Linear(in_features=128, out_features=64, bias=True)\n",
              "    (3): ReLU()\n",
              "    (4): Linear(in_features=64, out_features=32, bias=True)\n",
              "    (5): Sigmoid()\n",
              "    (6): Linear(in_features=32, out_features=10, bias=True)\n",
              "  )\n",
              ")"
            ]
          },
          "metadata": {},
          "execution_count": 8
        }
      ],
      "source": [
        "my_model_attack = LSTM_Model_attack(num_classes_attack_cat, input_size, hidden_size, num_layers).to(device=device)\n",
        "my_model_attack"
      ]
    },
    {
      "cell_type": "code",
      "source": [
        "my_model_attack.state_dict()"
      ],
      "metadata": {
        "colab": {
          "base_uri": "https://localhost:8080/"
        },
        "id": "Dq8JkQZ9ukCs",
        "outputId": "6e23d9f5-96e7-41b3-ae0d-70d15f87d8d1"
      },
      "execution_count": 9,
      "outputs": [
        {
          "output_type": "execute_result",
          "data": {
            "text/plain": [
              "OrderedDict([('lstm.weight_ih_l0',\n",
              "              tensor([[-0.1311, -0.0390,  0.0247,  ..., -0.2453,  0.0566,  0.0211],\n",
              "                      [ 0.0751, -0.0792, -0.1954,  ..., -0.0879,  0.1447, -0.0131],\n",
              "                      [ 0.0485, -0.1199, -0.0084,  ..., -0.0721, -0.1171, -0.0305],\n",
              "                      ...,\n",
              "                      [-0.0699, -0.2106, -0.1719,  ..., -0.1177,  0.2408, -0.0310],\n",
              "                      [-0.1338, -0.1773, -0.2439,  ...,  0.2491, -0.1271,  0.0323],\n",
              "                      [-0.0413,  0.1634,  0.2454,  ..., -0.0169, -0.1517,  0.2173]],\n",
              "                     device='cuda:0')),\n",
              "             ('lstm.weight_hh_l0',\n",
              "              tensor([[-0.1739, -0.1820,  0.1272,  ..., -0.2287,  0.2214, -0.2157],\n",
              "                      [ 0.0956, -0.0356,  0.1863,  ...,  0.1094, -0.0544,  0.2280],\n",
              "                      [-0.0606, -0.0679,  0.2366,  ...,  0.1412, -0.0024, -0.1152],\n",
              "                      ...,\n",
              "                      [-0.0557, -0.2371,  0.1828,  ..., -0.0166, -0.2067, -0.0614],\n",
              "                      [ 0.1772,  0.2181,  0.0623,  ..., -0.2168,  0.1294, -0.0764],\n",
              "                      [ 0.0894, -0.1787, -0.0609,  ..., -0.0185, -0.2195, -0.0604]],\n",
              "                     device='cuda:0')),\n",
              "             ('lstm.bias_ih_l0',\n",
              "              tensor([-0.2072, -0.2247,  0.2290, -0.1949, -0.0191, -0.0168, -0.0751, -0.0519,\n",
              "                       0.1826,  0.1440,  0.0935, -0.1699, -0.0219,  0.1280,  0.1336, -0.1077,\n",
              "                       0.2383, -0.1273, -0.2024,  0.1002,  0.0441, -0.0796,  0.0587,  0.0800,\n",
              "                       0.0154, -0.1047,  0.2002, -0.0120,  0.1214,  0.2295, -0.0044,  0.0022,\n",
              "                      -0.0695, -0.0825,  0.0056,  0.1667,  0.2136, -0.0664,  0.0665,  0.1621,\n",
              "                      -0.1609,  0.2492,  0.2187,  0.0538,  0.2047,  0.0356, -0.0273, -0.0292,\n",
              "                       0.1665,  0.0080, -0.2060, -0.1049,  0.0199, -0.0245,  0.1679,  0.1730,\n",
              "                       0.1896,  0.2386, -0.0193, -0.2481,  0.0898, -0.0985,  0.2345,  0.1772],\n",
              "                     device='cuda:0')),\n",
              "             ('lstm.bias_hh_l0',\n",
              "              tensor([ 0.0991,  0.1636, -0.1498,  0.2098,  0.0127,  0.0338, -0.2089,  0.0661,\n",
              "                      -0.0035,  0.0121, -0.1186, -0.1246, -0.1683,  0.1426, -0.1058, -0.0163,\n",
              "                      -0.1316, -0.1241, -0.0330,  0.1410,  0.1252, -0.0272,  0.2316,  0.1766,\n",
              "                      -0.0094, -0.2463,  0.1759, -0.0047,  0.1093, -0.0725, -0.0117, -0.1543,\n",
              "                      -0.2133,  0.1130,  0.1813, -0.0750,  0.0880, -0.1491, -0.1976,  0.1626,\n",
              "                       0.0434,  0.1973, -0.1784,  0.0872, -0.1257,  0.2126,  0.2410, -0.0034,\n",
              "                       0.1153,  0.1354,  0.0637, -0.1131,  0.1332, -0.2398, -0.1188, -0.0544,\n",
              "                       0.0934,  0.0071,  0.1810,  0.1048, -0.1178,  0.1701, -0.1898,  0.2080],\n",
              "                     device='cuda:0')),\n",
              "             ('lstm.weight_ih_l0_reverse',\n",
              "              tensor([[-0.1281, -0.1831,  0.2373,  ...,  0.0594, -0.2417,  0.2258],\n",
              "                      [ 0.0951,  0.1826,  0.2490,  ..., -0.1578,  0.0121,  0.1697],\n",
              "                      [-0.1431,  0.0943, -0.1854,  ..., -0.0433, -0.0285,  0.1552],\n",
              "                      ...,\n",
              "                      [-0.0401,  0.1226, -0.2010,  ...,  0.0034, -0.1417, -0.1235],\n",
              "                      [ 0.2079, -0.0176, -0.1442,  ...,  0.0627, -0.0037,  0.1492],\n",
              "                      [ 0.0924, -0.1739,  0.2104,  ..., -0.1841,  0.0136,  0.0435]],\n",
              "                     device='cuda:0')),\n",
              "             ('lstm.weight_hh_l0_reverse',\n",
              "              tensor([[ 0.1587,  0.0736, -0.1921,  ...,  0.0726,  0.1483,  0.0452],\n",
              "                      [ 0.0956, -0.1311,  0.0772,  ...,  0.2355, -0.1638, -0.1588],\n",
              "                      [ 0.0221, -0.1335, -0.0180,  ...,  0.0909, -0.1568,  0.0381],\n",
              "                      ...,\n",
              "                      [-0.0279,  0.1302, -0.0097,  ..., -0.0830, -0.0568, -0.0748],\n",
              "                      [ 0.0852, -0.2066,  0.1154,  ..., -0.2300, -0.1018, -0.2460],\n",
              "                      [ 0.0572,  0.0595,  0.1475,  ..., -0.0800,  0.1644, -0.1275]],\n",
              "                     device='cuda:0')),\n",
              "             ('lstm.bias_ih_l0_reverse',\n",
              "              tensor([-0.2308, -0.1596, -0.1305, -0.1231,  0.1206, -0.1733, -0.2077,  0.1244,\n",
              "                      -0.1474,  0.0935, -0.2444, -0.1144, -0.1439, -0.0372,  0.0513, -0.1477,\n",
              "                       0.0325, -0.1090,  0.0824,  0.0589,  0.1209,  0.1629,  0.0489, -0.1267,\n",
              "                       0.1934,  0.0286, -0.1541,  0.2215, -0.0116, -0.1574,  0.2140, -0.1979,\n",
              "                      -0.2422,  0.0925, -0.1375,  0.2475, -0.1663,  0.2376,  0.0058,  0.0370,\n",
              "                      -0.0405, -0.1335, -0.0885, -0.0433,  0.0264, -0.2173,  0.1032,  0.1357,\n",
              "                      -0.0482,  0.1042, -0.0750,  0.1122,  0.0909, -0.0796,  0.2151, -0.2275,\n",
              "                       0.1140, -0.1164, -0.1401, -0.1782,  0.0714,  0.1334, -0.2043,  0.1861],\n",
              "                     device='cuda:0')),\n",
              "             ('lstm.bias_hh_l0_reverse',\n",
              "              tensor([ 0.0116,  0.0690,  0.1991,  0.0984, -0.1534,  0.0071, -0.2182, -0.0961,\n",
              "                       0.0114,  0.1724, -0.2021,  0.0591, -0.1787,  0.1627,  0.1021, -0.0503,\n",
              "                       0.1673, -0.0869,  0.2237,  0.2150,  0.0674,  0.1796,  0.0308,  0.0486,\n",
              "                       0.2288,  0.2140, -0.1680, -0.0211,  0.0544,  0.1746, -0.1125,  0.0190,\n",
              "                       0.0726,  0.0985, -0.1106,  0.1183, -0.0738,  0.1085, -0.1872, -0.1440,\n",
              "                      -0.0511,  0.1649,  0.1933, -0.2365,  0.1409,  0.2459, -0.2422,  0.1779,\n",
              "                      -0.2317, -0.0009, -0.1703,  0.2000,  0.2191,  0.2285,  0.0962,  0.0350,\n",
              "                      -0.0894, -0.0114, -0.0214, -0.1524,  0.1428,  0.2124, -0.1533,  0.1389],\n",
              "                     device='cuda:0')),\n",
              "             ('lstm.weight_ih_l1',\n",
              "              tensor([[-0.0385, -0.2220, -0.1436,  ..., -0.1494,  0.1399, -0.0344],\n",
              "                      [ 0.1321,  0.1360, -0.1430,  ..., -0.2292,  0.1605, -0.0508],\n",
              "                      [-0.1811, -0.2004,  0.1840,  ...,  0.0770, -0.0147, -0.1035],\n",
              "                      ...,\n",
              "                      [-0.2123,  0.1955, -0.1069,  ...,  0.2163, -0.1709, -0.1841],\n",
              "                      [-0.1810, -0.0628, -0.0398,  ..., -0.1352,  0.1991, -0.0813],\n",
              "                      [-0.2306,  0.2376, -0.0529,  ...,  0.1439,  0.0541,  0.0998]],\n",
              "                     device='cuda:0')),\n",
              "             ('lstm.weight_hh_l1',\n",
              "              tensor([[ 0.0379, -0.0385,  0.2353,  ...,  0.0130,  0.0988,  0.2106],\n",
              "                      [-0.0169, -0.0947, -0.1768,  ...,  0.1677, -0.2060,  0.0316],\n",
              "                      [ 0.0875, -0.0115, -0.2151,  ..., -0.1047, -0.1757, -0.0193],\n",
              "                      ...,\n",
              "                      [-0.0759, -0.1327, -0.0426,  ..., -0.1088,  0.1584,  0.1426],\n",
              "                      [ 0.0454,  0.2178,  0.2262,  ...,  0.0659,  0.2451, -0.2382],\n",
              "                      [ 0.1347,  0.2153,  0.1476,  ..., -0.0220,  0.2260, -0.0868]],\n",
              "                     device='cuda:0')),\n",
              "             ('lstm.bias_ih_l1',\n",
              "              tensor([ 2.1236e-01, -1.6412e-01, -1.3165e-03,  3.0589e-02,  7.0953e-03,\n",
              "                       1.4980e-01, -1.4306e-01, -1.6782e-01,  2.0428e-01, -7.5035e-02,\n",
              "                       6.2599e-02,  1.6528e-01, -1.8351e-01,  1.9906e-01, -6.1485e-02,\n",
              "                      -7.0546e-02, -2.2277e-01,  2.1701e-01, -5.1670e-02, -8.3325e-02,\n",
              "                      -9.9926e-02, -9.4521e-02,  2.3207e-04,  8.5646e-02, -1.2195e-01,\n",
              "                      -2.2534e-01,  2.2034e-01, -7.8929e-02,  2.4731e-02,  1.7881e-01,\n",
              "                       2.0694e-01,  2.0588e-01, -3.7312e-02,  1.3476e-01,  2.3464e-01,\n",
              "                      -1.8962e-01,  1.0241e-01, -1.0512e-01,  1.8254e-01, -1.4947e-01,\n",
              "                      -1.0990e-01, -8.5889e-02, -1.3941e-01,  2.7405e-02, -2.3231e-01,\n",
              "                       4.9159e-02, -4.1389e-02, -7.3771e-02, -1.5723e-01, -7.8394e-02,\n",
              "                      -8.9112e-02,  3.9917e-02,  7.7970e-02, -1.7244e-01, -1.4281e-01,\n",
              "                      -3.8410e-02,  8.3530e-02, -2.4096e-01, -7.3084e-02, -1.3912e-01,\n",
              "                      -9.3922e-02, -2.3269e-01, -1.5296e-01,  1.0715e-01], device='cuda:0')),\n",
              "             ('lstm.bias_hh_l1',\n",
              "              tensor([-0.1172, -0.0225, -0.1389, -0.1343, -0.0688, -0.0666, -0.0602,  0.0090,\n",
              "                       0.0413, -0.0309,  0.2232, -0.1300,  0.1412, -0.0587, -0.0514, -0.2364,\n",
              "                       0.2421, -0.1885, -0.1806,  0.2117,  0.0320, -0.0733,  0.0917, -0.1723,\n",
              "                      -0.1492,  0.2158, -0.2464, -0.0985, -0.0720, -0.0215,  0.0440, -0.1654,\n",
              "                      -0.2168,  0.0616,  0.2462,  0.1384,  0.2354, -0.2420,  0.1172,  0.1051,\n",
              "                      -0.2373, -0.1044,  0.2047,  0.2212,  0.1845, -0.2148, -0.0344,  0.0651,\n",
              "                      -0.0796, -0.0331,  0.2098, -0.1454,  0.0203,  0.0713, -0.0761, -0.1049,\n",
              "                      -0.1043,  0.1330, -0.2208,  0.1882, -0.0390,  0.0504,  0.1829,  0.0250],\n",
              "                     device='cuda:0')),\n",
              "             ('lstm.weight_ih_l1_reverse',\n",
              "              tensor([[-0.1116, -0.2176,  0.0445,  ...,  0.0199, -0.0746, -0.0280],\n",
              "                      [ 0.2122, -0.0930,  0.2176,  ...,  0.1621,  0.0954, -0.0457],\n",
              "                      [-0.0949, -0.0820, -0.0543,  ..., -0.1046, -0.0682, -0.0057],\n",
              "                      ...,\n",
              "                      [ 0.2459, -0.1614,  0.0871,  ..., -0.0632,  0.0893,  0.0949],\n",
              "                      [ 0.2286,  0.2221, -0.1070,  ...,  0.0440,  0.1896,  0.1434],\n",
              "                      [ 0.1749, -0.1115, -0.0893,  ...,  0.1383,  0.0476, -0.0733]],\n",
              "                     device='cuda:0')),\n",
              "             ('lstm.weight_hh_l1_reverse',\n",
              "              tensor([[ 0.2465, -0.2305,  0.1951,  ...,  0.2334, -0.1440, -0.0223],\n",
              "                      [ 0.1161, -0.1000, -0.0962,  ...,  0.1502,  0.2146,  0.0521],\n",
              "                      [ 0.0796,  0.0843, -0.1170,  ...,  0.1757,  0.1274,  0.1163],\n",
              "                      ...,\n",
              "                      [ 0.2168, -0.1719, -0.2313,  ..., -0.0517, -0.1525, -0.2287],\n",
              "                      [-0.1989, -0.0796,  0.1259,  ..., -0.1615, -0.0970, -0.1468],\n",
              "                      [ 0.0134, -0.2407, -0.0008,  ...,  0.0755, -0.1893, -0.1551]],\n",
              "                     device='cuda:0')),\n",
              "             ('lstm.bias_ih_l1_reverse',\n",
              "              tensor([ 0.1696,  0.1357, -0.1988, -0.1156,  0.1968, -0.0865, -0.0653, -0.1029,\n",
              "                      -0.2006, -0.0481, -0.0174,  0.1047, -0.0652, -0.0833, -0.0680,  0.1109,\n",
              "                      -0.1497,  0.0164, -0.0792, -0.2423, -0.2241, -0.2460, -0.0576,  0.2001,\n",
              "                      -0.1873,  0.0826, -0.0977,  0.1926, -0.1638,  0.1051, -0.1007, -0.1399,\n",
              "                      -0.1922,  0.0877,  0.1878,  0.1122,  0.0692,  0.1173, -0.1680,  0.2494,\n",
              "                       0.1551,  0.0549, -0.2428, -0.1380, -0.1017, -0.1254,  0.2051, -0.1048,\n",
              "                       0.1306,  0.1043, -0.1139,  0.1313, -0.1508, -0.0520,  0.1022, -0.1595,\n",
              "                      -0.2475,  0.1539,  0.0574,  0.2069, -0.0907,  0.0675, -0.1398, -0.1264],\n",
              "                     device='cuda:0')),\n",
              "             ('lstm.bias_hh_l1_reverse',\n",
              "              tensor([-0.1208,  0.0024,  0.0897, -0.0594, -0.1630,  0.1086,  0.0343, -0.1818,\n",
              "                       0.1868,  0.1586,  0.0589,  0.0932, -0.1801, -0.2272,  0.2461, -0.1210,\n",
              "                      -0.2055, -0.0727,  0.0891, -0.2029, -0.0174,  0.0631, -0.0615,  0.1800,\n",
              "                      -0.1661, -0.0461, -0.0558,  0.1789,  0.2131,  0.1133,  0.0828, -0.2044,\n",
              "                       0.1655, -0.2346,  0.0974,  0.1085,  0.1118,  0.2302,  0.2377,  0.2495,\n",
              "                      -0.1332, -0.1383, -0.1503,  0.2085,  0.0971, -0.2045,  0.1298,  0.0204,\n",
              "                      -0.0551,  0.0400, -0.1108, -0.0634,  0.1472, -0.2232,  0.0357,  0.1664,\n",
              "                      -0.1818,  0.1297, -0.0289,  0.0773, -0.2454, -0.2069,  0.0736,  0.2125],\n",
              "                     device='cuda:0')),\n",
              "             ('lstm.weight_ih_l2',\n",
              "              tensor([[-0.2166, -0.0207, -0.0494,  ...,  0.1632, -0.1104, -0.1480],\n",
              "                      [-0.0520,  0.1188,  0.1395,  ..., -0.1325, -0.1643,  0.0626],\n",
              "                      [ 0.0519,  0.1371,  0.0539,  ...,  0.0705, -0.2114,  0.0761],\n",
              "                      ...,\n",
              "                      [-0.1908, -0.1403,  0.1806,  ..., -0.1345,  0.1216,  0.0551],\n",
              "                      [ 0.0479, -0.1665,  0.1109,  ..., -0.1311, -0.2338, -0.0271],\n",
              "                      [-0.0279, -0.2303,  0.0124,  ...,  0.0569,  0.1245, -0.0918]],\n",
              "                     device='cuda:0')),\n",
              "             ('lstm.weight_hh_l2',\n",
              "              tensor([[ 0.1504, -0.0465, -0.0771,  ...,  0.0219,  0.0515,  0.0630],\n",
              "                      [-0.1385, -0.1311,  0.0341,  ..., -0.2274, -0.1469,  0.1831],\n",
              "                      [ 0.0033,  0.2420, -0.2308,  ...,  0.1460, -0.1823,  0.2415],\n",
              "                      ...,\n",
              "                      [-0.2383,  0.1581, -0.1365,  ...,  0.1645,  0.1721, -0.0972],\n",
              "                      [-0.0040,  0.0784,  0.0195,  ..., -0.2325,  0.0903, -0.0153],\n",
              "                      [-0.2440,  0.1085,  0.2131,  ..., -0.0349,  0.1174,  0.1695]],\n",
              "                     device='cuda:0')),\n",
              "             ('lstm.bias_ih_l2',\n",
              "              tensor([ 0.1325, -0.0752, -0.1868, -0.1143,  0.0412, -0.0213,  0.0659, -0.0039,\n",
              "                      -0.1630,  0.0058,  0.1587,  0.0102, -0.1058, -0.2000,  0.0188, -0.0103,\n",
              "                      -0.0182, -0.2300, -0.1017, -0.0851,  0.0117,  0.2082,  0.0270, -0.0756,\n",
              "                       0.0633,  0.0897, -0.0836,  0.1852,  0.0065, -0.2305,  0.0225,  0.1475,\n",
              "                      -0.2029, -0.0381, -0.0862,  0.0426, -0.2165,  0.2182, -0.1365,  0.1636,\n",
              "                      -0.1779,  0.2018,  0.0558,  0.1058, -0.1605,  0.1962,  0.0243,  0.0753,\n",
              "                      -0.2392, -0.0460,  0.2400, -0.1699,  0.0218,  0.1663,  0.1746,  0.1980,\n",
              "                       0.1336,  0.2097, -0.0090,  0.0491, -0.2155,  0.1354,  0.0540,  0.2295],\n",
              "                     device='cuda:0')),\n",
              "             ('lstm.bias_hh_l2',\n",
              "              tensor([-0.1247, -0.0772,  0.0947,  0.1825, -0.0670, -0.2331, -0.0126,  0.0813,\n",
              "                       0.0337, -0.0140,  0.0011,  0.0085, -0.2069,  0.1364, -0.1020, -0.0928,\n",
              "                       0.0330, -0.0508,  0.2126, -0.2456, -0.0277, -0.1900, -0.1404, -0.1639,\n",
              "                       0.2330, -0.1481, -0.0385,  0.1898, -0.1519,  0.2261,  0.2177,  0.2454,\n",
              "                      -0.0926, -0.1290, -0.2117,  0.2058, -0.2345, -0.1195, -0.2355, -0.0816,\n",
              "                       0.1996,  0.2469,  0.1328,  0.1704, -0.1049,  0.2201,  0.1134, -0.0202,\n",
              "                       0.1619,  0.1232, -0.1169, -0.1933,  0.1414, -0.1005,  0.0495, -0.0734,\n",
              "                       0.0936, -0.2484, -0.0449,  0.0978, -0.2072, -0.2279, -0.0950,  0.1165],\n",
              "                     device='cuda:0')),\n",
              "             ('lstm.weight_ih_l2_reverse',\n",
              "              tensor([[ 0.1240,  0.2405, -0.0072,  ...,  0.2426, -0.2071, -0.0949],\n",
              "                      [ 0.1021,  0.1246,  0.1441,  ..., -0.0402, -0.0210,  0.0210],\n",
              "                      [ 0.2205, -0.0688, -0.2417,  ...,  0.0880,  0.1660,  0.2432],\n",
              "                      ...,\n",
              "                      [ 0.0502, -0.1598, -0.2369,  ...,  0.1222, -0.2396, -0.1194],\n",
              "                      [-0.0173,  0.1516, -0.1327,  ..., -0.0869,  0.1893, -0.1567],\n",
              "                      [ 0.1690, -0.1228, -0.0004,  ..., -0.0888,  0.0903, -0.1351]],\n",
              "                     device='cuda:0')),\n",
              "             ('lstm.weight_hh_l2_reverse',\n",
              "              tensor([[-1.2108e-01, -1.3539e-04,  1.9295e-01,  ...,  1.8890e-01,\n",
              "                       -1.9347e-01,  2.4672e-01],\n",
              "                      [ 1.1026e-01, -2.4919e-01, -9.9942e-02,  ...,  9.8472e-02,\n",
              "                       -1.6450e-01, -7.1817e-02],\n",
              "                      [-1.3338e-01, -4.0767e-03, -1.7999e-01,  ..., -1.3377e-01,\n",
              "                        2.0540e-02, -3.5097e-02],\n",
              "                      ...,\n",
              "                      [-2.4315e-02, -1.5940e-01,  1.3685e-01,  ..., -1.8627e-01,\n",
              "                       -1.0385e-01, -1.3645e-01],\n",
              "                      [ 1.1918e-01,  6.0872e-02, -1.3226e-01,  ...,  2.0218e-02,\n",
              "                       -2.3217e-01,  9.9478e-02],\n",
              "                      [ 3.9744e-02, -2.2325e-01, -2.2735e-01,  ..., -7.9259e-02,\n",
              "                        2.0126e-02, -2.3534e-01]], device='cuda:0')),\n",
              "             ('lstm.bias_ih_l2_reverse',\n",
              "              tensor([-0.1239, -0.1991, -0.2477, -0.2098,  0.1631, -0.0163, -0.1250,  0.1599,\n",
              "                      -0.1629, -0.1771,  0.1988,  0.0509,  0.0237,  0.0419, -0.2177,  0.1448,\n",
              "                      -0.1959,  0.0213, -0.0042,  0.2097, -0.1332,  0.2162,  0.2198, -0.1807,\n",
              "                      -0.2390,  0.0997,  0.0740,  0.0605,  0.2495, -0.0579, -0.1235,  0.0850,\n",
              "                      -0.1230, -0.2040,  0.0329,  0.1950,  0.0678, -0.1818,  0.1685,  0.0090,\n",
              "                       0.0294,  0.1564,  0.0389, -0.1272,  0.1630, -0.0649,  0.0277, -0.0933,\n",
              "                      -0.0314, -0.1239, -0.1849,  0.0827,  0.0518,  0.0429, -0.0105,  0.0825,\n",
              "                      -0.1637, -0.0061,  0.0533, -0.0226,  0.1481,  0.0300,  0.1056, -0.2231],\n",
              "                     device='cuda:0')),\n",
              "             ('lstm.bias_hh_l2_reverse',\n",
              "              tensor([-0.1100, -0.1253, -0.1527, -0.1277, -0.1790, -0.0446, -0.1867, -0.2241,\n",
              "                      -0.0582, -0.1881,  0.1905, -0.0396, -0.2281, -0.0817,  0.1745, -0.2184,\n",
              "                       0.0494, -0.2016, -0.1202, -0.1224,  0.0410,  0.1471, -0.2222, -0.1175,\n",
              "                      -0.0486, -0.2286,  0.1097, -0.1096, -0.0179,  0.1462, -0.1788,  0.2457,\n",
              "                       0.1818, -0.0398,  0.1890,  0.0976, -0.0444, -0.2073,  0.0748, -0.2490,\n",
              "                      -0.0414,  0.2401,  0.2169,  0.2072, -0.2278,  0.2313, -0.2004, -0.1449,\n",
              "                       0.2131,  0.0372,  0.1356,  0.1362, -0.0331,  0.1610, -0.0544,  0.1425,\n",
              "                      -0.0387,  0.1867,  0.1665, -0.1639,  0.1721,  0.2334, -0.1906,  0.1786],\n",
              "                     device='cuda:0')),\n",
              "             ('fc_layers.0.weight',\n",
              "              tensor([[ 0.1020,  0.1235,  0.0846,  ...,  0.1436, -0.0076,  0.1679],\n",
              "                      [ 0.1236, -0.0992, -0.0907,  ...,  0.0064,  0.1309, -0.0220],\n",
              "                      [ 0.1061,  0.0725, -0.0729,  ...,  0.1587,  0.0506,  0.1041],\n",
              "                      ...,\n",
              "                      [-0.0536, -0.1749, -0.0182,  ...,  0.0870, -0.0151, -0.0797],\n",
              "                      [-0.0210,  0.1320, -0.1689,  ..., -0.1199, -0.0292,  0.0367],\n",
              "                      [ 0.1295,  0.0556,  0.0172,  ..., -0.1133,  0.1157, -0.0785]],\n",
              "                     device='cuda:0')),\n",
              "             ('fc_layers.0.bias',\n",
              "              tensor([-0.0580, -0.0003, -0.1185,  0.1509,  0.1094, -0.0006, -0.1019,  0.0061,\n",
              "                      -0.0161, -0.0612, -0.1496,  0.1213,  0.1522,  0.0479, -0.0003,  0.1679,\n",
              "                      -0.0922, -0.1624, -0.0354,  0.1370,  0.1642,  0.1254, -0.0184,  0.0094,\n",
              "                      -0.0097, -0.0650,  0.0748,  0.0134, -0.1452, -0.0408, -0.1001,  0.0898,\n",
              "                       0.0102,  0.0201, -0.0141,  0.1533, -0.1128,  0.0146,  0.1647,  0.0040,\n",
              "                       0.0544, -0.1211,  0.1390, -0.1642, -0.1724, -0.0721, -0.1145, -0.1278,\n",
              "                      -0.0126,  0.0562, -0.1441, -0.0004, -0.0425, -0.1087,  0.0386,  0.0208,\n",
              "                      -0.0398, -0.1692,  0.1487, -0.1736, -0.1645, -0.0048,  0.0528, -0.1467,\n",
              "                      -0.0522,  0.0480, -0.0938, -0.1286,  0.1370, -0.0642, -0.0732, -0.1719,\n",
              "                       0.0739, -0.0434, -0.1076, -0.1323,  0.0926, -0.0091, -0.1480, -0.1310,\n",
              "                      -0.1222,  0.1584,  0.1586,  0.0373,  0.0803, -0.0164, -0.1123,  0.1537,\n",
              "                       0.0359, -0.0114,  0.1410, -0.1702, -0.1391, -0.1702, -0.1341, -0.0065,\n",
              "                      -0.0109, -0.0811, -0.0482, -0.0712, -0.0705,  0.0077, -0.0174, -0.1145,\n",
              "                       0.1421, -0.0807, -0.0622,  0.1384,  0.0665, -0.0337,  0.0509,  0.0229,\n",
              "                      -0.1625, -0.0454, -0.1433, -0.1281,  0.1305, -0.1343,  0.0507, -0.0489,\n",
              "                      -0.1178, -0.1569,  0.0688, -0.0542, -0.1104,  0.0837,  0.0402,  0.0112],\n",
              "                     device='cuda:0')),\n",
              "             ('fc_layers.2.weight',\n",
              "              tensor([[-0.0445, -0.0398, -0.0871,  ..., -0.0468, -0.0182, -0.0130],\n",
              "                      [-0.0157,  0.0093,  0.0563,  ..., -0.0392, -0.0809, -0.0799],\n",
              "                      [ 0.0328,  0.0175, -0.0834,  ...,  0.0429,  0.0278, -0.0676],\n",
              "                      ...,\n",
              "                      [-0.0650,  0.0257, -0.0404,  ..., -0.0094, -0.0557, -0.0232],\n",
              "                      [-0.0687,  0.0111,  0.0628,  ...,  0.0027,  0.0512,  0.0301],\n",
              "                      [ 0.0569, -0.0873, -0.0750,  ...,  0.0548,  0.0583,  0.0840]],\n",
              "                     device='cuda:0')),\n",
              "             ('fc_layers.2.bias',\n",
              "              tensor([ 0.0623, -0.0833, -0.0818, -0.0637,  0.0176,  0.0116,  0.0097,  0.0690,\n",
              "                      -0.0177,  0.0018,  0.0266, -0.0199, -0.0381,  0.0112,  0.0329,  0.0883,\n",
              "                      -0.0649, -0.0158,  0.0714,  0.0432, -0.0483,  0.0624,  0.0223,  0.0013,\n",
              "                      -0.0127,  0.0678,  0.0025,  0.0141, -0.0709,  0.0579,  0.0084, -0.0808,\n",
              "                      -0.0032,  0.0592, -0.0446,  0.0550,  0.0819, -0.0005,  0.0031,  0.0123,\n",
              "                      -0.0056, -0.0642, -0.0729,  0.0545, -0.0788, -0.0748,  0.0160, -0.0695,\n",
              "                       0.0025,  0.0525,  0.0474, -0.0699,  0.0403,  0.0155,  0.0112,  0.0759,\n",
              "                      -0.0286,  0.0410,  0.0058, -0.0235,  0.0295,  0.0034, -0.0322, -0.0364],\n",
              "                     device='cuda:0')),\n",
              "             ('fc_layers.4.weight',\n",
              "              tensor([[-0.1120, -0.0616, -0.0894,  ...,  0.0541, -0.0008,  0.1075],\n",
              "                      [ 0.0975, -0.0490,  0.0812,  ..., -0.0544, -0.0604, -0.0761],\n",
              "                      [-0.0593,  0.0596, -0.0539,  ..., -0.0815,  0.0637,  0.0282],\n",
              "                      ...,\n",
              "                      [ 0.1244,  0.0031,  0.1055,  ...,  0.0884,  0.0994,  0.0319],\n",
              "                      [-0.0682,  0.0410, -0.0421,  ..., -0.0460, -0.0692, -0.0725],\n",
              "                      [ 0.0746,  0.1024,  0.1188,  ...,  0.0261,  0.0427, -0.0624]],\n",
              "                     device='cuda:0')),\n",
              "             ('fc_layers.4.bias',\n",
              "              tensor([-0.0168, -0.0645, -0.0092,  0.0077,  0.0939,  0.0439,  0.0559, -0.0790,\n",
              "                       0.0650, -0.0504, -0.1015,  0.0500,  0.0612,  0.1113, -0.0690, -0.0092,\n",
              "                       0.0006, -0.0397,  0.0490,  0.0699, -0.0428, -0.0065,  0.0110, -0.1012,\n",
              "                       0.0099,  0.1114, -0.1068,  0.1239,  0.0241,  0.0290, -0.0742,  0.0010],\n",
              "                     device='cuda:0')),\n",
              "             ('fc_layers.6.weight',\n",
              "              tensor([[-0.0956,  0.1073, -0.1277, -0.1752,  0.1385, -0.1283,  0.1171,  0.0422,\n",
              "                        0.0458, -0.0329, -0.1307,  0.0909,  0.0381, -0.0332,  0.0979,  0.0156,\n",
              "                        0.1649, -0.0051, -0.1473, -0.0231, -0.1342, -0.1566,  0.1674,  0.1224,\n",
              "                       -0.1583, -0.0886,  0.0181, -0.1461, -0.1508,  0.1624, -0.0304,  0.1582],\n",
              "                      [ 0.1419,  0.1288,  0.1429,  0.0611, -0.0025, -0.0788, -0.0858, -0.0824,\n",
              "                       -0.0443, -0.0153,  0.1184, -0.0721, -0.1417, -0.0326,  0.1123, -0.0407,\n",
              "                        0.1504, -0.0108,  0.0224, -0.0998, -0.0806,  0.0823, -0.0429, -0.1617,\n",
              "                       -0.0878,  0.1479, -0.0650,  0.0790,  0.1062, -0.1158, -0.0125,  0.0801],\n",
              "                      [ 0.1224,  0.0320, -0.0370, -0.1258,  0.0889,  0.0494, -0.0981, -0.0655,\n",
              "                       -0.1039,  0.1054,  0.1006, -0.1662,  0.1476, -0.0729, -0.1254, -0.0139,\n",
              "                        0.0375,  0.1334,  0.1738,  0.1696,  0.0772, -0.1174, -0.1374, -0.0942,\n",
              "                        0.1074,  0.0776, -0.0982, -0.0574,  0.0339, -0.0500,  0.1026,  0.1582],\n",
              "                      [-0.0743,  0.1532, -0.0064,  0.0657, -0.0926, -0.0094, -0.0686,  0.0601,\n",
              "                       -0.0186,  0.1016,  0.0708, -0.0196, -0.1074,  0.0265, -0.0724,  0.0519,\n",
              "                       -0.0933,  0.0317, -0.1541,  0.1434, -0.0300, -0.0198,  0.0068,  0.1517,\n",
              "                       -0.0379, -0.1032,  0.1760,  0.0986, -0.0774, -0.1712, -0.1180,  0.1534],\n",
              "                      [-0.1421,  0.1753, -0.1419,  0.0564, -0.1021, -0.0106, -0.0661, -0.0044,\n",
              "                       -0.0073,  0.0592, -0.0369, -0.1309, -0.1121, -0.1353, -0.1295,  0.1077,\n",
              "                       -0.0767, -0.0719,  0.0246,  0.0826, -0.1110,  0.0355,  0.1558, -0.0173,\n",
              "                        0.0401, -0.1176, -0.1045, -0.0125,  0.0948,  0.0296,  0.0320,  0.0184],\n",
              "                      [ 0.0514,  0.1146, -0.0567,  0.0315,  0.0436, -0.0403,  0.0191, -0.1375,\n",
              "                       -0.0130, -0.1288, -0.0408,  0.1399,  0.1154,  0.0140, -0.0960, -0.0266,\n",
              "                        0.0709, -0.1692,  0.1749,  0.0570,  0.0252,  0.0255, -0.1335, -0.0163,\n",
              "                        0.1266,  0.1725, -0.0740, -0.0661,  0.0010,  0.0988, -0.1116,  0.0698],\n",
              "                      [-0.1222, -0.0185,  0.0985, -0.1448, -0.1179,  0.1071,  0.1521,  0.1709,\n",
              "                        0.1589,  0.1052, -0.0627,  0.0680,  0.1653,  0.0599,  0.1564, -0.0429,\n",
              "                       -0.1399,  0.1072, -0.0688, -0.1664,  0.0096,  0.1726,  0.1276, -0.1060,\n",
              "                       -0.1128, -0.0468, -0.1240,  0.1273, -0.0608,  0.0029, -0.0007,  0.0532],\n",
              "                      [-0.1406, -0.1564,  0.0965, -0.1234,  0.1657, -0.0957, -0.0757, -0.0043,\n",
              "                       -0.0174,  0.0922, -0.0038,  0.1724, -0.0714, -0.1706, -0.1348, -0.1661,\n",
              "                       -0.0468, -0.1718,  0.0072, -0.0403,  0.1201, -0.0899, -0.1749, -0.1713,\n",
              "                       -0.1680, -0.1020, -0.0822, -0.1250,  0.1172, -0.1514, -0.0286,  0.0740],\n",
              "                      [-0.0280,  0.0904,  0.0717,  0.0131, -0.0883, -0.0155, -0.1152,  0.0052,\n",
              "                       -0.0802,  0.0707,  0.0670,  0.0563,  0.0380,  0.0237,  0.0145,  0.0746,\n",
              "                       -0.0075,  0.0715, -0.0563, -0.1617, -0.0966,  0.1029,  0.1296,  0.0828,\n",
              "                        0.1623,  0.1766,  0.0712, -0.0194, -0.1712, -0.0933,  0.0163, -0.0134],\n",
              "                      [ 0.0263,  0.0800, -0.1655,  0.1347, -0.1510,  0.0893, -0.0522, -0.0982,\n",
              "                        0.1552, -0.0179, -0.1522, -0.0559, -0.1043,  0.1068,  0.1561,  0.0346,\n",
              "                       -0.0264,  0.1449, -0.0279,  0.1538, -0.1297,  0.0015, -0.0152, -0.1464,\n",
              "                        0.0034, -0.1361, -0.0020,  0.1550,  0.1131,  0.1404, -0.0611, -0.0849]],\n",
              "                     device='cuda:0')),\n",
              "             ('fc_layers.6.bias',\n",
              "              tensor([ 0.1278,  0.0962,  0.0434,  0.1271,  0.0290,  0.0913, -0.0444, -0.0075,\n",
              "                      -0.1333, -0.1747], device='cuda:0'))])"
            ]
          },
          "metadata": {},
          "execution_count": 9
        }
      ]
    },
    {
      "cell_type": "code",
      "execution_count": 10,
      "metadata": {
        "id": "3w9QW9Lfp1aV",
        "colab": {
          "base_uri": "https://localhost:8080/"
        },
        "outputId": "ae4652a1-3a9b-4962-b7f5-c55c8ccb0c94"
      },
      "outputs": [
        {
          "output_type": "execute_result",
          "data": {
            "text/plain": [
              "LSTM_Model_label(\n",
              "  (lstm): LSTM(41, 16, num_layers=3, batch_first=True, bidirectional=True)\n",
              "  (fc_layers): Sequential(\n",
              "    (0): Linear(in_features=32, out_features=128, bias=True)\n",
              "    (1): Tanh()\n",
              "    (2): Linear(in_features=128, out_features=64, bias=True)\n",
              "    (3): ReLU()\n",
              "    (4): Linear(in_features=64, out_features=32, bias=True)\n",
              "    (5): Sigmoid()\n",
              "    (6): Linear(in_features=32, out_features=2, bias=True)\n",
              "  )\n",
              ")"
            ]
          },
          "metadata": {},
          "execution_count": 10
        }
      ],
      "source": [
        "my_model_label = LSTM_Model_label(num_classes_label, input_size, hidden_size, num_layers).to(device=device)\n",
        "my_model_label"
      ]
    },
    {
      "cell_type": "markdown",
      "metadata": {
        "id": "Cey1CId-jjis"
      },
      "source": [
        "# **optimizer and loss function**"
      ]
    },
    {
      "cell_type": "code",
      "execution_count": 11,
      "metadata": {
        "id": "WNuQFMAekNDH"
      },
      "outputs": [],
      "source": [
        "loss_fn1 = nn.CrossEntropyLoss().to(device=device)\n",
        "loss_fn2 = nn.CrossEntropyLoss().to(device=device)\n",
        "optimizer1 = opt.Adam(params=my_model_attack.parameters(),lr=learning_rate)\n",
        "optimizer2 = opt.Adam(params=my_model_label.parameters(),lr=learning_rate)"
      ]
    },
    {
      "cell_type": "markdown",
      "metadata": {
        "id": "4JYcovfYlpHM"
      },
      "source": [
        "# **train attack cat**"
      ]
    },
    {
      "cell_type": "code",
      "execution_count": 12,
      "metadata": {
        "id": "Qmw8w1eTkeBu",
        "colab": {
          "base_uri": "https://localhost:8080/"
        },
        "outputId": "e1baec3e-6955-4770-86d1-d9dcb8539b9b"
      },
      "outputs": [
        {
          "output_type": "stream",
          "name": "stdout",
          "text": [
            "Epoch: 0, loss: 1.5583\n",
            "Epoch: 50, loss: 0.4987\n",
            "Epoch: 100, loss: 0.4869\n",
            "Epoch: 150, loss: 0.4731\n",
            "Epoch: 200, loss: 0.4475\n",
            "Epoch: 250, loss: 0.4869\n",
            "Epoch: 300, loss: 0.4132\n",
            "Epoch: 350, loss: 0.5028\n",
            "Epoch: 400, loss: 0.4886\n",
            "Epoch: 450, loss: 0.4537\n",
            "Epoch: 500, loss: 0.3579\n"
          ]
        }
      ],
      "source": [
        "for epoch in range(num_epoch+1):\n",
        "\n",
        "    for batch_x, batch_y in train_attack_cat_dataloader:\n",
        "\n",
        "        batch_x = torch.reshape(batch_x, (batch_x.shape[0], 1, batch_x.shape[1])) #RuntimeError: For unbatched 2-D input, hx and cx should also be 2-D but got (3-D, 3-D) tensors\n",
        "        \n",
        "        batch_x = batch_x.to(device)\n",
        "        batch_y = batch_y.to(device)\n",
        "\n",
        "        optimizer1.zero_grad()\n",
        "        loss1 = loss_fn1(my_model_attack(batch_x) , batch_y)\n",
        "        loss1.backward() \n",
        "        optimizer1.step()\n",
        "\n",
        "    if epoch % 50 == 0:\n",
        "         print(\"Epoch: %d, loss: %.4f\" % (epoch, loss1.item())) "
      ]
    },
    {
      "cell_type": "markdown",
      "metadata": {
        "id": "PQaRCMJPls5N"
      },
      "source": [
        "# **test attack cat**"
      ]
    },
    {
      "cell_type": "code",
      "execution_count": 13,
      "metadata": {
        "id": "QrtYzVT4loMQ",
        "colab": {
          "base_uri": "https://localhost:8080/"
        },
        "outputId": "3320f0fe-f185-4e66-81f8-7c4812eae5b2"
      },
      "outputs": [
        {
          "output_type": "stream",
          "name": "stdout",
          "text": [
            "acc : 81.34%\n"
          ]
        }
      ],
      "source": [
        "correct = 0\n",
        "\n",
        "for batch_x, labl in test_attack_cat_dataloader:\n",
        "  \n",
        "    batch_x = torch.reshape(batch_x, (batch_x.shape[0], 1, batch_x.shape[1])) #RuntimeError: For unbatched 2-D input, hx and cx should also be 2-D but got (3-D, 3-D) tensors\n",
        "  \n",
        "    batch_x = batch_x.to(device)\n",
        "    labl = labl.to(device)\n",
        "\n",
        "    out = my_model_attack(batch_x)\n",
        "    _,predicted = torch.max(out,1)\n",
        "    correct += torch.sum(predicted == labl)\n",
        "\n",
        "print(\"acc : %.2f\" % (100.*correct / len(test_attack_cat)),end=\"\")\n",
        "print(\"%\")"
      ]
    },
    {
      "cell_type": "markdown",
      "metadata": {
        "id": "pLqOLtA6tQht"
      },
      "source": [
        "# **train label**"
      ]
    },
    {
      "cell_type": "code",
      "execution_count": 14,
      "metadata": {
        "id": "Xm1cu1GhtMJO",
        "colab": {
          "base_uri": "https://localhost:8080/"
        },
        "outputId": "ea5973b6-3c1c-457c-e3f1-9615ea884f1d"
      },
      "outputs": [
        {
          "output_type": "stream",
          "name": "stdout",
          "text": [
            "Epoch: 0, loss: 0.4021\n",
            "Epoch: 50, loss: 0.1235\n",
            "Epoch: 100, loss: 0.1584\n",
            "Epoch: 150, loss: 0.1190\n",
            "Epoch: 200, loss: 0.1156\n",
            "Epoch: 250, loss: 0.1431\n",
            "Epoch: 300, loss: 0.1206\n",
            "Epoch: 350, loss: 0.1319\n",
            "Epoch: 400, loss: 0.1012\n",
            "Epoch: 450, loss: 0.1279\n",
            "Epoch: 500, loss: 0.1379\n"
          ]
        }
      ],
      "source": [
        "for epoch in range(num_epoch+1):\n",
        "\n",
        "    for batch_x, batch_y in train_label_dataloader:\n",
        "\n",
        "        batch_x = torch.reshape(batch_x, (batch_x.shape[0], 1, batch_x.shape[1])) #RuntimeError: For unbatched 2-D input, hx and cx should also be 2-D but got (3-D, 3-D) tensors\n",
        "        \n",
        "        batch_x = batch_x.to(device)\n",
        "        batch_y = batch_y.to(device)\n",
        "\n",
        "        optimizer2.zero_grad()\n",
        "        loss2 = loss_fn2(my_model_label(batch_x) , batch_y)\n",
        "        loss2.backward() \n",
        "        optimizer2.step()\n",
        "\n",
        "    if epoch % 50 == 0:\n",
        "         print(\"Epoch: %d, loss: %.4f\" % (epoch, loss2.item())) "
      ]
    },
    {
      "cell_type": "markdown",
      "metadata": {
        "id": "Ig7VBqU0tfZd"
      },
      "source": [
        "# **test label**"
      ]
    },
    {
      "cell_type": "code",
      "execution_count": 15,
      "metadata": {
        "id": "a7u2bQ0WtiG2",
        "colab": {
          "base_uri": "https://localhost:8080/"
        },
        "outputId": "bee6ad4b-371f-45dc-8033-2c4763166613"
      },
      "outputs": [
        {
          "output_type": "stream",
          "name": "stdout",
          "text": [
            "acc : 93.83%\n"
          ]
        }
      ],
      "source": [
        "correct = 0\n",
        "\n",
        "for batch_x, labl in test_label_dataloader:\n",
        "\n",
        "    batch_x = torch.reshape(batch_x, (batch_x.shape[0], 1, batch_x.shape[1])) #RuntimeError: For unbatched 2-D input, hx and cx should also be 2-D but got (3-D, 3-D) tensors\n",
        "\n",
        "    batch_x = batch_x.to(device)\n",
        "    labl = labl.to(device)\n",
        "  \n",
        "    out = my_model_label(batch_x)\n",
        "    _,predicted = torch.max(out,1)\n",
        "    correct += torch.sum(predicted == labl)\n",
        "\n",
        "print(\"acc : %.2f\" % (100.*correct / len(test_label)),end=\"\")\n",
        "print(\"%\")"
      ]
    }
  ],
  "metadata": {
    "accelerator": "GPU",
    "colab": {
      "collapsed_sections": [],
      "provenance": []
    },
    "gpuClass": "standard",
    "kernelspec": {
      "display_name": "Python 3",
      "name": "python3"
    },
    "language_info": {
      "name": "python"
    }
  },
  "nbformat": 4,
  "nbformat_minor": 0
}