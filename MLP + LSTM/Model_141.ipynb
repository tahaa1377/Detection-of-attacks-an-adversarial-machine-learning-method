{
  "cells": [
    {
      "cell_type": "code",
      "execution_count": 1,
      "metadata": {
        "id": "Ff1b4PxtBQuc"
      },
      "outputs": [],
      "source": [
        "num_epoch = 500      \n",
        "learning_rate = 0.002\n",
        "batch_size = 1000\n",
        "\n",
        "hidden_size = 64 #number of features in hidden state\n",
        "num_layers = 2  #number of stacked lstm layers\n",
        "bidirectional = True\n",
        "drop_out = 0.5\n",
        "bidirectional_forward_backward = 2 if bidirectional else 1\n",
        "\n",
        "input_size = 41 #number of features\n",
        "num_classes_attack_cat = 10 #number of output classes \n",
        "num_classes_label = 2       #number of output classes \n",
        "\n",
        "hyper_parameter1=128\n",
        "hyper_parameter2=64\n",
        "hyper_parameter3=32"
      ]
    },
    {
      "cell_type": "code",
      "source": [
        "from google.colab import drive\n",
        "drive.mount('/content/drive')"
      ],
      "metadata": {
        "colab": {
          "base_uri": "https://localhost:8080/"
        },
        "id": "0Gua0hky6SDJ",
        "outputId": "a403db0d-549a-407a-f8ff-5171a2953581"
      },
      "execution_count": 2,
      "outputs": [
        {
          "output_type": "stream",
          "name": "stdout",
          "text": [
            "Mounted at /content/drive\n"
          ]
        }
      ]
    },
    {
      "cell_type": "code",
      "execution_count": 3,
      "metadata": {
        "colab": {
          "base_uri": "https://localhost:8080/"
        },
        "id": "hZiaj4uT24DH",
        "outputId": "eaa15b65-60d3-4113-e5a7-5da54dd6b5bd"
      },
      "outputs": [
        {
          "output_type": "stream",
          "name": "stdout",
          "text": [
            "GPU\n"
          ]
        }
      ],
      "source": [
        "import pandas as pd\n",
        "from matplotlib import pyplot as plt\n",
        "import numpy as np\n",
        "from torch.utils.data.dataset import Dataset\n",
        "from torch.utils.data import random_split, DataLoader\n",
        "import torch\n",
        "from sklearn.preprocessing import LabelEncoder\n",
        "from sklearn import preprocessing\n",
        "import torch.nn as nn\n",
        "import torch.nn.functional as F\n",
        "import torch.optim as opt\n",
        "from torch.autograd import Variable \n",
        "\n",
        "# GPU OR CPU\n",
        "if torch.cuda.is_available():\n",
        "    device = torch.device(\"cuda:0\")\n",
        "    print(\"GPU\")\n",
        "else:\n",
        "    device = torch.device(\"cpu\")\n",
        "    print(\"CPU\")"
      ]
    },
    {
      "cell_type": "code",
      "execution_count": 4,
      "metadata": {
        "id": "Sv-R_m6Z1EL5"
      },
      "outputs": [],
      "source": [
        "class DataSet_UNSWNB15_attack_cat(Dataset):\n",
        "\n",
        "    def __init__(self,data_set_path):\n",
        "        df = pd.read_csv(data_set_path)\n",
        "        print(df.attack_cat.value_counts().sort_values().plot(kind = \"barh\"))\n",
        "        \n",
        "        # preprocceing\n",
        "        df.drop(['id',\"Unnamed: 0\",\"service\",\"label\"], axis=1, inplace=True)        \n",
        "        cols = ['attack_cat' ,'proto' ,'state']\n",
        "        df[cols] = df[cols].apply(LabelEncoder().fit_transform)\n",
        "\n",
        "        self.data_array = df.values\n",
        "        self.x = self.data_array[:, :41]\n",
        "        self.y = self.data_array[:, 41]\n",
        "      \n",
        "        # normalaized data\n",
        "        scaler = preprocessing.StandardScaler().fit(self.x)\n",
        "        self.x = scaler.transform(self.x)\n",
        "\n",
        "        self.x = torch.tensor(self.x).float()\n",
        "        self.y = torch.tensor(self.y).long()\n",
        "\n",
        "    def __len__(self):\n",
        "        return len(self.data_array)\n",
        "\n",
        "    def __getitem__(self, item):\n",
        "        sample = (self.x[item, :], self.y[item])\n",
        "        return sample\n",
        "\n",
        "        \n",
        "class DataSet_UNSWNB15_label(Dataset):\n",
        "\n",
        "    def __init__(self,data_set_path):\n",
        "        df = pd.read_csv(data_set_path)\n",
        "        print(df.label.value_counts().sort_values().plot(kind = \"pie\"))\n",
        "\n",
        "        # preprocceing\n",
        "        df.drop(['id',\"Unnamed: 0\",\"service\",\"attack_cat\"], axis=1, inplace=True)\n",
        "        cols = ['proto' ,'state']\n",
        "        df[cols] = df[cols].apply(LabelEncoder().fit_transform)\n",
        "\n",
        "        self.data_array = df.values\n",
        "        self.x = self.data_array[:, :41]\n",
        "        self.y = self.data_array[:, 41]\n",
        "        \n",
        "        # normalaized data\n",
        "        scaler = preprocessing.StandardScaler().fit(self.x)\n",
        "        self.x = scaler.transform(self.x)\n",
        "\n",
        "        self.x = torch.tensor(self.x).float()\n",
        "        self.y = torch.tensor(self.y).long()\n",
        "\n",
        "    def __len__(self):\n",
        "        return len(self.data_array)\n",
        "\n",
        "    def __getitem__(self, item):\n",
        "        sample = (self.x[item, :], self.y[item])\n",
        "        return sample"
      ]
    },
    {
      "cell_type": "code",
      "execution_count": 5,
      "metadata": {
        "colab": {
          "base_uri": "https://localhost:8080/",
          "height": 283
        },
        "id": "UykLrbQZ1R7K",
        "outputId": "d10becb6-ba4c-450b-c8de-3fb8eb1758b3"
      },
      "outputs": [
        {
          "output_type": "stream",
          "name": "stdout",
          "text": [
            "AxesSubplot(0.125,0.125;0.775x0.755)\n"
          ]
        },
        {
          "output_type": "display_data",
          "data": {
            "text/plain": [
              "<Figure size 432x288 with 1 Axes>"
            ],
            "image/png": "[encoded data removed]"
          },
          "metadata": {
            "needs_background": "light"
          }
        }
      ],
      "source": [
        "dataset_attack_cat = DataSet_UNSWNB15_attack_cat(\"/content/drive/MyDrive/datasets/UNSW-NB15/UNSW_NB15.csv\")\n",
        "number_of_test = int(len(dataset_attack_cat)*0.3)\n",
        "number_of_train = len(dataset_attack_cat) - int(len(dataset_attack_cat)*0.3)\n",
        "train_attack_cat ,test_attack_cat = random_split(dataset=dataset_attack_cat, lengths=[number_of_train,number_of_test])\n",
        "\n",
        "train_attack_cat_dataloader = DataLoader(dataset=train_attack_cat ,batch_size=batch_size ,shuffle=True)\n",
        "test_attack_cat_dataloader = DataLoader(dataset=test_attack_cat ,batch_size=batch_size ,shuffle=True)"
      ]
    },
    {
      "cell_type": "code",
      "execution_count": 6,
      "metadata": {
        "colab": {
          "base_uri": "https://localhost:8080/",
          "height": 266
        },
        "id": "LmFY9Q-u29T3",
        "outputId": "94bb1592-f285-4d33-c3ea-eef4f089b04d"
      },
      "outputs": [
        {
          "output_type": "stream",
          "name": "stdout",
          "text": [
            "AxesSubplot(0.260833,0.125;0.503333x0.755)\n"
          ]
        },
        {
          "output_type": "display_data",
          "data": {
            "text/plain": [
              "<Figure size 432x288 with 1 Axes>"
            ],
            "image/png": "[encoded data removed]"
          },
          "metadata": {}
        }
      ],
      "source": [
        "dataset_label = DataSet_UNSWNB15_label(\"/content/drive/MyDrive/datasets/UNSW-NB15/UNSW_NB15.csv\")\n",
        "number_of_test = int(len(dataset_label)*0.3)\n",
        "number_of_train = len(dataset_label) - int(len(dataset_label)*0.3)\n",
        "train_label ,test_label = random_split(dataset=dataset_label, lengths=[number_of_train,number_of_test])\n",
        "\n",
        "train_label_dataloader = DataLoader(dataset=train_label ,batch_size=batch_size ,shuffle=True)\n",
        "test_label_dataloader = DataLoader(dataset=test_label ,batch_size=batch_size ,shuffle=True)"
      ]
    },
    {
      "cell_type": "markdown",
      "metadata": {
        "id": "0HslPLv2IOGd"
      },
      "source": [
        "# **preprocessing ended**\n",
        "\n",
        "# **create model**"
      ]
    },
    {
      "cell_type": "markdown",
      "source": [
        "![bilstm-1.webp](data:image/webp;base64,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)"
      ],
      "metadata": {
        "id": "F2hNvBs6qBQS"
      }
    },
    {
      "cell_type": "code",
      "execution_count": 7,
      "metadata": {
        "id": "oN6DuQbJibuE"
      },
      "outputs": [],
      "source": [
        "class LSTM_Model_attack(nn.Module):\n",
        "    def __init__(self, num_classes, input_size, hidden_size, num_layers):\n",
        "        super(LSTM_Model_attack, self).__init__()\n",
        "        self.num_classes = num_classes #number of classes\n",
        "        self.num_layers = num_layers #number of layers\n",
        "        self.input_size = input_size #input size\n",
        "        self.hidden_size = hidden_size #hidden state\n",
        "\n",
        "        self.lstm = nn.LSTM(input_size=input_size, hidden_size=hidden_size, num_layers=num_layers, batch_first=True,\n",
        "                            bidirectional=bidirectional, dropout=drop_out) #lstm\n",
        "\n",
        "        self.fc_layers = nn.Sequential(\n",
        "        nn.Linear(hidden_size * bidirectional_forward_backward, hyper_parameter1),\n",
        "        nn.Tanh(),\n",
        "        nn.Linear(hyper_parameter1, hyper_parameter2),\n",
        "        nn.ReLU(),\n",
        "        nn.Linear(hyper_parameter2, hyper_parameter3),\n",
        "        nn.Sigmoid(),\n",
        "        nn.Linear(hyper_parameter3, num_classes)\n",
        "        )\n",
        "    \n",
        "    def forward(self,x):\n",
        "                                                # 2 => forward and backward for bidirectional\n",
        "        h_0 = Variable(torch.zeros(self.num_layers * bidirectional_forward_backward, x.size(0), self.hidden_size)).to(device=device) #hidden state\n",
        "        c_0 = Variable(torch.zeros(self.num_layers * bidirectional_forward_backward, x.size(0), self.hidden_size)).to(device=device) #internal state\n",
        "\n",
        "        out, (hn, cn) = self.lstm(x, (h_0, c_0))\n",
        "        out = self.fc_layers(out[:, -1, :]) \n",
        "        return out\n",
        "\n",
        "\n",
        "class LSTM_Model_label(nn.Module):\n",
        "    def __init__(self, num_classes, input_size, hidden_size, num_layers):\n",
        "        super(LSTM_Model_label, self).__init__()\n",
        "        self.num_classes = num_classes #number of classes\n",
        "        self.num_layers = num_layers #number of layers\n",
        "        self.input_size = input_size #input size\n",
        "        self.hidden_size = hidden_size #hidden state\n",
        "\n",
        "        self.lstm = nn.LSTM(input_size=input_size, hidden_size=hidden_size, num_layers=num_layers, batch_first=True, \n",
        "                            bidirectional=bidirectional, dropout=drop_out) #lstm\n",
        "\n",
        "        self.fc_layers = nn.Sequential(\n",
        "        nn.Linear(hidden_size * bidirectional_forward_backward, hyper_parameter1),\n",
        "        nn.Tanh(),\n",
        "        nn.Linear(hyper_parameter1, hyper_parameter2),\n",
        "        nn.ReLU(),\n",
        "        nn.Linear(hyper_parameter2, hyper_parameter3),\n",
        "        nn.Sigmoid(),\n",
        "        nn.Linear(hyper_parameter3, num_classes)\n",
        "        )\n",
        "    \n",
        "    def forward(self,x):\n",
        "        h_0 = Variable(torch.zeros(self.num_layers * bidirectional_forward_backward, x.size(0), self.hidden_size)).to(device=device) #hidden state\n",
        "        c_0 = Variable(torch.zeros(self.num_layers * bidirectional_forward_backward, x.size(0), self.hidden_size)).to(device=device) #internal state\n",
        "\n",
        "        out, (hn, cn) = self.lstm(x, (h_0, c_0))\n",
        "        out = self.fc_layers(out[:, -1, :]) \n",
        "        return out\n"
      ]
    },
    {
      "cell_type": "code",
      "execution_count": 8,
      "metadata": {
        "id": "US8JfNI8j3zO",
        "colab": {
          "base_uri": "https://localhost:8080/"
        },
        "outputId": "f21acaa5-4dcf-417b-9d31-a4769bd36516"
      },
      "outputs": [
        {
          "output_type": "execute_result",
          "data": {
            "text/plain": [
              "LSTM_Model_attack(\n",
              "  (lstm): LSTM(41, 64, num_layers=2, batch_first=True, dropout=0.5, bidirectional=True)\n",
              "  (fc_layers): Sequential(\n",
              "    (0): Linear(in_features=128, out_features=128, bias=True)\n",
              "    (1): Tanh()\n",
              "    (2): Linear(in_features=128, out_features=64, bias=True)\n",
              "    (3): ReLU()\n",
              "    (4): Linear(in_features=64, out_features=32, bias=True)\n",
              "    (5): Sigmoid()\n",
              "    (6): Linear(in_features=32, out_features=10, bias=True)\n",
              "  )\n",
              ")"
            ]
          },
          "metadata": {},
          "execution_count": 8
        }
      ],
      "source": [
        "my_model_attack = LSTM_Model_attack(num_classes_attack_cat, input_size, hidden_size, num_layers).to(device=device)\n",
        "my_model_attack"
      ]
    },
    {
      "cell_type": "code",
      "source": [
        "my_model_attack.state_dict()"
      ],
      "metadata": {
        "colab": {
          "base_uri": "https://localhost:8080/"
        },
        "id": "Dq8JkQZ9ukCs",
        "outputId": "4fddcfe7-d549-4876-b75a-6c6cffb6e042"
      },
      "execution_count": 9,
      "outputs": [
        {
          "output_type": "execute_result",
          "data": {
            "text/plain": [
              "OrderedDict([('lstm.weight_ih_l0',\n",
              "              tensor([[-0.0618,  0.0879, -0.0481,  ...,  0.0206, -0.0475, -0.0205],\n",
              "                      [-0.0136,  0.1216,  0.0314,  ...,  0.0081,  0.0721, -0.0344],\n",
              "                      [ 0.0884, -0.0760, -0.0262,  ...,  0.1032, -0.0917,  0.0974],\n",
              "                      ...,\n",
              "                      [ 0.0671,  0.0310,  0.0299,  ...,  0.0670, -0.0291, -0.0753],\n",
              "                      [-0.1016,  0.0445,  0.0851,  ...,  0.0226,  0.0607, -0.1168],\n",
              "                      [-0.0085,  0.0074,  0.0116,  ..., -0.0610, -0.0542,  0.0400]],\n",
              "                     device='cuda:0')),\n",
              "             ('lstm.weight_hh_l0',\n",
              "              tensor([[ 0.0850,  0.0923, -0.0531,  ...,  0.0608,  0.0992, -0.1107],\n",
              "                      [-0.1181, -0.0010,  0.0083,  ..., -0.1078,  0.0238,  0.1172],\n",
              "                      [-0.0384,  0.0755, -0.0595,  ..., -0.0502,  0.0588,  0.0399],\n",
              "                      ...,\n",
              "                      [ 0.0726, -0.0047, -0.1087,  ..., -0.0444,  0.1213, -0.0083],\n",
              "                      [-0.0753,  0.0845, -0.0796,  ...,  0.1105,  0.0912,  0.0752],\n",
              "                      [-0.0548, -0.0664, -0.0155,  ...,  0.0500,  0.0892,  0.0255]],\n",
              "                     device='cuda:0')),\n",
              "             ('lstm.bias_ih_l0',\n",
              "              tensor([-0.1163, -0.0618, -0.0922,  0.0608,  0.0770,  0.1130, -0.0597,  0.0636,\n",
              "                      -0.0781, -0.0304, -0.0321,  0.0425, -0.1206, -0.0465,  0.0681, -0.0072,\n",
              "                       0.0988, -0.0094, -0.1167,  0.0413, -0.0509,  0.0499, -0.1180,  0.0310,\n",
              "                      -0.0894,  0.0459, -0.0003,  0.0092, -0.1042, -0.0236, -0.0056,  0.1141,\n",
              "                       0.1037, -0.0703,  0.0493,  0.0102,  0.1039, -0.1173, -0.0103,  0.0563,\n",
              "                      -0.0584, -0.1119, -0.0267, -0.0632,  0.0657, -0.0286, -0.0023,  0.0490,\n",
              "                       0.0118, -0.0949,  0.1005, -0.0557, -0.0199, -0.0950, -0.0418, -0.0348,\n",
              "                       0.0538,  0.0989,  0.0146,  0.0871,  0.1016,  0.0009, -0.0567, -0.0732,\n",
              "                      -0.0457,  0.1162,  0.0854, -0.0137,  0.0583,  0.0684, -0.0635, -0.0469,\n",
              "                       0.0836, -0.0784,  0.0438,  0.0388, -0.0577, -0.0820, -0.0634,  0.0097,\n",
              "                      -0.1150,  0.0092,  0.0006, -0.1040, -0.1046, -0.0925,  0.0742,  0.0539,\n",
              "                       0.0791, -0.0469,  0.0340, -0.0851,  0.1143,  0.0432,  0.0191, -0.0084,\n",
              "                       0.0429,  0.0957, -0.0819, -0.0749,  0.0049,  0.0964, -0.0350,  0.0742,\n",
              "                       0.0607,  0.0959,  0.0848,  0.0492,  0.0522, -0.1222, -0.0251, -0.0489,\n",
              "                      -0.1208,  0.0220, -0.0652,  0.0814,  0.1153,  0.1223, -0.0638, -0.1205,\n",
              "                      -0.0129, -0.0683,  0.0028,  0.0688, -0.1047,  0.1164,  0.0314, -0.0452,\n",
              "                       0.0390, -0.0194, -0.1060, -0.1132, -0.0569,  0.0236,  0.1237, -0.0003,\n",
              "                       0.0939,  0.1117,  0.0839,  0.0893,  0.1090, -0.0982, -0.0538, -0.1013,\n",
              "                      -0.0604,  0.0553,  0.0519,  0.0963, -0.1208, -0.0228,  0.0189, -0.0683,\n",
              "                       0.1116, -0.0557,  0.0349,  0.1082,  0.0313, -0.0051, -0.0220,  0.0788,\n",
              "                       0.0753,  0.1085,  0.1234, -0.0123,  0.0595,  0.0065,  0.0618,  0.1237,\n",
              "                      -0.0401, -0.0510, -0.0014, -0.0106, -0.0574, -0.0034,  0.0203, -0.0435,\n",
              "                       0.0415, -0.0282, -0.0509, -0.1021,  0.1100,  0.1168,  0.0420,  0.0859,\n",
              "                       0.1042,  0.0301,  0.0674, -0.0420, -0.0738,  0.1080, -0.0261,  0.0617,\n",
              "                       0.0219,  0.0271, -0.0362,  0.0037,  0.0097,  0.0549, -0.0381, -0.0789,\n",
              "                       0.0967, -0.0378, -0.0418,  0.0889, -0.0744, -0.0128,  0.1047,  0.0651,\n",
              "                       0.1059,  0.0514, -0.0760, -0.0489, -0.0227,  0.0397, -0.0806, -0.0206,\n",
              "                       0.0024,  0.1219, -0.1231,  0.0486,  0.0646, -0.0274, -0.0791, -0.0404,\n",
              "                      -0.0170,  0.0333, -0.0879, -0.1001,  0.0960,  0.0353, -0.0625,  0.0898,\n",
              "                       0.0242, -0.0500, -0.0225, -0.0477, -0.0207,  0.0154,  0.0614, -0.0612,\n",
              "                      -0.1131,  0.0212, -0.0926, -0.0575, -0.0639, -0.0426,  0.0112,  0.0445,\n",
              "                       0.1246, -0.0281, -0.0188, -0.0393,  0.1145,  0.0350, -0.1141,  0.1059],\n",
              "                     device='cuda:0')),\n",
              "             ('lstm.bias_hh_l0',\n",
              "              tensor([ 1.2210e-01, -7.7490e-02,  1.1472e-01, -7.8480e-02, -6.1289e-03,\n",
              "                       1.0145e-01, -1.0672e-01, -1.1742e-01, -6.2082e-02,  8.8876e-02,\n",
              "                      -4.0620e-02,  7.2269e-02,  3.8904e-02,  4.8278e-02, -5.8585e-03,\n",
              "                      -4.5019e-02, -3.0269e-02, -1.9206e-02,  1.1327e-01, -1.0603e-01,\n",
              "                       4.7830e-02,  1.3907e-02,  3.2295e-02,  4.5857e-02,  8.8572e-02,\n",
              "                       3.6577e-02, -1.1715e-01, -5.7889e-02, -6.0770e-02,  5.4475e-02,\n",
              "                      -1.2387e-01, -1.1403e-01, -4.8662e-02, -4.4426e-02,  8.6935e-02,\n",
              "                      -4.0785e-02,  3.3670e-02, -7.6420e-02,  7.4695e-02, -8.6873e-02,\n",
              "                       1.2309e-01,  5.5991e-03,  1.0415e-01,  5.0802e-02, -5.5484e-02,\n",
              "                      -2.8987e-02, -1.0729e-01, -9.6733e-02,  9.8881e-02,  1.2197e-01,\n",
              "                       7.0205e-02, -6.0282e-03, -1.1689e-01, -1.1824e-01,  5.1779e-02,\n",
              "                      -9.0767e-03, -1.0520e-01, -8.0499e-02, -5.1964e-02,  6.1099e-02,\n",
              "                      -8.7979e-03,  1.1774e-01, -7.9673e-02, -1.1408e-02,  1.0331e-01,\n",
              "                      -9.4057e-03,  3.7888e-03, -7.4739e-02, -1.1009e-01,  1.0903e-01,\n",
              "                      -7.9935e-02, -9.3695e-02, -1.1241e-01,  4.9871e-02, -8.5952e-02,\n",
              "                       1.0578e-02,  7.6895e-03, -1.1871e-02,  7.1119e-02, -8.8991e-02,\n",
              "                       3.2631e-02, -6.9353e-02,  1.1927e-01, -1.8510e-02, -5.2300e-02,\n",
              "                       9.4328e-02,  1.3289e-02, -7.7841e-02,  1.1862e-01,  6.9601e-02,\n",
              "                       1.0520e-01, -6.0218e-02,  1.9553e-02,  7.7828e-02,  9.8212e-02,\n",
              "                      -1.0513e-01,  1.2375e-01,  1.1161e-01,  3.8599e-02,  8.2365e-02,\n",
              "                       5.2124e-02, -9.7974e-02, -6.6293e-02,  3.5789e-02, -5.1684e-02,\n",
              "                      -4.6294e-02, -5.3862e-02,  2.1784e-02, -6.2578e-02, -5.3785e-02,\n",
              "                      -1.0451e-01, -3.9728e-02,  6.3243e-02,  3.3932e-02,  1.1783e-01,\n",
              "                       2.0435e-02, -2.8133e-02, -7.1429e-02, -9.2782e-02, -5.9857e-02,\n",
              "                      -1.2148e-01,  3.9346e-02, -1.7406e-02, -5.5859e-02, -6.8616e-02,\n",
              "                       8.7752e-02, -5.1445e-02, -6.1056e-02, -8.4047e-02,  1.0316e-01,\n",
              "                      -7.9157e-02,  1.1212e-01,  2.7587e-02,  1.2187e-01,  5.9801e-02,\n",
              "                      -9.5570e-02,  8.0696e-02, -2.2220e-02,  8.5012e-02,  4.7200e-02,\n",
              "                      -2.0864e-02, -4.4230e-02, -8.7010e-02, -7.2490e-02, -6.1950e-02,\n",
              "                       4.5867e-02,  9.0053e-02,  4.4867e-02,  8.9741e-02, -8.8166e-02,\n",
              "                      -1.1321e-01,  2.5036e-02, -9.8440e-02,  5.5030e-02,  3.9193e-02,\n",
              "                       4.2351e-02, -3.5303e-02, -4.8923e-02,  3.3920e-02,  5.5011e-02,\n",
              "                      -5.8326e-02, -5.9480e-02, -9.3786e-02, -5.8967e-02, -1.1229e-01,\n",
              "                      -1.1933e-01,  1.0093e-02, -3.4024e-03, -5.8367e-03, -2.7325e-02,\n",
              "                      -4.6202e-03, -1.0760e-01,  1.5787e-02,  8.8039e-02, -1.2609e-02,\n",
              "                       9.0836e-02, -7.5861e-02,  4.3684e-02, -7.8437e-02,  1.1045e-01,\n",
              "                      -9.5823e-02, -1.2011e-01, -8.2931e-02,  1.7963e-02, -1.2097e-02,\n",
              "                      -3.7087e-02,  7.6509e-02, -3.6984e-02,  8.7649e-02, -1.1418e-02,\n",
              "                      -8.2236e-03,  3.7508e-03,  9.7848e-04, -1.8791e-02, -8.9898e-02,\n",
              "                      -6.9288e-02, -5.0619e-02, -6.9008e-02, -8.5533e-02, -7.3423e-03,\n",
              "                      -5.9378e-02, -1.0949e-01, -7.1700e-02, -1.1559e-01,  8.9127e-02,\n",
              "                      -8.6379e-02,  3.5674e-02,  1.0281e-01,  5.7061e-02, -4.1849e-02,\n",
              "                      -3.3036e-02,  9.6984e-02,  5.7006e-02,  5.6042e-02,  7.3941e-02,\n",
              "                       4.4219e-02,  1.0405e-02, -5.5181e-02, -7.0701e-02,  1.0363e-01,\n",
              "                      -4.6733e-02, -7.4800e-02,  6.3318e-02, -5.3806e-02,  7.7234e-02,\n",
              "                      -5.3388e-02, -1.0880e-01, -7.8292e-02,  8.0347e-02,  9.1750e-02,\n",
              "                      -6.8570e-02,  3.2818e-02, -6.3399e-02,  4.3654e-02,  3.0296e-02,\n",
              "                       2.0259e-02,  1.0312e-01, -4.6527e-02, -1.0709e-01,  5.2527e-02,\n",
              "                      -7.7292e-02,  5.4855e-03, -3.6893e-02, -3.1003e-02,  1.4671e-02,\n",
              "                      -8.1558e-02,  2.6177e-02,  6.3095e-02, -2.8997e-02, -1.0561e-01,\n",
              "                       1.1757e-04, -4.3635e-02,  1.2152e-01,  6.9013e-02,  8.2986e-02,\n",
              "                      -1.6143e-02], device='cuda:0')),\n",
              "             ('lstm.weight_ih_l0_reverse',\n",
              "              tensor([[ 0.1162, -0.0829,  0.0854,  ...,  0.1115,  0.0850,  0.0902],\n",
              "                      [ 0.0395,  0.0733,  0.0716,  ...,  0.0773, -0.1139,  0.0376],\n",
              "                      [-0.0459, -0.0514, -0.0077,  ..., -0.0518,  0.0474, -0.0161],\n",
              "                      ...,\n",
              "                      [ 0.0683, -0.0641,  0.0986,  ...,  0.0185, -0.0417,  0.0564],\n",
              "                      [ 0.0191, -0.0435,  0.0199,  ...,  0.0261, -0.0348, -0.0865],\n",
              "                      [ 0.0487,  0.0792,  0.0568,  ...,  0.0959, -0.0242, -0.0532]],\n",
              "                     device='cuda:0')),\n",
              "             ('lstm.weight_hh_l0_reverse',\n",
              "              tensor([[ 0.0330, -0.0457, -0.0571,  ...,  0.0334, -0.0627, -0.1017],\n",
              "                      [-0.0775, -0.1019, -0.1076,  ...,  0.0022,  0.0525,  0.0263],\n",
              "                      [-0.1160,  0.0326, -0.1106,  ..., -0.1096, -0.1060,  0.1026],\n",
              "                      ...,\n",
              "                      [ 0.0709, -0.0081, -0.0580,  ..., -0.0150, -0.0355, -0.0229],\n",
              "                      [-0.0641,  0.0370,  0.0928,  ..., -0.0451, -0.0666,  0.0279],\n",
              "                      [-0.0865, -0.0095,  0.0606,  ..., -0.0760, -0.0827,  0.0171]],\n",
              "                     device='cuda:0')),\n",
              "             ('lstm.bias_ih_l0_reverse',\n",
              "              tensor([-5.8646e-02,  8.0838e-02,  1.1171e-01,  4.7193e-02, -1.9347e-02,\n",
              "                       2.7380e-02,  1.1388e-01,  8.4951e-02,  8.0819e-02, -3.8521e-02,\n",
              "                       8.8820e-02,  8.1388e-02,  7.1519e-02, -2.8023e-02, -8.2197e-02,\n",
              "                      -3.0386e-02, -7.8283e-02, -2.2240e-02,  1.7917e-02, -8.2365e-03,\n",
              "                       7.4362e-03,  3.4681e-02,  6.7595e-02, -4.4884e-02, -5.8322e-02,\n",
              "                       8.3782e-02, -5.1558e-02,  3.4877e-02, -1.1336e-02, -9.2317e-02,\n",
              "                       3.3350e-02,  1.0606e-01, -9.6444e-02, -4.4761e-02, -1.0099e-01,\n",
              "                      -3.3718e-02,  6.2498e-02,  8.8945e-02,  7.7290e-02,  1.2152e-01,\n",
              "                       7.6044e-02, -7.8350e-02, -1.5703e-02, -2.3814e-03, -1.1471e-01,\n",
              "                       1.1561e-02,  1.0690e-01,  9.9840e-03, -7.5557e-02, -4.7085e-02,\n",
              "                       1.3389e-02,  6.8271e-02,  8.7939e-02,  3.3892e-02,  8.9374e-03,\n",
              "                      -2.2521e-02, -2.9422e-02,  4.9641e-02,  1.2291e-01, -1.3020e-02,\n",
              "                      -4.0428e-02,  8.4023e-02, -4.5630e-03,  7.3438e-02,  3.8588e-02,\n",
              "                       5.2360e-03, -8.5773e-02, -4.4340e-02, -4.9346e-02, -1.1295e-01,\n",
              "                      -1.0661e-01, -8.7981e-02, -9.6729e-02,  1.2494e-01, -7.3810e-02,\n",
              "                      -8.3917e-03,  3.4761e-02,  1.5871e-03,  1.1501e-01, -7.4455e-02,\n",
              "                      -9.0335e-02, -8.2863e-02, -7.5154e-02,  1.0207e-01,  4.4568e-02,\n",
              "                      -1.1330e-01,  1.0336e-01, -1.3800e-02, -6.4417e-02, -6.5044e-02,\n",
              "                      -1.2298e-01, -7.4526e-02,  3.0507e-04,  1.1949e-01,  1.1517e-01,\n",
              "                       2.5618e-02,  1.1456e-01, -4.7773e-02, -1.0626e-01,  7.8730e-02,\n",
              "                       6.9892e-02,  5.4617e-02,  3.8979e-02,  5.2599e-02,  6.8671e-02,\n",
              "                      -9.6276e-02, -8.2489e-02,  1.8326e-02, -3.2345e-02,  3.5139e-03,\n",
              "                       8.5575e-02, -7.8011e-04, -1.1388e-01, -8.1786e-02,  3.9726e-02,\n",
              "                      -7.5492e-02, -4.0457e-02,  2.9145e-02, -3.1923e-02, -9.0519e-02,\n",
              "                      -2.8620e-02, -1.0756e-01,  1.0587e-01,  5.7356e-02,  1.1994e-01,\n",
              "                       6.1301e-02, -9.5977e-02, -1.0995e-01,  4.8109e-02, -9.9701e-02,\n",
              "                      -1.2877e-02, -6.4468e-02,  2.0892e-02, -2.6915e-02, -5.9256e-02,\n",
              "                      -9.1837e-02,  9.7895e-02, -7.0890e-02, -1.0241e-01,  1.9932e-02,\n",
              "                       9.5285e-02, -8.9391e-02, -9.6791e-02,  3.3666e-02, -1.2265e-01,\n",
              "                      -9.0458e-02, -2.4862e-02, -1.1242e-01, -5.2302e-02,  9.6937e-02,\n",
              "                       3.5520e-02,  5.4080e-02,  4.0022e-03, -6.1893e-03, -2.0092e-02,\n",
              "                       4.3292e-02,  1.3996e-02, -1.0883e-03,  4.1856e-02, -8.9986e-02,\n",
              "                       8.6782e-02,  1.2203e-01, -3.1942e-02, -9.9343e-02,  6.4046e-03,\n",
              "                      -6.6459e-05,  1.0546e-01, -1.8242e-02,  4.0539e-02, -7.3769e-02,\n",
              "                       1.0906e-01, -9.2181e-02,  1.1218e-01,  7.8446e-02,  3.3400e-03,\n",
              "                       1.1891e-01, -1.1626e-01, -2.1108e-02, -1.1884e-01, -7.6933e-02,\n",
              "                       4.4242e-03, -1.6790e-02,  4.0122e-02,  5.7983e-02,  6.6448e-02,\n",
              "                      -6.3327e-02,  1.2199e-01,  5.4509e-02, -1.1108e-01, -2.7604e-02,\n",
              "                      -5.5525e-02, -1.9967e-02,  9.2297e-02,  3.8673e-02, -2.3864e-02,\n",
              "                      -4.4396e-02,  8.7783e-02,  1.0968e-01, -1.0069e-01, -3.2951e-02,\n",
              "                       7.8511e-02, -9.4351e-03,  7.5221e-02,  1.5192e-02,  1.7636e-02,\n",
              "                       5.6363e-02, -2.6982e-02, -2.5028e-02, -8.1665e-02,  1.0475e-01,\n",
              "                       9.9977e-02,  7.1942e-02, -2.1977e-02,  1.0465e-01, -1.0467e-01,\n",
              "                      -4.7546e-02, -9.3440e-02,  7.3810e-02,  3.3623e-02,  6.2286e-02,\n",
              "                       1.0350e-01,  4.7439e-02,  4.8614e-02, -1.1072e-01, -8.1868e-02,\n",
              "                      -1.1671e-01,  4.6207e-02,  2.3244e-02, -5.3452e-02, -4.7937e-02,\n",
              "                       9.7225e-02, -7.6164e-02, -2.5228e-04, -1.7636e-02, -7.9449e-02,\n",
              "                       9.1967e-02,  5.1608e-02, -2.4187e-02,  5.8787e-02,  5.8380e-02,\n",
              "                       1.0269e-01,  1.0712e-01,  3.8728e-02, -1.1155e-01,  6.9728e-02,\n",
              "                      -5.9113e-02, -8.8874e-02, -3.7045e-02,  7.7445e-02,  1.2443e-01,\n",
              "                      -8.7268e-02, -4.2307e-02,  9.7368e-02,  3.6605e-03,  1.0205e-01,\n",
              "                      -2.2851e-02], device='cuda:0')),\n",
              "             ('lstm.bias_hh_l0_reverse',\n",
              "              tensor([-1.7872e-02,  7.6886e-02, -1.8337e-02, -6.9415e-02, -8.0752e-02,\n",
              "                       1.1472e-01,  8.8840e-02,  7.5166e-02,  2.1162e-02, -9.6536e-02,\n",
              "                       1.1804e-01, -1.6947e-02, -1.2161e-01, -1.0561e-01, -2.5607e-02,\n",
              "                      -7.5876e-03, -3.6550e-02,  9.2792e-02, -7.9756e-02,  6.5265e-02,\n",
              "                      -7.5908e-02, -8.9648e-02,  1.0269e-01,  1.1804e-01, -4.6375e-02,\n",
              "                       1.5757e-03,  2.7706e-02, -1.1614e-01,  8.3430e-02,  7.7140e-02,\n",
              "                      -1.0613e-02,  8.7177e-02,  9.4740e-02, -3.8941e-02, -1.1366e-01,\n",
              "                       1.7116e-02, -4.7419e-02, -9.0126e-02,  9.9115e-02, -9.3869e-02,\n",
              "                       4.6533e-02,  5.1218e-03,  9.1689e-03,  7.6458e-02,  1.0079e-01,\n",
              "                      -8.5474e-02,  7.1077e-02, -1.1663e-01, -4.3516e-02,  9.0014e-02,\n",
              "                      -5.5442e-02, -3.9074e-03, -1.3210e-02,  4.9449e-02, -6.0135e-02,\n",
              "                      -3.3917e-02,  1.3348e-02,  2.4379e-02, -7.3486e-02, -3.6390e-02,\n",
              "                      -6.1659e-02, -4.0010e-02, -9.2032e-02,  6.0464e-03,  4.0707e-02,\n",
              "                      -8.9217e-02,  5.2317e-02,  1.1717e-01, -1.9669e-02,  1.1574e-01,\n",
              "                      -9.9227e-02,  7.1460e-02,  1.1252e-01,  1.2064e-02, -5.5460e-02,\n",
              "                      -3.7611e-02, -6.8061e-02,  7.0015e-02,  4.3296e-02, -6.4084e-02,\n",
              "                       5.3520e-02, -1.1312e-01, -1.0486e-01, -9.1868e-02, -1.0709e-01,\n",
              "                       1.1592e-01,  8.7427e-02,  1.1559e-01,  2.3133e-02,  6.8253e-02,\n",
              "                      -1.0755e-01,  2.1821e-02,  6.1901e-02, -6.8247e-02, -2.3995e-02,\n",
              "                       1.1086e-01, -1.5008e-02,  5.6559e-02, -9.0723e-02,  5.3362e-02,\n",
              "                       4.4543e-03, -1.0279e-01,  5.3060e-02,  5.8048e-02,  3.2033e-02,\n",
              "                      -5.1346e-02,  7.2937e-03,  9.7227e-02, -6.2036e-02, -6.0584e-02,\n",
              "                       5.3639e-02,  2.5462e-02, -2.6602e-02,  2.0566e-02,  1.0285e-01,\n",
              "                      -1.0461e-01, -7.7105e-02,  6.1817e-02,  1.2742e-02,  1.2126e-01,\n",
              "                      -2.5094e-02,  1.2153e-01,  1.1256e-01, -2.0169e-02,  9.1720e-02,\n",
              "                       1.2226e-01,  1.0712e-01,  8.1434e-02,  8.1779e-02,  8.4943e-02,\n",
              "                       1.2062e-01, -5.3157e-02, -1.1062e-01,  9.3839e-02,  1.1253e-01,\n",
              "                       2.2838e-02, -1.0014e-01,  1.2220e-01,  1.0901e-01,  8.1213e-04,\n",
              "                       7.8722e-02,  1.0777e-01, -1.0897e-01, -1.0819e-01,  1.1719e-01,\n",
              "                      -1.2125e-02,  3.2577e-02,  7.3130e-02, -6.0243e-02, -8.3639e-02,\n",
              "                      -9.2118e-02, -8.1463e-02,  8.8825e-02, -7.5791e-02,  1.1990e-01,\n",
              "                      -1.1136e-01, -9.3795e-03, -5.8971e-02,  5.9891e-02,  1.1413e-01,\n",
              "                       4.0169e-03, -7.2199e-02, -5.7690e-02,  1.2556e-02, -2.3870e-02,\n",
              "                      -2.5938e-02, -4.0016e-02, -9.3657e-02, -2.0973e-02, -4.6476e-02,\n",
              "                      -1.2450e-01,  1.2238e-01, -5.3728e-02,  2.9973e-02, -6.9986e-02,\n",
              "                       7.9453e-02, -2.3055e-02, -3.1839e-02,  1.1283e-01, -9.5600e-02,\n",
              "                      -6.2174e-02,  1.2080e-01,  9.6002e-02, -4.0408e-02,  1.2439e-01,\n",
              "                       4.8106e-02,  6.6500e-02, -1.1196e-01,  1.0603e-01,  7.9620e-02,\n",
              "                       2.9508e-03,  5.8091e-03, -9.1113e-02,  8.4079e-02, -3.4237e-02,\n",
              "                       2.1367e-03,  8.8663e-02, -3.0670e-02, -1.0915e-01,  4.6624e-02,\n",
              "                       6.3603e-02, -1.0935e-01,  5.7459e-02,  8.5424e-02, -5.6591e-02,\n",
              "                       1.1418e-01, -5.7226e-02,  5.3702e-02, -4.2311e-02, -4.9416e-02,\n",
              "                       5.7820e-02, -1.1771e-01, -3.8470e-02, -9.7419e-02,  5.9138e-02,\n",
              "                      -4.3951e-02, -1.1785e-01, -7.6802e-03, -9.8460e-02, -9.5685e-02,\n",
              "                       3.0288e-02, -9.0405e-02,  8.6942e-02, -6.2149e-02,  1.1502e-01,\n",
              "                      -1.1016e-01, -6.4099e-02,  1.2297e-01,  9.6089e-02, -2.5853e-02,\n",
              "                       9.2844e-02,  4.8461e-02, -6.2102e-02, -6.0927e-02, -3.4877e-02,\n",
              "                      -8.3544e-02,  7.9427e-02,  9.0406e-02,  7.8848e-02, -7.7340e-02,\n",
              "                       5.4765e-02, -8.8490e-02,  6.3618e-02, -7.8246e-02,  7.4117e-04,\n",
              "                      -5.5067e-02, -1.1066e-01,  3.9541e-02, -1.4484e-05, -1.6325e-02,\n",
              "                       1.0222e-01,  5.6996e-02,  3.8336e-02, -5.8399e-02, -2.7017e-02,\n",
              "                      -3.2550e-02], device='cuda:0')),\n",
              "             ('lstm.weight_ih_l1',\n",
              "              tensor([[ 1.0218e-01, -8.2987e-02,  8.6711e-04,  ..., -4.8097e-02,\n",
              "                        1.2199e-01, -8.9398e-02],\n",
              "                      [ 2.7663e-02, -8.0850e-02,  4.8625e-02,  ...,  1.1353e-01,\n",
              "                       -5.7699e-02, -4.6208e-03],\n",
              "                      [ 3.9812e-02, -2.6468e-02, -4.9079e-02,  ..., -1.1080e-01,\n",
              "                        2.6371e-02, -5.8307e-02],\n",
              "                      ...,\n",
              "                      [ 3.2141e-02,  1.2434e-01, -7.7009e-02,  ...,  4.2395e-02,\n",
              "                       -5.0623e-02, -9.7434e-02],\n",
              "                      [-1.0244e-01,  3.7587e-02, -8.3103e-02,  ..., -2.2636e-02,\n",
              "                        1.1568e-01,  1.0827e-01],\n",
              "                      [-2.6792e-05,  1.9288e-02, -1.9237e-02,  ..., -4.1477e-02,\n",
              "                        6.2061e-02, -2.9589e-04]], device='cuda:0')),\n",
              "             ('lstm.weight_hh_l1',\n",
              "              tensor([[ 0.0488, -0.0317, -0.1217,  ...,  0.1223,  0.0250, -0.0198],\n",
              "                      [ 0.0855, -0.0004,  0.0303,  ..., -0.0985,  0.0332,  0.0339],\n",
              "                      [ 0.1072, -0.0023,  0.1092,  ...,  0.0823,  0.1237,  0.0902],\n",
              "                      ...,\n",
              "                      [-0.1052, -0.0391,  0.0082,  ..., -0.0540,  0.0032, -0.0999],\n",
              "                      [-0.0685, -0.1223, -0.0777,  ...,  0.0175, -0.0264,  0.0179],\n",
              "                      [ 0.0590, -0.0093, -0.0577,  ...,  0.0550, -0.0301, -0.0528]],\n",
              "                     device='cuda:0')),\n",
              "             ('lstm.bias_ih_l1',\n",
              "              tensor([ 0.0743, -0.0586,  0.1186, -0.1154, -0.0649,  0.0628, -0.1195,  0.0083,\n",
              "                       0.0877,  0.0882, -0.0839,  0.0911, -0.0896, -0.1243,  0.1059,  0.0449,\n",
              "                       0.1173,  0.0175,  0.1164,  0.0486,  0.0735, -0.0959, -0.0534,  0.1146,\n",
              "                      -0.0175,  0.0019,  0.0304, -0.0134,  0.0586, -0.1006, -0.1236, -0.0322,\n",
              "                      -0.0886, -0.0198,  0.0848, -0.0035, -0.0107, -0.0982,  0.0597, -0.0284,\n",
              "                      -0.0673, -0.1092, -0.1198, -0.0839, -0.1121,  0.0538, -0.0760,  0.0119,\n",
              "                      -0.0463,  0.0891,  0.0125,  0.0763,  0.0266, -0.0709,  0.0386,  0.0933,\n",
              "                       0.0024, -0.0760, -0.0475, -0.0846,  0.0379,  0.0743, -0.0631,  0.1151,\n",
              "                      -0.1101, -0.0731, -0.0762,  0.1038, -0.1224, -0.1165,  0.0253,  0.0264,\n",
              "                       0.0587, -0.0207, -0.0088,  0.0052,  0.0245, -0.1013,  0.1016, -0.0985,\n",
              "                      -0.0418,  0.0039,  0.0920,  0.0944, -0.1167,  0.0064, -0.1026, -0.0800,\n",
              "                       0.1009, -0.0443, -0.0003, -0.0746,  0.0628,  0.0572, -0.1225,  0.1030,\n",
              "                       0.1017,  0.0198,  0.1084, -0.1171,  0.0661, -0.1119, -0.0873,  0.0495,\n",
              "                      -0.0808,  0.0449,  0.0992, -0.0764, -0.0815,  0.0568, -0.0230,  0.0976,\n",
              "                       0.1076,  0.1117, -0.1171, -0.0762,  0.0849,  0.0745,  0.0831, -0.0923,\n",
              "                      -0.0729,  0.0503,  0.1082, -0.0803, -0.0080,  0.0479,  0.0485,  0.0192,\n",
              "                       0.1214,  0.0638, -0.0565, -0.0081,  0.0722, -0.0065, -0.1105,  0.1104,\n",
              "                       0.0906,  0.1204,  0.0068, -0.1117, -0.0681,  0.0115,  0.0950,  0.0125,\n",
              "                       0.1096, -0.0957, -0.0027,  0.0769,  0.1148,  0.1039,  0.0081, -0.0036,\n",
              "                      -0.0873,  0.0718,  0.0725, -0.0853,  0.0026, -0.0466,  0.0926, -0.1020,\n",
              "                       0.0774, -0.1088, -0.0343, -0.0573,  0.0912, -0.0928, -0.0369, -0.0468,\n",
              "                      -0.0970,  0.1232, -0.0618,  0.0411,  0.0163,  0.0924,  0.1111,  0.0306,\n",
              "                      -0.0220,  0.0204, -0.0457, -0.1191,  0.1092,  0.0616, -0.0633,  0.0614,\n",
              "                      -0.0479, -0.1166, -0.1121, -0.1242,  0.0473,  0.0066, -0.0572, -0.0684,\n",
              "                      -0.0750,  0.0476, -0.0272, -0.0616,  0.0982, -0.0402, -0.0542,  0.0067,\n",
              "                      -0.0255, -0.0301, -0.1155, -0.0653, -0.0981, -0.0808, -0.0318, -0.0663,\n",
              "                       0.1095,  0.0006, -0.0771,  0.1107,  0.0653, -0.1116,  0.0450, -0.0281,\n",
              "                       0.0712, -0.1195, -0.1159, -0.0801, -0.0321,  0.1226,  0.0915,  0.0210,\n",
              "                      -0.0741,  0.0690, -0.0611,  0.0357,  0.0279, -0.0436,  0.0081, -0.0268,\n",
              "                      -0.1212,  0.1249, -0.1168, -0.0807, -0.0649,  0.0317, -0.0373,  0.1194,\n",
              "                      -0.0386, -0.0604, -0.0575,  0.1130,  0.0003, -0.0324, -0.0032,  0.0085,\n",
              "                       0.0633,  0.0900,  0.0171,  0.0069, -0.1148,  0.0023,  0.0214,  0.0780],\n",
              "                     device='cuda:0')),\n",
              "             ('lstm.bias_hh_l1',\n",
              "              tensor([-0.0542, -0.1242, -0.1244,  0.0317, -0.0424, -0.0363, -0.0112, -0.0334,\n",
              "                       0.1246, -0.1157, -0.0728, -0.1113, -0.0526, -0.1162,  0.0970, -0.0645,\n",
              "                      -0.1160, -0.0105,  0.0781,  0.0840,  0.0852, -0.0641, -0.0075,  0.0040,\n",
              "                      -0.0092,  0.0529,  0.0424,  0.0876,  0.0077,  0.0431,  0.0648, -0.1153,\n",
              "                       0.0081,  0.0064, -0.0767,  0.0691,  0.1036,  0.0055, -0.0826,  0.0933,\n",
              "                      -0.0738,  0.1022,  0.0251, -0.0669,  0.0258, -0.0659, -0.0152, -0.0484,\n",
              "                      -0.0426,  0.0711,  0.1196, -0.0523,  0.0351, -0.0384,  0.0570,  0.0913,\n",
              "                      -0.1009, -0.0967,  0.0016, -0.0495,  0.0798, -0.0634, -0.0811, -0.0265,\n",
              "                      -0.0333,  0.0573,  0.0463, -0.0440,  0.0663, -0.0195,  0.0401, -0.0359,\n",
              "                      -0.0623,  0.0557, -0.0431, -0.0767,  0.0391,  0.0009,  0.0261,  0.0788,\n",
              "                       0.0875, -0.0142,  0.0584, -0.0067, -0.0902,  0.0466, -0.0424,  0.0650,\n",
              "                       0.0179,  0.0154, -0.0960, -0.0923,  0.0746,  0.1080,  0.0595, -0.0212,\n",
              "                      -0.1189,  0.0051, -0.1072, -0.0070, -0.0870,  0.0412, -0.0637, -0.0201,\n",
              "                       0.0329, -0.0047,  0.1096, -0.0391,  0.0381,  0.0549, -0.1150, -0.1028,\n",
              "                      -0.0801,  0.0408,  0.0395, -0.0557,  0.0558,  0.0295,  0.0499,  0.0138,\n",
              "                      -0.0331, -0.0632, -0.0915, -0.0595,  0.0905,  0.0661,  0.0077,  0.1166,\n",
              "                      -0.1005, -0.0292,  0.0386,  0.0886, -0.0005, -0.0730,  0.0689, -0.0859,\n",
              "                      -0.0087,  0.0703,  0.0384,  0.1096,  0.0608,  0.0699,  0.0871,  0.0208,\n",
              "                      -0.0968,  0.0673, -0.0131, -0.0528, -0.0025,  0.0937,  0.1170,  0.1125,\n",
              "                       0.0352, -0.0001, -0.0756,  0.0766,  0.0259, -0.1028,  0.0644, -0.0068,\n",
              "                       0.0004,  0.1142,  0.0876, -0.0446,  0.0032, -0.1231,  0.0355, -0.0115,\n",
              "                      -0.0279,  0.0222,  0.0392, -0.0302, -0.0302, -0.0352, -0.0777,  0.1170,\n",
              "                       0.0639,  0.0750,  0.0492, -0.0094,  0.0613, -0.1100,  0.0445, -0.0017,\n",
              "                      -0.0679, -0.1007, -0.0650, -0.0195, -0.1164, -0.0902, -0.1202, -0.0378,\n",
              "                      -0.0711, -0.0544,  0.0618,  0.0241,  0.0572, -0.0651, -0.0643, -0.0202,\n",
              "                       0.0577,  0.0954,  0.0374, -0.0301,  0.1121,  0.0686,  0.1239, -0.0102,\n",
              "                      -0.0480,  0.0835, -0.0621,  0.0509,  0.0097, -0.0160,  0.0920,  0.0587,\n",
              "                       0.0078,  0.0531,  0.0307, -0.0053, -0.0854,  0.0125, -0.0223,  0.1226,\n",
              "                       0.1073,  0.0117, -0.1055,  0.0190, -0.0661,  0.0357,  0.0629,  0.0455,\n",
              "                       0.1073,  0.0220,  0.0361, -0.0109, -0.0716,  0.0081,  0.1102, -0.1169,\n",
              "                      -0.1174, -0.0601,  0.0972,  0.1179, -0.0437,  0.0314,  0.0246, -0.0901,\n",
              "                      -0.0558,  0.0501, -0.0104, -0.0738,  0.1146,  0.0953, -0.0299, -0.1024],\n",
              "                     device='cuda:0')),\n",
              "             ('lstm.weight_ih_l1_reverse',\n",
              "              tensor([[ 0.0947, -0.1196,  0.0872,  ..., -0.0973, -0.0540,  0.0809],\n",
              "                      [ 0.0480,  0.1135,  0.0264,  ...,  0.1205, -0.0918,  0.0560],\n",
              "                      [ 0.0384, -0.0808, -0.0537,  ..., -0.0668,  0.1054, -0.0589],\n",
              "                      ...,\n",
              "                      [ 0.0882, -0.0983,  0.0581,  ..., -0.0269,  0.0299,  0.0948],\n",
              "                      [ 0.0331, -0.0032,  0.0455,  ..., -0.0107, -0.0061,  0.0446],\n",
              "                      [-0.0792,  0.1177,  0.1231,  ..., -0.0554,  0.0458,  0.0880]],\n",
              "                     device='cuda:0')),\n",
              "             ('lstm.weight_hh_l1_reverse',\n",
              "              tensor([[ 0.0864,  0.0834,  0.0563,  ..., -0.0281, -0.1070, -0.0556],\n",
              "                      [-0.0086, -0.0664,  0.0130,  ...,  0.1009, -0.0609, -0.0575],\n",
              "                      [ 0.1132, -0.1075,  0.0982,  ...,  0.1067,  0.0374, -0.0688],\n",
              "                      ...,\n",
              "                      [-0.0753, -0.0550, -0.0885,  ...,  0.0318,  0.0217,  0.1093],\n",
              "                      [-0.0337, -0.0159,  0.1209,  ..., -0.0194,  0.0054, -0.0144],\n",
              "                      [-0.0741,  0.0415,  0.0958,  ...,  0.0671, -0.0060, -0.0820]],\n",
              "                     device='cuda:0')),\n",
              "             ('lstm.bias_ih_l1_reverse',\n",
              "              tensor([ 8.9557e-02,  1.0185e-01, -9.3327e-02,  8.2159e-02, -5.4249e-02,\n",
              "                      -1.4476e-02, -9.4206e-02,  3.1375e-02, -1.6900e-02,  7.2847e-03,\n",
              "                      -1.2174e-01,  7.0178e-02, -7.2216e-02, -9.2623e-03, -8.9587e-02,\n",
              "                      -3.6939e-02,  7.7469e-02,  4.3650e-02, -5.1571e-02,  8.9942e-02,\n",
              "                      -2.8627e-02, -3.1816e-02,  1.0626e-01, -8.0488e-02,  9.7961e-02,\n",
              "                      -7.4059e-02,  5.6611e-02,  1.1630e-01,  3.7547e-02,  2.6154e-02,\n",
              "                       9.6021e-02,  4.8755e-02,  2.9556e-02, -1.4493e-02,  2.4231e-02,\n",
              "                      -4.9852e-02,  5.4370e-02,  5.6882e-02,  1.0429e-01, -9.0175e-02,\n",
              "                      -3.3825e-02, -3.5219e-02,  4.9761e-02, -5.7225e-02,  7.0922e-03,\n",
              "                      -3.5877e-02, -6.1630e-02,  3.9187e-02, -8.4639e-03,  5.5623e-02,\n",
              "                       9.1444e-02,  4.7746e-02, -1.1085e-01,  1.1505e-01, -6.8343e-02,\n",
              "                       3.8558e-02, -6.8176e-02, -5.1028e-02, -6.2617e-02,  8.7272e-02,\n",
              "                      -9.7885e-02, -1.0896e-01,  3.7543e-02,  2.3400e-02,  5.7699e-02,\n",
              "                      -8.9320e-02, -1.1125e-02, -5.4370e-02,  4.2528e-02, -4.2809e-02,\n",
              "                      -8.9720e-02,  6.2050e-02,  9.9837e-02, -2.1756e-02, -1.0920e-01,\n",
              "                       6.4132e-02,  1.0225e-01,  3.0857e-02, -2.4652e-02,  7.0952e-03,\n",
              "                      -1.2338e-01, -3.7513e-02, -1.2189e-01, -9.0968e-02,  7.4807e-02,\n",
              "                       1.6068e-02, -5.4536e-02,  1.1900e-01, -7.5449e-02,  1.1563e-01,\n",
              "                      -2.8422e-02,  2.8921e-02, -6.6853e-02,  4.9538e-03, -1.1581e-01,\n",
              "                      -5.6425e-02,  4.9223e-02,  9.1797e-02,  6.5267e-02, -1.0038e-02,\n",
              "                       3.4795e-02,  1.2000e-01,  1.0176e-02,  5.2724e-02,  3.6185e-02,\n",
              "                      -5.3276e-02, -2.1536e-02, -7.6256e-02, -2.9468e-02,  1.0779e-01,\n",
              "                      -6.0579e-02, -9.2178e-03,  4.4606e-02,  1.9419e-02, -9.7095e-02,\n",
              "                      -9.4228e-02, -8.6847e-02,  2.2588e-02, -1.3980e-02, -5.1576e-02,\n",
              "                      -8.8151e-02,  1.6418e-02,  6.3739e-02,  9.5792e-02, -5.8112e-02,\n",
              "                       2.2723e-02, -4.0516e-02, -3.2980e-02, -6.8644e-02,  5.1257e-03,\n",
              "                       1.2328e-01, -5.5111e-02,  8.6365e-02, -1.1829e-01,  1.2032e-01,\n",
              "                      -5.0407e-02,  4.1840e-02,  3.7778e-02,  3.7985e-02, -3.8965e-02,\n",
              "                      -8.9687e-02,  6.0107e-03,  1.0205e-01, -7.2324e-02,  5.3313e-02,\n",
              "                      -4.8865e-02, -2.4996e-02, -1.9616e-02,  1.2263e-01, -1.1227e-01,\n",
              "                      -1.0426e-01,  6.4622e-02,  6.5576e-02, -3.9777e-03,  6.3504e-02,\n",
              "                       1.1110e-01,  7.0234e-02,  1.1034e-01,  7.3610e-02,  6.0629e-02,\n",
              "                      -9.2763e-02,  5.0545e-02,  7.0458e-02, -8.2907e-02,  1.8929e-02,\n",
              "                       4.5733e-02,  5.1865e-02,  1.0161e-01,  1.1810e-01,  7.9667e-02,\n",
              "                      -9.3228e-03,  3.9383e-02, -8.7325e-02, -7.7922e-02, -8.3141e-03,\n",
              "                       3.7232e-03, -1.1908e-02, -6.7000e-02,  1.1229e-01,  5.1203e-02,\n",
              "                      -4.8064e-02, -3.4274e-03, -3.8256e-02,  1.2019e-01,  1.2437e-01,\n",
              "                       7.1853e-05, -4.1796e-02, -1.1056e-01,  7.3361e-02,  3.3331e-02,\n",
              "                      -4.7726e-02,  4.3730e-02, -2.3298e-02, -1.1836e-01,  3.4161e-02,\n",
              "                       3.9048e-03, -1.9207e-02, -7.8908e-02, -7.3344e-02, -9.0142e-02,\n",
              "                      -2.5079e-02,  9.6619e-02,  1.2129e-01,  1.1946e-01, -2.2109e-02,\n",
              "                       1.0664e-01, -2.5452e-02, -1.4660e-02, -5.2412e-02, -9.8821e-02,\n",
              "                       2.7495e-02, -4.0604e-02, -1.0377e-02, -9.3611e-02, -1.9836e-02,\n",
              "                       4.7519e-02, -5.9590e-02,  4.7480e-02, -1.1844e-01,  1.0275e-01,\n",
              "                      -2.9267e-02, -8.5628e-02, -1.5477e-03, -9.3944e-02,  5.1149e-02,\n",
              "                      -6.9399e-02,  7.7188e-03, -8.0887e-02, -7.2586e-02,  6.2918e-02,\n",
              "                      -3.0690e-02, -6.6302e-02,  2.5561e-02,  9.0893e-02, -9.8106e-02,\n",
              "                       7.9489e-02,  9.9356e-02, -8.5443e-02, -2.5137e-02, -7.8564e-02,\n",
              "                       1.2019e-01, -2.3735e-02,  8.2823e-02, -1.9351e-04, -2.5830e-02,\n",
              "                      -5.1721e-02, -1.3558e-02, -2.8441e-02, -1.2464e-01,  1.2440e-01,\n",
              "                       3.9134e-02,  4.6647e-02,  2.5951e-02, -1.7612e-03, -1.0203e-02,\n",
              "                       6.0725e-02], device='cuda:0')),\n",
              "             ('lstm.bias_hh_l1_reverse',\n",
              "              tensor([ 0.0073, -0.0665,  0.0451,  0.1006,  0.0471, -0.1089,  0.0135,  0.0824,\n",
              "                      -0.1020,  0.0300,  0.0908, -0.1164,  0.0400,  0.0325,  0.1030, -0.0347,\n",
              "                      -0.0012,  0.1177, -0.1157,  0.0827, -0.0351, -0.0961, -0.0848, -0.0247,\n",
              "                      -0.0333,  0.0888,  0.0313, -0.0968, -0.1240, -0.1186,  0.0292,  0.0753,\n",
              "                       0.0909, -0.0506, -0.0040, -0.1005, -0.1065,  0.0034,  0.0973, -0.0090,\n",
              "                       0.0639, -0.0802, -0.0899, -0.0955,  0.0827, -0.0572, -0.0733, -0.0435,\n",
              "                      -0.0212,  0.0327, -0.0302, -0.0894, -0.0278, -0.1096,  0.0940, -0.0856,\n",
              "                      -0.0992, -0.0052, -0.0789,  0.0624,  0.0739,  0.1135, -0.0658, -0.0346,\n",
              "                       0.0196, -0.0863, -0.0067, -0.0398,  0.0656,  0.0143,  0.1153, -0.0977,\n",
              "                      -0.0259, -0.0806, -0.0973, -0.0600, -0.0869,  0.0872,  0.0713, -0.0518,\n",
              "                      -0.0056,  0.0388,  0.1009, -0.0187, -0.0795,  0.0268, -0.0430,  0.0734,\n",
              "                      -0.0666,  0.0269,  0.0381, -0.0209,  0.1236, -0.0507, -0.0911, -0.0718,\n",
              "                      -0.1098, -0.0622,  0.0162, -0.1203, -0.1102,  0.1005, -0.1066, -0.0137,\n",
              "                      -0.0141,  0.0937,  0.0928, -0.0583,  0.0915,  0.0593,  0.1189, -0.1156,\n",
              "                      -0.1209,  0.1167,  0.1214,  0.1182,  0.0601, -0.0680,  0.0788,  0.0920,\n",
              "                       0.1111, -0.0782, -0.0850, -0.0698, -0.0622, -0.1038,  0.0912,  0.0693,\n",
              "                       0.0769,  0.1225, -0.1159, -0.0759, -0.0345, -0.0467, -0.0871,  0.1244,\n",
              "                      -0.0855, -0.0724,  0.0762,  0.1206,  0.1063,  0.0855, -0.0311, -0.0879,\n",
              "                       0.1081,  0.0289,  0.1061, -0.0873, -0.0709, -0.0037, -0.0042, -0.0475,\n",
              "                      -0.0881,  0.0899,  0.0215,  0.0738,  0.0364, -0.0078, -0.0214, -0.0916,\n",
              "                      -0.0992, -0.0963,  0.1153,  0.0275, -0.0127, -0.0059,  0.0417,  0.0443,\n",
              "                       0.1023,  0.0084, -0.0723,  0.0200,  0.0248, -0.0609,  0.1146, -0.0765,\n",
              "                      -0.0467, -0.0388,  0.0059,  0.0333, -0.0591, -0.0735,  0.0156, -0.0002,\n",
              "                       0.0039, -0.0434, -0.0439, -0.0565, -0.0341,  0.0628,  0.0486, -0.0114,\n",
              "                      -0.0457, -0.0393,  0.0426,  0.0544, -0.0601,  0.0078,  0.1147,  0.0686,\n",
              "                       0.0106,  0.0035, -0.0776,  0.0841,  0.1057, -0.1012,  0.0541, -0.0084,\n",
              "                       0.0958,  0.1159,  0.0585,  0.0456,  0.0889,  0.0690, -0.0139, -0.0807,\n",
              "                       0.0899,  0.1150,  0.0389,  0.0276,  0.0627,  0.1199,  0.1033,  0.0963,\n",
              "                      -0.0076, -0.0252,  0.0293, -0.0656,  0.1026, -0.0233,  0.0690,  0.0015,\n",
              "                      -0.0875,  0.1174,  0.1105, -0.0378,  0.0876, -0.0776, -0.0824,  0.0076,\n",
              "                       0.0917, -0.0093, -0.0951,  0.1164,  0.0560, -0.0095,  0.0955, -0.0981,\n",
              "                      -0.0905, -0.1099, -0.0389, -0.0236,  0.0048,  0.0595,  0.0968, -0.0611],\n",
              "                     device='cuda:0')),\n",
              "             ('fc_layers.0.weight',\n",
              "              tensor([[ 0.0318, -0.0753,  0.0662,  ..., -0.0487, -0.0355,  0.0297],\n",
              "                      [ 0.0202, -0.0019, -0.0576,  ...,  0.0305, -0.0403, -0.0778],\n",
              "                      [ 0.0698,  0.0602, -0.0144,  ...,  0.0094,  0.0691,  0.0689],\n",
              "                      ...,\n",
              "                      [ 0.0180, -0.0560, -0.0538,  ..., -0.0111,  0.0380,  0.0436],\n",
              "                      [-0.0070, -0.0406, -0.0656,  ...,  0.0805, -0.0402,  0.0629],\n",
              "                      [-0.0794, -0.0285, -0.0111,  ...,  0.0266,  0.0279,  0.0737]],\n",
              "                     device='cuda:0')),\n",
              "             ('fc_layers.0.bias',\n",
              "              tensor([-0.0642, -0.0303,  0.0673, -0.0763, -0.0828,  0.0613,  0.0697,  0.0874,\n",
              "                       0.0475, -0.0195,  0.0879, -0.0210, -0.0447,  0.0163, -0.0754,  0.0409,\n",
              "                      -0.0252,  0.0734,  0.0463, -0.0278, -0.0849,  0.0139, -0.0243,  0.0573,\n",
              "                       0.0823, -0.0691, -0.0692, -0.0186,  0.0486,  0.0590,  0.0026,  0.0190,\n",
              "                      -0.0413, -0.0318,  0.0634,  0.0705, -0.0418,  0.0217,  0.0283,  0.0247,\n",
              "                       0.0353,  0.0506,  0.0117, -0.0243,  0.0335, -0.0633,  0.0600, -0.0506,\n",
              "                       0.0158, -0.0229,  0.0136, -0.0539,  0.0100,  0.0437,  0.0555,  0.0634,\n",
              "                       0.0844,  0.0227,  0.0144,  0.0290,  0.0330,  0.0471, -0.0757,  0.0030,\n",
              "                      -0.0635,  0.0222,  0.0187,  0.0238,  0.0297, -0.0741,  0.0431, -0.0236,\n",
              "                       0.0206,  0.0432, -0.0747, -0.0139, -0.0361, -0.0867,  0.0571,  0.0133,\n",
              "                      -0.0647,  0.0496, -0.0358,  0.0029, -0.0745, -0.0188,  0.0720, -0.0409,\n",
              "                      -0.0761,  0.0695,  0.0543, -0.0638, -0.0326,  0.0200,  0.0019, -0.0754,\n",
              "                       0.0572,  0.0735,  0.0794,  0.0163,  0.0163, -0.0640,  0.0154, -0.0352,\n",
              "                       0.0777,  0.0154,  0.0423, -0.0585,  0.0576,  0.0024,  0.0097, -0.0828,\n",
              "                      -0.0639, -0.0186, -0.0512,  0.0050,  0.0394,  0.0411,  0.0271,  0.0397,\n",
              "                      -0.0357, -0.0297,  0.0253, -0.0055, -0.0740,  0.0439,  0.0592, -0.0775],\n",
              "                     device='cuda:0')),\n",
              "             ('fc_layers.2.weight',\n",
              "              tensor([[-0.0135,  0.0498, -0.0539,  ...,  0.0004,  0.0295, -0.0573],\n",
              "                      [-0.0315, -0.0108, -0.0456,  ..., -0.0703, -0.0670,  0.0273],\n",
              "                      [ 0.0054, -0.0304, -0.0785,  ..., -0.0564, -0.0181, -0.0603],\n",
              "                      ...,\n",
              "                      [ 0.0808,  0.0217, -0.0187,  ...,  0.0720,  0.0181, -0.0571],\n",
              "                      [-0.0101, -0.0679, -0.0878,  ...,  0.0808, -0.0865,  0.0807],\n",
              "                      [ 0.0806,  0.0458,  0.0624,  ..., -0.0673,  0.0476, -0.0274]],\n",
              "                     device='cuda:0')),\n",
              "             ('fc_layers.2.bias',\n",
              "              tensor([-0.0427,  0.0401,  0.0347,  0.0411,  0.0795,  0.0175,  0.0432,  0.0240,\n",
              "                      -0.0774,  0.0482,  0.0869,  0.0100, -0.0334, -0.0151, -0.0687, -0.0125,\n",
              "                       0.0447,  0.0620,  0.0327, -0.0570, -0.0365, -0.0440, -0.0252,  0.0829,\n",
              "                      -0.0247, -0.0561, -0.0616, -0.0261,  0.0622,  0.0020,  0.0786, -0.0470,\n",
              "                      -0.0488, -0.0169,  0.0456,  0.0691,  0.0360, -0.0628,  0.0116,  0.0153,\n",
              "                       0.0759,  0.0209,  0.0522,  0.0778, -0.0509, -0.0074, -0.0658, -0.0373,\n",
              "                      -0.0512,  0.0587,  0.0086, -0.0560, -0.0219, -0.0801,  0.0847,  0.0073,\n",
              "                       0.0002, -0.0813,  0.0744,  0.0613, -0.0132,  0.0494,  0.0060, -0.0868],\n",
              "                     device='cuda:0')),\n",
              "             ('fc_layers.4.weight',\n",
              "              tensor([[ 0.0671,  0.0041, -0.0777,  ...,  0.0630, -0.0209,  0.0920],\n",
              "                      [ 0.0858,  0.1014, -0.1089,  ...,  0.1208,  0.0916, -0.1245],\n",
              "                      [ 0.0870, -0.0716,  0.0268,  ...,  0.1202, -0.0886,  0.0395],\n",
              "                      ...,\n",
              "                      [ 0.1109, -0.0142, -0.0415,  ...,  0.0512, -0.0826,  0.0808],\n",
              "                      [-0.0757, -0.0372,  0.0142,  ...,  0.0576, -0.0279,  0.0057],\n",
              "                      [-0.0155,  0.1228, -0.0245,  ..., -0.1213,  0.0512, -0.0222]],\n",
              "                     device='cuda:0')),\n",
              "             ('fc_layers.4.bias',\n",
              "              tensor([-0.1133, -0.0043, -0.1227, -0.0644, -0.1189,  0.0999, -0.0231, -0.0364,\n",
              "                       0.0810, -0.0663,  0.0902, -0.0494, -0.0033,  0.0187,  0.0986,  0.0227,\n",
              "                       0.0487, -0.0822,  0.0288, -0.0075,  0.0306, -0.0320,  0.0976,  0.1217,\n",
              "                       0.1006, -0.0214, -0.1030, -0.1051,  0.0551,  0.0501, -0.1135,  0.0163],\n",
              "                     device='cuda:0')),\n",
              "             ('fc_layers.6.weight',\n",
              "              tensor([[-0.1502,  0.0450,  0.0166,  0.1535, -0.1352, -0.1286, -0.0429, -0.1195,\n",
              "                       -0.1112,  0.1139, -0.0541, -0.1493,  0.0333,  0.0316,  0.1566,  0.0601,\n",
              "                        0.0075,  0.0522,  0.1185,  0.1547, -0.0353,  0.0847, -0.0286,  0.0236,\n",
              "                       -0.0913,  0.0738, -0.0033,  0.0456, -0.0521,  0.1148, -0.1520,  0.0057],\n",
              "                      [-0.0065, -0.0222, -0.0062, -0.1547,  0.0307, -0.1491,  0.1081, -0.1550,\n",
              "                        0.1186,  0.1458,  0.1581,  0.0654,  0.1253,  0.1168,  0.0607,  0.0909,\n",
              "                       -0.1249, -0.0798, -0.1505, -0.1411,  0.1402, -0.0065, -0.1269, -0.1179,\n",
              "                        0.1686, -0.1754,  0.0469,  0.0876,  0.1140,  0.1458,  0.1145, -0.0404],\n",
              "                      [ 0.1639,  0.0452, -0.1139,  0.0054,  0.1258, -0.1078, -0.1161,  0.0612,\n",
              "                       -0.1081, -0.0138, -0.0852,  0.0983, -0.0572, -0.1449, -0.0155,  0.0423,\n",
              "                        0.0957,  0.0182, -0.0730,  0.0426,  0.1559, -0.0331,  0.0193, -0.0050,\n",
              "                       -0.1411, -0.1265, -0.0991, -0.1379,  0.0808, -0.1459,  0.1245,  0.0777],\n",
              "                      [ 0.0615,  0.1652, -0.1526, -0.1251,  0.1667, -0.0906, -0.1367, -0.1303,\n",
              "                       -0.0170,  0.0192,  0.0826, -0.0300,  0.0719, -0.0074,  0.0459, -0.0950,\n",
              "                        0.0720, -0.1142, -0.0630,  0.1745, -0.0725,  0.1491, -0.0250,  0.0431,\n",
              "                        0.0696, -0.1307, -0.1028, -0.1745, -0.0530, -0.1754, -0.0250, -0.1289],\n",
              "                      [-0.1525,  0.0698,  0.1606,  0.0704, -0.0218, -0.0071,  0.0921,  0.1219,\n",
              "                        0.1281,  0.0799, -0.1696,  0.0829, -0.0132,  0.0079,  0.1620, -0.0191,\n",
              "                       -0.0176,  0.1363, -0.1260,  0.1597, -0.1657, -0.0617,  0.0882, -0.1445,\n",
              "                       -0.0628, -0.1597,  0.0376, -0.0181, -0.1084,  0.1639,  0.0658, -0.0905],\n",
              "                      [ 0.1663,  0.0141, -0.0614, -0.0816, -0.0063, -0.0787,  0.1544, -0.0456,\n",
              "                        0.0208,  0.0751, -0.0068, -0.1003,  0.0125, -0.0834,  0.0134,  0.0385,\n",
              "                        0.0688,  0.0628,  0.0414,  0.1342,  0.0008, -0.1252, -0.0013, -0.1095,\n",
              "                       -0.1441, -0.0506,  0.0800,  0.1218,  0.0787,  0.0254,  0.0433, -0.1319],\n",
              "                      [-0.0555,  0.0200,  0.0455, -0.1332,  0.0607,  0.1749,  0.0654,  0.0520,\n",
              "                       -0.0300,  0.1413,  0.1133,  0.0566, -0.0223,  0.0154,  0.0475, -0.0587,\n",
              "                       -0.1170, -0.0646, -0.1752,  0.0547, -0.1537,  0.0863, -0.1524, -0.0757,\n",
              "                       -0.1257, -0.0992,  0.0705, -0.0723, -0.0321, -0.1067, -0.1365,  0.0815],\n",
              "                      [ 0.1683,  0.1646, -0.1281,  0.0909,  0.0546, -0.0345,  0.0371,  0.0383,\n",
              "                       -0.0663,  0.1512, -0.0709,  0.0348, -0.0611, -0.1496,  0.1122, -0.0693,\n",
              "                       -0.0456, -0.0594, -0.0710, -0.1717, -0.1144, -0.0181,  0.0541, -0.1124,\n",
              "                        0.0498,  0.0184, -0.0826,  0.1753,  0.1230, -0.0699,  0.0635, -0.0415],\n",
              "                      [-0.1005,  0.1682, -0.0140,  0.0324,  0.1412, -0.0510, -0.1069,  0.0521,\n",
              "                        0.0426, -0.1180,  0.0873,  0.0548,  0.1221, -0.1159, -0.0817,  0.1689,\n",
              "                       -0.0820, -0.0790, -0.0674,  0.1235,  0.0080, -0.0183,  0.0715, -0.1374,\n",
              "                       -0.1405,  0.1602,  0.1096,  0.1585,  0.1011,  0.0301, -0.0179, -0.0654],\n",
              "                      [-0.1514,  0.1216,  0.0344,  0.1296,  0.0347, -0.0570, -0.1280,  0.0198,\n",
              "                       -0.0413, -0.0717, -0.1463, -0.0579,  0.0207,  0.1554,  0.1011,  0.0327,\n",
              "                        0.1010,  0.0496, -0.0011, -0.0520, -0.0400,  0.0118, -0.0792,  0.1678,\n",
              "                       -0.1413, -0.0367, -0.0536, -0.0875, -0.0179, -0.1492, -0.1636,  0.0689]],\n",
              "                     device='cuda:0')),\n",
              "             ('fc_layers.6.bias',\n",
              "              tensor([-0.0081,  0.0647, -0.1090,  0.1446, -0.1331, -0.0707, -0.1649, -0.1084,\n",
              "                       0.0979, -0.0771], device='cuda:0'))])"
            ]
          },
          "metadata": {},
          "execution_count": 9
        }
      ]
    },
    {
      "cell_type": "code",
      "execution_count": 10,
      "metadata": {
        "id": "3w9QW9Lfp1aV",
        "colab": {
          "base_uri": "https://localhost:8080/"
        },
        "outputId": "a478a454-00fc-483f-b648-63026a05d13d"
      },
      "outputs": [
        {
          "output_type": "execute_result",
          "data": {
            "text/plain": [
              "LSTM_Model_label(\n",
              "  (lstm): LSTM(41, 64, num_layers=2, batch_first=True, dropout=0.5, bidirectional=True)\n",
              "  (fc_layers): Sequential(\n",
              "    (0): Linear(in_features=128, out_features=128, bias=True)\n",
              "    (1): Tanh()\n",
              "    (2): Linear(in_features=128, out_features=64, bias=True)\n",
              "    (3): ReLU()\n",
              "    (4): Linear(in_features=64, out_features=32, bias=True)\n",
              "    (5): Sigmoid()\n",
              "    (6): Linear(in_features=32, out_features=2, bias=True)\n",
              "  )\n",
              ")"
            ]
          },
          "metadata": {},
          "execution_count": 10
        }
      ],
      "source": [
        "my_model_label = LSTM_Model_label(num_classes_label, input_size, hidden_size, num_layers).to(device=device)\n",
        "my_model_label"
      ]
    },
    {
      "cell_type": "markdown",
      "metadata": {
        "id": "Cey1CId-jjis"
      },
      "source": [
        "# **optimizer and loss function**"
      ]
    },
    {
      "cell_type": "code",
      "execution_count": 11,
      "metadata": {
        "id": "WNuQFMAekNDH"
      },
      "outputs": [],
      "source": [
        "loss_fn1 = nn.CrossEntropyLoss().to(device=device)\n",
        "loss_fn2 = nn.CrossEntropyLoss().to(device=device)\n",
        "optimizer1 = opt.Adam(params=my_model_attack.parameters(),lr=learning_rate)\n",
        "optimizer2 = opt.Adam(params=my_model_label.parameters(),lr=learning_rate)"
      ]
    },
    {
      "cell_type": "markdown",
      "metadata": {
        "id": "4JYcovfYlpHM"
      },
      "source": [
        "# **train attack cat**"
      ]
    },
    {
      "cell_type": "code",
      "execution_count": 12,
      "metadata": {
        "id": "Qmw8w1eTkeBu",
        "colab": {
          "base_uri": "https://localhost:8080/"
        },
        "outputId": "f80b0bb8-b9e9-4384-d12b-43028e188e5a"
      },
      "outputs": [
        {
          "output_type": "stream",
          "name": "stdout",
          "text": [
            "Epoch: 0, loss: 0.9256\n",
            "Epoch: 50, loss: 0.4921\n",
            "Epoch: 100, loss: 0.4963\n",
            "Epoch: 150, loss: 0.3404\n",
            "Epoch: 200, loss: 0.3832\n",
            "Epoch: 250, loss: 0.4242\n",
            "Epoch: 300, loss: 0.4157\n",
            "Epoch: 350, loss: 0.3993\n",
            "Epoch: 400, loss: 0.3904\n",
            "Epoch: 450, loss: 0.3658\n",
            "Epoch: 500, loss: 0.3874\n"
          ]
        }
      ],
      "source": [
        "for epoch in range(num_epoch+1):\n",
        "\n",
        "    for batch_x, batch_y in train_attack_cat_dataloader:\n",
        "\n",
        "        batch_x = torch.reshape(batch_x, (batch_x.shape[0], 1, batch_x.shape[1])) #RuntimeError: For unbatched 2-D input, hx and cx should also be 2-D but got (3-D, 3-D) tensors\n",
        "        \n",
        "        batch_x = batch_x.to(device)\n",
        "        batch_y = batch_y.to(device)\n",
        "\n",
        "        optimizer1.zero_grad()\n",
        "        loss1 = loss_fn1(my_model_attack(batch_x) , batch_y)\n",
        "        loss1.backward() \n",
        "        optimizer1.step()\n",
        "\n",
        "    if epoch % 50 == 0:\n",
        "         print(\"Epoch: %d, loss: %.4f\" % (epoch, loss1.item())) "
      ]
    },
    {
      "cell_type": "markdown",
      "metadata": {
        "id": "PQaRCMJPls5N"
      },
      "source": [
        "# **test attack cat**"
      ]
    },
    {
      "cell_type": "code",
      "execution_count": 13,
      "metadata": {
        "id": "QrtYzVT4loMQ",
        "colab": {
          "base_uri": "https://localhost:8080/"
        },
        "outputId": "ef3594c5-1dea-4989-fe9e-0424486e4185"
      },
      "outputs": [
        {
          "output_type": "stream",
          "name": "stdout",
          "text": [
            "acc : 82.30%\n"
          ]
        }
      ],
      "source": [
        "correct = 0\n",
        "\n",
        "for batch_x, labl in test_attack_cat_dataloader:\n",
        "  \n",
        "    batch_x = torch.reshape(batch_x, (batch_x.shape[0], 1, batch_x.shape[1])) #RuntimeError: For unbatched 2-D input, hx and cx should also be 2-D but got (3-D, 3-D) tensors\n",
        "  \n",
        "    batch_x = batch_x.to(device)\n",
        "    labl = labl.to(device)\n",
        "\n",
        "    out = my_model_attack(batch_x)\n",
        "    _,predicted = torch.max(out,1)\n",
        "    correct += torch.sum(predicted == labl)\n",
        "\n",
        "print(\"acc : %.2f\" % (100.*correct / len(test_attack_cat)),end=\"\")\n",
        "print(\"%\")"
      ]
    },
    {
      "cell_type": "markdown",
      "metadata": {
        "id": "pLqOLtA6tQht"
      },
      "source": [
        "# **train label**"
      ]
    },
    {
      "cell_type": "code",
      "execution_count": 14,
      "metadata": {
        "id": "Xm1cu1GhtMJO",
        "colab": {
          "base_uri": "https://localhost:8080/"
        },
        "outputId": "52a71a57-02b4-495d-e2f2-358eef5ed1ca"
      },
      "outputs": [
        {
          "output_type": "stream",
          "name": "stdout",
          "text": [
            "Epoch: 0, loss: 0.1997\n",
            "Epoch: 50, loss: 0.1112\n",
            "Epoch: 100, loss: 0.0984\n",
            "Epoch: 150, loss: 0.1165\n",
            "Epoch: 200, loss: 0.1204\n",
            "Epoch: 250, loss: 0.0965\n",
            "Epoch: 300, loss: 0.1168\n",
            "Epoch: 350, loss: 0.1143\n",
            "Epoch: 400, loss: 0.0796\n",
            "Epoch: 450, loss: 0.0756\n",
            "Epoch: 500, loss: 0.0927\n"
          ]
        }
      ],
      "source": [
        "for epoch in range(num_epoch+1):\n",
        "\n",
        "    for batch_x, batch_y in train_label_dataloader:\n",
        "\n",
        "        batch_x = torch.reshape(batch_x, (batch_x.shape[0], 1, batch_x.shape[1])) #RuntimeError: For unbatched 2-D input, hx and cx should also be 2-D but got (3-D, 3-D) tensors\n",
        "        \n",
        "        batch_x = batch_x.to(device)\n",
        "        batch_y = batch_y.to(device)\n",
        "\n",
        "        optimizer2.zero_grad()\n",
        "        loss2 = loss_fn2(my_model_label(batch_x) , batch_y)\n",
        "        loss2.backward() \n",
        "        optimizer2.step()\n",
        "\n",
        "    if epoch % 50 == 0:\n",
        "         print(\"Epoch: %d, loss: %.4f\" % (epoch, loss2.item())) "
      ]
    },
    {
      "cell_type": "markdown",
      "metadata": {
        "id": "Ig7VBqU0tfZd"
      },
      "source": [
        "# **test label**"
      ]
    },
    {
      "cell_type": "code",
      "execution_count": 15,
      "metadata": {
        "id": "a7u2bQ0WtiG2",
        "colab": {
          "base_uri": "https://localhost:8080/"
        },
        "outputId": "0a7ce80b-7f0d-45b2-b6ec-2ab44fd6ef38"
      },
      "outputs": [
        {
          "output_type": "stream",
          "name": "stdout",
          "text": [
            "acc : 93.94%\n"
          ]
        }
      ],
      "source": [
        "correct = 0\n",
        "\n",
        "for batch_x, labl in test_label_dataloader:\n",
        "\n",
        "    batch_x = torch.reshape(batch_x, (batch_x.shape[0], 1, batch_x.shape[1])) #RuntimeError: For unbatched 2-D input, hx and cx should also be 2-D but got (3-D, 3-D) tensors\n",
        "\n",
        "    batch_x = batch_x.to(device)\n",
        "    labl = labl.to(device)\n",
        "  \n",
        "    out = my_model_label(batch_x)\n",
        "    _,predicted = torch.max(out,1)\n",
        "    correct += torch.sum(predicted == labl)\n",
        "\n",
        "print(\"acc : %.2f\" % (100.*correct / len(test_label)),end=\"\")\n",
        "print(\"%\")"
      ]
    }
  ],
  "metadata": {
    "accelerator": "GPU",
    "colab": {
      "collapsed_sections": [],
      "provenance": []
    },
    "gpuClass": "standard",
    "kernelspec": {
      "display_name": "Python 3",
      "name": "python3"
    },
    "language_info": {
      "name": "python"
    }
  },
  "nbformat": 4,
  "nbformat_minor": 0
}