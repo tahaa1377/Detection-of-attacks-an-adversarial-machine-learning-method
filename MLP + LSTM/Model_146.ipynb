{
  "cells": [
    {
      "cell_type": "code",
      "execution_count": 1,
      "metadata": {
        "id": "Ff1b4PxtBQuc"
      },
      "outputs": [],
      "source": [
        "num_epoch = 500      \n",
        "learning_rate = 0.01\n",
        "batch_size = 2000\n",
        "\n",
        "hidden_size = 64 #number of features in hidden state\n",
        "num_layers = 2  #number of stacked lstm layers\n",
        "bidirectional = True\n",
        "drop_out = 0.5\n",
        "bidirectional_forward_backward = 2 if bidirectional else 1\n",
        "\n",
        "input_size = 41 #number of features\n",
        "num_classes_attack_cat = 10 #number of output classes \n",
        "num_classes_label = 2       #number of output classes \n",
        "\n",
        "hyper_parameter1=128\n",
        "hyper_parameter2=64\n",
        "hyper_parameter3=32"
      ]
    },
    {
      "cell_type": "code",
      "source": [
        "from google.colab import drive\n",
        "drive.mount('/content/drive')"
      ],
      "metadata": {
        "colab": {
          "base_uri": "https://localhost:8080/"
        },
        "id": "0Gua0hky6SDJ",
        "outputId": "a2b5e8e6-613d-4226-99ce-905dc10c11b5"
      },
      "execution_count": 2,
      "outputs": [
        {
          "output_type": "stream",
          "name": "stdout",
          "text": [
            "Mounted at /content/drive\n"
          ]
        }
      ]
    },
    {
      "cell_type": "code",
      "execution_count": 3,
      "metadata": {
        "colab": {
          "base_uri": "https://localhost:8080/"
        },
        "id": "hZiaj4uT24DH",
        "outputId": "d9ae2244-413d-4870-c2c6-4d91ea6d3ab0"
      },
      "outputs": [
        {
          "output_type": "stream",
          "name": "stdout",
          "text": [
            "GPU\n"
          ]
        }
      ],
      "source": [
        "import pandas as pd\n",
        "from matplotlib import pyplot as plt\n",
        "import numpy as np\n",
        "from torch.utils.data.dataset import Dataset\n",
        "from torch.utils.data import random_split, DataLoader\n",
        "import torch\n",
        "from sklearn.preprocessing import LabelEncoder\n",
        "from sklearn import preprocessing\n",
        "import torch.nn as nn\n",
        "import torch.nn.functional as F\n",
        "import torch.optim as opt\n",
        "from torch.autograd import Variable \n",
        "\n",
        "# GPU OR CPU\n",
        "if torch.cuda.is_available():\n",
        "    device = torch.device(\"cuda:0\")\n",
        "    print(\"GPU\")\n",
        "else:\n",
        "    device = torch.device(\"cpu\")\n",
        "    print(\"CPU\")"
      ]
    },
    {
      "cell_type": "code",
      "execution_count": 4,
      "metadata": {
        "id": "Sv-R_m6Z1EL5"
      },
      "outputs": [],
      "source": [
        "class DataSet_UNSWNB15_attack_cat(Dataset):\n",
        "\n",
        "    def __init__(self,data_set_path):\n",
        "        df = pd.read_csv(data_set_path)\n",
        "        print(df.attack_cat.value_counts().sort_values().plot(kind = \"barh\"))\n",
        "        \n",
        "        # preprocceing\n",
        "        df.drop(['id',\"Unnamed: 0\",\"service\",\"label\"], axis=1, inplace=True)        \n",
        "        cols = ['attack_cat' ,'proto' ,'state']\n",
        "        df[cols] = df[cols].apply(LabelEncoder().fit_transform)\n",
        "\n",
        "        self.data_array = df.values\n",
        "        self.x = self.data_array[:, :41]\n",
        "        self.y = self.data_array[:, 41]\n",
        "      \n",
        "        # normalaized data\n",
        "        scaler = preprocessing.StandardScaler().fit(self.x)\n",
        "        self.x = scaler.transform(self.x)\n",
        "\n",
        "        self.x = torch.tensor(self.x).float()\n",
        "        self.y = torch.tensor(self.y).long()\n",
        "\n",
        "    def __len__(self):\n",
        "        return len(self.data_array)\n",
        "\n",
        "    def __getitem__(self, item):\n",
        "        sample = (self.x[item, :], self.y[item])\n",
        "        return sample\n",
        "\n",
        "        \n",
        "class DataSet_UNSWNB15_label(Dataset):\n",
        "\n",
        "    def __init__(self,data_set_path):\n",
        "        df = pd.read_csv(data_set_path)\n",
        "        print(df.label.value_counts().sort_values().plot(kind = \"pie\"))\n",
        "\n",
        "        # preprocceing\n",
        "        df.drop(['id',\"Unnamed: 0\",\"service\",\"attack_cat\"], axis=1, inplace=True)\n",
        "        cols = ['proto' ,'state']\n",
        "        df[cols] = df[cols].apply(LabelEncoder().fit_transform)\n",
        "\n",
        "        self.data_array = df.values\n",
        "        self.x = self.data_array[:, :41]\n",
        "        self.y = self.data_array[:, 41]\n",
        "        \n",
        "        # normalaized data\n",
        "        scaler = preprocessing.StandardScaler().fit(self.x)\n",
        "        self.x = scaler.transform(self.x)\n",
        "\n",
        "        self.x = torch.tensor(self.x).float()\n",
        "        self.y = torch.tensor(self.y).long()\n",
        "\n",
        "    def __len__(self):\n",
        "        return len(self.data_array)\n",
        "\n",
        "    def __getitem__(self, item):\n",
        "        sample = (self.x[item, :], self.y[item])\n",
        "        return sample"
      ]
    },
    {
      "cell_type": "code",
      "execution_count": 5,
      "metadata": {
        "colab": {
          "base_uri": "https://localhost:8080/",
          "height": 283
        },
        "id": "UykLrbQZ1R7K",
        "outputId": "1afc72df-542b-4f2e-b944-328c9a7245fc"
      },
      "outputs": [
        {
          "output_type": "stream",
          "name": "stdout",
          "text": [
            "AxesSubplot(0.125,0.125;0.775x0.755)\n"
          ]
        },
        {
          "output_type": "display_data",
          "data": {
            "text/plain": [
              "<Figure size 432x288 with 1 Axes>"
            ],
            "image/png": "[encoded data removed]"
          },
          "metadata": {
            "needs_background": "light"
          }
        }
      ],
      "source": [
        "dataset_attack_cat = DataSet_UNSWNB15_attack_cat(\"/content/drive/MyDrive/datasets/UNSW-NB15/UNSW_NB15.csv\")\n",
        "number_of_test = int(len(dataset_attack_cat)*0.3)\n",
        "number_of_train = len(dataset_attack_cat) - int(len(dataset_attack_cat)*0.3)\n",
        "train_attack_cat ,test_attack_cat = random_split(dataset=dataset_attack_cat, lengths=[number_of_train,number_of_test])\n",
        "\n",
        "train_attack_cat_dataloader = DataLoader(dataset=train_attack_cat ,batch_size=batch_size ,shuffle=True)\n",
        "test_attack_cat_dataloader = DataLoader(dataset=test_attack_cat ,batch_size=batch_size ,shuffle=True)"
      ]
    },
    {
      "cell_type": "code",
      "execution_count": 6,
      "metadata": {
        "colab": {
          "base_uri": "https://localhost:8080/",
          "height": 266
        },
        "id": "LmFY9Q-u29T3",
        "outputId": "73d7b3ed-6f7d-434c-9e72-e02d27557fef"
      },
      "outputs": [
        {
          "output_type": "stream",
          "name": "stdout",
          "text": [
            "AxesSubplot(0.260833,0.125;0.503333x0.755)\n"
          ]
        },
        {
          "output_type": "display_data",
          "data": {
            "text/plain": [
              "<Figure size 432x288 with 1 Axes>"
            ],
            "image/png": "[encoded data removed]"
          },
          "metadata": {}
        }
      ],
      "source": [
        "dataset_label = DataSet_UNSWNB15_label(\"/content/drive/MyDrive/datasets/UNSW-NB15/UNSW_NB15.csv\")\n",
        "number_of_test = int(len(dataset_label)*0.3)\n",
        "number_of_train = len(dataset_label) - int(len(dataset_label)*0.3)\n",
        "train_label ,test_label = random_split(dataset=dataset_label, lengths=[number_of_train,number_of_test])\n",
        "\n",
        "train_label_dataloader = DataLoader(dataset=train_label ,batch_size=batch_size ,shuffle=True)\n",
        "test_label_dataloader = DataLoader(dataset=test_label ,batch_size=batch_size ,shuffle=True)"
      ]
    },
    {
      "cell_type": "markdown",
      "metadata": {
        "id": "0HslPLv2IOGd"
      },
      "source": [
        "# **preprocessing ended**\n",
        "\n",
        "# **create model**"
      ]
    },
    {
      "cell_type": "markdown",
      "source": [
        "![bilstm-1.webp](data:image/webp;base64,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)"
      ],
      "metadata": {
        "id": "F2hNvBs6qBQS"
      }
    },
    {
      "cell_type": "code",
      "execution_count": 7,
      "metadata": {
        "id": "oN6DuQbJibuE"
      },
      "outputs": [],
      "source": [
        "class LSTM_Model_attack(nn.Module):\n",
        "    def __init__(self, num_classes, input_size, hidden_size, num_layers):\n",
        "        super(LSTM_Model_attack, self).__init__()\n",
        "        self.num_classes = num_classes #number of classes\n",
        "        self.num_layers = num_layers #number of layers\n",
        "        self.input_size = input_size #input size\n",
        "        self.hidden_size = hidden_size #hidden state\n",
        "\n",
        "        self.lstm = nn.LSTM(input_size=input_size, hidden_size=hidden_size, num_layers=num_layers, batch_first=True,\n",
        "                            bidirectional=bidirectional, dropout=drop_out) #lstm\n",
        "\n",
        "        self.fc_layers = nn.Sequential(\n",
        "        nn.Linear(hidden_size * bidirectional_forward_backward, hyper_parameter1),\n",
        "        nn.Tanh(),\n",
        "        nn.Linear(hyper_parameter1, hyper_parameter2),\n",
        "        nn.ReLU(),\n",
        "        nn.Linear(hyper_parameter2, hyper_parameter3),\n",
        "        nn.Sigmoid(),\n",
        "        nn.Linear(hyper_parameter3, num_classes)\n",
        "        )\n",
        "    \n",
        "    def forward(self,x):\n",
        "                                                # 2 => forward and backward for bidirectional\n",
        "        h_0 = Variable(torch.zeros(self.num_layers * bidirectional_forward_backward, x.size(0), self.hidden_size)).to(device=device) #hidden state\n",
        "        c_0 = Variable(torch.zeros(self.num_layers * bidirectional_forward_backward, x.size(0), self.hidden_size)).to(device=device) #internal state\n",
        "\n",
        "        out, (hn, cn) = self.lstm(x, (h_0, c_0))\n",
        "        out = self.fc_layers(out[:, -1, :]) \n",
        "        return out\n",
        "\n",
        "\n",
        "class LSTM_Model_label(nn.Module):\n",
        "    def __init__(self, num_classes, input_size, hidden_size, num_layers):\n",
        "        super(LSTM_Model_label, self).__init__()\n",
        "        self.num_classes = num_classes #number of classes\n",
        "        self.num_layers = num_layers #number of layers\n",
        "        self.input_size = input_size #input size\n",
        "        self.hidden_size = hidden_size #hidden state\n",
        "\n",
        "        self.lstm = nn.LSTM(input_size=input_size, hidden_size=hidden_size, num_layers=num_layers, batch_first=True, \n",
        "                            bidirectional=bidirectional, dropout=drop_out) #lstm\n",
        "\n",
        "        self.fc_layers = nn.Sequential(\n",
        "        nn.Linear(hidden_size * bidirectional_forward_backward, hyper_parameter1),\n",
        "        nn.Tanh(),\n",
        "        nn.Linear(hyper_parameter1, hyper_parameter2),\n",
        "        nn.ReLU(),\n",
        "        nn.Linear(hyper_parameter2, hyper_parameter3),\n",
        "        nn.Sigmoid(),\n",
        "        nn.Linear(hyper_parameter3, num_classes)\n",
        "        )\n",
        "    \n",
        "    def forward(self,x):\n",
        "        h_0 = Variable(torch.zeros(self.num_layers * bidirectional_forward_backward, x.size(0), self.hidden_size)).to(device=device) #hidden state\n",
        "        c_0 = Variable(torch.zeros(self.num_layers * bidirectional_forward_backward, x.size(0), self.hidden_size)).to(device=device) #internal state\n",
        "\n",
        "        out, (hn, cn) = self.lstm(x, (h_0, c_0))\n",
        "        out = self.fc_layers(out[:, -1, :]) \n",
        "        return out\n"
      ]
    },
    {
      "cell_type": "code",
      "execution_count": 8,
      "metadata": {
        "id": "US8JfNI8j3zO",
        "colab": {
          "base_uri": "https://localhost:8080/"
        },
        "outputId": "b3cbe74d-dcd8-4107-fbf1-7cb2d7c8aef8"
      },
      "outputs": [
        {
          "output_type": "execute_result",
          "data": {
            "text/plain": [
              "LSTM_Model_attack(\n",
              "  (lstm): LSTM(41, 64, num_layers=2, batch_first=True, dropout=0.5, bidirectional=True)\n",
              "  (fc_layers): Sequential(\n",
              "    (0): Linear(in_features=128, out_features=128, bias=True)\n",
              "    (1): Tanh()\n",
              "    (2): Linear(in_features=128, out_features=64, bias=True)\n",
              "    (3): ReLU()\n",
              "    (4): Linear(in_features=64, out_features=32, bias=True)\n",
              "    (5): Sigmoid()\n",
              "    (6): Linear(in_features=32, out_features=10, bias=True)\n",
              "  )\n",
              ")"
            ]
          },
          "metadata": {},
          "execution_count": 8
        }
      ],
      "source": [
        "my_model_attack = LSTM_Model_attack(num_classes_attack_cat, input_size, hidden_size, num_layers).to(device=device)\n",
        "my_model_attack"
      ]
    },
    {
      "cell_type": "code",
      "source": [
        "my_model_attack.state_dict()"
      ],
      "metadata": {
        "colab": {
          "base_uri": "https://localhost:8080/"
        },
        "id": "Dq8JkQZ9ukCs",
        "outputId": "86423690-0ce4-4525-a467-4dabf0d8b5a0"
      },
      "execution_count": 9,
      "outputs": [
        {
          "output_type": "execute_result",
          "data": {
            "text/plain": [
              "OrderedDict([('lstm.weight_ih_l0',\n",
              "              tensor([[ 0.0146, -0.0994,  0.0987,  ..., -0.0817,  0.0292, -0.0779],\n",
              "                      [ 0.1057, -0.0939,  0.0672,  ...,  0.0824, -0.0343,  0.0285],\n",
              "                      [-0.0696, -0.0036,  0.1037,  ...,  0.0239,  0.0184, -0.1200],\n",
              "                      ...,\n",
              "                      [ 0.0918,  0.0462,  0.0138,  ..., -0.1179,  0.0783, -0.0169],\n",
              "                      [ 0.1020,  0.0262, -0.0139,  ...,  0.0557, -0.0888,  0.0173],\n",
              "                      [-0.0907,  0.0606, -0.0715,  ...,  0.0917,  0.0814, -0.0486]],\n",
              "                     device='cuda:0')),\n",
              "             ('lstm.weight_hh_l0',\n",
              "              tensor([[ 0.0239,  0.0975,  0.0235,  ..., -0.0600, -0.0924,  0.0889],\n",
              "                      [-0.0561,  0.1159,  0.0321,  ..., -0.0745, -0.0632, -0.1012],\n",
              "                      [ 0.0339,  0.0654, -0.0854,  ...,  0.1202,  0.0437,  0.0989],\n",
              "                      ...,\n",
              "                      [-0.0264, -0.0215, -0.0234,  ..., -0.0790,  0.0219,  0.0272],\n",
              "                      [ 0.0402,  0.0130,  0.1181,  ...,  0.0970,  0.0767,  0.1074],\n",
              "                      [-0.0391, -0.0797,  0.0852,  ..., -0.0281, -0.0665,  0.0082]],\n",
              "                     device='cuda:0')),\n",
              "             ('lstm.bias_ih_l0',\n",
              "              tensor([-1.5528e-02,  7.9059e-02, -3.5986e-02, -2.1055e-02, -6.4064e-02,\n",
              "                      -1.2949e-02,  8.0495e-02,  6.4879e-02,  3.2775e-02, -6.2069e-03,\n",
              "                       2.6426e-02, -1.0146e-02, -1.1726e-01,  2.2244e-02, -1.1848e-01,\n",
              "                       5.4228e-02,  2.8288e-02,  1.1971e-01, -5.9165e-02,  3.9052e-02,\n",
              "                       8.2524e-02,  2.0259e-02, -8.8336e-02,  7.3736e-02, -1.7309e-02,\n",
              "                      -2.0378e-02, -1.2092e-02,  9.9407e-02, -1.1438e-01,  1.2217e-01,\n",
              "                      -4.6579e-02,  8.4123e-02,  3.5467e-02,  5.7420e-02,  3.3429e-02,\n",
              "                       2.4118e-02,  5.5556e-02,  1.6261e-02, -1.4947e-02, -1.0269e-01,\n",
              "                      -1.2109e-01,  5.4700e-02, -2.6117e-03, -1.1722e-01, -1.1873e-01,\n",
              "                      -8.7996e-02, -3.2409e-02, -1.0531e-01,  9.8248e-02, -4.8233e-03,\n",
              "                       8.1273e-02, -8.7845e-02,  7.2875e-02,  3.3622e-02, -8.1001e-02,\n",
              "                       1.9502e-02, -1.2077e-01, -1.1250e-01, -3.0410e-02,  7.7977e-02,\n",
              "                       8.7396e-02,  2.1955e-02,  2.3902e-02, -7.8574e-05,  1.2001e-01,\n",
              "                       1.0540e-01, -8.7207e-02,  5.1792e-02, -1.4831e-02,  1.5781e-02,\n",
              "                       1.6222e-02,  1.4498e-02, -9.8400e-02,  1.0512e-01, -6.3533e-02,\n",
              "                      -1.1924e-01, -7.9487e-02,  6.9810e-02,  6.1754e-02,  1.7286e-02,\n",
              "                       2.5463e-02, -2.1784e-02, -5.4745e-02, -1.3346e-02,  8.9942e-02,\n",
              "                       7.7484e-02, -3.6717e-03, -5.7588e-02, -9.0705e-02,  9.8569e-02,\n",
              "                       9.2706e-02, -1.1931e-01,  6.4426e-02, -1.2526e-02, -8.8216e-02,\n",
              "                      -1.2279e-01, -6.6504e-02, -1.0149e-01, -9.9115e-03,  7.8349e-02,\n",
              "                       9.3760e-02, -3.5123e-03,  4.2966e-02, -6.1237e-02, -4.1813e-02,\n",
              "                       1.2072e-01, -7.4238e-02, -6.9200e-02, -5.7968e-02, -7.3541e-02,\n",
              "                      -1.0720e-01, -3.8845e-02, -2.3544e-02, -3.6671e-02, -6.6750e-02,\n",
              "                       9.1528e-02,  1.2142e-01, -8.6764e-02,  5.6101e-02, -1.3217e-02,\n",
              "                      -2.5342e-02,  4.6792e-02, -1.2313e-01, -4.3698e-02, -8.8148e-02,\n",
              "                       1.0148e-01, -6.1860e-02,  4.8943e-02, -1.1298e-01, -3.1572e-02,\n",
              "                      -1.8395e-02,  8.3800e-02, -3.3679e-02, -1.1859e-01, -8.5914e-02,\n",
              "                       3.5167e-02, -1.0630e-01,  1.1772e-01,  8.5206e-02, -5.1259e-02,\n",
              "                      -8.9517e-02,  6.3194e-02,  1.2200e-01, -9.1974e-02, -4.9156e-02,\n",
              "                       4.5200e-02, -1.0027e-01, -2.9977e-02, -6.0632e-02,  2.8882e-02,\n",
              "                       8.4665e-02, -1.1478e-01, -1.1251e-01, -5.1479e-02, -1.5563e-02,\n",
              "                       8.3477e-02, -1.0021e-01, -6.0313e-02, -8.9028e-02,  5.6433e-02,\n",
              "                      -3.7670e-02,  5.8682e-02, -5.0655e-03,  7.8422e-02,  7.0884e-02,\n",
              "                       1.2052e-02, -7.3397e-02,  5.5095e-02,  5.7309e-02,  6.8346e-02,\n",
              "                       3.1293e-02, -1.1260e-01, -9.4826e-02, -5.2268e-02, -9.4031e-02,\n",
              "                      -1.1121e-02,  1.9262e-03,  1.0739e-01, -3.6399e-02, -3.5240e-02,\n",
              "                      -8.5207e-02,  1.1949e-01, -8.5137e-02,  3.3525e-02,  4.8123e-02,\n",
              "                       6.4847e-02,  5.7713e-02, -2.8470e-02,  8.1546e-03,  9.7714e-02,\n",
              "                       6.3646e-02,  5.8625e-02, -4.5893e-02, -5.0047e-02, -6.6550e-02,\n",
              "                      -8.6942e-02,  5.4939e-02, -1.2428e-01, -9.8278e-02, -9.4713e-02,\n",
              "                      -3.2622e-02, -9.9090e-02, -2.9018e-02,  2.6650e-03, -1.1865e-01,\n",
              "                      -1.0606e-01,  6.8551e-02,  1.0652e-01, -3.3178e-02,  1.0893e-01,\n",
              "                       5.1689e-02,  7.1690e-02, -3.2862e-02,  5.7109e-03, -1.7612e-02,\n",
              "                      -9.2798e-02,  4.8968e-02,  6.7660e-02,  5.2668e-02,  1.0168e-01,\n",
              "                       5.9978e-02, -1.5944e-02,  4.3777e-02, -9.1053e-02, -5.6544e-02,\n",
              "                       1.0729e-01,  2.3585e-03, -6.8946e-02, -1.0398e-01,  8.5290e-02,\n",
              "                      -6.4466e-02, -9.4953e-02, -5.3649e-02, -8.3110e-02, -7.2111e-02,\n",
              "                      -9.3085e-02, -6.9481e-02, -4.2580e-02,  5.0509e-02,  5.1153e-02,\n",
              "                      -1.0401e-01, -6.3470e-02,  1.1274e-01,  1.1688e-01,  2.6186e-02,\n",
              "                       1.9521e-02,  5.2101e-02, -1.1313e-01,  4.3646e-02,  1.2374e-01,\n",
              "                      -8.2995e-02, -8.6257e-02,  2.1191e-02, -1.0831e-01,  4.2006e-02,\n",
              "                       9.0440e-02], device='cuda:0')),\n",
              "             ('lstm.bias_hh_l0',\n",
              "              tensor([ 4.9012e-02, -1.2110e-01,  3.2907e-02,  1.9008e-02, -2.1651e-02,\n",
              "                       8.5184e-02,  1.1700e-01, -7.4889e-02, -4.2776e-02, -9.5013e-02,\n",
              "                       8.6496e-02, -6.1065e-05, -4.3962e-02, -2.8363e-02, -1.5501e-02,\n",
              "                       2.6365e-02,  1.1330e-01,  4.8072e-02, -5.2841e-03, -8.5621e-03,\n",
              "                       1.0046e-02, -9.8071e-02, -6.4526e-02,  1.2736e-02,  6.4292e-02,\n",
              "                       8.2576e-04, -6.6335e-02,  4.4448e-02, -3.2124e-02, -6.4782e-02,\n",
              "                      -5.8230e-02, -1.1589e-01, -5.9023e-02,  2.1497e-02, -4.9529e-02,\n",
              "                      -6.6839e-02,  8.6610e-02, -1.0722e-01,  1.2455e-02, -2.9696e-02,\n",
              "                      -8.6649e-02,  5.9154e-02, -5.7669e-02,  7.3368e-02, -4.4245e-02,\n",
              "                       5.3285e-02,  1.1871e-01,  3.3576e-02, -8.0974e-02, -9.2571e-02,\n",
              "                       1.0437e-02, -3.1176e-03, -1.8383e-02, -3.4178e-02, -8.5659e-02,\n",
              "                      -3.9032e-02,  3.9240e-02,  6.1099e-02,  1.0269e-01, -1.1589e-01,\n",
              "                      -9.0375e-02, -6.4884e-02, -7.2610e-02,  1.5434e-02, -1.8020e-02,\n",
              "                      -8.5795e-02, -3.1722e-02,  1.5867e-02, -3.8528e-02,  7.1125e-02,\n",
              "                       1.0633e-01, -3.3325e-02, -1.1456e-01,  1.0505e-01, -7.6993e-02,\n",
              "                      -7.8195e-02,  8.5987e-02, -6.0591e-02, -3.3647e-02,  9.0449e-02,\n",
              "                      -2.1854e-02, -1.3744e-02,  8.2255e-03, -5.5353e-02,  9.1509e-02,\n",
              "                      -6.4225e-02, -1.0159e-01, -3.2766e-02, -6.4671e-02,  2.6370e-02,\n",
              "                       9.5560e-02,  1.2332e-01,  4.8130e-02, -1.1088e-01, -5.9997e-02,\n",
              "                      -3.0928e-02,  4.7457e-02,  4.8526e-02, -2.7993e-02,  4.8454e-02,\n",
              "                       1.0634e-01, -7.2746e-02,  3.2292e-02, -5.3795e-02, -4.9411e-02,\n",
              "                       2.7843e-02, -3.4633e-02,  9.3512e-02, -6.2582e-02,  1.3992e-02,\n",
              "                       1.2091e-01,  9.4965e-02, -1.0436e-01, -1.2023e-01, -1.2340e-02,\n",
              "                      -7.1962e-03, -4.9483e-02,  1.9778e-02,  6.7735e-02, -3.9291e-03,\n",
              "                       1.1041e-01,  5.2743e-02,  9.1058e-02, -1.0484e-01, -6.3620e-02,\n",
              "                       1.8241e-02,  1.0487e-01,  8.7958e-02, -5.2220e-03, -8.9296e-02,\n",
              "                       7.4522e-02,  9.2678e-02,  2.4214e-02, -1.0397e-01, -1.0041e-01,\n",
              "                       1.0074e-01,  4.9081e-02,  4.6131e-02,  6.9812e-02, -4.1146e-02,\n",
              "                      -9.7380e-02,  9.0546e-02,  6.4007e-03,  2.5619e-02, -7.4572e-02,\n",
              "                      -8.2488e-02, -5.5284e-02,  6.2082e-02, -8.2515e-02,  6.5779e-02,\n",
              "                      -6.9204e-02,  8.6770e-02, -9.4151e-02,  7.2152e-02,  4.2606e-02,\n",
              "                      -6.8043e-04, -1.2123e-01, -4.8400e-02, -2.0293e-02,  1.1667e-01,\n",
              "                      -9.3849e-02, -1.2406e-01, -8.0048e-02, -4.4578e-02, -1.0863e-01,\n",
              "                       6.0002e-02,  1.2311e-01, -1.0470e-01, -3.3585e-02,  1.1999e-01,\n",
              "                       7.9284e-02, -9.7249e-02, -1.9987e-02,  9.6178e-02,  1.1232e-01,\n",
              "                      -5.6273e-02, -8.6920e-02,  9.4435e-02, -5.9360e-03,  8.3803e-02,\n",
              "                      -6.9705e-02,  8.5951e-02, -6.3702e-02, -1.0605e-01, -2.3531e-02,\n",
              "                       2.8960e-02, -2.8652e-02, -3.2266e-02, -3.6809e-02, -7.3246e-03,\n",
              "                       1.1356e-01,  7.2662e-03,  1.1776e-02,  1.2006e-01, -1.1212e-01,\n",
              "                       6.4446e-02,  7.3574e-02, -3.1541e-02, -4.5858e-02, -1.1001e-02,\n",
              "                      -1.1975e-01, -8.8512e-02, -1.2473e-01,  1.1204e-01, -9.5684e-03,\n",
              "                      -1.2161e-01, -3.6289e-02, -2.8866e-02, -1.0931e-01,  1.1743e-01,\n",
              "                       8.4103e-02,  5.1997e-02,  3.7925e-02,  8.4288e-02,  3.8981e-02,\n",
              "                       5.3728e-02,  1.0434e-01, -7.2015e-02,  4.1626e-02,  1.0836e-01,\n",
              "                       8.8880e-02,  3.4085e-02,  2.1854e-02, -1.0784e-01, -8.9384e-03,\n",
              "                       1.1027e-01, -4.1562e-02,  3.2020e-02, -7.0517e-02, -4.8921e-02,\n",
              "                       1.5509e-02, -5.2073e-02,  8.7801e-02,  3.8680e-02,  8.2395e-02,\n",
              "                      -6.7557e-02, -9.9887e-02,  1.3087e-02, -6.2928e-02, -8.8111e-02,\n",
              "                       8.6768e-03,  5.6424e-02, -3.2516e-02,  6.7677e-02,  9.0396e-02,\n",
              "                       5.4079e-02,  3.9807e-02,  1.2251e-01,  4.3428e-02,  4.0576e-03,\n",
              "                      -1.1364e-01, -6.5895e-02, -1.0250e-01,  2.3429e-02,  1.1871e-01,\n",
              "                       1.8720e-02], device='cuda:0')),\n",
              "             ('lstm.weight_ih_l0_reverse',\n",
              "              tensor([[ 0.0083, -0.0037,  0.0673,  ..., -0.0181, -0.0163, -0.0851],\n",
              "                      [ 0.0722,  0.1070,  0.0665,  ...,  0.0266,  0.0450, -0.0380],\n",
              "                      [-0.0226,  0.1191, -0.0129,  ..., -0.0831, -0.0747,  0.0940],\n",
              "                      ...,\n",
              "                      [ 0.0874,  0.0386,  0.1095,  ...,  0.1191,  0.1207, -0.0508],\n",
              "                      [ 0.0180,  0.0315,  0.0447,  ..., -0.1193, -0.1157, -0.1040],\n",
              "                      [ 0.0317, -0.0698,  0.1246,  ...,  0.1087, -0.0557, -0.1005]],\n",
              "                     device='cuda:0')),\n",
              "             ('lstm.weight_hh_l0_reverse',\n",
              "              tensor([[-0.1200, -0.0125,  0.1182,  ...,  0.0645,  0.0586,  0.1077],\n",
              "                      [-0.0991,  0.1218,  0.0343,  ..., -0.1069,  0.0766,  0.0260],\n",
              "                      [ 0.0325,  0.0379,  0.0848,  ..., -0.1017,  0.0460,  0.0560],\n",
              "                      ...,\n",
              "                      [ 0.0753, -0.0875, -0.0929,  ...,  0.0865,  0.1165, -0.0557],\n",
              "                      [-0.0600,  0.0284,  0.0455,  ...,  0.0103,  0.0457, -0.0542],\n",
              "                      [-0.0422, -0.0105,  0.1186,  ..., -0.1204, -0.0737, -0.0345]],\n",
              "                     device='cuda:0')),\n",
              "             ('lstm.bias_ih_l0_reverse',\n",
              "              tensor([-0.0430, -0.0266,  0.0843, -0.0661,  0.0491, -0.0858,  0.0652, -0.0218,\n",
              "                      -0.0375, -0.0415,  0.0558,  0.0574, -0.0130,  0.0437,  0.0678,  0.0067,\n",
              "                       0.1024,  0.0510,  0.1209, -0.0965, -0.0628, -0.0190,  0.1104, -0.0788,\n",
              "                       0.0671,  0.0512, -0.0281, -0.1056,  0.0958,  0.0805,  0.0960, -0.1143,\n",
              "                      -0.1111, -0.0498,  0.0832,  0.0994, -0.0936, -0.0213, -0.1208,  0.0141,\n",
              "                       0.0958,  0.0586, -0.0365,  0.0398, -0.0441,  0.1149, -0.0802, -0.0472,\n",
              "                       0.0848, -0.0915,  0.0468, -0.0299,  0.0571,  0.1147,  0.0555,  0.0600,\n",
              "                      -0.1232, -0.0356,  0.0386, -0.0821,  0.0734, -0.1123, -0.0170,  0.0206,\n",
              "                       0.0452, -0.0397, -0.0235, -0.0200, -0.0739,  0.0867,  0.0071, -0.0211,\n",
              "                      -0.0939, -0.0526,  0.0330, -0.0864, -0.0065,  0.0469, -0.1232,  0.0380,\n",
              "                       0.1091,  0.0924, -0.1043,  0.0433, -0.0227, -0.0962,  0.0549,  0.0830,\n",
              "                      -0.0507,  0.0708, -0.0736, -0.0820,  0.0496,  0.0829,  0.0852, -0.1190,\n",
              "                      -0.1184,  0.0313,  0.0129, -0.0055, -0.1244,  0.0849,  0.1166, -0.1217,\n",
              "                      -0.0293, -0.0216,  0.0346,  0.0820,  0.0680,  0.0233, -0.0939,  0.0647,\n",
              "                       0.0197,  0.0307,  0.0181,  0.0432, -0.0625, -0.0075,  0.0020,  0.0727,\n",
              "                       0.0909,  0.0537,  0.0849,  0.0566,  0.0120,  0.0265, -0.0472,  0.0669,\n",
              "                      -0.0246, -0.1041,  0.1147, -0.0208, -0.0168, -0.0254,  0.0094,  0.0431,\n",
              "                       0.0920,  0.0204, -0.0215, -0.0827, -0.0296, -0.0605, -0.0241,  0.0487,\n",
              "                      -0.0646,  0.1107, -0.1105, -0.0548,  0.0612,  0.0491, -0.0750,  0.0828,\n",
              "                       0.1071,  0.0160,  0.0864, -0.0944, -0.0635, -0.0373,  0.0639,  0.0180,\n",
              "                      -0.1148, -0.0852, -0.0747,  0.0620, -0.0012,  0.1203, -0.0159,  0.0267,\n",
              "                      -0.0628,  0.1064,  0.0505, -0.0205,  0.0181,  0.1227, -0.0902, -0.0686,\n",
              "                       0.0086,  0.1150, -0.0829, -0.0206,  0.0507, -0.0431, -0.0897,  0.0413,\n",
              "                      -0.0790,  0.0283, -0.0342, -0.0741,  0.0102, -0.1075, -0.0450,  0.0633,\n",
              "                      -0.0882, -0.0710,  0.1214,  0.0294, -0.0132, -0.0905, -0.0021, -0.0946,\n",
              "                       0.1085,  0.0965, -0.0812,  0.0958,  0.0086,  0.0811,  0.0814,  0.0421,\n",
              "                       0.1163,  0.0261, -0.0298,  0.1054, -0.0618,  0.0677, -0.1053,  0.0459,\n",
              "                       0.0926,  0.1188,  0.1209,  0.0626, -0.0187,  0.0699, -0.0095,  0.0319,\n",
              "                       0.1092,  0.0334, -0.1032,  0.0916, -0.0376, -0.0605, -0.0008, -0.0073,\n",
              "                       0.0264, -0.0075,  0.1174,  0.0714,  0.1182, -0.0567, -0.0685, -0.1041,\n",
              "                       0.0099, -0.0078,  0.1167, -0.0096, -0.0916,  0.1000,  0.0116, -0.0724,\n",
              "                       0.0037,  0.0867,  0.0340, -0.0327,  0.0477, -0.0273, -0.0971, -0.0528],\n",
              "                     device='cuda:0')),\n",
              "             ('lstm.bias_hh_l0_reverse',\n",
              "              tensor([ 0.0601,  0.0028, -0.0984, -0.0794,  0.0159,  0.1172, -0.0859,  0.1168,\n",
              "                      -0.0644, -0.0236, -0.1160, -0.0879,  0.1065,  0.0679, -0.0168, -0.1150,\n",
              "                      -0.0144,  0.0152,  0.1175,  0.0119,  0.0379,  0.0959, -0.0349,  0.0746,\n",
              "                       0.0072, -0.0996,  0.1233,  0.0412,  0.0018,  0.0355,  0.0728,  0.0685,\n",
              "                       0.0701, -0.0944,  0.0899,  0.1113, -0.0153, -0.1160, -0.0418,  0.1047,\n",
              "                      -0.0076,  0.1024,  0.1122,  0.1064, -0.0618, -0.0645,  0.0365, -0.0627,\n",
              "                       0.0873, -0.0360, -0.0098, -0.0105,  0.0439,  0.0899, -0.0632,  0.1080,\n",
              "                      -0.0139, -0.1118, -0.0939, -0.0985,  0.0165, -0.0236, -0.0229,  0.0550,\n",
              "                      -0.0055,  0.0877,  0.1041, -0.0644, -0.1099, -0.1140, -0.1237, -0.0494,\n",
              "                       0.0672,  0.0155,  0.0525,  0.0542, -0.1114,  0.0513,  0.0305,  0.0208,\n",
              "                      -0.0040,  0.1225, -0.0487,  0.0009, -0.0695, -0.0283,  0.0177,  0.0083,\n",
              "                       0.0529, -0.0883, -0.0016,  0.0276,  0.0031, -0.0739,  0.0304,  0.0763,\n",
              "                       0.0206, -0.0403, -0.0992,  0.0383,  0.1118,  0.0256, -0.0910,  0.0585,\n",
              "                       0.0681,  0.0404, -0.1103, -0.1029, -0.0352,  0.0119,  0.0682, -0.0134,\n",
              "                       0.1185, -0.0439, -0.0485, -0.0637, -0.0591, -0.0159,  0.0804,  0.0671,\n",
              "                       0.0915,  0.1174,  0.0334, -0.0313, -0.1147,  0.0411, -0.0416, -0.0197,\n",
              "                       0.0081, -0.1009, -0.1029,  0.0949, -0.0019, -0.0318, -0.0958,  0.0367,\n",
              "                      -0.0953,  0.0586, -0.1027,  0.0643,  0.1138, -0.0349,  0.0228, -0.0329,\n",
              "                       0.0937, -0.0693, -0.0996,  0.0761,  0.0703, -0.0618,  0.0091,  0.0118,\n",
              "                       0.0997, -0.0179,  0.0044,  0.0157,  0.0706,  0.0165,  0.0844, -0.0818,\n",
              "                      -0.0032, -0.1009,  0.0731,  0.0064, -0.1213, -0.0084,  0.1175,  0.0119,\n",
              "                       0.1245, -0.1044, -0.0337,  0.1210,  0.1117, -0.0314,  0.0833,  0.1152,\n",
              "                       0.1141,  0.0388,  0.0321, -0.0960,  0.0088, -0.0056, -0.0169,  0.1137,\n",
              "                       0.0542, -0.1006, -0.0092, -0.1078,  0.0320, -0.0086, -0.0382,  0.0035,\n",
              "                       0.0037, -0.0837, -0.0551, -0.0999, -0.0521,  0.0437,  0.0731,  0.0975,\n",
              "                      -0.0692,  0.0516, -0.0414,  0.1151,  0.0774, -0.1178, -0.0053,  0.0677,\n",
              "                       0.0886,  0.0054, -0.0975,  0.0679,  0.0375, -0.0504,  0.1019,  0.0489,\n",
              "                       0.0099, -0.0894, -0.0666,  0.1233,  0.0005,  0.0187,  0.0772,  0.0371,\n",
              "                       0.0269, -0.0789,  0.0516,  0.1080,  0.0757, -0.0520, -0.0681,  0.0103,\n",
              "                      -0.0817, -0.0526,  0.0764, -0.0198,  0.0513, -0.0706,  0.1026, -0.0691,\n",
              "                       0.0674,  0.0164,  0.0897, -0.1186, -0.1153, -0.0715, -0.1178, -0.0164,\n",
              "                      -0.0936,  0.0895,  0.0367, -0.1180,  0.0054,  0.0597,  0.0649,  0.0643],\n",
              "                     device='cuda:0')),\n",
              "             ('lstm.weight_ih_l1',\n",
              "              tensor([[ 0.0734, -0.0023, -0.0916,  ..., -0.0619,  0.1145, -0.1103],\n",
              "                      [ 0.1192, -0.1022,  0.0433,  ..., -0.1076,  0.1197, -0.0753],\n",
              "                      [-0.0081, -0.0256,  0.0159,  ..., -0.0817,  0.0709, -0.0073],\n",
              "                      ...,\n",
              "                      [-0.1143, -0.0731, -0.0550,  ..., -0.0005, -0.0077,  0.1235],\n",
              "                      [ 0.0284,  0.0796, -0.1042,  ...,  0.1121, -0.0395, -0.0566],\n",
              "                      [-0.0613,  0.0238,  0.0292,  ..., -0.0140,  0.0112, -0.0385]],\n",
              "                     device='cuda:0')),\n",
              "             ('lstm.weight_hh_l1',\n",
              "              tensor([[ 0.0338,  0.0732, -0.0655,  ...,  0.0100, -0.1075, -0.0358],\n",
              "                      [ 0.0046,  0.1079,  0.0031,  ...,  0.1145,  0.0702,  0.0831],\n",
              "                      [-0.1044,  0.0205, -0.0181,  ...,  0.0220, -0.0743,  0.0120],\n",
              "                      ...,\n",
              "                      [-0.0024, -0.0078,  0.0974,  ...,  0.0287,  0.0920, -0.0746],\n",
              "                      [-0.0370,  0.0746,  0.0952,  ..., -0.1193, -0.1014,  0.1059],\n",
              "                      [-0.0297,  0.0539, -0.0555,  ...,  0.0845, -0.0822, -0.0421]],\n",
              "                     device='cuda:0')),\n",
              "             ('lstm.bias_ih_l1',\n",
              "              tensor([-0.0522, -0.0451, -0.0628,  0.0134, -0.0849, -0.0954,  0.0475, -0.0190,\n",
              "                       0.0233, -0.0707,  0.1131, -0.0651,  0.0375,  0.0536, -0.0531, -0.0484,\n",
              "                       0.1060,  0.0857, -0.0186,  0.0717, -0.0742, -0.0255,  0.0771, -0.0047,\n",
              "                      -0.0582,  0.0374, -0.1226, -0.1082,  0.0379,  0.0300,  0.0859,  0.0989,\n",
              "                       0.0498, -0.1225,  0.0064, -0.0466, -0.0483, -0.0576, -0.0690, -0.1074,\n",
              "                       0.0084,  0.0005,  0.0470,  0.0686,  0.0498, -0.0695, -0.0247, -0.0913,\n",
              "                       0.0627, -0.0329,  0.0880,  0.0981,  0.0442, -0.0652, -0.1198,  0.1081,\n",
              "                       0.1197,  0.0404,  0.0944,  0.1235,  0.0193, -0.0424,  0.0140, -0.1052,\n",
              "                       0.0766, -0.0053,  0.0846,  0.0236,  0.0743, -0.0546, -0.1186,  0.1227,\n",
              "                       0.0863,  0.0509,  0.1204, -0.0524,  0.0919, -0.0695,  0.0440,  0.0045,\n",
              "                      -0.0936,  0.0962,  0.0782,  0.0268, -0.0742, -0.0385,  0.0631,  0.0483,\n",
              "                      -0.0283, -0.0106,  0.1222, -0.0679,  0.0783, -0.1211,  0.0358, -0.1026,\n",
              "                      -0.1213,  0.0635,  0.0276,  0.1087, -0.0718,  0.0574,  0.0880, -0.0789,\n",
              "                      -0.0276, -0.0107, -0.0122,  0.1121,  0.0176,  0.0301, -0.1003,  0.1063,\n",
              "                      -0.0770, -0.0543, -0.0342,  0.0646, -0.0588,  0.0791, -0.0471,  0.0436,\n",
              "                       0.0690,  0.0685,  0.0556,  0.0979,  0.0106, -0.0177, -0.0803,  0.0015,\n",
              "                       0.0413, -0.0466, -0.0115,  0.0588, -0.0774, -0.0316,  0.0698,  0.1061,\n",
              "                       0.0344, -0.0171,  0.0928, -0.1166,  0.0357, -0.0693,  0.0265,  0.0422,\n",
              "                       0.0098, -0.1182, -0.0201, -0.0022, -0.1220,  0.0195, -0.1139,  0.0290,\n",
              "                       0.0253, -0.0916,  0.0227, -0.1115,  0.0453, -0.1191,  0.1163,  0.0045,\n",
              "                       0.0815,  0.1185,  0.1207, -0.1249,  0.0444,  0.1196, -0.1227,  0.0892,\n",
              "                      -0.1060,  0.0917, -0.0825, -0.0669, -0.0837,  0.1165,  0.0947,  0.1022,\n",
              "                      -0.0743, -0.0759, -0.0686,  0.0072,  0.0811, -0.0208,  0.0712, -0.0278,\n",
              "                      -0.0693, -0.1237,  0.0618, -0.1051,  0.1064, -0.0861,  0.1080,  0.1232,\n",
              "                       0.0821, -0.0912, -0.1035,  0.0202,  0.0955, -0.1075, -0.0742, -0.1163,\n",
              "                       0.0676, -0.0079, -0.0887, -0.0586, -0.1191, -0.0909,  0.0337,  0.1069,\n",
              "                      -0.0445,  0.0810,  0.1094, -0.0448,  0.0056, -0.1068, -0.0737, -0.1248,\n",
              "                      -0.0382, -0.0603, -0.0486, -0.0174,  0.0357, -0.0683, -0.0624, -0.0132,\n",
              "                       0.0187,  0.1104, -0.0291, -0.0507, -0.0918,  0.0568,  0.0968,  0.1022,\n",
              "                      -0.0612, -0.0342, -0.0582, -0.1222, -0.0177,  0.0119, -0.0870, -0.0049,\n",
              "                       0.1123,  0.0327, -0.0406, -0.0824, -0.0920, -0.0730, -0.0647,  0.0431,\n",
              "                      -0.0731, -0.0644,  0.0787,  0.0503,  0.1006,  0.0292, -0.0859,  0.0746],\n",
              "                     device='cuda:0')),\n",
              "             ('lstm.bias_hh_l1',\n",
              "              tensor([ 0.0057, -0.0729, -0.0762, -0.1097, -0.0965,  0.0695, -0.0206,  0.0466,\n",
              "                      -0.1080, -0.1081, -0.1085, -0.0277, -0.0625,  0.0802,  0.0963, -0.0020,\n",
              "                      -0.0417, -0.0378, -0.1001,  0.0688,  0.0934, -0.0899, -0.0650, -0.0322,\n",
              "                       0.1036,  0.0830,  0.0250, -0.0023,  0.0917,  0.1095,  0.0690, -0.0906,\n",
              "                       0.1188, -0.0520, -0.0613, -0.0521,  0.1037,  0.0308,  0.0744,  0.0643,\n",
              "                      -0.0250,  0.0761,  0.0602, -0.0827, -0.0908,  0.0953, -0.0467,  0.0008,\n",
              "                      -0.0716, -0.1027, -0.0193, -0.1043, -0.0168, -0.1187,  0.1014,  0.0680,\n",
              "                      -0.0353, -0.1188,  0.1249,  0.1138, -0.1046,  0.0524, -0.0250, -0.1045,\n",
              "                      -0.0758, -0.0171,  0.1139, -0.0837, -0.1169,  0.0738,  0.1242, -0.0938,\n",
              "                      -0.0997,  0.1123, -0.0618,  0.0628,  0.0225, -0.1206, -0.0419,  0.0026,\n",
              "                      -0.0341,  0.0303,  0.0974, -0.0029,  0.1023,  0.1223, -0.0316, -0.0800,\n",
              "                       0.0482,  0.0583, -0.1182,  0.1097,  0.0989,  0.0997, -0.1076, -0.0277,\n",
              "                      -0.0415, -0.0674, -0.0458, -0.0126, -0.0732, -0.0224, -0.1212,  0.0250,\n",
              "                      -0.0031,  0.0293,  0.1192, -0.0397, -0.0078, -0.0687, -0.0180, -0.0071,\n",
              "                      -0.0689, -0.0493, -0.0794, -0.0875, -0.1197,  0.1177,  0.0846, -0.0977,\n",
              "                       0.1164,  0.0324, -0.0539,  0.1112, -0.0679, -0.0750, -0.1072,  0.1094,\n",
              "                      -0.0531, -0.0923, -0.0654, -0.0481, -0.0394, -0.0992, -0.0276, -0.0739,\n",
              "                      -0.0573, -0.0704, -0.0087, -0.0759, -0.1239,  0.0129,  0.1087, -0.0310,\n",
              "                      -0.0955, -0.0469, -0.0803, -0.0569, -0.1138,  0.0180,  0.0819,  0.0037,\n",
              "                      -0.1145, -0.0298, -0.0231,  0.0103,  0.0269, -0.0817, -0.0245,  0.0692,\n",
              "                       0.0910, -0.1205, -0.0760, -0.0238,  0.0474,  0.0548, -0.0611, -0.0939,\n",
              "                       0.0748, -0.0381, -0.0777, -0.1212,  0.0260,  0.0302, -0.0349,  0.0231,\n",
              "                       0.0793,  0.0806, -0.0473, -0.0202,  0.0264,  0.1072,  0.0610,  0.0349,\n",
              "                      -0.1106, -0.1142,  0.0038, -0.1071, -0.0711,  0.0240, -0.0408,  0.0774,\n",
              "                      -0.0938, -0.0623,  0.0168, -0.1098,  0.0129, -0.0924, -0.1009, -0.0895,\n",
              "                       0.1211,  0.0416, -0.0960,  0.0744,  0.0599, -0.1154, -0.1220, -0.0692,\n",
              "                      -0.0658, -0.0929,  0.0452, -0.0436,  0.0127,  0.0180,  0.0741,  0.0006,\n",
              "                       0.0692, -0.0739,  0.0487, -0.1180,  0.0877, -0.0158, -0.0915,  0.1064,\n",
              "                       0.1189, -0.0342,  0.0935, -0.1091,  0.0715,  0.0209, -0.0999,  0.0227,\n",
              "                       0.0193, -0.0233,  0.0397, -0.0453, -0.0871,  0.0434,  0.1192,  0.0025,\n",
              "                       0.1122,  0.0646,  0.0157, -0.0580,  0.1235,  0.0263, -0.1167, -0.1185,\n",
              "                       0.0616, -0.0764, -0.0130, -0.0599, -0.0864, -0.0005,  0.1091,  0.0412],\n",
              "                     device='cuda:0')),\n",
              "             ('lstm.weight_ih_l1_reverse',\n",
              "              tensor([[-0.0082,  0.0464, -0.0913,  ...,  0.0490,  0.0543, -0.0191],\n",
              "                      [-0.1234,  0.0891,  0.0724,  ..., -0.1187, -0.0984, -0.1222],\n",
              "                      [-0.1066, -0.0944,  0.0434,  ...,  0.0653,  0.0871,  0.0168],\n",
              "                      ...,\n",
              "                      [-0.1185, -0.0130,  0.0980,  ...,  0.0379,  0.0103, -0.0230],\n",
              "                      [ 0.0875, -0.0221,  0.0196,  ..., -0.1226, -0.0820, -0.0680],\n",
              "                      [ 0.0044,  0.0483,  0.0991,  ..., -0.1250,  0.0184,  0.0288]],\n",
              "                     device='cuda:0')),\n",
              "             ('lstm.weight_hh_l1_reverse',\n",
              "              tensor([[-0.0316,  0.0833, -0.0228,  ..., -0.0109, -0.1130, -0.0597],\n",
              "                      [ 0.0041, -0.0704, -0.0440,  ...,  0.0008,  0.0050, -0.0188],\n",
              "                      [-0.0538,  0.0847,  0.0002,  ..., -0.0326, -0.0008,  0.0870],\n",
              "                      ...,\n",
              "                      [-0.0012, -0.0490, -0.1188,  ...,  0.0153, -0.0869, -0.0084],\n",
              "                      [-0.1199,  0.0592, -0.0679,  ...,  0.1098, -0.1123,  0.0041],\n",
              "                      [-0.0462,  0.0508, -0.0859,  ..., -0.1109,  0.0354, -0.0071]],\n",
              "                     device='cuda:0')),\n",
              "             ('lstm.bias_ih_l1_reverse',\n",
              "              tensor([ 0.0539, -0.0914,  0.1169, -0.0694, -0.0307,  0.0808,  0.0444, -0.0780,\n",
              "                       0.0814,  0.0535, -0.0905, -0.0404, -0.0837, -0.1180,  0.1141, -0.0535,\n",
              "                       0.0933,  0.0951, -0.0350, -0.0585,  0.0758,  0.0907,  0.0547, -0.0240,\n",
              "                      -0.0150, -0.1108, -0.1056, -0.0747, -0.1118, -0.1197, -0.1242,  0.0246,\n",
              "                       0.0920,  0.0447,  0.0215, -0.1179,  0.0261, -0.0456, -0.0381, -0.0330,\n",
              "                      -0.0166,  0.1016, -0.0842,  0.0019, -0.0133,  0.1026,  0.1200, -0.0200,\n",
              "                       0.0639, -0.0443, -0.0883,  0.0202, -0.1052, -0.0903,  0.1061, -0.0140,\n",
              "                      -0.1000,  0.0274, -0.0129,  0.0888, -0.0722, -0.0445, -0.0573,  0.0583,\n",
              "                      -0.0712, -0.1185,  0.0713,  0.1078, -0.0041, -0.0936,  0.0063, -0.0801,\n",
              "                       0.0310,  0.0858, -0.0143, -0.1042, -0.0019,  0.0159,  0.1213,  0.0319,\n",
              "                      -0.0983,  0.0868,  0.1107,  0.1212, -0.0737,  0.0938,  0.1078,  0.0691,\n",
              "                       0.1122,  0.0640,  0.0935,  0.1142, -0.0958, -0.0420, -0.0714,  0.0403,\n",
              "                      -0.0776, -0.0655, -0.0697,  0.0844, -0.0758,  0.0030, -0.0774, -0.0099,\n",
              "                       0.0214, -0.1071, -0.0045,  0.1007, -0.0280, -0.0504,  0.0610,  0.0474,\n",
              "                      -0.0712,  0.0624,  0.0892,  0.1226, -0.0102,  0.0180,  0.0675, -0.1247,\n",
              "                       0.0896,  0.0966, -0.1112,  0.0209, -0.0182,  0.0109,  0.1120,  0.0974,\n",
              "                       0.1071, -0.0964, -0.0387,  0.0683,  0.0275,  0.0018, -0.0452,  0.0370,\n",
              "                      -0.0082,  0.0186, -0.0985, -0.0899,  0.0049,  0.0235, -0.0142, -0.0656,\n",
              "                      -0.0940, -0.0149, -0.0436,  0.0860, -0.0933,  0.0348, -0.0392, -0.0063,\n",
              "                      -0.0393, -0.0126, -0.0669,  0.0187,  0.0103,  0.0386, -0.0588,  0.0997,\n",
              "                       0.0064, -0.0678,  0.0087,  0.1219,  0.0342, -0.0949, -0.0073,  0.0145,\n",
              "                       0.0751, -0.0218,  0.1205, -0.0705, -0.0296,  0.0673,  0.1116, -0.0469,\n",
              "                      -0.0538, -0.0898, -0.0259, -0.0991, -0.1047, -0.0045,  0.0216, -0.0210,\n",
              "                      -0.0480,  0.1114,  0.0515,  0.0002, -0.0854,  0.1202,  0.1081,  0.1093,\n",
              "                      -0.0193, -0.0867,  0.0560, -0.0113,  0.0255, -0.1133, -0.0062,  0.0269,\n",
              "                       0.0280, -0.0633, -0.1232, -0.0288,  0.0186, -0.0775,  0.0433,  0.0391,\n",
              "                       0.0580, -0.0616, -0.0594, -0.0388,  0.0161, -0.1183,  0.0115,  0.0332,\n",
              "                      -0.1054, -0.0879, -0.1043, -0.0217, -0.0616,  0.0472, -0.0787, -0.0684,\n",
              "                      -0.0556, -0.0886, -0.0539,  0.0492, -0.0531, -0.0009, -0.1158, -0.0956,\n",
              "                       0.1195,  0.0365,  0.0765, -0.0015, -0.0391, -0.0097,  0.0041, -0.0711,\n",
              "                      -0.0347, -0.1213, -0.0142, -0.0757,  0.0701,  0.0468,  0.0022, -0.0501,\n",
              "                       0.0628, -0.0843,  0.0271, -0.0191,  0.0616,  0.0897, -0.0322,  0.0443],\n",
              "                     device='cuda:0')),\n",
              "             ('lstm.bias_hh_l1_reverse',\n",
              "              tensor([-0.1150, -0.0382, -0.0206,  0.0120,  0.0682, -0.0912,  0.0129,  0.1063,\n",
              "                       0.1190, -0.0690,  0.0721, -0.1023, -0.0828,  0.0104, -0.0053,  0.0446,\n",
              "                       0.0527, -0.0881, -0.0286, -0.0099,  0.0551, -0.0816,  0.1227,  0.0745,\n",
              "                      -0.1150, -0.0252, -0.0481,  0.1221, -0.0592,  0.1119,  0.0529,  0.0916,\n",
              "                       0.0881,  0.1045, -0.0083,  0.1045, -0.0852,  0.1089, -0.1240, -0.0374,\n",
              "                      -0.0148,  0.0285, -0.0455, -0.0208, -0.0242, -0.0058,  0.0339, -0.0842,\n",
              "                      -0.0816,  0.0842,  0.1077, -0.0086,  0.0598, -0.0985,  0.0476,  0.0152,\n",
              "                      -0.1065, -0.0774, -0.0725, -0.0808,  0.0910,  0.1063, -0.0254, -0.0016,\n",
              "                       0.1196,  0.0117, -0.0009,  0.0313,  0.0650,  0.0690, -0.0624,  0.0510,\n",
              "                       0.0282,  0.0074,  0.0037,  0.0848,  0.1086, -0.0751,  0.0223,  0.0855,\n",
              "                       0.0899, -0.1165,  0.0979, -0.1072,  0.0514, -0.0581,  0.0752, -0.0243,\n",
              "                       0.0173, -0.0778,  0.1109,  0.0971, -0.0232, -0.1204,  0.0677,  0.0303,\n",
              "                      -0.0149, -0.0539, -0.1019, -0.0347, -0.0526, -0.0155,  0.1236,  0.0522,\n",
              "                       0.0177, -0.1180, -0.0936,  0.0496,  0.1161,  0.0953,  0.0549, -0.0622,\n",
              "                       0.0613, -0.0793, -0.0361,  0.1177,  0.0906,  0.0217, -0.0594, -0.0636,\n",
              "                      -0.1149, -0.0244,  0.0144,  0.0133, -0.0634, -0.1128, -0.0682,  0.0910,\n",
              "                       0.0757, -0.0252, -0.0913, -0.0453,  0.0476, -0.0459, -0.0072, -0.0786,\n",
              "                      -0.0577,  0.0530,  0.0602, -0.0211, -0.0509, -0.1222,  0.0684,  0.0699,\n",
              "                      -0.1021, -0.0017, -0.0375, -0.1194, -0.0731, -0.0735,  0.0529,  0.0733,\n",
              "                       0.1036, -0.0771, -0.0575, -0.0487,  0.0442,  0.0816, -0.0486,  0.0952,\n",
              "                       0.1024, -0.0543, -0.1211, -0.0460, -0.0104,  0.1124,  0.0213, -0.0802,\n",
              "                      -0.1040, -0.0166,  0.0139,  0.0666,  0.0595,  0.0681, -0.0356, -0.0236,\n",
              "                      -0.0195, -0.0471, -0.0230,  0.1181, -0.0878,  0.0738, -0.0037, -0.0006,\n",
              "                      -0.0008, -0.0617,  0.0511, -0.0352, -0.0344,  0.0377,  0.0287, -0.0547,\n",
              "                      -0.1201, -0.0371, -0.0557, -0.1161,  0.0876, -0.1081, -0.0004, -0.0275,\n",
              "                       0.1142,  0.0490, -0.0579, -0.0036,  0.0487,  0.0155,  0.1114,  0.0929,\n",
              "                      -0.0121, -0.0173,  0.0367, -0.0115, -0.0361, -0.0865,  0.0225, -0.0144,\n",
              "                      -0.0234, -0.0627, -0.1139, -0.0068,  0.0718, -0.1213,  0.1181, -0.0713,\n",
              "                       0.0431, -0.0071, -0.1249, -0.0388, -0.1208, -0.0376,  0.0861, -0.0031,\n",
              "                       0.0967, -0.0120, -0.0087,  0.0725, -0.1181,  0.0974,  0.0446, -0.0303,\n",
              "                      -0.0509, -0.0388,  0.0666,  0.0158,  0.0913,  0.0511,  0.0644, -0.0655,\n",
              "                       0.1143, -0.0916, -0.0369,  0.0154,  0.0220, -0.1094, -0.0428, -0.0611],\n",
              "                     device='cuda:0')),\n",
              "             ('fc_layers.0.weight',\n",
              "              tensor([[ 0.0293,  0.0411, -0.0085,  ..., -0.0826,  0.0137, -0.0073],\n",
              "                      [ 0.0704, -0.0717,  0.0730,  ...,  0.0236, -0.0357,  0.0190],\n",
              "                      [ 0.0580,  0.0410,  0.0318,  ..., -0.0511,  0.0056, -0.0606],\n",
              "                      ...,\n",
              "                      [-0.0797, -0.0742,  0.0701,  ...,  0.0811,  0.0776,  0.0543],\n",
              "                      [ 0.0531, -0.0723,  0.0043,  ..., -0.0441, -0.0599, -0.0756],\n",
              "                      [ 0.0209, -0.0809, -0.0291,  ...,  0.0870, -0.0148, -0.0130]],\n",
              "                     device='cuda:0')),\n",
              "             ('fc_layers.0.bias',\n",
              "              tensor([ 5.1771e-02, -4.0482e-05,  4.0893e-02, -1.0758e-02, -1.8388e-02,\n",
              "                       5.7911e-02,  2.1335e-02,  1.5093e-02,  7.0216e-02,  6.9093e-02,\n",
              "                      -8.0829e-02,  1.3354e-02, -1.9823e-02, -7.9643e-03,  6.4230e-02,\n",
              "                      -1.6141e-02,  6.8663e-02,  3.8137e-02,  5.7227e-02, -2.1911e-02,\n",
              "                      -7.0678e-03, -3.8692e-02, -4.4397e-02,  3.0478e-02,  6.5810e-02,\n",
              "                      -7.4407e-02, -8.4445e-02, -8.2754e-02,  2.3487e-02, -7.4904e-03,\n",
              "                       7.5584e-02, -1.6739e-02, -6.5733e-02,  7.7140e-02, -8.2647e-02,\n",
              "                       7.5979e-02, -4.0122e-02,  3.9786e-02, -5.8253e-02,  5.3671e-03,\n",
              "                       7.0924e-02, -1.9335e-02,  6.5991e-02,  4.5098e-02, -7.4322e-02,\n",
              "                      -6.7241e-02,  1.0449e-02, -2.6729e-02,  4.3391e-02,  7.5762e-02,\n",
              "                       3.0970e-02,  7.9445e-02, -2.5937e-02,  7.5636e-02, -1.8267e-02,\n",
              "                       2.0980e-03,  5.2197e-02, -5.0964e-03,  1.0075e-02,  7.4428e-02,\n",
              "                       6.7422e-02,  3.0820e-02,  5.2604e-02,  1.3926e-02, -2.6119e-02,\n",
              "                      -1.2097e-02,  5.0152e-02, -7.3397e-02,  4.8465e-02,  8.6003e-02,\n",
              "                       6.0130e-02, -4.1212e-02, -5.7552e-03,  1.0077e-03,  1.8067e-02,\n",
              "                       2.9218e-02, -4.8947e-02, -3.6895e-02, -8.1127e-02,  5.9380e-02,\n",
              "                       8.3925e-02,  3.4138e-02, -7.8034e-02, -4.2537e-03, -2.4888e-02,\n",
              "                       7.9848e-02,  6.2659e-02, -1.6424e-02,  1.2381e-02, -2.7020e-02,\n",
              "                       6.3537e-02, -2.4891e-02,  6.9042e-02, -8.4356e-02,  1.5494e-02,\n",
              "                      -7.6599e-02, -6.3152e-02, -3.4650e-02,  1.5706e-02,  6.8223e-02,\n",
              "                      -2.2469e-02,  1.3219e-02, -9.5538e-03, -7.9420e-02,  8.6431e-02,\n",
              "                      -5.5871e-02, -7.1961e-02,  9.3496e-04,  1.3281e-02,  5.7238e-02,\n",
              "                      -5.9006e-02,  1.9310e-02,  4.2173e-02,  4.2511e-02, -1.1701e-02,\n",
              "                       5.0373e-02,  3.4430e-03,  4.9886e-02,  6.1752e-02,  6.5182e-02,\n",
              "                      -6.4669e-02,  1.8728e-02,  6.8011e-02,  4.4656e-02,  3.1240e-02,\n",
              "                       4.9773e-02, -4.0406e-03,  5.4550e-02], device='cuda:0')),\n",
              "             ('fc_layers.2.weight',\n",
              "              tensor([[-0.0615,  0.0051,  0.0681,  ...,  0.0436, -0.0628,  0.0491],\n",
              "                      [-0.0883,  0.0845, -0.0602,  ...,  0.0018, -0.0397,  0.0662],\n",
              "                      [-0.0768,  0.0074, -0.0445,  ...,  0.0265, -0.0441, -0.0521],\n",
              "                      ...,\n",
              "                      [ 0.0177, -0.0786, -0.0802,  ..., -0.0302,  0.0860, -0.0363],\n",
              "                      [-0.0645,  0.0324,  0.0783,  ..., -0.0038,  0.0794, -0.0549],\n",
              "                      [-0.0549,  0.0222,  0.0257,  ...,  0.0479, -0.0361, -0.0472]],\n",
              "                     device='cuda:0')),\n",
              "             ('fc_layers.2.bias',\n",
              "              tensor([ 0.0094,  0.0798,  0.0711,  0.0728, -0.0724, -0.0639,  0.0428,  0.0104,\n",
              "                       0.0039, -0.0279, -0.0728, -0.0542, -0.0327, -0.0204, -0.0086, -0.0256,\n",
              "                       0.0447,  0.0268,  0.0870, -0.0694, -0.0868,  0.0845, -0.0656,  0.0651,\n",
              "                      -0.0167, -0.0515, -0.0175, -0.0525,  0.0594, -0.0651,  0.0844,  0.0815,\n",
              "                       0.0554, -0.0778,  0.0787,  0.0806, -0.0411,  0.0222,  0.0688,  0.0442,\n",
              "                      -0.0648, -0.0791,  0.0246,  0.0093, -0.0424,  0.0164, -0.0338, -0.0673,\n",
              "                      -0.0392,  0.0312, -0.0630, -0.0618, -0.0604,  0.0192,  0.0589,  0.0343,\n",
              "                      -0.0619, -0.0175,  0.0457, -0.0652,  0.0111, -0.0826, -0.0096,  0.0326],\n",
              "                     device='cuda:0')),\n",
              "             ('fc_layers.4.weight',\n",
              "              tensor([[ 0.0377,  0.0692,  0.0616,  ..., -0.1207,  0.1153, -0.0247],\n",
              "                      [ 0.1188,  0.0202,  0.0840,  ..., -0.0122, -0.0966,  0.0084],\n",
              "                      [ 0.0395, -0.0319, -0.0741,  ..., -0.0920, -0.0646, -0.0757],\n",
              "                      ...,\n",
              "                      [ 0.0260, -0.0258,  0.0649,  ...,  0.1178, -0.0299,  0.0168],\n",
              "                      [-0.0859,  0.0866,  0.0759,  ...,  0.0537, -0.0875, -0.0718],\n",
              "                      [ 0.0124,  0.0329, -0.0484,  ..., -0.0782, -0.0153, -0.0040]],\n",
              "                     device='cuda:0')),\n",
              "             ('fc_layers.4.bias',\n",
              "              tensor([ 0.0770,  0.0192,  0.0877,  0.0084, -0.0065, -0.0567, -0.0096,  0.0167,\n",
              "                       0.0797,  0.0534,  0.0410,  0.0436,  0.1083,  0.1040, -0.0507,  0.1201,\n",
              "                      -0.0249,  0.0099, -0.0278, -0.0117,  0.0439, -0.0561, -0.0150, -0.0408,\n",
              "                      -0.1154,  0.0724, -0.0862, -0.0353, -0.1079,  0.0173, -0.0329, -0.0468],\n",
              "                     device='cuda:0')),\n",
              "             ('fc_layers.6.weight',\n",
              "              tensor([[-0.0637, -0.1024,  0.1636, -0.1479, -0.0673, -0.0140,  0.0091, -0.1403,\n",
              "                        0.0607, -0.1385, -0.0952, -0.0943,  0.0593,  0.1245, -0.1499,  0.0483,\n",
              "                       -0.0751, -0.1477, -0.1583, -0.0454, -0.1481, -0.1646, -0.1475,  0.0986,\n",
              "                        0.1045,  0.1401, -0.0704, -0.0450,  0.0780, -0.0547,  0.1430, -0.0645],\n",
              "                      [ 0.0088,  0.1469, -0.0087,  0.0841, -0.1391,  0.0904, -0.1636, -0.1388,\n",
              "                       -0.1364,  0.0460,  0.0036, -0.0424, -0.1028,  0.1377, -0.1187, -0.1233,\n",
              "                       -0.1183, -0.1494,  0.0873,  0.0036, -0.1098, -0.0008,  0.0155, -0.0403,\n",
              "                        0.0270, -0.0132,  0.1464,  0.0911,  0.1203,  0.1289, -0.0673,  0.0798],\n",
              "                      [-0.0158, -0.0486,  0.0356, -0.1279,  0.0346,  0.1029, -0.0811,  0.0649,\n",
              "                        0.0766, -0.1425, -0.0790,  0.0808, -0.0980, -0.0974, -0.1199,  0.0498,\n",
              "                       -0.0015, -0.0429, -0.0210, -0.1037, -0.0178, -0.1648,  0.1050, -0.1380,\n",
              "                        0.0906, -0.1009, -0.1686, -0.1536, -0.0969,  0.1528,  0.0150,  0.1649],\n",
              "                      [ 0.1757,  0.1655,  0.1602, -0.0470,  0.1671,  0.1503,  0.0484, -0.0466,\n",
              "                       -0.1211,  0.0324, -0.1638,  0.1683, -0.0132, -0.0917,  0.0157, -0.1704,\n",
              "                       -0.0839, -0.1129,  0.1734, -0.1449, -0.0250, -0.1554, -0.1765,  0.1033,\n",
              "                        0.1458,  0.0839, -0.0141, -0.0671, -0.1516, -0.1262, -0.0527,  0.1717],\n",
              "                      [ 0.1644, -0.0712, -0.1387,  0.0247, -0.0559,  0.0855, -0.0964,  0.1372,\n",
              "                        0.0203,  0.1134,  0.0656,  0.0468, -0.0393, -0.0233,  0.0009, -0.1525,\n",
              "                       -0.0894, -0.1482, -0.1675,  0.0636, -0.0669, -0.1437, -0.1680,  0.0410,\n",
              "                        0.0192, -0.0586, -0.1092,  0.1553, -0.0248, -0.0990, -0.1370,  0.0037],\n",
              "                      [ 0.0346, -0.0018,  0.1213, -0.1111, -0.1734, -0.0591,  0.0346, -0.0243,\n",
              "                        0.0041, -0.0596, -0.0825, -0.0630, -0.1763,  0.0510, -0.0676, -0.1741,\n",
              "                        0.1583, -0.0862, -0.0465, -0.0595,  0.0636,  0.1314,  0.1421, -0.0467,\n",
              "                        0.1178, -0.1142, -0.0137, -0.0064,  0.0111,  0.0301,  0.0316,  0.0210],\n",
              "                      [ 0.0189, -0.1627,  0.0050,  0.1389,  0.0179, -0.1348, -0.1631,  0.0235,\n",
              "                        0.1306, -0.0809, -0.0306,  0.1633, -0.1648, -0.0183,  0.0258, -0.1242,\n",
              "                        0.0261,  0.0608,  0.1604,  0.0661, -0.1269,  0.1759, -0.1252,  0.0425,\n",
              "                        0.1712,  0.0066,  0.1168, -0.0714, -0.0731, -0.0545, -0.1066, -0.0129],\n",
              "                      [ 0.1224, -0.1082, -0.0820, -0.0995,  0.0292,  0.1058, -0.1608,  0.0856,\n",
              "                       -0.1236,  0.0678,  0.0091, -0.0272, -0.0468,  0.0353, -0.0721, -0.0207,\n",
              "                        0.0390, -0.1181,  0.1077,  0.1613,  0.1093,  0.1271, -0.0624,  0.1154,\n",
              "                        0.0758, -0.1572, -0.0235, -0.0021, -0.0479, -0.0272,  0.0166,  0.1202],\n",
              "                      [ 0.1107, -0.0698,  0.0428,  0.0576,  0.1600, -0.1507, -0.0881,  0.0155,\n",
              "                       -0.0724,  0.0328,  0.0142, -0.1151, -0.1150, -0.0132,  0.0565,  0.0971,\n",
              "                        0.0266,  0.0299, -0.0416,  0.0729, -0.1557, -0.0157, -0.0466,  0.1295,\n",
              "                        0.0857,  0.1186, -0.1268,  0.1063,  0.1207, -0.0425, -0.1429, -0.0686],\n",
              "                      [-0.1668,  0.0819,  0.0837, -0.1262,  0.1175, -0.0781,  0.0771,  0.0352,\n",
              "                        0.0244, -0.1443,  0.0358,  0.0442, -0.0718, -0.1186,  0.1335, -0.0926,\n",
              "                        0.0745,  0.1432,  0.1430, -0.0729,  0.0701, -0.1120, -0.0386,  0.0460,\n",
              "                        0.0051, -0.0207, -0.0635, -0.0808,  0.0789, -0.0799,  0.0892, -0.0959]],\n",
              "                     device='cuda:0')),\n",
              "             ('fc_layers.6.bias',\n",
              "              tensor([ 0.0928,  0.0631, -0.0387, -0.0445, -0.0190, -0.0939, -0.0515, -0.0366,\n",
              "                       0.0206, -0.0209], device='cuda:0'))])"
            ]
          },
          "metadata": {},
          "execution_count": 9
        }
      ]
    },
    {
      "cell_type": "code",
      "execution_count": 10,
      "metadata": {
        "id": "3w9QW9Lfp1aV",
        "colab": {
          "base_uri": "https://localhost:8080/"
        },
        "outputId": "d0ec4721-7d2e-40f0-eae6-7f18079d00eb"
      },
      "outputs": [
        {
          "output_type": "execute_result",
          "data": {
            "text/plain": [
              "LSTM_Model_label(\n",
              "  (lstm): LSTM(41, 64, num_layers=2, batch_first=True, dropout=0.5, bidirectional=True)\n",
              "  (fc_layers): Sequential(\n",
              "    (0): Linear(in_features=128, out_features=128, bias=True)\n",
              "    (1): Tanh()\n",
              "    (2): Linear(in_features=128, out_features=64, bias=True)\n",
              "    (3): ReLU()\n",
              "    (4): Linear(in_features=64, out_features=32, bias=True)\n",
              "    (5): Sigmoid()\n",
              "    (6): Linear(in_features=32, out_features=2, bias=True)\n",
              "  )\n",
              ")"
            ]
          },
          "metadata": {},
          "execution_count": 10
        }
      ],
      "source": [
        "my_model_label = LSTM_Model_label(num_classes_label, input_size, hidden_size, num_layers).to(device=device)\n",
        "my_model_label"
      ]
    },
    {
      "cell_type": "markdown",
      "metadata": {
        "id": "Cey1CId-jjis"
      },
      "source": [
        "# **optimizer and loss function**"
      ]
    },
    {
      "cell_type": "code",
      "execution_count": 11,
      "metadata": {
        "id": "WNuQFMAekNDH"
      },
      "outputs": [],
      "source": [
        "loss_fn1 = nn.CrossEntropyLoss().to(device=device)\n",
        "loss_fn2 = nn.CrossEntropyLoss().to(device=device)\n",
        "optimizer1 = opt.Adam(params=my_model_attack.parameters(),lr=learning_rate)\n",
        "optimizer2 = opt.Adam(params=my_model_label.parameters(),lr=learning_rate)"
      ]
    },
    {
      "cell_type": "markdown",
      "metadata": {
        "id": "4JYcovfYlpHM"
      },
      "source": [
        "# **train attack cat**"
      ]
    },
    {
      "cell_type": "code",
      "execution_count": 12,
      "metadata": {
        "id": "Qmw8w1eTkeBu",
        "colab": {
          "base_uri": "https://localhost:8080/"
        },
        "outputId": "3ae88d09-823f-4e4d-b75b-fe9511903c42"
      },
      "outputs": [
        {
          "output_type": "stream",
          "name": "stdout",
          "text": [
            "Epoch: 0, loss: 0.7791\n",
            "Epoch: 50, loss: 0.4711\n",
            "Epoch: 100, loss: 0.4500\n",
            "Epoch: 150, loss: 0.5217\n",
            "Epoch: 200, loss: 0.4376\n",
            "Epoch: 250, loss: 0.4579\n",
            "Epoch: 300, loss: 0.4047\n",
            "Epoch: 350, loss: 0.4553\n",
            "Epoch: 400, loss: 0.4566\n",
            "Epoch: 450, loss: 0.4132\n",
            "Epoch: 500, loss: 0.4718\n"
          ]
        }
      ],
      "source": [
        "for epoch in range(num_epoch+1):\n",
        "\n",
        "    for batch_x, batch_y in train_attack_cat_dataloader:\n",
        "\n",
        "        batch_x = torch.reshape(batch_x, (batch_x.shape[0], 1, batch_x.shape[1])) #RuntimeError: For unbatched 2-D input, hx and cx should also be 2-D but got (3-D, 3-D) tensors\n",
        "        \n",
        "        batch_x = batch_x.to(device)\n",
        "        batch_y = batch_y.to(device)\n",
        "\n",
        "        optimizer1.zero_grad()\n",
        "        loss1 = loss_fn1(my_model_attack(batch_x) , batch_y)\n",
        "        loss1.backward() \n",
        "        optimizer1.step()\n",
        "\n",
        "    if epoch % 50 == 0:\n",
        "         print(\"Epoch: %d, loss: %.4f\" % (epoch, loss1.item())) "
      ]
    },
    {
      "cell_type": "markdown",
      "metadata": {
        "id": "PQaRCMJPls5N"
      },
      "source": [
        "# **test attack cat**"
      ]
    },
    {
      "cell_type": "code",
      "execution_count": 13,
      "metadata": {
        "id": "QrtYzVT4loMQ",
        "colab": {
          "base_uri": "https://localhost:8080/"
        },
        "outputId": "38322667-909e-4341-f1d3-ddc7c6b26170"
      },
      "outputs": [
        {
          "output_type": "stream",
          "name": "stdout",
          "text": [
            "acc : 80.86%\n"
          ]
        }
      ],
      "source": [
        "correct = 0\n",
        "\n",
        "for batch_x, labl in test_attack_cat_dataloader:\n",
        "  \n",
        "    batch_x = torch.reshape(batch_x, (batch_x.shape[0], 1, batch_x.shape[1])) #RuntimeError: For unbatched 2-D input, hx and cx should also be 2-D but got (3-D, 3-D) tensors\n",
        "  \n",
        "    batch_x = batch_x.to(device)\n",
        "    labl = labl.to(device)\n",
        "\n",
        "    out = my_model_attack(batch_x)\n",
        "    _,predicted = torch.max(out,1)\n",
        "    correct += torch.sum(predicted == labl)\n",
        "\n",
        "print(\"acc : %.2f\" % (100.*correct / len(test_attack_cat)),end=\"\")\n",
        "print(\"%\")"
      ]
    },
    {
      "cell_type": "markdown",
      "metadata": {
        "id": "pLqOLtA6tQht"
      },
      "source": [
        "# **train label**"
      ]
    },
    {
      "cell_type": "code",
      "execution_count": 14,
      "metadata": {
        "id": "Xm1cu1GhtMJO",
        "colab": {
          "base_uri": "https://localhost:8080/"
        },
        "outputId": "ed386b7a-d8e1-4861-f9d6-31f298530e2d"
      },
      "outputs": [
        {
          "output_type": "stream",
          "name": "stdout",
          "text": [
            "Epoch: 0, loss: 0.1652\n",
            "Epoch: 50, loss: 0.1366\n",
            "Epoch: 100, loss: 0.1227\n",
            "Epoch: 150, loss: 0.1124\n",
            "Epoch: 200, loss: 0.1175\n",
            "Epoch: 250, loss: 0.0969\n",
            "Epoch: 300, loss: 0.1300\n",
            "Epoch: 350, loss: 0.1436\n",
            "Epoch: 400, loss: 0.1557\n",
            "Epoch: 450, loss: 0.1372\n",
            "Epoch: 500, loss: 0.1416\n"
          ]
        }
      ],
      "source": [
        "for epoch in range(num_epoch+1):\n",
        "\n",
        "    for batch_x, batch_y in train_label_dataloader:\n",
        "\n",
        "        batch_x = torch.reshape(batch_x, (batch_x.shape[0], 1, batch_x.shape[1])) #RuntimeError: For unbatched 2-D input, hx and cx should also be 2-D but got (3-D, 3-D) tensors\n",
        "        \n",
        "        batch_x = batch_x.to(device)\n",
        "        batch_y = batch_y.to(device)\n",
        "\n",
        "        optimizer2.zero_grad()\n",
        "        loss2 = loss_fn2(my_model_label(batch_x) , batch_y)\n",
        "        loss2.backward() \n",
        "        optimizer2.step()\n",
        "\n",
        "    if epoch % 50 == 0:\n",
        "         print(\"Epoch: %d, loss: %.4f\" % (epoch, loss2.item())) "
      ]
    },
    {
      "cell_type": "markdown",
      "metadata": {
        "id": "Ig7VBqU0tfZd"
      },
      "source": [
        "# **test label**"
      ]
    },
    {
      "cell_type": "code",
      "execution_count": 15,
      "metadata": {
        "id": "a7u2bQ0WtiG2",
        "colab": {
          "base_uri": "https://localhost:8080/"
        },
        "outputId": "ad89deb8-1f7e-49c4-8b13-82ebd458258a"
      },
      "outputs": [
        {
          "output_type": "stream",
          "name": "stdout",
          "text": [
            "acc : 93.29%\n"
          ]
        }
      ],
      "source": [
        "correct = 0\n",
        "\n",
        "for batch_x, labl in test_label_dataloader:\n",
        "\n",
        "    batch_x = torch.reshape(batch_x, (batch_x.shape[0], 1, batch_x.shape[1])) #RuntimeError: For unbatched 2-D input, hx and cx should also be 2-D but got (3-D, 3-D) tensors\n",
        "\n",
        "    batch_x = batch_x.to(device)\n",
        "    labl = labl.to(device)\n",
        "  \n",
        "    out = my_model_label(batch_x)\n",
        "    _,predicted = torch.max(out,1)\n",
        "    correct += torch.sum(predicted == labl)\n",
        "\n",
        "print(\"acc : %.2f\" % (100.*correct / len(test_label)),end=\"\")\n",
        "print(\"%\")"
      ]
    }
  ],
  "metadata": {
    "accelerator": "GPU",
    "colab": {
      "collapsed_sections": [],
      "provenance": []
    },
    "gpuClass": "standard",
    "kernelspec": {
      "display_name": "Python 3",
      "name": "python3"
    },
    "language_info": {
      "name": "python"
    }
  },
  "nbformat": 4,
  "nbformat_minor": 0
}