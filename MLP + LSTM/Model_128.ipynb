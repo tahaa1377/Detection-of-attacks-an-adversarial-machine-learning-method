{
  "cells": [
    {
      "cell_type": "code",
      "execution_count": 1,
      "metadata": {
        "id": "Ff1b4PxtBQuc"
      },
      "outputs": [],
      "source": [
        "num_epoch = 500      \n",
        "learning_rate = 0.002\n",
        "batch_size = 2000\n",
        "\n",
        "hidden_size = 16 #number of features in hidden state\n",
        "num_layers = 3  #number of stacked lstm layers\n",
        "bidirectional = True\n",
        "drop_out = 0\n",
        "bidirectional_forward_backward = 2 if bidirectional else 1\n",
        "\n",
        "input_size = 41 #number of features\n",
        "num_classes_attack_cat = 10 #number of output classes \n",
        "num_classes_label = 2       #number of output classes \n",
        "\n",
        "hyper_parameter1=128\n",
        "hyper_parameter2=64\n",
        "hyper_parameter3=32\n",
        "hyper_parameter4=16"
      ]
    },
    {
      "cell_type": "code",
      "source": [
        "from google.colab import drive\n",
        "drive.mount('/content/drive')"
      ],
      "metadata": {
        "colab": {
          "base_uri": "https://localhost:8080/"
        },
        "id": "0Gua0hky6SDJ",
        "outputId": "87442ee7-2019-4ff4-fa32-dc94677d5a9d"
      },
      "execution_count": 2,
      "outputs": [
        {
          "output_type": "stream",
          "name": "stdout",
          "text": [
            "Mounted at /content/drive\n"
          ]
        }
      ]
    },
    {
      "cell_type": "code",
      "execution_count": 3,
      "metadata": {
        "colab": {
          "base_uri": "https://localhost:8080/"
        },
        "id": "hZiaj4uT24DH",
        "outputId": "9089874b-70f1-4c5a-bfeb-24ae082ded50"
      },
      "outputs": [
        {
          "output_type": "stream",
          "name": "stdout",
          "text": [
            "GPU\n"
          ]
        }
      ],
      "source": [
        "import pandas as pd\n",
        "from matplotlib import pyplot as plt\n",
        "import numpy as np\n",
        "from torch.utils.data.dataset import Dataset\n",
        "from torch.utils.data import random_split, DataLoader\n",
        "import torch\n",
        "from sklearn.preprocessing import LabelEncoder\n",
        "from sklearn import preprocessing\n",
        "import torch.nn as nn\n",
        "import torch.nn.functional as F\n",
        "import torch.optim as opt\n",
        "from torch.autograd import Variable \n",
        "\n",
        "# GPU OR CPU\n",
        "if torch.cuda.is_available():\n",
        "    device = torch.device(\"cuda:0\")\n",
        "    print(\"GPU\")\n",
        "else:\n",
        "    device = torch.device(\"cpu\")\n",
        "    print(\"CPU\")"
      ]
    },
    {
      "cell_type": "code",
      "execution_count": 4,
      "metadata": {
        "id": "Sv-R_m6Z1EL5"
      },
      "outputs": [],
      "source": [
        "class DataSet_UNSWNB15_attack_cat(Dataset):\n",
        "\n",
        "    def __init__(self,data_set_path):\n",
        "        df = pd.read_csv(data_set_path)\n",
        "        print(df.attack_cat.value_counts().sort_values().plot(kind = \"barh\"))\n",
        "        \n",
        "        # preprocceing\n",
        "        df.drop(['id',\"Unnamed: 0\",\"service\",\"label\"], axis=1, inplace=True)        \n",
        "        cols = ['attack_cat' ,'proto' ,'state']\n",
        "        df[cols] = df[cols].apply(LabelEncoder().fit_transform)\n",
        "\n",
        "        self.data_array = df.values\n",
        "        self.x = self.data_array[:, :41]\n",
        "        self.y = self.data_array[:, 41]\n",
        "      \n",
        "        # normalaized data\n",
        "        scaler = preprocessing.StandardScaler().fit(self.x)\n",
        "        self.x = scaler.transform(self.x)\n",
        "\n",
        "        self.x = torch.tensor(self.x).float()\n",
        "        self.y = torch.tensor(self.y).long()\n",
        "\n",
        "    def __len__(self):\n",
        "        return len(self.data_array)\n",
        "\n",
        "    def __getitem__(self, item):\n",
        "        sample = (self.x[item, :], self.y[item])\n",
        "        return sample\n",
        "\n",
        "        \n",
        "class DataSet_UNSWNB15_label(Dataset):\n",
        "\n",
        "    def __init__(self,data_set_path):\n",
        "        df = pd.read_csv(data_set_path)\n",
        "        print(df.label.value_counts().sort_values().plot(kind = \"pie\"))\n",
        "\n",
        "        # preprocceing\n",
        "        df.drop(['id',\"Unnamed: 0\",\"service\",\"attack_cat\"], axis=1, inplace=True)\n",
        "        cols = ['proto' ,'state']\n",
        "        df[cols] = df[cols].apply(LabelEncoder().fit_transform)\n",
        "\n",
        "        self.data_array = df.values\n",
        "        self.x = self.data_array[:, :41]\n",
        "        self.y = self.data_array[:, 41]\n",
        "        \n",
        "        # normalaized data\n",
        "        scaler = preprocessing.StandardScaler().fit(self.x)\n",
        "        self.x = scaler.transform(self.x)\n",
        "\n",
        "        self.x = torch.tensor(self.x).float()\n",
        "        self.y = torch.tensor(self.y).long()\n",
        "\n",
        "    def __len__(self):\n",
        "        return len(self.data_array)\n",
        "\n",
        "    def __getitem__(self, item):\n",
        "        sample = (self.x[item, :], self.y[item])\n",
        "        return sample"
      ]
    },
    {
      "cell_type": "code",
      "execution_count": 5,
      "metadata": {
        "colab": {
          "base_uri": "https://localhost:8080/",
          "height": 283
        },
        "id": "UykLrbQZ1R7K",
        "outputId": "c348ecc1-bd8d-4fa0-c023-218fb5f5b00b"
      },
      "outputs": [
        {
          "output_type": "stream",
          "name": "stdout",
          "text": [
            "AxesSubplot(0.125,0.125;0.775x0.755)\n"
          ]
        },
        {
          "output_type": "display_data",
          "data": {
            "text/plain": [
              "<Figure size 432x288 with 1 Axes>"
            ],
            "image/png": "[encoded data removed]"
          },
          "metadata": {
            "needs_background": "light"
          }
        }
      ],
      "source": [
        "dataset_attack_cat = DataSet_UNSWNB15_attack_cat(\"/content/drive/MyDrive/datasets/UNSW-NB15/UNSW_NB15.csv\")\n",
        "number_of_test = int(len(dataset_attack_cat)*0.3)\n",
        "number_of_train = len(dataset_attack_cat) - int(len(dataset_attack_cat)*0.3)\n",
        "train_attack_cat ,test_attack_cat = random_split(dataset=dataset_attack_cat, lengths=[number_of_train,number_of_test])\n",
        "\n",
        "train_attack_cat_dataloader = DataLoader(dataset=train_attack_cat ,batch_size=batch_size ,shuffle=True)\n",
        "test_attack_cat_dataloader = DataLoader(dataset=test_attack_cat ,batch_size=batch_size ,shuffle=True)"
      ]
    },
    {
      "cell_type": "code",
      "execution_count": 6,
      "metadata": {
        "colab": {
          "base_uri": "https://localhost:8080/",
          "height": 266
        },
        "id": "LmFY9Q-u29T3",
        "outputId": "6bba8b7b-3c93-4625-a46d-8515c1f7ebc5"
      },
      "outputs": [
        {
          "output_type": "stream",
          "name": "stdout",
          "text": [
            "AxesSubplot(0.260833,0.125;0.503333x0.755)\n"
          ]
        },
        {
          "output_type": "display_data",
          "data": {
            "text/plain": [
              "<Figure size 432x288 with 1 Axes>"
            ],
            "image/png": "[encoded data removed]"
          },
          "metadata": {}
        }
      ],
      "source": [
        "dataset_label = DataSet_UNSWNB15_label(\"/content/drive/MyDrive/datasets/UNSW-NB15/UNSW_NB15.csv\")\n",
        "number_of_test = int(len(dataset_label)*0.3)\n",
        "number_of_train = len(dataset_label) - int(len(dataset_label)*0.3)\n",
        "train_label ,test_label = random_split(dataset=dataset_label, lengths=[number_of_train,number_of_test])\n",
        "\n",
        "train_label_dataloader = DataLoader(dataset=train_label ,batch_size=batch_size ,shuffle=True)\n",
        "test_label_dataloader = DataLoader(dataset=test_label ,batch_size=batch_size ,shuffle=True)"
      ]
    },
    {
      "cell_type": "markdown",
      "metadata": {
        "id": "0HslPLv2IOGd"
      },
      "source": [
        "# **preprocessing ended**\n",
        "\n",
        "# **create model**"
      ]
    },
    {
      "cell_type": "markdown",
      "source": [
        "![bilstm-1.webp](data:image/webp;base64,UklGRuAlAABXRUJQVlA4TNMlAAAvP8RlAOfiOJJtVfnuwMrzzwIiIAX27vLev37TcBVJkmL1Md8jAeThmXlanxj+PeYhR7Jtm9WLbfQyxAw3PevbxsX8RwLRjX3aqzBKlG9UwRy28Nq5HCXMX0LEjeXDG4GAI3GA3FPAaqPFk6KD9GIsMSWwPSkJhj9eiQoa1wcXGdGP2Z8QI3rjjagAGz/Yl5gBV4nID29IFamqXF9aRzOZhCmrJpNkeJFZZKkcXU+gv+T6SyYWOo7f6OQaIs28NXXnzHZxxW1Gq2HsDcf/jXi1fxcy6KCVABYw6mJr2Nx6iT3JdpXolfCPCsqIgSFTlPk2mM6e1QnT33942D0rh3spQPV/FPZVK4QCR0HbNpLDH/Z2D4SImADvFVpVLXVzXNbltupfJzTFH4/xkhp1Ol4YfTZbkZPrXnBTZQYFHbXbzr1au8XmNrh459vaNrttZNv6Au4hk+pVJLpNiYIMCabUxQ6p2Pdy9k3atc/enb06UVYxBOdG938hiA2AH/H/gJqrNUf0XxZk25Ha9CQGE5soT8usYJAgH7QCSrIkK1cCDhBwJfD4RAH+zdx7merMiBNRvDqi/7Qg2ZbbNiNEhnd75hJBgcz6hB/1Vx/TV/+9/vMiz/pZEcR0CkmfH0w6LkGUXrWeQKr1s+MU1ZgoIXypTmEm0CnMc0OFUTmB9KW6BFIW+NM8L6QAyjFZhpO+VAOoeMBP87xQNsyI/Ln0pboAm3aXPo1JnxM0MCYna0hf8TmVAfw0z4zTMTkxjkr0Uz5zdf40z41ToByNU+FPeJUB/DTPiGvxGD0Wp7IvxZUepNNmKf2ZcZICYzInKQJBXAu+CMppxQ8/zTPidERmthoBRvwysJ5C1WT9PFAgWNdHpVCjlH0RFNPlyM51OGueCd8TnooxWAWUfSnOhMNWTpXvacma58Jlpkhh1uUIbAvTcIJYoFw74RS8DKQln9UC6jRrP2vS58BlptB2gaFqqn1T2434tx4qnFgWTRCLSt7Z4totAxrGloESRk+Ry9qria7/ywo753B46ViL3gbbIu3ygijsamDq5LlHORdMkF2UxbqtmqzLC/gZfKOyLCf45iPfpKomr/989d9X/73+839ppIhmkqGwFPEEkWvbpiMKm5l41cR05jYHKtku/+sEOUD3ozHE8Q+RpP9vpXAeSfrP+fr/SNL/N7EJ9TD5Xx6WWwMc8iTQToUSkMOdctsuLVV+AEyetLVTbqq8yZbSbQ3ssy/oNnCnetnb6uAm4pD0o2s3cV/O5cBGK7UyqOftQumwDmi+PmkSsm8XTscOB/vPWH0xp5vfbgJq7PtC5ido1QuwdArCF3Mb1EmgodI97b2k1tj1UiP/su6AnXLNgayn3LOF6WUDbOdf0gF5MAlEcqCXZAdgv/wrDkot7Zn8y/wnKyI7HHpSSh+A+Zdy2/CXJO7VuwnqYOepsXG+b+vuOOpEJc3Jl3JLYOueug3R3Gtx5ghI/Cua++3b0n671+DtAjZf3vnLNzutVFajdq7XoG6uelnXriWw8dVZ0yLlXkOXNelNVLJF7dp76d6ulE0N9Jfz4+a3cCfjLtYsvVRkQOhRPS6d5RrvuPmduyC09w6p37sym4i9msOdsi/qt9vbOTe0S7xkzHfOjfO0RzfJqOfOdpUkN+Fb5NlU7JZqizyQjK3S9rZ99e7L3hVRvZFvSfnqv/+jQin11X+v/3wVW6rH5IEopWPwuKnSyfS4qX6SepiUhzbGlGVRrNfrMiYCxHBdSW0NU9nQFSKz6/OnFOVtQAzPQt+kUsVQ4Pil7c2OXJ2CxtNnuUqVWzpYd5QJFcNB4oeubo1qzKvLUJVWt/B1F9J3R5muwjEcKH4wD8hUstyn6TNVpdatCK2CDrgQW0oUw6Hix/KALETLfZg+c1X63R20O8rkiaEZLH4oD8hKtk5BY+kTvIo4KxvpUOkGBJmppCYQQ7njVwRCp4XLfZQ+g1Vq3TPumXLg7iiTJoaF2PFLDfx9oql0nYJG0meySqnfyxQqdXN10FOgFCOGayeGUsdPGyd0hXOZfLnP0We2SqU/fuHnazp8d5QJEENjY5g6MZQ5frpyQ+fSAuY+Rp/hKpXuearhjyAqJYlhOXD8vE/bAjEoJMx9ij7TVdrcK/35gAF0DN1Rxv2cHzi7zDB0/KwPvH7Ta2TMfYY+81VqxGZ/pYM5Ww6W/vBtPDgcFoPHz/jRGJLKmPsMfehzpcg9E87ykv604w1Uf/beC4ogfsanbf5iaCVl7hP0kSVXwj7nlrZV/lLs7igrOsWwiCF+jgfetjCkYuY+QJ9BcqXDvaLD/Y/E0h1lng7X7cHQssav6FaXSjk7Bc2/jzi5kvM5t5i7o8zRYazxMzttE71T0Mz6CJgrKZ9zi2vxw+d7BI4vfpanbULnvmUfKXMl4lXzOPkegeNjeeAVmmWfCLS4FytXhzEyPG0Tm2EfMeV7zi1eOc7f7E7bBGfXh5R0z7lFzPEIHCuzA6/ozPr0T+HdZClqhkfgaFmdtgnPqg8uwZ5zi5zdqw8kp72GV3xGfUCJ95xb9MxesBs1n9M2+fn00aK6l6kxYHUEjpzLadsYcOmjRnF7LBg5jJ7HgXccePTRo7YXuTKR4/zN4a93GgsOfRQp7WVq40AXjJbf9A+840G/jyaV7TFi4ZAJ9VPQMaHeR5XCXuTKSo7zN21140K7jy59vciVF3mHjCgfeMeGch9u8jznxo36EZgT3VPQ8aHbpxqYHdo1DgovhrzIHngDIdsnI0DO6JmDAPkwB7nKZZgYciN6ChoJ0T6lMsRhapIZIob8SJ62hUKyT63QH6bGleoeR4KnbbEQ7FMs1Id2yYa+BeZJ7sAbDLk+kxbtYWryoY0hV2KnbYZg701clIep8aa3x5fUaVs4pPqMsyzYn2RJvgfqrQ71p6HdjL1NApp0LAPdFbLyuwXCYNOa5rxJ5uqApdMVZQbYrSzCw9QERNkCcyZ04I2HUJ+Rtg133MHBTUTt9uKB9pOhfDmQOd295Hf6Qeb9NNB5MM2uTQZYy9pNz6ZBdk5IZDFkTea0zRbgvbFWO/1JtvH6mi3Pmqq2NDDOQtABtV0e0itf5jZUS2Bu1bW7AJShDqfZdahNtkxsj4aYldMBCP3pEpFNxpTrlCFdFJWJL3pDYTE3QtKirCLLnKpca1F16U+yLJCaldsubQP9n+OZ1y3dwzWHtwC0w7Y9zXmTFYkK9nCK2vWkC4M4J1OmEWIavUHgmBsVaYlYc6fQ8joE+5Ms3Eh53RcTltR++7R1ErlBtsfKSfOqJc2BdjCc+Hmj59c/XF+eLGYxTYuT8+s7pzBEh230BgBkbjQ4TfvD5flJXJljc8dp37W4F3t2qB1Jlu/3DXftqIXby0uhFSUDndu/bd4kOZTmgMRfDAr9G3utuF6ezOKcFpcP9kjEyDCOHjkkc6MgNfaSWDPHXmAKgYW6aCnZwk4NJyWtW2gCvbyU2NZI49B8rbEJ3KlQmgMC/5zeUgBuOYi2MDzAFHHhHD1qTOZGQNGcO486dy4Bo+WWHGCyuVIdYVcHTg5NwpyvqKHVHpkKpZneuikIdjE9/rIQE97Ro0VlTni6sm177Lljm3eJbXFwOsUvCSQna/1kp3Ivme6izt4ma9ukxK4i+WnuRPdUugWBQ1nQEWEePVJY5kSngQe7XsmgeS8E1LE/yQxyFaDbv8TpraV5w93UAuNsV9ktbdrdNHcxD+xP0h2VQFMQuFT5eHCPHiUuc4LTwN2MxWR/Cahbf5K53cTlL9/sUc9bdwXVOPhHumZuGus6t+1RKM0hXgJN6Ir4VpfZbHEX0xyXffQIgZkjMua/Z7Pz5peY6jprciQHtu6VL22b45rXbcetubtxNv5qFuZ+ArQKprnVEjgsnePWTBepU10YVZhosI8eITBzYqvsb0a/1lKa18H+JPMSsfV6k2xVtx037x7LtnKSBK/4Zc6hK+E0h3gJc6dsj7xHdeGyyF7Gsr+Ef/TokJmjIdlvLn9otJBUsq2BQxbqdrLDSu28zTFJfmjs8yQgMajn/mqSf2Bae5rb9vcsd25flO06qOymQk4VBkgjIUD0yKCZE9kaWLDKnWtUghwVDPYU/sOM13QOQwTQHhk0cyJzlw15LR6uxQE2CZxW+dc0CO1RYTMnsLK5jF/rPnWUuJ5xm05gaI7XILRHhc2cIORq3GezpnXvo4ZPORYFEoj2iMCZE1fRNO4cW/dpY+0siPJbFq1IINojAmdOXKZp3Dm27umkUeLcJc0uhxQVoz0adOaEtQZmDF2inDSc3XAsVzkoMNqjQWeuP4E+Z9m6mx5K+DzPWUlFgdEeDTpzApBv8XY2e0A6aVx3B1y0NP9XnwA8PS1OEZ5unRTiTcBFk5ZI9jiM2yML35tbAI+3b2ck4Ytl/9WeuXAIZh1Dd9sSutOZTchVwGsAFJETlrELhwzz527SKHFO5Y2X659mHd0E2NaNYFE0OiXOqRw/eeF6E0X4FlTmzPXULXQdPQZc2bT0jpy4nKLAMH8uUYy89zGwtfxm0RSGs4v2QuLCcXAuApJFUd3m5RETt3h8Y4NzsaAJH0n0wpGLW7fQtQfWgTPfo0Wd/+85O3pPsxPtrhFh/lAo22M0qo7e9VPhhMgNnnoUklPgFm88b3EziG+/UQSe2iPyuimuhOEjEo5cZ3PmeuoWui5s5K48Z7ghd/SOs6P7l3QY5s85yvYYjalvf/hBRQG46OXxIrDG8YgzF+mq7NG7H97HrWXNnDR8JNELRi5yLaHr5Q0eA3OaN48E7pC2lNAuONUOOgzz5wRVe4zEAeTxXvrDD9/E4qqX29fAwpuLPDVpPCXRUhB+UHwsaMNHIRg5Rha9zB69Rbdj4PgWF7Qt7w/fEIi6dhCKNH96a43RaDqy9emHl3G4wePr7t7gdvbJS+QV3pJ7ef+DrTF8PrmakYWPSjByjD656m7RuMKNF8WnGZFwCSUQc+04IhRj/lBojdFYamJsqTi8Bh4vjru6aLzFkzcXeU0mMBtxagwXsxvg9nRGFD4qocjFrjV0XZ02zrxtz0+4oBIuoYPJ8qRvMnqfa7xThCLMHxKtMRJJnOcc30RidvbYnLladHfqLqa+wacZqaNvvOAoNo5v7LEzb2Yk4aMSilzsOoSuM2ebgjtrX9D59t4roYPZAqZvMihqx3tKEeYPibYYjZtQC+05isVscYVmenvc1ezRSeUNLtwE0y0xeDWGDdskfbIHz5zO4gjf3Z//PRC56HUKXWc3zgqB3QLduCXwy1AJfTkYWx6XfZNBUTsoRZo/vbXFaOy4MQ74tuf005/pzGbHF01BeGrl1/Irm6JjZ7HhE41f2rmt712HePwX/vGXv36bsEcYvlPbAJ/FEL5f/OePHSLXLX5j5vrqFrqQcMv7xlkheLJz9SsCf//PwRJKFrUOTEP3TUb/2nFPlDn/8U9WlPlDoCVG4bqx8/Y+Xsud8e97dRPI7IN7h8yrXQ2zSYJ307rvsyxKOv3cV+uZqyYxHdxaZ7auv3GatVsSf+4djn/Fz+P2SMN3+ojH4+HD9ws3IPHE7+e+Ooauo2M0VXHhVMqL/v5zkKjddzA3ddY7GZ1888MQ079aUeZPf/8SRd0IzuOitYI7bQM/XspNQOauvR72CNxZsz4AexYfOkxPeOrK7oiz+/Atog/v34V8w+vDzGmdziII3y/++9+CkYv+Q8fQddRE7apJwdWsEcWHWObacX2IMn/G4kOyWzZft3Ebqr3d2hX4yf0bHObuz9R17bFdznuWifvA2vSgF3csGx08Wc6OOODYcSPNxR0TQxM+QS7uGs92bx32kKxbnDkeadZfB7g4pjMBpBdHmj+kF99Ld7H3cMoyb2vXwS4GaW8tKqmdNg0k22mO3vtb8yPzFo8duHOWMzyeNTXdcUv+bffsHDdowjf53e75Oe7kFm/dFJ3i0avIFPkfLKHRopm/fkuJYf6coGqLkXRy9/GD1P7ftGpOg49UxmEoy8R9XI4/4aoTZ9v6I+xcxF1cF+q4k7aDImnCR/K6k46h68BNwQ3cijk7pREsod1ZfIN7SlHmD4G2GElmnm/3BrDcB0OVO03UHqtwmwZs+B33+unta5vBT8Dr7q6Axxk9pZy57jsuLm7fHNv9V8DNrGf4CIUiF7uOoevsDZrS4RH0uNeXhGLLHyqtMRLLynhfHPrbDk6KEJzc3cw8bncTmC5Cd9LxeDZrt/CcAVeeR5Lb3bSU2/sY0ITv1k/CzTFR+EYf9fdxC0yzcOg6+OQ6Bj7NPK9pb3fzjpPWG9I2nxJimD8nqFpjJJUM2C6TwM+63GPn/yX2WvyJ/DCVb3+4j8Ls7Oqp8XSxmHVw6t9bxyNO/fkPzf0GtJSF90wsLm7t4bs3ZzOq8E3YC0aOiXDoOgDO/CNofKek93zQfe5h8oX3hBjmzznK1hiJJLCrOCADkhx75Vi2HuZGfI8OvTG9K0vdVm7fUYCyF4wcBbz+R/ci3u9ItBP5/Y7IJGt/jFM1sgMya4fNkIfJHklIqW9fSi0cOam1lFDG1BEJjQcZqCORBB6jYWJ8G+xR+4tA81gPsy9wyRNAMIurgO11Rm2OY80UzHWX+12Vybz5k0TpA3wa8PcXH1BnSWO+itAdSyeoKDDao0FnTlYKWDC1llBg8Prq0GMF2QPalRz874xOigeuS6IUGO3RoDMnAQHXjx+ghaRyg3qbzAMrSdvgbWuyfcPs8iQ2GuA6J6HAaI8Gm7lp9HPvzoE+ucL2NgeWLGYl5zxX9zUFRns06MwxIfxS+jlKoSUH7Jn84EymKxwUGO3RoDNHoIDPPiDtge6PWrPYli7Y4w5BtEcEzpy41rjj+bnI8hrIRuqRKM1OqPa3ItojAmdOXHpCPe6hPeolo6Ig1ONtILRHBczcZHrcZVAyy/KE0bLoAzOXMIoGoT0qbOYEpg277dtT6HEf6grX3JbWUyKA9sigmRMFaeu+YLZsWCnR8bnoktcD+SwUEUB7ZNDMEQH6ogdey4bQEkH6c8kJrxkJFT57dMjMCU0b3DFbNpxCVMGowtgHvE8Gz94gYOaoMG3XjH6vVV9NbJdsnm1CSofO3iRY5jQZqO2B0dMGmUpUwWOd/wS0ywt09ib9cZkjA7XxuLJre76/KjYGZeESTUZTYrM3C5U5Qlwbh+ddh1RJhWwWFpHXFhSKFJq9YaDMSU9pHs/7MlViQZuF65N4y4FTEGiR2ZuGyRwltHW2iLh9P7l22/axN+DzrT6P7flWL84vH4Z53ttg9sb9IZkbBUoXJsbcWSxOLu/g9hSFaNCGoYr2mcyvB6jvWPYW/AGZGwvuKyQ12tyRL1fopiG+/mZw+ul8APv2TJTR2/FH1X8saqZOY8sdY6qiGDJXqngaKNos4VQm1l6hkj9+kY3KgGwEyZ9pyBgtvgrpOFijGk0R5M+zwhoopJcC5TioYNKxFEP+PCdUgJFe2UROj4EUQDmWFPokBHUKsJadtpErxTO3uHFjSaHPReDstDTy13eYEaDhtL8jSaKPIcV86pzIX99RCmdyceNGkkSfa8A7ZsqIX9/tH0tPw2t/x5FGn0sghTcVzGmYK6VXwW9/R5FInzugQqC6iF/fYVLZpQi0v6NIpM8VUCBUXaS2DkWukl0Vil86hlT6XAC6ZcyShWaCkVtLrgjfIGQMqfS5AFpucGpkVrZETgtlY3HjRpBMn/pZO7ebTg3Swki9xyF1I1dh7dz4vhTKyuLGjR+dPuWTAuXa7Uw79/5zUnlp734jKqTufYgVItlZ3Ljxo9OnfEpby322IBRaXGURuN2vF7mUP5nFjRs9Qn0u4e8bgAl5vwE6Dw4ZP0Aoev3n9Z+v/nv95/Wf139e/3n956v/Xv/5bzBpUUU4iu/p0DjsOaHXEQ44fZnKyHCi4JSo6QJlFd8HhWJvDykGnH4tIOeJmihgVvF9QDD29NGFDdtddANOv/CHzF483hM1SdCs4vtwaOypY8/dnUcbt+YCsxaO+URNETyr+D4UHnvK6Aq4jrrDU84fgEI29hM1PQCt4vtAgOzpksLtNKr4q6dk/CdqciBaxfdhENlTZd1cymXI7AUDMFFTA9Iqvg8CyZ4may59Zre4hknlQjBREwPTKr4PgcmeIms+nYa5uGzOigVhoqYFqFV8HwCUPcHXY3l9DsrmrFgIJsqsJwWqVXynR2VvGHE6/PEOpVQgJmpKkGoU3+lR2dtEgMo5WwBroUBMFFt6W6POIpMDAxNrFN/JYdmbRZ7RQD6H0TKhmCh+gq9Wg6UwpOrFXkMOy54WhmOHC5cyoZgotqsph6adSOTFtBedqXHZG0WgvtBeNCciwZgolpZwXzIxwpBrFN+pcdlTwvDscPJCJKATFWkTIxOJaszsDikxMHs6rIEZy9opEo6JmgwEG8V3YmD2dChxPeNZOyXCMVEcL3OnZej9E9gyvoWBF7hS4q9ebXEIDpNh+1gYZnvYITIcnmCj+E4MzJ4OBguetbOQCMdEMRZ+/wQGx7cw8KrvyYCtV1bz8DAZBtMYet3n1NvBSTaK77TI7MkAcB1yGYlQTBSQ8vykw/snMDS+hYGBQtmhrr3jHOctw2QYTuPWTXtWIwYkc1yG4zV/R43Lng5rXLMM2wJGIodnhIZR7rjq8P4JDI5vof8CJqkPe/fV8BQuNYcmTcE0zv20zqNAMsdlOF7zlyhokdkTgmXYZg/QgHznzjDKJQqeurx/Ai0TfoErrbDNsWkfxq0ctcuotrTvovPiVXtJuWtEOF7zE5S0yOwN0jNyJc5jDZvIN3zxipOvhxOlGmV1ol7Fqtv7JxC2fQqtKG2RLZ2/rca8dZgM3TR6aY/32377oROG4zV/To3L3ihdItcmzrCtcFyZ04fDiTKMct7b5+9eRCo0HkpeEsLpONgUGCTOC1xpiVq1DpOhm0Yv7fH68PG7Fx0wHK/5E1S0yOwN0i1yYXGGbYUHlfk4nCjVKKsT9eLjdx8Y2mCn5vYrdsiaVG5VcJgMGXnxsQl5u0jHa14Ka3s6dIxcULRhox9zqieV2TicKNkoqxP12yY8Lzh8sgqbo1a5O7h9O2cUPwPDZNiuxjbi49Z+97EJ+ee2NY4Ix2teDlt7WnSOXOCTKMO2w7PKTL7kcKIko6zz2UbnQ3y6vH8CW5aDasz3tilJUCvU3qnqZAfj2Ubo1Uc7/fZzeItnhOM1L4etPS16RM77kijDtsPTygONNz21w4mSjLJO07w6Z2LT5f0TGORcAw5uu5TbpaPgMBm2yaK+ombB1CsZIRGO17wctva06BU5R5Rh2+F55UHGm57a4URJRtnnw8eP7pm4dHj/BLZpziH3E5ApFRwmwzZq36QgsWk3MR538ruPgZLhi3S85qWwtqdDz8g1og0bvYnKQ403PWH+HE6UbJRVbPPqn4lJh/dPYJsEgPZ7+S0JprHOA9qGyPCw6uDFB8Lp99//plNqmk1OgZi/cjEcr/mTv/yeKHK/+vL7t18Rvr0Pv8avekbuf//vPNKwTfB5imcqt84bAd03Ge0Vp2f+HE6UaJTH9M+R70LR+e3naLS/fwJbqT0OKnhgSdswGbakMcndm/7NO/j8Ma7pD3+xGI7X/MmfqMLypy9/RLD38X/QP4V//Ls4wzbBzhT/7sXA403/uWf+nE6UZpTHfCbOCiXZNOSH77/vlprfBecrH1JYUY7XvNY7Z3va734X/PD9eaRh23g3U5m+4hB/OJwo0Sjr78LReTGu9/v+2/D8yxXpeM1LfbG1PZ0v7hm55uJow0Z/8UTl6G93czhRslF2J+pzy8Xj6qPLNta+SMdrXgprezr0jFwj2rDRm6gcvcOJko2yy29D58bWq8D8KyTK8ZoXw9ieEr0i54g0bBs8r8zA4USJRtnmO0HPsTjuNbbxmlfE2p7P616jDdtYHPeqF0UAt3Vtzo0xN95tIh2veSms7enQOXIB0YYtFm4dZeJwomSjCPx1N6PslV38bRfpeM1L/X0DyOwN0jFyQdGGjd6TymwcTpRslNWJci4dZ991uV+HaCcprO3p8l2H+x0R4o7fH1Tmg3KiXjVrkSPtxecOo/guohF7uLz4zGTA2Bf+vonHlRn5SjlRH8bz5/7LNYrv1Pe7SmZv8wdigvjvu4o5UdOBAhZMrWnvt5nM3iIyrB0ACgiQiZoKyFbxnRaZPRU03yGzlwjIRE0FZKv4TovM3iBIx91rFBIBmSiGgFwiYKv4TgzMHimir3hAKhGIibpEORlgreI7+c/9B7MXjxQPTGfuEuGYqMkAbBXfiYHZi4eqpsPjDuGYqAlFj8TjHtLyP+4hhicngBYJxkRNB1ir+D4Sj7sMKiba4Pw58bjLoKYDrFV8J4dlj9bMUqjz+3OZgE4UxsfNkwU4D5k7VIoclj1aI4qv2b1kSoUCOlEUHzdP+lCt4js9KHtRPu5lbpVTKKAThfFx8yQP1Sq+06OyFxuVOr84jXm7VBgmStbXzZM8UKv4PgAoe9TG1oud0e9ULAgTJenr5okDplV8HwKTvRipgs3ZO/tFYiGYKElfN08sIK3i+yCQ7A0AZFs45+UCMFGivm6eWCBaxfdhENmLlVpzeHpg4j3vOv+JkvJ188QI0Cq+DwTIXryUNrE/78uTB6BUSjL2EyXm6+aJEZ5VfB8Kj71BDP9XK1+fR/6SSZeN+UTJ97p54ohmFd+Hw2KPzfPevr48OYluwOmFfN7b3hMl4evmiSGYVXwfEIy9oTAsOD0qCZ93v/FEyfq6eeKEZBXfh0Vib0AYC38vINeJEvd188TJ+u2u2ophya+2f6vaRBa4Ya3/wtsrm4p+ytpH5NfNk5SULloUiiepLVWssQoM20fw180TD1JbpXgSu/tpBae0YfU7bR8BXzdPklMq9MsoppSOvJUSndKGUfsbt498r5sn4anAgkPKldTdTys8pQ2b9jdvH/leN0/syXyXQnH9ICQuZU7rvqGNXt4+gr9unoT8ElN6MxG2lO5+Wua07hva2F1FnyxPlOR04SzupO5MhC+hu59WdNo4ASx4XHYdfdjb3/OHtHmt+JIRl0pOV+5xmS4dvSB9SkTjXn8xdibC2Pqep1LsrZ+8uclncY1J+pSIxp1CUwEpZzJ3P63YdBGsg5rFAa9B+rTI8h3/FFApzmTuflr+lh+NIWn0gvSpEY07/qlAKqwCrfeuUUILIJ73Da08Qfr0jjYdbkSdloq1WN79tAKI5n1DK0+QPj2ydum8TcpbJO9+WglE876hlSdInx5ZuXTeJTmKtyGaXaHqo0hvbbZofTpHF913tzE3RLMrlGG2fEUuSp9qWdgTCH3gxCLOwluUPuUyfulcJNTnBCNMbYzSp16mL53LhLbZFY0sq35J+hTM7KVzqZA2u7KRZOEtSZ+Kmbx0LheqZlfLVx/lqI1J+pTM3KVzyZDtOZSfZrLwlqRPzUxd/JIN0Z7DEcCkNkbp0zMzl86lQ7LtX0YSbPmK0qdpJi6dy4dgz6GU+B9+FaVP1zy/+CWh3nsO5URwS6HIRenTNk8vnTPSc9u/pHgffhWlT988u3ROSa89h7LifPhVlD6N8+jSOSY9DnKVFuMDKJL06ZwHf6U1KN33HIqLbW1M0qd1ji+do9J1z6HAmC68JenTO4eXzsFJvbupERnLw6+i9Cmeo0vnuHQ57kBoDA+/itKneg4unQPTvudQbOzu6y9Kn/L5ePELmbY9h4JjdvBmlD718+HSOTi6cI87EB2rw6+i9LkA/vLSOTahPYfCY1Qbo/S5Av7q0jk3/p5D8fE5eDNJn0vgx0vn4JTenkP5cTn8KkmfW0D+TefGO+5gBBgetTFJn1tgBDadp6Ox5zB1H8VE7JL0uYi3suAXNxp7DjWDgzeT9PnXx9vrP1/99/rPcHIAy4CVTcX4xLGegUiSZaJPLV2wY4Dd+MSxnoFIkmWqWwZnGTlQJ+MTx3oGIkmWyT7tAONKaiAfnzjWMxBJskx3GkDm2ACH8YljPQMRJMvU/xaTeAVhOT5xrGcgLjBLjpyztsXOPbBVUWDxWI/AG8wCYBDZLq7WLnM2ey25b/xS9ViPwBvMshmozY5uO9XB/jv23Dd+iXqsR+AtZhGAM+tYsd/4pemxHoFJskx8gT5TmfPOF02P9QgMkmX8WyBnLOlWO+CQ+6lZqjz4P+EEkAeTGeyOBr11Bkoogn1wdWMjyT5FFY/1CAyUJdS5M2Nsv2kbBtiVP35SSR9evsWx4Li3O/EDVi3bgpJNDXbZqewxkUC9gxn+V4osq2bCofm65RirnV5bai5cuQ7O/4QTObBvF07HDgdt8yuKsc8Nbz03aHk+qDVDyh4DCcxqE4MUWZwaacb6E+y8Xem79v8JJ1a9xHPAzsE2lNh0tUsMK/IecwhcGt9GxQA/yzSglTf2ha596H/CiV7qWP7OHNgu4f/bV0Dryj4v8h5zCFwhuroKn2USUB2GwdFryEwvmybj5pEcQKjV3m8sk9UBq5VmTNxjBIGxgs8yZeRAL8kOTa4tY9j7tnVvvrAKtlOsSXuMIDBKAbJMMcH/Tw0G/6Y5UGt3IcokUlD2CC4wcgmyTBc7HHpSTlf7zQflHHgcuPuGIKfLo9gS8viZDAIN/GkTjQRZpoQO/xNOBIcTV3eikuZk+Fs/BVKgQ1Z2YkvJ40cyCFw25SGHLRU6GhGyTAid/iecUDsvi3YBm3gkJpRsA+yk+ETYI7lA7c9EyNIHddbkTY7AIEnvEpVsUbv2XkO/XbmvVAE9+L2/hO/L0qHZE/YYQKAqEbK0wcY7bn7n5s3eTUW+d2U2EXs1hztlUdz7nP/PM+6dGazmvCl7jCBQlQBZ6vgmSW7Ct8izqdgt1RZ5IBlbpe1t++rdIFf0qXjAHE4ckl1dZ6xJe4wgUJUEWR4+h574aPblZnr95z8iKKW++u/1n9d//g8bBQA=)"
      ],
      "metadata": {
        "id": "F2hNvBs6qBQS"
      }
    },
    {
      "cell_type": "code",
      "execution_count": 7,
      "metadata": {
        "id": "oN6DuQbJibuE"
      },
      "outputs": [],
      "source": [
        "class LSTM_Model_attack(nn.Module):\n",
        "    def __init__(self, num_classes, input_size, hidden_size, num_layers):\n",
        "        super(LSTM_Model_attack, self).__init__()\n",
        "        self.num_classes = num_classes #number of classes\n",
        "        self.num_layers = num_layers #number of layers\n",
        "        self.input_size = input_size #input size\n",
        "        self.hidden_size = hidden_size #hidden state\n",
        "\n",
        "        self.lstm = nn.LSTM(input_size=input_size, hidden_size=hidden_size, num_layers=num_layers, batch_first=True,\n",
        "                            bidirectional=bidirectional, dropout=drop_out) #lstm\n",
        "\n",
        "        self.fc_layers = nn.Sequential(\n",
        "        nn.Linear(hidden_size * bidirectional_forward_backward, hyper_parameter1),\n",
        "        nn.Tanh(),\n",
        "        nn.Linear(hyper_parameter1, hyper_parameter2),\n",
        "        nn.Tanh(),\n",
        "        nn.Linear(hyper_parameter2, hyper_parameter3),\n",
        "        nn.Sigmoid(),\n",
        "        nn.Linear(hyper_parameter3, hyper_parameter4),\n",
        "        nn.Sigmoid(),\n",
        "        nn.Linear(hyper_parameter4, num_classes)\n",
        "        )\n",
        "    \n",
        "    def forward(self,x):\n",
        "                                                # 2 => forward and backward for bidirectional\n",
        "        h_0 = Variable(torch.zeros(self.num_layers * bidirectional_forward_backward, x.size(0), self.hidden_size)).to(device=device) #hidden state\n",
        "        c_0 = Variable(torch.zeros(self.num_layers * bidirectional_forward_backward, x.size(0), self.hidden_size)).to(device=device) #internal state\n",
        "\n",
        "        out, (hn, cn) = self.lstm(x, (h_0, c_0))\n",
        "        out = self.fc_layers(out[:, -1, :]) \n",
        "        return out\n",
        "\n",
        "\n",
        "class LSTM_Model_label(nn.Module):\n",
        "    def __init__(self, num_classes, input_size, hidden_size, num_layers):\n",
        "        super(LSTM_Model_label, self).__init__()\n",
        "        self.num_classes = num_classes #number of classes\n",
        "        self.num_layers = num_layers #number of layers\n",
        "        self.input_size = input_size #input size\n",
        "        self.hidden_size = hidden_size #hidden state\n",
        "\n",
        "        self.lstm = nn.LSTM(input_size=input_size, hidden_size=hidden_size, num_layers=num_layers, batch_first=True, \n",
        "                            bidirectional=bidirectional, dropout=drop_out) #lstm\n",
        "\n",
        "        self.fc_layers = nn.Sequential(\n",
        "        nn.Linear(hidden_size * bidirectional_forward_backward, hyper_parameter1),\n",
        "        nn.Tanh(),\n",
        "        nn.Linear(hyper_parameter1, hyper_parameter2),\n",
        "        nn.Tanh(),\n",
        "        nn.Linear(hyper_parameter2, hyper_parameter3),\n",
        "        nn.Sigmoid(),\n",
        "        nn.Linear(hyper_parameter3, hyper_parameter4),\n",
        "        nn.Sigmoid(),\n",
        "        nn.Linear(hyper_parameter4, num_classes)\n",
        "        )\n",
        "    \n",
        "    def forward(self,x):\n",
        "        h_0 = Variable(torch.zeros(self.num_layers * bidirectional_forward_backward, x.size(0), self.hidden_size)).to(device=device) #hidden state\n",
        "        c_0 = Variable(torch.zeros(self.num_layers * bidirectional_forward_backward, x.size(0), self.hidden_size)).to(device=device) #internal state\n",
        "\n",
        "        out, (hn, cn) = self.lstm(x, (h_0, c_0))\n",
        "        out = self.fc_layers(out[:, -1, :]) \n",
        "        return out\n"
      ]
    },
    {
      "cell_type": "code",
      "execution_count": 8,
      "metadata": {
        "id": "US8JfNI8j3zO",
        "colab": {
          "base_uri": "https://localhost:8080/"
        },
        "outputId": "0c7a9bdf-3a95-415c-c32f-807bf9a6ceb5"
      },
      "outputs": [
        {
          "output_type": "execute_result",
          "data": {
            "text/plain": [
              "LSTM_Model_attack(\n",
              "  (lstm): LSTM(41, 16, num_layers=3, batch_first=True, bidirectional=True)\n",
              "  (fc_layers): Sequential(\n",
              "    (0): Linear(in_features=32, out_features=128, bias=True)\n",
              "    (1): Tanh()\n",
              "    (2): Linear(in_features=128, out_features=64, bias=True)\n",
              "    (3): Tanh()\n",
              "    (4): Linear(in_features=64, out_features=32, bias=True)\n",
              "    (5): Sigmoid()\n",
              "    (6): Linear(in_features=32, out_features=16, bias=True)\n",
              "    (7): Sigmoid()\n",
              "    (8): Linear(in_features=16, out_features=10, bias=True)\n",
              "  )\n",
              ")"
            ]
          },
          "metadata": {},
          "execution_count": 8
        }
      ],
      "source": [
        "my_model_attack = LSTM_Model_attack(num_classes_attack_cat, input_size, hidden_size, num_layers).to(device=device)\n",
        "my_model_attack"
      ]
    },
    {
      "cell_type": "code",
      "source": [
        "my_model_attack.state_dict()"
      ],
      "metadata": {
        "colab": {
          "base_uri": "https://localhost:8080/"
        },
        "id": "Dq8JkQZ9ukCs",
        "outputId": "c59e5a15-0846-40a4-ed52-9d7861d1041d"
      },
      "execution_count": 9,
      "outputs": [
        {
          "output_type": "execute_result",
          "data": {
            "text/plain": [
              "OrderedDict([('lstm.weight_ih_l0',\n",
              "              tensor([[ 0.2017,  0.1534, -0.0408,  ..., -0.1532, -0.2287,  0.2193],\n",
              "                      [ 0.2069,  0.1522,  0.1563,  ...,  0.1596, -0.1545, -0.1293],\n",
              "                      [ 0.2315,  0.0776,  0.1303,  ...,  0.0229, -0.1451,  0.2323],\n",
              "                      ...,\n",
              "                      [ 0.1361, -0.1920, -0.1227,  ...,  0.2420,  0.1132,  0.1741],\n",
              "                      [-0.0337,  0.0538,  0.1390,  ..., -0.1259,  0.0170, -0.0827],\n",
              "                      [-0.0631, -0.0769,  0.1049,  ..., -0.0332,  0.1210, -0.0219]],\n",
              "                     device='cuda:0')),\n",
              "             ('lstm.weight_hh_l0',\n",
              "              tensor([[-0.1400,  0.1838,  0.1677,  ...,  0.1771, -0.1543, -0.1780],\n",
              "                      [-0.0155,  0.0281, -0.1631,  ...,  0.0943,  0.2055,  0.1445],\n",
              "                      [-0.1837,  0.0273, -0.1847,  ...,  0.2142, -0.1703,  0.1457],\n",
              "                      ...,\n",
              "                      [ 0.1990,  0.1768, -0.2026,  ..., -0.2205,  0.1619, -0.0194],\n",
              "                      [-0.0793, -0.0141,  0.1534,  ...,  0.0143, -0.1265,  0.0634],\n",
              "                      [-0.0702, -0.1337, -0.2168,  ...,  0.1411, -0.0105, -0.1084]],\n",
              "                     device='cuda:0')),\n",
              "             ('lstm.bias_ih_l0',\n",
              "              tensor([-0.2289,  0.0652,  0.2281,  0.0367, -0.1141, -0.0119,  0.1853, -0.2110,\n",
              "                       0.1835,  0.1280, -0.0369,  0.0510,  0.0386,  0.0390,  0.1923, -0.1273,\n",
              "                      -0.1186,  0.1780, -0.0514, -0.1272, -0.1508,  0.0113, -0.2108,  0.1217,\n",
              "                       0.1583, -0.0128, -0.1179, -0.0410, -0.1195,  0.1217, -0.0065, -0.2361,\n",
              "                       0.1783,  0.1535, -0.2051,  0.1151, -0.0746,  0.0600, -0.0382,  0.1232,\n",
              "                      -0.1091, -0.0837, -0.0900, -0.2432,  0.0571, -0.0361,  0.1028,  0.0650,\n",
              "                       0.2272,  0.0594,  0.0164,  0.0136, -0.1135, -0.1345,  0.0181, -0.1784,\n",
              "                       0.1156,  0.1354,  0.0967, -0.0861, -0.1049,  0.2298,  0.0893, -0.0370],\n",
              "                     device='cuda:0')),\n",
              "             ('lstm.bias_hh_l0',\n",
              "              tensor([ 0.0095,  0.1170, -0.0997, -0.1506,  0.1456, -0.0636, -0.0142, -0.1150,\n",
              "                       0.1123,  0.0757,  0.0596,  0.2078, -0.1001,  0.1462,  0.2202,  0.0887,\n",
              "                      -0.2282, -0.0914,  0.2010,  0.0417, -0.1607, -0.1821,  0.0508,  0.0419,\n",
              "                       0.0801,  0.2113,  0.0708,  0.1741, -0.2495, -0.0411, -0.0608, -0.0202,\n",
              "                       0.2337, -0.0882,  0.1165, -0.1456,  0.1587, -0.0498,  0.2448,  0.1340,\n",
              "                      -0.1121,  0.2360,  0.1080, -0.0409, -0.0306,  0.1106,  0.2326,  0.0142,\n",
              "                      -0.0195,  0.2159, -0.1547,  0.1312,  0.1325,  0.1993, -0.1167,  0.0890,\n",
              "                      -0.0833,  0.1718,  0.1157,  0.1711, -0.1077,  0.2275, -0.1498,  0.1564],\n",
              "                     device='cuda:0')),\n",
              "             ('lstm.weight_ih_l0_reverse',\n",
              "              tensor([[ 2.2122e-01, -2.1804e-02,  3.5669e-02,  ...,  1.7109e-01,\n",
              "                       -8.0404e-02, -3.3352e-02],\n",
              "                      [ 4.1542e-03, -1.2362e-01, -3.4700e-02,  ..., -1.4432e-01,\n",
              "                       -4.7386e-05, -1.3081e-01],\n",
              "                      [ 5.6714e-02, -2.4409e-01, -6.7790e-02,  ..., -1.9380e-01,\n",
              "                        1.3792e-01, -4.1140e-02],\n",
              "                      ...,\n",
              "                      [-1.4025e-01, -1.1922e-01, -2.3283e-01,  ..., -1.5362e-01,\n",
              "                       -4.7066e-02, -2.4581e-01],\n",
              "                      [ 6.7231e-02,  5.3838e-02,  4.0990e-02,  ...,  1.6973e-01,\n",
              "                       -9.1436e-02,  6.9278e-03],\n",
              "                      [ 1.8314e-02, -1.1921e-01, -2.2839e-01,  ...,  9.4085e-02,\n",
              "                        4.6251e-02,  6.5304e-02]], device='cuda:0')),\n",
              "             ('lstm.weight_hh_l0_reverse',\n",
              "              tensor([[ 0.1967, -0.2012, -0.0648,  ...,  0.0313, -0.1505, -0.1140],\n",
              "                      [ 0.0033,  0.1992,  0.1112,  ...,  0.0111, -0.0655, -0.1070],\n",
              "                      [-0.0299, -0.0142,  0.1593,  ..., -0.0873,  0.2453,  0.1559],\n",
              "                      ...,\n",
              "                      [ 0.0156, -0.0956,  0.1433,  ..., -0.2167, -0.0835, -0.0772],\n",
              "                      [ 0.1324, -0.1112,  0.1238,  ..., -0.0576, -0.0206,  0.2102],\n",
              "                      [-0.1868, -0.1533,  0.0955,  ...,  0.1907, -0.1993,  0.0865]],\n",
              "                     device='cuda:0')),\n",
              "             ('lstm.bias_ih_l0_reverse',\n",
              "              tensor([ 0.0734,  0.1760, -0.1391, -0.1992,  0.0996, -0.0921,  0.0405,  0.1353,\n",
              "                       0.1307, -0.1487, -0.1128,  0.2435, -0.0930, -0.1126, -0.0306, -0.2461,\n",
              "                       0.1766,  0.1924,  0.1892,  0.1149, -0.0259,  0.0190, -0.1562,  0.0628,\n",
              "                      -0.2269,  0.0903,  0.1254,  0.0382, -0.1384, -0.0462, -0.1808, -0.1665,\n",
              "                      -0.0048,  0.1210, -0.1665,  0.0336, -0.2484, -0.0986, -0.0498, -0.0677,\n",
              "                       0.1058, -0.0017, -0.0933, -0.1586, -0.1746,  0.1158,  0.1991,  0.1224,\n",
              "                      -0.2153,  0.1139, -0.1039,  0.1551, -0.1193, -0.0587, -0.1140,  0.1699,\n",
              "                      -0.1256, -0.1182,  0.0874, -0.1271, -0.1197, -0.2352, -0.1434,  0.0858],\n",
              "                     device='cuda:0')),\n",
              "             ('lstm.bias_hh_l0_reverse',\n",
              "              tensor([-2.0106e-01, -1.9480e-01,  1.8535e-01,  1.3977e-01,  1.6369e-01,\n",
              "                       1.3951e-01,  1.9574e-01,  9.2599e-03,  2.0946e-01,  1.6863e-01,\n",
              "                      -3.6407e-02,  5.1070e-02, -1.2956e-01, -1.0804e-02, -1.3720e-01,\n",
              "                       9.9627e-02, -1.3113e-01,  1.3150e-01, -1.6897e-01,  1.9092e-01,\n",
              "                      -2.0237e-01,  2.0861e-01, -1.2156e-01, -5.8256e-02,  1.1951e-01,\n",
              "                      -2.0368e-01,  3.7494e-02,  1.4726e-01,  1.5508e-01,  1.8302e-01,\n",
              "                       1.2208e-01,  1.2387e-01,  4.9557e-03, -2.2398e-01, -7.2718e-05,\n",
              "                       1.1378e-03, -1.5479e-01, -1.4268e-01,  9.5981e-02,  1.0494e-01,\n",
              "                      -5.0644e-02, -2.0189e-01,  1.5405e-02,  7.3118e-02, -5.5021e-02,\n",
              "                       7.9692e-02, -4.4560e-04,  1.9290e-01,  3.7217e-02, -1.6875e-01,\n",
              "                      -8.2880e-04,  7.2402e-02, -2.4752e-01, -1.5062e-01, -9.8997e-02,\n",
              "                      -1.0530e-01,  1.7689e-01,  2.5215e-02, -1.8331e-01,  1.2476e-02,\n",
              "                       6.1849e-02, -1.5151e-02, -1.3939e-01, -1.4727e-01], device='cuda:0')),\n",
              "             ('lstm.weight_ih_l1',\n",
              "              tensor([[ 0.0125, -0.1370, -0.1355,  ..., -0.1721,  0.2096, -0.1948],\n",
              "                      [ 0.1951,  0.0449, -0.1468,  ...,  0.1813, -0.0195, -0.2386],\n",
              "                      [ 0.0684, -0.0220,  0.1835,  ...,  0.0526,  0.2402,  0.0112],\n",
              "                      ...,\n",
              "                      [-0.2035, -0.2219,  0.2397,  ...,  0.0381,  0.2468, -0.1680],\n",
              "                      [-0.1846, -0.2369, -0.0385,  ...,  0.0347,  0.1404,  0.1181],\n",
              "                      [-0.1728, -0.1631, -0.2267,  ...,  0.0627,  0.1022, -0.0973]],\n",
              "                     device='cuda:0')),\n",
              "             ('lstm.weight_hh_l1',\n",
              "              tensor([[-0.1659,  0.0010,  0.1484,  ..., -0.2143,  0.1306,  0.2202],\n",
              "                      [-0.0295,  0.0268,  0.0258,  ..., -0.0404,  0.0347,  0.1384],\n",
              "                      [ 0.1896, -0.1997, -0.0075,  ..., -0.0785,  0.1872,  0.2471],\n",
              "                      ...,\n",
              "                      [-0.0248, -0.1095,  0.0083,  ...,  0.1184, -0.1683,  0.1909],\n",
              "                      [-0.1148, -0.0222, -0.2079,  ..., -0.0651, -0.2357,  0.1438],\n",
              "                      [ 0.0846, -0.1459,  0.0351,  ..., -0.2255,  0.0695, -0.1916]],\n",
              "                     device='cuda:0')),\n",
              "             ('lstm.bias_ih_l1',\n",
              "              tensor([-0.1525,  0.2426, -0.1620,  0.2488,  0.0211, -0.0580,  0.0900,  0.2292,\n",
              "                      -0.2185,  0.2368, -0.2384,  0.0879, -0.2089,  0.1135,  0.1786,  0.0943,\n",
              "                       0.1064, -0.0438, -0.2176,  0.1222, -0.1622, -0.0933, -0.1682, -0.1354,\n",
              "                      -0.0624,  0.1872, -0.1517, -0.0354,  0.1234, -0.2216,  0.0506,  0.0820,\n",
              "                       0.1866,  0.0321, -0.1351, -0.0321, -0.0465, -0.1324, -0.1790,  0.1525,\n",
              "                      -0.1813, -0.2041,  0.1302, -0.1325, -0.1573, -0.2478, -0.0423,  0.2323,\n",
              "                       0.0968, -0.0407, -0.1527,  0.0161,  0.1580, -0.0163,  0.1598, -0.0747,\n",
              "                       0.0027,  0.1065,  0.0196,  0.1514, -0.2499, -0.0441,  0.1629,  0.0822],\n",
              "                     device='cuda:0')),\n",
              "             ('lstm.bias_hh_l1',\n",
              "              tensor([ 0.0603,  0.1026, -0.2188, -0.1650,  0.0278,  0.1652,  0.0663, -0.1610,\n",
              "                      -0.0412, -0.1963,  0.1133,  0.0062, -0.1091, -0.1524,  0.2449,  0.0246,\n",
              "                      -0.0854, -0.0620,  0.1935,  0.1302, -0.0981, -0.1845,  0.1181,  0.1994,\n",
              "                      -0.1511, -0.0378, -0.0240,  0.2168, -0.1987, -0.1805,  0.0498, -0.1934,\n",
              "                      -0.0937, -0.0731,  0.0894, -0.0623,  0.1843, -0.1250, -0.2076,  0.1155,\n",
              "                      -0.2110,  0.1396, -0.0254,  0.1751, -0.1119,  0.2066, -0.0465,  0.1921,\n",
              "                      -0.0995, -0.2091, -0.1354, -0.1139,  0.0881, -0.0891,  0.1833,  0.2098,\n",
              "                      -0.2397,  0.0364,  0.1056, -0.0777, -0.0348,  0.2378,  0.0251, -0.2297],\n",
              "                     device='cuda:0')),\n",
              "             ('lstm.weight_ih_l1_reverse',\n",
              "              tensor([[-0.0391,  0.2427, -0.1981,  ...,  0.2277,  0.2481,  0.1688],\n",
              "                      [-0.0719, -0.0121, -0.0931,  ..., -0.2298,  0.1778, -0.2224],\n",
              "                      [ 0.0268,  0.2053,  0.1612,  ...,  0.0020,  0.0919,  0.0219],\n",
              "                      ...,\n",
              "                      [ 0.0766,  0.0256, -0.1807,  ...,  0.0557, -0.2222, -0.0050],\n",
              "                      [-0.1460, -0.1641,  0.0753,  ...,  0.1740,  0.0202, -0.2475],\n",
              "                      [ 0.0282,  0.1583, -0.2414,  ...,  0.0495,  0.2271, -0.0260]],\n",
              "                     device='cuda:0')),\n",
              "             ('lstm.weight_hh_l1_reverse',\n",
              "              tensor([[ 0.0564,  0.1216, -0.1024,  ...,  0.1477, -0.0019,  0.0934],\n",
              "                      [ 0.1187, -0.1756,  0.0930,  ..., -0.1416,  0.0140, -0.0205],\n",
              "                      [ 0.0917,  0.0318,  0.0622,  ...,  0.2104, -0.2472,  0.0230],\n",
              "                      ...,\n",
              "                      [ 0.2040,  0.0507, -0.2304,  ...,  0.0926,  0.0415,  0.0316],\n",
              "                      [ 0.2418,  0.2314,  0.0424,  ..., -0.0028, -0.0655, -0.1799],\n",
              "                      [ 0.0445, -0.2142,  0.2107,  ..., -0.1640,  0.1941, -0.0228]],\n",
              "                     device='cuda:0')),\n",
              "             ('lstm.bias_ih_l1_reverse',\n",
              "              tensor([ 0.1117, -0.2437,  0.1961, -0.1994,  0.0132,  0.1067,  0.2435,  0.0411,\n",
              "                       0.0590, -0.0038, -0.1200, -0.0486, -0.0836, -0.2392, -0.1758, -0.1277,\n",
              "                       0.1438, -0.1468, -0.0545,  0.1062,  0.0399, -0.0651, -0.0386,  0.1674,\n",
              "                      -0.1731,  0.1256,  0.2337, -0.0541,  0.2311, -0.0728,  0.2186, -0.2309,\n",
              "                       0.0587, -0.1218,  0.1536, -0.1314, -0.0180,  0.0409, -0.1703,  0.1793,\n",
              "                      -0.1192,  0.0525,  0.0768,  0.2406, -0.1399,  0.2416,  0.2441, -0.0982,\n",
              "                      -0.1794, -0.0371,  0.0722, -0.0112, -0.1849,  0.0685,  0.1774,  0.0704,\n",
              "                      -0.0647, -0.0861, -0.1502, -0.1199, -0.1013,  0.2483, -0.1152, -0.1654],\n",
              "                     device='cuda:0')),\n",
              "             ('lstm.bias_hh_l1_reverse',\n",
              "              tensor([ 0.0712,  0.2179, -0.2344, -0.0070,  0.0939, -0.1627,  0.0884,  0.1735,\n",
              "                      -0.2282, -0.0013, -0.2453,  0.0634,  0.0978, -0.0602, -0.1735,  0.2422,\n",
              "                       0.2303, -0.0141, -0.0591,  0.2255,  0.1553, -0.1915,  0.2454,  0.0445,\n",
              "                      -0.0372, -0.1836, -0.1553, -0.1939,  0.0313,  0.1590, -0.0398, -0.0008,\n",
              "                       0.1597, -0.2293, -0.0564, -0.0738,  0.0681, -0.1602,  0.0184,  0.2198,\n",
              "                      -0.1333,  0.2470,  0.1025,  0.2321,  0.0024,  0.1137,  0.1550, -0.1261,\n",
              "                      -0.2049, -0.1757, -0.0199, -0.2044, -0.0701,  0.0178, -0.0466,  0.2360,\n",
              "                      -0.0749, -0.2227, -0.1197,  0.1575, -0.0189, -0.1626, -0.1661, -0.2327],\n",
              "                     device='cuda:0')),\n",
              "             ('lstm.weight_ih_l2',\n",
              "              tensor([[ 0.1414, -0.0566,  0.0154,  ..., -0.2080, -0.0035, -0.2098],\n",
              "                      [ 0.1441,  0.1804, -0.2170,  ...,  0.0631,  0.2367, -0.0720],\n",
              "                      [ 0.0066, -0.1969,  0.0816,  ..., -0.1395, -0.2283, -0.0610],\n",
              "                      ...,\n",
              "                      [ 0.0348, -0.0740,  0.2447,  ..., -0.1871, -0.0127, -0.1009],\n",
              "                      [ 0.1964, -0.1813,  0.1101,  ..., -0.0181,  0.1392, -0.0314],\n",
              "                      [ 0.0627, -0.0110,  0.1749,  ...,  0.2265, -0.0087, -0.1445]],\n",
              "                     device='cuda:0')),\n",
              "             ('lstm.weight_hh_l2',\n",
              "              tensor([[ 0.1166, -0.1683, -0.1380,  ...,  0.2439, -0.1403,  0.0699],\n",
              "                      [-0.0142,  0.1272, -0.0604,  ...,  0.2179,  0.0612,  0.1035],\n",
              "                      [-0.2164, -0.1086, -0.0567,  ...,  0.1377,  0.0724,  0.1247],\n",
              "                      ...,\n",
              "                      [-0.0435, -0.0622,  0.1774,  ...,  0.0082,  0.1182,  0.0626],\n",
              "                      [ 0.2397, -0.0876,  0.1535,  ..., -0.1936,  0.1166,  0.1598],\n",
              "                      [ 0.1039,  0.1556,  0.1580,  ..., -0.0157,  0.1616, -0.0114]],\n",
              "                     device='cuda:0')),\n",
              "             ('lstm.bias_ih_l2',\n",
              "              tensor([-0.0232,  0.2003, -0.1842, -0.0463, -0.1371, -0.0667, -0.1969, -0.1358,\n",
              "                       0.0100, -0.0568, -0.1771, -0.0725,  0.1273, -0.0648,  0.1094,  0.0299,\n",
              "                      -0.1864, -0.0219, -0.0549,  0.1806,  0.1252, -0.0387, -0.0096,  0.1072,\n",
              "                       0.0789, -0.0194, -0.2379,  0.2135, -0.0074, -0.1213,  0.1979,  0.1006,\n",
              "                      -0.1375, -0.0302,  0.0290, -0.0225, -0.0136, -0.1250,  0.1012, -0.0170,\n",
              "                       0.2055,  0.1740,  0.1276, -0.1325,  0.0790, -0.1921,  0.1879,  0.1179,\n",
              "                       0.1839,  0.1337, -0.0660,  0.0699, -0.1820, -0.0828, -0.0987,  0.1111,\n",
              "                      -0.0549, -0.1306, -0.1624,  0.2455,  0.0800, -0.0635,  0.0594,  0.0145],\n",
              "                     device='cuda:0')),\n",
              "             ('lstm.bias_hh_l2',\n",
              "              tensor([ 0.2127, -0.1788,  0.2076, -0.0683, -0.2191,  0.1018, -0.0522,  0.1356,\n",
              "                       0.2160,  0.0948, -0.0535, -0.1366, -0.1074, -0.1886,  0.0484,  0.2259,\n",
              "                       0.1376,  0.1713, -0.1006, -0.1873,  0.0260, -0.0510,  0.0887,  0.2314,\n",
              "                      -0.1741, -0.0418, -0.0886,  0.1767,  0.2241, -0.1614, -0.0390, -0.0341,\n",
              "                       0.1216,  0.1516,  0.0721, -0.1688,  0.2066, -0.0983, -0.1333, -0.1834,\n",
              "                       0.1787,  0.1183,  0.0962, -0.2450, -0.0271, -0.2044,  0.0984, -0.0830,\n",
              "                       0.0737, -0.1650, -0.0644, -0.0205,  0.1674, -0.1470,  0.0274, -0.0876,\n",
              "                      -0.1733, -0.1687, -0.0579, -0.1506,  0.1061, -0.1242, -0.0938, -0.0585],\n",
              "                     device='cuda:0')),\n",
              "             ('lstm.weight_ih_l2_reverse',\n",
              "              tensor([[-0.0610, -0.0725,  0.1862,  ...,  0.1884,  0.1091, -0.1913],\n",
              "                      [ 0.1154, -0.1636, -0.1055,  ..., -0.0113, -0.1601,  0.1548],\n",
              "                      [-0.1560,  0.2247, -0.1592,  ..., -0.1598, -0.0652,  0.1896],\n",
              "                      ...,\n",
              "                      [ 0.2045,  0.0111, -0.0301,  ...,  0.1167,  0.1718, -0.1823],\n",
              "                      [ 0.2093,  0.1916, -0.2361,  ..., -0.2168, -0.0526, -0.1026],\n",
              "                      [-0.0988, -0.1513,  0.0127,  ..., -0.0008,  0.0587, -0.2214]],\n",
              "                     device='cuda:0')),\n",
              "             ('lstm.weight_hh_l2_reverse',\n",
              "              tensor([[ 0.0847,  0.0967, -0.0057,  ...,  0.0199, -0.0468,  0.0070],\n",
              "                      [ 0.0923,  0.1677, -0.0292,  ..., -0.1216, -0.0156,  0.0237],\n",
              "                      [-0.0469,  0.2088, -0.1154,  ...,  0.1375,  0.1487, -0.0479],\n",
              "                      ...,\n",
              "                      [-0.2199, -0.0273,  0.1894,  ...,  0.0319,  0.0269, -0.0278],\n",
              "                      [-0.1674,  0.0335,  0.2341,  ..., -0.0994, -0.2285, -0.2337],\n",
              "                      [-0.0557,  0.0437, -0.0349,  ..., -0.0474, -0.1721, -0.0479]],\n",
              "                     device='cuda:0')),\n",
              "             ('lstm.bias_ih_l2_reverse',\n",
              "              tensor([-0.1894,  0.1215, -0.1477, -0.2119,  0.1039, -0.0118,  0.2051,  0.1978,\n",
              "                       0.0286, -0.2164,  0.1320, -0.2481, -0.2129, -0.0763, -0.0184, -0.0724,\n",
              "                      -0.1886,  0.2146,  0.0055, -0.0512, -0.2233, -0.0503, -0.0256,  0.0174,\n",
              "                      -0.1426,  0.2487,  0.2435, -0.1251, -0.0520, -0.1916, -0.2392,  0.2340,\n",
              "                       0.0316,  0.0802, -0.1566,  0.0218, -0.2320, -0.0500,  0.0003,  0.0086,\n",
              "                      -0.2346, -0.1811,  0.0686,  0.2419,  0.1121, -0.0297,  0.1639, -0.0770,\n",
              "                      -0.2334, -0.2013, -0.2161, -0.2155, -0.1311, -0.2339,  0.0342,  0.0343,\n",
              "                       0.0062, -0.2230, -0.0958,  0.0617,  0.1243,  0.0619, -0.1479, -0.2057],\n",
              "                     device='cuda:0')),\n",
              "             ('lstm.bias_hh_l2_reverse',\n",
              "              tensor([-0.2391, -0.1508,  0.0389, -0.1961,  0.1407, -0.0386,  0.1178,  0.1642,\n",
              "                      -0.0672, -0.1592, -0.1302,  0.0240, -0.1233,  0.0969,  0.1616,  0.0757,\n",
              "                      -0.1147, -0.1261, -0.2325,  0.1490, -0.2071,  0.0265, -0.1932, -0.1613,\n",
              "                       0.0619,  0.0789, -0.0364, -0.1460, -0.0216, -0.1402, -0.1081, -0.1826,\n",
              "                       0.2208,  0.0646, -0.0754,  0.0244,  0.1762, -0.0850,  0.0300,  0.0841,\n",
              "                      -0.1904, -0.0253, -0.2082, -0.0227,  0.1314, -0.0217, -0.2283, -0.0860,\n",
              "                      -0.0640,  0.1375,  0.1076,  0.1955,  0.1695,  0.0572,  0.2306, -0.0761,\n",
              "                       0.1013, -0.2470,  0.0300,  0.1061,  0.1424, -0.0711,  0.1870,  0.0472],\n",
              "                     device='cuda:0')),\n",
              "             ('fc_layers.0.weight',\n",
              "              tensor([[-0.0318,  0.0807,  0.0913,  ...,  0.0242, -0.1196, -0.1637],\n",
              "                      [-0.0290, -0.0060,  0.0310,  ..., -0.0943,  0.1155, -0.0308],\n",
              "                      [-0.0702, -0.0271, -0.0286,  ...,  0.1643,  0.1200, -0.0102],\n",
              "                      ...,\n",
              "                      [-0.0232,  0.0016, -0.0071,  ...,  0.1503, -0.1002, -0.0127],\n",
              "                      [-0.1323, -0.0104, -0.0216,  ...,  0.1129,  0.0310, -0.1600],\n",
              "                      [ 0.0663,  0.0344,  0.1504,  ..., -0.0562,  0.0552, -0.1632]],\n",
              "                     device='cuda:0')),\n",
              "             ('fc_layers.0.bias',\n",
              "              tensor([-0.0487, -0.0315,  0.0600,  0.1697,  0.0683, -0.1730, -0.1002,  0.0648,\n",
              "                      -0.0560,  0.1124,  0.1103, -0.0106,  0.0555, -0.0411, -0.0834,  0.1315,\n",
              "                       0.0784, -0.1470, -0.1754, -0.0031, -0.0080, -0.0937, -0.0066,  0.1605,\n",
              "                       0.1491,  0.0530,  0.0041,  0.1643,  0.1069,  0.0056,  0.1236,  0.1053,\n",
              "                      -0.0384,  0.0916, -0.0623,  0.1303, -0.1250,  0.0151, -0.0759,  0.0789,\n",
              "                       0.1163, -0.0674, -0.0486,  0.1462,  0.1706,  0.0751, -0.0036, -0.1492,\n",
              "                      -0.0929, -0.1388, -0.0798, -0.1628, -0.1513,  0.1326,  0.0995, -0.1649,\n",
              "                       0.1662,  0.0505, -0.0649,  0.0345, -0.0895,  0.0280,  0.0699, -0.0720,\n",
              "                       0.0726,  0.1586,  0.0065,  0.0668,  0.0806, -0.0424,  0.1068, -0.0772,\n",
              "                      -0.1270,  0.0397,  0.1445,  0.0954,  0.0766,  0.0675, -0.0990,  0.1604,\n",
              "                      -0.1181, -0.0378,  0.0348,  0.0477,  0.0753, -0.0443, -0.0725,  0.0346,\n",
              "                      -0.0754, -0.1273,  0.1164, -0.0779, -0.1672, -0.0800, -0.0269,  0.1126,\n",
              "                       0.0158, -0.1693,  0.1450,  0.0556, -0.1627,  0.0051, -0.0218, -0.0869,\n",
              "                      -0.0342,  0.1279,  0.1608, -0.0386, -0.0978, -0.0498,  0.1355,  0.0763,\n",
              "                       0.1072,  0.1586, -0.1691, -0.0115, -0.1611,  0.1718, -0.0184, -0.0024,\n",
              "                      -0.0482, -0.0799,  0.0660, -0.0310,  0.0490,  0.1719,  0.0944, -0.1494],\n",
              "                     device='cuda:0')),\n",
              "             ('fc_layers.2.weight',\n",
              "              tensor([[ 0.0353,  0.0755, -0.0692,  ..., -0.0616, -0.0845,  0.0795],\n",
              "                      [-0.0470, -0.0420,  0.0525,  ..., -0.0319, -0.0092,  0.0337],\n",
              "                      [-0.0683, -0.0242,  0.0006,  ...,  0.0823,  0.0385, -0.0519],\n",
              "                      ...,\n",
              "                      [ 0.0669,  0.0202, -0.0111,  ..., -0.0219,  0.0845, -0.0350],\n",
              "                      [ 0.0572,  0.0515, -0.0794,  ...,  0.0796, -0.0311,  0.0253],\n",
              "                      [-0.0208, -0.0438, -0.0481,  ...,  0.0744,  0.0675, -0.0603]],\n",
              "                     device='cuda:0')),\n",
              "             ('fc_layers.2.bias',\n",
              "              tensor([-0.0717,  0.0337,  0.0643, -0.0131, -0.0368, -0.0328, -0.0007, -0.0606,\n",
              "                      -0.0653,  0.0730, -0.0232, -0.0466,  0.0078, -0.0544,  0.0553,  0.0324,\n",
              "                      -0.0844, -0.0470,  0.0497, -0.0528,  0.0670, -0.0381, -0.0809,  0.0446,\n",
              "                       0.0285,  0.0180,  0.0041,  0.0077, -0.0827, -0.0341,  0.0307,  0.0184,\n",
              "                       0.0812, -0.0028,  0.0046, -0.0327,  0.0222, -0.0243,  0.0229, -0.0704,\n",
              "                      -0.0045, -0.0319, -0.0501,  0.0755,  0.0095,  0.0510, -0.0046, -0.0137,\n",
              "                       0.0178, -0.0307,  0.0485, -0.0353,  0.0125,  0.0751, -0.0158, -0.0846,\n",
              "                      -0.0479, -0.0539,  0.0132,  0.0544,  0.0761,  0.0322, -0.0837,  0.0466],\n",
              "                     device='cuda:0')),\n",
              "             ('fc_layers.4.weight',\n",
              "              tensor([[-0.0229, -0.0007,  0.0188,  ...,  0.1028, -0.0308, -0.0288],\n",
              "                      [-0.0511, -0.0833,  0.1247,  ..., -0.0001,  0.1236,  0.0507],\n",
              "                      [ 0.0285, -0.0439,  0.1223,  ..., -0.1003,  0.0157, -0.0180],\n",
              "                      ...,\n",
              "                      [ 0.0336,  0.0154, -0.0054,  ..., -0.0313, -0.0814,  0.0431],\n",
              "                      [ 0.0357, -0.0908,  0.0369,  ...,  0.1046, -0.0800, -0.0380],\n",
              "                      [ 0.0788, -0.0197, -0.0761,  ..., -0.0873, -0.0340,  0.0699]],\n",
              "                     device='cuda:0')),\n",
              "             ('fc_layers.4.bias',\n",
              "              tensor([ 0.1071,  0.0043, -0.0675,  0.0504, -0.0810,  0.1032,  0.0521,  0.0103,\n",
              "                      -0.0681, -0.1097,  0.1197,  0.0147, -0.0106,  0.0033, -0.1090,  0.0825,\n",
              "                       0.0245, -0.0950, -0.0967, -0.0112,  0.0004, -0.0505, -0.0751, -0.1246,\n",
              "                       0.0957,  0.0422, -0.1061, -0.1040, -0.0719,  0.0640, -0.0367, -0.0734],\n",
              "                     device='cuda:0')),\n",
              "             ('fc_layers.6.weight',\n",
              "              tensor([[ 7.5741e-02, -3.4118e-05,  5.2780e-02,  7.6725e-02,  2.2056e-03,\n",
              "                        8.3903e-02,  1.7125e-02, -1.5313e-01,  5.9327e-02, -1.6949e-01,\n",
              "                       -1.2134e-01,  7.6657e-02,  2.9263e-02, -3.8998e-02, -1.7149e-01,\n",
              "                       -3.2024e-02,  1.5742e-01,  4.0746e-02, -4.5261e-02,  3.5764e-02,\n",
              "                       -6.6585e-02, -3.4597e-02, -1.6618e-01,  1.0196e-01,  1.1399e-01,\n",
              "                       -1.5878e-01, -2.6903e-02,  8.1710e-02, -1.2354e-01,  1.8921e-02,\n",
              "                        1.1234e-01,  3.3886e-02],\n",
              "                      [-9.8015e-02, -1.6820e-01,  5.8138e-02, -3.0218e-02,  4.8999e-02,\n",
              "                       -1.7195e-01, -1.3230e-01,  7.0641e-02, -3.7571e-02,  8.3440e-02,\n",
              "                        1.7556e-01, -9.9636e-02, -1.4066e-01,  1.4529e-01,  5.6948e-02,\n",
              "                        3.3276e-02, -9.7307e-02, -2.7565e-02, -1.6698e-01, -1.3949e-01,\n",
              "                        1.2292e-01, -9.6017e-02,  5.5418e-02, -2.7013e-02,  1.7670e-01,\n",
              "                        1.2068e-01,  1.6699e-02, -7.7793e-02, -3.3705e-02, -5.8261e-02,\n",
              "                        1.1080e-01,  1.0326e-01],\n",
              "                      [-1.2177e-01, -1.6192e-01,  9.9425e-02, -7.3737e-02, -7.6888e-02,\n",
              "                        2.7112e-02, -1.4172e-01,  3.1271e-02, -8.6570e-02, -1.1822e-02,\n",
              "                        2.7179e-02, -1.1510e-01, -1.4268e-01, -1.3081e-01, -1.3765e-01,\n",
              "                       -1.5364e-01, -3.6519e-02,  2.4829e-02, -6.2327e-02, -1.1762e-03,\n",
              "                       -1.7146e-01,  1.2309e-01, -2.8985e-02,  1.2578e-02,  1.1485e-01,\n",
              "                       -1.2043e-01, -6.2998e-02,  3.6275e-03, -8.1948e-02,  1.5700e-01,\n",
              "                        1.0860e-02, -1.4291e-01],\n",
              "                      [ 8.9248e-02, -8.0558e-02,  1.7574e-01,  1.2549e-01, -2.7200e-02,\n",
              "                       -1.4927e-01, -5.2246e-03,  1.2532e-01,  9.6969e-03,  1.4519e-01,\n",
              "                        1.3209e-01,  1.6246e-02,  1.5698e-01, -9.3057e-03,  1.7414e-01,\n",
              "                        1.6030e-01,  1.6428e-01,  1.7373e-01, -3.2931e-02, -1.5119e-01,\n",
              "                        1.3526e-01,  1.0493e-01,  2.4637e-02, -1.2071e-02, -5.7395e-02,\n",
              "                        2.6194e-02,  1.2301e-01, -7.4042e-02,  1.2715e-01,  5.7818e-03,\n",
              "                       -5.5599e-02,  1.5354e-01],\n",
              "                      [-1.2042e-01, -1.7480e-01, -8.7747e-03, -1.3763e-01,  8.7413e-02,\n",
              "                       -2.6059e-02, -1.3514e-01, -9.9216e-02, -3.8453e-02,  2.2802e-02,\n",
              "                        1.5194e-01,  1.1599e-01,  1.0466e-01,  1.5154e-01,  1.4623e-01,\n",
              "                       -1.4009e-01,  1.2011e-01, -1.0911e-01,  5.6045e-02, -1.2547e-01,\n",
              "                        1.2839e-01, -1.0172e-01, -1.6062e-01, -1.1749e-01,  3.6994e-02,\n",
              "                        1.6657e-01,  3.6044e-02,  1.1345e-01,  1.0888e-01, -4.5639e-02,\n",
              "                        8.3566e-02, -6.8483e-02],\n",
              "                      [ 1.2227e-01, -5.0486e-02,  5.4601e-02, -8.6209e-03,  1.3103e-04,\n",
              "                        1.0636e-01, -5.7116e-02, -1.6753e-01,  3.4551e-02,  2.5419e-02,\n",
              "                        1.6543e-01,  2.7378e-02, -6.5745e-02,  7.5760e-02,  2.7765e-02,\n",
              "                        1.1133e-01, -8.3386e-02, -1.5065e-01, -1.1863e-01,  8.5878e-02,\n",
              "                       -1.0626e-02,  1.0513e-01,  1.9866e-03,  1.0122e-01, -1.4885e-01,\n",
              "                       -1.3017e-01,  1.2318e-01,  2.6146e-02,  1.6697e-01, -1.3920e-01,\n",
              "                       -1.7199e-01, -5.3110e-02],\n",
              "                      [-1.7367e-01,  1.3350e-01, -7.5899e-02, -7.4190e-02,  1.6064e-01,\n",
              "                       -3.2908e-02,  1.2403e-01, -6.4632e-02,  3.0421e-02, -1.2044e-01,\n",
              "                        1.4855e-01,  2.3078e-02, -1.1094e-01,  6.4669e-02, -2.7147e-02,\n",
              "                       -1.0765e-01, -1.3140e-01,  1.5561e-03, -1.5694e-01, -1.6290e-01,\n",
              "                        5.6683e-02,  1.3974e-02, -1.4070e-02,  5.8474e-02, -1.1402e-01,\n",
              "                        2.7325e-02,  1.6574e-01,  1.9749e-02, -1.7015e-01, -3.5986e-02,\n",
              "                        7.0190e-02, -8.4718e-02],\n",
              "                      [ 1.7222e-01,  3.4627e-02,  1.4216e-01,  1.1099e-01,  9.2698e-02,\n",
              "                        2.9790e-02,  1.3630e-01, -1.2784e-01, -5.7890e-02,  2.1900e-02,\n",
              "                       -1.5041e-01, -1.4806e-03, -1.6982e-01, -8.0981e-02, -1.6429e-01,\n",
              "                       -1.3616e-01, -3.4454e-02, -4.4983e-03, -2.8229e-02,  8.4896e-02,\n",
              "                        1.5650e-01,  1.6903e-01,  3.4249e-02, -1.4077e-01,  6.0183e-02,\n",
              "                       -3.3071e-02, -7.5098e-02, -5.8731e-03,  3.8613e-02,  1.2817e-01,\n",
              "                       -1.6318e-01, -6.8005e-02],\n",
              "                      [ 1.3997e-01, -1.3566e-01,  1.5640e-01, -1.5540e-01,  7.2114e-02,\n",
              "                        6.4086e-02,  1.1337e-01, -1.0189e-01, -1.7402e-01,  2.5084e-02,\n",
              "                       -1.4689e-01,  4.0416e-02,  1.3619e-01, -3.0719e-02,  1.3832e-01,\n",
              "                       -3.1508e-02,  1.2736e-01,  1.6662e-01, -1.1874e-01,  1.3861e-01,\n",
              "                        1.2249e-01,  6.2144e-02, -9.5772e-03,  5.2937e-02, -5.4060e-02,\n",
              "                       -1.4708e-01, -8.7333e-02, -1.3463e-01, -1.4267e-01, -5.6478e-02,\n",
              "                        4.8919e-03, -1.1941e-01],\n",
              "                      [-1.5197e-01,  1.1579e-02, -1.5675e-01, -1.4705e-01, -7.5659e-02,\n",
              "                       -6.6380e-02,  6.7763e-02, -3.4149e-02,  1.1561e-01, -1.7587e-01,\n",
              "                        1.2963e-01, -1.0411e-01,  3.5888e-02,  3.8258e-02, -6.2572e-02,\n",
              "                        1.1392e-01, -1.2082e-01, -6.8348e-02, -1.4950e-01, -1.6138e-01,\n",
              "                        5.6506e-04,  1.1626e-01, -1.7575e-02,  6.5032e-02, -2.6623e-02,\n",
              "                       -1.0153e-01,  1.0039e-01,  3.8320e-02,  1.7452e-01,  1.0715e-01,\n",
              "                        7.6626e-02,  5.4036e-02],\n",
              "                      [-1.4935e-01,  1.2606e-01, -1.4680e-01, -1.0472e-01, -8.7291e-02,\n",
              "                       -1.7517e-01, -3.3705e-02, -2.0872e-02, -1.6746e-01,  1.4588e-01,\n",
              "                       -1.0070e-02, -1.6930e-01,  1.4706e-01, -1.2487e-01,  3.1907e-02,\n",
              "                        6.2977e-03, -1.1740e-01,  2.1298e-02,  7.1375e-02, -1.2497e-01,\n",
              "                        5.8250e-02, -1.4452e-01,  1.0923e-01,  1.5666e-01,  6.3967e-02,\n",
              "                       -5.9232e-02,  1.6440e-01, -1.7036e-01, -1.5176e-01, -1.4324e-01,\n",
              "                        1.3958e-01, -1.5559e-01],\n",
              "                      [-3.0822e-02,  1.2248e-01, -8.4676e-02,  2.9619e-02, -9.0261e-02,\n",
              "                       -9.4586e-02, -1.2514e-01, -1.6419e-01,  9.3978e-03,  2.3909e-02,\n",
              "                       -9.0567e-03, -7.7985e-02, -1.4185e-01,  1.7677e-01,  1.3919e-01,\n",
              "                        1.5711e-01,  1.0632e-01,  6.6301e-03, -1.3824e-01, -1.5668e-01,\n",
              "                        1.4586e-01, -7.7809e-02,  6.4932e-02,  1.6780e-01,  2.2197e-02,\n",
              "                        6.8038e-02,  1.4131e-01,  1.4464e-02, -7.8029e-02, -8.0929e-02,\n",
              "                       -6.9005e-02,  4.5190e-02],\n",
              "                      [ 1.5765e-01, -1.1891e-01,  1.4870e-01,  1.4684e-01, -1.4485e-01,\n",
              "                       -8.3902e-02,  8.6590e-02, -1.1594e-01,  1.7617e-01, -1.1692e-01,\n",
              "                        4.9317e-02, -9.7119e-02, -1.4080e-01, -5.8817e-02,  1.5773e-01,\n",
              "                        6.5495e-03, -1.0268e-01,  1.0335e-01,  1.4987e-01,  1.5280e-02,\n",
              "                       -6.7917e-02, -4.3337e-02,  6.1824e-02,  1.5028e-01, -3.3465e-02,\n",
              "                        1.6825e-02,  1.3951e-01, -1.6684e-02, -1.0971e-01, -1.5063e-01,\n",
              "                        1.1671e-01,  2.0705e-02],\n",
              "                      [-9.8462e-02,  1.6402e-01, -1.7491e-01,  5.9806e-02, -1.9426e-02,\n",
              "                       -1.4344e-01, -1.6463e-01,  8.7511e-02, -4.9234e-02,  1.0981e-01,\n",
              "                        1.3101e-01, -1.2590e-02, -1.5921e-01, -1.2614e-01,  2.6208e-02,\n",
              "                       -5.9025e-02,  1.0961e-01,  1.0496e-01, -7.0661e-02, -9.5085e-02,\n",
              "                       -1.5897e-01, -2.0468e-02,  9.2933e-02,  1.5136e-01, -1.5996e-01,\n",
              "                        1.1901e-01, -1.1802e-01,  3.1724e-02,  4.6924e-02,  9.6537e-02,\n",
              "                        1.4884e-01, -1.6614e-01],\n",
              "                      [-2.0148e-02,  1.2266e-01, -1.1655e-01, -1.4854e-01, -1.1655e-01,\n",
              "                       -3.2483e-02, -1.0707e-01, -8.5374e-02,  6.5755e-03, -4.7521e-02,\n",
              "                        3.1676e-02, -1.5411e-01, -4.3724e-02, -1.4683e-01,  2.9176e-02,\n",
              "                        5.5365e-02, -1.0271e-01,  6.2247e-02, -3.2772e-02, -8.1731e-02,\n",
              "                       -1.6515e-01, -1.1309e-01,  1.4164e-01,  1.1362e-01,  4.9959e-02,\n",
              "                        1.6040e-01, -1.2539e-01,  8.6973e-02, -6.4758e-02, -1.5444e-01,\n",
              "                        1.3767e-02, -1.4211e-01],\n",
              "                      [-5.5381e-02,  1.5647e-01,  3.2477e-02, -3.7294e-02,  2.6222e-02,\n",
              "                        9.8196e-02,  7.8785e-02, -1.2627e-01,  6.9830e-02, -8.9271e-04,\n",
              "                       -2.9458e-02, -1.5383e-01,  1.5578e-01,  1.7334e-01, -7.2255e-02,\n",
              "                       -7.5849e-02, -2.2240e-03, -1.6396e-01,  3.9488e-02, -1.0410e-01,\n",
              "                        2.1968e-02, -1.1967e-01,  1.5126e-01,  7.3011e-03,  3.2993e-02,\n",
              "                        6.5585e-02, -6.2031e-02,  3.2004e-02, -1.7095e-02, -1.1705e-01,\n",
              "                       -1.6637e-01, -1.7653e-01]], device='cuda:0')),\n",
              "             ('fc_layers.6.bias',\n",
              "              tensor([ 0.0948, -0.1639, -0.0766,  0.0585,  0.1055,  0.0149,  0.0707,  0.0543,\n",
              "                       0.0232,  0.1190,  0.1080, -0.0834,  0.1456, -0.0391, -0.1266, -0.1556],\n",
              "                     device='cuda:0')),\n",
              "             ('fc_layers.8.weight',\n",
              "              tensor([[-0.1486,  0.0451, -0.0114,  0.2428,  0.1817, -0.1905, -0.0884,  0.2109,\n",
              "                        0.2387,  0.1946,  0.2019, -0.0030,  0.1080, -0.0187, -0.0745,  0.1360],\n",
              "                      [-0.2429,  0.1270, -0.1222, -0.0121, -0.2431, -0.1286, -0.2086, -0.2133,\n",
              "                       -0.2441,  0.1162, -0.0294,  0.1610, -0.0207, -0.1945, -0.1856, -0.0580],\n",
              "                      [ 0.2424, -0.0533, -0.1900,  0.0982, -0.0629,  0.2241, -0.0055, -0.1457,\n",
              "                        0.1871, -0.1478, -0.0671,  0.0391, -0.1309,  0.1889,  0.0692, -0.2204],\n",
              "                      [-0.1270,  0.0659, -0.1755,  0.1589,  0.0528, -0.0995,  0.2079,  0.0553,\n",
              "                        0.2330,  0.0126,  0.1330, -0.1488, -0.2249, -0.2319,  0.1466,  0.2476],\n",
              "                      [-0.2386,  0.2151,  0.2484,  0.2490,  0.0788,  0.2448, -0.1547,  0.0741,\n",
              "                        0.1858,  0.1514,  0.0494,  0.1772, -0.0360, -0.2422, -0.1119,  0.0621],\n",
              "                      [ 0.2441,  0.2370, -0.0247, -0.1140, -0.1586, -0.0114, -0.1362,  0.1556,\n",
              "                        0.2441,  0.1943,  0.0190, -0.1444, -0.2374,  0.2232,  0.1180, -0.2309],\n",
              "                      [ 0.0761, -0.1914,  0.0880, -0.0510, -0.0612,  0.0123,  0.0634, -0.1395,\n",
              "                        0.2167,  0.2436,  0.1903, -0.0902, -0.1649, -0.1886, -0.2341, -0.2320],\n",
              "                      [-0.1706, -0.0309, -0.0742,  0.0128,  0.1174,  0.0409,  0.2298, -0.0889,\n",
              "                        0.1163, -0.2495, -0.2195, -0.0286, -0.1795, -0.1102, -0.1182, -0.0560],\n",
              "                      [-0.0668,  0.2277, -0.0558, -0.0471, -0.1669,  0.0755,  0.0287,  0.1281,\n",
              "                       -0.0826,  0.1498,  0.1201,  0.0782, -0.1140, -0.1266, -0.2131, -0.1330],\n",
              "                      [-0.2349, -0.2427,  0.2173,  0.1147, -0.1266, -0.0287, -0.0107,  0.1774,\n",
              "                        0.2131, -0.1155,  0.1857, -0.1104, -0.0459, -0.0299, -0.1945,  0.0088]],\n",
              "                     device='cuda:0')),\n",
              "             ('fc_layers.8.bias',\n",
              "              tensor([-0.0485,  0.0665, -0.0783,  0.2088,  0.2321, -0.1967,  0.1700, -0.1925,\n",
              "                      -0.0894, -0.0650], device='cuda:0'))])"
            ]
          },
          "metadata": {},
          "execution_count": 9
        }
      ]
    },
    {
      "cell_type": "code",
      "execution_count": 10,
      "metadata": {
        "id": "3w9QW9Lfp1aV",
        "colab": {
          "base_uri": "https://localhost:8080/"
        },
        "outputId": "a5b11265-1a20-4ed3-d89a-20a74db260af"
      },
      "outputs": [
        {
          "output_type": "execute_result",
          "data": {
            "text/plain": [
              "LSTM_Model_label(\n",
              "  (lstm): LSTM(41, 16, num_layers=3, batch_first=True, bidirectional=True)\n",
              "  (fc_layers): Sequential(\n",
              "    (0): Linear(in_features=32, out_features=128, bias=True)\n",
              "    (1): Tanh()\n",
              "    (2): Linear(in_features=128, out_features=64, bias=True)\n",
              "    (3): Tanh()\n",
              "    (4): Linear(in_features=64, out_features=32, bias=True)\n",
              "    (5): Sigmoid()\n",
              "    (6): Linear(in_features=32, out_features=16, bias=True)\n",
              "    (7): Sigmoid()\n",
              "    (8): Linear(in_features=16, out_features=2, bias=True)\n",
              "  )\n",
              ")"
            ]
          },
          "metadata": {},
          "execution_count": 10
        }
      ],
      "source": [
        "my_model_label = LSTM_Model_label(num_classes_label, input_size, hidden_size, num_layers).to(device=device)\n",
        "my_model_label"
      ]
    },
    {
      "cell_type": "markdown",
      "metadata": {
        "id": "Cey1CId-jjis"
      },
      "source": [
        "# **optimizer and loss function**"
      ]
    },
    {
      "cell_type": "code",
      "execution_count": 11,
      "metadata": {
        "id": "WNuQFMAekNDH"
      },
      "outputs": [],
      "source": [
        "loss_fn1 = nn.CrossEntropyLoss().to(device=device)\n",
        "loss_fn2 = nn.CrossEntropyLoss().to(device=device)\n",
        "optimizer1 = opt.Adam(params=my_model_attack.parameters(),lr=learning_rate)\n",
        "optimizer2 = opt.Adam(params=my_model_label.parameters(),lr=learning_rate)"
      ]
    },
    {
      "cell_type": "markdown",
      "metadata": {
        "id": "4JYcovfYlpHM"
      },
      "source": [
        "# **train attack cat**"
      ]
    },
    {
      "cell_type": "code",
      "execution_count": 12,
      "metadata": {
        "id": "Qmw8w1eTkeBu",
        "colab": {
          "base_uri": "https://localhost:8080/"
        },
        "outputId": "498a2c04-df3b-45bc-ab7a-bca42784dfb4"
      },
      "outputs": [
        {
          "output_type": "stream",
          "name": "stdout",
          "text": [
            "Epoch: 0, loss: 1.7080\n",
            "Epoch: 50, loss: 0.5132\n",
            "Epoch: 100, loss: 0.5595\n",
            "Epoch: 150, loss: 0.4315\n",
            "Epoch: 200, loss: 0.4600\n",
            "Epoch: 250, loss: 0.4628\n",
            "Epoch: 300, loss: 0.3396\n",
            "Epoch: 350, loss: 0.4786\n",
            "Epoch: 400, loss: 0.4511\n",
            "Epoch: 450, loss: 0.3756\n",
            "Epoch: 500, loss: 0.3430\n"
          ]
        }
      ],
      "source": [
        "for epoch in range(num_epoch+1):\n",
        "\n",
        "    for batch_x, batch_y in train_attack_cat_dataloader:\n",
        "\n",
        "        batch_x = torch.reshape(batch_x, (batch_x.shape[0], 1, batch_x.shape[1])) #RuntimeError: For unbatched 2-D input, hx and cx should also be 2-D but got (3-D, 3-D) tensors\n",
        "        \n",
        "        batch_x = batch_x.to(device)\n",
        "        batch_y = batch_y.to(device)\n",
        "\n",
        "        optimizer1.zero_grad()\n",
        "        loss1 = loss_fn1(my_model_attack(batch_x) , batch_y)\n",
        "        loss1.backward() \n",
        "        optimizer1.step()\n",
        "\n",
        "    if epoch % 50 == 0:\n",
        "         print(\"Epoch: %d, loss: %.4f\" % (epoch, loss1.item())) "
      ]
    },
    {
      "cell_type": "markdown",
      "metadata": {
        "id": "PQaRCMJPls5N"
      },
      "source": [
        "# **test attack cat**"
      ]
    },
    {
      "cell_type": "code",
      "execution_count": 13,
      "metadata": {
        "id": "QrtYzVT4loMQ",
        "colab": {
          "base_uri": "https://localhost:8080/"
        },
        "outputId": "38a7dcb3-7b06-43e5-efb0-a49934ecbc4c"
      },
      "outputs": [
        {
          "output_type": "stream",
          "name": "stdout",
          "text": [
            "acc : 82.16%\n"
          ]
        }
      ],
      "source": [
        "correct = 0\n",
        "\n",
        "for batch_x, labl in test_attack_cat_dataloader:\n",
        "  \n",
        "    batch_x = torch.reshape(batch_x, (batch_x.shape[0], 1, batch_x.shape[1])) #RuntimeError: For unbatched 2-D input, hx and cx should also be 2-D but got (3-D, 3-D) tensors\n",
        "  \n",
        "    batch_x = batch_x.to(device)\n",
        "    labl = labl.to(device)\n",
        "\n",
        "    out = my_model_attack(batch_x)\n",
        "    _,predicted = torch.max(out,1)\n",
        "    correct += torch.sum(predicted == labl)\n",
        "\n",
        "print(\"acc : %.2f\" % (100.*correct / len(test_attack_cat)),end=\"\")\n",
        "print(\"%\")"
      ]
    },
    {
      "cell_type": "markdown",
      "metadata": {
        "id": "pLqOLtA6tQht"
      },
      "source": [
        "# **train label**"
      ]
    },
    {
      "cell_type": "code",
      "execution_count": 14,
      "metadata": {
        "id": "Xm1cu1GhtMJO",
        "colab": {
          "base_uri": "https://localhost:8080/"
        },
        "outputId": "7211eb4d-9fa6-4733-bb56-aec7e440ca6b"
      },
      "outputs": [
        {
          "output_type": "stream",
          "name": "stdout",
          "text": [
            "Epoch: 0, loss: 0.2810\n",
            "Epoch: 50, loss: 0.1066\n",
            "Epoch: 100, loss: 0.1280\n",
            "Epoch: 150, loss: 0.1259\n",
            "Epoch: 200, loss: 0.1274\n",
            "Epoch: 250, loss: 0.0883\n",
            "Epoch: 300, loss: 0.0900\n",
            "Epoch: 350, loss: 0.1017\n",
            "Epoch: 400, loss: 0.1356\n",
            "Epoch: 450, loss: 0.1105\n",
            "Epoch: 500, loss: 0.0653\n"
          ]
        }
      ],
      "source": [
        "for epoch in range(num_epoch+1):\n",
        "\n",
        "    for batch_x, batch_y in train_label_dataloader:\n",
        "\n",
        "        batch_x = torch.reshape(batch_x, (batch_x.shape[0], 1, batch_x.shape[1])) #RuntimeError: For unbatched 2-D input, hx and cx should also be 2-D but got (3-D, 3-D) tensors\n",
        "        \n",
        "        batch_x = batch_x.to(device)\n",
        "        batch_y = batch_y.to(device)\n",
        "\n",
        "        optimizer2.zero_grad()\n",
        "        loss2 = loss_fn2(my_model_label(batch_x) , batch_y)\n",
        "        loss2.backward() \n",
        "        optimizer2.step()\n",
        "\n",
        "    if epoch % 50 == 0:\n",
        "         print(\"Epoch: %d, loss: %.4f\" % (epoch, loss2.item())) "
      ]
    },
    {
      "cell_type": "markdown",
      "metadata": {
        "id": "Ig7VBqU0tfZd"
      },
      "source": [
        "# **test label**"
      ]
    },
    {
      "cell_type": "code",
      "execution_count": 15,
      "metadata": {
        "id": "a7u2bQ0WtiG2",
        "colab": {
          "base_uri": "https://localhost:8080/"
        },
        "outputId": "8b40861a-2bad-493b-dc75-b11bac368a14"
      },
      "outputs": [
        {
          "output_type": "stream",
          "name": "stdout",
          "text": [
            "acc : 93.62%\n"
          ]
        }
      ],
      "source": [
        "correct = 0\n",
        "\n",
        "for batch_x, labl in test_label_dataloader:\n",
        "\n",
        "    batch_x = torch.reshape(batch_x, (batch_x.shape[0], 1, batch_x.shape[1])) #RuntimeError: For unbatched 2-D input, hx and cx should also be 2-D but got (3-D, 3-D) tensors\n",
        "\n",
        "    batch_x = batch_x.to(device)\n",
        "    labl = labl.to(device)\n",
        "  \n",
        "    out = my_model_label(batch_x)\n",
        "    _,predicted = torch.max(out,1)\n",
        "    correct += torch.sum(predicted == labl)\n",
        "\n",
        "print(\"acc : %.2f\" % (100.*correct / len(test_label)),end=\"\")\n",
        "print(\"%\")"
      ]
    }
  ],
  "metadata": {
    "accelerator": "GPU",
    "colab": {
      "collapsed_sections": [],
      "provenance": []
    },
    "gpuClass": "standard",
    "kernelspec": {
      "display_name": "Python 3",
      "name": "python3"
    },
    "language_info": {
      "name": "python"
    }
  },
  "nbformat": 4,
  "nbformat_minor": 0
}