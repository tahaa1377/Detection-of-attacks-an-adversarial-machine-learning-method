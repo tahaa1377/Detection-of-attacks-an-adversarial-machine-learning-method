{
  "cells": [
    {
      "cell_type": "code",
      "execution_count": 1,
      "metadata": {
        "id": "Ff1b4PxtBQuc"
      },
      "outputs": [],
      "source": [
        "num_epoch = 500      \n",
        "learning_rate = 0.002\n",
        "batch_size = 2000\n",
        "\n",
        "hidden_size = 16 #number of features in hidden state\n",
        "num_layers = 3  #number of stacked lstm layers\n",
        "bidirectional = True\n",
        "drop_out = 0\n",
        "bidirectional_forward_backward = 2 if bidirectional else 1\n",
        "\n",
        "input_size = 41 #number of features\n",
        "num_classes_attack_cat = 10 #number of output classes \n",
        "num_classes_label = 2       #number of output classes \n",
        "\n",
        "hyper_parameter1=128\n",
        "hyper_parameter2=64\n",
        "hyper_parameter3=32"
      ]
    },
    {
      "cell_type": "code",
      "source": [
        "from google.colab import drive\n",
        "drive.mount('/content/drive')"
      ],
      "metadata": {
        "id": "0Gua0hky6SDJ",
        "colab": {
          "base_uri": "https://localhost:8080/"
        },
        "outputId": "c71805cb-cc42-4f91-ccb9-4f4962f10bd4"
      },
      "execution_count": 2,
      "outputs": [
        {
          "output_type": "stream",
          "name": "stdout",
          "text": [
            "Mounted at /content/drive\n"
          ]
        }
      ]
    },
    {
      "cell_type": "code",
      "execution_count": 3,
      "metadata": {
        "id": "hZiaj4uT24DH",
        "colab": {
          "base_uri": "https://localhost:8080/"
        },
        "outputId": "1b62d352-f7a3-4461-b56f-c64d31dede1f"
      },
      "outputs": [
        {
          "output_type": "stream",
          "name": "stdout",
          "text": [
            "GPU\n"
          ]
        }
      ],
      "source": [
        "import pandas as pd\n",
        "from matplotlib import pyplot as plt\n",
        "import numpy as np\n",
        "from torch.utils.data.dataset import Dataset\n",
        "from torch.utils.data import random_split, DataLoader\n",
        "import torch\n",
        "from sklearn.preprocessing import LabelEncoder\n",
        "from sklearn import preprocessing\n",
        "import torch.nn as nn\n",
        "import torch.nn.functional as F\n",
        "import torch.optim as opt\n",
        "from torch.autograd import Variable \n",
        "\n",
        "# GPU OR CPU\n",
        "if torch.cuda.is_available():\n",
        "    device = torch.device(\"cuda:0\")\n",
        "    print(\"GPU\")\n",
        "else:\n",
        "    device = torch.device(\"cpu\")\n",
        "    print(\"CPU\")"
      ]
    },
    {
      "cell_type": "code",
      "execution_count": 4,
      "metadata": {
        "id": "Sv-R_m6Z1EL5"
      },
      "outputs": [],
      "source": [
        "class DataSet_UNSWNB15_attack_cat(Dataset):\n",
        "\n",
        "    def __init__(self,data_set_path):\n",
        "        df = pd.read_csv(data_set_path)\n",
        "        print(df.attack_cat.value_counts().sort_values().plot(kind = \"barh\"))\n",
        "        \n",
        "        # preprocceing\n",
        "        df.drop(['id',\"Unnamed: 0\",\"service\",\"label\"], axis=1, inplace=True)        \n",
        "        cols = ['attack_cat' ,'proto' ,'state']\n",
        "        df[cols] = df[cols].apply(LabelEncoder().fit_transform)\n",
        "\n",
        "        self.data_array = df.values\n",
        "        self.x = self.data_array[:, :41]\n",
        "        self.y = self.data_array[:, 41]\n",
        "      \n",
        "        # normalaized data\n",
        "        scaler = preprocessing.StandardScaler().fit(self.x)\n",
        "        self.x = scaler.transform(self.x)\n",
        "\n",
        "        self.x = torch.tensor(self.x).float()\n",
        "        self.y = torch.tensor(self.y).long()\n",
        "\n",
        "    def __len__(self):\n",
        "        return len(self.data_array)\n",
        "\n",
        "    def __getitem__(self, item):\n",
        "        sample = (self.x[item, :], self.y[item])\n",
        "        return sample\n",
        "\n",
        "        \n",
        "class DataSet_UNSWNB15_label(Dataset):\n",
        "\n",
        "    def __init__(self,data_set_path):\n",
        "        df = pd.read_csv(data_set_path)\n",
        "        print(df.label.value_counts().sort_values().plot(kind = \"pie\"))\n",
        "\n",
        "        # preprocceing\n",
        "        df.drop(['id',\"Unnamed: 0\",\"service\",\"attack_cat\"], axis=1, inplace=True)\n",
        "        cols = ['proto' ,'state']\n",
        "        df[cols] = df[cols].apply(LabelEncoder().fit_transform)\n",
        "\n",
        "        self.data_array = df.values\n",
        "        self.x = self.data_array[:, :41]\n",
        "        self.y = self.data_array[:, 41]\n",
        "        \n",
        "        # normalaized data\n",
        "        scaler = preprocessing.StandardScaler().fit(self.x)\n",
        "        self.x = scaler.transform(self.x)\n",
        "\n",
        "        self.x = torch.tensor(self.x).float()\n",
        "        self.y = torch.tensor(self.y).long()\n",
        "\n",
        "    def __len__(self):\n",
        "        return len(self.data_array)\n",
        "\n",
        "    def __getitem__(self, item):\n",
        "        sample = (self.x[item, :], self.y[item])\n",
        "        return sample"
      ]
    },
    {
      "cell_type": "code",
      "execution_count": 5,
      "metadata": {
        "id": "UykLrbQZ1R7K",
        "colab": {
          "base_uri": "https://localhost:8080/",
          "height": 283
        },
        "outputId": "6c2c2800-f305-4cd3-8b06-77365839ccaa"
      },
      "outputs": [
        {
          "output_type": "stream",
          "name": "stdout",
          "text": [
            "AxesSubplot(0.125,0.125;0.775x0.755)\n"
          ]
        },
        {
          "output_type": "display_data",
          "data": {
            "text/plain": [
              "<Figure size 432x288 with 1 Axes>"
            ],
            "image/png": "[encoded data removed]"
          },
          "metadata": {
            "needs_background": "light"
          }
        }
      ],
      "source": [
        "dataset_attack_cat = DataSet_UNSWNB15_attack_cat(\"/content/drive/MyDrive/datasets/UNSW-NB15/UNSW_NB15.csv\")\n",
        "number_of_test = int(len(dataset_attack_cat)*0.3)\n",
        "number_of_train = len(dataset_attack_cat) - int(len(dataset_attack_cat)*0.3)\n",
        "train_attack_cat ,test_attack_cat = random_split(dataset=dataset_attack_cat, lengths=[number_of_train,number_of_test])\n",
        "\n",
        "train_attack_cat_dataloader = DataLoader(dataset=train_attack_cat ,batch_size=batch_size ,shuffle=True)\n",
        "test_attack_cat_dataloader = DataLoader(dataset=test_attack_cat ,batch_size=batch_size ,shuffle=True)"
      ]
    },
    {
      "cell_type": "code",
      "execution_count": 6,
      "metadata": {
        "id": "LmFY9Q-u29T3",
        "colab": {
          "base_uri": "https://localhost:8080/",
          "height": 266
        },
        "outputId": "bbe39269-5cce-4a4c-d608-9c648d503826"
      },
      "outputs": [
        {
          "output_type": "stream",
          "name": "stdout",
          "text": [
            "AxesSubplot(0.260833,0.125;0.503333x0.755)\n"
          ]
        },
        {
          "output_type": "display_data",
          "data": {
            "text/plain": [
              "<Figure size 432x288 with 1 Axes>"
            ],
            "image/png": "[encoded data removed]"
          },
          "metadata": {}
        }
      ],
      "source": [
        "dataset_label = DataSet_UNSWNB15_label(\"/content/drive/MyDrive/datasets/UNSW-NB15/UNSW_NB15.csv\")\n",
        "number_of_test = int(len(dataset_label)*0.3)\n",
        "number_of_train = len(dataset_label) - int(len(dataset_label)*0.3)\n",
        "train_label ,test_label = random_split(dataset=dataset_label, lengths=[number_of_train,number_of_test])\n",
        "\n",
        "train_label_dataloader = DataLoader(dataset=train_label ,batch_size=batch_size ,shuffle=True)\n",
        "test_label_dataloader = DataLoader(dataset=test_label ,batch_size=batch_size ,shuffle=True)"
      ]
    },
    {
      "cell_type": "markdown",
      "metadata": {
        "id": "0HslPLv2IOGd"
      },
      "source": [
        "# **preprocessing ended**\n",
        "\n",
        "# **create model**"
      ]
    },
    {
      "cell_type": "markdown",
      "source": [
        "![bilstm-1.webp](data:image/webp;base64,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)"
      ],
      "metadata": {
        "id": "F2hNvBs6qBQS"
      }
    },
    {
      "cell_type": "code",
      "execution_count": 7,
      "metadata": {
        "id": "oN6DuQbJibuE"
      },
      "outputs": [],
      "source": [
        "class LSTM_Model_attack(nn.Module):\n",
        "    def __init__(self, num_classes, input_size, hidden_size, num_layers):\n",
        "        super(LSTM_Model_attack, self).__init__()\n",
        "        self.num_classes = num_classes #number of classes\n",
        "        self.num_layers = num_layers #number of layers\n",
        "        self.input_size = input_size #input size\n",
        "        self.hidden_size = hidden_size #hidden state\n",
        "\n",
        "        self.lstm = nn.LSTM(input_size=input_size, hidden_size=hidden_size, num_layers=num_layers, batch_first=True,\n",
        "                            bidirectional=bidirectional, dropout=drop_out) #lstm\n",
        "\n",
        "        self.fc_layers = nn.Sequential(\n",
        "        nn.Linear(hidden_size * bidirectional_forward_backward, hyper_parameter1),\n",
        "        nn.Tanh(),\n",
        "        nn.Linear(hyper_parameter1, hyper_parameter2),\n",
        "        nn.ReLU(),\n",
        "        nn.Linear(hyper_parameter2, hyper_parameter3),\n",
        "        nn.Sigmoid(),\n",
        "        nn.Linear(hyper_parameter3, num_classes)\n",
        "        )\n",
        "    \n",
        "    def forward(self,x):\n",
        "                                                # 2 => forward and backward for bidirectional\n",
        "        h_0 = Variable(torch.zeros(self.num_layers * bidirectional_forward_backward, x.size(0), self.hidden_size)).to(device=device) #hidden state\n",
        "        c_0 = Variable(torch.zeros(self.num_layers * bidirectional_forward_backward, x.size(0), self.hidden_size)).to(device=device) #internal state\n",
        "\n",
        "        out, (hn, cn) = self.lstm(x, (h_0, c_0))\n",
        "        out = self.fc_layers(out[:, -1, :]) \n",
        "        return out\n",
        "\n",
        "\n",
        "class LSTM_Model_label(nn.Module):\n",
        "    def __init__(self, num_classes, input_size, hidden_size, num_layers):\n",
        "        super(LSTM_Model_label, self).__init__()\n",
        "        self.num_classes = num_classes #number of classes\n",
        "        self.num_layers = num_layers #number of layers\n",
        "        self.input_size = input_size #input size\n",
        "        self.hidden_size = hidden_size #hidden state\n",
        "\n",
        "        self.lstm = nn.LSTM(input_size=input_size, hidden_size=hidden_size, num_layers=num_layers, batch_first=True, \n",
        "                            bidirectional=bidirectional, dropout=drop_out) #lstm\n",
        "\n",
        "        self.fc_layers = nn.Sequential(\n",
        "        nn.Linear(hidden_size * bidirectional_forward_backward, hyper_parameter1),\n",
        "        nn.Tanh(),\n",
        "        nn.Linear(hyper_parameter1, hyper_parameter2),\n",
        "        nn.ReLU(),\n",
        "        nn.Linear(hyper_parameter2, hyper_parameter3),\n",
        "        nn.Sigmoid(),\n",
        "        nn.Linear(hyper_parameter3, num_classes)\n",
        "        )\n",
        "    \n",
        "    def forward(self,x):\n",
        "        h_0 = Variable(torch.zeros(self.num_layers * bidirectional_forward_backward, x.size(0), self.hidden_size)).to(device=device) #hidden state\n",
        "        c_0 = Variable(torch.zeros(self.num_layers * bidirectional_forward_backward, x.size(0), self.hidden_size)).to(device=device) #internal state\n",
        "\n",
        "        out, (hn, cn) = self.lstm(x, (h_0, c_0))\n",
        "        out = self.fc_layers(out[:, -1, :]) \n",
        "        return out\n"
      ]
    },
    {
      "cell_type": "code",
      "execution_count": 8,
      "metadata": {
        "id": "US8JfNI8j3zO",
        "colab": {
          "base_uri": "https://localhost:8080/"
        },
        "outputId": "8b705371-e975-4237-b1ff-8fc5d926fdd7"
      },
      "outputs": [
        {
          "output_type": "execute_result",
          "data": {
            "text/plain": [
              "LSTM_Model_attack(\n",
              "  (lstm): LSTM(41, 16, num_layers=3, batch_first=True, bidirectional=True)\n",
              "  (fc_layers): Sequential(\n",
              "    (0): Linear(in_features=32, out_features=128, bias=True)\n",
              "    (1): Tanh()\n",
              "    (2): Linear(in_features=128, out_features=64, bias=True)\n",
              "    (3): ReLU()\n",
              "    (4): Linear(in_features=64, out_features=32, bias=True)\n",
              "    (5): Sigmoid()\n",
              "    (6): Linear(in_features=32, out_features=10, bias=True)\n",
              "  )\n",
              ")"
            ]
          },
          "metadata": {},
          "execution_count": 8
        }
      ],
      "source": [
        "my_model_attack = LSTM_Model_attack(num_classes_attack_cat, input_size, hidden_size, num_layers).to(device=device)\n",
        "my_model_attack"
      ]
    },
    {
      "cell_type": "code",
      "source": [
        "my_model_attack.state_dict()"
      ],
      "metadata": {
        "id": "Dq8JkQZ9ukCs",
        "colab": {
          "base_uri": "https://localhost:8080/"
        },
        "outputId": "eac11db2-4226-432d-b485-87f6167ac7c8"
      },
      "execution_count": 9,
      "outputs": [
        {
          "output_type": "execute_result",
          "data": {
            "text/plain": [
              "OrderedDict([('lstm.weight_ih_l0',\n",
              "              tensor([[-0.0085, -0.1264, -0.1503,  ..., -0.2372, -0.1870, -0.1188],\n",
              "                      [-0.0945, -0.1822,  0.0873,  ...,  0.1090,  0.2021, -0.0635],\n",
              "                      [-0.2125, -0.2392,  0.2013,  ..., -0.0225,  0.1011, -0.2019],\n",
              "                      ...,\n",
              "                      [ 0.1375,  0.1755, -0.1878,  ...,  0.0367, -0.0639, -0.0963],\n",
              "                      [ 0.0683,  0.1716, -0.2442,  ...,  0.0181,  0.0645,  0.0398],\n",
              "                      [-0.1280,  0.1505,  0.1063,  ...,  0.0177, -0.0321, -0.1418]],\n",
              "                     device='cuda:0')),\n",
              "             ('lstm.weight_hh_l0',\n",
              "              tensor([[ 2.0305e-01, -2.0520e-01, -2.7753e-02,  ...,  7.9085e-02,\n",
              "                        1.5486e-01,  8.6135e-02],\n",
              "                      [-9.8046e-02,  1.8349e-01, -7.7018e-02,  ..., -2.1989e-01,\n",
              "                        8.0109e-04, -1.0246e-01],\n",
              "                      [-8.8942e-02,  1.0282e-01,  7.6103e-02,  ...,  8.3690e-02,\n",
              "                       -1.7344e-01, -2.1085e-01],\n",
              "                      ...,\n",
              "                      [-5.1602e-02,  5.2387e-04, -8.4643e-02,  ..., -1.4548e-01,\n",
              "                       -1.2071e-01,  1.0816e-01],\n",
              "                      [ 1.7918e-01,  9.3632e-02,  1.6206e-01,  ..., -2.1396e-01,\n",
              "                        9.2953e-05,  2.4598e-01],\n",
              "                      [-7.7487e-02,  1.9681e-01,  1.4461e-01,  ..., -4.4022e-02,\n",
              "                        1.5022e-01,  2.2950e-02]], device='cuda:0')),\n",
              "             ('lstm.bias_ih_l0',\n",
              "              tensor([-0.0749,  0.1338,  0.0436,  0.2347, -0.2032,  0.1421,  0.1347, -0.2120,\n",
              "                       0.0137, -0.0454,  0.0622,  0.2478,  0.2492, -0.1811, -0.0157, -0.0858,\n",
              "                      -0.2396, -0.2320,  0.0539,  0.0984, -0.1918, -0.0858, -0.1462, -0.0937,\n",
              "                      -0.0054,  0.2386,  0.0391,  0.0984, -0.0547, -0.0812, -0.1702,  0.0563,\n",
              "                      -0.2233,  0.1463, -0.1116, -0.2172,  0.0379,  0.0279,  0.1443,  0.1686,\n",
              "                      -0.0428, -0.1307,  0.2270,  0.1515,  0.0902, -0.2169, -0.0545, -0.1626,\n",
              "                      -0.1709,  0.2175, -0.0659,  0.2432, -0.2201, -0.1290, -0.2238, -0.0848,\n",
              "                       0.0272,  0.0368,  0.0909,  0.2304,  0.1555, -0.1359,  0.1953,  0.1124],\n",
              "                     device='cuda:0')),\n",
              "             ('lstm.bias_hh_l0',\n",
              "              tensor([-0.1803, -0.2224, -0.1292, -0.0753, -0.0484, -0.1443, -0.0657,  0.1136,\n",
              "                       0.0731,  0.1574,  0.0580,  0.2470,  0.2353,  0.1420,  0.1177,  0.2498,\n",
              "                      -0.2432, -0.1773, -0.0933, -0.1215, -0.0722,  0.0074, -0.0789,  0.0968,\n",
              "                      -0.1804,  0.1574,  0.1812, -0.0761, -0.1549, -0.1365, -0.1437,  0.1741,\n",
              "                      -0.1880,  0.0140,  0.0938, -0.0629,  0.1325, -0.1943,  0.2126,  0.1506,\n",
              "                      -0.0239,  0.0463,  0.0069,  0.2392,  0.2122, -0.0295,  0.1970,  0.2279,\n",
              "                      -0.0212, -0.0125,  0.1457, -0.2210,  0.0690,  0.1215,  0.2336, -0.1289,\n",
              "                      -0.1501, -0.0186,  0.1643,  0.2114,  0.2007,  0.1724, -0.1980, -0.1031],\n",
              "                     device='cuda:0')),\n",
              "             ('lstm.weight_ih_l0_reverse',\n",
              "              tensor([[ 1.6030e-01, -1.3152e-01, -1.0999e-01,  ...,  1.7672e-01,\n",
              "                       -1.0434e-01,  1.8539e-01],\n",
              "                      [ 2.1087e-01, -4.4506e-02,  1.1048e-01,  ...,  2.1177e-01,\n",
              "                       -6.1657e-03,  1.7029e-01],\n",
              "                      [ 1.0509e-01, -1.3189e-01,  1.5149e-02,  ..., -1.3494e-02,\n",
              "                       -9.2784e-02, -2.4954e-01],\n",
              "                      ...,\n",
              "                      [-2.1170e-01,  2.1756e-01, -1.9179e-01,  ..., -2.3145e-01,\n",
              "                        2.2180e-01,  1.0625e-01],\n",
              "                      [-1.6334e-01,  6.6140e-02,  2.4889e-02,  ..., -2.2078e-02,\n",
              "                       -5.5389e-02, -1.0839e-04],\n",
              "                      [-1.9367e-01,  8.5284e-02,  1.6550e-01,  ..., -1.1536e-01,\n",
              "                       -1.8077e-01,  1.1499e-01]], device='cuda:0')),\n",
              "             ('lstm.weight_hh_l0_reverse',\n",
              "              tensor([[ 0.1672, -0.0451, -0.1928,  ..., -0.1670, -0.2395,  0.2177],\n",
              "                      [-0.0793,  0.1457,  0.0003,  ...,  0.0773,  0.2304,  0.2296],\n",
              "                      [ 0.2087, -0.1279, -0.0557,  ..., -0.2074,  0.2370, -0.1662],\n",
              "                      ...,\n",
              "                      [-0.1765,  0.0163,  0.1177,  ..., -0.0227, -0.0085, -0.0207],\n",
              "                      [ 0.1759,  0.0055,  0.2102,  ...,  0.2242, -0.1717, -0.0588],\n",
              "                      [-0.1955,  0.2454,  0.0610,  ..., -0.1066, -0.0348, -0.1803]],\n",
              "                     device='cuda:0')),\n",
              "             ('lstm.bias_ih_l0_reverse',\n",
              "              tensor([-0.1867, -0.2439,  0.0487,  0.1956,  0.1203,  0.0095, -0.0797, -0.1089,\n",
              "                       0.0297, -0.0951,  0.0721,  0.2161,  0.2469, -0.0027,  0.2023, -0.2288,\n",
              "                      -0.1629,  0.0409,  0.0816, -0.0652,  0.2156, -0.2125,  0.2358,  0.1383,\n",
              "                      -0.1188, -0.0099, -0.2084,  0.1601, -0.2018,  0.1659, -0.0713, -0.0590,\n",
              "                      -0.0730,  0.2142,  0.1464, -0.1713,  0.2103, -0.2131, -0.0918,  0.0346,\n",
              "                      -0.1618, -0.1640, -0.0808,  0.1936,  0.0301,  0.0994,  0.1700,  0.1725,\n",
              "                      -0.0668,  0.1944, -0.1855,  0.1303, -0.1275,  0.1251, -0.0649, -0.2148,\n",
              "                      -0.0406, -0.1004,  0.1015, -0.2320, -0.2113,  0.1334, -0.1455,  0.0689],\n",
              "                     device='cuda:0')),\n",
              "             ('lstm.bias_hh_l0_reverse',\n",
              "              tensor([ 0.1368,  0.1048,  0.0592,  0.1752,  0.2232,  0.0746, -0.0308, -0.2335,\n",
              "                       0.0439,  0.1816, -0.0205, -0.0933, -0.1228, -0.0894,  0.2139, -0.1608,\n",
              "                      -0.0077, -0.1545,  0.1159,  0.0266, -0.1103, -0.0077, -0.1679,  0.0421,\n",
              "                      -0.0894,  0.1492, -0.1957, -0.1216,  0.1941, -0.0893,  0.2158, -0.2145,\n",
              "                       0.1160, -0.0055, -0.1922, -0.1905,  0.2042, -0.0347,  0.1126,  0.2037,\n",
              "                      -0.0632,  0.1587, -0.0733, -0.1873,  0.0672, -0.2035,  0.2163,  0.1266,\n",
              "                      -0.1211, -0.1558,  0.0855,  0.1101, -0.2287,  0.0576,  0.2374, -0.2199,\n",
              "                       0.1915,  0.0780, -0.0748,  0.1435, -0.2191,  0.1999,  0.0577, -0.1604],\n",
              "                     device='cuda:0')),\n",
              "             ('lstm.weight_ih_l1',\n",
              "              tensor([[-0.0501,  0.1979,  0.2125,  ..., -0.2346,  0.2041,  0.1862],\n",
              "                      [ 0.0869,  0.1329, -0.1819,  ..., -0.0163, -0.1910, -0.0587],\n",
              "                      [ 0.2369,  0.1838,  0.1404,  ...,  0.0368, -0.1667, -0.1259],\n",
              "                      ...,\n",
              "                      [-0.1059,  0.0398,  0.2151,  ...,  0.2256,  0.0708, -0.2418],\n",
              "                      [ 0.1836, -0.2064, -0.0876,  ...,  0.0441,  0.1027,  0.0293],\n",
              "                      [-0.1700, -0.0282,  0.0189,  ...,  0.2348, -0.1805,  0.1712]],\n",
              "                     device='cuda:0')),\n",
              "             ('lstm.weight_hh_l1',\n",
              "              tensor([[-0.1551, -0.0840,  0.1487,  ..., -0.0686, -0.1250, -0.1745],\n",
              "                      [-0.1601, -0.1415,  0.1542,  ...,  0.1963, -0.0405, -0.0596],\n",
              "                      [-0.0985,  0.1396, -0.0049,  ...,  0.0041, -0.1990, -0.0739],\n",
              "                      ...,\n",
              "                      [ 0.1393, -0.1724,  0.0718,  ...,  0.0264,  0.0349, -0.1184],\n",
              "                      [-0.1633,  0.1481,  0.1732,  ..., -0.2444,  0.1312,  0.1563],\n",
              "                      [-0.1947, -0.1683,  0.2251,  ..., -0.2162, -0.1221,  0.2206]],\n",
              "                     device='cuda:0')),\n",
              "             ('lstm.bias_ih_l1',\n",
              "              tensor([-0.1547,  0.0763,  0.0863,  0.0338, -0.1151, -0.1026,  0.0036,  0.1486,\n",
              "                       0.0456, -0.0349, -0.2157,  0.2081, -0.0549, -0.0106, -0.1984, -0.1968,\n",
              "                       0.2113,  0.0874,  0.1055, -0.1099,  0.1474,  0.2000, -0.2019,  0.1797,\n",
              "                       0.1009,  0.1323,  0.1685, -0.1233,  0.1598, -0.0888, -0.0225, -0.0260,\n",
              "                      -0.1359, -0.0476, -0.1700,  0.0141,  0.1748,  0.0985, -0.2427,  0.1077,\n",
              "                      -0.0270, -0.1050,  0.0147,  0.2282, -0.1146,  0.1160, -0.0636, -0.0186,\n",
              "                       0.1605,  0.2213, -0.0737, -0.0888,  0.1082, -0.1639,  0.1733,  0.1503,\n",
              "                      -0.2403, -0.1269,  0.0664, -0.1747,  0.2047, -0.1677, -0.1490,  0.2279],\n",
              "                     device='cuda:0')),\n",
              "             ('lstm.bias_hh_l1',\n",
              "              tensor([-0.1784,  0.0119,  0.1269, -0.1139,  0.0929,  0.1388,  0.0692, -0.1563,\n",
              "                      -0.0133, -0.2173, -0.0340,  0.0030,  0.1054, -0.0326,  0.1576, -0.1757,\n",
              "                       0.0569, -0.2202, -0.2031,  0.1650, -0.0018,  0.1544, -0.1204,  0.0872,\n",
              "                      -0.1161,  0.1581, -0.1641, -0.0302, -0.0115, -0.1833, -0.0678,  0.1778,\n",
              "                      -0.0677, -0.0690,  0.0988, -0.1250, -0.1370, -0.1059,  0.1427, -0.2220,\n",
              "                       0.0213, -0.0637, -0.2099, -0.0058,  0.0653, -0.0626, -0.1815,  0.2151,\n",
              "                      -0.1046,  0.1084,  0.1593, -0.0273,  0.0551,  0.0143, -0.1126,  0.0128,\n",
              "                      -0.0880, -0.2002, -0.1041, -0.1085, -0.1726,  0.1577,  0.0140,  0.0848],\n",
              "                     device='cuda:0')),\n",
              "             ('lstm.weight_ih_l1_reverse',\n",
              "              tensor([[-0.1740,  0.1355, -0.1507,  ..., -0.2493,  0.0344, -0.1645],\n",
              "                      [ 0.2414, -0.0060,  0.0821,  ..., -0.0079, -0.0811, -0.1652],\n",
              "                      [-0.1445, -0.1322,  0.1580,  ...,  0.0437,  0.2244,  0.2432],\n",
              "                      ...,\n",
              "                      [-0.2365, -0.2331, -0.0476,  ..., -0.0289,  0.0236,  0.1235],\n",
              "                      [ 0.2264,  0.2433, -0.0230,  ..., -0.2397,  0.1530,  0.0997],\n",
              "                      [ 0.0689,  0.0684, -0.1971,  ..., -0.0230, -0.1875, -0.2303]],\n",
              "                     device='cuda:0')),\n",
              "             ('lstm.weight_hh_l1_reverse',\n",
              "              tensor([[ 0.0251,  0.1052,  0.1063,  ..., -0.1356, -0.1456,  0.1127],\n",
              "                      [-0.0804, -0.2185, -0.0712,  ...,  0.2320,  0.0882,  0.1505],\n",
              "                      [ 0.1935, -0.0483, -0.1279,  ..., -0.1710,  0.0615,  0.1320],\n",
              "                      ...,\n",
              "                      [-0.1723,  0.0499,  0.1234,  ..., -0.1747,  0.0877,  0.0223],\n",
              "                      [-0.1920,  0.1125,  0.0641,  ..., -0.1267,  0.1696, -0.1590],\n",
              "                      [-0.2119,  0.1213,  0.0454,  ..., -0.0208, -0.0564, -0.2267]],\n",
              "                     device='cuda:0')),\n",
              "             ('lstm.bias_ih_l1_reverse',\n",
              "              tensor([ 0.1408, -0.2443, -0.2006, -0.1889, -0.1673,  0.2173,  0.2312,  0.2145,\n",
              "                      -0.1955,  0.1911,  0.2467,  0.2418, -0.1481, -0.1231,  0.2124, -0.0453,\n",
              "                      -0.0849,  0.0678,  0.0453,  0.1256, -0.0106, -0.0513, -0.0989, -0.0436,\n",
              "                       0.0635, -0.1059,  0.2384, -0.1746,  0.1714, -0.0050, -0.1025, -0.1199,\n",
              "                      -0.1821, -0.0249,  0.1021,  0.2198,  0.2427, -0.0358, -0.1266,  0.0337,\n",
              "                       0.2329,  0.0854, -0.2119,  0.1436, -0.0907, -0.1181, -0.0510, -0.0558,\n",
              "                       0.1461, -0.0358, -0.1238,  0.0498, -0.1237,  0.1622, -0.1186, -0.1028,\n",
              "                       0.0453, -0.2253,  0.1566, -0.1230,  0.1814,  0.0528, -0.2068,  0.0512],\n",
              "                     device='cuda:0')),\n",
              "             ('lstm.bias_hh_l1_reverse',\n",
              "              tensor([ 0.0643, -0.1660,  0.0342, -0.1187, -0.2308,  0.1910, -0.2169,  0.0181,\n",
              "                       0.2436, -0.0196,  0.2067, -0.0668, -0.2098,  0.0376, -0.2200,  0.0112,\n",
              "                       0.0126,  0.0504,  0.1087,  0.2317, -0.0235, -0.1912, -0.2132,  0.1024,\n",
              "                      -0.1883, -0.1012,  0.0339,  0.0465,  0.0476, -0.0398, -0.0098, -0.1229,\n",
              "                       0.1531, -0.0934, -0.1153,  0.1742, -0.1389, -0.2125, -0.0142,  0.1475,\n",
              "                       0.1020, -0.1888,  0.1808, -0.0713,  0.0900, -0.2030, -0.0091,  0.1182,\n",
              "                      -0.1420, -0.0388, -0.1259,  0.2088, -0.1188,  0.0385,  0.1470,  0.0588,\n",
              "                       0.1956,  0.1150,  0.2453, -0.0184,  0.1944, -0.2253,  0.2080, -0.0590],\n",
              "                     device='cuda:0')),\n",
              "             ('lstm.weight_ih_l2',\n",
              "              tensor([[ 0.0142,  0.0752, -0.2316,  ...,  0.0485, -0.2135, -0.0158],\n",
              "                      [ 0.1084, -0.0166,  0.2005,  ..., -0.0207, -0.1321, -0.0824],\n",
              "                      [-0.0794,  0.0735, -0.2024,  ..., -0.0055, -0.1955, -0.0261],\n",
              "                      ...,\n",
              "                      [-0.0357,  0.0250,  0.1269,  ...,  0.0301, -0.2498,  0.2488],\n",
              "                      [ 0.1774,  0.1532, -0.0415,  ..., -0.1985, -0.0395,  0.1454],\n",
              "                      [-0.0838,  0.0361, -0.0458,  ...,  0.2208, -0.0579, -0.1872]],\n",
              "                     device='cuda:0')),\n",
              "             ('lstm.weight_hh_l2',\n",
              "              tensor([[ 0.0193,  0.1719,  0.0646,  ...,  0.0320,  0.1777,  0.2434],\n",
              "                      [-0.1446,  0.1265, -0.0240,  ..., -0.1234,  0.0384, -0.2492],\n",
              "                      [ 0.1147,  0.1675, -0.1606,  ...,  0.0980,  0.1735,  0.0112],\n",
              "                      ...,\n",
              "                      [ 0.1571,  0.1204,  0.0236,  ...,  0.1314,  0.2462,  0.0597],\n",
              "                      [ 0.2042,  0.0273,  0.2149,  ..., -0.0200, -0.2412, -0.1248],\n",
              "                      [ 0.2107,  0.1819, -0.0522,  ..., -0.1258, -0.1274,  0.1958]],\n",
              "                     device='cuda:0')),\n",
              "             ('lstm.bias_ih_l2',\n",
              "              tensor([ 0.1766,  0.1716, -0.2046, -0.1770, -0.1855, -0.1356, -0.1862, -0.0224,\n",
              "                      -0.2086,  0.1650,  0.2214,  0.0042, -0.0597,  0.2289, -0.0867,  0.2276,\n",
              "                      -0.0479, -0.0963,  0.2197,  0.1207, -0.0813, -0.1533,  0.1752, -0.2223,\n",
              "                       0.0330,  0.2320,  0.0337, -0.0792, -0.0278, -0.1460,  0.0065, -0.0676,\n",
              "                      -0.1714,  0.1090,  0.0080,  0.0812, -0.1638, -0.1416, -0.1766, -0.1431,\n",
              "                      -0.1963, -0.1606, -0.0366, -0.1777,  0.1710, -0.0692,  0.0850,  0.0560,\n",
              "                       0.0619, -0.1328, -0.1748, -0.2176, -0.0144, -0.0918, -0.2115,  0.0343,\n",
              "                      -0.2299,  0.1467, -0.1980,  0.1964, -0.0149, -0.0818, -0.1667,  0.2485],\n",
              "                     device='cuda:0')),\n",
              "             ('lstm.bias_hh_l2',\n",
              "              tensor([-0.2348, -0.1883,  0.1133,  0.0929, -0.1148,  0.2210,  0.0773,  0.0522,\n",
              "                      -0.0559, -0.2481, -0.0232, -0.1782, -0.1109, -0.0209,  0.0986, -0.0603,\n",
              "                      -0.0487, -0.0898,  0.2345,  0.0861, -0.1921,  0.1178, -0.1933,  0.1022,\n",
              "                       0.0781, -0.1763, -0.1615, -0.1208,  0.0754,  0.2342, -0.1378, -0.1789,\n",
              "                       0.1812,  0.0086,  0.2168,  0.0888,  0.1511, -0.0557, -0.1330,  0.0043,\n",
              "                      -0.1633,  0.1614, -0.0319,  0.0428, -0.0003,  0.1952, -0.0365,  0.1503,\n",
              "                       0.2102,  0.2201, -0.2244, -0.2187, -0.1043,  0.0731, -0.1141,  0.0677,\n",
              "                       0.0383, -0.1973,  0.0888, -0.0229, -0.2410, -0.1349,  0.1380, -0.1086],\n",
              "                     device='cuda:0')),\n",
              "             ('lstm.weight_ih_l2_reverse',\n",
              "              tensor([[-0.0494,  0.0874,  0.2396,  ..., -0.0881,  0.1239, -0.1840],\n",
              "                      [-0.0300, -0.1537, -0.0556,  ..., -0.0837,  0.1131,  0.2119],\n",
              "                      [-0.1177, -0.0929,  0.0729,  ...,  0.1930, -0.1886,  0.0925],\n",
              "                      ...,\n",
              "                      [ 0.1840,  0.0117, -0.1043,  ..., -0.0031, -0.0768, -0.2099],\n",
              "                      [-0.0449, -0.2080, -0.0189,  ..., -0.0097, -0.2431, -0.0968],\n",
              "                      [ 0.0005,  0.0393, -0.1251,  ..., -0.0978, -0.2272, -0.1408]],\n",
              "                     device='cuda:0')),\n",
              "             ('lstm.weight_hh_l2_reverse',\n",
              "              tensor([[ 0.2016,  0.1702,  0.0617,  ..., -0.0273, -0.2467,  0.0976],\n",
              "                      [-0.2257,  0.1966, -0.0089,  ..., -0.0792, -0.0708, -0.1577],\n",
              "                      [-0.2141, -0.0526,  0.2182,  ..., -0.1869,  0.1169,  0.0004],\n",
              "                      ...,\n",
              "                      [ 0.0837, -0.1171, -0.0354,  ...,  0.0064, -0.2152, -0.2148],\n",
              "                      [-0.0334, -0.2338, -0.0220,  ...,  0.0152, -0.2328, -0.1325],\n",
              "                      [ 0.0602,  0.0078, -0.0370,  ..., -0.1474, -0.1292, -0.1307]],\n",
              "                     device='cuda:0')),\n",
              "             ('lstm.bias_ih_l2_reverse',\n",
              "              tensor([ 0.2104, -0.1427, -0.2477,  0.1784,  0.2312, -0.0510,  0.0448, -0.1470,\n",
              "                       0.1891, -0.1564,  0.0666, -0.0941,  0.1940, -0.2361,  0.1416,  0.1967,\n",
              "                      -0.1637, -0.0629,  0.1221,  0.1815,  0.0090,  0.0202, -0.0686, -0.0369,\n",
              "                       0.2460, -0.0175, -0.1904, -0.1522, -0.2150,  0.0950,  0.0991, -0.1181,\n",
              "                      -0.0599, -0.1735,  0.1312,  0.1178, -0.2317, -0.0611,  0.1775,  0.2239,\n",
              "                       0.1437, -0.1188, -0.0428,  0.1425,  0.0914,  0.1191,  0.0576,  0.0830,\n",
              "                      -0.0481,  0.0857,  0.2453, -0.0951, -0.1492,  0.0791,  0.1850, -0.0805,\n",
              "                      -0.0794, -0.0387,  0.1412, -0.2203, -0.0891,  0.1211,  0.1243, -0.0687],\n",
              "                     device='cuda:0')),\n",
              "             ('lstm.bias_hh_l2_reverse',\n",
              "              tensor([-0.2130,  0.0421,  0.1530,  0.0766, -0.0845,  0.0885, -0.1385,  0.1735,\n",
              "                      -0.0815,  0.0382,  0.0927,  0.0258, -0.0501, -0.1092, -0.2263,  0.1956,\n",
              "                       0.2385, -0.2123,  0.2394,  0.1635, -0.0680, -0.2315, -0.0148, -0.2002,\n",
              "                      -0.0166,  0.2028,  0.0921, -0.1901, -0.2397,  0.0495, -0.0849, -0.2093,\n",
              "                       0.0364, -0.1808, -0.1785,  0.2492, -0.0855,  0.0676,  0.0373, -0.2206,\n",
              "                       0.0191, -0.1688, -0.0114, -0.1666,  0.1097,  0.1845,  0.2146,  0.0875,\n",
              "                       0.1547, -0.2036,  0.0788, -0.1650,  0.1672, -0.1293, -0.2385, -0.1649,\n",
              "                      -0.2323,  0.2355,  0.1582, -0.1424,  0.0890, -0.1644,  0.0435,  0.0244],\n",
              "                     device='cuda:0')),\n",
              "             ('fc_layers.0.weight',\n",
              "              tensor([[ 0.0174, -0.0897, -0.1642,  ...,  0.1768,  0.0812,  0.1124],\n",
              "                      [-0.0821, -0.0319,  0.0507,  ...,  0.0369,  0.0344, -0.1692],\n",
              "                      [ 0.0970,  0.1186,  0.1247,  ...,  0.0529,  0.0230,  0.1449],\n",
              "                      ...,\n",
              "                      [-0.0933, -0.1101, -0.0719,  ...,  0.0576, -0.1615,  0.1716],\n",
              "                      [ 0.0226, -0.1115, -0.0144,  ..., -0.0664, -0.0554, -0.1467],\n",
              "                      [ 0.1017,  0.1093, -0.0635,  ..., -0.1244,  0.0968,  0.1185]],\n",
              "                     device='cuda:0')),\n",
              "             ('fc_layers.0.bias',\n",
              "              tensor([-1.4776e-01,  1.4111e-01,  1.2702e-01,  1.6024e-01,  4.9965e-02,\n",
              "                       2.1264e-03, -1.3344e-01, -9.6434e-02,  8.7598e-02,  8.6278e-02,\n",
              "                       1.6254e-01,  6.2659e-02, -1.1449e-02,  6.3617e-02,  7.6817e-02,\n",
              "                       1.6373e-01,  1.3644e-01,  9.9756e-02,  3.4143e-02,  1.1867e-02,\n",
              "                      -1.1451e-01,  1.3366e-01,  6.9974e-02,  6.8258e-02, -1.6888e-01,\n",
              "                      -7.7105e-02,  1.0405e-02, -1.3867e-02, -1.5890e-01, -1.8941e-02,\n",
              "                       1.2795e-01,  2.5969e-02,  6.4731e-02,  1.5893e-03, -8.5223e-02,\n",
              "                       1.6265e-01, -1.2567e-01,  9.7558e-02,  8.2193e-02,  1.5680e-01,\n",
              "                      -1.6827e-01,  1.3254e-01,  1.7395e-01,  9.2589e-02, -2.8869e-02,\n",
              "                      -1.7527e-01,  1.3249e-01, -4.0944e-02,  2.6539e-02, -1.3107e-01,\n",
              "                       5.8907e-02,  1.1310e-01,  8.4778e-02, -1.1871e-01,  7.0352e-02,\n",
              "                       1.6154e-01,  1.7242e-01, -5.5462e-02, -2.9684e-02,  1.0359e-01,\n",
              "                      -6.5833e-02, -1.7495e-01, -1.7564e-01, -5.3431e-02,  9.0104e-03,\n",
              "                      -5.9688e-02,  1.1833e-01,  1.6199e-01, -5.5504e-02,  1.3935e-01,\n",
              "                      -2.7870e-02,  1.0487e-01, -1.5379e-01, -8.1417e-02, -1.7559e-01,\n",
              "                      -1.3635e-01, -3.7719e-02, -6.5590e-03, -1.7247e-01,  1.3322e-01,\n",
              "                       8.8468e-02,  4.6029e-02, -1.4114e-01,  8.9245e-02,  1.2037e-01,\n",
              "                       1.2724e-01,  9.4715e-02, -1.0397e-01, -2.7693e-02, -1.6218e-01,\n",
              "                       6.3319e-02, -2.5327e-03,  1.6365e-01,  6.0323e-02,  1.1381e-01,\n",
              "                       1.0599e-01,  3.1290e-02, -6.5552e-02, -6.6957e-02,  1.1812e-02,\n",
              "                      -1.1195e-01,  4.1253e-02,  1.6444e-01,  2.1685e-02,  8.9689e-02,\n",
              "                      -1.5033e-01, -5.8673e-02, -7.6886e-02, -5.7113e-02,  1.0589e-01,\n",
              "                       1.4621e-01,  6.2227e-02, -7.4933e-02,  1.3403e-01, -9.6873e-02,\n",
              "                       1.4365e-01, -2.5686e-02,  2.8091e-05,  4.2252e-02,  1.3949e-01,\n",
              "                      -8.9605e-03,  1.3335e-01, -9.5760e-02,  1.5503e-01, -6.6070e-02,\n",
              "                      -1.0940e-01,  1.5003e-01, -8.8540e-02], device='cuda:0')),\n",
              "             ('fc_layers.2.weight',\n",
              "              tensor([[ 0.0278,  0.0420, -0.0416,  ...,  0.0776,  0.0233,  0.0208],\n",
              "                      [ 0.0289, -0.0272,  0.0141,  ...,  0.0059, -0.0751,  0.0704],\n",
              "                      [-0.0602, -0.0131, -0.0339,  ...,  0.0691,  0.0041, -0.0822],\n",
              "                      ...,\n",
              "                      [-0.0266,  0.0749, -0.0036,  ...,  0.0091, -0.0393,  0.0117],\n",
              "                      [ 0.0752, -0.0386,  0.0489,  ...,  0.0704, -0.0018,  0.0711],\n",
              "                      [-0.0475, -0.0448, -0.0182,  ..., -0.0758,  0.0428, -0.0743]],\n",
              "                     device='cuda:0')),\n",
              "             ('fc_layers.2.bias',\n",
              "              tensor([-0.0721, -0.0763, -0.0031,  0.0315,  0.0739, -0.0324,  0.0634, -0.0374,\n",
              "                       0.0596, -0.0309,  0.0074, -0.0804,  0.0704,  0.0079,  0.0381, -0.0605,\n",
              "                       0.0160, -0.0820, -0.0357, -0.0635, -0.0288, -0.0674,  0.0072,  0.0854,\n",
              "                       0.0867, -0.0114,  0.0127,  0.0561,  0.0542,  0.0524,  0.0480,  0.0828,\n",
              "                       0.0033,  0.0423,  0.0797,  0.0846,  0.0217,  0.0858,  0.0585, -0.0198,\n",
              "                       0.0350,  0.0127,  0.0315, -0.0276,  0.0239,  0.0657,  0.0216,  0.0852,\n",
              "                       0.0352,  0.0381, -0.0487, -0.0071, -0.0743,  0.0702, -0.0360, -0.0317,\n",
              "                      -0.0143,  0.0390,  0.0079, -0.0025, -0.0568,  0.0164, -0.0361,  0.0767],\n",
              "                     device='cuda:0')),\n",
              "             ('fc_layers.4.weight',\n",
              "              tensor([[-4.7292e-02,  3.6607e-02,  6.9216e-02,  ..., -6.9526e-02,\n",
              "                        9.2053e-02,  3.5366e-02],\n",
              "                      [-8.3363e-02, -1.4372e-02,  7.6238e-02,  ..., -4.1227e-02,\n",
              "                       -2.9197e-02,  8.5200e-02],\n",
              "                      [-1.1744e-04, -1.4090e-02, -1.0796e-01,  ..., -1.7340e-02,\n",
              "                        4.3286e-02,  4.9646e-02],\n",
              "                      ...,\n",
              "                      [ 1.0282e-01,  6.0278e-02, -1.1086e-01,  ...,  4.3021e-02,\n",
              "                        1.6552e-02,  5.1000e-02],\n",
              "                      [-1.1277e-01,  1.0570e-01,  4.6502e-03,  ..., -1.7181e-02,\n",
              "                        3.4392e-03,  3.4525e-03],\n",
              "                      [-3.8082e-03,  4.1603e-02,  3.0164e-02,  ...,  1.9965e-02,\n",
              "                       -1.2128e-01, -9.7913e-02]], device='cuda:0')),\n",
              "             ('fc_layers.4.bias',\n",
              "              tensor([ 0.0093, -0.1009,  0.0826, -0.0505, -0.0909,  0.1219, -0.1223, -0.0854,\n",
              "                      -0.0788,  0.0537, -0.0879, -0.0415, -0.0420, -0.0731, -0.1089,  0.0174,\n",
              "                       0.0176,  0.0906,  0.0974,  0.0418,  0.0449,  0.1113, -0.0914, -0.0573,\n",
              "                       0.1162, -0.0437, -0.0142, -0.0022, -0.0205, -0.0563,  0.1233,  0.0267],\n",
              "                     device='cuda:0')),\n",
              "             ('fc_layers.6.weight',\n",
              "              tensor([[-0.0871, -0.1734,  0.0519,  0.0939, -0.1647, -0.0498,  0.1199, -0.1041,\n",
              "                       -0.0916,  0.0330, -0.0972,  0.0687, -0.1568, -0.1743,  0.0340,  0.0839,\n",
              "                        0.1229,  0.1354, -0.1513, -0.0812,  0.0292, -0.0885,  0.1455, -0.0481,\n",
              "                        0.0120,  0.1343,  0.0323,  0.0783,  0.1448, -0.1026, -0.0867, -0.0530],\n",
              "                      [ 0.0286,  0.0666,  0.1121, -0.0421,  0.1488, -0.1549,  0.0613, -0.1000,\n",
              "                        0.1202, -0.1084,  0.0284,  0.0840, -0.1251,  0.0240, -0.1221,  0.0691,\n",
              "                        0.1480, -0.0956,  0.1192, -0.1759, -0.0495,  0.0916, -0.1728, -0.0907,\n",
              "                        0.0854, -0.0450, -0.0834, -0.1641,  0.0918, -0.0016,  0.1080,  0.1442],\n",
              "                      [ 0.0579, -0.1652,  0.1598, -0.1528,  0.1503,  0.0132, -0.0513, -0.0032,\n",
              "                        0.0401,  0.0257,  0.0638,  0.0493,  0.1665, -0.0966, -0.0845,  0.1114,\n",
              "                       -0.1626,  0.1693,  0.0742, -0.0549,  0.0281, -0.0273,  0.0923,  0.0136,\n",
              "                       -0.0372,  0.0555, -0.0534,  0.1273, -0.0201,  0.0032, -0.0957,  0.1334],\n",
              "                      [-0.1103,  0.0791,  0.0569, -0.1657,  0.1676,  0.0737,  0.1310,  0.0858,\n",
              "                        0.1670, -0.1384, -0.0395,  0.0468,  0.0159,  0.1383, -0.0752,  0.0621,\n",
              "                        0.0012,  0.0523,  0.0052, -0.1422,  0.1364, -0.1712, -0.0679,  0.0528,\n",
              "                       -0.1087, -0.0379, -0.1604,  0.0700, -0.0101, -0.0039, -0.0100, -0.0845],\n",
              "                      [-0.0706, -0.1726,  0.1100, -0.0531, -0.1357,  0.0157,  0.1473,  0.0944,\n",
              "                        0.0109, -0.1198,  0.0786,  0.0734, -0.1287,  0.0311, -0.0609,  0.0078,\n",
              "                       -0.1097, -0.0167,  0.0820,  0.1086, -0.0089,  0.1460,  0.1651, -0.0845,\n",
              "                        0.0447,  0.0270, -0.1614, -0.0810, -0.0274, -0.0886, -0.0093,  0.1694],\n",
              "                      [ 0.0158,  0.0991, -0.1535, -0.0682, -0.0931, -0.0817, -0.0800, -0.1294,\n",
              "                        0.0840, -0.1755,  0.1636, -0.0207,  0.1695,  0.0320,  0.0115,  0.0372,\n",
              "                       -0.1493,  0.1040, -0.0976, -0.0984, -0.1293, -0.1107,  0.1271,  0.0525,\n",
              "                       -0.0008,  0.0698, -0.0585,  0.1135,  0.0395,  0.0759,  0.0260,  0.0975],\n",
              "                      [ 0.1054, -0.1453,  0.0218,  0.0268,  0.1305,  0.0730,  0.1082,  0.0856,\n",
              "                       -0.1346, -0.0006, -0.0034, -0.1212,  0.0715,  0.0753,  0.0316, -0.0046,\n",
              "                        0.1430, -0.0008, -0.0509,  0.0304, -0.0544, -0.0689,  0.0296, -0.0098,\n",
              "                        0.1567,  0.0062,  0.1101, -0.0310,  0.0792,  0.0621, -0.0929,  0.1713],\n",
              "                      [-0.1338,  0.0544,  0.0106, -0.0849, -0.1222, -0.0111, -0.1370,  0.0242,\n",
              "                       -0.1221,  0.0049,  0.1344, -0.1059, -0.0652, -0.0304,  0.0499,  0.0439,\n",
              "                        0.0110, -0.0652,  0.0924, -0.0842, -0.1453,  0.0464,  0.1476,  0.1453,\n",
              "                        0.1011, -0.1361,  0.1618, -0.0153, -0.0209, -0.0655, -0.1734,  0.0411],\n",
              "                      [ 0.1137,  0.1256, -0.0881,  0.1191, -0.1453, -0.1181,  0.1349, -0.1165,\n",
              "                       -0.0536, -0.0174,  0.0582, -0.0876, -0.0740, -0.1092, -0.1455, -0.0283,\n",
              "                       -0.0945, -0.0775,  0.1472,  0.0452,  0.1529, -0.0095,  0.0598, -0.0306,\n",
              "                       -0.1029,  0.1682,  0.1167,  0.1472,  0.0512,  0.0923, -0.1227, -0.0982],\n",
              "                      [-0.1691,  0.0553,  0.1192, -0.1062,  0.0074, -0.0292,  0.0597, -0.0728,\n",
              "                       -0.0837, -0.0476, -0.0694, -0.1740,  0.0807,  0.1201, -0.1352,  0.1187,\n",
              "                       -0.1731, -0.0208, -0.1275, -0.1723,  0.1643, -0.1218, -0.0724, -0.1680,\n",
              "                       -0.1673,  0.0868,  0.0131, -0.1156,  0.1511, -0.0943,  0.0192,  0.1610]],\n",
              "                     device='cuda:0')),\n",
              "             ('fc_layers.6.bias',\n",
              "              tensor([-0.1603,  0.1258,  0.1093, -0.0839, -0.0153,  0.0559, -0.0068,  0.1530,\n",
              "                      -0.0638, -0.0176], device='cuda:0'))])"
            ]
          },
          "metadata": {},
          "execution_count": 9
        }
      ]
    },
    {
      "cell_type": "code",
      "execution_count": 10,
      "metadata": {
        "id": "3w9QW9Lfp1aV",
        "colab": {
          "base_uri": "https://localhost:8080/"
        },
        "outputId": "780c3193-1d70-4bce-a2fb-57b19ed16225"
      },
      "outputs": [
        {
          "output_type": "execute_result",
          "data": {
            "text/plain": [
              "LSTM_Model_label(\n",
              "  (lstm): LSTM(41, 16, num_layers=3, batch_first=True, bidirectional=True)\n",
              "  (fc_layers): Sequential(\n",
              "    (0): Linear(in_features=32, out_features=128, bias=True)\n",
              "    (1): Tanh()\n",
              "    (2): Linear(in_features=128, out_features=64, bias=True)\n",
              "    (3): ReLU()\n",
              "    (4): Linear(in_features=64, out_features=32, bias=True)\n",
              "    (5): Sigmoid()\n",
              "    (6): Linear(in_features=32, out_features=2, bias=True)\n",
              "  )\n",
              ")"
            ]
          },
          "metadata": {},
          "execution_count": 10
        }
      ],
      "source": [
        "my_model_label = LSTM_Model_label(num_classes_label, input_size, hidden_size, num_layers).to(device=device)\n",
        "my_model_label"
      ]
    },
    {
      "cell_type": "markdown",
      "metadata": {
        "id": "Cey1CId-jjis"
      },
      "source": [
        "# **optimizer and loss function**"
      ]
    },
    {
      "cell_type": "code",
      "execution_count": 11,
      "metadata": {
        "id": "WNuQFMAekNDH"
      },
      "outputs": [],
      "source": [
        "loss_fn1 = nn.CrossEntropyLoss().to(device=device)\n",
        "loss_fn2 = nn.CrossEntropyLoss().to(device=device)\n",
        "optimizer1 = opt.Adam(params=my_model_attack.parameters(),lr=learning_rate)\n",
        "optimizer2 = opt.Adam(params=my_model_label.parameters(),lr=learning_rate)"
      ]
    },
    {
      "cell_type": "markdown",
      "metadata": {
        "id": "4JYcovfYlpHM"
      },
      "source": [
        "# **train attack cat**"
      ]
    },
    {
      "cell_type": "code",
      "execution_count": 12,
      "metadata": {
        "id": "Qmw8w1eTkeBu",
        "colab": {
          "base_uri": "https://localhost:8080/"
        },
        "outputId": "9f03f5a2-f5d3-408e-a804-b284692fadee"
      },
      "outputs": [
        {
          "output_type": "stream",
          "name": "stdout",
          "text": [
            "Epoch: 0, loss: 1.0654\n",
            "Epoch: 50, loss: 0.4447\n",
            "Epoch: 100, loss: 0.5089\n",
            "Epoch: 150, loss: 0.4883\n",
            "Epoch: 200, loss: 0.4653\n",
            "Epoch: 250, loss: 0.4171\n",
            "Epoch: 300, loss: 0.4435\n",
            "Epoch: 350, loss: 0.4321\n",
            "Epoch: 400, loss: 0.4415\n",
            "Epoch: 450, loss: 0.4158\n",
            "Epoch: 500, loss: 0.3848\n"
          ]
        }
      ],
      "source": [
        "for epoch in range(num_epoch+1):\n",
        "\n",
        "    for batch_x, batch_y in train_attack_cat_dataloader:\n",
        "\n",
        "        batch_x = torch.reshape(batch_x, (batch_x.shape[0], 1, batch_x.shape[1])) #RuntimeError: For unbatched 2-D input, hx and cx should also be 2-D but got (3-D, 3-D) tensors\n",
        "        \n",
        "        batch_x = batch_x.to(device)\n",
        "        batch_y = batch_y.to(device)\n",
        "\n",
        "        optimizer1.zero_grad()\n",
        "        loss1 = loss_fn1(my_model_attack(batch_x) , batch_y)\n",
        "        loss1.backward() \n",
        "        optimizer1.step()\n",
        "\n",
        "    if epoch % 50 == 0:\n",
        "         print(\"Epoch: %d, loss: %.4f\" % (epoch, loss1.item())) "
      ]
    },
    {
      "cell_type": "markdown",
      "metadata": {
        "id": "PQaRCMJPls5N"
      },
      "source": [
        "# **test attack cat**"
      ]
    },
    {
      "cell_type": "code",
      "execution_count": 13,
      "metadata": {
        "id": "QrtYzVT4loMQ",
        "colab": {
          "base_uri": "https://localhost:8080/"
        },
        "outputId": "56951c09-3aef-4425-c83a-3a91f13f5780"
      },
      "outputs": [
        {
          "output_type": "stream",
          "name": "stdout",
          "text": [
            "acc : 82.34%\n"
          ]
        }
      ],
      "source": [
        "correct = 0\n",
        "\n",
        "for batch_x, labl in test_attack_cat_dataloader:\n",
        "  \n",
        "    batch_x = torch.reshape(batch_x, (batch_x.shape[0], 1, batch_x.shape[1])) #RuntimeError: For unbatched 2-D input, hx and cx should also be 2-D but got (3-D, 3-D) tensors\n",
        "  \n",
        "    batch_x = batch_x.to(device)\n",
        "    labl = labl.to(device)\n",
        "\n",
        "    out = my_model_attack(batch_x)\n",
        "    _,predicted = torch.max(out,1)\n",
        "    correct += torch.sum(predicted == labl)\n",
        "\n",
        "print(\"acc : %.2f\" % (100.*correct / len(test_attack_cat)),end=\"\")\n",
        "print(\"%\")"
      ]
    },
    {
      "cell_type": "markdown",
      "metadata": {
        "id": "pLqOLtA6tQht"
      },
      "source": [
        "# **train label**"
      ]
    },
    {
      "cell_type": "code",
      "execution_count": 14,
      "metadata": {
        "id": "Xm1cu1GhtMJO",
        "colab": {
          "base_uri": "https://localhost:8080/"
        },
        "outputId": "f765f85b-914b-4f18-8bfe-ea1126cef622"
      },
      "outputs": [
        {
          "output_type": "stream",
          "name": "stdout",
          "text": [
            "Epoch: 0, loss: 0.3025\n",
            "Epoch: 50, loss: 0.1425\n",
            "Epoch: 100, loss: 0.1436\n",
            "Epoch: 150, loss: 0.1074\n",
            "Epoch: 200, loss: 0.1351\n",
            "Epoch: 250, loss: 0.1558\n",
            "Epoch: 300, loss: 0.1361\n",
            "Epoch: 350, loss: 0.1266\n",
            "Epoch: 400, loss: 0.1123\n",
            "Epoch: 450, loss: 0.1052\n",
            "Epoch: 500, loss: 0.1361\n"
          ]
        }
      ],
      "source": [
        "for epoch in range(num_epoch+1):\n",
        "\n",
        "    for batch_x, batch_y in train_label_dataloader:\n",
        "\n",
        "        batch_x = torch.reshape(batch_x, (batch_x.shape[0], 1, batch_x.shape[1])) #RuntimeError: For unbatched 2-D input, hx and cx should also be 2-D but got (3-D, 3-D) tensors\n",
        "        \n",
        "        batch_x = batch_x.to(device)\n",
        "        batch_y = batch_y.to(device)\n",
        "\n",
        "        optimizer2.zero_grad()\n",
        "        loss2 = loss_fn2(my_model_label(batch_x) , batch_y)\n",
        "        loss2.backward() \n",
        "        optimizer2.step()\n",
        "\n",
        "    if epoch % 50 == 0:\n",
        "         print(\"Epoch: %d, loss: %.4f\" % (epoch, loss2.item())) "
      ]
    },
    {
      "cell_type": "markdown",
      "metadata": {
        "id": "Ig7VBqU0tfZd"
      },
      "source": [
        "# **test label**"
      ]
    },
    {
      "cell_type": "code",
      "execution_count": 15,
      "metadata": {
        "id": "a7u2bQ0WtiG2",
        "colab": {
          "base_uri": "https://localhost:8080/"
        },
        "outputId": "c0d73342-88e0-43b8-c0bb-498f18d3db5c"
      },
      "outputs": [
        {
          "output_type": "stream",
          "name": "stdout",
          "text": [
            "acc : 93.94%\n"
          ]
        }
      ],
      "source": [
        "correct = 0\n",
        "\n",
        "for batch_x, labl in test_label_dataloader:\n",
        "\n",
        "    batch_x = torch.reshape(batch_x, (batch_x.shape[0], 1, batch_x.shape[1])) #RuntimeError: For unbatched 2-D input, hx and cx should also be 2-D but got (3-D, 3-D) tensors\n",
        "\n",
        "    batch_x = batch_x.to(device)\n",
        "    labl = labl.to(device)\n",
        "  \n",
        "    out = my_model_label(batch_x)\n",
        "    _,predicted = torch.max(out,1)\n",
        "    correct += torch.sum(predicted == labl)\n",
        "\n",
        "print(\"acc : %.2f\" % (100.*correct / len(test_label)),end=\"\")\n",
        "print(\"%\")"
      ]
    }
  ],
  "metadata": {
    "accelerator": "GPU",
    "colab": {
      "collapsed_sections": [],
      "provenance": []
    },
    "gpuClass": "standard",
    "kernelspec": {
      "display_name": "Python 3",
      "name": "python3"
    },
    "language_info": {
      "name": "python"
    }
  },
  "nbformat": 4,
  "nbformat_minor": 0
}