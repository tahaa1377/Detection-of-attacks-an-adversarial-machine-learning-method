{
  "cells": [
    {
      "cell_type": "code",
      "execution_count": 1,
      "metadata": {
        "id": "Ff1b4PxtBQuc"
      },
      "outputs": [],
      "source": [
        "num_epoch = 500      \n",
        "learning_rate = 0.002\n",
        "batch_size = 1000\n",
        "\n",
        "hidden_size = 16 #number of features in hidden state\n",
        "num_layers = 3  #number of stacked lstm layers\n",
        "bidirectional = True\n",
        "drop_out = 0\n",
        "bidirectional_forward_backward = 2 if bidirectional else 1\n",
        "\n",
        "input_size = 41 #number of features\n",
        "num_classes_attack_cat = 10 #number of output classes \n",
        "num_classes_label = 2       #number of output classes \n",
        "\n",
        "hyper_parameter1=128\n",
        "hyper_parameter2=64\n",
        "hyper_parameter3=32\n",
        "hyper_parameter4=16"
      ]
    },
    {
      "cell_type": "code",
      "source": [
        "from google.colab import drive\n",
        "drive.mount('/content/drive')"
      ],
      "metadata": {
        "colab": {
          "base_uri": "https://localhost:8080/"
        },
        "id": "0Gua0hky6SDJ",
        "outputId": "3fa71504-d34a-4ec9-868f-5888014e1788"
      },
      "execution_count": 2,
      "outputs": [
        {
          "output_type": "stream",
          "name": "stdout",
          "text": [
            "Mounted at /content/drive\n"
          ]
        }
      ]
    },
    {
      "cell_type": "code",
      "execution_count": 3,
      "metadata": {
        "colab": {
          "base_uri": "https://localhost:8080/"
        },
        "id": "hZiaj4uT24DH",
        "outputId": "e01079ac-0b21-4cfa-a441-a8c8ef45f3f6"
      },
      "outputs": [
        {
          "output_type": "stream",
          "name": "stdout",
          "text": [
            "GPU\n"
          ]
        }
      ],
      "source": [
        "import pandas as pd\n",
        "from matplotlib import pyplot as plt\n",
        "import numpy as np\n",
        "from torch.utils.data.dataset import Dataset\n",
        "from torch.utils.data import random_split, DataLoader\n",
        "import torch\n",
        "from sklearn.preprocessing import LabelEncoder\n",
        "from sklearn import preprocessing\n",
        "import torch.nn as nn\n",
        "import torch.nn.functional as F\n",
        "import torch.optim as opt\n",
        "from torch.autograd import Variable \n",
        "\n",
        "# GPU OR CPU\n",
        "if torch.cuda.is_available():\n",
        "    device = torch.device(\"cuda:0\")\n",
        "    print(\"GPU\")\n",
        "else:\n",
        "    device = torch.device(\"cpu\")\n",
        "    print(\"CPU\")"
      ]
    },
    {
      "cell_type": "code",
      "execution_count": 4,
      "metadata": {
        "id": "Sv-R_m6Z1EL5"
      },
      "outputs": [],
      "source": [
        "class DataSet_UNSWNB15_attack_cat(Dataset):\n",
        "\n",
        "    def __init__(self,data_set_path):\n",
        "        df = pd.read_csv(data_set_path)\n",
        "        print(df.attack_cat.value_counts().sort_values().plot(kind = \"barh\"))\n",
        "        \n",
        "        # preprocceing\n",
        "        df.drop(['id',\"Unnamed: 0\",\"service\",\"label\"], axis=1, inplace=True)        \n",
        "        cols = ['attack_cat' ,'proto' ,'state']\n",
        "        df[cols] = df[cols].apply(LabelEncoder().fit_transform)\n",
        "\n",
        "        self.data_array = df.values\n",
        "        self.x = self.data_array[:, :41]\n",
        "        self.y = self.data_array[:, 41]\n",
        "      \n",
        "        # normalaized data\n",
        "        scaler = preprocessing.StandardScaler().fit(self.x)\n",
        "        self.x = scaler.transform(self.x)\n",
        "\n",
        "        self.x = torch.tensor(self.x).float()\n",
        "        self.y = torch.tensor(self.y).long()\n",
        "\n",
        "    def __len__(self):\n",
        "        return len(self.data_array)\n",
        "\n",
        "    def __getitem__(self, item):\n",
        "        sample = (self.x[item, :], self.y[item])\n",
        "        return sample\n",
        "\n",
        "        \n",
        "class DataSet_UNSWNB15_label(Dataset):\n",
        "\n",
        "    def __init__(self,data_set_path):\n",
        "        df = pd.read_csv(data_set_path)\n",
        "        print(df.label.value_counts().sort_values().plot(kind = \"pie\"))\n",
        "\n",
        "        # preprocceing\n",
        "        df.drop(['id',\"Unnamed: 0\",\"service\",\"attack_cat\"], axis=1, inplace=True)\n",
        "        cols = ['proto' ,'state']\n",
        "        df[cols] = df[cols].apply(LabelEncoder().fit_transform)\n",
        "\n",
        "        self.data_array = df.values\n",
        "        self.x = self.data_array[:, :41]\n",
        "        self.y = self.data_array[:, 41]\n",
        "        \n",
        "        # normalaized data\n",
        "        scaler = preprocessing.StandardScaler().fit(self.x)\n",
        "        self.x = scaler.transform(self.x)\n",
        "\n",
        "        self.x = torch.tensor(self.x).float()\n",
        "        self.y = torch.tensor(self.y).long()\n",
        "\n",
        "    def __len__(self):\n",
        "        return len(self.data_array)\n",
        "\n",
        "    def __getitem__(self, item):\n",
        "        sample = (self.x[item, :], self.y[item])\n",
        "        return sample"
      ]
    },
    {
      "cell_type": "code",
      "execution_count": 5,
      "metadata": {
        "colab": {
          "base_uri": "https://localhost:8080/",
          "height": 283
        },
        "id": "UykLrbQZ1R7K",
        "outputId": "190ab2d4-cb27-4748-aba9-2d3da259b908"
      },
      "outputs": [
        {
          "output_type": "stream",
          "name": "stdout",
          "text": [
            "AxesSubplot(0.125,0.125;0.775x0.755)\n"
          ]
        },
        {
          "output_type": "display_data",
          "data": {
            "text/plain": [
              "<Figure size 432x288 with 1 Axes>"
            ],
            "image/png": "[encoded data removed]"
          },
          "metadata": {
            "needs_background": "light"
          }
        }
      ],
      "source": [
        "dataset_attack_cat = DataSet_UNSWNB15_attack_cat(\"/content/drive/MyDrive/datasets/UNSW-NB15/UNSW_NB15.csv\")\n",
        "number_of_test = int(len(dataset_attack_cat)*0.3)\n",
        "number_of_train = len(dataset_attack_cat) - int(len(dataset_attack_cat)*0.3)\n",
        "train_attack_cat ,test_attack_cat = random_split(dataset=dataset_attack_cat, lengths=[number_of_train,number_of_test])\n",
        "\n",
        "train_attack_cat_dataloader = DataLoader(dataset=train_attack_cat ,batch_size=batch_size ,shuffle=True)\n",
        "test_attack_cat_dataloader = DataLoader(dataset=test_attack_cat ,batch_size=batch_size ,shuffle=True)"
      ]
    },
    {
      "cell_type": "code",
      "execution_count": 6,
      "metadata": {
        "colab": {
          "base_uri": "https://localhost:8080/",
          "height": 266
        },
        "id": "LmFY9Q-u29T3",
        "outputId": "6f81e9a2-ab18-4c5e-87f0-cdfee0fb0d74"
      },
      "outputs": [
        {
          "output_type": "stream",
          "name": "stdout",
          "text": [
            "AxesSubplot(0.260833,0.125;0.503333x0.755)\n"
          ]
        },
        {
          "output_type": "display_data",
          "data": {
            "text/plain": [
              "<Figure size 432x288 with 1 Axes>"
            ],
            "image/png": "[encoded data removed]"
          },
          "metadata": {}
        }
      ],
      "source": [
        "dataset_label = DataSet_UNSWNB15_label(\"/content/drive/MyDrive/datasets/UNSW-NB15/UNSW_NB15.csv\")\n",
        "number_of_test = int(len(dataset_label)*0.3)\n",
        "number_of_train = len(dataset_label) - int(len(dataset_label)*0.3)\n",
        "train_label ,test_label = random_split(dataset=dataset_label, lengths=[number_of_train,number_of_test])\n",
        "\n",
        "train_label_dataloader = DataLoader(dataset=train_label ,batch_size=batch_size ,shuffle=True)\n",
        "test_label_dataloader = DataLoader(dataset=test_label ,batch_size=batch_size ,shuffle=True)"
      ]
    },
    {
      "cell_type": "markdown",
      "metadata": {
        "id": "0HslPLv2IOGd"
      },
      "source": [
        "# **preprocessing ended**\n",
        "\n",
        "# **create model**"
      ]
    },
    {
      "cell_type": "markdown",
      "source": [
        "![bilstm-1.webp](data:image/webp;base64,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)"
      ],
      "metadata": {
        "id": "F2hNvBs6qBQS"
      }
    },
    {
      "cell_type": "code",
      "execution_count": 7,
      "metadata": {
        "id": "oN6DuQbJibuE"
      },
      "outputs": [],
      "source": [
        "class LSTM_Model_attack(nn.Module):\n",
        "    def __init__(self, num_classes, input_size, hidden_size, num_layers):\n",
        "        super(LSTM_Model_attack, self).__init__()\n",
        "        self.num_classes = num_classes #number of classes\n",
        "        self.num_layers = num_layers #number of layers\n",
        "        self.input_size = input_size #input size\n",
        "        self.hidden_size = hidden_size #hidden state\n",
        "\n",
        "        self.lstm = nn.LSTM(input_size=input_size, hidden_size=hidden_size, num_layers=num_layers, batch_first=True,\n",
        "                            bidirectional=bidirectional, dropout=drop_out) #lstm\n",
        "\n",
        "        self.fc_layers = nn.Sequential(\n",
        "        nn.Linear(hidden_size * bidirectional_forward_backward, hyper_parameter1),\n",
        "        nn.Tanh(),\n",
        "        nn.Linear(hyper_parameter1, hyper_parameter2),\n",
        "        nn.Tanh(),\n",
        "        nn.Linear(hyper_parameter2, hyper_parameter3),\n",
        "        nn.Sigmoid(),\n",
        "        nn.Linear(hyper_parameter3, hyper_parameter4),\n",
        "        nn.Sigmoid(),\n",
        "        nn.Linear(hyper_parameter4, num_classes)\n",
        "        )\n",
        "    \n",
        "    def forward(self,x):\n",
        "                                                # 2 => forward and backward for bidirectional\n",
        "        h_0 = Variable(torch.zeros(self.num_layers * bidirectional_forward_backward, x.size(0), self.hidden_size)).to(device=device) #hidden state\n",
        "        c_0 = Variable(torch.zeros(self.num_layers * bidirectional_forward_backward, x.size(0), self.hidden_size)).to(device=device) #internal state\n",
        "\n",
        "        out, (hn, cn) = self.lstm(x, (h_0, c_0))\n",
        "        out = self.fc_layers(out[:, -1, :]) \n",
        "        return out\n",
        "\n",
        "\n",
        "class LSTM_Model_label(nn.Module):\n",
        "    def __init__(self, num_classes, input_size, hidden_size, num_layers):\n",
        "        super(LSTM_Model_label, self).__init__()\n",
        "        self.num_classes = num_classes #number of classes\n",
        "        self.num_layers = num_layers #number of layers\n",
        "        self.input_size = input_size #input size\n",
        "        self.hidden_size = hidden_size #hidden state\n",
        "\n",
        "        self.lstm = nn.LSTM(input_size=input_size, hidden_size=hidden_size, num_layers=num_layers, batch_first=True, \n",
        "                            bidirectional=bidirectional, dropout=drop_out) #lstm\n",
        "\n",
        "        self.fc_layers = nn.Sequential(\n",
        "        nn.Linear(hidden_size * bidirectional_forward_backward, hyper_parameter1),\n",
        "        nn.Tanh(),\n",
        "        nn.Linear(hyper_parameter1, hyper_parameter2),\n",
        "        nn.Tanh(),\n",
        "        nn.Linear(hyper_parameter2, hyper_parameter3),\n",
        "        nn.Sigmoid(),\n",
        "        nn.Linear(hyper_parameter3, hyper_parameter4),\n",
        "        nn.Sigmoid(),\n",
        "        nn.Linear(hyper_parameter4, num_classes)\n",
        "        )\n",
        "    \n",
        "    def forward(self,x):\n",
        "        h_0 = Variable(torch.zeros(self.num_layers * bidirectional_forward_backward, x.size(0), self.hidden_size)).to(device=device) #hidden state\n",
        "        c_0 = Variable(torch.zeros(self.num_layers * bidirectional_forward_backward, x.size(0), self.hidden_size)).to(device=device) #internal state\n",
        "\n",
        "        out, (hn, cn) = self.lstm(x, (h_0, c_0))\n",
        "        out = self.fc_layers(out[:, -1, :]) \n",
        "        return out\n"
      ]
    },
    {
      "cell_type": "code",
      "execution_count": 8,
      "metadata": {
        "id": "US8JfNI8j3zO",
        "colab": {
          "base_uri": "https://localhost:8080/"
        },
        "outputId": "f4266fd9-8b5d-4815-db26-44d463209f17"
      },
      "outputs": [
        {
          "output_type": "execute_result",
          "data": {
            "text/plain": [
              "LSTM_Model_attack(\n",
              "  (lstm): LSTM(41, 16, num_layers=3, batch_first=True, bidirectional=True)\n",
              "  (fc_layers): Sequential(\n",
              "    (0): Linear(in_features=32, out_features=128, bias=True)\n",
              "    (1): Tanh()\n",
              "    (2): Linear(in_features=128, out_features=64, bias=True)\n",
              "    (3): Tanh()\n",
              "    (4): Linear(in_features=64, out_features=32, bias=True)\n",
              "    (5): Sigmoid()\n",
              "    (6): Linear(in_features=32, out_features=16, bias=True)\n",
              "    (7): Sigmoid()\n",
              "    (8): Linear(in_features=16, out_features=10, bias=True)\n",
              "  )\n",
              ")"
            ]
          },
          "metadata": {},
          "execution_count": 8
        }
      ],
      "source": [
        "my_model_attack = LSTM_Model_attack(num_classes_attack_cat, input_size, hidden_size, num_layers).to(device=device)\n",
        "my_model_attack"
      ]
    },
    {
      "cell_type": "code",
      "source": [
        "my_model_attack.state_dict()"
      ],
      "metadata": {
        "colab": {
          "base_uri": "https://localhost:8080/"
        },
        "id": "Dq8JkQZ9ukCs",
        "outputId": "34f67e8e-6a27-4362-a8cc-dc47b2dd2d52"
      },
      "execution_count": 9,
      "outputs": [
        {
          "output_type": "execute_result",
          "data": {
            "text/plain": [
              "OrderedDict([('lstm.weight_ih_l0',\n",
              "              tensor([[ 0.1263,  0.0209,  0.1640,  ..., -0.0044, -0.1997,  0.0886],\n",
              "                      [-0.2072,  0.0255, -0.0773,  ..., -0.1920, -0.2441,  0.1273],\n",
              "                      [ 0.2302,  0.0976, -0.2494,  ...,  0.0138,  0.2029,  0.1984],\n",
              "                      ...,\n",
              "                      [-0.2076,  0.0970, -0.1408,  ...,  0.0358, -0.0817,  0.0624],\n",
              "                      [-0.0701,  0.1124,  0.0070,  ...,  0.0445,  0.1968,  0.0308],\n",
              "                      [-0.0369, -0.0624, -0.1084,  ...,  0.0831,  0.1150, -0.0071]],\n",
              "                     device='cuda:0')),\n",
              "             ('lstm.weight_hh_l0',\n",
              "              tensor([[ 0.0457,  0.0300, -0.0014,  ...,  0.1693, -0.1723, -0.0264],\n",
              "                      [-0.1651, -0.1718, -0.0876,  ...,  0.1118, -0.1684,  0.0057],\n",
              "                      [-0.1072,  0.0490, -0.1149,  ..., -0.0393, -0.1512, -0.0938],\n",
              "                      ...,\n",
              "                      [-0.1665,  0.1764, -0.0902,  ..., -0.0736,  0.2178,  0.0555],\n",
              "                      [-0.1286,  0.2119, -0.2058,  ..., -0.1650,  0.0128, -0.0677],\n",
              "                      [ 0.0968, -0.1810, -0.1657,  ..., -0.1432, -0.2484, -0.1117]],\n",
              "                     device='cuda:0')),\n",
              "             ('lstm.bias_ih_l0',\n",
              "              tensor([-0.0291, -0.1865, -0.0859,  0.0174,  0.1636,  0.0136, -0.1753, -0.1067,\n",
              "                      -0.1180, -0.2054,  0.2099,  0.2208, -0.0449, -0.0490, -0.1509,  0.2246,\n",
              "                       0.0627,  0.0293, -0.1613,  0.0655,  0.0902, -0.0362,  0.0995,  0.1960,\n",
              "                       0.1445, -0.1691,  0.2408, -0.1093,  0.1348,  0.1679, -0.1883,  0.1954,\n",
              "                       0.0391,  0.1645, -0.1433,  0.2219,  0.2499,  0.1130,  0.2207, -0.2447,\n",
              "                       0.1027, -0.2173, -0.0604, -0.0709, -0.0691,  0.2469, -0.0089, -0.1017,\n",
              "                       0.1454, -0.0779,  0.1559,  0.0138,  0.1741,  0.1533, -0.0971,  0.0353,\n",
              "                       0.1882, -0.1067,  0.1871,  0.0097,  0.0642, -0.2237,  0.0921,  0.1652],\n",
              "                     device='cuda:0')),\n",
              "             ('lstm.bias_hh_l0',\n",
              "              tensor([ 0.1930,  0.2474, -0.0835, -0.1561, -0.0238,  0.2414, -0.2157, -0.2030,\n",
              "                      -0.0771, -0.0636,  0.0464, -0.2032,  0.2236,  0.0237,  0.1631,  0.1640,\n",
              "                       0.0876,  0.1260,  0.0736, -0.1195,  0.0650,  0.0647,  0.0648,  0.1555,\n",
              "                      -0.2467, -0.0170,  0.2453, -0.1332,  0.0144,  0.1016,  0.0182, -0.0643,\n",
              "                       0.2205, -0.1642,  0.1688,  0.0042,  0.1561,  0.1403,  0.0454, -0.1900,\n",
              "                      -0.1600, -0.1831,  0.1383,  0.0109, -0.0550, -0.0212, -0.1663, -0.2259,\n",
              "                      -0.0726,  0.0486, -0.1332, -0.1426, -0.2132,  0.1271, -0.0850, -0.1275,\n",
              "                       0.0285, -0.2322,  0.1032,  0.0946,  0.0058,  0.0589, -0.0300,  0.0857],\n",
              "                     device='cuda:0')),\n",
              "             ('lstm.weight_ih_l0_reverse',\n",
              "              tensor([[ 0.0555,  0.0547, -0.0995,  ...,  0.1055,  0.1618,  0.1170],\n",
              "                      [-0.1105,  0.1736,  0.2302,  ...,  0.1415, -0.0404,  0.1967],\n",
              "                      [ 0.2469, -0.0722,  0.1057,  ..., -0.2086,  0.0020, -0.2390],\n",
              "                      ...,\n",
              "                      [ 0.2336,  0.0309, -0.0016,  ..., -0.1877, -0.2086, -0.2245],\n",
              "                      [-0.1343, -0.1172, -0.1629,  ...,  0.1128, -0.0281, -0.2405],\n",
              "                      [ 0.2452, -0.0607, -0.1229,  ..., -0.0250,  0.0979, -0.2080]],\n",
              "                     device='cuda:0')),\n",
              "             ('lstm.weight_hh_l0_reverse',\n",
              "              tensor([[-0.0623,  0.0994,  0.0197,  ...,  0.1729,  0.1557, -0.0664],\n",
              "                      [ 0.2374, -0.0083,  0.1409,  ..., -0.1210, -0.0493, -0.1056],\n",
              "                      [ 0.0374,  0.0972, -0.1262,  ...,  0.0738,  0.0009,  0.0919],\n",
              "                      ...,\n",
              "                      [ 0.0115, -0.1935,  0.0333,  ...,  0.0154,  0.2323, -0.0617],\n",
              "                      [ 0.2373,  0.2467,  0.0997,  ...,  0.2426, -0.1687, -0.0713],\n",
              "                      [ 0.2055,  0.0274, -0.2080,  ..., -0.1816, -0.1445,  0.0522]],\n",
              "                     device='cuda:0')),\n",
              "             ('lstm.bias_ih_l0_reverse',\n",
              "              tensor([ 7.4830e-02, -8.8883e-02,  1.4581e-01, -2.0739e-02,  1.2624e-01,\n",
              "                      -1.8515e-01, -2.0765e-01,  1.5144e-01,  7.3483e-02,  6.6456e-02,\n",
              "                       2.0961e-02,  5.8856e-02, -8.7050e-02, -1.8351e-01, -1.6151e-01,\n",
              "                      -1.6752e-01, -2.3313e-01,  1.0529e-01,  2.3272e-01, -1.3479e-01,\n",
              "                       4.9852e-02, -2.1134e-01, -8.8569e-02,  1.5879e-02,  1.2315e-01,\n",
              "                       1.4664e-01, -2.0258e-01, -1.4432e-01, -2.3964e-01,  2.4333e-01,\n",
              "                       6.3394e-02,  8.1219e-02, -5.9901e-02,  6.2057e-02,  2.1604e-01,\n",
              "                       1.2546e-01,  7.6273e-02, -1.5796e-01,  5.7866e-02, -2.2975e-01,\n",
              "                      -1.5583e-02, -8.4937e-05,  1.5351e-01,  1.0699e-01, -2.3653e-01,\n",
              "                       2.4175e-01, -2.0419e-01, -2.1939e-01, -1.0220e-01, -1.8028e-01,\n",
              "                       3.0710e-02, -2.3063e-01, -2.2469e-01,  1.8330e-01, -1.9554e-01,\n",
              "                       5.7738e-02,  2.0740e-01, -8.0335e-02, -7.2915e-02,  8.8732e-02,\n",
              "                       1.1326e-01,  1.4854e-01, -2.3765e-01, -1.0144e-01], device='cuda:0')),\n",
              "             ('lstm.bias_hh_l0_reverse',\n",
              "              tensor([-0.1365,  0.0641,  0.1526,  0.2123,  0.2193,  0.1847,  0.1262, -0.2170,\n",
              "                       0.0028,  0.0081,  0.0281, -0.0188, -0.2055, -0.0618,  0.1234,  0.2391,\n",
              "                       0.1581, -0.0258,  0.1498,  0.1091, -0.0459, -0.1933, -0.0551,  0.1325,\n",
              "                      -0.2264, -0.0093, -0.0243,  0.1624,  0.2418,  0.1971, -0.1508,  0.1489,\n",
              "                      -0.0734,  0.2492,  0.1752,  0.2474,  0.2122, -0.0022, -0.0688, -0.1297,\n",
              "                      -0.2444,  0.0717, -0.0058, -0.1595, -0.1591,  0.1053, -0.0525,  0.1217,\n",
              "                      -0.0792, -0.1557, -0.0740, -0.0908, -0.2072, -0.0283, -0.0312, -0.1360,\n",
              "                      -0.1643,  0.0498,  0.0607, -0.0985, -0.2399, -0.2144,  0.0501, -0.0472],\n",
              "                     device='cuda:0')),\n",
              "             ('lstm.weight_ih_l1',\n",
              "              tensor([[ 0.1837, -0.1519,  0.1857,  ..., -0.2116, -0.0571, -0.0029],\n",
              "                      [-0.1630, -0.1230, -0.0089,  ...,  0.0775, -0.0675, -0.0982],\n",
              "                      [-0.1820, -0.0698,  0.1381,  ...,  0.1299,  0.2106,  0.2396],\n",
              "                      ...,\n",
              "                      [-0.1907,  0.0760,  0.1745,  ..., -0.0510, -0.1595, -0.2486],\n",
              "                      [-0.1149,  0.0095,  0.1918,  ..., -0.0085, -0.2318, -0.0202],\n",
              "                      [ 0.1864, -0.0613, -0.0104,  ..., -0.1942, -0.1619,  0.0494]],\n",
              "                     device='cuda:0')),\n",
              "             ('lstm.weight_hh_l1',\n",
              "              tensor([[-0.0680,  0.0090, -0.1972,  ...,  0.2321, -0.1997, -0.0098],\n",
              "                      [-0.1515,  0.1706, -0.1570,  ..., -0.0367, -0.2226,  0.1700],\n",
              "                      [ 0.1084,  0.1974,  0.0269,  ..., -0.0237, -0.1804,  0.1888],\n",
              "                      ...,\n",
              "                      [-0.1645,  0.0459, -0.1202,  ...,  0.0426, -0.0629, -0.0996],\n",
              "                      [-0.1921, -0.2393,  0.0504,  ...,  0.0274,  0.0598,  0.0327],\n",
              "                      [-0.1184,  0.1731,  0.2321,  ...,  0.0823, -0.0162,  0.0816]],\n",
              "                     device='cuda:0')),\n",
              "             ('lstm.bias_ih_l1',\n",
              "              tensor([ 0.0826,  0.1222, -0.0854, -0.0908, -0.0838,  0.1642, -0.1559, -0.0981,\n",
              "                      -0.1730, -0.1485, -0.0998,  0.1624,  0.0897, -0.0386,  0.2363, -0.0065,\n",
              "                       0.1377, -0.1392,  0.0232,  0.0625,  0.1028, -0.0596, -0.2256, -0.0901,\n",
              "                       0.2203,  0.2327,  0.1255, -0.1390, -0.0425,  0.0929, -0.0818,  0.0495,\n",
              "                       0.0594, -0.1053, -0.1348, -0.2050, -0.0498,  0.1823, -0.0146,  0.1334,\n",
              "                       0.2342, -0.0707,  0.1667, -0.1838, -0.0951, -0.1030, -0.2462, -0.1037,\n",
              "                       0.2382, -0.0850, -0.1673, -0.2017, -0.0645, -0.2320, -0.0685, -0.0545,\n",
              "                      -0.0273,  0.1413, -0.0199,  0.0174,  0.1290, -0.1840, -0.1004, -0.1057],\n",
              "                     device='cuda:0')),\n",
              "             ('lstm.bias_hh_l1',\n",
              "              tensor([ 0.0838, -0.0215,  0.2402, -0.0686,  0.0564, -0.1573, -0.1061,  0.0114,\n",
              "                       0.2292,  0.2213, -0.2133, -0.0456, -0.0671, -0.1809,  0.0598,  0.1777,\n",
              "                       0.1896,  0.0829,  0.1555,  0.0896,  0.2089,  0.1911, -0.0109,  0.2013,\n",
              "                      -0.2029,  0.1465, -0.2383, -0.0146, -0.2031,  0.2396,  0.2142,  0.2408,\n",
              "                      -0.1461, -0.0982, -0.0536, -0.1092,  0.2407, -0.0209,  0.2411, -0.0057,\n",
              "                      -0.2283, -0.1012, -0.0337, -0.0308,  0.1829, -0.0824,  0.1323, -0.1635,\n",
              "                      -0.1176, -0.1455, -0.0517,  0.0672, -0.0254, -0.0613, -0.0562,  0.0704,\n",
              "                       0.0550,  0.0825, -0.0138, -0.0397,  0.1555, -0.2158, -0.1819, -0.1552],\n",
              "                     device='cuda:0')),\n",
              "             ('lstm.weight_ih_l1_reverse',\n",
              "              tensor([[-0.1968,  0.1186, -0.0583,  ...,  0.1672,  0.2117, -0.0108],\n",
              "                      [-0.2056,  0.2466, -0.1861,  ...,  0.1160, -0.0921, -0.1566],\n",
              "                      [-0.2214,  0.2201, -0.1861,  ...,  0.0178,  0.2435, -0.1036],\n",
              "                      ...,\n",
              "                      [ 0.0332,  0.1018, -0.0080,  ..., -0.0319, -0.1807, -0.0911],\n",
              "                      [-0.2287,  0.0544, -0.0666,  ...,  0.1072, -0.1165,  0.0351],\n",
              "                      [-0.0985, -0.1008,  0.0886,  ...,  0.1468,  0.0572,  0.1863]],\n",
              "                     device='cuda:0')),\n",
              "             ('lstm.weight_hh_l1_reverse',\n",
              "              tensor([[-0.2313, -0.1896,  0.1040,  ...,  0.2198, -0.1223,  0.0123],\n",
              "                      [-0.1128,  0.1899,  0.1720,  ...,  0.0645, -0.1131, -0.0637],\n",
              "                      [-0.1948, -0.1340, -0.0121,  ..., -0.1830, -0.1051, -0.0433],\n",
              "                      ...,\n",
              "                      [ 0.2458, -0.1547,  0.0908,  ..., -0.0362, -0.0961,  0.1072],\n",
              "                      [-0.2037, -0.2149, -0.1753,  ..., -0.2433, -0.1202, -0.1732],\n",
              "                      [ 0.1537,  0.2287,  0.0397,  ..., -0.0448, -0.1631, -0.1729]],\n",
              "                     device='cuda:0')),\n",
              "             ('lstm.bias_ih_l1_reverse',\n",
              "              tensor([-0.0290,  0.0556,  0.1376,  0.2498,  0.1883,  0.1739, -0.1732,  0.1089,\n",
              "                       0.1052,  0.2111,  0.1564, -0.1013,  0.1249, -0.2157,  0.0397,  0.1105,\n",
              "                      -0.2062,  0.1318, -0.0036,  0.0105, -0.1070, -0.1349, -0.2257, -0.0810,\n",
              "                      -0.1765,  0.1256,  0.1038, -0.0111,  0.1072,  0.1895,  0.1794, -0.0263,\n",
              "                       0.0027,  0.1424, -0.2345, -0.1556,  0.1804,  0.0862, -0.1126, -0.0861,\n",
              "                      -0.1475,  0.2341, -0.0061,  0.0940,  0.2113,  0.1655, -0.1802, -0.2162,\n",
              "                      -0.1952,  0.0892,  0.0858,  0.1961, -0.1146,  0.0991, -0.0178, -0.0666,\n",
              "                      -0.0736,  0.2248, -0.2105, -0.0613,  0.0595, -0.1120,  0.1217,  0.2055],\n",
              "                     device='cuda:0')),\n",
              "             ('lstm.bias_hh_l1_reverse',\n",
              "              tensor([-1.6362e-01,  4.6943e-03,  1.7760e-01,  1.6674e-01,  9.2724e-02,\n",
              "                      -6.6406e-02, -1.4823e-01, -1.6125e-03, -1.5485e-01, -5.1126e-02,\n",
              "                       5.0003e-02, -1.0249e-02,  1.6666e-01, -2.2326e-01, -2.1036e-02,\n",
              "                      -1.4542e-01, -1.1896e-01,  2.0501e-01, -1.4194e-01,  4.4869e-02,\n",
              "                      -1.3722e-01, -1.5127e-01,  2.3983e-01,  4.4774e-02, -7.0351e-02,\n",
              "                       1.8588e-01, -2.1470e-02,  8.8507e-04, -2.3228e-01, -1.7217e-01,\n",
              "                      -4.5900e-02,  1.1842e-01,  5.6340e-02,  2.0962e-01, -1.0491e-01,\n",
              "                      -1.4006e-01, -2.2870e-01,  1.0792e-01, -1.4536e-01, -1.1144e-01,\n",
              "                      -2.2951e-01, -5.5031e-02, -1.6352e-01, -2.3597e-01,  2.5046e-02,\n",
              "                      -4.7104e-02, -2.2310e-01,  2.0057e-01, -2.2917e-02,  2.2615e-01,\n",
              "                      -1.9078e-01, -4.5267e-02, -2.0762e-01, -1.4358e-01, -1.0337e-02,\n",
              "                       2.2440e-01,  1.9833e-01,  2.3859e-01, -1.3542e-01, -1.9511e-01,\n",
              "                       5.6267e-05,  4.3674e-02,  1.3290e-01,  2.1707e-01], device='cuda:0')),\n",
              "             ('lstm.weight_ih_l2',\n",
              "              tensor([[ 0.1447,  0.2316, -0.2284,  ...,  0.1881,  0.2405,  0.0646],\n",
              "                      [ 0.1279, -0.2159, -0.1894,  ...,  0.0588,  0.1131,  0.1572],\n",
              "                      [ 0.0105, -0.0947,  0.1896,  ..., -0.1105,  0.1383,  0.0316],\n",
              "                      ...,\n",
              "                      [-0.1586, -0.0967, -0.2321,  ...,  0.0231, -0.1453, -0.2078],\n",
              "                      [-0.2055,  0.0670,  0.0277,  ..., -0.0689,  0.0896,  0.1135],\n",
              "                      [-0.0295, -0.1678,  0.1434,  ...,  0.2096, -0.1058,  0.0622]],\n",
              "                     device='cuda:0')),\n",
              "             ('lstm.weight_hh_l2',\n",
              "              tensor([[ 0.0947,  0.0527,  0.1847,  ..., -0.2355,  0.0575, -0.1179],\n",
              "                      [ 0.1377, -0.1199, -0.0857,  ...,  0.0282, -0.1980,  0.1463],\n",
              "                      [ 0.1010, -0.1526,  0.1997,  ..., -0.1184,  0.0594, -0.0021],\n",
              "                      ...,\n",
              "                      [-0.1745, -0.1164,  0.1352,  ..., -0.1769,  0.1735,  0.2112],\n",
              "                      [ 0.0428, -0.1931,  0.2231,  ...,  0.1534,  0.0370,  0.1534],\n",
              "                      [ 0.0799,  0.2009,  0.0823,  ..., -0.1835, -0.0194,  0.2473]],\n",
              "                     device='cuda:0')),\n",
              "             ('lstm.bias_ih_l2',\n",
              "              tensor([-0.2236, -0.2344, -0.1665, -0.1466,  0.1053,  0.0893,  0.1600,  0.2040,\n",
              "                      -0.1364, -0.2457, -0.1661, -0.0729, -0.1293, -0.0928, -0.1129,  0.0585,\n",
              "                       0.0452, -0.0484,  0.2301, -0.1347,  0.1980,  0.0020,  0.2141, -0.0585,\n",
              "                       0.0012, -0.0756, -0.1776, -0.1685, -0.1727,  0.2268, -0.0199, -0.2367,\n",
              "                       0.2277, -0.2109,  0.2198, -0.0718,  0.0725, -0.0910,  0.1729, -0.0124,\n",
              "                      -0.2175,  0.0454, -0.2407, -0.1604,  0.0620, -0.1866, -0.1966, -0.0757,\n",
              "                       0.0870,  0.2389,  0.0060,  0.1768,  0.0416, -0.1989,  0.0155, -0.0796,\n",
              "                       0.1452,  0.0181,  0.1503, -0.1258,  0.0856, -0.0396,  0.0534,  0.0415],\n",
              "                     device='cuda:0')),\n",
              "             ('lstm.bias_hh_l2',\n",
              "              tensor([ 0.0379, -0.1133,  0.1478, -0.1098, -0.1060, -0.1969,  0.1607,  0.1256,\n",
              "                       0.1054,  0.1454, -0.2456, -0.1077, -0.0508,  0.1628, -0.1513, -0.1221,\n",
              "                       0.1155, -0.0787, -0.1553, -0.2286, -0.1943, -0.0826, -0.0723, -0.1586,\n",
              "                      -0.2308,  0.0919, -0.1302, -0.1924,  0.1072, -0.1244, -0.0937,  0.0562,\n",
              "                      -0.0959, -0.0848, -0.1864, -0.1792,  0.1928, -0.0016, -0.2189,  0.0686,\n",
              "                       0.1039,  0.1823,  0.1859, -0.0404,  0.0686, -0.0246, -0.0099,  0.2293,\n",
              "                      -0.1352,  0.1237, -0.0852, -0.1005, -0.0976, -0.0387,  0.0334,  0.0251,\n",
              "                       0.1112, -0.0455, -0.1065, -0.1297,  0.1868,  0.0821, -0.1178,  0.0128],\n",
              "                     device='cuda:0')),\n",
              "             ('lstm.weight_ih_l2_reverse',\n",
              "              tensor([[-0.1236,  0.2183,  0.1037,  ..., -0.0496, -0.1690, -0.2051],\n",
              "                      [-0.2219, -0.1194, -0.2109,  ..., -0.2051,  0.0678,  0.1343],\n",
              "                      [ 0.1940,  0.0679, -0.1467,  ...,  0.0239,  0.0087, -0.0710],\n",
              "                      ...,\n",
              "                      [ 0.1544,  0.0552, -0.1114,  ..., -0.0874,  0.0238, -0.2183],\n",
              "                      [ 0.0980, -0.1718,  0.2438,  ...,  0.2416,  0.0830,  0.1342],\n",
              "                      [-0.1043, -0.0466,  0.2442,  ..., -0.1571,  0.2167, -0.0819]],\n",
              "                     device='cuda:0')),\n",
              "             ('lstm.weight_hh_l2_reverse',\n",
              "              tensor([[ 0.0574, -0.0347, -0.0863,  ...,  0.1147,  0.1870,  0.1462],\n",
              "                      [-0.1775,  0.0889,  0.0963,  ..., -0.2075,  0.1304,  0.0162],\n",
              "                      [-0.0502, -0.1383,  0.0104,  ...,  0.0635, -0.2428, -0.0539],\n",
              "                      ...,\n",
              "                      [-0.1964,  0.2358,  0.0954,  ..., -0.2387,  0.0136,  0.1030],\n",
              "                      [ 0.1010,  0.1559, -0.0149,  ...,  0.2323,  0.0364, -0.2052],\n",
              "                      [ 0.0243,  0.0165, -0.0845,  ...,  0.0748, -0.0196, -0.0097]],\n",
              "                     device='cuda:0')),\n",
              "             ('lstm.bias_ih_l2_reverse',\n",
              "              tensor([ 2.2864e-01,  1.2304e-01,  1.7090e-01,  9.3105e-02, -1.7227e-01,\n",
              "                       2.2268e-01, -1.1845e-01, -1.4954e-01,  1.5584e-01,  1.5631e-01,\n",
              "                       4.0860e-02, -9.5143e-02,  7.9895e-02, -1.1800e-01, -5.7093e-02,\n",
              "                      -2.9832e-05,  1.8005e-01,  6.7393e-02,  1.3064e-01, -2.8243e-02,\n",
              "                      -2.3784e-01,  1.0373e-01, -5.8877e-02, -2.4442e-01, -2.4383e-02,\n",
              "                      -4.7776e-02, -2.6307e-02,  1.0719e-01,  2.0672e-01, -2.2681e-01,\n",
              "                       2.0630e-01, -2.3719e-02,  8.1346e-02,  5.3601e-02,  9.2691e-02,\n",
              "                      -1.7348e-01, -2.3368e-01,  7.5596e-02, -1.4153e-01,  1.6552e-02,\n",
              "                      -1.5371e-01, -9.0596e-02, -6.1254e-02, -2.2523e-01,  2.4166e-01,\n",
              "                      -3.3848e-02, -3.3106e-02, -4.4221e-02, -1.6478e-01,  9.0342e-02,\n",
              "                      -1.1766e-01, -9.7194e-02,  1.6023e-01,  8.4593e-02, -2.1565e-01,\n",
              "                      -9.0557e-02,  1.8031e-01, -1.0936e-01, -1.8661e-01,  2.3945e-01,\n",
              "                       9.5739e-03, -2.1139e-01,  1.4806e-01,  1.2162e-01], device='cuda:0')),\n",
              "             ('lstm.bias_hh_l2_reverse',\n",
              "              tensor([ 0.1354, -0.1646, -0.1604, -0.0373, -0.1466, -0.1260, -0.1904, -0.2379,\n",
              "                      -0.0635, -0.0185, -0.1420, -0.1411, -0.1598,  0.1090,  0.1908,  0.1170,\n",
              "                       0.0965, -0.1108, -0.0648,  0.1899,  0.0998, -0.2202, -0.0387, -0.0791,\n",
              "                      -0.0877, -0.0553, -0.1755,  0.2325, -0.1470,  0.0897, -0.2353,  0.2125,\n",
              "                       0.0664,  0.1615,  0.0040,  0.1611,  0.0108,  0.0913, -0.0715, -0.1971,\n",
              "                       0.1867, -0.0839,  0.0303,  0.1431, -0.2068, -0.1123,  0.0784,  0.1689,\n",
              "                       0.1125,  0.1837, -0.1140,  0.0733,  0.0892,  0.1283,  0.0543,  0.1532,\n",
              "                      -0.1217, -0.0668, -0.2388, -0.0871, -0.0991, -0.2361, -0.2079, -0.2333],\n",
              "                     device='cuda:0')),\n",
              "             ('fc_layers.0.weight',\n",
              "              tensor([[-0.1299, -0.0623,  0.0509,  ...,  0.0966,  0.0544,  0.0890],\n",
              "                      [ 0.0690, -0.0324,  0.0212,  ...,  0.0589,  0.1521,  0.0124],\n",
              "                      [-0.1751, -0.1474,  0.0402,  ...,  0.0699,  0.0368,  0.1324],\n",
              "                      ...,\n",
              "                      [ 0.0446, -0.0007, -0.0730,  ..., -0.0375,  0.1271, -0.1420],\n",
              "                      [ 0.1709,  0.0030, -0.0077,  ...,  0.1250,  0.0786, -0.0310],\n",
              "                      [ 0.0302, -0.0805, -0.0825,  ..., -0.1297,  0.1498, -0.1367]],\n",
              "                     device='cuda:0')),\n",
              "             ('fc_layers.0.bias',\n",
              "              tensor([ 0.1419,  0.0734,  0.0240,  0.0960,  0.0562,  0.1256,  0.0880, -0.0855,\n",
              "                       0.0593,  0.0313, -0.0504,  0.0607, -0.0812, -0.1092, -0.0486,  0.1190,\n",
              "                      -0.0489,  0.0545,  0.0038,  0.1101, -0.0673, -0.0551, -0.1100, -0.0332,\n",
              "                       0.1457, -0.0765,  0.0253, -0.1737,  0.0048, -0.0343,  0.1406,  0.0413,\n",
              "                      -0.1654, -0.1103, -0.1074,  0.0287,  0.1481,  0.1060, -0.0272, -0.1030,\n",
              "                      -0.1257, -0.1631, -0.0910, -0.0661, -0.0263, -0.1675, -0.0546, -0.0146,\n",
              "                      -0.1487, -0.1096, -0.0035, -0.1358, -0.0416,  0.0857, -0.0999, -0.0137,\n",
              "                       0.1759, -0.1437,  0.0838,  0.0746,  0.0982,  0.0710,  0.0930,  0.0070,\n",
              "                      -0.0764, -0.1676,  0.1344,  0.0683, -0.0236, -0.1365, -0.0010, -0.1143,\n",
              "                      -0.1121, -0.0651,  0.0120,  0.1584, -0.1213, -0.0048, -0.0800,  0.1354,\n",
              "                      -0.1509,  0.0970, -0.0681, -0.1582, -0.1256,  0.1030,  0.0771,  0.1475,\n",
              "                       0.0227,  0.1372, -0.0548,  0.0091, -0.1217,  0.0359,  0.1106,  0.0258,\n",
              "                      -0.1658, -0.1266, -0.1330,  0.0006,  0.1527, -0.0245, -0.1419,  0.1073,\n",
              "                      -0.0530, -0.1437,  0.0013, -0.0310,  0.1745, -0.0789, -0.0941,  0.0335,\n",
              "                      -0.1303, -0.0832, -0.1426,  0.0450, -0.0421, -0.1031, -0.0086,  0.1711,\n",
              "                      -0.0919, -0.0220,  0.1030, -0.1193, -0.1755,  0.1093, -0.0380,  0.1341],\n",
              "                     device='cuda:0')),\n",
              "             ('fc_layers.2.weight',\n",
              "              tensor([[ 1.3372e-02,  2.5344e-02, -5.5674e-02,  ..., -6.3599e-02,\n",
              "                       -4.2471e-02,  5.9488e-02],\n",
              "                      [ 3.0634e-03,  7.6835e-02, -3.0307e-02,  ...,  2.5984e-02,\n",
              "                       -6.9126e-02,  6.3909e-02],\n",
              "                      [-5.2122e-02, -7.6904e-02, -8.8344e-03,  ...,  7.8880e-02,\n",
              "                       -3.3210e-02, -2.5919e-02],\n",
              "                      ...,\n",
              "                      [-8.3009e-02, -6.2309e-02, -1.9163e-02,  ...,  2.7273e-03,\n",
              "                        3.8832e-02, -4.3797e-04],\n",
              "                      [-3.6519e-02, -6.7137e-02,  1.8203e-02,  ..., -1.8555e-05,\n",
              "                       -8.8010e-03,  6.2795e-02],\n",
              "                      [-1.0054e-02, -5.3370e-02,  5.8631e-02,  ..., -8.0788e-03,\n",
              "                        7.4590e-02, -6.0927e-02]], device='cuda:0')),\n",
              "             ('fc_layers.2.bias',\n",
              "              tensor([ 0.0428,  0.0288,  0.0007, -0.0756,  0.0460,  0.0571, -0.0595,  0.0216,\n",
              "                      -0.0096, -0.0511, -0.0723, -0.0728,  0.0516,  0.0128,  0.0083, -0.0715,\n",
              "                       0.0524, -0.0607, -0.0145,  0.0616,  0.0724, -0.0075,  0.0804, -0.0668,\n",
              "                      -0.0249,  0.0435,  0.0646, -0.0060, -0.0358,  0.0723, -0.0417, -0.0684,\n",
              "                       0.0436, -0.0602, -0.0682, -0.0355,  0.0486, -0.0685, -0.0469, -0.0224,\n",
              "                      -0.0117,  0.0004,  0.0132,  0.0443, -0.0067,  0.0697, -0.0809,  0.0036,\n",
              "                      -0.0853,  0.0179,  0.0437,  0.0613, -0.0105, -0.0130, -0.0662,  0.0219,\n",
              "                      -0.0408,  0.0331, -0.0440,  0.0122,  0.0043, -0.0083,  0.0556, -0.0183],\n",
              "                     device='cuda:0')),\n",
              "             ('fc_layers.4.weight',\n",
              "              tensor([[-0.0555,  0.0535, -0.0792,  ..., -0.0677, -0.1179,  0.0281],\n",
              "                      [-0.0710,  0.1158,  0.0892,  ...,  0.0677, -0.1236,  0.0602],\n",
              "                      [-0.0010, -0.0132, -0.0505,  ...,  0.1231,  0.0072,  0.0050],\n",
              "                      ...,\n",
              "                      [ 0.1094, -0.0179, -0.0153,  ..., -0.0756, -0.0180,  0.0371],\n",
              "                      [ 0.0648,  0.0030,  0.0396,  ...,  0.0624, -0.1218,  0.0945],\n",
              "                      [ 0.0306, -0.0672,  0.1045,  ...,  0.0995, -0.1226, -0.0589]],\n",
              "                     device='cuda:0')),\n",
              "             ('fc_layers.4.bias',\n",
              "              tensor([-0.0776,  0.0974,  0.0868,  0.0976,  0.1053,  0.0724, -0.0565,  0.1209,\n",
              "                      -0.0097, -0.0340,  0.0293, -0.1027, -0.0169, -0.0898,  0.0759, -0.0529,\n",
              "                      -0.0504,  0.0644, -0.0539, -0.0789, -0.0589, -0.0016, -0.0014,  0.0004,\n",
              "                      -0.0403, -0.1167, -0.0077,  0.0602,  0.0158, -0.0053, -0.1141, -0.0112],\n",
              "                     device='cuda:0')),\n",
              "             ('fc_layers.6.weight',\n",
              "              tensor([[ 0.0803,  0.1190, -0.1524,  0.1621, -0.0536, -0.0389, -0.1153,  0.0313,\n",
              "                       -0.1081,  0.0191, -0.0341,  0.0187, -0.1690, -0.1647,  0.0353,  0.1226,\n",
              "                       -0.0534, -0.1396,  0.0989,  0.1410, -0.1498,  0.1366,  0.0943, -0.1600,\n",
              "                       -0.0564, -0.1515,  0.0297,  0.1501,  0.0902,  0.0440, -0.1371,  0.1183],\n",
              "                      [-0.0267,  0.1132,  0.0615,  0.0941, -0.0061,  0.1399,  0.1649,  0.0865,\n",
              "                       -0.0998,  0.1561, -0.0980,  0.1051, -0.0256, -0.0688,  0.0364,  0.1579,\n",
              "                        0.0626, -0.0853, -0.0174, -0.0932, -0.1742, -0.1423, -0.1484,  0.1707,\n",
              "                       -0.1625,  0.0451, -0.0443, -0.1518,  0.0853, -0.0589, -0.0586,  0.1268],\n",
              "                      [-0.1456, -0.0399, -0.0272, -0.0969,  0.0265,  0.1028, -0.1143, -0.1437,\n",
              "                        0.0373, -0.1197, -0.0505, -0.0365, -0.1614, -0.1613, -0.1503, -0.0441,\n",
              "                       -0.0551,  0.0331, -0.1130, -0.1378, -0.1572,  0.1323,  0.0561, -0.0293,\n",
              "                        0.0761, -0.1289,  0.0648, -0.0096,  0.1384,  0.0174,  0.1434, -0.1736],\n",
              "                      [-0.0332, -0.1658, -0.0563, -0.1766,  0.0345, -0.0244, -0.1168,  0.0447,\n",
              "                       -0.0131, -0.1643, -0.0167, -0.0172, -0.1061, -0.1561,  0.0036, -0.0685,\n",
              "                        0.0508,  0.0927, -0.0307, -0.1738,  0.1460, -0.1684, -0.0115, -0.0516,\n",
              "                       -0.0753, -0.0702, -0.0851,  0.0500, -0.0535, -0.0884,  0.1547, -0.1385],\n",
              "                      [-0.1532, -0.1439, -0.1540,  0.1060, -0.0669, -0.0844,  0.0919, -0.1656,\n",
              "                        0.1611, -0.1426, -0.0857,  0.0701, -0.0302,  0.0794, -0.1341, -0.0362,\n",
              "                        0.1514,  0.0520,  0.0763, -0.1609,  0.1379,  0.0703, -0.0640, -0.0137,\n",
              "                        0.0230,  0.0340,  0.0379,  0.1284, -0.1454,  0.0180,  0.0787,  0.0628],\n",
              "                      [-0.0864, -0.0317,  0.1028, -0.1490,  0.1673, -0.1316,  0.1423,  0.0617,\n",
              "                       -0.0290, -0.0698,  0.1608, -0.0369, -0.1637, -0.0108, -0.0412,  0.0979,\n",
              "                       -0.0084,  0.1518,  0.0448, -0.0227,  0.0118,  0.0802, -0.1103, -0.1143,\n",
              "                        0.1080,  0.1531, -0.0645,  0.0083,  0.1199, -0.1241,  0.0379,  0.0262],\n",
              "                      [ 0.0555, -0.0562, -0.1371,  0.1162,  0.0385, -0.0887, -0.0746,  0.0915,\n",
              "                        0.1423, -0.0658,  0.0406,  0.1337, -0.1018, -0.0213, -0.1568, -0.1334,\n",
              "                        0.1082, -0.0059,  0.0774,  0.1531,  0.0674,  0.1139,  0.0866, -0.0179,\n",
              "                        0.1183,  0.0778, -0.1121,  0.0588,  0.1462,  0.0042,  0.0765,  0.0065],\n",
              "                      [ 0.0873, -0.0041,  0.0471, -0.1327, -0.1118, -0.1298, -0.0789, -0.1134,\n",
              "                       -0.1023, -0.1651, -0.0591, -0.1206,  0.0817, -0.0180,  0.0249,  0.1094,\n",
              "                        0.0158, -0.1291,  0.0942,  0.0966, -0.0610, -0.1635,  0.1669,  0.0484,\n",
              "                        0.0665, -0.1610,  0.1475,  0.0145, -0.0461, -0.1685,  0.1241,  0.0063],\n",
              "                      [-0.1477, -0.0779,  0.1372, -0.0078,  0.1375,  0.1601, -0.0447, -0.0217,\n",
              "                        0.1692, -0.0432, -0.1247,  0.0086, -0.1638, -0.0027, -0.1365, -0.1061,\n",
              "                        0.0772, -0.0478,  0.0159, -0.0511, -0.1285, -0.0526, -0.1006,  0.0183,\n",
              "                        0.0781,  0.0998,  0.0771, -0.1198,  0.0778, -0.1552,  0.0587, -0.0670],\n",
              "                      [-0.0541,  0.1593,  0.0171, -0.0252,  0.0765, -0.0973, -0.1606, -0.0108,\n",
              "                        0.0411, -0.1578,  0.1003,  0.1573,  0.0333,  0.0221,  0.1007, -0.0716,\n",
              "                        0.1587,  0.0632,  0.1689, -0.0572, -0.0250, -0.0922, -0.0169,  0.1267,\n",
              "                        0.0931,  0.1187, -0.1152,  0.0432,  0.1255, -0.1523, -0.1321,  0.1656],\n",
              "                      [-0.0986, -0.1125,  0.0480, -0.1116,  0.0256,  0.1650,  0.1015, -0.0616,\n",
              "                        0.1609,  0.0742,  0.0095,  0.0468,  0.0591,  0.0301,  0.0726,  0.1027,\n",
              "                       -0.1725,  0.0900,  0.1561, -0.1644, -0.1491,  0.1398, -0.0774, -0.0884,\n",
              "                        0.0672,  0.1376, -0.1432,  0.0593,  0.1383, -0.0792,  0.1687,  0.0546],\n",
              "                      [ 0.0035,  0.1511,  0.0705,  0.1630,  0.1331,  0.1186, -0.0139,  0.1215,\n",
              "                       -0.0779, -0.1657, -0.1201, -0.0923,  0.0894, -0.1076, -0.0588, -0.0850,\n",
              "                        0.0750,  0.1114, -0.0513, -0.0946,  0.0746, -0.0081,  0.0094, -0.0553,\n",
              "                       -0.1017,  0.0337,  0.1419, -0.1409, -0.0565, -0.1519, -0.0410,  0.0334],\n",
              "                      [-0.0553, -0.1721, -0.0374, -0.1678,  0.1732, -0.1069, -0.0812,  0.0802,\n",
              "                        0.0717,  0.0696, -0.0435, -0.0415,  0.0915,  0.0707,  0.1584, -0.0672,\n",
              "                        0.0543,  0.0357, -0.1125, -0.0932, -0.1355,  0.0533, -0.0356,  0.1645,\n",
              "                       -0.0644, -0.0401,  0.0815, -0.1251,  0.0052,  0.1273, -0.0519,  0.1289],\n",
              "                      [-0.0536, -0.0730, -0.1289,  0.0875,  0.0312, -0.1081,  0.0003, -0.1643,\n",
              "                       -0.0541, -0.0655, -0.1449,  0.1331, -0.0671,  0.0533, -0.0343,  0.0840,\n",
              "                       -0.1685,  0.1226,  0.0149, -0.1534, -0.0487,  0.1093,  0.0441, -0.1031,\n",
              "                        0.0808, -0.0694,  0.0746, -0.1134, -0.1739, -0.0683, -0.0455,  0.1248],\n",
              "                      [-0.1609, -0.0835,  0.1375,  0.0954, -0.0412, -0.1364,  0.1661, -0.1359,\n",
              "                        0.1455,  0.1349, -0.0095,  0.1479,  0.1500,  0.1083, -0.0053, -0.1218,\n",
              "                        0.0289,  0.1462, -0.0721,  0.0225, -0.0638,  0.1625,  0.0200, -0.1635,\n",
              "                        0.1024, -0.0197,  0.1366,  0.0246,  0.0803,  0.0146, -0.0161,  0.0199],\n",
              "                      [ 0.1520,  0.0641,  0.1683,  0.0926,  0.0112, -0.0792, -0.1052, -0.0289,\n",
              "                       -0.1025, -0.0788, -0.1723,  0.0468, -0.0120,  0.0649,  0.0144, -0.1313,\n",
              "                       -0.1550, -0.0811,  0.0894,  0.1041, -0.0596, -0.1763,  0.0154,  0.1011,\n",
              "                        0.0717, -0.0964, -0.1470, -0.0220, -0.1678,  0.0341,  0.0779,  0.0006]],\n",
              "                     device='cuda:0')),\n",
              "             ('fc_layers.6.bias',\n",
              "              tensor([ 0.0450, -0.0944, -0.1201,  0.0688, -0.0396, -0.0100, -0.0112, -0.0992,\n",
              "                       0.1442,  0.0492, -0.0096, -0.1733,  0.0350, -0.1259, -0.0147, -0.1566],\n",
              "                     device='cuda:0')),\n",
              "             ('fc_layers.8.weight',\n",
              "              tensor([[ 0.2152, -0.0664, -0.0036,  0.1922,  0.2003, -0.0884, -0.1709,  0.1838,\n",
              "                       -0.0644,  0.1040, -0.1655,  0.1880, -0.0134, -0.0679, -0.0047,  0.1662],\n",
              "                      [-0.1548, -0.2185,  0.2426, -0.2309, -0.2075,  0.2193, -0.2157,  0.0761,\n",
              "                       -0.1240, -0.0069, -0.1683,  0.1487,  0.1003, -0.0908, -0.1493, -0.2407],\n",
              "                      [-0.2178,  0.2420,  0.1591, -0.0450,  0.0920,  0.1467, -0.1962,  0.2218,\n",
              "                       -0.0516, -0.0967,  0.0868, -0.0436, -0.2154,  0.1440,  0.0874, -0.0007],\n",
              "                      [ 0.1794,  0.1208, -0.1006,  0.2313,  0.1019, -0.0172,  0.0462, -0.2025,\n",
              "                        0.1634, -0.2068, -0.0838,  0.0785, -0.0706, -0.1335,  0.0037,  0.2160],\n",
              "                      [-0.1064, -0.0502, -0.2187, -0.1265,  0.1989,  0.1070, -0.0613, -0.2388,\n",
              "                       -0.1538, -0.0839, -0.1844, -0.2467, -0.2304, -0.0182,  0.0411, -0.1435],\n",
              "                      [ 0.0039, -0.1127,  0.0648,  0.1563, -0.0929,  0.0536,  0.1074,  0.1020,\n",
              "                        0.2362,  0.1320,  0.0939, -0.0403, -0.0011, -0.1775,  0.0791, -0.0088],\n",
              "                      [-0.1421, -0.0539, -0.1727,  0.2237,  0.1135,  0.2029, -0.0461, -0.0571,\n",
              "                       -0.0723, -0.1496, -0.0046,  0.0546, -0.1534, -0.2494,  0.1835,  0.1071],\n",
              "                      [ 0.0931, -0.1539, -0.2423,  0.1408,  0.1978,  0.0459, -0.2008, -0.2099,\n",
              "                        0.1589,  0.1826,  0.1102,  0.1262, -0.1142, -0.0177, -0.1111,  0.0909],\n",
              "                      [-0.0380, -0.0352, -0.0543,  0.1622,  0.2080,  0.2013,  0.1858, -0.1764,\n",
              "                        0.0361, -0.0752, -0.1489, -0.1959, -0.2383, -0.1628,  0.1701, -0.1764],\n",
              "                      [ 0.1039,  0.1124, -0.1115,  0.1394, -0.0839,  0.0574,  0.2269, -0.2476,\n",
              "                       -0.0668,  0.0526, -0.1314,  0.2297,  0.0876,  0.1537, -0.0943,  0.1510]],\n",
              "                     device='cuda:0')),\n",
              "             ('fc_layers.8.bias',\n",
              "              tensor([ 0.1627, -0.2325, -0.0834,  0.1099,  0.1526, -0.1187, -0.0597,  0.0333,\n",
              "                       0.0939,  0.0861], device='cuda:0'))])"
            ]
          },
          "metadata": {},
          "execution_count": 9
        }
      ]
    },
    {
      "cell_type": "code",
      "execution_count": 10,
      "metadata": {
        "id": "3w9QW9Lfp1aV",
        "colab": {
          "base_uri": "https://localhost:8080/"
        },
        "outputId": "677bf0b1-fc45-4826-87e7-98f2c3fe0c83"
      },
      "outputs": [
        {
          "output_type": "execute_result",
          "data": {
            "text/plain": [
              "LSTM_Model_label(\n",
              "  (lstm): LSTM(41, 16, num_layers=3, batch_first=True, bidirectional=True)\n",
              "  (fc_layers): Sequential(\n",
              "    (0): Linear(in_features=32, out_features=128, bias=True)\n",
              "    (1): Tanh()\n",
              "    (2): Linear(in_features=128, out_features=64, bias=True)\n",
              "    (3): Tanh()\n",
              "    (4): Linear(in_features=64, out_features=32, bias=True)\n",
              "    (5): Sigmoid()\n",
              "    (6): Linear(in_features=32, out_features=16, bias=True)\n",
              "    (7): Sigmoid()\n",
              "    (8): Linear(in_features=16, out_features=2, bias=True)\n",
              "  )\n",
              ")"
            ]
          },
          "metadata": {},
          "execution_count": 10
        }
      ],
      "source": [
        "my_model_label = LSTM_Model_label(num_classes_label, input_size, hidden_size, num_layers).to(device=device)\n",
        "my_model_label"
      ]
    },
    {
      "cell_type": "markdown",
      "metadata": {
        "id": "Cey1CId-jjis"
      },
      "source": [
        "# **optimizer and loss function**"
      ]
    },
    {
      "cell_type": "code",
      "execution_count": 11,
      "metadata": {
        "id": "WNuQFMAekNDH"
      },
      "outputs": [],
      "source": [
        "loss_fn1 = nn.CrossEntropyLoss().to(device=device)\n",
        "loss_fn2 = nn.CrossEntropyLoss().to(device=device)\n",
        "optimizer1 = opt.Adam(params=my_model_attack.parameters(),lr=learning_rate)\n",
        "optimizer2 = opt.Adam(params=my_model_label.parameters(),lr=learning_rate)"
      ]
    },
    {
      "cell_type": "markdown",
      "metadata": {
        "id": "4JYcovfYlpHM"
      },
      "source": [
        "# **train attack cat**"
      ]
    },
    {
      "cell_type": "code",
      "execution_count": 12,
      "metadata": {
        "id": "Qmw8w1eTkeBu",
        "colab": {
          "base_uri": "https://localhost:8080/"
        },
        "outputId": "5cb3e0c8-acbe-466b-8956-7cd9a216e30e"
      },
      "outputs": [
        {
          "output_type": "stream",
          "name": "stdout",
          "text": [
            "Epoch: 0, loss: 1.5372\n",
            "Epoch: 50, loss: 0.5397\n",
            "Epoch: 100, loss: 0.4528\n",
            "Epoch: 150, loss: 0.4345\n",
            "Epoch: 200, loss: 0.4293\n",
            "Epoch: 250, loss: 0.3841\n",
            "Epoch: 300, loss: 0.5285\n",
            "Epoch: 350, loss: 0.3898\n",
            "Epoch: 400, loss: 0.4398\n",
            "Epoch: 450, loss: 0.3359\n",
            "Epoch: 500, loss: 0.4016\n"
          ]
        }
      ],
      "source": [
        "for epoch in range(num_epoch+1):\n",
        "\n",
        "    for batch_x, batch_y in train_attack_cat_dataloader:\n",
        "\n",
        "        batch_x = torch.reshape(batch_x, (batch_x.shape[0], 1, batch_x.shape[1])) #RuntimeError: For unbatched 2-D input, hx and cx should also be 2-D but got (3-D, 3-D) tensors\n",
        "        \n",
        "        batch_x = batch_x.to(device)\n",
        "        batch_y = batch_y.to(device)\n",
        "\n",
        "        optimizer1.zero_grad()\n",
        "        loss1 = loss_fn1(my_model_attack(batch_x) , batch_y)\n",
        "        loss1.backward() \n",
        "        optimizer1.step()\n",
        "\n",
        "    if epoch % 50 == 0:\n",
        "         print(\"Epoch: %d, loss: %.4f\" % (epoch, loss1.item())) "
      ]
    },
    {
      "cell_type": "markdown",
      "metadata": {
        "id": "PQaRCMJPls5N"
      },
      "source": [
        "# **test attack cat**"
      ]
    },
    {
      "cell_type": "code",
      "execution_count": 13,
      "metadata": {
        "id": "QrtYzVT4loMQ",
        "colab": {
          "base_uri": "https://localhost:8080/"
        },
        "outputId": "dd5fc4e2-f7e0-4eed-ced0-f80945ce7a0d"
      },
      "outputs": [
        {
          "output_type": "stream",
          "name": "stdout",
          "text": [
            "acc : 82.01%\n"
          ]
        }
      ],
      "source": [
        "correct = 0\n",
        "\n",
        "for batch_x, labl in test_attack_cat_dataloader:\n",
        "  \n",
        "    batch_x = torch.reshape(batch_x, (batch_x.shape[0], 1, batch_x.shape[1])) #RuntimeError: For unbatched 2-D input, hx and cx should also be 2-D but got (3-D, 3-D) tensors\n",
        "  \n",
        "    batch_x = batch_x.to(device)\n",
        "    labl = labl.to(device)\n",
        "\n",
        "    out = my_model_attack(batch_x)\n",
        "    _,predicted = torch.max(out,1)\n",
        "    correct += torch.sum(predicted == labl)\n",
        "\n",
        "print(\"acc : %.2f\" % (100.*correct / len(test_attack_cat)),end=\"\")\n",
        "print(\"%\")"
      ]
    },
    {
      "cell_type": "markdown",
      "metadata": {
        "id": "pLqOLtA6tQht"
      },
      "source": [
        "# **train label**"
      ]
    },
    {
      "cell_type": "code",
      "execution_count": 14,
      "metadata": {
        "id": "Xm1cu1GhtMJO",
        "colab": {
          "base_uri": "https://localhost:8080/"
        },
        "outputId": "1beed66a-e085-44ba-f119-d244d8f84607"
      },
      "outputs": [
        {
          "output_type": "stream",
          "name": "stdout",
          "text": [
            "Epoch: 0, loss: 0.3066\n",
            "Epoch: 50, loss: 0.1160\n",
            "Epoch: 100, loss: 0.1243\n",
            "Epoch: 150, loss: 0.1130\n",
            "Epoch: 200, loss: 0.1695\n",
            "Epoch: 250, loss: 0.0831\n",
            "Epoch: 300, loss: 0.1087\n",
            "Epoch: 350, loss: 0.1279\n",
            "Epoch: 400, loss: 0.1258\n",
            "Epoch: 450, loss: 0.0781\n",
            "Epoch: 500, loss: 0.0967\n"
          ]
        }
      ],
      "source": [
        "for epoch in range(num_epoch+1):\n",
        "\n",
        "    for batch_x, batch_y in train_label_dataloader:\n",
        "\n",
        "        batch_x = torch.reshape(batch_x, (batch_x.shape[0], 1, batch_x.shape[1])) #RuntimeError: For unbatched 2-D input, hx and cx should also be 2-D but got (3-D, 3-D) tensors\n",
        "        \n",
        "        batch_x = batch_x.to(device)\n",
        "        batch_y = batch_y.to(device)\n",
        "\n",
        "        optimizer2.zero_grad()\n",
        "        loss2 = loss_fn2(my_model_label(batch_x) , batch_y)\n",
        "        loss2.backward() \n",
        "        optimizer2.step()\n",
        "\n",
        "    if epoch % 50 == 0:\n",
        "         print(\"Epoch: %d, loss: %.4f\" % (epoch, loss2.item())) "
      ]
    },
    {
      "cell_type": "markdown",
      "metadata": {
        "id": "Ig7VBqU0tfZd"
      },
      "source": [
        "# **test label**"
      ]
    },
    {
      "cell_type": "code",
      "execution_count": 15,
      "metadata": {
        "id": "a7u2bQ0WtiG2",
        "colab": {
          "base_uri": "https://localhost:8080/"
        },
        "outputId": "d1de1e5b-1fac-40cd-c4da-ed084feda72c"
      },
      "outputs": [
        {
          "output_type": "stream",
          "name": "stdout",
          "text": [
            "acc : 93.72%\n"
          ]
        }
      ],
      "source": [
        "correct = 0\n",
        "\n",
        "for batch_x, labl in test_label_dataloader:\n",
        "\n",
        "    batch_x = torch.reshape(batch_x, (batch_x.shape[0], 1, batch_x.shape[1])) #RuntimeError: For unbatched 2-D input, hx and cx should also be 2-D but got (3-D, 3-D) tensors\n",
        "\n",
        "    batch_x = batch_x.to(device)\n",
        "    labl = labl.to(device)\n",
        "  \n",
        "    out = my_model_label(batch_x)\n",
        "    _,predicted = torch.max(out,1)\n",
        "    correct += torch.sum(predicted == labl)\n",
        "\n",
        "print(\"acc : %.2f\" % (100.*correct / len(test_label)),end=\"\")\n",
        "print(\"%\")"
      ]
    }
  ],
  "metadata": {
    "accelerator": "GPU",
    "colab": {
      "collapsed_sections": [],
      "provenance": []
    },
    "gpuClass": "standard",
    "kernelspec": {
      "display_name": "Python 3",
      "name": "python3"
    },
    "language_info": {
      "name": "python"
    }
  },
  "nbformat": 4,
  "nbformat_minor": 0
}