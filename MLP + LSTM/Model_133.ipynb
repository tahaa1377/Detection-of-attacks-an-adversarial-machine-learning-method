{
  "cells": [
    {
      "cell_type": "code",
      "execution_count": 1,
      "metadata": {
        "id": "Ff1b4PxtBQuc"
      },
      "outputs": [],
      "source": [
        "num_epoch = 500      \n",
        "learning_rate = 0.002\n",
        "batch_size = 4000\n",
        "\n",
        "hidden_size = 16 #number of features in hidden state\n",
        "num_layers = 3  #number of stacked lstm layers\n",
        "bidirectional = True\n",
        "drop_out = 0\n",
        "bidirectional_forward_backward = 2 if bidirectional else 1\n",
        "\n",
        "input_size = 41 #number of features\n",
        "num_classes_attack_cat = 10 #number of output classes \n",
        "num_classes_label = 2       #number of output classes \n",
        "\n",
        "hyper_parameter1=128\n",
        "hyper_parameter2=64"
      ]
    },
    {
      "cell_type": "code",
      "source": [
        "from google.colab import drive\n",
        "drive.mount('/content/drive')"
      ],
      "metadata": {
        "colab": {
          "base_uri": "https://localhost:8080/"
        },
        "id": "0Gua0hky6SDJ",
        "outputId": "f5fdc92e-9b21-4817-cc6f-100c29f54167"
      },
      "execution_count": 2,
      "outputs": [
        {
          "output_type": "stream",
          "name": "stdout",
          "text": [
            "Drive already mounted at /content/drive; to attempt to forcibly remount, call drive.mount(\"/content/drive\", force_remount=True).\n"
          ]
        }
      ]
    },
    {
      "cell_type": "code",
      "execution_count": 3,
      "metadata": {
        "colab": {
          "base_uri": "https://localhost:8080/"
        },
        "id": "hZiaj4uT24DH",
        "outputId": "e0a0a2f5-a542-4018-96ad-f3ae3d9eed79"
      },
      "outputs": [
        {
          "output_type": "stream",
          "name": "stdout",
          "text": [
            "GPU\n"
          ]
        }
      ],
      "source": [
        "import pandas as pd\n",
        "from matplotlib import pyplot as plt\n",
        "import numpy as np\n",
        "from torch.utils.data.dataset import Dataset\n",
        "from torch.utils.data import random_split, DataLoader\n",
        "import torch\n",
        "from sklearn.preprocessing import LabelEncoder\n",
        "from sklearn import preprocessing\n",
        "import torch.nn as nn\n",
        "import torch.nn.functional as F\n",
        "import torch.optim as opt\n",
        "from torch.autograd import Variable \n",
        "\n",
        "# GPU OR CPU\n",
        "if torch.cuda.is_available():\n",
        "    device = torch.device(\"cuda:0\")\n",
        "    print(\"GPU\")\n",
        "else:\n",
        "    device = torch.device(\"cpu\")\n",
        "    print(\"CPU\")"
      ]
    },
    {
      "cell_type": "code",
      "execution_count": 4,
      "metadata": {
        "id": "Sv-R_m6Z1EL5"
      },
      "outputs": [],
      "source": [
        "class DataSet_UNSWNB15_attack_cat(Dataset):\n",
        "\n",
        "    def __init__(self,data_set_path):\n",
        "        df = pd.read_csv(data_set_path)\n",
        "        print(df.attack_cat.value_counts().sort_values().plot(kind = \"barh\"))\n",
        "        \n",
        "        # preprocceing\n",
        "        df.drop(['id',\"Unnamed: 0\",\"service\",\"label\"], axis=1, inplace=True)        \n",
        "        cols = ['attack_cat' ,'proto' ,'state']\n",
        "        df[cols] = df[cols].apply(LabelEncoder().fit_transform)\n",
        "\n",
        "        self.data_array = df.values\n",
        "        self.x = self.data_array[:, :41]\n",
        "        self.y = self.data_array[:, 41]\n",
        "      \n",
        "        # normalaized data\n",
        "        scaler = preprocessing.StandardScaler().fit(self.x)\n",
        "        self.x = scaler.transform(self.x)\n",
        "\n",
        "        self.x = torch.tensor(self.x).float()\n",
        "        self.y = torch.tensor(self.y).long()\n",
        "\n",
        "    def __len__(self):\n",
        "        return len(self.data_array)\n",
        "\n",
        "    def __getitem__(self, item):\n",
        "        sample = (self.x[item, :], self.y[item])\n",
        "        return sample\n",
        "\n",
        "        \n",
        "class DataSet_UNSWNB15_label(Dataset):\n",
        "\n",
        "    def __init__(self,data_set_path):\n",
        "        df = pd.read_csv(data_set_path)\n",
        "        print(df.label.value_counts().sort_values().plot(kind = \"pie\"))\n",
        "\n",
        "        # preprocceing\n",
        "        df.drop(['id',\"Unnamed: 0\",\"service\",\"attack_cat\"], axis=1, inplace=True)\n",
        "        cols = ['proto' ,'state']\n",
        "        df[cols] = df[cols].apply(LabelEncoder().fit_transform)\n",
        "\n",
        "        self.data_array = df.values\n",
        "        self.x = self.data_array[:, :41]\n",
        "        self.y = self.data_array[:, 41]\n",
        "        \n",
        "        # normalaized data\n",
        "        scaler = preprocessing.StandardScaler().fit(self.x)\n",
        "        self.x = scaler.transform(self.x)\n",
        "\n",
        "        self.x = torch.tensor(self.x).float()\n",
        "        self.y = torch.tensor(self.y).long()\n",
        "\n",
        "    def __len__(self):\n",
        "        return len(self.data_array)\n",
        "\n",
        "    def __getitem__(self, item):\n",
        "        sample = (self.x[item, :], self.y[item])\n",
        "        return sample"
      ]
    },
    {
      "cell_type": "code",
      "execution_count": 5,
      "metadata": {
        "colab": {
          "base_uri": "https://localhost:8080/",
          "height": 283
        },
        "id": "UykLrbQZ1R7K",
        "outputId": "cc366702-8546-4b22-894e-724bf5d7a37b"
      },
      "outputs": [
        {
          "output_type": "stream",
          "name": "stdout",
          "text": [
            "AxesSubplot(0.125,0.125;0.775x0.755)\n"
          ]
        },
        {
          "output_type": "display_data",
          "data": {
            "text/plain": [
              "<Figure size 432x288 with 1 Axes>"
            ],
            "image/png": "[encoded data removed]"
          },
          "metadata": {
            "needs_background": "light"
          }
        }
      ],
      "source": [
        "dataset_attack_cat = DataSet_UNSWNB15_attack_cat(\"/content/drive/MyDrive/datasets/UNSW-NB15/UNSW_NB15.csv\")\n",
        "number_of_test = int(len(dataset_attack_cat)*0.3)\n",
        "number_of_train = len(dataset_attack_cat) - int(len(dataset_attack_cat)*0.3)\n",
        "train_attack_cat ,test_attack_cat = random_split(dataset=dataset_attack_cat, lengths=[number_of_train,number_of_test])\n",
        "\n",
        "train_attack_cat_dataloader = DataLoader(dataset=train_attack_cat ,batch_size=batch_size ,shuffle=True)\n",
        "test_attack_cat_dataloader = DataLoader(dataset=test_attack_cat ,batch_size=batch_size ,shuffle=True)"
      ]
    },
    {
      "cell_type": "code",
      "execution_count": 6,
      "metadata": {
        "colab": {
          "base_uri": "https://localhost:8080/",
          "height": 266
        },
        "id": "LmFY9Q-u29T3",
        "outputId": "0db98234-9e61-4d07-e34e-0186f4a925d9"
      },
      "outputs": [
        {
          "output_type": "stream",
          "name": "stdout",
          "text": [
            "AxesSubplot(0.260833,0.125;0.503333x0.755)\n"
          ]
        },
        {
          "output_type": "display_data",
          "data": {
            "text/plain": [
              "<Figure size 432x288 with 1 Axes>"
            ],
            "image/png": "[encoded data removed]"
          },
          "metadata": {}
        }
      ],
      "source": [
        "dataset_label = DataSet_UNSWNB15_label(\"/content/drive/MyDrive/datasets/UNSW-NB15/UNSW_NB15.csv\")\n",
        "number_of_test = int(len(dataset_label)*0.3)\n",
        "number_of_train = len(dataset_label) - int(len(dataset_label)*0.3)\n",
        "train_label ,test_label = random_split(dataset=dataset_label, lengths=[number_of_train,number_of_test])\n",
        "\n",
        "train_label_dataloader = DataLoader(dataset=train_label ,batch_size=batch_size ,shuffle=True)\n",
        "test_label_dataloader = DataLoader(dataset=test_label ,batch_size=batch_size ,shuffle=True)"
      ]
    },
    {
      "cell_type": "markdown",
      "metadata": {
        "id": "0HslPLv2IOGd"
      },
      "source": [
        "# **preprocessing ended**\n",
        "\n",
        "# **create model**"
      ]
    },
    {
      "cell_type": "markdown",
      "source": [
        "![bilstm-1.webp](data:image/webp;base64,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)"
      ],
      "metadata": {
        "id": "F2hNvBs6qBQS"
      }
    },
    {
      "cell_type": "code",
      "execution_count": 7,
      "metadata": {
        "id": "oN6DuQbJibuE"
      },
      "outputs": [],
      "source": [
        "class LSTM_Model_attack(nn.Module):\n",
        "    def __init__(self, num_classes, input_size, hidden_size, num_layers):\n",
        "        super(LSTM_Model_attack, self).__init__()\n",
        "        self.num_classes = num_classes #number of classes\n",
        "        self.num_layers = num_layers #number of layers\n",
        "        self.input_size = input_size #input size\n",
        "        self.hidden_size = hidden_size #hidden state\n",
        "\n",
        "        self.lstm = nn.LSTM(input_size=input_size, hidden_size=hidden_size, num_layers=num_layers, batch_first=True,\n",
        "                            bidirectional=bidirectional, dropout=drop_out) #lstm\n",
        "\n",
        "        self.fc_layers = nn.Sequential(\n",
        "        nn.Linear(hidden_size * bidirectional_forward_backward, hyper_parameter1), \n",
        "        nn.Tanh(),\n",
        "        nn.Linear(hyper_parameter1, hyper_parameter2),\n",
        "        nn.Sigmoid(),\n",
        "        nn.Linear(hyper_parameter2, num_classes)\n",
        "        )\n",
        "    \n",
        "    def forward(self,x):\n",
        "                                                # 2 => forward and backward for bidirectional\n",
        "        h_0 = Variable(torch.zeros(self.num_layers * bidirectional_forward_backward, x.size(0), self.hidden_size)).to(device=device) #hidden state\n",
        "        c_0 = Variable(torch.zeros(self.num_layers * bidirectional_forward_backward, x.size(0), self.hidden_size)).to(device=device) #internal state\n",
        "\n",
        "        out, (hn, cn) = self.lstm(x, (h_0, c_0))\n",
        "        out = self.fc_layers(out[:, -1, :]) \n",
        "        return out\n",
        "\n",
        "\n",
        "class LSTM_Model_label(nn.Module):\n",
        "    def __init__(self, num_classes, input_size, hidden_size, num_layers):\n",
        "        super(LSTM_Model_label, self).__init__()\n",
        "        self.num_classes = num_classes #number of classes\n",
        "        self.num_layers = num_layers #number of layers\n",
        "        self.input_size = input_size #input size\n",
        "        self.hidden_size = hidden_size #hidden state\n",
        "\n",
        "        self.lstm = nn.LSTM(input_size=input_size, hidden_size=hidden_size, num_layers=num_layers, batch_first=True, \n",
        "                            bidirectional=bidirectional, dropout=drop_out) #lstm\n",
        "\n",
        "        self.fc_layers = nn.Sequential(\n",
        "        nn.Linear(hidden_size * bidirectional_forward_backward, hyper_parameter1), \n",
        "        nn.Tanh(),\n",
        "        nn.Linear(hyper_parameter1, hyper_parameter2),\n",
        "        nn.Sigmoid(),\n",
        "        nn.Linear(hyper_parameter2, num_classes)\n",
        "        )\n",
        "    \n",
        "    def forward(self,x):\n",
        "        h_0 = Variable(torch.zeros(self.num_layers * bidirectional_forward_backward, x.size(0), self.hidden_size)).to(device=device) #hidden state\n",
        "        c_0 = Variable(torch.zeros(self.num_layers * bidirectional_forward_backward, x.size(0), self.hidden_size)).to(device=device) #internal state\n",
        "\n",
        "        out, (hn, cn) = self.lstm(x, (h_0, c_0))\n",
        "        out = self.fc_layers(out[:, -1, :]) \n",
        "        return out\n"
      ]
    },
    {
      "cell_type": "code",
      "execution_count": 8,
      "metadata": {
        "id": "US8JfNI8j3zO",
        "colab": {
          "base_uri": "https://localhost:8080/"
        },
        "outputId": "ea06e3e9-c7f1-4a04-8298-5442c2b56f8a"
      },
      "outputs": [
        {
          "output_type": "execute_result",
          "data": {
            "text/plain": [
              "LSTM_Model_attack(\n",
              "  (lstm): LSTM(41, 16, num_layers=3, batch_first=True, bidirectional=True)\n",
              "  (fc_layers): Sequential(\n",
              "    (0): Linear(in_features=32, out_features=128, bias=True)\n",
              "    (1): Tanh()\n",
              "    (2): Linear(in_features=128, out_features=64, bias=True)\n",
              "    (3): Sigmoid()\n",
              "    (4): Linear(in_features=64, out_features=10, bias=True)\n",
              "  )\n",
              ")"
            ]
          },
          "metadata": {},
          "execution_count": 8
        }
      ],
      "source": [
        "my_model_attack = LSTM_Model_attack(num_classes_attack_cat, input_size, hidden_size, num_layers).to(device=device)\n",
        "my_model_attack"
      ]
    },
    {
      "cell_type": "code",
      "source": [
        "my_model_attack.state_dict()"
      ],
      "metadata": {
        "colab": {
          "base_uri": "https://localhost:8080/"
        },
        "id": "Dq8JkQZ9ukCs",
        "outputId": "c1283b79-97c4-4458-ceed-6f60835900e2"
      },
      "execution_count": 9,
      "outputs": [
        {
          "output_type": "execute_result",
          "data": {
            "text/plain": [
              "OrderedDict([('lstm.weight_ih_l0',\n",
              "              tensor([[-0.0305,  0.0527, -0.0115,  ...,  0.0271, -0.0521,  0.1794],\n",
              "                      [-0.0269, -0.2151, -0.2418,  ..., -0.2499,  0.1475,  0.0210],\n",
              "                      [-0.0141, -0.1873,  0.0620,  ...,  0.0749,  0.0197, -0.0289],\n",
              "                      ...,\n",
              "                      [-0.0945,  0.0222, -0.0850,  ...,  0.1955,  0.2091,  0.1886],\n",
              "                      [-0.0468,  0.1980,  0.2330,  ...,  0.0625, -0.0961, -0.1045],\n",
              "                      [-0.0818,  0.1983, -0.0934,  ..., -0.0793, -0.0232, -0.2195]],\n",
              "                     device='cuda:0')),\n",
              "             ('lstm.weight_hh_l0',\n",
              "              tensor([[ 0.1281,  0.0487,  0.1342,  ..., -0.0630,  0.0322,  0.0912],\n",
              "                      [-0.1613,  0.0506,  0.2270,  ..., -0.1910, -0.2165, -0.2423],\n",
              "                      [-0.1383, -0.1095,  0.2319,  ...,  0.1591, -0.2040, -0.0626],\n",
              "                      ...,\n",
              "                      [-0.1787,  0.1578,  0.1724,  ..., -0.0636,  0.1627,  0.1834],\n",
              "                      [-0.1303, -0.2493, -0.0829,  ..., -0.0940,  0.0365,  0.0237],\n",
              "                      [-0.2480, -0.1161,  0.1004,  ..., -0.1985,  0.1038,  0.0633]],\n",
              "                     device='cuda:0')),\n",
              "             ('lstm.bias_ih_l0',\n",
              "              tensor([ 0.1633,  0.1165, -0.1190,  0.1377,  0.1744,  0.1289,  0.0345,  0.0990,\n",
              "                      -0.1289, -0.0223,  0.1457,  0.0936, -0.1863,  0.0318,  0.2166,  0.2196,\n",
              "                      -0.1222, -0.0521, -0.1238, -0.1091,  0.2317,  0.0852, -0.1236, -0.1658,\n",
              "                      -0.0618,  0.1777, -0.0846,  0.1912, -0.0180,  0.1750,  0.0454,  0.0169,\n",
              "                      -0.0009,  0.1783,  0.0699,  0.1287, -0.1668,  0.1604,  0.0677,  0.1288,\n",
              "                      -0.2484,  0.0277,  0.1530, -0.1414,  0.0579,  0.0442,  0.0149, -0.2231,\n",
              "                      -0.0533, -0.0560,  0.2461, -0.2450,  0.2030,  0.2330,  0.0370, -0.2440,\n",
              "                       0.0222,  0.0327,  0.1422, -0.2027, -0.0836,  0.0418,  0.1845, -0.1253],\n",
              "                     device='cuda:0')),\n",
              "             ('lstm.bias_hh_l0',\n",
              "              tensor([ 2.1730e-01, -7.4021e-02, -2.3542e-01,  1.6543e-01, -1.8975e-01,\n",
              "                      -9.2635e-03, -1.2227e-01, -1.5048e-01,  9.2438e-02,  1.5099e-01,\n",
              "                      -4.5006e-02, -1.6937e-01,  6.6827e-02, -1.4343e-01, -2.1957e-01,\n",
              "                       1.5997e-01,  9.6917e-05,  1.8654e-01,  9.1800e-03, -1.1365e-01,\n",
              "                      -2.4478e-01, -7.9086e-02, -6.3609e-02,  3.3779e-02,  1.0066e-01,\n",
              "                      -5.7176e-02,  1.4833e-01,  2.3981e-02,  2.3170e-01,  3.5695e-02,\n",
              "                      -7.7776e-02,  2.0098e-01, -4.1280e-02, -9.3951e-02, -2.0601e-02,\n",
              "                      -7.7163e-02, -9.9695e-02,  6.6984e-02,  1.7823e-01,  6.1068e-04,\n",
              "                      -1.1024e-02, -1.0356e-01, -2.0839e-01, -1.0063e-01, -2.0865e-01,\n",
              "                       1.6335e-01,  1.2222e-02,  2.3674e-01,  1.0944e-02,  2.4841e-01,\n",
              "                      -1.6307e-01,  1.0943e-02, -8.3416e-03,  9.1876e-02,  1.1572e-02,\n",
              "                       1.1388e-01,  4.4815e-02, -1.0830e-01, -1.7532e-02, -2.1049e-01,\n",
              "                      -1.1978e-01, -7.9309e-02, -1.2148e-01, -9.0909e-02], device='cuda:0')),\n",
              "             ('lstm.weight_ih_l0_reverse',\n",
              "              tensor([[ 0.1841, -0.0275,  0.1409,  ..., -0.0979, -0.2360,  0.1597],\n",
              "                      [ 0.0167,  0.1045,  0.1743,  ...,  0.0644,  0.0960, -0.1928],\n",
              "                      [ 0.1245, -0.1971,  0.0135,  ..., -0.1548,  0.1187,  0.2199],\n",
              "                      ...,\n",
              "                      [ 0.1871,  0.0965, -0.2110,  ..., -0.0285,  0.1095, -0.0422],\n",
              "                      [-0.2002, -0.0129,  0.0942,  ..., -0.1523, -0.2116,  0.0664],\n",
              "                      [-0.2043,  0.0950, -0.2471,  ..., -0.2292,  0.0304, -0.2355]],\n",
              "                     device='cuda:0')),\n",
              "             ('lstm.weight_hh_l0_reverse',\n",
              "              tensor([[-0.2260, -0.1950,  0.2044,  ...,  0.0825, -0.1635, -0.1969],\n",
              "                      [-0.1639, -0.0650, -0.0054,  ...,  0.1126, -0.2394, -0.1165],\n",
              "                      [ 0.2388,  0.1236,  0.1155,  ...,  0.0551, -0.1740, -0.0626],\n",
              "                      ...,\n",
              "                      [ 0.2392, -0.0583,  0.0545,  ..., -0.1663, -0.1037, -0.2430],\n",
              "                      [-0.1644, -0.1204,  0.2242,  ..., -0.1331, -0.2304, -0.0913],\n",
              "                      [-0.2231, -0.0927,  0.1276,  ..., -0.2293,  0.1729, -0.0149]],\n",
              "                     device='cuda:0')),\n",
              "             ('lstm.bias_ih_l0_reverse',\n",
              "              tensor([-0.1870,  0.1926,  0.1800,  0.1712,  0.1553, -0.0726,  0.1496, -0.1242,\n",
              "                       0.1897, -0.1641, -0.0153, -0.0977, -0.1387,  0.1116,  0.1888,  0.1783,\n",
              "                      -0.1891, -0.1682, -0.2422, -0.0438, -0.1044,  0.1483,  0.2446, -0.0092,\n",
              "                      -0.0053,  0.0837, -0.2259,  0.0360, -0.1804,  0.0589,  0.0227, -0.0993,\n",
              "                      -0.1239,  0.0107, -0.2301, -0.0820,  0.1989, -0.1631,  0.1736,  0.0771,\n",
              "                       0.0097, -0.1729,  0.1532,  0.2197, -0.0131, -0.2357, -0.1363, -0.1514,\n",
              "                       0.0668, -0.1054,  0.0960,  0.0350, -0.0491, -0.2286,  0.0820,  0.0440,\n",
              "                       0.2450,  0.0403,  0.2145,  0.2310,  0.0442, -0.1109,  0.0116,  0.2188],\n",
              "                     device='cuda:0')),\n",
              "             ('lstm.bias_hh_l0_reverse',\n",
              "              tensor([ 0.1417, -0.1248,  0.0629,  0.0681,  0.2434, -0.0640, -0.0711, -0.0278,\n",
              "                      -0.1921, -0.0272,  0.2101, -0.0711,  0.2036,  0.2223,  0.1965, -0.0545,\n",
              "                       0.1020, -0.0968, -0.0409, -0.1280,  0.0384,  0.1435, -0.1334,  0.0816,\n",
              "                      -0.1693,  0.1405, -0.0354, -0.1283,  0.1048, -0.1529, -0.2144,  0.2485,\n",
              "                       0.1844, -0.2035, -0.0535,  0.1643, -0.1012,  0.1639, -0.2244, -0.2228,\n",
              "                      -0.0292,  0.0465, -0.1503, -0.1970, -0.0755, -0.1903,  0.0931, -0.0536,\n",
              "                      -0.0165, -0.0676,  0.1105,  0.0825, -0.0558, -0.0645,  0.1992, -0.1657,\n",
              "                      -0.1308,  0.0063,  0.1908,  0.1220,  0.2024,  0.2161,  0.0793,  0.1356],\n",
              "                     device='cuda:0')),\n",
              "             ('lstm.weight_ih_l1',\n",
              "              tensor([[-0.1547,  0.1143,  0.0582,  ..., -0.0951,  0.2478, -0.0921],\n",
              "                      [ 0.0170,  0.1895,  0.2459,  ...,  0.1811, -0.0874,  0.0856],\n",
              "                      [-0.0721, -0.1091, -0.1843,  ...,  0.0494, -0.2072, -0.1142],\n",
              "                      ...,\n",
              "                      [ 0.2298,  0.2168, -0.2127,  ..., -0.2420,  0.0064,  0.2325],\n",
              "                      [ 0.1214, -0.1689, -0.2084,  ...,  0.0763,  0.0246,  0.1165],\n",
              "                      [-0.0979,  0.1529, -0.1409,  ...,  0.1160, -0.1298,  0.1093]],\n",
              "                     device='cuda:0')),\n",
              "             ('lstm.weight_hh_l1',\n",
              "              tensor([[ 0.0452,  0.1917,  0.1876,  ...,  0.1256,  0.1304, -0.2481],\n",
              "                      [ 0.1739,  0.2077, -0.0293,  ...,  0.1179, -0.0032,  0.1390],\n",
              "                      [ 0.0223, -0.2495,  0.1486,  ..., -0.1010, -0.2182,  0.0053],\n",
              "                      ...,\n",
              "                      [-0.1593, -0.1352,  0.1767,  ..., -0.2479, -0.1219, -0.0068],\n",
              "                      [-0.0485, -0.0972,  0.1448,  ..., -0.0063, -0.2281, -0.1269],\n",
              "                      [-0.0298, -0.0673, -0.1031,  ...,  0.2061,  0.1571,  0.2064]],\n",
              "                     device='cuda:0')),\n",
              "             ('lstm.bias_ih_l1',\n",
              "              tensor([ 0.1344, -0.0078,  0.0168, -0.0311,  0.2273,  0.0882,  0.0024, -0.0920,\n",
              "                       0.2202,  0.2043, -0.1854,  0.1957,  0.1781,  0.1837,  0.2212, -0.0698,\n",
              "                      -0.1343, -0.1158,  0.0811,  0.0512, -0.1267,  0.0219, -0.0484, -0.0598,\n",
              "                       0.2372,  0.2315,  0.1397,  0.1651, -0.1736,  0.1900, -0.2127,  0.0275,\n",
              "                      -0.0055,  0.1746, -0.0984, -0.0245, -0.0074,  0.0362,  0.2340, -0.0867,\n",
              "                      -0.1485,  0.2324, -0.1512,  0.1370, -0.1612, -0.0521,  0.1523,  0.1282,\n",
              "                      -0.1480,  0.1405, -0.0100,  0.0894, -0.1330,  0.1931,  0.0356,  0.2322,\n",
              "                      -0.2075,  0.2496, -0.0708,  0.2092,  0.0594,  0.2214, -0.1709,  0.0082],\n",
              "                     device='cuda:0')),\n",
              "             ('lstm.bias_hh_l1',\n",
              "              tensor([ 0.0605,  0.1952,  0.1433, -0.1155, -0.1422,  0.2234, -0.1979, -0.0329,\n",
              "                      -0.0163, -0.0721, -0.2134,  0.0737,  0.1859, -0.1477,  0.1032,  0.1188,\n",
              "                      -0.2424, -0.0584,  0.2241, -0.1798, -0.0092,  0.0439, -0.1379, -0.2380,\n",
              "                       0.1074,  0.0957, -0.0992,  0.0275,  0.1933,  0.2203,  0.0700,  0.0981,\n",
              "                       0.2378, -0.1971,  0.0405,  0.1535,  0.0315, -0.0553, -0.2092, -0.2292,\n",
              "                      -0.0007,  0.0344, -0.1850, -0.1604,  0.2309, -0.2174,  0.1989,  0.1625,\n",
              "                       0.2378,  0.1371, -0.1674,  0.2405, -0.1732,  0.1632,  0.1398,  0.0191,\n",
              "                      -0.0152, -0.0487, -0.1497, -0.1199,  0.0356,  0.0068,  0.0878, -0.1379],\n",
              "                     device='cuda:0')),\n",
              "             ('lstm.weight_ih_l1_reverse',\n",
              "              tensor([[ 0.2117, -0.2230, -0.2375,  ..., -0.1179, -0.0128,  0.0958],\n",
              "                      [ 0.0983, -0.0093,  0.2226,  ...,  0.0302, -0.2326,  0.2156],\n",
              "                      [-0.1859,  0.2206, -0.2092,  ...,  0.1238,  0.0158,  0.1913],\n",
              "                      ...,\n",
              "                      [-0.0920,  0.1308,  0.0186,  ..., -0.1356, -0.1308,  0.1504],\n",
              "                      [-0.1972,  0.1326,  0.1013,  ..., -0.0934, -0.0193,  0.1639],\n",
              "                      [ 0.1044,  0.0784,  0.0816,  ...,  0.2450,  0.1053, -0.0938]],\n",
              "                     device='cuda:0')),\n",
              "             ('lstm.weight_hh_l1_reverse',\n",
              "              tensor([[ 0.0759, -0.0763,  0.0749,  ..., -0.0308,  0.0259,  0.1390],\n",
              "                      [ 0.2270, -0.2016,  0.2400,  ...,  0.1506, -0.2269, -0.1010],\n",
              "                      [ 0.1146,  0.2283, -0.0423,  ..., -0.1799, -0.0700, -0.0091],\n",
              "                      ...,\n",
              "                      [-0.0712,  0.1788, -0.2458,  ..., -0.1491,  0.2284,  0.2059],\n",
              "                      [-0.1555, -0.1939, -0.0499,  ...,  0.0783,  0.0194,  0.1935],\n",
              "                      [ 0.2052, -0.0387, -0.1411,  ..., -0.0947,  0.1796,  0.0262]],\n",
              "                     device='cuda:0')),\n",
              "             ('lstm.bias_ih_l1_reverse',\n",
              "              tensor([ 0.2351,  0.1092, -0.2364,  0.1509, -0.2207, -0.0056,  0.0045, -0.2034,\n",
              "                       0.2054, -0.1564,  0.0299,  0.0772, -0.0522,  0.1542,  0.2329, -0.1137,\n",
              "                       0.0244,  0.1357,  0.0973,  0.2222, -0.1389, -0.1149,  0.1119, -0.0658,\n",
              "                      -0.0383, -0.0084, -0.2203, -0.0721, -0.2264,  0.1688,  0.0500, -0.1016,\n",
              "                       0.1010,  0.1904,  0.0369,  0.1654,  0.0897, -0.2198, -0.2203, -0.1907,\n",
              "                      -0.1108, -0.1911, -0.0425,  0.2225, -0.2190,  0.1854, -0.1557, -0.2394,\n",
              "                      -0.1417,  0.2062, -0.1739, -0.0484, -0.0723, -0.1807,  0.1530, -0.2436,\n",
              "                      -0.1899, -0.0921, -0.1313,  0.0271, -0.1531,  0.2484, -0.1316,  0.0354],\n",
              "                     device='cuda:0')),\n",
              "             ('lstm.bias_hh_l1_reverse',\n",
              "              tensor([-0.0467,  0.0130,  0.0763,  0.2461,  0.1057,  0.1852,  0.1596,  0.1902,\n",
              "                      -0.0592,  0.1915,  0.2486,  0.1852, -0.2467, -0.1414,  0.1156, -0.2136,\n",
              "                       0.1818, -0.1833,  0.1321,  0.2286, -0.0187, -0.1028,  0.2377, -0.2321,\n",
              "                      -0.0584,  0.2017,  0.1324,  0.0541,  0.0158,  0.2126, -0.2426,  0.2454,\n",
              "                      -0.0980,  0.0857, -0.0444,  0.0301, -0.1005,  0.2116, -0.0317,  0.1223,\n",
              "                       0.0740,  0.0455,  0.1213, -0.2134,  0.0043,  0.1660,  0.1618, -0.0836,\n",
              "                       0.0270, -0.2398, -0.2256, -0.0283, -0.1275,  0.2458,  0.2246, -0.1822,\n",
              "                       0.0237,  0.2288, -0.0847, -0.1852,  0.1066, -0.2086, -0.1690,  0.0959],\n",
              "                     device='cuda:0')),\n",
              "             ('lstm.weight_ih_l2',\n",
              "              tensor([[ 0.0511,  0.1697, -0.1773,  ..., -0.0325,  0.0753, -0.0623],\n",
              "                      [ 0.1960, -0.2487, -0.2088,  ..., -0.0723, -0.1220,  0.1646],\n",
              "                      [ 0.0802, -0.0309,  0.1768,  ..., -0.0197, -0.1323, -0.0005],\n",
              "                      ...,\n",
              "                      [-0.0853, -0.1797,  0.1703,  ...,  0.2314, -0.2128, -0.2238],\n",
              "                      [ 0.0072,  0.2020, -0.1061,  ..., -0.0328, -0.0613, -0.2191],\n",
              "                      [-0.2423, -0.2175, -0.0625,  ...,  0.1860,  0.0943, -0.0223]],\n",
              "                     device='cuda:0')),\n",
              "             ('lstm.weight_hh_l2',\n",
              "              tensor([[ 0.0412,  0.1349,  0.1465,  ...,  0.1845, -0.2457,  0.0760],\n",
              "                      [ 0.1310,  0.1050,  0.2230,  ..., -0.0641,  0.1539, -0.1503],\n",
              "                      [-0.1254,  0.2021, -0.0247,  ...,  0.0369,  0.1649, -0.0767],\n",
              "                      ...,\n",
              "                      [ 0.0211,  0.0095, -0.0453,  ...,  0.2196,  0.0109, -0.0514],\n",
              "                      [ 0.1016, -0.1275, -0.0592,  ..., -0.1692,  0.0681,  0.1988],\n",
              "                      [ 0.0258, -0.0594,  0.1381,  ...,  0.0858, -0.1157, -0.0218]],\n",
              "                     device='cuda:0')),\n",
              "             ('lstm.bias_ih_l2',\n",
              "              tensor([-0.2433,  0.2129, -0.1234,  0.0641, -0.0899, -0.0139, -0.1825,  0.0993,\n",
              "                      -0.0194, -0.0983, -0.2005, -0.0759, -0.0479,  0.0144, -0.1739, -0.1474,\n",
              "                       0.0206,  0.1749, -0.0353,  0.1506,  0.1607,  0.0360,  0.0681,  0.2403,\n",
              "                      -0.2017, -0.0086,  0.1832, -0.0753,  0.1408,  0.2216, -0.1040,  0.0572,\n",
              "                       0.2045, -0.2078, -0.0902, -0.0485, -0.1718, -0.0155,  0.2174, -0.0819,\n",
              "                      -0.2097, -0.0499,  0.0106, -0.0519, -0.1538,  0.0906, -0.1647,  0.1151,\n",
              "                      -0.1904, -0.1793,  0.0284, -0.1494, -0.0835, -0.0565, -0.0500,  0.1836,\n",
              "                       0.1100, -0.1470, -0.1503,  0.1294, -0.2452, -0.2100,  0.1544, -0.1199],\n",
              "                     device='cuda:0')),\n",
              "             ('lstm.bias_hh_l2',\n",
              "              tensor([-0.1498,  0.2371,  0.0449,  0.0997, -0.1637,  0.2239,  0.2221,  0.1383,\n",
              "                       0.1050,  0.1482, -0.0876, -0.0624,  0.2443,  0.0305, -0.2431,  0.2495,\n",
              "                      -0.2172, -0.1440, -0.1110,  0.0627,  0.1760, -0.2024, -0.0328,  0.0857,\n",
              "                      -0.0046, -0.2150,  0.2335,  0.2084,  0.2365, -0.0833, -0.2039, -0.0646,\n",
              "                       0.1343,  0.1855, -0.1587,  0.2111, -0.0555, -0.0993,  0.0139, -0.2115,\n",
              "                      -0.1883, -0.0100, -0.2063, -0.0859, -0.1839,  0.1830, -0.1248, -0.1350,\n",
              "                       0.2194, -0.0134,  0.1364,  0.0403,  0.0094, -0.0916,  0.1087, -0.1920,\n",
              "                      -0.0595, -0.1997,  0.0136, -0.1964, -0.0783,  0.1349, -0.0342,  0.1691],\n",
              "                     device='cuda:0')),\n",
              "             ('lstm.weight_ih_l2_reverse',\n",
              "              tensor([[-0.0828,  0.1224, -0.1238,  ...,  0.1048,  0.0774, -0.0448],\n",
              "                      [ 0.1733, -0.1322,  0.2333,  ..., -0.1257,  0.1566, -0.0323],\n",
              "                      [-0.1688, -0.0757,  0.0302,  ...,  0.2112, -0.1474,  0.0486],\n",
              "                      ...,\n",
              "                      [-0.2421, -0.2138,  0.1959,  ...,  0.2269, -0.0399, -0.0077],\n",
              "                      [ 0.2015,  0.1654,  0.1769,  ..., -0.2499,  0.0626,  0.1231],\n",
              "                      [-0.1273,  0.1500, -0.0876,  ...,  0.2235,  0.0261,  0.0015]],\n",
              "                     device='cuda:0')),\n",
              "             ('lstm.weight_hh_l2_reverse',\n",
              "              tensor([[-0.1991, -0.0817, -0.1371,  ...,  0.2446,  0.2441,  0.0796],\n",
              "                      [-0.0070,  0.2076, -0.0800,  ..., -0.1852, -0.1623, -0.1293],\n",
              "                      [ 0.1626, -0.1610, -0.1820,  ...,  0.1256, -0.0434,  0.1630],\n",
              "                      ...,\n",
              "                      [-0.0778, -0.0757, -0.0829,  ..., -0.0034, -0.0527,  0.1473],\n",
              "                      [-0.0760,  0.0634, -0.2073,  ...,  0.1338, -0.1060, -0.0870],\n",
              "                      [-0.2194, -0.0736, -0.0505,  ..., -0.1015, -0.2423,  0.1705]],\n",
              "                     device='cuda:0')),\n",
              "             ('lstm.bias_ih_l2_reverse',\n",
              "              tensor([-0.2089, -0.1576, -0.1091,  0.1666,  0.0388,  0.0884,  0.2104, -0.1547,\n",
              "                       0.0124, -0.0894, -0.0212,  0.2336, -0.2211, -0.1990,  0.1896, -0.0352,\n",
              "                      -0.0265, -0.2202,  0.1570,  0.1901, -0.1106, -0.2068,  0.1629, -0.0080,\n",
              "                      -0.1739,  0.1790, -0.0379, -0.2164, -0.0653,  0.0688, -0.2215,  0.0548,\n",
              "                      -0.2449, -0.2459, -0.1722,  0.1920, -0.2436,  0.1798, -0.2347, -0.2341,\n",
              "                      -0.2076, -0.2252,  0.0743,  0.0679,  0.1835,  0.0458, -0.0975,  0.2257,\n",
              "                       0.0209, -0.1939,  0.0851, -0.0740,  0.2068,  0.1505, -0.0954,  0.0407,\n",
              "                       0.0895, -0.2026, -0.0936, -0.0937,  0.2235, -0.0944, -0.1987,  0.0107],\n",
              "                     device='cuda:0')),\n",
              "             ('lstm.bias_hh_l2_reverse',\n",
              "              tensor([ 0.2430, -0.1527, -0.1853, -0.0302, -0.1795, -0.1259, -0.1966, -0.0031,\n",
              "                      -0.2453, -0.1787,  0.0340,  0.1117,  0.0594,  0.0020,  0.1962,  0.1874,\n",
              "                       0.0950,  0.0413,  0.0153,  0.2160, -0.0770, -0.0438, -0.0219,  0.1031,\n",
              "                       0.0743, -0.0553, -0.1107, -0.0551, -0.1697,  0.0561,  0.0817,  0.1924,\n",
              "                       0.1820,  0.1780, -0.1565,  0.0328,  0.2354, -0.1109, -0.2189, -0.0712,\n",
              "                      -0.0135,  0.1010, -0.1213,  0.0540, -0.0228, -0.1896, -0.1289,  0.1821,\n",
              "                      -0.0599, -0.0855,  0.1191, -0.2397, -0.0963, -0.1664,  0.1872, -0.1219,\n",
              "                       0.0625,  0.0615,  0.0881, -0.1057,  0.1233,  0.0852, -0.0347, -0.0562],\n",
              "                     device='cuda:0')),\n",
              "             ('fc_layers.0.weight',\n",
              "              tensor([[ 0.0918,  0.0659,  0.1453,  ..., -0.1346, -0.1188,  0.0098],\n",
              "                      [-0.1398, -0.0530, -0.1449,  ...,  0.1753,  0.1306, -0.1464],\n",
              "                      [ 0.1765,  0.1679,  0.1524,  ..., -0.0962, -0.0229,  0.0430],\n",
              "                      ...,\n",
              "                      [-0.1513, -0.0147, -0.1416,  ...,  0.0124,  0.0328,  0.0450],\n",
              "                      [ 0.0023,  0.0415, -0.0118,  ...,  0.1180, -0.1595, -0.0095],\n",
              "                      [-0.1547,  0.1526,  0.0917,  ..., -0.0183, -0.1559, -0.0008]],\n",
              "                     device='cuda:0')),\n",
              "             ('fc_layers.0.bias',\n",
              "              tensor([ 0.0097,  0.1702,  0.0810, -0.1408,  0.1596,  0.0609,  0.1705, -0.0309,\n",
              "                      -0.0687, -0.0179,  0.0593, -0.1383, -0.0140,  0.0216,  0.1230,  0.0319,\n",
              "                      -0.0219, -0.1460, -0.0692, -0.0628, -0.1004, -0.0933, -0.1116,  0.1204,\n",
              "                      -0.1261, -0.1478,  0.1300,  0.1593, -0.1301,  0.0305,  0.1700,  0.0707,\n",
              "                       0.0377, -0.1632, -0.1332,  0.1095,  0.0694, -0.1631,  0.0166,  0.0198,\n",
              "                      -0.0592, -0.0806, -0.0202,  0.0456,  0.0047,  0.0298,  0.0753,  0.0602,\n",
              "                      -0.1543,  0.0101,  0.0913, -0.0025,  0.1456,  0.0157, -0.1097, -0.1458,\n",
              "                      -0.1009,  0.0421, -0.1298, -0.1413, -0.0946,  0.1084, -0.0430, -0.0682,\n",
              "                      -0.0629,  0.1607,  0.1163, -0.1664, -0.0105, -0.0744,  0.1057, -0.0196,\n",
              "                       0.1299, -0.0273,  0.1726,  0.0703, -0.0372, -0.0874,  0.0279,  0.0160,\n",
              "                      -0.1335, -0.0964, -0.0555,  0.0648,  0.1220,  0.1388,  0.0405,  0.0546,\n",
              "                      -0.0450, -0.1763, -0.0276, -0.0718,  0.1444,  0.1582, -0.0886,  0.0695,\n",
              "                      -0.0198,  0.1636, -0.0330,  0.0563, -0.1245,  0.0046,  0.1269,  0.0215,\n",
              "                       0.1248, -0.1659,  0.0206, -0.0201, -0.0169, -0.1523,  0.0400,  0.1597,\n",
              "                       0.0653,  0.1125, -0.0643,  0.0523,  0.1537, -0.0678,  0.0751, -0.1194,\n",
              "                      -0.0636, -0.1028, -0.0715,  0.0911, -0.1563, -0.1175, -0.1478,  0.1147],\n",
              "                     device='cuda:0')),\n",
              "             ('fc_layers.2.weight',\n",
              "              tensor([[-0.0575,  0.0367,  0.0195,  ..., -0.0831,  0.0401, -0.0260],\n",
              "                      [ 0.0212,  0.0019,  0.0693,  ..., -0.0883, -0.0710,  0.0684],\n",
              "                      [-0.0199, -0.0745, -0.0846,  ..., -0.0491,  0.0213, -0.0113],\n",
              "                      ...,\n",
              "                      [ 0.0288, -0.0149, -0.0489,  ...,  0.0192, -0.0521,  0.0438],\n",
              "                      [-0.0305, -0.0041,  0.0348,  ..., -0.0193, -0.0329,  0.0821],\n",
              "                      [-0.0217,  0.0614,  0.0108,  ..., -0.0027, -0.0295, -0.0659]],\n",
              "                     device='cuda:0')),\n",
              "             ('fc_layers.2.bias',\n",
              "              tensor([ 2.5104e-02,  7.6697e-03, -7.1386e-02,  7.5667e-02,  7.5212e-02,\n",
              "                       8.0828e-03, -5.0262e-02, -5.7655e-02,  7.9026e-02, -8.7371e-02,\n",
              "                       5.3095e-02, -6.9606e-05, -1.4516e-02, -6.4906e-02,  1.3824e-02,\n",
              "                      -3.3077e-03,  3.4213e-02,  5.7280e-02,  7.9336e-04, -7.2432e-02,\n",
              "                       6.9784e-03,  3.6221e-02,  3.2930e-02,  3.2867e-02, -1.1483e-03,\n",
              "                      -8.2183e-02,  2.2215e-02,  2.4350e-02,  7.5024e-03, -5.8711e-02,\n",
              "                      -3.2737e-02,  1.5043e-02, -9.8806e-03,  7.9101e-02, -8.4424e-02,\n",
              "                      -3.1820e-02, -3.1594e-02,  7.6185e-02,  5.2647e-02,  8.4989e-03,\n",
              "                       8.2254e-04,  7.6157e-02, -2.4038e-02, -6.1061e-02, -5.3088e-03,\n",
              "                       3.6849e-02, -8.5157e-03,  1.8195e-02,  3.1527e-02,  7.1390e-02,\n",
              "                       7.5391e-02, -1.3952e-02, -8.1020e-02,  3.6411e-02,  8.3883e-02,\n",
              "                       4.0715e-02,  8.5801e-03,  2.1706e-02, -6.3408e-02,  4.6389e-02,\n",
              "                       1.0592e-02,  6.6022e-02,  7.4267e-02, -8.7381e-02], device='cuda:0')),\n",
              "             ('fc_layers.4.weight',\n",
              "              tensor([[-7.4616e-02, -2.2822e-02,  1.1264e-01, -7.1849e-02, -1.1858e-01,\n",
              "                        1.0232e-01,  8.1852e-02, -7.7772e-02, -1.2406e-01,  1.2329e-01,\n",
              "                        1.0030e-01, -2.2811e-02, -1.1322e-01,  1.0774e-01,  8.8320e-02,\n",
              "                        6.9635e-02, -5.8757e-02,  1.5233e-02,  9.6582e-02,  1.4743e-02,\n",
              "                        7.8248e-02, -1.1452e-01,  6.7032e-02, -1.0670e-01, -1.2184e-01,\n",
              "                       -5.9951e-02,  1.3822e-02, -3.9521e-02, -6.7095e-02, -3.9114e-02,\n",
              "                       -3.0930e-02, -1.1110e-01, -5.1504e-02,  1.1258e-02,  1.1321e-01,\n",
              "                       -2.9417e-02,  9.7388e-02,  1.0793e-01,  4.1162e-02,  1.1400e-01,\n",
              "                        5.3486e-03, -1.1307e-01, -2.5885e-02, -5.6605e-02, -3.1456e-02,\n",
              "                        9.2575e-02,  7.9344e-02,  4.1835e-02, -9.6120e-02, -3.9185e-03,\n",
              "                        8.7832e-02, -1.8287e-02,  2.0012e-02, -1.0476e-01, -1.3574e-02,\n",
              "                        5.8905e-02, -3.7620e-02, -2.9722e-02,  5.0171e-02,  7.8151e-02,\n",
              "                        6.9123e-02, -7.5399e-02,  4.6842e-02, -2.8067e-02],\n",
              "                      [-8.4217e-02, -3.7627e-02,  8.2768e-02, -8.7120e-02, -7.6657e-02,\n",
              "                        5.2750e-02, -6.0148e-02, -9.5608e-02,  2.3495e-03, -3.3534e-02,\n",
              "                        7.2525e-02,  1.0966e-01, -1.8816e-02,  3.9871e-02,  2.2811e-02,\n",
              "                       -9.2106e-02,  1.0819e-01,  4.7921e-02, -3.7994e-02, -4.3815e-02,\n",
              "                        8.3853e-02, -5.8155e-02, -6.9698e-03, -1.0958e-01, -2.2221e-02,\n",
              "                        9.0337e-02,  2.6688e-03, -1.2318e-01,  5.5224e-02, -9.3582e-02,\n",
              "                       -1.3355e-02,  6.8960e-02, -6.7411e-02, -9.8108e-03, -1.0508e-01,\n",
              "                        8.0921e-02, -1.1068e-01,  1.1794e-02,  2.9759e-02,  4.4420e-02,\n",
              "                       -4.3114e-02,  3.1036e-02, -2.2623e-02, -7.8954e-02,  8.5199e-02,\n",
              "                        2.9904e-04, -9.3044e-02,  8.8977e-02, -3.3110e-02,  6.3147e-02,\n",
              "                       -1.3464e-02,  1.2386e-01, -1.1754e-01,  1.0907e-01, -1.0966e-01,\n",
              "                       -5.0665e-03,  8.8212e-02,  1.5439e-03, -1.0439e-01,  2.0533e-02,\n",
              "                        3.0051e-02, -9.8857e-02, -4.6684e-02, -5.8221e-02],\n",
              "                      [ 1.6928e-02,  1.1762e-01, -1.2409e-01, -1.2191e-01,  3.7920e-02,\n",
              "                       -1.0065e-01,  1.3937e-02, -1.0413e-01, -2.2209e-02,  6.5994e-02,\n",
              "                       -9.7005e-02, -7.2141e-02,  1.2275e-01, -1.0415e-01,  1.2085e-01,\n",
              "                        4.2289e-02, -6.8436e-03, -6.8515e-02,  1.2014e-01,  3.8078e-02,\n",
              "                        8.7397e-02, -1.2142e-01,  5.4006e-02, -4.1913e-02, -1.2078e-01,\n",
              "                       -1.0275e-01,  2.1589e-02,  5.9310e-02,  2.3521e-02,  4.6650e-03,\n",
              "                        4.2895e-02,  2.3491e-02, -6.8188e-02, -1.1969e-01, -1.6958e-05,\n",
              "                       -7.4555e-02, -4.8271e-02,  3.7952e-02, -4.2713e-02,  4.0226e-02,\n",
              "                       -3.9367e-02, -7.4223e-02, -3.1323e-02, -2.0964e-02,  6.3767e-02,\n",
              "                       -3.4759e-02, -1.3231e-02,  7.8938e-02, -5.5088e-02,  2.7792e-02,\n",
              "                        3.0196e-02, -9.7297e-02, -1.1612e-01, -1.0254e-01, -6.9992e-02,\n",
              "                       -6.4711e-02,  9.3468e-02,  1.0311e-01, -1.3370e-02, -4.2072e-02,\n",
              "                        2.3130e-02,  1.0762e-01,  5.4581e-03,  1.4983e-03],\n",
              "                      [-7.8824e-02,  5.5719e-02,  5.2322e-02, -4.5078e-02,  9.4505e-02,\n",
              "                        8.7423e-02,  9.4020e-02, -7.6465e-02, -3.3218e-02, -2.6716e-02,\n",
              "                        9.1719e-02, -4.0597e-02, -8.1624e-02,  8.3727e-02, -1.2364e-01,\n",
              "                       -5.0303e-02,  2.3740e-02, -4.6671e-03, -3.6143e-02, -5.5520e-02,\n",
              "                       -2.6385e-02, -1.1167e-01,  4.1536e-02, -4.8372e-02,  1.5618e-02,\n",
              "                        8.9441e-02, -1.1968e-01,  1.1787e-01, -1.1103e-01,  9.8245e-02,\n",
              "                        1.0573e-01, -8.0375e-02, -2.7283e-02,  2.3256e-02,  7.1496e-02,\n",
              "                        9.4173e-02, -5.5955e-02,  5.9795e-02,  9.8558e-02,  7.1668e-02,\n",
              "                       -5.1956e-02, -1.0019e-01,  1.0315e-01, -8.1211e-02,  4.3663e-02,\n",
              "                        6.9746e-02, -7.0797e-02,  5.8167e-02, -1.1272e-02,  4.6425e-02,\n",
              "                       -9.8791e-02,  7.5813e-02, -1.2215e-01,  7.6999e-02, -1.0482e-01,\n",
              "                        2.8451e-02,  3.4528e-02, -7.5152e-02, -4.4508e-02,  1.2435e-01,\n",
              "                        6.5108e-02, -5.1179e-02, -7.3737e-02, -1.2962e-02],\n",
              "                      [ 5.5873e-02,  8.1429e-02, -1.0919e-01,  6.8298e-02,  1.0312e-01,\n",
              "                        7.0757e-02, -6.0345e-02, -3.3543e-02,  3.5185e-02,  1.6593e-02,\n",
              "                        9.7982e-02,  7.5901e-02, -3.8748e-02, -1.1564e-01, -8.2202e-02,\n",
              "                        2.8025e-02, -7.5529e-02,  5.8127e-02, -1.0859e-01,  7.5337e-02,\n",
              "                       -9.6767e-02, -1.6201e-02,  7.0347e-02, -3.4933e-02, -1.1994e-02,\n",
              "                       -1.0329e-01,  6.0890e-02,  1.0410e-01,  6.7059e-02,  8.1607e-02,\n",
              "                        4.2847e-02,  1.1576e-01, -3.1918e-02, -1.0186e-01, -3.0933e-02,\n",
              "                        1.1692e-01, -3.3143e-02,  8.4301e-02, -1.8257e-02,  5.6760e-02,\n",
              "                       -4.1120e-02, -1.1830e-01, -8.7660e-02,  8.9934e-03, -1.2118e-01,\n",
              "                       -4.7433e-02, -3.6328e-02, -6.4630e-02, -2.9400e-02,  1.1873e-01,\n",
              "                       -3.8714e-02, -7.0452e-02,  1.4758e-02, -1.1877e-01, -1.2446e-02,\n",
              "                        9.5339e-02,  1.1754e-01, -1.1816e-01,  1.0685e-01,  1.0498e-01,\n",
              "                        1.6913e-02, -8.8455e-02,  6.2136e-02, -3.1136e-02],\n",
              "                      [ 1.1600e-01,  1.1635e-01,  2.7070e-02, -9.8417e-02, -1.2321e-01,\n",
              "                        1.3260e-03,  6.2338e-02, -7.1918e-02, -6.3075e-02, -8.7644e-02,\n",
              "                        5.2994e-02, -9.6827e-02,  2.1295e-02, -3.1202e-02,  5.7307e-03,\n",
              "                       -7.8094e-02, -5.7754e-02,  1.1299e-01,  7.8424e-02,  1.1732e-01,\n",
              "                        2.8193e-02, -6.7745e-02,  8.3883e-02,  6.8014e-02, -1.0177e-01,\n",
              "                       -4.1707e-02, -7.9708e-02,  1.1535e-02, -3.1603e-02,  2.0930e-03,\n",
              "                        5.0650e-02,  4.8733e-03,  6.1145e-03,  2.7976e-02, -2.8750e-02,\n",
              "                        5.3325e-02, -9.9875e-02,  5.2433e-02, -6.5385e-02,  3.6041e-02,\n",
              "                       -4.9055e-02, -9.6424e-02, -1.0229e-01, -1.1384e-01,  5.7310e-02,\n",
              "                       -1.3616e-02,  1.2432e-01, -8.0076e-02,  1.0660e-01,  7.6129e-02,\n",
              "                       -9.0546e-02,  4.5446e-02,  1.4710e-02,  3.0919e-02,  6.6646e-02,\n",
              "                       -2.9169e-02, -3.5557e-02,  2.9367e-02,  1.1142e-01,  1.7943e-03,\n",
              "                       -5.5546e-02,  1.1838e-01, -7.6379e-02, -9.1169e-02],\n",
              "                      [-4.8911e-03, -9.9793e-02, -1.4798e-02, -9.3746e-02,  9.5709e-02,\n",
              "                        6.9251e-02,  3.0546e-02, -2.3553e-03, -1.9383e-02,  2.5533e-02,\n",
              "                        1.0684e-01,  8.1824e-02,  7.6977e-02, -1.0277e-01, -2.4442e-03,\n",
              "                       -6.7380e-02, -7.7371e-02,  5.7778e-02, -1.8129e-02, -6.3127e-02,\n",
              "                        6.5280e-02, -9.4060e-02, -2.5384e-02, -1.4877e-02,  4.9018e-02,\n",
              "                        3.8256e-02,  3.2034e-02,  1.1454e-01,  3.3765e-02,  4.6888e-02,\n",
              "                       -1.4557e-02, -4.8601e-02, -8.3206e-02,  4.7078e-02,  1.0240e-01,\n",
              "                        5.4389e-02, -7.8695e-02, -4.6466e-02, -1.3224e-02, -9.6066e-02,\n",
              "                       -8.5400e-02, -8.7460e-02, -7.3105e-03,  3.8457e-02,  1.1415e-01,\n",
              "                       -9.4973e-03,  1.2307e-01, -6.9426e-02, -1.0325e-01,  7.2767e-02,\n",
              "                        3.6525e-02, -1.1009e-01, -1.1110e-01, -2.5177e-02, -8.4478e-02,\n",
              "                       -8.0390e-03, -9.7983e-02, -8.1004e-02,  7.6514e-02, -1.0485e-01,\n",
              "                       -5.3262e-02, -1.0010e-01, -9.1095e-03,  6.0697e-02],\n",
              "                      [-7.7505e-02,  1.3427e-02,  4.7732e-02,  7.7451e-02, -3.5102e-02,\n",
              "                       -1.9828e-02,  1.1156e-01,  6.8452e-02, -1.7144e-02, -5.1278e-04,\n",
              "                        7.0591e-04,  6.0295e-02,  1.5559e-02, -6.6994e-02, -4.3027e-02,\n",
              "                       -1.0436e-01, -1.1268e-01, -2.0129e-02, -4.0266e-02, -7.7184e-02,\n",
              "                        2.7085e-02,  2.2166e-02, -1.0109e-04, -1.0805e-01,  3.0249e-02,\n",
              "                        1.1100e-01,  1.4848e-02, -1.0695e-01, -1.0755e-01, -2.8924e-02,\n",
              "                        6.6055e-02, -8.7364e-03,  6.1899e-03,  7.0560e-02, -6.8527e-02,\n",
              "                       -7.8472e-02,  9.1682e-03, -5.7178e-02, -6.2926e-02,  5.7136e-02,\n",
              "                        2.4674e-02,  4.3205e-02, -6.0750e-02,  1.6651e-02,  3.7708e-02,\n",
              "                        3.4576e-02,  9.9220e-03, -9.2289e-02, -8.0504e-02,  1.1006e-01,\n",
              "                        5.1919e-02, -8.0772e-02,  5.1588e-02,  1.0616e-01,  8.0312e-02,\n",
              "                        2.5152e-02, -8.2275e-02, -8.1475e-02, -2.5711e-02, -1.1972e-01,\n",
              "                       -5.9133e-02,  3.5870e-02, -5.8848e-02, -7.0332e-02],\n",
              "                      [-3.0214e-02,  8.3129e-02,  3.1402e-02,  1.0195e-01,  7.7213e-02,\n",
              "                        1.6014e-02, -3.3508e-02, -1.5082e-02, -8.6696e-02,  7.8838e-02,\n",
              "                       -1.1714e-01, -1.0917e-01,  6.2273e-02, -4.1831e-02,  5.0683e-02,\n",
              "                       -2.5528e-02,  8.5154e-02, -2.2749e-02, -1.2001e-01, -3.1846e-02,\n",
              "                       -1.0107e-01, -1.1387e-01, -6.2969e-02, -4.8446e-02, -5.7145e-02,\n",
              "                       -1.1832e-01, -1.2023e-01,  2.1223e-02,  7.6092e-02,  1.0574e-01,\n",
              "                        1.0402e-02, -1.0755e-01, -3.4003e-02, -7.8709e-02,  5.2792e-02,\n",
              "                        3.6314e-02, -2.2019e-02, -7.2131e-02, -1.9296e-02,  7.7100e-02,\n",
              "                        1.0576e-01,  1.6558e-02,  2.8398e-02,  1.4534e-02, -2.7670e-02,\n",
              "                       -8.9385e-02, -8.7902e-02,  3.8501e-02,  1.1975e-01,  1.0976e-01,\n",
              "                       -3.0577e-02,  9.8524e-02,  5.6266e-02,  3.6413e-02, -5.1647e-02,\n",
              "                        6.1244e-02, -6.2887e-02,  2.6882e-02,  7.7148e-02,  7.6978e-02,\n",
              "                       -7.3453e-02, -8.5917e-02, -6.9064e-02,  1.2366e-01],\n",
              "                      [-4.7479e-02, -8.9476e-02, -1.1484e-01,  9.5452e-02, -9.1377e-02,\n",
              "                       -7.0296e-02, -8.7117e-02,  5.0056e-03,  6.8195e-02, -1.1449e-01,\n",
              "                        1.0812e-01, -1.0713e-01, -1.0050e-01,  1.0746e-01,  8.2633e-02,\n",
              "                        1.5553e-02, -9.9740e-02,  5.9288e-02, -1.2132e-01,  1.4929e-02,\n",
              "                       -7.7786e-02, -1.1421e-01,  4.8470e-02,  1.1875e-01, -2.4269e-02,\n",
              "                       -2.1719e-02, -5.1107e-02, -1.1354e-01,  4.4354e-02, -6.9253e-02,\n",
              "                        2.0310e-02,  5.0091e-02, -8.9409e-02, -1.0725e-01,  1.1335e-03,\n",
              "                        3.7076e-02, -1.4705e-02, -9.5752e-03, -6.0945e-03, -6.1806e-02,\n",
              "                        1.0632e-01, -8.0855e-02, -7.0977e-02, -7.7945e-03,  3.3134e-02,\n",
              "                        5.4261e-02,  2.7724e-02, -5.8265e-02,  5.9596e-02,  3.3697e-03,\n",
              "                        5.3294e-02, -7.7873e-03,  4.6898e-02, -1.2020e-02,  3.5530e-02,\n",
              "                        1.0730e-01, -4.1205e-02, -1.1842e-01, -6.3228e-02,  1.1071e-01,\n",
              "                        1.1345e-01,  4.3898e-02,  1.3771e-02, -4.2535e-02]], device='cuda:0')),\n",
              "             ('fc_layers.4.bias',\n",
              "              tensor([-0.0919, -0.0817,  0.0150,  0.0598, -0.0001, -0.0297, -0.0539, -0.0223,\n",
              "                      -0.0533, -0.0387], device='cuda:0'))])"
            ]
          },
          "metadata": {},
          "execution_count": 9
        }
      ]
    },
    {
      "cell_type": "code",
      "execution_count": 10,
      "metadata": {
        "id": "3w9QW9Lfp1aV",
        "colab": {
          "base_uri": "https://localhost:8080/"
        },
        "outputId": "ce82efc8-e520-4c85-df6e-a5802c6897b6"
      },
      "outputs": [
        {
          "output_type": "execute_result",
          "data": {
            "text/plain": [
              "LSTM_Model_label(\n",
              "  (lstm): LSTM(41, 16, num_layers=3, batch_first=True, bidirectional=True)\n",
              "  (fc_layers): Sequential(\n",
              "    (0): Linear(in_features=32, out_features=128, bias=True)\n",
              "    (1): Tanh()\n",
              "    (2): Linear(in_features=128, out_features=64, bias=True)\n",
              "    (3): Sigmoid()\n",
              "    (4): Linear(in_features=64, out_features=2, bias=True)\n",
              "  )\n",
              ")"
            ]
          },
          "metadata": {},
          "execution_count": 10
        }
      ],
      "source": [
        "my_model_label = LSTM_Model_label(num_classes_label, input_size, hidden_size, num_layers).to(device=device)\n",
        "my_model_label"
      ]
    },
    {
      "cell_type": "markdown",
      "metadata": {
        "id": "Cey1CId-jjis"
      },
      "source": [
        "# **optimizer and loss function**"
      ]
    },
    {
      "cell_type": "code",
      "execution_count": 11,
      "metadata": {
        "id": "WNuQFMAekNDH"
      },
      "outputs": [],
      "source": [
        "loss_fn1 = nn.CrossEntropyLoss().to(device=device)\n",
        "loss_fn2 = nn.CrossEntropyLoss().to(device=device)\n",
        "optimizer1 = opt.Adam(params=my_model_attack.parameters(),lr=learning_rate)\n",
        "optimizer2 = opt.Adam(params=my_model_label.parameters(),lr=learning_rate)"
      ]
    },
    {
      "cell_type": "markdown",
      "metadata": {
        "id": "4JYcovfYlpHM"
      },
      "source": [
        "# **train attack cat**"
      ]
    },
    {
      "cell_type": "code",
      "execution_count": 12,
      "metadata": {
        "id": "Qmw8w1eTkeBu",
        "colab": {
          "base_uri": "https://localhost:8080/"
        },
        "outputId": "5494539d-1992-4d9f-bd6a-1d97ee19883e"
      },
      "outputs": [
        {
          "output_type": "stream",
          "name": "stdout",
          "text": [
            "Epoch: 0, loss: 1.4523\n",
            "Epoch: 50, loss: 0.4883\n",
            "Epoch: 100, loss: 0.4841\n",
            "Epoch: 150, loss: 0.4878\n",
            "Epoch: 200, loss: 0.4202\n",
            "Epoch: 250, loss: 0.4077\n",
            "Epoch: 300, loss: 0.4299\n",
            "Epoch: 350, loss: 0.4994\n",
            "Epoch: 400, loss: 0.3856\n",
            "Epoch: 450, loss: 0.4176\n",
            "Epoch: 500, loss: 0.4227\n"
          ]
        }
      ],
      "source": [
        "for epoch in range(num_epoch+1):\n",
        "\n",
        "    for batch_x, batch_y in train_attack_cat_dataloader:\n",
        "\n",
        "        batch_x = torch.reshape(batch_x, (batch_x.shape[0], 1, batch_x.shape[1])) #RuntimeError: For unbatched 2-D input, hx and cx should also be 2-D but got (3-D, 3-D) tensors\n",
        "        \n",
        "        batch_x = batch_x.to(device)\n",
        "        batch_y = batch_y.to(device)\n",
        "\n",
        "        optimizer1.zero_grad()\n",
        "        loss1 = loss_fn1(my_model_attack(batch_x) , batch_y)\n",
        "        loss1.backward() \n",
        "        optimizer1.step()\n",
        "\n",
        "    if epoch % 50 == 0:\n",
        "         print(\"Epoch: %d, loss: %.4f\" % (epoch, loss1.item())) "
      ]
    },
    {
      "cell_type": "markdown",
      "metadata": {
        "id": "PQaRCMJPls5N"
      },
      "source": [
        "# **test attack cat**"
      ]
    },
    {
      "cell_type": "code",
      "execution_count": 13,
      "metadata": {
        "id": "QrtYzVT4loMQ",
        "colab": {
          "base_uri": "https://localhost:8080/"
        },
        "outputId": "55c2cc6a-0344-416a-ab4c-39cf12ed792c"
      },
      "outputs": [
        {
          "output_type": "stream",
          "name": "stdout",
          "text": [
            "acc : 82.09%\n"
          ]
        }
      ],
      "source": [
        "correct = 0\n",
        "\n",
        "for batch_x, labl in test_attack_cat_dataloader:\n",
        "  \n",
        "    batch_x = torch.reshape(batch_x, (batch_x.shape[0], 1, batch_x.shape[1])) #RuntimeError: For unbatched 2-D input, hx and cx should also be 2-D but got (3-D, 3-D) tensors\n",
        "  \n",
        "    batch_x = batch_x.to(device)\n",
        "    labl = labl.to(device)\n",
        "\n",
        "    out = my_model_attack(batch_x)\n",
        "    _,predicted = torch.max(out,1)\n",
        "    correct += torch.sum(predicted == labl)\n",
        "\n",
        "print(\"acc : %.2f\" % (100.*correct / len(test_attack_cat)),end=\"\")\n",
        "print(\"%\")"
      ]
    },
    {
      "cell_type": "markdown",
      "metadata": {
        "id": "pLqOLtA6tQht"
      },
      "source": [
        "# **train label**"
      ]
    },
    {
      "cell_type": "code",
      "execution_count": 14,
      "metadata": {
        "id": "Xm1cu1GhtMJO",
        "colab": {
          "base_uri": "https://localhost:8080/"
        },
        "outputId": "14c9d44f-0d9b-4379-d240-97b2fb11e3f6"
      },
      "outputs": [
        {
          "output_type": "stream",
          "name": "stdout",
          "text": [
            "Epoch: 0, loss: 0.3539\n",
            "Epoch: 50, loss: 0.1461\n",
            "Epoch: 100, loss: 0.1175\n",
            "Epoch: 150, loss: 0.1443\n",
            "Epoch: 200, loss: 0.0945\n",
            "Epoch: 250, loss: 0.1073\n",
            "Epoch: 300, loss: 0.1072\n",
            "Epoch: 350, loss: 0.0975\n",
            "Epoch: 400, loss: 0.1263\n",
            "Epoch: 450, loss: 0.0884\n",
            "Epoch: 500, loss: 0.0809\n"
          ]
        }
      ],
      "source": [
        "for epoch in range(num_epoch+1):\n",
        "\n",
        "    for batch_x, batch_y in train_label_dataloader:\n",
        "\n",
        "        batch_x = torch.reshape(batch_x, (batch_x.shape[0], 1, batch_x.shape[1])) #RuntimeError: For unbatched 2-D input, hx and cx should also be 2-D but got (3-D, 3-D) tensors\n",
        "        \n",
        "        batch_x = batch_x.to(device)\n",
        "        batch_y = batch_y.to(device)\n",
        "\n",
        "        optimizer2.zero_grad()\n",
        "        loss2 = loss_fn2(my_model_label(batch_x) , batch_y)\n",
        "        loss2.backward() \n",
        "        optimizer2.step()\n",
        "\n",
        "    if epoch % 50 == 0:\n",
        "         print(\"Epoch: %d, loss: %.4f\" % (epoch, loss2.item())) "
      ]
    },
    {
      "cell_type": "markdown",
      "metadata": {
        "id": "Ig7VBqU0tfZd"
      },
      "source": [
        "# **test label**"
      ]
    },
    {
      "cell_type": "code",
      "execution_count": 15,
      "metadata": {
        "id": "a7u2bQ0WtiG2",
        "colab": {
          "base_uri": "https://localhost:8080/"
        },
        "outputId": "98c09f3c-8e48-4af1-b7a1-7b76f9296bbf"
      },
      "outputs": [
        {
          "output_type": "stream",
          "name": "stdout",
          "text": [
            "acc : 93.63%\n"
          ]
        }
      ],
      "source": [
        "correct = 0\n",
        "\n",
        "for batch_x, labl in test_label_dataloader:\n",
        "\n",
        "    batch_x = torch.reshape(batch_x, (batch_x.shape[0], 1, batch_x.shape[1])) #RuntimeError: For unbatched 2-D input, hx and cx should also be 2-D but got (3-D, 3-D) tensors\n",
        "\n",
        "    batch_x = batch_x.to(device)\n",
        "    labl = labl.to(device)\n",
        "  \n",
        "    out = my_model_label(batch_x)\n",
        "    _,predicted = torch.max(out,1)\n",
        "    correct += torch.sum(predicted == labl)\n",
        "\n",
        "print(\"acc : %.2f\" % (100.*correct / len(test_label)),end=\"\")\n",
        "print(\"%\")"
      ]
    }
  ],
  "metadata": {
    "accelerator": "GPU",
    "colab": {
      "collapsed_sections": [],
      "provenance": []
    },
    "gpuClass": "standard",
    "kernelspec": {
      "display_name": "Python 3",
      "name": "python3"
    },
    "language_info": {
      "name": "python"
    }
  },
  "nbformat": 4,
  "nbformat_minor": 0
}