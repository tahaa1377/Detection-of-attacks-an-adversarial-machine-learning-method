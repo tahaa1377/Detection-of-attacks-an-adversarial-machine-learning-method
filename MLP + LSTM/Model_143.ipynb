{
  "cells": [
    {
      "cell_type": "code",
      "execution_count": 1,
      "metadata": {
        "id": "Ff1b4PxtBQuc"
      },
      "outputs": [],
      "source": [
        "num_epoch = 500      \n",
        "learning_rate = 0.002\n",
        "batch_size = 2000\n",
        "\n",
        "hidden_size = 64 #number of features in hidden state\n",
        "num_layers = 2  #number of stacked lstm layers\n",
        "bidirectional = True\n",
        "drop_out = 0.5\n",
        "bidirectional_forward_backward = 2 if bidirectional else 1\n",
        "\n",
        "input_size = 41 #number of features\n",
        "num_classes_attack_cat = 10 #number of output classes \n",
        "num_classes_label = 2       #number of output classes \n",
        "\n",
        "hyper_parameter1=128\n",
        "hyper_parameter2=64"
      ]
    },
    {
      "cell_type": "code",
      "source": [
        "from google.colab import drive\n",
        "drive.mount('/content/drive')"
      ],
      "metadata": {
        "colab": {
          "base_uri": "https://localhost:8080/"
        },
        "id": "0Gua0hky6SDJ",
        "outputId": "4db37f0b-598b-4903-89e5-3082afbd6445"
      },
      "execution_count": 2,
      "outputs": [
        {
          "output_type": "stream",
          "name": "stdout",
          "text": [
            "Mounted at /content/drive\n"
          ]
        }
      ]
    },
    {
      "cell_type": "code",
      "execution_count": 3,
      "metadata": {
        "colab": {
          "base_uri": "https://localhost:8080/"
        },
        "id": "hZiaj4uT24DH",
        "outputId": "999d0c5e-196c-4ab0-c7d7-b6dacad9ce87"
      },
      "outputs": [
        {
          "output_type": "stream",
          "name": "stdout",
          "text": [
            "GPU\n"
          ]
        }
      ],
      "source": [
        "import pandas as pd\n",
        "from matplotlib import pyplot as plt\n",
        "import numpy as np\n",
        "from torch.utils.data.dataset import Dataset\n",
        "from torch.utils.data import random_split, DataLoader\n",
        "import torch\n",
        "from sklearn.preprocessing import LabelEncoder\n",
        "from sklearn import preprocessing\n",
        "import torch.nn as nn\n",
        "import torch.nn.functional as F\n",
        "import torch.optim as opt\n",
        "from torch.autograd import Variable \n",
        "\n",
        "# GPU OR CPU\n",
        "if torch.cuda.is_available():\n",
        "    device = torch.device(\"cuda:0\")\n",
        "    print(\"GPU\")\n",
        "else:\n",
        "    device = torch.device(\"cpu\")\n",
        "    print(\"CPU\")"
      ]
    },
    {
      "cell_type": "code",
      "execution_count": 4,
      "metadata": {
        "id": "Sv-R_m6Z1EL5"
      },
      "outputs": [],
      "source": [
        "class DataSet_UNSWNB15_attack_cat(Dataset):\n",
        "\n",
        "    def __init__(self,data_set_path):\n",
        "        df = pd.read_csv(data_set_path)\n",
        "        print(df.attack_cat.value_counts().sort_values().plot(kind = \"barh\"))\n",
        "        \n",
        "        # preprocceing\n",
        "        df.drop(['id',\"Unnamed: 0\",\"service\",\"label\"], axis=1, inplace=True)        \n",
        "        cols = ['attack_cat' ,'proto' ,'state']\n",
        "        df[cols] = df[cols].apply(LabelEncoder().fit_transform)\n",
        "\n",
        "        self.data_array = df.values\n",
        "        self.x = self.data_array[:, :41]\n",
        "        self.y = self.data_array[:, 41]\n",
        "      \n",
        "        # normalaized data\n",
        "        scaler = preprocessing.StandardScaler().fit(self.x)\n",
        "        self.x = scaler.transform(self.x)\n",
        "\n",
        "        self.x = torch.tensor(self.x).float()\n",
        "        self.y = torch.tensor(self.y).long()\n",
        "\n",
        "    def __len__(self):\n",
        "        return len(self.data_array)\n",
        "\n",
        "    def __getitem__(self, item):\n",
        "        sample = (self.x[item, :], self.y[item])\n",
        "        return sample\n",
        "\n",
        "        \n",
        "class DataSet_UNSWNB15_label(Dataset):\n",
        "\n",
        "    def __init__(self,data_set_path):\n",
        "        df = pd.read_csv(data_set_path)\n",
        "        print(df.label.value_counts().sort_values().plot(kind = \"pie\"))\n",
        "\n",
        "        # preprocceing\n",
        "        df.drop(['id',\"Unnamed: 0\",\"service\",\"attack_cat\"], axis=1, inplace=True)\n",
        "        cols = ['proto' ,'state']\n",
        "        df[cols] = df[cols].apply(LabelEncoder().fit_transform)\n",
        "\n",
        "        self.data_array = df.values\n",
        "        self.x = self.data_array[:, :41]\n",
        "        self.y = self.data_array[:, 41]\n",
        "        \n",
        "        # normalaized data\n",
        "        scaler = preprocessing.StandardScaler().fit(self.x)\n",
        "        self.x = scaler.transform(self.x)\n",
        "\n",
        "        self.x = torch.tensor(self.x).float()\n",
        "        self.y = torch.tensor(self.y).long()\n",
        "\n",
        "    def __len__(self):\n",
        "        return len(self.data_array)\n",
        "\n",
        "    def __getitem__(self, item):\n",
        "        sample = (self.x[item, :], self.y[item])\n",
        "        return sample"
      ]
    },
    {
      "cell_type": "code",
      "execution_count": 5,
      "metadata": {
        "colab": {
          "base_uri": "https://localhost:8080/",
          "height": 283
        },
        "id": "UykLrbQZ1R7K",
        "outputId": "ab03c325-144f-43c6-8ec9-2e48784ff3e5"
      },
      "outputs": [
        {
          "output_type": "stream",
          "name": "stdout",
          "text": [
            "AxesSubplot(0.125,0.125;0.775x0.755)\n"
          ]
        },
        {
          "output_type": "display_data",
          "data": {
            "text/plain": [
              "<Figure size 432x288 with 1 Axes>"
            ],
            "image/png": "[encoded data removed]"
          },
          "metadata": {
            "needs_background": "light"
          }
        }
      ],
      "source": [
        "dataset_attack_cat = DataSet_UNSWNB15_attack_cat(\"/content/drive/MyDrive/datasets/UNSW-NB15/UNSW_NB15.csv\")\n",
        "number_of_test = int(len(dataset_attack_cat)*0.3)\n",
        "number_of_train = len(dataset_attack_cat) - int(len(dataset_attack_cat)*0.3)\n",
        "train_attack_cat ,test_attack_cat = random_split(dataset=dataset_attack_cat, lengths=[number_of_train,number_of_test])\n",
        "\n",
        "train_attack_cat_dataloader = DataLoader(dataset=train_attack_cat ,batch_size=batch_size ,shuffle=True)\n",
        "test_attack_cat_dataloader = DataLoader(dataset=test_attack_cat ,batch_size=batch_size ,shuffle=True)"
      ]
    },
    {
      "cell_type": "code",
      "execution_count": 6,
      "metadata": {
        "colab": {
          "base_uri": "https://localhost:8080/",
          "height": 266
        },
        "id": "LmFY9Q-u29T3",
        "outputId": "71606856-9303-48bc-bd9e-1ddf4f284165"
      },
      "outputs": [
        {
          "output_type": "stream",
          "name": "stdout",
          "text": [
            "AxesSubplot(0.260833,0.125;0.503333x0.755)\n"
          ]
        },
        {
          "output_type": "display_data",
          "data": {
            "text/plain": [
              "<Figure size 432x288 with 1 Axes>"
            ],
            "image/png": "[encoded data removed]"
          },
          "metadata": {}
        }
      ],
      "source": [
        "dataset_label = DataSet_UNSWNB15_label(\"/content/drive/MyDrive/datasets/UNSW-NB15/UNSW_NB15.csv\")\n",
        "number_of_test = int(len(dataset_label)*0.3)\n",
        "number_of_train = len(dataset_label) - int(len(dataset_label)*0.3)\n",
        "train_label ,test_label = random_split(dataset=dataset_label, lengths=[number_of_train,number_of_test])\n",
        "\n",
        "train_label_dataloader = DataLoader(dataset=train_label ,batch_size=batch_size ,shuffle=True)\n",
        "test_label_dataloader = DataLoader(dataset=test_label ,batch_size=batch_size ,shuffle=True)"
      ]
    },
    {
      "cell_type": "markdown",
      "metadata": {
        "id": "0HslPLv2IOGd"
      },
      "source": [
        "# **preprocessing ended**\n",
        "\n",
        "# **create model**"
      ]
    },
    {
      "cell_type": "markdown",
      "source": [
        "![bilstm-1.webp](data:image/webp;base64,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)"
      ],
      "metadata": {
        "id": "F2hNvBs6qBQS"
      }
    },
    {
      "cell_type": "code",
      "execution_count": 7,
      "metadata": {
        "id": "oN6DuQbJibuE"
      },
      "outputs": [],
      "source": [
        "class LSTM_Model_attack(nn.Module):\n",
        "    def __init__(self, num_classes, input_size, hidden_size, num_layers):\n",
        "        super(LSTM_Model_attack, self).__init__()\n",
        "        self.num_classes = num_classes #number of classes\n",
        "        self.num_layers = num_layers #number of layers\n",
        "        self.input_size = input_size #input size\n",
        "        self.hidden_size = hidden_size #hidden state\n",
        "\n",
        "        self.lstm = nn.LSTM(input_size=input_size, hidden_size=hidden_size, num_layers=num_layers, batch_first=True,\n",
        "                            bidirectional=bidirectional, dropout=drop_out) #lstm\n",
        "\n",
        "        self.fc_layers = nn.Sequential(\n",
        "        nn.Linear(hidden_size * bidirectional_forward_backward, hyper_parameter1), \n",
        "        nn.Tanh(),\n",
        "        nn.Linear(hyper_parameter1, hyper_parameter2),\n",
        "        nn.Sigmoid(),\n",
        "        nn.Linear(hyper_parameter2, num_classes)\n",
        "        )\n",
        "    \n",
        "    def forward(self,x):\n",
        "                                                # 2 => forward and backward for bidirectional\n",
        "        h_0 = Variable(torch.zeros(self.num_layers * bidirectional_forward_backward, x.size(0), self.hidden_size)).to(device=device) #hidden state\n",
        "        c_0 = Variable(torch.zeros(self.num_layers * bidirectional_forward_backward, x.size(0), self.hidden_size)).to(device=device) #internal state\n",
        "\n",
        "        out, (hn, cn) = self.lstm(x, (h_0, c_0))\n",
        "        out = self.fc_layers(out[:, -1, :]) \n",
        "        return out\n",
        "\n",
        "\n",
        "class LSTM_Model_label(nn.Module):\n",
        "    def __init__(self, num_classes, input_size, hidden_size, num_layers):\n",
        "        super(LSTM_Model_label, self).__init__()\n",
        "        self.num_classes = num_classes #number of classes\n",
        "        self.num_layers = num_layers #number of layers\n",
        "        self.input_size = input_size #input size\n",
        "        self.hidden_size = hidden_size #hidden state\n",
        "\n",
        "        self.lstm = nn.LSTM(input_size=input_size, hidden_size=hidden_size, num_layers=num_layers, batch_first=True, \n",
        "                            bidirectional=bidirectional, dropout=drop_out) #lstm\n",
        "\n",
        "        self.fc_layers = nn.Sequential(\n",
        "        nn.Linear(hidden_size * bidirectional_forward_backward, hyper_parameter1), \n",
        "        nn.Tanh(),\n",
        "        nn.Linear(hyper_parameter1, hyper_parameter2),\n",
        "        nn.Sigmoid(),\n",
        "        nn.Linear(hyper_parameter2, num_classes)\n",
        "        )\n",
        "    \n",
        "    def forward(self,x):\n",
        "        h_0 = Variable(torch.zeros(self.num_layers * bidirectional_forward_backward, x.size(0), self.hidden_size)).to(device=device) #hidden state\n",
        "        c_0 = Variable(torch.zeros(self.num_layers * bidirectional_forward_backward, x.size(0), self.hidden_size)).to(device=device) #internal state\n",
        "\n",
        "        out, (hn, cn) = self.lstm(x, (h_0, c_0))\n",
        "        out = self.fc_layers(out[:, -1, :]) \n",
        "        return out\n"
      ]
    },
    {
      "cell_type": "code",
      "execution_count": 8,
      "metadata": {
        "id": "US8JfNI8j3zO",
        "colab": {
          "base_uri": "https://localhost:8080/"
        },
        "outputId": "27e7c3fb-e482-4d67-8aec-049ef38e8f38"
      },
      "outputs": [
        {
          "output_type": "execute_result",
          "data": {
            "text/plain": [
              "LSTM_Model_attack(\n",
              "  (lstm): LSTM(41, 64, num_layers=2, batch_first=True, dropout=0.5, bidirectional=True)\n",
              "  (fc_layers): Sequential(\n",
              "    (0): Linear(in_features=128, out_features=128, bias=True)\n",
              "    (1): Tanh()\n",
              "    (2): Linear(in_features=128, out_features=64, bias=True)\n",
              "    (3): Sigmoid()\n",
              "    (4): Linear(in_features=64, out_features=10, bias=True)\n",
              "  )\n",
              ")"
            ]
          },
          "metadata": {},
          "execution_count": 8
        }
      ],
      "source": [
        "my_model_attack = LSTM_Model_attack(num_classes_attack_cat, input_size, hidden_size, num_layers).to(device=device)\n",
        "my_model_attack"
      ]
    },
    {
      "cell_type": "code",
      "source": [
        "my_model_attack.state_dict()"
      ],
      "metadata": {
        "colab": {
          "base_uri": "https://localhost:8080/"
        },
        "id": "Dq8JkQZ9ukCs",
        "outputId": "0c83b457-3e11-4ac3-b17e-1b256cc191d4"
      },
      "execution_count": 9,
      "outputs": [
        {
          "output_type": "execute_result",
          "data": {
            "text/plain": [
              "OrderedDict([('lstm.weight_ih_l0',\n",
              "              tensor([[ 0.0856, -0.0234,  0.0736,  ...,  0.0382, -0.0072, -0.0556],\n",
              "                      [-0.0656, -0.0154,  0.1011,  ..., -0.0950,  0.0027,  0.0044],\n",
              "                      [-0.0912, -0.0970, -0.0443,  ...,  0.0812,  0.0968,  0.0196],\n",
              "                      ...,\n",
              "                      [-0.0076,  0.0749,  0.0027,  ...,  0.1055, -0.1208, -0.0034],\n",
              "                      [-0.0355, -0.1210,  0.0468,  ...,  0.0556,  0.0993,  0.1121],\n",
              "                      [-0.0517, -0.1058, -0.1057,  ..., -0.0846, -0.0931, -0.0485]],\n",
              "                     device='cuda:0')),\n",
              "             ('lstm.weight_hh_l0',\n",
              "              tensor([[-0.0251, -0.0906,  0.1099,  ...,  0.0509, -0.0420, -0.0156],\n",
              "                      [ 0.1147,  0.0674, -0.1082,  ...,  0.1125, -0.1175,  0.0677],\n",
              "                      [ 0.0159, -0.1106,  0.1071,  ..., -0.0677, -0.0728, -0.0779],\n",
              "                      ...,\n",
              "                      [-0.0222, -0.0842,  0.0307,  ..., -0.0414,  0.0264, -0.0726],\n",
              "                      [ 0.0154,  0.1147, -0.0965,  ...,  0.1087, -0.0292,  0.0340],\n",
              "                      [ 0.0173,  0.0538,  0.0431,  ...,  0.0575, -0.0327,  0.0929]],\n",
              "                     device='cuda:0')),\n",
              "             ('lstm.bias_ih_l0',\n",
              "              tensor([-0.1123,  0.0887, -0.1219, -0.0348, -0.0415,  0.0831, -0.1145, -0.1007,\n",
              "                       0.0096,  0.1040,  0.0251, -0.0088, -0.1250, -0.0851,  0.1016, -0.0405,\n",
              "                      -0.0903,  0.0135,  0.0558,  0.0960, -0.1030,  0.0171,  0.0545,  0.0323,\n",
              "                      -0.1053, -0.0034, -0.1092,  0.0384, -0.0137, -0.0492, -0.0168,  0.0262,\n",
              "                       0.0953,  0.1024, -0.0159,  0.0114,  0.0749, -0.0537, -0.0834, -0.0901,\n",
              "                       0.0018,  0.0115, -0.1173,  0.0537,  0.0284, -0.0757, -0.0129,  0.0921,\n",
              "                      -0.0705, -0.0889, -0.0913, -0.0366, -0.0870,  0.1161,  0.1136, -0.0090,\n",
              "                      -0.0878,  0.0313, -0.0192, -0.0697,  0.0620, -0.0545,  0.0590,  0.0727,\n",
              "                      -0.0554, -0.0965, -0.1119, -0.1192,  0.0134,  0.0642,  0.1035, -0.0880,\n",
              "                      -0.0885, -0.1095,  0.0357,  0.0339,  0.1024, -0.1112,  0.0745,  0.0553,\n",
              "                      -0.0546, -0.1080,  0.0183, -0.0645,  0.0793, -0.0774, -0.0608, -0.1066,\n",
              "                      -0.0884,  0.0779,  0.0058, -0.0771,  0.0073, -0.0530, -0.0792,  0.0001,\n",
              "                       0.1048, -0.0159,  0.0043, -0.0680, -0.0621,  0.0941,  0.0747,  0.1217,\n",
              "                      -0.1246, -0.0923, -0.0461, -0.0885,  0.0971, -0.0919,  0.0208,  0.0624,\n",
              "                      -0.0176, -0.0041, -0.0129, -0.0743, -0.0383,  0.1171, -0.0984, -0.0718,\n",
              "                       0.0503, -0.0056,  0.0599, -0.1095, -0.0246,  0.0979,  0.0513,  0.0074,\n",
              "                       0.1072,  0.0843, -0.0878, -0.0588,  0.1033, -0.0590,  0.0560, -0.0622,\n",
              "                       0.1210, -0.0328,  0.0705,  0.0459,  0.0317, -0.1243,  0.1218, -0.0467,\n",
              "                      -0.1176, -0.1033, -0.0191, -0.0072,  0.1110,  0.0051, -0.0960, -0.0364,\n",
              "                      -0.0712, -0.0180,  0.0024,  0.0388, -0.0755, -0.0929, -0.1186,  0.0773,\n",
              "                      -0.0510, -0.1198, -0.0099,  0.0675, -0.0759, -0.0206,  0.0010,  0.0279,\n",
              "                       0.0297,  0.0914, -0.0037,  0.1038, -0.0099,  0.0105, -0.0457, -0.0931,\n",
              "                       0.1134,  0.0927, -0.0712, -0.0982, -0.0483,  0.1123, -0.0152, -0.1221,\n",
              "                       0.1036, -0.0059,  0.1005,  0.1109, -0.1142,  0.0935, -0.0019,  0.0552,\n",
              "                      -0.0153,  0.0304, -0.0564,  0.0907, -0.1016, -0.0705,  0.0206, -0.0815,\n",
              "                      -0.1228,  0.0655,  0.0539,  0.0936, -0.1093, -0.0505,  0.1124, -0.0409,\n",
              "                       0.1107, -0.0738, -0.0005,  0.0010, -0.0290, -0.1141, -0.1117,  0.0276,\n",
              "                       0.0631, -0.0220,  0.0382, -0.0771, -0.0379,  0.0672,  0.0745, -0.0491,\n",
              "                      -0.0476,  0.0656,  0.0450, -0.0387,  0.0825,  0.1200, -0.0546,  0.0677,\n",
              "                      -0.0069,  0.0619,  0.1085,  0.0826,  0.0770,  0.0742, -0.0519,  0.1065,\n",
              "                       0.1171,  0.1176,  0.0562, -0.0878, -0.0603, -0.0462, -0.0434,  0.0125,\n",
              "                      -0.0997,  0.0126, -0.0531, -0.0869,  0.1009, -0.0334, -0.1162, -0.0307],\n",
              "                     device='cuda:0')),\n",
              "             ('lstm.bias_hh_l0',\n",
              "              tensor([ 6.3638e-02,  1.0604e-01,  1.1086e-01,  1.2341e-01, -1.0988e-01,\n",
              "                       9.2337e-02,  2.1166e-02, -9.8613e-02,  1.1462e-01,  8.9866e-02,\n",
              "                      -6.9508e-02, -4.9190e-02,  1.1535e-01,  1.0961e-01,  5.3739e-02,\n",
              "                       4.8957e-02, -2.7307e-02, -6.3699e-02,  1.1503e-02, -1.2072e-01,\n",
              "                      -8.2629e-03, -9.9479e-02,  1.0720e-01, -3.3846e-02, -6.3695e-02,\n",
              "                      -7.7082e-02,  3.6438e-02,  2.4592e-02, -6.7781e-03, -9.7787e-02,\n",
              "                       4.1538e-02,  3.7604e-02, -2.2324e-02, -9.3774e-02, -2.6540e-02,\n",
              "                      -8.2016e-02, -4.7164e-02, -4.7117e-02, -2.4442e-02,  9.9141e-02,\n",
              "                       1.1214e-02, -1.1604e-01, -4.7114e-02,  6.9135e-02, -5.5580e-02,\n",
              "                       6.4032e-02, -1.0598e-01,  3.5251e-02,  8.3332e-03,  1.1098e-01,\n",
              "                      -3.0705e-02, -6.7064e-02, -2.1951e-02,  1.0197e-01,  8.2488e-02,\n",
              "                      -9.9712e-02, -2.1288e-02, -3.4182e-02, -1.0756e-01,  4.6770e-02,\n",
              "                      -8.9608e-02, -4.5454e-02,  1.2007e-01,  1.1962e-01,  8.5109e-02,\n",
              "                       8.9457e-02,  9.8101e-03,  8.8729e-02,  6.8024e-02,  3.5094e-02,\n",
              "                       1.4308e-02,  3.6797e-04, -4.3358e-02,  5.7031e-02, -8.3706e-02,\n",
              "                       1.1911e-01,  9.5225e-02, -7.2379e-03, -5.3070e-02, -2.6725e-02,\n",
              "                       8.0562e-02,  3.1099e-02,  8.2895e-02, -2.2039e-02,  9.4274e-02,\n",
              "                       6.1434e-02, -8.6403e-03, -9.1293e-02,  2.1751e-02, -9.0762e-03,\n",
              "                      -6.6150e-03, -1.4374e-02, -5.0122e-02, -8.4065e-02,  1.9973e-02,\n",
              "                       2.4226e-02,  8.3691e-02,  3.7753e-02, -9.9981e-02, -4.0822e-02,\n",
              "                       5.2713e-02, -5.4012e-02,  4.9162e-02,  1.1714e-01, -8.3413e-02,\n",
              "                       3.8762e-02,  9.4259e-02,  9.3856e-03, -1.0748e-01, -1.0002e-01,\n",
              "                       9.2018e-02, -3.6651e-02, -6.4082e-02,  4.3174e-02,  5.5133e-02,\n",
              "                      -4.8689e-02,  1.2071e-01,  2.3763e-02, -4.0409e-02, -2.0261e-02,\n",
              "                      -8.9071e-02, -3.7268e-02, -9.3769e-02,  4.9473e-02,  1.2218e-01,\n",
              "                      -3.9440e-02,  6.9490e-02, -4.5198e-02, -1.0472e-01, -1.2247e-01,\n",
              "                       7.6770e-02,  9.3986e-02,  9.2339e-02, -5.3921e-02, -5.0360e-02,\n",
              "                       2.4115e-02,  2.5762e-02,  2.7255e-02, -4.2079e-02, -8.3989e-02,\n",
              "                       1.1837e-01, -5.5420e-03, -1.0313e-01,  9.5262e-02,  9.4548e-02,\n",
              "                      -3.3995e-02, -9.7641e-02, -9.3130e-02, -7.1250e-02, -1.2586e-03,\n",
              "                       1.1037e-01, -6.9460e-02, -4.3428e-02, -3.5384e-02, -1.0626e-02,\n",
              "                      -1.1589e-02, -6.6655e-02, -9.9248e-02, -2.7881e-02,  1.1502e-01,\n",
              "                      -9.9610e-02, -8.7548e-03, -5.3707e-02,  1.0864e-01, -1.1808e-01,\n",
              "                      -2.2875e-02,  6.7699e-02,  2.8771e-02, -5.0622e-02,  1.1930e-01,\n",
              "                       5.6155e-02, -3.0629e-02, -2.4866e-03, -5.3015e-02,  1.1523e-01,\n",
              "                       5.9580e-02,  1.0440e-01,  5.0974e-02, -1.0627e-01, -1.7367e-02,\n",
              "                       4.2161e-02, -3.8439e-02, -8.5803e-02, -4.0423e-02, -4.0307e-02,\n",
              "                       1.1056e-01, -7.2033e-02, -8.0712e-02, -8.4936e-02, -1.0631e-01,\n",
              "                       9.1532e-02, -9.1433e-02, -9.7361e-02,  1.0312e-01, -3.3949e-03,\n",
              "                      -8.4743e-02,  1.0684e-01,  9.1365e-02,  1.0557e-01,  1.0724e-01,\n",
              "                       8.5130e-02,  1.0251e-01, -1.0145e-01, -7.4886e-02,  7.4977e-02,\n",
              "                      -6.0527e-02, -1.5627e-02, -8.6228e-02, -6.3096e-02,  6.8813e-03,\n",
              "                      -5.4374e-05, -4.9610e-02, -1.2017e-01, -2.0181e-02,  2.3444e-02,\n",
              "                      -2.5957e-02, -3.9540e-02,  1.0415e-01, -9.6099e-02,  9.7518e-02,\n",
              "                       1.0116e-01, -2.0335e-02,  6.5219e-02,  6.4353e-02,  8.8171e-03,\n",
              "                      -8.0391e-02,  9.9681e-02, -9.4633e-02,  1.3734e-02, -4.6374e-02,\n",
              "                       5.3929e-02, -3.2887e-02, -7.0837e-02, -6.9670e-02,  7.6002e-02,\n",
              "                      -3.6573e-02, -4.6000e-02,  6.3094e-02,  3.7697e-02, -2.5084e-02,\n",
              "                       3.1513e-02, -9.4336e-02, -3.9754e-02, -4.9175e-02,  7.5423e-02,\n",
              "                      -7.7446e-02, -6.1402e-02,  9.3483e-02, -1.9017e-02,  1.1206e-01,\n",
              "                       2.2712e-03,  6.4722e-02,  5.9148e-02, -7.7838e-02,  8.2420e-02,\n",
              "                      -1.2457e-01], device='cuda:0')),\n",
              "             ('lstm.weight_ih_l0_reverse',\n",
              "              tensor([[-0.0613,  0.0213, -0.0436,  ...,  0.0502,  0.0870, -0.0116],\n",
              "                      [ 0.0121,  0.0009, -0.0548,  ..., -0.0567, -0.0677, -0.1011],\n",
              "                      [-0.1015,  0.0218,  0.0900,  ...,  0.0390, -0.0599,  0.0242],\n",
              "                      ...,\n",
              "                      [ 0.0906,  0.0312,  0.0049,  ..., -0.0952, -0.0638, -0.1069],\n",
              "                      [ 0.0847, -0.0713,  0.0062,  ...,  0.0055, -0.0874,  0.0804],\n",
              "                      [ 0.0239, -0.0459,  0.0094,  ..., -0.0588,  0.0275,  0.0177]],\n",
              "                     device='cuda:0')),\n",
              "             ('lstm.weight_hh_l0_reverse',\n",
              "              tensor([[-0.0146, -0.0277,  0.0786,  ...,  0.1032, -0.0306,  0.0469],\n",
              "                      [ 0.0371,  0.1140,  0.0290,  ..., -0.0608,  0.0377,  0.1121],\n",
              "                      [-0.1044, -0.0033, -0.1043,  ..., -0.0640,  0.0966,  0.1011],\n",
              "                      ...,\n",
              "                      [ 0.0653,  0.0068,  0.0127,  ...,  0.0883, -0.0019,  0.1176],\n",
              "                      [-0.0369, -0.0467,  0.1182,  ..., -0.0299,  0.1012, -0.0663],\n",
              "                      [-0.0084,  0.0176, -0.0355,  ...,  0.0220,  0.1027,  0.1071]],\n",
              "                     device='cuda:0')),\n",
              "             ('lstm.bias_ih_l0_reverse',\n",
              "              tensor([-0.0164, -0.1001, -0.0255,  0.0140, -0.1198,  0.0177, -0.0606, -0.0126,\n",
              "                      -0.0173,  0.0010, -0.0227, -0.0843,  0.0064, -0.0380, -0.0367, -0.1159,\n",
              "                      -0.0597, -0.0956, -0.0950, -0.0694,  0.0059,  0.0998,  0.1178,  0.0192,\n",
              "                      -0.0477,  0.0727,  0.0581,  0.0499,  0.0372, -0.0605,  0.0268, -0.0481,\n",
              "                       0.1165, -0.1075, -0.0671,  0.1125,  0.0165,  0.0397,  0.1024, -0.0055,\n",
              "                      -0.1216,  0.0602,  0.0479,  0.0198, -0.0960,  0.0544, -0.1064, -0.0273,\n",
              "                      -0.0630,  0.0980, -0.0987,  0.0571,  0.0957,  0.1129, -0.0406, -0.0373,\n",
              "                      -0.1006, -0.0250, -0.0949, -0.0122, -0.0061,  0.0548,  0.0377, -0.1014,\n",
              "                       0.0305,  0.0807,  0.0667,  0.1154, -0.0626, -0.1163,  0.0664, -0.0852,\n",
              "                      -0.0800, -0.1185, -0.0420, -0.0899, -0.0080,  0.0738,  0.0812,  0.0624,\n",
              "                       0.1123, -0.0991,  0.0835,  0.1105,  0.0394,  0.0906, -0.1088,  0.0945,\n",
              "                      -0.0143, -0.0495,  0.0224, -0.1072,  0.0512, -0.1091, -0.0337, -0.0574,\n",
              "                       0.0857, -0.0592, -0.0709,  0.1104, -0.0459,  0.0847,  0.0615, -0.1099,\n",
              "                      -0.1140,  0.0031,  0.0798,  0.0274, -0.0458,  0.0526, -0.0723,  0.0504,\n",
              "                      -0.0530, -0.0730,  0.0479,  0.1024, -0.0230,  0.0759, -0.0289,  0.0017,\n",
              "                      -0.1110,  0.0543, -0.1233, -0.0115, -0.0543,  0.1067,  0.1181,  0.0806,\n",
              "                       0.1105,  0.0986, -0.0955, -0.0288, -0.0738, -0.0235, -0.0374,  0.0608,\n",
              "                       0.0987, -0.0057, -0.0565, -0.0246, -0.0232,  0.0181,  0.0683,  0.1190,\n",
              "                      -0.0212,  0.0028, -0.0053, -0.0150, -0.1173, -0.1153, -0.0477, -0.0962,\n",
              "                       0.0573, -0.0860, -0.0617, -0.0025, -0.0682, -0.0876,  0.1060, -0.0341,\n",
              "                       0.0247, -0.1103,  0.0277, -0.0098, -0.0961,  0.0254,  0.0825, -0.0755,\n",
              "                      -0.0445,  0.0207, -0.0492,  0.0251,  0.0800, -0.0375,  0.0783, -0.1065,\n",
              "                       0.1153,  0.0653,  0.0913, -0.0369, -0.1222, -0.0900,  0.0495, -0.1110,\n",
              "                       0.0258, -0.0284, -0.0176, -0.0657, -0.0508, -0.0262,  0.0910,  0.0599,\n",
              "                      -0.0153, -0.0739, -0.0157,  0.0442,  0.1165,  0.0663, -0.0672, -0.0288,\n",
              "                       0.0222, -0.0378, -0.0847, -0.1239,  0.0611, -0.0833,  0.0505,  0.0120,\n",
              "                       0.0403, -0.1126,  0.0167,  0.0583,  0.0068, -0.0971, -0.0982,  0.1233,\n",
              "                       0.0623,  0.1222,  0.0063,  0.0905, -0.0973, -0.0792, -0.0515, -0.0983,\n",
              "                      -0.0665,  0.0745,  0.0854, -0.0535, -0.1066, -0.0876, -0.1188, -0.0854,\n",
              "                      -0.0930, -0.0706,  0.0230, -0.0166,  0.0575, -0.0771,  0.0745, -0.0511,\n",
              "                       0.0746,  0.0144, -0.0239,  0.0197, -0.0587, -0.0556,  0.1036, -0.0405,\n",
              "                      -0.0529, -0.0994, -0.0168, -0.0029,  0.0849, -0.0532,  0.0339,  0.0116],\n",
              "                     device='cuda:0')),\n",
              "             ('lstm.bias_hh_l0_reverse',\n",
              "              tensor([ 1.1048e-01, -1.1281e-02,  5.1536e-02, -2.6796e-02,  1.1023e-01,\n",
              "                       2.9890e-02,  7.1015e-02, -1.1080e-02, -1.1628e-01,  7.6796e-02,\n",
              "                       1.8036e-03, -8.4787e-02,  1.2454e-01, -1.1478e-01,  1.0063e-01,\n",
              "                       1.2177e-01, -9.7682e-02,  1.0985e-01,  7.2934e-02,  5.4612e-02,\n",
              "                      -7.7664e-02, -2.2410e-02, -4.8889e-02, -2.2984e-02,  3.9951e-03,\n",
              "                      -8.4192e-03, -4.4155e-02, -4.4999e-02, -9.6593e-02, -7.3290e-02,\n",
              "                      -4.1965e-02,  2.7928e-02,  8.3263e-02,  1.8660e-02, -2.4230e-02,\n",
              "                      -2.0326e-02,  1.1941e-02, -3.3065e-02, -1.8098e-02, -6.7944e-02,\n",
              "                       7.3706e-02, -9.2162e-02,  8.6200e-03, -4.7294e-02, -8.0522e-02,\n",
              "                       5.2899e-02, -1.1831e-01, -5.6034e-02, -7.6995e-02,  1.6526e-02,\n",
              "                       9.3168e-02, -8.1742e-02, -5.9037e-02, -2.8162e-02, -1.9746e-02,\n",
              "                       2.1498e-02, -3.1984e-02,  1.2411e-01, -5.4358e-02,  2.0614e-03,\n",
              "                       7.4704e-02,  4.2906e-02,  1.0167e-01, -1.6312e-02, -3.2055e-02,\n",
              "                       1.1680e-01, -2.7128e-02, -2.1885e-02, -4.3053e-02, -7.3934e-02,\n",
              "                      -1.0485e-01,  1.0510e-01, -2.2459e-03,  8.3904e-02, -9.5291e-04,\n",
              "                      -1.1032e-01, -1.9128e-02,  4.2775e-02,  1.0164e-01, -2.3017e-02,\n",
              "                       9.8400e-02, -4.7708e-02,  2.1536e-02,  1.7911e-02, -5.3786e-02,\n",
              "                       2.0740e-02, -5.9916e-02,  7.4127e-02, -7.3215e-02, -9.5787e-02,\n",
              "                       1.4103e-02, -2.2026e-02,  8.4253e-02,  6.0145e-02,  4.3236e-02,\n",
              "                       7.8174e-02, -3.1185e-02,  4.8275e-02, -4.7431e-02, -1.0242e-01,\n",
              "                      -1.3636e-02, -1.0325e-01,  6.5643e-02, -1.0065e-01,  2.1956e-02,\n",
              "                       3.1158e-02,  4.2119e-02,  6.8661e-03,  2.6339e-02, -2.3013e-02,\n",
              "                      -1.2264e-01,  7.8578e-02, -2.1955e-02, -6.3221e-02,  5.2225e-02,\n",
              "                       9.9093e-03, -3.7565e-02,  5.9847e-02,  7.7402e-02,  7.2747e-02,\n",
              "                      -1.1466e-01,  8.5630e-02, -1.9748e-02, -1.2131e-01,  1.0127e-01,\n",
              "                      -1.1415e-01, -2.3937e-04,  1.1625e-01, -1.2320e-01,  4.1850e-04,\n",
              "                       8.2081e-02,  1.0915e-01,  1.2368e-01, -7.8279e-02,  1.1719e-01,\n",
              "                      -6.3779e-02,  9.2854e-02, -3.6305e-03, -1.2495e-01,  3.3066e-02,\n",
              "                      -8.3303e-03, -4.9107e-02,  1.0691e-01,  3.5649e-02, -2.0789e-02,\n",
              "                      -7.1429e-02, -1.1650e-01,  7.8612e-02,  3.1369e-02,  5.4963e-02,\n",
              "                      -8.0091e-02, -8.3331e-03,  1.1952e-01,  1.0149e-01, -9.5336e-02,\n",
              "                      -5.4999e-02,  9.0909e-02,  1.1361e-01,  7.0637e-02,  1.2346e-01,\n",
              "                       1.1119e-01, -1.2127e-01, -7.9074e-02, -8.5284e-02, -6.9916e-02,\n",
              "                      -3.6070e-02, -8.5840e-02,  2.2326e-03,  1.2428e-02, -5.0979e-02,\n",
              "                       6.1149e-02, -1.2093e-01, -1.1757e-04,  5.8270e-02,  7.1210e-02,\n",
              "                       1.4657e-02, -3.1320e-03, -9.0733e-02,  1.2410e-01, -1.0550e-01,\n",
              "                      -8.2465e-02,  2.4957e-03,  1.7244e-02, -7.1998e-02, -9.4023e-02,\n",
              "                       1.1375e-01, -1.4849e-02, -2.6677e-02,  5.3186e-02,  7.9262e-02,\n",
              "                      -3.0778e-02,  3.6654e-02,  6.7909e-03, -1.0437e-01, -5.1218e-02,\n",
              "                      -4.9027e-03,  2.3083e-02,  8.7394e-02,  1.0511e-01,  1.2329e-01,\n",
              "                       5.6930e-02,  1.1562e-01, -1.5843e-02, -6.8119e-02, -2.7485e-02,\n",
              "                       1.9633e-02,  2.8481e-02, -1.0885e-02, -6.8555e-02, -7.2198e-02,\n",
              "                      -2.2788e-02, -1.1376e-01,  9.1107e-02,  1.1071e-01, -2.3705e-02,\n",
              "                       2.8257e-02,  1.1378e-01, -1.1651e-01, -2.6738e-02, -1.0326e-01,\n",
              "                      -7.9683e-02,  8.9612e-02, -2.6763e-02,  1.1383e-01, -5.8691e-02,\n",
              "                       2.8988e-03,  1.0428e-02, -4.2169e-02, -2.3995e-02,  3.9977e-02,\n",
              "                      -8.6332e-02, -9.7269e-02,  9.9440e-02, -6.3004e-02,  9.1880e-03,\n",
              "                       1.1296e-02,  6.0331e-02,  1.0909e-01,  5.4948e-02,  1.2162e-01,\n",
              "                       9.9089e-02, -3.1802e-02, -3.0936e-03,  1.1678e-02,  4.5952e-02,\n",
              "                      -1.5295e-02,  4.8727e-02, -3.3398e-02, -3.6274e-02, -9.1128e-02,\n",
              "                       8.8676e-02,  9.3772e-02, -8.6679e-02,  9.0005e-02,  1.8580e-03,\n",
              "                       1.2340e-02], device='cuda:0')),\n",
              "             ('lstm.weight_ih_l1',\n",
              "              tensor([[ 0.0765, -0.0570, -0.0776,  ...,  0.0267, -0.0902, -0.0928],\n",
              "                      [ 0.0674,  0.0985,  0.0349,  ...,  0.0186,  0.0098, -0.0074],\n",
              "                      [-0.0724,  0.0749, -0.0354,  ..., -0.1131,  0.0394,  0.0317],\n",
              "                      ...,\n",
              "                      [-0.0970,  0.1193,  0.0695,  ...,  0.0895,  0.0706,  0.0460],\n",
              "                      [-0.0669,  0.0368, -0.0067,  ...,  0.0047,  0.0189, -0.0556],\n",
              "                      [ 0.0051, -0.0432, -0.1104,  ...,  0.0828,  0.0650,  0.0267]],\n",
              "                     device='cuda:0')),\n",
              "             ('lstm.weight_hh_l1',\n",
              "              tensor([[ 0.1012, -0.0390,  0.0300,  ..., -0.0327, -0.0217, -0.0016],\n",
              "                      [-0.1241, -0.1122, -0.0390,  ..., -0.0743, -0.1065, -0.0411],\n",
              "                      [ 0.0561,  0.1103, -0.0088,  ...,  0.0168, -0.0989, -0.0991],\n",
              "                      ...,\n",
              "                      [-0.0410, -0.0769, -0.1104,  ...,  0.0949, -0.0561,  0.0357],\n",
              "                      [-0.0870, -0.0319, -0.0556,  ..., -0.0463, -0.0841,  0.0258],\n",
              "                      [-0.0919, -0.0433, -0.1017,  ..., -0.1216, -0.0353,  0.0045]],\n",
              "                     device='cuda:0')),\n",
              "             ('lstm.bias_ih_l1',\n",
              "              tensor([ 0.0675, -0.0391, -0.0987,  0.1001, -0.0728,  0.0742, -0.0183, -0.0887,\n",
              "                       0.0504,  0.0943,  0.1192, -0.0122, -0.0435, -0.0075, -0.0413, -0.0305,\n",
              "                      -0.1227,  0.0090,  0.0603,  0.0221, -0.0948,  0.0322, -0.0439, -0.0524,\n",
              "                       0.0595,  0.0581, -0.0560,  0.1069, -0.0618,  0.0351,  0.0211,  0.1046,\n",
              "                      -0.0877, -0.0202,  0.1045, -0.0228,  0.0379, -0.0865, -0.0264, -0.0986,\n",
              "                      -0.0272, -0.1244, -0.0096, -0.0171, -0.0607,  0.1052,  0.0367,  0.0517,\n",
              "                      -0.0264, -0.0550, -0.1057, -0.0139,  0.1101, -0.1225, -0.0815,  0.0522,\n",
              "                       0.0856,  0.0584,  0.0526,  0.0684,  0.0760,  0.0853,  0.1018, -0.1162,\n",
              "                       0.0908, -0.1026,  0.0433,  0.0723, -0.1246, -0.0640,  0.0784, -0.0395,\n",
              "                       0.1233, -0.0861, -0.0033,  0.1149, -0.0089, -0.1193,  0.0199, -0.0431,\n",
              "                       0.0334,  0.0317,  0.0704,  0.0743,  0.0073,  0.0086,  0.0162, -0.0005,\n",
              "                      -0.0624,  0.1043, -0.0135,  0.0064, -0.0598,  0.1195, -0.0408,  0.0100,\n",
              "                      -0.0828, -0.0068, -0.1108, -0.0544, -0.0242, -0.0720,  0.0571,  0.1005,\n",
              "                      -0.0599,  0.1092,  0.0904, -0.0560, -0.0760,  0.0079,  0.0342,  0.0545,\n",
              "                      -0.0036, -0.0810,  0.0376, -0.1163,  0.1191,  0.0856,  0.0245, -0.0763,\n",
              "                       0.1211,  0.0046, -0.1061, -0.0206, -0.1008,  0.0556,  0.0657,  0.0615,\n",
              "                      -0.0753, -0.0825,  0.0064, -0.0982, -0.0172,  0.0376,  0.0936, -0.1120,\n",
              "                       0.0583, -0.0724,  0.0451,  0.0269,  0.0894,  0.0528, -0.0928, -0.1206,\n",
              "                       0.0583, -0.0952,  0.0952, -0.1069,  0.1033,  0.0877,  0.0271,  0.0501,\n",
              "                       0.1208, -0.1141, -0.0509,  0.0438, -0.0897, -0.0144, -0.0552,  0.0688,\n",
              "                      -0.0743, -0.1059,  0.0038,  0.0557, -0.1101,  0.0645, -0.0907, -0.0730,\n",
              "                      -0.0538,  0.0403,  0.1187, -0.0538, -0.0909, -0.0926, -0.0689,  0.1217,\n",
              "                       0.0944,  0.1030, -0.0162,  0.0049,  0.0786,  0.1097, -0.1171,  0.0055,\n",
              "                      -0.1065, -0.0855, -0.0945, -0.0041, -0.0998,  0.0291,  0.0984,  0.0709,\n",
              "                      -0.1245, -0.0756,  0.1070, -0.0260, -0.0762, -0.0890,  0.0455, -0.1175,\n",
              "                      -0.0004,  0.0614,  0.0422, -0.0183, -0.0691, -0.0591, -0.0987,  0.0664,\n",
              "                       0.0100,  0.0063,  0.0576,  0.0550,  0.0074,  0.0072,  0.1119, -0.1109,\n",
              "                      -0.0805, -0.0714, -0.1034, -0.0995, -0.0793, -0.0743, -0.0243, -0.0491,\n",
              "                       0.1159, -0.0574, -0.0281, -0.0229, -0.0958,  0.1006,  0.0744, -0.0830,\n",
              "                       0.0295, -0.0587,  0.0527,  0.0680,  0.0033, -0.0025, -0.0138,  0.0472,\n",
              "                      -0.0115,  0.0246, -0.0146,  0.0418,  0.0445, -0.0181, -0.0231,  0.0972,\n",
              "                      -0.0661, -0.0617,  0.0760,  0.0675, -0.0550,  0.0063,  0.0493,  0.0330],\n",
              "                     device='cuda:0')),\n",
              "             ('lstm.bias_hh_l1',\n",
              "              tensor([ 0.0016, -0.1081,  0.0221, -0.0930, -0.0710,  0.0943,  0.0453, -0.1023,\n",
              "                      -0.0192, -0.0506, -0.0189,  0.0196,  0.0607, -0.0103,  0.0911,  0.0363,\n",
              "                      -0.0838, -0.1145,  0.0748, -0.0302, -0.1246,  0.1139, -0.0224,  0.1042,\n",
              "                       0.0020,  0.1184,  0.1119, -0.0075, -0.0984, -0.0631,  0.0742,  0.1134,\n",
              "                       0.0357,  0.0008, -0.0678,  0.0302, -0.0245,  0.0612, -0.1145, -0.0929,\n",
              "                      -0.1165,  0.0526,  0.0358, -0.0801,  0.1171, -0.1158, -0.0802, -0.1152,\n",
              "                       0.0627, -0.1120, -0.0112, -0.0491,  0.0201, -0.0574, -0.0933,  0.1077,\n",
              "                       0.0618, -0.0320, -0.0660,  0.0240, -0.1027,  0.1083,  0.0313,  0.0542,\n",
              "                      -0.0078, -0.1090,  0.0383, -0.1112, -0.0977,  0.0809,  0.0325, -0.0427,\n",
              "                      -0.1097, -0.0409, -0.0749,  0.1011, -0.0456,  0.1013,  0.1177, -0.1085,\n",
              "                       0.0709,  0.1159,  0.0261, -0.0082, -0.0268, -0.0363, -0.0414, -0.0281,\n",
              "                      -0.0294,  0.0419, -0.1172,  0.0931, -0.0944, -0.0175,  0.0070, -0.0244,\n",
              "                      -0.0265, -0.1101, -0.0559, -0.1171,  0.0614,  0.0485,  0.0572,  0.0795,\n",
              "                       0.1051,  0.0953,  0.1126, -0.0023, -0.0877, -0.0473, -0.0106,  0.0901,\n",
              "                       0.0421,  0.0608,  0.1139, -0.0218,  0.1183, -0.1152, -0.1014, -0.0137,\n",
              "                       0.1101, -0.0665,  0.0092,  0.0118,  0.1202,  0.0597, -0.0222,  0.0551,\n",
              "                       0.0398,  0.0439, -0.1239, -0.0230, -0.0880, -0.0419, -0.1130, -0.0286,\n",
              "                       0.1150,  0.0512,  0.0211,  0.0483,  0.0405,  0.0561, -0.0247,  0.0459,\n",
              "                       0.0349,  0.0308,  0.1224,  0.1085, -0.0492, -0.1199, -0.0330, -0.0525,\n",
              "                      -0.0822,  0.0432,  0.1240,  0.0699, -0.0589, -0.0088, -0.0364, -0.0215,\n",
              "                       0.0920,  0.0669, -0.1053, -0.1116, -0.1006, -0.0050, -0.0633, -0.0576,\n",
              "                       0.0558,  0.1045,  0.1108,  0.1037, -0.1138,  0.0355,  0.0397,  0.0271,\n",
              "                       0.0948, -0.0788, -0.0162,  0.0896,  0.0170, -0.0820,  0.0590, -0.0282,\n",
              "                      -0.0170, -0.0421,  0.0085,  0.0265,  0.0392,  0.0464,  0.0482, -0.0273,\n",
              "                      -0.0419, -0.1138,  0.0182,  0.0673,  0.0174, -0.0455, -0.0101, -0.0504,\n",
              "                      -0.0607,  0.0379,  0.1220, -0.0891,  0.0902, -0.0044,  0.0770,  0.1106,\n",
              "                      -0.1156,  0.0353, -0.0324,  0.0588, -0.0461, -0.0181,  0.0304,  0.0927,\n",
              "                       0.0566, -0.0551,  0.0647, -0.0835,  0.0080, -0.0374, -0.0613,  0.0068,\n",
              "                       0.1148, -0.1017, -0.0832, -0.1210,  0.0979, -0.0922, -0.0480, -0.0440,\n",
              "                      -0.0569,  0.0051, -0.0258,  0.0536,  0.1171,  0.0435, -0.1079,  0.0367,\n",
              "                      -0.0731, -0.0795, -0.0620,  0.0268,  0.0425,  0.0582, -0.1130,  0.1237,\n",
              "                      -0.0964, -0.0679,  0.0796, -0.0745,  0.0012, -0.0512,  0.0509,  0.0468],\n",
              "                     device='cuda:0')),\n",
              "             ('lstm.weight_ih_l1_reverse',\n",
              "              tensor([[-0.1010, -0.0785, -0.0865,  ..., -0.0813,  0.0390,  0.1235],\n",
              "                      [-0.1016, -0.0196, -0.0411,  ...,  0.0610, -0.0103,  0.0707],\n",
              "                      [ 0.0847,  0.0910,  0.0217,  ...,  0.0574,  0.0457, -0.0022],\n",
              "                      ...,\n",
              "                      [ 0.0639,  0.1088, -0.0572,  ..., -0.0487,  0.0462, -0.0238],\n",
              "                      [ 0.1229, -0.0810, -0.0730,  ..., -0.1230, -0.0728,  0.0647],\n",
              "                      [ 0.0117,  0.0536,  0.0122,  ..., -0.0482, -0.0815, -0.1211]],\n",
              "                     device='cuda:0')),\n",
              "             ('lstm.weight_hh_l1_reverse',\n",
              "              tensor([[-0.0745, -0.0908,  0.0695,  ...,  0.0084,  0.0665, -0.0195],\n",
              "                      [ 0.0797, -0.0969,  0.1219,  ..., -0.0873, -0.0141, -0.1125],\n",
              "                      [ 0.0554, -0.0441,  0.0122,  ...,  0.0116, -0.0572, -0.1238],\n",
              "                      ...,\n",
              "                      [ 0.1144, -0.0926, -0.1081,  ..., -0.1075, -0.0528,  0.0097],\n",
              "                      [ 0.0551,  0.0459,  0.1045,  ..., -0.1028, -0.0283, -0.0013],\n",
              "                      [ 0.0765,  0.0547,  0.0281,  ..., -0.1165,  0.0678, -0.0098]],\n",
              "                     device='cuda:0')),\n",
              "             ('lstm.bias_ih_l1_reverse',\n",
              "              tensor([ 0.0011, -0.0914, -0.0222, -0.0930,  0.0617, -0.0593, -0.0650, -0.0168,\n",
              "                       0.1136, -0.0718,  0.1153,  0.0783, -0.0548,  0.0938,  0.0132,  0.1146,\n",
              "                      -0.0698,  0.0736, -0.0006, -0.1185,  0.0049, -0.0002,  0.0717,  0.1181,\n",
              "                      -0.0886,  0.1182, -0.1077, -0.1016,  0.0670, -0.0813, -0.0751,  0.0832,\n",
              "                      -0.0870,  0.0666, -0.1191, -0.0624,  0.0155,  0.0950,  0.0755,  0.0068,\n",
              "                       0.1125, -0.1246, -0.0414, -0.1179,  0.0441, -0.0238,  0.0626,  0.0871,\n",
              "                       0.0409,  0.0924,  0.1164, -0.0693,  0.0192,  0.0073, -0.0747,  0.0341,\n",
              "                      -0.0474,  0.0602, -0.1005,  0.0817, -0.0220,  0.0444, -0.0065, -0.0077,\n",
              "                       0.0419, -0.0664,  0.0931,  0.0003, -0.1127, -0.0285,  0.0244, -0.0995,\n",
              "                       0.0548, -0.0059,  0.0680,  0.0205,  0.0858, -0.0384, -0.1115,  0.0765,\n",
              "                       0.0994,  0.0085, -0.0021, -0.1249,  0.0048,  0.0282, -0.0987,  0.1174,\n",
              "                      -0.0918, -0.0972,  0.0238,  0.0759, -0.0341, -0.0677,  0.0288, -0.1231,\n",
              "                      -0.0350,  0.0814, -0.0735, -0.0858,  0.0927,  0.0130,  0.0045, -0.0274,\n",
              "                       0.0839,  0.0052, -0.0870,  0.0239, -0.0605,  0.0365,  0.0908, -0.0025,\n",
              "                      -0.0180,  0.0730, -0.0939,  0.1137, -0.0366,  0.0191, -0.0345,  0.0862,\n",
              "                      -0.0891, -0.0065,  0.1232,  0.0071,  0.0453, -0.0895,  0.1187, -0.0066,\n",
              "                       0.1056, -0.0499, -0.0765,  0.0610,  0.0100,  0.0373,  0.0216,  0.1163,\n",
              "                      -0.0817, -0.0599,  0.0342, -0.1115,  0.0569,  0.0932,  0.0581, -0.0330,\n",
              "                      -0.0192, -0.0287,  0.0593, -0.0507, -0.0182, -0.0544, -0.1182, -0.0535,\n",
              "                      -0.0853, -0.0926, -0.0597, -0.0289, -0.1033, -0.0873,  0.0515,  0.0421,\n",
              "                       0.0359,  0.0729,  0.1215, -0.0463, -0.1072,  0.0446,  0.0580,  0.1154,\n",
              "                       0.1170,  0.1245, -0.0789, -0.0232,  0.0484,  0.0007, -0.0718,  0.0814,\n",
              "                       0.0282,  0.0102, -0.0461, -0.0783, -0.0490, -0.0683,  0.0709,  0.0138,\n",
              "                      -0.0718, -0.1049, -0.0221,  0.0607, -0.0619,  0.0633,  0.0123,  0.1022,\n",
              "                       0.0997,  0.0889,  0.0250, -0.0043, -0.0940,  0.0736, -0.0762, -0.0147,\n",
              "                       0.1051, -0.0426,  0.0913,  0.0585, -0.0525, -0.0924,  0.0206,  0.0878,\n",
              "                       0.0620,  0.0510, -0.0200,  0.0243,  0.0754,  0.0464,  0.1147,  0.0308,\n",
              "                      -0.0262,  0.0569, -0.0499, -0.0535,  0.0658, -0.0621, -0.0175,  0.0974,\n",
              "                      -0.0602,  0.0890, -0.0915, -0.1011,  0.0748, -0.0849,  0.0397,  0.1119,\n",
              "                      -0.0424,  0.0616,  0.1020, -0.0209,  0.0100, -0.0578, -0.0499,  0.0446,\n",
              "                       0.0373, -0.1161, -0.0919, -0.0207, -0.0962, -0.0348,  0.0699,  0.0070,\n",
              "                      -0.1034, -0.0236, -0.0799,  0.0021, -0.0124, -0.0168,  0.0713, -0.1180],\n",
              "                     device='cuda:0')),\n",
              "             ('lstm.bias_hh_l1_reverse',\n",
              "              tensor([-0.0636, -0.0493,  0.0636, -0.1234, -0.1034,  0.0863,  0.1099, -0.1207,\n",
              "                      -0.0021,  0.1239,  0.1226,  0.0695, -0.0605,  0.0190,  0.0651, -0.0730,\n",
              "                      -0.0810,  0.1247,  0.0815,  0.1234, -0.0943, -0.0241, -0.0032,  0.0533,\n",
              "                      -0.0945, -0.0813, -0.0972, -0.0108,  0.0270, -0.0404, -0.0596, -0.0874,\n",
              "                       0.0548, -0.0483,  0.0874, -0.0652,  0.0748,  0.0995, -0.0496, -0.0143,\n",
              "                      -0.0131,  0.0484,  0.0374, -0.0701,  0.1206, -0.0033, -0.0375,  0.0707,\n",
              "                      -0.1018, -0.1171, -0.0378,  0.0453, -0.1179,  0.0996,  0.1075, -0.1095,\n",
              "                       0.0791, -0.0014,  0.1238, -0.0172, -0.0755,  0.0486,  0.0139, -0.0854,\n",
              "                      -0.1112,  0.0288, -0.0803, -0.0209, -0.0451, -0.0375,  0.0397, -0.0272,\n",
              "                      -0.0455, -0.1125,  0.0545, -0.1035,  0.1096,  0.0563, -0.0257, -0.0440,\n",
              "                      -0.0920,  0.0769, -0.0653,  0.0842,  0.0098, -0.0414,  0.0801, -0.1118,\n",
              "                      -0.0776,  0.0347, -0.1056, -0.0241,  0.0055, -0.0601,  0.0949, -0.0893,\n",
              "                       0.1094,  0.0417,  0.0220,  0.0128, -0.1161, -0.1107,  0.0301, -0.0446,\n",
              "                      -0.0700,  0.0822, -0.0335,  0.0998,  0.1242,  0.0218,  0.0902, -0.0418,\n",
              "                       0.1005, -0.1118, -0.0257,  0.0425, -0.0119, -0.1076, -0.0458, -0.0182,\n",
              "                      -0.0958,  0.0262, -0.0011, -0.0734, -0.0716, -0.0240,  0.0478, -0.0840,\n",
              "                      -0.0189, -0.0010, -0.1027, -0.1034,  0.0517, -0.0793,  0.1001,  0.0142,\n",
              "                      -0.1103,  0.0048,  0.1194, -0.0104, -0.1238,  0.1231,  0.0835, -0.1058,\n",
              "                      -0.0375, -0.0694, -0.0539,  0.0441, -0.0263, -0.0618, -0.0608, -0.0135,\n",
              "                       0.1143,  0.0516,  0.1179,  0.0539,  0.0950,  0.1219, -0.0292, -0.0848,\n",
              "                       0.0440, -0.0813,  0.0656, -0.0871, -0.0736,  0.0026,  0.0208,  0.0599,\n",
              "                       0.1065,  0.0160,  0.0437,  0.0903, -0.0517, -0.0049,  0.0990,  0.1088,\n",
              "                       0.1093, -0.1139, -0.0938, -0.0339,  0.1021,  0.1184,  0.0898, -0.0373,\n",
              "                      -0.0510,  0.1036,  0.0322, -0.0332, -0.0757, -0.0470,  0.0507,  0.0369,\n",
              "                      -0.0182,  0.0602,  0.0721, -0.1121, -0.0889,  0.0259, -0.0045, -0.0641,\n",
              "                      -0.0597, -0.0235, -0.1080,  0.0359, -0.0826,  0.0554,  0.0228,  0.0246,\n",
              "                       0.0529,  0.0524, -0.0520,  0.0298,  0.0248,  0.0738,  0.1109,  0.0948,\n",
              "                      -0.0944,  0.0378,  0.1135, -0.1194,  0.0699,  0.0292,  0.0432, -0.0953,\n",
              "                       0.1185, -0.0501,  0.0412,  0.0500, -0.1061, -0.0564, -0.0847, -0.0647,\n",
              "                      -0.0118, -0.1011, -0.0738,  0.1102,  0.0151,  0.0236,  0.0726,  0.1170,\n",
              "                       0.0794,  0.0671,  0.1178, -0.0016,  0.0760,  0.0972,  0.0320,  0.0614,\n",
              "                       0.0568, -0.0059,  0.0628, -0.0781, -0.0251,  0.0789, -0.0434,  0.1061],\n",
              "                     device='cuda:0')),\n",
              "             ('fc_layers.0.weight',\n",
              "              tensor([[ 0.0016, -0.0813,  0.0069,  ..., -0.0745, -0.0516,  0.0774],\n",
              "                      [ 0.0007, -0.0106,  0.0175,  ...,  0.0723,  0.0370,  0.0267],\n",
              "                      [-0.0213, -0.0584,  0.0164,  ...,  0.0141, -0.0619, -0.0310],\n",
              "                      ...,\n",
              "                      [-0.0439,  0.0502, -0.0446,  ..., -0.0007,  0.0571,  0.0798],\n",
              "                      [ 0.0474,  0.0101,  0.0267,  ..., -0.0089,  0.0837, -0.0816],\n",
              "                      [-0.0694, -0.0408,  0.0495,  ...,  0.0464, -0.0556,  0.0503]],\n",
              "                     device='cuda:0')),\n",
              "             ('fc_layers.0.bias',\n",
              "              tensor([-0.0285, -0.0499,  0.0755,  0.0805, -0.0142, -0.0839, -0.0104,  0.0119,\n",
              "                       0.0268, -0.0115,  0.0747,  0.0101, -0.0499,  0.0075, -0.0140, -0.0821,\n",
              "                       0.0705, -0.0418,  0.0792, -0.0339,  0.0192, -0.0107,  0.0366,  0.0130,\n",
              "                       0.0103, -0.0092, -0.0081,  0.0448, -0.0754,  0.0318,  0.0461, -0.0371,\n",
              "                      -0.0367, -0.0180,  0.0229, -0.0631, -0.0743,  0.0144, -0.0739,  0.0664,\n",
              "                       0.0875,  0.0383, -0.0641,  0.0814, -0.0086, -0.0718,  0.0338,  0.0003,\n",
              "                      -0.0038, -0.0041, -0.0213,  0.0542, -0.0308, -0.0535,  0.0875,  0.0449,\n",
              "                       0.0106,  0.0865, -0.0047,  0.0361, -0.0137,  0.0026,  0.0245,  0.0474,\n",
              "                       0.0183,  0.0083, -0.0475, -0.0035,  0.0715,  0.0661,  0.0096,  0.0665,\n",
              "                      -0.0332, -0.0400,  0.0581, -0.0477, -0.0529, -0.0644,  0.0830,  0.0411,\n",
              "                      -0.0428,  0.0668, -0.0327, -0.0211,  0.0219, -0.0559,  0.0161, -0.0337,\n",
              "                      -0.0836, -0.0538,  0.0429,  0.0422,  0.0563,  0.0669,  0.0410, -0.0259,\n",
              "                      -0.0684,  0.0020, -0.0857,  0.0841, -0.0528,  0.0532,  0.0374, -0.0332,\n",
              "                      -0.0331, -0.0869, -0.0729, -0.0819,  0.0048,  0.0199,  0.0457, -0.0295,\n",
              "                       0.0629, -0.0546, -0.0468,  0.0634, -0.0641,  0.0156, -0.0280, -0.0328,\n",
              "                      -0.0388, -0.0138, -0.0856,  0.0637,  0.0543, -0.0034,  0.0003,  0.0244],\n",
              "                     device='cuda:0')),\n",
              "             ('fc_layers.2.weight',\n",
              "              tensor([[ 0.0312,  0.0706, -0.0340,  ...,  0.0036, -0.0503, -0.0655],\n",
              "                      [ 0.0474,  0.0375, -0.0353,  ...,  0.0490, -0.0266, -0.0662],\n",
              "                      [-0.0042, -0.0557, -0.0578,  ...,  0.0361, -0.0081, -0.0165],\n",
              "                      ...,\n",
              "                      [-0.0757, -0.0207,  0.0741,  ...,  0.0276, -0.0003,  0.0736],\n",
              "                      [-0.0498, -0.0681, -0.0116,  ...,  0.0210,  0.0103, -0.0729],\n",
              "                      [ 0.0454,  0.0094,  0.0270,  ..., -0.0440, -0.0273,  0.0346]],\n",
              "                     device='cuda:0')),\n",
              "             ('fc_layers.2.bias',\n",
              "              tensor([ 0.0726, -0.0872,  0.0568, -0.0733,  0.0385, -0.0830,  0.0037,  0.0253,\n",
              "                       0.0784, -0.0738, -0.0758, -0.0112,  0.0852, -0.0039,  0.0860,  0.0158,\n",
              "                       0.0837,  0.0737,  0.0773, -0.0109, -0.0029,  0.0392, -0.0497,  0.0683,\n",
              "                       0.0880,  0.0632, -0.0238,  0.0338,  0.0590, -0.0091,  0.0617, -0.0477,\n",
              "                      -0.0353,  0.0623,  0.0123,  0.0852,  0.0211, -0.0713,  0.0844, -0.0837,\n",
              "                      -0.0273,  0.0265, -0.0741, -0.0412,  0.0788,  0.0099, -0.0066, -0.0791,\n",
              "                       0.0242, -0.0318, -0.0419,  0.0717,  0.0218,  0.0267,  0.0392, -0.0203,\n",
              "                       0.0819, -0.0186,  0.0607, -0.0129,  0.0624,  0.0091, -0.0463, -0.0006],\n",
              "                     device='cuda:0')),\n",
              "             ('fc_layers.4.weight',\n",
              "              tensor([[-5.7045e-02, -1.1486e-01, -1.0806e-01,  1.0012e-01,  1.1313e-01,\n",
              "                       -9.3116e-02, -3.0085e-02,  9.6281e-02, -4.0910e-02, -5.6265e-02,\n",
              "                       -5.2091e-02,  1.1306e-01, -8.7373e-02, -1.0797e-02,  1.0382e-01,\n",
              "                        1.3019e-02,  6.5808e-02, -4.3693e-02, -8.5073e-03, -4.6308e-02,\n",
              "                        4.3857e-02,  6.9761e-02, -5.0400e-02,  1.0589e-01,  1.0357e-01,\n",
              "                       -7.8630e-02, -9.8988e-02,  5.7998e-03,  2.3949e-02, -1.1539e-01,\n",
              "                       -3.5054e-02, -2.0595e-02, -7.1397e-02, -8.5036e-02,  9.9042e-02,\n",
              "                       -9.6262e-02, -5.7164e-02, -7.8607e-02, -1.2977e-02,  7.1481e-02,\n",
              "                        1.0206e-01, -2.2834e-02, -6.7213e-02, -7.7407e-02, -4.0703e-04,\n",
              "                       -6.4391e-02, -5.6227e-02,  8.2866e-02,  2.8647e-02, -4.9846e-02,\n",
              "                        2.4581e-02,  5.1079e-02, -1.0898e-01,  5.5179e-02,  6.8692e-02,\n",
              "                        6.0698e-02, -1.2182e-01, -7.7992e-02,  8.8845e-02,  6.8778e-02,\n",
              "                       -9.1376e-02, -3.3385e-02, -1.1697e-01, -6.1493e-02],\n",
              "                      [ 2.9942e-02,  9.6572e-02, -1.1859e-01, -2.6896e-02, -1.7729e-02,\n",
              "                        5.2375e-02,  1.2007e-01, -3.3892e-02,  8.7242e-02,  1.1843e-01,\n",
              "                        5.6788e-02,  2.1181e-02,  5.4025e-02,  8.9519e-02,  4.2414e-02,\n",
              "                        1.1221e-01, -1.2162e-01, -4.2489e-02,  1.0179e-01, -4.6376e-02,\n",
              "                        8.0518e-02, -9.7116e-02, -8.5749e-03, -1.1648e-02,  1.1038e-01,\n",
              "                        4.7220e-02, -5.7748e-03,  7.2427e-02, -8.5922e-03, -8.3265e-02,\n",
              "                       -8.2199e-02, -8.7087e-02, -8.1436e-03, -3.9959e-02, -9.2819e-02,\n",
              "                       -5.0135e-02, -9.1937e-02,  9.5742e-02,  7.1660e-02,  3.4570e-02,\n",
              "                       -3.0997e-02,  2.5922e-02,  1.1165e-01,  1.5051e-02, -8.4038e-02,\n",
              "                       -2.2465e-03, -8.9951e-02,  9.5928e-02,  4.4117e-02, -8.1076e-02,\n",
              "                       -3.8740e-02, -9.8912e-02,  1.4650e-02, -5.4985e-02,  3.2826e-02,\n",
              "                        1.5750e-02, -1.0325e-01, -9.7903e-02,  4.8924e-02, -1.0921e-01,\n",
              "                        7.2631e-02,  4.8145e-02, -7.8551e-02, -7.3345e-02],\n",
              "                      [ 7.8510e-02, -8.7261e-02, -3.7804e-02,  4.4867e-02,  1.0494e-01,\n",
              "                       -4.3454e-02,  2.5468e-03,  3.9537e-02,  3.0436e-02,  2.5831e-02,\n",
              "                        1.1941e-01, -4.1099e-02, -1.0327e-01, -1.8043e-02, -4.7311e-02,\n",
              "                       -3.5800e-02,  4.1196e-02,  4.8159e-02,  3.7640e-02,  9.5628e-02,\n",
              "                        2.5503e-02, -1.1191e-01, -2.1238e-02, -2.4407e-02,  6.9753e-02,\n",
              "                        1.1572e-01, -1.0558e-01,  9.2024e-02, -6.0414e-04, -9.4665e-02,\n",
              "                       -4.0660e-02,  8.4975e-02,  4.4741e-02,  2.0939e-02, -1.0769e-01,\n",
              "                        1.1851e-01,  7.4042e-04,  1.1303e-01, -2.0741e-02,  1.0929e-02,\n",
              "                       -7.8791e-02,  8.4595e-02,  9.3141e-02, -6.9239e-02,  3.5233e-02,\n",
              "                       -1.1563e-01, -1.5195e-02, -2.9096e-02, -8.6098e-03,  3.0879e-02,\n",
              "                       -1.1765e-01,  8.0806e-02, -4.3867e-02,  1.1252e-03, -1.6903e-02,\n",
              "                       -1.1362e-01, -7.0592e-02,  1.2359e-01, -8.8514e-02, -6.2522e-02,\n",
              "                        9.8429e-03,  1.1480e-01,  1.2003e-01, -7.1665e-02],\n",
              "                      [-1.2274e-01,  6.8367e-02, -1.1667e-01,  9.0759e-02, -1.7276e-02,\n",
              "                       -1.0056e-01, -3.2181e-02,  4.6694e-02, -1.2608e-02, -5.9091e-02,\n",
              "                        1.1641e-01, -1.1232e-01, -6.7459e-02,  2.2418e-02,  3.5577e-02,\n",
              "                        5.5051e-04, -1.0927e-01, -7.7775e-02,  1.2474e-01,  1.2193e-01,\n",
              "                        4.0128e-03, -1.2883e-02,  1.2160e-01, -7.3794e-02,  6.6366e-02,\n",
              "                        4.6471e-02, -1.1953e-01, -6.5634e-02,  4.4182e-02,  5.5114e-02,\n",
              "                       -1.2340e-01, -1.1054e-01, -5.4168e-02,  7.2035e-02,  9.3166e-02,\n",
              "                        3.7929e-02,  3.2288e-02,  6.9256e-02, -6.0071e-02, -1.0704e-02,\n",
              "                       -1.1024e-01,  8.1148e-02, -1.1035e-01, -3.2651e-02,  4.6194e-02,\n",
              "                       -9.4635e-02, -4.2128e-02,  1.1782e-01, -8.5082e-02, -5.6749e-02,\n",
              "                       -1.6650e-02,  9.8887e-02, -1.0657e-01, -2.9995e-02, -3.0808e-02,\n",
              "                       -1.9516e-02, -6.9647e-02, -1.1745e-01, -5.5694e-02,  3.3712e-02,\n",
              "                        1.1877e-01,  4.0168e-02,  1.0119e-01,  9.3597e-02],\n",
              "                      [-1.5655e-02,  1.8917e-02, -1.2133e-01, -8.2151e-02,  4.8222e-02,\n",
              "                       -6.6504e-03,  3.1880e-02,  8.4210e-03, -1.8349e-02,  1.0343e-01,\n",
              "                        5.9762e-02,  4.9729e-02,  6.3975e-02, -2.9795e-02,  1.0821e-01,\n",
              "                        1.1350e-01, -9.4085e-02, -1.1953e-01,  1.1883e-01, -1.0537e-01,\n",
              "                       -6.7511e-02, -8.8496e-02, -3.6534e-02, -1.1925e-01, -2.2079e-02,\n",
              "                       -1.2052e-01, -8.3810e-02, -5.9157e-02,  1.1932e-03, -1.0278e-02,\n",
              "                        9.4023e-03,  4.5776e-02, -1.0215e-01, -8.2088e-02,  7.0187e-02,\n",
              "                       -8.9334e-02, -7.1378e-02,  8.1115e-02, -3.0591e-02, -3.3529e-02,\n",
              "                        7.2718e-02, -1.3932e-02,  1.3107e-02,  9.3112e-03, -8.6330e-02,\n",
              "                       -7.6363e-02,  4.8696e-02, -4.9340e-02, -1.1324e-01,  1.8990e-03,\n",
              "                        3.9685e-02,  6.9089e-02, -2.4124e-02,  3.7196e-02,  7.8197e-02,\n",
              "                        1.1512e-01,  1.4975e-02, -4.7285e-03, -9.1849e-02, -1.2460e-01,\n",
              "                       -7.6697e-02,  7.4188e-02, -1.7033e-02, -1.6820e-02],\n",
              "                      [ 1.4041e-02, -1.1401e-01, -8.4471e-02,  5.7536e-02,  6.6319e-02,\n",
              "                        3.0712e-02,  8.0448e-02,  1.0562e-01, -5.4677e-02,  3.7319e-02,\n",
              "                       -8.1964e-02,  8.8099e-02,  2.6010e-02,  4.0352e-02,  4.6346e-02,\n",
              "                        7.9780e-03, -5.7580e-02,  9.1960e-02, -6.3902e-03, -1.0499e-02,\n",
              "                       -2.5483e-02, -5.4886e-02,  7.0692e-02,  2.6062e-02, -6.0988e-02,\n",
              "                       -4.7132e-02, -2.0065e-02,  6.8947e-02, -6.6178e-02,  4.6701e-03,\n",
              "                       -1.1497e-01,  1.0863e-01, -4.6246e-02, -3.8178e-02, -8.2348e-02,\n",
              "                       -1.5618e-02,  8.8801e-02,  3.8098e-02,  5.8444e-02,  4.2317e-02,\n",
              "                        8.6947e-02,  1.0778e-01,  1.0964e-01, -1.4942e-02, -1.0258e-01,\n",
              "                       -6.8938e-02, -1.7687e-02, -3.1998e-02, -2.7551e-02, -7.9745e-02,\n",
              "                        7.5437e-02,  1.1333e-01,  1.0875e-01,  1.1662e-01, -8.2291e-02,\n",
              "                       -6.7333e-02,  1.2154e-01, -2.8026e-02,  3.3967e-02, -2.5042e-02,\n",
              "                       -8.2002e-02,  1.1547e-01, -1.0771e-01, -5.7078e-02],\n",
              "                      [ 8.0136e-02,  8.5108e-02,  4.2668e-02, -7.6113e-02, -3.4336e-02,\n",
              "                       -3.6590e-02, -6.3010e-02, -1.0135e-01,  3.9460e-02,  7.4369e-02,\n",
              "                       -8.7475e-02, -5.0811e-02,  1.1630e-01,  3.3464e-02,  5.1944e-02,\n",
              "                       -1.5714e-02, -9.6099e-02, -1.6180e-03, -2.7516e-02, -1.2410e-01,\n",
              "                        1.0907e-01,  5.3025e-02, -6.9631e-03,  8.8846e-02,  1.3590e-02,\n",
              "                       -1.0705e-01, -1.1696e-03, -4.0759e-02,  1.1384e-01,  1.0905e-01,\n",
              "                        5.9006e-02, -1.1019e-01, -1.2081e-03, -9.3832e-02, -9.4530e-02,\n",
              "                       -4.3667e-02,  1.6406e-02,  3.9280e-02, -1.2078e-01, -4.5782e-02,\n",
              "                       -3.1282e-02,  1.3848e-02,  2.9475e-02,  8.3476e-02,  6.0053e-02,\n",
              "                       -1.1358e-01,  1.5050e-02, -4.2466e-02, -1.2414e-01, -7.7986e-02,\n",
              "                        2.6800e-02, -1.5963e-02, -4.0297e-02,  9.6056e-02,  1.5132e-02,\n",
              "                       -9.2048e-03,  4.7159e-02, -3.3939e-02, -5.9429e-02, -1.1183e-02,\n",
              "                        1.7350e-03, -1.7108e-03,  7.2671e-02,  4.6921e-02],\n",
              "                      [-6.9321e-02, -1.8671e-03, -7.4309e-02, -2.0575e-02, -5.0454e-02,\n",
              "                       -1.3735e-02, -2.8174e-02, -6.9149e-03, -9.0491e-02, -5.6507e-02,\n",
              "                        1.1044e-02, -3.2973e-02, -4.2239e-02,  6.7882e-03, -1.5437e-02,\n",
              "                        7.3386e-02,  4.8280e-02, -1.1982e-01, -9.9397e-02, -3.6905e-02,\n",
              "                        6.0924e-02, -4.7531e-02,  1.0817e-01, -4.8437e-03, -9.7291e-02,\n",
              "                        4.0299e-02,  9.7950e-03,  4.8606e-02,  1.2350e-02, -3.1131e-02,\n",
              "                        7.9042e-02, -9.2294e-02,  8.3838e-02,  3.9867e-02,  8.8878e-02,\n",
              "                        5.4592e-02,  1.0779e-01, -3.4744e-02, -1.6214e-02, -1.6267e-02,\n",
              "                       -1.5882e-02, -6.0698e-02,  1.1741e-01, -4.1755e-02, -9.1505e-02,\n",
              "                       -6.0649e-02, -1.9606e-02,  4.6269e-02, -4.5180e-02,  1.1211e-01,\n",
              "                        8.0141e-02, -3.4715e-02,  5.3494e-02, -4.5141e-02,  1.1124e-01,\n",
              "                       -1.0057e-01,  2.3458e-02,  1.0614e-02, -3.1735e-02, -6.8769e-02,\n",
              "                       -7.0719e-02, -1.0354e-01,  1.0744e-01, -7.8020e-02],\n",
              "                      [-3.0043e-02, -7.2018e-02, -1.1817e-01, -3.0839e-02, -8.7867e-02,\n",
              "                       -4.2481e-02, -3.9452e-02,  8.6520e-02, -5.7796e-02, -2.7016e-02,\n",
              "                       -8.3819e-02, -2.4651e-03, -1.0950e-01, -6.4832e-02,  1.1097e-02,\n",
              "                        4.2178e-02,  6.9360e-02, -1.2155e-01,  5.6583e-02, -7.9595e-02,\n",
              "                       -6.4294e-02, -5.3626e-02, -7.8298e-02, -4.5653e-02, -3.1160e-03,\n",
              "                       -1.2091e-01,  9.6447e-02,  6.0654e-02, -2.3220e-02, -6.1061e-02,\n",
              "                        1.2423e-01,  6.6425e-02,  1.0551e-01,  7.1013e-02, -9.5285e-02,\n",
              "                       -3.5636e-02,  8.1990e-02,  7.8222e-02, -8.5893e-03, -3.4872e-02,\n",
              "                        8.9759e-02,  8.2292e-02, -4.6519e-03, -2.3855e-03,  9.9292e-02,\n",
              "                        1.1159e-03, -9.3065e-02,  1.1329e-02, -9.0289e-02,  1.0616e-01,\n",
              "                        1.2481e-01, -1.0774e-01, -1.6425e-02,  2.0358e-02, -9.1611e-02,\n",
              "                       -4.9635e-02, -9.8766e-03, -8.8261e-02,  1.1766e-02, -1.6297e-02,\n",
              "                       -6.2542e-02, -1.1104e-01, -1.1430e-01, -1.0597e-01],\n",
              "                      [ 1.1967e-01,  3.1501e-02, -5.5618e-02, -6.0592e-02, -6.2355e-02,\n",
              "                       -6.3517e-02, -2.0587e-02, -1.0007e-01, -6.8029e-02, -1.0962e-01,\n",
              "                       -1.1515e-02,  2.6255e-02,  1.0913e-01, -9.5352e-02, -6.8004e-02,\n",
              "                        9.5770e-05, -4.6553e-03, -6.7621e-02,  8.7486e-02,  3.6883e-02,\n",
              "                       -6.8761e-03, -5.6510e-02,  8.7200e-02,  8.4514e-03, -1.2032e-01,\n",
              "                        1.3310e-02, -5.7813e-02, -4.5646e-02, -8.9221e-02, -6.8454e-02,\n",
              "                       -6.3345e-02,  7.8670e-02, -6.5944e-03, -4.7728e-02, -1.1451e-01,\n",
              "                       -2.6093e-02, -1.0770e-01,  6.4567e-02, -3.0301e-03, -1.0180e-01,\n",
              "                        6.5801e-02,  3.2667e-02, -5.3225e-02,  3.3959e-02, -1.1964e-01,\n",
              "                       -6.3152e-02,  1.1135e-01, -6.1705e-02,  6.0735e-02, -8.2537e-02,\n",
              "                        5.3495e-02,  8.7868e-02, -5.9287e-02, -4.7450e-02,  4.0703e-02,\n",
              "                        8.4271e-02, -4.0522e-02, -2.4922e-03,  6.2092e-02, -8.9228e-02,\n",
              "                       -6.4854e-02,  2.0499e-02, -3.6597e-02,  6.9612e-02]], device='cuda:0')),\n",
              "             ('fc_layers.4.bias',\n",
              "              tensor([ 0.0482,  0.0366,  0.0290,  0.1056,  0.0123,  0.0542, -0.0710,  0.0869,\n",
              "                      -0.0758, -0.0125], device='cuda:0'))])"
            ]
          },
          "metadata": {},
          "execution_count": 9
        }
      ]
    },
    {
      "cell_type": "code",
      "execution_count": 10,
      "metadata": {
        "id": "3w9QW9Lfp1aV",
        "colab": {
          "base_uri": "https://localhost:8080/"
        },
        "outputId": "1900b415-48fc-4435-86fc-c302784d7694"
      },
      "outputs": [
        {
          "output_type": "execute_result",
          "data": {
            "text/plain": [
              "LSTM_Model_label(\n",
              "  (lstm): LSTM(41, 64, num_layers=2, batch_first=True, dropout=0.5, bidirectional=True)\n",
              "  (fc_layers): Sequential(\n",
              "    (0): Linear(in_features=128, out_features=128, bias=True)\n",
              "    (1): Tanh()\n",
              "    (2): Linear(in_features=128, out_features=64, bias=True)\n",
              "    (3): Sigmoid()\n",
              "    (4): Linear(in_features=64, out_features=2, bias=True)\n",
              "  )\n",
              ")"
            ]
          },
          "metadata": {},
          "execution_count": 10
        }
      ],
      "source": [
        "my_model_label = LSTM_Model_label(num_classes_label, input_size, hidden_size, num_layers).to(device=device)\n",
        "my_model_label"
      ]
    },
    {
      "cell_type": "markdown",
      "metadata": {
        "id": "Cey1CId-jjis"
      },
      "source": [
        "# **optimizer and loss function**"
      ]
    },
    {
      "cell_type": "code",
      "execution_count": 11,
      "metadata": {
        "id": "WNuQFMAekNDH"
      },
      "outputs": [],
      "source": [
        "loss_fn1 = nn.CrossEntropyLoss().to(device=device)\n",
        "loss_fn2 = nn.CrossEntropyLoss().to(device=device)\n",
        "optimizer1 = opt.Adam(params=my_model_attack.parameters(),lr=learning_rate)\n",
        "optimizer2 = opt.Adam(params=my_model_label.parameters(),lr=learning_rate)"
      ]
    },
    {
      "cell_type": "markdown",
      "metadata": {
        "id": "4JYcovfYlpHM"
      },
      "source": [
        "# **train attack cat**"
      ]
    },
    {
      "cell_type": "code",
      "execution_count": 12,
      "metadata": {
        "id": "Qmw8w1eTkeBu",
        "colab": {
          "base_uri": "https://localhost:8080/"
        },
        "outputId": "8c970fc4-7724-4a06-a81e-a176672f5553"
      },
      "outputs": [
        {
          "output_type": "stream",
          "name": "stdout",
          "text": [
            "Epoch: 0, loss: 0.8828\n",
            "Epoch: 50, loss: 0.4392\n",
            "Epoch: 100, loss: 0.3798\n",
            "Epoch: 150, loss: 0.3224\n",
            "Epoch: 200, loss: 0.4669\n",
            "Epoch: 250, loss: 0.3657\n",
            "Epoch: 300, loss: 0.3785\n",
            "Epoch: 350, loss: 0.4044\n",
            "Epoch: 400, loss: 0.4211\n",
            "Epoch: 450, loss: 0.3802\n",
            "Epoch: 500, loss: 0.3668\n"
          ]
        }
      ],
      "source": [
        "for epoch in range(num_epoch+1):\n",
        "\n",
        "    for batch_x, batch_y in train_attack_cat_dataloader:\n",
        "\n",
        "        batch_x = torch.reshape(batch_x, (batch_x.shape[0], 1, batch_x.shape[1])) #RuntimeError: For unbatched 2-D input, hx and cx should also be 2-D but got (3-D, 3-D) tensors\n",
        "        \n",
        "        batch_x = batch_x.to(device)\n",
        "        batch_y = batch_y.to(device)\n",
        "\n",
        "        optimizer1.zero_grad()\n",
        "        loss1 = loss_fn1(my_model_attack(batch_x) , batch_y)\n",
        "        loss1.backward() \n",
        "        optimizer1.step()\n",
        "\n",
        "    if epoch % 50 == 0:\n",
        "         print(\"Epoch: %d, loss: %.4f\" % (epoch, loss1.item())) "
      ]
    },
    {
      "cell_type": "markdown",
      "metadata": {
        "id": "PQaRCMJPls5N"
      },
      "source": [
        "# **test attack cat**"
      ]
    },
    {
      "cell_type": "code",
      "execution_count": 13,
      "metadata": {
        "id": "QrtYzVT4loMQ",
        "colab": {
          "base_uri": "https://localhost:8080/"
        },
        "outputId": "7fdf0877-fe1e-455e-d5fa-3be73be2c3e4"
      },
      "outputs": [
        {
          "output_type": "stream",
          "name": "stdout",
          "text": [
            "acc : 82.10%\n"
          ]
        }
      ],
      "source": [
        "correct = 0\n",
        "\n",
        "for batch_x, labl in test_attack_cat_dataloader:\n",
        "  \n",
        "    batch_x = torch.reshape(batch_x, (batch_x.shape[0], 1, batch_x.shape[1])) #RuntimeError: For unbatched 2-D input, hx and cx should also be 2-D but got (3-D, 3-D) tensors\n",
        "  \n",
        "    batch_x = batch_x.to(device)\n",
        "    labl = labl.to(device)\n",
        "\n",
        "    out = my_model_attack(batch_x)\n",
        "    _,predicted = torch.max(out,1)\n",
        "    correct += torch.sum(predicted == labl)\n",
        "\n",
        "print(\"acc : %.2f\" % (100.*correct / len(test_attack_cat)),end=\"\")\n",
        "print(\"%\")"
      ]
    },
    {
      "cell_type": "markdown",
      "metadata": {
        "id": "pLqOLtA6tQht"
      },
      "source": [
        "# **train label**"
      ]
    },
    {
      "cell_type": "code",
      "execution_count": 14,
      "metadata": {
        "id": "Xm1cu1GhtMJO",
        "colab": {
          "base_uri": "https://localhost:8080/"
        },
        "outputId": "6c9fbac4-23d0-4629-aadb-5e41fc02a0e1"
      },
      "outputs": [
        {
          "output_type": "stream",
          "name": "stdout",
          "text": [
            "Epoch: 0, loss: 0.2034\n",
            "Epoch: 50, loss: 0.1344\n",
            "Epoch: 100, loss: 0.1257\n",
            "Epoch: 150, loss: 0.1322\n",
            "Epoch: 200, loss: 0.1096\n",
            "Epoch: 250, loss: 0.1427\n",
            "Epoch: 300, loss: 0.0956\n",
            "Epoch: 350, loss: 0.1364\n",
            "Epoch: 400, loss: 0.1537\n",
            "Epoch: 450, loss: 0.1207\n",
            "Epoch: 500, loss: 0.1023\n"
          ]
        }
      ],
      "source": [
        "for epoch in range(num_epoch+1):\n",
        "\n",
        "    for batch_x, batch_y in train_label_dataloader:\n",
        "\n",
        "        batch_x = torch.reshape(batch_x, (batch_x.shape[0], 1, batch_x.shape[1])) #RuntimeError: For unbatched 2-D input, hx and cx should also be 2-D but got (3-D, 3-D) tensors\n",
        "        \n",
        "        batch_x = batch_x.to(device)\n",
        "        batch_y = batch_y.to(device)\n",
        "\n",
        "        optimizer2.zero_grad()\n",
        "        loss2 = loss_fn2(my_model_label(batch_x) , batch_y)\n",
        "        loss2.backward() \n",
        "        optimizer2.step()\n",
        "\n",
        "    if epoch % 50 == 0:\n",
        "         print(\"Epoch: %d, loss: %.4f\" % (epoch, loss2.item())) "
      ]
    },
    {
      "cell_type": "markdown",
      "metadata": {
        "id": "Ig7VBqU0tfZd"
      },
      "source": [
        "# **test label**"
      ]
    },
    {
      "cell_type": "code",
      "execution_count": 15,
      "metadata": {
        "id": "a7u2bQ0WtiG2",
        "colab": {
          "base_uri": "https://localhost:8080/"
        },
        "outputId": "4ad2ecf1-1087-47ca-8cfd-f2f984621ca0"
      },
      "outputs": [
        {
          "output_type": "stream",
          "name": "stdout",
          "text": [
            "acc : 94.04%\n"
          ]
        }
      ],
      "source": [
        "correct = 0\n",
        "\n",
        "for batch_x, labl in test_label_dataloader:\n",
        "\n",
        "    batch_x = torch.reshape(batch_x, (batch_x.shape[0], 1, batch_x.shape[1])) #RuntimeError: For unbatched 2-D input, hx and cx should also be 2-D but got (3-D, 3-D) tensors\n",
        "\n",
        "    batch_x = batch_x.to(device)\n",
        "    labl = labl.to(device)\n",
        "  \n",
        "    out = my_model_label(batch_x)\n",
        "    _,predicted = torch.max(out,1)\n",
        "    correct += torch.sum(predicted == labl)\n",
        "\n",
        "print(\"acc : %.2f\" % (100.*correct / len(test_label)),end=\"\")\n",
        "print(\"%\")"
      ]
    }
  ],
  "metadata": {
    "accelerator": "GPU",
    "colab": {
      "collapsed_sections": [],
      "provenance": []
    },
    "gpuClass": "standard",
    "kernelspec": {
      "display_name": "Python 3",
      "name": "python3"
    },
    "language_info": {
      "name": "python"
    }
  },
  "nbformat": 4,
  "nbformat_minor": 0
}