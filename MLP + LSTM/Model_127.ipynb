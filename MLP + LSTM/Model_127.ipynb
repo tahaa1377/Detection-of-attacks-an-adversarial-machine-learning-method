{
  "cells": [
    {
      "cell_type": "code",
      "execution_count": 1,
      "metadata": {
        "id": "Ff1b4PxtBQuc"
      },
      "outputs": [],
      "source": [
        "num_epoch = 500      \n",
        "learning_rate = 0.002\n",
        "batch_size = 4000\n",
        "\n",
        "hidden_size = 16 #number of features in hidden state\n",
        "num_layers = 3  #number of stacked lstm layers\n",
        "bidirectional = True\n",
        "drop_out = 0\n",
        "bidirectional_forward_backward = 2 if bidirectional else 1\n",
        "\n",
        "input_size = 41 #number of features\n",
        "num_classes_attack_cat = 10 #number of output classes \n",
        "num_classes_label = 2       #number of output classes \n",
        "\n",
        "hyper_parameter1=128\n",
        "hyper_parameter2=64\n",
        "hyper_parameter3=32\n",
        "hyper_parameter4=16"
      ]
    },
    {
      "cell_type": "code",
      "source": [
        "from google.colab import drive\n",
        "drive.mount('/content/drive')"
      ],
      "metadata": {
        "colab": {
          "base_uri": "https://localhost:8080/"
        },
        "id": "0Gua0hky6SDJ",
        "outputId": "72b45887-6046-48c2-fd8c-aff68f60f5d2"
      },
      "execution_count": 2,
      "outputs": [
        {
          "output_type": "stream",
          "name": "stdout",
          "text": [
            "Mounted at /content/drive\n"
          ]
        }
      ]
    },
    {
      "cell_type": "code",
      "execution_count": 3,
      "metadata": {
        "colab": {
          "base_uri": "https://localhost:8080/"
        },
        "id": "hZiaj4uT24DH",
        "outputId": "65876541-dee7-48e6-80bf-382c57d60498"
      },
      "outputs": [
        {
          "output_type": "stream",
          "name": "stdout",
          "text": [
            "GPU\n"
          ]
        }
      ],
      "source": [
        "import pandas as pd\n",
        "from matplotlib import pyplot as plt\n",
        "import numpy as np\n",
        "from torch.utils.data.dataset import Dataset\n",
        "from torch.utils.data import random_split, DataLoader\n",
        "import torch\n",
        "from sklearn.preprocessing import LabelEncoder\n",
        "from sklearn import preprocessing\n",
        "import torch.nn as nn\n",
        "import torch.nn.functional as F\n",
        "import torch.optim as opt\n",
        "from torch.autograd import Variable \n",
        "\n",
        "# GPU OR CPU\n",
        "if torch.cuda.is_available():\n",
        "    device = torch.device(\"cuda:0\")\n",
        "    print(\"GPU\")\n",
        "else:\n",
        "    device = torch.device(\"cpu\")\n",
        "    print(\"CPU\")"
      ]
    },
    {
      "cell_type": "code",
      "execution_count": 4,
      "metadata": {
        "id": "Sv-R_m6Z1EL5"
      },
      "outputs": [],
      "source": [
        "class DataSet_UNSWNB15_attack_cat(Dataset):\n",
        "\n",
        "    def __init__(self,data_set_path):\n",
        "        df = pd.read_csv(data_set_path)\n",
        "        print(df.attack_cat.value_counts().sort_values().plot(kind = \"barh\"))\n",
        "        \n",
        "        # preprocceing\n",
        "        df.drop(['id',\"Unnamed: 0\",\"service\",\"label\"], axis=1, inplace=True)        \n",
        "        cols = ['attack_cat' ,'proto' ,'state']\n",
        "        df[cols] = df[cols].apply(LabelEncoder().fit_transform)\n",
        "\n",
        "        self.data_array = df.values\n",
        "        self.x = self.data_array[:, :41]\n",
        "        self.y = self.data_array[:, 41]\n",
        "      \n",
        "        # normalaized data\n",
        "        scaler = preprocessing.StandardScaler().fit(self.x)\n",
        "        self.x = scaler.transform(self.x)\n",
        "\n",
        "        self.x = torch.tensor(self.x).float()\n",
        "        self.y = torch.tensor(self.y).long()\n",
        "\n",
        "    def __len__(self):\n",
        "        return len(self.data_array)\n",
        "\n",
        "    def __getitem__(self, item):\n",
        "        sample = (self.x[item, :], self.y[item])\n",
        "        return sample\n",
        "\n",
        "        \n",
        "class DataSet_UNSWNB15_label(Dataset):\n",
        "\n",
        "    def __init__(self,data_set_path):\n",
        "        df = pd.read_csv(data_set_path)\n",
        "        print(df.label.value_counts().sort_values().plot(kind = \"pie\"))\n",
        "\n",
        "        # preprocceing\n",
        "        df.drop(['id',\"Unnamed: 0\",\"service\",\"attack_cat\"], axis=1, inplace=True)\n",
        "        cols = ['proto' ,'state']\n",
        "        df[cols] = df[cols].apply(LabelEncoder().fit_transform)\n",
        "\n",
        "        self.data_array = df.values\n",
        "        self.x = self.data_array[:, :41]\n",
        "        self.y = self.data_array[:, 41]\n",
        "        \n",
        "        # normalaized data\n",
        "        scaler = preprocessing.StandardScaler().fit(self.x)\n",
        "        self.x = scaler.transform(self.x)\n",
        "\n",
        "        self.x = torch.tensor(self.x).float()\n",
        "        self.y = torch.tensor(self.y).long()\n",
        "\n",
        "    def __len__(self):\n",
        "        return len(self.data_array)\n",
        "\n",
        "    def __getitem__(self, item):\n",
        "        sample = (self.x[item, :], self.y[item])\n",
        "        return sample"
      ]
    },
    {
      "cell_type": "code",
      "execution_count": 5,
      "metadata": {
        "colab": {
          "base_uri": "https://localhost:8080/",
          "height": 283
        },
        "id": "UykLrbQZ1R7K",
        "outputId": "0b395702-c4eb-40ec-f6fb-b62e25f46069"
      },
      "outputs": [
        {
          "output_type": "stream",
          "name": "stdout",
          "text": [
            "AxesSubplot(0.125,0.125;0.775x0.755)\n"
          ]
        },
        {
          "output_type": "display_data",
          "data": {
            "text/plain": [
              "<Figure size 432x288 with 1 Axes>"
            ],
            "image/png": "[encoded data removed]"
          },
          "metadata": {
            "needs_background": "light"
          }
        }
      ],
      "source": [
        "dataset_attack_cat = DataSet_UNSWNB15_attack_cat(\"/content/drive/MyDrive/datasets/UNSW-NB15/UNSW_NB15.csv\")\n",
        "number_of_test = int(len(dataset_attack_cat)*0.3)\n",
        "number_of_train = len(dataset_attack_cat) - int(len(dataset_attack_cat)*0.3)\n",
        "train_attack_cat ,test_attack_cat = random_split(dataset=dataset_attack_cat, lengths=[number_of_train,number_of_test])\n",
        "\n",
        "train_attack_cat_dataloader = DataLoader(dataset=train_attack_cat ,batch_size=batch_size ,shuffle=True)\n",
        "test_attack_cat_dataloader = DataLoader(dataset=test_attack_cat ,batch_size=batch_size ,shuffle=True)"
      ]
    },
    {
      "cell_type": "code",
      "execution_count": 6,
      "metadata": {
        "colab": {
          "base_uri": "https://localhost:8080/",
          "height": 266
        },
        "id": "LmFY9Q-u29T3",
        "outputId": "4e290ca9-e574-4eb5-931d-ef8bc6b348d4"
      },
      "outputs": [
        {
          "output_type": "stream",
          "name": "stdout",
          "text": [
            "AxesSubplot(0.260833,0.125;0.503333x0.755)\n"
          ]
        },
        {
          "output_type": "display_data",
          "data": {
            "text/plain": [
              "<Figure size 432x288 with 1 Axes>"
            ],
            "image/png": "[encoded data removed]"
          },
          "metadata": {}
        }
      ],
      "source": [
        "dataset_label = DataSet_UNSWNB15_label(\"/content/drive/MyDrive/datasets/UNSW-NB15/UNSW_NB15.csv\")\n",
        "number_of_test = int(len(dataset_label)*0.3)\n",
        "number_of_train = len(dataset_label) - int(len(dataset_label)*0.3)\n",
        "train_label ,test_label = random_split(dataset=dataset_label, lengths=[number_of_train,number_of_test])\n",
        "\n",
        "train_label_dataloader = DataLoader(dataset=train_label ,batch_size=batch_size ,shuffle=True)\n",
        "test_label_dataloader = DataLoader(dataset=test_label ,batch_size=batch_size ,shuffle=True)"
      ]
    },
    {
      "cell_type": "markdown",
      "metadata": {
        "id": "0HslPLv2IOGd"
      },
      "source": [
        "# **preprocessing ended**\n",
        "\n",
        "# **create model**"
      ]
    },
    {
      "cell_type": "markdown",
      "source": [
        "![bilstm-1.webp](data:image/webp;base64,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)"
      ],
      "metadata": {
        "id": "F2hNvBs6qBQS"
      }
    },
    {
      "cell_type": "code",
      "execution_count": 7,
      "metadata": {
        "id": "oN6DuQbJibuE"
      },
      "outputs": [],
      "source": [
        "class LSTM_Model_attack(nn.Module):\n",
        "    def __init__(self, num_classes, input_size, hidden_size, num_layers):\n",
        "        super(LSTM_Model_attack, self).__init__()\n",
        "        self.num_classes = num_classes #number of classes\n",
        "        self.num_layers = num_layers #number of layers\n",
        "        self.input_size = input_size #input size\n",
        "        self.hidden_size = hidden_size #hidden state\n",
        "\n",
        "        self.lstm = nn.LSTM(input_size=input_size, hidden_size=hidden_size, num_layers=num_layers, batch_first=True,\n",
        "                            bidirectional=bidirectional, dropout=drop_out) #lstm\n",
        "\n",
        "        self.fc_layers = nn.Sequential(\n",
        "        nn.Linear(hidden_size * bidirectional_forward_backward, hyper_parameter1),\n",
        "        nn.Tanh(),\n",
        "        nn.Linear(hyper_parameter1, hyper_parameter2),\n",
        "        nn.Tanh(),\n",
        "        nn.Linear(hyper_parameter2, hyper_parameter3),\n",
        "        nn.Sigmoid(),\n",
        "        nn.Linear(hyper_parameter3, hyper_parameter4),\n",
        "        nn.Sigmoid(),\n",
        "        nn.Linear(hyper_parameter4, num_classes)\n",
        "        )\n",
        "    \n",
        "    def forward(self,x):\n",
        "                                                # 2 => forward and backward for bidirectional\n",
        "        h_0 = Variable(torch.zeros(self.num_layers * bidirectional_forward_backward, x.size(0), self.hidden_size)).to(device=device) #hidden state\n",
        "        c_0 = Variable(torch.zeros(self.num_layers * bidirectional_forward_backward, x.size(0), self.hidden_size)).to(device=device) #internal state\n",
        "\n",
        "        out, (hn, cn) = self.lstm(x, (h_0, c_0))\n",
        "        out = self.fc_layers(out[:, -1, :]) \n",
        "        return out\n",
        "\n",
        "\n",
        "class LSTM_Model_label(nn.Module):\n",
        "    def __init__(self, num_classes, input_size, hidden_size, num_layers):\n",
        "        super(LSTM_Model_label, self).__init__()\n",
        "        self.num_classes = num_classes #number of classes\n",
        "        self.num_layers = num_layers #number of layers\n",
        "        self.input_size = input_size #input size\n",
        "        self.hidden_size = hidden_size #hidden state\n",
        "\n",
        "        self.lstm = nn.LSTM(input_size=input_size, hidden_size=hidden_size, num_layers=num_layers, batch_first=True, \n",
        "                            bidirectional=bidirectional, dropout=drop_out) #lstm\n",
        "\n",
        "        self.fc_layers = nn.Sequential(\n",
        "        nn.Linear(hidden_size * bidirectional_forward_backward, hyper_parameter1),\n",
        "        nn.Tanh(),\n",
        "        nn.Linear(hyper_parameter1, hyper_parameter2),\n",
        "        nn.Tanh(),\n",
        "        nn.Linear(hyper_parameter2, hyper_parameter3),\n",
        "        nn.Sigmoid(),\n",
        "        nn.Linear(hyper_parameter3, hyper_parameter4),\n",
        "        nn.Sigmoid(),\n",
        "        nn.Linear(hyper_parameter4, num_classes)\n",
        "        )\n",
        "    \n",
        "    def forward(self,x):\n",
        "        h_0 = Variable(torch.zeros(self.num_layers * bidirectional_forward_backward, x.size(0), self.hidden_size)).to(device=device) #hidden state\n",
        "        c_0 = Variable(torch.zeros(self.num_layers * bidirectional_forward_backward, x.size(0), self.hidden_size)).to(device=device) #internal state\n",
        "\n",
        "        out, (hn, cn) = self.lstm(x, (h_0, c_0))\n",
        "        out = self.fc_layers(out[:, -1, :]) \n",
        "        return out\n"
      ]
    },
    {
      "cell_type": "code",
      "execution_count": 8,
      "metadata": {
        "id": "US8JfNI8j3zO",
        "colab": {
          "base_uri": "https://localhost:8080/"
        },
        "outputId": "f23116d7-0f82-433b-c940-9d895d2c5a56"
      },
      "outputs": [
        {
          "output_type": "execute_result",
          "data": {
            "text/plain": [
              "LSTM_Model_attack(\n",
              "  (lstm): LSTM(41, 16, num_layers=3, batch_first=True, bidirectional=True)\n",
              "  (fc_layers): Sequential(\n",
              "    (0): Linear(in_features=32, out_features=128, bias=True)\n",
              "    (1): Tanh()\n",
              "    (2): Linear(in_features=128, out_features=64, bias=True)\n",
              "    (3): Tanh()\n",
              "    (4): Linear(in_features=64, out_features=32, bias=True)\n",
              "    (5): Sigmoid()\n",
              "    (6): Linear(in_features=32, out_features=16, bias=True)\n",
              "    (7): Sigmoid()\n",
              "    (8): Linear(in_features=16, out_features=10, bias=True)\n",
              "  )\n",
              ")"
            ]
          },
          "metadata": {},
          "execution_count": 8
        }
      ],
      "source": [
        "my_model_attack = LSTM_Model_attack(num_classes_attack_cat, input_size, hidden_size, num_layers).to(device=device)\n",
        "my_model_attack"
      ]
    },
    {
      "cell_type": "code",
      "source": [
        "my_model_attack.state_dict()"
      ],
      "metadata": {
        "colab": {
          "base_uri": "https://localhost:8080/"
        },
        "id": "Dq8JkQZ9ukCs",
        "outputId": "fa96cd7c-fa8d-4da2-9529-d17bdf5c2eb2"
      },
      "execution_count": 9,
      "outputs": [
        {
          "output_type": "execute_result",
          "data": {
            "text/plain": [
              "OrderedDict([('lstm.weight_ih_l0',\n",
              "              tensor([[-0.0727,  0.1821, -0.1310,  ...,  0.0322, -0.2202,  0.0699],\n",
              "                      [ 0.0490,  0.1059, -0.2325,  ...,  0.2350, -0.0232, -0.1161],\n",
              "                      [-0.1252,  0.1554,  0.0032,  ..., -0.1576, -0.2307,  0.1601],\n",
              "                      ...,\n",
              "                      [-0.1851,  0.2120,  0.0149,  ...,  0.0519, -0.0421, -0.1276],\n",
              "                      [-0.0865, -0.0896,  0.1583,  ..., -0.1873, -0.1141,  0.1639],\n",
              "                      [-0.0450,  0.0551,  0.0034,  ...,  0.2272, -0.1109, -0.1365]],\n",
              "                     device='cuda:0')),\n",
              "             ('lstm.weight_hh_l0',\n",
              "              tensor([[ 0.0999,  0.0536, -0.1130,  ...,  0.2418,  0.1401, -0.0435],\n",
              "                      [-0.0762,  0.0581, -0.1504,  ..., -0.0035, -0.2446,  0.0421],\n",
              "                      [ 0.0738,  0.1285,  0.0255,  ...,  0.1824,  0.1597, -0.0770],\n",
              "                      ...,\n",
              "                      [ 0.2354, -0.1990, -0.1264,  ...,  0.1987,  0.1896,  0.1629],\n",
              "                      [-0.2394, -0.2343, -0.0241,  ..., -0.0385,  0.1916, -0.1922],\n",
              "                      [ 0.2117,  0.1082, -0.2395,  ...,  0.1969,  0.1741, -0.0901]],\n",
              "                     device='cuda:0')),\n",
              "             ('lstm.bias_ih_l0',\n",
              "              tensor([-0.2178, -0.1477,  0.2168,  0.2476, -0.1208, -0.0321,  0.0917,  0.1316,\n",
              "                      -0.1380, -0.0886,  0.2235, -0.0407,  0.1160, -0.2361, -0.1566,  0.1524,\n",
              "                       0.1840,  0.1183, -0.0642,  0.1618,  0.1394, -0.0406,  0.2042, -0.1680,\n",
              "                       0.1485, -0.2126,  0.1033,  0.1889, -0.1963,  0.1536, -0.1241, -0.1541,\n",
              "                      -0.0277,  0.0802, -0.0640, -0.1227,  0.2419, -0.1707, -0.1064, -0.0370,\n",
              "                       0.1030, -0.2181, -0.1160,  0.2082,  0.2392,  0.1404,  0.0155, -0.0948,\n",
              "                      -0.1910,  0.1744, -0.1215, -0.0870, -0.0243, -0.0102, -0.1342,  0.2382,\n",
              "                       0.2331, -0.0731,  0.1079, -0.1183,  0.1529, -0.1760, -0.2013, -0.1620],\n",
              "                     device='cuda:0')),\n",
              "             ('lstm.bias_hh_l0',\n",
              "              tensor([-0.1471,  0.1381, -0.0539,  0.0975, -0.2033, -0.2243,  0.1093,  0.0442,\n",
              "                       0.1074,  0.0994, -0.1076, -0.1425, -0.2337,  0.0523, -0.2088, -0.1200,\n",
              "                       0.2455, -0.0484,  0.0748,  0.0343, -0.1486, -0.0561,  0.2022, -0.2043,\n",
              "                      -0.2456, -0.0102, -0.1886,  0.0678,  0.1806, -0.0695,  0.2080,  0.1074,\n",
              "                      -0.0494,  0.1847, -0.2089,  0.0670, -0.0581,  0.1202,  0.2025,  0.0264,\n",
              "                       0.1163, -0.2110,  0.0463,  0.0130, -0.0750,  0.0316,  0.0105, -0.0852,\n",
              "                      -0.0297, -0.0219,  0.2448,  0.1934, -0.1728, -0.0606,  0.1786,  0.1080,\n",
              "                       0.0472, -0.0534, -0.0489, -0.2433,  0.0599,  0.0622,  0.1168,  0.2415],\n",
              "                     device='cuda:0')),\n",
              "             ('lstm.weight_ih_l0_reverse',\n",
              "              tensor([[-0.0914,  0.0277,  0.0473,  ...,  0.1149, -0.1921,  0.0894],\n",
              "                      [-0.0510, -0.0117,  0.0788,  ...,  0.0009,  0.1249, -0.0317],\n",
              "                      [-0.1593,  0.1156, -0.1775,  ..., -0.1670, -0.2134, -0.0188],\n",
              "                      ...,\n",
              "                      [ 0.1193,  0.1074,  0.0733,  ..., -0.1195, -0.1074,  0.0725],\n",
              "                      [ 0.1644,  0.1279,  0.1938,  ...,  0.1681, -0.2233,  0.1764],\n",
              "                      [-0.0634,  0.2417, -0.0009,  ...,  0.0486,  0.0909, -0.1685]],\n",
              "                     device='cuda:0')),\n",
              "             ('lstm.weight_hh_l0_reverse',\n",
              "              tensor([[-0.0176, -0.0863,  0.0748,  ...,  0.1583, -0.1969,  0.0433],\n",
              "                      [ 0.0030, -0.1206,  0.0791,  ..., -0.1203,  0.1332,  0.0089],\n",
              "                      [-0.2080,  0.0921,  0.0486,  ..., -0.1103, -0.0444, -0.2000],\n",
              "                      ...,\n",
              "                      [ 0.0718,  0.2277, -0.1953,  ..., -0.0185, -0.1367, -0.1654],\n",
              "                      [-0.1157,  0.1229,  0.1092,  ..., -0.0282,  0.1214, -0.1468],\n",
              "                      [-0.1018, -0.1472,  0.1017,  ...,  0.2497, -0.0673,  0.0555]],\n",
              "                     device='cuda:0')),\n",
              "             ('lstm.bias_ih_l0_reverse',\n",
              "              tensor([-0.1458,  0.0272, -0.1210, -0.0921, -0.1722,  0.1958,  0.1326,  0.0981,\n",
              "                      -0.0009, -0.1243,  0.0009, -0.1849,  0.1987,  0.1014,  0.2215, -0.0148,\n",
              "                      -0.0142, -0.2249, -0.1822, -0.1663,  0.1567, -0.0447,  0.1654,  0.1101,\n",
              "                      -0.1444,  0.2305,  0.2107, -0.0694,  0.0267, -0.0060,  0.1028, -0.0459,\n",
              "                      -0.2240, -0.1403, -0.0521, -0.0665,  0.1154, -0.1676, -0.1042, -0.0552,\n",
              "                      -0.1735,  0.2023,  0.1072, -0.1188, -0.0130, -0.0042, -0.1803,  0.2362,\n",
              "                       0.1800, -0.0642,  0.0502,  0.1881,  0.2499,  0.1946,  0.1220,  0.0344,\n",
              "                       0.2027, -0.0911, -0.0420,  0.2461, -0.2449, -0.1295,  0.1331, -0.1276],\n",
              "                     device='cuda:0')),\n",
              "             ('lstm.bias_hh_l0_reverse',\n",
              "              tensor([-0.0563,  0.0439, -0.2495, -0.0007,  0.1510,  0.0932,  0.0038,  0.1591,\n",
              "                       0.1827, -0.2218,  0.0409, -0.0426,  0.0150,  0.0624,  0.1019, -0.1897,\n",
              "                       0.1440,  0.1899, -0.0624,  0.0669, -0.0292, -0.1647,  0.0100,  0.0318,\n",
              "                       0.2228,  0.0895, -0.1565, -0.0680,  0.1647, -0.0359, -0.0255,  0.1637,\n",
              "                      -0.0105, -0.0403,  0.2026,  0.0341, -0.0618,  0.2039,  0.1088,  0.2189,\n",
              "                       0.2279,  0.1045, -0.1234, -0.1727, -0.0114, -0.1028, -0.0892, -0.0614,\n",
              "                       0.0436, -0.0682, -0.1444,  0.1202,  0.0024, -0.1027, -0.0644,  0.1984,\n",
              "                       0.0077, -0.0419,  0.2063, -0.0733, -0.1593,  0.1423,  0.0135, -0.2215],\n",
              "                     device='cuda:0')),\n",
              "             ('lstm.weight_ih_l1',\n",
              "              tensor([[ 0.2203,  0.0764,  0.0792,  ..., -0.1717, -0.2219,  0.2165],\n",
              "                      [ 0.0909, -0.2460,  0.2355,  ..., -0.2335, -0.1808, -0.1434],\n",
              "                      [ 0.0572, -0.1286, -0.1334,  ..., -0.2352, -0.0515, -0.1065],\n",
              "                      ...,\n",
              "                      [-0.1233, -0.0661,  0.1474,  ...,  0.0715,  0.1237, -0.1291],\n",
              "                      [ 0.0958, -0.1681,  0.1985,  ...,  0.2236,  0.1091, -0.1958],\n",
              "                      [ 0.0959, -0.2466, -0.0611,  ..., -0.0598, -0.0796,  0.2056]],\n",
              "                     device='cuda:0')),\n",
              "             ('lstm.weight_hh_l1',\n",
              "              tensor([[-0.0233,  0.1203,  0.1530,  ..., -0.0164, -0.0548, -0.1482],\n",
              "                      [-0.0649, -0.1655, -0.0192,  ..., -0.2095, -0.1932, -0.1119],\n",
              "                      [ 0.1330, -0.1003, -0.2093,  ..., -0.2271, -0.1035, -0.2497],\n",
              "                      ...,\n",
              "                      [ 0.1537, -0.2166, -0.0921,  ..., -0.0607,  0.0072,  0.0215],\n",
              "                      [-0.0550,  0.0707, -0.0023,  ..., -0.0927,  0.0544,  0.2330],\n",
              "                      [ 0.0549,  0.1560,  0.0115,  ...,  0.1077,  0.0354,  0.2314]],\n",
              "                     device='cuda:0')),\n",
              "             ('lstm.bias_ih_l1',\n",
              "              tensor([ 0.0329,  0.2485,  0.1794,  0.1586,  0.1421, -0.2014, -0.2091,  0.2200,\n",
              "                       0.1385, -0.0167,  0.1657, -0.0412,  0.2485,  0.2384, -0.0772, -0.1084,\n",
              "                       0.0483, -0.0450, -0.1976, -0.2082, -0.1222, -0.1975,  0.2078,  0.1164,\n",
              "                      -0.1497,  0.0099, -0.0746, -0.2170, -0.0523, -0.1256, -0.0182,  0.0264,\n",
              "                       0.0966, -0.1056,  0.0802, -0.0028,  0.0934, -0.2418, -0.1901, -0.1381,\n",
              "                      -0.0687, -0.2170,  0.0946,  0.2495,  0.1275, -0.1942,  0.2364, -0.0964,\n",
              "                      -0.0894,  0.1323,  0.0324, -0.1405, -0.1938,  0.0044, -0.0511, -0.0271,\n",
              "                      -0.0475, -0.1103, -0.1358,  0.1669, -0.0958,  0.1771, -0.1979, -0.0957],\n",
              "                     device='cuda:0')),\n",
              "             ('lstm.bias_hh_l1',\n",
              "              tensor([-0.0725, -0.1739,  0.0939,  0.0307, -0.0419,  0.0190, -0.0104, -0.0878,\n",
              "                      -0.0218,  0.2159,  0.0331, -0.1605,  0.2376, -0.0350, -0.0275,  0.1325,\n",
              "                      -0.0233, -0.0696, -0.1064, -0.0669,  0.1827,  0.2300,  0.1459,  0.1185,\n",
              "                      -0.1203, -0.1476, -0.1533,  0.2091, -0.1365, -0.2174,  0.2082,  0.0801,\n",
              "                       0.0509, -0.1740, -0.0838,  0.1722,  0.0803, -0.0881,  0.0523, -0.2494,\n",
              "                      -0.2451,  0.1635, -0.2226,  0.0937, -0.0629, -0.0043,  0.0739, -0.2062,\n",
              "                      -0.1560,  0.1168,  0.1292, -0.0241, -0.1502,  0.1052,  0.2314, -0.2407,\n",
              "                      -0.1805, -0.1005,  0.1309, -0.0335, -0.1023, -0.1116, -0.1379,  0.1009],\n",
              "                     device='cuda:0')),\n",
              "             ('lstm.weight_ih_l1_reverse',\n",
              "              tensor([[ 0.0133, -0.0504, -0.1135,  ...,  0.1327,  0.1837, -0.0605],\n",
              "                      [-0.0188,  0.0324,  0.2136,  ...,  0.1532,  0.0058,  0.2362],\n",
              "                      [-0.0634, -0.1202, -0.0900,  ...,  0.0103,  0.2095, -0.1991],\n",
              "                      ...,\n",
              "                      [-0.2081,  0.1604,  0.0182,  ..., -0.1064, -0.2254,  0.1478],\n",
              "                      [ 0.2172, -0.0906,  0.0705,  ..., -0.0084, -0.2073, -0.0329],\n",
              "                      [-0.0247,  0.2002, -0.2038,  ..., -0.0194, -0.1406,  0.0994]],\n",
              "                     device='cuda:0')),\n",
              "             ('lstm.weight_hh_l1_reverse',\n",
              "              tensor([[-0.2266,  0.1665,  0.2355,  ..., -0.0955, -0.1864, -0.2381],\n",
              "                      [ 0.1087, -0.1776,  0.2420,  ..., -0.0589, -0.2060, -0.1535],\n",
              "                      [ 0.2354,  0.1230,  0.0636,  ..., -0.0380,  0.2375,  0.0991],\n",
              "                      ...,\n",
              "                      [ 0.2292,  0.2300, -0.0322,  ...,  0.1769,  0.0587, -0.0367],\n",
              "                      [ 0.1472,  0.1141, -0.1021,  ..., -0.2319, -0.0914, -0.0493],\n",
              "                      [ 0.0193,  0.1645, -0.0810,  ...,  0.2447, -0.2147, -0.0941]],\n",
              "                     device='cuda:0')),\n",
              "             ('lstm.bias_ih_l1_reverse',\n",
              "              tensor([-0.1051, -0.2227,  0.0805,  0.2481, -0.2310,  0.2457,  0.0235,  0.0969,\n",
              "                       0.2034,  0.2113, -0.1489, -0.2414,  0.1765,  0.2029, -0.1154, -0.0309,\n",
              "                      -0.1996, -0.0146,  0.1889, -0.1668, -0.1254,  0.2438, -0.0145, -0.1672,\n",
              "                       0.0652, -0.1925,  0.0732, -0.1150, -0.0594, -0.1841,  0.2440, -0.0547,\n",
              "                       0.0344, -0.2307,  0.1687,  0.0854,  0.1955,  0.1142, -0.0287,  0.1616,\n",
              "                       0.2310, -0.1608,  0.2213,  0.0486, -0.0972,  0.0844, -0.2281,  0.1098,\n",
              "                       0.2027,  0.2111, -0.2389,  0.1265,  0.0585,  0.2473, -0.0887,  0.1599,\n",
              "                      -0.0836, -0.1740,  0.2128, -0.0035, -0.2368, -0.0451, -0.0410, -0.1461],\n",
              "                     device='cuda:0')),\n",
              "             ('lstm.bias_hh_l1_reverse',\n",
              "              tensor([-0.0843,  0.1084,  0.1283, -0.1075, -0.2196,  0.0695, -0.1793, -0.2445,\n",
              "                       0.0727, -0.2243,  0.0410,  0.2004, -0.1032, -0.2409, -0.1821, -0.0195,\n",
              "                      -0.0442, -0.2460, -0.1049,  0.0111,  0.0928, -0.2331, -0.2407, -0.1936,\n",
              "                      -0.2072,  0.0913, -0.0578,  0.1306,  0.2429,  0.0473, -0.1993, -0.0210,\n",
              "                       0.0225,  0.1391,  0.0159, -0.0614, -0.1008,  0.0508, -0.2185, -0.0975,\n",
              "                       0.2030,  0.2250,  0.2001, -0.0770,  0.1612,  0.1565, -0.1051, -0.0091,\n",
              "                       0.0653, -0.1031,  0.0704, -0.1983,  0.0041,  0.2269,  0.0077, -0.0347,\n",
              "                      -0.1213,  0.1250,  0.1350,  0.1889, -0.1525, -0.0043,  0.1598, -0.2400],\n",
              "                     device='cuda:0')),\n",
              "             ('lstm.weight_ih_l2',\n",
              "              tensor([[ 0.0520,  0.2186, -0.1011,  ...,  0.0525,  0.1263, -0.2311],\n",
              "                      [-0.0129,  0.0698, -0.1840,  ..., -0.0188, -0.0112,  0.1535],\n",
              "                      [-0.1779,  0.1254,  0.2166,  ...,  0.1711,  0.0813, -0.2332],\n",
              "                      ...,\n",
              "                      [-0.2271, -0.1077, -0.0156,  ...,  0.0773,  0.0359, -0.1195],\n",
              "                      [-0.0667, -0.1180, -0.1502,  ...,  0.1274, -0.0069, -0.1642],\n",
              "                      [ 0.1327,  0.1799, -0.1893,  ...,  0.1633,  0.0885, -0.1940]],\n",
              "                     device='cuda:0')),\n",
              "             ('lstm.weight_hh_l2',\n",
              "              tensor([[ 0.0473,  0.1645,  0.0350,  ...,  0.0074, -0.1799, -0.2468],\n",
              "                      [ 0.1318,  0.0040, -0.0046,  ...,  0.2232,  0.1244, -0.1709],\n",
              "                      [ 0.0425, -0.1086, -0.1297,  ..., -0.0998, -0.0310, -0.0703],\n",
              "                      ...,\n",
              "                      [-0.2479, -0.1926,  0.0568,  ...,  0.1861, -0.1692, -0.1523],\n",
              "                      [ 0.1302,  0.0014, -0.2195,  ..., -0.0233,  0.1309, -0.1703],\n",
              "                      [ 0.2259,  0.0468,  0.0437,  ..., -0.1436, -0.2366, -0.1443]],\n",
              "                     device='cuda:0')),\n",
              "             ('lstm.bias_ih_l2',\n",
              "              tensor([-0.0414, -0.0113,  0.0349,  0.1546, -0.0064, -0.2354,  0.1520, -0.2155,\n",
              "                       0.0955, -0.1513, -0.1946,  0.2394, -0.1920,  0.0350,  0.0716, -0.1678,\n",
              "                      -0.2468,  0.0373, -0.2326,  0.1760, -0.0409, -0.0412,  0.0042,  0.1927,\n",
              "                      -0.1528, -0.2109, -0.0201,  0.2110, -0.0130, -0.0613, -0.0275,  0.0286,\n",
              "                      -0.0518, -0.0184, -0.1590,  0.1694, -0.2410, -0.1766, -0.0532, -0.1302,\n",
              "                      -0.0812,  0.1261,  0.1775,  0.1561,  0.0969, -0.0170,  0.1933, -0.2387,\n",
              "                      -0.0918, -0.0125, -0.2210, -0.1198,  0.2102,  0.0175,  0.0386, -0.0465,\n",
              "                      -0.2013,  0.2248, -0.2484, -0.1387,  0.1760, -0.2272,  0.1514, -0.2113],\n",
              "                     device='cuda:0')),\n",
              "             ('lstm.bias_hh_l2',\n",
              "              tensor([ 0.0885, -0.2413, -0.1527, -0.1504,  0.2341, -0.1967,  0.2459, -0.0800,\n",
              "                      -0.0834, -0.0159, -0.1439, -0.2392, -0.0798,  0.2036, -0.0391,  0.1905,\n",
              "                      -0.0225, -0.0216,  0.1822,  0.0853, -0.2341,  0.1759,  0.1056, -0.0617,\n",
              "                      -0.2002, -0.0146,  0.0969, -0.1750,  0.1796,  0.1816,  0.1459,  0.0113,\n",
              "                       0.1515, -0.1489,  0.0503, -0.0665, -0.0126, -0.1674,  0.1413, -0.0115,\n",
              "                       0.2329,  0.0135,  0.2150, -0.2263, -0.1012,  0.1226,  0.1304,  0.0233,\n",
              "                      -0.2423,  0.0887, -0.0162,  0.0009, -0.1426,  0.0479,  0.0831, -0.1834,\n",
              "                      -0.0876,  0.0155, -0.0780,  0.1740, -0.2046, -0.1678, -0.1009,  0.0572],\n",
              "                     device='cuda:0')),\n",
              "             ('lstm.weight_ih_l2_reverse',\n",
              "              tensor([[ 0.1672,  0.0449, -0.0739,  ..., -0.0129, -0.2110, -0.0833],\n",
              "                      [-0.0487,  0.0659,  0.1102,  ...,  0.0497,  0.1008,  0.0702],\n",
              "                      [-0.0590,  0.2017,  0.1228,  ..., -0.0639, -0.0253,  0.0157],\n",
              "                      ...,\n",
              "                      [-0.1886,  0.1794, -0.2445,  ..., -0.1220,  0.0570, -0.1620],\n",
              "                      [ 0.0395, -0.2200,  0.0375,  ..., -0.1381, -0.1776, -0.0709],\n",
              "                      [-0.2019, -0.0994, -0.0493,  ...,  0.2400,  0.0263, -0.2224]],\n",
              "                     device='cuda:0')),\n",
              "             ('lstm.weight_hh_l2_reverse',\n",
              "              tensor([[-0.1218, -0.0517,  0.1315,  ..., -0.0522, -0.2319,  0.1049],\n",
              "                      [-0.1979,  0.1315, -0.1011,  ..., -0.1758,  0.1268, -0.1297],\n",
              "                      [-0.2174, -0.0246,  0.0093,  ...,  0.1580, -0.0286, -0.2172],\n",
              "                      ...,\n",
              "                      [ 0.2003,  0.2367,  0.2125,  ...,  0.0068,  0.0838,  0.0743],\n",
              "                      [ 0.2368, -0.1039,  0.0864,  ..., -0.0197,  0.1613, -0.0640],\n",
              "                      [-0.0066, -0.2114, -0.0477,  ...,  0.1156,  0.0952,  0.0646]],\n",
              "                     device='cuda:0')),\n",
              "             ('lstm.bias_ih_l2_reverse',\n",
              "              tensor([-0.0450, -0.1633,  0.2211, -0.2480,  0.0831,  0.1428,  0.1655,  0.0891,\n",
              "                      -0.0408, -0.1400, -0.0757,  0.1018,  0.0513, -0.0339, -0.0719,  0.1823,\n",
              "                      -0.1440,  0.0971, -0.0780, -0.0923, -0.1460,  0.0531,  0.1770,  0.0094,\n",
              "                       0.0477,  0.0030,  0.0908,  0.0097, -0.1259, -0.1109,  0.1849, -0.1154,\n",
              "                       0.0903,  0.0330,  0.0539,  0.1782, -0.2252, -0.1603, -0.1423, -0.0438,\n",
              "                       0.2280, -0.0824, -0.0297,  0.1377,  0.1484,  0.0531,  0.0068,  0.2073,\n",
              "                      -0.1330,  0.0839,  0.0801,  0.0531,  0.0879,  0.1414,  0.1507, -0.0462,\n",
              "                       0.0347, -0.2424, -0.1796, -0.1850,  0.0358, -0.2122, -0.0711, -0.1723],\n",
              "                     device='cuda:0')),\n",
              "             ('lstm.bias_hh_l2_reverse',\n",
              "              tensor([-2.2088e-01, -5.3004e-02,  6.0375e-02, -1.4409e-01, -1.6262e-01,\n",
              "                      -1.4133e-01, -1.0765e-04,  1.0206e-02,  5.5348e-02, -2.3282e-01,\n",
              "                       5.9514e-02, -1.4106e-01, -1.2405e-01, -1.7022e-02,  4.3380e-02,\n",
              "                      -1.6933e-02, -7.3631e-02, -1.7338e-01,  9.8497e-04, -6.6293e-03,\n",
              "                       1.7961e-01, -1.0517e-01,  1.8938e-01, -2.4374e-02, -1.9238e-01,\n",
              "                       5.5566e-02, -1.4594e-01,  1.1867e-01, -2.9064e-02, -8.4281e-02,\n",
              "                       2.2465e-01,  1.9912e-01, -2.1600e-01, -8.1145e-02, -2.4508e-01,\n",
              "                      -8.2550e-02,  1.1514e-01, -1.6962e-01, -2.4018e-01,  1.6243e-01,\n",
              "                      -4.6503e-02,  1.8909e-01, -1.0796e-01, -1.8941e-01, -2.0391e-01,\n",
              "                      -2.1291e-01, -1.8753e-01, -2.4557e-01, -3.7340e-02, -4.3650e-02,\n",
              "                       2.7438e-02,  3.9212e-02, -1.2018e-01,  2.4834e-01, -2.4874e-01,\n",
              "                      -5.0679e-02, -2.1559e-01, -1.0684e-01,  1.3337e-02, -6.0094e-02,\n",
              "                       2.0260e-01,  1.5473e-01,  2.1038e-01, -7.3678e-02], device='cuda:0')),\n",
              "             ('fc_layers.0.weight',\n",
              "              tensor([[ 0.1253,  0.0115,  0.0384,  ..., -0.0025, -0.1607,  0.0116],\n",
              "                      [ 0.1181, -0.0323, -0.0623,  ...,  0.0961,  0.0964, -0.0592],\n",
              "                      [-0.1546, -0.1272, -0.1418,  ..., -0.0942,  0.1366, -0.0386],\n",
              "                      ...,\n",
              "                      [ 0.1711, -0.1015,  0.0928,  ..., -0.0551,  0.1609,  0.0158],\n",
              "                      [-0.1362,  0.0976,  0.0432,  ...,  0.0032, -0.1175,  0.0552],\n",
              "                      [-0.1690,  0.0099, -0.0368,  ...,  0.0125, -0.0364,  0.1665]],\n",
              "                     device='cuda:0')),\n",
              "             ('fc_layers.0.bias',\n",
              "              tensor([ 0.0681, -0.0432, -0.0720, -0.0771,  0.1707, -0.0783,  0.0427, -0.0389,\n",
              "                       0.0967,  0.0289,  0.0816,  0.0166, -0.0935, -0.1370,  0.0376, -0.1234,\n",
              "                      -0.1520, -0.0579, -0.0603, -0.1107,  0.0166,  0.0007,  0.1212, -0.1766,\n",
              "                       0.0409,  0.1699,  0.0321,  0.0372, -0.1208,  0.1001,  0.1658,  0.1113,\n",
              "                      -0.0184, -0.0623,  0.0040,  0.0450,  0.0355,  0.1140, -0.1283,  0.1304,\n",
              "                       0.1131,  0.0043,  0.0608, -0.1311, -0.0728, -0.0432, -0.0137, -0.1607,\n",
              "                       0.1372,  0.1173,  0.0628, -0.1120,  0.0766,  0.1388, -0.0353,  0.0831,\n",
              "                       0.1404,  0.0178,  0.1705,  0.0797,  0.1626, -0.1098, -0.0023,  0.0257,\n",
              "                       0.0073,  0.1246, -0.1121,  0.1224, -0.1577, -0.0636, -0.1195, -0.0430,\n",
              "                      -0.1258, -0.0280,  0.1619,  0.1739,  0.0543,  0.1577,  0.1749, -0.0184,\n",
              "                      -0.1231, -0.1048,  0.1484,  0.1723, -0.1119, -0.1004, -0.0295, -0.1068,\n",
              "                      -0.1645,  0.0151,  0.0745,  0.1554,  0.0731, -0.0493, -0.0465, -0.1535,\n",
              "                       0.1729, -0.0555,  0.0913, -0.0585, -0.1522,  0.1141, -0.1168, -0.1724,\n",
              "                      -0.0348,  0.1698, -0.0492, -0.1013, -0.0374, -0.1301, -0.1452,  0.0781,\n",
              "                      -0.1390, -0.0190,  0.0590,  0.0969, -0.1246, -0.0566, -0.1314,  0.0195,\n",
              "                       0.0270, -0.0410,  0.0597,  0.1505, -0.0376, -0.1296,  0.0168,  0.0460],\n",
              "                     device='cuda:0')),\n",
              "             ('fc_layers.2.weight',\n",
              "              tensor([[ 0.0840, -0.0424,  0.0342,  ..., -0.0330, -0.0050,  0.0068],\n",
              "                      [-0.0518, -0.0796, -0.0150,  ..., -0.0239, -0.0866, -0.0808],\n",
              "                      [ 0.0665, -0.0720,  0.0120,  ..., -0.0228, -0.0187,  0.0628],\n",
              "                      ...,\n",
              "                      [-0.0315, -0.0080,  0.0525,  ..., -0.0696,  0.0816,  0.0558],\n",
              "                      [-0.0218, -0.0222, -0.0435,  ..., -0.0883,  0.0787,  0.0246],\n",
              "                      [ 0.0811,  0.0413, -0.0549,  ...,  0.0522, -0.0244, -0.0299]],\n",
              "                     device='cuda:0')),\n",
              "             ('fc_layers.2.bias',\n",
              "              tensor([ 0.0882,  0.0459,  0.0557, -0.0458,  0.0817, -0.0437,  0.0787,  0.0427,\n",
              "                      -0.0477, -0.0111, -0.0554,  0.0232, -0.0548, -0.0678,  0.0151, -0.0805,\n",
              "                       0.0578, -0.0441,  0.0225, -0.0529,  0.0060,  0.0591, -0.0813, -0.0330,\n",
              "                       0.0142,  0.0106,  0.0547,  0.0664,  0.0217, -0.0664,  0.0667, -0.0054,\n",
              "                       0.0873,  0.0284,  0.0846, -0.0481, -0.0611, -0.0630,  0.0150,  0.0281,\n",
              "                      -0.0725,  0.0616,  0.0792,  0.0376, -0.0033, -0.0437,  0.0565,  0.0654,\n",
              "                       0.0571,  0.0168,  0.0006,  0.0615,  0.0362, -0.0510, -0.0279,  0.0172,\n",
              "                      -0.0594,  0.0459,  0.0730, -0.0204, -0.0360,  0.0186,  0.0293, -0.0621],\n",
              "                     device='cuda:0')),\n",
              "             ('fc_layers.4.weight',\n",
              "              tensor([[ 0.0042, -0.0905,  0.0183,  ..., -0.0045,  0.0141,  0.0477],\n",
              "                      [ 0.0018,  0.0574,  0.0364,  ..., -0.0668,  0.0110, -0.1148],\n",
              "                      [ 0.0782,  0.1086,  0.0648,  ...,  0.0848,  0.0154, -0.0523],\n",
              "                      ...,\n",
              "                      [ 0.0536, -0.1038, -0.0452,  ...,  0.0033,  0.0905,  0.0796],\n",
              "                      [-0.0223, -0.1092, -0.0946,  ..., -0.0855,  0.0126, -0.0888],\n",
              "                      [-0.1165, -0.0245, -0.0437,  ..., -0.0615,  0.0431, -0.0511]],\n",
              "                     device='cuda:0')),\n",
              "             ('fc_layers.4.bias',\n",
              "              tensor([ 0.0523, -0.0014,  0.0441, -0.0588,  0.0962, -0.0048, -0.0826, -0.1206,\n",
              "                       0.0671, -0.0278,  0.0627,  0.0396,  0.0730, -0.0033,  0.0009,  0.0805,\n",
              "                      -0.0734, -0.0972,  0.0390, -0.1204, -0.0331,  0.0215, -0.0126,  0.1126,\n",
              "                       0.0712, -0.1128,  0.1154,  0.0689, -0.0608, -0.1202, -0.0762, -0.0595],\n",
              "                     device='cuda:0')),\n",
              "             ('fc_layers.6.weight',\n",
              "              tensor([[ 1.2230e-01,  1.3343e-01, -1.2384e-01, -1.9856e-02, -1.1543e-01,\n",
              "                       -7.7936e-02,  9.5886e-02, -7.8736e-02, -2.1688e-02, -1.6459e-01,\n",
              "                       -4.8551e-02,  1.4608e-01,  9.6916e-02, -1.0525e-01,  1.3933e-01,\n",
              "                       -6.5995e-02, -9.5214e-02,  1.0586e-01, -6.2826e-02, -6.4605e-02,\n",
              "                        1.0364e-01,  3.0360e-02,  8.1966e-02, -1.7454e-01,  1.5492e-01,\n",
              "                        9.8644e-02,  7.4197e-02,  1.7251e-01,  4.5092e-02,  9.7069e-02,\n",
              "                       -4.5343e-02, -1.1061e-01],\n",
              "                      [ 1.6238e-01,  2.7014e-02, -1.1814e-01, -1.2468e-01, -4.9714e-02,\n",
              "                        1.0834e-01, -9.0376e-02,  1.6274e-01,  6.0886e-02, -1.1070e-01,\n",
              "                        8.6269e-02, -2.6237e-02,  1.0190e-01,  1.3065e-01,  7.1933e-02,\n",
              "                        1.1930e-01, -1.4036e-02,  2.6826e-02, -2.0100e-02,  6.3835e-02,\n",
              "                        7.5335e-02, -1.4387e-02, -4.7025e-02, -5.9965e-03,  6.3706e-02,\n",
              "                       -1.5316e-02,  7.0615e-02, -1.3133e-01, -1.0991e-01,  1.6300e-01,\n",
              "                        8.3493e-02, -7.0421e-02],\n",
              "                      [-6.0552e-02, -1.8374e-02,  1.2015e-01,  9.6794e-02, -1.3133e-01,\n",
              "                       -1.6285e-01, -3.0969e-02,  1.4886e-01,  1.7469e-01,  8.7610e-02,\n",
              "                        1.3130e-01,  1.5326e-01, -5.1532e-02, -1.0570e-01, -6.3747e-02,\n",
              "                       -3.9203e-02,  4.4316e-02, -1.3576e-01,  1.3108e-01, -1.0378e-01,\n",
              "                        7.5931e-02, -5.9720e-02,  1.2857e-01, -1.0458e-01,  1.3238e-02,\n",
              "                       -1.2259e-01,  6.7930e-02,  1.6739e-01, -1.5044e-01,  8.3386e-02,\n",
              "                        1.5209e-01,  6.7207e-02],\n",
              "                      [ 7.0785e-02,  7.1852e-02, -1.7164e-01, -3.3935e-02, -9.1161e-02,\n",
              "                        3.1803e-02,  1.1714e-01,  1.3670e-01,  7.6101e-02,  6.9858e-02,\n",
              "                       -1.1086e-01, -6.9947e-02, -1.7569e-01,  1.0963e-01, -1.3413e-01,\n",
              "                        1.3898e-01, -8.6863e-02,  1.1712e-01,  7.2417e-02,  5.8507e-02,\n",
              "                       -1.2978e-01, -5.5427e-02,  1.3087e-01,  9.5653e-02, -1.3736e-01,\n",
              "                       -1.1953e-01, -1.5051e-01, -7.1432e-02, -3.9211e-02,  8.9809e-02,\n",
              "                       -1.1499e-01, -8.9186e-02],\n",
              "                      [ 1.2474e-01, -4.5902e-02, -9.9919e-02,  5.0645e-02, -6.5204e-02,\n",
              "                       -3.0302e-03, -4.8272e-02,  9.3532e-02,  1.2074e-01,  1.1162e-01,\n",
              "                       -1.0329e-01, -4.1744e-02, -1.0908e-01,  9.0956e-02,  1.4727e-01,\n",
              "                        2.7055e-02, -1.4528e-01, -1.1613e-01, -1.6432e-01, -1.2558e-01,\n",
              "                        1.4599e-01, -1.1367e-01,  7.9988e-02, -9.3828e-02,  5.7042e-04,\n",
              "                        5.8746e-02, -5.1787e-02,  1.5918e-01,  7.5890e-03,  2.0491e-02,\n",
              "                       -2.1381e-02, -1.3287e-01],\n",
              "                      [-1.5999e-01, -5.7861e-02, -4.9983e-02,  1.1636e-01,  9.9365e-02,\n",
              "                        2.1956e-02,  7.4381e-02,  1.2339e-02,  1.4843e-01, -7.8499e-02,\n",
              "                       -1.7326e-01, -8.0390e-02, -8.2376e-02, -1.0694e-01, -8.1025e-02,\n",
              "                       -1.1720e-02, -8.5662e-02, -5.0874e-02, -1.3004e-02,  1.8569e-02,\n",
              "                        8.6325e-02, -1.1888e-02,  3.2983e-02, -1.2833e-01, -1.7059e-01,\n",
              "                       -3.2803e-02, -6.0017e-02, -1.4613e-03,  4.0551e-02, -1.4480e-01,\n",
              "                        1.6665e-02,  2.5021e-02],\n",
              "                      [ 4.6480e-02,  1.5185e-01,  1.4490e-02, -1.7231e-01,  1.4524e-01,\n",
              "                       -4.8128e-02, -2.5355e-02,  2.7141e-02,  4.3304e-02,  5.8979e-02,\n",
              "                        1.7354e-01, -1.2719e-01, -5.6861e-03, -1.3123e-01,  4.6311e-02,\n",
              "                        8.2450e-03,  5.6307e-02, -1.2185e-01, -1.7498e-01,  2.5420e-02,\n",
              "                        2.5789e-03,  1.7202e-01, -6.6037e-02, -9.7488e-02,  1.7552e-02,\n",
              "                       -1.3437e-01,  1.0485e-01,  5.9450e-02, -8.4682e-02,  1.0435e-02,\n",
              "                       -1.7221e-01, -1.2256e-02],\n",
              "                      [-1.6639e-01, -1.6853e-01,  1.5416e-01, -1.6965e-01, -8.5672e-02,\n",
              "                       -7.0473e-02, -4.4460e-02, -1.3338e-01, -2.7107e-02,  1.2696e-01,\n",
              "                       -1.7581e-01, -1.2115e-01, -1.0471e-01,  1.2477e-02, -3.6191e-02,\n",
              "                        1.6700e-01, -1.2090e-01, -6.2580e-02,  3.5427e-02,  1.1408e-01,\n",
              "                       -5.3330e-03, -1.2220e-01,  1.6025e-01,  1.4854e-01, -1.3596e-01,\n",
              "                        1.6166e-01, -1.2084e-01,  5.7486e-03, -5.3390e-03,  1.3291e-01,\n",
              "                       -1.6242e-02,  3.0051e-02],\n",
              "                      [ 7.0838e-02,  9.6309e-02,  1.6283e-01, -1.3981e-01,  4.5431e-02,\n",
              "                       -1.0880e-01,  1.4480e-02,  1.0665e-01,  1.2925e-01,  2.2460e-02,\n",
              "                        4.1556e-02, -1.2700e-01,  1.5371e-01,  5.5516e-02, -2.8849e-02,\n",
              "                        8.8753e-02, -2.2011e-02,  9.0443e-02,  1.4560e-01,  1.0283e-01,\n",
              "                        7.3858e-02,  2.7777e-02, -2.0134e-02, -1.8572e-03,  8.0947e-02,\n",
              "                       -4.1503e-03,  1.3123e-01, -1.1639e-01, -1.3088e-01, -5.9305e-03,\n",
              "                        4.8049e-02,  9.6834e-02],\n",
              "                      [-6.2823e-02, -3.1834e-02,  1.3210e-01, -7.8349e-02,  9.4637e-02,\n",
              "                        1.5303e-01, -1.5674e-01,  1.3497e-01, -1.5832e-01,  7.9960e-02,\n",
              "                        1.3381e-01,  1.1219e-01,  8.6457e-02,  1.0561e-02,  1.2822e-01,\n",
              "                       -1.0874e-02,  6.7289e-02, -1.5024e-02, -5.8042e-02, -1.0359e-01,\n",
              "                        1.1805e-01,  1.1377e-01,  1.2201e-01, -1.1643e-01,  5.0344e-02,\n",
              "                        8.0345e-02, -4.4629e-02, -1.2216e-01,  1.7424e-01,  1.3838e-01,\n",
              "                       -1.4387e-01,  1.4957e-01],\n",
              "                      [-1.3990e-02,  1.3486e-01,  1.0331e-01,  1.7500e-01, -4.6530e-02,\n",
              "                       -1.7976e-02,  9.9309e-02, -1.2880e-01,  1.3383e-01,  3.1994e-02,\n",
              "                        1.5928e-01, -1.4636e-01, -3.0380e-02,  3.5367e-02,  6.5368e-02,\n",
              "                        2.0287e-02,  5.4606e-02,  3.4559e-02,  1.6127e-02,  4.3097e-02,\n",
              "                       -7.6935e-02,  1.6255e-01,  6.4661e-02, -1.0837e-01, -1.0123e-01,\n",
              "                        8.4786e-02,  8.8609e-02, -5.0668e-03, -4.3371e-02,  6.7546e-02,\n",
              "                       -3.8896e-02, -7.1768e-02],\n",
              "                      [ 1.1840e-01, -3.4251e-02,  1.5767e-01,  5.2716e-02,  1.1424e-01,\n",
              "                       -5.3029e-02, -1.4084e-01,  1.0213e-01,  1.2524e-01,  1.5921e-01,\n",
              "                       -1.5549e-01, -3.1169e-02, -1.2047e-02,  1.5290e-01, -1.2762e-01,\n",
              "                       -1.4884e-01, -1.2295e-02, -1.0572e-01,  4.0210e-02, -1.3175e-01,\n",
              "                       -1.0698e-01,  1.2469e-01, -1.3926e-01, -1.5036e-01, -4.9489e-02,\n",
              "                        6.3157e-02, -8.0217e-02,  1.4013e-01,  3.4583e-02,  1.5559e-02,\n",
              "                       -3.9877e-02, -1.2524e-01],\n",
              "                      [-4.0294e-02,  1.1853e-01, -5.0946e-02,  5.5778e-03, -1.5815e-01,\n",
              "                       -6.7012e-02,  1.7503e-02, -6.0296e-02, -5.9362e-02,  3.9092e-02,\n",
              "                        1.5367e-01,  1.7359e-01, -5.0044e-02,  8.3283e-02,  1.0661e-01,\n",
              "                       -1.6272e-01, -4.5890e-02, -7.7784e-02, -6.3282e-02,  1.2366e-01,\n",
              "                        5.4906e-02,  1.5951e-01, -3.7216e-02,  1.7229e-01, -1.5177e-01,\n",
              "                       -1.5601e-01, -1.1418e-01, -1.8109e-02, -4.0071e-02, -6.7732e-02,\n",
              "                        5.9742e-02, -1.0275e-01],\n",
              "                      [-4.0356e-02, -1.2488e-01, -1.3328e-01,  8.2456e-02, -5.2688e-03,\n",
              "                       -1.1016e-01,  7.8792e-02, -1.7316e-01, -7.0724e-02, -1.1136e-03,\n",
              "                       -1.4850e-01,  7.8499e-02, -1.5339e-01,  1.0161e-01,  1.5417e-01,\n",
              "                       -2.9156e-02,  4.5442e-02,  1.4826e-01, -2.8630e-04,  3.2623e-03,\n",
              "                        4.0429e-02,  5.5254e-03, -3.8111e-02, -4.9819e-02,  7.8953e-02,\n",
              "                        1.4071e-01,  1.9803e-02,  1.5771e-01,  7.9499e-02,  9.4749e-02,\n",
              "                       -1.2763e-01,  1.4640e-01],\n",
              "                      [ 1.0517e-01, -7.7306e-02, -4.1871e-02, -1.3535e-01, -1.3565e-01,\n",
              "                       -1.2604e-02, -1.3677e-01,  1.5478e-02, -7.3475e-02, -3.3715e-02,\n",
              "                        1.6598e-01, -4.1444e-02, -1.3455e-01, -1.1213e-02,  7.2157e-02,\n",
              "                        1.2450e-01,  1.4720e-04, -2.3137e-02,  3.7271e-02, -1.0745e-01,\n",
              "                       -1.3693e-01, -3.4913e-03, -1.6228e-01, -1.7372e-01, -4.0142e-03,\n",
              "                       -9.2073e-02, -1.2999e-01, -2.3179e-02,  5.6693e-02,  5.0240e-02,\n",
              "                        5.0104e-02, -4.8823e-02],\n",
              "                      [-1.7305e-01,  9.9772e-02, -8.9509e-02, -1.6267e-01,  1.6938e-01,\n",
              "                       -5.4521e-02,  1.4858e-02, -1.6888e-01, -4.0912e-02, -4.8230e-02,\n",
              "                       -2.3357e-02, -4.4821e-02, -1.7186e-01, -9.7363e-03, -6.9727e-02,\n",
              "                       -1.2056e-01,  1.5011e-03, -1.7426e-01, -1.1610e-01,  9.2523e-02,\n",
              "                       -1.6754e-02,  3.6145e-02, -1.2305e-01,  7.7686e-02,  1.2524e-01,\n",
              "                       -1.2364e-01,  1.0354e-01,  4.6512e-02,  1.7461e-01, -4.0078e-02,\n",
              "                       -2.5706e-02, -1.1698e-01]], device='cuda:0')),\n",
              "             ('fc_layers.6.bias',\n",
              "              tensor([ 0.0771, -0.1180, -0.0950, -0.0964,  0.0867, -0.1323,  0.0847, -0.1252,\n",
              "                       0.0321,  0.0065,  0.0753,  0.1749, -0.0274, -0.0943, -0.0788,  0.0792],\n",
              "                     device='cuda:0')),\n",
              "             ('fc_layers.8.weight',\n",
              "              tensor([[-0.2447,  0.2412,  0.1578, -0.0837, -0.1718, -0.2011, -0.0238, -0.1001,\n",
              "                        0.2396, -0.1809, -0.1290, -0.1786,  0.0850,  0.0911, -0.2102,  0.1611],\n",
              "                      [ 0.0429,  0.1014,  0.1712, -0.2300, -0.1996,  0.2012,  0.2185, -0.2044,\n",
              "                       -0.1231,  0.0274,  0.2396, -0.0125,  0.2489,  0.1577,  0.0661,  0.0313],\n",
              "                      [-0.0428, -0.0291, -0.0066, -0.0033, -0.0156,  0.1367,  0.0804, -0.2306,\n",
              "                       -0.0722, -0.1402, -0.0772,  0.2152, -0.0469, -0.1444, -0.1197, -0.0417],\n",
              "                      [ 0.0448,  0.0324,  0.1147, -0.0303,  0.1342,  0.0821, -0.1600,  0.0999,\n",
              "                        0.1983,  0.1678,  0.1648, -0.0956, -0.1437, -0.0435, -0.1544,  0.1526],\n",
              "                      [ 0.0762,  0.1918,  0.0631,  0.2205, -0.0558, -0.2018,  0.0166,  0.0463,\n",
              "                        0.1451, -0.0939,  0.0080, -0.0378,  0.0072, -0.0029, -0.1799, -0.0301],\n",
              "                      [-0.1830,  0.0669, -0.1595,  0.1580,  0.0540, -0.2178,  0.2438,  0.2186,\n",
              "                        0.0165, -0.1691, -0.2455,  0.2068,  0.1772, -0.0539,  0.2482,  0.2203],\n",
              "                      [-0.2313, -0.1256, -0.1338, -0.1098, -0.2221, -0.1989,  0.0552,  0.1390,\n",
              "                        0.2428, -0.0935,  0.2185,  0.0403, -0.0175, -0.0175,  0.1978, -0.2492],\n",
              "                      [ 0.0427,  0.0972,  0.1031, -0.2155,  0.2433,  0.0332,  0.0352,  0.1965,\n",
              "                        0.2416, -0.2397, -0.2246, -0.1453, -0.0327, -0.1990, -0.1317,  0.1209],\n",
              "                      [ 0.0504,  0.1124,  0.0546, -0.0679,  0.0889, -0.0866,  0.0374,  0.0497,\n",
              "                        0.1900, -0.2378,  0.1103, -0.1495,  0.1144, -0.0647,  0.2152, -0.0311],\n",
              "                      [-0.0479, -0.0644, -0.2381,  0.2186, -0.1820, -0.1609,  0.1918,  0.2187,\n",
              "                        0.0826, -0.0522,  0.0193,  0.1156,  0.1802, -0.2448, -0.0143, -0.1902]],\n",
              "                     device='cuda:0')),\n",
              "             ('fc_layers.8.bias',\n",
              "              tensor([-0.0997,  0.1958, -0.0545,  0.2361, -0.0804, -0.0824,  0.2357,  0.2283,\n",
              "                      -0.0256, -0.1823], device='cuda:0'))])"
            ]
          },
          "metadata": {},
          "execution_count": 9
        }
      ]
    },
    {
      "cell_type": "code",
      "execution_count": 10,
      "metadata": {
        "id": "3w9QW9Lfp1aV",
        "colab": {
          "base_uri": "https://localhost:8080/"
        },
        "outputId": "b8819bd6-cbfb-4a19-bad6-dd88b9d23b66"
      },
      "outputs": [
        {
          "output_type": "execute_result",
          "data": {
            "text/plain": [
              "LSTM_Model_label(\n",
              "  (lstm): LSTM(41, 16, num_layers=3, batch_first=True, bidirectional=True)\n",
              "  (fc_layers): Sequential(\n",
              "    (0): Linear(in_features=32, out_features=128, bias=True)\n",
              "    (1): Tanh()\n",
              "    (2): Linear(in_features=128, out_features=64, bias=True)\n",
              "    (3): Tanh()\n",
              "    (4): Linear(in_features=64, out_features=32, bias=True)\n",
              "    (5): Sigmoid()\n",
              "    (6): Linear(in_features=32, out_features=16, bias=True)\n",
              "    (7): Sigmoid()\n",
              "    (8): Linear(in_features=16, out_features=2, bias=True)\n",
              "  )\n",
              ")"
            ]
          },
          "metadata": {},
          "execution_count": 10
        }
      ],
      "source": [
        "my_model_label = LSTM_Model_label(num_classes_label, input_size, hidden_size, num_layers).to(device=device)\n",
        "my_model_label"
      ]
    },
    {
      "cell_type": "markdown",
      "metadata": {
        "id": "Cey1CId-jjis"
      },
      "source": [
        "# **optimizer and loss function**"
      ]
    },
    {
      "cell_type": "code",
      "execution_count": 11,
      "metadata": {
        "id": "WNuQFMAekNDH"
      },
      "outputs": [],
      "source": [
        "loss_fn1 = nn.CrossEntropyLoss().to(device=device)\n",
        "loss_fn2 = nn.CrossEntropyLoss().to(device=device)\n",
        "optimizer1 = opt.Adam(params=my_model_attack.parameters(),lr=learning_rate)\n",
        "optimizer2 = opt.Adam(params=my_model_label.parameters(),lr=learning_rate)"
      ]
    },
    {
      "cell_type": "markdown",
      "metadata": {
        "id": "4JYcovfYlpHM"
      },
      "source": [
        "# **train attack cat**"
      ]
    },
    {
      "cell_type": "code",
      "execution_count": 12,
      "metadata": {
        "id": "Qmw8w1eTkeBu",
        "colab": {
          "base_uri": "https://localhost:8080/"
        },
        "outputId": "c6358bb0-d6ea-4ed4-bc55-8ac546c98def"
      },
      "outputs": [
        {
          "output_type": "stream",
          "name": "stdout",
          "text": [
            "Epoch: 0, loss: 1.7118\n",
            "Epoch: 50, loss: 0.4770\n",
            "Epoch: 100, loss: 0.4775\n",
            "Epoch: 150, loss: 0.4680\n",
            "Epoch: 200, loss: 0.5002\n",
            "Epoch: 250, loss: 0.4458\n",
            "Epoch: 300, loss: 0.4507\n",
            "Epoch: 350, loss: 0.4144\n",
            "Epoch: 400, loss: 0.3795\n",
            "Epoch: 450, loss: 0.4060\n",
            "Epoch: 500, loss: 0.4055\n"
          ]
        }
      ],
      "source": [
        "for epoch in range(num_epoch+1):\n",
        "\n",
        "    for batch_x, batch_y in train_attack_cat_dataloader:\n",
        "\n",
        "        batch_x = torch.reshape(batch_x, (batch_x.shape[0], 1, batch_x.shape[1])) #RuntimeError: For unbatched 2-D input, hx and cx should also be 2-D but got (3-D, 3-D) tensors\n",
        "        \n",
        "        batch_x = batch_x.to(device)\n",
        "        batch_y = batch_y.to(device)\n",
        "\n",
        "        optimizer1.zero_grad()\n",
        "        loss1 = loss_fn1(my_model_attack(batch_x) , batch_y)\n",
        "        loss1.backward() \n",
        "        optimizer1.step()\n",
        "\n",
        "    if epoch % 50 == 0:\n",
        "         print(\"Epoch: %d, loss: %.4f\" % (epoch, loss1.item())) "
      ]
    },
    {
      "cell_type": "markdown",
      "metadata": {
        "id": "PQaRCMJPls5N"
      },
      "source": [
        "# **test attack cat**"
      ]
    },
    {
      "cell_type": "code",
      "execution_count": 13,
      "metadata": {
        "id": "QrtYzVT4loMQ",
        "colab": {
          "base_uri": "https://localhost:8080/"
        },
        "outputId": "ca6b98c3-35c0-42dc-b0da-ae58829e3fee"
      },
      "outputs": [
        {
          "output_type": "stream",
          "name": "stdout",
          "text": [
            "acc : 81.68%\n"
          ]
        }
      ],
      "source": [
        "correct = 0\n",
        "\n",
        "for batch_x, labl in test_attack_cat_dataloader:\n",
        "  \n",
        "    batch_x = torch.reshape(batch_x, (batch_x.shape[0], 1, batch_x.shape[1])) #RuntimeError: For unbatched 2-D input, hx and cx should also be 2-D but got (3-D, 3-D) tensors\n",
        "  \n",
        "    batch_x = batch_x.to(device)\n",
        "    labl = labl.to(device)\n",
        "\n",
        "    out = my_model_attack(batch_x)\n",
        "    _,predicted = torch.max(out,1)\n",
        "    correct += torch.sum(predicted == labl)\n",
        "\n",
        "print(\"acc : %.2f\" % (100.*correct / len(test_attack_cat)),end=\"\")\n",
        "print(\"%\")"
      ]
    },
    {
      "cell_type": "markdown",
      "metadata": {
        "id": "pLqOLtA6tQht"
      },
      "source": [
        "# **train label**"
      ]
    },
    {
      "cell_type": "code",
      "execution_count": 14,
      "metadata": {
        "id": "Xm1cu1GhtMJO",
        "colab": {
          "base_uri": "https://localhost:8080/"
        },
        "outputId": "83bf3ec2-ddb4-4e58-e85e-38f3abd6ea23"
      },
      "outputs": [
        {
          "output_type": "stream",
          "name": "stdout",
          "text": [
            "Epoch: 0, loss: 0.5725\n",
            "Epoch: 50, loss: 0.1559\n",
            "Epoch: 100, loss: 0.1243\n",
            "Epoch: 150, loss: 0.1360\n",
            "Epoch: 200, loss: 0.1219\n",
            "Epoch: 250, loss: 0.0753\n",
            "Epoch: 300, loss: 0.1308\n",
            "Epoch: 350, loss: 0.1335\n",
            "Epoch: 400, loss: 0.1363\n",
            "Epoch: 450, loss: 0.0845\n",
            "Epoch: 500, loss: 0.1138\n"
          ]
        }
      ],
      "source": [
        "for epoch in range(num_epoch+1):\n",
        "\n",
        "    for batch_x, batch_y in train_label_dataloader:\n",
        "\n",
        "        batch_x = torch.reshape(batch_x, (batch_x.shape[0], 1, batch_x.shape[1])) #RuntimeError: For unbatched 2-D input, hx and cx should also be 2-D but got (3-D, 3-D) tensors\n",
        "        \n",
        "        batch_x = batch_x.to(device)\n",
        "        batch_y = batch_y.to(device)\n",
        "\n",
        "        optimizer2.zero_grad()\n",
        "        loss2 = loss_fn2(my_model_label(batch_x) , batch_y)\n",
        "        loss2.backward() \n",
        "        optimizer2.step()\n",
        "\n",
        "    if epoch % 50 == 0:\n",
        "         print(\"Epoch: %d, loss: %.4f\" % (epoch, loss2.item())) "
      ]
    },
    {
      "cell_type": "markdown",
      "metadata": {
        "id": "Ig7VBqU0tfZd"
      },
      "source": [
        "# **test label**"
      ]
    },
    {
      "cell_type": "code",
      "execution_count": 15,
      "metadata": {
        "id": "a7u2bQ0WtiG2",
        "colab": {
          "base_uri": "https://localhost:8080/"
        },
        "outputId": "54755ad1-3811-4088-f403-494d6a3a36f2"
      },
      "outputs": [
        {
          "output_type": "stream",
          "name": "stdout",
          "text": [
            "acc : 93.90%\n"
          ]
        }
      ],
      "source": [
        "correct = 0\n",
        "\n",
        "for batch_x, labl in test_label_dataloader:\n",
        "\n",
        "    batch_x = torch.reshape(batch_x, (batch_x.shape[0], 1, batch_x.shape[1])) #RuntimeError: For unbatched 2-D input, hx and cx should also be 2-D but got (3-D, 3-D) tensors\n",
        "\n",
        "    batch_x = batch_x.to(device)\n",
        "    labl = labl.to(device)\n",
        "  \n",
        "    out = my_model_label(batch_x)\n",
        "    _,predicted = torch.max(out,1)\n",
        "    correct += torch.sum(predicted == labl)\n",
        "\n",
        "print(\"acc : %.2f\" % (100.*correct / len(test_label)),end=\"\")\n",
        "print(\"%\")"
      ]
    }
  ],
  "metadata": {
    "accelerator": "GPU",
    "colab": {
      "collapsed_sections": [],
      "provenance": []
    },
    "gpuClass": "standard",
    "kernelspec": {
      "display_name": "Python 3",
      "name": "python3"
    },
    "language_info": {
      "name": "python"
    }
  },
  "nbformat": 4,
  "nbformat_minor": 0
}