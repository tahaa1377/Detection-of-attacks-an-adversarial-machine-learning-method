{
  "cells": [
    {
      "cell_type": "code",
      "execution_count": 1,
      "metadata": {
        "id": "Ff1b4PxtBQuc"
      },
      "outputs": [],
      "source": [
        "num_epoch = 500      \n",
        "learning_rate = 0.002\n",
        "batch_size = 4000\n",
        "\n",
        "hidden_size = 64 #number of features in hidden state\n",
        "num_layers = 2  #number of stacked lstm layers\n",
        "bidirectional = True\n",
        "drop_out = 0.5\n",
        "bidirectional_forward_backward = 2 if bidirectional else 1\n",
        "\n",
        "input_size = 41 #number of features\n",
        "num_classes_attack_cat = 10 #number of output classes \n",
        "num_classes_label = 2       #number of output classes \n",
        "\n",
        "hyper_parameter1=128\n",
        "hyper_parameter2=64\n",
        "hyper_parameter3=32\n",
        "hyper_parameter4=16"
      ]
    },
    {
      "cell_type": "code",
      "source": [
        "from google.colab import drive\n",
        "drive.mount('/content/drive')"
      ],
      "metadata": {
        "colab": {
          "base_uri": "https://localhost:8080/"
        },
        "id": "0Gua0hky6SDJ",
        "outputId": "1836bda0-50f7-4338-96db-c61af65d222c"
      },
      "execution_count": 2,
      "outputs": [
        {
          "output_type": "stream",
          "name": "stdout",
          "text": [
            "Drive already mounted at /content/drive; to attempt to forcibly remount, call drive.mount(\"/content/drive\", force_remount=True).\n"
          ]
        }
      ]
    },
    {
      "cell_type": "code",
      "execution_count": 3,
      "metadata": {
        "colab": {
          "base_uri": "https://localhost:8080/"
        },
        "id": "hZiaj4uT24DH",
        "outputId": "2a29315c-a354-4677-8622-6651dbba5889"
      },
      "outputs": [
        {
          "output_type": "stream",
          "name": "stdout",
          "text": [
            "GPU\n"
          ]
        }
      ],
      "source": [
        "import pandas as pd\n",
        "from matplotlib import pyplot as plt\n",
        "import numpy as np\n",
        "from torch.utils.data.dataset import Dataset\n",
        "from torch.utils.data import random_split, DataLoader\n",
        "import torch\n",
        "from sklearn.preprocessing import LabelEncoder\n",
        "from sklearn import preprocessing\n",
        "import torch.nn as nn\n",
        "import torch.nn.functional as F\n",
        "import torch.optim as opt\n",
        "from torch.autograd import Variable \n",
        "\n",
        "# GPU OR CPU\n",
        "if torch.cuda.is_available():\n",
        "    device = torch.device(\"cuda:0\")\n",
        "    print(\"GPU\")\n",
        "else:\n",
        "    device = torch.device(\"cpu\")\n",
        "    print(\"CPU\")"
      ]
    },
    {
      "cell_type": "code",
      "execution_count": 4,
      "metadata": {
        "id": "Sv-R_m6Z1EL5"
      },
      "outputs": [],
      "source": [
        "class DataSet_UNSWNB15_attack_cat(Dataset):\n",
        "\n",
        "    def __init__(self,data_set_path):\n",
        "        df = pd.read_csv(data_set_path)\n",
        "        print(df.attack_cat.value_counts().sort_values().plot(kind = \"barh\"))\n",
        "        \n",
        "        # preprocceing\n",
        "        df.drop(['id',\"Unnamed: 0\",\"service\",\"label\"], axis=1, inplace=True)        \n",
        "        cols = ['attack_cat' ,'proto' ,'state']\n",
        "        df[cols] = df[cols].apply(LabelEncoder().fit_transform)\n",
        "\n",
        "        self.data_array = df.values\n",
        "        self.x = self.data_array[:, :41]\n",
        "        self.y = self.data_array[:, 41]\n",
        "      \n",
        "        # normalaized data\n",
        "        scaler = preprocessing.StandardScaler().fit(self.x)\n",
        "        self.x = scaler.transform(self.x)\n",
        "\n",
        "        self.x = torch.tensor(self.x).float()\n",
        "        self.y = torch.tensor(self.y).long()\n",
        "\n",
        "    def __len__(self):\n",
        "        return len(self.data_array)\n",
        "\n",
        "    def __getitem__(self, item):\n",
        "        sample = (self.x[item, :], self.y[item])\n",
        "        return sample\n",
        "\n",
        "        \n",
        "class DataSet_UNSWNB15_label(Dataset):\n",
        "\n",
        "    def __init__(self,data_set_path):\n",
        "        df = pd.read_csv(data_set_path)\n",
        "        print(df.label.value_counts().sort_values().plot(kind = \"pie\"))\n",
        "\n",
        "        # preprocceing\n",
        "        df.drop(['id',\"Unnamed: 0\",\"service\",\"attack_cat\"], axis=1, inplace=True)\n",
        "        cols = ['proto' ,'state']\n",
        "        df[cols] = df[cols].apply(LabelEncoder().fit_transform)\n",
        "\n",
        "        self.data_array = df.values\n",
        "        self.x = self.data_array[:, :41]\n",
        "        self.y = self.data_array[:, 41]\n",
        "        \n",
        "        # normalaized data\n",
        "        scaler = preprocessing.StandardScaler().fit(self.x)\n",
        "        self.x = scaler.transform(self.x)\n",
        "\n",
        "        self.x = torch.tensor(self.x).float()\n",
        "        self.y = torch.tensor(self.y).long()\n",
        "\n",
        "    def __len__(self):\n",
        "        return len(self.data_array)\n",
        "\n",
        "    def __getitem__(self, item):\n",
        "        sample = (self.x[item, :], self.y[item])\n",
        "        return sample"
      ]
    },
    {
      "cell_type": "code",
      "execution_count": 5,
      "metadata": {
        "colab": {
          "base_uri": "https://localhost:8080/",
          "height": 283
        },
        "id": "UykLrbQZ1R7K",
        "outputId": "23189e07-c72b-49ae-9076-7256821de8e5"
      },
      "outputs": [
        {
          "output_type": "stream",
          "name": "stdout",
          "text": [
            "AxesSubplot(0.125,0.125;0.775x0.755)\n"
          ]
        },
        {
          "output_type": "display_data",
          "data": {
            "text/plain": [
              "<Figure size 432x288 with 1 Axes>"
            ],
            "image/png": "[encoded data removed]"
          },
          "metadata": {
            "needs_background": "light"
          }
        }
      ],
      "source": [
        "dataset_attack_cat = DataSet_UNSWNB15_attack_cat(\"/content/drive/MyDrive/datasets/UNSW-NB15/UNSW_NB15.csv\")\n",
        "number_of_test = int(len(dataset_attack_cat)*0.3)\n",
        "number_of_train = len(dataset_attack_cat) - int(len(dataset_attack_cat)*0.3)\n",
        "train_attack_cat ,test_attack_cat = random_split(dataset=dataset_attack_cat, lengths=[number_of_train,number_of_test])\n",
        "\n",
        "train_attack_cat_dataloader = DataLoader(dataset=train_attack_cat ,batch_size=batch_size ,shuffle=True)\n",
        "test_attack_cat_dataloader = DataLoader(dataset=test_attack_cat ,batch_size=batch_size ,shuffle=True)"
      ]
    },
    {
      "cell_type": "code",
      "execution_count": 6,
      "metadata": {
        "colab": {
          "base_uri": "https://localhost:8080/",
          "height": 266
        },
        "id": "LmFY9Q-u29T3",
        "outputId": "3efddef2-5cd0-4f01-a5e7-9a239d509208"
      },
      "outputs": [
        {
          "output_type": "stream",
          "name": "stdout",
          "text": [
            "AxesSubplot(0.260833,0.125;0.503333x0.755)\n"
          ]
        },
        {
          "output_type": "display_data",
          "data": {
            "text/plain": [
              "<Figure size 432x288 with 1 Axes>"
            ],
            "image/png": "[encoded data removed]"
          },
          "metadata": {}
        }
      ],
      "source": [
        "dataset_label = DataSet_UNSWNB15_label(\"/content/drive/MyDrive/datasets/UNSW-NB15/UNSW_NB15.csv\")\n",
        "number_of_test = int(len(dataset_label)*0.3)\n",
        "number_of_train = len(dataset_label) - int(len(dataset_label)*0.3)\n",
        "train_label ,test_label = random_split(dataset=dataset_label, lengths=[number_of_train,number_of_test])\n",
        "\n",
        "train_label_dataloader = DataLoader(dataset=train_label ,batch_size=batch_size ,shuffle=True)\n",
        "test_label_dataloader = DataLoader(dataset=test_label ,batch_size=batch_size ,shuffle=True)"
      ]
    },
    {
      "cell_type": "markdown",
      "metadata": {
        "id": "0HslPLv2IOGd"
      },
      "source": [
        "# **preprocessing ended**\n",
        "\n",
        "# **create model**"
      ]
    },
    {
      "cell_type": "markdown",
      "source": [
        "![bilstm-1.webp](data:image/webp;base64,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)"
      ],
      "metadata": {
        "id": "F2hNvBs6qBQS"
      }
    },
    {
      "cell_type": "code",
      "execution_count": 7,
      "metadata": {
        "id": "oN6DuQbJibuE"
      },
      "outputs": [],
      "source": [
        "class LSTM_Model_attack(nn.Module):\n",
        "    def __init__(self, num_classes, input_size, hidden_size, num_layers):\n",
        "        super(LSTM_Model_attack, self).__init__()\n",
        "        self.num_classes = num_classes #number of classes\n",
        "        self.num_layers = num_layers #number of layers\n",
        "        self.input_size = input_size #input size\n",
        "        self.hidden_size = hidden_size #hidden state\n",
        "\n",
        "        self.lstm = nn.LSTM(input_size=input_size, hidden_size=hidden_size, num_layers=num_layers, batch_first=True,\n",
        "                            bidirectional=bidirectional, dropout=drop_out) #lstm\n",
        "\n",
        "        self.fc_layers = nn.Sequential(\n",
        "        nn.Linear(hidden_size * bidirectional_forward_backward, hyper_parameter1),\n",
        "        nn.Tanh(),\n",
        "        nn.Linear(hyper_parameter1, hyper_parameter2),\n",
        "        nn.Tanh(),\n",
        "        nn.Linear(hyper_parameter2, hyper_parameter3),\n",
        "        nn.Sigmoid(),\n",
        "        nn.Linear(hyper_parameter3, hyper_parameter4),\n",
        "        nn.Sigmoid(),\n",
        "        nn.Linear(hyper_parameter4, num_classes)\n",
        "        )\n",
        "    \n",
        "    def forward(self,x):\n",
        "                                                # 2 => forward and backward for bidirectional\n",
        "        h_0 = Variable(torch.zeros(self.num_layers * bidirectional_forward_backward, x.size(0), self.hidden_size)).to(device=device) #hidden state\n",
        "        c_0 = Variable(torch.zeros(self.num_layers * bidirectional_forward_backward, x.size(0), self.hidden_size)).to(device=device) #internal state\n",
        "\n",
        "        out, (hn, cn) = self.lstm(x, (h_0, c_0))\n",
        "        out = self.fc_layers(out[:, -1, :]) \n",
        "        return out\n",
        "\n",
        "\n",
        "class LSTM_Model_label(nn.Module):\n",
        "    def __init__(self, num_classes, input_size, hidden_size, num_layers):\n",
        "        super(LSTM_Model_label, self).__init__()\n",
        "        self.num_classes = num_classes #number of classes\n",
        "        self.num_layers = num_layers #number of layers\n",
        "        self.input_size = input_size #input size\n",
        "        self.hidden_size = hidden_size #hidden state\n",
        "\n",
        "        self.lstm = nn.LSTM(input_size=input_size, hidden_size=hidden_size, num_layers=num_layers, batch_first=True, \n",
        "                            bidirectional=bidirectional, dropout=drop_out) #lstm\n",
        "\n",
        "        self.fc_layers = nn.Sequential(\n",
        "        nn.Linear(hidden_size * bidirectional_forward_backward, hyper_parameter1),\n",
        "        nn.Tanh(),\n",
        "        nn.Linear(hyper_parameter1, hyper_parameter2),\n",
        "        nn.Tanh(),\n",
        "        nn.Linear(hyper_parameter2, hyper_parameter3),\n",
        "        nn.Sigmoid(),\n",
        "        nn.Linear(hyper_parameter3, hyper_parameter4),\n",
        "        nn.Sigmoid(),\n",
        "        nn.Linear(hyper_parameter4, num_classes)\n",
        "        )\n",
        "    \n",
        "    def forward(self,x):\n",
        "        h_0 = Variable(torch.zeros(self.num_layers * bidirectional_forward_backward, x.size(0), self.hidden_size)).to(device=device) #hidden state\n",
        "        c_0 = Variable(torch.zeros(self.num_layers * bidirectional_forward_backward, x.size(0), self.hidden_size)).to(device=device) #internal state\n",
        "\n",
        "        out, (hn, cn) = self.lstm(x, (h_0, c_0))\n",
        "        out = self.fc_layers(out[:, -1, :]) \n",
        "        return out\n"
      ]
    },
    {
      "cell_type": "code",
      "execution_count": 8,
      "metadata": {
        "id": "US8JfNI8j3zO",
        "colab": {
          "base_uri": "https://localhost:8080/"
        },
        "outputId": "a32400ad-9911-40f9-cb8a-2b2352199813"
      },
      "outputs": [
        {
          "output_type": "execute_result",
          "data": {
            "text/plain": [
              "LSTM_Model_attack(\n",
              "  (lstm): LSTM(41, 64, num_layers=2, batch_first=True, dropout=0.5, bidirectional=True)\n",
              "  (fc_layers): Sequential(\n",
              "    (0): Linear(in_features=128, out_features=128, bias=True)\n",
              "    (1): Tanh()\n",
              "    (2): Linear(in_features=128, out_features=64, bias=True)\n",
              "    (3): Tanh()\n",
              "    (4): Linear(in_features=64, out_features=32, bias=True)\n",
              "    (5): Sigmoid()\n",
              "    (6): Linear(in_features=32, out_features=16, bias=True)\n",
              "    (7): Sigmoid()\n",
              "    (8): Linear(in_features=16, out_features=10, bias=True)\n",
              "  )\n",
              ")"
            ]
          },
          "metadata": {},
          "execution_count": 8
        }
      ],
      "source": [
        "my_model_attack = LSTM_Model_attack(num_classes_attack_cat, input_size, hidden_size, num_layers).to(device=device)\n",
        "my_model_attack"
      ]
    },
    {
      "cell_type": "code",
      "source": [
        "my_model_attack.state_dict()"
      ],
      "metadata": {
        "colab": {
          "base_uri": "https://localhost:8080/"
        },
        "id": "Dq8JkQZ9ukCs",
        "outputId": "4552c2cf-0819-4fce-c424-8a1f11777a98"
      },
      "execution_count": 9,
      "outputs": [
        {
          "output_type": "execute_result",
          "data": {
            "text/plain": [
              "OrderedDict([('lstm.weight_ih_l0',\n",
              "              tensor([[-0.0511,  0.0382,  0.0528,  ..., -0.0016,  0.0699, -0.1237],\n",
              "                      [ 0.0675, -0.0422, -0.0105,  ...,  0.0865, -0.1186,  0.1206],\n",
              "                      [ 0.1119, -0.0013,  0.0638,  ...,  0.0233, -0.0166,  0.0647],\n",
              "                      ...,\n",
              "                      [ 0.1068, -0.0896,  0.0066,  ..., -0.0507, -0.0360, -0.1249],\n",
              "                      [ 0.0086, -0.1061, -0.0912,  ...,  0.0542,  0.0852, -0.0117],\n",
              "                      [-0.0690, -0.0693,  0.0290,  ...,  0.0487, -0.0644, -0.1172]],\n",
              "                     device='cuda:0')),\n",
              "             ('lstm.weight_hh_l0',\n",
              "              tensor([[-0.0068,  0.1172,  0.0732,  ..., -0.0306,  0.0078,  0.0628],\n",
              "                      [-0.0506, -0.0306, -0.0525,  ..., -0.1180,  0.0677,  0.0522],\n",
              "                      [-0.0004,  0.0923, -0.0039,  ..., -0.0599, -0.0628, -0.0830],\n",
              "                      ...,\n",
              "                      [-0.0734,  0.0602,  0.0249,  ..., -0.0071, -0.0691, -0.1175],\n",
              "                      [ 0.0996,  0.1192,  0.0556,  ...,  0.1228, -0.0297,  0.0280],\n",
              "                      [ 0.0623, -0.0111,  0.0442,  ...,  0.0576,  0.0279, -0.0428]],\n",
              "                     device='cuda:0')),\n",
              "             ('lstm.bias_ih_l0',\n",
              "              tensor([ 0.1047, -0.0289,  0.1007,  0.0111,  0.0739,  0.0274,  0.0575,  0.1167,\n",
              "                      -0.0692,  0.0906, -0.0684,  0.1066,  0.1124, -0.0343, -0.0010, -0.0642,\n",
              "                      -0.0842,  0.1069, -0.0991,  0.0165, -0.0072,  0.0753, -0.0597, -0.0084,\n",
              "                       0.0493, -0.0438, -0.0225, -0.1221, -0.0188, -0.0636,  0.0704, -0.0196,\n",
              "                      -0.0644,  0.0582, -0.1070, -0.0195, -0.0838,  0.0476, -0.1140, -0.0814,\n",
              "                      -0.0492, -0.0761, -0.0576,  0.0607,  0.0307,  0.0408, -0.0201,  0.0342,\n",
              "                       0.0475,  0.0282, -0.0918, -0.1048, -0.0816,  0.0454, -0.0246,  0.1005,\n",
              "                       0.0151,  0.0253, -0.0015,  0.1040,  0.0721,  0.0224,  0.1205, -0.0842,\n",
              "                       0.0884,  0.0442,  0.0453, -0.0540,  0.1117, -0.0080, -0.0557,  0.1134,\n",
              "                       0.1070,  0.0162,  0.1209,  0.1174,  0.0843, -0.0034,  0.0766,  0.1222,\n",
              "                      -0.1234,  0.0831,  0.0178,  0.0280,  0.1209, -0.0451, -0.0695,  0.0335,\n",
              "                      -0.0987, -0.0213, -0.0556,  0.0539,  0.0867,  0.0029,  0.0383, -0.0239,\n",
              "                      -0.0389,  0.0530, -0.1030, -0.0451,  0.0466, -0.0908,  0.0130,  0.0916,\n",
              "                       0.0295, -0.0668, -0.0328,  0.0903,  0.0290, -0.0638, -0.0724, -0.1144,\n",
              "                       0.0988, -0.0577,  0.0623,  0.0617,  0.0941,  0.1088, -0.0166,  0.1183,\n",
              "                      -0.0390, -0.0278, -0.0318,  0.0090, -0.0257,  0.0774,  0.0931, -0.0775,\n",
              "                       0.1124, -0.0516, -0.0405, -0.0091, -0.0222,  0.0265,  0.0069, -0.0269,\n",
              "                       0.1055,  0.0333,  0.0356,  0.0245, -0.0053,  0.0877, -0.1004, -0.0540,\n",
              "                      -0.0404,  0.0659, -0.0987, -0.0589,  0.0100, -0.0961, -0.1126,  0.1076,\n",
              "                       0.1021, -0.0701,  0.1098, -0.1055, -0.0913,  0.0805, -0.0314, -0.0858,\n",
              "                       0.0653, -0.0413,  0.0869,  0.0427, -0.0854, -0.0140, -0.0027,  0.0987,\n",
              "                      -0.0282,  0.0665,  0.0594, -0.1135, -0.0151, -0.0473,  0.0873,  0.0138,\n",
              "                       0.0929,  0.0375, -0.0954,  0.0363, -0.1160, -0.0246,  0.0872,  0.0132,\n",
              "                      -0.0746,  0.0394,  0.0056, -0.0503,  0.0753,  0.0513, -0.0372, -0.1235,\n",
              "                       0.1089,  0.0899,  0.0963, -0.0297, -0.0659, -0.0746,  0.1085, -0.0646,\n",
              "                      -0.0835, -0.1054,  0.0847,  0.0164, -0.0763,  0.1029, -0.0623,  0.0139,\n",
              "                      -0.0360,  0.0760,  0.0586,  0.0818,  0.0170,  0.0670,  0.1117, -0.0247,\n",
              "                      -0.1246, -0.0526, -0.0930, -0.0023, -0.0857, -0.0343, -0.0998, -0.0762,\n",
              "                      -0.0408,  0.0797, -0.1049,  0.0860, -0.0051, -0.0889,  0.0487,  0.0858,\n",
              "                       0.0920, -0.0517,  0.0894,  0.0967,  0.0556, -0.0895,  0.0990,  0.0009,\n",
              "                      -0.0125,  0.0167, -0.0995, -0.0014,  0.0768,  0.0041,  0.1075, -0.0123,\n",
              "                       0.1197, -0.0743,  0.0890,  0.0746, -0.0718, -0.0933,  0.1239, -0.1206],\n",
              "                     device='cuda:0')),\n",
              "             ('lstm.bias_hh_l0',\n",
              "              tensor([-0.0910, -0.0367,  0.0708, -0.0615, -0.1236, -0.0454,  0.0870,  0.0778,\n",
              "                      -0.0048,  0.0769,  0.0660, -0.1012, -0.1243,  0.0267,  0.0594,  0.1207,\n",
              "                       0.0714,  0.0073,  0.0435, -0.0153, -0.0027, -0.0246, -0.1007, -0.0570,\n",
              "                       0.1197,  0.0476,  0.0741,  0.0171,  0.0967, -0.0924,  0.1126,  0.0730,\n",
              "                      -0.1232,  0.0943,  0.0348,  0.0843, -0.0628,  0.0420, -0.0100,  0.0367,\n",
              "                      -0.0455, -0.0398, -0.1184,  0.0349, -0.0611,  0.1121, -0.0950, -0.1008,\n",
              "                      -0.0974,  0.1104, -0.0795, -0.0258, -0.1084,  0.0936,  0.0609, -0.1244,\n",
              "                      -0.0355,  0.0735, -0.0652,  0.0571, -0.0222, -0.1197,  0.1244,  0.0285,\n",
              "                       0.0207, -0.0604,  0.0851,  0.0651,  0.0993,  0.0618,  0.0063,  0.0055,\n",
              "                      -0.1089,  0.0865,  0.0454, -0.0433,  0.0062,  0.0049, -0.1029,  0.0449,\n",
              "                       0.0049, -0.0493,  0.0830, -0.0042, -0.0383,  0.0201,  0.0757,  0.1037,\n",
              "                      -0.0902, -0.0697,  0.0167,  0.0578,  0.0757, -0.1084,  0.0708, -0.0769,\n",
              "                      -0.0047, -0.0050,  0.1155,  0.0314, -0.0656, -0.0293,  0.1087,  0.1223,\n",
              "                       0.0551,  0.0010,  0.0620,  0.0380, -0.0979,  0.0954, -0.0929, -0.1233,\n",
              "                      -0.0208,  0.0383,  0.0330, -0.0336, -0.0971, -0.0659, -0.0229,  0.1181,\n",
              "                      -0.1130,  0.0495, -0.0545,  0.1006,  0.1040,  0.1096,  0.0473,  0.0108,\n",
              "                      -0.1131, -0.0465,  0.0837, -0.0729, -0.0216, -0.0638,  0.0802,  0.0618,\n",
              "                      -0.0204,  0.0767, -0.0338,  0.0528, -0.0808,  0.0537, -0.1041, -0.1116,\n",
              "                       0.0922,  0.0232, -0.0445, -0.0783,  0.1191, -0.1076,  0.1153,  0.0563,\n",
              "                       0.0461, -0.0153,  0.0584, -0.0216,  0.0283, -0.0904, -0.0627,  0.0348,\n",
              "                       0.0771,  0.0702,  0.0688, -0.0783, -0.0091, -0.0947, -0.0892, -0.0876,\n",
              "                      -0.0580, -0.0429,  0.1071, -0.0304, -0.0572,  0.1234, -0.0916, -0.0703,\n",
              "                       0.0913, -0.0237, -0.0228,  0.0980,  0.0240, -0.0557, -0.0106,  0.0595,\n",
              "                      -0.0657,  0.1075, -0.0900, -0.0381, -0.0767, -0.0478, -0.0664,  0.0254,\n",
              "                      -0.0136,  0.0406, -0.1040, -0.1150, -0.0461,  0.0230,  0.1037,  0.0258,\n",
              "                       0.0190,  0.0427, -0.0616, -0.0703,  0.0566, -0.0513, -0.0222,  0.0303,\n",
              "                      -0.1013,  0.1020, -0.1159, -0.0907, -0.0587,  0.0905, -0.1195,  0.1019,\n",
              "                      -0.0701, -0.0334,  0.0654,  0.0630,  0.0930,  0.0473, -0.0390,  0.1241,\n",
              "                       0.1202,  0.1041, -0.0207,  0.0909, -0.0779,  0.0588, -0.0619, -0.1074,\n",
              "                      -0.0048,  0.0170,  0.0483,  0.0056,  0.0565, -0.0961,  0.0737,  0.0363,\n",
              "                      -0.0574, -0.0712, -0.1218,  0.0226,  0.0046, -0.0357,  0.1212,  0.0210,\n",
              "                       0.0751,  0.0173, -0.0366,  0.0368, -0.0112, -0.0323,  0.1189,  0.0387],\n",
              "                     device='cuda:0')),\n",
              "             ('lstm.weight_ih_l0_reverse',\n",
              "              tensor([[-0.0264,  0.0303, -0.0462,  ...,  0.1052,  0.0379, -0.0439],\n",
              "                      [-0.0681, -0.0860,  0.1012,  ..., -0.0876, -0.0131, -0.0050],\n",
              "                      [ 0.0426, -0.0587, -0.0340,  ...,  0.0027,  0.1135, -0.1047],\n",
              "                      ...,\n",
              "                      [ 0.0243, -0.1166, -0.0317,  ..., -0.0902,  0.1086,  0.0298],\n",
              "                      [ 0.0602, -0.0600, -0.0526,  ..., -0.0995,  0.1060,  0.0212],\n",
              "                      [ 0.0860, -0.0276,  0.1070,  ..., -0.0929, -0.0087, -0.1081]],\n",
              "                     device='cuda:0')),\n",
              "             ('lstm.weight_hh_l0_reverse',\n",
              "              tensor([[ 0.0040, -0.1139, -0.0364,  ...,  0.0709,  0.0397, -0.0943],\n",
              "                      [-0.0269, -0.0701, -0.0922,  ...,  0.0270, -0.0899,  0.0035],\n",
              "                      [-0.0543,  0.1199, -0.0097,  ...,  0.0411, -0.1102, -0.0588],\n",
              "                      ...,\n",
              "                      [-0.1100,  0.1140, -0.0022,  ...,  0.0164,  0.0116,  0.0268],\n",
              "                      [ 0.1154, -0.0486, -0.1078,  ...,  0.0858, -0.0384, -0.0264],\n",
              "                      [ 0.0063, -0.0216, -0.0087,  ...,  0.0781,  0.0199, -0.0936]],\n",
              "                     device='cuda:0')),\n",
              "             ('lstm.bias_ih_l0_reverse',\n",
              "              tensor([ 0.1245, -0.0118, -0.0467, -0.0002,  0.0158,  0.0684,  0.0026,  0.1014,\n",
              "                       0.0714, -0.1074,  0.0744, -0.0506, -0.0904,  0.0375, -0.1095, -0.0181,\n",
              "                      -0.0911,  0.0752, -0.0755,  0.1189,  0.0449,  0.1146,  0.0532, -0.0489,\n",
              "                      -0.0521, -0.1092,  0.1076,  0.0349,  0.0562,  0.0752, -0.0542,  0.0902,\n",
              "                       0.0023, -0.0215, -0.1031,  0.1180, -0.0575,  0.1161,  0.0491,  0.0546,\n",
              "                      -0.1168,  0.0117, -0.0481,  0.1102, -0.0136, -0.0103, -0.0905,  0.0916,\n",
              "                      -0.1120,  0.0081,  0.0556, -0.0432,  0.0324, -0.0830,  0.1087, -0.0754,\n",
              "                      -0.0054, -0.0160,  0.1123,  0.0955, -0.0872,  0.0038,  0.0494, -0.0203,\n",
              "                      -0.0091, -0.0707,  0.0713,  0.0551, -0.0834,  0.0852, -0.0314, -0.1201,\n",
              "                       0.0380,  0.0215,  0.0882, -0.0497, -0.1068,  0.0360,  0.0393,  0.0471,\n",
              "                       0.0092,  0.0115, -0.0322, -0.0607, -0.1100,  0.0912,  0.0874,  0.0387,\n",
              "                       0.1197,  0.0850,  0.1106,  0.0906, -0.0519, -0.1114, -0.0859,  0.0644,\n",
              "                       0.0684,  0.0421, -0.0309, -0.0402,  0.0056, -0.1059,  0.1092,  0.0597,\n",
              "                      -0.1012,  0.0409, -0.0687, -0.0928, -0.0640, -0.0758, -0.0674,  0.0291,\n",
              "                       0.0489,  0.0296, -0.0213, -0.1229, -0.0421,  0.0033,  0.0406, -0.0321,\n",
              "                      -0.1208, -0.0962,  0.0248, -0.0850, -0.0484,  0.0843, -0.0404,  0.0147,\n",
              "                       0.0968,  0.0169, -0.1123,  0.1222,  0.1117, -0.1111,  0.1110,  0.1057,\n",
              "                       0.0847, -0.0544,  0.1119,  0.0857, -0.0722,  0.0780,  0.0391,  0.0252,\n",
              "                       0.1163, -0.0849,  0.0940,  0.1102,  0.0201, -0.1158,  0.0482, -0.1217,\n",
              "                      -0.0064,  0.0183,  0.1057,  0.0349,  0.0966,  0.1035,  0.0083,  0.0956,\n",
              "                       0.0818, -0.0742, -0.1008, -0.0630, -0.0803,  0.0878, -0.0385, -0.0463,\n",
              "                      -0.1095,  0.1232, -0.1179,  0.0953, -0.0167, -0.0659,  0.1204,  0.0626,\n",
              "                      -0.0928, -0.0680, -0.0595, -0.0007,  0.0214,  0.0175, -0.0344, -0.0346,\n",
              "                      -0.1061, -0.0637, -0.0182, -0.0577, -0.0744,  0.0390,  0.0105,  0.0162,\n",
              "                      -0.1159,  0.1062,  0.0069,  0.1113, -0.1109, -0.0998, -0.0006,  0.1143,\n",
              "                      -0.0145, -0.1196,  0.0300,  0.0695,  0.0346, -0.0257,  0.0063,  0.0239,\n",
              "                      -0.0469, -0.0912, -0.0077, -0.0948,  0.0521, -0.0117,  0.0541,  0.0823,\n",
              "                      -0.0046,  0.0666,  0.0121, -0.0390,  0.0033,  0.0153, -0.0821,  0.0063,\n",
              "                      -0.0943,  0.1147, -0.0857,  0.0918,  0.0994, -0.0766,  0.0935, -0.0018,\n",
              "                      -0.0704,  0.1127, -0.0370,  0.0386,  0.0076,  0.1029,  0.0468,  0.0299,\n",
              "                      -0.0591, -0.0780, -0.1040, -0.1083, -0.0507, -0.1052, -0.1036,  0.0126,\n",
              "                       0.0868,  0.0951, -0.0430, -0.1126, -0.0909,  0.1114, -0.1126,  0.0865],\n",
              "                     device='cuda:0')),\n",
              "             ('lstm.bias_hh_l0_reverse',\n",
              "              tensor([ 0.0403, -0.0672,  0.1000,  0.0967, -0.0228, -0.1035, -0.0134, -0.1109,\n",
              "                       0.0867, -0.0052,  0.0940, -0.0874,  0.0125,  0.0639,  0.0166, -0.0339,\n",
              "                      -0.0462, -0.0470,  0.1195,  0.0567, -0.1108, -0.0426, -0.0456,  0.0276,\n",
              "                       0.0617,  0.0050, -0.0048, -0.0752,  0.1011,  0.0408,  0.0400,  0.0854,\n",
              "                      -0.0412, -0.0680,  0.0818, -0.0309, -0.0197, -0.0729,  0.0843, -0.1095,\n",
              "                      -0.0080, -0.0082, -0.0897,  0.0790,  0.0819, -0.0080, -0.1244, -0.0640,\n",
              "                       0.0351, -0.1156,  0.0079,  0.1003,  0.1177,  0.0736,  0.1216, -0.0404,\n",
              "                       0.1023,  0.0374, -0.0657, -0.0192, -0.0128, -0.0272,  0.0278,  0.0937,\n",
              "                       0.0012,  0.0448, -0.0531, -0.0469, -0.0989,  0.0149, -0.0647, -0.0029,\n",
              "                      -0.0665, -0.0312, -0.1138,  0.0109,  0.0084,  0.0218,  0.0924, -0.0466,\n",
              "                      -0.1237, -0.0058, -0.0513,  0.1079,  0.0617,  0.0156,  0.0066,  0.0259,\n",
              "                       0.0653,  0.0418, -0.0191,  0.0725,  0.0226,  0.1045,  0.0466, -0.0538,\n",
              "                      -0.0189,  0.0097, -0.0455,  0.0490, -0.0873,  0.0726,  0.0056, -0.0977,\n",
              "                      -0.0659,  0.0714, -0.0370, -0.0710, -0.0029,  0.0539,  0.1070,  0.0749,\n",
              "                      -0.1189,  0.1154, -0.1096,  0.1200,  0.0057,  0.0011,  0.0611, -0.0542,\n",
              "                      -0.0352,  0.0087,  0.0451, -0.0920,  0.0819, -0.0575, -0.1056, -0.0771,\n",
              "                       0.1118,  0.0215, -0.1137,  0.0965, -0.0394,  0.0970, -0.0459,  0.0891,\n",
              "                      -0.0004, -0.0167, -0.0612,  0.0120, -0.0428, -0.0684,  0.0854,  0.0626,\n",
              "                       0.0167,  0.1057, -0.0477,  0.1080, -0.0054,  0.0054, -0.0152, -0.0692,\n",
              "                       0.0245,  0.0028,  0.1119,  0.0212, -0.0061,  0.0600,  0.0742,  0.0879,\n",
              "                      -0.0421, -0.0121,  0.1043,  0.1226,  0.0907,  0.1123,  0.0812, -0.0903,\n",
              "                       0.0359, -0.1135, -0.0581, -0.0727, -0.0945,  0.0390,  0.1075, -0.1132,\n",
              "                      -0.0094, -0.0926, -0.0250, -0.0289, -0.1033, -0.0049, -0.0684,  0.1026,\n",
              "                       0.0406, -0.0704, -0.0871, -0.0433,  0.0256, -0.0603, -0.1167,  0.1139,\n",
              "                      -0.0404,  0.0123, -0.0249,  0.1124, -0.0371, -0.0356, -0.0285,  0.0495,\n",
              "                      -0.0792,  0.0813,  0.1067, -0.0046, -0.0857, -0.0899,  0.1082, -0.0463,\n",
              "                       0.0982, -0.0246, -0.0027,  0.1090, -0.0519,  0.1222, -0.0408, -0.0278,\n",
              "                      -0.0736, -0.1114, -0.0896, -0.0425,  0.1054,  0.0210,  0.0332, -0.0107,\n",
              "                      -0.0066,  0.0274, -0.1183, -0.0799,  0.0320,  0.0495, -0.0962,  0.1009,\n",
              "                       0.0621, -0.0316,  0.1227, -0.0836,  0.0153, -0.0858, -0.0361, -0.1064,\n",
              "                       0.0315, -0.0088, -0.0961, -0.0070,  0.0035,  0.0942,  0.0278,  0.0012,\n",
              "                      -0.0569,  0.0879, -0.0207,  0.0989,  0.0857, -0.0368,  0.0115,  0.0807],\n",
              "                     device='cuda:0')),\n",
              "             ('lstm.weight_ih_l1',\n",
              "              tensor([[ 0.0953, -0.0028, -0.1193,  ..., -0.1095, -0.0130, -0.0501],\n",
              "                      [-0.0624,  0.0384,  0.0745,  ..., -0.0955,  0.0998, -0.0380],\n",
              "                      [-0.1191,  0.0376,  0.0059,  ..., -0.0264,  0.0772, -0.1192],\n",
              "                      ...,\n",
              "                      [ 0.0870, -0.0976, -0.0928,  ..., -0.0211,  0.0347,  0.0964],\n",
              "                      [-0.0498, -0.0013, -0.0613,  ..., -0.1223,  0.0636, -0.0877],\n",
              "                      [-0.1121, -0.0701, -0.0249,  ..., -0.0389, -0.0463, -0.0211]],\n",
              "                     device='cuda:0')),\n",
              "             ('lstm.weight_hh_l1',\n",
              "              tensor([[-0.0559, -0.0807, -0.0164,  ..., -0.0255, -0.0689,  0.0589],\n",
              "                      [-0.0855,  0.0315,  0.0647,  ..., -0.0175,  0.0952,  0.0333],\n",
              "                      [-0.0572,  0.0358,  0.1145,  ..., -0.0599,  0.1227,  0.0036],\n",
              "                      ...,\n",
              "                      [-0.0326, -0.0785,  0.0256,  ..., -0.1235, -0.1121, -0.0300],\n",
              "                      [-0.0284, -0.0074, -0.1200,  ..., -0.0192,  0.0772, -0.0390],\n",
              "                      [-0.0109, -0.0829, -0.0495,  ..., -0.0675,  0.0609, -0.0380]],\n",
              "                     device='cuda:0')),\n",
              "             ('lstm.bias_ih_l1',\n",
              "              tensor([-0.1071,  0.0174,  0.0042,  0.0665,  0.0022, -0.1077,  0.0963,  0.0553,\n",
              "                      -0.1130,  0.0860,  0.0395,  0.0439,  0.1018, -0.1039,  0.0957, -0.0778,\n",
              "                       0.0475,  0.1167,  0.0265,  0.0240,  0.0138, -0.0413,  0.1027, -0.0885,\n",
              "                      -0.0607,  0.1071,  0.0699, -0.0907, -0.0040, -0.0645, -0.0066,  0.1216,\n",
              "                       0.0459, -0.0072,  0.0256, -0.0940,  0.0812, -0.0051, -0.0337, -0.1077,\n",
              "                       0.0734, -0.1129, -0.0542,  0.0634, -0.0350, -0.0280, -0.0196, -0.1153,\n",
              "                       0.0513,  0.0607, -0.0558,  0.0874,  0.0780,  0.1211,  0.1198,  0.0080,\n",
              "                       0.0599,  0.0394, -0.0276, -0.0723, -0.0538, -0.0409, -0.0998,  0.0430,\n",
              "                       0.0917,  0.0547,  0.0213, -0.0280,  0.0250,  0.1022, -0.0425,  0.0800,\n",
              "                      -0.0733, -0.0906,  0.0854, -0.0693,  0.0003,  0.0314,  0.0276,  0.0968,\n",
              "                      -0.0705, -0.0641, -0.0416, -0.0348, -0.0230, -0.1162,  0.0071, -0.0199,\n",
              "                      -0.1217, -0.0590,  0.1109, -0.0786, -0.0934,  0.1233,  0.1038,  0.0316,\n",
              "                      -0.0007, -0.0726, -0.1005,  0.0967, -0.0268, -0.1171, -0.0194, -0.0652,\n",
              "                      -0.0355,  0.0960,  0.0856, -0.0830, -0.0229, -0.1101, -0.1175, -0.0093,\n",
              "                       0.0581, -0.0233,  0.0804,  0.0508,  0.1209, -0.1130,  0.0696, -0.1219,\n",
              "                       0.0177,  0.0362,  0.0705,  0.1078, -0.0698,  0.0048, -0.0854, -0.1199,\n",
              "                      -0.0302,  0.0056,  0.0722,  0.1079, -0.0504,  0.0029, -0.1014,  0.0863,\n",
              "                      -0.0505,  0.0403,  0.0114, -0.0192,  0.0670, -0.0007,  0.0044,  0.0149,\n",
              "                       0.0148,  0.1202, -0.0881, -0.0034, -0.0360,  0.0553,  0.0287,  0.0457,\n",
              "                      -0.0376,  0.0797, -0.0582, -0.0072, -0.0542,  0.1052, -0.0772,  0.0925,\n",
              "                       0.0640,  0.0505,  0.0901, -0.0729,  0.0926,  0.0594,  0.0058,  0.0226,\n",
              "                      -0.0496,  0.1101,  0.0509,  0.0967,  0.0355,  0.1067,  0.0988,  0.0656,\n",
              "                       0.0601,  0.0377,  0.1152,  0.0273,  0.0517,  0.0881,  0.0071, -0.0601,\n",
              "                       0.0698, -0.0242, -0.0668, -0.0726, -0.0041,  0.0258, -0.0382,  0.1152,\n",
              "                       0.0612, -0.1243, -0.0798, -0.0012,  0.0188,  0.0041,  0.0958, -0.0074,\n",
              "                      -0.1138, -0.0370, -0.0788,  0.1188, -0.1097, -0.0592,  0.0061, -0.0164,\n",
              "                       0.0380,  0.0286,  0.0723,  0.0007, -0.0685, -0.1092,  0.0548, -0.0203,\n",
              "                      -0.0679,  0.0416, -0.0817, -0.0311, -0.0003,  0.0518, -0.0676, -0.0937,\n",
              "                       0.0329,  0.0206,  0.0749, -0.0342, -0.0326,  0.1064,  0.0353, -0.0195,\n",
              "                      -0.0960, -0.0327,  0.0848,  0.0363, -0.0434, -0.0465, -0.0001,  0.1250,\n",
              "                       0.0233, -0.1014, -0.0753, -0.0235,  0.1161,  0.0955, -0.0795,  0.0318,\n",
              "                      -0.1150,  0.0615, -0.0775, -0.0918,  0.0373, -0.0951,  0.0955, -0.0717],\n",
              "                     device='cuda:0')),\n",
              "             ('lstm.bias_hh_l1',\n",
              "              tensor([-0.0605,  0.0857,  0.0622, -0.1070, -0.0309, -0.0537,  0.0220, -0.0335,\n",
              "                       0.0465,  0.0830, -0.0391,  0.0690, -0.1119, -0.0176,  0.0187, -0.0059,\n",
              "                       0.0981,  0.0743, -0.1204,  0.0387,  0.0386, -0.0179, -0.1024, -0.0970,\n",
              "                       0.0685, -0.0521,  0.0533, -0.0089, -0.0445, -0.0039, -0.0898, -0.0969,\n",
              "                      -0.1020,  0.0223,  0.0709,  0.1192, -0.0888,  0.0530,  0.0223,  0.0806,\n",
              "                       0.0848,  0.0423,  0.0798, -0.0814, -0.0835, -0.0471, -0.0334,  0.0356,\n",
              "                       0.0746,  0.0156, -0.0634, -0.0162, -0.0656,  0.1136, -0.0290, -0.1010,\n",
              "                      -0.0765, -0.0079, -0.0930, -0.0787,  0.0155, -0.0014, -0.0867, -0.0529,\n",
              "                      -0.0329, -0.1102,  0.0581,  0.0814,  0.0568,  0.0743,  0.1188, -0.0958,\n",
              "                      -0.0356, -0.0421, -0.1159, -0.0356, -0.1136, -0.0116, -0.0072, -0.1241,\n",
              "                      -0.0322,  0.0659,  0.0466,  0.0155, -0.0425,  0.0569,  0.0118,  0.0514,\n",
              "                      -0.0566, -0.0732,  0.0263,  0.0055, -0.0235,  0.0668, -0.0673,  0.0290,\n",
              "                      -0.0491, -0.1215, -0.1110, -0.0734, -0.0698, -0.0469, -0.0371,  0.0312,\n",
              "                       0.0381,  0.0673,  0.0200, -0.0735,  0.0810,  0.0058, -0.0040, -0.0425,\n",
              "                       0.0068,  0.1083, -0.0455, -0.0716,  0.0728, -0.0220,  0.0594, -0.0933,\n",
              "                      -0.0127,  0.0319,  0.0997, -0.0282, -0.0857, -0.0271, -0.0370, -0.1247,\n",
              "                       0.0876,  0.0331,  0.1014,  0.0391, -0.0911, -0.0397,  0.0242, -0.1212,\n",
              "                      -0.0404, -0.0930,  0.0943, -0.0419,  0.0860, -0.0348, -0.0992, -0.0229,\n",
              "                       0.0465, -0.0016, -0.0121, -0.0411, -0.1038, -0.1083, -0.1100, -0.1213,\n",
              "                      -0.1182,  0.1181, -0.1073,  0.0993,  0.0594, -0.1043, -0.0717, -0.0202,\n",
              "                      -0.0317,  0.0277, -0.0009,  0.1121, -0.1185,  0.0721, -0.0057, -0.0912,\n",
              "                      -0.0084,  0.0574, -0.0995,  0.0996,  0.1165, -0.1105,  0.0435, -0.1077,\n",
              "                       0.0921, -0.0498,  0.0177,  0.0047,  0.1125, -0.1002, -0.1083, -0.0403,\n",
              "                      -0.0639,  0.0373,  0.0080,  0.0157, -0.0951,  0.0758,  0.0989, -0.0998,\n",
              "                       0.0929, -0.0761, -0.0931,  0.0510,  0.0045,  0.0319,  0.0171, -0.0143,\n",
              "                       0.0055,  0.1195, -0.0709, -0.0966,  0.0471,  0.1039,  0.0172,  0.0845,\n",
              "                       0.0271, -0.0521, -0.0780, -0.0869,  0.0182, -0.1173,  0.0275, -0.1019,\n",
              "                       0.1008, -0.1079,  0.1105, -0.0143, -0.1170,  0.1144,  0.1192,  0.0714,\n",
              "                       0.0704,  0.0377, -0.0919,  0.0522, -0.0530,  0.0604, -0.0158,  0.0389,\n",
              "                       0.0496, -0.1046,  0.1157,  0.0539, -0.1056,  0.0518,  0.0202,  0.1236,\n",
              "                       0.0906, -0.0631,  0.0788,  0.0183,  0.0689, -0.1114, -0.1164, -0.0912,\n",
              "                       0.0284, -0.0373, -0.0101,  0.0904,  0.0083,  0.1159, -0.0879,  0.0843],\n",
              "                     device='cuda:0')),\n",
              "             ('lstm.weight_ih_l1_reverse',\n",
              "              tensor([[-8.9151e-02,  3.4723e-02,  1.0796e-01,  ..., -7.0988e-02,\n",
              "                       -1.1364e-04,  9.0892e-02],\n",
              "                      [-5.9278e-02,  4.9041e-02,  3.4458e-02,  ...,  8.5718e-02,\n",
              "                        4.6592e-02,  4.3097e-02],\n",
              "                      [-4.4301e-03, -2.9322e-02, -7.0734e-02,  ..., -5.0870e-02,\n",
              "                       -1.2419e-01,  1.1994e-01],\n",
              "                      ...,\n",
              "                      [-8.9870e-02,  4.2366e-02,  1.4584e-02,  ...,  9.9880e-02,\n",
              "                       -4.6517e-02, -1.0040e-01],\n",
              "                      [-1.2191e-01,  1.2009e-01, -8.1779e-02,  ...,  1.1222e-02,\n",
              "                        7.5156e-02,  8.4746e-02],\n",
              "                      [-4.4979e-02, -6.2059e-03, -1.1131e-01,  ..., -9.2265e-02,\n",
              "                       -6.8082e-02,  3.3713e-02]], device='cuda:0')),\n",
              "             ('lstm.weight_hh_l1_reverse',\n",
              "              tensor([[-0.0700, -0.1130,  0.0658,  ...,  0.0811, -0.0975, -0.1187],\n",
              "                      [-0.0331,  0.1222, -0.0249,  ..., -0.0622, -0.0435, -0.1052],\n",
              "                      [-0.1108,  0.0844, -0.0279,  ...,  0.0061, -0.0733,  0.0443],\n",
              "                      ...,\n",
              "                      [ 0.0538, -0.0993,  0.0958,  ..., -0.0142, -0.0698, -0.0269],\n",
              "                      [-0.0879,  0.0060, -0.0899,  ...,  0.0515, -0.0917,  0.1107],\n",
              "                      [-0.0217, -0.0672,  0.0810,  ...,  0.0761,  0.0132, -0.0740]],\n",
              "                     device='cuda:0')),\n",
              "             ('lstm.bias_ih_l1_reverse',\n",
              "              tensor([ 7.1662e-02,  1.2206e-02,  2.1091e-04,  1.3994e-02, -7.7169e-02,\n",
              "                      -1.0235e-01, -1.0140e-01,  1.0487e-01, -8.8637e-02,  8.5159e-02,\n",
              "                       1.2369e-01, -6.1823e-02, -5.1535e-02, -9.6321e-02, -8.5734e-02,\n",
              "                      -8.8643e-02,  5.3023e-02, -1.1746e-02,  8.2493e-02,  1.3181e-03,\n",
              "                       1.3180e-02, -6.3196e-02,  1.0155e-01,  9.4414e-02,  3.0498e-02,\n",
              "                      -4.6553e-02, -2.6587e-02,  1.1291e-01,  2.0624e-02,  9.5559e-02,\n",
              "                       3.7180e-02, -1.2164e-01, -5.7378e-02, -7.9850e-02, -1.1929e-01,\n",
              "                      -1.9064e-02,  1.0946e-01,  6.1095e-06,  2.7050e-02,  1.0601e-02,\n",
              "                       6.0437e-02, -2.2914e-02,  2.5170e-02, -5.8320e-02, -8.7231e-02,\n",
              "                      -3.1908e-02,  8.0233e-02, -3.2186e-02,  6.5142e-02,  1.0849e-01,\n",
              "                       2.5783e-02,  3.9380e-02, -8.7916e-02,  7.5032e-02, -6.7117e-02,\n",
              "                       1.0730e-01, -6.0643e-02,  1.2115e-01,  1.1774e-01, -8.3891e-02,\n",
              "                       3.4626e-02,  1.2041e-01,  9.4230e-02,  1.2159e-01, -1.0454e-01,\n",
              "                      -8.7352e-02,  1.0600e-01, -7.0016e-03, -7.3344e-02,  1.1418e-01,\n",
              "                      -4.2155e-02, -1.0339e-02,  4.4328e-03,  2.1462e-02,  1.5666e-02,\n",
              "                      -2.9879e-02,  1.0091e-01,  2.5574e-02,  8.5759e-02,  4.8258e-03,\n",
              "                       5.4924e-03, -4.2827e-02,  9.0915e-02,  9.2699e-02,  1.1509e-01,\n",
              "                       1.1162e-01,  4.1367e-02,  9.0462e-02, -4.6884e-02,  1.0645e-01,\n",
              "                      -2.5983e-02,  1.3483e-02,  7.6557e-02, -6.1220e-02, -2.7680e-02,\n",
              "                       6.0000e-03, -2.1608e-02, -7.6756e-02, -1.2312e-01, -1.1572e-01,\n",
              "                      -3.1639e-02, -1.0541e-01,  6.9211e-02, -6.1103e-02,  1.1102e-02,\n",
              "                      -1.1557e-01, -3.5769e-02, -8.9095e-03,  1.1198e-01, -9.2783e-02,\n",
              "                       4.8015e-02,  4.1166e-03,  8.4286e-02, -1.0469e-01,  1.0098e-02,\n",
              "                       8.4514e-02, -9.9742e-02, -1.5038e-02,  7.2520e-02,  1.6299e-02,\n",
              "                      -9.8486e-02,  9.8695e-02, -9.6743e-02,  9.3396e-02, -3.7431e-02,\n",
              "                      -9.4926e-02,  7.5754e-02, -2.4452e-02,  3.5100e-02, -7.1735e-02,\n",
              "                      -1.1496e-01, -4.9761e-02, -7.6138e-03,  2.1777e-02,  7.8297e-03,\n",
              "                      -2.6568e-02,  4.2806e-02,  5.4034e-02, -2.8531e-02,  2.4136e-02,\n",
              "                       1.1799e-01, -7.9674e-03,  1.2395e-01,  1.2019e-01,  5.1355e-02,\n",
              "                      -1.1809e-01, -1.6844e-02, -5.2156e-02,  6.4752e-03, -8.2706e-02,\n",
              "                      -1.2187e-01,  6.4428e-03,  1.6387e-02,  1.8946e-02,  9.7634e-02,\n",
              "                       5.9233e-02, -7.5009e-03, -2.7439e-02, -4.1093e-03,  1.0142e-01,\n",
              "                      -5.8762e-02,  1.2041e-01,  5.4684e-02, -8.1860e-02, -1.1926e-01,\n",
              "                      -9.0337e-02,  1.0132e-01, -1.7694e-02,  3.0582e-02,  7.9117e-02,\n",
              "                      -5.4537e-02,  1.5999e-02, -1.1165e-01,  6.2488e-02, -6.7535e-02,\n",
              "                      -3.0578e-02, -2.9316e-02,  8.6070e-02, -1.2160e-01, -1.0808e-01,\n",
              "                      -7.4403e-02,  8.0617e-02, -3.3434e-02,  4.2042e-02, -1.1671e-01,\n",
              "                      -1.8712e-02, -2.7781e-02,  1.0469e-01, -6.1722e-02, -4.2243e-02,\n",
              "                      -1.1677e-01, -3.7118e-03,  3.1853e-02,  2.4270e-02,  2.4328e-02,\n",
              "                      -3.1719e-02,  3.4052e-03,  7.2396e-02, -3.2539e-02, -1.0243e-01,\n",
              "                       1.0971e-01, -3.1033e-02,  8.4051e-02,  1.9481e-03,  5.8978e-02,\n",
              "                      -1.1871e-01,  1.2284e-01,  6.8868e-02, -1.2228e-01, -7.5625e-02,\n",
              "                      -1.5882e-03,  4.7500e-02, -8.1768e-02,  1.3035e-02, -1.1100e-01,\n",
              "                      -2.1970e-02,  1.1647e-01,  6.3487e-02,  3.7421e-02,  3.9302e-03,\n",
              "                       6.6607e-02, -2.0665e-02, -6.8241e-02,  5.9880e-02, -7.1643e-02,\n",
              "                      -1.2198e-01, -4.9141e-02, -8.8309e-02, -1.1180e-01,  6.7497e-02,\n",
              "                       5.8774e-02, -6.6575e-03, -2.4629e-02,  1.8552e-02,  9.0806e-02,\n",
              "                       4.2100e-02,  1.1937e-01, -4.7650e-02, -5.3359e-02,  9.4280e-02,\n",
              "                       1.1747e-01,  5.8235e-02,  4.3340e-02, -7.0103e-02, -4.6255e-02,\n",
              "                       2.2268e-02, -4.3682e-02,  2.8363e-02, -3.9019e-02,  9.2658e-03,\n",
              "                      -2.1243e-02, -1.6028e-02,  5.8267e-02,  4.1514e-02, -9.9187e-02,\n",
              "                      -5.6039e-04], device='cuda:0')),\n",
              "             ('lstm.bias_hh_l1_reverse',\n",
              "              tensor([ 0.0500,  0.0773, -0.0363,  0.0073,  0.0637,  0.0022, -0.0389, -0.0431,\n",
              "                      -0.0839, -0.0647, -0.0476,  0.0427,  0.0738, -0.0064,  0.0144,  0.0661,\n",
              "                       0.0346,  0.0428, -0.1250, -0.1106, -0.0535, -0.0320,  0.0491, -0.0675,\n",
              "                      -0.0126, -0.0874,  0.0842,  0.0837,  0.0133,  0.0357, -0.0158,  0.0842,\n",
              "                      -0.0601, -0.0963,  0.0101, -0.0545, -0.0250, -0.0547,  0.0994,  0.0719,\n",
              "                       0.0916, -0.0969,  0.0862,  0.0349,  0.0714,  0.1066, -0.0435, -0.0284,\n",
              "                      -0.1097,  0.0069, -0.0423,  0.0082,  0.0315, -0.0167,  0.0425,  0.0748,\n",
              "                      -0.0916,  0.0700, -0.0475, -0.0345, -0.0452,  0.0194, -0.0828, -0.0479,\n",
              "                       0.0325, -0.1000, -0.0295, -0.0889, -0.0008,  0.0386, -0.0948,  0.0457,\n",
              "                       0.0096,  0.0425, -0.0495, -0.0347,  0.0989, -0.1089,  0.0924,  0.0420,\n",
              "                      -0.0960, -0.0041,  0.0338,  0.0138, -0.0424, -0.0706, -0.0890, -0.0323,\n",
              "                       0.0371,  0.0871,  0.0092, -0.0202, -0.0289, -0.1127,  0.0492,  0.1088,\n",
              "                      -0.0281, -0.0866,  0.0091, -0.0655, -0.0254,  0.0115,  0.1076,  0.0651,\n",
              "                       0.0028, -0.0973, -0.0824,  0.0656, -0.0627,  0.0325, -0.0416, -0.0525,\n",
              "                      -0.0571,  0.1072,  0.0648, -0.0177, -0.0579,  0.0132, -0.0226,  0.1118,\n",
              "                      -0.0934, -0.0663, -0.0276, -0.0030, -0.0804, -0.0804,  0.0354, -0.0946,\n",
              "                       0.0327,  0.0444,  0.0586,  0.0939, -0.0023,  0.1095, -0.0045, -0.1231,\n",
              "                      -0.0076,  0.0985,  0.0053,  0.0732,  0.0461,  0.1176,  0.0990,  0.0273,\n",
              "                       0.0290, -0.0753,  0.1200, -0.0091,  0.0931, -0.0643, -0.0448,  0.0079,\n",
              "                      -0.0763, -0.0338, -0.0538,  0.0589, -0.0397, -0.0046, -0.0559, -0.0121,\n",
              "                      -0.0684,  0.0549, -0.1175,  0.0268, -0.0732, -0.0899,  0.0233, -0.0903,\n",
              "                      -0.0850,  0.1193, -0.0974,  0.0032,  0.0630,  0.1201,  0.0315, -0.0522,\n",
              "                      -0.0369,  0.1012,  0.0530, -0.0686,  0.1224, -0.0826,  0.0063, -0.1072,\n",
              "                       0.0758, -0.0874,  0.0327, -0.1009,  0.0081,  0.0086, -0.1177, -0.0565,\n",
              "                       0.0964, -0.1111,  0.0814,  0.0730,  0.0102, -0.0680, -0.0987, -0.0290,\n",
              "                      -0.0027, -0.0573,  0.0859, -0.1094, -0.0465, -0.0200,  0.0254,  0.0654,\n",
              "                       0.0471, -0.1206,  0.0573, -0.0697, -0.0515,  0.0748, -0.1148,  0.0853,\n",
              "                      -0.0436, -0.0050, -0.1023,  0.0877,  0.0141, -0.1031, -0.1144,  0.0840,\n",
              "                      -0.0451,  0.0196, -0.0199, -0.0761,  0.0307,  0.0801, -0.0238, -0.0262,\n",
              "                      -0.0348, -0.0229, -0.0298,  0.0062,  0.0805,  0.1041, -0.1122, -0.0996,\n",
              "                      -0.0370,  0.1245,  0.0794,  0.1182,  0.1070, -0.0659,  0.0530, -0.0765,\n",
              "                      -0.1072,  0.0047, -0.1146,  0.1147,  0.1188,  0.0677,  0.0677,  0.0561],\n",
              "                     device='cuda:0')),\n",
              "             ('fc_layers.0.weight',\n",
              "              tensor([[-0.0451,  0.0269,  0.0591,  ...,  0.0187, -0.0615, -0.0160],\n",
              "                      [ 0.0209, -0.0873, -0.0496,  ..., -0.0266, -0.0410,  0.0220],\n",
              "                      [ 0.0283, -0.0288, -0.0400,  ...,  0.0155, -0.0522,  0.0153],\n",
              "                      ...,\n",
              "                      [-0.0416, -0.0423,  0.0244,  ...,  0.0169,  0.0616,  0.0092],\n",
              "                      [-0.0152,  0.0321, -0.0095,  ...,  0.0824, -0.0323, -0.0456],\n",
              "                      [-0.0236,  0.0052, -0.0160,  ..., -0.0480, -0.0112,  0.0292]],\n",
              "                     device='cuda:0')),\n",
              "             ('fc_layers.0.bias',\n",
              "              tensor([-0.0749, -0.0482, -0.0036, -0.0817, -0.0354,  0.0315,  0.0825,  0.0515,\n",
              "                      -0.0778,  0.0878,  0.0378,  0.0685, -0.0048,  0.0790,  0.0849,  0.0279,\n",
              "                       0.0044, -0.0476,  0.0567,  0.0448, -0.0670, -0.0141, -0.0244, -0.0284,\n",
              "                       0.0701,  0.0399, -0.0217,  0.0223,  0.0441, -0.0175,  0.0777, -0.0130,\n",
              "                      -0.0703,  0.0290,  0.0800,  0.0252, -0.0051,  0.0855,  0.0159, -0.0376,\n",
              "                      -0.0575,  0.0420, -0.0795, -0.0418, -0.0277,  0.0297,  0.0656,  0.0103,\n",
              "                       0.0562,  0.0445, -0.0202,  0.0110, -0.0467, -0.0172,  0.0111, -0.0020,\n",
              "                      -0.0153, -0.0072,  0.0806,  0.0827,  0.0675,  0.0452, -0.0379, -0.0605,\n",
              "                      -0.0358, -0.0113,  0.0371,  0.0525, -0.0043,  0.0143,  0.0867, -0.0676,\n",
              "                       0.0658, -0.0237, -0.0573, -0.0750,  0.0467, -0.0350, -0.0789,  0.0762,\n",
              "                      -0.0357, -0.0090,  0.0081,  0.0506, -0.0240, -0.0007,  0.0064,  0.0728,\n",
              "                      -0.0238, -0.0442, -0.0185, -0.0542, -0.0506,  0.0128, -0.0576,  0.0058,\n",
              "                       0.0745, -0.0549, -0.0126,  0.0142,  0.0045,  0.0183,  0.0824,  0.0612,\n",
              "                       0.0614,  0.0791,  0.0405, -0.0742, -0.0218,  0.0696,  0.0589,  0.0801,\n",
              "                       0.0189, -0.0649,  0.0364, -0.0717, -0.0217,  0.0497,  0.0179,  0.0499,\n",
              "                       0.0126,  0.0490, -0.0063,  0.0039, -0.0588, -0.0261, -0.0766,  0.0877],\n",
              "                     device='cuda:0')),\n",
              "             ('fc_layers.2.weight',\n",
              "              tensor([[ 0.0789,  0.0480,  0.0147,  ...,  0.0783,  0.0244, -0.0041],\n",
              "                      [-0.0385,  0.0446,  0.0172,  ..., -0.0609, -0.0029, -0.0106],\n",
              "                      [-0.0758, -0.0008, -0.0448,  ..., -0.0619, -0.0265, -0.0093],\n",
              "                      ...,\n",
              "                      [ 0.0752,  0.0280, -0.0878,  ...,  0.0329, -0.0496,  0.0080],\n",
              "                      [ 0.0730, -0.0393,  0.0101,  ...,  0.0640,  0.0656,  0.0064],\n",
              "                      [-0.0451,  0.0718, -0.0880,  ..., -0.0240, -0.0504, -0.0800]],\n",
              "                     device='cuda:0')),\n",
              "             ('fc_layers.2.bias',\n",
              "              tensor([ 0.0533,  0.0594, -0.0046,  0.0184, -0.0822, -0.0422,  0.0199,  0.0146,\n",
              "                      -0.0302, -0.0254, -0.0079,  0.0584, -0.0545,  0.0132, -0.0654, -0.0013,\n",
              "                      -0.0851, -0.0880,  0.0483,  0.0694, -0.0332,  0.0196,  0.0611,  0.0152,\n",
              "                      -0.0645, -0.0372, -0.0622, -0.0670, -0.0560, -0.0802,  0.0013, -0.0009,\n",
              "                      -0.0011, -0.0014,  0.0088, -0.0742,  0.0065,  0.0755,  0.0349,  0.0374,\n",
              "                      -0.0026, -0.0102,  0.0400, -0.0715,  0.0306, -0.0428,  0.0265,  0.0117,\n",
              "                       0.0136, -0.0286, -0.0723, -0.0452,  0.0696,  0.0164, -0.0746, -0.0498,\n",
              "                      -0.0027,  0.0085,  0.0566,  0.0551, -0.0314, -0.0129, -0.0504,  0.0638],\n",
              "                     device='cuda:0')),\n",
              "             ('fc_layers.4.weight',\n",
              "              tensor([[ 0.0987,  0.1123, -0.0089,  ..., -0.0266,  0.0328,  0.0110],\n",
              "                      [-0.0978, -0.1019,  0.0344,  ..., -0.0378, -0.0283,  0.0417],\n",
              "                      [ 0.0507,  0.0925,  0.1235,  ...,  0.1031, -0.1106,  0.0545],\n",
              "                      ...,\n",
              "                      [-0.0100,  0.0651, -0.0300,  ...,  0.0926, -0.0864, -0.1007],\n",
              "                      [ 0.0784, -0.0546, -0.0530,  ..., -0.0290, -0.0200, -0.0508],\n",
              "                      [-0.0141, -0.0027,  0.0084,  ...,  0.0568,  0.0194,  0.0536]],\n",
              "                     device='cuda:0')),\n",
              "             ('fc_layers.4.bias',\n",
              "              tensor([-0.0737,  0.0099, -0.0829, -0.0450,  0.0979,  0.1107, -0.0891, -0.0313,\n",
              "                       0.0913, -0.0519, -0.0953, -0.0568,  0.0714, -0.0902,  0.1026,  0.1099,\n",
              "                      -0.0728,  0.0021,  0.0874,  0.0910,  0.0963, -0.0112,  0.0239,  0.0620,\n",
              "                       0.0965,  0.1168,  0.0325, -0.0979,  0.1103,  0.0791, -0.0265, -0.0522],\n",
              "                     device='cuda:0')),\n",
              "             ('fc_layers.6.weight',\n",
              "              tensor([[-1.7454e-01,  9.3663e-02, -9.6767e-02, -1.0724e-01, -1.0136e-01,\n",
              "                       -3.8066e-03,  1.4967e-01,  1.3527e-01, -5.2016e-02, -1.4194e-01,\n",
              "                       -4.0167e-02, -8.6079e-02,  8.1467e-03, -1.0780e-01,  6.9443e-02,\n",
              "                       -1.0327e-01, -1.1763e-01, -9.9964e-02, -2.5920e-03, -1.6589e-02,\n",
              "                       -1.4671e-02, -4.4706e-02, -4.0479e-02, -6.4984e-02, -1.2438e-01,\n",
              "                       -6.5359e-02,  1.7336e-02, -5.6652e-02, -8.2262e-02, -6.1150e-02,\n",
              "                        1.1329e-01,  2.8662e-02],\n",
              "                      [-5.3846e-02,  1.6446e-02,  5.9717e-02,  9.8909e-02,  2.3181e-02,\n",
              "                        6.3824e-02, -1.1911e-01, -1.5647e-01, -4.1734e-04,  1.5866e-01,\n",
              "                        1.2140e-01,  8.9358e-02, -8.0689e-02, -7.4162e-02,  5.3976e-03,\n",
              "                        9.1515e-02, -8.3274e-02, -1.2366e-01, -8.8373e-02, -1.6774e-01,\n",
              "                       -1.3784e-01,  9.6706e-02,  4.7963e-02,  4.5064e-02,  1.4826e-01,\n",
              "                        1.5467e-01, -3.2019e-02,  9.4790e-02, -4.1885e-02,  6.5138e-02,\n",
              "                       -1.7670e-01, -1.6232e-01],\n",
              "                      [-1.1361e-01,  9.4548e-02, -1.3655e-02,  3.5770e-02, -9.4924e-02,\n",
              "                        1.5273e-01, -6.5721e-02,  1.2167e-01,  1.1382e-01, -9.6988e-02,\n",
              "                        1.5030e-01, -1.6825e-01, -1.2862e-01, -1.7908e-02, -1.3376e-01,\n",
              "                        4.5724e-02,  1.0778e-02,  6.0396e-03,  1.9969e-02,  1.6789e-01,\n",
              "                       -1.0720e-01, -1.5001e-02, -8.2270e-02, -7.6624e-02,  8.4644e-02,\n",
              "                       -6.7459e-02,  4.6418e-02,  8.9918e-03,  1.3318e-01,  1.5230e-01,\n",
              "                       -1.2440e-01, -3.1227e-02],\n",
              "                      [-8.7990e-02,  1.5441e-02,  7.5555e-02,  4.1569e-02, -5.5596e-02,\n",
              "                       -1.5867e-01, -1.6660e-01,  6.2548e-02,  9.3442e-03,  1.6452e-01,\n",
              "                       -7.9190e-02,  3.9412e-02, -1.2265e-01, -4.2208e-02,  2.8636e-03,\n",
              "                        2.9230e-02,  3.7459e-02,  1.3206e-01,  1.4303e-02,  1.2806e-01,\n",
              "                        6.7832e-02,  7.4400e-02, -1.2625e-01,  1.3474e-01, -7.7523e-02,\n",
              "                        7.0366e-02, -1.3836e-01,  1.1158e-01,  4.5571e-02, -6.4441e-02,\n",
              "                        5.9284e-02, -8.2725e-03],\n",
              "                      [ 1.2345e-01,  3.0909e-02, -1.2559e-01, -9.4610e-02,  9.2628e-02,\n",
              "                        5.8219e-02, -1.2407e-01, -5.7452e-02,  8.5550e-02, -7.7327e-04,\n",
              "                        5.9169e-02, -1.0379e-02, -1.5252e-01, -9.7330e-02, -1.4580e-01,\n",
              "                       -1.1277e-01, -6.4854e-02, -1.4319e-01, -3.1909e-02, -9.4707e-02,\n",
              "                       -4.1651e-03, -4.6092e-02,  1.1035e-01,  6.0852e-02,  7.6096e-02,\n",
              "                        2.5826e-02, -1.4984e-01,  7.3140e-02, -1.4166e-01,  6.9387e-02,\n",
              "                       -7.9931e-02, -1.6404e-01],\n",
              "                      [ 1.3036e-01, -1.5089e-01,  1.0541e-01, -1.6754e-01,  1.2154e-01,\n",
              "                        1.2174e-01,  9.1838e-02, -5.3794e-02,  1.5306e-01,  1.5881e-01,\n",
              "                        1.3345e-01,  1.6568e-01,  8.6967e-02,  1.2436e-01, -9.9411e-02,\n",
              "                       -1.3150e-01,  8.6203e-02, -4.0329e-02,  1.3192e-01,  7.0856e-03,\n",
              "                       -3.6973e-02, -1.7151e-01, -1.7003e-01,  1.4884e-01, -4.5974e-02,\n",
              "                        1.2143e-02,  4.6365e-02, -7.2737e-02, -1.3449e-02, -1.5861e-01,\n",
              "                       -1.5598e-02, -8.9756e-02],\n",
              "                      [ 8.4362e-02, -2.8657e-02,  7.5699e-02,  1.0820e-01,  1.6866e-01,\n",
              "                       -2.6179e-02,  1.5901e-01,  1.6556e-01, -1.0204e-01, -4.2373e-02,\n",
              "                        1.1426e-02, -1.0715e-01,  1.4180e-01, -1.2802e-01,  8.3338e-02,\n",
              "                       -6.0137e-03,  1.6226e-02,  5.7854e-02, -7.9909e-02, -5.8019e-02,\n",
              "                       -1.3266e-01, -8.0163e-02, -1.3586e-01,  1.6997e-01, -6.1485e-02,\n",
              "                        1.3143e-01,  2.5868e-02, -1.1805e-01, -1.4298e-01, -1.3143e-01,\n",
              "                       -4.6708e-03, -1.6008e-01],\n",
              "                      [ 6.0722e-02, -1.2219e-01, -1.7646e-01,  1.5984e-01,  4.6519e-02,\n",
              "                       -1.9857e-02, -2.1715e-02,  1.6036e-02, -9.0312e-02,  1.2092e-01,\n",
              "                       -1.5186e-01,  6.5900e-02, -8.2221e-02, -3.7452e-02,  1.3930e-01,\n",
              "                        5.5180e-02,  1.5654e-01, -7.4161e-02,  1.5083e-01,  1.2855e-01,\n",
              "                       -1.5451e-01, -9.5456e-02, -6.6631e-02, -2.0967e-02, -1.2533e-01,\n",
              "                       -9.3579e-04,  3.0219e-02, -1.4795e-01, -1.6855e-02, -1.4708e-01,\n",
              "                        1.5553e-01,  3.7128e-02],\n",
              "                      [-6.5623e-02, -5.8062e-02, -1.5788e-01, -1.3493e-01, -8.0515e-02,\n",
              "                       -5.6332e-02, -1.4312e-01,  8.6490e-02,  9.5417e-02,  1.0795e-01,\n",
              "                       -1.5846e-01, -9.4559e-02, -1.5897e-01, -1.6993e-02, -1.2625e-01,\n",
              "                        4.3772e-02, -8.9868e-02,  1.5325e-01, -1.7288e-01, -1.0720e-01,\n",
              "                        1.7448e-01, -2.6187e-02, -1.7187e-01,  9.6489e-02, -8.6478e-02,\n",
              "                       -5.2451e-02, -1.5330e-01,  8.4232e-02,  4.4276e-02,  1.1421e-02,\n",
              "                       -1.6773e-01,  1.3088e-01],\n",
              "                      [ 1.3731e-01,  1.4484e-01,  1.3211e-01, -7.4760e-02, -1.0238e-01,\n",
              "                        6.3968e-02,  1.5985e-01, -6.6360e-02, -1.6470e-01, -1.0092e-04,\n",
              "                       -1.4713e-01, -1.5381e-01, -6.0440e-02, -9.9356e-02,  1.4111e-01,\n",
              "                       -3.9684e-02,  1.0794e-01,  1.4467e-01, -2.5904e-02, -8.7236e-02,\n",
              "                       -8.0402e-02,  2.3138e-02, -1.0031e-01,  1.0150e-01,  1.0973e-01,\n",
              "                        2.6173e-02,  2.4104e-02,  5.1711e-02,  1.5110e-01,  5.3177e-02,\n",
              "                       -5.6943e-02, -9.8793e-02],\n",
              "                      [-5.7786e-02, -1.6466e-01, -1.2537e-01, -7.2484e-02,  6.1148e-02,\n",
              "                        5.9964e-02, -1.4958e-01, -3.6903e-02, -7.3046e-02,  1.8589e-03,\n",
              "                       -4.1330e-02,  6.5361e-02,  1.6768e-01,  7.4575e-02,  7.2495e-02,\n",
              "                        1.2024e-01,  4.2266e-02, -4.9788e-02,  1.4232e-01, -1.3213e-01,\n",
              "                       -8.4926e-02,  1.5497e-01,  8.0986e-02, -7.5331e-02, -9.5549e-02,\n",
              "                       -1.4369e-01, -1.4138e-01, -7.0040e-02, -8.5736e-02,  1.0869e-01,\n",
              "                       -4.3125e-02, -8.0886e-03],\n",
              "                      [-1.6430e-01, -4.1905e-02, -1.5721e-01,  2.7541e-02, -8.0738e-02,\n",
              "                        7.7725e-02,  1.2585e-01, -2.5985e-02,  9.9705e-02,  1.4261e-01,\n",
              "                        4.1055e-02, -1.5995e-01,  9.8718e-02,  1.1788e-01, -6.3526e-02,\n",
              "                        4.3900e-04, -1.4861e-01, -1.7550e-01, -1.5637e-01,  4.4543e-02,\n",
              "                        1.2430e-01,  1.4020e-01,  4.8175e-03,  3.2639e-02,  6.7151e-02,\n",
              "                        1.2222e-01, -8.2907e-02, -5.8335e-02,  1.5796e-02,  1.1406e-01,\n",
              "                       -1.0959e-01,  1.1001e-01],\n",
              "                      [-1.5411e-01,  1.2266e-01, -5.2660e-02, -1.5874e-01, -1.6572e-03,\n",
              "                        1.3612e-01, -3.4899e-02,  1.4885e-01,  4.6003e-02, -1.0749e-01,\n",
              "                        1.1644e-01,  1.0533e-01, -9.2073e-02, -1.6759e-01, -1.3043e-01,\n",
              "                       -1.1458e-01,  1.0012e-02,  1.5214e-01, -1.0603e-02, -1.0505e-01,\n",
              "                       -1.7474e-02, -5.1493e-02, -1.6819e-01, -1.5306e-01,  9.8651e-02,\n",
              "                       -3.9190e-02,  7.2572e-02, -1.0478e-01,  1.5844e-01, -4.3350e-02,\n",
              "                       -9.0122e-02, -3.5878e-02],\n",
              "                      [-1.2951e-01, -1.6588e-01, -9.0327e-02, -1.2275e-01, -6.4114e-02,\n",
              "                        6.8267e-02, -1.9277e-02,  6.1408e-02,  5.0141e-02, -1.3234e-01,\n",
              "                        1.2949e-01, -4.4783e-02,  5.4086e-02,  1.0074e-01,  1.6607e-01,\n",
              "                       -5.0442e-02,  5.3893e-02, -1.7014e-01, -8.4544e-02,  5.9992e-02,\n",
              "                       -1.6770e-01, -1.5056e-01, -1.5560e-01, -1.0846e-01,  6.5420e-02,\n",
              "                        1.3105e-02,  1.4921e-01, -7.2229e-04, -7.2039e-02,  1.0270e-01,\n",
              "                       -1.6222e-01,  1.3987e-01],\n",
              "                      [ 3.1169e-02, -1.3128e-01,  4.6697e-02, -1.0773e-01, -2.6121e-02,\n",
              "                       -7.9363e-02,  5.5661e-02, -1.4890e-01,  3.0752e-02, -1.1397e-01,\n",
              "                        9.7002e-02,  1.0566e-02,  1.1279e-01,  1.3360e-01,  9.8330e-02,\n",
              "                        8.8759e-02, -1.6956e-01, -1.0846e-01, -8.1989e-02, -8.3650e-02,\n",
              "                       -8.3083e-02,  8.6349e-02, -1.7207e-01, -1.4517e-02,  1.5715e-01,\n",
              "                       -9.8021e-03, -1.3162e-01,  7.7199e-02, -1.3624e-01,  1.2034e-01,\n",
              "                        1.5496e-01,  1.4781e-01],\n",
              "                      [ 1.6621e-01,  1.1502e-01,  1.7483e-01, -1.0619e-01, -1.0074e-01,\n",
              "                        1.4177e-01, -1.2537e-01,  1.0310e-01,  5.5465e-02,  1.2422e-01,\n",
              "                       -1.1937e-01,  4.3952e-02, -9.3531e-02,  1.6646e-01, -1.3013e-01,\n",
              "                        2.0838e-03,  3.6549e-02,  7.3838e-02, -8.4916e-02, -7.2649e-02,\n",
              "                        8.5151e-02,  1.7156e-01,  5.8002e-03,  1.7495e-03, -9.9504e-02,\n",
              "                        5.1122e-02, -8.7023e-03,  2.1283e-02, -3.0576e-02,  8.8030e-02,\n",
              "                        1.6199e-01, -6.4129e-02]], device='cuda:0')),\n",
              "             ('fc_layers.6.bias',\n",
              "              tensor([ 0.0403, -0.0182,  0.0069, -0.0427,  0.0864,  0.0407,  0.1736,  0.0896,\n",
              "                      -0.0217,  0.1736,  0.1711,  0.0334,  0.1495,  0.0906, -0.1669,  0.0747],\n",
              "                     device='cuda:0')),\n",
              "             ('fc_layers.8.weight',\n",
              "              tensor([[ 0.0880,  0.0278, -0.1331,  0.1546, -0.0051,  0.2337,  0.2492, -0.1369,\n",
              "                        0.0152,  0.1105, -0.0629, -0.1397,  0.0152, -0.0634,  0.0652,  0.1427],\n",
              "                      [-0.1464, -0.1429, -0.0086,  0.0054,  0.0048, -0.2203,  0.0051, -0.0475,\n",
              "                        0.1649, -0.0841,  0.1141,  0.2208,  0.2155, -0.0657, -0.0541, -0.0357],\n",
              "                      [-0.0372, -0.2133,  0.0558, -0.2444,  0.0807, -0.0825, -0.1501,  0.1123,\n",
              "                       -0.0228,  0.2132,  0.0459, -0.2400, -0.1206,  0.1790, -0.2384, -0.2337],\n",
              "                      [-0.1351,  0.0008,  0.2486,  0.0848, -0.0006,  0.1060, -0.1795,  0.2180,\n",
              "                        0.1525, -0.1191, -0.0599, -0.1869,  0.0951,  0.1902, -0.0757, -0.1954],\n",
              "                      [ 0.1096,  0.0916, -0.1976, -0.2053, -0.0997, -0.1912,  0.0515,  0.2003,\n",
              "                       -0.0778, -0.1276,  0.1517,  0.0761, -0.2056, -0.1209,  0.1325,  0.0549],\n",
              "                      [ 0.0621,  0.2243, -0.0373,  0.2448,  0.0617, -0.0593,  0.1625,  0.1831,\n",
              "                        0.1857,  0.2475, -0.1668,  0.2191, -0.2077, -0.0241, -0.0861,  0.0435],\n",
              "                      [ 0.0195,  0.0780, -0.0764, -0.2361,  0.1501,  0.1011,  0.1917, -0.0672,\n",
              "                       -0.1115,  0.1464,  0.0477, -0.2395,  0.2474,  0.1141, -0.0338, -0.1832],\n",
              "                      [-0.0721,  0.2052, -0.1609, -0.0385,  0.0572,  0.0525,  0.0318,  0.0380,\n",
              "                        0.0933,  0.2170, -0.1839, -0.0455, -0.1823, -0.0608, -0.2469,  0.1805],\n",
              "                      [-0.1131,  0.0469,  0.0549, -0.1905,  0.1717, -0.1779,  0.0082, -0.0570,\n",
              "                       -0.1291,  0.0283,  0.2162, -0.2214,  0.2390, -0.0871, -0.0017, -0.1309],\n",
              "                      [-0.0476, -0.1671,  0.1417,  0.0862, -0.1748,  0.0868, -0.0057,  0.1400,\n",
              "                       -0.0260,  0.0602, -0.0881, -0.0403,  0.2429,  0.2021, -0.0502,  0.2343]],\n",
              "                     device='cuda:0')),\n",
              "             ('fc_layers.8.bias',\n",
              "              tensor([-0.1035,  0.2278, -0.0848,  0.0034,  0.1034,  0.0554, -0.0300,  0.2002,\n",
              "                      -0.1612, -0.1429], device='cuda:0'))])"
            ]
          },
          "metadata": {},
          "execution_count": 9
        }
      ]
    },
    {
      "cell_type": "code",
      "execution_count": 10,
      "metadata": {
        "id": "3w9QW9Lfp1aV",
        "colab": {
          "base_uri": "https://localhost:8080/"
        },
        "outputId": "af2cffb1-994d-4cc9-e475-e608afaa297e"
      },
      "outputs": [
        {
          "output_type": "execute_result",
          "data": {
            "text/plain": [
              "LSTM_Model_label(\n",
              "  (lstm): LSTM(41, 64, num_layers=2, batch_first=True, dropout=0.5, bidirectional=True)\n",
              "  (fc_layers): Sequential(\n",
              "    (0): Linear(in_features=128, out_features=128, bias=True)\n",
              "    (1): Tanh()\n",
              "    (2): Linear(in_features=128, out_features=64, bias=True)\n",
              "    (3): Tanh()\n",
              "    (4): Linear(in_features=64, out_features=32, bias=True)\n",
              "    (5): Sigmoid()\n",
              "    (6): Linear(in_features=32, out_features=16, bias=True)\n",
              "    (7): Sigmoid()\n",
              "    (8): Linear(in_features=16, out_features=2, bias=True)\n",
              "  )\n",
              ")"
            ]
          },
          "metadata": {},
          "execution_count": 10
        }
      ],
      "source": [
        "my_model_label = LSTM_Model_label(num_classes_label, input_size, hidden_size, num_layers).to(device=device)\n",
        "my_model_label"
      ]
    },
    {
      "cell_type": "markdown",
      "metadata": {
        "id": "Cey1CId-jjis"
      },
      "source": [
        "# **optimizer and loss function**"
      ]
    },
    {
      "cell_type": "code",
      "execution_count": 11,
      "metadata": {
        "id": "WNuQFMAekNDH"
      },
      "outputs": [],
      "source": [
        "loss_fn1 = nn.CrossEntropyLoss().to(device=device)\n",
        "loss_fn2 = nn.CrossEntropyLoss().to(device=device)\n",
        "optimizer1 = opt.Adam(params=my_model_attack.parameters(),lr=learning_rate)\n",
        "optimizer2 = opt.Adam(params=my_model_label.parameters(),lr=learning_rate)"
      ]
    },
    {
      "cell_type": "markdown",
      "metadata": {
        "id": "4JYcovfYlpHM"
      },
      "source": [
        "# **train attack cat**"
      ]
    },
    {
      "cell_type": "code",
      "execution_count": 12,
      "metadata": {
        "id": "Qmw8w1eTkeBu",
        "colab": {
          "base_uri": "https://localhost:8080/"
        },
        "outputId": "0504483d-9d39-48da-b66b-a84fc3286d82"
      },
      "outputs": [
        {
          "output_type": "stream",
          "name": "stdout",
          "text": [
            "Epoch: 0, loss: 1.5264\n",
            "Epoch: 50, loss: 0.5140\n",
            "Epoch: 100, loss: 0.4684\n",
            "Epoch: 150, loss: 0.4591\n",
            "Epoch: 200, loss: 0.3872\n",
            "Epoch: 250, loss: 0.4590\n",
            "Epoch: 300, loss: 0.4459\n",
            "Epoch: 350, loss: 0.3392\n",
            "Epoch: 400, loss: 0.3946\n",
            "Epoch: 450, loss: 0.4936\n",
            "Epoch: 500, loss: 0.4279\n"
          ]
        }
      ],
      "source": [
        "for epoch in range(num_epoch+1):\n",
        "\n",
        "    for batch_x, batch_y in train_attack_cat_dataloader:\n",
        "\n",
        "        batch_x = torch.reshape(batch_x, (batch_x.shape[0], 1, batch_x.shape[1])) #RuntimeError: For unbatched 2-D input, hx and cx should also be 2-D but got (3-D, 3-D) tensors\n",
        "        \n",
        "        batch_x = batch_x.to(device)\n",
        "        batch_y = batch_y.to(device)\n",
        "\n",
        "        optimizer1.zero_grad()\n",
        "        loss1 = loss_fn1(my_model_attack(batch_x) , batch_y)\n",
        "        loss1.backward() \n",
        "        optimizer1.step()\n",
        "\n",
        "    if epoch % 50 == 0:\n",
        "         print(\"Epoch: %d, loss: %.4f\" % (epoch, loss1.item())) "
      ]
    },
    {
      "cell_type": "markdown",
      "metadata": {
        "id": "PQaRCMJPls5N"
      },
      "source": [
        "# **test attack cat**"
      ]
    },
    {
      "cell_type": "code",
      "execution_count": 13,
      "metadata": {
        "id": "QrtYzVT4loMQ",
        "colab": {
          "base_uri": "https://localhost:8080/"
        },
        "outputId": "c8e620ce-207c-4594-8029-31f0adf81447"
      },
      "outputs": [
        {
          "output_type": "stream",
          "name": "stdout",
          "text": [
            "acc : 82.15%\n"
          ]
        }
      ],
      "source": [
        "correct = 0\n",
        "\n",
        "for batch_x, labl in test_attack_cat_dataloader:\n",
        "  \n",
        "    batch_x = torch.reshape(batch_x, (batch_x.shape[0], 1, batch_x.shape[1])) #RuntimeError: For unbatched 2-D input, hx and cx should also be 2-D but got (3-D, 3-D) tensors\n",
        "  \n",
        "    batch_x = batch_x.to(device)\n",
        "    labl = labl.to(device)\n",
        "\n",
        "    out = my_model_attack(batch_x)\n",
        "    _,predicted = torch.max(out,1)\n",
        "    correct += torch.sum(predicted == labl)\n",
        "\n",
        "print(\"acc : %.2f\" % (100.*correct / len(test_attack_cat)),end=\"\")\n",
        "print(\"%\")"
      ]
    },
    {
      "cell_type": "markdown",
      "metadata": {
        "id": "pLqOLtA6tQht"
      },
      "source": [
        "# **train label**"
      ]
    },
    {
      "cell_type": "code",
      "execution_count": 14,
      "metadata": {
        "id": "Xm1cu1GhtMJO",
        "colab": {
          "base_uri": "https://localhost:8080/"
        },
        "outputId": "e0580d90-e2a1-4dc4-e222-df7d5ac3e297"
      },
      "outputs": [
        {
          "output_type": "stream",
          "name": "stdout",
          "text": [
            "Epoch: 0, loss: 0.4057\n",
            "Epoch: 50, loss: 0.1377\n",
            "Epoch: 100, loss: 0.1205\n",
            "Epoch: 150, loss: 0.1453\n",
            "Epoch: 200, loss: 0.1153\n",
            "Epoch: 250, loss: 0.1415\n",
            "Epoch: 300, loss: 0.1243\n",
            "Epoch: 350, loss: 0.1263\n",
            "Epoch: 400, loss: 0.1063\n",
            "Epoch: 450, loss: 0.1286\n",
            "Epoch: 500, loss: 0.1168\n"
          ]
        }
      ],
      "source": [
        "for epoch in range(num_epoch+1):\n",
        "\n",
        "    for batch_x, batch_y in train_label_dataloader:\n",
        "\n",
        "        batch_x = torch.reshape(batch_x, (batch_x.shape[0], 1, batch_x.shape[1])) #RuntimeError: For unbatched 2-D input, hx and cx should also be 2-D but got (3-D, 3-D) tensors\n",
        "        \n",
        "        batch_x = batch_x.to(device)\n",
        "        batch_y = batch_y.to(device)\n",
        "\n",
        "        optimizer2.zero_grad()\n",
        "        loss2 = loss_fn2(my_model_label(batch_x) , batch_y)\n",
        "        loss2.backward() \n",
        "        optimizer2.step()\n",
        "\n",
        "    if epoch % 50 == 0:\n",
        "         print(\"Epoch: %d, loss: %.4f\" % (epoch, loss2.item())) "
      ]
    },
    {
      "cell_type": "markdown",
      "metadata": {
        "id": "Ig7VBqU0tfZd"
      },
      "source": [
        "# **test label**"
      ]
    },
    {
      "cell_type": "code",
      "execution_count": 15,
      "metadata": {
        "id": "a7u2bQ0WtiG2",
        "colab": {
          "base_uri": "https://localhost:8080/"
        },
        "outputId": "565bd4a6-6246-4b95-cb79-6e79eabb1974"
      },
      "outputs": [
        {
          "output_type": "stream",
          "name": "stdout",
          "text": [
            "acc : 94.01%\n"
          ]
        }
      ],
      "source": [
        "correct = 0\n",
        "\n",
        "for batch_x, labl in test_label_dataloader:\n",
        "\n",
        "    batch_x = torch.reshape(batch_x, (batch_x.shape[0], 1, batch_x.shape[1])) #RuntimeError: For unbatched 2-D input, hx and cx should also be 2-D but got (3-D, 3-D) tensors\n",
        "\n",
        "    batch_x = batch_x.to(device)\n",
        "    labl = labl.to(device)\n",
        "  \n",
        "    out = my_model_label(batch_x)\n",
        "    _,predicted = torch.max(out,1)\n",
        "    correct += torch.sum(predicted == labl)\n",
        "\n",
        "print(\"acc : %.2f\" % (100.*correct / len(test_label)),end=\"\")\n",
        "print(\"%\")"
      ]
    }
  ],
  "metadata": {
    "accelerator": "GPU",
    "colab": {
      "collapsed_sections": [],
      "provenance": []
    },
    "gpuClass": "standard",
    "kernelspec": {
      "display_name": "Python 3",
      "name": "python3"
    },
    "language_info": {
      "name": "python"
    }
  },
  "nbformat": 4,
  "nbformat_minor": 0
}