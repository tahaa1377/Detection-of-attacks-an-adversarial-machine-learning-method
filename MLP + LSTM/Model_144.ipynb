{
  "cells": [
    {
      "cell_type": "code",
      "execution_count": 1,
      "metadata": {
        "id": "Ff1b4PxtBQuc"
      },
      "outputs": [],
      "source": [
        "num_epoch = 500      \n",
        "learning_rate = 0.002\n",
        "batch_size = 1000\n",
        "\n",
        "hidden_size = 64 #number of features in hidden state\n",
        "num_layers = 2  #number of stacked lstm layers\n",
        "bidirectional = True\n",
        "drop_out = 0.5\n",
        "bidirectional_forward_backward = 2 if bidirectional else 1\n",
        "\n",
        "input_size = 41 #number of features\n",
        "num_classes_attack_cat = 10 #number of output classes \n",
        "num_classes_label = 2       #number of output classes \n",
        "\n",
        "hyper_parameter1=128\n",
        "hyper_parameter2=64"
      ]
    },
    {
      "cell_type": "code",
      "source": [
        "from google.colab import drive\n",
        "drive.mount('/content/drive')"
      ],
      "metadata": {
        "colab": {
          "base_uri": "https://localhost:8080/"
        },
        "id": "0Gua0hky6SDJ",
        "outputId": "77ebaab0-f3e8-4f1f-db4e-f58a29961abf"
      },
      "execution_count": 2,
      "outputs": [
        {
          "output_type": "stream",
          "name": "stdout",
          "text": [
            "Mounted at /content/drive\n"
          ]
        }
      ]
    },
    {
      "cell_type": "code",
      "execution_count": 3,
      "metadata": {
        "colab": {
          "base_uri": "https://localhost:8080/"
        },
        "id": "hZiaj4uT24DH",
        "outputId": "ba1cc9ed-dee6-4ccc-a07f-8baebc775095"
      },
      "outputs": [
        {
          "output_type": "stream",
          "name": "stdout",
          "text": [
            "GPU\n"
          ]
        }
      ],
      "source": [
        "import pandas as pd\n",
        "from matplotlib import pyplot as plt\n",
        "import numpy as np\n",
        "from torch.utils.data.dataset import Dataset\n",
        "from torch.utils.data import random_split, DataLoader\n",
        "import torch\n",
        "from sklearn.preprocessing import LabelEncoder\n",
        "from sklearn import preprocessing\n",
        "import torch.nn as nn\n",
        "import torch.nn.functional as F\n",
        "import torch.optim as opt\n",
        "from torch.autograd import Variable \n",
        "\n",
        "# GPU OR CPU\n",
        "if torch.cuda.is_available():\n",
        "    device = torch.device(\"cuda:0\")\n",
        "    print(\"GPU\")\n",
        "else:\n",
        "    device = torch.device(\"cpu\")\n",
        "    print(\"CPU\")"
      ]
    },
    {
      "cell_type": "code",
      "execution_count": 4,
      "metadata": {
        "id": "Sv-R_m6Z1EL5"
      },
      "outputs": [],
      "source": [
        "class DataSet_UNSWNB15_attack_cat(Dataset):\n",
        "\n",
        "    def __init__(self,data_set_path):\n",
        "        df = pd.read_csv(data_set_path)\n",
        "        print(df.attack_cat.value_counts().sort_values().plot(kind = \"barh\"))\n",
        "        \n",
        "        # preprocceing\n",
        "        df.drop(['id',\"Unnamed: 0\",\"service\",\"label\"], axis=1, inplace=True)        \n",
        "        cols = ['attack_cat' ,'proto' ,'state']\n",
        "        df[cols] = df[cols].apply(LabelEncoder().fit_transform)\n",
        "\n",
        "        self.data_array = df.values\n",
        "        self.x = self.data_array[:, :41]\n",
        "        self.y = self.data_array[:, 41]\n",
        "      \n",
        "        # normalaized data\n",
        "        scaler = preprocessing.StandardScaler().fit(self.x)\n",
        "        self.x = scaler.transform(self.x)\n",
        "\n",
        "        self.x = torch.tensor(self.x).float()\n",
        "        self.y = torch.tensor(self.y).long()\n",
        "\n",
        "    def __len__(self):\n",
        "        return len(self.data_array)\n",
        "\n",
        "    def __getitem__(self, item):\n",
        "        sample = (self.x[item, :], self.y[item])\n",
        "        return sample\n",
        "\n",
        "        \n",
        "class DataSet_UNSWNB15_label(Dataset):\n",
        "\n",
        "    def __init__(self,data_set_path):\n",
        "        df = pd.read_csv(data_set_path)\n",
        "        print(df.label.value_counts().sort_values().plot(kind = \"pie\"))\n",
        "\n",
        "        # preprocceing\n",
        "        df.drop(['id',\"Unnamed: 0\",\"service\",\"attack_cat\"], axis=1, inplace=True)\n",
        "        cols = ['proto' ,'state']\n",
        "        df[cols] = df[cols].apply(LabelEncoder().fit_transform)\n",
        "\n",
        "        self.data_array = df.values\n",
        "        self.x = self.data_array[:, :41]\n",
        "        self.y = self.data_array[:, 41]\n",
        "        \n",
        "        # normalaized data\n",
        "        scaler = preprocessing.StandardScaler().fit(self.x)\n",
        "        self.x = scaler.transform(self.x)\n",
        "\n",
        "        self.x = torch.tensor(self.x).float()\n",
        "        self.y = torch.tensor(self.y).long()\n",
        "\n",
        "    def __len__(self):\n",
        "        return len(self.data_array)\n",
        "\n",
        "    def __getitem__(self, item):\n",
        "        sample = (self.x[item, :], self.y[item])\n",
        "        return sample"
      ]
    },
    {
      "cell_type": "code",
      "execution_count": 5,
      "metadata": {
        "colab": {
          "base_uri": "https://localhost:8080/",
          "height": 283
        },
        "id": "UykLrbQZ1R7K",
        "outputId": "bf0dc27e-28cb-4623-872f-ed1baf0f2b04"
      },
      "outputs": [
        {
          "output_type": "stream",
          "name": "stdout",
          "text": [
            "AxesSubplot(0.125,0.125;0.775x0.755)\n"
          ]
        },
        {
          "output_type": "display_data",
          "data": {
            "text/plain": [
              "<Figure size 432x288 with 1 Axes>"
            ],
            "image/png": "[encoded data removed]"
          },
          "metadata": {
            "needs_background": "light"
          }
        }
      ],
      "source": [
        "dataset_attack_cat = DataSet_UNSWNB15_attack_cat(\"/content/drive/MyDrive/datasets/UNSW-NB15/UNSW_NB15.csv\")\n",
        "number_of_test = int(len(dataset_attack_cat)*0.3)\n",
        "number_of_train = len(dataset_attack_cat) - int(len(dataset_attack_cat)*0.3)\n",
        "train_attack_cat ,test_attack_cat = random_split(dataset=dataset_attack_cat, lengths=[number_of_train,number_of_test])\n",
        "\n",
        "train_attack_cat_dataloader = DataLoader(dataset=train_attack_cat ,batch_size=batch_size ,shuffle=True)\n",
        "test_attack_cat_dataloader = DataLoader(dataset=test_attack_cat ,batch_size=batch_size ,shuffle=True)"
      ]
    },
    {
      "cell_type": "code",
      "execution_count": 6,
      "metadata": {
        "colab": {
          "base_uri": "https://localhost:8080/",
          "height": 266
        },
        "id": "LmFY9Q-u29T3",
        "outputId": "f9f4a6f0-0c52-40b4-fc0c-a1c24047e8e6"
      },
      "outputs": [
        {
          "output_type": "stream",
          "name": "stdout",
          "text": [
            "AxesSubplot(0.260833,0.125;0.503333x0.755)\n"
          ]
        },
        {
          "output_type": "display_data",
          "data": {
            "text/plain": [
              "<Figure size 432x288 with 1 Axes>"
            ],
            "image/png": "[encoded data removed]"
          },
          "metadata": {}
        }
      ],
      "source": [
        "dataset_label = DataSet_UNSWNB15_label(\"/content/drive/MyDrive/datasets/UNSW-NB15/UNSW_NB15.csv\")\n",
        "number_of_test = int(len(dataset_label)*0.3)\n",
        "number_of_train = len(dataset_label) - int(len(dataset_label)*0.3)\n",
        "train_label ,test_label = random_split(dataset=dataset_label, lengths=[number_of_train,number_of_test])\n",
        "\n",
        "train_label_dataloader = DataLoader(dataset=train_label ,batch_size=batch_size ,shuffle=True)\n",
        "test_label_dataloader = DataLoader(dataset=test_label ,batch_size=batch_size ,shuffle=True)"
      ]
    },
    {
      "cell_type": "markdown",
      "metadata": {
        "id": "0HslPLv2IOGd"
      },
      "source": [
        "# **preprocessing ended**\n",
        "\n",
        "# **create model**"
      ]
    },
    {
      "cell_type": "markdown",
      "source": [
        "![bilstm-1.webp](data:image/webp;base64,UklGRuAlAABXRUJQVlA4TNMlAAAvP8RlAOfiOJJtVfnuwMrzzwIiIAX27vLev37TcBVJkmL1Md8jAeThmXlanxj+PeYhR7Jtm9WLbfQyxAw3PevbxsX8RwLRjX3aqzBKlG9UwRy28Nq5HCXMX0LEjeXDG4GAI3GA3FPAaqPFk6KD9GIsMSWwPSkJhj9eiQoa1wcXGdGP2Z8QI3rjjagAGz/Yl5gBV4nID29IFamqXF9aRzOZhCmrJpNkeJFZZKkcXU+gv+T6SyYWOo7f6OQaIs28NXXnzHZxxW1Gq2HsDcf/jXi1fxcy6KCVABYw6mJr2Nx6iT3JdpXolfCPCsqIgSFTlPk2mM6e1QnT33942D0rh3spQPV/FPZVK4QCR0HbNpLDH/Z2D4SImADvFVpVLXVzXNbltupfJzTFH4/xkhp1Ol4YfTZbkZPrXnBTZQYFHbXbzr1au8XmNrh459vaNrttZNv6Au4hk+pVJLpNiYIMCabUxQ6p2Pdy9k3atc/enb06UVYxBOdG938hiA2AH/H/gJqrNUf0XxZk25Ha9CQGE5soT8usYJAgH7QCSrIkK1cCDhBwJfD4RAH+zdx7merMiBNRvDqi/7Qg2ZbbNiNEhnd75hJBgcz6hB/1Vx/TV/+9/vMiz/pZEcR0CkmfH0w6LkGUXrWeQKr1s+MU1ZgoIXypTmEm0CnMc0OFUTmB9KW6BFIW+NM8L6QAyjFZhpO+VAOoeMBP87xQNsyI/Ln0pboAm3aXPo1JnxM0MCYna0hf8TmVAfw0z4zTMTkxjkr0Uz5zdf40z41ToByNU+FPeJUB/DTPiGvxGD0Wp7IvxZUepNNmKf2ZcZICYzInKQJBXAu+CMppxQ8/zTPidERmthoBRvwysJ5C1WT9PFAgWNdHpVCjlH0RFNPlyM51OGueCd8TnooxWAWUfSnOhMNWTpXvacma58Jlpkhh1uUIbAvTcIJYoFw74RS8DKQln9UC6jRrP2vS58BlptB2gaFqqn1T2434tx4qnFgWTRCLSt7Z4totAxrGloESRk+Ry9qria7/ywo753B46ViL3gbbIu3ygijsamDq5LlHORdMkF2UxbqtmqzLC/gZfKOyLCf45iPfpKomr/989d9X/73+839ppIhmkqGwFPEEkWvbpiMKm5l41cR05jYHKtku/+sEOUD3ozHE8Q+RpP9vpXAeSfrP+fr/SNL/N7EJ9TD5Xx6WWwMc8iTQToUSkMOdctsuLVV+AEyetLVTbqq8yZbSbQ3ssy/oNnCnetnb6uAm4pD0o2s3cV/O5cBGK7UyqOftQumwDmi+PmkSsm8XTscOB/vPWH0xp5vfbgJq7PtC5ido1QuwdArCF3Mb1EmgodI97b2k1tj1UiP/su6AnXLNgayn3LOF6WUDbOdf0gF5MAlEcqCXZAdgv/wrDkot7Zn8y/wnKyI7HHpSSh+A+Zdy2/CXJO7VuwnqYOepsXG+b+vuOOpEJc3Jl3JLYOueug3R3Gtx5ghI/Cua++3b0n671+DtAjZf3vnLNzutVFajdq7XoG6uelnXriWw8dVZ0yLlXkOXNelNVLJF7dp76d6ulE0N9Jfz4+a3cCfjLtYsvVRkQOhRPS6d5RrvuPmduyC09w6p37sym4i9msOdsi/qt9vbOTe0S7xkzHfOjfO0RzfJqOfOdpUkN+Fb5NlU7JZqizyQjK3S9rZ99e7L3hVRvZFvSfnqv/+jQin11X+v/3wVW6rH5IEopWPwuKnSyfS4qX6SepiUhzbGlGVRrNfrMiYCxHBdSW0NU9nQFSKz6/OnFOVtQAzPQt+kUsVQ4Pil7c2OXJ2CxtNnuUqVWzpYd5QJFcNB4oeubo1qzKvLUJVWt/B1F9J3R5muwjEcKH4wD8hUstyn6TNVpdatCK2CDrgQW0oUw6Hix/KALETLfZg+c1X63R20O8rkiaEZLH4oD8hKtk5BY+kTvIo4KxvpUOkGBJmppCYQQ7njVwRCp4XLfZQ+g1Vq3TPumXLg7iiTJoaF2PFLDfx9oql0nYJG0meySqnfyxQqdXN10FOgFCOGayeGUsdPGyd0hXOZfLnP0We2SqU/fuHnazp8d5QJEENjY5g6MZQ5frpyQ+fSAuY+Rp/hKpXuearhjyAqJYlhOXD8vE/bAjEoJMx9ij7TVdrcK/35gAF0DN1Rxv2cHzi7zDB0/KwPvH7Ta2TMfYY+81VqxGZ/pYM5Ww6W/vBtPDgcFoPHz/jRGJLKmPsMfehzpcg9E87ykv604w1Uf/beC4ogfsanbf5iaCVl7hP0kSVXwj7nlrZV/lLs7igrOsWwiCF+jgfetjCkYuY+QJ9BcqXDvaLD/Y/E0h1lng7X7cHQssav6FaXSjk7Bc2/jzi5kvM5t5i7o8zRYazxMzttE71T0Mz6CJgrKZ9zi2vxw+d7BI4vfpanbULnvmUfKXMl4lXzOPkegeNjeeAVmmWfCLS4FytXhzEyPG0Tm2EfMeV7zi1eOc7f7E7bBGfXh5R0z7lFzPEIHCuzA6/ozPr0T+HdZClqhkfgaFmdtgnPqg8uwZ5zi5zdqw8kp72GV3xGfUCJ95xb9MxesBs1n9M2+fn00aK6l6kxYHUEjpzLadsYcOmjRnF7LBg5jJ7HgXccePTRo7YXuTKR4/zN4a93GgsOfRQp7WVq40AXjJbf9A+840G/jyaV7TFi4ZAJ9VPQMaHeR5XCXuTKSo7zN21140K7jy59vciVF3mHjCgfeMeGch9u8jznxo36EZgT3VPQ8aHbpxqYHdo1DgovhrzIHngDIdsnI0DO6JmDAPkwB7nKZZgYciN6ChoJ0T6lMsRhapIZIob8SJ62hUKyT63QH6bGleoeR4KnbbEQ7FMs1Id2yYa+BeZJ7sAbDLk+kxbtYWryoY0hV2KnbYZg701clIep8aa3x5fUaVs4pPqMsyzYn2RJvgfqrQ71p6HdjL1NApp0LAPdFbLyuwXCYNOa5rxJ5uqApdMVZQbYrSzCw9QERNkCcyZ04I2HUJ+Rtg133MHBTUTt9uKB9pOhfDmQOd295Hf6Qeb9NNB5MM2uTQZYy9pNz6ZBdk5IZDFkTea0zRbgvbFWO/1JtvH6mi3Pmqq2NDDOQtABtV0e0itf5jZUS2Bu1bW7AJShDqfZdahNtkxsj4aYldMBCP3pEpFNxpTrlCFdFJWJL3pDYTE3QtKirCLLnKpca1F16U+yLJCaldsubQP9n+OZ1y3dwzWHtwC0w7Y9zXmTFYkK9nCK2vWkC4M4J1OmEWIavUHgmBsVaYlYc6fQ8joE+5Ms3Eh53RcTltR++7R1ErlBtsfKSfOqJc2BdjCc+Hmj59c/XF+eLGYxTYuT8+s7pzBEh230BgBkbjQ4TfvD5flJXJljc8dp37W4F3t2qB1Jlu/3DXftqIXby0uhFSUDndu/bd4kOZTmgMRfDAr9G3utuF6ezOKcFpcP9kjEyDCOHjkkc6MgNfaSWDPHXmAKgYW6aCnZwk4NJyWtW2gCvbyU2NZI49B8rbEJ3KlQmgMC/5zeUgBuOYi2MDzAFHHhHD1qTOZGQNGcO486dy4Bo+WWHGCyuVIdYVcHTg5NwpyvqKHVHpkKpZneuikIdjE9/rIQE97Ro0VlTni6sm177Lljm3eJbXFwOsUvCSQna/1kp3Ivme6izt4ma9ukxK4i+WnuRPdUugWBQ1nQEWEePVJY5kSngQe7XsmgeS8E1LE/yQxyFaDbv8TpraV5w93UAuNsV9ktbdrdNHcxD+xP0h2VQFMQuFT5eHCPHiUuc4LTwN2MxWR/Cahbf5K53cTlL9/sUc9bdwXVOPhHumZuGus6t+1RKM0hXgJN6Ir4VpfZbHEX0xyXffQIgZkjMua/Z7Pz5peY6jprciQHtu6VL22b45rXbcetubtxNv5qFuZ+ArQKprnVEjgsnePWTBepU10YVZhosI8eITBzYqvsb0a/1lKa18H+JPMSsfV6k2xVtx037x7LtnKSBK/4Zc6hK+E0h3gJc6dsj7xHdeGyyF7Gsr+Ef/TokJmjIdlvLn9otJBUsq2BQxbqdrLDSu28zTFJfmjs8yQgMajn/mqSf2Bae5rb9vcsd25flO06qOymQk4VBkgjIUD0yKCZE9kaWLDKnWtUghwVDPYU/sOM13QOQwTQHhk0cyJzlw15LR6uxQE2CZxW+dc0CO1RYTMnsLK5jF/rPnWUuJ5xm05gaI7XILRHhc2cIORq3GezpnXvo4ZPORYFEoj2iMCZE1fRNO4cW/dpY+0siPJbFq1IINojAmdOXKZp3Dm27umkUeLcJc0uhxQVoz0adOaEtQZmDF2inDSc3XAsVzkoMNqjQWeuP4E+Z9m6mx5K+DzPWUlFgdEeDTpzApBv8XY2e0A6aVx3B1y0NP9XnwA8PS1OEZ5unRTiTcBFk5ZI9jiM2yML35tbAI+3b2ck4Ytl/9WeuXAIZh1Dd9sSutOZTchVwGsAFJETlrELhwzz527SKHFO5Y2X659mHd0E2NaNYFE0OiXOqRw/eeF6E0X4FlTmzPXULXQdPQZc2bT0jpy4nKLAMH8uUYy89zGwtfxm0RSGs4v2QuLCcXAuApJFUd3m5RETt3h8Y4NzsaAJH0n0wpGLW7fQtQfWgTPfo0Wd/+85O3pPsxPtrhFh/lAo22M0qo7e9VPhhMgNnnoUklPgFm88b3EziG+/UQSe2iPyuimuhOEjEo5cZ3PmeuoWui5s5K48Z7ghd/SOs6P7l3QY5s85yvYYjalvf/hBRQG46OXxIrDG8YgzF+mq7NG7H97HrWXNnDR8JNELRi5yLaHr5Q0eA3OaN48E7pC2lNAuONUOOgzz5wRVe4zEAeTxXvrDD9/E4qqX29fAwpuLPDVpPCXRUhB+UHwsaMNHIRg5Rha9zB69Rbdj4PgWF7Qt7w/fEIi6dhCKNH96a43RaDqy9emHl3G4wePr7t7gdvbJS+QV3pJ7ef+DrTF8PrmakYWPSjByjD656m7RuMKNF8WnGZFwCSUQc+04IhRj/lBojdFYamJsqTi8Bh4vjru6aLzFkzcXeU0mMBtxagwXsxvg9nRGFD4qocjFrjV0XZ02zrxtz0+4oBIuoYPJ8qRvMnqfa7xThCLMHxKtMRJJnOcc30RidvbYnLladHfqLqa+wacZqaNvvOAoNo5v7LEzb2Yk4aMSilzsOoSuM2ebgjtrX9D59t4roYPZAqZvMihqx3tKEeYPibYYjZtQC+05isVscYVmenvc1ezRSeUNLtwE0y0xeDWGDdskfbIHz5zO4gjf3Z//PRC56HUKXWc3zgqB3QLduCXwy1AJfTkYWx6XfZNBUTsoRZo/vbXFaOy4MQ74tuf005/pzGbHF01BeGrl1/Irm6JjZ7HhE41f2rmt712HePwX/vGXv36bsEcYvlPbAJ/FEL5f/OePHSLXLX5j5vrqFrqQcMv7xlkheLJz9SsCf//PwRJKFrUOTEP3TUb/2nFPlDn/8U9WlPlDoCVG4bqx8/Y+Xsud8e97dRPI7IN7h8yrXQ2zSYJ307rvsyxKOv3cV+uZqyYxHdxaZ7auv3GatVsSf+4djn/Fz+P2SMN3+ojH4+HD9ws3IPHE7+e+Ooauo2M0VXHhVMqL/v5zkKjddzA3ddY7GZ1888MQ079aUeZPf/8SRd0IzuOitYI7bQM/XspNQOauvR72CNxZsz4AexYfOkxPeOrK7oiz+/Atog/v34V8w+vDzGmdziII3y/++9+CkYv+Q8fQddRE7apJwdWsEcWHWObacX2IMn/G4kOyWzZft3Ebqr3d2hX4yf0bHObuz9R17bFdznuWifvA2vSgF3csGx08Wc6OOODYcSPNxR0TQxM+QS7uGs92bx32kKxbnDkeadZfB7g4pjMBpBdHmj+kF99Ld7H3cMoyb2vXwS4GaW8tKqmdNg0k22mO3vtb8yPzFo8duHOWMzyeNTXdcUv+bffsHDdowjf53e75Oe7kFm/dFJ3i0avIFPkfLKHRopm/fkuJYf6coGqLkXRy9/GD1P7ftGpOg49UxmEoy8R9XI4/4aoTZ9v6I+xcxF1cF+q4k7aDImnCR/K6k46h68BNwQ3cijk7pREsod1ZfIN7SlHmD4G2GElmnm/3BrDcB0OVO03UHqtwmwZs+B33+unta5vBT8Dr7q6Axxk9pZy57jsuLm7fHNv9V8DNrGf4CIUiF7uOoevsDZrS4RH0uNeXhGLLHyqtMRLLynhfHPrbDk6KEJzc3cw8bncTmC5Cd9LxeDZrt/CcAVeeR5Lb3bSU2/sY0ITv1k/CzTFR+EYf9fdxC0yzcOg6+OQ6Bj7NPK9pb3fzjpPWG9I2nxJimD8nqFpjJJUM2C6TwM+63GPn/yX2WvyJ/DCVb3+4j8Ls7Oqp8XSxmHVw6t9bxyNO/fkPzf0GtJSF90wsLm7t4bs3ZzOq8E3YC0aOiXDoOgDO/CNofKek93zQfe5h8oX3hBjmzznK1hiJJLCrOCADkhx75Vi2HuZGfI8OvTG9K0vdVm7fUYCyF4wcBbz+R/ci3u9ItBP5/Y7IJGt/jFM1sgMya4fNkIfJHklIqW9fSi0cOam1lFDG1BEJjQcZqCORBB6jYWJ8G+xR+4tA81gPsy9wyRNAMIurgO11Rm2OY80UzHWX+12Vybz5k0TpA3wa8PcXH1BnSWO+itAdSyeoKDDao0FnTlYKWDC1llBg8Prq0GMF2QPalRz874xOigeuS6IUGO3RoDMnAQHXjx+ghaRyg3qbzAMrSdvgbWuyfcPs8iQ2GuA6J6HAaI8Gm7lp9HPvzoE+ucL2NgeWLGYl5zxX9zUFRns06MwxIfxS+jlKoSUH7Jn84EymKxwUGO3RoDNHoIDPPiDtge6PWrPYli7Y4w5BtEcEzpy41rjj+bnI8hrIRuqRKM1OqPa3ItojAmdOXHpCPe6hPeolo6Ig1ONtILRHBczcZHrcZVAyy/KE0bLoAzOXMIoGoT0qbOYEpg277dtT6HEf6grX3JbWUyKA9sigmRMFaeu+YLZsWCnR8bnoktcD+SwUEUB7ZNDMEQH6ogdey4bQEkH6c8kJrxkJFT57dMjMCU0b3DFbNpxCVMGowtgHvE8Gz94gYOaoMG3XjH6vVV9NbJdsnm1CSofO3iRY5jQZqO2B0dMGmUpUwWOd/wS0ywt09ib9cZkjA7XxuLJre76/KjYGZeESTUZTYrM3C5U5Qlwbh+ddh1RJhWwWFpHXFhSKFJq9YaDMSU9pHs/7MlViQZuF65N4y4FTEGiR2ZuGyRwltHW2iLh9P7l22/axN+DzrT6P7flWL84vH4Z53ttg9sb9IZkbBUoXJsbcWSxOLu/g9hSFaNCGoYr2mcyvB6jvWPYW/AGZGwvuKyQ12tyRL1fopiG+/mZw+ul8APv2TJTR2/FH1X8saqZOY8sdY6qiGDJXqngaKNos4VQm1l6hkj9+kY3KgGwEyZ9pyBgtvgrpOFijGk0R5M+zwhoopJcC5TioYNKxFEP+PCdUgJFe2UROj4EUQDmWFPokBHUKsJadtpErxTO3uHFjSaHPReDstDTy13eYEaDhtL8jSaKPIcV86pzIX99RCmdyceNGkkSfa8A7ZsqIX9/tH0tPw2t/x5FGn0sghTcVzGmYK6VXwW9/R5FInzugQqC6iF/fYVLZpQi0v6NIpM8VUCBUXaS2DkWukl0Vil86hlT6XAC6ZcyShWaCkVtLrgjfIGQMqfS5AFpucGpkVrZETgtlY3HjRpBMn/pZO7ebTg3Swki9xyF1I1dh7dz4vhTKyuLGjR+dPuWTAuXa7Uw79/5zUnlp734jKqTufYgVItlZ3Ljxo9OnfEpby322IBRaXGURuN2vF7mUP5nFjRs9Qn0u4e8bgAl5vwE6Dw4ZP0Aoev3n9Z+v/nv95/Wf139e/3n956v/Xv/5bzBpUUU4iu/p0DjsOaHXEQ44fZnKyHCi4JSo6QJlFd8HhWJvDykGnH4tIOeJmihgVvF9QDD29NGFDdtddANOv/CHzF483hM1SdCs4vtwaOypY8/dnUcbt+YCsxaO+URNETyr+D4UHnvK6Aq4jrrDU84fgEI29hM1PQCt4vtAgOzpksLtNKr4q6dk/CdqciBaxfdhENlTZd1cymXI7AUDMFFTA9Iqvg8CyZ4may59Zre4hknlQjBREwPTKr4PgcmeIms+nYa5uGzOigVhoqYFqFV8HwCUPcHXY3l9DsrmrFgIJsqsJwWqVXynR2VvGHE6/PEOpVQgJmpKkGoU3+lR2dtEgMo5WwBroUBMFFt6W6POIpMDAxNrFN/JYdmbRZ7RQD6H0TKhmCh+gq9Wg6UwpOrFXkMOy54WhmOHC5cyoZgotqsph6adSOTFtBedqXHZG0WgvtBeNCciwZgolpZwXzIxwpBrFN+pcdlTwvDscPJCJKATFWkTIxOJaszsDikxMHs6rIEZy9opEo6JmgwEG8V3YmD2dChxPeNZOyXCMVEcL3OnZej9E9gyvoWBF7hS4q9ebXEIDpNh+1gYZnvYITIcnmCj+E4MzJ4OBguetbOQCMdEMRZ+/wQGx7cw8KrvyYCtV1bz8DAZBtMYet3n1NvBSTaK77TI7MkAcB1yGYlQTBSQ8vykw/snMDS+hYGBQtmhrr3jHOctw2QYTuPWTXtWIwYkc1yG4zV/R43Lng5rXLMM2wJGIodnhIZR7rjq8P4JDI5vof8CJqkPe/fV8BQuNYcmTcE0zv20zqNAMsdlOF7zlyhokdkTgmXYZg/QgHznzjDKJQqeurx/Ai0TfoErrbDNsWkfxq0ctcuotrTvovPiVXtJuWtEOF7zE5S0yOwN0jNyJc5jDZvIN3zxipOvhxOlGmV1ol7Fqtv7JxC2fQqtKG2RLZ2/rca8dZgM3TR6aY/32377oROG4zV/To3L3ihdItcmzrCtcFyZ04fDiTKMct7b5+9eRCo0HkpeEsLpONgUGCTOC1xpiVq1DpOhm0Yv7fH68PG7Fx0wHK/5E1S0yOwN0i1yYXGGbYUHlfk4nCjVKKsT9eLjdx8Y2mCn5vYrdsiaVG5VcJgMGXnxsQl5u0jHa14Ka3s6dIxcULRhox9zqieV2TicKNkoqxP12yY8Lzh8sgqbo1a5O7h9O2cUPwPDZNiuxjbi49Z+97EJ+ee2NY4Ix2teDlt7WnSOXOCTKMO2w7PKTL7kcKIko6zz2UbnQ3y6vH8CW5aDasz3tilJUCvU3qnqZAfj2Ubo1Uc7/fZzeItnhOM1L4etPS16RM77kijDtsPTygONNz21w4mSjLJO07w6Z2LT5f0TGORcAw5uu5TbpaPgMBm2yaK+ombB1CsZIRGO17wctva06BU5R5Rh2+F55UHGm57a4URJRtnnw8eP7pm4dHj/BLZpziH3E5ApFRwmwzZq36QgsWk3MR538ruPgZLhi3S85qWwtqdDz8g1og0bvYnKQ403PWH+HE6UbJRVbPPqn4lJh/dPYJsEgPZ7+S0JprHOA9qGyPCw6uDFB8Lp99//plNqmk1OgZi/cjEcr/mTv/yeKHK/+vL7t18Rvr0Pv8avekbuf//vPNKwTfB5imcqt84bAd03Ge0Vp2f+HE6UaJTH9M+R70LR+e3naLS/fwJbqT0OKnhgSdswGbakMcndm/7NO/j8Ma7pD3+xGI7X/MmfqMLypy9/RLD38X/QP4V//Ls4wzbBzhT/7sXA403/uWf+nE6UZpTHfCbOCiXZNOSH77/vlprfBecrH1JYUY7XvNY7Z3va734X/PD9eaRh23g3U5m+4hB/OJwo0Sjr78LReTGu9/v+2/D8yxXpeM1LfbG1PZ0v7hm55uJow0Z/8UTl6G93czhRslF2J+pzy8Xj6qPLNta+SMdrXgprezr0jFwj2rDRm6gcvcOJko2yy29D58bWq8D8KyTK8ZoXw9ieEr0i54g0bBs8r8zA4USJRtnmO0HPsTjuNbbxmlfE2p7P616jDdtYHPeqF0UAt3Vtzo0xN95tIh2veSms7enQOXIB0YYtFm4dZeJwomSjCPx1N6PslV38bRfpeM1L/X0DyOwN0jFyQdGGjd6TymwcTpRslNWJci4dZ991uV+HaCcprO3p8l2H+x0R4o7fH1Tmg3KiXjVrkSPtxecOo/guohF7uLz4zGTA2Bf+vonHlRn5SjlRH8bz5/7LNYrv1Pe7SmZv8wdigvjvu4o5UdOBAhZMrWnvt5nM3iIyrB0ACgiQiZoKyFbxnRaZPRU03yGzlwjIRE0FZKv4TovM3iBIx91rFBIBmSiGgFwiYKv4TgzMHimir3hAKhGIibpEORlgreI7+c/9B7MXjxQPTGfuEuGYqMkAbBXfiYHZi4eqpsPjDuGYqAlFj8TjHtLyP+4hhicngBYJxkRNB1ir+D4Sj7sMKiba4Pw58bjLoKYDrFV8J4dlj9bMUqjz+3OZgE4UxsfNkwU4D5k7VIoclj1aI4qv2b1kSoUCOlEUHzdP+lCt4js9KHtRPu5lbpVTKKAThfFx8yQP1Sq+06OyFxuVOr84jXm7VBgmStbXzZM8UKv4PgAoe9TG1oud0e9ULAgTJenr5okDplV8HwKTvRipgs3ZO/tFYiGYKElfN08sIK3i+yCQ7A0AZFs45+UCMFGivm6eWCBaxfdhENmLlVpzeHpg4j3vOv+JkvJ188QI0Cq+DwTIXryUNrE/78uTB6BUSjL2EyXm6+aJEZ5VfB8Kj71BDP9XK1+fR/6SSZeN+UTJ97p54ohmFd+Hw2KPzfPevr48OYluwOmFfN7b3hMl4evmiSGYVXwfEIy9oTAsOD0qCZ93v/FEyfq6eeKEZBXfh0Vib0AYC38vINeJEvd188TJ+u2u2ophya+2f6vaRBa4Ya3/wtsrm4p+ytpH5NfNk5SULloUiiepLVWssQoM20fw180TD1JbpXgSu/tpBae0YfU7bR8BXzdPklMq9MsoppSOvJUSndKGUfsbt498r5sn4anAgkPKldTdTys8pQ2b9jdvH/leN0/syXyXQnH9ICQuZU7rvqGNXt4+gr9unoT8ElN6MxG2lO5+Wua07hva2F1FnyxPlOR04SzupO5MhC+hu59WdNo4ASx4XHYdfdjb3/OHtHmt+JIRl0pOV+5xmS4dvSB9SkTjXn8xdibC2Pqep1LsrZ+8uclncY1J+pSIxp1CUwEpZzJ3P63YdBGsg5rFAa9B+rTI8h3/FFApzmTuflr+lh+NIWn0gvSpEY07/qlAKqwCrfeuUUILIJ73Da08Qfr0jjYdbkSdloq1WN79tAKI5n1DK0+QPj2ydum8TcpbJO9+WglE876hlSdInx5ZuXTeJTmKtyGaXaHqo0hvbbZofTpHF913tzE3RLMrlGG2fEUuSp9qWdgTCH3gxCLOwluUPuUyfulcJNTnBCNMbYzSp16mL53LhLbZFY0sq35J+hTM7KVzqZA2u7KRZOEtSZ+Kmbx0LheqZlfLVx/lqI1J+pTM3KVzyZDtOZSfZrLwlqRPzUxd/JIN0Z7DEcCkNkbp0zMzl86lQ7LtX0YSbPmK0qdpJi6dy4dgz6GU+B9+FaVP1zy/+CWh3nsO5URwS6HIRenTNk8vnTPSc9u/pHgffhWlT988u3ROSa89h7LifPhVlD6N8+jSOSY9DnKVFuMDKJL06ZwHf6U1KN33HIqLbW1M0qd1ji+do9J1z6HAmC68JenTO4eXzsFJvbupERnLw6+i9Cmeo0vnuHQ57kBoDA+/itKneg4unQPTvudQbOzu6y9Kn/L5ePELmbY9h4JjdvBmlD718+HSOTi6cI87EB2rw6+i9LkA/vLSOTahPYfCY1Qbo/S5Av7q0jk3/p5D8fE5eDNJn0vgx0vn4JTenkP5cTn8KkmfW0D+TefGO+5gBBgetTFJn1tgBDadp6Ox5zB1H8VE7JL0uYi3suAXNxp7DjWDgzeT9PnXx9vrP1/99/rPcHIAy4CVTcX4xLGegUiSZaJPLV2wY4Dd+MSxnoFIkmWqWwZnGTlQJ+MTx3oGIkmWyT7tAONKaiAfnzjWMxBJskx3GkDm2ACH8YljPQMRJMvU/xaTeAVhOT5xrGcgLjBLjpyztsXOPbBVUWDxWI/AG8wCYBDZLq7WLnM2ey25b/xS9ViPwBvMshmozY5uO9XB/jv23Dd+iXqsR+AtZhGAM+tYsd/4pemxHoFJskx8gT5TmfPOF02P9QgMkmX8WyBnLOlWO+CQ+6lZqjz4P+EEkAeTGeyOBr11Bkoogn1wdWMjyT5FFY/1CAyUJdS5M2Nsv2kbBtiVP35SSR9evsWx4Li3O/EDVi3bgpJNDXbZqewxkUC9gxn+V4osq2bCofm65RirnV5bai5cuQ7O/4QTObBvF07HDgdt8yuKsc8Nbz03aHk+qDVDyh4DCcxqE4MUWZwaacb6E+y8Xem79v8JJ1a9xHPAzsE2lNh0tUsMK/IecwhcGt9GxQA/yzSglTf2ha596H/CiV7qWP7OHNgu4f/bV0Dryj4v8h5zCFwhuroKn2USUB2GwdFryEwvmybj5pEcQKjV3m8sk9UBq5VmTNxjBIGxgs8yZeRAL8kOTa4tY9j7tnVvvrAKtlOsSXuMIDBKAbJMMcH/Tw0G/6Y5UGt3IcokUlD2CC4wcgmyTBc7HHpSTlf7zQflHHgcuPuGIKfLo9gS8viZDAIN/GkTjQRZpoQO/xNOBIcTV3eikuZk+Fs/BVKgQ1Z2YkvJ40cyCFw25SGHLRU6GhGyTAid/iecUDsvi3YBm3gkJpRsA+yk+ETYI7lA7c9EyNIHddbkTY7AIEnvEpVsUbv2XkO/XbmvVAE9+L2/hO/L0qHZE/YYQKAqEbK0wcY7bn7n5s3eTUW+d2U2EXs1hztlUdz7nP/PM+6dGazmvCl7jCBQlQBZ6vgmSW7Ct8izqdgt1RZ5IBlbpe1t++rdIFf0qXjAHE4ckl1dZ6xJe4wgUJUEWR4+h574aPblZnr95z8iKKW++u/1n9d//g8bBQA=)"
      ],
      "metadata": {
        "id": "F2hNvBs6qBQS"
      }
    },
    {
      "cell_type": "code",
      "execution_count": 7,
      "metadata": {
        "id": "oN6DuQbJibuE"
      },
      "outputs": [],
      "source": [
        "class LSTM_Model_attack(nn.Module):\n",
        "    def __init__(self, num_classes, input_size, hidden_size, num_layers):\n",
        "        super(LSTM_Model_attack, self).__init__()\n",
        "        self.num_classes = num_classes #number of classes\n",
        "        self.num_layers = num_layers #number of layers\n",
        "        self.input_size = input_size #input size\n",
        "        self.hidden_size = hidden_size #hidden state\n",
        "\n",
        "        self.lstm = nn.LSTM(input_size=input_size, hidden_size=hidden_size, num_layers=num_layers, batch_first=True,\n",
        "                            bidirectional=bidirectional, dropout=drop_out) #lstm\n",
        "\n",
        "        self.fc_layers = nn.Sequential(\n",
        "        nn.Linear(hidden_size * bidirectional_forward_backward, hyper_parameter1), \n",
        "        nn.Tanh(),\n",
        "        nn.Linear(hyper_parameter1, hyper_parameter2),\n",
        "        nn.Sigmoid(),\n",
        "        nn.Linear(hyper_parameter2, num_classes)\n",
        "        )\n",
        "    \n",
        "    def forward(self,x):\n",
        "                                                # 2 => forward and backward for bidirectional\n",
        "        h_0 = Variable(torch.zeros(self.num_layers * bidirectional_forward_backward, x.size(0), self.hidden_size)).to(device=device) #hidden state\n",
        "        c_0 = Variable(torch.zeros(self.num_layers * bidirectional_forward_backward, x.size(0), self.hidden_size)).to(device=device) #internal state\n",
        "\n",
        "        out, (hn, cn) = self.lstm(x, (h_0, c_0))\n",
        "        out = self.fc_layers(out[:, -1, :]) \n",
        "        return out\n",
        "\n",
        "\n",
        "class LSTM_Model_label(nn.Module):\n",
        "    def __init__(self, num_classes, input_size, hidden_size, num_layers):\n",
        "        super(LSTM_Model_label, self).__init__()\n",
        "        self.num_classes = num_classes #number of classes\n",
        "        self.num_layers = num_layers #number of layers\n",
        "        self.input_size = input_size #input size\n",
        "        self.hidden_size = hidden_size #hidden state\n",
        "\n",
        "        self.lstm = nn.LSTM(input_size=input_size, hidden_size=hidden_size, num_layers=num_layers, batch_first=True, \n",
        "                            bidirectional=bidirectional, dropout=drop_out) #lstm\n",
        "\n",
        "        self.fc_layers = nn.Sequential(\n",
        "        nn.Linear(hidden_size * bidirectional_forward_backward, hyper_parameter1), \n",
        "        nn.Tanh(),\n",
        "        nn.Linear(hyper_parameter1, hyper_parameter2),\n",
        "        nn.Sigmoid(),\n",
        "        nn.Linear(hyper_parameter2, num_classes)\n",
        "        )\n",
        "    \n",
        "    def forward(self,x):\n",
        "        h_0 = Variable(torch.zeros(self.num_layers * bidirectional_forward_backward, x.size(0), self.hidden_size)).to(device=device) #hidden state\n",
        "        c_0 = Variable(torch.zeros(self.num_layers * bidirectional_forward_backward, x.size(0), self.hidden_size)).to(device=device) #internal state\n",
        "\n",
        "        out, (hn, cn) = self.lstm(x, (h_0, c_0))\n",
        "        out = self.fc_layers(out[:, -1, :]) \n",
        "        return out\n"
      ]
    },
    {
      "cell_type": "code",
      "execution_count": 8,
      "metadata": {
        "id": "US8JfNI8j3zO",
        "colab": {
          "base_uri": "https://localhost:8080/"
        },
        "outputId": "651d892f-7cf9-475e-94ac-b23a5566d8ce"
      },
      "outputs": [
        {
          "output_type": "execute_result",
          "data": {
            "text/plain": [
              "LSTM_Model_attack(\n",
              "  (lstm): LSTM(41, 64, num_layers=2, batch_first=True, dropout=0.5, bidirectional=True)\n",
              "  (fc_layers): Sequential(\n",
              "    (0): Linear(in_features=128, out_features=128, bias=True)\n",
              "    (1): Tanh()\n",
              "    (2): Linear(in_features=128, out_features=64, bias=True)\n",
              "    (3): Sigmoid()\n",
              "    (4): Linear(in_features=64, out_features=10, bias=True)\n",
              "  )\n",
              ")"
            ]
          },
          "metadata": {},
          "execution_count": 8
        }
      ],
      "source": [
        "my_model_attack = LSTM_Model_attack(num_classes_attack_cat, input_size, hidden_size, num_layers).to(device=device)\n",
        "my_model_attack"
      ]
    },
    {
      "cell_type": "code",
      "source": [
        "my_model_attack.state_dict()"
      ],
      "metadata": {
        "colab": {
          "base_uri": "https://localhost:8080/"
        },
        "id": "Dq8JkQZ9ukCs",
        "outputId": "98aaa455-a0ca-4b25-8ef0-13c640190198"
      },
      "execution_count": 9,
      "outputs": [
        {
          "output_type": "execute_result",
          "data": {
            "text/plain": [
              "OrderedDict([('lstm.weight_ih_l0',\n",
              "              tensor([[-0.0511, -0.0178,  0.0115,  ..., -0.0904,  0.1136, -0.0420],\n",
              "                      [-0.1224,  0.1153,  0.0319,  ...,  0.0979,  0.0084, -0.0391],\n",
              "                      [-0.0969, -0.0583,  0.0876,  ...,  0.0756, -0.1054, -0.1088],\n",
              "                      ...,\n",
              "                      [ 0.0587, -0.0868, -0.0407,  ..., -0.0626,  0.0039, -0.0306],\n",
              "                      [-0.0725,  0.0050,  0.0441,  ..., -0.0484, -0.0674,  0.0617],\n",
              "                      [-0.0987, -0.0733, -0.0206,  ...,  0.0247, -0.1068, -0.0445]],\n",
              "                     device='cuda:0')),\n",
              "             ('lstm.weight_hh_l0',\n",
              "              tensor([[-0.0648, -0.0043,  0.0070,  ..., -0.0765,  0.0240,  0.0566],\n",
              "                      [-0.0404, -0.1036,  0.0395,  ...,  0.0549, -0.0821, -0.0149],\n",
              "                      [ 0.0465,  0.1001, -0.0203,  ...,  0.0423,  0.0624,  0.0706],\n",
              "                      ...,\n",
              "                      [ 0.0639, -0.0588,  0.0076,  ..., -0.0325, -0.0463, -0.0395],\n",
              "                      [ 0.0443, -0.0217, -0.0559,  ..., -0.0242,  0.0014,  0.0723],\n",
              "                      [-0.0152, -0.0065, -0.0959,  ..., -0.0749, -0.1071,  0.0531]],\n",
              "                     device='cuda:0')),\n",
              "             ('lstm.bias_ih_l0',\n",
              "              tensor([ 0.0768, -0.1103, -0.0061, -0.0611,  0.0868,  0.0034, -0.0288, -0.0945,\n",
              "                      -0.1191,  0.0198,  0.0641,  0.0708, -0.0077,  0.0248, -0.0792,  0.0310,\n",
              "                       0.1215, -0.0192,  0.1240,  0.0710,  0.1246, -0.0960, -0.0041, -0.0202,\n",
              "                      -0.1194,  0.0979, -0.1129, -0.0846,  0.0927, -0.0740,  0.0989, -0.0507,\n",
              "                      -0.0059, -0.0691,  0.0477, -0.0887, -0.0383,  0.0823, -0.0338,  0.0558,\n",
              "                       0.0744, -0.0528,  0.0632,  0.0863,  0.0457, -0.0582,  0.0387,  0.0264,\n",
              "                       0.0249,  0.1179,  0.0693,  0.0377, -0.0372, -0.1198, -0.0837, -0.1203,\n",
              "                      -0.0066,  0.1002,  0.0925, -0.0949,  0.0869, -0.0635,  0.0490, -0.0325,\n",
              "                      -0.0858,  0.1238,  0.0261,  0.0361, -0.0793,  0.0576, -0.0328, -0.0634,\n",
              "                      -0.0834, -0.0936,  0.0173, -0.0711, -0.0756,  0.1243,  0.0732, -0.0373,\n",
              "                      -0.0196,  0.0179, -0.0229,  0.1248, -0.0072,  0.0335,  0.0972, -0.0606,\n",
              "                       0.1026,  0.0969, -0.0294,  0.0909,  0.0403,  0.0797,  0.0701,  0.0834,\n",
              "                       0.1047, -0.1044, -0.0096,  0.0619, -0.0008,  0.1000,  0.0060,  0.0334,\n",
              "                       0.0364,  0.1217, -0.0790, -0.0855, -0.1166,  0.0749,  0.0125,  0.0770,\n",
              "                      -0.0894,  0.0570,  0.0131, -0.0286,  0.1130,  0.1079,  0.1169, -0.0708,\n",
              "                      -0.0331, -0.0862,  0.0523, -0.0802,  0.0857, -0.0525,  0.0317, -0.0235,\n",
              "                       0.0103,  0.0180, -0.0174, -0.0623, -0.0750, -0.0403, -0.0222,  0.1100,\n",
              "                       0.1194,  0.0405,  0.0198,  0.0710, -0.0178,  0.0391,  0.0577,  0.0158,\n",
              "                      -0.0993, -0.0457,  0.1230,  0.1011,  0.0174, -0.0943,  0.0069,  0.1169,\n",
              "                       0.0779,  0.0550,  0.0940, -0.1211,  0.0046, -0.0039,  0.0803,  0.1073,\n",
              "                       0.0826, -0.0361,  0.0566,  0.0051, -0.0601, -0.0686, -0.0332, -0.0888,\n",
              "                      -0.0703,  0.0526, -0.0137, -0.0217,  0.0251, -0.0831, -0.1212,  0.0757,\n",
              "                      -0.1133, -0.0176,  0.0369,  0.1192,  0.1023, -0.1143,  0.0943,  0.0414,\n",
              "                      -0.0643,  0.0399,  0.0933,  0.0336,  0.0816,  0.1058,  0.0767, -0.0171,\n",
              "                       0.1030,  0.0964, -0.0424,  0.0539, -0.0534, -0.0040, -0.1172,  0.1167,\n",
              "                      -0.0808, -0.0929, -0.0055, -0.0079,  0.1004, -0.0710,  0.0840,  0.0948,\n",
              "                       0.0633, -0.0227,  0.0937, -0.0179,  0.1008, -0.0481, -0.0639,  0.0116,\n",
              "                      -0.0827,  0.0664,  0.1187,  0.0938,  0.0621, -0.1150,  0.0647,  0.0402,\n",
              "                      -0.0819, -0.1185,  0.1040,  0.1007,  0.0199, -0.0428,  0.0070,  0.1135,\n",
              "                       0.1082,  0.0770,  0.1126,  0.0285, -0.0031, -0.0603, -0.0566, -0.0552,\n",
              "                       0.0668, -0.1225,  0.0818,  0.0909,  0.0152,  0.0273, -0.1014,  0.0996,\n",
              "                      -0.0548,  0.1180, -0.0875, -0.0252,  0.0014, -0.0545, -0.1045,  0.0913],\n",
              "                     device='cuda:0')),\n",
              "             ('lstm.bias_hh_l0',\n",
              "              tensor([-0.0883, -0.0905, -0.0695,  0.0951,  0.0525,  0.0870,  0.0297,  0.0554,\n",
              "                       0.0796, -0.1015, -0.0580, -0.0905, -0.1145,  0.0105,  0.0193, -0.1133,\n",
              "                       0.1164,  0.0278,  0.0859, -0.0199,  0.1032,  0.0668, -0.0106, -0.0011,\n",
              "                       0.1115, -0.0846, -0.0935,  0.0881, -0.1210,  0.0761,  0.0582,  0.0032,\n",
              "                      -0.1179, -0.0402, -0.0994,  0.0188,  0.0265,  0.0825, -0.0464,  0.0183,\n",
              "                       0.0688, -0.1208, -0.0578,  0.1231,  0.0129, -0.0866, -0.0630, -0.0166,\n",
              "                      -0.0014,  0.0338,  0.0290, -0.1011, -0.0623,  0.0465, -0.0179, -0.0020,\n",
              "                      -0.0905,  0.0720,  0.0825, -0.0831,  0.0970,  0.0458, -0.0400,  0.0972,\n",
              "                       0.0793, -0.0498,  0.0190, -0.0095,  0.0016,  0.0331,  0.0705,  0.0525,\n",
              "                       0.0835,  0.0824,  0.0140, -0.0914,  0.0383,  0.0320, -0.0291,  0.0464,\n",
              "                      -0.0034,  0.1073, -0.0414,  0.0551, -0.0170,  0.0145, -0.0030,  0.0125,\n",
              "                       0.0246,  0.0165,  0.0541, -0.0017, -0.0279, -0.0585, -0.0215,  0.1154,\n",
              "                       0.0649,  0.0479, -0.0422, -0.1161,  0.0160, -0.0043,  0.0986,  0.0253,\n",
              "                      -0.1184, -0.0159, -0.0728,  0.1073, -0.0644,  0.0912,  0.0028, -0.1014,\n",
              "                      -0.0891,  0.0920, -0.1212, -0.0063, -0.0784, -0.0660,  0.1023,  0.0823,\n",
              "                      -0.0101, -0.0873,  0.0067, -0.1063, -0.0615,  0.1068,  0.0769, -0.0017,\n",
              "                      -0.1199, -0.0143, -0.0543, -0.0484,  0.0789, -0.0750, -0.0143,  0.1208,\n",
              "                       0.0032,  0.0953,  0.0074, -0.1059, -0.0375,  0.0117,  0.0045,  0.1051,\n",
              "                       0.0072, -0.0910, -0.0005, -0.0399, -0.0855, -0.0829, -0.1084, -0.1005,\n",
              "                      -0.0203, -0.0466, -0.0605, -0.0695, -0.0156, -0.0120,  0.1158, -0.0874,\n",
              "                       0.0034, -0.1110, -0.0521,  0.1003,  0.0777, -0.1187,  0.0527,  0.0191,\n",
              "                      -0.0808,  0.1160,  0.0510,  0.0205, -0.0755,  0.0921,  0.0785, -0.1102,\n",
              "                      -0.1097, -0.0933, -0.1171,  0.0167, -0.0271, -0.1111,  0.0723, -0.0457,\n",
              "                      -0.0625, -0.0198,  0.0491, -0.0902,  0.1022, -0.0627, -0.0902,  0.0379,\n",
              "                       0.0012,  0.0149, -0.0428, -0.0712, -0.0120,  0.0410, -0.1101,  0.1242,\n",
              "                       0.0978,  0.0912, -0.0338, -0.0286, -0.0606,  0.0018, -0.0379,  0.0795,\n",
              "                      -0.0584,  0.0037, -0.0981, -0.0204,  0.1161, -0.0878,  0.0385, -0.0926,\n",
              "                      -0.0748,  0.1201, -0.0393, -0.1013, -0.0086, -0.0777,  0.1103, -0.0074,\n",
              "                       0.0931,  0.1117,  0.0663, -0.0726, -0.0347,  0.0925,  0.1060, -0.0321,\n",
              "                      -0.1007, -0.0060,  0.0669, -0.0304, -0.0948, -0.0208,  0.0948, -0.0192,\n",
              "                       0.0373,  0.0838,  0.0275,  0.1015,  0.0276,  0.1032, -0.0012, -0.0814,\n",
              "                      -0.0746,  0.0354,  0.1013, -0.0041, -0.0179, -0.0448,  0.0870,  0.1072],\n",
              "                     device='cuda:0')),\n",
              "             ('lstm.weight_ih_l0_reverse',\n",
              "              tensor([[ 0.0230,  0.0814, -0.0248,  ...,  0.0802,  0.0067,  0.0882],\n",
              "                      [ 0.0798, -0.1191,  0.0928,  ...,  0.0211, -0.0236, -0.0996],\n",
              "                      [-0.1097, -0.0692,  0.0452,  ...,  0.0937, -0.0647,  0.0791],\n",
              "                      ...,\n",
              "                      [ 0.0799, -0.0592, -0.1019,  ..., -0.0638,  0.0280, -0.0848],\n",
              "                      [-0.0798, -0.0589,  0.0921,  ...,  0.1117,  0.0545,  0.0186],\n",
              "                      [ 0.0786,  0.0008,  0.0080,  ..., -0.0878,  0.1053,  0.0558]],\n",
              "                     device='cuda:0')),\n",
              "             ('lstm.weight_hh_l0_reverse',\n",
              "              tensor([[ 0.0453,  0.1187,  0.0722,  ...,  0.1194,  0.0643, -0.0354],\n",
              "                      [ 0.0103, -0.0460, -0.0327,  ...,  0.1100,  0.0182,  0.0543],\n",
              "                      [-0.1096,  0.0335,  0.1137,  ...,  0.0953, -0.0819,  0.0149],\n",
              "                      ...,\n",
              "                      [ 0.0690,  0.1242,  0.0305,  ...,  0.0539,  0.0704, -0.0916],\n",
              "                      [ 0.1147,  0.1192, -0.0890,  ..., -0.1212,  0.0284,  0.0386],\n",
              "                      [-0.0240, -0.0513,  0.1099,  ..., -0.0552, -0.0025,  0.1133]],\n",
              "                     device='cuda:0')),\n",
              "             ('lstm.bias_ih_l0_reverse',\n",
              "              tensor([ 9.8043e-02,  1.1512e-01, -4.0721e-02,  7.5832e-02,  1.1025e-01,\n",
              "                       7.5466e-02,  3.7531e-02, -1.9123e-02, -1.0455e-01,  9.1453e-02,\n",
              "                      -7.8690e-02, -1.7122e-02, -4.2909e-02, -2.2378e-02,  2.0502e-02,\n",
              "                       6.9144e-04,  1.1610e-01,  7.1108e-02,  6.2197e-02, -8.3555e-03,\n",
              "                      -4.1554e-02,  1.2089e-01, -3.2976e-02,  3.4596e-03,  6.2640e-02,\n",
              "                      -7.1659e-03,  9.4368e-02, -1.1697e-01, -6.7864e-02,  8.8638e-02,\n",
              "                      -5.7096e-02, -5.7359e-02, -1.1148e-01, -3.4455e-02, -6.9418e-02,\n",
              "                       1.0421e-01,  5.4518e-02, -1.0393e-01, -1.1129e-01,  2.6043e-02,\n",
              "                      -1.0160e-01,  1.8995e-02, -5.9306e-02, -1.1190e-01,  3.6093e-02,\n",
              "                      -4.9191e-02, -1.7678e-02, -5.3057e-02,  2.2327e-02, -7.8402e-02,\n",
              "                      -1.5321e-02, -3.1817e-02, -7.8454e-02, -1.0805e-01,  1.0091e-02,\n",
              "                       6.2976e-02,  5.9088e-02, -9.1896e-02, -9.0517e-02,  6.4084e-02,\n",
              "                      -6.5533e-03, -9.7682e-03,  2.8917e-02,  8.9022e-02,  6.2578e-02,\n",
              "                       3.9721e-02,  1.2443e-01, -7.1349e-02,  1.7767e-02,  3.1601e-02,\n",
              "                       4.3273e-02,  4.4660e-02,  2.8337e-02,  1.0131e-01, -2.2334e-02,\n",
              "                      -3.9337e-02,  7.1930e-02, -8.9694e-02, -5.2654e-02, -8.4450e-02,\n",
              "                      -7.3071e-03,  9.4183e-02,  6.3635e-02, -1.3566e-02, -9.3558e-02,\n",
              "                      -1.1280e-01, -6.5705e-02, -6.7536e-02,  1.1290e-01, -1.1829e-01,\n",
              "                      -7.0345e-02, -8.8256e-02, -5.7893e-02, -1.0341e-02,  3.2985e-02,\n",
              "                       1.1089e-01,  5.7959e-02,  3.3388e-02, -6.8845e-02,  1.1293e-01,\n",
              "                      -3.4292e-02, -4.7834e-03, -6.4706e-02,  8.2732e-02,  8.1955e-02,\n",
              "                      -2.2386e-02, -7.5743e-02,  1.1030e-01,  2.2233e-02, -5.6529e-02,\n",
              "                       2.1170e-02, -5.6579e-02,  6.7103e-02,  7.3543e-02, -1.0115e-01,\n",
              "                       1.0025e-01,  6.6606e-02, -1.1792e-01, -2.8616e-02, -7.6416e-04,\n",
              "                       5.2349e-02,  4.7979e-02, -8.6634e-02, -9.9799e-02, -2.7532e-03,\n",
              "                       6.6154e-02,  9.1926e-02,  2.0511e-02,  4.9312e-02,  7.4774e-02,\n",
              "                      -1.1785e-01,  1.0285e-01,  3.5298e-02,  5.5433e-02,  6.2798e-02,\n",
              "                      -2.6343e-02,  9.5467e-02, -4.2428e-02, -4.5386e-02,  3.5828e-02,\n",
              "                      -8.2352e-02, -1.2308e-02, -6.8520e-02,  1.9757e-02,  1.1219e-01,\n",
              "                      -2.1542e-02, -4.2144e-02,  4.9178e-02,  7.0073e-02,  6.9407e-02,\n",
              "                       1.5586e-02,  1.1591e-01, -1.0655e-01,  3.1722e-02, -1.0611e-01,\n",
              "                      -9.0549e-02, -1.8055e-02,  1.1254e-01, -6.2460e-02, -9.6459e-02,\n",
              "                      -1.1952e-01,  8.3484e-03,  7.3219e-02,  1.1628e-01,  9.7619e-02,\n",
              "                       4.4703e-02,  1.0561e-01,  4.2732e-02, -1.0878e-01,  1.1446e-01,\n",
              "                      -6.0028e-02, -6.2780e-02,  5.9765e-02, -1.0941e-01, -1.9764e-02,\n",
              "                       2.4446e-02,  4.6971e-02,  4.4995e-02,  8.9105e-02, -7.5941e-02,\n",
              "                      -6.9094e-03, -9.5879e-02, -1.0816e-01,  1.1687e-01, -3.6318e-03,\n",
              "                      -8.9661e-03, -3.1663e-02,  7.7484e-02,  2.8917e-02,  6.6479e-02,\n",
              "                       1.0201e-01,  4.8662e-03,  4.0908e-03, -1.2239e-01,  4.9555e-02,\n",
              "                      -1.0690e-01, -6.6891e-02,  1.0188e-01, -6.8314e-03,  5.1603e-05,\n",
              "                      -1.4847e-02, -6.8002e-02, -6.4100e-02,  3.5086e-02,  5.2629e-02,\n",
              "                       1.2039e-01,  1.0579e-01, -1.7718e-02,  9.0793e-02,  9.8405e-02,\n",
              "                       5.8586e-02, -5.0148e-02, -5.4827e-02, -7.1044e-02, -8.2851e-02,\n",
              "                       3.5265e-02,  1.2534e-02,  1.0516e-02, -4.8361e-02,  6.2283e-02,\n",
              "                       5.5550e-02, -5.8210e-02, -1.2312e-01, -4.0685e-02,  9.5392e-02,\n",
              "                      -1.4448e-02, -2.4844e-02, -4.7366e-02,  4.7836e-02, -9.0694e-02,\n",
              "                      -3.9475e-02, -6.7257e-02, -7.4054e-02, -1.1929e-01, -5.4306e-02,\n",
              "                       3.2765e-02, -8.1618e-02, -6.2794e-02, -8.1720e-02,  1.7081e-02,\n",
              "                      -1.0172e-01,  4.4686e-02, -7.2066e-02, -2.7195e-02, -3.9763e-02,\n",
              "                      -4.3851e-02, -3.8818e-02,  3.3835e-02, -1.5892e-02, -3.1654e-02,\n",
              "                      -8.5822e-02,  5.8562e-02, -1.2394e-01,  7.9086e-02,  4.7956e-02,\n",
              "                       9.0680e-02], device='cuda:0')),\n",
              "             ('lstm.bias_hh_l0_reverse',\n",
              "              tensor([ 0.0956,  0.0592,  0.0416,  0.0096, -0.0628, -0.0600, -0.0661, -0.0856,\n",
              "                       0.0882, -0.0431,  0.0338,  0.1116,  0.0288, -0.0002,  0.1104, -0.1248,\n",
              "                       0.1129,  0.0188, -0.0391, -0.0671,  0.0491, -0.0603, -0.1016, -0.0553,\n",
              "                       0.0908, -0.0620,  0.0723,  0.0806,  0.0073, -0.0220,  0.0125, -0.0812,\n",
              "                      -0.1067,  0.0376, -0.0338,  0.1009,  0.1036,  0.0150,  0.0939, -0.0078,\n",
              "                      -0.0808,  0.0842, -0.1075, -0.0066,  0.0074, -0.0174,  0.0258,  0.0038,\n",
              "                       0.1236, -0.0463,  0.1241, -0.0535, -0.0407, -0.0870, -0.0302,  0.0839,\n",
              "                       0.0746,  0.1208, -0.0955,  0.1005,  0.0823,  0.0550, -0.0154, -0.1214,\n",
              "                      -0.0536, -0.0385, -0.1217,  0.0724, -0.0334, -0.0566, -0.1051,  0.0339,\n",
              "                       0.1133, -0.0289, -0.0304, -0.1234,  0.0353, -0.0254,  0.1056, -0.0643,\n",
              "                       0.0476, -0.0911, -0.0577, -0.0060, -0.1149,  0.0471,  0.0245,  0.1065,\n",
              "                       0.0058,  0.0819, -0.0040,  0.0040,  0.1069,  0.0685, -0.0253, -0.0423,\n",
              "                      -0.0430,  0.0860,  0.0611, -0.0386, -0.1060,  0.1110,  0.0693,  0.0419,\n",
              "                       0.0021, -0.0334,  0.0131, -0.0929,  0.0328, -0.0517,  0.1046,  0.0650,\n",
              "                       0.1143,  0.0270, -0.0374,  0.0059,  0.0896, -0.0043,  0.0402,  0.0951,\n",
              "                      -0.0463,  0.0939,  0.0565,  0.1132,  0.0890,  0.0947, -0.0041,  0.1103,\n",
              "                       0.0310, -0.0671, -0.0044,  0.0834, -0.1216, -0.0135, -0.1006,  0.1168,\n",
              "                      -0.1029, -0.1222, -0.1145, -0.1013,  0.0645,  0.1204,  0.0007,  0.0346,\n",
              "                       0.1187, -0.0636,  0.1134,  0.0274,  0.0385,  0.0556,  0.0032, -0.0748,\n",
              "                       0.0304, -0.0146, -0.0582,  0.0219,  0.1206,  0.0007, -0.0861, -0.0332,\n",
              "                      -0.0531, -0.0758, -0.0683,  0.0112,  0.0897,  0.0975,  0.0277, -0.0189,\n",
              "                       0.0510,  0.0473, -0.0178,  0.0779,  0.0568, -0.1111,  0.0913,  0.0256,\n",
              "                       0.1114, -0.1112,  0.0648, -0.1147,  0.0336, -0.0682, -0.0912, -0.0731,\n",
              "                       0.0374, -0.1172,  0.0353, -0.0857, -0.0685, -0.0866, -0.1164, -0.0410,\n",
              "                       0.1192, -0.0125, -0.0120, -0.0198,  0.0189,  0.1111, -0.1125, -0.0677,\n",
              "                       0.0838,  0.0200,  0.0338, -0.0154,  0.0577,  0.0553,  0.1168,  0.1123,\n",
              "                      -0.0598,  0.1185, -0.0751, -0.0402, -0.0843, -0.1127,  0.0123, -0.0028,\n",
              "                       0.1110, -0.1042,  0.1007, -0.0245, -0.1028,  0.1013, -0.0911,  0.0071,\n",
              "                       0.0055, -0.0408,  0.0149,  0.0328,  0.0118,  0.0194,  0.0719, -0.0040,\n",
              "                       0.1075,  0.0177, -0.0343,  0.0174, -0.1237, -0.0362, -0.1179, -0.0221,\n",
              "                       0.0736, -0.1135, -0.0625, -0.0650, -0.1211, -0.0806, -0.0005,  0.1116,\n",
              "                       0.0408, -0.0731,  0.0637, -0.0018,  0.0475, -0.0238,  0.0911, -0.0330],\n",
              "                     device='cuda:0')),\n",
              "             ('lstm.weight_ih_l1',\n",
              "              tensor([[ 0.0852,  0.1079,  0.0415,  ...,  0.0076, -0.0719,  0.0539],\n",
              "                      [-0.0227,  0.0510, -0.0607,  ..., -0.0936,  0.1240, -0.1189],\n",
              "                      [ 0.0057,  0.0898, -0.0514,  ..., -0.0066,  0.0314,  0.0355],\n",
              "                      ...,\n",
              "                      [-0.0364, -0.0888,  0.0405,  ..., -0.0624, -0.0819,  0.0330],\n",
              "                      [ 0.1054, -0.0165,  0.0019,  ...,  0.0024, -0.1191,  0.0183],\n",
              "                      [ 0.0385, -0.0983, -0.0330,  ...,  0.0624, -0.0577,  0.0239]],\n",
              "                     device='cuda:0')),\n",
              "             ('lstm.weight_hh_l1',\n",
              "              tensor([[-0.0426, -0.0472,  0.0351,  ...,  0.1203,  0.0739, -0.0855],\n",
              "                      [ 0.0588, -0.1200, -0.0861,  ..., -0.1031, -0.0918, -0.0149],\n",
              "                      [-0.0611,  0.0766, -0.0225,  ...,  0.0663, -0.0984, -0.0817],\n",
              "                      ...,\n",
              "                      [ 0.1229, -0.0799,  0.0959,  ...,  0.0737, -0.0796,  0.0395],\n",
              "                      [ 0.0593, -0.1171,  0.0458,  ..., -0.0431,  0.0514,  0.1249],\n",
              "                      [-0.1197, -0.0827,  0.0870,  ...,  0.1168,  0.1079, -0.1010]],\n",
              "                     device='cuda:0')),\n",
              "             ('lstm.bias_ih_l1',\n",
              "              tensor([ 0.0391, -0.0203, -0.0882, -0.0838, -0.1184,  0.0854,  0.0645, -0.0659,\n",
              "                      -0.1031, -0.0888,  0.0677,  0.1215, -0.0785, -0.0821, -0.0499, -0.1071,\n",
              "                       0.0762,  0.0643,  0.0441,  0.0926,  0.1132, -0.0095,  0.1031,  0.1201,\n",
              "                       0.0058, -0.0598,  0.0778, -0.1239, -0.0024, -0.0752,  0.0045, -0.0507,\n",
              "                      -0.1243,  0.0834, -0.0873,  0.0095, -0.0213, -0.0393, -0.0751,  0.0981,\n",
              "                      -0.0407, -0.0932,  0.1131,  0.0439, -0.0319, -0.0082, -0.0312,  0.0061,\n",
              "                       0.0012,  0.0811, -0.0372,  0.0909, -0.0407, -0.0306, -0.0069, -0.1203,\n",
              "                      -0.0234, -0.1016,  0.0362,  0.0052,  0.0475, -0.0060, -0.0155,  0.0163,\n",
              "                       0.0038, -0.1049,  0.0035,  0.0820, -0.0677, -0.0449,  0.0525,  0.0531,\n",
              "                      -0.1187,  0.0494,  0.0057,  0.0179,  0.0347,  0.0036, -0.0167,  0.0553,\n",
              "                       0.0905,  0.1211,  0.0235, -0.0361,  0.0677,  0.1165,  0.0402, -0.0688,\n",
              "                       0.0428,  0.0463, -0.0718,  0.1004,  0.0766,  0.0749,  0.0274,  0.0032,\n",
              "                      -0.0057, -0.0298,  0.0827,  0.0652,  0.0494,  0.0398, -0.1169,  0.0103,\n",
              "                       0.1206, -0.1100,  0.0151, -0.0946,  0.0376,  0.0226,  0.0685,  0.0316,\n",
              "                      -0.0419, -0.0083, -0.0405, -0.0042, -0.0256,  0.0340, -0.1094, -0.0329,\n",
              "                       0.0283, -0.1137, -0.0922,  0.0959, -0.0208, -0.1042,  0.1145,  0.0326,\n",
              "                       0.0106, -0.0219, -0.0662,  0.0664, -0.0729, -0.1103,  0.0644, -0.0954,\n",
              "                       0.0903,  0.0110,  0.1199,  0.0584, -0.0510,  0.0908, -0.0174, -0.0182,\n",
              "                      -0.0310, -0.0195, -0.0881,  0.0203, -0.1185, -0.0032, -0.0161, -0.0779,\n",
              "                      -0.0989,  0.0163, -0.0531, -0.0037,  0.0369, -0.1110,  0.0354, -0.0565,\n",
              "                       0.0335,  0.0316, -0.0983,  0.1206,  0.1168, -0.0597,  0.0897,  0.0058,\n",
              "                      -0.1217, -0.1006, -0.1075,  0.0046,  0.0732,  0.0012,  0.0310,  0.0549,\n",
              "                       0.0892,  0.0065,  0.1226,  0.1038,  0.0684, -0.0149, -0.0645,  0.0957,\n",
              "                       0.0445, -0.0924,  0.0338, -0.1227,  0.0022,  0.0848, -0.0318,  0.0294,\n",
              "                      -0.0254, -0.0634, -0.0156,  0.0794, -0.1042, -0.0773, -0.0873, -0.0890,\n",
              "                      -0.0002, -0.0093, -0.1014, -0.0130,  0.0993,  0.0765, -0.1243,  0.1156,\n",
              "                       0.0009,  0.0938, -0.0920,  0.0887, -0.0433, -0.1034,  0.0938, -0.0400,\n",
              "                      -0.0311, -0.0697, -0.1166, -0.0618,  0.0581,  0.0284, -0.0638, -0.0459,\n",
              "                      -0.1203, -0.0722, -0.1057, -0.0407, -0.0813,  0.0350,  0.0309,  0.0772,\n",
              "                      -0.0859,  0.1106,  0.0996,  0.0366, -0.0941,  0.0429,  0.0784, -0.0528,\n",
              "                       0.0512,  0.1072, -0.1115,  0.0137,  0.1114,  0.0473,  0.1115,  0.0970,\n",
              "                       0.0542, -0.1079, -0.1068, -0.0020, -0.1217,  0.0800,  0.1224,  0.0296],\n",
              "                     device='cuda:0')),\n",
              "             ('lstm.bias_hh_l1',\n",
              "              tensor([-0.0269, -0.0525, -0.0876, -0.0388, -0.0151, -0.1022,  0.0096,  0.0726,\n",
              "                      -0.1009, -0.0128, -0.0222, -0.0684,  0.1006, -0.0353,  0.0721,  0.0266,\n",
              "                       0.1101, -0.0880, -0.0899, -0.0139,  0.0329,  0.0868,  0.0932, -0.0668,\n",
              "                      -0.0881,  0.0703,  0.0070, -0.0527,  0.0334,  0.0675,  0.0148, -0.0369,\n",
              "                       0.1215, -0.0976, -0.0638,  0.0814, -0.0194,  0.0175, -0.0229,  0.1142,\n",
              "                       0.0629, -0.0733,  0.1105, -0.0777,  0.1070, -0.0849,  0.0190, -0.0067,\n",
              "                       0.0298,  0.0349, -0.1234, -0.0047, -0.0481,  0.0565, -0.0047,  0.0874,\n",
              "                      -0.0178,  0.0823,  0.0655, -0.1212, -0.0061,  0.0056, -0.0416, -0.0623,\n",
              "                      -0.0004, -0.0744,  0.0076, -0.0249, -0.0652, -0.0119,  0.0380,  0.1137,\n",
              "                       0.0917, -0.0929,  0.0502, -0.1095, -0.0626,  0.0096,  0.0489,  0.0449,\n",
              "                       0.0910,  0.1181, -0.0256, -0.0774,  0.0026,  0.1046,  0.0361,  0.0947,\n",
              "                      -0.0170, -0.0642, -0.0237, -0.0032, -0.1089,  0.0029, -0.0524, -0.0416,\n",
              "                      -0.0603, -0.0478,  0.1198,  0.1122, -0.0923,  0.0832,  0.0752,  0.0130,\n",
              "                      -0.0047,  0.1207, -0.1179, -0.1213, -0.0725,  0.0951,  0.1121, -0.0100,\n",
              "                       0.0994, -0.0297, -0.0349,  0.0645, -0.0741,  0.0828, -0.1153,  0.0548,\n",
              "                       0.0320, -0.0301, -0.0569,  0.0090, -0.0342,  0.0335, -0.0019,  0.0132,\n",
              "                       0.0184, -0.0943,  0.0782, -0.0411,  0.1122, -0.0402,  0.0386, -0.0527,\n",
              "                      -0.0789, -0.0027, -0.0263,  0.0550,  0.0754,  0.0917,  0.0950, -0.0331,\n",
              "                       0.0173, -0.0870,  0.0450, -0.0877, -0.1195,  0.1209,  0.0742, -0.0206,\n",
              "                       0.0587, -0.0870,  0.0212, -0.0061, -0.0634, -0.0302,  0.0859,  0.0478,\n",
              "                       0.0737,  0.0810, -0.0061,  0.1007, -0.0609, -0.1045,  0.0086,  0.1060,\n",
              "                      -0.1199,  0.0361,  0.0695,  0.0420,  0.0394,  0.0113,  0.0103,  0.0228,\n",
              "                      -0.1045, -0.0130,  0.0163, -0.1219,  0.0821,  0.0512, -0.0953, -0.0857,\n",
              "                      -0.0553, -0.0716,  0.1230, -0.0645,  0.0815,  0.0691,  0.1101, -0.0272,\n",
              "                      -0.0739, -0.0839,  0.0143,  0.0938, -0.0800, -0.0780, -0.0937,  0.0255,\n",
              "                      -0.0667, -0.0117, -0.0581,  0.0199,  0.1046,  0.0841, -0.0042,  0.1051,\n",
              "                       0.0371, -0.0795, -0.0625,  0.0653,  0.0854, -0.0168,  0.0743,  0.0036,\n",
              "                      -0.1062,  0.0288, -0.0707, -0.1127, -0.0328, -0.0225,  0.0936,  0.0787,\n",
              "                       0.0264,  0.0726, -0.0131,  0.0057, -0.0246,  0.1085,  0.1003, -0.0005,\n",
              "                       0.1044, -0.1040,  0.1031, -0.0888,  0.0418, -0.0222, -0.0311,  0.1123,\n",
              "                       0.0071,  0.0563,  0.0716, -0.0201,  0.1093, -0.0783, -0.0173,  0.0331,\n",
              "                      -0.0182, -0.0376,  0.0456, -0.1235, -0.0662,  0.0978, -0.0653,  0.0211],\n",
              "                     device='cuda:0')),\n",
              "             ('lstm.weight_ih_l1_reverse',\n",
              "              tensor([[-0.1120,  0.0518,  0.0622,  ...,  0.0454,  0.0400, -0.0992],\n",
              "                      [ 0.0615, -0.0576,  0.1060,  ..., -0.0325,  0.0792, -0.0967],\n",
              "                      [-0.0622,  0.0021, -0.0546,  ..., -0.0992, -0.0439,  0.0486],\n",
              "                      ...,\n",
              "                      [ 0.0643, -0.0186,  0.0663,  ..., -0.0724, -0.0536,  0.0444],\n",
              "                      [ 0.0008, -0.1236, -0.1041,  ...,  0.0722, -0.0806, -0.0482],\n",
              "                      [-0.0117,  0.0792,  0.0539,  ..., -0.0330,  0.0427,  0.0876]],\n",
              "                     device='cuda:0')),\n",
              "             ('lstm.weight_hh_l1_reverse',\n",
              "              tensor([[-0.0396,  0.0398,  0.0328,  ...,  0.0989, -0.0492, -0.1041],\n",
              "                      [-0.0858, -0.0932, -0.0309,  ..., -0.0014, -0.0915, -0.0648],\n",
              "                      [ 0.0959, -0.0416,  0.0529,  ..., -0.0820, -0.0011, -0.0183],\n",
              "                      ...,\n",
              "                      [-0.1095, -0.0622,  0.0515,  ...,  0.0106, -0.0461, -0.1019],\n",
              "                      [-0.0951,  0.0507, -0.0233,  ..., -0.0060,  0.0622, -0.0396],\n",
              "                      [ 0.0412, -0.0901,  0.1048,  ...,  0.0912, -0.1006,  0.0287]],\n",
              "                     device='cuda:0')),\n",
              "             ('lstm.bias_ih_l1_reverse',\n",
              "              tensor([-8.9961e-02,  6.1503e-02, -1.2377e-01, -6.2381e-02, -6.3789e-02,\n",
              "                       9.8165e-02, -3.0900e-02,  9.4757e-02, -5.7081e-02, -1.2983e-03,\n",
              "                      -1.2365e-01, -6.9578e-02,  9.2662e-02,  2.1217e-02, -1.1352e-04,\n",
              "                      -1.2393e-01,  3.9374e-02,  8.3226e-02, -1.1279e-01,  6.8046e-02,\n",
              "                      -5.7698e-02,  1.1590e-01, -9.1047e-02,  1.0474e-01,  4.3263e-02,\n",
              "                       1.0594e-01, -3.8877e-02,  1.1375e-01, -8.7375e-02, -4.8906e-02,\n",
              "                      -4.9580e-02,  8.1981e-02,  8.9852e-02,  1.1510e-01, -7.7603e-02,\n",
              "                      -4.8866e-02,  1.8583e-02, -9.2732e-02,  1.1912e-01,  7.5213e-02,\n",
              "                      -8.0106e-02,  1.0860e-01,  3.4287e-02,  6.1227e-02,  2.8095e-02,\n",
              "                       5.5145e-02,  1.1174e-01,  2.7144e-02,  8.2956e-02,  7.1496e-02,\n",
              "                      -7.3628e-02, -3.7508e-02, -7.9531e-02, -1.0505e-01,  6.0680e-02,\n",
              "                       7.2882e-02,  6.7969e-02, -6.2687e-02, -4.7361e-02,  8.7942e-02,\n",
              "                      -5.9875e-02, -2.7437e-02, -1.2045e-01,  4.5404e-02,  1.0423e-01,\n",
              "                       1.0878e-01,  6.8585e-02, -3.5549e-02, -7.4093e-02, -1.1989e-02,\n",
              "                       8.5349e-02,  1.0609e-01, -1.1504e-01,  6.1453e-02,  9.3276e-03,\n",
              "                       5.5453e-02, -1.3865e-02,  4.1613e-02, -1.0848e-02,  1.9639e-02,\n",
              "                      -2.4451e-04,  1.1846e-01,  1.1586e-01,  9.3163e-02,  2.2782e-02,\n",
              "                       4.7691e-03,  8.0018e-02, -1.1504e-01,  7.8192e-02, -1.5544e-03,\n",
              "                      -2.3167e-02, -5.7141e-02,  6.5579e-02, -1.2159e-01, -1.3737e-02,\n",
              "                      -4.5893e-02, -1.3430e-02, -5.3292e-02, -4.7422e-02, -5.2849e-02,\n",
              "                      -1.0639e-01, -5.0998e-04,  6.5121e-02,  7.8910e-02,  9.6122e-02,\n",
              "                      -5.0572e-02,  1.2367e-01, -1.0845e-01, -1.2478e-01,  3.7563e-03,\n",
              "                      -1.1213e-01,  7.6277e-02, -3.3173e-02,  9.6142e-02, -1.1348e-01,\n",
              "                      -6.0884e-02,  6.5155e-02,  4.3902e-02,  3.2227e-02, -1.1825e-01,\n",
              "                      -4.9530e-02, -5.5222e-02, -5.3702e-02,  2.0509e-02, -1.2175e-01,\n",
              "                       5.8244e-02,  3.8880e-02,  6.8633e-02,  5.5214e-02,  3.1574e-02,\n",
              "                      -6.2881e-02, -3.2914e-02,  9.0461e-03, -1.0721e-01, -1.1172e-01,\n",
              "                       5.7839e-02, -2.8891e-02,  5.4766e-02,  4.7366e-02,  4.5749e-02,\n",
              "                       2.4525e-02, -2.0367e-02, -7.0445e-02, -5.3384e-02,  7.0147e-02,\n",
              "                      -9.5341e-02, -4.9454e-02,  1.6490e-02,  1.2049e-01,  9.8296e-02,\n",
              "                       6.5177e-03, -1.1929e-01, -3.3419e-02,  2.3181e-02, -1.2466e-01,\n",
              "                       3.0786e-02,  7.0603e-02, -9.9238e-02,  5.0532e-02,  8.6488e-02,\n",
              "                      -1.2671e-02, -4.5048e-02, -1.1968e-02, -4.9820e-02, -2.3942e-02,\n",
              "                      -1.3023e-02, -5.2534e-02,  1.1955e-01, -2.6297e-02, -3.6411e-03,\n",
              "                       6.3353e-02,  3.9223e-02, -1.2246e-02, -4.7748e-02,  4.4257e-02,\n",
              "                      -3.7005e-02, -7.9783e-02, -6.6073e-02, -2.3461e-02, -8.5576e-02,\n",
              "                       4.3984e-02, -6.6950e-03,  3.7834e-02, -1.1668e-01, -2.8363e-02,\n",
              "                      -1.0582e-01,  1.2266e-01,  3.5278e-02, -8.2263e-04,  2.3106e-02,\n",
              "                       5.8627e-02,  1.0399e-01, -1.8925e-02,  1.0216e-01,  6.7641e-02,\n",
              "                      -4.5219e-03, -4.1028e-02, -8.0702e-02,  1.1627e-01,  1.0247e-01,\n",
              "                       1.5859e-02, -1.0610e-01, -3.4836e-02,  8.8226e-03, -9.5234e-02,\n",
              "                      -6.8662e-02, -9.1146e-02,  1.1810e-01, -2.7940e-02, -2.1755e-02,\n",
              "                       1.0745e-01, -2.7120e-02,  1.1546e-01, -9.1369e-02, -5.4734e-03,\n",
              "                       6.0316e-02, -8.8498e-02, -2.1419e-02, -6.7935e-02, -1.0904e-01,\n",
              "                       3.1387e-02,  9.7133e-02,  8.0371e-02, -5.7222e-02, -1.1829e-01,\n",
              "                      -8.4739e-02, -3.2863e-02,  5.5385e-02,  7.3167e-02,  3.3358e-02,\n",
              "                       7.1103e-02, -9.7963e-02, -9.2955e-03, -5.8244e-02, -2.9533e-02,\n",
              "                      -4.2686e-02, -1.1799e-01, -9.6405e-02, -6.3159e-02,  1.2291e-01,\n",
              "                      -7.9900e-02,  2.6594e-02, -1.0378e-01, -1.0798e-01, -9.2457e-02,\n",
              "                      -4.9672e-04,  7.8667e-02,  1.1965e-01, -2.9670e-02,  6.9547e-02,\n",
              "                       3.5140e-03, -2.9135e-02,  1.2252e-01,  7.2989e-02,  1.1441e-01,\n",
              "                      -1.9561e-02], device='cuda:0')),\n",
              "             ('lstm.bias_hh_l1_reverse',\n",
              "              tensor([ 0.0729, -0.0006, -0.0814,  0.0024, -0.0525, -0.0328,  0.0126, -0.0570,\n",
              "                      -0.0956,  0.0165,  0.0217,  0.0971,  0.1234,  0.1082,  0.0675,  0.1131,\n",
              "                      -0.0741,  0.0196, -0.0411, -0.1152, -0.0555,  0.0257,  0.0273, -0.1096,\n",
              "                      -0.0904, -0.0138, -0.1133,  0.0706,  0.0775, -0.0968,  0.0880,  0.0222,\n",
              "                       0.0393, -0.0673,  0.0305, -0.0554,  0.0501,  0.1090,  0.1017,  0.0296,\n",
              "                      -0.0021, -0.0414, -0.0965, -0.0374, -0.0525, -0.0222, -0.0553, -0.0879,\n",
              "                       0.0855, -0.1188, -0.1187,  0.0930, -0.0765,  0.1131, -0.0900,  0.0059,\n",
              "                      -0.0356, -0.0311, -0.1250,  0.0905,  0.1088,  0.0167, -0.0417, -0.0297,\n",
              "                       0.0298, -0.0923,  0.0439,  0.0118,  0.1017,  0.1101,  0.0865,  0.0227,\n",
              "                       0.0872, -0.0683,  0.0782, -0.1035, -0.1218,  0.0038, -0.0783, -0.0560,\n",
              "                      -0.0760, -0.0982, -0.0161,  0.0612, -0.1176,  0.0908, -0.1021,  0.0877,\n",
              "                       0.0838,  0.0097, -0.0744, -0.0569, -0.0783,  0.0860, -0.0736, -0.1218,\n",
              "                       0.1048, -0.0766,  0.0890,  0.1224, -0.0340,  0.0720,  0.0753, -0.0499,\n",
              "                      -0.0055,  0.0778,  0.0649,  0.1174,  0.0416, -0.0654,  0.0988,  0.0941,\n",
              "                       0.0494,  0.0981, -0.0995,  0.0258, -0.0824, -0.0942,  0.0826, -0.0337,\n",
              "                       0.0253,  0.0734, -0.1100, -0.0532, -0.0647,  0.0601,  0.0979,  0.0934,\n",
              "                      -0.0877, -0.0681, -0.0655,  0.1034,  0.0452, -0.0630,  0.1134, -0.1220,\n",
              "                      -0.0742,  0.1010,  0.0197,  0.0640,  0.0247, -0.0688,  0.0293,  0.0621,\n",
              "                       0.1109,  0.0298,  0.0161,  0.0380,  0.0615,  0.1035,  0.0621,  0.1239,\n",
              "                       0.0620,  0.0236, -0.0189,  0.0483, -0.0447,  0.0492, -0.0417, -0.0311,\n",
              "                      -0.1121, -0.0906,  0.1170,  0.0277,  0.0092,  0.0238, -0.0778,  0.1145,\n",
              "                      -0.0271,  0.0090, -0.1192,  0.0948, -0.0199, -0.1204,  0.0202, -0.0089,\n",
              "                       0.0892,  0.0790, -0.0287,  0.0952,  0.0381,  0.0380, -0.1022,  0.0908,\n",
              "                      -0.0595,  0.0419, -0.0455, -0.1039,  0.0304, -0.0989,  0.0385,  0.0218,\n",
              "                       0.0773, -0.0454, -0.0728, -0.1227, -0.1234,  0.0095,  0.1084, -0.1080,\n",
              "                       0.0351, -0.0007,  0.1206,  0.0817,  0.0801, -0.0992, -0.0827,  0.1080,\n",
              "                       0.0895, -0.0011,  0.0406,  0.1203, -0.1223, -0.0736, -0.0890, -0.1029,\n",
              "                      -0.0610,  0.0059, -0.1184, -0.0980,  0.0619, -0.0019, -0.0616, -0.1152,\n",
              "                      -0.0421, -0.0131,  0.0870,  0.0402, -0.0617, -0.1068, -0.0101, -0.0547,\n",
              "                       0.0658, -0.1011,  0.0128, -0.0294,  0.0548, -0.0357,  0.0459, -0.0839,\n",
              "                       0.1070, -0.0224, -0.1203,  0.0992,  0.1212, -0.0462,  0.1114,  0.0354,\n",
              "                      -0.0532, -0.0688,  0.0132, -0.0632,  0.1199, -0.0507,  0.1047,  0.0273],\n",
              "                     device='cuda:0')),\n",
              "             ('fc_layers.0.weight',\n",
              "              tensor([[-0.0389,  0.0019,  0.0609,  ...,  0.0764,  0.0359,  0.0726],\n",
              "                      [-0.0116,  0.0090, -0.0404,  ...,  0.0392,  0.0739,  0.0082],\n",
              "                      [ 0.0666, -0.0352,  0.0825,  ..., -0.0283, -0.0420, -0.0434],\n",
              "                      ...,\n",
              "                      [ 0.0623,  0.0419,  0.0654,  ..., -0.0618, -0.0321, -0.0256],\n",
              "                      [-0.0342, -0.0681, -0.0271,  ..., -0.0346, -0.0218, -0.0825],\n",
              "                      [-0.0677, -0.0037, -0.0594,  ...,  0.0223, -0.0641, -0.0634]],\n",
              "                     device='cuda:0')),\n",
              "             ('fc_layers.0.bias',\n",
              "              tensor([ 2.7011e-02, -5.5995e-03, -6.1478e-02,  2.1885e-02,  4.0419e-05,\n",
              "                      -1.8834e-02,  4.7828e-02,  6.2621e-02, -4.2408e-02, -4.9675e-02,\n",
              "                      -3.3566e-02, -1.4558e-03, -7.3193e-02,  6.9037e-02,  4.9829e-02,\n",
              "                       3.6002e-02, -8.7510e-02,  3.4755e-02,  4.2726e-02, -4.8139e-02,\n",
              "                      -8.3902e-02,  3.0528e-03, -6.7006e-02,  8.8081e-02,  7.3023e-02,\n",
              "                       5.9709e-02,  6.2749e-03, -8.0705e-02,  3.0749e-02,  2.7728e-02,\n",
              "                       5.9414e-02, -6.5678e-02,  4.3551e-02, -3.3424e-02, -5.3725e-03,\n",
              "                       3.8383e-02,  1.6346e-02,  4.5040e-02, -1.2538e-02, -3.5680e-02,\n",
              "                      -3.2274e-03, -5.5452e-02,  5.5384e-02, -2.5085e-02, -4.3410e-02,\n",
              "                       1.4641e-02, -2.5292e-02, -4.2239e-02, -1.3216e-02,  4.5865e-02,\n",
              "                       8.3443e-02,  1.6529e-02, -2.3651e-02, -1.4408e-02,  1.9331e-02,\n",
              "                      -8.7140e-02,  7.4559e-02,  4.5897e-02, -5.7875e-02,  4.9375e-02,\n",
              "                      -2.0575e-02, -5.3325e-02, -7.8591e-02, -3.7032e-02,  8.0149e-02,\n",
              "                      -3.4559e-02, -2.5341e-02, -4.9812e-02,  3.3755e-02, -4.2012e-02,\n",
              "                      -3.2397e-02, -8.0760e-02,  3.4916e-03,  8.8204e-02,  4.9424e-02,\n",
              "                      -4.5456e-02, -2.0297e-02,  5.8722e-02, -3.9592e-02,  4.6055e-02,\n",
              "                       6.1502e-02,  8.1498e-02, -5.6855e-02, -1.6228e-02,  2.3668e-02,\n",
              "                       2.2296e-02, -3.2709e-03, -8.2859e-03,  7.7975e-02, -4.7632e-02,\n",
              "                      -2.7504e-02, -6.1190e-02, -3.4241e-02, -2.6004e-02,  3.0811e-02,\n",
              "                       2.3060e-02, -1.2720e-02, -3.7228e-03,  8.7397e-02, -5.2918e-02,\n",
              "                      -7.1241e-02,  5.6173e-02, -4.6758e-02,  4.6679e-02,  1.0415e-02,\n",
              "                       5.2180e-02, -2.2018e-02,  8.3277e-02,  9.4816e-03, -3.1086e-02,\n",
              "                       6.9536e-02, -2.7881e-02,  6.1190e-02,  7.1203e-02,  3.6350e-02,\n",
              "                       2.9723e-02, -5.9363e-02,  6.4876e-02,  3.6702e-02, -2.9572e-02,\n",
              "                       3.2116e-02,  7.9343e-02,  9.7064e-03,  8.2712e-02,  6.7371e-02,\n",
              "                       7.8690e-02,  5.6292e-02, -2.8660e-02], device='cuda:0')),\n",
              "             ('fc_layers.2.weight',\n",
              "              tensor([[-0.0875, -0.0484, -0.0663,  ...,  0.0611, -0.0848, -0.0309],\n",
              "                      [-0.0697, -0.0408,  0.0125,  ...,  0.0221, -0.0763,  0.0047],\n",
              "                      [ 0.0757, -0.0525, -0.0320,  ..., -0.0338,  0.0193,  0.0259],\n",
              "                      ...,\n",
              "                      [ 0.0144,  0.0249, -0.0626,  ...,  0.0079, -0.0708,  0.0829],\n",
              "                      [ 0.0377,  0.0513,  0.0517,  ...,  0.0418,  0.0266, -0.0463],\n",
              "                      [-0.0789, -0.0394, -0.0184,  ..., -0.0474, -0.0388, -0.0400]],\n",
              "                     device='cuda:0')),\n",
              "             ('fc_layers.2.bias',\n",
              "              tensor([-0.0704, -0.0513,  0.0112, -0.0747, -0.0811, -0.0787,  0.0020, -0.0334,\n",
              "                      -0.0823,  0.0816,  0.0859, -0.0247,  0.0129, -0.0403, -0.0325,  0.0274,\n",
              "                      -0.0760,  0.0065,  0.0824, -0.0670,  0.0722,  0.0799,  0.0498,  0.0271,\n",
              "                       0.0814, -0.0775,  0.0495, -0.0525,  0.0550,  0.0417,  0.0460, -0.0347,\n",
              "                      -0.0735,  0.0165,  0.0804, -0.0191, -0.0673, -0.0695, -0.0013, -0.0291,\n",
              "                      -0.0798,  0.0842, -0.0648, -0.0746,  0.0360, -0.0219,  0.0630,  0.0635,\n",
              "                       0.0809, -0.0674,  0.0819, -0.0310, -0.0811, -0.0053, -0.0107,  0.0671,\n",
              "                       0.0514, -0.0230, -0.0152,  0.0252, -0.0548, -0.0578,  0.0682, -0.0521],\n",
              "                     device='cuda:0')),\n",
              "             ('fc_layers.4.weight',\n",
              "              tensor([[-2.9369e-02,  7.4409e-02, -5.7333e-02, -9.2132e-02, -5.3739e-02,\n",
              "                        8.2260e-02,  5.8849e-02,  4.1247e-02, -5.9304e-03, -5.2976e-03,\n",
              "                        6.0493e-02, -3.7789e-02,  6.3942e-03,  5.5545e-02,  2.5075e-02,\n",
              "                       -2.5400e-02,  7.5300e-02, -3.4126e-02,  3.9179e-02, -9.8087e-02,\n",
              "                       -3.1704e-03, -4.2878e-02, -3.7615e-02,  6.4387e-02, -5.2899e-02,\n",
              "                       -6.2751e-02,  5.4694e-02,  2.2254e-02,  3.1449e-02,  2.3063e-03,\n",
              "                        1.0594e-01, -7.6226e-02, -2.3764e-02,  4.5084e-02, -1.2326e-01,\n",
              "                       -5.1957e-02,  7.1467e-02, -8.6461e-02, -1.1064e-01,  3.6993e-02,\n",
              "                       -1.1150e-01, -9.8449e-02,  6.7292e-02, -2.7713e-02,  2.5577e-02,\n",
              "                        2.5825e-02, -2.6288e-02,  1.0204e-01, -1.7863e-02, -1.2346e-02,\n",
              "                        9.7440e-04, -2.1982e-02,  2.8555e-02, -9.3340e-02, -9.3618e-02,\n",
              "                        1.4880e-02,  7.7735e-02, -8.4286e-02,  1.7147e-02, -4.0828e-02,\n",
              "                        1.2175e-01,  4.0012e-02, -7.3135e-02, -4.6392e-02],\n",
              "                      [-3.6068e-02,  6.1460e-02, -1.0399e-01,  1.4673e-02,  1.2170e-01,\n",
              "                       -7.1660e-02,  2.3287e-02,  1.8674e-02, -7.7863e-02, -7.4244e-03,\n",
              "                       -3.0086e-02,  1.1350e-01,  1.0104e-01, -3.5721e-02,  7.3755e-02,\n",
              "                        3.1899e-02, -5.8557e-02,  2.7819e-02, -9.9757e-02, -5.3597e-02,\n",
              "                        1.6828e-02,  9.4270e-02, -6.1434e-02,  6.7120e-02, -4.3776e-02,\n",
              "                        8.1757e-02,  6.3921e-02,  1.0885e-01, -1.2334e-01, -1.1271e-01,\n",
              "                        5.4502e-02, -1.1586e-01,  4.7841e-02,  7.6367e-02, -2.4717e-02,\n",
              "                        3.2177e-02, -6.8606e-02,  5.7424e-02,  3.9238e-02, -5.4725e-02,\n",
              "                       -3.5112e-02,  5.2278e-02,  5.2897e-02,  4.3037e-02,  4.5339e-02,\n",
              "                       -8.0314e-02,  1.0903e-01, -8.8449e-02,  1.2034e-01, -1.1921e-01,\n",
              "                       -6.7537e-02,  2.3686e-02,  1.9899e-02,  4.7368e-02,  4.3789e-02,\n",
              "                        6.6836e-02, -7.1889e-02, -2.5945e-02, -2.4020e-02,  7.8450e-02,\n",
              "                        1.0044e-01, -4.3247e-02, -1.1808e-01,  9.3665e-02],\n",
              "                      [-5.5082e-02,  4.8767e-02,  2.4715e-02, -8.7888e-02,  1.2396e-01,\n",
              "                       -7.5580e-02,  5.1779e-02, -8.5875e-02, -9.7983e-02,  8.6853e-02,\n",
              "                       -2.5977e-02,  3.8936e-02,  7.1335e-02, -1.0244e-01,  1.2473e-01,\n",
              "                       -1.1205e-01,  2.8614e-02,  3.2112e-02, -7.0451e-02, -9.4719e-02,\n",
              "                        6.5814e-02,  3.2509e-02, -4.8080e-02,  9.4142e-02,  1.1045e-01,\n",
              "                       -8.3061e-02, -6.8932e-02,  6.1831e-02, -1.0112e-01, -8.5425e-02,\n",
              "                        3.2735e-02, -4.4528e-03, -5.0921e-02, -4.4726e-02, -2.1610e-02,\n",
              "                        1.1156e-01, -3.5118e-02,  8.7598e-03,  1.1075e-01,  4.5929e-02,\n",
              "                        9.7653e-03, -1.2063e-01, -7.5210e-02,  1.0782e-01, -3.2955e-03,\n",
              "                       -1.0543e-01,  3.8455e-02,  2.7515e-02,  1.6058e-02,  9.0643e-02,\n",
              "                       -4.2129e-02, -8.9772e-02, -3.4023e-02, -9.9617e-02,  2.3243e-02,\n",
              "                        1.0271e-01, -4.3896e-02,  6.3884e-02,  4.8229e-03,  1.5250e-02,\n",
              "                       -1.2494e-01, -3.7565e-02,  3.2453e-02,  7.8449e-02],\n",
              "                      [-2.6814e-02, -8.9931e-02,  4.3598e-02,  1.6754e-02, -1.0961e-01,\n",
              "                        8.2160e-02,  1.0458e-01,  6.3179e-02, -2.2522e-02,  1.1869e-01,\n",
              "                       -4.3315e-02,  1.1978e-01, -3.2223e-02,  5.8235e-02,  9.1934e-02,\n",
              "                        5.0072e-02,  1.1679e-01, -1.1720e-01, -1.0383e-01, -2.4985e-02,\n",
              "                       -2.4258e-02,  4.8876e-02,  4.6799e-02, -8.6906e-02,  1.0660e-02,\n",
              "                       -9.3743e-03,  3.3744e-02, -7.6531e-02, -1.2430e-01,  6.6285e-02,\n",
              "                        6.8674e-03, -2.3651e-02, -6.3328e-02, -6.2193e-02,  9.6548e-02,\n",
              "                       -1.1897e-01, -4.4490e-02, -4.5066e-02,  2.7202e-02, -3.7116e-02,\n",
              "                       -1.1976e-01,  9.6816e-02, -4.5334e-02, -8.6500e-02, -6.4890e-02,\n",
              "                       -4.6641e-02,  4.5729e-02,  5.3041e-02, -2.4824e-02, -3.6198e-02,\n",
              "                        2.2765e-02,  6.6048e-02, -6.2484e-02, -8.3169e-02,  2.9226e-03,\n",
              "                       -7.8530e-02, -7.8943e-02, -7.1788e-02,  9.1215e-02,  1.0179e-01,\n",
              "                        1.9392e-02, -5.6820e-03,  7.9338e-02,  1.1827e-01],\n",
              "                      [ 5.2100e-02, -4.0628e-02,  1.0611e-01, -3.4723e-02, -1.5991e-02,\n",
              "                       -2.9475e-02,  4.4725e-02,  4.2649e-02, -6.5267e-02,  9.6382e-02,\n",
              "                        1.9493e-02,  3.6375e-04, -1.0737e-01, -1.1132e-02,  1.0502e-01,\n",
              "                        1.0898e-02, -6.3426e-02, -1.2245e-01,  1.0393e-01,  1.0833e-01,\n",
              "                       -6.8847e-02,  6.9344e-02,  1.0300e-01, -2.0485e-02, -5.7949e-02,\n",
              "                       -1.2239e-01, -9.2540e-02, -9.9842e-02, -4.7299e-02,  4.4903e-02,\n",
              "                       -2.5223e-02, -5.2636e-02, -5.0049e-02, -3.0831e-02, -2.7805e-02,\n",
              "                       -1.0410e-01, -6.2524e-02, -7.6632e-02,  1.0117e-01,  2.3614e-02,\n",
              "                       -2.1801e-03,  4.4101e-02, -5.7734e-02,  1.5385e-02, -7.4444e-02,\n",
              "                        3.1286e-02, -3.7799e-02,  6.0055e-02,  1.7922e-02,  7.0140e-02,\n",
              "                        1.7300e-02, -1.1975e-01, -8.6691e-02, -1.0857e-01,  3.1880e-02,\n",
              "                       -3.5149e-02,  6.6755e-02, -7.0317e-02, -3.9122e-02, -5.5545e-02,\n",
              "                        9.8390e-02, -1.7396e-02,  1.2332e-01,  4.1756e-02],\n",
              "                      [-4.1506e-02,  3.5132e-03, -7.6596e-02,  2.0259e-02,  1.0650e-01,\n",
              "                       -6.5506e-03,  1.1266e-01, -1.4019e-02, -1.0072e-01, -1.7413e-02,\n",
              "                       -8.6040e-02, -8.5854e-02, -4.4710e-02,  4.1695e-02, -1.0595e-01,\n",
              "                        3.6584e-03,  1.6422e-02, -1.0269e-01,  3.5266e-02,  7.6207e-02,\n",
              "                       -5.5363e-02,  7.0876e-02,  4.1251e-02,  5.0710e-02, -7.9621e-02,\n",
              "                        4.7605e-02,  8.9526e-04,  5.6716e-03, -2.1278e-02,  8.7657e-02,\n",
              "                        7.6742e-02,  3.5831e-02, -4.3392e-02, -1.9366e-02,  5.2652e-02,\n",
              "                       -3.6282e-02,  5.4752e-02,  1.2703e-02,  8.0698e-02, -4.9291e-02,\n",
              "                        8.1493e-02, -7.6683e-02, -3.4976e-02,  3.1973e-02,  3.0078e-02,\n",
              "                       -9.0730e-02,  1.0064e-01,  2.2423e-02, -4.3973e-02,  6.9822e-02,\n",
              "                       -8.0567e-02,  1.9151e-02, -3.2213e-02, -1.3564e-02, -6.7676e-03,\n",
              "                       -7.8006e-02, -4.0884e-02, -8.1302e-02,  7.9438e-02, -4.9390e-02,\n",
              "                       -7.3301e-03,  7.4452e-02,  4.5005e-02,  1.1997e-01],\n",
              "                      [ 4.0539e-02,  9.3800e-04, -8.9199e-02, -2.7454e-02,  4.4992e-02,\n",
              "                        1.0813e-01, -6.3447e-02, -1.1642e-01,  8.1536e-02,  9.5873e-02,\n",
              "                       -1.1122e-01, -8.7218e-02, -1.0066e-01,  1.0626e-02,  9.1480e-02,\n",
              "                        1.1829e-01,  9.4260e-02, -5.6795e-02,  5.9389e-02, -3.0106e-02,\n",
              "                       -1.6284e-02,  9.7628e-02, -2.3156e-02, -8.6646e-02,  7.4928e-02,\n",
              "                       -1.1828e-01, -2.9865e-02, -8.6737e-02,  2.7548e-02,  1.2055e-01,\n",
              "                        1.1286e-02, -1.1131e-01, -3.7438e-02, -8.2141e-02, -4.0942e-02,\n",
              "                        9.3301e-02,  2.3234e-02,  8.6590e-02,  7.6733e-03,  1.2146e-04,\n",
              "                        9.3066e-02, -3.2549e-02,  5.8705e-02, -9.4740e-02,  9.1823e-02,\n",
              "                       -4.6454e-02, -8.2365e-02,  1.1907e-01,  4.3457e-02, -1.1423e-01,\n",
              "                        3.7819e-02,  4.7693e-02,  1.3760e-02, -2.8480e-02,  9.8694e-02,\n",
              "                       -7.1053e-02,  5.4219e-02, -1.8469e-02, -3.6429e-02, -8.6403e-02,\n",
              "                       -7.6320e-02, -2.6200e-02, -6.0805e-02, -6.4454e-02],\n",
              "                      [ 1.0414e-02, -1.0893e-01,  5.7327e-02, -7.8421e-02,  1.2367e-01,\n",
              "                       -9.7014e-02, -5.7939e-03, -1.0757e-01,  8.8860e-02, -1.2847e-02,\n",
              "                       -1.1044e-01,  3.1678e-02, -5.6651e-02, -2.3956e-02,  1.0079e-01,\n",
              "                       -1.4580e-02, -8.1960e-02, -1.6299e-04,  1.1959e-01,  8.1764e-02,\n",
              "                       -8.9239e-02, -4.0287e-02,  4.2754e-02,  7.8581e-02, -6.3678e-02,\n",
              "                        1.2133e-01, -4.0828e-02, -9.8394e-02,  4.7451e-02, -8.3660e-02,\n",
              "                       -9.6739e-02,  3.2921e-02,  3.9155e-03,  4.9954e-02, -2.4735e-02,\n",
              "                       -2.9504e-02,  1.1564e-01,  1.7762e-02,  1.9269e-02, -5.4883e-02,\n",
              "                       -1.2029e-01,  3.8883e-02, -6.8994e-02,  5.1016e-02,  5.7212e-02,\n",
              "                       -2.5637e-02, -9.5888e-02, -1.2123e-01,  1.0826e-01, -7.9737e-02,\n",
              "                        4.5835e-02,  5.5218e-02,  2.0244e-02,  1.0936e-01, -2.5153e-02,\n",
              "                        6.7538e-02, -8.6776e-02,  1.2071e-01,  1.9303e-02,  8.8828e-02,\n",
              "                       -8.8597e-02, -1.1564e-01, -1.3567e-02, -5.8036e-02],\n",
              "                      [ 9.9476e-02,  2.5959e-03,  6.3249e-02, -4.3722e-02, -3.2158e-02,\n",
              "                       -1.0272e-01, -4.4212e-04,  5.6305e-02,  1.5509e-02,  7.4085e-02,\n",
              "                       -1.0153e-01,  4.6536e-03,  3.8473e-02,  3.6764e-02,  3.6940e-02,\n",
              "                        8.8634e-02,  1.2283e-01, -6.6960e-02, -7.5784e-02, -6.1723e-02,\n",
              "                       -6.0546e-02, -1.1188e-01, -2.6294e-02,  7.7205e-02, -8.7010e-03,\n",
              "                        6.5855e-02,  2.2819e-03, -2.0588e-02,  1.2362e-01, -1.5533e-02,\n",
              "                       -3.8856e-02, -5.0839e-02, -4.9448e-02,  4.1356e-02, -5.0408e-02,\n",
              "                        5.9785e-02,  7.6802e-02,  4.8856e-02,  6.1448e-02, -8.9577e-02,\n",
              "                       -1.0539e-01,  3.8993e-02, -1.2367e-01, -6.0453e-02, -1.0388e-01,\n",
              "                        7.4153e-02,  1.0491e-02, -3.2507e-03,  4.4494e-02, -1.0665e-01,\n",
              "                        1.0194e-01, -9.2519e-02, -1.0377e-01, -9.2886e-02,  7.3084e-02,\n",
              "                        2.5992e-03, -3.6678e-02,  1.1999e-01,  6.8571e-02,  9.5897e-02,\n",
              "                        1.0098e-01,  6.4799e-02,  1.1870e-01,  1.1470e-01],\n",
              "                      [-6.8570e-02,  8.0539e-04, -1.0416e-01, -1.0276e-01,  7.7524e-02,\n",
              "                       -9.6358e-02, -1.0092e-01,  2.4280e-02,  4.4145e-03, -6.9411e-02,\n",
              "                        6.9350e-02, -3.4712e-02, -1.8500e-02, -9.9836e-02, -7.2364e-02,\n",
              "                       -5.6348e-02, -2.0017e-02,  1.2360e-01,  7.7586e-02, -9.8340e-03,\n",
              "                       -5.9198e-02,  9.4488e-02,  8.5933e-02,  2.4550e-03, -1.1760e-01,\n",
              "                       -9.5873e-02,  7.5803e-02,  8.2811e-02, -1.1576e-01, -5.2914e-02,\n",
              "                        5.4673e-02, -6.5055e-02, -7.3718e-02, -7.2799e-03,  1.0842e-01,\n",
              "                        6.5876e-02,  1.0178e-01, -7.8532e-02,  9.4694e-02, -1.0561e-01,\n",
              "                       -8.8763e-02,  7.9784e-03,  5.2004e-02,  7.9103e-02, -4.9635e-02,\n",
              "                       -7.6075e-02, -6.2397e-02, -6.9353e-02, -1.6041e-03,  8.7736e-02,\n",
              "                       -5.1622e-02,  6.5552e-02,  8.9534e-02,  5.5940e-02, -1.0275e-01,\n",
              "                       -6.7381e-03,  9.3135e-02, -1.1211e-01, -1.2560e-02, -1.1992e-01,\n",
              "                       -5.9864e-02, -1.1386e-02,  3.7298e-03,  9.6636e-02]], device='cuda:0')),\n",
              "             ('fc_layers.4.bias',\n",
              "              tensor([ 0.0861, -0.0838, -0.0774,  0.0227, -0.1221,  0.0056,  0.0769,  0.0244,\n",
              "                       0.0760, -0.1157], device='cuda:0'))])"
            ]
          },
          "metadata": {},
          "execution_count": 9
        }
      ]
    },
    {
      "cell_type": "code",
      "execution_count": 10,
      "metadata": {
        "id": "3w9QW9Lfp1aV",
        "colab": {
          "base_uri": "https://localhost:8080/"
        },
        "outputId": "71f27073-5335-409d-8834-2f94aa47197b"
      },
      "outputs": [
        {
          "output_type": "execute_result",
          "data": {
            "text/plain": [
              "LSTM_Model_label(\n",
              "  (lstm): LSTM(41, 64, num_layers=2, batch_first=True, dropout=0.5, bidirectional=True)\n",
              "  (fc_layers): Sequential(\n",
              "    (0): Linear(in_features=128, out_features=128, bias=True)\n",
              "    (1): Tanh()\n",
              "    (2): Linear(in_features=128, out_features=64, bias=True)\n",
              "    (3): Sigmoid()\n",
              "    (4): Linear(in_features=64, out_features=2, bias=True)\n",
              "  )\n",
              ")"
            ]
          },
          "metadata": {},
          "execution_count": 10
        }
      ],
      "source": [
        "my_model_label = LSTM_Model_label(num_classes_label, input_size, hidden_size, num_layers).to(device=device)\n",
        "my_model_label"
      ]
    },
    {
      "cell_type": "markdown",
      "metadata": {
        "id": "Cey1CId-jjis"
      },
      "source": [
        "# **optimizer and loss function**"
      ]
    },
    {
      "cell_type": "code",
      "execution_count": 11,
      "metadata": {
        "id": "WNuQFMAekNDH"
      },
      "outputs": [],
      "source": [
        "loss_fn1 = nn.CrossEntropyLoss().to(device=device)\n",
        "loss_fn2 = nn.CrossEntropyLoss().to(device=device)\n",
        "optimizer1 = opt.Adam(params=my_model_attack.parameters(),lr=learning_rate)\n",
        "optimizer2 = opt.Adam(params=my_model_label.parameters(),lr=learning_rate)"
      ]
    },
    {
      "cell_type": "markdown",
      "metadata": {
        "id": "4JYcovfYlpHM"
      },
      "source": [
        "# **train attack cat**"
      ]
    },
    {
      "cell_type": "code",
      "execution_count": 12,
      "metadata": {
        "id": "Qmw8w1eTkeBu",
        "colab": {
          "base_uri": "https://localhost:8080/"
        },
        "outputId": "3a3177ac-6c9b-42ac-f9d7-f203628e1246"
      },
      "outputs": [
        {
          "output_type": "stream",
          "name": "stdout",
          "text": [
            "Epoch: 0, loss: 0.7523\n",
            "Epoch: 50, loss: 0.4438\n",
            "Epoch: 100, loss: 0.4424\n",
            "Epoch: 150, loss: 0.4135\n",
            "Epoch: 200, loss: 0.4593\n",
            "Epoch: 250, loss: 0.4020\n",
            "Epoch: 300, loss: 0.5469\n",
            "Epoch: 350, loss: 0.3267\n",
            "Epoch: 400, loss: 0.4108\n",
            "Epoch: 450, loss: 0.4140\n",
            "Epoch: 500, loss: 0.4132\n"
          ]
        }
      ],
      "source": [
        "for epoch in range(num_epoch+1):\n",
        "\n",
        "    for batch_x, batch_y in train_attack_cat_dataloader:\n",
        "\n",
        "        batch_x = torch.reshape(batch_x, (batch_x.shape[0], 1, batch_x.shape[1])) #RuntimeError: For unbatched 2-D input, hx and cx should also be 2-D but got (3-D, 3-D) tensors\n",
        "        \n",
        "        batch_x = batch_x.to(device)\n",
        "        batch_y = batch_y.to(device)\n",
        "\n",
        "        optimizer1.zero_grad()\n",
        "        loss1 = loss_fn1(my_model_attack(batch_x) , batch_y)\n",
        "        loss1.backward() \n",
        "        optimizer1.step()\n",
        "\n",
        "    if epoch % 50 == 0:\n",
        "         print(\"Epoch: %d, loss: %.4f\" % (epoch, loss1.item())) "
      ]
    },
    {
      "cell_type": "markdown",
      "metadata": {
        "id": "PQaRCMJPls5N"
      },
      "source": [
        "# **test attack cat**"
      ]
    },
    {
      "cell_type": "code",
      "execution_count": 13,
      "metadata": {
        "id": "QrtYzVT4loMQ",
        "colab": {
          "base_uri": "https://localhost:8080/"
        },
        "outputId": "e4cc5065-e276-4c6f-93b3-464d449e79d5"
      },
      "outputs": [
        {
          "output_type": "stream",
          "name": "stdout",
          "text": [
            "acc : 82.22%\n"
          ]
        }
      ],
      "source": [
        "correct = 0\n",
        "\n",
        "for batch_x, labl in test_attack_cat_dataloader:\n",
        "  \n",
        "    batch_x = torch.reshape(batch_x, (batch_x.shape[0], 1, batch_x.shape[1])) #RuntimeError: For unbatched 2-D input, hx and cx should also be 2-D but got (3-D, 3-D) tensors\n",
        "  \n",
        "    batch_x = batch_x.to(device)\n",
        "    labl = labl.to(device)\n",
        "\n",
        "    out = my_model_attack(batch_x)\n",
        "    _,predicted = torch.max(out,1)\n",
        "    correct += torch.sum(predicted == labl)\n",
        "\n",
        "print(\"acc : %.2f\" % (100.*correct / len(test_attack_cat)),end=\"\")\n",
        "print(\"%\")"
      ]
    },
    {
      "cell_type": "markdown",
      "metadata": {
        "id": "pLqOLtA6tQht"
      },
      "source": [
        "# **train label**"
      ]
    },
    {
      "cell_type": "code",
      "execution_count": 14,
      "metadata": {
        "id": "Xm1cu1GhtMJO",
        "colab": {
          "base_uri": "https://localhost:8080/"
        },
        "outputId": "0f947007-1011-4330-affe-df6069b06ebf"
      },
      "outputs": [
        {
          "output_type": "stream",
          "name": "stdout",
          "text": [
            "Epoch: 0, loss: 0.1699\n",
            "Epoch: 50, loss: 0.1145\n",
            "Epoch: 100, loss: 0.0956\n",
            "Epoch: 150, loss: 0.1262\n",
            "Epoch: 200, loss: 0.1091\n",
            "Epoch: 250, loss: 0.1326\n",
            "Epoch: 300, loss: 0.0939\n",
            "Epoch: 350, loss: 0.0876\n",
            "Epoch: 400, loss: 0.1109\n",
            "Epoch: 450, loss: 0.0814\n",
            "Epoch: 500, loss: 0.0839\n"
          ]
        }
      ],
      "source": [
        "for epoch in range(num_epoch+1):\n",
        "\n",
        "    for batch_x, batch_y in train_label_dataloader:\n",
        "\n",
        "        batch_x = torch.reshape(batch_x, (batch_x.shape[0], 1, batch_x.shape[1])) #RuntimeError: For unbatched 2-D input, hx and cx should also be 2-D but got (3-D, 3-D) tensors\n",
        "        \n",
        "        batch_x = batch_x.to(device)\n",
        "        batch_y = batch_y.to(device)\n",
        "\n",
        "        optimizer2.zero_grad()\n",
        "        loss2 = loss_fn2(my_model_label(batch_x) , batch_y)\n",
        "        loss2.backward() \n",
        "        optimizer2.step()\n",
        "\n",
        "    if epoch % 50 == 0:\n",
        "         print(\"Epoch: %d, loss: %.4f\" % (epoch, loss2.item())) "
      ]
    },
    {
      "cell_type": "markdown",
      "metadata": {
        "id": "Ig7VBqU0tfZd"
      },
      "source": [
        "# **test label**"
      ]
    },
    {
      "cell_type": "code",
      "execution_count": 15,
      "metadata": {
        "id": "a7u2bQ0WtiG2",
        "colab": {
          "base_uri": "https://localhost:8080/"
        },
        "outputId": "18902601-4879-449e-b873-a53e04241c7a"
      },
      "outputs": [
        {
          "output_type": "stream",
          "name": "stdout",
          "text": [
            "acc : 93.82%\n"
          ]
        }
      ],
      "source": [
        "correct = 0\n",
        "\n",
        "for batch_x, labl in test_label_dataloader:\n",
        "\n",
        "    batch_x = torch.reshape(batch_x, (batch_x.shape[0], 1, batch_x.shape[1])) #RuntimeError: For unbatched 2-D input, hx and cx should also be 2-D but got (3-D, 3-D) tensors\n",
        "\n",
        "    batch_x = batch_x.to(device)\n",
        "    labl = labl.to(device)\n",
        "  \n",
        "    out = my_model_label(batch_x)\n",
        "    _,predicted = torch.max(out,1)\n",
        "    correct += torch.sum(predicted == labl)\n",
        "\n",
        "print(\"acc : %.2f\" % (100.*correct / len(test_label)),end=\"\")\n",
        "print(\"%\")"
      ]
    }
  ],
  "metadata": {
    "accelerator": "GPU",
    "colab": {
      "collapsed_sections": [],
      "provenance": []
    },
    "gpuClass": "standard",
    "kernelspec": {
      "display_name": "Python 3",
      "name": "python3"
    },
    "language_info": {
      "name": "python"
    }
  },
  "nbformat": 4,
  "nbformat_minor": 0
}