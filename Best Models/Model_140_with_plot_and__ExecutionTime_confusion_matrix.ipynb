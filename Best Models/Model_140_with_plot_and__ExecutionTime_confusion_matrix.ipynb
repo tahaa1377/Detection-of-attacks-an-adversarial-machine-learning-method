{
  "cells": [
    {
      "cell_type": "code",
      "execution_count": 1,
      "metadata": {
        "id": "Ff1b4PxtBQuc"
      },
      "outputs": [],
      "source": [
        "num_epoch = 500      \n",
        "learning_rate = 0.002\n",
        "batch_size = 2000\n",
        "\n",
        "hidden_size = 64 #number of features in hidden state\n",
        "num_layers = 2  #number of stacked lstm layers\n",
        "bidirectional = True\n",
        "drop_out = 0.5\n",
        "bidirectional_forward_backward = 2 if bidirectional else 1\n",
        "\n",
        "input_size = 41 #number of features\n",
        "num_classes_attack_cat = 10 #number of output classes \n",
        "num_classes_label = 2       #number of output classes \n",
        "\n",
        "hyper_parameter1=128\n",
        "hyper_parameter2=64\n",
        "hyper_parameter3=32"
      ]
    },
    {
      "cell_type": "code",
      "source": [
        "from google.colab import drive\n",
        "drive.mount('/content/drive')"
      ],
      "metadata": {
        "id": "0Gua0hky6SDJ",
        "colab": {
          "base_uri": "https://localhost:8080/"
        },
        "outputId": "c0c99f3a-12ac-4084-c686-30bff184bc0e"
      },
      "execution_count": 2,
      "outputs": [
        {
          "output_type": "stream",
          "name": "stdout",
          "text": [
            "Mounted at /content/drive\n"
          ]
        }
      ]
    },
    {
      "cell_type": "code",
      "execution_count": 3,
      "metadata": {
        "id": "hZiaj4uT24DH",
        "colab": {
          "base_uri": "https://localhost:8080/"
        },
        "outputId": "85e7c7d8-b3c4-4116-d78c-e668aed02655"
      },
      "outputs": [
        {
          "output_type": "stream",
          "name": "stdout",
          "text": [
            "GPU\n"
          ]
        }
      ],
      "source": [
        "import pandas as pd\n",
        "from matplotlib import pyplot as plt\n",
        "import numpy as np\n",
        "from torch.utils.data.dataset import Dataset\n",
        "from torch.utils.data import random_split, DataLoader\n",
        "import torch\n",
        "from sklearn.preprocessing import LabelEncoder\n",
        "from sklearn import preprocessing\n",
        "import torch.nn as nn\n",
        "import torch.nn.functional as F\n",
        "import torch.optim as opt\n",
        "from torch.autograd import Variable \n",
        "\n",
        "# GPU OR CPU\n",
        "if torch.cuda.is_available():\n",
        "    device = torch.device(\"cuda:0\")\n",
        "    print(\"GPU\")\n",
        "else:\n",
        "    device = torch.device(\"cpu\")\n",
        "    print(\"CPU\")"
      ]
    },
    {
      "cell_type": "code",
      "execution_count": 4,
      "metadata": {
        "id": "Sv-R_m6Z1EL5"
      },
      "outputs": [],
      "source": [
        "class DataSet_UNSWNB15_attack_cat(Dataset):\n",
        "\n",
        "    def __init__(self,data_set_path):\n",
        "        df = pd.read_csv(data_set_path)\n",
        "        print(df.attack_cat.value_counts().sort_values().plot(kind = \"barh\"))\n",
        "        print(df['attack_cat'].value_counts())\n",
        "        \n",
        "        # preprocceing\n",
        "        df.drop(['id',\"Unnamed: 0\",\"service\",\"label\"], axis=1, inplace=True)        \n",
        "        cols = ['attack_cat' ,'proto' ,'state']\n",
        "        df[cols] = df[cols].apply(LabelEncoder().fit_transform)\n",
        "        print(df['attack_cat'].value_counts())\n",
        "\n",
        "        self.data_array = df.values\n",
        "        self.x = self.data_array[:, :41]\n",
        "        self.y = self.data_array[:, 41]\n",
        "      \n",
        "        # normalaized data\n",
        "        scaler = preprocessing.StandardScaler().fit(self.x)\n",
        "        self.x = scaler.transform(self.x)\n",
        "\n",
        "        self.x = torch.tensor(self.x).float()\n",
        "        self.y = torch.tensor(self.y).long()\n",
        "\n",
        "    def __len__(self):\n",
        "        return len(self.data_array)\n",
        "\n",
        "    def __getitem__(self, item):\n",
        "        sample = (self.x[item, :], self.y[item])\n",
        "        return sample\n",
        "\n",
        "        \n",
        "class DataSet_UNSWNB15_label(Dataset):\n",
        "\n",
        "    def __init__(self,data_set_path):\n",
        "        df = pd.read_csv(data_set_path)\n",
        "        print(df.label.value_counts().sort_values().plot(kind = \"pie\"))\n",
        "\n",
        "        # preprocceing\n",
        "        df.drop(['id',\"Unnamed: 0\",\"service\",\"attack_cat\"], axis=1, inplace=True)\n",
        "        cols = ['proto' ,'state']\n",
        "        df[cols] = df[cols].apply(LabelEncoder().fit_transform)\n",
        "\n",
        "        self.data_array = df.values\n",
        "        self.x = self.data_array[:, :41]\n",
        "        self.y = self.data_array[:, 41]\n",
        "        \n",
        "        # normalaized data\n",
        "        scaler = preprocessing.StandardScaler().fit(self.x)\n",
        "        self.x = scaler.transform(self.x)\n",
        "\n",
        "        self.x = torch.tensor(self.x).float()\n",
        "        self.y = torch.tensor(self.y).long()\n",
        "\n",
        "    def __len__(self):\n",
        "        return len(self.data_array)\n",
        "\n",
        "    def __getitem__(self, item):\n",
        "        sample = (self.x[item, :], self.y[item])\n",
        "        return sample"
      ]
    },
    {
      "cell_type": "code",
      "execution_count": 5,
      "metadata": {
        "id": "UykLrbQZ1R7K",
        "colab": {
          "base_uri": "https://localhost:8080/",
          "height": 689
        },
        "outputId": "0ab1fff6-5f33-4e9a-ca22-45d439e5a08a"
      },
      "outputs": [
        {
          "output_type": "stream",
          "name": "stdout",
          "text": [
            "AxesSubplot(0.125,0.125;0.775x0.755)\n",
            "Normal            93000\n",
            "Generic           58871\n",
            "Exploits          44525\n",
            "Fuzzers           24246\n",
            "DoS               16353\n",
            "Reconnaissance    13987\n",
            "Analysis           2677\n",
            "Backdoor           2329\n",
            "Shellcode          1511\n",
            "Worms               174\n",
            "Name: attack_cat, dtype: int64\n",
            "6    93000\n",
            "5    58871\n",
            "3    44525\n",
            "4    24246\n",
            "2    16353\n",
            "7    13987\n",
            "0     2677\n",
            "1     2329\n",
            "8     1511\n",
            "9      174\n",
            "Name: attack_cat, dtype: int64\n"
          ]
        },
        {
          "output_type": "display_data",
          "data": {
            "text/plain": [
              "<Figure size 432x288 with 1 Axes>"
            ],
            "image/png": "[encoded data removed]"
          },
          "metadata": {
            "needs_background": "light"
          }
        }
      ],
      "source": [
        "dataset_attack_cat = DataSet_UNSWNB15_attack_cat(\"/content/drive/MyDrive/datasets/UNSW-NB15/UNSW_NB15.csv\")\n",
        "number_of_test = int(len(dataset_attack_cat)*0.3)\n",
        "number_of_train = len(dataset_attack_cat) - int(len(dataset_attack_cat)*0.3)\n",
        "train_attack_cat ,test_attack_cat = random_split(dataset=dataset_attack_cat, lengths=[number_of_train,number_of_test])\n",
        "\n",
        "train_attack_cat_dataloader = DataLoader(dataset=train_attack_cat ,batch_size=batch_size ,shuffle=True)\n",
        "test_attack_cat_dataloader = DataLoader(dataset=test_attack_cat ,batch_size=batch_size ,shuffle=True)"
      ]
    },
    {
      "cell_type": "code",
      "execution_count": 6,
      "metadata": {
        "id": "LmFY9Q-u29T3",
        "colab": {
          "base_uri": "https://localhost:8080/",
          "height": 266
        },
        "outputId": "75352e75-a337-4d87-f7db-6691a698fd6a"
      },
      "outputs": [
        {
          "output_type": "stream",
          "name": "stdout",
          "text": [
            "AxesSubplot(0.260833,0.125;0.503333x0.755)\n"
          ]
        },
        {
          "output_type": "display_data",
          "data": {
            "text/plain": [
              "<Figure size 432x288 with 1 Axes>"
            ],
            "image/png": "[encoded data removed]"
          },
          "metadata": {}
        }
      ],
      "source": [
        "dataset_label = DataSet_UNSWNB15_label(\"/content/drive/MyDrive/datasets/UNSW-NB15/UNSW_NB15.csv\")\n",
        "number_of_test = int(len(dataset_label)*0.3)\n",
        "number_of_train = len(dataset_label) - int(len(dataset_label)*0.3)\n",
        "train_label ,test_label = random_split(dataset=dataset_label, lengths=[number_of_train,number_of_test])\n",
        "\n",
        "train_label_dataloader = DataLoader(dataset=train_label ,batch_size=batch_size ,shuffle=True)\n",
        "test_label_dataloader = DataLoader(dataset=test_label ,batch_size=batch_size ,shuffle=True)"
      ]
    },
    {
      "cell_type": "markdown",
      "metadata": {
        "id": "0HslPLv2IOGd"
      },
      "source": [
        "# **preprocessing ended**\n",
        "\n",
        "# **create model**"
      ]
    },
    {
      "cell_type": "markdown",
      "source": [
        "![bilstm-1.webp](data:image/webp;base64,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)"
      ],
      "metadata": {
        "id": "F2hNvBs6qBQS"
      }
    },
    {
      "cell_type": "code",
      "execution_count": 7,
      "metadata": {
        "id": "oN6DuQbJibuE"
      },
      "outputs": [],
      "source": [
        "class LSTM_Model_attack(nn.Module):\n",
        "    def __init__(self, num_classes, input_size, hidden_size, num_layers):\n",
        "        super(LSTM_Model_attack, self).__init__()\n",
        "        self.num_classes = num_classes #number of classes\n",
        "        self.num_layers = num_layers #number of layers\n",
        "        self.input_size = input_size #input size\n",
        "        self.hidden_size = hidden_size #hidden state\n",
        "\n",
        "        self.lstm = nn.LSTM(input_size=input_size, hidden_size=hidden_size, num_layers=num_layers, batch_first=True,\n",
        "                            bidirectional=bidirectional, dropout=drop_out) #lstm\n",
        "\n",
        "        self.fc_layers = nn.Sequential(\n",
        "        nn.Linear(hidden_size * bidirectional_forward_backward, hyper_parameter1),\n",
        "        nn.Tanh(),\n",
        "        nn.Linear(hyper_parameter1, hyper_parameter2),\n",
        "        nn.ReLU(),\n",
        "        nn.Linear(hyper_parameter2, hyper_parameter3),\n",
        "        nn.Sigmoid(),\n",
        "        nn.Linear(hyper_parameter3, num_classes)\n",
        "        )\n",
        "    \n",
        "    def forward(self,x):\n",
        "                                                # 2 => forward and backward for bidirectional\n",
        "        h_0 = Variable(torch.zeros(self.num_layers * bidirectional_forward_backward, x.size(0), self.hidden_size)).to(device=device) #hidden state\n",
        "        c_0 = Variable(torch.zeros(self.num_layers * bidirectional_forward_backward, x.size(0), self.hidden_size)).to(device=device) #internal state\n",
        "\n",
        "        out, (hn, cn) = self.lstm(x, (h_0, c_0))\n",
        "        out = self.fc_layers(out[:, -1, :]) \n",
        "        return out\n",
        "\n",
        "\n",
        "class LSTM_Model_label(nn.Module):\n",
        "    def __init__(self, num_classes, input_size, hidden_size, num_layers):\n",
        "        super(LSTM_Model_label, self).__init__()\n",
        "        self.num_classes = num_classes #number of classes\n",
        "        self.num_layers = num_layers #number of layers\n",
        "        self.input_size = input_size #input size\n",
        "        self.hidden_size = hidden_size #hidden state\n",
        "\n",
        "        self.lstm = nn.LSTM(input_size=input_size, hidden_size=hidden_size, num_layers=num_layers, batch_first=True, \n",
        "                            bidirectional=bidirectional, dropout=drop_out) #lstm\n",
        "\n",
        "        self.fc_layers = nn.Sequential(\n",
        "        nn.Linear(hidden_size * bidirectional_forward_backward, hyper_parameter1),\n",
        "        nn.Tanh(),\n",
        "        nn.Linear(hyper_parameter1, hyper_parameter2),\n",
        "        nn.ReLU(),\n",
        "        nn.Linear(hyper_parameter2, hyper_parameter3),\n",
        "        nn.Sigmoid(),\n",
        "        nn.Linear(hyper_parameter3, num_classes)\n",
        "        )\n",
        "    \n",
        "    def forward(self,x):\n",
        "        h_0 = Variable(torch.zeros(self.num_layers * bidirectional_forward_backward, x.size(0), self.hidden_size)).to(device=device) #hidden state\n",
        "        c_0 = Variable(torch.zeros(self.num_layers * bidirectional_forward_backward, x.size(0), self.hidden_size)).to(device=device) #internal state\n",
        "\n",
        "        out, (hn, cn) = self.lstm(x, (h_0, c_0))\n",
        "        out = self.fc_layers(out[:, -1, :]) \n",
        "        return out\n"
      ]
    },
    {
      "cell_type": "code",
      "execution_count": 8,
      "metadata": {
        "id": "US8JfNI8j3zO",
        "colab": {
          "base_uri": "https://localhost:8080/"
        },
        "outputId": "5d482e2f-324b-4ce4-da79-ef63f7967f02"
      },
      "outputs": [
        {
          "output_type": "execute_result",
          "data": {
            "text/plain": [
              "LSTM_Model_attack(\n",
              "  (lstm): LSTM(41, 64, num_layers=2, batch_first=True, dropout=0.5, bidirectional=True)\n",
              "  (fc_layers): Sequential(\n",
              "    (0): Linear(in_features=128, out_features=128, bias=True)\n",
              "    (1): Tanh()\n",
              "    (2): Linear(in_features=128, out_features=64, bias=True)\n",
              "    (3): ReLU()\n",
              "    (4): Linear(in_features=64, out_features=32, bias=True)\n",
              "    (5): Sigmoid()\n",
              "    (6): Linear(in_features=32, out_features=10, bias=True)\n",
              "  )\n",
              ")"
            ]
          },
          "metadata": {},
          "execution_count": 8
        }
      ],
      "source": [
        "my_model_attack = LSTM_Model_attack(num_classes_attack_cat, input_size, hidden_size, num_layers).to(device=device)\n",
        "my_model_attack"
      ]
    },
    {
      "cell_type": "code",
      "source": [
        "my_model_attack.state_dict()"
      ],
      "metadata": {
        "id": "Dq8JkQZ9ukCs",
        "colab": {
          "base_uri": "https://localhost:8080/"
        },
        "outputId": "df5ccafc-035f-455c-e075-f5e781043261"
      },
      "execution_count": 9,
      "outputs": [
        {
          "output_type": "execute_result",
          "data": {
            "text/plain": [
              "OrderedDict([('lstm.weight_ih_l0',\n",
              "              tensor([[ 0.0101, -0.0386,  0.1107,  ..., -0.0650,  0.1042,  0.1206],\n",
              "                      [-0.0697, -0.0330,  0.0249,  ..., -0.0615,  0.0844, -0.0690],\n",
              "                      [-0.0809,  0.0866, -0.0473,  ..., -0.0499,  0.0524,  0.1150],\n",
              "                      ...,\n",
              "                      [ 0.0508, -0.1184,  0.0912,  ...,  0.1048,  0.0589, -0.1081],\n",
              "                      [-0.0229,  0.0830,  0.0712,  ...,  0.0767, -0.0442,  0.1228],\n",
              "                      [ 0.0298,  0.0999, -0.0127,  ..., -0.0557,  0.0858,  0.0051]],\n",
              "                     device='cuda:0')),\n",
              "             ('lstm.weight_hh_l0',\n",
              "              tensor([[-0.1132, -0.0903, -0.0605,  ...,  0.0061, -0.0738,  0.0341],\n",
              "                      [-0.0202, -0.0694, -0.0086,  ..., -0.1247,  0.0877, -0.0305],\n",
              "                      [ 0.0108, -0.0083, -0.0926,  ...,  0.0675,  0.0062,  0.1135],\n",
              "                      ...,\n",
              "                      [ 0.0063,  0.1119, -0.1018,  ...,  0.0740,  0.0889, -0.0671],\n",
              "                      [ 0.0564,  0.0971, -0.0169,  ..., -0.0640, -0.0639, -0.1113],\n",
              "                      [ 0.0866, -0.0448, -0.0720,  ..., -0.1228,  0.0171, -0.1125]],\n",
              "                     device='cuda:0')),\n",
              "             ('lstm.bias_ih_l0',\n",
              "              tensor([ 9.7323e-02,  1.0865e-01,  4.0515e-02, -2.5980e-02, -7.1755e-02,\n",
              "                      -2.5071e-02, -4.1168e-02, -4.3855e-02, -4.0721e-02,  2.0426e-02,\n",
              "                      -1.3312e-02, -1.1522e-02,  6.2513e-03, -3.8868e-02, -2.4507e-02,\n",
              "                       7.0867e-02, -1.3815e-02,  8.9302e-02, -1.2455e-01,  7.5756e-02,\n",
              "                      -4.6657e-02, -3.3600e-02,  1.7536e-02,  1.0528e-01,  7.9706e-02,\n",
              "                      -1.6427e-02, -5.3723e-02,  7.9083e-02, -5.9523e-02, -3.5392e-02,\n",
              "                      -2.5111e-02,  5.4198e-02, -3.1958e-02,  4.1052e-02, -7.3784e-02,\n",
              "                      -2.5862e-02, -5.4134e-02,  1.0378e-01, -8.2197e-02,  3.3635e-02,\n",
              "                      -7.5890e-03, -4.1081e-02,  8.8087e-02, -1.6104e-02,  8.9755e-02,\n",
              "                       2.6348e-02, -8.1124e-02, -7.2987e-02,  1.0764e-01,  1.0263e-01,\n",
              "                       9.7437e-02,  2.5154e-02,  1.0512e-01, -1.0402e-02, -1.0095e-01,\n",
              "                      -7.3229e-03,  1.1843e-01,  9.9026e-02, -1.3041e-04,  1.2362e-01,\n",
              "                       8.6777e-02, -6.5890e-02, -6.9234e-02, -5.6433e-02,  8.7631e-02,\n",
              "                       5.8840e-02,  9.9516e-02,  8.0601e-02, -4.9335e-02,  1.1751e-01,\n",
              "                      -2.3161e-02, -6.0797e-02,  6.0175e-03, -9.5183e-02, -4.5305e-02,\n",
              "                       8.1210e-02, -4.4533e-02, -6.9122e-02, -8.0144e-02, -3.2073e-03,\n",
              "                       7.0995e-02, -2.0988e-02, -5.6585e-02,  1.0719e-01, -9.5280e-02,\n",
              "                      -1.2136e-01,  4.9413e-02,  2.8255e-02,  1.2832e-02, -9.3069e-02,\n",
              "                       1.1404e-01,  2.3894e-02, -8.9657e-03, -6.9107e-02, -2.0510e-03,\n",
              "                       8.2992e-02, -7.7827e-02, -1.0709e-01, -3.2982e-02, -2.4942e-02,\n",
              "                       8.9274e-02, -9.5837e-02, -3.7330e-02, -4.8512e-02, -6.2321e-02,\n",
              "                       7.3678e-02,  9.6506e-02,  6.7491e-02,  7.3504e-02,  6.5803e-02,\n",
              "                      -4.0139e-02, -3.5797e-02,  9.4109e-02, -2.3202e-02, -1.2271e-01,\n",
              "                       4.8591e-02,  8.5785e-02, -1.1265e-01,  7.7662e-02, -2.6821e-02,\n",
              "                      -2.4816e-03, -2.9649e-02, -7.4547e-02, -9.9950e-03,  1.0386e-01,\n",
              "                       1.1199e-01, -1.1232e-01, -2.9768e-02,  4.2218e-02, -1.0546e-01,\n",
              "                       6.8869e-02, -1.3548e-02,  4.5305e-02, -9.3473e-02, -1.1518e-02,\n",
              "                       6.8172e-02, -2.5742e-02, -7.6420e-02,  4.0626e-02,  1.0275e-01,\n",
              "                      -1.1577e-01, -3.0337e-02, -1.0514e-01, -1.1123e-01, -9.7213e-02,\n",
              "                      -8.9006e-02, -8.6735e-02, -8.4520e-02, -1.1796e-01, -9.5315e-03,\n",
              "                       9.9209e-02, -9.9734e-02, -3.5208e-02, -1.2369e-01, -3.5925e-02,\n",
              "                       4.3331e-02, -2.6640e-02, -1.1106e-01, -4.6441e-02, -1.5167e-03,\n",
              "                       4.0526e-02,  8.4271e-02, -4.3225e-04,  3.7499e-02, -4.2237e-02,\n",
              "                       4.2689e-02, -1.3935e-02, -7.0135e-02,  7.4072e-02,  3.7350e-02,\n",
              "                      -5.8674e-02,  1.1245e-01, -3.2842e-02,  5.4059e-02, -8.8416e-02,\n",
              "                      -5.4422e-03,  5.9316e-02,  9.1551e-02,  4.0895e-02, -8.3120e-02,\n",
              "                       1.0019e-01,  5.4707e-02, -4.9901e-02,  1.6018e-02,  6.5429e-02,\n",
              "                       1.1373e-01,  2.9422e-02,  1.8935e-02, -1.1137e-01,  5.3006e-02,\n",
              "                       1.5952e-02,  4.0996e-02, -7.4751e-02,  7.3415e-02,  3.2655e-02,\n",
              "                      -2.4212e-02, -4.0646e-02,  5.8511e-02,  2.1838e-03, -5.6117e-02,\n",
              "                       3.9079e-02, -1.3774e-02, -6.1153e-02, -6.6726e-02, -4.8376e-03,\n",
              "                       6.6823e-02,  8.4667e-02, -8.0549e-02,  6.5735e-02,  1.8150e-02,\n",
              "                       2.5140e-02,  1.0693e-01,  1.0827e-01,  6.1648e-02, -1.0611e-01,\n",
              "                      -7.9608e-02, -4.2856e-02, -5.2691e-02,  6.4009e-02,  2.5356e-02,\n",
              "                       1.5860e-02,  6.7256e-02,  8.4032e-03,  1.0159e-01,  5.0496e-03,\n",
              "                       7.5147e-02, -3.5598e-02, -8.6425e-02, -5.4498e-02, -7.4878e-02,\n",
              "                      -1.4577e-02, -4.2011e-02,  8.8753e-03,  2.5682e-02,  1.9826e-02,\n",
              "                       8.0913e-06,  1.1870e-01, -7.1300e-02, -9.0443e-02, -4.7227e-02,\n",
              "                       1.3477e-02, -1.1878e-01, -2.0590e-02,  1.1149e-01,  1.2282e-01,\n",
              "                       4.2875e-02,  2.3033e-02,  3.8476e-02,  9.2411e-02,  4.7464e-02,\n",
              "                       8.5554e-02, -3.6832e-02,  5.4127e-02, -3.9329e-02, -4.2524e-03,\n",
              "                       8.3099e-02], device='cuda:0')),\n",
              "             ('lstm.bias_hh_l0',\n",
              "              tensor([ 0.0534,  0.1185,  0.0127, -0.1028,  0.0993, -0.0935,  0.1071,  0.1244,\n",
              "                      -0.0650, -0.0992, -0.0894,  0.0555, -0.0443, -0.0480,  0.0908, -0.0035,\n",
              "                      -0.0857,  0.0727, -0.0179, -0.0625,  0.0144, -0.0075, -0.0664,  0.1066,\n",
              "                      -0.0683, -0.0559, -0.1231,  0.1012,  0.0347, -0.0647, -0.1051,  0.0024,\n",
              "                       0.0811,  0.0728,  0.1035,  0.0509, -0.0002,  0.0478, -0.1007, -0.0394,\n",
              "                       0.0750,  0.0324, -0.0937,  0.1211, -0.0186, -0.0158,  0.0887,  0.0268,\n",
              "                       0.0889, -0.0798,  0.0957,  0.0846,  0.0755,  0.0446,  0.0157, -0.0908,\n",
              "                       0.0819, -0.0792, -0.1000,  0.0570, -0.0078, -0.0386,  0.0853,  0.0594,\n",
              "                       0.0781, -0.0693,  0.0631,  0.0910, -0.1113,  0.0172, -0.0215, -0.0206,\n",
              "                      -0.0589,  0.0990, -0.0384,  0.0790,  0.0172,  0.0503, -0.0549, -0.1106,\n",
              "                      -0.1183,  0.0052,  0.0437, -0.1132,  0.1046, -0.0874, -0.1211,  0.0684,\n",
              "                       0.0313, -0.0689, -0.0908,  0.0764,  0.1037,  0.0587,  0.0975, -0.0224,\n",
              "                      -0.1057,  0.0679,  0.0424,  0.0413, -0.0773,  0.0694, -0.0041, -0.0183,\n",
              "                      -0.1201, -0.0491, -0.0158,  0.0019, -0.0552, -0.0875, -0.0543, -0.0271,\n",
              "                      -0.0693,  0.1142, -0.0370, -0.1012,  0.0380,  0.1008,  0.0399,  0.1191,\n",
              "                      -0.0141,  0.0889, -0.0134,  0.0783, -0.0777, -0.0691, -0.1201,  0.0690,\n",
              "                      -0.1069, -0.0703,  0.0230, -0.0949, -0.0932,  0.0718,  0.0735, -0.0519,\n",
              "                       0.1135,  0.0791,  0.0121, -0.0401, -0.1176, -0.0637, -0.0299,  0.1139,\n",
              "                      -0.1227, -0.0637,  0.0212,  0.1067, -0.0672,  0.1094,  0.1110, -0.0066,\n",
              "                      -0.0691, -0.1168,  0.0847, -0.1240, -0.0433, -0.0068, -0.0868,  0.0879,\n",
              "                       0.0272,  0.0954, -0.1242, -0.0190,  0.1182, -0.0104,  0.0402,  0.1154,\n",
              "                       0.0707,  0.1229,  0.0027, -0.1058,  0.0860,  0.0165,  0.0680,  0.0797,\n",
              "                       0.0202, -0.0529, -0.0147,  0.0860,  0.0902, -0.0063, -0.0136,  0.0569,\n",
              "                       0.0675,  0.0578, -0.0235, -0.0348, -0.0930,  0.0381, -0.0780, -0.0006,\n",
              "                      -0.0104,  0.0205, -0.0750,  0.0503, -0.0736, -0.0911, -0.0374,  0.0468,\n",
              "                      -0.0470, -0.1019, -0.1034,  0.0430, -0.0943,  0.0516, -0.0105, -0.1167,\n",
              "                       0.1038,  0.0855,  0.0442, -0.0021, -0.0563,  0.0905, -0.0559,  0.0562,\n",
              "                       0.0505, -0.0385,  0.0867, -0.1065,  0.0106, -0.0409,  0.0205, -0.1065,\n",
              "                      -0.0733, -0.0454,  0.0366, -0.0150,  0.0071,  0.0389, -0.0016, -0.0582,\n",
              "                       0.0735,  0.0027,  0.0288, -0.0304, -0.0024,  0.0381,  0.0831, -0.0794,\n",
              "                       0.0593, -0.0127,  0.0270, -0.0012, -0.0133,  0.1152, -0.0209,  0.1185,\n",
              "                       0.0855,  0.0624,  0.0924,  0.0456, -0.0181, -0.0600, -0.0561,  0.1225],\n",
              "                     device='cuda:0')),\n",
              "             ('lstm.weight_ih_l0_reverse',\n",
              "              tensor([[ 0.0725,  0.1033, -0.0458,  ..., -0.0235, -0.0101, -0.0575],\n",
              "                      [ 0.0410, -0.1068, -0.1025,  ...,  0.0100, -0.1085, -0.0404],\n",
              "                      [ 0.0097, -0.0643,  0.1168,  ...,  0.0910,  0.0070, -0.0544],\n",
              "                      ...,\n",
              "                      [ 0.0425,  0.0379, -0.0424,  ...,  0.0120,  0.0695, -0.0777],\n",
              "                      [ 0.1027, -0.0184,  0.0499,  ...,  0.1169,  0.1119,  0.1180],\n",
              "                      [ 0.0961,  0.0744, -0.0518,  ...,  0.0628,  0.1151, -0.0684]],\n",
              "                     device='cuda:0')),\n",
              "             ('lstm.weight_hh_l0_reverse',\n",
              "              tensor([[ 0.1215, -0.0106,  0.0610,  ...,  0.1228, -0.0631,  0.0310],\n",
              "                      [-0.0784, -0.0105, -0.0430,  ..., -0.0190,  0.0300, -0.0927],\n",
              "                      [-0.0272,  0.1101,  0.0195,  ...,  0.0714, -0.1035,  0.0081],\n",
              "                      ...,\n",
              "                      [ 0.0512, -0.0364, -0.1144,  ..., -0.0040, -0.1007, -0.0009],\n",
              "                      [ 0.1167,  0.0417,  0.1213,  ...,  0.0153, -0.1000,  0.0485],\n",
              "                      [ 0.1049, -0.0701,  0.0193,  ...,  0.1055, -0.0599,  0.1178]],\n",
              "                     device='cuda:0')),\n",
              "             ('lstm.bias_ih_l0_reverse',\n",
              "              tensor([-0.1053,  0.0880,  0.0616, -0.0294,  0.0197,  0.1045, -0.1222,  0.1055,\n",
              "                       0.0614,  0.0787, -0.0197, -0.0008,  0.0066, -0.0485, -0.0029, -0.1070,\n",
              "                      -0.0603, -0.0595, -0.0757, -0.0170,  0.0024, -0.0139,  0.0067, -0.0710,\n",
              "                       0.0794,  0.0651, -0.0264,  0.0765,  0.0744, -0.0224, -0.0723,  0.1102,\n",
              "                      -0.0334,  0.0456, -0.0790, -0.1059, -0.0940, -0.0509,  0.0343, -0.0350,\n",
              "                      -0.0260,  0.0056, -0.1114, -0.0027,  0.0688,  0.1138, -0.1096,  0.0636,\n",
              "                      -0.0444,  0.0719, -0.1028,  0.0976,  0.0612,  0.1126,  0.1098, -0.0634,\n",
              "                       0.0331, -0.0489,  0.0843,  0.0825, -0.0931,  0.0055,  0.0005, -0.0020,\n",
              "                       0.0899,  0.0179, -0.1204,  0.0546, -0.1129,  0.0697, -0.0662, -0.0719,\n",
              "                       0.0801,  0.1153,  0.0073, -0.0427,  0.1196, -0.0663,  0.0801,  0.0692,\n",
              "                      -0.0482,  0.0301, -0.0088, -0.0721, -0.0875, -0.0686, -0.0869,  0.1074,\n",
              "                       0.0258,  0.0644, -0.0407, -0.0181, -0.0474, -0.1082, -0.0626, -0.0266,\n",
              "                      -0.0100, -0.0311,  0.0905,  0.1127,  0.0028, -0.0117, -0.0452, -0.0951,\n",
              "                       0.0244,  0.1121, -0.1017,  0.0398,  0.0199, -0.0921, -0.1117,  0.0682,\n",
              "                       0.0210, -0.0830,  0.0199, -0.0996, -0.0035, -0.1151, -0.0226, -0.0597,\n",
              "                      -0.0752, -0.0738, -0.0147,  0.1040, -0.0513, -0.1209, -0.0777, -0.0918,\n",
              "                      -0.1013,  0.0849,  0.1198,  0.1110,  0.0619,  0.0016,  0.0941,  0.0250,\n",
              "                       0.0191,  0.1208,  0.0134, -0.1095,  0.0423,  0.0319,  0.0044, -0.0281,\n",
              "                       0.1142,  0.0335,  0.0577,  0.0306, -0.0945, -0.0810,  0.0518,  0.0384,\n",
              "                      -0.0430, -0.0340, -0.0868,  0.0615, -0.0566, -0.0831,  0.0894, -0.0120,\n",
              "                      -0.0397, -0.0246, -0.1175,  0.1219,  0.0179, -0.0813, -0.0173,  0.1145,\n",
              "                      -0.0476, -0.0002, -0.0171,  0.0376,  0.0106, -0.0014,  0.0371, -0.0473,\n",
              "                       0.0630,  0.1046,  0.0125, -0.0131, -0.0244,  0.0272,  0.0015, -0.0911,\n",
              "                       0.0786, -0.1228, -0.0575,  0.0312, -0.0741,  0.0455, -0.0328,  0.0442,\n",
              "                       0.0955, -0.0464,  0.0810,  0.0449, -0.0985, -0.0422, -0.0851, -0.0766,\n",
              "                      -0.1038,  0.0122, -0.1101,  0.1090, -0.1009, -0.0741, -0.0036, -0.0284,\n",
              "                      -0.1002,  0.0994, -0.1078, -0.0082, -0.0659, -0.0394, -0.0872,  0.0679,\n",
              "                      -0.0111,  0.0194,  0.0785,  0.0162,  0.1126, -0.0551,  0.0748, -0.0125,\n",
              "                      -0.0764, -0.0978, -0.1157, -0.1249, -0.0075, -0.0604, -0.0055,  0.1067,\n",
              "                       0.0169, -0.0935,  0.0307,  0.1026, -0.0425, -0.1051,  0.0757,  0.0456,\n",
              "                       0.0643,  0.0229,  0.0804, -0.0272, -0.0422,  0.0172,  0.0697,  0.1121,\n",
              "                       0.0194,  0.0885, -0.0545, -0.1172, -0.0401, -0.1179, -0.0266,  0.0147],\n",
              "                     device='cuda:0')),\n",
              "             ('lstm.bias_hh_l0_reverse',\n",
              "              tensor([-0.0508,  0.0068,  0.0516, -0.0760, -0.0816,  0.1003, -0.1155,  0.0718,\n",
              "                       0.0513, -0.1150,  0.1230,  0.0648,  0.1222,  0.0733,  0.0876, -0.0550,\n",
              "                      -0.0839,  0.0811, -0.0049,  0.0756, -0.0368,  0.0128,  0.0180, -0.0650,\n",
              "                      -0.0561, -0.0877, -0.0717, -0.0319, -0.0480, -0.1196, -0.0312,  0.0156,\n",
              "                      -0.1078,  0.0368,  0.0688,  0.1020,  0.0955, -0.0344,  0.0012, -0.0547,\n",
              "                      -0.0504,  0.1071,  0.0845,  0.0815, -0.0318,  0.0349,  0.0078,  0.0798,\n",
              "                       0.0946,  0.0639,  0.0671, -0.0680, -0.0369,  0.0393,  0.0353, -0.1121,\n",
              "                      -0.1241, -0.1132, -0.1108,  0.1129, -0.0188,  0.0273, -0.0663,  0.0535,\n",
              "                       0.0584, -0.0872, -0.0515,  0.0352, -0.0321, -0.1084, -0.0646,  0.0142,\n",
              "                      -0.0435,  0.0200, -0.0598, -0.1024, -0.0163, -0.0720, -0.0173,  0.0417,\n",
              "                       0.0920, -0.0724,  0.0173, -0.1072, -0.0756, -0.0424,  0.0301,  0.0271,\n",
              "                       0.0510, -0.1033, -0.0829,  0.0249, -0.0355,  0.0043, -0.0386, -0.0785,\n",
              "                      -0.1113, -0.1049,  0.0378,  0.0064, -0.0500, -0.1080, -0.0036, -0.0302,\n",
              "                      -0.0293, -0.0635,  0.0302, -0.0260,  0.1013,  0.0046,  0.0589,  0.0531,\n",
              "                      -0.0442,  0.0937,  0.0199, -0.0463,  0.0090,  0.1204,  0.0101,  0.0050,\n",
              "                      -0.0743, -0.0334,  0.0350,  0.1177,  0.0914, -0.0174,  0.0109, -0.0355,\n",
              "                       0.0404,  0.0738,  0.1222, -0.1086,  0.0139,  0.0526,  0.0851, -0.0182,\n",
              "                       0.0871,  0.0324,  0.0725, -0.1234,  0.0659,  0.0414,  0.0808,  0.0390,\n",
              "                      -0.0192, -0.0715,  0.1049, -0.1012,  0.0862, -0.0156, -0.0314, -0.0415,\n",
              "                      -0.0972,  0.0781,  0.0138, -0.0079, -0.0763, -0.1149,  0.0157,  0.0064,\n",
              "                      -0.0736,  0.1043, -0.0834,  0.0203, -0.0688, -0.0981,  0.1218, -0.1042,\n",
              "                      -0.0163, -0.0069,  0.0502, -0.1108, -0.1051, -0.0495, -0.0018,  0.0469,\n",
              "                       0.0403,  0.1189, -0.0081,  0.1006, -0.0487,  0.0609, -0.0968,  0.0914,\n",
              "                       0.0602, -0.0687,  0.0328, -0.1007,  0.0940, -0.0133,  0.1078, -0.0059,\n",
              "                      -0.0120, -0.1065,  0.0580,  0.0282, -0.1209,  0.0060,  0.0270,  0.0822,\n",
              "                      -0.0245,  0.0031, -0.0964,  0.0009, -0.0646,  0.1143,  0.0563, -0.0788,\n",
              "                       0.0483, -0.0314,  0.0383,  0.0985,  0.0200, -0.0383,  0.0078,  0.1165,\n",
              "                       0.0799, -0.1002, -0.0166, -0.0580,  0.0038,  0.0517, -0.1177, -0.1106,\n",
              "                       0.0401,  0.1125,  0.0608,  0.0747, -0.0399, -0.1192,  0.0333, -0.0229,\n",
              "                      -0.1209,  0.0566,  0.0433,  0.0699, -0.0104,  0.0140,  0.0903, -0.1188,\n",
              "                       0.0700,  0.0238,  0.0780, -0.0138, -0.0511,  0.0322, -0.0981,  0.0947,\n",
              "                       0.0717,  0.0793,  0.0021,  0.0408, -0.0293,  0.1247, -0.0938,  0.0562],\n",
              "                     device='cuda:0')),\n",
              "             ('lstm.weight_ih_l1',\n",
              "              tensor([[ 0.0722, -0.1193,  0.1163,  ..., -0.0700, -0.1249,  0.0581],\n",
              "                      [ 0.1186,  0.0706, -0.0459,  ..., -0.0693,  0.1156, -0.1101],\n",
              "                      [ 0.1079, -0.1034, -0.1065,  ...,  0.1147,  0.0120,  0.0390],\n",
              "                      ...,\n",
              "                      [ 0.1217, -0.0654, -0.1140,  ...,  0.0685, -0.0443, -0.0152],\n",
              "                      [-0.0145,  0.0249, -0.0385,  ..., -0.0691, -0.0051, -0.0646],\n",
              "                      [ 0.0493, -0.0100,  0.0637,  ...,  0.1193, -0.0090,  0.0527]],\n",
              "                     device='cuda:0')),\n",
              "             ('lstm.weight_hh_l1',\n",
              "              tensor([[ 0.0736,  0.1121, -0.0057,  ..., -0.1124,  0.0028,  0.0661],\n",
              "                      [-0.1085,  0.0032, -0.0571,  ..., -0.0406, -0.1104, -0.0215],\n",
              "                      [ 0.0539,  0.0683, -0.0056,  ...,  0.0388, -0.0680, -0.0166],\n",
              "                      ...,\n",
              "                      [-0.1088, -0.1029, -0.0655,  ...,  0.0666,  0.0341, -0.0569],\n",
              "                      [ 0.0757, -0.0043,  0.1116,  ..., -0.0652,  0.0517,  0.0051],\n",
              "                      [-0.0932,  0.0394,  0.0011,  ..., -0.0098, -0.0361, -0.0220]],\n",
              "                     device='cuda:0')),\n",
              "             ('lstm.bias_ih_l1',\n",
              "              tensor([-0.0083, -0.0322, -0.0630,  0.0338, -0.1190, -0.0839, -0.0056, -0.1030,\n",
              "                       0.0986, -0.0540, -0.1026, -0.0376,  0.1025, -0.1132, -0.0262,  0.1126,\n",
              "                       0.0098,  0.0318, -0.0423,  0.1035,  0.0337, -0.1000, -0.0774, -0.0863,\n",
              "                       0.0972,  0.0601, -0.1223,  0.0109, -0.0835, -0.0626,  0.0773, -0.0454,\n",
              "                       0.0002,  0.0877, -0.0030,  0.0701, -0.0014, -0.0017, -0.0292, -0.0841,\n",
              "                      -0.0962,  0.0603, -0.0087, -0.1042,  0.0381,  0.1196,  0.0662, -0.0284,\n",
              "                      -0.0791, -0.1120, -0.0968,  0.0991,  0.0714,  0.0223,  0.0455, -0.0435,\n",
              "                      -0.0301, -0.0296, -0.0213,  0.0623, -0.1108, -0.0318,  0.1250,  0.0649,\n",
              "                       0.0146, -0.0976,  0.0304, -0.0103, -0.0286,  0.0992, -0.0220, -0.0624,\n",
              "                      -0.0698, -0.1215,  0.0440,  0.0935, -0.0119, -0.0183, -0.0327, -0.1192,\n",
              "                       0.0750, -0.0354,  0.1121, -0.0090, -0.0066, -0.0444,  0.1100,  0.0735,\n",
              "                       0.0335, -0.0986, -0.0572, -0.1069, -0.0234, -0.0679,  0.0473,  0.0610,\n",
              "                       0.0798, -0.1166, -0.0975, -0.0574, -0.0958,  0.1152,  0.0888,  0.1156,\n",
              "                      -0.1167,  0.0754, -0.0173,  0.0845,  0.0100,  0.0303,  0.0241,  0.0881,\n",
              "                       0.1241,  0.1205,  0.0109, -0.0758, -0.0320, -0.1117,  0.1200, -0.1233,\n",
              "                      -0.0329, -0.1065,  0.0659, -0.0386,  0.0724, -0.0764,  0.0230,  0.0216,\n",
              "                      -0.1178, -0.0835, -0.0283, -0.0740,  0.0118, -0.0427,  0.0326, -0.0664,\n",
              "                       0.0483,  0.0255, -0.1156,  0.1065,  0.0793, -0.0633, -0.0987,  0.1020,\n",
              "                       0.0082,  0.0904, -0.0296, -0.0203,  0.0486,  0.0729,  0.0624, -0.0022,\n",
              "                       0.1027, -0.0921,  0.0332, -0.1232,  0.1246, -0.0305,  0.0560, -0.0519,\n",
              "                      -0.0382, -0.1109,  0.0391, -0.0305, -0.0378,  0.0898, -0.0644, -0.1051,\n",
              "                       0.0489, -0.0269, -0.0023, -0.0862,  0.0682, -0.0736, -0.0373,  0.1040,\n",
              "                       0.0669, -0.0813, -0.0911,  0.0716, -0.0475, -0.0104, -0.0763,  0.0668,\n",
              "                      -0.0428, -0.0174, -0.0777, -0.0588,  0.0218,  0.0745, -0.0618,  0.1080,\n",
              "                      -0.0459,  0.0346, -0.0797,  0.0007, -0.1240, -0.0546,  0.0711,  0.0867,\n",
              "                       0.0541, -0.0987,  0.1233,  0.0334,  0.0874,  0.0344,  0.0572, -0.1105,\n",
              "                       0.0334,  0.0334, -0.0059,  0.0598,  0.0557,  0.0988, -0.0687,  0.0797,\n",
              "                      -0.0737, -0.0932,  0.0236,  0.0176, -0.0523,  0.0838,  0.0564,  0.1050,\n",
              "                       0.0483, -0.0197,  0.0383, -0.0258,  0.0614,  0.0308, -0.0589, -0.0028,\n",
              "                      -0.0218,  0.0554, -0.0269, -0.0317, -0.0225, -0.0496,  0.0233,  0.1238,\n",
              "                      -0.1126,  0.0824, -0.0372,  0.0827, -0.0245, -0.0519, -0.0884,  0.0035,\n",
              "                      -0.1154, -0.0876, -0.0539,  0.0520, -0.0789,  0.1231, -0.0177,  0.0826],\n",
              "                     device='cuda:0')),\n",
              "             ('lstm.bias_hh_l1',\n",
              "              tensor([ 0.0843,  0.0306, -0.0274,  0.0598,  0.0434, -0.0999,  0.0189, -0.0986,\n",
              "                      -0.0673,  0.0070, -0.1188, -0.0843,  0.0041, -0.0548,  0.0947,  0.0832,\n",
              "                      -0.0986, -0.1076,  0.0160,  0.0116,  0.1015,  0.0618,  0.0718,  0.0628,\n",
              "                       0.0300, -0.0408,  0.0082, -0.0167, -0.0217,  0.0773, -0.0743,  0.0097,\n",
              "                      -0.0619, -0.0796,  0.0814,  0.0085,  0.0616, -0.0587, -0.0764,  0.0226,\n",
              "                       0.0107,  0.0215,  0.1066,  0.0305, -0.1159,  0.0131,  0.0048, -0.0878,\n",
              "                      -0.0342,  0.0878, -0.1058, -0.0052,  0.0806,  0.0420, -0.0686,  0.0976,\n",
              "                      -0.0294, -0.1165,  0.0732,  0.0970,  0.0568,  0.0372,  0.0672, -0.0245,\n",
              "                       0.0890,  0.0809,  0.0905, -0.1083,  0.0042, -0.1151, -0.0849, -0.0962,\n",
              "                      -0.0597, -0.1104, -0.0179,  0.0687,  0.0768,  0.0244, -0.0527, -0.0971,\n",
              "                       0.0795, -0.0785,  0.1029,  0.1201,  0.0697,  0.0937, -0.0505,  0.0019,\n",
              "                       0.0871, -0.0173, -0.0335, -0.1015,  0.0104,  0.0483, -0.0206,  0.0030,\n",
              "                       0.0659,  0.1110,  0.0829, -0.0026, -0.0033, -0.0458, -0.0709,  0.0721,\n",
              "                       0.0870, -0.0861,  0.1239,  0.0282,  0.0582, -0.0212, -0.1156,  0.0837,\n",
              "                      -0.0177, -0.0895, -0.0444, -0.0926,  0.0308,  0.0257, -0.0884,  0.1204,\n",
              "                       0.0769,  0.0939,  0.0485,  0.0164, -0.0491,  0.0841,  0.0229,  0.0983,\n",
              "                       0.0586,  0.0399,  0.0595, -0.0328, -0.0226,  0.0803, -0.0780,  0.0586,\n",
              "                       0.0504,  0.0688, -0.0011, -0.0191,  0.0645, -0.0697,  0.0736, -0.1115,\n",
              "                       0.0908, -0.0194,  0.0352, -0.0266,  0.0647, -0.0845,  0.0314,  0.1005,\n",
              "                      -0.0361, -0.0504,  0.0400,  0.0632,  0.0862,  0.1177, -0.0594,  0.0370,\n",
              "                       0.1001,  0.0615, -0.0524, -0.0178,  0.1109,  0.0223,  0.0741, -0.0238,\n",
              "                      -0.0427,  0.0340,  0.0422, -0.0851, -0.0517, -0.1198, -0.1072,  0.1190,\n",
              "                       0.0524, -0.1061, -0.0741, -0.1135, -0.1036, -0.0508, -0.1187,  0.0316,\n",
              "                      -0.0534, -0.0855,  0.0534, -0.1055,  0.0759, -0.1134, -0.0995, -0.0251,\n",
              "                       0.0374, -0.0311,  0.0544, -0.0326, -0.0144, -0.0854,  0.0051, -0.0098,\n",
              "                       0.0513, -0.0022,  0.0199,  0.0896,  0.0426,  0.0460,  0.0673, -0.0050,\n",
              "                      -0.0103, -0.0186, -0.1172, -0.0572, -0.0357,  0.0110,  0.0993,  0.0517,\n",
              "                      -0.1139, -0.0368,  0.0541, -0.0284,  0.1125, -0.1185, -0.0333, -0.0148,\n",
              "                      -0.1083, -0.0987, -0.1080, -0.0513,  0.0543,  0.0401, -0.0826,  0.0247,\n",
              "                       0.0207, -0.0518, -0.0451, -0.0644,  0.0221, -0.1124,  0.0600, -0.0659,\n",
              "                      -0.0609, -0.0493,  0.0545,  0.0859, -0.0846, -0.0411, -0.0086,  0.0596,\n",
              "                       0.1101,  0.0578, -0.0565, -0.1141,  0.0285,  0.0640, -0.0250, -0.0275],\n",
              "                     device='cuda:0')),\n",
              "             ('lstm.weight_ih_l1_reverse',\n",
              "              tensor([[-0.1242, -0.0062,  0.0720,  ...,  0.0924,  0.0518,  0.0021],\n",
              "                      [-0.0216, -0.0579,  0.0557,  ..., -0.0290,  0.1050,  0.0049],\n",
              "                      [-0.1028, -0.1063, -0.0086,  ..., -0.0192,  0.1191,  0.0980],\n",
              "                      ...,\n",
              "                      [-0.0373, -0.1232,  0.0965,  ..., -0.0377, -0.0486, -0.0083],\n",
              "                      [-0.0506,  0.1083,  0.1167,  ..., -0.0640, -0.0552, -0.0998],\n",
              "                      [-0.0561, -0.0561, -0.0699,  ..., -0.1195,  0.0593,  0.0808]],\n",
              "                     device='cuda:0')),\n",
              "             ('lstm.weight_hh_l1_reverse',\n",
              "              tensor([[ 0.0592, -0.0141,  0.0274,  ..., -0.0850, -0.0378,  0.1056],\n",
              "                      [ 0.0126,  0.0961,  0.0259,  ..., -0.0727,  0.0820,  0.0970],\n",
              "                      [ 0.0964,  0.1075, -0.1107,  ..., -0.0106,  0.0406,  0.0733],\n",
              "                      ...,\n",
              "                      [-0.0142,  0.0202, -0.0832,  ...,  0.0568, -0.0420,  0.0827],\n",
              "                      [-0.0583, -0.0217,  0.0561,  ..., -0.0867,  0.1080, -0.0012],\n",
              "                      [ 0.1034, -0.0918, -0.1140,  ...,  0.0922, -0.0202, -0.0742]],\n",
              "                     device='cuda:0')),\n",
              "             ('lstm.bias_ih_l1_reverse',\n",
              "              tensor([ 0.0867, -0.1039, -0.0559, -0.0697,  0.1164,  0.0239,  0.0240,  0.0933,\n",
              "                       0.1118,  0.0047, -0.1248, -0.0902,  0.0459, -0.0553, -0.0910,  0.0536,\n",
              "                      -0.0011, -0.1105,  0.0532, -0.1064,  0.0782,  0.0149,  0.1207,  0.0690,\n",
              "                       0.0905,  0.0637, -0.0812,  0.1140, -0.0601,  0.0910,  0.0863, -0.0850,\n",
              "                       0.0281, -0.0773,  0.0347,  0.0527,  0.1025,  0.1113,  0.0191,  0.0333,\n",
              "                       0.0585, -0.0318, -0.0868,  0.0454, -0.1181,  0.0746, -0.0389, -0.0798,\n",
              "                       0.0049,  0.1152,  0.1116, -0.0514,  0.1051, -0.0823,  0.0722,  0.0326,\n",
              "                       0.0609, -0.0041, -0.0867,  0.0955,  0.0807,  0.0789,  0.0066, -0.0285,\n",
              "                       0.1116, -0.1226,  0.0227,  0.1070,  0.0871, -0.0503, -0.0728, -0.0925,\n",
              "                      -0.0794, -0.0820, -0.0285,  0.0533,  0.0264,  0.0230, -0.0505, -0.1000,\n",
              "                      -0.1143, -0.0407,  0.0520, -0.0640, -0.0438, -0.1115,  0.0659,  0.0022,\n",
              "                       0.0625,  0.1070,  0.0484,  0.0611,  0.0617,  0.0818,  0.0978, -0.0749,\n",
              "                      -0.0418, -0.0813,  0.1005,  0.0724,  0.0533,  0.1188,  0.0853,  0.0249,\n",
              "                       0.0430, -0.0041, -0.0012, -0.0035, -0.0178, -0.0611, -0.1200, -0.0535,\n",
              "                       0.1185, -0.0075,  0.0552, -0.0451,  0.0625,  0.0273,  0.1001,  0.0226,\n",
              "                      -0.0396,  0.0320,  0.0016, -0.1084,  0.0615, -0.0067,  0.0288,  0.0232,\n",
              "                      -0.0295, -0.0275, -0.1111,  0.0854, -0.0531, -0.0201, -0.0329, -0.0630,\n",
              "                      -0.0779,  0.0265, -0.0338, -0.0270,  0.0230,  0.0781, -0.0831, -0.0912,\n",
              "                       0.0820, -0.1240,  0.0308, -0.1118,  0.0901,  0.0077, -0.0778, -0.1029,\n",
              "                       0.1229, -0.1213, -0.0530, -0.1171,  0.1181,  0.0419, -0.0748,  0.1044,\n",
              "                      -0.0281, -0.0629, -0.0022, -0.0068, -0.0244, -0.0196,  0.1065,  0.0348,\n",
              "                      -0.1242, -0.0572,  0.0169,  0.0978, -0.0161,  0.0696, -0.0755,  0.0869,\n",
              "                      -0.1150,  0.0483, -0.0853,  0.0795, -0.0341, -0.1059,  0.0574,  0.0178,\n",
              "                      -0.0026,  0.1126,  0.0885, -0.0189,  0.0301, -0.1080, -0.0345,  0.1221,\n",
              "                      -0.0187,  0.0981,  0.0257,  0.0123,  0.1238, -0.1116,  0.1114,  0.1245,\n",
              "                       0.0889, -0.0409,  0.0659,  0.0724, -0.0531, -0.1109, -0.1129,  0.0795,\n",
              "                       0.0511,  0.0899, -0.0362, -0.0905, -0.0609,  0.0985, -0.0106, -0.0052,\n",
              "                       0.1120, -0.0697, -0.1056, -0.0981,  0.0988,  0.0513,  0.0349, -0.1165,\n",
              "                       0.0970, -0.0178,  0.0117, -0.0902, -0.0205,  0.0588,  0.0627, -0.0289,\n",
              "                      -0.0399, -0.0255,  0.0612, -0.0741,  0.0194,  0.0958,  0.0887,  0.0911,\n",
              "                       0.0725, -0.0939,  0.0783,  0.0181, -0.0092,  0.0984,  0.1164,  0.0575,\n",
              "                       0.1032, -0.1100, -0.0094,  0.0788, -0.0354,  0.0976, -0.0315,  0.0423],\n",
              "                     device='cuda:0')),\n",
              "             ('lstm.bias_hh_l1_reverse',\n",
              "              tensor([-0.1001, -0.0884,  0.0481, -0.1098, -0.1060,  0.0836, -0.0650, -0.0613,\n",
              "                       0.1223, -0.0884, -0.0339,  0.0656, -0.1156,  0.1154,  0.0246,  0.0851,\n",
              "                      -0.1003,  0.0627, -0.0366, -0.0807, -0.0162, -0.0945, -0.0483, -0.0441,\n",
              "                       0.0318,  0.0769,  0.1005, -0.0805, -0.0146, -0.0298, -0.0011,  0.0580,\n",
              "                       0.0962, -0.0607, -0.0506, -0.0650,  0.0562, -0.0827, -0.0663, -0.0451,\n",
              "                      -0.0844,  0.0220, -0.0584,  0.0231,  0.1111,  0.0774,  0.0374,  0.0674,\n",
              "                       0.1066, -0.0297, -0.1055, -0.0239, -0.0243,  0.0152,  0.1247,  0.0969,\n",
              "                       0.0651,  0.0201, -0.1029,  0.0837,  0.1202, -0.0788, -0.0541, -0.0677,\n",
              "                       0.1160, -0.0126,  0.0537, -0.0750,  0.1191,  0.1064,  0.1196,  0.0820,\n",
              "                       0.0976, -0.1062, -0.0828, -0.0965,  0.0209,  0.0667,  0.0264,  0.0262,\n",
              "                       0.0523,  0.0591, -0.0385,  0.0888,  0.0545, -0.0271,  0.0831,  0.0462,\n",
              "                      -0.0182, -0.0904, -0.0253, -0.0166,  0.0802, -0.0325,  0.1128, -0.1049,\n",
              "                       0.0377,  0.0563, -0.0102, -0.1227, -0.0814,  0.0778, -0.0652,  0.0468,\n",
              "                      -0.1199,  0.0676,  0.0038,  0.0768, -0.0828,  0.0405,  0.1048, -0.1098,\n",
              "                       0.0719,  0.1108, -0.0982, -0.0354,  0.1217,  0.1204, -0.0947, -0.1163,\n",
              "                      -0.1112,  0.1190, -0.0394,  0.0410, -0.0594,  0.0241, -0.0245, -0.1207,\n",
              "                       0.0050,  0.0780,  0.0469, -0.0223,  0.0940,  0.0276,  0.0631,  0.0402,\n",
              "                      -0.0397,  0.0576,  0.1188, -0.0938,  0.0969,  0.0057,  0.0752, -0.0793,\n",
              "                       0.0111, -0.0677,  0.1214,  0.0286, -0.0789,  0.0589, -0.1024,  0.0063,\n",
              "                       0.0679,  0.1094,  0.0303,  0.0999,  0.0859, -0.1086,  0.0977, -0.1143,\n",
              "                      -0.1038, -0.0293,  0.1228, -0.0298,  0.0688,  0.1162, -0.0370,  0.0344,\n",
              "                      -0.1130, -0.0023, -0.1188,  0.0101,  0.0623,  0.0400,  0.0342,  0.0246,\n",
              "                       0.0213,  0.0966,  0.0026, -0.0525,  0.0602,  0.0913,  0.0185, -0.0616,\n",
              "                       0.0517, -0.1052, -0.0407,  0.0655, -0.1063,  0.0259, -0.0429,  0.0555,\n",
              "                      -0.0456, -0.0627,  0.0434, -0.0682,  0.0183,  0.0540,  0.0687, -0.1128,\n",
              "                       0.0779,  0.0036, -0.1003, -0.0344, -0.0207,  0.0473, -0.0321,  0.0283,\n",
              "                       0.0687,  0.0239, -0.0232,  0.0992, -0.0003, -0.0381, -0.0128,  0.0026,\n",
              "                       0.0112,  0.1229,  0.1235, -0.0662, -0.0683, -0.0973,  0.0040, -0.0986,\n",
              "                      -0.1059,  0.0002, -0.0675, -0.0709, -0.0967, -0.1249,  0.0315, -0.0583,\n",
              "                       0.1213,  0.1185, -0.0416, -0.1038, -0.0037,  0.0593,  0.0439, -0.0543,\n",
              "                      -0.0710,  0.0132,  0.0420,  0.0566, -0.0313, -0.0801, -0.0188,  0.0601,\n",
              "                       0.1001,  0.0808,  0.0416,  0.0024, -0.0167, -0.0461, -0.0569, -0.1063],\n",
              "                     device='cuda:0')),\n",
              "             ('fc_layers.0.weight',\n",
              "              tensor([[-0.0668,  0.0039,  0.0100,  ..., -0.0538,  0.0029,  0.0236],\n",
              "                      [-0.0340, -0.0017, -0.0057,  ..., -0.0467, -0.0574, -0.0644],\n",
              "                      [ 0.0323,  0.0554, -0.0065,  ..., -0.0487, -0.0246, -0.0741],\n",
              "                      ...,\n",
              "                      [ 0.0475,  0.0066,  0.0563,  ..., -0.0438, -0.0524,  0.0489],\n",
              "                      [ 0.0429, -0.0734,  0.0871,  ...,  0.0841, -0.0475, -0.0631],\n",
              "                      [ 0.0839,  0.0166, -0.0801,  ...,  0.0323,  0.0630, -0.0322]],\n",
              "                     device='cuda:0')),\n",
              "             ('fc_layers.0.bias',\n",
              "              tensor([-0.0637, -0.0780, -0.0002, -0.0538, -0.0055, -0.0817,  0.0504,  0.0350,\n",
              "                       0.0880,  0.0300, -0.0727,  0.0421, -0.0528, -0.0883, -0.0639,  0.0300,\n",
              "                      -0.0094, -0.0254, -0.0605, -0.0767, -0.0686, -0.0189,  0.0226,  0.0660,\n",
              "                       0.0738,  0.0409,  0.0327, -0.0402, -0.0593,  0.0330,  0.0286,  0.0370,\n",
              "                       0.0292,  0.0420,  0.0643,  0.0821,  0.0207,  0.0056, -0.0472,  0.0122,\n",
              "                       0.0503,  0.0880, -0.0807, -0.0638, -0.0464, -0.0048, -0.0461,  0.0357,\n",
              "                      -0.0370, -0.0662, -0.0074, -0.0502,  0.0282,  0.0623, -0.0348,  0.0631,\n",
              "                      -0.0490,  0.0695,  0.0628, -0.0659,  0.0394,  0.0356,  0.0420,  0.0828,\n",
              "                      -0.0373,  0.0761,  0.0464,  0.0636, -0.0341,  0.0806, -0.0351,  0.0705,\n",
              "                      -0.0593,  0.0265, -0.0762,  0.0516, -0.0556,  0.0498, -0.0700, -0.0291,\n",
              "                       0.0085, -0.0793, -0.0431,  0.0848, -0.0842,  0.0169, -0.0481, -0.0224,\n",
              "                      -0.0499,  0.0279,  0.0349, -0.0343, -0.0301,  0.0148, -0.0384,  0.0867,\n",
              "                      -0.0164, -0.0569,  0.0703,  0.0005,  0.0788, -0.0414,  0.0825, -0.0638,\n",
              "                       0.0104,  0.0208, -0.0194,  0.0416, -0.0215,  0.0879, -0.0594,  0.0831,\n",
              "                       0.0447,  0.0077, -0.0286, -0.0675, -0.0069,  0.0326, -0.0700, -0.0430,\n",
              "                      -0.0557,  0.0462,  0.0311,  0.0584,  0.0756,  0.0243, -0.0453,  0.0542],\n",
              "                     device='cuda:0')),\n",
              "             ('fc_layers.2.weight',\n",
              "              tensor([[-0.0193, -0.0061, -0.0462,  ...,  0.0051,  0.0719, -0.0858],\n",
              "                      [-0.0297,  0.0118,  0.0778,  ..., -0.0610, -0.0416,  0.0420],\n",
              "                      [-0.0007,  0.0134, -0.0325,  ..., -0.0005,  0.0492, -0.0858],\n",
              "                      ...,\n",
              "                      [-0.0324, -0.0418,  0.0135,  ..., -0.0500, -0.0862,  0.0809],\n",
              "                      [ 0.0842, -0.0342, -0.0505,  ..., -0.0869,  0.0741,  0.0500],\n",
              "                      [-0.0678,  0.0331,  0.0842,  ...,  0.0340, -0.0425, -0.0782]],\n",
              "                     device='cuda:0')),\n",
              "             ('fc_layers.2.bias',\n",
              "              tensor([-0.0759,  0.0176,  0.0617, -0.0708, -0.0351, -0.0675,  0.0689,  0.0149,\n",
              "                       0.0781, -0.0410,  0.0125,  0.0659, -0.0050, -0.0818,  0.0797,  0.0658,\n",
              "                       0.0189, -0.0538,  0.0601,  0.0198,  0.0501,  0.0862, -0.0332, -0.0392,\n",
              "                       0.0780, -0.0296, -0.0368,  0.0582,  0.0526,  0.0809,  0.0632,  0.0147,\n",
              "                      -0.0262, -0.0468, -0.0473, -0.0446,  0.0419,  0.0023, -0.0351, -0.0231,\n",
              "                       0.0152, -0.0120, -0.0469,  0.0066, -0.0470,  0.0447, -0.0243,  0.0479,\n",
              "                      -0.0883, -0.0674,  0.0709,  0.0068,  0.0069, -0.0269,  0.0114,  0.0671,\n",
              "                      -0.0074, -0.0750, -0.0212, -0.0441, -0.0606, -0.0820, -0.0683,  0.0379],\n",
              "                     device='cuda:0')),\n",
              "             ('fc_layers.4.weight',\n",
              "              tensor([[-0.0435,  0.0184, -0.0109,  ..., -0.0881,  0.0470,  0.0128],\n",
              "                      [-0.0839, -0.0560,  0.1161,  ...,  0.1186,  0.0737, -0.0383],\n",
              "                      [-0.0587, -0.0907,  0.0577,  ..., -0.0536, -0.0957,  0.1176],\n",
              "                      ...,\n",
              "                      [ 0.0788, -0.0442,  0.0245,  ..., -0.0399,  0.0848, -0.0682],\n",
              "                      [-0.0991,  0.0609,  0.0046,  ...,  0.0987, -0.1163, -0.0903],\n",
              "                      [ 0.0851, -0.0402,  0.0530,  ..., -0.0787,  0.0287, -0.1221]],\n",
              "                     device='cuda:0')),\n",
              "             ('fc_layers.4.bias',\n",
              "              tensor([ 0.0971,  0.1240, -0.0026, -0.0348,  0.0983,  0.0020, -0.0590,  0.0418,\n",
              "                       0.0159,  0.1077,  0.0664,  0.0654,  0.0021, -0.0518, -0.0321,  0.1140,\n",
              "                       0.0138,  0.0301, -0.0306, -0.0035,  0.0220,  0.0795, -0.0369,  0.0340,\n",
              "                      -0.0017,  0.0373,  0.0395,  0.1155,  0.0682, -0.1113,  0.0337, -0.0594],\n",
              "                     device='cuda:0')),\n",
              "             ('fc_layers.6.weight',\n",
              "              tensor([[ 6.7469e-02, -7.3076e-02, -3.4920e-02,  5.0567e-02,  7.5132e-02,\n",
              "                       -1.4178e-01, -7.7473e-02,  1.5477e-01, -5.4318e-03,  9.8256e-02,\n",
              "                       -8.7560e-02,  3.9209e-02, -6.4338e-02, -8.9340e-02,  1.5132e-01,\n",
              "                        8.3759e-02,  1.3291e-01,  6.4491e-02, -1.2042e-01,  1.8715e-02,\n",
              "                       -4.8586e-02,  1.5352e-01, -8.6542e-02,  7.5349e-03,  1.7170e-01,\n",
              "                        1.0513e-01, -1.5337e-01, -1.2850e-01, -3.5090e-03, -8.2544e-02,\n",
              "                        2.9503e-02, -3.1146e-02],\n",
              "                      [-2.3229e-02, -3.8045e-02,  5.5904e-02,  1.1180e-01,  1.0310e-01,\n",
              "                       -1.5297e-02,  5.6850e-02,  3.9885e-02,  4.9586e-02, -1.4974e-01,\n",
              "                       -3.6707e-02, -1.4356e-01,  5.9092e-02,  1.5165e-02,  3.6943e-02,\n",
              "                        3.3609e-02, -8.0311e-05,  2.1190e-02,  1.4371e-01,  6.4559e-02,\n",
              "                        1.3000e-01, -7.0483e-02,  3.4364e-02, -1.5707e-01,  2.4938e-02,\n",
              "                        3.7633e-02,  2.6916e-02, -1.4011e-01, -1.2042e-01, -2.9557e-02,\n",
              "                       -1.7401e-01, -5.2099e-02],\n",
              "                      [ 1.3984e-01, -3.8225e-02, -1.4537e-01,  6.3552e-02,  3.8358e-02,\n",
              "                       -7.0399e-02,  1.0147e-02,  1.1472e-02, -8.6423e-02,  1.5048e-01,\n",
              "                        1.1599e-01, -1.1196e-02, -5.0639e-02,  5.5074e-02, -2.9427e-03,\n",
              "                       -1.1905e-01,  1.2993e-01, -8.7860e-02, -4.1914e-02, -2.4040e-02,\n",
              "                        8.4876e-02, -1.3779e-01,  5.5382e-02, -1.6412e-01, -4.4159e-02,\n",
              "                       -7.8046e-02, -4.0329e-02, -1.7382e-01,  9.6748e-02,  8.4037e-02,\n",
              "                        4.9611e-02,  1.1340e-01],\n",
              "                      [ 5.9598e-02, -8.1992e-02, -1.0891e-01,  1.5693e-01, -1.2716e-01,\n",
              "                        2.2339e-02, -9.0227e-02, -1.3975e-02,  1.4605e-01,  2.6883e-02,\n",
              "                       -1.0747e-01, -1.3570e-01, -1.0831e-01,  1.5397e-01,  1.3426e-01,\n",
              "                       -4.2174e-02,  3.3703e-02, -2.9153e-02,  3.4839e-02,  5.0008e-02,\n",
              "                        5.3608e-02, -3.1131e-02,  4.9420e-02,  1.1876e-01, -1.8572e-02,\n",
              "                       -1.1504e-01, -2.4171e-02,  1.2578e-01,  4.5080e-02,  8.7538e-02,\n",
              "                        5.5688e-02, -1.0968e-01],\n",
              "                      [ 1.3288e-01, -4.5946e-02,  8.2629e-02,  1.5920e-01,  4.7859e-02,\n",
              "                        5.1992e-03, -1.3246e-01,  1.4272e-01,  1.9226e-02, -1.4218e-01,\n",
              "                       -1.5609e-02, -3.1257e-02,  1.0825e-01, -5.1547e-02,  1.1433e-01,\n",
              "                       -1.2466e-02, -1.0581e-01,  1.7748e-02,  3.4541e-02,  1.2189e-02,\n",
              "                       -1.2699e-01,  4.6672e-02, -7.6249e-02, -5.4872e-02,  8.8183e-02,\n",
              "                        1.3208e-01, -1.3234e-01,  7.9372e-02, -2.4755e-02,  9.6871e-02,\n",
              "                        1.3092e-03,  1.6392e-01],\n",
              "                      [-5.2338e-02,  1.7379e-01, -1.3768e-01,  4.8660e-02,  6.7312e-02,\n",
              "                       -2.3196e-02, -8.6737e-02,  1.5610e-01,  1.4025e-01, -1.5212e-01,\n",
              "                        8.1422e-02, -1.6983e-01,  2.6168e-02, -4.0228e-02,  5.4509e-02,\n",
              "                       -9.7448e-02, -1.6105e-01,  2.4457e-02,  1.6992e-01, -1.1895e-01,\n",
              "                       -3.3940e-02,  5.8413e-02,  8.3604e-02,  7.0459e-02, -1.6028e-01,\n",
              "                       -4.1875e-02,  9.2101e-02, -6.8331e-02, -4.5376e-02, -2.0621e-02,\n",
              "                       -4.6394e-02, -1.6377e-01],\n",
              "                      [-2.8810e-02, -2.1013e-02, -8.5636e-02,  1.1381e-01,  3.1127e-02,\n",
              "                       -8.5306e-02,  1.5584e-01, -1.3581e-01,  7.3951e-02, -1.0134e-01,\n",
              "                        1.1316e-01, -4.8931e-02,  2.9549e-02, -9.3467e-02,  4.6872e-03,\n",
              "                       -1.2983e-01, -8.1574e-02, -1.5283e-01,  1.4970e-01,  1.4946e-01,\n",
              "                       -1.5373e-01, -2.3750e-03,  1.1413e-01,  4.9957e-02, -3.8670e-03,\n",
              "                       -1.5455e-02,  1.4547e-01, -8.9828e-02,  9.7624e-02,  3.5975e-02,\n",
              "                        1.4705e-01, -1.5284e-01],\n",
              "                      [-1.0931e-01, -1.5709e-01,  1.1040e-01, -2.3296e-02, -6.2314e-02,\n",
              "                       -5.8532e-02, -9.0658e-02, -1.6162e-01, -1.7237e-01,  5.5090e-03,\n",
              "                        2.7732e-02, -1.2743e-01, -3.5713e-02, -1.2254e-01, -8.1479e-02,\n",
              "                       -2.8547e-02,  2.7009e-02, -1.2061e-01,  1.2309e-01,  1.1584e-01,\n",
              "                       -4.5039e-02, -6.3942e-03, -1.7146e-03,  1.1087e-01, -1.2426e-01,\n",
              "                        1.3638e-01, -1.6896e-01,  7.5141e-02,  6.7204e-02,  1.0305e-01,\n",
              "                        1.1346e-01, -3.7950e-02],\n",
              "                      [ 9.1019e-02,  4.9629e-02,  1.0323e-01,  1.5049e-01, -1.3344e-01,\n",
              "                       -1.2938e-01, -3.2615e-02,  1.0922e-01, -6.9619e-03,  1.6558e-02,\n",
              "                        4.0464e-02,  5.2290e-02, -2.2119e-02, -2.2907e-02,  6.5533e-02,\n",
              "                       -5.2103e-02, -7.2360e-02, -5.5640e-02, -1.6736e-01,  1.2445e-01,\n",
              "                       -1.5530e-01,  6.5310e-02, -7.6109e-03,  5.2124e-02,  1.1045e-01,\n",
              "                       -1.0815e-01,  9.2189e-02, -5.2761e-02, -8.6499e-02, -1.1598e-01,\n",
              "                       -1.6987e-01,  6.5892e-02],\n",
              "                      [ 1.4617e-01, -1.3880e-01, -8.8837e-02, -1.1299e-01, -8.5396e-02,\n",
              "                       -3.7811e-02,  1.6536e-01, -1.1556e-01, -1.3475e-01, -1.7327e-01,\n",
              "                        1.4629e-02,  5.0795e-03, -1.9302e-02, -4.9821e-02, -1.7005e-01,\n",
              "                        1.6207e-02,  9.6027e-02,  1.2775e-01,  2.4969e-02,  6.8087e-02,\n",
              "                        4.3514e-02,  8.2680e-03,  6.9571e-02,  7.6771e-02, -1.0682e-01,\n",
              "                       -1.6735e-01,  1.6859e-01,  9.6581e-02,  5.3438e-02, -1.2841e-01,\n",
              "                        5.2749e-02,  3.9800e-02]], device='cuda:0')),\n",
              "             ('fc_layers.6.bias',\n",
              "              tensor([ 0.1324, -0.1517, -0.1374,  0.1554, -0.1401, -0.1619, -0.0886, -0.0291,\n",
              "                      -0.0800,  0.0557], device='cuda:0'))])"
            ]
          },
          "metadata": {},
          "execution_count": 9
        }
      ]
    },
    {
      "cell_type": "code",
      "execution_count": 10,
      "metadata": {
        "id": "3w9QW9Lfp1aV",
        "colab": {
          "base_uri": "https://localhost:8080/"
        },
        "outputId": "0acde1ee-e68a-49a9-eb5a-682e0a3df342"
      },
      "outputs": [
        {
          "output_type": "execute_result",
          "data": {
            "text/plain": [
              "LSTM_Model_label(\n",
              "  (lstm): LSTM(41, 64, num_layers=2, batch_first=True, dropout=0.5, bidirectional=True)\n",
              "  (fc_layers): Sequential(\n",
              "    (0): Linear(in_features=128, out_features=128, bias=True)\n",
              "    (1): Tanh()\n",
              "    (2): Linear(in_features=128, out_features=64, bias=True)\n",
              "    (3): ReLU()\n",
              "    (4): Linear(in_features=64, out_features=32, bias=True)\n",
              "    (5): Sigmoid()\n",
              "    (6): Linear(in_features=32, out_features=2, bias=True)\n",
              "  )\n",
              ")"
            ]
          },
          "metadata": {},
          "execution_count": 10
        }
      ],
      "source": [
        "my_model_label = LSTM_Model_label(num_classes_label, input_size, hidden_size, num_layers).to(device=device)\n",
        "my_model_label"
      ]
    },
    {
      "cell_type": "markdown",
      "metadata": {
        "id": "Cey1CId-jjis"
      },
      "source": [
        "# **optimizer and loss function**"
      ]
    },
    {
      "cell_type": "code",
      "execution_count": 11,
      "metadata": {
        "id": "WNuQFMAekNDH"
      },
      "outputs": [],
      "source": [
        "loss_fn1 = nn.CrossEntropyLoss().to(device=device)\n",
        "loss_fn2 = nn.CrossEntropyLoss().to(device=device)\n",
        "optimizer1 = opt.Adam(params=my_model_attack.parameters(),lr=learning_rate)\n",
        "optimizer2 = opt.Adam(params=my_model_label.parameters(),lr=learning_rate)"
      ]
    },
    {
      "cell_type": "code",
      "source": [
        "from sklearn.metrics import classification_report, confusion_matrix\n",
        "import itertools\n",
        "def plot_confusion_matrix(cm, classes,\n",
        "                          normalize=False,\n",
        "                          title='Confusion matrix',\n",
        "                          cmap=plt.cm.Greens):\n",
        "    \"\"\"\n",
        "    This function prints and plots the confusion matrix.\n",
        "    Normalization can be applied by setting `normalize=True`.\n",
        "    \"\"\"\n",
        "    if normalize:\n",
        "        cm = cm.astype('float') / cm.sum(axis=1)[:, np.newaxis]\n",
        "        print(\"Normalized confusion matrix\")\n",
        "    else:\n",
        "        print('Confusion matrix, without normalization')\n",
        "\n",
        "    print(cm)\n",
        "\n",
        "    plt.imshow(cm, interpolation='nearest', cmap=cmap)\n",
        "    plt.title(title)\n",
        "    plt.colorbar()\n",
        "    tick_marks = np.arange(len(classes))\n",
        "    plt.xticks(tick_marks, classes, rotation=45)\n",
        "    plt.yticks(tick_marks, classes)\n",
        "\n",
        "    fmt = '.2f' if normalize else 'd'\n",
        "    thresh = cm.max() / 2.\n",
        "    for i, j in itertools.product(range(cm.shape[0]), range(cm.shape[1])):\n",
        "        plt.text(j, i, format(cm[i, j], fmt),\n",
        "                 horizontalalignment=\"center\",\n",
        "                 color=\"white\" if cm[i, j] > thresh else \"black\")\n",
        "\n",
        "    plt.tight_layout()\n",
        "    plt.ylabel('True label')\n",
        "    plt.xlabel('Predicted label')\n"
      ],
      "metadata": {
        "id": "KarvZRUVOMlb"
      },
      "execution_count": 12,
      "outputs": []
    },
    {
      "cell_type": "markdown",
      "metadata": {
        "id": "4JYcovfYlpHM"
      },
      "source": [
        "# **train attack cat**"
      ]
    },
    {
      "cell_type": "code",
      "execution_count": 13,
      "metadata": {
        "id": "Qmw8w1eTkeBu",
        "colab": {
          "base_uri": "https://localhost:8080/",
          "height": 486
        },
        "outputId": "3126f590-4b8e-498f-827e-0a307eeb7a06"
      },
      "outputs": [
        {
          "output_type": "stream",
          "name": "stdout",
          "text": [
            "Epoch: 0, loss: 0.9046\n",
            "Epoch: 50, loss: 0.5351\n",
            "Epoch: 100, loss: 0.4490\n",
            "Epoch: 150, loss: 0.4362\n",
            "Epoch: 200, loss: 0.4292\n",
            "Epoch: 250, loss: 0.4474\n",
            "Epoch: 300, loss: 0.3682\n",
            "Epoch: 350, loss: 0.3715\n",
            "Epoch: 400, loss: 0.4093\n",
            "Epoch: 450, loss: 0.3897\n",
            "Epoch: 500, loss: 0.3745\n",
            "Execution Time : 1125109.1250\n"
          ]
        },
        {
          "output_type": "display_data",
          "data": {
            "text/plain": [
              "<Figure size 432x288 with 1 Axes>"
            ],
            "image/png": "[encoded data removed]"
          },
          "metadata": {
            "needs_background": "light"
          }
        }
      ],
      "source": [
        "start = torch.cuda.Event(enable_timing=True)\n",
        "end = torch.cuda.Event(enable_timing=True)\n",
        "\n",
        "start.record()\n",
        "\n",
        "loss_plot = list()\n",
        "\n",
        "for epoch in range(num_epoch+1):\n",
        "\n",
        "    for batch_x, batch_y in train_attack_cat_dataloader:\n",
        "\n",
        "        batch_x = torch.reshape(batch_x, (batch_x.shape[0], 1, batch_x.shape[1])) #RuntimeError: For unbatched 2-D input, hx and cx should also be 2-D but got (3-D, 3-D) tensors\n",
        "        \n",
        "        batch_x = batch_x.to(device)\n",
        "        batch_y = batch_y.to(device)\n",
        "\n",
        "        optimizer1.zero_grad()\n",
        "        loss1 = loss_fn1(my_model_attack(batch_x) , batch_y)\n",
        "        loss1.backward() \n",
        "        optimizer1.step()\n",
        "\n",
        "    if epoch % 50 == 0:\n",
        "         print(\"Epoch: %d, loss: %.4f\" % (epoch, loss1.item())) \n",
        "         loss_plot.append(loss1.item())         \n",
        "\n",
        "end.record()\n",
        "\n",
        "# Waits for everything to finish running\n",
        "torch.cuda.synchronize()\n",
        "\n",
        "print(\"Execution Time : %.4f\" % (start.elapsed_time(end)))\n",
        "\n",
        "plt.plot(range(len(loss_plot)),np.asarray(loss_plot))\n",
        "plt.show()"
      ]
    },
    {
      "cell_type": "markdown",
      "metadata": {
        "id": "PQaRCMJPls5N"
      },
      "source": [
        "# **test attack cat**"
      ]
    },
    {
      "cell_type": "code",
      "execution_count": 14,
      "metadata": {
        "id": "QrtYzVT4loMQ",
        "colab": {
          "base_uri": "https://localhost:8080/"
        },
        "outputId": "9f136a20-fd11-4dee-da40-8a706099ea8f"
      },
      "outputs": [
        {
          "output_type": "stream",
          "name": "stdout",
          "text": [
            "acc : 82.25%\n"
          ]
        }
      ],
      "source": [
        "correct = 0\n",
        "y_test, yhat = list(), list()\n",
        "\n",
        "for batch_x, labl in test_attack_cat_dataloader:\n",
        "  \n",
        "    batch_x = torch.reshape(batch_x, (batch_x.shape[0], 1, batch_x.shape[1])) #RuntimeError: For unbatched 2-D input, hx and cx should also be 2-D but got (3-D, 3-D) tensors\n",
        "  \n",
        "    batch_x = batch_x.to(device)\n",
        "    labl = labl.to(device)\n",
        "\n",
        "    out = my_model_attack(batch_x)\n",
        "    _,predicted = torch.max(out,1)\n",
        "    correct += torch.sum(predicted == labl)\n",
        "    \n",
        "    for i in labl.cpu().detach().numpy():\n",
        "        y_test.append(i)\n",
        "    for i in predicted.cpu().detach().numpy():\n",
        "        yhat.append(i)\n",
        "\n",
        "print(\"acc : %.2f\" % (100.*correct / len(test_attack_cat)),end=\"\")\n",
        "print(\"%\")"
      ]
    },
    {
      "cell_type": "code",
      "source": [
        "# Compute confusion matrix\n",
        "cnf_matrix = confusion_matrix(y_test, yhat, labels=[9,8,7,6,5,4,3,2,1,0])\n",
        "np.set_printoptions(precision=2)\n",
        "\n",
        "\n",
        "# Plot non-normalized confusion matrix\n",
        "plt.figure(figsize=(20,10))\n",
        "plot_confusion_matrix(cnf_matrix, classes=['Worms','Shellcode','Reconnaissance','Normal','Generic','Fuzzers','Exploits','DoS','Backdoor','Analysis'],normalize= False,  title='Confusion matrix')"
      ],
      "metadata": {
        "id": "wMopc3OSIo8T",
        "colab": {
          "base_uri": "https://localhost:8080/",
          "height": 946
        },
        "outputId": "09b160fc-eba9-4869-acf4-fa09ad34fbc6"
      },
      "execution_count": 15,
      "outputs": [
        {
          "output_type": "stream",
          "name": "stdout",
          "text": [
            "Confusion matrix, without normalization\n",
            "[[    5     0     0     0     0     3    31     2     0     0]\n",
            " [    0   260    43    37     9    29    55    13     0     0]\n",
            " [    0    19  3229    22     6    14   872    44     3     0]\n",
            " [    0    27    45 26063    11  1400   209    33     1     7]\n",
            " [    1    12     4    16 17250    23   254    52     3     0]\n",
            " [    0    52    32  2277    12  4174   707    36     4     0]\n",
            " [    3    57   257   304    49   394 11951   385    11     5]\n",
            " [    1    43    44    61    20   122  4139   558     6     2]\n",
            " [    0     8     6     3     1   113   470    25    47     0]\n",
            " [    0     0     0   125     0   102   519    25     0    44]]\n"
          ]
        },
        {
          "output_type": "display_data",
          "data": {
            "text/plain": [
              "<Figure size 1440x720 with 2 Axes>"
            ],
            "image/png": "[encoded data removed]"
          },
          "metadata": {
            "needs_background": "light"
          }
        }
      ]
    },
    {
      "cell_type": "code",
      "source": [
        "print (classification_report(y_test, yhat))"
      ],
      "metadata": {
        "id": "n0Q0BWzQIuCA",
        "colab": {
          "base_uri": "https://localhost:8080/"
        },
        "outputId": "a2eca740-0fb7-45bc-f01f-92de64e4156f"
      },
      "execution_count": 16,
      "outputs": [
        {
          "output_type": "stream",
          "name": "stdout",
          "text": [
            "              precision    recall  f1-score   support\n",
            "\n",
            "           0       0.76      0.05      0.10       815\n",
            "           1       0.63      0.07      0.13       673\n",
            "           2       0.48      0.11      0.18      4996\n",
            "           3       0.62      0.89      0.73     13416\n",
            "           4       0.65      0.57      0.61      7294\n",
            "           5       0.99      0.98      0.99     17615\n",
            "           6       0.90      0.94      0.92     27796\n",
            "           7       0.88      0.77      0.82      4209\n",
            "           8       0.54      0.58      0.56       446\n",
            "           9       0.50      0.12      0.20        41\n",
            "\n",
            "    accuracy                           0.82     77301\n",
            "   macro avg       0.70      0.51      0.52     77301\n",
            "weighted avg       0.82      0.82      0.80     77301\n",
            "\n"
          ]
        }
      ]
    },
    {
      "cell_type": "markdown",
      "metadata": {
        "id": "pLqOLtA6tQht"
      },
      "source": [
        "# **train label**"
      ]
    },
    {
      "cell_type": "code",
      "execution_count": 17,
      "metadata": {
        "id": "Xm1cu1GhtMJO",
        "colab": {
          "base_uri": "https://localhost:8080/",
          "height": 489
        },
        "outputId": "757624ee-5656-4fa1-f0a5-a3a55c7dbb87"
      },
      "outputs": [
        {
          "output_type": "stream",
          "name": "stdout",
          "text": [
            "Epoch: 0, loss: 0.1956\n",
            "Epoch: 50, loss: 0.1869\n",
            "Epoch: 100, loss: 0.1349\n",
            "Epoch: 150, loss: 0.1076\n",
            "Epoch: 200, loss: 0.1504\n",
            "Epoch: 250, loss: 0.1156\n",
            "Epoch: 300, loss: 0.0961\n",
            "Epoch: 350, loss: 0.1212\n",
            "Epoch: 400, loss: 0.1360\n",
            "Epoch: 450, loss: 0.1083\n",
            "Epoch: 500, loss: 0.1096\n",
            "Execution Time : 1130231.6250\n"
          ]
        },
        {
          "output_type": "display_data",
          "data": {
            "text/plain": [
              "<Figure size 432x288 with 1 Axes>"
            ],
            "image/png": "[encoded data removed]"
          },
          "metadata": {
            "needs_background": "light"
          }
        }
      ],
      "source": [
        "start = torch.cuda.Event(enable_timing=True)\n",
        "end = torch.cuda.Event(enable_timing=True)\n",
        "\n",
        "start.record()\n",
        "\n",
        "loss_plot = list()\n",
        "\n",
        "for epoch in range(num_epoch+1):\n",
        "\n",
        "    for batch_x, batch_y in train_label_dataloader:\n",
        "\n",
        "        batch_x = torch.reshape(batch_x, (batch_x.shape[0], 1, batch_x.shape[1])) #RuntimeError: For unbatched 2-D input, hx and cx should also be 2-D but got (3-D, 3-D) tensors\n",
        "        \n",
        "        batch_x = batch_x.to(device)\n",
        "        batch_y = batch_y.to(device)\n",
        "\n",
        "        optimizer2.zero_grad()\n",
        "        loss2 = loss_fn2(my_model_label(batch_x) , batch_y)\n",
        "        loss2.backward() \n",
        "        optimizer2.step()\n",
        "\n",
        "    if epoch % 50 == 0:\n",
        "         print(\"Epoch: %d, loss: %.4f\" % (epoch, loss2.item())) \n",
        "         loss_plot.append(loss2.item())         \n",
        "\n",
        "end.record()\n",
        "\n",
        "# Waits for everything to finish running\n",
        "torch.cuda.synchronize()\n",
        "\n",
        "print(\"Execution Time : %.4f\" % (start.elapsed_time(end)))\n",
        "\n",
        "plt.plot(range(len(loss_plot)),np.asarray(loss_plot))\n",
        "plt.show()"
      ]
    },
    {
      "cell_type": "markdown",
      "metadata": {
        "id": "Ig7VBqU0tfZd"
      },
      "source": [
        "# **test label**"
      ]
    },
    {
      "cell_type": "code",
      "execution_count": 18,
      "metadata": {
        "id": "a7u2bQ0WtiG2",
        "colab": {
          "base_uri": "https://localhost:8080/"
        },
        "outputId": "dbe7d367-84d0-4e4b-ddc5-816ae362fa2d"
      },
      "outputs": [
        {
          "output_type": "stream",
          "name": "stdout",
          "text": [
            "acc : 93.89%\n"
          ]
        }
      ],
      "source": [
        "correct = 0\n",
        "y_test, yhat = list(), list()\n",
        "\n",
        "for batch_x, labl in test_label_dataloader:\n",
        "\n",
        "    batch_x = torch.reshape(batch_x, (batch_x.shape[0], 1, batch_x.shape[1])) #RuntimeError: For unbatched 2-D input, hx and cx should also be 2-D but got (3-D, 3-D) tensors\n",
        "\n",
        "    batch_x = batch_x.to(device)\n",
        "    labl = labl.to(device)\n",
        "  \n",
        "    out = my_model_label(batch_x)\n",
        "    _,predicted = torch.max(out,1)\n",
        "    correct += torch.sum(predicted == labl)\n",
        "\n",
        "    for i in labl.cpu().detach().numpy():\n",
        "        y_test.append(i)\n",
        "    for i in predicted.cpu().detach().numpy():\n",
        "        yhat.append(i) \n",
        "        \n",
        "print(\"acc : %.2f\" % (100.*correct / len(test_label)),end=\"\")\n",
        "print(\"%\")"
      ]
    },
    {
      "cell_type": "code",
      "source": [
        "# Compute confusion matrix\n",
        "cnf_matrix = confusion_matrix(y_test, yhat, labels=[1,0])\n",
        "np.set_printoptions(precision=2)\n",
        "\n",
        "# Plot non-normalized confusion matrix\n",
        "plt.figure()\n",
        "plot_confusion_matrix(cnf_matrix, classes=['attack=1','attack=0'],normalize= False,  title='Confusion matrix')"
      ],
      "metadata": {
        "id": "U7pONQOXI2ck",
        "colab": {
          "base_uri": "https://localhost:8080/",
          "height": 366
        },
        "outputId": "d2c1d061-a1f6-4570-df01-72efca49f70b"
      },
      "execution_count": 19,
      "outputs": [
        {
          "output_type": "stream",
          "name": "stdout",
          "text": [
            "Confusion matrix, without normalization\n",
            "[[46867  2516]\n",
            " [ 2207 25711]]\n"
          ]
        },
        {
          "output_type": "display_data",
          "data": {
            "text/plain": [
              "<Figure size 432x288 with 2 Axes>"
            ],
            "image/png": "[encoded data removed]"
          },
          "metadata": {
            "needs_background": "light"
          }
        }
      ]
    },
    {
      "cell_type": "code",
      "source": [
        "print (classification_report(y_test, yhat))"
      ],
      "metadata": {
        "id": "YQVszS1pI3xi",
        "colab": {
          "base_uri": "https://localhost:8080/"
        },
        "outputId": "d928e0f9-5a56-48ca-b5e7-f738426bc7e7"
      },
      "execution_count": 20,
      "outputs": [
        {
          "output_type": "stream",
          "name": "stdout",
          "text": [
            "              precision    recall  f1-score   support\n",
            "\n",
            "           0       0.91      0.92      0.92     27918\n",
            "           1       0.96      0.95      0.95     49383\n",
            "\n",
            "    accuracy                           0.94     77301\n",
            "   macro avg       0.93      0.93      0.93     77301\n",
            "weighted avg       0.94      0.94      0.94     77301\n",
            "\n"
          ]
        }
      ]
    }
  ],
  "metadata": {
    "accelerator": "GPU",
    "colab": {
      "collapsed_sections": [],
      "provenance": []
    },
    "gpuClass": "standard",
    "kernelspec": {
      "display_name": "Python 3",
      "name": "python3"
    },
    "language_info": {
      "name": "python"
    }
  },
  "nbformat": 4,
  "nbformat_minor": 0
}