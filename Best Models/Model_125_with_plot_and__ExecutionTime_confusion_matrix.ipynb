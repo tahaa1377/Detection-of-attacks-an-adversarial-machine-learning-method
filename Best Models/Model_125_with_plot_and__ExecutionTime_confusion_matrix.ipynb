{
  "cells": [
    {
      "cell_type": "code",
      "execution_count": 1,
      "metadata": {
        "id": "Ff1b4PxtBQuc"
      },
      "outputs": [],
      "source": [
        "num_epoch = 500      \n",
        "learning_rate = 0.002\n",
        "batch_size = 1000\n",
        "\n",
        "hidden_size = 16 #number of features in hidden state\n",
        "num_layers = 3  #number of stacked lstm layers\n",
        "bidirectional = True\n",
        "drop_out = 0\n",
        "bidirectional_forward_backward = 2 if bidirectional else 1\n",
        "\n",
        "input_size = 41 #number of features\n",
        "num_classes_attack_cat = 10 #number of output classes \n",
        "num_classes_label = 2       #number of output classes "
      ]
    },
    {
      "cell_type": "code",
      "source": [
        "from google.colab import drive\n",
        "drive.mount('/content/drive')"
      ],
      "metadata": {
        "colab": {
          "base_uri": "https://localhost:8080/"
        },
        "id": "0Gua0hky6SDJ",
        "outputId": "4a4f15fe-7495-48ad-a6bd-6d842d975de9"
      },
      "execution_count": 2,
      "outputs": [
        {
          "output_type": "stream",
          "name": "stdout",
          "text": [
            "Mounted at /content/drive\n"
          ]
        }
      ]
    },
    {
      "cell_type": "code",
      "execution_count": 3,
      "metadata": {
        "id": "hZiaj4uT24DH",
        "colab": {
          "base_uri": "https://localhost:8080/"
        },
        "outputId": "4fdbfcfd-18b9-4473-d9df-bfdae6b4432d"
      },
      "outputs": [
        {
          "output_type": "stream",
          "name": "stdout",
          "text": [
            "GPU\n"
          ]
        }
      ],
      "source": [
        "import pandas as pd\n",
        "from matplotlib import pyplot as plt\n",
        "import numpy as np\n",
        "from torch.utils.data.dataset import Dataset\n",
        "from torch.utils.data import random_split, DataLoader\n",
        "import torch\n",
        "from sklearn.preprocessing import LabelEncoder\n",
        "from sklearn import preprocessing\n",
        "import torch.nn as nn\n",
        "import torch.nn.functional as F\n",
        "import torch.optim as opt\n",
        "from torch.autograd import Variable \n",
        "\n",
        "# GPU OR CPU\n",
        "if torch.cuda.is_available():\n",
        "    device = torch.device(\"cuda:0\")\n",
        "    print(\"GPU\")\n",
        "else:\n",
        "    device = torch.device(\"cpu\")\n",
        "    print(\"CPU\")"
      ]
    },
    {
      "cell_type": "code",
      "execution_count": 4,
      "metadata": {
        "id": "Sv-R_m6Z1EL5"
      },
      "outputs": [],
      "source": [
        "class DataSet_UNSWNB15_attack_cat(Dataset):\n",
        "\n",
        "    def __init__(self,data_set_path):\n",
        "        df = pd.read_csv(data_set_path)\n",
        "        print(df.attack_cat.value_counts().sort_values().plot(kind = \"barh\"))\n",
        "        print(df['attack_cat'].value_counts())\n",
        "\n",
        "        # preprocceing\n",
        "        df.drop(['id',\"Unnamed: 0\",\"service\",\"label\"], axis=1, inplace=True)        \n",
        "        cols = ['attack_cat' ,'proto' ,'state']\n",
        "        df[cols] = df[cols].apply(LabelEncoder().fit_transform)\n",
        "        print(df['attack_cat'].value_counts())\n",
        "\n",
        "        self.data_array = df.values\n",
        "        self.x = self.data_array[:, :41]\n",
        "        self.y = self.data_array[:, 41]\n",
        "      \n",
        "        # normalaized data\n",
        "        scaler = preprocessing.StandardScaler().fit(self.x)\n",
        "        self.x = scaler.transform(self.x)\n",
        "\n",
        "        self.x = torch.tensor(self.x).float()\n",
        "        self.y = torch.tensor(self.y).long()\n",
        "\n",
        "    def __len__(self):\n",
        "        return len(self.data_array)\n",
        "\n",
        "    def __getitem__(self, item):\n",
        "        sample = (self.x[item, :], self.y[item])\n",
        "        return sample\n",
        "\n",
        "        \n",
        "class DataSet_UNSWNB15_label(Dataset):\n",
        "\n",
        "    def __init__(self,data_set_path):\n",
        "        df = pd.read_csv(data_set_path)\n",
        "        print(df.label.value_counts().sort_values().plot(kind = \"pie\"))\n",
        "\n",
        "        # preprocceing\n",
        "        df.drop(['id',\"Unnamed: 0\",\"service\",\"attack_cat\"], axis=1, inplace=True)\n",
        "        cols = ['proto' ,'state']\n",
        "        df[cols] = df[cols].apply(LabelEncoder().fit_transform)\n",
        "\n",
        "        self.data_array = df.values\n",
        "        self.x = self.data_array[:, :41]\n",
        "        self.y = self.data_array[:, 41]\n",
        "        \n",
        "        # normalaized data\n",
        "        scaler = preprocessing.StandardScaler().fit(self.x)\n",
        "        self.x = scaler.transform(self.x)\n",
        "\n",
        "        self.x = torch.tensor(self.x).float()\n",
        "        self.y = torch.tensor(self.y).long()\n",
        "\n",
        "    def __len__(self):\n",
        "        return len(self.data_array)\n",
        "\n",
        "    def __getitem__(self, item):\n",
        "        sample = (self.x[item, :], self.y[item])\n",
        "        return sample"
      ]
    },
    {
      "cell_type": "code",
      "execution_count": 5,
      "metadata": {
        "id": "UykLrbQZ1R7K",
        "colab": {
          "base_uri": "https://localhost:8080/",
          "height": 689
        },
        "outputId": "d9d58563-3ae9-40ae-d777-e15d4f408fe5"
      },
      "outputs": [
        {
          "output_type": "stream",
          "name": "stdout",
          "text": [
            "AxesSubplot(0.125,0.125;0.775x0.755)\n",
            "Normal            93000\n",
            "Generic           58871\n",
            "Exploits          44525\n",
            "Fuzzers           24246\n",
            "DoS               16353\n",
            "Reconnaissance    13987\n",
            "Analysis           2677\n",
            "Backdoor           2329\n",
            "Shellcode          1511\n",
            "Worms               174\n",
            "Name: attack_cat, dtype: int64\n",
            "6    93000\n",
            "5    58871\n",
            "3    44525\n",
            "4    24246\n",
            "2    16353\n",
            "7    13987\n",
            "0     2677\n",
            "1     2329\n",
            "8     1511\n",
            "9      174\n",
            "Name: attack_cat, dtype: int64\n"
          ]
        },
        {
          "output_type": "display_data",
          "data": {
            "text/plain": [
              "<Figure size 432x288 with 1 Axes>"
            ],
            "image/png": "[encoded data removed]"
          },
          "metadata": {
            "needs_background": "light"
          }
        }
      ],
      "source": [
        "dataset_attack_cat = DataSet_UNSWNB15_attack_cat(\"/content/drive/MyDrive/datasets/UNSW-NB15/UNSW_NB15.csv\")\n",
        "number_of_test = int(len(dataset_attack_cat)*0.3)\n",
        "number_of_train = len(dataset_attack_cat) - int(len(dataset_attack_cat)*0.3)\n",
        "train_attack_cat ,test_attack_cat = random_split(dataset=dataset_attack_cat, lengths=[number_of_train,number_of_test])\n",
        "\n",
        "train_attack_cat_dataloader = DataLoader(dataset=train_attack_cat ,batch_size=batch_size ,shuffle=True)\n",
        "test_attack_cat_dataloader = DataLoader(dataset=test_attack_cat ,batch_size=batch_size ,shuffle=True)"
      ]
    },
    {
      "cell_type": "code",
      "execution_count": 6,
      "metadata": {
        "id": "LmFY9Q-u29T3",
        "colab": {
          "base_uri": "https://localhost:8080/",
          "height": 266
        },
        "outputId": "9b9545b6-3925-4754-952b-3a97d5a79636"
      },
      "outputs": [
        {
          "output_type": "stream",
          "name": "stdout",
          "text": [
            "AxesSubplot(0.260833,0.125;0.503333x0.755)\n"
          ]
        },
        {
          "output_type": "display_data",
          "data": {
            "text/plain": [
              "<Figure size 432x288 with 1 Axes>"
            ],
            "image/png": "[encoded data removed]"
          },
          "metadata": {}
        }
      ],
      "source": [
        "dataset_label = DataSet_UNSWNB15_label(\"/content/drive/MyDrive/datasets/UNSW-NB15/UNSW_NB15.csv\")\n",
        "number_of_test = int(len(dataset_label)*0.3)\n",
        "number_of_train = len(dataset_label) - int(len(dataset_label)*0.3)\n",
        "train_label ,test_label = random_split(dataset=dataset_label, lengths=[number_of_train,number_of_test])\n",
        "\n",
        "train_label_dataloader = DataLoader(dataset=train_label ,batch_size=batch_size ,shuffle=True)\n",
        "test_label_dataloader = DataLoader(dataset=test_label ,batch_size=batch_size ,shuffle=True)"
      ]
    },
    {
      "cell_type": "markdown",
      "metadata": {
        "id": "0HslPLv2IOGd"
      },
      "source": [
        "# **preprocessing ended**\n",
        "\n",
        "# **create model**"
      ]
    },
    {
      "cell_type": "markdown",
      "source": [
        "![bilstm-1.webp](data:image/webp;base64,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)"
      ],
      "metadata": {
        "id": "F2hNvBs6qBQS"
      }
    },
    {
      "cell_type": "code",
      "execution_count": 7,
      "metadata": {
        "id": "oN6DuQbJibuE"
      },
      "outputs": [],
      "source": [
        "class LSTM_Model_attack(nn.Module):\n",
        "    def __init__(self, num_classes, input_size, hidden_size, num_layers):\n",
        "        super(LSTM_Model_attack, self).__init__()\n",
        "        self.num_classes = num_classes #number of classes\n",
        "        self.num_layers = num_layers #number of layers\n",
        "        self.input_size = input_size #input size\n",
        "        self.hidden_size = hidden_size #hidden state\n",
        "\n",
        "        self.lstm = nn.LSTM(input_size=input_size, hidden_size=hidden_size, num_layers=num_layers, batch_first=True,\n",
        "                            bidirectional=bidirectional, dropout=drop_out) #lstm\n",
        "\n",
        "        self.fc = nn.Linear(hidden_size * bidirectional_forward_backward, num_classes) #fully connected last layer\n",
        "                             # 2 => forward and backward for bidirectional\n",
        "    \n",
        "    def forward(self,x):\n",
        "                                                # 2 => forward and backward for bidirectional\n",
        "        h_0 = Variable(torch.zeros(self.num_layers * bidirectional_forward_backward, x.size(0), self.hidden_size)).to(device=device) #hidden state\n",
        "        c_0 = Variable(torch.zeros(self.num_layers * bidirectional_forward_backward, x.size(0), self.hidden_size)).to(device=device) #internal state\n",
        "\n",
        "        out, (hn, cn) = self.lstm(x, (h_0, c_0))\n",
        "        out = self.fc(out[:, -1, :]) \n",
        "        return out\n",
        "\n",
        "\n",
        "class LSTM_Model_label(nn.Module):\n",
        "    def __init__(self, num_classes, input_size, hidden_size, num_layers):\n",
        "        super(LSTM_Model_label, self).__init__()\n",
        "        self.num_classes = num_classes #number of classes\n",
        "        self.num_layers = num_layers #number of layers\n",
        "        self.input_size = input_size #input size\n",
        "        self.hidden_size = hidden_size #hidden state\n",
        "\n",
        "        self.lstm = nn.LSTM(input_size=input_size, hidden_size=hidden_size, num_layers=num_layers, batch_first=True, \n",
        "                            bidirectional=bidirectional, dropout=drop_out) #lstm\n",
        "\n",
        "        self.fc = nn.Linear(hidden_size * bidirectional_forward_backward, num_classes) #fully connected last layer\n",
        "\n",
        "    \n",
        "    def forward(self,x):\n",
        "        h_0 = Variable(torch.zeros(self.num_layers * bidirectional_forward_backward, x.size(0), self.hidden_size)).to(device=device) #hidden state\n",
        "        c_0 = Variable(torch.zeros(self.num_layers * bidirectional_forward_backward, x.size(0), self.hidden_size)).to(device=device) #internal state\n",
        "\n",
        "        out, (hn, cn) = self.lstm(x, (h_0, c_0))\n",
        "        out = self.fc(out[:, -1, :]) \n",
        "        return out\n"
      ]
    },
    {
      "cell_type": "code",
      "execution_count": 8,
      "metadata": {
        "id": "US8JfNI8j3zO",
        "colab": {
          "base_uri": "https://localhost:8080/"
        },
        "outputId": "fd1e41db-8e44-4f0a-fc61-a0860ae4a6b3"
      },
      "outputs": [
        {
          "output_type": "execute_result",
          "data": {
            "text/plain": [
              "LSTM_Model_attack(\n",
              "  (lstm): LSTM(41, 16, num_layers=3, batch_first=True, bidirectional=True)\n",
              "  (fc): Linear(in_features=32, out_features=10, bias=True)\n",
              ")"
            ]
          },
          "metadata": {},
          "execution_count": 8
        }
      ],
      "source": [
        "my_model_attack = LSTM_Model_attack(num_classes_attack_cat, input_size, hidden_size, num_layers).to(device=device)\n",
        "my_model_attack"
      ]
    },
    {
      "cell_type": "code",
      "source": [
        "my_model_attack.state_dict()"
      ],
      "metadata": {
        "id": "Dq8JkQZ9ukCs",
        "colab": {
          "base_uri": "https://localhost:8080/"
        },
        "outputId": "454fb7c5-6c54-4ba2-bea6-1744a06172af"
      },
      "execution_count": 9,
      "outputs": [
        {
          "output_type": "execute_result",
          "data": {
            "text/plain": [
              "OrderedDict([('lstm.weight_ih_l0',\n",
              "              tensor([[-0.0258,  0.2305, -0.1007,  ..., -0.0582,  0.0294,  0.0807],\n",
              "                      [ 0.0573,  0.1652,  0.0966,  ...,  0.0054, -0.0569, -0.0529],\n",
              "                      [-0.0343, -0.0462,  0.1564,  ...,  0.1797, -0.2495, -0.0136],\n",
              "                      ...,\n",
              "                      [-0.0462, -0.1887, -0.0973,  ...,  0.0296, -0.1928, -0.1555],\n",
              "                      [-0.0104, -0.2174, -0.1328,  ...,  0.1790,  0.0145,  0.1398],\n",
              "                      [ 0.1132,  0.0985, -0.1903,  ..., -0.0509,  0.1166,  0.0083]],\n",
              "                     device='cuda:0')),\n",
              "             ('lstm.weight_hh_l0',\n",
              "              tensor([[-0.2263,  0.0922, -0.1505,  ..., -0.1400,  0.1796, -0.2156],\n",
              "                      [-0.0411,  0.0911,  0.1699,  ..., -0.1099, -0.1562, -0.2331],\n",
              "                      [-0.1782,  0.1992,  0.2107,  ..., -0.2261,  0.1769, -0.0599],\n",
              "                      ...,\n",
              "                      [ 0.1669, -0.0010,  0.2411,  ...,  0.1050, -0.2299,  0.2437],\n",
              "                      [-0.1478,  0.0822,  0.1398,  ...,  0.0159, -0.1821,  0.2409],\n",
              "                      [ 0.0791,  0.0766,  0.0202,  ...,  0.2281,  0.2455, -0.0045]],\n",
              "                     device='cuda:0')),\n",
              "             ('lstm.bias_ih_l0',\n",
              "              tensor([ 1.1022e-01, -1.6134e-01,  9.9057e-02, -1.1293e-02,  1.9220e-01,\n",
              "                       6.2907e-02, -1.6658e-01,  1.9719e-01,  2.2612e-01, -1.9217e-01,\n",
              "                      -1.4025e-01, -2.3393e-01,  1.7702e-01,  5.3679e-02,  8.5042e-02,\n",
              "                      -1.7843e-01,  6.6523e-02, -8.9399e-02, -1.8493e-01,  1.2519e-01,\n",
              "                      -8.2762e-02,  1.2083e-01,  7.8376e-02,  1.4805e-02, -2.6850e-02,\n",
              "                      -9.4419e-02,  6.2082e-02,  2.2060e-01,  1.0249e-01,  1.8225e-01,\n",
              "                      -6.3609e-03,  8.4504e-02, -2.2304e-01, -2.4603e-01,  2.2313e-01,\n",
              "                       1.1119e-01,  2.3781e-01, -1.1502e-01, -1.0978e-01,  1.7439e-01,\n",
              "                       1.2323e-04, -1.7174e-01,  1.4221e-01, -1.7553e-01,  4.6385e-02,\n",
              "                       1.0412e-01,  2.4930e-02, -4.3133e-02,  7.7350e-02, -1.1611e-01,\n",
              "                       8.3633e-02,  3.9759e-02,  2.1651e-01, -1.4290e-01,  2.9746e-02,\n",
              "                      -1.1800e-01, -2.0565e-01, -6.7192e-02,  2.1947e-01,  2.2723e-01,\n",
              "                       1.0850e-01,  1.7415e-01,  2.4990e-01, -2.4847e-01], device='cuda:0')),\n",
              "             ('lstm.bias_hh_l0',\n",
              "              tensor([ 0.1215,  0.1499,  0.1384, -0.2214,  0.0955,  0.2457,  0.1964,  0.2429,\n",
              "                      -0.0305,  0.2242,  0.2268, -0.1486, -0.0691,  0.1069,  0.0015, -0.1271,\n",
              "                      -0.0924, -0.0148, -0.0857,  0.1913, -0.0269, -0.0229, -0.2047, -0.0294,\n",
              "                       0.0594, -0.0480,  0.0083,  0.1449,  0.1090, -0.0507,  0.1641, -0.2330,\n",
              "                      -0.0770, -0.1268,  0.1705,  0.1170,  0.2174,  0.0537, -0.1967, -0.0556,\n",
              "                      -0.1820, -0.0067, -0.0920, -0.1949,  0.0773,  0.2306, -0.1116, -0.0911,\n",
              "                       0.0414,  0.0142,  0.0988, -0.1733,  0.0571,  0.1240,  0.1370,  0.0098,\n",
              "                       0.0423,  0.0040, -0.0912,  0.0023, -0.0977,  0.0590,  0.0868, -0.0322],\n",
              "                     device='cuda:0')),\n",
              "             ('lstm.weight_ih_l0_reverse',\n",
              "              tensor([[ 0.1000,  0.2007,  0.2114,  ..., -0.2399,  0.1751, -0.0165],\n",
              "                      [ 0.0799,  0.1389, -0.1765,  ...,  0.2150, -0.1935, -0.1289],\n",
              "                      [-0.0082, -0.1636,  0.0684,  ..., -0.0330, -0.0821,  0.0301],\n",
              "                      ...,\n",
              "                      [-0.1922, -0.1602, -0.1368,  ...,  0.2309, -0.0311, -0.0736],\n",
              "                      [ 0.0797,  0.0870, -0.2462,  ..., -0.0050, -0.0294, -0.1574],\n",
              "                      [ 0.2255,  0.0140,  0.2138,  ..., -0.0531,  0.1945,  0.1072]],\n",
              "                     device='cuda:0')),\n",
              "             ('lstm.weight_hh_l0_reverse',\n",
              "              tensor([[-0.1309, -0.1510,  0.1718,  ...,  0.0823, -0.0626, -0.1747],\n",
              "                      [ 0.2469, -0.1980, -0.0773,  ..., -0.1473, -0.1986, -0.0320],\n",
              "                      [ 0.2071,  0.1892,  0.1994,  ...,  0.0613, -0.0194,  0.0979],\n",
              "                      ...,\n",
              "                      [ 0.2165,  0.1658, -0.2207,  ...,  0.0503, -0.2348, -0.0538],\n",
              "                      [-0.2392,  0.0171,  0.0137,  ...,  0.0472,  0.1937, -0.0451],\n",
              "                      [-0.0508, -0.1240, -0.1580,  ...,  0.0184,  0.2414,  0.1655]],\n",
              "                     device='cuda:0')),\n",
              "             ('lstm.bias_ih_l0_reverse',\n",
              "              tensor([ 0.1744, -0.2382,  0.0822,  0.0403,  0.1817,  0.0979,  0.0758,  0.0652,\n",
              "                      -0.0749,  0.0937, -0.2287,  0.2280,  0.1205,  0.1666,  0.0056, -0.1516,\n",
              "                       0.1064,  0.2352,  0.0558,  0.1764, -0.0126, -0.0565,  0.1840,  0.0608,\n",
              "                      -0.1145,  0.0424, -0.1982,  0.0511, -0.2081,  0.0402,  0.2437,  0.2405,\n",
              "                       0.2404, -0.0123,  0.1008, -0.0903,  0.1589, -0.2455,  0.0130, -0.1793,\n",
              "                      -0.1488,  0.1370, -0.1639,  0.2039, -0.2381, -0.1278, -0.2123, -0.0184,\n",
              "                      -0.1663, -0.1613, -0.0022,  0.1157,  0.2401,  0.1066,  0.2320,  0.1381,\n",
              "                       0.0554, -0.0585,  0.1447,  0.1660, -0.1930,  0.1872,  0.0172,  0.0714],\n",
              "                     device='cuda:0')),\n",
              "             ('lstm.bias_hh_l0_reverse',\n",
              "              tensor([-0.0749,  0.0854, -0.0044, -0.1180, -0.0759, -0.2453, -0.0981,  0.0513,\n",
              "                      -0.1739,  0.1023,  0.1718,  0.2479,  0.0386, -0.0079,  0.1998,  0.0164,\n",
              "                      -0.1115, -0.1180,  0.1572,  0.0240, -0.1354,  0.0465, -0.1264,  0.2162,\n",
              "                       0.0957,  0.0268,  0.1290,  0.1615, -0.1792, -0.1817,  0.1366,  0.1089,\n",
              "                       0.0390, -0.0957,  0.0535, -0.0972,  0.0254, -0.0543,  0.1280, -0.0752,\n",
              "                       0.0515,  0.2116,  0.0136,  0.2267, -0.1876, -0.0194, -0.1232, -0.2277,\n",
              "                       0.1786,  0.1913, -0.0891, -0.2228, -0.0039,  0.2405, -0.1877,  0.1739,\n",
              "                      -0.2091, -0.1026,  0.0214, -0.1508, -0.2193,  0.0551,  0.2121, -0.1366],\n",
              "                     device='cuda:0')),\n",
              "             ('lstm.weight_ih_l1',\n",
              "              tensor([[ 0.0421, -0.1003,  0.1940,  ...,  0.1511,  0.1000, -0.1179],\n",
              "                      [ 0.2453, -0.2449,  0.1600,  ...,  0.2154, -0.1636,  0.0833],\n",
              "                      [ 0.0166, -0.1272,  0.1860,  ..., -0.0961,  0.0907, -0.1846],\n",
              "                      ...,\n",
              "                      [ 0.1297, -0.1144,  0.1762,  ...,  0.0456,  0.1707,  0.0421],\n",
              "                      [ 0.0503, -0.0481,  0.0661,  ...,  0.1901, -0.0458,  0.0225],\n",
              "                      [ 0.0066,  0.1844, -0.2416,  ...,  0.0908, -0.0873,  0.0516]],\n",
              "                     device='cuda:0')),\n",
              "             ('lstm.weight_hh_l1',\n",
              "              tensor([[ 0.0209, -0.0035,  0.0218,  ..., -0.2339, -0.2029, -0.0625],\n",
              "                      [-0.2130,  0.2230,  0.0675,  ..., -0.2350,  0.0840,  0.2012],\n",
              "                      [-0.0449, -0.2484,  0.0671,  ..., -0.1422,  0.1870, -0.0357],\n",
              "                      ...,\n",
              "                      [-0.1557, -0.0671,  0.0518,  ...,  0.0386,  0.0573,  0.0907],\n",
              "                      [-0.1029,  0.1609, -0.1837,  ..., -0.2033, -0.1109,  0.0697],\n",
              "                      [-0.0236,  0.2166,  0.1073,  ...,  0.1470, -0.0825,  0.1920]],\n",
              "                     device='cuda:0')),\n",
              "             ('lstm.bias_ih_l1',\n",
              "              tensor([ 0.0750,  0.0811, -0.0108,  0.2298, -0.2341, -0.1000, -0.0403,  0.0619,\n",
              "                      -0.2247,  0.1897, -0.1162, -0.0151,  0.1319, -0.1458, -0.1678, -0.2270,\n",
              "                       0.0729,  0.1101, -0.0245, -0.1999,  0.1504, -0.0758, -0.1812, -0.1246,\n",
              "                       0.0696, -0.0634, -0.2465, -0.1476,  0.2426,  0.0529,  0.0385,  0.1409,\n",
              "                      -0.0413,  0.0629, -0.2003, -0.1722, -0.0085,  0.2426, -0.1488,  0.0469,\n",
              "                       0.2038, -0.1045, -0.0118, -0.0031, -0.1645, -0.0345, -0.2439, -0.0446,\n",
              "                       0.1743,  0.1661, -0.0844, -0.0211, -0.2362, -0.1776,  0.1361,  0.0266,\n",
              "                       0.2482,  0.0333,  0.0271,  0.1451, -0.0354, -0.2465,  0.1098,  0.1090],\n",
              "                     device='cuda:0')),\n",
              "             ('lstm.bias_hh_l1',\n",
              "              tensor([ 0.2363,  0.0190,  0.0105, -0.2243,  0.2046, -0.1950, -0.1299,  0.1576,\n",
              "                      -0.0750,  0.1446,  0.2159,  0.0819, -0.1062,  0.0681,  0.1976,  0.1195,\n",
              "                      -0.0575, -0.0929, -0.1278, -0.0330,  0.2430,  0.0249, -0.2008,  0.0107,\n",
              "                      -0.0397,  0.0784,  0.0501, -0.2448,  0.2146,  0.2016, -0.2103, -0.0364,\n",
              "                      -0.0977,  0.1138, -0.0124,  0.0198, -0.0049, -0.0333, -0.1061, -0.1174,\n",
              "                       0.0556,  0.1790,  0.1802, -0.1102,  0.1664,  0.0197, -0.0962,  0.1034,\n",
              "                      -0.0548, -0.0780,  0.0282,  0.2192,  0.1562, -0.0600, -0.2050,  0.0851,\n",
              "                      -0.2198, -0.2474, -0.0586, -0.0259, -0.1474, -0.1777, -0.0418, -0.0072],\n",
              "                     device='cuda:0')),\n",
              "             ('lstm.weight_ih_l1_reverse',\n",
              "              tensor([[ 0.1769, -0.0296,  0.1066,  ..., -0.0102, -0.2358,  0.1095],\n",
              "                      [-0.1553, -0.1785,  0.1110,  ...,  0.2037, -0.0120,  0.0579],\n",
              "                      [ 0.0785, -0.0745,  0.2366,  ...,  0.0148, -0.1016,  0.1393],\n",
              "                      ...,\n",
              "                      [-0.0182,  0.2021, -0.0891,  ..., -0.0336,  0.2138, -0.2053],\n",
              "                      [-0.2317,  0.1943, -0.2121,  ..., -0.2047,  0.2371,  0.1906],\n",
              "                      [ 0.1649, -0.0556, -0.1274,  ...,  0.0539,  0.1336, -0.2453]],\n",
              "                     device='cuda:0')),\n",
              "             ('lstm.weight_hh_l1_reverse',\n",
              "              tensor([[ 0.0169,  0.2382, -0.1285,  ..., -0.0870, -0.0116, -0.0954],\n",
              "                      [-0.1878,  0.0558, -0.1667,  ...,  0.0529, -0.1976,  0.1323],\n",
              "                      [ 0.1598,  0.2306,  0.1764,  ..., -0.1906,  0.2266, -0.0868],\n",
              "                      ...,\n",
              "                      [ 0.0429, -0.2341,  0.0289,  ...,  0.1219, -0.0708,  0.2191],\n",
              "                      [ 0.0733, -0.0305, -0.0941,  ..., -0.2006,  0.0773,  0.0544],\n",
              "                      [ 0.2092, -0.1106, -0.1384,  ...,  0.1754,  0.1423,  0.1046]],\n",
              "                     device='cuda:0')),\n",
              "             ('lstm.bias_ih_l1_reverse',\n",
              "              tensor([ 0.1357, -0.0303,  0.0489,  0.1655, -0.2227, -0.2205,  0.0742, -0.0084,\n",
              "                       0.0412,  0.0214,  0.1026, -0.2058, -0.1550,  0.0634,  0.0018,  0.1196,\n",
              "                       0.2492, -0.1097, -0.2122,  0.1024,  0.1867, -0.0904,  0.2493, -0.1895,\n",
              "                       0.0403,  0.1437, -0.0842,  0.0762, -0.1072, -0.1687, -0.1797, -0.0297,\n",
              "                       0.2346, -0.0122, -0.0024, -0.1848,  0.0484, -0.0334, -0.1573, -0.0505,\n",
              "                       0.1321, -0.1934, -0.1167, -0.1273, -0.1546,  0.0269,  0.0072,  0.1836,\n",
              "                      -0.0301, -0.0445,  0.1499,  0.2094,  0.0222, -0.2186, -0.0910,  0.1736,\n",
              "                      -0.0011,  0.0257, -0.1196,  0.2226,  0.0314, -0.0324,  0.0239, -0.0539],\n",
              "                     device='cuda:0')),\n",
              "             ('lstm.bias_hh_l1_reverse',\n",
              "              tensor([ 0.0171, -0.2113,  0.1958,  0.0581, -0.0777, -0.1939,  0.1957,  0.2447,\n",
              "                      -0.1382,  0.1601,  0.2073, -0.1427,  0.1976,  0.0208,  0.0581,  0.1590,\n",
              "                       0.2049, -0.2069,  0.1143, -0.2351, -0.0431, -0.0169, -0.1622,  0.1043,\n",
              "                       0.0926, -0.0449, -0.1822, -0.2338,  0.1928,  0.2105, -0.1899,  0.2407,\n",
              "                      -0.1125, -0.0304,  0.2132, -0.0829,  0.1732, -0.0902, -0.2266,  0.2079,\n",
              "                      -0.0947,  0.2351, -0.2174,  0.1949,  0.0552, -0.0819, -0.1776,  0.0225,\n",
              "                      -0.0319,  0.2424, -0.1049, -0.0683,  0.0860,  0.0182, -0.0993,  0.1503,\n",
              "                       0.1377, -0.1267,  0.0377, -0.2287, -0.1696,  0.0414,  0.0676, -0.1354],\n",
              "                     device='cuda:0')),\n",
              "             ('lstm.weight_ih_l2',\n",
              "              tensor([[-0.1618,  0.0722, -0.1240,  ...,  0.2214, -0.1877,  0.0225],\n",
              "                      [-0.2100, -0.0021,  0.1252,  ...,  0.2019,  0.1022,  0.0523],\n",
              "                      [-0.0590,  0.1592,  0.0642,  ...,  0.2445,  0.2058,  0.2066],\n",
              "                      ...,\n",
              "                      [ 0.0849, -0.0833,  0.0786,  ..., -0.2296, -0.1088,  0.2153],\n",
              "                      [-0.1749,  0.1055,  0.0988,  ..., -0.0625,  0.0050, -0.1278],\n",
              "                      [-0.2293,  0.1330, -0.0083,  ...,  0.1323, -0.1101,  0.2311]],\n",
              "                     device='cuda:0')),\n",
              "             ('lstm.weight_hh_l2',\n",
              "              tensor([[ 0.2347, -0.0360,  0.2264,  ..., -0.0237,  0.1875,  0.2298],\n",
              "                      [-0.0893, -0.0339,  0.0829,  ..., -0.2258, -0.1557,  0.0730],\n",
              "                      [ 0.1326, -0.2407, -0.1395,  ..., -0.2482,  0.1937, -0.1284],\n",
              "                      ...,\n",
              "                      [ 0.0304, -0.1078,  0.1612,  ...,  0.1073,  0.1681, -0.1537],\n",
              "                      [ 0.2280, -0.1824, -0.0740,  ...,  0.0291,  0.1464, -0.0973],\n",
              "                      [-0.2404,  0.1391,  0.0741,  ..., -0.1105,  0.0875, -0.1493]],\n",
              "                     device='cuda:0')),\n",
              "             ('lstm.bias_ih_l2',\n",
              "              tensor([-0.2282,  0.1315, -0.0146,  0.0749,  0.0024,  0.0972, -0.1130, -0.1367,\n",
              "                       0.0729, -0.1587, -0.0314, -0.0121,  0.1531, -0.0225,  0.2092,  0.1654,\n",
              "                      -0.0887,  0.0072,  0.0609, -0.1762,  0.0792,  0.2379, -0.1282,  0.1241,\n",
              "                      -0.0381,  0.0257,  0.2313,  0.1675, -0.0398, -0.2120,  0.0341,  0.0258,\n",
              "                       0.0391,  0.1978,  0.1353, -0.1158,  0.2460, -0.2361, -0.1070, -0.0044,\n",
              "                       0.0229, -0.0907,  0.0258,  0.1731, -0.0058,  0.0758, -0.2340,  0.1275,\n",
              "                       0.2040,  0.0683,  0.2481,  0.0566, -0.1072, -0.0141,  0.1121, -0.1345,\n",
              "                      -0.1739, -0.0097,  0.1103, -0.0099,  0.1588,  0.0688,  0.1753,  0.1465],\n",
              "                     device='cuda:0')),\n",
              "             ('lstm.bias_hh_l2',\n",
              "              tensor([ 0.0487,  0.1380,  0.2311, -0.0989,  0.2090, -0.1520, -0.0655,  0.1304,\n",
              "                      -0.1647,  0.0277, -0.1014,  0.1369, -0.2448, -0.1949,  0.2454,  0.1251,\n",
              "                      -0.0296, -0.2056,  0.1002,  0.1335,  0.0926,  0.0006,  0.1750, -0.0716,\n",
              "                      -0.1676, -0.2086, -0.0103, -0.0443,  0.0105,  0.0530, -0.2089,  0.2116,\n",
              "                       0.1694,  0.0032,  0.1225, -0.2108,  0.0869,  0.1528, -0.1371, -0.0726,\n",
              "                       0.0525, -0.1785,  0.0077,  0.1676, -0.1422, -0.0455, -0.0580,  0.0189,\n",
              "                      -0.2322, -0.1335, -0.2380,  0.0732, -0.0649, -0.1085,  0.0200, -0.1690,\n",
              "                       0.1214,  0.0868,  0.0371, -0.0712, -0.1523, -0.0075, -0.1802, -0.2173],\n",
              "                     device='cuda:0')),\n",
              "             ('lstm.weight_ih_l2_reverse',\n",
              "              tensor([[ 0.1742,  0.1755, -0.2275,  ...,  0.0741, -0.0654, -0.2035],\n",
              "                      [-0.1605, -0.1680,  0.2023,  ...,  0.0059,  0.0153, -0.1012],\n",
              "                      [ 0.0207,  0.0412, -0.2438,  ..., -0.0332,  0.1634, -0.0968],\n",
              "                      ...,\n",
              "                      [-0.2434, -0.0351,  0.0645,  ..., -0.1317,  0.1359, -0.1732],\n",
              "                      [ 0.0080,  0.0681, -0.1319,  ...,  0.2173,  0.0722, -0.0768],\n",
              "                      [ 0.0013,  0.0669,  0.0841,  ...,  0.0054,  0.0642, -0.0719]],\n",
              "                     device='cuda:0')),\n",
              "             ('lstm.weight_hh_l2_reverse',\n",
              "              tensor([[ 0.1162,  0.0721,  0.1142,  ...,  0.1963, -0.1028,  0.2327],\n",
              "                      [ 0.1189,  0.1245, -0.1240,  ..., -0.0216, -0.1630,  0.2345],\n",
              "                      [ 0.1235,  0.0535, -0.1177,  ..., -0.0219,  0.1418, -0.1342],\n",
              "                      ...,\n",
              "                      [-0.0826,  0.1016, -0.2164,  ...,  0.1014,  0.1388, -0.1990],\n",
              "                      [-0.0417,  0.1222,  0.0031,  ..., -0.1636,  0.1592, -0.1942],\n",
              "                      [ 0.1827, -0.2014,  0.0339,  ...,  0.1998, -0.0096, -0.1004]],\n",
              "                     device='cuda:0')),\n",
              "             ('lstm.bias_ih_l2_reverse',\n",
              "              tensor([ 0.0629,  0.2311, -0.0223, -0.2394, -0.1146, -0.0793,  0.1786,  0.2400,\n",
              "                      -0.1367,  0.1739,  0.2147,  0.1927, -0.1330, -0.2394,  0.2272, -0.0010,\n",
              "                       0.1978,  0.1286,  0.2384, -0.0752,  0.0305, -0.0805,  0.1604,  0.0832,\n",
              "                       0.1236,  0.1636,  0.1127, -0.0754,  0.2456, -0.0581,  0.1090,  0.1710,\n",
              "                      -0.1365,  0.0476, -0.0281, -0.2282,  0.1759, -0.1365,  0.1724,  0.0273,\n",
              "                      -0.1991,  0.0943, -0.1149,  0.1203, -0.2471,  0.1115, -0.0905, -0.2088,\n",
              "                      -0.0116,  0.0877,  0.1566,  0.0489,  0.0225, -0.1864,  0.2493,  0.1966,\n",
              "                      -0.1704,  0.2081, -0.1036, -0.1718,  0.0684,  0.0400, -0.1500,  0.0170],\n",
              "                     device='cuda:0')),\n",
              "             ('lstm.bias_hh_l2_reverse',\n",
              "              tensor([ 0.1276,  0.1941,  0.0626, -0.0879,  0.1687,  0.1854, -0.0255,  0.2172,\n",
              "                      -0.0178,  0.1029, -0.0734, -0.1045, -0.0389, -0.1873, -0.0036, -0.0348,\n",
              "                       0.1142, -0.1181,  0.0593, -0.1082, -0.1030, -0.1338,  0.0811, -0.2371,\n",
              "                      -0.1231, -0.1381, -0.0219,  0.2326, -0.1564,  0.2155,  0.1590, -0.0420,\n",
              "                      -0.2340, -0.1383, -0.0314,  0.1766,  0.1654,  0.2442, -0.1490, -0.1804,\n",
              "                       0.2363,  0.2311,  0.2058, -0.2404, -0.0599, -0.0068, -0.1083,  0.0367,\n",
              "                       0.1854, -0.1738, -0.1642, -0.1417, -0.1311,  0.2264, -0.2324,  0.2342,\n",
              "                      -0.0470, -0.0005, -0.0840,  0.0348, -0.0755, -0.1650, -0.2210,  0.0396],\n",
              "                     device='cuda:0')),\n",
              "             ('fc.weight',\n",
              "              tensor([[-0.0197, -0.0486, -0.0155,  0.1350,  0.0888, -0.0188, -0.0099,  0.0158,\n",
              "                       -0.0890,  0.0705, -0.1093, -0.1250,  0.1741,  0.0010, -0.0577,  0.0674,\n",
              "                       -0.1317, -0.1078,  0.0754, -0.0322, -0.0449, -0.0513,  0.1379,  0.1533,\n",
              "                        0.0970,  0.0752,  0.1649, -0.1516,  0.1713,  0.0960, -0.0768, -0.0719],\n",
              "                      [ 0.0361, -0.0628, -0.1140,  0.1346, -0.1026, -0.0582, -0.0664,  0.0860,\n",
              "                       -0.0065, -0.1196, -0.1319,  0.1427, -0.0787,  0.0371,  0.1009, -0.1307,\n",
              "                        0.0561,  0.0248, -0.0690,  0.0580,  0.0985, -0.1660, -0.0576, -0.0050,\n",
              "                        0.0770,  0.0131, -0.1327,  0.0003,  0.0220,  0.0657,  0.0071,  0.0809],\n",
              "                      [-0.1029, -0.1632,  0.0563, -0.0054,  0.0866,  0.1046, -0.1400,  0.0808,\n",
              "                       -0.0396,  0.0629,  0.1298,  0.1044,  0.0967, -0.1667, -0.0027, -0.1689,\n",
              "                        0.0733,  0.0181,  0.0939,  0.1707, -0.0701,  0.0732, -0.1579,  0.0459,\n",
              "                        0.0265, -0.1502,  0.1272,  0.0888,  0.0754, -0.0187,  0.0424,  0.1299],\n",
              "                      [ 0.0026,  0.1415,  0.1737, -0.0733, -0.1474,  0.1085,  0.0263,  0.1455,\n",
              "                        0.1764,  0.1408, -0.0300, -0.0684,  0.1032, -0.0080, -0.1496, -0.1528,\n",
              "                        0.0359,  0.0258,  0.1460, -0.1611,  0.0212, -0.0470, -0.0878, -0.0068,\n",
              "                        0.1113,  0.0363, -0.1122, -0.0883,  0.0151,  0.0233,  0.0028,  0.1417],\n",
              "                      [-0.0479, -0.0114,  0.1765, -0.0039, -0.0670, -0.0478,  0.0944,  0.1760,\n",
              "                        0.1305, -0.1655, -0.0837,  0.0818, -0.0345,  0.1564, -0.1386,  0.0735,\n",
              "                        0.0753, -0.0375, -0.0486, -0.1104,  0.0686,  0.1584, -0.0107,  0.0871,\n",
              "                        0.1519,  0.0988, -0.0030,  0.1434,  0.0493, -0.0120, -0.1567, -0.0184],\n",
              "                      [-0.0540, -0.1208, -0.0997, -0.0837, -0.0648, -0.0881, -0.1731, -0.1197,\n",
              "                       -0.0838, -0.1136, -0.1711, -0.1575, -0.0909, -0.0398, -0.1068, -0.0230,\n",
              "                       -0.0978,  0.0819, -0.0819, -0.0530, -0.1066,  0.0407,  0.0912, -0.0078,\n",
              "                        0.0237,  0.1363,  0.1446, -0.0222,  0.0802, -0.0200, -0.1086,  0.0926],\n",
              "                      [ 0.1351, -0.0495, -0.1398,  0.0686, -0.0994, -0.0547,  0.1218, -0.0823,\n",
              "                       -0.0369,  0.1245, -0.1060, -0.1644, -0.1591,  0.0318,  0.1093,  0.0579,\n",
              "                       -0.1257, -0.0371,  0.1571,  0.0964,  0.1018, -0.0258,  0.0584,  0.0527,\n",
              "                        0.0299,  0.1299,  0.1270, -0.0549, -0.0073,  0.0912,  0.0455,  0.0916],\n",
              "                      [ 0.0463, -0.0909,  0.1671,  0.1127, -0.0199, -0.1380, -0.0496, -0.1709,\n",
              "                        0.0108,  0.0218, -0.1109,  0.0207,  0.0279, -0.0975, -0.0653,  0.0326,\n",
              "                        0.1568, -0.0298,  0.1119,  0.0810, -0.1629, -0.0935,  0.1303,  0.0667,\n",
              "                       -0.1491, -0.0925, -0.1256,  0.1385, -0.1295, -0.1512, -0.0511,  0.1660],\n",
              "                      [-0.1554,  0.0380, -0.0771, -0.1386,  0.0701,  0.1376, -0.0124, -0.0785,\n",
              "                        0.1743, -0.0431,  0.0761,  0.1475,  0.1465, -0.1444,  0.0835, -0.1156,\n",
              "                        0.1264, -0.0448, -0.0372,  0.1372,  0.0161,  0.0429, -0.0620, -0.0333,\n",
              "                       -0.0475, -0.0640, -0.0414,  0.0297,  0.1096,  0.1586, -0.0815,  0.1617],\n",
              "                      [ 0.1090,  0.0784,  0.1231,  0.1208,  0.0341,  0.0405, -0.0831,  0.0529,\n",
              "                       -0.0401, -0.1718,  0.1117, -0.0472,  0.0960, -0.0363,  0.0041,  0.1370,\n",
              "                       -0.1073,  0.1156,  0.1282,  0.1707,  0.0612,  0.0968, -0.0580, -0.0678,\n",
              "                        0.1594,  0.0890, -0.1269,  0.0892,  0.0895, -0.0539, -0.0321, -0.1346]],\n",
              "                     device='cuda:0')),\n",
              "             ('fc.bias',\n",
              "              tensor([-0.0822, -0.1621, -0.0667, -0.1680, -0.1086, -0.0932,  0.1418, -0.0774,\n",
              "                       0.0740, -0.1643], device='cuda:0'))])"
            ]
          },
          "metadata": {},
          "execution_count": 9
        }
      ]
    },
    {
      "cell_type": "code",
      "execution_count": 10,
      "metadata": {
        "id": "3w9QW9Lfp1aV",
        "colab": {
          "base_uri": "https://localhost:8080/"
        },
        "outputId": "1d9fcf95-4371-488f-e7c0-6603562037c5"
      },
      "outputs": [
        {
          "output_type": "execute_result",
          "data": {
            "text/plain": [
              "LSTM_Model_label(\n",
              "  (lstm): LSTM(41, 16, num_layers=3, batch_first=True, bidirectional=True)\n",
              "  (fc): Linear(in_features=32, out_features=2, bias=True)\n",
              ")"
            ]
          },
          "metadata": {},
          "execution_count": 10
        }
      ],
      "source": [
        "my_model_label = LSTM_Model_label(num_classes_label, input_size, hidden_size, num_layers).to(device=device)\n",
        "my_model_label"
      ]
    },
    {
      "cell_type": "markdown",
      "metadata": {
        "id": "Cey1CId-jjis"
      },
      "source": [
        "# **optimizer and loss function**"
      ]
    },
    {
      "cell_type": "code",
      "execution_count": 11,
      "metadata": {
        "id": "WNuQFMAekNDH"
      },
      "outputs": [],
      "source": [
        "loss_fn1 = nn.CrossEntropyLoss().to(device=device)\n",
        "loss_fn2 = nn.CrossEntropyLoss().to(device=device)\n",
        "optimizer1 = opt.Adam(params=my_model_attack.parameters(),lr=learning_rate)\n",
        "optimizer2 = opt.Adam(params=my_model_label.parameters(),lr=learning_rate)"
      ]
    },
    {
      "cell_type": "code",
      "source": [
        "from sklearn.metrics import classification_report, confusion_matrix\n",
        "import itertools\n",
        "def plot_confusion_matrix(cm, classes,\n",
        "                          normalize=False,\n",
        "                          title='Confusion matrix',\n",
        "                          cmap=plt.cm.Greens):\n",
        "    \"\"\"\n",
        "    This function prints and plots the confusion matrix.\n",
        "    Normalization can be applied by setting `normalize=True`.\n",
        "    \"\"\"\n",
        "    if normalize:\n",
        "        cm = cm.astype('float') / cm.sum(axis=1)[:, np.newaxis]\n",
        "        print(\"Normalized confusion matrix\")\n",
        "    else:\n",
        "        print('Confusion matrix, without normalization')\n",
        "\n",
        "    print(cm)\n",
        "\n",
        "    plt.imshow(cm, interpolation='nearest', cmap=cmap)\n",
        "    plt.title(title)\n",
        "    plt.colorbar()\n",
        "    tick_marks = np.arange(len(classes))\n",
        "    plt.xticks(tick_marks, classes, rotation=45)\n",
        "    plt.yticks(tick_marks, classes)\n",
        "\n",
        "    fmt = '.2f' if normalize else 'd'\n",
        "    thresh = cm.max() / 2.\n",
        "    for i, j in itertools.product(range(cm.shape[0]), range(cm.shape[1])):\n",
        "        plt.text(j, i, format(cm[i, j], fmt),\n",
        "                 horizontalalignment=\"center\",\n",
        "                 color=\"white\" if cm[i, j] > thresh else \"black\")\n",
        "\n",
        "    plt.tight_layout()\n",
        "    plt.ylabel('True label')\n",
        "    plt.xlabel('Predicted label')\n"
      ],
      "metadata": {
        "id": "KarvZRUVOMlb"
      },
      "execution_count": 12,
      "outputs": []
    },
    {
      "cell_type": "markdown",
      "source": [
        "# **train attack cat**"
      ],
      "metadata": {
        "id": "uVeF0YJfAWok"
      }
    },
    {
      "cell_type": "code",
      "execution_count": 13,
      "metadata": {
        "id": "Qmw8w1eTkeBu",
        "colab": {
          "base_uri": "https://localhost:8080/",
          "height": 486
        },
        "outputId": "67607df6-597a-409e-aa49-422f8ab102b2"
      },
      "outputs": [
        {
          "output_type": "stream",
          "name": "stdout",
          "text": [
            "Epoch: 0, loss: 0.8285\n",
            "Epoch: 50, loss: 0.4544\n",
            "Epoch: 100, loss: 0.4477\n",
            "Epoch: 150, loss: 0.3756\n",
            "Epoch: 200, loss: 0.4512\n",
            "Epoch: 250, loss: 0.3745\n",
            "Epoch: 300, loss: 0.4035\n",
            "Epoch: 350, loss: 0.3548\n",
            "Epoch: 400, loss: 0.4636\n",
            "Epoch: 450, loss: 0.3724\n",
            "Epoch: 500, loss: 0.3709\n",
            "Execution Time : 1276302.7500\n"
          ]
        },
        {
          "output_type": "display_data",
          "data": {
            "text/plain": [
              "<Figure size 432x288 with 1 Axes>"
            ],
            "image/png": "[encoded data removed]"
          },
          "metadata": {
            "needs_background": "light"
          }
        }
      ],
      "source": [
        "start = torch.cuda.Event(enable_timing=True)\n",
        "end = torch.cuda.Event(enable_timing=True)\n",
        "\n",
        "start.record()\n",
        "\n",
        "loss_plot = list()\n",
        "\n",
        "for epoch in range(num_epoch+1):\n",
        "\n",
        "    for batch_x, batch_y in train_attack_cat_dataloader:\n",
        "\n",
        "        batch_x = torch.reshape(batch_x, (batch_x.shape[0], 1, batch_x.shape[1])) #RuntimeError: For unbatched 2-D input, hx and cx should also be 2-D but got (3-D, 3-D) tensors\n",
        "        \n",
        "        batch_x = batch_x.to(device)\n",
        "        batch_y = batch_y.to(device)\n",
        "\n",
        "        optimizer1.zero_grad()\n",
        "        loss1 = loss_fn1(my_model_attack(batch_x) , batch_y)\n",
        "        loss1.backward() \n",
        "        optimizer1.step()\n",
        "\n",
        "    if epoch % 50 == 0:\n",
        "         print(\"Epoch: %d, loss: %.4f\" % (epoch, loss1.item()))\n",
        "         loss_plot.append(loss1.item())         \n",
        "\n",
        "end.record()\n",
        "\n",
        "# Waits for everything to finish running\n",
        "torch.cuda.synchronize()\n",
        "\n",
        "print(\"Execution Time : %.4f\" % (start.elapsed_time(end)))\n",
        "\n",
        "plt.plot(range(len(loss_plot)),np.asarray(loss_plot))\n",
        "plt.show()"
      ]
    },
    {
      "cell_type": "markdown",
      "metadata": {
        "id": "PQaRCMJPls5N"
      },
      "source": [
        "# **test attack cat**"
      ]
    },
    {
      "cell_type": "code",
      "execution_count": 14,
      "metadata": {
        "id": "QrtYzVT4loMQ",
        "colab": {
          "base_uri": "https://localhost:8080/"
        },
        "outputId": "37d31ff6-d7b1-469d-80fd-4f79fc5224de"
      },
      "outputs": [
        {
          "output_type": "stream",
          "name": "stdout",
          "text": [
            "acc : 82.23%\n"
          ]
        }
      ],
      "source": [
        "correct = 0\n",
        "y_test, yhat = list(), list()\n",
        "\n",
        "for batch_x, labl in test_attack_cat_dataloader:\n",
        "  \n",
        "    batch_x = torch.reshape(batch_x, (batch_x.shape[0], 1, batch_x.shape[1])) #RuntimeError: For unbatched 2-D input, hx and cx should also be 2-D but got (3-D, 3-D) tensors\n",
        "  \n",
        "    batch_x = batch_x.to(device)\n",
        "    labl = labl.to(device)\n",
        "\n",
        "    out = my_model_attack(batch_x)\n",
        "    _,predicted = torch.max(out,1)\n",
        "    correct += torch.sum(predicted == labl)\n",
        "    \n",
        "    for i in labl.cpu().detach().numpy():\n",
        "        y_test.append(i)\n",
        "    for i in predicted.cpu().detach().numpy():\n",
        "        yhat.append(i)\n",
        "\n",
        "print(\"acc : %.2f\" % (100.*correct / len(test_attack_cat)),end=\"\")\n",
        "print(\"%\")"
      ]
    },
    {
      "cell_type": "code",
      "source": [
        "# Compute confusion matrix\n",
        "cnf_matrix = confusion_matrix(y_test, yhat, labels=[9,8,7,6,5,4,3,2,1,0])\n",
        "np.set_printoptions(precision=2)\n",
        "\n",
        "\n",
        "# Plot non-normalized confusion matrix\n",
        "plt.figure(figsize=(20,10))\n",
        "plot_confusion_matrix(cnf_matrix, classes=['Worms','Shellcode','Reconnaissance','Normal','Generic','Fuzzers','Exploits','DoS','Backdoor','Analysis'],normalize= False,  title='Confusion matrix')"
      ],
      "metadata": {
        "id": "XOaeOcSmENK8",
        "colab": {
          "base_uri": "https://localhost:8080/",
          "height": 946
        },
        "outputId": "b9046f75-254e-4150-9511-30bf1ba6c7e1"
      },
      "execution_count": 15,
      "outputs": [
        {
          "output_type": "stream",
          "name": "stdout",
          "text": [
            "Confusion matrix, without normalization\n",
            "[[   17     2     0     3     3     0    30     1     0     0]\n",
            " [    0   256    32    52    11    51    68    12     1     0]\n",
            " [    2    20  3120    38     1    16   930   110     3     0]\n",
            " [    2    26    34 25849    11  1568   211    21     0     4]\n",
            " [    0    15     2    18 17280    16   246    32     3     0]\n",
            " [    1    31    35  2031    11  4297   802    73     0     0]\n",
            " [   18    38   151   317    77   246 11798   776     9     5]\n",
            " [    3    44    26    68    21   107  3822   839     3     3]\n",
            " [    1     2     5     2     2    72   505    71    60     0]\n",
            " [    0     0     0   116     0    51   523    70     0    52]]\n"
          ]
        },
        {
          "output_type": "display_data",
          "data": {
            "text/plain": [
              "<Figure size 1440x720 with 2 Axes>"
            ],
            "image/png": "[encoded data removed]"
          },
          "metadata": {
            "needs_background": "light"
          }
        }
      ]
    },
    {
      "cell_type": "code",
      "source": [
        "print (classification_report(y_test, yhat))"
      ],
      "metadata": {
        "id": "iz5BJmKzEPeS",
        "colab": {
          "base_uri": "https://localhost:8080/"
        },
        "outputId": "0670c07e-9815-46f9-eaa0-490fd2de3ae5"
      },
      "execution_count": 16,
      "outputs": [
        {
          "output_type": "stream",
          "name": "stdout",
          "text": [
            "              precision    recall  f1-score   support\n",
            "\n",
            "           0       0.81      0.06      0.12       812\n",
            "           1       0.76      0.08      0.15       720\n",
            "           2       0.42      0.17      0.24      4936\n",
            "           3       0.62      0.88      0.73     13435\n",
            "           4       0.67      0.59      0.63      7281\n",
            "           5       0.99      0.98      0.99     17612\n",
            "           6       0.91      0.93      0.92     27726\n",
            "           7       0.92      0.74      0.82      4240\n",
            "           8       0.59      0.53      0.56       483\n",
            "           9       0.39      0.30      0.34        56\n",
            "\n",
            "    accuracy                           0.82     77301\n",
            "   macro avg       0.71      0.53      0.55     77301\n",
            "weighted avg       0.82      0.82      0.81     77301\n",
            "\n"
          ]
        }
      ]
    },
    {
      "cell_type": "markdown",
      "metadata": {
        "id": "pLqOLtA6tQht"
      },
      "source": [
        "# **train label**"
      ]
    },
    {
      "cell_type": "code",
      "execution_count": 17,
      "metadata": {
        "id": "Xm1cu1GhtMJO",
        "colab": {
          "base_uri": "https://localhost:8080/",
          "height": 486
        },
        "outputId": "838f0dbe-9cd3-4ba3-87f7-26fd484f75bd"
      },
      "outputs": [
        {
          "output_type": "stream",
          "name": "stdout",
          "text": [
            "Epoch: 0, loss: 0.1476\n",
            "Epoch: 50, loss: 0.1053\n",
            "Epoch: 100, loss: 0.1218\n",
            "Epoch: 150, loss: 0.1126\n",
            "Epoch: 200, loss: 0.1139\n",
            "Epoch: 250, loss: 0.1095\n",
            "Epoch: 300, loss: 0.0982\n",
            "Epoch: 350, loss: 0.1487\n",
            "Epoch: 400, loss: 0.0892\n",
            "Epoch: 450, loss: 0.0832\n",
            "Epoch: 500, loss: 0.0837\n",
            "Execution Time : 1289291.5000\n"
          ]
        },
        {
          "output_type": "display_data",
          "data": {
            "text/plain": [
              "<Figure size 432x288 with 1 Axes>"
            ],
            "image/png": "[encoded data removed]"
          },
          "metadata": {
            "needs_background": "light"
          }
        }
      ],
      "source": [
        "start = torch.cuda.Event(enable_timing=True)\n",
        "end = torch.cuda.Event(enable_timing=True)\n",
        "\n",
        "start.record()\n",
        "\n",
        "loss_plot = list()\n",
        "\n",
        "for epoch in range(num_epoch+1):\n",
        "\n",
        "    for batch_x, batch_y in train_label_dataloader:\n",
        "\n",
        "        batch_x = torch.reshape(batch_x, (batch_x.shape[0], 1, batch_x.shape[1])) #RuntimeError: For unbatched 2-D input, hx and cx should also be 2-D but got (3-D, 3-D) tensors\n",
        "        \n",
        "        batch_x = batch_x.to(device)\n",
        "        batch_y = batch_y.to(device)\n",
        "\n",
        "        optimizer2.zero_grad()\n",
        "        loss2 = loss_fn2(my_model_label(batch_x) , batch_y)\n",
        "        loss2.backward() \n",
        "        optimizer2.step()\n",
        "\n",
        "    if epoch % 50 == 0:\n",
        "         print(\"Epoch: %d, loss: %.4f\" % (epoch, loss2.item())) \n",
        "         loss_plot.append(loss2.item())         \n",
        "\n",
        "end.record()\n",
        "\n",
        "# Waits for everything to finish running\n",
        "torch.cuda.synchronize()\n",
        "\n",
        "print(\"Execution Time : %.4f\" % (start.elapsed_time(end)))\n",
        "\n",
        "plt.plot(range(len(loss_plot)),np.asarray(loss_plot))\n",
        "plt.show()"
      ]
    },
    {
      "cell_type": "markdown",
      "metadata": {
        "id": "Ig7VBqU0tfZd"
      },
      "source": [
        "# **test label**"
      ]
    },
    {
      "cell_type": "code",
      "execution_count": 18,
      "metadata": {
        "id": "a7u2bQ0WtiG2",
        "colab": {
          "base_uri": "https://localhost:8080/"
        },
        "outputId": "bbce05bc-06cb-41a9-faff-b1291f7a32e5"
      },
      "outputs": [
        {
          "output_type": "stream",
          "name": "stdout",
          "text": [
            "acc : 93.83%\n"
          ]
        }
      ],
      "source": [
        "correct = 0\n",
        "y_test, yhat = list(), list()\n",
        "\n",
        "for batch_x, labl in test_label_dataloader:\n",
        "\n",
        "    batch_x = torch.reshape(batch_x, (batch_x.shape[0], 1, batch_x.shape[1])) #RuntimeError: For unbatched 2-D input, hx and cx should also be 2-D but got (3-D, 3-D) tensors\n",
        "\n",
        "    batch_x = batch_x.to(device)\n",
        "    labl = labl.to(device)\n",
        "  \n",
        "    out = my_model_label(batch_x)\n",
        "    _,predicted = torch.max(out,1)\n",
        "    correct += torch.sum(predicted == labl)\n",
        "    \n",
        "    for i in labl.cpu().detach().numpy():\n",
        "        y_test.append(i)\n",
        "    for i in predicted.cpu().detach().numpy():\n",
        "        yhat.append(i)    \n",
        "\n",
        "print(\"acc : %.2f\" % (100.*correct / len(test_label)),end=\"\")\n",
        "print(\"%\")"
      ]
    },
    {
      "cell_type": "code",
      "source": [
        "# Compute confusion matrix\n",
        "cnf_matrix = confusion_matrix(y_test, yhat, labels=[1,0])\n",
        "np.set_printoptions(precision=2)\n",
        "\n",
        "# Plot non-normalized confusion matrix\n",
        "plt.figure()\n",
        "plot_confusion_matrix(cnf_matrix, classes=['attack=1','attack=0'],normalize= False,  title='Confusion matrix')"
      ],
      "metadata": {
        "id": "LG7Kwa2REV5a",
        "colab": {
          "base_uri": "https://localhost:8080/",
          "height": 366
        },
        "outputId": "57da8f86-6c78-4942-9693-48c609ef57af"
      },
      "execution_count": 19,
      "outputs": [
        {
          "output_type": "stream",
          "name": "stdout",
          "text": [
            "Confusion matrix, without normalization\n",
            "[[46937  2429]\n",
            " [ 2340 25595]]\n"
          ]
        },
        {
          "output_type": "display_data",
          "data": {
            "text/plain": [
              "<Figure size 432x288 with 2 Axes>"
            ],
            "image/png": "[encoded data removed]"
          },
          "metadata": {
            "needs_background": "light"
          }
        }
      ]
    },
    {
      "cell_type": "code",
      "source": [
        "print (classification_report(y_test, yhat))"
      ],
      "metadata": {
        "id": "plPD2G8QEXGh",
        "colab": {
          "base_uri": "https://localhost:8080/"
        },
        "outputId": "7fe36dae-6685-4338-e744-5d0e91749002"
      },
      "execution_count": 20,
      "outputs": [
        {
          "output_type": "stream",
          "name": "stdout",
          "text": [
            "              precision    recall  f1-score   support\n",
            "\n",
            "           0       0.91      0.92      0.91     27935\n",
            "           1       0.95      0.95      0.95     49366\n",
            "\n",
            "    accuracy                           0.94     77301\n",
            "   macro avg       0.93      0.93      0.93     77301\n",
            "weighted avg       0.94      0.94      0.94     77301\n",
            "\n"
          ]
        }
      ]
    }
  ],
  "metadata": {
    "accelerator": "GPU",
    "colab": {
      "collapsed_sections": [],
      "provenance": []
    },
    "gpuClass": "standard",
    "kernelspec": {
      "display_name": "Python 3",
      "name": "python3"
    },
    "language_info": {
      "name": "python"
    }
  },
  "nbformat": 4,
  "nbformat_minor": 0
}