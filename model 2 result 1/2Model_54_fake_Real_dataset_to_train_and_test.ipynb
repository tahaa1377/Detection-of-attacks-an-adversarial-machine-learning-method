{
  "cells": [
    {
      "cell_type": "code",
      "execution_count": 1,
      "metadata": {
        "id": "Ff1b4PxtBQuc"
      },
      "outputs": [],
      "source": [
        "batch_size = 4000\n",
        "lr = 0.002\n",
        "num_epoch = 500\n",
        "number_of_features = 41\n",
        "number_of_class_attack_cat = 11\n",
        "number_of_class_label = 2\n",
        "hyper_parameter1=128\n",
        "hyper_parameter2=64\n",
        "hyper_parameter3=32\n",
        "hyper_parameter4=16"
      ]
    },
    {
      "cell_type": "code",
      "source": [
        "from google.colab import drive\n",
        "drive.mount('/content/drive')"
      ],
      "metadata": {
        "colab": {
          "base_uri": "https://localhost:8080/"
        },
        "id": "0Gua0hky6SDJ",
        "outputId": "12bf0871-6ca2-4075-876d-f21640aed3bc"
      },
      "execution_count": 2,
      "outputs": [
        {
          "output_type": "stream",
          "name": "stdout",
          "text": [
            "Mounted at /content/drive\n"
          ]
        }
      ]
    },
    {
      "cell_type": "code",
      "execution_count": 3,
      "metadata": {
        "id": "hZiaj4uT24DH",
        "colab": {
          "base_uri": "https://localhost:8080/"
        },
        "outputId": "37f11ae0-1f80-49ae-a6dc-937d1cbb2165"
      },
      "outputs": [
        {
          "output_type": "stream",
          "name": "stdout",
          "text": [
            "GPU\n"
          ]
        }
      ],
      "source": [
        "import pandas as pd\n",
        "from matplotlib import pyplot as plt\n",
        "import numpy as np\n",
        "from torch.utils.data.dataset import Dataset\n",
        "from torch.utils.data import random_split, DataLoader\n",
        "import torch\n",
        "from sklearn.preprocessing import LabelEncoder\n",
        "from sklearn import preprocessing\n",
        "import torch.nn as nn\n",
        "import torch.nn.functional as F\n",
        "import torch.optim as opt\n",
        "\n",
        "# GPU OR CPU\n",
        "if torch.cuda.is_available():\n",
        "    device = torch.device(\"cuda:0\")\n",
        "    print(\"GPU\")\n",
        "else:\n",
        "    device = torch.device(\"cpu\")\n",
        "    print(\"CPU\")"
      ]
    },
    {
      "cell_type": "code",
      "execution_count": 4,
      "metadata": {
        "id": "BxoKSzIPDxEC"
      },
      "outputs": [],
      "source": [
        "class DataSet_UNSWNB15_attack_cat(Dataset):\n",
        "\n",
        "    def __init__(self,data_set_path1,data_set_path2):\n",
        "        df1 = pd.read_csv(data_set_path1)\n",
        "\n",
        "        # preprocceing\n",
        "        df1.drop([\"label\"], axis=1, inplace=True)\n",
        "\n",
        "        #----------------------\n",
        "        df2 = pd.read_csv(data_set_path2)\n",
        "        \n",
        "        # preprocceing\n",
        "        df2.drop(['id',\"Unnamed: 0\",\"service\",\"label\"], axis=1, inplace=True)        \n",
        "        cols = ['attack_cat' ,'proto' ,'state']\n",
        "        df2[cols] = df2[cols].apply(LabelEncoder().fit_transform)\n",
        "\n",
        "        df_all_rows = pd.concat([df1, df2])\n",
        "\n",
        "        print(df_all_rows.attack_cat.value_counts().sort_values().plot(kind = \"barh\"))\n",
        "        print(df_all_rows['attack_cat'].value_counts())\n",
        "\n",
        "        self.data_array = df_all_rows.values\n",
        "        self.x = self.data_array[:, :41]\n",
        "        self.y = self.data_array[:, 41]\n",
        "      \n",
        "        # normalaized data\n",
        "        scaler = preprocessing.StandardScaler().fit(self.x)\n",
        "        self.x = scaler.transform(self.x)\n",
        "\n",
        "        self.x = torch.tensor(self.x).float()\n",
        "        self.y = torch.tensor(self.y).long()\n",
        "\n",
        "    def __len__(self):\n",
        "        return len(self.data_array)\n",
        "\n",
        "    def __getitem__(self, item):\n",
        "        sample = (self.x[item, :], self.y[item])\n",
        "        return sample\n",
        "\n",
        "        \n",
        "class DataSet_UNSWNB15_label(Dataset):\n",
        "\n",
        "    def __init__(self,data_set_path1,data_set_path2):\n",
        "        df1 = pd.read_csv(data_set_path1)\n",
        "\n",
        "        # preprocceing\n",
        "        df1.drop([\"attack_cat\"], axis=1, inplace=True)\n",
        "\n",
        "        #----------------------\n",
        "        df2 = pd.read_csv(data_set_path2)\n",
        "        \n",
        "        # preprocceing\n",
        "        df2.drop(['id',\"Unnamed: 0\",\"service\",\"attack_cat\"], axis=1, inplace=True)        \n",
        "        cols = ['proto' ,'state']\n",
        "        df2[cols] = df2[cols].apply(LabelEncoder().fit_transform)\n",
        "\n",
        "        df_all_rows = pd.concat([df1, df2])\n",
        "\n",
        "        print(df_all_rows.label.value_counts().sort_values().plot(kind = \"pie\"))\n",
        "        print(df_all_rows['label'].value_counts())\n",
        "\n",
        "        self.data_array = df_all_rows.values\n",
        "        self.x = self.data_array[:, :41]\n",
        "        self.y = self.data_array[:, 41]\n",
        "        \n",
        "        # normalaized data\n",
        "        scaler = preprocessing.StandardScaler().fit(self.x)\n",
        "        self.x = scaler.transform(self.x)\n",
        "\n",
        "        self.x = torch.tensor(self.x).float()\n",
        "        self.y = torch.tensor(self.y).long()\n",
        "\n",
        "    def __len__(self):\n",
        "        return len(self.data_array)\n",
        "\n",
        "    def __getitem__(self, item):\n",
        "        sample = (self.x[item, :], self.y[item])\n",
        "        return sample"
      ]
    },
    {
      "cell_type": "code",
      "execution_count": 5,
      "metadata": {
        "id": "UykLrbQZ1R7K",
        "colab": {
          "base_uri": "https://localhost:8080/",
          "height": 505
        },
        "outputId": "21991435-3572-4374-ecdb-1a4df6d844ba"
      },
      "outputs": [
        {
          "output_type": "stream",
          "name": "stdout",
          "text": [
            "AxesSubplot(0.125,0.125;0.775x0.755)\n",
            "6.0     93000\n",
            "5.0     58871\n",
            "3.0     44525\n",
            "10.0    25000\n",
            "4.0     24246\n",
            "2.0     16353\n",
            "7.0     13987\n",
            "0.0      2677\n",
            "1.0      2329\n",
            "8.0      1511\n",
            "9.0       174\n",
            "Name: attack_cat, dtype: int64\n"
          ]
        },
        {
          "output_type": "display_data",
          "data": {
            "text/plain": [
              "<Figure size 432x288 with 1 Axes>"
            ],
            "image/png": "[encoded data removed]"
          },
          "metadata": {
            "needs_background": "light"
          }
        }
      ],
      "source": [
        "dataset_attack_cat = DataSet_UNSWNB15_attack_cat(\"/content/drive/MyDrive/datasets/UNSW-NB15/fake_UNSW_NB15.csv\",\n",
        "                                                 \"/content/drive/MyDrive/datasets/UNSW-NB15/UNSW_NB15.csv\")\n",
        "number_of_test = int(len(dataset_attack_cat)*0.3)\n",
        "number_of_train = len(dataset_attack_cat) - int(len(dataset_attack_cat)*0.3)\n",
        "train_attack_cat ,test_attack_cat = random_split(dataset=dataset_attack_cat, lengths=[number_of_train,number_of_test])\n",
        "\n",
        "train_attack_cat_dataloader = DataLoader(dataset=train_attack_cat ,batch_size=batch_size ,shuffle=True)\n",
        "test_attack_cat_dataloader = DataLoader(dataset=test_attack_cat ,batch_size=batch_size ,shuffle=True)"
      ]
    },
    {
      "cell_type": "code",
      "execution_count": 6,
      "metadata": {
        "id": "LmFY9Q-u29T3",
        "colab": {
          "base_uri": "https://localhost:8080/",
          "height": 322
        },
        "outputId": "f086b5c2-2029-402e-9e2f-709349b8356c"
      },
      "outputs": [
        {
          "output_type": "stream",
          "name": "stdout",
          "text": [
            "AxesSubplot(0.260833,0.125;0.503333x0.755)\n",
            "1.0    189673\n",
            "0.0     93000\n",
            "Name: label, dtype: int64\n"
          ]
        },
        {
          "output_type": "display_data",
          "data": {
            "text/plain": [
              "<Figure size 432x288 with 1 Axes>"
            ],
            "image/png": "[encoded data removed]"
          },
          "metadata": {}
        }
      ],
      "source": [
        "dataset_label = DataSet_UNSWNB15_label(\"/content/drive/MyDrive/datasets/UNSW-NB15/fake_UNSW_NB15.csv\",\n",
        "                                                           \"/content/drive/MyDrive/datasets/UNSW-NB15/UNSW_NB15.csv\")\n",
        "number_of_test = int(len(dataset_label)*0.3)\n",
        "number_of_train = len(dataset_label) - int(len(dataset_label)*0.3)\n",
        "train_label ,test_label = random_split(dataset=dataset_label, lengths=[number_of_train,number_of_test])\n",
        "\n",
        "train_label_dataloader = DataLoader(dataset=train_label ,batch_size=batch_size ,shuffle=True)\n",
        "test_label_dataloader = DataLoader(dataset=test_label ,batch_size=batch_size ,shuffle=True)"
      ]
    },
    {
      "cell_type": "markdown",
      "metadata": {
        "id": "0HslPLv2IOGd"
      },
      "source": [
        "# **preprocessing ended**\n",
        "\n",
        "# **create model**"
      ]
    },
    {
      "cell_type": "code",
      "execution_count": 7,
      "metadata": {
        "id": "oN6DuQbJibuE"
      },
      "outputs": [],
      "source": [
        "class Model_Attack_Cat(nn.Module):\n",
        "\n",
        "    def __init__(self):\n",
        "        super(Model_Attack_Cat, self).__init__()\n",
        "\n",
        "        self.layers = nn.Sequential(\n",
        "        nn.Linear(number_of_features, hyper_parameter1),\n",
        "        nn.Tanh(),\n",
        "        nn.Linear(hyper_parameter1, hyper_parameter2),\n",
        "        nn.Tanh(),\n",
        "        nn.Linear(hyper_parameter2, hyper_parameter3),\n",
        "        nn.Sigmoid(),\n",
        "        nn.Linear(hyper_parameter3, hyper_parameter4),\n",
        "        nn.Sigmoid(),\n",
        "        nn.Linear(hyper_parameter4,number_of_class_attack_cat)\n",
        "        )\n",
        "\n",
        "    def forward(self,x):\n",
        "        return self.layers(x)\n",
        "\n",
        "class Model_Label(nn.Module):\n",
        "\n",
        "    def __init__(self):\n",
        "        super(Model_Label, self).__init__()\n",
        "\n",
        "        self.layers = nn.Sequential(\n",
        "        nn.Linear(number_of_features, hyper_parameter1),\n",
        "        nn.Tanh(),\n",
        "        nn.Linear(hyper_parameter1, hyper_parameter2),\n",
        "        nn.Tanh(),\n",
        "        nn.Linear(hyper_parameter2, hyper_parameter3),\n",
        "        nn.Sigmoid(),\n",
        "        nn.Linear(hyper_parameter3, hyper_parameter4),\n",
        "        nn.Sigmoid(),\n",
        "        nn.Linear(hyper_parameter4,number_of_class_label)\n",
        "        )\n",
        "      \n",
        "\n",
        "    def forward(self,x):\n",
        "         return self.layers(x)"
      ]
    },
    {
      "cell_type": "code",
      "execution_count": 8,
      "metadata": {
        "id": "US8JfNI8j3zO",
        "colab": {
          "base_uri": "https://localhost:8080/"
        },
        "outputId": "5e93c40e-351e-4dc1-9ee1-7bdeb5327d4b"
      },
      "outputs": [
        {
          "output_type": "execute_result",
          "data": {
            "text/plain": [
              "Model_Attack_Cat(\n",
              "  (layers): Sequential(\n",
              "    (0): Linear(in_features=41, out_features=128, bias=True)\n",
              "    (1): Tanh()\n",
              "    (2): Linear(in_features=128, out_features=64, bias=True)\n",
              "    (3): Tanh()\n",
              "    (4): Linear(in_features=64, out_features=32, bias=True)\n",
              "    (5): Sigmoid()\n",
              "    (6): Linear(in_features=32, out_features=16, bias=True)\n",
              "    (7): Sigmoid()\n",
              "    (8): Linear(in_features=16, out_features=11, bias=True)\n",
              "  )\n",
              ")"
            ]
          },
          "metadata": {},
          "execution_count": 8
        }
      ],
      "source": [
        "my_model_attack = Model_Attack_Cat().to(device=device)\n",
        "my_model_attack"
      ]
    },
    {
      "cell_type": "code",
      "execution_count": 9,
      "metadata": {
        "id": "3w9QW9Lfp1aV",
        "colab": {
          "base_uri": "https://localhost:8080/"
        },
        "outputId": "aa772d12-da52-40b2-a235-56dc1eb43387"
      },
      "outputs": [
        {
          "output_type": "execute_result",
          "data": {
            "text/plain": [
              "Model_Label(\n",
              "  (layers): Sequential(\n",
              "    (0): Linear(in_features=41, out_features=128, bias=True)\n",
              "    (1): Tanh()\n",
              "    (2): Linear(in_features=128, out_features=64, bias=True)\n",
              "    (3): Tanh()\n",
              "    (4): Linear(in_features=64, out_features=32, bias=True)\n",
              "    (5): Sigmoid()\n",
              "    (6): Linear(in_features=32, out_features=16, bias=True)\n",
              "    (7): Sigmoid()\n",
              "    (8): Linear(in_features=16, out_features=2, bias=True)\n",
              "  )\n",
              ")"
            ]
          },
          "metadata": {},
          "execution_count": 9
        }
      ],
      "source": [
        "my_model_label = Model_Label().to(device=device)\n",
        "my_model_label"
      ]
    },
    {
      "cell_type": "markdown",
      "metadata": {
        "id": "Cey1CId-jjis"
      },
      "source": [
        "# **optimizer and loss function**"
      ]
    },
    {
      "cell_type": "code",
      "execution_count": 10,
      "metadata": {
        "id": "WNuQFMAekNDH"
      },
      "outputs": [],
      "source": [
        "loss_fn1 = nn.CrossEntropyLoss()\n",
        "loss_fn2 = nn.CrossEntropyLoss()\n",
        "optimizer1 = opt.Adam(params=my_model_attack.parameters(),lr=lr)\n",
        "optimizer2 = opt.Adam(params=my_model_label.parameters(),lr=lr)"
      ]
    },
    {
      "cell_type": "code",
      "source": [
        "from sklearn.metrics import classification_report, confusion_matrix\n",
        "import itertools\n",
        "def plot_confusion_matrix(cm, classes,\n",
        "                          normalize=False,\n",
        "                          title='Confusion matrix',\n",
        "                          cmap=plt.cm.Greens):\n",
        "    \"\"\"\n",
        "    This function prints and plots the confusion matrix.\n",
        "    Normalization can be applied by setting `normalize=True`.\n",
        "    \"\"\"\n",
        "    if normalize:\n",
        "        cm = cm.astype('float') / cm.sum(axis=1)[:, np.newaxis]\n",
        "        print(\"Normalized confusion matrix\")\n",
        "    else:\n",
        "        print('Confusion matrix, without normalization')\n",
        "\n",
        "    print(cm)\n",
        "\n",
        "    plt.imshow(cm, interpolation='nearest', cmap=cmap)\n",
        "    plt.title(title)\n",
        "    plt.colorbar()\n",
        "    tick_marks = np.arange(len(classes))\n",
        "    plt.xticks(tick_marks, classes, rotation=45)\n",
        "    plt.yticks(tick_marks, classes)\n",
        "\n",
        "    fmt = '.2f' if normalize else 'd'\n",
        "    thresh = cm.max() / 2.\n",
        "    for i, j in itertools.product(range(cm.shape[0]), range(cm.shape[1])):\n",
        "        plt.text(j, i, format(cm[i, j], fmt),\n",
        "                 horizontalalignment=\"center\",\n",
        "                 color=\"white\" if cm[i, j] > thresh else \"black\")\n",
        "\n",
        "    plt.tight_layout()\n",
        "    plt.ylabel('True label')\n",
        "    plt.xlabel('Predicted label')\n"
      ],
      "metadata": {
        "id": "KarvZRUVOMlb"
      },
      "execution_count": 11,
      "outputs": []
    },
    {
      "cell_type": "markdown",
      "metadata": {
        "id": "4JYcovfYlpHM"
      },
      "source": [
        "# **train attack cat**"
      ]
    },
    {
      "cell_type": "code",
      "execution_count": 12,
      "metadata": {
        "id": "Qmw8w1eTkeBu",
        "colab": {
          "base_uri": "https://localhost:8080/",
          "height": 487
        },
        "outputId": "f4dd0f0a-c95b-4b73-c804-a807fc75e6ae"
      },
      "outputs": [
        {
          "output_type": "stream",
          "name": "stdout",
          "text": [
            "loss : 1.7546\n",
            "loss : 0.4407\n",
            "loss : 0.4108\n",
            "loss : 0.4051\n",
            "loss : 0.3800\n",
            "loss : 0.3968\n",
            "loss : 0.3708\n",
            "loss : 0.3849\n",
            "loss : 0.3595\n",
            "loss : 0.3716\n",
            "loss : 0.3624\n",
            "Execution Time : 1123162.8750\n"
          ]
        },
        {
          "output_type": "display_data",
          "data": {
            "text/plain": [
              "<Figure size 432x288 with 1 Axes>"
            ],
            "image/png": "[encoded data removed]"
          },
          "metadata": {
            "needs_background": "light"
          }
        }
      ],
      "source": [
        "start = torch.cuda.Event(enable_timing=True)\n",
        "end = torch.cuda.Event(enable_timing=True)\n",
        "\n",
        "start.record()\n",
        "\n",
        "loss_plot = list()\n",
        "\n",
        "for epoch in range(num_epoch+1):\n",
        "\n",
        "    for batch_x, batch_y in train_attack_cat_dataloader:\n",
        "\n",
        "        batch_x = batch_x.to(device)\n",
        "        batch_y = batch_y.to(device)\n",
        "\n",
        "        optimizer1.zero_grad()\n",
        "        loss1 = loss_fn1(my_model_attack(batch_x),batch_y)\n",
        "        loss1.backward()\n",
        "        optimizer1.step()\n",
        "\n",
        "    if epoch % 50 == 0:\n",
        "        print(\"loss : %.4f\" % (loss1.item()))\n",
        "        loss_plot.append(loss1.item())\n",
        "\n",
        "end.record()\n",
        "\n",
        "# Waits for everything to finish running\n",
        "torch.cuda.synchronize()\n",
        "\n",
        "print(\"Execution Time : %.4f\" % (start.elapsed_time(end)))\n",
        "\n",
        "plt.plot(range(len(loss_plot)),np.asarray(loss_plot))\n",
        "plt.show()"
      ]
    },
    {
      "cell_type": "markdown",
      "metadata": {
        "id": "PQaRCMJPls5N"
      },
      "source": [
        "# **test attack cat**"
      ]
    },
    {
      "cell_type": "code",
      "execution_count": 13,
      "metadata": {
        "id": "QrtYzVT4loMQ",
        "colab": {
          "base_uri": "https://localhost:8080/"
        },
        "outputId": "038b43a7-b615-4e3c-c312-e22da9368b86"
      },
      "outputs": [
        {
          "output_type": "stream",
          "name": "stdout",
          "text": [
            "acc : 83.86%\n"
          ]
        }
      ],
      "source": [
        "correct = 0\n",
        "y_test, yhat = list(), list()\n",
        "\n",
        "for batch_x, labl in test_attack_cat_dataloader:\n",
        "  \n",
        "    batch_x = batch_x.to(device)\n",
        "    labl = labl.to(device)\n",
        "  \n",
        "    out = my_model_attack(batch_x)\n",
        "    _,predicted = torch.max(out,1)\n",
        "    correct += torch.sum(predicted == labl)\n",
        "    \n",
        "    for i in labl.cpu().detach().numpy():\n",
        "        y_test.append(i)\n",
        "    for i in predicted.cpu().detach().numpy():\n",
        "        yhat.append(i)\n",
        "\n",
        "\n",
        "print(\"acc : %.2f\" % (100.*correct / len(test_attack_cat)),end=\"\")\n",
        "print(\"%\")"
      ]
    },
    {
      "cell_type": "code",
      "source": [
        "# Compute confusion matrix\n",
        "cnf_matrix = confusion_matrix(y_test, yhat, labels=[10,9,8,7,6,5,4,3,2,1,0])\n",
        "np.set_printoptions(precision=2)\n",
        "\n",
        "\n",
        "# Plot non-normalized confusion matrix\n",
        "plt.figure(figsize=(20,10))\n",
        "plot_confusion_matrix(cnf_matrix, classes=['Fake','Worms','Shellcode','Reconnaissance','Normal','Generic','Fuzzers','Exploits','DoS','Backdoor','Analysis'],normalize= False,  title='Confusion matrix')"
      ],
      "metadata": {
        "id": "gUaSwEniCF3T",
        "colab": {
          "base_uri": "https://localhost:8080/",
          "height": 964
        },
        "outputId": "ee52bc35-deb4-4af9-aad0-4d05f50138f8"
      },
      "execution_count": 14,
      "outputs": [
        {
          "output_type": "stream",
          "name": "stdout",
          "text": [
            "Confusion matrix, without normalization\n",
            "[[ 7468     0     0     2    13     0     0     2     3     0     1]\n",
            " [    0     0     0     0     0    10     5    42     0     0     0]\n",
            " [    0     0   259    16    33     6    53    79     3     0     0]\n",
            " [    1     0    27  3174    40     3    24   827    89     3     0]\n",
            " [    0     0    40    22 25694    10  1678   257    14     0     6]\n",
            " [    0     0    22     0    14 17375    31   255    29     2     0]\n",
            " [    0     0    57    26  1922     7  4427   731    65     2     0]\n",
            " [    0     0    53   213   255    77   377 11876   565    18     5]\n",
            " [    0     0    40    27    75    29   137  3931   739     4     0]\n",
            " [    0     0     3     2     0     2    93   489    45    51     0]\n",
            " [    0     0     0     0   134     0    85   504    52     0    51]]\n"
          ]
        },
        {
          "output_type": "display_data",
          "data": {
            "text/plain": [
              "<Figure size 1440x720 with 2 Axes>"
            ],
            "image/png": "[encoded data removed]"
          },
          "metadata": {
            "needs_background": "light"
          }
        }
      ]
    },
    {
      "cell_type": "code",
      "source": [
        "print (classification_report(y_test, yhat))"
      ],
      "metadata": {
        "id": "khv9u2CCCLAf",
        "colab": {
          "base_uri": "https://localhost:8080/"
        },
        "outputId": "02b995f3-aced-4aaf-f4dc-592c7b06e2ee"
      },
      "execution_count": 15,
      "outputs": [
        {
          "output_type": "stream",
          "name": "stdout",
          "text": [
            "              precision    recall  f1-score   support\n",
            "\n",
            "           0       0.81      0.06      0.11       826\n",
            "           1       0.64      0.07      0.13       685\n",
            "           2       0.46      0.15      0.22      4982\n",
            "           3       0.63      0.88      0.73     13439\n",
            "           4       0.64      0.61      0.63      7237\n",
            "           5       0.99      0.98      0.99     17728\n",
            "           6       0.91      0.93      0.92     27721\n",
            "           7       0.91      0.76      0.83      4188\n",
            "           8       0.52      0.58      0.55       449\n",
            "           9       0.00      0.00      0.00        57\n",
            "          10       1.00      1.00      1.00      7489\n",
            "\n",
            "    accuracy                           0.84     84801\n",
            "   macro avg       0.68      0.55      0.56     84801\n",
            "weighted avg       0.84      0.84      0.82     84801\n",
            "\n"
          ]
        },
        {
          "output_type": "stream",
          "name": "stderr",
          "text": [
            "/usr/local/lib/python3.7/dist-packages/sklearn/metrics/_classification.py:1318: UndefinedMetricWarning: Precision and F-score are ill-defined and being set to 0.0 in labels with no predicted samples. Use `zero_division` parameter to control this behavior.\n",
            "  _warn_prf(average, modifier, msg_start, len(result))\n",
            "/usr/local/lib/python3.7/dist-packages/sklearn/metrics/_classification.py:1318: UndefinedMetricWarning: Precision and F-score are ill-defined and being set to 0.0 in labels with no predicted samples. Use `zero_division` parameter to control this behavior.\n",
            "  _warn_prf(average, modifier, msg_start, len(result))\n",
            "/usr/local/lib/python3.7/dist-packages/sklearn/metrics/_classification.py:1318: UndefinedMetricWarning: Precision and F-score are ill-defined and being set to 0.0 in labels with no predicted samples. Use `zero_division` parameter to control this behavior.\n",
            "  _warn_prf(average, modifier, msg_start, len(result))\n"
          ]
        }
      ]
    },
    {
      "cell_type": "markdown",
      "metadata": {
        "id": "pLqOLtA6tQht"
      },
      "source": [
        "# **train label**"
      ]
    },
    {
      "cell_type": "code",
      "execution_count": 16,
      "metadata": {
        "id": "Xm1cu1GhtMJO",
        "colab": {
          "base_uri": "https://localhost:8080/",
          "height": 486
        },
        "outputId": "89ac6eba-5d5c-4e3c-fd48-a39bddbd8018"
      },
      "outputs": [
        {
          "output_type": "stream",
          "name": "stdout",
          "text": [
            "loss : 0.4276\n",
            "loss : 0.1218\n",
            "loss : 0.1228\n",
            "loss : 0.1103\n",
            "loss : 0.1089\n",
            "loss : 0.1055\n",
            "loss : 0.0838\n",
            "loss : 0.0868\n",
            "loss : 0.0889\n",
            "loss : 0.0919\n",
            "loss : 0.0844\n",
            "Execution Time : 1118421.1250\n"
          ]
        },
        {
          "output_type": "display_data",
          "data": {
            "text/plain": [
              "<Figure size 432x288 with 1 Axes>"
            ],
            "image/png": "[encoded data removed]"
          },
          "metadata": {
            "needs_background": "light"
          }
        }
      ],
      "source": [
        "start = torch.cuda.Event(enable_timing=True)\n",
        "end = torch.cuda.Event(enable_timing=True)\n",
        "\n",
        "start.record()\n",
        "\n",
        "loss_plot = list()\n",
        "\n",
        "for epoch in range(num_epoch+1):\n",
        "\n",
        "    for batch_x, batch_y in train_label_dataloader:\n",
        "\n",
        "        batch_x = batch_x.to(device)\n",
        "        batch_y = batch_y.to(device)\n",
        "\n",
        "        optimizer2.zero_grad()\n",
        "        loss2 = loss_fn2(my_model_label(batch_x),batch_y)\n",
        "        loss2.backward()\n",
        "        optimizer2.step()\n",
        "\n",
        "    if epoch % 50 == 0:\n",
        "        print(\"loss : %.4f\" % (loss2.item()))\n",
        "        loss_plot.append(loss2.item())\n",
        "\n",
        "\n",
        "end.record()\n",
        "\n",
        "# Waits for everything to finish running\n",
        "torch.cuda.synchronize()\n",
        "\n",
        "print(\"Execution Time : %.4f\" % (start.elapsed_time(end)))\n",
        "\n",
        "plt.plot(range(len(loss_plot)),np.asarray(loss_plot))\n",
        "plt.show()"
      ]
    },
    {
      "cell_type": "markdown",
      "metadata": {
        "id": "Ig7VBqU0tfZd"
      },
      "source": [
        "# **test label**"
      ]
    },
    {
      "cell_type": "code",
      "execution_count": 17,
      "metadata": {
        "id": "a7u2bQ0WtiG2",
        "colab": {
          "base_uri": "https://localhost:8080/"
        },
        "outputId": "aed5669d-bdcf-41b2-b494-61eae5c44057"
      },
      "outputs": [
        {
          "output_type": "stream",
          "name": "stdout",
          "text": [
            "acc : 94.38%\n"
          ]
        }
      ],
      "source": [
        "correct = 0\n",
        "y_test, yhat = list(), list()\n",
        "\n",
        "for batch_x, labl in test_label_dataloader:\n",
        "  \n",
        "    batch_x = batch_x.to(device)\n",
        "    labl = labl.to(device)\n",
        "  \n",
        "    out = my_model_label(batch_x)\n",
        "    _,predicted = torch.max(out,1)\n",
        "    correct += torch.sum(predicted == labl)\n",
        "    \n",
        "    for i in labl.cpu().detach().numpy():\n",
        "        y_test.append(i)\n",
        "    for i in predicted.cpu().detach().numpy():\n",
        "        yhat.append(i)    \n",
        "\n",
        "print(\"acc : %.2f\" % (100.*correct / len(test_label)),end=\"\")\n",
        "print(\"%\")"
      ]
    },
    {
      "cell_type": "code",
      "source": [
        "# Compute confusion matrix\n",
        "cnf_matrix = confusion_matrix(y_test, yhat, labels=[1,0])\n",
        "np.set_printoptions(precision=2)\n",
        "\n",
        "\n",
        "# Plot non-normalized confusion matrix\n",
        "plt.figure()\n",
        "plot_confusion_matrix(cnf_matrix, classes=['attack=1','attack=0'],normalize= False,  title='Confusion matrix')"
      ],
      "metadata": {
        "id": "HfOChjQ2CUj3",
        "colab": {
          "base_uri": "https://localhost:8080/",
          "height": 366
        },
        "outputId": "9bb2649a-d73f-4f4c-8b6a-b0b8bcee4ad9"
      },
      "execution_count": 18,
      "outputs": [
        {
          "output_type": "stream",
          "name": "stdout",
          "text": [
            "Confusion matrix, without normalization\n",
            "[[54467  2416]\n",
            " [ 2347 25571]]\n"
          ]
        },
        {
          "output_type": "display_data",
          "data": {
            "text/plain": [
              "<Figure size 432x288 with 2 Axes>"
            ],
            "image/png": "[encoded data removed]"
          },
          "metadata": {
            "needs_background": "light"
          }
        }
      ]
    },
    {
      "cell_type": "code",
      "source": [
        "print (classification_report(y_test, yhat))"
      ],
      "metadata": {
        "id": "8YU_viAACV5q",
        "colab": {
          "base_uri": "https://localhost:8080/"
        },
        "outputId": "0b6e1f3a-1fce-493e-be61-316e066f4f5c"
      },
      "execution_count": 19,
      "outputs": [
        {
          "output_type": "stream",
          "name": "stdout",
          "text": [
            "              precision    recall  f1-score   support\n",
            "\n",
            "           0       0.91      0.92      0.91     27918\n",
            "           1       0.96      0.96      0.96     56883\n",
            "\n",
            "    accuracy                           0.94     84801\n",
            "   macro avg       0.94      0.94      0.94     84801\n",
            "weighted avg       0.94      0.94      0.94     84801\n",
            "\n"
          ]
        }
      ]
    }
  ],
  "metadata": {
    "accelerator": "GPU",
    "colab": {
      "collapsed_sections": [],
      "provenance": []
    },
    "gpuClass": "standard",
    "kernelspec": {
      "display_name": "Python 3",
      "name": "python3"
    },
    "language_info": {
      "name": "python"
    }
  },
  "nbformat": 4,
  "nbformat_minor": 0
}