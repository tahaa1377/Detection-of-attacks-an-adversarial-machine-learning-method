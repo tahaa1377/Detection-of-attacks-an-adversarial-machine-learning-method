{
  "cells": [
    {
      "cell_type": "code",
      "execution_count": 1,
      "metadata": {
        "id": "Ff1b4PxtBQuc"
      },
      "outputs": [],
      "source": [
        "num_epoch = 500      \n",
        "learning_rate = 0.002\n",
        "batch_size = 2000\n",
        "\n",
        "hidden_size = 64 #number of features in hidden state\n",
        "num_layers = 2  #number of stacked lstm layers\n",
        "bidirectional = True\n",
        "drop_out = 0.5\n",
        "bidirectional_forward_backward = 2 if bidirectional else 1\n",
        "\n",
        "input_size = 41 #number of features\n",
        "num_classes_attack_cat = 11 #number of output classes \n",
        "num_classes_label = 2       #number of output classes \n",
        "\n",
        "hyper_parameter1=128\n",
        "hyper_parameter2=64\n",
        "hyper_parameter3=32"
      ]
    },
    {
      "cell_type": "code",
      "source": [
        "from google.colab import drive\n",
        "drive.mount('/content/drive')"
      ],
      "metadata": {
        "id": "0Gua0hky6SDJ",
        "colab": {
          "base_uri": "https://localhost:8080/"
        },
        "outputId": "553815b3-81d6-41cc-b383-02685f3f701f"
      },
      "execution_count": 2,
      "outputs": [
        {
          "output_type": "stream",
          "name": "stdout",
          "text": [
            "Mounted at /content/drive\n"
          ]
        }
      ]
    },
    {
      "cell_type": "code",
      "execution_count": 3,
      "metadata": {
        "id": "hZiaj4uT24DH",
        "colab": {
          "base_uri": "https://localhost:8080/"
        },
        "outputId": "cd22a835-cde8-436e-853d-3973f4ad781e"
      },
      "outputs": [
        {
          "output_type": "stream",
          "name": "stdout",
          "text": [
            "GPU\n"
          ]
        }
      ],
      "source": [
        "import pandas as pd\n",
        "from matplotlib import pyplot as plt\n",
        "import numpy as np\n",
        "from torch.utils.data.dataset import Dataset\n",
        "from torch.utils.data import random_split, DataLoader\n",
        "import torch\n",
        "from sklearn.preprocessing import LabelEncoder\n",
        "from sklearn import preprocessing\n",
        "import torch.nn as nn\n",
        "import torch.nn.functional as F\n",
        "import torch.optim as opt\n",
        "from torch.autograd import Variable \n",
        "\n",
        "# GPU OR CPU\n",
        "if torch.cuda.is_available():\n",
        "    device = torch.device(\"cuda:0\")\n",
        "    print(\"GPU\")\n",
        "else:\n",
        "    device = torch.device(\"cpu\")\n",
        "    print(\"CPU\")"
      ]
    },
    {
      "cell_type": "code",
      "execution_count": 4,
      "metadata": {
        "id": "BxoKSzIPDxEC"
      },
      "outputs": [],
      "source": [
        "class DataSet_UNSWNB15_attack_cat(Dataset):\n",
        "\n",
        "    def __init__(self,data_set_path1,data_set_path2):\n",
        "        df1 = pd.read_csv(data_set_path1)\n",
        "\n",
        "        # preprocceing\n",
        "        df1.drop([\"label\"], axis=1, inplace=True)\n",
        "\n",
        "        #----------------------\n",
        "        df2 = pd.read_csv(data_set_path2)\n",
        "        \n",
        "        # preprocceing\n",
        "        df2.drop(['id',\"Unnamed: 0\",\"service\",\"label\"], axis=1, inplace=True)        \n",
        "        cols = ['attack_cat' ,'proto' ,'state']\n",
        "        df2[cols] = df2[cols].apply(LabelEncoder().fit_transform)\n",
        "\n",
        "        df_all_rows = pd.concat([df1, df2])\n",
        "\n",
        "        print(df_all_rows.attack_cat.value_counts().sort_values().plot(kind = \"barh\"))\n",
        "        print(df_all_rows['attack_cat'].value_counts())\n",
        "\n",
        "        self.data_array = df_all_rows.values\n",
        "        self.x = self.data_array[:, :41]\n",
        "        self.y = self.data_array[:, 41]\n",
        "      \n",
        "        # normalaized data\n",
        "        scaler = preprocessing.StandardScaler().fit(self.x)\n",
        "        self.x = scaler.transform(self.x)\n",
        "\n",
        "        self.x = torch.tensor(self.x).float()\n",
        "        self.y = torch.tensor(self.y).long()\n",
        "\n",
        "    def __len__(self):\n",
        "        return len(self.data_array)\n",
        "\n",
        "    def __getitem__(self, item):\n",
        "        sample = (self.x[item, :], self.y[item])\n",
        "        return sample\n",
        "\n",
        "        \n",
        "class DataSet_UNSWNB15_label(Dataset):\n",
        "\n",
        "    def __init__(self,data_set_path1,data_set_path2):\n",
        "        df1 = pd.read_csv(data_set_path1)\n",
        "\n",
        "        # preprocceing\n",
        "        df1.drop([\"attack_cat\"], axis=1, inplace=True)\n",
        "\n",
        "        #----------------------\n",
        "        df2 = pd.read_csv(data_set_path2)\n",
        "        \n",
        "        # preprocceing\n",
        "        df2.drop(['id',\"Unnamed: 0\",\"service\",\"attack_cat\"], axis=1, inplace=True)        \n",
        "        cols = ['proto' ,'state']\n",
        "        df2[cols] = df2[cols].apply(LabelEncoder().fit_transform)\n",
        "\n",
        "        df_all_rows = pd.concat([df1, df2])\n",
        "\n",
        "        print(df_all_rows.label.value_counts().sort_values().plot(kind = \"pie\"))\n",
        "        print(df_all_rows['label'].value_counts())\n",
        "\n",
        "        self.data_array = df_all_rows.values\n",
        "        self.x = self.data_array[:, :41]\n",
        "        self.y = self.data_array[:, 41]\n",
        "        \n",
        "        # normalaized data\n",
        "        scaler = preprocessing.StandardScaler().fit(self.x)\n",
        "        self.x = scaler.transform(self.x)\n",
        "\n",
        "        self.x = torch.tensor(self.x).float()\n",
        "        self.y = torch.tensor(self.y).long()\n",
        "\n",
        "    def __len__(self):\n",
        "        return len(self.data_array)\n",
        "\n",
        "    def __getitem__(self, item):\n",
        "        sample = (self.x[item, :], self.y[item])\n",
        "        return sample"
      ]
    },
    {
      "cell_type": "code",
      "execution_count": 5,
      "metadata": {
        "id": "UykLrbQZ1R7K",
        "colab": {
          "base_uri": "https://localhost:8080/",
          "height": 505
        },
        "outputId": "988a09bd-bed5-4035-d864-de316cb93c83"
      },
      "outputs": [
        {
          "output_type": "stream",
          "name": "stdout",
          "text": [
            "AxesSubplot(0.125,0.125;0.775x0.755)\n",
            "6.0     93000\n",
            "5.0     58871\n",
            "3.0     44525\n",
            "10.0    25000\n",
            "4.0     24246\n",
            "2.0     16353\n",
            "7.0     13987\n",
            "0.0      2677\n",
            "1.0      2329\n",
            "8.0      1511\n",
            "9.0       174\n",
            "Name: attack_cat, dtype: int64\n"
          ]
        },
        {
          "output_type": "display_data",
          "data": {
            "text/plain": [
              "<Figure size 432x288 with 1 Axes>"
            ],
            "image/png": "[encoded data removed]"
          },
          "metadata": {
            "needs_background": "light"
          }
        }
      ],
      "source": [
        "dataset_attack_cat = DataSet_UNSWNB15_attack_cat(\"/content/drive/MyDrive/datasets/UNSW-NB15/fake_UNSW_NB15.csv\",\n",
        "                                                 \"/content/drive/MyDrive/datasets/UNSW-NB15/UNSW_NB15.csv\")\n",
        "number_of_test = int(len(dataset_attack_cat)*0.3)\n",
        "number_of_train = len(dataset_attack_cat) - int(len(dataset_attack_cat)*0.3)\n",
        "train_attack_cat ,test_attack_cat = random_split(dataset=dataset_attack_cat, lengths=[number_of_train,number_of_test])\n",
        "\n",
        "train_attack_cat_dataloader = DataLoader(dataset=train_attack_cat ,batch_size=batch_size ,shuffle=True)\n",
        "test_attack_cat_dataloader = DataLoader(dataset=test_attack_cat ,batch_size=batch_size ,shuffle=True)"
      ]
    },
    {
      "cell_type": "code",
      "execution_count": 6,
      "metadata": {
        "id": "LmFY9Q-u29T3",
        "colab": {
          "base_uri": "https://localhost:8080/",
          "height": 322
        },
        "outputId": "23fc69af-9e04-4476-fe6a-0e88b9e178c9"
      },
      "outputs": [
        {
          "output_type": "stream",
          "name": "stdout",
          "text": [
            "AxesSubplot(0.260833,0.125;0.503333x0.755)\n",
            "1.0    189673\n",
            "0.0     93000\n",
            "Name: label, dtype: int64\n"
          ]
        },
        {
          "output_type": "display_data",
          "data": {
            "text/plain": [
              "<Figure size 432x288 with 1 Axes>"
            ],
            "image/png": "[encoded data removed]"
          },
          "metadata": {}
        }
      ],
      "source": [
        "dataset_label = DataSet_UNSWNB15_label(\"/content/drive/MyDrive/datasets/UNSW-NB15/fake_UNSW_NB15.csv\",\n",
        "                                                           \"/content/drive/MyDrive/datasets/UNSW-NB15/UNSW_NB15.csv\")\n",
        "number_of_test = int(len(dataset_label)*0.3)\n",
        "number_of_train = len(dataset_label) - int(len(dataset_label)*0.3)\n",
        "train_label ,test_label = random_split(dataset=dataset_label, lengths=[number_of_train,number_of_test])\n",
        "\n",
        "train_label_dataloader = DataLoader(dataset=train_label ,batch_size=batch_size ,shuffle=True)\n",
        "test_label_dataloader = DataLoader(dataset=test_label ,batch_size=batch_size ,shuffle=True)"
      ]
    },
    {
      "cell_type": "markdown",
      "metadata": {
        "id": "0HslPLv2IOGd"
      },
      "source": [
        "# **preprocessing ended**\n",
        "\n",
        "# **create model**"
      ]
    },
    {
      "cell_type": "markdown",
      "source": [
        "![bilstm-1.webp](data:image/webp;base64,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)"
      ],
      "metadata": {
        "id": "F2hNvBs6qBQS"
      }
    },
    {
      "cell_type": "code",
      "execution_count": 7,
      "metadata": {
        "id": "oN6DuQbJibuE"
      },
      "outputs": [],
      "source": [
        "class LSTM_Model_attack(nn.Module):\n",
        "    def __init__(self, num_classes, input_size, hidden_size, num_layers):\n",
        "        super(LSTM_Model_attack, self).__init__()\n",
        "        self.num_classes = num_classes #number of classes\n",
        "        self.num_layers = num_layers #number of layers\n",
        "        self.input_size = input_size #input size\n",
        "        self.hidden_size = hidden_size #hidden state\n",
        "\n",
        "        self.lstm = nn.LSTM(input_size=input_size, hidden_size=hidden_size, num_layers=num_layers, batch_first=True,\n",
        "                            bidirectional=bidirectional, dropout=drop_out) #lstm\n",
        "\n",
        "        self.fc_layers = nn.Sequential(\n",
        "        nn.Linear(hidden_size * bidirectional_forward_backward, hyper_parameter1),\n",
        "        nn.Tanh(),\n",
        "        nn.Linear(hyper_parameter1, hyper_parameter2),\n",
        "        nn.ReLU(),\n",
        "        nn.Linear(hyper_parameter2, hyper_parameter3),\n",
        "        nn.Sigmoid(),\n",
        "        nn.Linear(hyper_parameter3, num_classes)\n",
        "        )\n",
        "    \n",
        "    def forward(self,x):\n",
        "                                                # 2 => forward and backward for bidirectional\n",
        "        h_0 = Variable(torch.zeros(self.num_layers * bidirectional_forward_backward, x.size(0), self.hidden_size)).to(device=device) #hidden state\n",
        "        c_0 = Variable(torch.zeros(self.num_layers * bidirectional_forward_backward, x.size(0), self.hidden_size)).to(device=device) #internal state\n",
        "\n",
        "        out, (hn, cn) = self.lstm(x, (h_0, c_0))\n",
        "        out = self.fc_layers(out[:, -1, :]) \n",
        "        return out\n",
        "\n",
        "\n",
        "class LSTM_Model_label(nn.Module):\n",
        "    def __init__(self, num_classes, input_size, hidden_size, num_layers):\n",
        "        super(LSTM_Model_label, self).__init__()\n",
        "        self.num_classes = num_classes #number of classes\n",
        "        self.num_layers = num_layers #number of layers\n",
        "        self.input_size = input_size #input size\n",
        "        self.hidden_size = hidden_size #hidden state\n",
        "\n",
        "        self.lstm = nn.LSTM(input_size=input_size, hidden_size=hidden_size, num_layers=num_layers, batch_first=True, \n",
        "                            bidirectional=bidirectional, dropout=drop_out) #lstm\n",
        "\n",
        "        self.fc_layers = nn.Sequential(\n",
        "        nn.Linear(hidden_size * bidirectional_forward_backward, hyper_parameter1),\n",
        "        nn.Tanh(),\n",
        "        nn.Linear(hyper_parameter1, hyper_parameter2),\n",
        "        nn.ReLU(),\n",
        "        nn.Linear(hyper_parameter2, hyper_parameter3),\n",
        "        nn.Sigmoid(),\n",
        "        nn.Linear(hyper_parameter3, num_classes)\n",
        "        )\n",
        "    \n",
        "    def forward(self,x):\n",
        "        h_0 = Variable(torch.zeros(self.num_layers * bidirectional_forward_backward, x.size(0), self.hidden_size)).to(device=device) #hidden state\n",
        "        c_0 = Variable(torch.zeros(self.num_layers * bidirectional_forward_backward, x.size(0), self.hidden_size)).to(device=device) #internal state\n",
        "\n",
        "        out, (hn, cn) = self.lstm(x, (h_0, c_0))\n",
        "        out = self.fc_layers(out[:, -1, :]) \n",
        "        return out\n"
      ]
    },
    {
      "cell_type": "code",
      "execution_count": 8,
      "metadata": {
        "id": "US8JfNI8j3zO",
        "colab": {
          "base_uri": "https://localhost:8080/"
        },
        "outputId": "021bf97f-75b3-48bd-8e61-424928a3b96a"
      },
      "outputs": [
        {
          "output_type": "execute_result",
          "data": {
            "text/plain": [
              "LSTM_Model_attack(\n",
              "  (lstm): LSTM(41, 64, num_layers=2, batch_first=True, dropout=0.5, bidirectional=True)\n",
              "  (fc_layers): Sequential(\n",
              "    (0): Linear(in_features=128, out_features=128, bias=True)\n",
              "    (1): Tanh()\n",
              "    (2): Linear(in_features=128, out_features=64, bias=True)\n",
              "    (3): ReLU()\n",
              "    (4): Linear(in_features=64, out_features=32, bias=True)\n",
              "    (5): Sigmoid()\n",
              "    (6): Linear(in_features=32, out_features=11, bias=True)\n",
              "  )\n",
              ")"
            ]
          },
          "metadata": {},
          "execution_count": 8
        }
      ],
      "source": [
        "my_model_attack = LSTM_Model_attack(num_classes_attack_cat, input_size, hidden_size, num_layers).to(device=device)\n",
        "my_model_attack"
      ]
    },
    {
      "cell_type": "code",
      "source": [
        "my_model_attack.state_dict()"
      ],
      "metadata": {
        "id": "Dq8JkQZ9ukCs",
        "colab": {
          "base_uri": "https://localhost:8080/"
        },
        "outputId": "c2bd454a-d7ff-48b2-e7e3-75236ad9f6b7"
      },
      "execution_count": 9,
      "outputs": [
        {
          "output_type": "execute_result",
          "data": {
            "text/plain": [
              "OrderedDict([('lstm.weight_ih_l0',\n",
              "              tensor([[ 0.0470,  0.1197, -0.0224,  ..., -0.0563,  0.0538, -0.0786],\n",
              "                      [-0.0922,  0.0282, -0.0881,  ..., -0.0572,  0.0472,  0.1115],\n",
              "                      [-0.0873, -0.1179, -0.0999,  ...,  0.1012, -0.0618,  0.0132],\n",
              "                      ...,\n",
              "                      [-0.0709, -0.0257, -0.0326,  ..., -0.0806,  0.1027, -0.0812],\n",
              "                      [-0.1174, -0.0408,  0.1011,  ...,  0.1176, -0.0158, -0.0916],\n",
              "                      [-0.0216,  0.0564,  0.0031,  ..., -0.0958, -0.0724, -0.0973]],\n",
              "                     device='cuda:0')),\n",
              "             ('lstm.weight_hh_l0',\n",
              "              tensor([[-0.0867, -0.0534, -0.0193,  ...,  0.0990,  0.0340,  0.0113],\n",
              "                      [ 0.1004, -0.0073,  0.0538,  ...,  0.0829, -0.1120, -0.0037],\n",
              "                      [-0.0427, -0.0329, -0.0174,  ..., -0.0698,  0.0431,  0.0276],\n",
              "                      ...,\n",
              "                      [ 0.0266,  0.0292,  0.0697,  ...,  0.0770, -0.1161, -0.0233],\n",
              "                      [-0.1006,  0.0295, -0.0265,  ...,  0.0599,  0.1248, -0.0654],\n",
              "                      [-0.0196, -0.0680, -0.0479,  ..., -0.0276, -0.1188,  0.0086]],\n",
              "                     device='cuda:0')),\n",
              "             ('lstm.bias_ih_l0',\n",
              "              tensor([ 0.0773, -0.0577, -0.0307,  0.0053,  0.0492, -0.0116,  0.0532, -0.1046,\n",
              "                       0.0519,  0.0392, -0.0869,  0.0471,  0.0445,  0.0196,  0.0555,  0.1142,\n",
              "                      -0.0790,  0.0917,  0.0235,  0.0841,  0.0836, -0.0922,  0.0098,  0.0397,\n",
              "                       0.1029, -0.0084,  0.1023,  0.1190,  0.0185, -0.0160,  0.0639, -0.0548,\n",
              "                      -0.0548,  0.0505,  0.0837, -0.0110, -0.0556, -0.0965,  0.0638,  0.1187,\n",
              "                      -0.0888, -0.0927, -0.1135, -0.0568, -0.0590, -0.1250, -0.0252,  0.0713,\n",
              "                       0.0591,  0.0067,  0.0488, -0.1048, -0.1202, -0.0312,  0.0066,  0.0990,\n",
              "                       0.1152,  0.0460, -0.0184,  0.1246,  0.0878,  0.0274, -0.0993,  0.1051,\n",
              "                       0.0583,  0.0222,  0.0328, -0.0027,  0.1064, -0.1208, -0.1045,  0.0476,\n",
              "                       0.0534,  0.0488, -0.1077, -0.0150, -0.1055,  0.0699, -0.0212, -0.0131,\n",
              "                      -0.0597, -0.0302,  0.1022,  0.0197,  0.0112, -0.0065,  0.1216,  0.1173,\n",
              "                       0.0998,  0.0752, -0.1198, -0.1015,  0.0117,  0.0832,  0.0121, -0.0929,\n",
              "                      -0.0128,  0.0715, -0.0287, -0.1119,  0.0378,  0.0519, -0.1136,  0.0842,\n",
              "                       0.0193,  0.0063, -0.0421,  0.0545,  0.0533,  0.1118,  0.0495,  0.0583,\n",
              "                       0.0691,  0.0951, -0.1243, -0.0905,  0.0458,  0.1245, -0.0087,  0.0314,\n",
              "                      -0.0683, -0.0723,  0.0356,  0.0114,  0.0445, -0.0134,  0.1204, -0.0871,\n",
              "                      -0.0528,  0.0877,  0.0493,  0.0020, -0.1237, -0.0077,  0.0745,  0.0815,\n",
              "                       0.0564, -0.0798,  0.1175, -0.0483,  0.0425, -0.0571,  0.0950, -0.1100,\n",
              "                      -0.0405,  0.0880,  0.1006, -0.0622,  0.0864,  0.0733, -0.0309, -0.0429,\n",
              "                       0.0865,  0.1012, -0.0979, -0.0678, -0.0635,  0.0179,  0.0725, -0.0531,\n",
              "                      -0.0903, -0.0238,  0.0571, -0.0635, -0.0194,  0.0093,  0.0346, -0.0333,\n",
              "                      -0.0794,  0.0740,  0.0083,  0.0121,  0.1026,  0.0324, -0.0655,  0.1205,\n",
              "                      -0.1147, -0.1172, -0.1189, -0.0730,  0.1021,  0.0234,  0.0815, -0.0961,\n",
              "                       0.0618,  0.1098,  0.0610, -0.1105, -0.1179, -0.1055, -0.0309,  0.0789,\n",
              "                       0.0112, -0.0987, -0.0657, -0.0045, -0.0076, -0.0419, -0.0164,  0.0999,\n",
              "                      -0.0176,  0.0980, -0.1016,  0.0236, -0.0888,  0.0597, -0.1184, -0.0010,\n",
              "                       0.0061, -0.0476, -0.0452,  0.0495,  0.1167,  0.0892, -0.0953,  0.0856,\n",
              "                       0.0672,  0.1093, -0.0520, -0.0136,  0.0354, -0.0495, -0.0857,  0.1073,\n",
              "                      -0.0947, -0.1094,  0.0835, -0.0061, -0.0568, -0.0200,  0.0298, -0.1212,\n",
              "                      -0.0159, -0.0043,  0.0234,  0.0893, -0.0939, -0.0402, -0.0051,  0.1097,\n",
              "                       0.0440,  0.0119,  0.0647, -0.0086,  0.0877,  0.0825,  0.0927,  0.0449,\n",
              "                       0.0381,  0.0452, -0.0147,  0.0136,  0.0993, -0.0070,  0.0949, -0.0041],\n",
              "                     device='cuda:0')),\n",
              "             ('lstm.bias_hh_l0',\n",
              "              tensor([-0.0664,  0.0319, -0.0726,  0.0506,  0.0574,  0.0970,  0.0856,  0.0041,\n",
              "                      -0.0407,  0.0745, -0.0248,  0.0665, -0.0206,  0.0962, -0.1048, -0.0183,\n",
              "                       0.0425, -0.0599,  0.1072,  0.0014,  0.0907, -0.0936,  0.0126, -0.0026,\n",
              "                      -0.0012,  0.0142, -0.0582, -0.1237, -0.0901, -0.0119,  0.1140, -0.0935,\n",
              "                       0.0339,  0.0730,  0.1133, -0.0664,  0.0706, -0.0397,  0.0781, -0.0878,\n",
              "                       0.0388, -0.0831,  0.0498,  0.0534,  0.1015, -0.0386, -0.0166,  0.0523,\n",
              "                      -0.1154,  0.0686,  0.0841, -0.1175,  0.0806, -0.1183, -0.0449,  0.1244,\n",
              "                      -0.0745,  0.0528, -0.0340,  0.1096, -0.0538,  0.0253,  0.0893, -0.0280,\n",
              "                       0.0139, -0.0335,  0.0236, -0.1011, -0.0235,  0.0442, -0.0245, -0.0021,\n",
              "                      -0.0931, -0.1001, -0.0966, -0.0409, -0.0611,  0.1036,  0.0696, -0.0937,\n",
              "                       0.0950, -0.0339,  0.0821,  0.0322, -0.0370, -0.0291, -0.0284, -0.0581,\n",
              "                       0.0758,  0.0967, -0.0291, -0.0499,  0.0205, -0.1079,  0.0770, -0.0960,\n",
              "                      -0.0377,  0.0265,  0.0724, -0.0578,  0.0005, -0.1007, -0.0150,  0.0378,\n",
              "                      -0.0866,  0.0677, -0.1149, -0.0925,  0.0289,  0.0485, -0.0450, -0.1176,\n",
              "                       0.1191, -0.0445, -0.1236,  0.0860, -0.0021, -0.0333,  0.0789, -0.0960,\n",
              "                      -0.0484, -0.1164,  0.0652,  0.0597,  0.0912,  0.0674, -0.1180, -0.1046,\n",
              "                       0.0586, -0.0169, -0.0865, -0.0285, -0.1123, -0.0152,  0.0739, -0.0436,\n",
              "                       0.0063,  0.0151,  0.0847,  0.0635,  0.1093,  0.0635, -0.0605, -0.1020,\n",
              "                      -0.0826,  0.0084,  0.1190, -0.1023, -0.0851,  0.0783,  0.0383,  0.0349,\n",
              "                       0.0596,  0.0129, -0.0397, -0.0112,  0.0421,  0.0641, -0.1042,  0.0291,\n",
              "                      -0.0018, -0.1106, -0.0207,  0.1206,  0.0381, -0.1057,  0.1244,  0.0049,\n",
              "                      -0.1202, -0.0201,  0.0646, -0.0905,  0.0863, -0.0362, -0.0164,  0.0843,\n",
              "                      -0.0582, -0.0048,  0.0537,  0.0144, -0.0385, -0.0570, -0.0959, -0.0256,\n",
              "                       0.0788,  0.0402,  0.0290, -0.0614, -0.0347,  0.0432, -0.0555, -0.0309,\n",
              "                      -0.0121,  0.0813,  0.1065,  0.0817, -0.0755,  0.1137,  0.0968,  0.1043,\n",
              "                      -0.0852, -0.0956,  0.1023,  0.0070, -0.0174,  0.0395,  0.0056,  0.0205,\n",
              "                       0.0950,  0.0442, -0.1144, -0.0661,  0.0069,  0.0595, -0.0433,  0.0821,\n",
              "                       0.0517,  0.1192, -0.0546,  0.0011, -0.0450,  0.0818, -0.0965, -0.0724,\n",
              "                       0.0935,  0.0829, -0.0269, -0.0318, -0.0263, -0.1053, -0.0161, -0.0817,\n",
              "                      -0.0647,  0.0975,  0.0057,  0.0048,  0.0518,  0.1071, -0.1039,  0.0319,\n",
              "                       0.0535,  0.0802, -0.0978,  0.0498, -0.1069, -0.0762,  0.0972,  0.0008,\n",
              "                       0.0271, -0.0896, -0.0735, -0.0301, -0.1240, -0.0611, -0.0849,  0.0176],\n",
              "                     device='cuda:0')),\n",
              "             ('lstm.weight_ih_l0_reverse',\n",
              "              tensor([[-0.0972,  0.0355, -0.0343,  ...,  0.0268, -0.0283,  0.1011],\n",
              "                      [-0.0486, -0.1231,  0.0370,  ..., -0.0886, -0.0749, -0.0061],\n",
              "                      [ 0.0211, -0.0789,  0.0790,  ..., -0.0634,  0.0228,  0.0230],\n",
              "                      ...,\n",
              "                      [-0.0295, -0.0992,  0.0680,  ...,  0.0958, -0.0921,  0.0707],\n",
              "                      [ 0.0864,  0.0229, -0.1195,  ...,  0.0463, -0.0931,  0.0807],\n",
              "                      [-0.0813,  0.0408, -0.1248,  ...,  0.0804, -0.0420, -0.0916]],\n",
              "                     device='cuda:0')),\n",
              "             ('lstm.weight_hh_l0_reverse',\n",
              "              tensor([[ 0.0738,  0.1129, -0.0418,  ...,  0.0767, -0.0875,  0.0584],\n",
              "                      [ 0.1088,  0.0553,  0.0310,  ..., -0.0306, -0.1139, -0.0047],\n",
              "                      [-0.1158,  0.0289, -0.0414,  ...,  0.0426, -0.0147,  0.0682],\n",
              "                      ...,\n",
              "                      [ 0.0410,  0.0685, -0.1084,  ..., -0.0182,  0.0473,  0.0179],\n",
              "                      [-0.0183,  0.0413, -0.0186,  ...,  0.0819, -0.1218, -0.1131],\n",
              "                      [-0.0340,  0.1080,  0.0534,  ..., -0.0602, -0.0846,  0.0369]],\n",
              "                     device='cuda:0')),\n",
              "             ('lstm.bias_ih_l0_reverse',\n",
              "              tensor([ 0.0483,  0.0518,  0.0560, -0.0863, -0.0250,  0.0382,  0.0582,  0.0329,\n",
              "                       0.0341, -0.0087,  0.0781,  0.0999,  0.0951,  0.0998, -0.0016, -0.1156,\n",
              "                       0.0465,  0.0126,  0.0099, -0.0590, -0.0343,  0.0684, -0.0546, -0.0275,\n",
              "                      -0.1124,  0.0026, -0.1157, -0.1239,  0.0127,  0.0761, -0.0538, -0.0610,\n",
              "                      -0.0621, -0.0089, -0.0844,  0.0681,  0.0773,  0.1185,  0.1141,  0.0863,\n",
              "                      -0.0106, -0.0609, -0.0464, -0.0447,  0.0987,  0.1000,  0.0232, -0.0857,\n",
              "                      -0.0547,  0.0459, -0.0633, -0.0441,  0.1153,  0.0439,  0.0137, -0.0899,\n",
              "                      -0.0392,  0.0256, -0.1180,  0.1226, -0.0055,  0.1226,  0.0391, -0.0602,\n",
              "                      -0.1056,  0.0980,  0.0248,  0.0405,  0.1198, -0.0403,  0.1021,  0.0189,\n",
              "                       0.0705,  0.0400, -0.0789,  0.0628,  0.0049,  0.0053, -0.1029,  0.0959,\n",
              "                      -0.1230,  0.0355,  0.0234,  0.0897, -0.0310, -0.0425,  0.0374, -0.0038,\n",
              "                       0.1204,  0.0337,  0.1204, -0.0503, -0.0351, -0.0126,  0.0821,  0.0651,\n",
              "                       0.0117,  0.0069,  0.0771,  0.0542, -0.0398,  0.0205, -0.1155,  0.0495,\n",
              "                      -0.0146,  0.0470, -0.0543,  0.1065, -0.1141,  0.0678,  0.0519, -0.0240,\n",
              "                       0.0501, -0.0508,  0.0394,  0.1083, -0.0248,  0.0978,  0.0639,  0.1169,\n",
              "                      -0.0567, -0.0155,  0.0726, -0.0986, -0.1023, -0.0924, -0.0592,  0.0773,\n",
              "                      -0.0108,  0.0064,  0.1122, -0.1047,  0.0990,  0.0782,  0.0709, -0.0949,\n",
              "                       0.0447,  0.0204, -0.0937, -0.0026,  0.1053,  0.0106, -0.0831, -0.0337,\n",
              "                       0.0132, -0.0727, -0.0990,  0.0107, -0.0388,  0.0215,  0.0467,  0.1084,\n",
              "                      -0.0364, -0.0690, -0.1028, -0.0364,  0.0648, -0.0392,  0.0060, -0.0795,\n",
              "                       0.0659, -0.0664,  0.0834, -0.0002, -0.0919,  0.0364,  0.0009, -0.1197,\n",
              "                       0.0221, -0.1158, -0.0120, -0.0449, -0.0918, -0.0991,  0.0434, -0.1038,\n",
              "                       0.0846,  0.1206,  0.1004,  0.1158,  0.0404,  0.0064,  0.0411, -0.0950,\n",
              "                       0.1249, -0.1068, -0.1104,  0.0756, -0.0557,  0.0520,  0.0053,  0.1166,\n",
              "                      -0.0726,  0.0516, -0.0508, -0.0450,  0.0118,  0.1075,  0.0093, -0.0837,\n",
              "                      -0.0834,  0.0587,  0.0561, -0.0988,  0.0848, -0.0359,  0.1173,  0.0974,\n",
              "                      -0.0007,  0.0558, -0.1098, -0.0443, -0.0518, -0.0401,  0.0014, -0.0378,\n",
              "                      -0.0261, -0.0856,  0.0545, -0.0272,  0.0144, -0.0193, -0.0396,  0.0301,\n",
              "                      -0.0526,  0.1205, -0.0131,  0.0564,  0.0274,  0.0958, -0.0505, -0.0592,\n",
              "                      -0.0695,  0.0583,  0.1114,  0.0044,  0.0030,  0.0003, -0.0882, -0.0161,\n",
              "                       0.1212,  0.0190,  0.0302,  0.0309, -0.0353,  0.0825, -0.0198, -0.0821,\n",
              "                       0.0141,  0.0449,  0.0007, -0.1057,  0.1096,  0.0714,  0.0968, -0.0949],\n",
              "                     device='cuda:0')),\n",
              "             ('lstm.bias_hh_l0_reverse',\n",
              "              tensor([ 6.9275e-02,  3.0162e-02, -1.2653e-02,  9.5444e-02, -3.7399e-02,\n",
              "                       5.7761e-02, -1.7894e-02,  8.2019e-02,  2.5961e-03,  6.7571e-02,\n",
              "                       4.7127e-02, -8.9441e-03,  3.3136e-02, -9.6671e-02,  1.3441e-05,\n",
              "                      -6.2403e-02, -2.3349e-02,  5.0587e-02, -1.4391e-02, -6.0205e-02,\n",
              "                      -5.7890e-02,  3.6025e-04, -8.4575e-02,  1.1237e-01,  8.4550e-03,\n",
              "                       1.2886e-02, -8.3330e-02, -8.6292e-02, -1.5852e-02, -1.8230e-02,\n",
              "                      -8.5200e-02,  4.6912e-02,  4.2508e-02, -8.9751e-02, -6.3106e-02,\n",
              "                      -3.5830e-02, -7.8187e-02,  1.1683e-01,  1.0265e-01, -7.1115e-02,\n",
              "                       1.4683e-02, -6.8644e-02, -6.4936e-02,  7.5723e-03, -5.7241e-02,\n",
              "                      -9.1579e-02,  1.0505e-01,  2.4954e-02,  1.2152e-01, -8.0242e-02,\n",
              "                       1.7151e-02,  8.5344e-02, -9.3518e-02, -1.0664e-01,  7.4064e-02,\n",
              "                      -5.2259e-03, -4.9619e-02,  1.9564e-02,  1.1876e-01,  3.7416e-02,\n",
              "                      -6.8105e-02, -8.9465e-02, -6.2958e-02,  7.7621e-02, -3.5923e-02,\n",
              "                      -6.5207e-02, -4.4188e-02, -2.1305e-02, -7.5158e-02, -2.6772e-02,\n",
              "                       9.7818e-02, -3.0424e-02,  5.7802e-02,  7.2712e-02,  5.6247e-02,\n",
              "                       2.3187e-02,  7.0738e-02, -1.5015e-02, -6.9760e-02,  1.4025e-02,\n",
              "                       9.2129e-02, -2.3538e-02, -6.1101e-02, -2.4302e-02, -4.7480e-04,\n",
              "                      -1.1908e-01, -1.0642e-01, -2.4987e-02, -1.1274e-01, -4.3417e-02,\n",
              "                       1.1328e-01,  1.0384e-01, -3.6575e-02,  5.5256e-02, -2.7706e-02,\n",
              "                      -2.7501e-02,  4.2970e-02,  1.1119e-01,  1.0612e-01, -1.0364e-01,\n",
              "                      -8.2478e-03,  3.0600e-02,  1.2226e-01,  7.1868e-03, -1.0033e-01,\n",
              "                       5.7637e-02,  5.1246e-02,  1.1080e-01, -1.1690e-03,  5.8340e-02,\n",
              "                       3.1482e-02, -1.2069e-01, -7.3178e-02, -1.0548e-01,  1.2141e-01,\n",
              "                      -5.7909e-03,  7.1480e-02,  1.0620e-01, -4.3049e-02, -9.4766e-02,\n",
              "                       1.0155e-01, -2.4683e-02, -3.2173e-02,  7.1045e-02,  6.9006e-02,\n",
              "                      -3.9218e-02, -6.2174e-02, -4.6262e-02, -4.5706e-02, -4.6616e-02,\n",
              "                      -1.5002e-02,  9.7283e-03, -1.0877e-01, -4.8480e-03, -2.2967e-02,\n",
              "                       6.7029e-02,  6.7071e-02, -4.1379e-02,  2.6092e-02, -8.4224e-02,\n",
              "                       5.5010e-02, -1.1593e-01, -4.4782e-02,  8.3095e-03,  1.2491e-01,\n",
              "                       9.4775e-02,  1.0293e-01, -7.2688e-02, -5.9312e-02, -6.4131e-02,\n",
              "                       4.2515e-03, -7.0947e-02, -1.1382e-01, -8.9162e-02, -1.0666e-01,\n",
              "                      -7.3583e-02,  9.7315e-02,  3.3814e-02,  1.3083e-02, -4.9865e-02,\n",
              "                       6.8482e-02,  5.0998e-02,  6.1963e-02,  2.2150e-02, -7.1481e-02,\n",
              "                      -6.0167e-02, -9.1338e-02, -8.5391e-02,  5.8337e-02, -1.7916e-02,\n",
              "                       2.4290e-02,  3.3142e-02, -1.1879e-01,  5.2140e-02,  1.8225e-02,\n",
              "                      -5.7040e-03, -7.2732e-02,  8.9584e-03, -9.7416e-02,  6.4236e-02,\n",
              "                       5.3792e-04,  7.1924e-02,  3.0372e-02,  6.1908e-02,  6.0535e-02,\n",
              "                       9.3919e-02, -1.2379e-01, -7.1438e-02,  1.2271e-02, -1.2115e-01,\n",
              "                      -1.0162e-01,  6.3844e-02,  1.7503e-02,  3.5093e-02,  8.5022e-02,\n",
              "                      -9.1225e-02,  4.4155e-02,  1.0024e-01,  1.0077e-01, -1.1905e-01,\n",
              "                       2.9154e-02,  8.9490e-02,  6.0229e-02,  8.3704e-02,  6.8033e-02,\n",
              "                      -8.5045e-02, -7.2026e-02,  5.2289e-03,  1.0015e-01,  1.0884e-01,\n",
              "                      -9.2883e-02, -8.7056e-02, -6.8163e-02,  6.0450e-02,  8.3452e-02,\n",
              "                       8.2567e-02,  4.4881e-02,  1.0681e-02, -1.2471e-01, -3.2727e-02,\n",
              "                      -6.6511e-02, -6.3906e-02, -8.3174e-02,  2.3715e-02,  8.6799e-02,\n",
              "                      -5.6951e-02,  1.0684e-01, -1.0942e-01,  4.0830e-02, -4.7857e-02,\n",
              "                      -6.2191e-02, -8.8631e-02,  8.1881e-02, -1.1332e-02,  1.5494e-02,\n",
              "                      -8.3569e-02,  5.5671e-02,  5.4544e-02, -1.1712e-01,  7.2969e-02,\n",
              "                       1.5694e-02, -5.4310e-02,  2.2212e-02,  7.0707e-02, -4.3604e-02,\n",
              "                      -1.0512e-01, -1.1395e-01, -1.2851e-02, -4.2063e-04, -1.2488e-01,\n",
              "                       4.7051e-02,  9.0129e-02, -1.0679e-01,  9.6051e-02,  8.1769e-02,\n",
              "                      -1.4825e-02], device='cuda:0')),\n",
              "             ('lstm.weight_ih_l1',\n",
              "              tensor([[-0.0802,  0.1219, -0.0895,  ...,  0.0375, -0.0811, -0.0527],\n",
              "                      [-0.0632, -0.0726,  0.0687,  ...,  0.1165,  0.0020,  0.0592],\n",
              "                      [-0.0149, -0.0548,  0.0114,  ...,  0.0796, -0.1091, -0.0560],\n",
              "                      ...,\n",
              "                      [-0.0382,  0.1039, -0.0061,  ..., -0.0599,  0.0496, -0.0121],\n",
              "                      [ 0.0206,  0.0079, -0.0114,  ...,  0.1178,  0.1118, -0.0523],\n",
              "                      [-0.0030, -0.0550,  0.0827,  ..., -0.0592, -0.1216,  0.0904]],\n",
              "                     device='cuda:0')),\n",
              "             ('lstm.weight_hh_l1',\n",
              "              tensor([[-0.0230,  0.0763,  0.0976,  ...,  0.0702, -0.1245, -0.0599],\n",
              "                      [ 0.0464,  0.0237,  0.0750,  ..., -0.0389,  0.1102, -0.0498],\n",
              "                      [ 0.0828,  0.0781,  0.0183,  ..., -0.0331, -0.1085,  0.0174],\n",
              "                      ...,\n",
              "                      [ 0.0892,  0.0605, -0.0794,  ..., -0.0607, -0.0710,  0.0962],\n",
              "                      [ 0.0598, -0.0723,  0.0253,  ..., -0.0247, -0.0064,  0.1139],\n",
              "                      [-0.0533,  0.0098,  0.0224,  ...,  0.0732, -0.0099, -0.0268]],\n",
              "                     device='cuda:0')),\n",
              "             ('lstm.bias_ih_l1',\n",
              "              tensor([-1.2054e-01,  5.9216e-02,  9.4695e-02,  1.0266e-01, -3.7884e-02,\n",
              "                      -3.0599e-03, -1.1025e-01,  9.2341e-02, -9.1901e-02,  5.2585e-02,\n",
              "                      -7.9590e-02, -2.8027e-02, -5.5187e-02, -9.5600e-02,  6.6981e-02,\n",
              "                      -6.4806e-02,  1.1971e-01,  6.0193e-02, -5.2619e-02, -1.1563e-01,\n",
              "                       6.2932e-03,  2.0779e-02,  1.5291e-02, -7.8144e-02,  8.5454e-04,\n",
              "                      -9.2960e-03, -9.5181e-02,  8.6243e-02, -2.6082e-03, -6.7993e-02,\n",
              "                      -1.2563e-02,  1.5124e-02, -7.2199e-02,  8.6759e-03,  8.6749e-02,\n",
              "                       7.1257e-02,  7.7908e-02, -1.1875e-01, -2.2080e-02,  3.7583e-02,\n",
              "                       8.3441e-03, -1.2337e-01, -7.9734e-02, -6.0275e-02, -7.7503e-02,\n",
              "                       2.1391e-02, -5.1806e-02, -1.8351e-02,  6.5947e-02, -2.0910e-02,\n",
              "                      -7.9733e-02,  4.9030e-02,  2.8746e-02,  7.7926e-02,  8.2272e-03,\n",
              "                      -4.0795e-02, -3.7788e-02, -4.1375e-02, -1.1118e-01, -8.3130e-02,\n",
              "                       3.7369e-02, -2.4977e-02,  1.3319e-02, -4.4255e-03,  7.3669e-03,\n",
              "                       6.7768e-02,  8.3503e-02,  3.1207e-02,  2.9139e-02,  1.1594e-01,\n",
              "                      -3.4507e-02,  5.8228e-02,  6.6713e-02,  1.0352e-01,  4.4217e-02,\n",
              "                      -8.3168e-02,  6.9931e-02,  4.4839e-02, -1.2446e-03, -1.0950e-01,\n",
              "                      -4.2470e-02, -5.4032e-02,  7.1086e-02,  1.0660e-01, -1.0481e-01,\n",
              "                       6.4634e-02,  5.0290e-02, -1.3345e-03, -2.7972e-02, -8.3571e-02,\n",
              "                      -3.4739e-02, -7.9415e-02,  1.1355e-01,  2.9380e-02,  6.0977e-02,\n",
              "                       8.7968e-02,  9.6575e-02,  1.0610e-02,  8.5077e-02,  9.7670e-03,\n",
              "                       2.6425e-02,  5.4889e-02,  4.1190e-02, -2.5588e-02, -9.9597e-02,\n",
              "                       7.4470e-02, -2.3739e-02,  5.6309e-02,  1.8453e-03,  5.5002e-02,\n",
              "                       3.0952e-02, -3.1210e-02,  8.3578e-02, -1.1708e-01, -4.3592e-02,\n",
              "                       8.8600e-02,  1.2295e-01, -1.8217e-02, -1.1627e-01, -1.2326e-02,\n",
              "                       1.2285e-01,  1.1111e-01,  2.5039e-02, -3.9455e-02,  8.9810e-02,\n",
              "                       4.9695e-02, -7.5714e-04,  1.4655e-02,  6.0745e-03,  2.2143e-02,\n",
              "                      -6.1376e-02, -2.3870e-02, -4.1552e-02,  9.9392e-02,  1.0027e-04,\n",
              "                       1.1739e-01,  8.9009e-02,  2.9550e-02,  1.2489e-01,  8.0878e-02,\n",
              "                       7.1699e-02,  6.4411e-02,  8.8860e-02, -1.7225e-02,  8.4325e-02,\n",
              "                       4.3683e-02, -4.7295e-02, -4.7030e-02, -7.6455e-02,  2.4660e-02,\n",
              "                       9.0052e-02,  1.2016e-01,  3.8913e-02, -6.1794e-02, -7.5550e-02,\n",
              "                       6.4965e-02, -9.6734e-02,  9.5889e-02, -3.3467e-02, -8.1880e-02,\n",
              "                       5.4498e-02,  1.2334e-01,  7.1535e-03, -9.0068e-02, -1.2260e-01,\n",
              "                       2.6655e-02,  9.3704e-03, -9.8120e-02,  6.0513e-02,  1.0757e-01,\n",
              "                      -5.1626e-02, -8.8657e-02, -9.4467e-02,  1.9311e-02, -2.5090e-03,\n",
              "                      -4.8406e-02,  2.5021e-02, -8.8741e-02,  2.5344e-03,  7.9412e-02,\n",
              "                      -7.6479e-02,  8.1248e-02,  8.5214e-02,  7.1709e-02,  1.0758e-01,\n",
              "                       5.2015e-02, -5.7608e-02,  8.9173e-02,  4.9683e-02,  8.1480e-03,\n",
              "                       4.7876e-02, -9.6274e-02,  8.4362e-02, -5.9507e-03,  3.7653e-02,\n",
              "                      -1.9485e-02, -2.6831e-02,  6.5484e-02,  7.0827e-02,  4.6684e-03,\n",
              "                       2.1252e-02, -1.1901e-01, -8.7945e-02, -4.3331e-04, -8.2382e-03,\n",
              "                       4.5551e-02,  6.4143e-02,  7.2139e-02, -6.3897e-02,  3.4495e-02,\n",
              "                       8.7426e-02, -1.1676e-01, -1.2161e-01, -1.1934e-01,  7.2557e-02,\n",
              "                      -6.5478e-03,  9.7935e-02,  7.0847e-02, -3.7171e-02,  5.6382e-02,\n",
              "                      -4.9300e-02, -1.6183e-02, -1.1416e-01, -7.4826e-02,  6.8259e-02,\n",
              "                       2.1862e-02, -1.1516e-01, -6.7043e-02,  7.0017e-02,  1.8967e-02,\n",
              "                      -8.6864e-02, -1.3485e-02,  1.0352e-01,  9.8986e-02,  1.1561e-01,\n",
              "                       3.6234e-02,  7.2889e-02, -1.0150e-01, -1.0544e-01, -3.5745e-03,\n",
              "                      -5.5558e-02, -1.3230e-02,  9.8141e-02,  1.0897e-01,  5.8622e-02,\n",
              "                       1.1109e-01,  7.0174e-02,  4.1844e-02,  4.9119e-02,  5.2979e-02,\n",
              "                       9.2390e-02,  5.2357e-02, -7.9098e-02, -7.2560e-02, -1.6764e-02,\n",
              "                       8.5661e-02], device='cuda:0')),\n",
              "             ('lstm.bias_hh_l1',\n",
              "              tensor([ 0.0656, -0.0649, -0.1153,  0.0902, -0.0324,  0.0828,  0.0601,  0.0717,\n",
              "                      -0.0347, -0.0682,  0.0813,  0.0822, -0.0343,  0.0424, -0.0838,  0.0356,\n",
              "                       0.0794, -0.0700, -0.0910,  0.0227,  0.0031,  0.0975,  0.0153,  0.0953,\n",
              "                      -0.0575,  0.0032, -0.1024,  0.1054,  0.0952, -0.0093, -0.0991,  0.0247,\n",
              "                       0.0765,  0.0413, -0.0095,  0.0367, -0.0843, -0.0647, -0.0624,  0.0188,\n",
              "                       0.0532,  0.0379,  0.0753,  0.0019, -0.1026, -0.0197, -0.0835,  0.0574,\n",
              "                       0.0675, -0.0263,  0.0481, -0.0024, -0.0990,  0.0074,  0.1193,  0.0876,\n",
              "                      -0.0214, -0.1057, -0.1169, -0.0990,  0.1026,  0.0713,  0.1142,  0.1218,\n",
              "                       0.0328,  0.1112, -0.0869,  0.0807, -0.0764,  0.0443, -0.0418,  0.0992,\n",
              "                       0.0332,  0.0417, -0.0273, -0.0683, -0.1237,  0.0705,  0.1036, -0.1194,\n",
              "                       0.0163, -0.1208, -0.0791,  0.0841,  0.0033, -0.0918,  0.0054, -0.0807,\n",
              "                       0.0986, -0.0215, -0.1080,  0.0932, -0.0073, -0.0567, -0.1019,  0.0252,\n",
              "                       0.0175, -0.1117, -0.0408, -0.0936,  0.0042,  0.0492, -0.0438,  0.0076,\n",
              "                       0.0283,  0.0996,  0.0404, -0.0449, -0.0579, -0.0625, -0.0119,  0.0782,\n",
              "                      -0.0470, -0.0940,  0.0961,  0.1036, -0.0945, -0.1039,  0.0463, -0.0555,\n",
              "                      -0.1178,  0.1245,  0.0065, -0.0979, -0.0335,  0.0547,  0.0874,  0.0209,\n",
              "                      -0.0105, -0.0216,  0.0693, -0.0544, -0.0555,  0.0810,  0.0584,  0.0131,\n",
              "                       0.0039, -0.1216,  0.1092,  0.0189,  0.0191,  0.1238,  0.0864, -0.0341,\n",
              "                      -0.1250,  0.0979,  0.0292, -0.0842, -0.0019,  0.1099, -0.0319,  0.0486,\n",
              "                      -0.0227, -0.0771,  0.1109, -0.1074, -0.0286, -0.0845, -0.0833,  0.1157,\n",
              "                      -0.0329,  0.1224,  0.0647,  0.1220,  0.1190,  0.0450, -0.0940,  0.0992,\n",
              "                      -0.0113, -0.0889, -0.0707,  0.0522, -0.0853, -0.0753, -0.1185, -0.0534,\n",
              "                       0.0914,  0.1120, -0.1016, -0.0826,  0.1083, -0.0634,  0.0159,  0.1235,\n",
              "                      -0.1091, -0.0826,  0.0726,  0.0878, -0.0483, -0.0638,  0.0873, -0.1205,\n",
              "                      -0.0612, -0.0445, -0.1165, -0.1165,  0.0968, -0.0425, -0.0167, -0.0121,\n",
              "                      -0.0191,  0.0474, -0.0620, -0.0096, -0.0377,  0.0134, -0.0453, -0.0358,\n",
              "                      -0.0101,  0.0104,  0.0789, -0.1063, -0.0468, -0.0791, -0.0415, -0.0977,\n",
              "                      -0.1036,  0.0982,  0.0025, -0.0044,  0.0943, -0.0530,  0.1177, -0.0631,\n",
              "                       0.0220,  0.0747,  0.0436,  0.1062,  0.0049,  0.0719,  0.0387, -0.0513,\n",
              "                      -0.0525, -0.0832, -0.0556, -0.0693, -0.0827,  0.1058, -0.0007,  0.0611,\n",
              "                      -0.0577, -0.0566, -0.0792, -0.0648, -0.0795,  0.0320,  0.0123, -0.0273,\n",
              "                      -0.0424, -0.0681, -0.0755, -0.0558,  0.0783, -0.0512,  0.1020,  0.0684],\n",
              "                     device='cuda:0')),\n",
              "             ('lstm.weight_ih_l1_reverse',\n",
              "              tensor([[-0.0658, -0.0623, -0.0688,  ..., -0.0819,  0.0372, -0.0969],\n",
              "                      [ 0.0336, -0.0013, -0.0626,  ..., -0.0735, -0.0304,  0.0404],\n",
              "                      [ 0.0044,  0.0778, -0.0229,  ..., -0.0120,  0.1078, -0.1092],\n",
              "                      ...,\n",
              "                      [-0.0153, -0.0441, -0.0964,  ..., -0.1110, -0.0685, -0.1214],\n",
              "                      [-0.0019,  0.0972,  0.0391,  ...,  0.0608,  0.1146, -0.0008],\n",
              "                      [ 0.1104, -0.0777, -0.0219,  ...,  0.0930, -0.0356,  0.1216]],\n",
              "                     device='cuda:0')),\n",
              "             ('lstm.weight_hh_l1_reverse',\n",
              "              tensor([[ 0.0361, -0.0739,  0.1027,  ..., -0.0248, -0.0447,  0.0380],\n",
              "                      [-0.0895,  0.1210, -0.0865,  ..., -0.0008,  0.0552,  0.0226],\n",
              "                      [-0.0831, -0.0626, -0.1063,  ..., -0.0813, -0.1062,  0.0016],\n",
              "                      ...,\n",
              "                      [ 0.0504,  0.1028, -0.0799,  ..., -0.0085, -0.0924,  0.0370],\n",
              "                      [ 0.0892,  0.0324,  0.0443,  ..., -0.0353,  0.0056, -0.1084],\n",
              "                      [ 0.0151, -0.0449,  0.1056,  ...,  0.0182,  0.0293,  0.0232]],\n",
              "                     device='cuda:0')),\n",
              "             ('lstm.bias_ih_l1_reverse',\n",
              "              tensor([-0.0859,  0.0668,  0.0454, -0.0857, -0.0733, -0.1024,  0.1135,  0.0767,\n",
              "                      -0.0480, -0.0850,  0.0993,  0.0757,  0.0651, -0.0351, -0.0098, -0.0025,\n",
              "                      -0.0506, -0.1184, -0.1038, -0.0786,  0.1080,  0.0555,  0.1043, -0.1015,\n",
              "                      -0.1148, -0.0830, -0.1134,  0.0133, -0.0061,  0.0472,  0.0643, -0.0721,\n",
              "                       0.0466, -0.0753, -0.0156, -0.1019,  0.1171,  0.0450,  0.0438,  0.0975,\n",
              "                      -0.0336,  0.1020,  0.0034,  0.0552,  0.0071, -0.0717, -0.0959,  0.0506,\n",
              "                       0.0105, -0.1026,  0.0765, -0.0210, -0.0502,  0.0582, -0.0675, -0.1049,\n",
              "                       0.0021, -0.0952, -0.1233, -0.0965, -0.0262, -0.0557, -0.1141,  0.0699,\n",
              "                       0.1249, -0.0840, -0.0013, -0.0136,  0.0995,  0.0029,  0.0022,  0.0657,\n",
              "                      -0.0846,  0.0164,  0.0621, -0.0010,  0.0030,  0.0193, -0.0343,  0.0724,\n",
              "                      -0.0874, -0.0975,  0.0775,  0.0205, -0.1045,  0.0462, -0.1221,  0.0898,\n",
              "                       0.0172,  0.0880, -0.0890,  0.0153,  0.0295,  0.1025,  0.1234,  0.0528,\n",
              "                       0.0709,  0.0359,  0.0649, -0.0523, -0.0070,  0.0484,  0.0722, -0.0436,\n",
              "                       0.0772, -0.1002, -0.0325, -0.0401,  0.0844, -0.0158, -0.0591, -0.0083,\n",
              "                      -0.1030,  0.1205,  0.0422, -0.0215, -0.1120, -0.0736,  0.0660,  0.0913,\n",
              "                      -0.0729, -0.0775,  0.0332, -0.0470, -0.0067, -0.0892, -0.1249, -0.0062,\n",
              "                      -0.0598, -0.0798, -0.0924,  0.0458,  0.0247,  0.0250, -0.0130, -0.1158,\n",
              "                       0.0151,  0.0402,  0.1244, -0.0617, -0.0969, -0.0674, -0.0304,  0.0056,\n",
              "                      -0.0330,  0.1060, -0.0991, -0.0370,  0.1142, -0.1221,  0.0732, -0.0782,\n",
              "                       0.0797, -0.0810,  0.0688, -0.0325,  0.1036,  0.0385, -0.0459,  0.0620,\n",
              "                      -0.0250,  0.0891, -0.0463,  0.0644, -0.0368, -0.1215, -0.0175, -0.0727,\n",
              "                       0.1000, -0.0041, -0.0396,  0.0607,  0.0368,  0.1005,  0.1207, -0.0971,\n",
              "                       0.1067, -0.0724,  0.0785, -0.0067, -0.0392,  0.0173, -0.1113, -0.0681,\n",
              "                      -0.1167,  0.1228, -0.1212, -0.0660,  0.1131,  0.0041,  0.1172, -0.0075,\n",
              "                       0.1098,  0.0162,  0.1085, -0.1186, -0.0593, -0.0443, -0.0679, -0.0006,\n",
              "                      -0.1222,  0.0643, -0.1245, -0.1066,  0.0681,  0.0090,  0.1183, -0.0692,\n",
              "                      -0.0950,  0.0225,  0.0610, -0.0275,  0.0887,  0.0729, -0.0912,  0.0058,\n",
              "                      -0.1094, -0.0842,  0.0410,  0.0123,  0.0580, -0.0207, -0.0955, -0.0510,\n",
              "                      -0.1134,  0.0144, -0.1186,  0.0594, -0.0125,  0.1112, -0.0878, -0.1031,\n",
              "                      -0.0563,  0.0724, -0.0066, -0.1129, -0.0832, -0.0315, -0.0852, -0.0288,\n",
              "                      -0.1232, -0.1203,  0.0324,  0.0006,  0.1244,  0.0971, -0.0548, -0.0376,\n",
              "                       0.0935, -0.1168,  0.0255, -0.0669, -0.0044, -0.1110,  0.1177, -0.0762],\n",
              "                     device='cuda:0')),\n",
              "             ('lstm.bias_hh_l1_reverse',\n",
              "              tensor([-0.1079,  0.1074, -0.0195, -0.1159, -0.0414,  0.0094,  0.0783,  0.0781,\n",
              "                       0.0723,  0.0976, -0.0664,  0.0805, -0.0739,  0.0924,  0.0766, -0.0278,\n",
              "                      -0.0479,  0.0720, -0.0488, -0.0362,  0.0490,  0.0007,  0.0796,  0.0083,\n",
              "                      -0.0577, -0.1025, -0.1093, -0.1234, -0.0105, -0.0214, -0.0248,  0.0096,\n",
              "                      -0.0442, -0.0717, -0.0089,  0.0503, -0.0605, -0.0073, -0.0926,  0.0255,\n",
              "                       0.0279,  0.0107, -0.0072, -0.0857,  0.0271, -0.0983, -0.0126, -0.0814,\n",
              "                      -0.1049,  0.0042, -0.1067,  0.0842,  0.0197,  0.0421, -0.0769, -0.0204,\n",
              "                       0.0308,  0.1190,  0.0244,  0.0542, -0.0194, -0.1148, -0.0191, -0.1135,\n",
              "                      -0.0617, -0.0626,  0.0364,  0.0565,  0.0848,  0.0493, -0.0499,  0.0130,\n",
              "                       0.0138,  0.0140,  0.0901, -0.0555, -0.0755, -0.0115, -0.0805,  0.0643,\n",
              "                       0.0891, -0.0509, -0.0084,  0.1155,  0.0673, -0.0357, -0.0859,  0.1014,\n",
              "                       0.0039, -0.0958, -0.0966, -0.0114,  0.1062,  0.0547, -0.1120,  0.0177,\n",
              "                      -0.0450, -0.0973,  0.0118,  0.0116, -0.0876,  0.1081,  0.1247,  0.1156,\n",
              "                      -0.0271, -0.0667,  0.0096, -0.1138, -0.0429, -0.0452,  0.0122, -0.0895,\n",
              "                      -0.0245,  0.1090,  0.1012,  0.0574,  0.0704, -0.0225,  0.0591,  0.0680,\n",
              "                      -0.0880, -0.0664,  0.1016, -0.0747, -0.1192, -0.0607, -0.0535,  0.0732,\n",
              "                      -0.1054,  0.0734, -0.0563,  0.0926, -0.0708,  0.0128,  0.0824,  0.0541,\n",
              "                       0.0452,  0.0859, -0.0195,  0.0517, -0.1093, -0.1138, -0.1023,  0.1038,\n",
              "                       0.0993, -0.0029,  0.1048, -0.0292, -0.0998, -0.0032,  0.0171,  0.0384,\n",
              "                       0.0230, -0.0894,  0.0823,  0.0585, -0.0587, -0.0475, -0.0117,  0.0131,\n",
              "                       0.0749, -0.0960, -0.0014, -0.0762, -0.0646, -0.0990, -0.1047, -0.1079,\n",
              "                       0.0144, -0.1191,  0.0902, -0.1006, -0.1208,  0.0849, -0.1001,  0.1024,\n",
              "                       0.0931,  0.0480,  0.0332, -0.0269,  0.1113, -0.0083, -0.0490, -0.0817,\n",
              "                      -0.0909, -0.0905,  0.0170,  0.0695,  0.1123, -0.0839, -0.1126,  0.0890,\n",
              "                      -0.0859,  0.1009, -0.0037, -0.0517, -0.0747, -0.0546,  0.0161,  0.0730,\n",
              "                      -0.1175, -0.1163, -0.1122, -0.0661, -0.0582, -0.0765,  0.0871, -0.0475,\n",
              "                       0.0909,  0.0796,  0.1144, -0.0112,  0.1195, -0.0300, -0.0177, -0.0210,\n",
              "                      -0.1088, -0.0878, -0.0452, -0.0125, -0.1018,  0.1149,  0.0655, -0.0087,\n",
              "                      -0.0697,  0.0955, -0.0425, -0.0286,  0.0312, -0.0606, -0.0709,  0.1158,\n",
              "                      -0.0429,  0.0224, -0.0269, -0.0146, -0.0562, -0.0061, -0.0322,  0.0777,\n",
              "                       0.0192,  0.0623, -0.0559, -0.1243, -0.0604,  0.0456, -0.1161, -0.1128,\n",
              "                       0.0168, -0.0567,  0.0036,  0.0278, -0.0350,  0.0412,  0.1082, -0.0390],\n",
              "                     device='cuda:0')),\n",
              "             ('fc_layers.0.weight',\n",
              "              tensor([[ 0.0166,  0.0505, -0.0662,  ..., -0.0848,  0.0252, -0.0225],\n",
              "                      [-0.0695, -0.0877, -0.0848,  ...,  0.0674,  0.0018,  0.0396],\n",
              "                      [-0.0505,  0.0079, -0.0626,  ..., -0.0821, -0.0453,  0.0056],\n",
              "                      ...,\n",
              "                      [ 0.0363,  0.0098, -0.0132,  ..., -0.0625, -0.0394,  0.0583],\n",
              "                      [-0.0671, -0.0087, -0.0803,  ..., -0.0523, -0.0605, -0.0386],\n",
              "                      [ 0.0465,  0.0745, -0.0645,  ..., -0.0207,  0.0061,  0.0577]],\n",
              "                     device='cuda:0')),\n",
              "             ('fc_layers.0.bias',\n",
              "              tensor([ 0.0191,  0.0491,  0.0473, -0.0305,  0.0369,  0.0290,  0.0524,  0.0663,\n",
              "                       0.0716,  0.0511,  0.0257,  0.0847,  0.0047, -0.0124, -0.0759,  0.0346,\n",
              "                       0.0464, -0.0246, -0.0240,  0.0623, -0.0492, -0.0044,  0.0629, -0.0415,\n",
              "                      -0.0513, -0.0429, -0.0270,  0.0013, -0.0846,  0.0717, -0.0699,  0.0377,\n",
              "                      -0.0767,  0.0139,  0.0248,  0.0485,  0.0431,  0.0692, -0.0250, -0.0452,\n",
              "                      -0.0876,  0.0367, -0.0391, -0.0056, -0.0168,  0.0319,  0.0462,  0.0521,\n",
              "                      -0.0527, -0.0620, -0.0429,  0.0294, -0.0009,  0.0446,  0.0838, -0.0234,\n",
              "                       0.0364,  0.0739, -0.0342,  0.0479, -0.0240,  0.0156,  0.0746,  0.0184,\n",
              "                       0.0059,  0.0082, -0.0013, -0.0291, -0.0014,  0.0634, -0.0441,  0.0025,\n",
              "                      -0.0108,  0.0520,  0.0246,  0.0499,  0.0072, -0.0769, -0.0809,  0.0187,\n",
              "                      -0.0521,  0.0468,  0.0024,  0.0379,  0.0305, -0.0566, -0.0342, -0.0194,\n",
              "                      -0.0707, -0.0871, -0.0775, -0.0515,  0.0651, -0.0412,  0.0342, -0.0544,\n",
              "                       0.0691, -0.0047,  0.0857, -0.0376,  0.0184, -0.0370, -0.0504,  0.0118,\n",
              "                       0.0030, -0.0458,  0.0284,  0.0075,  0.0328,  0.0583, -0.0044,  0.0189,\n",
              "                      -0.0554,  0.0140, -0.0437,  0.0530,  0.0789,  0.0310,  0.0736, -0.0469,\n",
              "                      -0.0607,  0.0638,  0.0545, -0.0452, -0.0551,  0.0559, -0.0465,  0.0835],\n",
              "                     device='cuda:0')),\n",
              "             ('fc_layers.2.weight',\n",
              "              tensor([[-0.0841,  0.0448, -0.0710,  ...,  0.0342,  0.0410,  0.0491],\n",
              "                      [-0.0187, -0.0634, -0.0063,  ..., -0.0601, -0.0784, -0.0040],\n",
              "                      [ 0.0315,  0.0881, -0.0056,  ..., -0.0492,  0.0573,  0.0133],\n",
              "                      ...,\n",
              "                      [-0.0825, -0.0280, -0.0561,  ..., -0.0845, -0.0854,  0.0693],\n",
              "                      [-0.0466, -0.0530,  0.0193,  ..., -0.0467,  0.0170,  0.0745],\n",
              "                      [ 0.0646,  0.0811,  0.0742,  ...,  0.0736,  0.0746,  0.0693]],\n",
              "                     device='cuda:0')),\n",
              "             ('fc_layers.2.bias',\n",
              "              tensor([ 0.0634, -0.0520,  0.0221,  0.0055, -0.0411, -0.0758,  0.0369,  0.0066,\n",
              "                       0.0528,  0.0627,  0.0543,  0.0226,  0.0033,  0.0550, -0.0619,  0.0627,\n",
              "                       0.0678, -0.0161,  0.0739,  0.0355,  0.0505,  0.0034,  0.0103, -0.0814,\n",
              "                      -0.0255,  0.0118,  0.0150, -0.0367,  0.0321,  0.0045,  0.0378, -0.0056,\n",
              "                      -0.0672,  0.0259,  0.0267,  0.0749,  0.0416,  0.0293,  0.0607, -0.0621,\n",
              "                      -0.0471, -0.0061, -0.0663,  0.0648, -0.0313,  0.0105,  0.0681,  0.0543,\n",
              "                      -0.0881, -0.0471,  0.0640,  0.0280,  0.0110,  0.0035,  0.0430, -0.0827,\n",
              "                       0.0435,  0.0450,  0.0821,  0.0804,  0.0726,  0.0767, -0.0755,  0.0185],\n",
              "                     device='cuda:0')),\n",
              "             ('fc_layers.4.weight',\n",
              "              tensor([[-0.0299,  0.0948, -0.0362,  ...,  0.1133, -0.0071, -0.1097],\n",
              "                      [ 0.0567, -0.1122, -0.1100,  ..., -0.1003, -0.1009,  0.0666],\n",
              "                      [-0.0499, -0.0027, -0.0253,  ...,  0.0331,  0.0353, -0.0247],\n",
              "                      ...,\n",
              "                      [ 0.0259, -0.1087, -0.0587,  ..., -0.0962, -0.1143,  0.0540],\n",
              "                      [ 0.0189,  0.0058,  0.0968,  ..., -0.0155,  0.0365, -0.0881],\n",
              "                      [ 0.0813, -0.0188,  0.1218,  ..., -0.1155, -0.0807, -0.0060]],\n",
              "                     device='cuda:0')),\n",
              "             ('fc_layers.4.bias',\n",
              "              tensor([-0.0960, -0.0415, -0.1148,  0.1068, -0.0914,  0.0064,  0.0513, -0.0438,\n",
              "                       0.0668, -0.1214,  0.0326, -0.0453, -0.1117,  0.0161, -0.1156,  0.0388,\n",
              "                       0.0672, -0.0193, -0.0182,  0.0167, -0.0206,  0.0549, -0.0773, -0.0750,\n",
              "                      -0.0165,  0.0306, -0.1090,  0.0838, -0.0832, -0.0167, -0.0026,  0.0189],\n",
              "                     device='cuda:0')),\n",
              "             ('fc_layers.6.weight',\n",
              "              tensor([[ 4.5704e-02, -1.5882e-01, -9.5256e-02, -1.6072e-01, -9.1593e-02,\n",
              "                       -1.6530e-01, -1.6377e-01, -1.1526e-01, -1.5210e-01, -5.8615e-02,\n",
              "                       -2.4881e-02,  1.3019e-01,  2.2957e-02, -7.5293e-02,  5.7547e-02,\n",
              "                        1.4590e-02,  4.0387e-02,  1.4415e-01,  7.3822e-02, -1.2900e-01,\n",
              "                        1.8653e-02, -2.5036e-02, -1.3642e-01, -3.6504e-02,  1.1090e-01,\n",
              "                       -9.7148e-02,  5.4325e-02, -3.8039e-02,  6.8167e-02,  1.5764e-03,\n",
              "                       -1.5489e-01,  6.6336e-02],\n",
              "                      [-1.5470e-01,  1.6537e-01, -8.0060e-02, -7.2938e-03,  1.7642e-01,\n",
              "                        1.3742e-01, -1.6257e-01, -1.0673e-01, -1.4555e-01, -1.3103e-01,\n",
              "                       -1.1735e-01, -4.8441e-02,  6.1313e-02,  1.2291e-01, -2.8622e-02,\n",
              "                        5.5716e-02,  6.0648e-02,  4.2407e-02, -1.1012e-01,  5.8112e-02,\n",
              "                        1.2311e-01,  8.8595e-04,  8.1334e-02,  1.4639e-01,  1.1323e-01,\n",
              "                        1.8758e-02,  1.5800e-01, -4.2999e-02, -1.4566e-01,  1.2490e-01,\n",
              "                        2.2366e-03, -4.3156e-02],\n",
              "                      [ 1.7237e-01,  1.1716e-02, -1.5020e-01, -1.2789e-01,  9.2877e-02,\n",
              "                        1.0952e-01, -5.8609e-02, -5.7658e-02, -1.1338e-01,  4.8081e-02,\n",
              "                        7.2876e-02, -1.3470e-01, -4.1121e-02, -6.7535e-02,  1.6649e-01,\n",
              "                       -3.2447e-02,  2.8265e-02,  1.0717e-01,  8.9898e-03, -1.4400e-01,\n",
              "                       -2.7709e-03,  1.3750e-01, -9.1592e-02, -1.7627e-01, -1.2375e-01,\n",
              "                        1.4361e-01, -1.7198e-02,  1.4950e-01, -1.4288e-01,  4.7251e-02,\n",
              "                        1.6311e-01, -9.1776e-02],\n",
              "                      [-5.1272e-02, -8.8423e-02, -1.4834e-01,  4.9422e-03, -4.0908e-02,\n",
              "                        8.2893e-02,  6.5060e-02,  1.8974e-02, -2.9524e-02,  2.5295e-02,\n",
              "                       -1.1370e-01, -5.9889e-04,  2.8549e-02, -1.3118e-01, -9.5656e-02,\n",
              "                        1.0208e-01, -4.8133e-03, -1.6218e-01, -1.0027e-01,  1.7504e-01,\n",
              "                       -1.7431e-01,  5.9171e-02,  3.6149e-02, -3.8173e-02, -1.4325e-01,\n",
              "                        1.7126e-01, -3.1316e-02, -1.1065e-01, -7.8860e-02,  2.7439e-02,\n",
              "                        1.1402e-01, -8.8547e-02],\n",
              "                      [-1.7516e-01, -7.9225e-02,  8.5640e-02,  6.3574e-02, -1.7324e-01,\n",
              "                        1.2782e-01, -5.0756e-02, -1.5623e-01,  1.3888e-01,  7.7378e-02,\n",
              "                        5.0617e-02, -1.4928e-01,  1.0971e-01, -6.3778e-02, -6.5275e-02,\n",
              "                       -4.5743e-02, -2.1156e-02,  1.6986e-02,  1.6413e-02, -1.3095e-01,\n",
              "                        6.7743e-03,  1.1721e-01,  6.5299e-02,  3.8754e-05,  1.2854e-02,\n",
              "                       -2.2771e-02, -4.5519e-02, -1.6276e-01, -1.2164e-01,  4.8863e-02,\n",
              "                        6.0515e-02, -5.9929e-02],\n",
              "                      [ 1.6817e-01,  6.6976e-02, -1.2523e-01, -1.4813e-01,  1.1199e-01,\n",
              "                       -1.5437e-01, -3.6879e-03,  1.4598e-01, -1.4509e-01,  1.3018e-01,\n",
              "                        1.5215e-01, -8.5616e-02, -1.1180e-01,  1.6847e-01, -1.4777e-01,\n",
              "                       -1.3042e-01,  7.9105e-02, -7.8589e-02,  1.1838e-01, -1.2567e-01,\n",
              "                        4.9710e-03,  6.7435e-02, -8.2057e-03, -8.9591e-02,  6.9573e-02,\n",
              "                        2.9508e-02,  6.6887e-02, -4.9194e-02,  9.1613e-02, -1.6537e-01,\n",
              "                       -3.9522e-03,  1.2204e-01],\n",
              "                      [-1.6196e-01,  1.0629e-01, -9.1895e-02,  1.0052e-01,  6.1157e-02,\n",
              "                        6.3738e-02, -1.1121e-01, -1.1888e-01, -7.2971e-02,  1.2911e-02,\n",
              "                        1.3090e-01, -7.2180e-02,  1.2446e-01, -1.2419e-01, -3.6200e-02,\n",
              "                        1.7432e-01,  8.0568e-03,  2.0525e-02, -1.6035e-01, -1.5947e-01,\n",
              "                       -1.0763e-01, -4.6314e-02,  1.5739e-01,  7.4325e-02, -9.8628e-02,\n",
              "                       -9.6105e-02,  5.9837e-02,  1.4471e-01,  1.4066e-01, -4.4355e-02,\n",
              "                        5.8233e-02, -2.8009e-02],\n",
              "                      [-6.9495e-02, -7.1273e-02,  1.1312e-01,  1.1803e-01,  1.4918e-01,\n",
              "                        1.5043e-02, -1.5948e-01, -4.2808e-02,  9.3297e-02,  7.1500e-02,\n",
              "                       -2.3195e-02,  6.8355e-02,  1.1315e-01,  1.4177e-01,  2.1807e-02,\n",
              "                        1.0823e-02,  1.2676e-01,  8.3698e-02,  7.8150e-02,  1.5693e-01,\n",
              "                       -7.2242e-02,  1.4971e-01, -1.0640e-01,  3.9629e-02,  1.0111e-02,\n",
              "                        3.7638e-02,  8.1912e-02, -1.3488e-01, -5.3502e-02,  1.6630e-01,\n",
              "                        2.9732e-02, -1.1468e-01],\n",
              "                      [-9.5924e-02, -1.0583e-01,  6.8542e-02,  1.3748e-01, -1.4711e-01,\n",
              "                        1.6451e-01, -1.4170e-01,  1.1286e-01,  1.6764e-01,  3.6660e-02,\n",
              "                        1.4608e-01,  3.0665e-02,  6.3940e-02,  2.3756e-02, -9.7449e-02,\n",
              "                        1.4538e-01, -8.7815e-03, -2.3531e-02,  1.4801e-01, -2.0621e-02,\n",
              "                       -1.0079e-01,  6.8931e-02, -1.7424e-01, -1.3133e-01, -4.5906e-02,\n",
              "                        8.4047e-02, -6.2594e-02,  8.2136e-02,  1.7240e-01, -1.6138e-01,\n",
              "                       -1.1597e-01, -1.6995e-01],\n",
              "                      [ 2.4728e-02,  1.7461e-01,  1.5128e-01,  9.5533e-02, -9.1485e-02,\n",
              "                        1.0074e-01, -1.1897e-01,  4.7749e-02, -5.1573e-02,  9.0382e-03,\n",
              "                       -7.2391e-02,  7.3753e-02,  1.5070e-01, -3.8832e-02, -9.7691e-02,\n",
              "                        1.3220e-02, -4.3447e-02, -1.7045e-01, -7.5248e-02,  1.3980e-01,\n",
              "                       -1.3489e-02,  1.3228e-01,  5.6969e-02, -1.7467e-02,  1.6444e-01,\n",
              "                       -9.9743e-02,  6.9784e-02, -6.8974e-02, -1.6557e-01,  1.4633e-01,\n",
              "                        1.4822e-01,  1.6511e-01],\n",
              "                      [-8.6939e-03, -6.6079e-02,  4.6826e-02,  6.4407e-02, -7.5667e-02,\n",
              "                       -9.6392e-02, -6.1518e-02, -6.8398e-02, -1.4927e-01,  4.6553e-02,\n",
              "                        5.5644e-02, -1.7378e-01, -1.1082e-01, -3.6378e-02,  1.7198e-01,\n",
              "                        1.1999e-01,  8.8135e-03, -8.5360e-02,  8.3442e-02,  6.9423e-02,\n",
              "                       -1.0366e-01,  8.0160e-02, -1.4348e-01,  1.3504e-01,  4.1780e-02,\n",
              "                        1.6054e-01,  2.3592e-02,  1.2807e-01,  1.3867e-01,  1.6977e-02,\n",
              "                       -1.5492e-01, -1.5893e-01]], device='cuda:0')),\n",
              "             ('fc_layers.6.bias',\n",
              "              tensor([-0.0834, -0.1269,  0.0772, -0.1667, -0.0983,  0.0070, -0.1744,  0.0627,\n",
              "                       0.0664,  0.1659, -0.1637], device='cuda:0'))])"
            ]
          },
          "metadata": {},
          "execution_count": 9
        }
      ]
    },
    {
      "cell_type": "code",
      "execution_count": 10,
      "metadata": {
        "id": "3w9QW9Lfp1aV",
        "colab": {
          "base_uri": "https://localhost:8080/"
        },
        "outputId": "bad1549a-6965-4c51-f3b9-75a2eac652d5"
      },
      "outputs": [
        {
          "output_type": "execute_result",
          "data": {
            "text/plain": [
              "LSTM_Model_label(\n",
              "  (lstm): LSTM(41, 64, num_layers=2, batch_first=True, dropout=0.5, bidirectional=True)\n",
              "  (fc_layers): Sequential(\n",
              "    (0): Linear(in_features=128, out_features=128, bias=True)\n",
              "    (1): Tanh()\n",
              "    (2): Linear(in_features=128, out_features=64, bias=True)\n",
              "    (3): ReLU()\n",
              "    (4): Linear(in_features=64, out_features=32, bias=True)\n",
              "    (5): Sigmoid()\n",
              "    (6): Linear(in_features=32, out_features=2, bias=True)\n",
              "  )\n",
              ")"
            ]
          },
          "metadata": {},
          "execution_count": 10
        }
      ],
      "source": [
        "my_model_label = LSTM_Model_label(num_classes_label, input_size, hidden_size, num_layers).to(device=device)\n",
        "my_model_label"
      ]
    },
    {
      "cell_type": "markdown",
      "metadata": {
        "id": "Cey1CId-jjis"
      },
      "source": [
        "# **optimizer and loss function**"
      ]
    },
    {
      "cell_type": "code",
      "execution_count": 11,
      "metadata": {
        "id": "WNuQFMAekNDH"
      },
      "outputs": [],
      "source": [
        "loss_fn1 = nn.CrossEntropyLoss().to(device=device)\n",
        "loss_fn2 = nn.CrossEntropyLoss().to(device=device)\n",
        "optimizer1 = opt.Adam(params=my_model_attack.parameters(),lr=learning_rate)\n",
        "optimizer2 = opt.Adam(params=my_model_label.parameters(),lr=learning_rate)"
      ]
    },
    {
      "cell_type": "code",
      "source": [
        "from sklearn.metrics import classification_report, confusion_matrix\n",
        "import itertools\n",
        "def plot_confusion_matrix(cm, classes,\n",
        "                          normalize=False,\n",
        "                          title='Confusion matrix',\n",
        "                          cmap=plt.cm.Greens):\n",
        "    \"\"\"\n",
        "    This function prints and plots the confusion matrix.\n",
        "    Normalization can be applied by setting `normalize=True`.\n",
        "    \"\"\"\n",
        "    if normalize:\n",
        "        cm = cm.astype('float') / cm.sum(axis=1)[:, np.newaxis]\n",
        "        print(\"Normalized confusion matrix\")\n",
        "    else:\n",
        "        print('Confusion matrix, without normalization')\n",
        "\n",
        "    print(cm)\n",
        "\n",
        "    plt.imshow(cm, interpolation='nearest', cmap=cmap)\n",
        "    plt.title(title)\n",
        "    plt.colorbar()\n",
        "    tick_marks = np.arange(len(classes))\n",
        "    plt.xticks(tick_marks, classes, rotation=45)\n",
        "    plt.yticks(tick_marks, classes)\n",
        "\n",
        "    fmt = '.2f' if normalize else 'd'\n",
        "    thresh = cm.max() / 2.\n",
        "    for i, j in itertools.product(range(cm.shape[0]), range(cm.shape[1])):\n",
        "        plt.text(j, i, format(cm[i, j], fmt),\n",
        "                 horizontalalignment=\"center\",\n",
        "                 color=\"white\" if cm[i, j] > thresh else \"black\")\n",
        "\n",
        "    plt.tight_layout()\n",
        "    plt.ylabel('True label')\n",
        "    plt.xlabel('Predicted label')\n"
      ],
      "metadata": {
        "id": "KarvZRUVOMlb"
      },
      "execution_count": 12,
      "outputs": []
    },
    {
      "cell_type": "markdown",
      "metadata": {
        "id": "4JYcovfYlpHM"
      },
      "source": [
        "# **train attack cat**"
      ]
    },
    {
      "cell_type": "code",
      "execution_count": 13,
      "metadata": {
        "id": "Qmw8w1eTkeBu",
        "colab": {
          "base_uri": "https://localhost:8080/",
          "height": 490
        },
        "outputId": "fed41a69-05c8-42af-d135-5a8d7214015e"
      },
      "outputs": [
        {
          "output_type": "stream",
          "name": "stdout",
          "text": [
            "Epoch: 0, loss: 1.0650\n",
            "Epoch: 50, loss: 0.4413\n",
            "Epoch: 100, loss: 0.4014\n",
            "Epoch: 150, loss: 0.4065\n",
            "Epoch: 200, loss: 0.3677\n",
            "Epoch: 250, loss: 0.3845\n",
            "Epoch: 300, loss: 0.3844\n",
            "Epoch: 350, loss: 0.3663\n",
            "Epoch: 400, loss: 0.3411\n",
            "Epoch: 450, loss: 0.3954\n",
            "Epoch: 500, loss: 0.3555\n",
            "Execution Time : 1226791.5000\n"
          ]
        },
        {
          "output_type": "display_data",
          "data": {
            "text/plain": [
              "<Figure size 432x288 with 1 Axes>"
            ],
            "image/png": "[encoded data removed]"
          },
          "metadata": {
            "needs_background": "light"
          }
        }
      ],
      "source": [
        "start = torch.cuda.Event(enable_timing=True)\n",
        "end = torch.cuda.Event(enable_timing=True)\n",
        "\n",
        "start.record()\n",
        "\n",
        "loss_plot = list()\n",
        "\n",
        "for epoch in range(num_epoch+1):\n",
        "\n",
        "    for batch_x, batch_y in train_attack_cat_dataloader:\n",
        "\n",
        "        batch_x = torch.reshape(batch_x, (batch_x.shape[0], 1, batch_x.shape[1])) #RuntimeError: For unbatched 2-D input, hx and cx should also be 2-D but got (3-D, 3-D) tensors\n",
        "        \n",
        "        batch_x = batch_x.to(device)\n",
        "        batch_y = batch_y.to(device)\n",
        "\n",
        "        optimizer1.zero_grad()\n",
        "        loss1 = loss_fn1(my_model_attack(batch_x) , batch_y)\n",
        "        loss1.backward() \n",
        "        optimizer1.step()\n",
        "\n",
        "    if epoch % 50 == 0:\n",
        "         print(\"Epoch: %d, loss: %.4f\" % (epoch, loss1.item())) \n",
        "         loss_plot.append(loss1.item())         \n",
        "\n",
        "end.record()\n",
        "\n",
        "# Waits for everything to finish running\n",
        "torch.cuda.synchronize()\n",
        "\n",
        "print(\"Execution Time : %.4f\" % (start.elapsed_time(end)))\n",
        "\n",
        "plt.plot(range(len(loss_plot)),np.asarray(loss_plot))\n",
        "plt.show()"
      ]
    },
    {
      "cell_type": "markdown",
      "metadata": {
        "id": "PQaRCMJPls5N"
      },
      "source": [
        "# **test attack cat**"
      ]
    },
    {
      "cell_type": "code",
      "execution_count": 14,
      "metadata": {
        "id": "QrtYzVT4loMQ",
        "colab": {
          "base_uri": "https://localhost:8080/"
        },
        "outputId": "00316ff0-3113-4569-d87f-85bf4c6f91ff"
      },
      "outputs": [
        {
          "output_type": "stream",
          "name": "stdout",
          "text": [
            "acc : 83.87%\n"
          ]
        }
      ],
      "source": [
        "correct = 0\n",
        "y_test, yhat = list(), list()\n",
        "\n",
        "for batch_x, labl in test_attack_cat_dataloader:\n",
        "  \n",
        "    batch_x = torch.reshape(batch_x, (batch_x.shape[0], 1, batch_x.shape[1])) #RuntimeError: For unbatched 2-D input, hx and cx should also be 2-D but got (3-D, 3-D) tensors\n",
        "  \n",
        "    batch_x = batch_x.to(device)\n",
        "    labl = labl.to(device)\n",
        "\n",
        "    out = my_model_attack(batch_x)\n",
        "    _,predicted = torch.max(out,1)\n",
        "    correct += torch.sum(predicted == labl)\n",
        "    \n",
        "    for i in labl.cpu().detach().numpy():\n",
        "        y_test.append(i)\n",
        "    for i in predicted.cpu().detach().numpy():\n",
        "        yhat.append(i)\n",
        "\n",
        "print(\"acc : %.2f\" % (100.*correct / len(test_attack_cat)),end=\"\")\n",
        "print(\"%\")"
      ]
    },
    {
      "cell_type": "code",
      "source": [
        "# Compute confusion matrix\n",
        "cnf_matrix = confusion_matrix(y_test, yhat, labels=[10,9,8,7,6,5,4,3,2,1,0])\n",
        "np.set_printoptions(precision=2)\n",
        "\n",
        "\n",
        "# Plot non-normalized confusion matrix\n",
        "plt.figure(figsize=(20,10))\n",
        "plot_confusion_matrix(cnf_matrix, classes=['Fake','Worms','Shellcode','Reconnaissance','Normal','Generic','Fuzzers','Exploits','DoS','Backdoor','Analysis'],normalize= False,  title='Confusion matrix')"
      ],
      "metadata": {
        "id": "wMopc3OSIo8T",
        "colab": {
          "base_uri": "https://localhost:8080/",
          "height": 964
        },
        "outputId": "5091a416-2707-4a19-82fa-e4ef13cf4a9f"
      },
      "execution_count": 15,
      "outputs": [
        {
          "output_type": "stream",
          "name": "stdout",
          "text": [
            "Confusion matrix, without normalization\n",
            "[[ 7584     0     0     0     0     0     0     0     0     0     0]\n",
            " [    0     7     0     1     0     0     3    41     0     0     0]\n",
            " [    0     0   226    28    37    13    32   100    17     0     0]\n",
            " [    0     0     8  3293    33     3    14   822   113     3     0]\n",
            " [    0     1    35    33 25859     6  1462   251    16     0    12]\n",
            " [    0     1    13     3    17 17348    14   241    35     2     0]\n",
            " [    0     1    30    29  2225    12  4247   687    88     2     2]\n",
            " [    0     2    40   281   251    65   333 11716   683    12     0]\n",
            " [    0     0    44    36    59    28   120  3856   753    16     1]\n",
            " [    0     0     5     3     2     3   104   441    75    56     0]\n",
            " [    0     0     0     0   117     0    98   449    66     0    36]]\n"
          ]
        },
        {
          "output_type": "display_data",
          "data": {
            "text/plain": [
              "<Figure size 1440x720 with 2 Axes>"
            ],
            "image/png": "[encoded data removed]"
          },
          "metadata": {
            "needs_background": "light"
          }
        }
      ]
    },
    {
      "cell_type": "code",
      "source": [
        "print (classification_report(y_test, yhat))"
      ],
      "metadata": {
        "id": "n0Q0BWzQIuCA",
        "colab": {
          "base_uri": "https://localhost:8080/"
        },
        "outputId": "cc24615e-fb04-49cc-d56f-78e685a2a8e2"
      },
      "execution_count": 16,
      "outputs": [
        {
          "output_type": "stream",
          "name": "stdout",
          "text": [
            "              precision    recall  f1-score   support\n",
            "\n",
            "           0       0.71      0.05      0.09       766\n",
            "           1       0.62      0.08      0.14       689\n",
            "           2       0.41      0.15      0.22      4913\n",
            "           3       0.63      0.88      0.73     13383\n",
            "           4       0.66      0.58      0.62      7323\n",
            "           5       0.99      0.98      0.99     17674\n",
            "           6       0.90      0.93      0.92     27675\n",
            "           7       0.89      0.77      0.82      4289\n",
            "           8       0.56      0.50      0.53       453\n",
            "           9       0.58      0.13      0.22        52\n",
            "          10       1.00      1.00      1.00      7584\n",
            "\n",
            "    accuracy                           0.84     84801\n",
            "   macro avg       0.72      0.55      0.57     84801\n",
            "weighted avg       0.83      0.84      0.82     84801\n",
            "\n"
          ]
        }
      ]
    },
    {
      "cell_type": "markdown",
      "metadata": {
        "id": "pLqOLtA6tQht"
      },
      "source": [
        "# **train label**"
      ]
    },
    {
      "cell_type": "code",
      "execution_count": 17,
      "metadata": {
        "id": "Xm1cu1GhtMJO",
        "colab": {
          "base_uri": "https://localhost:8080/",
          "height": 486
        },
        "outputId": "b5381c67-e675-46fa-ef6a-330acec751f5"
      },
      "outputs": [
        {
          "output_type": "stream",
          "name": "stdout",
          "text": [
            "Epoch: 0, loss: 0.1866\n",
            "Epoch: 50, loss: 0.1168\n",
            "Epoch: 100, loss: 0.1265\n",
            "Epoch: 150, loss: 0.1051\n",
            "Epoch: 200, loss: 0.1117\n",
            "Epoch: 250, loss: 0.1006\n",
            "Epoch: 300, loss: 0.1017\n",
            "Epoch: 350, loss: 0.0965\n",
            "Epoch: 400, loss: 0.1013\n",
            "Epoch: 450, loss: 0.0917\n",
            "Epoch: 500, loss: 0.0970\n",
            "Execution Time : 1246376.8750\n"
          ]
        },
        {
          "output_type": "display_data",
          "data": {
            "text/plain": [
              "<Figure size 432x288 with 1 Axes>"
            ],
            "image/png": "[encoded data removed]"
          },
          "metadata": {
            "needs_background": "light"
          }
        }
      ],
      "source": [
        "start = torch.cuda.Event(enable_timing=True)\n",
        "end = torch.cuda.Event(enable_timing=True)\n",
        "\n",
        "start.record()\n",
        "\n",
        "loss_plot = list()\n",
        "\n",
        "for epoch in range(num_epoch+1):\n",
        "\n",
        "    for batch_x, batch_y in train_label_dataloader:\n",
        "\n",
        "        batch_x = torch.reshape(batch_x, (batch_x.shape[0], 1, batch_x.shape[1])) #RuntimeError: For unbatched 2-D input, hx and cx should also be 2-D but got (3-D, 3-D) tensors\n",
        "        \n",
        "        batch_x = batch_x.to(device)\n",
        "        batch_y = batch_y.to(device)\n",
        "\n",
        "        optimizer2.zero_grad()\n",
        "        loss2 = loss_fn2(my_model_label(batch_x) , batch_y)\n",
        "        loss2.backward() \n",
        "        optimizer2.step()\n",
        "\n",
        "    if epoch % 50 == 0:\n",
        "         print(\"Epoch: %d, loss: %.4f\" % (epoch, loss2.item())) \n",
        "         loss_plot.append(loss2.item())         \n",
        "\n",
        "end.record()\n",
        "\n",
        "# Waits for everything to finish running\n",
        "torch.cuda.synchronize()\n",
        "\n",
        "print(\"Execution Time : %.4f\" % (start.elapsed_time(end)))\n",
        "\n",
        "plt.plot(range(len(loss_plot)),np.asarray(loss_plot))\n",
        "plt.show()"
      ]
    },
    {
      "cell_type": "markdown",
      "metadata": {
        "id": "Ig7VBqU0tfZd"
      },
      "source": [
        "# **test label**"
      ]
    },
    {
      "cell_type": "code",
      "execution_count": 18,
      "metadata": {
        "id": "a7u2bQ0WtiG2",
        "colab": {
          "base_uri": "https://localhost:8080/"
        },
        "outputId": "cd896a8f-72a5-45a4-8707-99b77251a285"
      },
      "outputs": [
        {
          "output_type": "stream",
          "name": "stdout",
          "text": [
            "acc : 94.46%\n"
          ]
        }
      ],
      "source": [
        "correct = 0\n",
        "y_test, yhat = list(), list()\n",
        "\n",
        "for batch_x, labl in test_label_dataloader:\n",
        "\n",
        "    batch_x = torch.reshape(batch_x, (batch_x.shape[0], 1, batch_x.shape[1])) #RuntimeError: For unbatched 2-D input, hx and cx should also be 2-D but got (3-D, 3-D) tensors\n",
        "\n",
        "    batch_x = batch_x.to(device)\n",
        "    labl = labl.to(device)\n",
        "  \n",
        "    out = my_model_label(batch_x)\n",
        "    _,predicted = torch.max(out,1)\n",
        "    correct += torch.sum(predicted == labl)\n",
        "\n",
        "    for i in labl.cpu().detach().numpy():\n",
        "        y_test.append(i)\n",
        "    for i in predicted.cpu().detach().numpy():\n",
        "        yhat.append(i) \n",
        "        \n",
        "print(\"acc : %.2f\" % (100.*correct / len(test_label)),end=\"\")\n",
        "print(\"%\")"
      ]
    },
    {
      "cell_type": "code",
      "source": [
        "# Compute confusion matrix\n",
        "cnf_matrix = confusion_matrix(y_test, yhat, labels=[1,0])\n",
        "np.set_printoptions(precision=2)\n",
        "\n",
        "# Plot non-normalized confusion matrix\n",
        "plt.figure()\n",
        "plot_confusion_matrix(cnf_matrix, classes=['attack=1','attack=0'],normalize= False,  title='Confusion matrix')"
      ],
      "metadata": {
        "id": "U7pONQOXI2ck",
        "colab": {
          "base_uri": "https://localhost:8080/",
          "height": 366
        },
        "outputId": "6562d9cc-356d-40ac-b9c9-41f449723487"
      },
      "execution_count": 19,
      "outputs": [
        {
          "output_type": "stream",
          "name": "stdout",
          "text": [
            "Confusion matrix, without normalization\n",
            "[[54181  2659]\n",
            " [ 2039 25922]]\n"
          ]
        },
        {
          "output_type": "display_data",
          "data": {
            "text/plain": [
              "<Figure size 432x288 with 2 Axes>"
            ],
            "image/png": "[encoded data removed]"
          },
          "metadata": {
            "needs_background": "light"
          }
        }
      ]
    },
    {
      "cell_type": "code",
      "source": [
        "print (classification_report(y_test, yhat))"
      ],
      "metadata": {
        "id": "YQVszS1pI3xi",
        "colab": {
          "base_uri": "https://localhost:8080/"
        },
        "outputId": "76d8b712-bbbb-4c3a-ce31-e56dc10ec6de"
      },
      "execution_count": 20,
      "outputs": [
        {
          "output_type": "stream",
          "name": "stdout",
          "text": [
            "              precision    recall  f1-score   support\n",
            "\n",
            "           0       0.91      0.93      0.92     27961\n",
            "           1       0.96      0.95      0.96     56840\n",
            "\n",
            "    accuracy                           0.94     84801\n",
            "   macro avg       0.94      0.94      0.94     84801\n",
            "weighted avg       0.95      0.94      0.94     84801\n",
            "\n"
          ]
        }
      ]
    }
  ],
  "metadata": {
    "accelerator": "GPU",
    "colab": {
      "collapsed_sections": [],
      "provenance": []
    },
    "gpuClass": "standard",
    "kernelspec": {
      "display_name": "Python 3",
      "name": "python3"
    },
    "language_info": {
      "name": "python"
    }
  },
  "nbformat": 4,
  "nbformat_minor": 0
}