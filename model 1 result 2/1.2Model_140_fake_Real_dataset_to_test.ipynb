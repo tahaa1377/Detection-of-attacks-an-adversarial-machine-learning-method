{
  "cells": [
    {
      "cell_type": "code",
      "execution_count": 1,
      "metadata": {
        "id": "Ff1b4PxtBQuc"
      },
      "outputs": [],
      "source": [
        "num_epoch = 500      \n",
        "learning_rate = 0.002\n",
        "batch_size = 2000\n",
        "\n",
        "hidden_size = 64 #number of features in hidden state\n",
        "num_layers = 2  #number of stacked lstm layers\n",
        "bidirectional = True\n",
        "drop_out = 0.5\n",
        "bidirectional_forward_backward = 2 if bidirectional else 1\n",
        "\n",
        "input_size = 41 #number of features\n",
        "num_classes_attack_cat = 10 #number of output classes \n",
        "num_classes_label = 2       #number of output classes \n",
        "\n",
        "hyper_parameter1=128\n",
        "hyper_parameter2=64\n",
        "hyper_parameter3=32"
      ]
    },
    {
      "cell_type": "code",
      "source": [
        "from google.colab import drive\n",
        "drive.mount('/content/drive')"
      ],
      "metadata": {
        "colab": {
          "base_uri": "https://localhost:8080/"
        },
        "id": "0Gua0hky6SDJ",
        "outputId": "833a1cbd-e9a1-4cef-9dbb-397ccbc006ad"
      },
      "execution_count": 2,
      "outputs": [
        {
          "output_type": "stream",
          "name": "stdout",
          "text": [
            "Mounted at /content/drive\n"
          ]
        }
      ]
    },
    {
      "cell_type": "code",
      "execution_count": 3,
      "metadata": {
        "colab": {
          "base_uri": "https://localhost:8080/"
        },
        "id": "hZiaj4uT24DH",
        "outputId": "8da8829a-7fcb-44ba-873d-0a9d0063f05f"
      },
      "outputs": [
        {
          "output_type": "stream",
          "name": "stdout",
          "text": [
            "GPU\n"
          ]
        }
      ],
      "source": [
        "import pandas as pd\n",
        "from matplotlib import pyplot as plt\n",
        "import numpy as np\n",
        "from torch.utils.data.dataset import Dataset\n",
        "from torch.utils.data import random_split, DataLoader\n",
        "import torch\n",
        "from sklearn.preprocessing import LabelEncoder\n",
        "from sklearn import preprocessing\n",
        "import torch.nn as nn\n",
        "import torch.nn.functional as F\n",
        "import torch.optim as opt\n",
        "from torch.autograd import Variable \n",
        "\n",
        "# GPU OR CPU\n",
        "if torch.cuda.is_available():\n",
        "    device = torch.device(\"cuda:0\")\n",
        "    print(\"GPU\")\n",
        "else:\n",
        "    device = torch.device(\"cpu\")\n",
        "    print(\"CPU\")"
      ]
    },
    {
      "cell_type": "code",
      "execution_count": 62,
      "metadata": {
        "id": "Sv-R_m6Z1EL5"
      },
      "outputs": [],
      "source": [
        "class Fake_Real_DataSet_UNSWNB15_attack_cat(Dataset):\n",
        "\n",
        "    def __init__(self,data_set_path1,data_set_path2):\n",
        "        df1 = pd.read_csv(data_set_path1)\n",
        "\n",
        "        # preprocceing\n",
        "        df1.drop([\"label\"], axis=1, inplace=True)\n",
        "\n",
        "        #----------------------\n",
        "        df2 = pd.read_csv(data_set_path2)\n",
        "        \n",
        "        # preprocceing\n",
        "        df2.drop(['id',\"Unnamed: 0\",\"service\",\"label\"], axis=1, inplace=True)        \n",
        "        cols = ['attack_cat' ,'proto' ,'state']\n",
        "        df2[cols] = df2[cols].apply(LabelEncoder().fit_transform)\n",
        "\n",
        "        df_all_rows = pd.concat([df1, df2])\n",
        "\n",
        "        self.data_array = df_all_rows.values\n",
        "        self.x = self.data_array[:, :41]\n",
        "        self.y = self.data_array[:, 41]\n",
        "      \n",
        "        # normalaized data\n",
        "        scaler = preprocessing.StandardScaler().fit(self.x)\n",
        "        self.x = scaler.transform(self.x)\n",
        "\n",
        "        self.x = torch.tensor(self.x).float()\n",
        "        self.y = torch.tensor(self.y).long()\n",
        "\n",
        "    def __len__(self):\n",
        "        return len(self.data_array)\n",
        "\n",
        "    def __getitem__(self, item):\n",
        "        sample = (self.x[item, :], self.y[item])\n",
        "        return sample\n",
        "\n",
        "class Fake_Real_DataSet_UNSWNB15_label(Dataset):\n",
        "\n",
        "    def __init__(self,data_set_path1,data_set_path2):\n",
        "        df1 = pd.read_csv(data_set_path1)\n",
        "\n",
        "        # preprocceing\n",
        "        df1.drop([\"attack_cat\"], axis=1, inplace=True)\n",
        "\n",
        "        #----------------------\n",
        "        df2 = pd.read_csv(data_set_path2)\n",
        "        \n",
        "        # preprocceing\n",
        "        df2.drop(['id',\"Unnamed: 0\",\"service\",\"attack_cat\"], axis=1, inplace=True)        \n",
        "        cols = ['proto' ,'state']\n",
        "        df2[cols] = df2[cols].apply(LabelEncoder().fit_transform)\n",
        "\n",
        "        df_all_rows = pd.concat([df1, df2])\n",
        "\n",
        "        self.data_array = df_all_rows.values\n",
        "        self.x = self.data_array[:, :41]\n",
        "        self.y = self.data_array[:, 41]\n",
        "      \n",
        "        # normalaized data\n",
        "        scaler = preprocessing.StandardScaler().fit(self.x)\n",
        "        self.x = scaler.transform(self.x)\n",
        "\n",
        "        self.x = torch.tensor(self.x).float()\n",
        "        self.y = torch.tensor(self.y).long()\n",
        "\n",
        "    def __len__(self):\n",
        "        return len(self.data_array)\n",
        "\n",
        "    def __getitem__(self, item):\n",
        "        sample = (self.x[item, :], self.y[item])\n",
        "        return sample\n",
        "\n",
        "class DataSet_UNSWNB15_attack_cat(Dataset):\n",
        "\n",
        "    def __init__(self,data_set_path):\n",
        "        df = pd.read_csv(data_set_path)\n",
        "        print(df.attack_cat.value_counts().sort_values().plot(kind = \"barh\"))\n",
        "        print(df['attack_cat'].value_counts())\n",
        "        # preprocceing\n",
        "        df.drop(['id',\"Unnamed: 0\",\"service\",\"label\"], axis=1, inplace=True)        \n",
        "        cols = ['attack_cat' ,'proto' ,'state']\n",
        "        df[cols] = df[cols].apply(LabelEncoder().fit_transform)\n",
        "        print(df['attack_cat'].value_counts())\n",
        "\n",
        "        self.data_array = df.values\n",
        "        self.x = self.data_array[:, :41]\n",
        "        self.y = self.data_array[:, 41]\n",
        "      \n",
        "        # normalaized data\n",
        "        scaler = preprocessing.StandardScaler().fit(self.x)\n",
        "        self.x = scaler.transform(self.x)\n",
        "\n",
        "        self.x = torch.tensor(self.x).float()\n",
        "        self.y = torch.tensor(self.y).long()\n",
        "\n",
        "    def __len__(self):\n",
        "        return len(self.data_array)\n",
        "\n",
        "    def __getitem__(self, item):\n",
        "        sample = (self.x[item, :], self.y[item])\n",
        "        return sample\n",
        "\n",
        "        \n",
        "class DataSet_UNSWNB15_label(Dataset):\n",
        "\n",
        "    def __init__(self,data_set_path):\n",
        "        df = pd.read_csv(data_set_path)\n",
        "        print(df.label.value_counts().sort_values().plot(kind = \"pie\"))\n",
        "\n",
        "        # preprocceing\n",
        "        df.drop(['id',\"Unnamed: 0\",\"service\",\"attack_cat\"], axis=1, inplace=True)\n",
        "        cols = ['proto' ,'state']\n",
        "        df[cols] = df[cols].apply(LabelEncoder().fit_transform)\n",
        "\n",
        "        self.data_array = df.values\n",
        "        self.x = self.data_array[:, :41]\n",
        "        self.y = self.data_array[:, 41]\n",
        "        \n",
        "        # normalaized data\n",
        "        scaler = preprocessing.StandardScaler().fit(self.x)\n",
        "        self.x = scaler.transform(self.x)\n",
        "\n",
        "        self.x = torch.tensor(self.x).float()\n",
        "        self.y = torch.tensor(self.y).long()\n",
        "\n",
        "    def __len__(self):\n",
        "        return len(self.data_array)\n",
        "\n",
        "    def __getitem__(self, item):\n",
        "        sample = (self.x[item, :], self.y[item])\n",
        "        return sample"
      ]
    },
    {
      "cell_type": "code",
      "execution_count": 63,
      "metadata": {
        "colab": {
          "base_uri": "https://localhost:8080/",
          "height": 689
        },
        "id": "UykLrbQZ1R7K",
        "outputId": "41ab55e6-d601-4d5f-c988-770e38a9f728"
      },
      "outputs": [
        {
          "output_type": "stream",
          "name": "stdout",
          "text": [
            "AxesSubplot(0.125,0.125;0.775x0.755)\n",
            "Normal            93000\n",
            "Generic           58871\n",
            "Exploits          44525\n",
            "Fuzzers           24246\n",
            "DoS               16353\n",
            "Reconnaissance    13987\n",
            "Analysis           2677\n",
            "Backdoor           2329\n",
            "Shellcode          1511\n",
            "Worms               174\n",
            "Name: attack_cat, dtype: int64\n",
            "6    93000\n",
            "5    58871\n",
            "3    44525\n",
            "4    24246\n",
            "2    16353\n",
            "7    13987\n",
            "0     2677\n",
            "1     2329\n",
            "8     1511\n",
            "9      174\n",
            "Name: attack_cat, dtype: int64\n"
          ]
        },
        {
          "output_type": "display_data",
          "data": {
            "text/plain": [
              "<Figure size 432x288 with 1 Axes>"
            ],
            "image/png": "[encoded data removed]"
          },
          "metadata": {
            "needs_background": "light"
          }
        }
      ],
      "source": [
        "dataset_attack_cat = DataSet_UNSWNB15_attack_cat(\"/content/drive/MyDrive/datasets/UNSW-NB15/UNSW_NB15.csv\")\n",
        "number_of_test = int(len(dataset_attack_cat)*0.3)\n",
        "number_of_train = len(dataset_attack_cat) - int(len(dataset_attack_cat)*0.3)\n",
        "train_attack_cat ,test_attack_cat = random_split(dataset=dataset_attack_cat, lengths=[number_of_train,number_of_test])\n",
        "\n",
        "train_attack_cat_dataloader = DataLoader(dataset=train_attack_cat ,batch_size=batch_size ,shuffle=True)\n",
        "test_attack_cat_dataloader = DataLoader(dataset=test_attack_cat ,batch_size=batch_size ,shuffle=True)"
      ]
    },
    {
      "cell_type": "code",
      "execution_count": 6,
      "metadata": {
        "colab": {
          "base_uri": "https://localhost:8080/",
          "height": 266
        },
        "id": "LmFY9Q-u29T3",
        "outputId": "041d6fca-f3b8-457b-8838-974e7949fefb"
      },
      "outputs": [
        {
          "output_type": "stream",
          "name": "stdout",
          "text": [
            "AxesSubplot(0.260833,0.125;0.503333x0.755)\n"
          ]
        },
        {
          "output_type": "display_data",
          "data": {
            "text/plain": [
              "<Figure size 432x288 with 1 Axes>"
            ],
            "image/png": "[encoded data removed]"
          },
          "metadata": {}
        }
      ],
      "source": [
        "dataset_label = DataSet_UNSWNB15_label(\"/content/drive/MyDrive/datasets/UNSW-NB15/UNSW_NB15.csv\")\n",
        "number_of_test = int(len(dataset_label)*0.3)\n",
        "number_of_train = len(dataset_label) - int(len(dataset_label)*0.3)\n",
        "train_label ,test_label = random_split(dataset=dataset_label, lengths=[number_of_train,number_of_test])\n",
        "\n",
        "train_label_dataloader = DataLoader(dataset=train_label ,batch_size=batch_size ,shuffle=True)\n",
        "test_label_dataloader = DataLoader(dataset=test_label ,batch_size=batch_size ,shuffle=True)"
      ]
    },
    {
      "cell_type": "markdown",
      "metadata": {
        "id": "0HslPLv2IOGd"
      },
      "source": [
        "# **preprocessing ended**\n",
        "\n",
        "# **create model**"
      ]
    },
    {
      "cell_type": "markdown",
      "source": [
        "![bilstm-1.webp](data:image/webp;base64,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)"
      ],
      "metadata": {
        "id": "F2hNvBs6qBQS"
      }
    },
    {
      "cell_type": "code",
      "execution_count": 7,
      "metadata": {
        "id": "oN6DuQbJibuE"
      },
      "outputs": [],
      "source": [
        "class LSTM_Model_attack(nn.Module):\n",
        "    def __init__(self, num_classes, input_size, hidden_size, num_layers):\n",
        "        super(LSTM_Model_attack, self).__init__()\n",
        "        self.num_classes = num_classes #number of classes\n",
        "        self.num_layers = num_layers #number of layers\n",
        "        self.input_size = input_size #input size\n",
        "        self.hidden_size = hidden_size #hidden state\n",
        "\n",
        "        self.lstm = nn.LSTM(input_size=input_size, hidden_size=hidden_size, num_layers=num_layers, batch_first=True,\n",
        "                            bidirectional=bidirectional, dropout=drop_out) #lstm\n",
        "\n",
        "        self.fc_layers = nn.Sequential(\n",
        "        nn.Linear(hidden_size * bidirectional_forward_backward, hyper_parameter1),\n",
        "        nn.Tanh(),\n",
        "        nn.Linear(hyper_parameter1, hyper_parameter2),\n",
        "        nn.ReLU(),\n",
        "        nn.Linear(hyper_parameter2, hyper_parameter3),\n",
        "        nn.Sigmoid(),\n",
        "        nn.Linear(hyper_parameter3, num_classes)\n",
        "        )\n",
        "    \n",
        "    def forward(self,x):\n",
        "                                                # 2 => forward and backward for bidirectional\n",
        "        h_0 = Variable(torch.zeros(self.num_layers * bidirectional_forward_backward, x.size(0), self.hidden_size)).to(device=device) #hidden state\n",
        "        c_0 = Variable(torch.zeros(self.num_layers * bidirectional_forward_backward, x.size(0), self.hidden_size)).to(device=device) #internal state\n",
        "\n",
        "        out, (hn, cn) = self.lstm(x, (h_0, c_0))\n",
        "        out = self.fc_layers(out[:, -1, :]) \n",
        "        return out\n",
        "\n",
        "\n",
        "class LSTM_Model_label(nn.Module):\n",
        "    def __init__(self, num_classes, input_size, hidden_size, num_layers):\n",
        "        super(LSTM_Model_label, self).__init__()\n",
        "        self.num_classes = num_classes #number of classes\n",
        "        self.num_layers = num_layers #number of layers\n",
        "        self.input_size = input_size #input size\n",
        "        self.hidden_size = hidden_size #hidden state\n",
        "\n",
        "        self.lstm = nn.LSTM(input_size=input_size, hidden_size=hidden_size, num_layers=num_layers, batch_first=True, \n",
        "                            bidirectional=bidirectional, dropout=drop_out) #lstm\n",
        "\n",
        "        self.fc_layers = nn.Sequential(\n",
        "        nn.Linear(hidden_size * bidirectional_forward_backward, hyper_parameter1),\n",
        "        nn.Tanh(),\n",
        "        nn.Linear(hyper_parameter1, hyper_parameter2),\n",
        "        nn.ReLU(),\n",
        "        nn.Linear(hyper_parameter2, hyper_parameter3),\n",
        "        nn.Sigmoid(),\n",
        "        nn.Linear(hyper_parameter3, num_classes)\n",
        "        )\n",
        "    \n",
        "    def forward(self,x):\n",
        "        h_0 = Variable(torch.zeros(self.num_layers * bidirectional_forward_backward, x.size(0), self.hidden_size)).to(device=device) #hidden state\n",
        "        c_0 = Variable(torch.zeros(self.num_layers * bidirectional_forward_backward, x.size(0), self.hidden_size)).to(device=device) #internal state\n",
        "\n",
        "        out, (hn, cn) = self.lstm(x, (h_0, c_0))\n",
        "        out = self.fc_layers(out[:, -1, :]) \n",
        "        return out\n"
      ]
    },
    {
      "cell_type": "code",
      "execution_count": 8,
      "metadata": {
        "id": "US8JfNI8j3zO",
        "colab": {
          "base_uri": "https://localhost:8080/"
        },
        "outputId": "8200fd29-c6bf-46e4-ad59-9fbbeec74686"
      },
      "outputs": [
        {
          "output_type": "execute_result",
          "data": {
            "text/plain": [
              "LSTM_Model_attack(\n",
              "  (lstm): LSTM(41, 64, num_layers=2, batch_first=True, dropout=0.5, bidirectional=True)\n",
              "  (fc_layers): Sequential(\n",
              "    (0): Linear(in_features=128, out_features=128, bias=True)\n",
              "    (1): Tanh()\n",
              "    (2): Linear(in_features=128, out_features=64, bias=True)\n",
              "    (3): ReLU()\n",
              "    (4): Linear(in_features=64, out_features=32, bias=True)\n",
              "    (5): Sigmoid()\n",
              "    (6): Linear(in_features=32, out_features=10, bias=True)\n",
              "  )\n",
              ")"
            ]
          },
          "metadata": {},
          "execution_count": 8
        }
      ],
      "source": [
        "my_model_attack = LSTM_Model_attack(num_classes_attack_cat, input_size, hidden_size, num_layers).to(device=device)\n",
        "my_model_attack"
      ]
    },
    {
      "cell_type": "code",
      "source": [
        "my_model_attack.state_dict()"
      ],
      "metadata": {
        "colab": {
          "base_uri": "https://localhost:8080/"
        },
        "id": "Dq8JkQZ9ukCs",
        "outputId": "d22ef8fd-5ac0-4b88-9b84-0ccc1c9e2699"
      },
      "execution_count": 9,
      "outputs": [
        {
          "output_type": "execute_result",
          "data": {
            "text/plain": [
              "OrderedDict([('lstm.weight_ih_l0',\n",
              "              tensor([[ 0.0861, -0.0454, -0.1175,  ..., -0.0017,  0.0942, -0.1107],\n",
              "                      [ 0.0289, -0.0179, -0.0473,  ...,  0.0294,  0.0111, -0.0278],\n",
              "                      [-0.0073, -0.1146, -0.0695,  ..., -0.0189,  0.0954, -0.0615],\n",
              "                      ...,\n",
              "                      [ 0.0902, -0.0081, -0.0893,  ...,  0.0475,  0.0200, -0.0363],\n",
              "                      [-0.0017, -0.0743,  0.0047,  ...,  0.0951, -0.0312,  0.0474],\n",
              "                      [ 0.1090, -0.0340, -0.1149,  ...,  0.0483,  0.0814, -0.0926]],\n",
              "                     device='cuda:0')),\n",
              "             ('lstm.weight_hh_l0',\n",
              "              tensor([[-0.0774, -0.0706,  0.0108,  ..., -0.0430, -0.1054,  0.1103],\n",
              "                      [ 0.1064,  0.0019, -0.0414,  ...,  0.0169,  0.0798,  0.0286],\n",
              "                      [ 0.1137,  0.0035, -0.0234,  ..., -0.0829, -0.0802,  0.0921],\n",
              "                      ...,\n",
              "                      [ 0.0179, -0.0455,  0.0115,  ...,  0.0472, -0.1092,  0.1165],\n",
              "                      [-0.0732,  0.0203, -0.0630,  ..., -0.0439, -0.1087,  0.0925],\n",
              "                      [-0.0121,  0.0500,  0.1017,  ...,  0.0750,  0.0686, -0.0316]],\n",
              "                     device='cuda:0')),\n",
              "             ('lstm.bias_ih_l0',\n",
              "              tensor([ 0.1120,  0.0610,  0.0004, -0.0989, -0.0166,  0.0762,  0.0465,  0.0297,\n",
              "                       0.1222,  0.1137,  0.0553,  0.0847,  0.0990,  0.0482,  0.0724, -0.0092,\n",
              "                      -0.1017,  0.1218,  0.0745, -0.0064,  0.0483,  0.0995, -0.0151, -0.0065,\n",
              "                       0.1166,  0.0155,  0.0495,  0.0517,  0.0841, -0.0879,  0.0901,  0.1193,\n",
              "                       0.0070,  0.1219, -0.0762, -0.0916,  0.0866, -0.0984, -0.1153,  0.0287,\n",
              "                       0.0157,  0.0492, -0.0756,  0.0565,  0.0357,  0.0801,  0.0700,  0.1104,\n",
              "                      -0.0285, -0.0877, -0.0932, -0.0287, -0.0842, -0.1197,  0.0779, -0.0740,\n",
              "                      -0.0973,  0.1155,  0.0882, -0.1079,  0.0477, -0.0538,  0.1157,  0.0804,\n",
              "                       0.0581, -0.1038, -0.1091,  0.0799,  0.1136,  0.0643, -0.0285,  0.0502,\n",
              "                       0.1240,  0.1012, -0.0535, -0.0523, -0.0095,  0.0909,  0.1180, -0.0012,\n",
              "                       0.1005, -0.0693,  0.0647, -0.1066,  0.0907,  0.1241,  0.0933, -0.0731,\n",
              "                       0.0160,  0.1027, -0.0996,  0.1080, -0.0319, -0.0453, -0.0226,  0.0626,\n",
              "                       0.1142,  0.0435, -0.0004,  0.0833,  0.0509,  0.0634,  0.0615, -0.1204,\n",
              "                      -0.0816, -0.0684, -0.0747, -0.0238,  0.0746, -0.0398,  0.1066, -0.0013,\n",
              "                       0.0945, -0.0819, -0.0010, -0.1197,  0.0971,  0.0413, -0.0381,  0.0414,\n",
              "                       0.1226,  0.0515,  0.0070,  0.0595,  0.0444,  0.0294, -0.0379,  0.1024,\n",
              "                       0.0087, -0.0368,  0.0919,  0.1016,  0.0675,  0.0981, -0.1067,  0.0095,\n",
              "                      -0.0515, -0.0882,  0.0011,  0.1247, -0.0571,  0.1059, -0.0927,  0.0494,\n",
              "                      -0.1010, -0.0976,  0.0137, -0.1221,  0.0128, -0.1045,  0.0913, -0.0207,\n",
              "                      -0.1150,  0.0433, -0.0293,  0.0027, -0.1247,  0.0922,  0.0366, -0.0505,\n",
              "                      -0.0586,  0.0113,  0.0777, -0.0410, -0.1092, -0.0940,  0.0171, -0.0441,\n",
              "                      -0.0488,  0.0912, -0.0497, -0.1038, -0.1101, -0.0041, -0.0807,  0.0464,\n",
              "                       0.0290, -0.0893, -0.0875,  0.0509,  0.1228,  0.0760,  0.1168, -0.0652,\n",
              "                       0.0902, -0.0104,  0.0077,  0.1246, -0.0988,  0.0161,  0.0699, -0.1185,\n",
              "                      -0.0691,  0.1187, -0.0835,  0.0028,  0.0501,  0.1002, -0.0958,  0.0215,\n",
              "                      -0.0013, -0.0355,  0.0876,  0.0234, -0.0393, -0.0080, -0.0745, -0.0358,\n",
              "                      -0.0183,  0.0151,  0.0887, -0.0545,  0.0131,  0.0890,  0.0501, -0.1169,\n",
              "                       0.0292, -0.1193,  0.0673, -0.0185,  0.1246, -0.1234,  0.0071,  0.0169,\n",
              "                       0.0987,  0.0056,  0.1102, -0.0348, -0.0465,  0.0383,  0.0999,  0.0406,\n",
              "                       0.0792, -0.0806,  0.0580,  0.0740, -0.0573,  0.0608, -0.0376,  0.0014,\n",
              "                      -0.0062,  0.0159, -0.0739, -0.0473, -0.1146,  0.0651, -0.0046,  0.0584,\n",
              "                       0.1081,  0.0412, -0.0789, -0.0280,  0.0216, -0.0999, -0.0049, -0.0781],\n",
              "                     device='cuda:0')),\n",
              "             ('lstm.bias_hh_l0',\n",
              "              tensor([ 0.0003, -0.1049,  0.0843,  0.0279,  0.0988, -0.0314,  0.0802, -0.0104,\n",
              "                      -0.0173, -0.0065,  0.0364,  0.0840, -0.1137,  0.0649,  0.0135, -0.1249,\n",
              "                       0.0486,  0.1159,  0.0750,  0.0265, -0.0175,  0.0663, -0.1215,  0.0887,\n",
              "                       0.0601, -0.0944, -0.0339,  0.1245, -0.0993,  0.1009, -0.0140,  0.0234,\n",
              "                      -0.0605,  0.0731, -0.1116, -0.1246, -0.0514, -0.0629, -0.0502, -0.0352,\n",
              "                       0.0465,  0.1104,  0.1101,  0.0569, -0.0573, -0.0810,  0.0226, -0.0278,\n",
              "                       0.0549,  0.0952, -0.0220,  0.0817, -0.0648, -0.1106, -0.0383,  0.0039,\n",
              "                      -0.0933, -0.0872, -0.0035, -0.0442,  0.1096,  0.0870, -0.0385, -0.0308,\n",
              "                       0.1110,  0.0852, -0.0086, -0.0338,  0.0800, -0.0390, -0.0712, -0.1222,\n",
              "                       0.0243, -0.0804,  0.0788, -0.0251,  0.1243,  0.0612,  0.0905,  0.0777,\n",
              "                      -0.0126,  0.0905, -0.0112,  0.0376, -0.0887,  0.0114, -0.1187,  0.0628,\n",
              "                      -0.1126, -0.0105, -0.0679, -0.0537, -0.0877,  0.1100,  0.0798,  0.0509,\n",
              "                      -0.1166, -0.0958, -0.0850, -0.0425, -0.0395, -0.0442,  0.1166, -0.1124,\n",
              "                      -0.0010,  0.0666, -0.0836,  0.0372,  0.0584,  0.1146,  0.0417,  0.0720,\n",
              "                      -0.0300, -0.0715,  0.0935, -0.0813, -0.0546,  0.0758, -0.0466, -0.0559,\n",
              "                       0.0771, -0.0373, -0.1025,  0.0585,  0.0133, -0.1065, -0.0686,  0.0177,\n",
              "                      -0.1175,  0.0259, -0.1132, -0.0524,  0.1008,  0.0791,  0.0308, -0.0412,\n",
              "                       0.0861, -0.0676, -0.1177,  0.0204, -0.0695,  0.0509,  0.0426,  0.0772,\n",
              "                      -0.0298,  0.0603, -0.1144,  0.0697, -0.0353,  0.0648,  0.0606, -0.1052,\n",
              "                      -0.0661, -0.0360,  0.0181,  0.0481, -0.0647, -0.0588,  0.0030, -0.0220,\n",
              "                       0.0433, -0.0047, -0.0537, -0.0394, -0.0907,  0.0357,  0.0673, -0.0093,\n",
              "                       0.0295, -0.0202,  0.0438,  0.0068, -0.0598,  0.0770,  0.1199,  0.1067,\n",
              "                      -0.1121,  0.0680, -0.0149, -0.0994, -0.0393,  0.0168, -0.0627, -0.0959,\n",
              "                      -0.0964, -0.0719, -0.0167,  0.0929,  0.0050, -0.0178, -0.0025,  0.0459,\n",
              "                       0.1193,  0.1191,  0.0121, -0.0950,  0.0408,  0.1091, -0.1124,  0.0523,\n",
              "                      -0.0195,  0.0044,  0.1172,  0.0730, -0.0459,  0.0676, -0.1016, -0.1085,\n",
              "                       0.0575,  0.0406,  0.0021, -0.0018,  0.1139, -0.0858, -0.1043, -0.0379,\n",
              "                      -0.0922, -0.0052, -0.0913, -0.1222, -0.0265,  0.0985, -0.0295, -0.0878,\n",
              "                      -0.0974, -0.0068, -0.0238,  0.0091, -0.0418, -0.0096,  0.0229, -0.0160,\n",
              "                      -0.0943, -0.1090,  0.1096, -0.0492, -0.0290, -0.1212, -0.0778, -0.0555,\n",
              "                       0.0995,  0.1066,  0.0574, -0.0757, -0.0214, -0.0346, -0.0905,  0.0010,\n",
              "                       0.0222, -0.0334, -0.0076, -0.0764,  0.0434, -0.0621, -0.0480,  0.1094],\n",
              "                     device='cuda:0')),\n",
              "             ('lstm.weight_ih_l0_reverse',\n",
              "              tensor([[-0.0377,  0.1032, -0.0466,  ..., -0.1054, -0.0864,  0.0633],\n",
              "                      [ 0.0487,  0.0290, -0.0492,  ...,  0.0775, -0.0857,  0.0760],\n",
              "                      [ 0.1171,  0.0585,  0.1057,  ...,  0.0817, -0.1117,  0.1048],\n",
              "                      ...,\n",
              "                      [ 0.0599,  0.1182, -0.0451,  ..., -0.0720,  0.0027, -0.0847],\n",
              "                      [-0.0158,  0.0381, -0.0436,  ..., -0.0647,  0.0549,  0.0959],\n",
              "                      [-0.0062, -0.0100,  0.0163,  ...,  0.0293, -0.0451, -0.1105]],\n",
              "                     device='cuda:0')),\n",
              "             ('lstm.weight_hh_l0_reverse',\n",
              "              tensor([[-0.1231,  0.1088,  0.1126,  ...,  0.1006,  0.0597,  0.0703],\n",
              "                      [-0.0879,  0.0317,  0.0177,  ..., -0.0706, -0.0937, -0.0185],\n",
              "                      [-0.1196,  0.0285,  0.0577,  ..., -0.1018, -0.1124,  0.0783],\n",
              "                      ...,\n",
              "                      [-0.0749,  0.0635,  0.1195,  ..., -0.1121, -0.0874, -0.0561],\n",
              "                      [ 0.0258, -0.0524,  0.0114,  ...,  0.0794,  0.1199, -0.0104],\n",
              "                      [ 0.1017,  0.0513, -0.0633,  ...,  0.0352,  0.0364, -0.0294]],\n",
              "                     device='cuda:0')),\n",
              "             ('lstm.bias_ih_l0_reverse',\n",
              "              tensor([ 0.0213, -0.0867, -0.0750, -0.0447, -0.0240, -0.0743,  0.0849, -0.1008,\n",
              "                       0.0575, -0.1141, -0.0166, -0.0401, -0.0226,  0.1079, -0.0569, -0.0378,\n",
              "                      -0.0892,  0.0349, -0.0680, -0.0361,  0.1060,  0.0040, -0.0975, -0.0699,\n",
              "                       0.0198, -0.0425,  0.0853, -0.0698, -0.0326,  0.1200,  0.1014, -0.0769,\n",
              "                      -0.0118, -0.0781, -0.1141, -0.0484,  0.0335, -0.1043, -0.0482,  0.0366,\n",
              "                       0.0564,  0.0278, -0.0634, -0.0508, -0.1220,  0.1214, -0.0816,  0.0112,\n",
              "                       0.0290,  0.1077,  0.0991,  0.0875, -0.0814, -0.1206,  0.1194,  0.1100,\n",
              "                      -0.0955,  0.0902,  0.0772,  0.0383,  0.0923,  0.0155, -0.0135,  0.0587,\n",
              "                       0.0263, -0.0405, -0.0457, -0.0672, -0.0550, -0.1116, -0.0893,  0.0636,\n",
              "                      -0.0341, -0.0882,  0.0389,  0.1235,  0.0796, -0.0606,  0.1179, -0.0954,\n",
              "                      -0.0104,  0.0028, -0.0565, -0.0808, -0.0659, -0.0594,  0.0135, -0.0305,\n",
              "                      -0.0583, -0.0064, -0.1076, -0.0270,  0.0842, -0.0332, -0.1212,  0.0914,\n",
              "                      -0.0747,  0.0220,  0.0657, -0.0581, -0.0802, -0.1030, -0.0735,  0.1136,\n",
              "                      -0.0813, -0.0661,  0.1008,  0.0947,  0.1064, -0.0432,  0.0039,  0.0539,\n",
              "                       0.0246, -0.0727,  0.0817,  0.0894,  0.0813, -0.0600,  0.0565,  0.0880,\n",
              "                      -0.0807, -0.0181,  0.0372,  0.0273, -0.0260, -0.0291, -0.0796,  0.0612,\n",
              "                      -0.0271, -0.0527, -0.0225,  0.0810,  0.1017, -0.0762, -0.0687, -0.0529,\n",
              "                       0.1031, -0.0780,  0.0486,  0.0481, -0.0737, -0.0164, -0.0968,  0.0701,\n",
              "                       0.0417,  0.0065, -0.0863,  0.0015, -0.0194, -0.1062, -0.1072, -0.0248,\n",
              "                       0.0378, -0.1226,  0.1117,  0.0463,  0.0583, -0.0279,  0.0465,  0.1147,\n",
              "                      -0.1096, -0.0747, -0.1175,  0.0450, -0.0925,  0.0505, -0.0379, -0.0602,\n",
              "                      -0.1163,  0.0913, -0.0874, -0.0352,  0.0575, -0.0693, -0.0013,  0.1021,\n",
              "                      -0.0811,  0.0020,  0.0050, -0.0075,  0.0572, -0.1167,  0.0277, -0.0650,\n",
              "                       0.0491, -0.0183,  0.0328, -0.1087, -0.0003,  0.0986, -0.0707, -0.0352,\n",
              "                      -0.0423,  0.1000,  0.0930,  0.1094,  0.1239, -0.0462, -0.0750,  0.0497,\n",
              "                      -0.0502, -0.0585,  0.0540, -0.0047, -0.0510,  0.0748,  0.1212,  0.0676,\n",
              "                      -0.1023, -0.1036,  0.0736, -0.1236,  0.0098,  0.0237,  0.0763, -0.0179,\n",
              "                      -0.1105, -0.0935,  0.0846,  0.0660,  0.1178, -0.0952, -0.0553,  0.0981,\n",
              "                       0.0900, -0.0258, -0.0534,  0.1067, -0.0112,  0.0183, -0.0481,  0.0876,\n",
              "                       0.0501, -0.0221, -0.0530, -0.0731, -0.0587,  0.0111, -0.0610, -0.1085,\n",
              "                      -0.1081, -0.0403,  0.0753, -0.0361,  0.1241, -0.1093, -0.1183,  0.0094,\n",
              "                       0.0759,  0.0729, -0.0747,  0.0144, -0.1017, -0.0548,  0.1073,  0.1096],\n",
              "                     device='cuda:0')),\n",
              "             ('lstm.bias_hh_l0_reverse',\n",
              "              tensor([-0.1027,  0.1009, -0.0356, -0.0697,  0.0537,  0.0545,  0.0302,  0.1198,\n",
              "                      -0.0505, -0.0880, -0.0210, -0.0468,  0.0057,  0.0503, -0.1022,  0.0447,\n",
              "                      -0.0429, -0.0964, -0.0539,  0.0128,  0.1024, -0.0893, -0.0639, -0.0327,\n",
              "                       0.1193, -0.0267,  0.0485,  0.1121,  0.0355, -0.0686,  0.0435, -0.0573,\n",
              "                      -0.1062, -0.0730, -0.1112,  0.0456, -0.0661,  0.1027,  0.0549, -0.0109,\n",
              "                       0.0887, -0.0822,  0.0485,  0.0927,  0.1000,  0.0014,  0.0199,  0.1200,\n",
              "                      -0.0589, -0.0274, -0.0889, -0.0043,  0.0668, -0.0815, -0.0199, -0.0049,\n",
              "                      -0.0306,  0.0191,  0.0192, -0.0340,  0.0921, -0.0816, -0.1158, -0.0980,\n",
              "                       0.0507, -0.0744,  0.0765, -0.0016,  0.1144,  0.0897, -0.0730, -0.1119,\n",
              "                      -0.0659, -0.1198,  0.0820,  0.0534, -0.1205,  0.0062, -0.0840, -0.0743,\n",
              "                      -0.1094,  0.0164,  0.0143,  0.0400, -0.0607,  0.0366, -0.0287,  0.1136,\n",
              "                       0.0100, -0.0824,  0.0590, -0.0547,  0.1114,  0.1229,  0.0496,  0.0924,\n",
              "                      -0.0408, -0.0675, -0.0789, -0.0162,  0.0268, -0.0204,  0.0808,  0.1235,\n",
              "                       0.0872, -0.0846,  0.0112, -0.0765,  0.1227,  0.0995, -0.0166,  0.0694,\n",
              "                       0.0038, -0.0090,  0.0918,  0.0753,  0.0350,  0.0329,  0.0826,  0.1197,\n",
              "                       0.0859,  0.0838, -0.0731,  0.1179, -0.1210, -0.0481, -0.1223,  0.1048,\n",
              "                       0.1161,  0.0442, -0.1187,  0.0523,  0.0310, -0.1045,  0.0940, -0.1002,\n",
              "                      -0.0205,  0.0809,  0.1071, -0.0878,  0.0148, -0.0600,  0.0153,  0.0105,\n",
              "                      -0.0129,  0.0625,  0.0190, -0.0440, -0.0277,  0.0628,  0.1191, -0.1231,\n",
              "                       0.0887, -0.1133, -0.1060, -0.1234,  0.0477,  0.1034,  0.0279,  0.0572,\n",
              "                      -0.0827, -0.0308, -0.0865, -0.0858, -0.0415,  0.0352,  0.0397,  0.1123,\n",
              "                      -0.0332, -0.0484,  0.0893, -0.0158,  0.1096, -0.0985,  0.0054, -0.0877,\n",
              "                      -0.0217, -0.0720, -0.1102, -0.1229, -0.0834,  0.1016, -0.0764,  0.1192,\n",
              "                      -0.0567, -0.0695, -0.0997, -0.0717, -0.0796,  0.0786,  0.0772,  0.0463,\n",
              "                       0.1092,  0.0793,  0.0347, -0.0609,  0.1216,  0.0085, -0.0061, -0.0443,\n",
              "                       0.0112,  0.0278, -0.0380, -0.0575,  0.1054,  0.1208, -0.0290,  0.0518,\n",
              "                      -0.0038, -0.0178, -0.0410, -0.0938,  0.0682,  0.0616, -0.0393,  0.1020,\n",
              "                       0.0503, -0.0063,  0.0437,  0.0209, -0.1112,  0.0035,  0.0448,  0.0917,\n",
              "                      -0.1246, -0.1008, -0.0682, -0.1162, -0.0438, -0.0366,  0.1032, -0.0105,\n",
              "                      -0.0634, -0.0904,  0.1058,  0.0935, -0.0942, -0.0679, -0.0767, -0.0533,\n",
              "                       0.0718, -0.0932, -0.1250, -0.0616,  0.0414,  0.0659,  0.0330, -0.0068,\n",
              "                       0.0744, -0.1005,  0.0132,  0.0371,  0.1011,  0.0824,  0.0543,  0.0688],\n",
              "                     device='cuda:0')),\n",
              "             ('lstm.weight_ih_l1',\n",
              "              tensor([[ 0.0035, -0.1221, -0.0912,  ...,  0.1061, -0.0046, -0.1239],\n",
              "                      [ 0.0804,  0.1028, -0.0459,  ..., -0.0197, -0.0817, -0.0224],\n",
              "                      [ 0.0061, -0.0527, -0.0925,  ..., -0.1234, -0.0552,  0.0827],\n",
              "                      ...,\n",
              "                      [ 0.1079, -0.0232,  0.0916,  ...,  0.0455, -0.0254,  0.0175],\n",
              "                      [ 0.0836,  0.0584,  0.0003,  ..., -0.0398,  0.0021,  0.1246],\n",
              "                      [-0.0976, -0.0785, -0.1054,  ...,  0.0566,  0.0882,  0.1058]],\n",
              "                     device='cuda:0')),\n",
              "             ('lstm.weight_hh_l1',\n",
              "              tensor([[-0.1032, -0.1006, -0.0056,  ...,  0.0723,  0.0989,  0.0394],\n",
              "                      [ 0.0707, -0.0163,  0.1036,  ...,  0.0445, -0.0766,  0.0279],\n",
              "                      [-0.1065,  0.0098, -0.0308,  ..., -0.0715, -0.0151,  0.0691],\n",
              "                      ...,\n",
              "                      [ 0.0995,  0.0202, -0.0034,  ...,  0.0572,  0.0773,  0.1066],\n",
              "                      [-0.0885, -0.0246, -0.0821,  ...,  0.0847,  0.0879, -0.0416],\n",
              "                      [ 0.0566,  0.1222,  0.0922,  ...,  0.0062, -0.0783,  0.0642]],\n",
              "                     device='cuda:0')),\n",
              "             ('lstm.bias_ih_l1',\n",
              "              tensor([-0.0900, -0.0013,  0.0856,  0.0151, -0.0649,  0.0149, -0.0512, -0.0009,\n",
              "                       0.1231,  0.1182, -0.1049,  0.0994,  0.0459,  0.0553, -0.0991,  0.0322,\n",
              "                      -0.0585, -0.0631, -0.0129, -0.0032, -0.0775,  0.1112, -0.0457,  0.0278,\n",
              "                      -0.0347,  0.0732, -0.0230,  0.0179, -0.0607,  0.0663, -0.0679, -0.0847,\n",
              "                      -0.0373,  0.0367, -0.0565, -0.0422,  0.0104, -0.0227, -0.0196,  0.0768,\n",
              "                       0.1104, -0.0778,  0.0703,  0.0950,  0.0098, -0.1017,  0.0288,  0.0716,\n",
              "                       0.0326, -0.1024, -0.0122,  0.0914, -0.0693, -0.0314,  0.0332,  0.0623,\n",
              "                       0.0926,  0.0465, -0.0547, -0.1048,  0.0203,  0.0461, -0.0536,  0.0284,\n",
              "                      -0.0843,  0.0375, -0.0754,  0.0778, -0.0091,  0.1246, -0.1196,  0.0767,\n",
              "                       0.0736,  0.0118, -0.0131, -0.0458, -0.0127,  0.0004,  0.1064,  0.0211,\n",
              "                      -0.0956, -0.0965, -0.0087,  0.0348, -0.1231,  0.0920, -0.0736, -0.0800,\n",
              "                       0.0686, -0.0163, -0.0328,  0.1109,  0.0516, -0.0166,  0.0332,  0.0310,\n",
              "                      -0.1056,  0.0610, -0.0941,  0.0251, -0.1134, -0.0125,  0.0812, -0.0075,\n",
              "                       0.0319, -0.0955,  0.0472, -0.0446, -0.0789,  0.0832,  0.0506,  0.0779,\n",
              "                      -0.0514, -0.0119, -0.0546,  0.0366,  0.0261, -0.0945,  0.0424, -0.0378,\n",
              "                      -0.0881,  0.0824, -0.0533,  0.0698, -0.0683,  0.0820, -0.0759,  0.0232,\n",
              "                       0.0556,  0.0314,  0.0529,  0.1146,  0.0512, -0.0304, -0.0547,  0.0917,\n",
              "                       0.1221,  0.0293,  0.0159,  0.0984,  0.0413, -0.0506, -0.1036, -0.0325,\n",
              "                      -0.0406, -0.0113, -0.0881, -0.1247,  0.0345,  0.0896, -0.0179,  0.1095,\n",
              "                       0.0688, -0.0930,  0.0085, -0.0953, -0.0840,  0.0384,  0.0485, -0.0060,\n",
              "                      -0.0036, -0.0780,  0.1155,  0.0353,  0.0714, -0.0396,  0.0329,  0.0289,\n",
              "                       0.0726,  0.1071, -0.0019,  0.0750, -0.0334,  0.0683,  0.0233, -0.0403,\n",
              "                      -0.1055,  0.0297, -0.1142,  0.0778,  0.0968,  0.1181, -0.0508,  0.1085,\n",
              "                       0.1212, -0.0742, -0.0622,  0.0217,  0.0599, -0.0109,  0.0288,  0.1077,\n",
              "                      -0.0152, -0.0516, -0.0017,  0.0573, -0.1026, -0.0893, -0.0172,  0.0516,\n",
              "                       0.0418,  0.1192, -0.0336, -0.0026,  0.1090, -0.0425, -0.0756, -0.1042,\n",
              "                      -0.0188,  0.1126, -0.1034, -0.0579,  0.0827, -0.0001, -0.0431, -0.0690,\n",
              "                       0.0994,  0.1087,  0.0946, -0.0164,  0.0768, -0.0976, -0.0706,  0.1137,\n",
              "                       0.0033,  0.0895, -0.0872,  0.0520, -0.0459, -0.0953,  0.1059,  0.0742,\n",
              "                      -0.0128, -0.0556,  0.0849,  0.0933,  0.0391,  0.0026,  0.0857, -0.0523,\n",
              "                       0.0454,  0.1134, -0.1209, -0.0885,  0.0314,  0.0276,  0.0760,  0.0446,\n",
              "                       0.0335, -0.1037,  0.0658,  0.0039,  0.0675, -0.0528, -0.0210,  0.0479],\n",
              "                     device='cuda:0')),\n",
              "             ('lstm.bias_hh_l1',\n",
              "              tensor([-0.0076, -0.1096,  0.0382, -0.0974, -0.0882, -0.0194,  0.0725,  0.0826,\n",
              "                       0.0791,  0.1067,  0.0915, -0.1117,  0.0111,  0.0580, -0.1143,  0.0204,\n",
              "                       0.0920,  0.0985, -0.0893,  0.0692, -0.0930,  0.0671,  0.0864,  0.0117,\n",
              "                      -0.0677, -0.0480,  0.0569,  0.0782,  0.0257,  0.0894,  0.0805, -0.0364,\n",
              "                      -0.0920, -0.0511,  0.0174, -0.0993,  0.0394,  0.1229,  0.1141, -0.1055,\n",
              "                       0.0344, -0.0497, -0.0508,  0.1023, -0.0758, -0.1238, -0.0734,  0.0373,\n",
              "                      -0.0801,  0.1149, -0.0766,  0.0915,  0.1009, -0.0851,  0.0340, -0.1103,\n",
              "                      -0.0543, -0.0133,  0.0546,  0.0340, -0.0492, -0.0124,  0.0434,  0.1119,\n",
              "                      -0.0224, -0.1067,  0.0550, -0.0345, -0.0442, -0.0810,  0.0825,  0.1170,\n",
              "                       0.0501, -0.0177, -0.0403, -0.0535, -0.1232,  0.0163,  0.0151, -0.0360,\n",
              "                      -0.0864,  0.1134,  0.0305,  0.0165, -0.0753, -0.0766, -0.1219, -0.1016,\n",
              "                      -0.1225, -0.0539,  0.0551, -0.1114,  0.0927, -0.0230, -0.0840,  0.0231,\n",
              "                       0.0417,  0.0463, -0.0204, -0.0638,  0.0514,  0.0725,  0.0866,  0.0435,\n",
              "                       0.0314, -0.1190,  0.0346, -0.1211, -0.0973,  0.0552, -0.0158,  0.0016,\n",
              "                      -0.1028,  0.0063,  0.0105,  0.0616,  0.0435, -0.0269, -0.1044, -0.0126,\n",
              "                      -0.0378,  0.0307,  0.1121,  0.0010,  0.0838,  0.0564,  0.0105, -0.1051,\n",
              "                       0.1188,  0.0111, -0.0675, -0.0491, -0.0786,  0.0914,  0.0512, -0.0178,\n",
              "                       0.0551,  0.0792,  0.0282,  0.0064, -0.0772, -0.0731, -0.0596,  0.0700,\n",
              "                      -0.1135,  0.0585, -0.0908,  0.1013,  0.1111,  0.0664, -0.0667, -0.0921,\n",
              "                       0.0738, -0.1187,  0.0582, -0.0865, -0.1245,  0.0716, -0.0144, -0.0805,\n",
              "                      -0.0806,  0.1023,  0.1041,  0.0854,  0.0208,  0.0444, -0.0708, -0.0488,\n",
              "                      -0.0650,  0.0577,  0.0056,  0.0704, -0.0055, -0.0685, -0.0965, -0.0068,\n",
              "                      -0.0990, -0.0598,  0.0386, -0.0013, -0.0866, -0.0414, -0.0756, -0.0213,\n",
              "                       0.0152,  0.0959, -0.1006,  0.0937,  0.0784,  0.0297,  0.0180, -0.1005,\n",
              "                      -0.0496, -0.1055, -0.0914,  0.1040,  0.0043,  0.0302,  0.1014,  0.0797,\n",
              "                      -0.1075, -0.0874,  0.0633, -0.0721,  0.0115, -0.0020,  0.0871, -0.0480,\n",
              "                       0.0159, -0.1082,  0.0904, -0.1017, -0.0837, -0.0692, -0.0935, -0.1110,\n",
              "                       0.1139, -0.0222,  0.0431, -0.0777, -0.1238, -0.0555,  0.0377,  0.0115,\n",
              "                       0.0176, -0.0494, -0.0792,  0.0358,  0.1075,  0.1183, -0.0739, -0.0671,\n",
              "                      -0.0447, -0.0740, -0.1087, -0.0480, -0.0877, -0.1013, -0.1243, -0.0769,\n",
              "                      -0.0720,  0.0048, -0.0496,  0.0130, -0.0613, -0.0529,  0.0711,  0.0426,\n",
              "                      -0.1096,  0.0672,  0.0042,  0.0140,  0.0484, -0.0335,  0.0616, -0.0576],\n",
              "                     device='cuda:0')),\n",
              "             ('lstm.weight_ih_l1_reverse',\n",
              "              tensor([[ 0.1078, -0.0620,  0.1032,  ..., -0.0280,  0.0599, -0.0877],\n",
              "                      [ 0.0619,  0.0467,  0.0417,  ..., -0.1084, -0.0101,  0.0627],\n",
              "                      [-0.0068,  0.0526,  0.0197,  ..., -0.0694,  0.0128,  0.0869],\n",
              "                      ...,\n",
              "                      [-0.0385,  0.0673,  0.0399,  ...,  0.0989, -0.0728,  0.1082],\n",
              "                      [-0.0045,  0.1055, -0.0826,  ...,  0.1001, -0.0410, -0.1177],\n",
              "                      [-0.1106, -0.0119,  0.1212,  ...,  0.0254,  0.0146, -0.0962]],\n",
              "                     device='cuda:0')),\n",
              "             ('lstm.weight_hh_l1_reverse',\n",
              "              tensor([[-0.0447,  0.1089,  0.1180,  ...,  0.0137,  0.0807, -0.0973],\n",
              "                      [ 0.0973, -0.0500, -0.0020,  ...,  0.0422, -0.1009, -0.0647],\n",
              "                      [ 0.0236,  0.0539, -0.0822,  ..., -0.0533, -0.0939, -0.0720],\n",
              "                      ...,\n",
              "                      [ 0.0421, -0.0228, -0.1236,  ...,  0.0696,  0.0431,  0.0666],\n",
              "                      [-0.0118, -0.1150,  0.0790,  ...,  0.0654,  0.0473, -0.0708],\n",
              "                      [ 0.0199,  0.0214,  0.1207,  ..., -0.0652,  0.0034,  0.0988]],\n",
              "                     device='cuda:0')),\n",
              "             ('lstm.bias_ih_l1_reverse',\n",
              "              tensor([-0.0529,  0.0221, -0.1112,  0.0566,  0.0268, -0.0444,  0.0557,  0.0505,\n",
              "                      -0.1067,  0.0688,  0.0851, -0.0652, -0.0887, -0.0661, -0.0258, -0.0463,\n",
              "                       0.0770, -0.0206, -0.0683, -0.0504, -0.0432, -0.0437,  0.1175,  0.0603,\n",
              "                      -0.0976, -0.0285,  0.1013, -0.0813,  0.0695,  0.0550,  0.0303, -0.0029,\n",
              "                       0.1035,  0.0125,  0.0366,  0.0327, -0.0106,  0.0958, -0.1085,  0.1036,\n",
              "                       0.0392, -0.0351, -0.1229,  0.0355, -0.0536,  0.1093,  0.0017, -0.0049,\n",
              "                      -0.0565, -0.0551, -0.0324,  0.0727, -0.1105, -0.1081,  0.0733,  0.0441,\n",
              "                      -0.0624,  0.1214, -0.0767, -0.0601,  0.1082, -0.0376, -0.0953, -0.0080,\n",
              "                       0.1215, -0.0097,  0.0083,  0.1238, -0.0302, -0.0600, -0.0656, -0.0283,\n",
              "                      -0.0208,  0.0544, -0.1200, -0.0617,  0.0998, -0.0821, -0.0207, -0.0537,\n",
              "                      -0.0429, -0.0170,  0.0386,  0.0949,  0.0384,  0.0550, -0.0820,  0.0343,\n",
              "                       0.0256,  0.0809,  0.0995,  0.1148, -0.0991, -0.0277, -0.0017, -0.0733,\n",
              "                       0.0267, -0.0598,  0.0391,  0.0718,  0.0980,  0.0854,  0.0841,  0.0181,\n",
              "                      -0.0832, -0.1241,  0.0188,  0.0777, -0.0537, -0.1244, -0.0215,  0.1001,\n",
              "                       0.0168,  0.0307, -0.0618,  0.1211,  0.1236, -0.0836,  0.0156,  0.0013,\n",
              "                      -0.1059, -0.0816, -0.1055,  0.0814,  0.1143,  0.0750, -0.0713,  0.1087,\n",
              "                      -0.1080, -0.1102,  0.0393,  0.0536,  0.0072, -0.0390,  0.0011,  0.0056,\n",
              "                       0.0846,  0.0606, -0.0738, -0.0520,  0.0175,  0.0839,  0.1203,  0.1188,\n",
              "                      -0.0692,  0.0286,  0.0839, -0.0739, -0.0812, -0.0737,  0.0891, -0.0733,\n",
              "                      -0.0416, -0.0670,  0.0539, -0.1092,  0.0365,  0.0204,  0.0537,  0.0679,\n",
              "                       0.0008, -0.0960,  0.0814, -0.0151, -0.1150, -0.0010, -0.0419, -0.0033,\n",
              "                       0.0524, -0.0520, -0.0276, -0.0873, -0.0137, -0.0593, -0.0131,  0.0635,\n",
              "                       0.1091, -0.0568, -0.0937, -0.0428,  0.0581, -0.0770, -0.1231,  0.1030,\n",
              "                       0.0010, -0.1073,  0.0127, -0.0642,  0.0751,  0.0961, -0.0041, -0.1116,\n",
              "                       0.0954, -0.0391, -0.0357,  0.1107,  0.0135,  0.0557,  0.0322, -0.1212,\n",
              "                       0.0905,  0.1108, -0.0403, -0.0797,  0.0438, -0.0423,  0.0962,  0.0387,\n",
              "                      -0.0149, -0.0769,  0.1039,  0.0059, -0.0096,  0.1227,  0.0237, -0.0310,\n",
              "                       0.0627, -0.0777,  0.0513, -0.0892, -0.0483, -0.0511, -0.0252, -0.0636,\n",
              "                      -0.1090, -0.1190,  0.1222,  0.0621, -0.0463, -0.1064,  0.0048,  0.0451,\n",
              "                       0.1080, -0.0178,  0.0224,  0.0416,  0.0726, -0.0462, -0.1178,  0.0505,\n",
              "                       0.0153,  0.0355,  0.0266, -0.0315, -0.0276,  0.0817,  0.0586,  0.1231,\n",
              "                      -0.0193,  0.1222,  0.0159, -0.0417, -0.0917, -0.0800,  0.0288,  0.1173],\n",
              "                     device='cuda:0')),\n",
              "             ('lstm.bias_hh_l1_reverse',\n",
              "              tensor([-0.1244, -0.0958,  0.1058,  0.0999,  0.0478, -0.0991,  0.0440, -0.0818,\n",
              "                       0.0017,  0.1045, -0.0834,  0.0738, -0.0271,  0.1014, -0.0664, -0.0970,\n",
              "                      -0.0537,  0.0465,  0.0602,  0.0199,  0.1064,  0.0602,  0.0696,  0.0746,\n",
              "                       0.0455, -0.0591, -0.0738,  0.0876,  0.1015,  0.1116, -0.0351,  0.0093,\n",
              "                      -0.0006,  0.1155,  0.0587,  0.0206,  0.1079, -0.1079, -0.0694, -0.0084,\n",
              "                      -0.0767, -0.0877,  0.0839,  0.0197, -0.0661,  0.0541, -0.0145,  0.0150,\n",
              "                      -0.0923, -0.0186, -0.0366,  0.0835,  0.1234, -0.0254, -0.0045,  0.1055,\n",
              "                       0.0473,  0.0854,  0.0127, -0.0497, -0.1216,  0.0891,  0.0621,  0.0327,\n",
              "                       0.0279, -0.0490, -0.0276,  0.0432, -0.0175,  0.0618, -0.0580,  0.0680,\n",
              "                      -0.0867, -0.0338, -0.0164,  0.0700, -0.1244,  0.1234, -0.1048, -0.0997,\n",
              "                      -0.0378, -0.0686, -0.0386,  0.0294, -0.0609,  0.0989, -0.1169, -0.0839,\n",
              "                      -0.1157, -0.0956,  0.0924,  0.0639, -0.0308,  0.0317, -0.0370, -0.0242,\n",
              "                       0.0794, -0.1021,  0.0738,  0.0442,  0.0034,  0.0821, -0.0233, -0.0396,\n",
              "                       0.0155,  0.0913, -0.0099, -0.0464,  0.0479,  0.1091, -0.1010, -0.0942,\n",
              "                       0.1098, -0.0462,  0.1021, -0.0012,  0.1016,  0.1062,  0.1191, -0.0604,\n",
              "                       0.0069,  0.0972,  0.0884, -0.0768,  0.0122,  0.1205,  0.0185, -0.1231,\n",
              "                       0.0647,  0.0342, -0.0785, -0.0662, -0.0040, -0.1194,  0.0502, -0.1113,\n",
              "                       0.0344, -0.0497,  0.0515, -0.0907, -0.0719,  0.0310,  0.0813, -0.1148,\n",
              "                      -0.0378, -0.0994,  0.1105, -0.0473,  0.1137,  0.1069, -0.0066,  0.0755,\n",
              "                       0.0694, -0.0300, -0.1092, -0.1183,  0.0788, -0.0336, -0.0963, -0.0708,\n",
              "                       0.0934,  0.1118, -0.0389,  0.0751,  0.0888,  0.0212,  0.1061, -0.0733,\n",
              "                      -0.0738, -0.0989,  0.0818, -0.0661,  0.0833, -0.1175,  0.0780,  0.0495,\n",
              "                       0.0075,  0.0080, -0.0034,  0.0474, -0.0772, -0.0807, -0.1074, -0.0072,\n",
              "                       0.0122,  0.0350, -0.0848, -0.0522, -0.0752, -0.0806,  0.0614,  0.0029,\n",
              "                      -0.0436, -0.0472,  0.0922, -0.0634, -0.0481, -0.0935, -0.1157,  0.0252,\n",
              "                      -0.0797,  0.1126,  0.0185, -0.1155, -0.0867, -0.0090,  0.0409, -0.0935,\n",
              "                      -0.1165,  0.0617,  0.0296,  0.1199,  0.1104,  0.0390, -0.0234, -0.0512,\n",
              "                       0.0895, -0.0428, -0.0013, -0.0613, -0.0132, -0.0187,  0.0222,  0.0139,\n",
              "                      -0.0843, -0.0023, -0.1044,  0.0928, -0.0224, -0.0447, -0.0048, -0.1199,\n",
              "                      -0.0762,  0.1179,  0.1208,  0.1165, -0.1073,  0.0811,  0.0714,  0.0653,\n",
              "                      -0.1037,  0.0286,  0.0286, -0.0166,  0.0378, -0.0711, -0.1157, -0.0791,\n",
              "                       0.1003,  0.0617,  0.0017,  0.0559, -0.0993,  0.0025, -0.0726, -0.0937],\n",
              "                     device='cuda:0')),\n",
              "             ('fc_layers.0.weight',\n",
              "              tensor([[ 0.0849, -0.0790, -0.0250,  ..., -0.0153, -0.0477, -0.0278],\n",
              "                      [-0.0595,  0.0551,  0.0085,  ...,  0.0736, -0.0338,  0.0154],\n",
              "                      [ 0.0816,  0.0474, -0.0570,  ..., -0.0267,  0.0150,  0.0491],\n",
              "                      ...,\n",
              "                      [ 0.0150,  0.0631,  0.0260,  ..., -0.0304, -0.0509, -0.0636],\n",
              "                      [ 0.0807, -0.0234,  0.0611,  ..., -0.0179,  0.0753,  0.0225],\n",
              "                      [ 0.0549, -0.0583, -0.0269,  ..., -0.0027, -0.0742,  0.0251]],\n",
              "                     device='cuda:0')),\n",
              "             ('fc_layers.0.bias',\n",
              "              tensor([ 0.0505,  0.0666,  0.0725, -0.0328, -0.0541, -0.0323, -0.0591,  0.0662,\n",
              "                       0.0785,  0.0449, -0.0147,  0.0642,  0.0628,  0.0057, -0.0200, -0.0400,\n",
              "                       0.0757, -0.0790, -0.0042,  0.0336,  0.0491, -0.0838,  0.0432,  0.0109,\n",
              "                       0.0632,  0.0177, -0.0058, -0.0247, -0.0444,  0.0359, -0.0178,  0.0524,\n",
              "                       0.0307,  0.0684,  0.0677, -0.0709, -0.0830,  0.0005, -0.0325,  0.0344,\n",
              "                       0.0380, -0.0679, -0.0068, -0.0361, -0.0385,  0.0413, -0.0647, -0.0083,\n",
              "                       0.0301, -0.0837, -0.0714, -0.0864,  0.0875,  0.0254, -0.0480,  0.0766,\n",
              "                       0.0523, -0.0568,  0.0654,  0.0230,  0.0415, -0.0525,  0.0180, -0.0429,\n",
              "                       0.0601, -0.0320,  0.0522,  0.0867, -0.0303,  0.0649,  0.0677, -0.0101,\n",
              "                      -0.0027,  0.0046, -0.0282, -0.0294, -0.0470,  0.0547, -0.0849,  0.0205,\n",
              "                      -0.0362, -0.0096,  0.0012,  0.0456,  0.0024,  0.0013, -0.0555,  0.0824,\n",
              "                      -0.0258,  0.0012,  0.0280,  0.0185, -0.0362,  0.0776, -0.0054, -0.0632,\n",
              "                      -0.0633,  0.0823,  0.0530,  0.0142,  0.0775,  0.0724, -0.0327, -0.0208,\n",
              "                       0.0570, -0.0465,  0.0716,  0.0046,  0.0508,  0.0526,  0.0689, -0.0351,\n",
              "                       0.0879,  0.0129,  0.0813,  0.0179, -0.0430,  0.0556, -0.0199,  0.0304,\n",
              "                       0.0151, -0.0056, -0.0358,  0.0411,  0.0078,  0.0680,  0.0715,  0.0221],\n",
              "                     device='cuda:0')),\n",
              "             ('fc_layers.2.weight',\n",
              "              tensor([[ 0.0745, -0.0633,  0.0754,  ..., -0.0794, -0.0305, -0.0169],\n",
              "                      [ 0.0270,  0.0757, -0.0503,  ...,  0.0537, -0.0846,  0.0832],\n",
              "                      [-0.0082, -0.0645, -0.0845,  ...,  0.0681,  0.0108,  0.0692],\n",
              "                      ...,\n",
              "                      [-0.0402, -0.0326, -0.0591,  ...,  0.0774,  0.0817, -0.0529],\n",
              "                      [ 0.0563, -0.0528, -0.0072,  ..., -0.0849, -0.0693, -0.0602],\n",
              "                      [-0.0132,  0.0779,  0.0239,  ..., -0.0383, -0.0255, -0.0746]],\n",
              "                     device='cuda:0')),\n",
              "             ('fc_layers.2.bias',\n",
              "              tensor([-0.0320, -0.0768,  0.0748,  0.0720, -0.0220,  0.0322, -0.0727,  0.0265,\n",
              "                      -0.0144,  0.0025,  0.0698, -0.0423, -0.0349,  0.0510, -0.0248, -0.0208,\n",
              "                      -0.0731,  0.0141,  0.0740, -0.0535, -0.0284, -0.0005,  0.0878,  0.0342,\n",
              "                       0.0618,  0.0294,  0.0416, -0.0545,  0.0825, -0.0523, -0.0186,  0.0379,\n",
              "                       0.0703, -0.0865,  0.0716, -0.0538, -0.0535,  0.0084, -0.0316, -0.0725,\n",
              "                       0.0353, -0.0837, -0.0036,  0.0772, -0.0036, -0.0173,  0.0129,  0.0471,\n",
              "                      -0.0401,  0.0319,  0.0254, -0.0097, -0.0290,  0.0532, -0.0341, -0.0511,\n",
              "                      -0.0866, -0.0150, -0.0155,  0.0564,  0.0191,  0.0477, -0.0621,  0.0726],\n",
              "                     device='cuda:0')),\n",
              "             ('fc_layers.4.weight',\n",
              "              tensor([[-0.0810, -0.0200, -0.0624,  ...,  0.0150, -0.1244,  0.0885],\n",
              "                      [ 0.0248, -0.0362,  0.0993,  ...,  0.1169, -0.0389,  0.0805],\n",
              "                      [ 0.0338,  0.1128,  0.1035,  ...,  0.0399, -0.0823, -0.0141],\n",
              "                      ...,\n",
              "                      [-0.0072,  0.1032,  0.1079,  ...,  0.0992,  0.1154, -0.0913],\n",
              "                      [-0.1215,  0.0117, -0.0376,  ..., -0.0881, -0.0263, -0.0015],\n",
              "                      [ 0.1028, -0.0577,  0.1023,  ..., -0.0081, -0.0779,  0.0225]],\n",
              "                     device='cuda:0')),\n",
              "             ('fc_layers.4.bias',\n",
              "              tensor([-0.0091,  0.0100,  0.0927, -0.0489, -0.0461, -0.0817, -0.1061, -0.0237,\n",
              "                      -0.1095, -0.0149,  0.1078, -0.0754,  0.1148,  0.0672, -0.0057,  0.0791,\n",
              "                       0.1095, -0.0892,  0.0372,  0.0359,  0.0027, -0.0256, -0.0879,  0.0831,\n",
              "                       0.1182, -0.1214, -0.0759, -0.0779,  0.0653, -0.0939, -0.0224,  0.0241],\n",
              "                     device='cuda:0')),\n",
              "             ('fc_layers.6.weight',\n",
              "              tensor([[ 0.0664,  0.1003,  0.1025,  0.1754,  0.0742,  0.1188,  0.1385, -0.0645,\n",
              "                        0.1668, -0.1530,  0.0958, -0.0235,  0.1709,  0.0433, -0.0144, -0.1286,\n",
              "                       -0.0904, -0.0551, -0.1488, -0.0362,  0.0711,  0.1629,  0.1648, -0.1226,\n",
              "                        0.0023, -0.0429,  0.0450,  0.1247, -0.0468, -0.0206,  0.1086, -0.0207],\n",
              "                      [ 0.0876, -0.0589,  0.0749,  0.0089,  0.1161,  0.0961,  0.0315,  0.0226,\n",
              "                        0.1088, -0.1221,  0.0256, -0.1181,  0.1615,  0.1721,  0.1440,  0.1071,\n",
              "                       -0.1447,  0.0062,  0.0089, -0.0845,  0.0504,  0.1384, -0.0793, -0.0056,\n",
              "                        0.1539, -0.0938,  0.0504, -0.0581, -0.1424,  0.1443,  0.1064,  0.0803],\n",
              "                      [ 0.0215,  0.0164,  0.0844, -0.0055, -0.1519,  0.0631, -0.0737, -0.1695,\n",
              "                        0.0439,  0.0650, -0.0468,  0.1512,  0.0775, -0.0744, -0.0498,  0.1725,\n",
              "                       -0.1721, -0.1191,  0.1762,  0.1577,  0.0378,  0.1200,  0.1234,  0.1091,\n",
              "                       -0.1278,  0.1460, -0.0111, -0.1631,  0.0300,  0.1710,  0.0165,  0.1457],\n",
              "                      [ 0.1544,  0.0318, -0.0640, -0.1033,  0.1415,  0.0592, -0.0792,  0.1233,\n",
              "                       -0.1094, -0.0193,  0.1108, -0.1064, -0.1055, -0.1580,  0.1224,  0.0876,\n",
              "                        0.0461, -0.0608,  0.0306,  0.1394,  0.0118, -0.1629,  0.0624, -0.1194,\n",
              "                        0.1123, -0.1514, -0.1359, -0.1397, -0.0567, -0.0122, -0.1593, -0.1459],\n",
              "                      [-0.0187, -0.0639,  0.0436, -0.0808, -0.1278,  0.0456,  0.1331, -0.0398,\n",
              "                       -0.0983, -0.1052, -0.1432,  0.1263, -0.1355,  0.1375,  0.0162,  0.1611,\n",
              "                        0.1394,  0.1145,  0.1045, -0.0770,  0.1201,  0.0697, -0.1139, -0.0965,\n",
              "                       -0.1196, -0.1710,  0.1579,  0.1197, -0.1246, -0.0678, -0.1648,  0.0621],\n",
              "                      [ 0.0905, -0.0553,  0.0225, -0.0968, -0.1603,  0.0812, -0.0415, -0.0588,\n",
              "                       -0.0053, -0.0876, -0.0008,  0.0604, -0.1276,  0.0214, -0.0443, -0.1620,\n",
              "                       -0.1644, -0.1145, -0.0684, -0.0978, -0.0939, -0.0719, -0.0244, -0.0545,\n",
              "                        0.1498,  0.0223, -0.0869,  0.0481,  0.0377,  0.0304, -0.0214, -0.0500],\n",
              "                      [-0.1099, -0.0047,  0.0645,  0.0682,  0.1264,  0.0830, -0.1229, -0.0550,\n",
              "                       -0.0341,  0.1040,  0.1528, -0.0976,  0.0028,  0.0096,  0.1508,  0.0454,\n",
              "                        0.0263,  0.0845,  0.0284,  0.0086,  0.0756,  0.0547,  0.1370, -0.0996,\n",
              "                        0.0232, -0.1389,  0.1392,  0.0078, -0.1340, -0.1312,  0.0034, -0.0817],\n",
              "                      [ 0.1057, -0.0021, -0.1200,  0.1333, -0.1623, -0.1333,  0.0220,  0.1049,\n",
              "                        0.0612, -0.0969,  0.1015, -0.1072, -0.0093,  0.1008,  0.1416,  0.1689,\n",
              "                        0.1378,  0.0578,  0.0718, -0.1172,  0.1676,  0.1052, -0.1669,  0.0640,\n",
              "                       -0.0843,  0.0534, -0.0905,  0.0352, -0.0696,  0.1148, -0.1262,  0.1440],\n",
              "                      [ 0.0622, -0.0303, -0.0354,  0.1114, -0.0689, -0.0988,  0.0089,  0.1671,\n",
              "                       -0.1464, -0.0262, -0.1005, -0.0251, -0.1670, -0.0589, -0.0808,  0.1654,\n",
              "                       -0.0762, -0.1721, -0.0453, -0.1140, -0.1422,  0.1542,  0.1726, -0.1108,\n",
              "                       -0.1268,  0.1348,  0.0046,  0.1054, -0.1479, -0.0386,  0.0112,  0.1007],\n",
              "                      [-0.1048, -0.0014, -0.0526,  0.0965, -0.1133, -0.1532,  0.1302,  0.1142,\n",
              "                        0.0429, -0.0711, -0.1452,  0.0735,  0.1543, -0.1038,  0.0211, -0.0562,\n",
              "                        0.1119, -0.0503,  0.1511, -0.0006, -0.1181,  0.0489, -0.0586,  0.0088,\n",
              "                        0.0397,  0.1028,  0.0698,  0.0371,  0.1037, -0.1494, -0.1658,  0.0115]],\n",
              "                     device='cuda:0')),\n",
              "             ('fc_layers.6.bias',\n",
              "              tensor([ 0.1242,  0.1723,  0.0089, -0.1223,  0.0427,  0.1362,  0.0750,  0.0383,\n",
              "                       0.1216, -0.1203], device='cuda:0'))])"
            ]
          },
          "metadata": {},
          "execution_count": 9
        }
      ]
    },
    {
      "cell_type": "code",
      "execution_count": 10,
      "metadata": {
        "id": "3w9QW9Lfp1aV",
        "colab": {
          "base_uri": "https://localhost:8080/"
        },
        "outputId": "9f7c7c0d-ef99-492d-8c8f-859be1ad5731"
      },
      "outputs": [
        {
          "output_type": "execute_result",
          "data": {
            "text/plain": [
              "LSTM_Model_label(\n",
              "  (lstm): LSTM(41, 64, num_layers=2, batch_first=True, dropout=0.5, bidirectional=True)\n",
              "  (fc_layers): Sequential(\n",
              "    (0): Linear(in_features=128, out_features=128, bias=True)\n",
              "    (1): Tanh()\n",
              "    (2): Linear(in_features=128, out_features=64, bias=True)\n",
              "    (3): ReLU()\n",
              "    (4): Linear(in_features=64, out_features=32, bias=True)\n",
              "    (5): Sigmoid()\n",
              "    (6): Linear(in_features=32, out_features=2, bias=True)\n",
              "  )\n",
              ")"
            ]
          },
          "metadata": {},
          "execution_count": 10
        }
      ],
      "source": [
        "my_model_label = LSTM_Model_label(num_classes_label, input_size, hidden_size, num_layers).to(device=device)\n",
        "my_model_label"
      ]
    },
    {
      "cell_type": "markdown",
      "metadata": {
        "id": "Cey1CId-jjis"
      },
      "source": [
        "# **optimizer and loss function**"
      ]
    },
    {
      "cell_type": "code",
      "execution_count": 11,
      "metadata": {
        "id": "WNuQFMAekNDH"
      },
      "outputs": [],
      "source": [
        "loss_fn1 = nn.CrossEntropyLoss().to(device=device)\n",
        "loss_fn2 = nn.CrossEntropyLoss().to(device=device)\n",
        "optimizer1 = opt.Adam(params=my_model_attack.parameters(),lr=learning_rate)\n",
        "optimizer2 = opt.Adam(params=my_model_label.parameters(),lr=learning_rate)"
      ]
    },
    {
      "cell_type": "code",
      "source": [
        "from sklearn.metrics import classification_report, confusion_matrix\n",
        "import itertools\n",
        "def plot_confusion_matrix(cm, classes,\n",
        "                          normalize=False,\n",
        "                          title='Confusion matrix',\n",
        "                          cmap=plt.cm.Greens):\n",
        "    \"\"\"\n",
        "    This function prints and plots the confusion matrix.\n",
        "    Normalization can be applied by setting `normalize=True`.\n",
        "    \"\"\"\n",
        "    if normalize:\n",
        "        cm = cm.astype('float') / cm.sum(axis=1)[:, np.newaxis]\n",
        "        print(\"Normalized confusion matrix\")\n",
        "    else:\n",
        "        print('Confusion matrix, without normalization')\n",
        "\n",
        "    print(cm)\n",
        "\n",
        "    plt.imshow(cm, interpolation='nearest', cmap=cmap)\n",
        "    plt.title(title)\n",
        "    plt.colorbar()\n",
        "    tick_marks = np.arange(len(classes))\n",
        "    plt.xticks(tick_marks, classes, rotation=45)\n",
        "    plt.yticks(tick_marks, classes)\n",
        "\n",
        "    fmt = '.2f' if normalize else 'd'\n",
        "    thresh = cm.max() / 2.\n",
        "    for i, j in itertools.product(range(cm.shape[0]), range(cm.shape[1])):\n",
        "        plt.text(j, i, format(cm[i, j], fmt),\n",
        "                 horizontalalignment=\"center\",\n",
        "                 color=\"white\" if cm[i, j] > thresh else \"black\")\n",
        "\n",
        "    plt.tight_layout()\n",
        "    plt.ylabel('True label')\n",
        "    plt.xlabel('Predicted label')\n",
        "# print(confusion_matrix(y_test, yhat, labels=[1,0]))"
      ],
      "metadata": {
        "id": "KarvZRUVOMlb"
      },
      "execution_count": 53,
      "outputs": []
    },
    {
      "cell_type": "markdown",
      "metadata": {
        "id": "4JYcovfYlpHM"
      },
      "source": [
        "# **train attack cat**"
      ]
    },
    {
      "cell_type": "code",
      "execution_count": 12,
      "metadata": {
        "id": "Qmw8w1eTkeBu",
        "colab": {
          "base_uri": "https://localhost:8080/",
          "height": 486
        },
        "outputId": "a0e061bc-3273-4216-9d78-129840ef7015"
      },
      "outputs": [
        {
          "output_type": "stream",
          "name": "stdout",
          "text": [
            "Epoch: 0, loss: 1.1481\n",
            "Epoch: 50, loss: 0.4891\n",
            "Epoch: 100, loss: 0.5325\n",
            "Epoch: 150, loss: 0.4320\n",
            "Epoch: 200, loss: 0.4570\n",
            "Epoch: 250, loss: 0.3767\n",
            "Epoch: 300, loss: 0.4345\n",
            "Epoch: 350, loss: 0.4605\n",
            "Epoch: 400, loss: 0.4497\n",
            "Epoch: 450, loss: 0.4261\n",
            "Epoch: 500, loss: 0.3976\n",
            "Execution Time : 1139711.6250\n"
          ]
        },
        {
          "output_type": "display_data",
          "data": {
            "text/plain": [
              "<Figure size 432x288 with 1 Axes>"
            ],
            "image/png": "[encoded data removed]"
          },
          "metadata": {
            "needs_background": "light"
          }
        }
      ],
      "source": [
        "start = torch.cuda.Event(enable_timing=True)\n",
        "end = torch.cuda.Event(enable_timing=True)\n",
        "\n",
        "start.record()\n",
        "\n",
        "loss_plot = list()\n",
        "\n",
        "for epoch in range(num_epoch+1):\n",
        "\n",
        "    for batch_x, batch_y in train_attack_cat_dataloader:\n",
        "\n",
        "        batch_x = torch.reshape(batch_x, (batch_x.shape[0], 1, batch_x.shape[1])) #RuntimeError: For unbatched 2-D input, hx and cx should also be 2-D but got (3-D, 3-D) tensors\n",
        "        \n",
        "        batch_x = batch_x.to(device)\n",
        "        batch_y = batch_y.to(device)\n",
        "\n",
        "        optimizer1.zero_grad()\n",
        "        loss1 = loss_fn1(my_model_attack(batch_x) , batch_y)\n",
        "        loss1.backward() \n",
        "        optimizer1.step()\n",
        "\n",
        "    if epoch % 50 == 0:\n",
        "         print(\"Epoch: %d, loss: %.4f\" % (epoch, loss1.item())) \n",
        "         loss_plot.append(loss1.item())         \n",
        "\n",
        "end.record()\n",
        "\n",
        "# Waits for everything to finish running\n",
        "torch.cuda.synchronize()\n",
        "\n",
        "print(\"Execution Time : %.4f\" % (start.elapsed_time(end)))\n",
        "\n",
        "plt.plot(range(len(loss_plot)),np.asarray(loss_plot))\n",
        "plt.show()"
      ]
    },
    {
      "cell_type": "markdown",
      "metadata": {
        "id": "PQaRCMJPls5N"
      },
      "source": [
        "# **test attack category with fake dataset**"
      ]
    },
    {
      "cell_type": "code",
      "execution_count": 69,
      "metadata": {
        "id": "QrtYzVT4loMQ",
        "colab": {
          "base_uri": "https://localhost:8080/"
        },
        "outputId": "9280dc2e-fabb-41a3-ecb3-d1a68696a6f5"
      },
      "outputs": [
        {
          "output_type": "stream",
          "name": "stdout",
          "text": [
            "acc : 65.65%\n"
          ]
        }
      ],
      "source": [
        "dataset_attack_cat = Fake_Real_DataSet_UNSWNB15_attack_cat(\"/content/drive/MyDrive/datasets/UNSW-NB15/fake_UNSW_NB15.csv\",\"/content/drive/MyDrive/datasets/UNSW-NB15/UNSW_NB15.csv\")\n",
        "number_of_test = int(len(dataset_attack_cat)*0.3)\n",
        "number_of_train = len(dataset_attack_cat) - int(len(dataset_attack_cat)*0.3)\n",
        "train_attack_cat ,test_attack_cat = random_split(dataset=dataset_attack_cat, lengths=[number_of_train,number_of_test])\n",
        "\n",
        "test_attack_cat_dataloader = DataLoader(dataset=test_attack_cat ,batch_size=batch_size ,shuffle=True)\n",
        "\n",
        "correct = 0\n",
        "y_test, yhat = list(), list()\n",
        "\n",
        "for batch_x, labl in test_attack_cat_dataloader:\n",
        "  \n",
        "    batch_x = torch.reshape(batch_x, (batch_x.shape[0], 1, batch_x.shape[1])) #RuntimeError: For unbatched 2-D input, hx and cx should also be 2-D but got (3-D, 3-D) tensors\n",
        "  \n",
        "    batch_x = batch_x.to(device)\n",
        "    labl = labl.to(device)\n",
        "\n",
        "    out = my_model_attack(batch_x)\n",
        "    _,predicted = torch.max(out,1)\n",
        "    correct += torch.sum(predicted == labl)\n",
        "\n",
        "    for i in labl.cpu().detach().numpy():\n",
        "        y_test.append(i)\n",
        "    for i in predicted.cpu().detach().numpy():\n",
        "        yhat.append(i)\n",
        "\n",
        "print(\"acc : %.2f\" % (100.*correct / len(test_attack_cat)),end=\"\")\n",
        "print(\"%\")"
      ]
    },
    {
      "cell_type": "code",
      "source": [
        "# Compute confusion matrix\n",
        "cnf_matrix = confusion_matrix(y_test, yhat, labels=[11,9,8,7,6,5,4,3,2,1,0])\n",
        "np.set_printoptions(precision=2)\n",
        "\n",
        "\n",
        "# Plot non-normalized confusion matrix\n",
        "plt.figure(figsize=(20,10))\n",
        "plot_confusion_matrix(cnf_matrix, classes=['fake','Worms','Shellcode','Reconnaissance','Normal','Generic','Fuzzers','Exploits','DoS','Backdoor','Analysis'],normalize= False,  title='Confusion matrix')"
      ],
      "metadata": {
        "colab": {
          "base_uri": "https://localhost:8080/",
          "height": 964
        },
        "id": "RctvVDw6WKgh",
        "outputId": "135e233e-eb43-4fba-b4be-cc2629f39d64"
      },
      "execution_count": 70,
      "outputs": [
        {
          "output_type": "stream",
          "name": "stdout",
          "text": [
            "Confusion matrix, without normalization\n",
            "[[    0     0     1   299  5157     3    51  1849   154     4     0]\n",
            " [    0     5     0     0     1     9     7    23     6     0     0]\n",
            " [    0     0    22    11    17    42   138   215     9     0     0]\n",
            " [    0     0    50    37   244    15   579  3136    48     3     0]\n",
            " [    0     0     2     7 22056   305  3890  1368   128     4    11]\n",
            " [    0     0     1     3    11 17428    81   247    44     1     0]\n",
            " [    0     0     5    11  1073   338  4578  1298   119     1     1]\n",
            " [    0     2     7    19   210   252  1191 11212   312    11     2]\n",
            " [    0     0     9     2    54    62   307  4247   292     5     1]\n",
            " [    0     0     0     1    13     6   145   481    12    14     0]\n",
            " [    0     0     0     0    61     4   121   553    15     0    32]]\n"
          ]
        },
        {
          "output_type": "display_data",
          "data": {
            "text/plain": [
              "<Figure size 1440x720 with 2 Axes>"
            ],
            "image/png": "[encoded data removed]"
          },
          "metadata": {
            "needs_background": "light"
          }
        }
      ]
    },
    {
      "cell_type": "code",
      "source": [
        "print (classification_report(y_test, yhat))"
      ],
      "metadata": {
        "colab": {
          "base_uri": "https://localhost:8080/"
        },
        "id": "RN3NrCqTWM-_",
        "outputId": "092410ce-ae36-4a14-ee07-2120fadbeff5"
      },
      "execution_count": 71,
      "outputs": [
        {
          "output_type": "stream",
          "name": "stdout",
          "text": [
            "              precision    recall  f1-score   support\n",
            "\n",
            "           0       0.68      0.04      0.08       786\n",
            "           1       0.33      0.02      0.04       672\n",
            "           2       0.26      0.06      0.10      4979\n",
            "           3       0.46      0.85      0.59     13218\n",
            "           4       0.41      0.62      0.49      7424\n",
            "           5       0.94      0.98      0.96     17816\n",
            "           6       0.76      0.79      0.78     27771\n",
            "           7       0.09      0.01      0.02      4112\n",
            "           8       0.23      0.05      0.08       454\n",
            "           9       0.71      0.10      0.17        51\n",
            "          11       0.00      0.00      0.00      7518\n",
            "\n",
            "    accuracy                           0.66     84801\n",
            "   macro avg       0.44      0.32      0.30     84801\n",
            "weighted avg       0.59      0.66      0.60     84801\n",
            "\n"
          ]
        },
        {
          "output_type": "stream",
          "name": "stderr",
          "text": [
            "/usr/local/lib/python3.7/dist-packages/sklearn/metrics/_classification.py:1318: UndefinedMetricWarning: Precision and F-score are ill-defined and being set to 0.0 in labels with no predicted samples. Use `zero_division` parameter to control this behavior.\n",
            "  _warn_prf(average, modifier, msg_start, len(result))\n",
            "/usr/local/lib/python3.7/dist-packages/sklearn/metrics/_classification.py:1318: UndefinedMetricWarning: Precision and F-score are ill-defined and being set to 0.0 in labels with no predicted samples. Use `zero_division` parameter to control this behavior.\n",
            "  _warn_prf(average, modifier, msg_start, len(result))\n",
            "/usr/local/lib/python3.7/dist-packages/sklearn/metrics/_classification.py:1318: UndefinedMetricWarning: Precision and F-score are ill-defined and being set to 0.0 in labels with no predicted samples. Use `zero_division` parameter to control this behavior.\n",
            "  _warn_prf(average, modifier, msg_start, len(result))\n"
          ]
        }
      ]
    },
    {
      "cell_type": "markdown",
      "metadata": {
        "id": "pLqOLtA6tQht"
      },
      "source": [
        "# **train label**"
      ]
    },
    {
      "cell_type": "code",
      "execution_count": 14,
      "metadata": {
        "id": "Xm1cu1GhtMJO",
        "colab": {
          "base_uri": "https://localhost:8080/",
          "height": 486
        },
        "outputId": "1d126432-269d-48fe-e17a-bd87bbae327c"
      },
      "outputs": [
        {
          "output_type": "stream",
          "name": "stdout",
          "text": [
            "Epoch: 0, loss: 0.2756\n",
            "Epoch: 50, loss: 0.1395\n",
            "Epoch: 100, loss: 0.1326\n",
            "Epoch: 150, loss: 0.1126\n",
            "Epoch: 200, loss: 0.1084\n",
            "Epoch: 250, loss: 0.1036\n",
            "Epoch: 300, loss: 0.0925\n",
            "Epoch: 350, loss: 0.1176\n",
            "Epoch: 400, loss: 0.1105\n",
            "Epoch: 450, loss: 0.0789\n",
            "Epoch: 500, loss: 0.1066\n",
            "Execution Time : 1196819.7500\n"
          ]
        },
        {
          "output_type": "display_data",
          "data": {
            "text/plain": [
              "<Figure size 432x288 with 1 Axes>"
            ],
            "image/png": "[encoded data removed]"
          },
          "metadata": {
            "needs_background": "light"
          }
        }
      ],
      "source": [
        "start = torch.cuda.Event(enable_timing=True)\n",
        "end = torch.cuda.Event(enable_timing=True)\n",
        "\n",
        "start.record()\n",
        "\n",
        "loss_plot = list()\n",
        "\n",
        "for epoch in range(num_epoch+1):\n",
        "\n",
        "    for batch_x, batch_y in train_label_dataloader:\n",
        "\n",
        "        batch_x = torch.reshape(batch_x, (batch_x.shape[0], 1, batch_x.shape[1])) #RuntimeError: For unbatched 2-D input, hx and cx should also be 2-D but got (3-D, 3-D) tensors\n",
        "        \n",
        "        batch_x = batch_x.to(device)\n",
        "        batch_y = batch_y.to(device)\n",
        "\n",
        "        optimizer2.zero_grad()\n",
        "        loss2 = loss_fn2(my_model_label(batch_x) , batch_y)\n",
        "        loss2.backward() \n",
        "        optimizer2.step()\n",
        "\n",
        "    if epoch % 50 == 0:\n",
        "         print(\"Epoch: %d, loss: %.4f\" % (epoch, loss2.item())) \n",
        "         loss_plot.append(loss2.item())         \n",
        "\n",
        "end.record()\n",
        "\n",
        "# Waits for everything to finish running\n",
        "torch.cuda.synchronize()\n",
        "\n",
        "print(\"Execution Time : %.4f\" % (start.elapsed_time(end)))\n",
        "\n",
        "plt.plot(range(len(loss_plot)),np.asarray(loss_plot))\n",
        "plt.show()"
      ]
    },
    {
      "cell_type": "markdown",
      "metadata": {
        "id": "Ig7VBqU0tfZd"
      },
      "source": [
        "# **test label**"
      ]
    },
    {
      "cell_type": "code",
      "execution_count": 65,
      "metadata": {
        "id": "a7u2bQ0WtiG2",
        "colab": {
          "base_uri": "https://localhost:8080/"
        },
        "outputId": "46ce6406-7d4a-40b3-b49f-b5d6001e72fa"
      },
      "outputs": [
        {
          "output_type": "stream",
          "name": "stdout",
          "text": [
            "acc : 85.05%\n"
          ]
        }
      ],
      "source": [
        "dataset_label = Fake_Real_DataSet_UNSWNB15_label(\"/content/drive/MyDrive/datasets/UNSW-NB15/fake_UNSW_NB15.csv\",\"/content/drive/MyDrive/datasets/UNSW-NB15/UNSW_NB15.csv\")\n",
        "number_of_test = int(len(dataset_label)*0.3)\n",
        "number_of_train = len(dataset_label) - int(len(dataset_label)*0.3)\n",
        "train_label ,test_label = random_split(dataset=dataset_label, lengths=[number_of_train,number_of_test])\n",
        "\n",
        "test_label_dataloader = DataLoader(dataset=test_label ,batch_size=batch_size ,shuffle=True)\n",
        "\n",
        "correct = 0\n",
        "y_test, yhat = list(), list()\n",
        "\n",
        "for batch_x, labl in test_label_dataloader:\n",
        "\n",
        "    batch_x = torch.reshape(batch_x, (batch_x.shape[0], 1, batch_x.shape[1])) #RuntimeError: For unbatched 2-D input, hx and cx should also be 2-D but got (3-D, 3-D) tensors\n",
        "\n",
        "    batch_x = batch_x.to(device)\n",
        "    labl = labl.to(device)\n",
        "  \n",
        "    out = my_model_label(batch_x)\n",
        "    _,predicted = torch.max(out,1)\n",
        "    correct += torch.sum(predicted == labl)\n",
        "\n",
        "    for i in labl.cpu().detach().numpy():\n",
        "        y_test.append(i)\n",
        "    for i in predicted.cpu().detach().numpy():\n",
        "        yhat.append(i)\n",
        "\n",
        "print(\"acc : %.2f\" % (100.*correct / len(test_label)),end=\"\")\n",
        "print(\"%\")"
      ]
    },
    {
      "cell_type": "markdown",
      "source": [
        "# **confusion matrix**"
      ],
      "metadata": {
        "id": "Qby-V7q9Qxql"
      }
    },
    {
      "cell_type": "code",
      "source": [
        "# Compute confusion matrix\n",
        "cnf_matrix = confusion_matrix(y_test, yhat, labels=[1,0])\n",
        "np.set_printoptions(precision=2)\n",
        "\n",
        "\n",
        "# Plot non-normalized confusion matrix\n",
        "plt.figure()\n",
        "plot_confusion_matrix(cnf_matrix, classes=['attack=1','attack=0'],normalize= False,  title='Confusion matrix')"
      ],
      "metadata": {
        "colab": {
          "base_uri": "https://localhost:8080/",
          "height": 366
        },
        "id": "JqwR-1mQOTH3",
        "outputId": "741e36d5-0ec8-48e7-d10a-f58a760b1e8c"
      },
      "execution_count": 54,
      "outputs": [
        {
          "output_type": "stream",
          "name": "stdout",
          "text": [
            "Confusion matrix, without normalization\n",
            "[[49551  7393]\n",
            " [ 5431 22426]]\n"
          ]
        },
        {
          "output_type": "display_data",
          "data": {
            "text/plain": [
              "<Figure size 432x288 with 2 Axes>"
            ],
            "image/png": "[encoded data removed]"
          },
          "metadata": {
            "needs_background": "light"
          }
        }
      ]
    },
    {
      "cell_type": "code",
      "source": [
        "print (classification_report(y_test, yhat))"
      ],
      "metadata": {
        "colab": {
          "base_uri": "https://localhost:8080/"
        },
        "id": "jVZl4SHkQt7Z",
        "outputId": "104c44c4-06bb-428f-c696-43d59881fc82"
      },
      "execution_count": 55,
      "outputs": [
        {
          "output_type": "stream",
          "name": "stdout",
          "text": [
            "              precision    recall  f1-score   support\n",
            "\n",
            "           0       0.75      0.81      0.78     27857\n",
            "           1       0.90      0.87      0.89     56944\n",
            "\n",
            "    accuracy                           0.85     84801\n",
            "   macro avg       0.83      0.84      0.83     84801\n",
            "weighted avg       0.85      0.85      0.85     84801\n",
            "\n"
          ]
        }
      ]
    }
  ],
  "metadata": {
    "accelerator": "GPU",
    "colab": {
      "collapsed_sections": [],
      "provenance": []
    },
    "gpuClass": "standard",
    "kernelspec": {
      "display_name": "Python 3",
      "name": "python3"
    },
    "language_info": {
      "name": "python"
    }
  },
  "nbformat": 4,
  "nbformat_minor": 0
}