{
  "cells": [
    {
      "cell_type": "code",
      "execution_count": null,
      "metadata": {
        "id": "Ff1b4PxtBQuc"
      },
      "outputs": [],
      "source": [
        "num_epoch = 500      \n",
        "learning_rate = 0.002\n",
        "batch_size = 1000\n",
        "\n",
        "hidden_size = 16 #number of features in hidden state\n",
        "num_layers = 3  #number of stacked lstm layers\n",
        "bidirectional = True\n",
        "drop_out = 0\n",
        "bidirectional_forward_backward = 2 if bidirectional else 1\n",
        "\n",
        "input_size = 41 #number of features\n",
        "num_classes_attack_cat = 10 #number of output classes \n",
        "num_classes_label = 2       #number of output classes "
      ]
    },
    {
      "cell_type": "code",
      "source": [
        "from google.colab import drive\n",
        "drive.mount('/content/drive')"
      ],
      "metadata": {
        "colab": {
          "base_uri": "https://localhost:8080/"
        },
        "id": "0Gua0hky6SDJ",
        "outputId": "810ee8d1-5276-42dd-8277-04e31a8c8998"
      },
      "execution_count": null,
      "outputs": [
        {
          "output_type": "stream",
          "name": "stdout",
          "text": [
            "Mounted at /content/drive\n"
          ]
        }
      ]
    },
    {
      "cell_type": "code",
      "execution_count": null,
      "metadata": {
        "id": "hZiaj4uT24DH",
        "colab": {
          "base_uri": "https://localhost:8080/"
        },
        "outputId": "cc10f121-1d17-49e5-963d-e383adcae058"
      },
      "outputs": [
        {
          "output_type": "stream",
          "name": "stdout",
          "text": [
            "GPU\n"
          ]
        }
      ],
      "source": [
        "import pandas as pd\n",
        "from matplotlib import pyplot as plt\n",
        "import numpy as np\n",
        "from torch.utils.data.dataset import Dataset\n",
        "from torch.utils.data import random_split, DataLoader\n",
        "import torch\n",
        "from sklearn.preprocessing import LabelEncoder\n",
        "from sklearn import preprocessing\n",
        "import torch.nn as nn\n",
        "import torch.nn.functional as F\n",
        "import torch.optim as opt\n",
        "from torch.autograd import Variable \n",
        "\n",
        "# GPU OR CPU\n",
        "if torch.cuda.is_available():\n",
        "    device = torch.device(\"cuda:0\")\n",
        "    print(\"GPU\")\n",
        "else:\n",
        "    device = torch.device(\"cpu\")\n",
        "    print(\"CPU\")"
      ]
    },
    {
      "cell_type": "code",
      "execution_count": null,
      "metadata": {
        "id": "Sv-R_m6Z1EL5"
      },
      "outputs": [],
      "source": [
        "class Fake_Real_DataSet_UNSWNB15_attack_cat(Dataset):\n",
        "\n",
        "    def __init__(self,data_set_path1,data_set_path2):\n",
        "        df1 = pd.read_csv(data_set_path1)\n",
        "\n",
        "        # preprocceing\n",
        "        df1.drop([\"label\"], axis=1, inplace=True)\n",
        "\n",
        "        #----------------------\n",
        "        df2 = pd.read_csv(data_set_path2)\n",
        "        \n",
        "        # preprocceing\n",
        "        df2.drop(['id',\"Unnamed: 0\",\"service\",\"label\"], axis=1, inplace=True)        \n",
        "        cols = ['attack_cat' ,'proto' ,'state']\n",
        "        df2[cols] = df2[cols].apply(LabelEncoder().fit_transform)\n",
        "\n",
        "        df_all_rows = pd.concat([df1, df2])\n",
        "\n",
        "        self.data_array = df_all_rows.values\n",
        "        self.x = self.data_array[:, :41]\n",
        "        self.y = self.data_array[:, 41]\n",
        "      \n",
        "        # normalaized data\n",
        "        scaler = preprocessing.StandardScaler().fit(self.x)\n",
        "        self.x = scaler.transform(self.x)\n",
        "\n",
        "        self.x = torch.tensor(self.x).float()\n",
        "        self.y = torch.tensor(self.y).long()\n",
        "\n",
        "    def __len__(self):\n",
        "        return len(self.data_array)\n",
        "\n",
        "    def __getitem__(self, item):\n",
        "        sample = (self.x[item, :], self.y[item])\n",
        "        return sample\n",
        "\n",
        "class Fake_Real_DataSet_UNSWNB15_label(Dataset):\n",
        "\n",
        "    def __init__(self,data_set_path1,data_set_path2):\n",
        "        df1 = pd.read_csv(data_set_path1)\n",
        "\n",
        "        # preprocceing\n",
        "        df1.drop([\"attack_cat\"], axis=1, inplace=True)\n",
        "\n",
        "        #----------------------\n",
        "        df2 = pd.read_csv(data_set_path2)\n",
        "        \n",
        "        # preprocceing\n",
        "        df2.drop(['id',\"Unnamed: 0\",\"service\",\"attack_cat\"], axis=1, inplace=True)        \n",
        "        cols = ['proto' ,'state']\n",
        "        df2[cols] = df2[cols].apply(LabelEncoder().fit_transform)\n",
        "\n",
        "        df_all_rows = pd.concat([df1, df2])\n",
        "\n",
        "        self.data_array = df_all_rows.values\n",
        "        self.x = self.data_array[:, :41]\n",
        "        self.y = self.data_array[:, 41]\n",
        "      \n",
        "        # normalaized data\n",
        "        scaler = preprocessing.StandardScaler().fit(self.x)\n",
        "        self.x = scaler.transform(self.x)\n",
        "\n",
        "        self.x = torch.tensor(self.x).float()\n",
        "        self.y = torch.tensor(self.y).long()\n",
        "\n",
        "    def __len__(self):\n",
        "        return len(self.data_array)\n",
        "\n",
        "    def __getitem__(self, item):\n",
        "        sample = (self.x[item, :], self.y[item])\n",
        "        return sample\n",
        "\n",
        "class DataSet_UNSWNB15_attack_cat(Dataset):\n",
        "\n",
        "    def __init__(self,data_set_path):\n",
        "        df = pd.read_csv(data_set_path)\n",
        "        print(df.attack_cat.value_counts().sort_values().plot(kind = \"barh\"))\n",
        "        print(df['attack_cat'].value_counts())\n",
        "\n",
        "        # preprocceing\n",
        "        df.drop(['id',\"Unnamed: 0\",\"service\",\"label\"], axis=1, inplace=True)        \n",
        "        cols = ['attack_cat' ,'proto' ,'state']\n",
        "        df[cols] = df[cols].apply(LabelEncoder().fit_transform)\n",
        "        print(df['attack_cat'].value_counts())\n",
        "\n",
        "        self.data_array = df.values\n",
        "        self.x = self.data_array[:, :41]\n",
        "        self.y = self.data_array[:, 41]\n",
        "      \n",
        "        # normalaized data\n",
        "        scaler = preprocessing.StandardScaler().fit(self.x)\n",
        "        self.x = scaler.transform(self.x)\n",
        "\n",
        "        self.x = torch.tensor(self.x).float()\n",
        "        self.y = torch.tensor(self.y).long()\n",
        "\n",
        "    def __len__(self):\n",
        "        return len(self.data_array)\n",
        "\n",
        "    def __getitem__(self, item):\n",
        "        sample = (self.x[item, :], self.y[item])\n",
        "        return sample\n",
        "\n",
        "        \n",
        "class DataSet_UNSWNB15_label(Dataset):\n",
        "\n",
        "    def __init__(self,data_set_path):\n",
        "        df = pd.read_csv(data_set_path)\n",
        "        print(df.label.value_counts().sort_values().plot(kind = \"pie\"))\n",
        "\n",
        "        # preprocceing\n",
        "        df.drop(['id',\"Unnamed: 0\",\"service\",\"attack_cat\"], axis=1, inplace=True)\n",
        "        cols = ['proto' ,'state']\n",
        "        df[cols] = df[cols].apply(LabelEncoder().fit_transform)\n",
        "\n",
        "        self.data_array = df.values\n",
        "        self.x = self.data_array[:, :41]\n",
        "        self.y = self.data_array[:, 41]\n",
        "        \n",
        "        # normalaized data\n",
        "        scaler = preprocessing.StandardScaler().fit(self.x)\n",
        "        self.x = scaler.transform(self.x)\n",
        "\n",
        "        self.x = torch.tensor(self.x).float()\n",
        "        self.y = torch.tensor(self.y).long()\n",
        "\n",
        "    def __len__(self):\n",
        "        return len(self.data_array)\n",
        "\n",
        "    def __getitem__(self, item):\n",
        "        sample = (self.x[item, :], self.y[item])\n",
        "        return sample"
      ]
    },
    {
      "cell_type": "code",
      "execution_count": null,
      "metadata": {
        "id": "UykLrbQZ1R7K",
        "colab": {
          "base_uri": "https://localhost:8080/",
          "height": 689
        },
        "outputId": "abfbd2de-93c0-4028-e4ca-353f26fa4934"
      },
      "outputs": [
        {
          "output_type": "stream",
          "name": "stdout",
          "text": [
            "AxesSubplot(0.125,0.125;0.775x0.755)\n",
            "Normal            93000\n",
            "Generic           58871\n",
            "Exploits          44525\n",
            "Fuzzers           24246\n",
            "DoS               16353\n",
            "Reconnaissance    13987\n",
            "Analysis           2677\n",
            "Backdoor           2329\n",
            "Shellcode          1511\n",
            "Worms               174\n",
            "Name: attack_cat, dtype: int64\n",
            "6    93000\n",
            "5    58871\n",
            "3    44525\n",
            "4    24246\n",
            "2    16353\n",
            "7    13987\n",
            "0     2677\n",
            "1     2329\n",
            "8     1511\n",
            "9      174\n",
            "Name: attack_cat, dtype: int64\n"
          ]
        },
        {
          "output_type": "display_data",
          "data": {
            "text/plain": [
              "<Figure size 432x288 with 1 Axes>"
            ],
            "image/png": "[encoded data removed]"
          },
          "metadata": {
            "needs_background": "light"
          }
        }
      ],
      "source": [
        "dataset_attack_cat = DataSet_UNSWNB15_attack_cat(\"/content/drive/MyDrive/datasets/UNSW-NB15/UNSW_NB15.csv\")\n",
        "number_of_test = int(len(dataset_attack_cat)*0.3)\n",
        "number_of_train = len(dataset_attack_cat) - int(len(dataset_attack_cat)*0.3)\n",
        "train_attack_cat ,test_attack_cat = random_split(dataset=dataset_attack_cat, lengths=[number_of_train,number_of_test])\n",
        "\n",
        "train_attack_cat_dataloader = DataLoader(dataset=train_attack_cat ,batch_size=batch_size ,shuffle=True)\n",
        "test_attack_cat_dataloader = DataLoader(dataset=test_attack_cat ,batch_size=batch_size ,shuffle=True)"
      ]
    },
    {
      "cell_type": "code",
      "execution_count": null,
      "metadata": {
        "id": "LmFY9Q-u29T3",
        "colab": {
          "base_uri": "https://localhost:8080/",
          "height": 266
        },
        "outputId": "0e317df5-4091-4494-e13e-672e6d634c78"
      },
      "outputs": [
        {
          "output_type": "stream",
          "name": "stdout",
          "text": [
            "AxesSubplot(0.260833,0.125;0.503333x0.755)\n"
          ]
        },
        {
          "output_type": "display_data",
          "data": {
            "text/plain": [
              "<Figure size 432x288 with 1 Axes>"
            ],
            "image/png": "[encoded data removed]"
          },
          "metadata": {}
        }
      ],
      "source": [
        "dataset_label = DataSet_UNSWNB15_label(\"/content/drive/MyDrive/datasets/UNSW-NB15/UNSW_NB15.csv\")\n",
        "number_of_test = int(len(dataset_label)*0.3)\n",
        "number_of_train = len(dataset_label) - int(len(dataset_label)*0.3)\n",
        "train_label ,test_label = random_split(dataset=dataset_label, lengths=[number_of_train,number_of_test])\n",
        "\n",
        "train_label_dataloader = DataLoader(dataset=train_label ,batch_size=batch_size ,shuffle=True)\n",
        "test_label_dataloader = DataLoader(dataset=test_label ,batch_size=batch_size ,shuffle=True)"
      ]
    },
    {
      "cell_type": "markdown",
      "metadata": {
        "id": "0HslPLv2IOGd"
      },
      "source": [
        "# **preprocessing ended**\n",
        "\n",
        "# **create model**"
      ]
    },
    {
      "cell_type": "markdown",
      "source": [
        "![bilstm-1.webp](data:image/webp;base64,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)"
      ],
      "metadata": {
        "id": "F2hNvBs6qBQS"
      }
    },
    {
      "cell_type": "code",
      "execution_count": null,
      "metadata": {
        "id": "oN6DuQbJibuE"
      },
      "outputs": [],
      "source": [
        "class LSTM_Model_attack(nn.Module):\n",
        "    def __init__(self, num_classes, input_size, hidden_size, num_layers):\n",
        "        super(LSTM_Model_attack, self).__init__()\n",
        "        self.num_classes = num_classes #number of classes\n",
        "        self.num_layers = num_layers #number of layers\n",
        "        self.input_size = input_size #input size\n",
        "        self.hidden_size = hidden_size #hidden state\n",
        "\n",
        "        self.lstm = nn.LSTM(input_size=input_size, hidden_size=hidden_size, num_layers=num_layers, batch_first=True,\n",
        "                            bidirectional=bidirectional, dropout=drop_out) #lstm\n",
        "\n",
        "        self.fc = nn.Linear(hidden_size * bidirectional_forward_backward, num_classes) #fully connected last layer\n",
        "                             # 2 => forward and backward for bidirectional\n",
        "    \n",
        "    def forward(self,x):\n",
        "                                                # 2 => forward and backward for bidirectional\n",
        "        h_0 = Variable(torch.zeros(self.num_layers * bidirectional_forward_backward, x.size(0), self.hidden_size)).to(device=device) #hidden state\n",
        "        c_0 = Variable(torch.zeros(self.num_layers * bidirectional_forward_backward, x.size(0), self.hidden_size)).to(device=device) #internal state\n",
        "\n",
        "        out, (hn, cn) = self.lstm(x, (h_0, c_0))\n",
        "        out = self.fc(out[:, -1, :]) \n",
        "        return out\n",
        "\n",
        "\n",
        "class LSTM_Model_label(nn.Module):\n",
        "    def __init__(self, num_classes, input_size, hidden_size, num_layers):\n",
        "        super(LSTM_Model_label, self).__init__()\n",
        "        self.num_classes = num_classes #number of classes\n",
        "        self.num_layers = num_layers #number of layers\n",
        "        self.input_size = input_size #input size\n",
        "        self.hidden_size = hidden_size #hidden state\n",
        "\n",
        "        self.lstm = nn.LSTM(input_size=input_size, hidden_size=hidden_size, num_layers=num_layers, batch_first=True, \n",
        "                            bidirectional=bidirectional, dropout=drop_out) #lstm\n",
        "\n",
        "        self.fc = nn.Linear(hidden_size * bidirectional_forward_backward, num_classes) #fully connected last layer\n",
        "\n",
        "    \n",
        "    def forward(self,x):\n",
        "        h_0 = Variable(torch.zeros(self.num_layers * bidirectional_forward_backward, x.size(0), self.hidden_size)).to(device=device) #hidden state\n",
        "        c_0 = Variable(torch.zeros(self.num_layers * bidirectional_forward_backward, x.size(0), self.hidden_size)).to(device=device) #internal state\n",
        "\n",
        "        out, (hn, cn) = self.lstm(x, (h_0, c_0))\n",
        "        out = self.fc(out[:, -1, :]) \n",
        "        return out\n"
      ]
    },
    {
      "cell_type": "code",
      "execution_count": null,
      "metadata": {
        "id": "US8JfNI8j3zO",
        "colab": {
          "base_uri": "https://localhost:8080/"
        },
        "outputId": "91ed7509-934e-410b-968d-130403a0eb93"
      },
      "outputs": [
        {
          "output_type": "execute_result",
          "data": {
            "text/plain": [
              "LSTM_Model_attack(\n",
              "  (lstm): LSTM(41, 16, num_layers=3, batch_first=True, bidirectional=True)\n",
              "  (fc): Linear(in_features=32, out_features=10, bias=True)\n",
              ")"
            ]
          },
          "metadata": {},
          "execution_count": 8
        }
      ],
      "source": [
        "my_model_attack = LSTM_Model_attack(num_classes_attack_cat, input_size, hidden_size, num_layers).to(device=device)\n",
        "my_model_attack"
      ]
    },
    {
      "cell_type": "code",
      "source": [
        "my_model_attack.state_dict()"
      ],
      "metadata": {
        "id": "Dq8JkQZ9ukCs",
        "colab": {
          "base_uri": "https://localhost:8080/"
        },
        "outputId": "648e03e4-f6bc-4ba4-8ceb-bb5ea75d457f"
      },
      "execution_count": null,
      "outputs": [
        {
          "output_type": "execute_result",
          "data": {
            "text/plain": [
              "OrderedDict([('lstm.weight_ih_l0',\n",
              "              tensor([[-0.0874,  0.0329,  0.1656,  ..., -0.2100,  0.0423, -0.1484],\n",
              "                      [ 0.0521, -0.2451, -0.1576,  ..., -0.0942,  0.0618, -0.1335],\n",
              "                      [ 0.2243, -0.2233,  0.1480,  ...,  0.0353, -0.1245,  0.0245],\n",
              "                      ...,\n",
              "                      [ 0.0255, -0.1743, -0.0447,  ..., -0.2006, -0.2159, -0.1908],\n",
              "                      [-0.1483,  0.0684,  0.0883,  ...,  0.1314,  0.0772,  0.0387],\n",
              "                      [ 0.0275, -0.2424,  0.0092,  ..., -0.0503, -0.1650, -0.1742]],\n",
              "                     device='cuda:0')),\n",
              "             ('lstm.weight_hh_l0',\n",
              "              tensor([[ 0.0414, -0.0310,  0.0704,  ..., -0.0471, -0.0253, -0.0551],\n",
              "                      [ 0.0924, -0.1937, -0.1334,  ..., -0.1406,  0.1324, -0.1083],\n",
              "                      [ 0.1190,  0.1694,  0.0048,  ..., -0.2279,  0.1110, -0.1136],\n",
              "                      ...,\n",
              "                      [ 0.1921,  0.0143, -0.2009,  ..., -0.0797, -0.1991,  0.0544],\n",
              "                      [ 0.1301,  0.0575,  0.2051,  ...,  0.0588, -0.2088,  0.0982],\n",
              "                      [ 0.0190, -0.0523, -0.2247,  ..., -0.0815,  0.0573,  0.0046]],\n",
              "                     device='cuda:0')),\n",
              "             ('lstm.bias_ih_l0',\n",
              "              tensor([-0.0704,  0.0235,  0.2009,  0.0381,  0.1530, -0.1790,  0.2474, -0.0859,\n",
              "                       0.1563, -0.1929,  0.1518,  0.2218, -0.0271, -0.1986,  0.2169, -0.0018,\n",
              "                      -0.0585,  0.1559, -0.1964, -0.0136, -0.1010,  0.1913, -0.0402,  0.1691,\n",
              "                       0.0347,  0.1816,  0.0501,  0.2109, -0.0063, -0.0535,  0.0872, -0.2058,\n",
              "                      -0.1820,  0.0384, -0.1879,  0.1623, -0.0570,  0.0225,  0.0347, -0.1923,\n",
              "                      -0.1273, -0.0938, -0.1360,  0.0704, -0.0829, -0.1578,  0.2135, -0.1034,\n",
              "                      -0.0082,  0.0048,  0.0501,  0.1300,  0.0057,  0.2461, -0.1226,  0.2373,\n",
              "                       0.0869, -0.1981,  0.0114,  0.0863, -0.1580,  0.1443, -0.0794,  0.1705],\n",
              "                     device='cuda:0')),\n",
              "             ('lstm.bias_hh_l0',\n",
              "              tensor([-0.1380,  0.1533,  0.1503,  0.0515,  0.0596, -0.2217,  0.1771, -0.2298,\n",
              "                      -0.0302,  0.2335, -0.1562, -0.2317,  0.2164, -0.1265,  0.1441,  0.1689,\n",
              "                       0.1999, -0.1605,  0.0682,  0.0014, -0.1406,  0.0446, -0.1044,  0.1757,\n",
              "                      -0.1826,  0.0032, -0.1074, -0.0320, -0.1652,  0.0990,  0.1166, -0.2127,\n",
              "                      -0.0727, -0.0032,  0.0100, -0.1576,  0.1507, -0.2472,  0.0926, -0.2032,\n",
              "                      -0.1968,  0.0273, -0.0377,  0.0550,  0.1968, -0.0911,  0.0435,  0.0076,\n",
              "                      -0.2238, -0.0993,  0.0790, -0.1020, -0.1186,  0.0665, -0.1186, -0.1836,\n",
              "                      -0.1097,  0.0722,  0.0118, -0.1398, -0.0328, -0.1416, -0.0005, -0.0707],\n",
              "                     device='cuda:0')),\n",
              "             ('lstm.weight_ih_l0_reverse',\n",
              "              tensor([[ 2.0384e-01,  1.7380e-01,  3.9587e-02,  ..., -9.6377e-02,\n",
              "                       -1.1897e-01, -1.6407e-01],\n",
              "                      [ 2.0278e-01,  1.9566e-01, -1.5335e-01,  ...,  3.3470e-02,\n",
              "                        9.7252e-02,  2.4420e-02],\n",
              "                      [-7.2288e-02, -1.2365e-01,  1.2077e-01,  ...,  1.2541e-01,\n",
              "                        3.7163e-02, -1.3858e-01],\n",
              "                      ...,\n",
              "                      [ 1.5407e-01,  6.3329e-02,  6.4454e-02,  ...,  3.8915e-02,\n",
              "                        5.1392e-02,  6.6331e-02],\n",
              "                      [-1.2666e-01, -1.7655e-01,  1.9271e-01,  ...,  1.1759e-01,\n",
              "                        1.3066e-01, -2.4484e-01],\n",
              "                      [-2.2054e-05,  1.8634e-01, -2.0011e-01,  ...,  9.8818e-02,\n",
              "                       -1.7515e-02, -1.7609e-01]], device='cuda:0')),\n",
              "             ('lstm.weight_hh_l0_reverse',\n",
              "              tensor([[-0.2070,  0.1028, -0.2058,  ..., -0.2367, -0.0065, -0.0273],\n",
              "                      [ 0.0840,  0.2376,  0.0642,  ..., -0.0752,  0.0450,  0.1531],\n",
              "                      [ 0.1387,  0.1665,  0.2080,  ..., -0.0882,  0.2007,  0.2486],\n",
              "                      ...,\n",
              "                      [-0.0112,  0.1179,  0.2444,  ...,  0.2255, -0.0687,  0.1395],\n",
              "                      [-0.1313, -0.0967,  0.0193,  ...,  0.1584,  0.1419,  0.0660],\n",
              "                      [-0.1951, -0.2358, -0.1101,  ...,  0.0770,  0.0851, -0.1824]],\n",
              "                     device='cuda:0')),\n",
              "             ('lstm.bias_ih_l0_reverse',\n",
              "              tensor([-0.1538, -0.0870,  0.1341,  0.1238,  0.1160,  0.0608, -0.0890,  0.2472,\n",
              "                      -0.1151, -0.0683,  0.0563,  0.1132,  0.0667,  0.0745,  0.1596, -0.0529,\n",
              "                      -0.1850, -0.0542, -0.1865, -0.0503, -0.1347,  0.1016,  0.1460,  0.0544,\n",
              "                      -0.1897,  0.0017, -0.1053, -0.1806, -0.2495, -0.0253, -0.2444,  0.2048,\n",
              "                      -0.2319, -0.0857,  0.0722, -0.0058, -0.2159,  0.1213,  0.0841, -0.2102,\n",
              "                      -0.0310,  0.2209, -0.1977,  0.2347, -0.0790, -0.2338, -0.1313, -0.0461,\n",
              "                       0.2200,  0.1718,  0.0205, -0.1856, -0.1836,  0.1454,  0.0823, -0.2157,\n",
              "                       0.0661, -0.2431,  0.2217, -0.2161,  0.2496,  0.1362, -0.1634,  0.1140],\n",
              "                     device='cuda:0')),\n",
              "             ('lstm.bias_hh_l0_reverse',\n",
              "              tensor([-0.0700,  0.1139, -0.1407,  0.0696, -0.1858,  0.1980,  0.1611, -0.1578,\n",
              "                       0.1035, -0.1022,  0.1172, -0.1997,  0.0046, -0.1049, -0.2406,  0.2044,\n",
              "                       0.1134, -0.1545,  0.2070, -0.0175, -0.0414,  0.0922, -0.1657, -0.0818,\n",
              "                      -0.2201,  0.1584,  0.0877, -0.0611,  0.2102, -0.1859,  0.0223,  0.1415,\n",
              "                      -0.0475,  0.0593, -0.2475,  0.1297, -0.2500,  0.1645, -0.0568, -0.0904,\n",
              "                       0.0610,  0.2050, -0.0458,  0.1295,  0.2389,  0.2064,  0.0687,  0.0165,\n",
              "                       0.1938,  0.0607,  0.2024, -0.0480, -0.0068,  0.2111,  0.1297, -0.1430,\n",
              "                      -0.1041, -0.0969, -0.1980, -0.0841,  0.2211, -0.1497,  0.0060,  0.2114],\n",
              "                     device='cuda:0')),\n",
              "             ('lstm.weight_ih_l1',\n",
              "              tensor([[-0.0556,  0.0974, -0.1664,  ...,  0.1176,  0.2272,  0.1107],\n",
              "                      [ 0.1467,  0.0500, -0.2339,  ..., -0.1182, -0.1116, -0.2019],\n",
              "                      [-0.1809,  0.0953, -0.1837,  ...,  0.1903,  0.0466, -0.0067],\n",
              "                      ...,\n",
              "                      [ 0.1767,  0.1371,  0.1534,  ..., -0.0103, -0.0128,  0.2004],\n",
              "                      [-0.0518,  0.2260, -0.1905,  ...,  0.1094,  0.2477,  0.0027],\n",
              "                      [ 0.2387,  0.1147,  0.1335,  ..., -0.0819,  0.0005, -0.0056]],\n",
              "                     device='cuda:0')),\n",
              "             ('lstm.weight_hh_l1',\n",
              "              tensor([[-0.1187, -0.0504, -0.1706,  ..., -0.1966,  0.0672, -0.1441],\n",
              "                      [ 0.0151, -0.1028,  0.0014,  ...,  0.1484, -0.0276,  0.1106],\n",
              "                      [-0.2450, -0.0922, -0.1681,  ...,  0.2393, -0.0013, -0.1607],\n",
              "                      ...,\n",
              "                      [ 0.1070,  0.2170, -0.0532,  ...,  0.0920,  0.1669, -0.1230],\n",
              "                      [ 0.0148, -0.2274,  0.1713,  ..., -0.0664, -0.0624,  0.2242],\n",
              "                      [ 0.0867,  0.1432, -0.1850,  ...,  0.2305, -0.0147, -0.2084]],\n",
              "                     device='cuda:0')),\n",
              "             ('lstm.bias_ih_l1',\n",
              "              tensor([ 0.2077, -0.1449, -0.0530, -0.1584, -0.1865,  0.1194,  0.0741,  0.1569,\n",
              "                      -0.0942, -0.0259,  0.1508, -0.1903,  0.0272,  0.0091, -0.0633, -0.1658,\n",
              "                       0.1589,  0.2184,  0.0526, -0.1108, -0.0118, -0.2188, -0.0837, -0.0595,\n",
              "                      -0.1638, -0.2356,  0.0495,  0.1664,  0.2176,  0.0421, -0.0376,  0.0040,\n",
              "                      -0.2251,  0.2403,  0.0740,  0.0784, -0.1863, -0.1660,  0.0495, -0.1404,\n",
              "                       0.2410,  0.1598,  0.1845, -0.2292,  0.0285,  0.1110, -0.2458,  0.1197,\n",
              "                      -0.2461,  0.1942, -0.0942, -0.0911, -0.1581, -0.2487, -0.1848,  0.1835,\n",
              "                       0.2299, -0.0315,  0.1757, -0.1701, -0.0727, -0.1623, -0.1965, -0.2070],\n",
              "                     device='cuda:0')),\n",
              "             ('lstm.bias_hh_l1',\n",
              "              tensor([-0.0398, -0.0607, -0.2031,  0.0809,  0.1552,  0.0237,  0.1815,  0.2353,\n",
              "                       0.0339, -0.1676, -0.1395,  0.1943,  0.0820,  0.0861,  0.1862,  0.1005,\n",
              "                       0.2320,  0.1045, -0.1493,  0.0084, -0.1276,  0.1106,  0.0584,  0.0258,\n",
              "                       0.0108, -0.2215,  0.2130, -0.2297,  0.1857, -0.1413, -0.2230,  0.1278,\n",
              "                       0.2388, -0.1489,  0.2108, -0.1700,  0.1445,  0.0324,  0.1377,  0.0017,\n",
              "                      -0.1159,  0.0030,  0.0375, -0.2316,  0.1368, -0.1688,  0.0720, -0.0997,\n",
              "                      -0.0801, -0.0492, -0.0095,  0.0531, -0.2260, -0.1769,  0.1180, -0.1439,\n",
              "                      -0.1334,  0.1626, -0.1602,  0.1699,  0.0795,  0.1311, -0.0416, -0.2370],\n",
              "                     device='cuda:0')),\n",
              "             ('lstm.weight_ih_l1_reverse',\n",
              "              tensor([[ 0.1382,  0.1026,  0.0057,  ..., -0.0578, -0.2421, -0.1528],\n",
              "                      [ 0.2425,  0.2100, -0.0820,  ...,  0.0070, -0.0181, -0.0891],\n",
              "                      [-0.0806, -0.1938,  0.0867,  ...,  0.0374,  0.0553,  0.0102],\n",
              "                      ...,\n",
              "                      [-0.0075,  0.2242,  0.2173,  ..., -0.2018, -0.0802,  0.0859],\n",
              "                      [-0.1582,  0.1928,  0.2053,  ...,  0.0499,  0.1387,  0.0672],\n",
              "                      [ 0.1087, -0.0696,  0.2307,  ...,  0.2001,  0.2206, -0.0346]],\n",
              "                     device='cuda:0')),\n",
              "             ('lstm.weight_hh_l1_reverse',\n",
              "              tensor([[ 0.2231,  0.2093,  0.0919,  ...,  0.1733, -0.2202,  0.0184],\n",
              "                      [-0.1292,  0.2459, -0.2404,  ...,  0.1882, -0.1447, -0.1931],\n",
              "                      [ 0.2254, -0.0125,  0.2151,  ..., -0.0746, -0.0618, -0.0119],\n",
              "                      ...,\n",
              "                      [ 0.0214,  0.2482,  0.1518,  ..., -0.1543, -0.0126,  0.0221],\n",
              "                      [ 0.1008,  0.1780, -0.1229,  ..., -0.0240,  0.0430,  0.1221],\n",
              "                      [ 0.1607, -0.1929,  0.1190,  ..., -0.1127, -0.0031,  0.2012]],\n",
              "                     device='cuda:0')),\n",
              "             ('lstm.bias_ih_l1_reverse',\n",
              "              tensor([ 0.1045, -0.1210,  0.0434,  0.1460, -0.1359,  0.0990,  0.2027,  0.0957,\n",
              "                      -0.0912,  0.0697,  0.0051,  0.1773, -0.2498, -0.1400,  0.2255, -0.0818,\n",
              "                      -0.1070, -0.0834,  0.2298,  0.1536,  0.2208, -0.2218,  0.0483, -0.2178,\n",
              "                      -0.0441, -0.2073, -0.1138,  0.0824, -0.1470, -0.1979, -0.1989,  0.1600,\n",
              "                       0.0284,  0.1540, -0.0249,  0.1058,  0.1940,  0.2038,  0.1772,  0.1966,\n",
              "                       0.0629, -0.1928,  0.0955,  0.0984,  0.1073,  0.0208, -0.1616,  0.1153,\n",
              "                       0.1969, -0.0533, -0.1019, -0.0138,  0.2445,  0.0388,  0.0456, -0.1411,\n",
              "                       0.0849,  0.1826, -0.0218, -0.0879, -0.0577,  0.0144,  0.2148, -0.1588],\n",
              "                     device='cuda:0')),\n",
              "             ('lstm.bias_hh_l1_reverse',\n",
              "              tensor([ 0.1922, -0.0936,  0.2275,  0.0995, -0.0557,  0.0245,  0.1550,  0.0618,\n",
              "                      -0.1918, -0.2480,  0.1036,  0.0358, -0.2312, -0.0582,  0.1249, -0.1038,\n",
              "                      -0.1291, -0.2189,  0.0072, -0.2160,  0.0164,  0.0162,  0.0801, -0.1037,\n",
              "                       0.0951, -0.2162, -0.2366, -0.0815, -0.0189,  0.1310,  0.0762, -0.1865,\n",
              "                      -0.0840,  0.1638, -0.2119, -0.1799, -0.1284, -0.0991,  0.0282,  0.2445,\n",
              "                      -0.1637, -0.0629,  0.1811,  0.0770, -0.0053,  0.1275, -0.1336, -0.2337,\n",
              "                       0.2395, -0.0034, -0.0909,  0.2142,  0.1036,  0.2203, -0.2174,  0.2123,\n",
              "                       0.1942, -0.1723,  0.0440,  0.0292, -0.2347,  0.1349,  0.1954,  0.1999],\n",
              "                     device='cuda:0')),\n",
              "             ('lstm.weight_ih_l2',\n",
              "              tensor([[ 0.2349,  0.1028, -0.2058,  ..., -0.2443,  0.0133, -0.2282],\n",
              "                      [-0.2196, -0.1702, -0.1029,  ...,  0.1603,  0.0933, -0.2209],\n",
              "                      [-0.0280, -0.1846, -0.2468,  ...,  0.0618,  0.1886,  0.2103],\n",
              "                      ...,\n",
              "                      [ 0.0420, -0.0469,  0.1279,  ...,  0.2366,  0.1181, -0.0929],\n",
              "                      [-0.1065,  0.1477,  0.0104,  ..., -0.1791,  0.2446, -0.1522],\n",
              "                      [-0.0304,  0.1016,  0.0986,  ..., -0.2363,  0.0636, -0.0319]],\n",
              "                     device='cuda:0')),\n",
              "             ('lstm.weight_hh_l2',\n",
              "              tensor([[ 0.1319,  0.1350, -0.2492,  ..., -0.0979,  0.1633, -0.1726],\n",
              "                      [ 0.1799,  0.0408,  0.1159,  ...,  0.2052,  0.1263,  0.2462],\n",
              "                      [-0.0541,  0.0377,  0.1368,  ..., -0.1615,  0.0971,  0.2073],\n",
              "                      ...,\n",
              "                      [ 0.1466,  0.2098,  0.0298,  ..., -0.1460, -0.2370, -0.2453],\n",
              "                      [-0.2348,  0.0404,  0.1592,  ..., -0.1173, -0.0432,  0.0024],\n",
              "                      [ 0.2092, -0.0025,  0.2270,  ..., -0.1043, -0.1172, -0.0262]],\n",
              "                     device='cuda:0')),\n",
              "             ('lstm.bias_ih_l2',\n",
              "              tensor([ 0.0504,  0.1750, -0.2228,  0.2094,  0.2133,  0.2309, -0.2365,  0.0681,\n",
              "                      -0.1838,  0.0039,  0.1634, -0.0926, -0.0086, -0.0725, -0.1337,  0.0249,\n",
              "                       0.1914,  0.1432,  0.0847, -0.1459,  0.1776,  0.1174,  0.0276,  0.2017,\n",
              "                       0.0661, -0.1123, -0.1083, -0.2339,  0.1068,  0.1557,  0.2037,  0.1672,\n",
              "                       0.2110, -0.1770,  0.1862, -0.1478, -0.1651,  0.0188,  0.1618, -0.2436,\n",
              "                      -0.2245, -0.0692, -0.0851,  0.1845,  0.0905,  0.1372, -0.0575, -0.1508,\n",
              "                       0.1576, -0.1121, -0.0135, -0.1655, -0.1436,  0.2238, -0.2207, -0.0284,\n",
              "                       0.1207,  0.1768, -0.0294,  0.0051,  0.2139,  0.0658, -0.0589, -0.0251],\n",
              "                     device='cuda:0')),\n",
              "             ('lstm.bias_hh_l2',\n",
              "              tensor([-0.0958, -0.1081, -0.0723,  0.0114, -0.0431, -0.0590, -0.1724,  0.1479,\n",
              "                       0.1200, -0.0612,  0.0411,  0.2335, -0.0797, -0.0216,  0.1698,  0.1594,\n",
              "                       0.1128,  0.0799, -0.1318, -0.1486,  0.0123, -0.1978,  0.2466,  0.2323,\n",
              "                       0.0183, -0.0879,  0.1278,  0.1168, -0.1860,  0.2252,  0.1187,  0.1376,\n",
              "                      -0.0713, -0.0124, -0.1621,  0.0984,  0.1956, -0.2277,  0.0755, -0.0706,\n",
              "                       0.2087, -0.0253,  0.1569,  0.0419,  0.0260, -0.1449, -0.2146,  0.0424,\n",
              "                      -0.1410, -0.0777,  0.0510, -0.0284,  0.0623,  0.2086,  0.2453, -0.1814,\n",
              "                      -0.0691,  0.1195,  0.0924,  0.0358, -0.1709, -0.2045,  0.0216,  0.1498],\n",
              "                     device='cuda:0')),\n",
              "             ('lstm.weight_ih_l2_reverse',\n",
              "              tensor([[-0.1047, -0.2223, -0.1939,  ...,  0.0961,  0.0229,  0.1327],\n",
              "                      [-0.1387, -0.1464,  0.2410,  ..., -0.1901,  0.1914,  0.2096],\n",
              "                      [ 0.1463, -0.1587, -0.1822,  ...,  0.2293,  0.0355, -0.1449],\n",
              "                      ...,\n",
              "                      [ 0.2154, -0.2335,  0.0774,  ..., -0.2022, -0.1574,  0.1929],\n",
              "                      [ 0.0873,  0.2335,  0.0105,  ...,  0.1515, -0.2180,  0.0590],\n",
              "                      [-0.1833, -0.1735, -0.0118,  ...,  0.1467, -0.0314,  0.0069]],\n",
              "                     device='cuda:0')),\n",
              "             ('lstm.weight_hh_l2_reverse',\n",
              "              tensor([[ 0.2382, -0.1123, -0.0710,  ...,  0.0448, -0.1817, -0.1119],\n",
              "                      [-0.1890, -0.0317, -0.0026,  ...,  0.2468,  0.0553, -0.0188],\n",
              "                      [ 0.1392,  0.0372, -0.1174,  ...,  0.1439, -0.1417, -0.0696],\n",
              "                      ...,\n",
              "                      [-0.1301, -0.1571, -0.0272,  ..., -0.1722,  0.0511,  0.0987],\n",
              "                      [-0.1480,  0.0140,  0.0392,  ..., -0.2093, -0.2014,  0.1800],\n",
              "                      [-0.1488, -0.2144, -0.1981,  ..., -0.1809, -0.0198, -0.2218]],\n",
              "                     device='cuda:0')),\n",
              "             ('lstm.bias_ih_l2_reverse',\n",
              "              tensor([ 0.0272,  0.0583, -0.2325,  0.0035,  0.0730, -0.0654, -0.1181, -0.0470,\n",
              "                      -0.0236,  0.2488, -0.0421, -0.2207, -0.0304, -0.0324,  0.2042, -0.0993,\n",
              "                       0.0496,  0.0437,  0.0860,  0.2418, -0.1499,  0.1825,  0.0430,  0.2063,\n",
              "                       0.0547, -0.0241, -0.0351, -0.1018,  0.2236, -0.0316, -0.1380, -0.2266,\n",
              "                       0.1525,  0.1368,  0.0335,  0.0051, -0.2308, -0.2338, -0.1634, -0.0458,\n",
              "                      -0.1110,  0.1416,  0.0117,  0.0177,  0.2460, -0.2498,  0.1003, -0.2002,\n",
              "                       0.1012, -0.0673, -0.1634,  0.1692, -0.0520, -0.2262, -0.0805,  0.0721,\n",
              "                       0.0376, -0.2325, -0.2245,  0.0089, -0.0158,  0.0696, -0.0703,  0.1163],\n",
              "                     device='cuda:0')),\n",
              "             ('lstm.bias_hh_l2_reverse',\n",
              "              tensor([-0.0912, -0.0626,  0.1639, -0.0726, -0.0094,  0.0191,  0.0651,  0.1917,\n",
              "                       0.0252, -0.0173, -0.0278,  0.2500,  0.0062,  0.0565, -0.0129, -0.1307,\n",
              "                       0.2169, -0.1891, -0.1323, -0.2427,  0.2394,  0.0380, -0.2212,  0.0886,\n",
              "                      -0.1990, -0.2327, -0.1312, -0.2310,  0.1546, -0.1099, -0.0275, -0.1362,\n",
              "                      -0.2160, -0.2280,  0.1192, -0.1768,  0.0774,  0.0910,  0.0899, -0.1303,\n",
              "                       0.1474,  0.0838, -0.2459, -0.2479,  0.1783, -0.0655,  0.0885, -0.1494,\n",
              "                       0.0301,  0.1231,  0.1810,  0.0544,  0.1743,  0.1289, -0.2267, -0.0059,\n",
              "                       0.1329, -0.0056,  0.0065, -0.1687,  0.0822,  0.1550,  0.0849,  0.2040],\n",
              "                     device='cuda:0')),\n",
              "             ('fc.weight',\n",
              "              tensor([[ 0.1716,  0.1219,  0.1023,  0.1292, -0.1627,  0.0277,  0.0555, -0.0352,\n",
              "                       -0.1288,  0.0761, -0.1525,  0.1711,  0.0031,  0.1049,  0.0229, -0.0950,\n",
              "                       -0.0646,  0.1456,  0.0062, -0.1716,  0.0342, -0.0870,  0.0087,  0.0918,\n",
              "                        0.0636,  0.0173, -0.0179,  0.0628,  0.0041,  0.0423,  0.1605, -0.0505],\n",
              "                      [ 0.0699,  0.1293, -0.0290,  0.1609, -0.0465,  0.1744,  0.1090,  0.0821,\n",
              "                       -0.0561, -0.0118,  0.1519, -0.0616, -0.1449, -0.1610, -0.0906, -0.0127,\n",
              "                       -0.0818, -0.0729, -0.1296, -0.1246, -0.0625,  0.1208,  0.1391, -0.0368,\n",
              "                       -0.0583,  0.0653, -0.1522,  0.1033, -0.0692, -0.0770, -0.0862,  0.0790],\n",
              "                      [ 0.1670, -0.1347,  0.0478, -0.0628, -0.0541,  0.1408, -0.0777, -0.1438,\n",
              "                        0.0790,  0.1699,  0.1444, -0.0512,  0.1307,  0.1613, -0.0689,  0.0480,\n",
              "                        0.1371, -0.0759, -0.1036, -0.1252, -0.1660,  0.0732,  0.1273,  0.0683,\n",
              "                        0.0419,  0.0484,  0.1017,  0.1605,  0.1322, -0.0177, -0.0046,  0.0152],\n",
              "                      [-0.0317, -0.1414, -0.1464,  0.1478,  0.0929,  0.1159,  0.0534,  0.0490,\n",
              "                       -0.1295,  0.1363,  0.0721, -0.0931,  0.0336,  0.1615,  0.0657, -0.1181,\n",
              "                       -0.0437,  0.0169,  0.1250, -0.1400, -0.0769,  0.1463,  0.1392,  0.0032,\n",
              "                        0.0126,  0.1324,  0.0647,  0.0416, -0.0902, -0.0999, -0.0761,  0.1321],\n",
              "                      [ 0.1580,  0.0930, -0.1612,  0.0421, -0.0733, -0.1482, -0.1449, -0.1514,\n",
              "                       -0.0317,  0.1330, -0.1507, -0.0014, -0.1471,  0.1059, -0.0360,  0.1297,\n",
              "                        0.1360, -0.0874, -0.1597, -0.0439,  0.1533, -0.1125,  0.0302,  0.0429,\n",
              "                       -0.0189,  0.1262,  0.0111,  0.1246, -0.0093,  0.1011,  0.0460,  0.0141],\n",
              "                      [ 0.1249, -0.0529, -0.0809, -0.1159, -0.0622,  0.0872,  0.1505,  0.0754,\n",
              "                        0.0030, -0.0335,  0.0982,  0.0319,  0.1500,  0.0392,  0.0031, -0.1041,\n",
              "                        0.0977,  0.0891,  0.1037,  0.1753,  0.0996,  0.1370, -0.0137,  0.0060,\n",
              "                       -0.0036,  0.1435,  0.1126, -0.0982, -0.0304, -0.0547, -0.0605, -0.0032],\n",
              "                      [-0.1511, -0.0717, -0.0191,  0.1305, -0.0931,  0.1058,  0.0116,  0.0495,\n",
              "                        0.1675,  0.0668,  0.0888,  0.0409, -0.1415, -0.1369, -0.0370,  0.0527,\n",
              "                       -0.0408, -0.0105, -0.1333, -0.1048,  0.1727, -0.1639,  0.0841, -0.0243,\n",
              "                        0.0382, -0.1136,  0.0651,  0.0247,  0.1479, -0.1254, -0.0373, -0.0634],\n",
              "                      [ 0.0623,  0.0821, -0.0822, -0.1002, -0.1152, -0.1111,  0.1169,  0.0634,\n",
              "                        0.1092,  0.0130,  0.1168, -0.0402, -0.0405, -0.0401, -0.0914, -0.0074,\n",
              "                        0.1643, -0.0378,  0.0777, -0.1435,  0.1472, -0.0024, -0.1335, -0.1588,\n",
              "                       -0.0925,  0.1212, -0.0946,  0.0870,  0.1631, -0.1571, -0.0729,  0.0833],\n",
              "                      [ 0.1056,  0.1449, -0.0442, -0.0375, -0.1303, -0.1408,  0.0295, -0.1296,\n",
              "                        0.1622,  0.0802,  0.0723,  0.0314, -0.1221,  0.1569, -0.1722,  0.0845,\n",
              "                        0.1470, -0.0336, -0.1143,  0.1237,  0.1178,  0.0235,  0.0496, -0.1312,\n",
              "                       -0.1449, -0.1287, -0.0517, -0.0626, -0.0511,  0.1029, -0.1761,  0.0247],\n",
              "                      [-0.0114, -0.0036, -0.0404, -0.1272, -0.0862, -0.0717, -0.1117, -0.0090,\n",
              "                       -0.0400, -0.0693,  0.1742, -0.0477,  0.1233,  0.0624, -0.0997, -0.1621,\n",
              "                       -0.0231,  0.0243,  0.0484,  0.1042, -0.0022, -0.1093, -0.1243, -0.1219,\n",
              "                       -0.0366, -0.0674, -0.0162,  0.1623,  0.0553,  0.1599,  0.1315, -0.1508]],\n",
              "                     device='cuda:0')),\n",
              "             ('fc.bias',\n",
              "              tensor([ 0.1240, -0.1654,  0.0420,  0.0976,  0.0357, -0.1686,  0.1354,  0.1209,\n",
              "                      -0.0803, -0.1102], device='cuda:0'))])"
            ]
          },
          "metadata": {},
          "execution_count": 9
        }
      ]
    },
    {
      "cell_type": "code",
      "execution_count": null,
      "metadata": {
        "id": "3w9QW9Lfp1aV",
        "colab": {
          "base_uri": "https://localhost:8080/"
        },
        "outputId": "8fe31875-dfb7-453f-b77f-042cc91b7c0a"
      },
      "outputs": [
        {
          "output_type": "execute_result",
          "data": {
            "text/plain": [
              "LSTM_Model_label(\n",
              "  (lstm): LSTM(41, 16, num_layers=3, batch_first=True, bidirectional=True)\n",
              "  (fc): Linear(in_features=32, out_features=2, bias=True)\n",
              ")"
            ]
          },
          "metadata": {},
          "execution_count": 10
        }
      ],
      "source": [
        "my_model_label = LSTM_Model_label(num_classes_label, input_size, hidden_size, num_layers).to(device=device)\n",
        "my_model_label"
      ]
    },
    {
      "cell_type": "markdown",
      "metadata": {
        "id": "Cey1CId-jjis"
      },
      "source": [
        "# **optimizer and loss function**"
      ]
    },
    {
      "cell_type": "code",
      "execution_count": null,
      "metadata": {
        "id": "WNuQFMAekNDH"
      },
      "outputs": [],
      "source": [
        "loss_fn1 = nn.CrossEntropyLoss().to(device=device)\n",
        "loss_fn2 = nn.CrossEntropyLoss().to(device=device)\n",
        "optimizer1 = opt.Adam(params=my_model_attack.parameters(),lr=learning_rate)\n",
        "optimizer2 = opt.Adam(params=my_model_label.parameters(),lr=learning_rate)"
      ]
    },
    {
      "cell_type": "code",
      "source": [
        "from sklearn.metrics import classification_report, confusion_matrix\n",
        "import itertools\n",
        "def plot_confusion_matrix(cm, classes,\n",
        "                          normalize=False,\n",
        "                          title='Confusion matrix',\n",
        "                          cmap=plt.cm.Greens):\n",
        "    \"\"\"\n",
        "    This function prints and plots the confusion matrix.\n",
        "    Normalization can be applied by setting `normalize=True`.\n",
        "    \"\"\"\n",
        "    if normalize:\n",
        "        cm = cm.astype('float') / cm.sum(axis=1)[:, np.newaxis]\n",
        "        print(\"Normalized confusion matrix\")\n",
        "    else:\n",
        "        print('Confusion matrix, without normalization')\n",
        "\n",
        "    print(cm)\n",
        "\n",
        "    plt.imshow(cm, interpolation='nearest', cmap=cmap)\n",
        "    plt.title(title)\n",
        "    plt.colorbar()\n",
        "    tick_marks = np.arange(len(classes))\n",
        "    plt.xticks(tick_marks, classes, rotation=45)\n",
        "    plt.yticks(tick_marks, classes)\n",
        "\n",
        "    fmt = '.2f' if normalize else 'd'\n",
        "    thresh = cm.max() / 2.\n",
        "    for i, j in itertools.product(range(cm.shape[0]), range(cm.shape[1])):\n",
        "        plt.text(j, i, format(cm[i, j], fmt),\n",
        "                 horizontalalignment=\"center\",\n",
        "                 color=\"white\" if cm[i, j] > thresh else \"black\")\n",
        "\n",
        "    plt.tight_layout()\n",
        "    plt.ylabel('True label')\n",
        "    plt.xlabel('Predicted label')\n"
      ],
      "metadata": {
        "id": "KarvZRUVOMlb"
      },
      "execution_count": null,
      "outputs": []
    },
    {
      "cell_type": "markdown",
      "source": [
        "# **train attack cat**"
      ],
      "metadata": {
        "id": "uVeF0YJfAWok"
      }
    },
    {
      "cell_type": "code",
      "execution_count": null,
      "metadata": {
        "id": "Qmw8w1eTkeBu",
        "colab": {
          "base_uri": "https://localhost:8080/",
          "height": 486
        },
        "outputId": "17b0d451-5a38-4492-ab12-5ad76f5c8fbc"
      },
      "outputs": [
        {
          "output_type": "stream",
          "name": "stdout",
          "text": [
            "Epoch: 0, loss: 0.7791\n",
            "Epoch: 50, loss: 0.4383\n",
            "Epoch: 100, loss: 0.4752\n",
            "Epoch: 150, loss: 0.4574\n",
            "Epoch: 200, loss: 0.4021\n",
            "Epoch: 250, loss: 0.3683\n",
            "Epoch: 300, loss: 0.3931\n",
            "Epoch: 350, loss: 0.3753\n",
            "Epoch: 400, loss: 0.4885\n",
            "Epoch: 450, loss: 0.4021\n",
            "Epoch: 500, loss: 0.3981\n",
            "Execution Time : 1291177.7500\n"
          ]
        },
        {
          "output_type": "display_data",
          "data": {
            "text/plain": [
              "<Figure size 432x288 with 1 Axes>"
            ],
            "image/png": "[encoded data removed]"
          },
          "metadata": {
            "needs_background": "light"
          }
        }
      ],
      "source": [
        "start = torch.cuda.Event(enable_timing=True)\n",
        "end = torch.cuda.Event(enable_timing=True)\n",
        "\n",
        "start.record()\n",
        "\n",
        "loss_plot = list()\n",
        "\n",
        "for epoch in range(num_epoch+1):\n",
        "\n",
        "    for batch_x, batch_y in train_attack_cat_dataloader:\n",
        "\n",
        "        batch_x = torch.reshape(batch_x, (batch_x.shape[0], 1, batch_x.shape[1])) #RuntimeError: For unbatched 2-D input, hx and cx should also be 2-D but got (3-D, 3-D) tensors\n",
        "        \n",
        "        batch_x = batch_x.to(device)\n",
        "        batch_y = batch_y.to(device)\n",
        "\n",
        "        optimizer1.zero_grad()\n",
        "        loss1 = loss_fn1(my_model_attack(batch_x) , batch_y)\n",
        "        loss1.backward() \n",
        "        optimizer1.step()\n",
        "\n",
        "    if epoch % 50 == 0:\n",
        "         print(\"Epoch: %d, loss: %.4f\" % (epoch, loss1.item()))\n",
        "         loss_plot.append(loss1.item())         \n",
        "\n",
        "end.record()\n",
        "\n",
        "# Waits for everything to finish running\n",
        "torch.cuda.synchronize()\n",
        "\n",
        "print(\"Execution Time : %.4f\" % (start.elapsed_time(end)))\n",
        "\n",
        "plt.plot(range(len(loss_plot)),np.asarray(loss_plot))\n",
        "plt.show()"
      ]
    },
    {
      "cell_type": "markdown",
      "metadata": {
        "id": "PQaRCMJPls5N"
      },
      "source": [
        "# **test attack category with fake dataset**"
      ]
    },
    {
      "cell_type": "code",
      "execution_count": 17,
      "metadata": {
        "id": "QrtYzVT4loMQ",
        "colab": {
          "base_uri": "https://localhost:8080/"
        },
        "outputId": "8e4b54ec-5ce5-4bdc-80b0-58b38fc74b90"
      },
      "outputs": [
        {
          "output_type": "stream",
          "name": "stdout",
          "text": [
            "acc : 66.63%\n"
          ]
        }
      ],
      "source": [
        "dataset_attack_cat = Fake_Real_DataSet_UNSWNB15_attack_cat(\"/content/drive/MyDrive/datasets/UNSW-NB15/fake_UNSW_NB15.csv\",\n",
        "                                                           \"/content/drive/MyDrive/datasets/UNSW-NB15/UNSW_NB15.csv\")\n",
        "number_of_test = int(len(dataset_attack_cat)*0.3)\n",
        "number_of_train = len(dataset_attack_cat) - int(len(dataset_attack_cat)*0.3)\n",
        "train_attack_cat ,test_attack_cat = random_split(dataset=dataset_attack_cat, lengths=[number_of_train,number_of_test])\n",
        "\n",
        "test_attack_cat_dataloader = DataLoader(dataset=test_attack_cat ,batch_size=batch_size ,shuffle=True)\n",
        "\n",
        "correct = 0\n",
        "y_test, yhat = list(), list()\n",
        "\n",
        "for batch_x, labl in test_attack_cat_dataloader:\n",
        "  \n",
        "    batch_x = torch.reshape(batch_x, (batch_x.shape[0], 1, batch_x.shape[1])) #RuntimeError: For unbatched 2-D input, hx and cx should also be 2-D but got (3-D, 3-D) tensors\n",
        "  \n",
        "    batch_x = batch_x.to(device)\n",
        "    labl = labl.to(device)\n",
        "\n",
        "    out = my_model_attack(batch_x)\n",
        "    _,predicted = torch.max(out,1)\n",
        "    correct += torch.sum(predicted == labl)\n",
        "    \n",
        "    for i in labl.cpu().detach().numpy():\n",
        "        y_test.append(i)\n",
        "    for i in predicted.cpu().detach().numpy():\n",
        "        yhat.append(i)\n",
        "\n",
        "print(\"acc : %.2f\" % (100.*correct / len(test_attack_cat)),end=\"\")\n",
        "print(\"%\")"
      ]
    },
    {
      "cell_type": "code",
      "source": [
        "# Compute confusion matrix\n",
        "cnf_matrix = confusion_matrix(y_test, yhat, labels=[11,9,8,7,6,5,4,3,2,1,0])\n",
        "np.set_printoptions(precision=2)\n",
        "\n",
        "\n",
        "# Plot non-normalized confusion matrix\n",
        "plt.figure(figsize=(20,10))\n",
        "plot_confusion_matrix(cnf_matrix, classes=['fake','Worms','Shellcode','Reconnaissance','Normal','Generic','Fuzzers','Exploits','DoS','Backdoor','Analysis'],normalize= False,  title='Confusion matrix')"
      ],
      "metadata": {
        "id": "RctvVDw6WKgh",
        "colab": {
          "base_uri": "https://localhost:8080/",
          "height": 964
        },
        "outputId": "6195887f-a230-48a5-b950-e9d89fcfc74a"
      },
      "execution_count": 18,
      "outputs": [
        {
          "output_type": "stream",
          "name": "stdout",
          "text": [
            "Confusion matrix, without normalization\n",
            "[[    0     1    53    22  3993   758   113  1518   573   237   127]\n",
            " [    0     2     0     0     0     3     7    28     1     0     0]\n",
            " [    0     0   173    27    47     1   104    64    21     0     0]\n",
            " [    0     1  1316   547   349     6   164  1633   173    11     1]\n",
            " [    0     0   135   237 23663   113  2734   801   238     6    70]\n",
            " [    0     1    38     6    43 17211    99   171    55     2     1]\n",
            " [    0     1   176   102  1751    98  4045   660   384    11     9]\n",
            " [    0    54   404    93   566   192  1165  9640  1208    62    19]\n",
            " [    0     8   323    35   265    45   368  2750  1138    41    13]\n",
            " [    0     1    35     3    31     8    90   366   135    24     4]\n",
            " [    0     0    40     0   100     4    83   372   115     6    60]]\n"
          ]
        },
        {
          "output_type": "display_data",
          "data": {
            "text/plain": [
              "<Figure size 1440x720 with 2 Axes>"
            ],
            "image/png": "[encoded data removed]"
          },
          "metadata": {
            "needs_background": "light"
          }
        }
      ]
    },
    {
      "cell_type": "code",
      "source": [
        "print (classification_report(y_test, yhat))"
      ],
      "metadata": {
        "id": "JSAUvdzpcd_5",
        "colab": {
          "base_uri": "https://localhost:8080/"
        },
        "outputId": "7b208e44-f52b-4c6b-e6f8-ee0b2843f0a6"
      },
      "execution_count": 19,
      "outputs": [
        {
          "output_type": "stream",
          "name": "stdout",
          "text": [
            "              precision    recall  f1-score   support\n",
            "\n",
            "           0       0.20      0.08      0.11       780\n",
            "           1       0.06      0.03      0.04       697\n",
            "           2       0.28      0.23      0.25      4986\n",
            "           3       0.54      0.72      0.61     13403\n",
            "           4       0.45      0.56      0.50      7237\n",
            "           5       0.93      0.98      0.95     17627\n",
            "           6       0.77      0.85      0.80     27997\n",
            "           7       0.51      0.13      0.21      4201\n",
            "           8       0.06      0.40      0.11       437\n",
            "           9       0.03      0.05      0.04        41\n",
            "          11       0.00      0.00      0.00      7395\n",
            "\n",
            "    accuracy                           0.67     84801\n",
            "   macro avg       0.35      0.36      0.33     84801\n",
            "weighted avg       0.62      0.67      0.63     84801\n",
            "\n"
          ]
        },
        {
          "output_type": "stream",
          "name": "stderr",
          "text": [
            "/usr/local/lib/python3.7/dist-packages/sklearn/metrics/_classification.py:1318: UndefinedMetricWarning: Precision and F-score are ill-defined and being set to 0.0 in labels with no predicted samples. Use `zero_division` parameter to control this behavior.\n",
            "  _warn_prf(average, modifier, msg_start, len(result))\n",
            "/usr/local/lib/python3.7/dist-packages/sklearn/metrics/_classification.py:1318: UndefinedMetricWarning: Precision and F-score are ill-defined and being set to 0.0 in labels with no predicted samples. Use `zero_division` parameter to control this behavior.\n",
            "  _warn_prf(average, modifier, msg_start, len(result))\n",
            "/usr/local/lib/python3.7/dist-packages/sklearn/metrics/_classification.py:1318: UndefinedMetricWarning: Precision and F-score are ill-defined and being set to 0.0 in labels with no predicted samples. Use `zero_division` parameter to control this behavior.\n",
            "  _warn_prf(average, modifier, msg_start, len(result))\n"
          ]
        }
      ]
    },
    {
      "cell_type": "markdown",
      "metadata": {
        "id": "pLqOLtA6tQht"
      },
      "source": [
        "# **train label**"
      ]
    },
    {
      "cell_type": "code",
      "execution_count": 20,
      "metadata": {
        "id": "Xm1cu1GhtMJO",
        "colab": {
          "base_uri": "https://localhost:8080/",
          "height": 486
        },
        "outputId": "382a5b87-b371-4344-d9f2-da59049070fb"
      },
      "outputs": [
        {
          "output_type": "stream",
          "name": "stdout",
          "text": [
            "Epoch: 0, loss: 0.2384\n",
            "Epoch: 50, loss: 0.0989\n",
            "Epoch: 100, loss: 0.1040\n",
            "Epoch: 150, loss: 0.1301\n",
            "Epoch: 200, loss: 0.1092\n",
            "Epoch: 250, loss: 0.0775\n",
            "Epoch: 300, loss: 0.1062\n",
            "Epoch: 350, loss: 0.0799\n",
            "Epoch: 400, loss: 0.0914\n",
            "Epoch: 450, loss: 0.0896\n",
            "Epoch: 500, loss: 0.1047\n",
            "Execution Time : 1286508.8750\n"
          ]
        },
        {
          "output_type": "display_data",
          "data": {
            "text/plain": [
              "<Figure size 432x288 with 1 Axes>"
            ],
            "image/png": "[encoded data removed]"
          },
          "metadata": {
            "needs_background": "light"
          }
        }
      ],
      "source": [
        "start = torch.cuda.Event(enable_timing=True)\n",
        "end = torch.cuda.Event(enable_timing=True)\n",
        "\n",
        "start.record()\n",
        "\n",
        "loss_plot = list()\n",
        "\n",
        "for epoch in range(num_epoch+1):\n",
        "\n",
        "    for batch_x, batch_y in train_label_dataloader:\n",
        "\n",
        "        batch_x = torch.reshape(batch_x, (batch_x.shape[0], 1, batch_x.shape[1])) #RuntimeError: For unbatched 2-D input, hx and cx should also be 2-D but got (3-D, 3-D) tensors\n",
        "        \n",
        "        batch_x = batch_x.to(device)\n",
        "        batch_y = batch_y.to(device)\n",
        "\n",
        "        optimizer2.zero_grad()\n",
        "        loss2 = loss_fn2(my_model_label(batch_x) , batch_y)\n",
        "        loss2.backward() \n",
        "        optimizer2.step()\n",
        "\n",
        "    if epoch % 50 == 0:\n",
        "         print(\"Epoch: %d, loss: %.4f\" % (epoch, loss2.item())) \n",
        "         loss_plot.append(loss2.item())         \n",
        "\n",
        "end.record()\n",
        "\n",
        "# Waits for everything to finish running\n",
        "torch.cuda.synchronize()\n",
        "\n",
        "print(\"Execution Time : %.4f\" % (start.elapsed_time(end)))\n",
        "\n",
        "plt.plot(range(len(loss_plot)),np.asarray(loss_plot))\n",
        "plt.show()"
      ]
    },
    {
      "cell_type": "markdown",
      "metadata": {
        "id": "Ig7VBqU0tfZd"
      },
      "source": [
        "# **test label with fake dataset**"
      ]
    },
    {
      "cell_type": "code",
      "execution_count": 21,
      "metadata": {
        "id": "a7u2bQ0WtiG2",
        "colab": {
          "base_uri": "https://localhost:8080/"
        },
        "outputId": "d2518a3b-3533-4d31-e017-d624f34a7ddf"
      },
      "outputs": [
        {
          "output_type": "stream",
          "name": "stdout",
          "text": [
            "acc : 83.62%\n"
          ]
        }
      ],
      "source": [
        "dataset_label = Fake_Real_DataSet_UNSWNB15_label(\"/content/drive/MyDrive/datasets/UNSW-NB15/fake_UNSW_NB15.csv\",\"/content/drive/MyDrive/datasets/UNSW-NB15/UNSW_NB15.csv\")\n",
        "number_of_test = int(len(dataset_label)*0.3)\n",
        "number_of_train = len(dataset_label) - int(len(dataset_label)*0.3)\n",
        "train_label ,test_label = random_split(dataset=dataset_label, lengths=[number_of_train,number_of_test])\n",
        "\n",
        "test_label_dataloader = DataLoader(dataset=test_label ,batch_size=batch_size ,shuffle=True)\n",
        "\n",
        "correct = 0\n",
        "y_test, yhat = list(), list()\n",
        "\n",
        "for batch_x, labl in test_label_dataloader:\n",
        "\n",
        "    batch_x = torch.reshape(batch_x, (batch_x.shape[0], 1, batch_x.shape[1])) #RuntimeError: For unbatched 2-D input, hx and cx should also be 2-D but got (3-D, 3-D) tensors\n",
        "\n",
        "    batch_x = batch_x.to(device)\n",
        "    labl = labl.to(device)\n",
        "  \n",
        "    out = my_model_label(batch_x)\n",
        "    _,predicted = torch.max(out,1)\n",
        "    correct += torch.sum(predicted == labl)\n",
        "    \n",
        "    for i in labl.cpu().detach().numpy():\n",
        "        y_test.append(i)\n",
        "    for i in predicted.cpu().detach().numpy():\n",
        "        yhat.append(i)\n",
        "\n",
        "print(\"acc : %.2f\" % (100.*correct / len(test_label)),end=\"\")\n",
        "print(\"%\")"
      ]
    },
    {
      "cell_type": "code",
      "source": [
        "# Compute confusion matrix\n",
        "cnf_matrix = confusion_matrix(y_test, yhat, labels=[1,0])\n",
        "np.set_printoptions(precision=2)\n",
        "\n",
        "\n",
        "# Plot non-normalized confusion matrix\n",
        "plt.figure()\n",
        "plot_confusion_matrix(cnf_matrix, classes=['attack=1','attack=0'],normalize= False,  title='Confusion matrix')"
      ],
      "metadata": {
        "id": "7m8AARQUcoLX",
        "colab": {
          "base_uri": "https://localhost:8080/",
          "height": 366
        },
        "outputId": "64875c31-4917-4363-e20a-77d6d68c56f9"
      },
      "execution_count": 22,
      "outputs": [
        {
          "output_type": "stream",
          "name": "stdout",
          "text": [
            "Confusion matrix, without normalization\n",
            "[[48274  8542]\n",
            " [ 5347 22638]]\n"
          ]
        },
        {
          "output_type": "display_data",
          "data": {
            "text/plain": [
              "<Figure size 432x288 with 2 Axes>"
            ],
            "image/png": "[encoded data removed]"
          },
          "metadata": {
            "needs_background": "light"
          }
        }
      ]
    },
    {
      "cell_type": "code",
      "source": [
        "print (classification_report(y_test, yhat))"
      ],
      "metadata": {
        "id": "8_S9n2GYcqSK",
        "colab": {
          "base_uri": "https://localhost:8080/"
        },
        "outputId": "142b188c-5fcb-45b5-c2d1-ee823eed442c"
      },
      "execution_count": 23,
      "outputs": [
        {
          "output_type": "stream",
          "name": "stdout",
          "text": [
            "              precision    recall  f1-score   support\n",
            "\n",
            "           0       0.73      0.81      0.77     27985\n",
            "           1       0.90      0.85      0.87     56816\n",
            "\n",
            "    accuracy                           0.84     84801\n",
            "   macro avg       0.81      0.83      0.82     84801\n",
            "weighted avg       0.84      0.84      0.84     84801\n",
            "\n"
          ]
        }
      ]
    }
  ],
  "metadata": {
    "accelerator": "GPU",
    "colab": {
      "collapsed_sections": [],
      "provenance": []
    },
    "gpuClass": "standard",
    "kernelspec": {
      "display_name": "Python 3",
      "name": "python3"
    },
    "language_info": {
      "name": "python"
    }
  },
  "nbformat": 4,
  "nbformat_minor": 0
}